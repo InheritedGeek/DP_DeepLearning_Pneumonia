{
  "nbformat": 4,
  "nbformat_minor": 0,
  "metadata": {
    "colab": {
      "name": "Noise_Image.ipynb",
      "provenance": [],
      "collapsed_sections": [],
      "authorship_tag": "ABX9TyNmCdkJlZdqbKHmdnrYsHby",
      "include_colab_link": true
    },
    "kernelspec": {
      "name": "python3",
      "display_name": "Python 3"
    }
  },
  "cells": [
    {
      "cell_type": "markdown",
      "metadata": {
        "id": "view-in-github",
        "colab_type": "text"
      },
      "source": [
        "<a href=\"https://colab.research.google.com/github/InheritedGeek/DP_DeepLearning_Pneumonia/blob/master/Adding_Noise.ipynb\" target=\"_parent\"><img src=\"https://colab.research.google.com/assets/colab-badge.svg\" alt=\"Open In Colab\"/></a>"
      ]
    },
    {
      "cell_type": "code",
      "metadata": {
        "id": "-QprVVoIU9Ny",
        "colab_type": "code",
        "outputId": "21980228-35c3-4623-ade7-f902172c803f",
        "colab": {
          "base_uri": "https://localhost:8080/",
          "height": 67
        }
      },
      "source": [
        "import cv2\n",
        "import numpy as np\n",
        "from google.colab.patches import cv2_imshow\n",
        "import glob\n",
        "\n",
        "# Set parameters for Laplace function implementation\n",
        "mean = 0\n",
        "sensitivity = 255\n",
        "folder_path = \"/content/Data/\"\n",
        "\n",
        "# Take e = 0.25, 0.5 & 1\n",
        "all_eps = [0.25, 0.5, 1]\n",
        "\n",
        "for epsilon in all_eps:\n",
        "  beta = sensitivity/epsilon #Amount of Spread\n",
        "  # Gets random laplacian noise for all values\n",
        "  for img_path in glob.iglob(folder_path +\"/train/*.jpeg\"):\n",
        "      img_name = img_path.split(\"/\")[-1]\n",
        "      img = cv2.imread(img_path, cv2.IMREAD_COLOR)\n",
        "      Laplacian_noise = np.random.laplace(mean, beta, 1)\n",
        "\n",
        "      noisy_image = np.zeros(img.shape, np.float32)\n",
        "      noisy_image[:, :, :] = img[:, :, :]+ Laplacian_noise\n",
        "\n",
        "      output_path = folder_path +\"train_%s/%s\" % (epsilon, img_name)\n",
        "      cv2.imwrite(output_path, noisy_image)\n",
        "  print (\"Completed eps = \", epsilon)\n",
        "\n",
        "\n",
        "\n",
        "\n"
      ],
      "execution_count": 162,
      "outputs": [
        {
          "output_type": "stream",
          "text": [
            "Completed eps =  0.25\n",
            "Completed eps =  0.5\n",
            "Completed eps =  1\n"
          ],
          "name": "stdout"
        }
      ]
    },
    {
      "cell_type": "code",
      "metadata": {
        "id": "l0ei2XCIVh6t",
        "colab_type": "code",
        "colab": {}
      },
      "source": [
        ""
      ],
      "execution_count": 0,
      "outputs": []
    },
    {
      "cell_type": "code",
      "metadata": {
        "id": "8TwmjUu6FShm",
        "colab_type": "code",
        "colab": {}
      },
      "source": [
        ""
      ],
      "execution_count": 0,
      "outputs": []
    },
    {
      "cell_type": "code",
      "metadata": {
        "id": "oHyvweiaH02c",
        "colab_type": "code",
        "colab": {}
      },
      "source": [
        ""
      ],
      "execution_count": 0,
      "outputs": []
    }
  ]
}