{
  "nbformat": 4,
  "nbformat_minor": 0,
  "metadata": {
    "kernelspec": {
      "display_name": "Python 3",
      "language": "python",
      "name": "python3"
    },
    "language_info": {
      "codemirror_mode": {
        "name": "ipython",
        "version": 3
      },
      "file_extension": ".py",
      "mimetype": "text/x-python",
      "name": "python",
      "nbconvert_exporter": "python",
      "pygments_lexer": "ipython3",
      "version": "3.8.2"
    },
    "colab": {
      "name": "Resnet_18_pneumonia_DP_SGD_V3_eps_0.994.ipynb",
      "provenance": [],
      "collapsed_sections": []
    },
    "accelerator": "GPU",
    "widgets": {
      "application/vnd.jupyter.widget-state+json": {
        "af5893297b92472b9a34c7b483d5fa82": {
          "model_module": "@jupyter-widgets/controls",
          "model_name": "HBoxModel",
          "state": {
            "_view_name": "HBoxView",
            "_dom_classes": [],
            "_model_name": "HBoxModel",
            "_view_module": "@jupyter-widgets/controls",
            "_model_module_version": "1.5.0",
            "_view_count": null,
            "_view_module_version": "1.5.0",
            "box_style": "",
            "layout": "IPY_MODEL_21b91596639045a19e6c3fc02d1f87d6",
            "_model_module": "@jupyter-widgets/controls",
            "children": [
              "IPY_MODEL_122f0009b3eb44f3972d1baa6b5f9d23",
              "IPY_MODEL_a764545928cf41d4b6b14dfa45e74d1f"
            ]
          }
        },
        "21b91596639045a19e6c3fc02d1f87d6": {
          "model_module": "@jupyter-widgets/base",
          "model_name": "LayoutModel",
          "state": {
            "_view_name": "LayoutView",
            "grid_template_rows": null,
            "right": null,
            "justify_content": null,
            "_view_module": "@jupyter-widgets/base",
            "overflow": null,
            "_model_module_version": "1.2.0",
            "_view_count": null,
            "flex_flow": null,
            "width": null,
            "min_width": null,
            "border": null,
            "align_items": null,
            "bottom": null,
            "_model_module": "@jupyter-widgets/base",
            "top": null,
            "grid_column": null,
            "overflow_y": null,
            "overflow_x": null,
            "grid_auto_flow": null,
            "grid_area": null,
            "grid_template_columns": null,
            "flex": null,
            "_model_name": "LayoutModel",
            "justify_items": null,
            "grid_row": null,
            "max_height": null,
            "align_content": null,
            "visibility": null,
            "align_self": null,
            "height": null,
            "min_height": null,
            "padding": null,
            "grid_auto_rows": null,
            "grid_gap": null,
            "max_width": null,
            "order": null,
            "_view_module_version": "1.2.0",
            "grid_template_areas": null,
            "object_position": null,
            "object_fit": null,
            "grid_auto_columns": null,
            "margin": null,
            "display": null,
            "left": null
          }
        },
        "122f0009b3eb44f3972d1baa6b5f9d23": {
          "model_module": "@jupyter-widgets/controls",
          "model_name": "FloatProgressModel",
          "state": {
            "_view_name": "ProgressView",
            "style": "IPY_MODEL_6610dfa9fe834178925a1a329c420246",
            "_dom_classes": [],
            "description": "100%",
            "_model_name": "FloatProgressModel",
            "bar_style": "success",
            "max": 46827520,
            "_view_module": "@jupyter-widgets/controls",
            "_model_module_version": "1.5.0",
            "value": 46827520,
            "_view_count": null,
            "_view_module_version": "1.5.0",
            "orientation": "horizontal",
            "min": 0,
            "description_tooltip": null,
            "_model_module": "@jupyter-widgets/controls",
            "layout": "IPY_MODEL_8b7e97ead9904ffe966660515041cdd5"
          }
        },
        "a764545928cf41d4b6b14dfa45e74d1f": {
          "model_module": "@jupyter-widgets/controls",
          "model_name": "HTMLModel",
          "state": {
            "_view_name": "HTMLView",
            "style": "IPY_MODEL_bd6b7382effc4461ab046fe39dd66204",
            "_dom_classes": [],
            "description": "",
            "_model_name": "HTMLModel",
            "placeholder": "​",
            "_view_module": "@jupyter-widgets/controls",
            "_model_module_version": "1.5.0",
            "value": " 44.7M/44.7M [04:57&lt;00:00, 157kB/s]",
            "_view_count": null,
            "_view_module_version": "1.5.0",
            "description_tooltip": null,
            "_model_module": "@jupyter-widgets/controls",
            "layout": "IPY_MODEL_4863bb18298040a2bb7879c8f6b11ecc"
          }
        },
        "6610dfa9fe834178925a1a329c420246": {
          "model_module": "@jupyter-widgets/controls",
          "model_name": "ProgressStyleModel",
          "state": {
            "_view_name": "StyleView",
            "_model_name": "ProgressStyleModel",
            "description_width": "initial",
            "_view_module": "@jupyter-widgets/base",
            "_model_module_version": "1.5.0",
            "_view_count": null,
            "_view_module_version": "1.2.0",
            "bar_color": null,
            "_model_module": "@jupyter-widgets/controls"
          }
        },
        "8b7e97ead9904ffe966660515041cdd5": {
          "model_module": "@jupyter-widgets/base",
          "model_name": "LayoutModel",
          "state": {
            "_view_name": "LayoutView",
            "grid_template_rows": null,
            "right": null,
            "justify_content": null,
            "_view_module": "@jupyter-widgets/base",
            "overflow": null,
            "_model_module_version": "1.2.0",
            "_view_count": null,
            "flex_flow": null,
            "width": null,
            "min_width": null,
            "border": null,
            "align_items": null,
            "bottom": null,
            "_model_module": "@jupyter-widgets/base",
            "top": null,
            "grid_column": null,
            "overflow_y": null,
            "overflow_x": null,
            "grid_auto_flow": null,
            "grid_area": null,
            "grid_template_columns": null,
            "flex": null,
            "_model_name": "LayoutModel",
            "justify_items": null,
            "grid_row": null,
            "max_height": null,
            "align_content": null,
            "visibility": null,
            "align_self": null,
            "height": null,
            "min_height": null,
            "padding": null,
            "grid_auto_rows": null,
            "grid_gap": null,
            "max_width": null,
            "order": null,
            "_view_module_version": "1.2.0",
            "grid_template_areas": null,
            "object_position": null,
            "object_fit": null,
            "grid_auto_columns": null,
            "margin": null,
            "display": null,
            "left": null
          }
        },
        "bd6b7382effc4461ab046fe39dd66204": {
          "model_module": "@jupyter-widgets/controls",
          "model_name": "DescriptionStyleModel",
          "state": {
            "_view_name": "StyleView",
            "_model_name": "DescriptionStyleModel",
            "description_width": "",
            "_view_module": "@jupyter-widgets/base",
            "_model_module_version": "1.5.0",
            "_view_count": null,
            "_view_module_version": "1.2.0",
            "_model_module": "@jupyter-widgets/controls"
          }
        },
        "4863bb18298040a2bb7879c8f6b11ecc": {
          "model_module": "@jupyter-widgets/base",
          "model_name": "LayoutModel",
          "state": {
            "_view_name": "LayoutView",
            "grid_template_rows": null,
            "right": null,
            "justify_content": null,
            "_view_module": "@jupyter-widgets/base",
            "overflow": null,
            "_model_module_version": "1.2.0",
            "_view_count": null,
            "flex_flow": null,
            "width": null,
            "min_width": null,
            "border": null,
            "align_items": null,
            "bottom": null,
            "_model_module": "@jupyter-widgets/base",
            "top": null,
            "grid_column": null,
            "overflow_y": null,
            "overflow_x": null,
            "grid_auto_flow": null,
            "grid_area": null,
            "grid_template_columns": null,
            "flex": null,
            "_model_name": "LayoutModel",
            "justify_items": null,
            "grid_row": null,
            "max_height": null,
            "align_content": null,
            "visibility": null,
            "align_self": null,
            "height": null,
            "min_height": null,
            "padding": null,
            "grid_auto_rows": null,
            "grid_gap": null,
            "max_width": null,
            "order": null,
            "_view_module_version": "1.2.0",
            "grid_template_areas": null,
            "object_position": null,
            "object_fit": null,
            "grid_auto_columns": null,
            "margin": null,
            "display": null,
            "left": null
          }
        }
      }
    }
  },
  "cells": [
    {
      "cell_type": "code",
      "metadata": {
        "id": "tJxejS4BhtfA",
        "colab_type": "code",
        "colab": {
          "base_uri": "https://localhost:8080/",
          "height": 357
        },
        "outputId": "b1a5e788-f9f6-436a-8976-7414f646a993"
      },
      "source": [
        "!nvidia-smi"
      ],
      "execution_count": 1,
      "outputs": [
        {
          "output_type": "stream",
          "text": [
            "Wed Jul  1 23:42:19 2020       \n",
            "+-----------------------------------------------------------------------------+\n",
            "| NVIDIA-SMI 450.36.06    Driver Version: 418.67       CUDA Version: 10.1     |\n",
            "|-------------------------------+----------------------+----------------------+\n",
            "| GPU  Name        Persistence-M| Bus-Id        Disp.A | Volatile Uncorr. ECC |\n",
            "| Fan  Temp  Perf  Pwr:Usage/Cap|         Memory-Usage | GPU-Util  Compute M. |\n",
            "|                               |                      |               MIG M. |\n",
            "|===============================+======================+======================|\n",
            "|   0  Tesla T4            Off  | 00000000:00:04.0 Off |                    0 |\n",
            "| N/A   49C    P8    10W /  70W |      0MiB / 15079MiB |      0%      Default |\n",
            "|                               |                      |                 ERR! |\n",
            "+-------------------------------+----------------------+----------------------+\n",
            "                                                                               \n",
            "+-----------------------------------------------------------------------------+\n",
            "| Processes:                                                                  |\n",
            "|  GPU   GI   CI        PID   Type   Process name                  GPU Memory |\n",
            "|        ID   ID                                                   Usage      |\n",
            "|=============================================================================|\n",
            "|  No running processes found                                                 |\n",
            "+-----------------------------------------------------------------------------+\n"
          ],
          "name": "stdout"
        }
      ]
    },
    {
      "cell_type": "code",
      "metadata": {
        "id": "KqzKNkpfXrM7",
        "colab_type": "code",
        "colab": {
          "base_uri": "https://localhost:8080/",
          "height": 122
        },
        "outputId": "34e48b66-b142-49df-95a7-410092f1d6e0"
      },
      "source": [
        "from google.colab import drive\n",
        "drive.mount('/content/drive', force_remount=True)"
      ],
      "execution_count": 2,
      "outputs": [
        {
          "output_type": "stream",
          "text": [
            "Go to this URL in a browser: https://accounts.google.com/o/oauth2/auth?client_id=947318989803-6bn6qk8qdgf4n4g3pfee6491hc0brc4i.apps.googleusercontent.com&redirect_uri=urn%3aietf%3awg%3aoauth%3a2.0%3aoob&response_type=code&scope=email%20https%3a%2f%2fwww.googleapis.com%2fauth%2fdocs.test%20https%3a%2f%2fwww.googleapis.com%2fauth%2fdrive%20https%3a%2f%2fwww.googleapis.com%2fauth%2fdrive.photos.readonly%20https%3a%2f%2fwww.googleapis.com%2fauth%2fpeopleapi.readonly\n",
            "\n",
            "Enter your authorization code:\n",
            "··········\n",
            "Mounted at /content/drive\n"
          ],
          "name": "stdout"
        }
      ]
    },
    {
      "cell_type": "code",
      "metadata": {
        "id": "5tkHSteTnOUV",
        "colab_type": "code",
        "colab": {}
      },
      "source": [
        "import torch \n",
        "import torchvision\n",
        "import numpy as np \n",
        "import random\n",
        "import os\n",
        "import glob\n",
        "import copy\n",
        "from tqdm import tqdm as tqdm\n",
        "from torchsummary import summary\n",
        "\n",
        "seed = 42\n",
        "random.seed(seed)\n",
        "os.environ[\"PYTHONHASHSEED\"] = str(seed)\n",
        "np.random.seed(seed)\n",
        "torch.cuda.manual_seed(seed)\n",
        "torch.cuda.manual_seed_all(seed)\n",
        "torch.backends.cudnn.deterministic = True\n",
        "torch.manual_seed(seed)\n",
        "\n",
        "best_model = None\n",
        "best_loss = 0.\n",
        "best_test_loss = 0.\n",
        "best_test_acc = 0.\n",
        "best_pred_labels = []\n",
        "true_labels = []\n",
        "\n",
        "pred_labels = []\n",
        "test_acc = 0.\n",
        "test_loss = 0.\n",
        "\n",
        "# device = torch.device('cuda:0')\n",
        "device = torch.device('cuda' if torch.cuda.is_available() else 'cpu')"
      ],
      "execution_count": 3,
      "outputs": []
    },
    {
      "cell_type": "code",
      "metadata": {
        "id": "xjX3GQUHnOUh",
        "colab_type": "code",
        "colab": {
          "base_uri": "https://localhost:8080/",
          "height": 85
        },
        "outputId": "b2f675af-1f5b-4f0c-d28f-cceccbabe6be"
      },
      "source": [
        "# train class samples \n",
        "print('Normal Samples in Training Data')\n",
        "!ls -l /content/drive/\"My Drive\"/NDP_Data/chest_xray/train/NORMAL | wc -l\n",
        "print('Pneumonia Samples in Training Data')\n",
        "!ls -l /content/drive/\"My Drive\"/NDP_Data/chest_xray/train/PNEUMONIA | wc -l"
      ],
      "execution_count": 4,
      "outputs": [
        {
          "output_type": "stream",
          "text": [
            "Normal Samples in Training Data\n",
            "1342\n",
            "Pneumonia Samples in Training Data\n",
            "3876\n"
          ],
          "name": "stdout"
        }
      ]
    },
    {
      "cell_type": "code",
      "metadata": {
        "id": "XOR0OlpIbDFA",
        "colab_type": "code",
        "colab": {
          "base_uri": "https://localhost:8080/",
          "height": 85
        },
        "outputId": "5eaba50d-4134-409d-d790-f72c794ec250"
      },
      "source": [
        "# Validation samples\n",
        "print('Normal Samples in Validation Data')\n",
        "!ls -l /content/drive/\"My Drive\"/NDP_Data/chest_xray/val/NORMAL | wc -l\n",
        "print('Pneumonia Samples in Validation Data')\n",
        "!ls -l /content/drive/\"My Drive\"/NDP_Data/chest_xray/val/PNEUMONIA | wc -l"
      ],
      "execution_count": 5,
      "outputs": [
        {
          "output_type": "stream",
          "text": [
            "Normal Samples in Validation Data\n",
            "9\n",
            "Pneumonia Samples in Validation Data\n",
            "9\n"
          ],
          "name": "stdout"
        }
      ]
    },
    {
      "cell_type": "code",
      "metadata": {
        "id": "z8YxWrN7nOUo",
        "colab_type": "code",
        "colab": {
          "base_uri": "https://localhost:8080/",
          "height": 85
        },
        "outputId": "67a71ad9-a404-450e-a4c8-39abe2a5148c"
      },
      "source": [
        "# Testing samples\n",
        "print('Normal Samples in Testing Data')\n",
        "!ls -l /content/drive/\"My Drive\"/NDP_Data/chest_xray/test/NORMAL | wc -l\n",
        "print('Pneumonia Samples in Testing Data')\n",
        "!ls -l /content/drive/\"My Drive\"/NDP_Data/chest_xray/test/PNEUMONIA | wc -l"
      ],
      "execution_count": 6,
      "outputs": [
        {
          "output_type": "stream",
          "text": [
            "Normal Samples in Testing Data\n",
            "235\n",
            "Pneumonia Samples in Testing Data\n",
            "391\n"
          ],
          "name": "stdout"
        }
      ]
    },
    {
      "cell_type": "code",
      "metadata": {
        "id": "LPDTSXKWnOUw",
        "colab_type": "code",
        "colab": {}
      },
      "source": [
        "class ChestXRay(torchvision.datasets.ImageFolder):\n",
        "    def __getitem__(self, index):\n",
        "        sample, target = super().__getitem__(index)\n",
        "        path, _ = self.samples[index]\n",
        "        \n",
        "        target = 0\n",
        "        if 'PNEUMONIA' in path:\n",
        "            target = 1\n",
        "        \n",
        "        return sample, target\n",
        "       "
      ],
      "execution_count": 7,
      "outputs": []
    },
    {
      "cell_type": "code",
      "metadata": {
        "id": "J-_xESJtnOU0",
        "colab_type": "code",
        "colab": {}
      },
      "source": [
        "train_transforms = torchvision.transforms.Compose([\n",
        "    torchvision.transforms.Resize(256),\n",
        "    torchvision.transforms.RandomAffine(0, translate=(0, 0.1), scale=(1, 1.10)),\n",
        "    torchvision.transforms.CenterCrop(224),\n",
        "    torchvision.transforms.ToTensor(),\n",
        "    torchvision.transforms.Normalize([0.485, 0.456, 0.406], [0.229, 0.224, 0.225])\n",
        "])\n",
        "\n",
        "transforms = torchvision.transforms.Compose([\n",
        "    torchvision.transforms.Resize(256),\n",
        "    torchvision.transforms.CenterCrop(224),\n",
        "    torchvision.transforms.ToTensor(),\n",
        "    torchvision.transforms.Normalize([0.485, 0.456, 0.406], [0.229, 0.224, 0.225]),\n",
        "])\n",
        "\n",
        "train_dataset = ChestXRay('/content/drive/My Drive/NDP_Data/chest_xray/train/', transform=train_transforms)\n",
        "val_dataset = ChestXRay('/content/drive/My Drive/NDP_Data/chest_xray/val/', transform=train_transforms)\n",
        "test_dataset = ChestXRay('/content/drive/My Drive/NDP_Data/chest_xray/test/', transform=transforms)\n",
        "\n",
        "train_dataloader = torch.utils.data.DataLoader(train_dataset, batch_size=128, shuffle=True)\n",
        "val_dataloader = torch.utils.data.DataLoader(val_dataset, batch_size=4, shuffle=False)\n",
        "test_dataloader = torch.utils.data.DataLoader(test_dataset, batch_size=4, shuffle=False)"
      ],
      "execution_count": 8,
      "outputs": []
    },
    {
      "cell_type": "code",
      "metadata": {
        "id": "Ee19YDP1nOVA",
        "colab_type": "code",
        "colab": {
          "base_uri": "https://localhost:8080/",
          "height": 1000,
          "referenced_widgets": [
            "af5893297b92472b9a34c7b483d5fa82",
            "21b91596639045a19e6c3fc02d1f87d6",
            "122f0009b3eb44f3972d1baa6b5f9d23",
            "a764545928cf41d4b6b14dfa45e74d1f",
            "6610dfa9fe834178925a1a329c420246",
            "8b7e97ead9904ffe966660515041cdd5",
            "bd6b7382effc4461ab046fe39dd66204",
            "4863bb18298040a2bb7879c8f6b11ecc"
          ]
        },
        "outputId": "1ada0c15-80e3-465f-a74b-642cd992c4f1"
      },
      "source": [
        "model = torchvision.models.resnet18(pretrained=True)\n",
        "model.fc = torch.nn.Linear(in_features=512, out_features=2)\n",
        "model = model.to(device)\n",
        "model"
      ],
      "execution_count": 9,
      "outputs": [
        {
          "output_type": "stream",
          "text": [
            "Downloading: \"https://download.pytorch.org/models/resnet18-5c106cde.pth\" to /root/.cache/torch/checkpoints/resnet18-5c106cde.pth\n"
          ],
          "name": "stderr"
        },
        {
          "output_type": "display_data",
          "data": {
            "application/vnd.jupyter.widget-view+json": {
              "model_id": "af5893297b92472b9a34c7b483d5fa82",
              "version_minor": 0,
              "version_major": 2
            },
            "text/plain": [
              "HBox(children=(FloatProgress(value=0.0, max=46827520.0), HTML(value='')))"
            ]
          },
          "metadata": {
            "tags": []
          }
        },
        {
          "output_type": "stream",
          "text": [
            "\n"
          ],
          "name": "stdout"
        },
        {
          "output_type": "execute_result",
          "data": {
            "text/plain": [
              "ResNet(\n",
              "  (conv1): Conv2d(3, 64, kernel_size=(7, 7), stride=(2, 2), padding=(3, 3), bias=False)\n",
              "  (bn1): BatchNorm2d(64, eps=1e-05, momentum=0.1, affine=True, track_running_stats=True)\n",
              "  (relu): ReLU(inplace=True)\n",
              "  (maxpool): MaxPool2d(kernel_size=3, stride=2, padding=1, dilation=1, ceil_mode=False)\n",
              "  (layer1): Sequential(\n",
              "    (0): BasicBlock(\n",
              "      (conv1): Conv2d(64, 64, kernel_size=(3, 3), stride=(1, 1), padding=(1, 1), bias=False)\n",
              "      (bn1): BatchNorm2d(64, eps=1e-05, momentum=0.1, affine=True, track_running_stats=True)\n",
              "      (relu): ReLU(inplace=True)\n",
              "      (conv2): Conv2d(64, 64, kernel_size=(3, 3), stride=(1, 1), padding=(1, 1), bias=False)\n",
              "      (bn2): BatchNorm2d(64, eps=1e-05, momentum=0.1, affine=True, track_running_stats=True)\n",
              "    )\n",
              "    (1): BasicBlock(\n",
              "      (conv1): Conv2d(64, 64, kernel_size=(3, 3), stride=(1, 1), padding=(1, 1), bias=False)\n",
              "      (bn1): BatchNorm2d(64, eps=1e-05, momentum=0.1, affine=True, track_running_stats=True)\n",
              "      (relu): ReLU(inplace=True)\n",
              "      (conv2): Conv2d(64, 64, kernel_size=(3, 3), stride=(1, 1), padding=(1, 1), bias=False)\n",
              "      (bn2): BatchNorm2d(64, eps=1e-05, momentum=0.1, affine=True, track_running_stats=True)\n",
              "    )\n",
              "  )\n",
              "  (layer2): Sequential(\n",
              "    (0): BasicBlock(\n",
              "      (conv1): Conv2d(64, 128, kernel_size=(3, 3), stride=(2, 2), padding=(1, 1), bias=False)\n",
              "      (bn1): BatchNorm2d(128, eps=1e-05, momentum=0.1, affine=True, track_running_stats=True)\n",
              "      (relu): ReLU(inplace=True)\n",
              "      (conv2): Conv2d(128, 128, kernel_size=(3, 3), stride=(1, 1), padding=(1, 1), bias=False)\n",
              "      (bn2): BatchNorm2d(128, eps=1e-05, momentum=0.1, affine=True, track_running_stats=True)\n",
              "      (downsample): Sequential(\n",
              "        (0): Conv2d(64, 128, kernel_size=(1, 1), stride=(2, 2), bias=False)\n",
              "        (1): BatchNorm2d(128, eps=1e-05, momentum=0.1, affine=True, track_running_stats=True)\n",
              "      )\n",
              "    )\n",
              "    (1): BasicBlock(\n",
              "      (conv1): Conv2d(128, 128, kernel_size=(3, 3), stride=(1, 1), padding=(1, 1), bias=False)\n",
              "      (bn1): BatchNorm2d(128, eps=1e-05, momentum=0.1, affine=True, track_running_stats=True)\n",
              "      (relu): ReLU(inplace=True)\n",
              "      (conv2): Conv2d(128, 128, kernel_size=(3, 3), stride=(1, 1), padding=(1, 1), bias=False)\n",
              "      (bn2): BatchNorm2d(128, eps=1e-05, momentum=0.1, affine=True, track_running_stats=True)\n",
              "    )\n",
              "  )\n",
              "  (layer3): Sequential(\n",
              "    (0): BasicBlock(\n",
              "      (conv1): Conv2d(128, 256, kernel_size=(3, 3), stride=(2, 2), padding=(1, 1), bias=False)\n",
              "      (bn1): BatchNorm2d(256, eps=1e-05, momentum=0.1, affine=True, track_running_stats=True)\n",
              "      (relu): ReLU(inplace=True)\n",
              "      (conv2): Conv2d(256, 256, kernel_size=(3, 3), stride=(1, 1), padding=(1, 1), bias=False)\n",
              "      (bn2): BatchNorm2d(256, eps=1e-05, momentum=0.1, affine=True, track_running_stats=True)\n",
              "      (downsample): Sequential(\n",
              "        (0): Conv2d(128, 256, kernel_size=(1, 1), stride=(2, 2), bias=False)\n",
              "        (1): BatchNorm2d(256, eps=1e-05, momentum=0.1, affine=True, track_running_stats=True)\n",
              "      )\n",
              "    )\n",
              "    (1): BasicBlock(\n",
              "      (conv1): Conv2d(256, 256, kernel_size=(3, 3), stride=(1, 1), padding=(1, 1), bias=False)\n",
              "      (bn1): BatchNorm2d(256, eps=1e-05, momentum=0.1, affine=True, track_running_stats=True)\n",
              "      (relu): ReLU(inplace=True)\n",
              "      (conv2): Conv2d(256, 256, kernel_size=(3, 3), stride=(1, 1), padding=(1, 1), bias=False)\n",
              "      (bn2): BatchNorm2d(256, eps=1e-05, momentum=0.1, affine=True, track_running_stats=True)\n",
              "    )\n",
              "  )\n",
              "  (layer4): Sequential(\n",
              "    (0): BasicBlock(\n",
              "      (conv1): Conv2d(256, 512, kernel_size=(3, 3), stride=(2, 2), padding=(1, 1), bias=False)\n",
              "      (bn1): BatchNorm2d(512, eps=1e-05, momentum=0.1, affine=True, track_running_stats=True)\n",
              "      (relu): ReLU(inplace=True)\n",
              "      (conv2): Conv2d(512, 512, kernel_size=(3, 3), stride=(1, 1), padding=(1, 1), bias=False)\n",
              "      (bn2): BatchNorm2d(512, eps=1e-05, momentum=0.1, affine=True, track_running_stats=True)\n",
              "      (downsample): Sequential(\n",
              "        (0): Conv2d(256, 512, kernel_size=(1, 1), stride=(2, 2), bias=False)\n",
              "        (1): BatchNorm2d(512, eps=1e-05, momentum=0.1, affine=True, track_running_stats=True)\n",
              "      )\n",
              "    )\n",
              "    (1): BasicBlock(\n",
              "      (conv1): Conv2d(512, 512, kernel_size=(3, 3), stride=(1, 1), padding=(1, 1), bias=False)\n",
              "      (bn1): BatchNorm2d(512, eps=1e-05, momentum=0.1, affine=True, track_running_stats=True)\n",
              "      (relu): ReLU(inplace=True)\n",
              "      (conv2): Conv2d(512, 512, kernel_size=(3, 3), stride=(1, 1), padding=(1, 1), bias=False)\n",
              "      (bn2): BatchNorm2d(512, eps=1e-05, momentum=0.1, affine=True, track_running_stats=True)\n",
              "    )\n",
              "  )\n",
              "  (avgpool): AdaptiveAvgPool2d(output_size=(1, 1))\n",
              "  (fc): Linear(in_features=512, out_features=2, bias=True)\n",
              ")"
            ]
          },
          "metadata": {
            "tags": []
          },
          "execution_count": 9
        }
      ]
    },
    {
      "cell_type": "code",
      "metadata": {
        "id": "61IVJvrmr7th",
        "colab_type": "code",
        "colab": {
          "base_uri": "https://localhost:8080/",
          "height": 1000
        },
        "outputId": "3c05f57f-99ca-4c4a-95da-b1fba30e0f80"
      },
      "source": [
        "summary(model.cuda(), [(3,224,224,)])"
      ],
      "execution_count": 10,
      "outputs": [
        {
          "output_type": "stream",
          "text": [
            "----------------------------------------------------------------\n",
            "        Layer (type)               Output Shape         Param #\n",
            "================================================================\n",
            "            Conv2d-1         [-1, 64, 112, 112]           9,408\n",
            "       BatchNorm2d-2         [-1, 64, 112, 112]             128\n",
            "              ReLU-3         [-1, 64, 112, 112]               0\n",
            "         MaxPool2d-4           [-1, 64, 56, 56]               0\n",
            "            Conv2d-5           [-1, 64, 56, 56]          36,864\n",
            "       BatchNorm2d-6           [-1, 64, 56, 56]             128\n",
            "              ReLU-7           [-1, 64, 56, 56]               0\n",
            "            Conv2d-8           [-1, 64, 56, 56]          36,864\n",
            "       BatchNorm2d-9           [-1, 64, 56, 56]             128\n",
            "             ReLU-10           [-1, 64, 56, 56]               0\n",
            "       BasicBlock-11           [-1, 64, 56, 56]               0\n",
            "           Conv2d-12           [-1, 64, 56, 56]          36,864\n",
            "      BatchNorm2d-13           [-1, 64, 56, 56]             128\n",
            "             ReLU-14           [-1, 64, 56, 56]               0\n",
            "           Conv2d-15           [-1, 64, 56, 56]          36,864\n",
            "      BatchNorm2d-16           [-1, 64, 56, 56]             128\n",
            "             ReLU-17           [-1, 64, 56, 56]               0\n",
            "       BasicBlock-18           [-1, 64, 56, 56]               0\n",
            "           Conv2d-19          [-1, 128, 28, 28]          73,728\n",
            "      BatchNorm2d-20          [-1, 128, 28, 28]             256\n",
            "             ReLU-21          [-1, 128, 28, 28]               0\n",
            "           Conv2d-22          [-1, 128, 28, 28]         147,456\n",
            "      BatchNorm2d-23          [-1, 128, 28, 28]             256\n",
            "           Conv2d-24          [-1, 128, 28, 28]           8,192\n",
            "      BatchNorm2d-25          [-1, 128, 28, 28]             256\n",
            "             ReLU-26          [-1, 128, 28, 28]               0\n",
            "       BasicBlock-27          [-1, 128, 28, 28]               0\n",
            "           Conv2d-28          [-1, 128, 28, 28]         147,456\n",
            "      BatchNorm2d-29          [-1, 128, 28, 28]             256\n",
            "             ReLU-30          [-1, 128, 28, 28]               0\n",
            "           Conv2d-31          [-1, 128, 28, 28]         147,456\n",
            "      BatchNorm2d-32          [-1, 128, 28, 28]             256\n",
            "             ReLU-33          [-1, 128, 28, 28]               0\n",
            "       BasicBlock-34          [-1, 128, 28, 28]               0\n",
            "           Conv2d-35          [-1, 256, 14, 14]         294,912\n",
            "      BatchNorm2d-36          [-1, 256, 14, 14]             512\n",
            "             ReLU-37          [-1, 256, 14, 14]               0\n",
            "           Conv2d-38          [-1, 256, 14, 14]         589,824\n",
            "      BatchNorm2d-39          [-1, 256, 14, 14]             512\n",
            "           Conv2d-40          [-1, 256, 14, 14]          32,768\n",
            "      BatchNorm2d-41          [-1, 256, 14, 14]             512\n",
            "             ReLU-42          [-1, 256, 14, 14]               0\n",
            "       BasicBlock-43          [-1, 256, 14, 14]               0\n",
            "           Conv2d-44          [-1, 256, 14, 14]         589,824\n",
            "      BatchNorm2d-45          [-1, 256, 14, 14]             512\n",
            "             ReLU-46          [-1, 256, 14, 14]               0\n",
            "           Conv2d-47          [-1, 256, 14, 14]         589,824\n",
            "      BatchNorm2d-48          [-1, 256, 14, 14]             512\n",
            "             ReLU-49          [-1, 256, 14, 14]               0\n",
            "       BasicBlock-50          [-1, 256, 14, 14]               0\n",
            "           Conv2d-51            [-1, 512, 7, 7]       1,179,648\n",
            "      BatchNorm2d-52            [-1, 512, 7, 7]           1,024\n",
            "             ReLU-53            [-1, 512, 7, 7]               0\n",
            "           Conv2d-54            [-1, 512, 7, 7]       2,359,296\n",
            "      BatchNorm2d-55            [-1, 512, 7, 7]           1,024\n",
            "           Conv2d-56            [-1, 512, 7, 7]         131,072\n",
            "      BatchNorm2d-57            [-1, 512, 7, 7]           1,024\n",
            "             ReLU-58            [-1, 512, 7, 7]               0\n",
            "       BasicBlock-59            [-1, 512, 7, 7]               0\n",
            "           Conv2d-60            [-1, 512, 7, 7]       2,359,296\n",
            "      BatchNorm2d-61            [-1, 512, 7, 7]           1,024\n",
            "             ReLU-62            [-1, 512, 7, 7]               0\n",
            "           Conv2d-63            [-1, 512, 7, 7]       2,359,296\n",
            "      BatchNorm2d-64            [-1, 512, 7, 7]           1,024\n",
            "             ReLU-65            [-1, 512, 7, 7]               0\n",
            "       BasicBlock-66            [-1, 512, 7, 7]               0\n",
            "AdaptiveAvgPool2d-67            [-1, 512, 1, 1]               0\n",
            "           Linear-68                    [-1, 2]           1,026\n",
            "================================================================\n",
            "Total params: 11,177,538\n",
            "Trainable params: 11,177,538\n",
            "Non-trainable params: 0\n",
            "----------------------------------------------------------------\n",
            "Input size (MB): 0.57\n",
            "Forward/backward pass size (MB): 62.79\n",
            "Params size (MB): 42.64\n",
            "Estimated Total Size (MB): 106.00\n",
            "----------------------------------------------------------------\n"
          ],
          "name": "stdout"
        }
      ]
    },
    {
      "cell_type": "code",
      "metadata": {
        "id": "VhXhlzFK2Dl1",
        "colab_type": "code",
        "colab": {}
      },
      "source": [
        ""
      ],
      "execution_count": 10,
      "outputs": []
    },
    {
      "cell_type": "code",
      "metadata": {
        "id": "V5U-QpQHr7wE",
        "colab_type": "code",
        "colab": {}
      },
      "source": [
        ""
      ],
      "execution_count": 10,
      "outputs": []
    },
    {
      "cell_type": "code",
      "metadata": {
        "id": "2YIhJ7MefyqN",
        "colab_type": "code",
        "colab": {}
      },
      "source": [
        "def clip_grad(parameters, max_norm, norm_type=2):\n",
        "    parameters = list(filter(lambda p: p.grad is not None, parameters))\n",
        "    total_norm = 0\n",
        "    for p in parameters:\n",
        "        param_norm = p.grad.data.norm(norm_type)\n",
        "        total_norm += param_norm.item() ** norm_type"
      ],
      "execution_count": 11,
      "outputs": []
    },
    {
      "cell_type": "code",
      "metadata": {
        "id": "VAoD68pMf5oy",
        "colab_type": "code",
        "colab": {}
      },
      "source": [
        "def train_dp(model, trainloader, criterion, optimizer, lr_scheduler, phase='train'):\n",
        "    \"\"\"\n",
        "    Differentially Private version of the training procedure\n",
        "    :param trainloader:\n",
        "    :param model:\n",
        "    :param optimizer:\n",
        "    :param epoch:\n",
        "    :return:\n",
        "    \"\"\"\n",
        "    model.train()\n",
        "    running_loss = 0.0\n",
        "    epoch_loss = 0.\n",
        "    epoch_acc = 0.\n",
        "    \n",
        "    batch_num = 0.\n",
        "    samples_num = 0.\n",
        "    \n",
        "    true_labels = []\n",
        "    pred_labels = []\n",
        "    num_microbatches = 32\n",
        "    S = 1\n",
        "    z = 5.002 # n=5218, batch_size=128, noise_multiplier=5.002, epochs=50, delta=1e-4. This gives DP-SGD with sampling rate = 2.45% and noise_multiplier = 5.002 iterated over 2039 steps satisfies differential privacy with eps = 0.994 and delta = 0.0001.\n",
        "              # The optimal RDP order is 20.0.\n",
        "    sigma = z * S\n",
        "    for batch_idx, data in tqdm(enumerate(trainloader, 0), leave=True):\n",
        "        inputs, labels = data\n",
        "        inputs = inputs.to(device)\n",
        "        labels = labels.to(device)\n",
        "        optimizer.zero_grad()\n",
        "        outputs = model(inputs)\n",
        "        _, preds = torch.max(outputs, 1)\n",
        "        loss = criterion(outputs, labels)\n",
        "        #print(loss.shape)\n",
        "        running_loss += torch.mean(loss).item()\n",
        "\n",
        "        true_labels.append(labels.detach().cpu())\n",
        "        pred_labels.append(preds.detach().cpu())\n",
        "\n",
        "        losses = torch.mean(loss.reshape(num_microbatches, -1), dim=1)\n",
        "        saved_var = dict()\n",
        "        for tensor_name, tensor in model.named_parameters():\n",
        "            saved_var[tensor_name] = torch.zeros_like(tensor)\n",
        "\n",
        "        for j in losses:\n",
        "            j.backward(retain_graph=True)\n",
        "            torch.nn.utils.clip_grad_norm_(model.parameters(), S)\n",
        "            for tensor_name, tensor in model.named_parameters():\n",
        "                new_grad = tensor.grad\n",
        "                saved_var[tensor_name].add_(new_grad)\n",
        "            model.zero_grad()\n",
        "\n",
        "        for tensor_name, tensor in model.named_parameters():\n",
        "            if device.type =='cuda':\n",
        "                noise = torch.cuda.FloatTensor(tensor.grad.shape).normal_(0, sigma)\n",
        "                #noise = torch.FloatTensor(tensor.grad.shape).normal_(0, sigma)\n",
        "            else:\n",
        "                noise = torch.FloatTensor(tensor.grad.shape).normal_(0, sigma)\n",
        "            saved_var[tensor_name].add_(noise)\n",
        "            tensor.grad = saved_var[tensor_name] / num_microbatches\n",
        "        optimizer.step()\n",
        "\n",
        "        #print(f'\\r{phase} batch [{batch_idx}/{len(trainloader)}]: loss {loss}', end='', flush=True)\n",
        "        print(f'\\r{phase} batch [{batch_idx}/{len(trainloader)}]: loss {torch.mean(loss).item()}', end='', flush=True)\n",
        "        epoch_loss += torch.mean(loss.detach().cpu()).item()\n",
        "        epoch_acc += torch.sum(preds == labels.data)\n",
        "        batch_num += 1\n",
        "        samples_num += len(labels)\n",
        "\n",
        "        '''if i > 0 and i % 20 == 0:\n",
        "            #             logger.info('[%d, %5d] loss: %.3f' %\n",
        "            #                   (epoch + 1, i + 1, running_loss / 2000))\n",
        "            plot(epoch * len(trainloader) + i, running_loss, 'Train Loss')\n",
        "            running_loss = 0.0'''\n",
        "    #print(\"RETURNING........\")\n",
        "    return epoch_loss / batch_num, epoch_acc / samples_num, torch.cat(true_labels).numpy(), torch.cat(pred_labels).numpy()      "
      ],
      "execution_count": 12,
      "outputs": []
    },
    {
      "cell_type": "code",
      "metadata": {
        "id": "8qxYBChvf6t3",
        "colab_type": "code",
        "colab": {}
      },
      "source": [
        "def test(model, testloader, criterion, optimizer, lr_scheduler, phase='test'):\n",
        "    model.eval()\n",
        "    #correct = 0\n",
        "    #total = 0\n",
        "\n",
        "    epoch_loss = 0.\n",
        "    epoch_acc = 0.\n",
        "    \n",
        "    batch_num = 0.\n",
        "    samples_num = 0.\n",
        "    \n",
        "    true_labels = []\n",
        "    pred_labels = []\n",
        "\n",
        "    with torch.no_grad():\n",
        "        for batch_idx, data in  enumerate(testloader):\n",
        "            inputs, labels = data\n",
        "            inputs = inputs.to(device)\n",
        "            labels = labels.to(device)\n",
        "            outputs = model(inputs)\n",
        "            #_, predicted = torch.max(outputs.data, 1)\n",
        "            _, preds = torch.max(outputs, 1)\n",
        "            loss = criterion(outputs, labels)\n",
        "            true_labels.append(labels.detach().cpu())\n",
        "            pred_labels.append(preds.detach().cpu())\n",
        "\n",
        "            # print(f'\\r{phase} batch [{batch_idx}/{len(testloader)}]: loss {loss}', end='', flush=True)\n",
        "            print(f'\\r{phase} batch [{batch_idx}/{len(testloader)}]: loss {torch.mean(loss).item()}', end='', flush=True)\n",
        "            epoch_loss += torch.mean(loss.detach().cpu()).item()\n",
        "            epoch_acc += torch.sum(preds == labels.data)\n",
        "            batch_num += 1\n",
        "            samples_num += len(labels)\n",
        "\n",
        "            #total += labels.size(0)\n",
        "            #correct += (predicted == labels).sum().item()\n",
        "        #print(\"TESTING.....\")\n",
        "        return epoch_loss / batch_num, epoch_acc / samples_num, torch.cat(true_labels).numpy(), torch.cat(pred_labels).numpy()"
      ],
      "execution_count": 13,
      "outputs": []
    },
    {
      "cell_type": "code",
      "metadata": {
        "id": "68w_Ljsff9wO",
        "colab_type": "code",
        "colab": {}
      },
      "source": [
        ""
      ],
      "execution_count": 13,
      "outputs": []
    },
    {
      "cell_type": "code",
      "metadata": {
        "id": "x7qXbQPUgRnw",
        "colab_type": "code",
        "colab": {}
      },
      "source": [
        ""
      ],
      "execution_count": 13,
      "outputs": []
    },
    {
      "cell_type": "code",
      "metadata": {
        "id": "MCUrp4S-gRqP",
        "colab_type": "code",
        "colab": {}
      },
      "source": [
        "criterion = torch.nn.CrossEntropyLoss(reduction='none')\n",
        "optimizer = torch.optim.SGD(model.parameters(), lr=1e-2, weight_decay=0.001)\n",
        "lr_scheduler = torch.optim.lr_scheduler.ReduceLROnPlateau(optimizer, patience=3, verbose=True)"
      ],
      "execution_count": 14,
      "outputs": []
    },
    {
      "cell_type": "code",
      "metadata": {
        "id": "iAn4FWp3nOVR",
        "colab_type": "code",
        "colab": {
          "base_uri": "https://localhost:8080/",
          "height": 1000
        },
        "outputId": "7ad841f7-c043-4f30-9f90-2b2281dd0f78"
      },
      "source": [
        "train_losses = []\n",
        "val_losses = []\n",
        "test_losses = []\n",
        "\n",
        "for epoch in range(50):\n",
        "    print('='*15, f'Epoch: {epoch}')\n",
        "    \n",
        "#train_dp(model, trainloader, criterion, optimizer, lr_scheduler, phase='train')\n",
        "#test(model, testloader, criterion, optimizer, lr_scheduler, phase='test')\n",
        "\n",
        "    train_loss, train_acc, _, _ = train_dp(model, train_dataloader, criterion, optimizer, lr_scheduler)\n",
        "    val_loss, val_acc, _, _ = test(model, val_dataloader, criterion, optimizer, lr_scheduler, phase='val')\n",
        "    #test_loss, test_acc, true_labels, pred_labels = run_epoch(model, test_dataloader, criterion, optimizer, lr_scheduler, phase='test')\n",
        "    \n",
        "    print()\n",
        "    print(f'Train loss: {train_loss}, Train accuracy: {train_acc}')\n",
        "    print(f'Val loss: {val_loss}, Val accuracy: {val_acc}')\n",
        "    #print(f'Test loss: {test_loss}, Test accuracy: {test_acc}')\n",
        "    print()\n",
        "    \n",
        "    train_losses.append(train_loss)\n",
        "    val_losses.append(val_loss)\n",
        "    #test_losses.append(test_loss)\n",
        "    \n",
        "    torch.save({'epoch': epoch, 'model': model.state_dict()}, f'resnet34-mooney-chest-x-ray-{seed}.pt')\n",
        "    \n",
        "    if best_model is None or val_loss < best_loss:\n",
        "        best_model = copy.deepcopy(model)\n",
        "        best_loss = val_loss\n",
        "        #best_test_loss = test_loss\n",
        "        #best_test_acc = test_acc \n",
        "        best_pred_labels = pred_labels\n",
        "        torch.save({'epoch': epoch, 'model': model.state_dict()}, f'resnet34-mooney-chest-x-ray-best-{seed}.pt')"
      ],
      "execution_count": 15,
      "outputs": [
        {
          "output_type": "stream",
          "text": [
            "\r0it [00:00, ?it/s]"
          ],
          "name": "stderr"
        },
        {
          "output_type": "stream",
          "text": [
            "=============== Epoch: 0\n",
            "train batch [0/41]: loss 0.5737420320510864"
          ],
          "name": "stdout"
        },
        {
          "output_type": "stream",
          "text": [
            "\r1it [01:11, 71.41s/it]"
          ],
          "name": "stderr"
        },
        {
          "output_type": "stream",
          "text": [
            "\rtrain batch [1/41]: loss 0.5014692544937134"
          ],
          "name": "stdout"
        },
        {
          "output_type": "stream",
          "text": [
            "\r2it [02:08, 67.13s/it]"
          ],
          "name": "stderr"
        },
        {
          "output_type": "stream",
          "text": [
            "\rtrain batch [2/41]: loss 0.5401807427406311"
          ],
          "name": "stdout"
        },
        {
          "output_type": "stream",
          "text": [
            "\r3it [03:07, 64.68s/it]"
          ],
          "name": "stderr"
        },
        {
          "output_type": "stream",
          "text": [
            "\rtrain batch [3/41]: loss 0.5516189336776733"
          ],
          "name": "stdout"
        },
        {
          "output_type": "stream",
          "text": [
            "\r4it [04:06, 62.89s/it]"
          ],
          "name": "stderr"
        },
        {
          "output_type": "stream",
          "text": [
            "\rtrain batch [4/41]: loss 0.5014297962188721"
          ],
          "name": "stdout"
        },
        {
          "output_type": "stream",
          "text": [
            "\r5it [05:02, 61.00s/it]"
          ],
          "name": "stderr"
        },
        {
          "output_type": "stream",
          "text": [
            "\rtrain batch [5/41]: loss 0.49040472507476807"
          ],
          "name": "stdout"
        },
        {
          "output_type": "stream",
          "text": [
            "\r6it [05:56, 58.91s/it]"
          ],
          "name": "stderr"
        },
        {
          "output_type": "stream",
          "text": [
            "\rtrain batch [6/41]: loss 0.5131015181541443"
          ],
          "name": "stdout"
        },
        {
          "output_type": "stream",
          "text": [
            "\r7it [06:52, 57.99s/it]"
          ],
          "name": "stderr"
        },
        {
          "output_type": "stream",
          "text": [
            "\rtrain batch [7/41]: loss 0.4678869843482971"
          ],
          "name": "stdout"
        },
        {
          "output_type": "stream",
          "text": [
            "\r8it [07:48, 57.35s/it]"
          ],
          "name": "stderr"
        },
        {
          "output_type": "stream",
          "text": [
            "\rtrain batch [8/41]: loss 0.4929462671279907"
          ],
          "name": "stdout"
        },
        {
          "output_type": "stream",
          "text": [
            "\r9it [08:47, 57.70s/it]"
          ],
          "name": "stderr"
        },
        {
          "output_type": "stream",
          "text": [
            "\rtrain batch [9/41]: loss 0.484796941280365"
          ],
          "name": "stdout"
        },
        {
          "output_type": "stream",
          "text": [
            "\r10it [09:42, 56.89s/it]"
          ],
          "name": "stderr"
        },
        {
          "output_type": "stream",
          "text": [
            "\rtrain batch [10/41]: loss 0.4483490586280823"
          ],
          "name": "stdout"
        },
        {
          "output_type": "stream",
          "text": [
            "\r11it [10:40, 57.22s/it]"
          ],
          "name": "stderr"
        },
        {
          "output_type": "stream",
          "text": [
            "\rtrain batch [11/41]: loss 0.45214471220970154"
          ],
          "name": "stdout"
        },
        {
          "output_type": "stream",
          "text": [
            "\r12it [11:36, 57.06s/it]"
          ],
          "name": "stderr"
        },
        {
          "output_type": "stream",
          "text": [
            "\rtrain batch [12/41]: loss 0.513823390007019"
          ],
          "name": "stdout"
        },
        {
          "output_type": "stream",
          "text": [
            "\r13it [12:34, 57.41s/it]"
          ],
          "name": "stderr"
        },
        {
          "output_type": "stream",
          "text": [
            "\rtrain batch [13/41]: loss 0.4745226502418518"
          ],
          "name": "stdout"
        },
        {
          "output_type": "stream",
          "text": [
            "\r14it [13:34, 58.10s/it]"
          ],
          "name": "stderr"
        },
        {
          "output_type": "stream",
          "text": [
            "\rtrain batch [14/41]: loss 0.4642364978790283"
          ],
          "name": "stdout"
        },
        {
          "output_type": "stream",
          "text": [
            "\r15it [14:34, 58.55s/it]"
          ],
          "name": "stderr"
        },
        {
          "output_type": "stream",
          "text": [
            "\rtrain batch [15/41]: loss 0.4912573993206024"
          ],
          "name": "stdout"
        },
        {
          "output_type": "stream",
          "text": [
            "\r16it [15:32, 58.48s/it]"
          ],
          "name": "stderr"
        },
        {
          "output_type": "stream",
          "text": [
            "\rtrain batch [16/41]: loss 0.44708144664764404"
          ],
          "name": "stdout"
        },
        {
          "output_type": "stream",
          "text": [
            "\r17it [16:31, 58.64s/it]"
          ],
          "name": "stderr"
        },
        {
          "output_type": "stream",
          "text": [
            "\rtrain batch [17/41]: loss 0.5328798890113831"
          ],
          "name": "stdout"
        },
        {
          "output_type": "stream",
          "text": [
            "\r18it [17:30, 58.58s/it]"
          ],
          "name": "stderr"
        },
        {
          "output_type": "stream",
          "text": [
            "\rtrain batch [18/41]: loss 0.4378868043422699"
          ],
          "name": "stdout"
        },
        {
          "output_type": "stream",
          "text": [
            "\r19it [18:29, 58.90s/it]"
          ],
          "name": "stderr"
        },
        {
          "output_type": "stream",
          "text": [
            "\rtrain batch [19/41]: loss 0.44830453395843506"
          ],
          "name": "stdout"
        },
        {
          "output_type": "stream",
          "text": [
            "\r20it [19:26, 58.38s/it]"
          ],
          "name": "stderr"
        },
        {
          "output_type": "stream",
          "text": [
            "\rtrain batch [20/41]: loss 0.42749762535095215"
          ],
          "name": "stdout"
        },
        {
          "output_type": "stream",
          "text": [
            "\r21it [20:29, 59.51s/it]"
          ],
          "name": "stderr"
        },
        {
          "output_type": "stream",
          "text": [
            "\rtrain batch [21/41]: loss 0.41042953729629517"
          ],
          "name": "stdout"
        },
        {
          "output_type": "stream",
          "text": [
            "\r22it [21:25, 58.60s/it]"
          ],
          "name": "stderr"
        },
        {
          "output_type": "stream",
          "text": [
            "\rtrain batch [22/41]: loss 0.460964560508728"
          ],
          "name": "stdout"
        },
        {
          "output_type": "stream",
          "text": [
            "\r23it [22:25, 58.87s/it]"
          ],
          "name": "stderr"
        },
        {
          "output_type": "stream",
          "text": [
            "\rtrain batch [23/41]: loss 0.43431293964385986"
          ],
          "name": "stdout"
        },
        {
          "output_type": "stream",
          "text": [
            "\r24it [23:24, 58.94s/it]"
          ],
          "name": "stderr"
        },
        {
          "output_type": "stream",
          "text": [
            "\rtrain batch [24/41]: loss 0.4554647207260132"
          ],
          "name": "stdout"
        },
        {
          "output_type": "stream",
          "text": [
            "\r25it [24:21, 58.52s/it]"
          ],
          "name": "stderr"
        },
        {
          "output_type": "stream",
          "text": [
            "\rtrain batch [25/41]: loss 0.5006052255630493"
          ],
          "name": "stdout"
        },
        {
          "output_type": "stream",
          "text": [
            "\r26it [25:24, 59.73s/it]"
          ],
          "name": "stderr"
        },
        {
          "output_type": "stream",
          "text": [
            "\rtrain batch [26/41]: loss 0.3887619972229004"
          ],
          "name": "stdout"
        },
        {
          "output_type": "stream",
          "text": [
            "\r27it [26:21, 59.10s/it]"
          ],
          "name": "stderr"
        },
        {
          "output_type": "stream",
          "text": [
            "\rtrain batch [27/41]: loss 0.48925185203552246"
          ],
          "name": "stdout"
        },
        {
          "output_type": "stream",
          "text": [
            "\r28it [27:21, 59.19s/it]"
          ],
          "name": "stderr"
        },
        {
          "output_type": "stream",
          "text": [
            "\rtrain batch [28/41]: loss 0.40726709365844727"
          ],
          "name": "stdout"
        },
        {
          "output_type": "stream",
          "text": [
            "\r29it [28:16, 58.14s/it]"
          ],
          "name": "stderr"
        },
        {
          "output_type": "stream",
          "text": [
            "\rtrain batch [29/41]: loss 0.44571685791015625"
          ],
          "name": "stdout"
        },
        {
          "output_type": "stream",
          "text": [
            "\r30it [29:12, 57.25s/it]"
          ],
          "name": "stderr"
        },
        {
          "output_type": "stream",
          "text": [
            "\rtrain batch [30/41]: loss 0.4128358066082001"
          ],
          "name": "stdout"
        },
        {
          "output_type": "stream",
          "text": [
            "\r31it [30:08, 56.95s/it]"
          ],
          "name": "stderr"
        },
        {
          "output_type": "stream",
          "text": [
            "\rtrain batch [31/41]: loss 0.43659675121307373"
          ],
          "name": "stdout"
        },
        {
          "output_type": "stream",
          "text": [
            "\r32it [31:03, 56.37s/it]"
          ],
          "name": "stderr"
        },
        {
          "output_type": "stream",
          "text": [
            "\rtrain batch [32/41]: loss 0.47096389532089233"
          ],
          "name": "stdout"
        },
        {
          "output_type": "stream",
          "text": [
            "\r33it [32:01, 56.77s/it]"
          ],
          "name": "stderr"
        },
        {
          "output_type": "stream",
          "text": [
            "\rtrain batch [33/41]: loss 0.42241135239601135"
          ],
          "name": "stdout"
        },
        {
          "output_type": "stream",
          "text": [
            "\r34it [32:56, 56.41s/it]"
          ],
          "name": "stderr"
        },
        {
          "output_type": "stream",
          "text": [
            "\rtrain batch [34/41]: loss 0.4322736859321594"
          ],
          "name": "stdout"
        },
        {
          "output_type": "stream",
          "text": [
            "\r35it [33:53, 56.46s/it]"
          ],
          "name": "stderr"
        },
        {
          "output_type": "stream",
          "text": [
            "\rtrain batch [35/41]: loss 0.3865969479084015"
          ],
          "name": "stdout"
        },
        {
          "output_type": "stream",
          "text": [
            "\r36it [34:50, 56.69s/it]"
          ],
          "name": "stderr"
        },
        {
          "output_type": "stream",
          "text": [
            "\rtrain batch [36/41]: loss 0.42817866802215576"
          ],
          "name": "stdout"
        },
        {
          "output_type": "stream",
          "text": [
            "\r37it [35:46, 56.54s/it]"
          ],
          "name": "stderr"
        },
        {
          "output_type": "stream",
          "text": [
            "\rtrain batch [37/41]: loss 0.39218705892562866"
          ],
          "name": "stdout"
        },
        {
          "output_type": "stream",
          "text": [
            "\r38it [36:42, 56.24s/it]"
          ],
          "name": "stderr"
        },
        {
          "output_type": "stream",
          "text": [
            "\rtrain batch [38/41]: loss 0.4578069746494293"
          ],
          "name": "stdout"
        },
        {
          "output_type": "stream",
          "text": [
            "\r39it [37:38, 56.35s/it]"
          ],
          "name": "stderr"
        },
        {
          "output_type": "stream",
          "text": [
            "\rtrain batch [39/41]: loss 0.45287156105041504"
          ],
          "name": "stdout"
        },
        {
          "output_type": "stream",
          "text": [
            "\r40it [38:34, 56.19s/it]"
          ],
          "name": "stderr"
        },
        {
          "output_type": "stream",
          "text": [
            "\rtrain batch [40/41]: loss 0.5318423509597778"
          ],
          "name": "stdout"
        },
        {
          "output_type": "stream",
          "text": [
            "41it [39:15, 57.45s/it]\n"
          ],
          "name": "stderr"
        },
        {
          "output_type": "stream",
          "text": [
            "val batch [3/4]: loss 0.1673165261745453"
          ],
          "name": "stdout"
        },
        {
          "output_type": "stream",
          "text": [
            "\r0it [00:00, ?it/s]"
          ],
          "name": "stderr"
        },
        {
          "output_type": "stream",
          "text": [
            "\n",
            "Train loss: 0.4651927053928375, Train accuracy: 0.7737730145454407\n",
            "Val loss: 1.1861552745103836, Val accuracy: 0.5\n",
            "\n",
            "=============== Epoch: 1\n",
            "train batch [0/41]: loss 0.4227462112903595"
          ],
          "name": "stdout"
        },
        {
          "output_type": "stream",
          "text": [
            "\r1it [00:12, 12.78s/it]"
          ],
          "name": "stderr"
        },
        {
          "output_type": "stream",
          "text": [
            "\rtrain batch [1/41]: loss 0.403518944978714"
          ],
          "name": "stdout"
        },
        {
          "output_type": "stream",
          "text": [
            "\r2it [00:25, 12.77s/it]"
          ],
          "name": "stderr"
        },
        {
          "output_type": "stream",
          "text": [
            "\rtrain batch [2/41]: loss 0.4801218509674072"
          ],
          "name": "stdout"
        },
        {
          "output_type": "stream",
          "text": [
            "\r3it [00:38, 12.90s/it]"
          ],
          "name": "stderr"
        },
        {
          "output_type": "stream",
          "text": [
            "\rtrain batch [3/41]: loss 0.44383522868156433"
          ],
          "name": "stdout"
        },
        {
          "output_type": "stream",
          "text": [
            "\r4it [00:51, 12.91s/it]"
          ],
          "name": "stderr"
        },
        {
          "output_type": "stream",
          "text": [
            "\rtrain batch [4/41]: loss 0.42503270506858826"
          ],
          "name": "stdout"
        },
        {
          "output_type": "stream",
          "text": [
            "\r5it [01:04, 13.01s/it]"
          ],
          "name": "stderr"
        },
        {
          "output_type": "stream",
          "text": [
            "\rtrain batch [5/41]: loss 0.4927171766757965"
          ],
          "name": "stdout"
        },
        {
          "output_type": "stream",
          "text": [
            "\r6it [01:18, 13.10s/it]"
          ],
          "name": "stderr"
        },
        {
          "output_type": "stream",
          "text": [
            "\rtrain batch [6/41]: loss 0.45999252796173096"
          ],
          "name": "stdout"
        },
        {
          "output_type": "stream",
          "text": [
            "\r7it [01:31, 13.18s/it]"
          ],
          "name": "stderr"
        },
        {
          "output_type": "stream",
          "text": [
            "\rtrain batch [7/41]: loss 0.4081496000289917"
          ],
          "name": "stdout"
        },
        {
          "output_type": "stream",
          "text": [
            "\r8it [01:44, 13.23s/it]"
          ],
          "name": "stderr"
        },
        {
          "output_type": "stream",
          "text": [
            "\rtrain batch [8/41]: loss 0.41949641704559326"
          ],
          "name": "stdout"
        },
        {
          "output_type": "stream",
          "text": [
            "\r9it [01:58, 13.31s/it]"
          ],
          "name": "stderr"
        },
        {
          "output_type": "stream",
          "text": [
            "\rtrain batch [9/41]: loss 0.4298665225505829"
          ],
          "name": "stdout"
        },
        {
          "output_type": "stream",
          "text": [
            "\r10it [02:11, 13.37s/it]"
          ],
          "name": "stderr"
        },
        {
          "output_type": "stream",
          "text": [
            "\rtrain batch [10/41]: loss 0.43535315990448"
          ],
          "name": "stdout"
        },
        {
          "output_type": "stream",
          "text": [
            "\r11it [02:25, 13.36s/it]"
          ],
          "name": "stderr"
        },
        {
          "output_type": "stream",
          "text": [
            "\rtrain batch [11/41]: loss 0.5064908266067505"
          ],
          "name": "stdout"
        },
        {
          "output_type": "stream",
          "text": [
            "\r12it [02:38, 13.43s/it]"
          ],
          "name": "stderr"
        },
        {
          "output_type": "stream",
          "text": [
            "\rtrain batch [12/41]: loss 0.44051602482795715"
          ],
          "name": "stdout"
        },
        {
          "output_type": "stream",
          "text": [
            "\r13it [02:52, 13.47s/it]"
          ],
          "name": "stderr"
        },
        {
          "output_type": "stream",
          "text": [
            "\rtrain batch [13/41]: loss 0.46585744619369507"
          ],
          "name": "stdout"
        },
        {
          "output_type": "stream",
          "text": [
            "\r14it [03:06, 13.50s/it]"
          ],
          "name": "stderr"
        },
        {
          "output_type": "stream",
          "text": [
            "\rtrain batch [14/41]: loss 0.3981253504753113"
          ],
          "name": "stdout"
        },
        {
          "output_type": "stream",
          "text": [
            "\r15it [03:19, 13.54s/it]"
          ],
          "name": "stderr"
        },
        {
          "output_type": "stream",
          "text": [
            "\rtrain batch [15/41]: loss 0.3828109800815582"
          ],
          "name": "stdout"
        },
        {
          "output_type": "stream",
          "text": [
            "\r16it [03:33, 13.58s/it]"
          ],
          "name": "stderr"
        },
        {
          "output_type": "stream",
          "text": [
            "\rtrain batch [16/41]: loss 0.4526940584182739"
          ],
          "name": "stdout"
        },
        {
          "output_type": "stream",
          "text": [
            "\r17it [03:46, 13.53s/it]"
          ],
          "name": "stderr"
        },
        {
          "output_type": "stream",
          "text": [
            "\rtrain batch [17/41]: loss 0.4671397805213928"
          ],
          "name": "stdout"
        },
        {
          "output_type": "stream",
          "text": [
            "\r18it [04:00, 13.57s/it]"
          ],
          "name": "stderr"
        },
        {
          "output_type": "stream",
          "text": [
            "\rtrain batch [18/41]: loss 0.36645761132240295"
          ],
          "name": "stdout"
        },
        {
          "output_type": "stream",
          "text": [
            "\r19it [04:13, 13.52s/it]"
          ],
          "name": "stderr"
        },
        {
          "output_type": "stream",
          "text": [
            "\rtrain batch [19/41]: loss 0.4511561691761017"
          ],
          "name": "stdout"
        },
        {
          "output_type": "stream",
          "text": [
            "\r20it [04:27, 13.55s/it]"
          ],
          "name": "stderr"
        },
        {
          "output_type": "stream",
          "text": [
            "\rtrain batch [20/41]: loss 0.46244120597839355"
          ],
          "name": "stdout"
        },
        {
          "output_type": "stream",
          "text": [
            "\r21it [04:41, 13.59s/it]"
          ],
          "name": "stderr"
        },
        {
          "output_type": "stream",
          "text": [
            "\rtrain batch [21/41]: loss 0.43658018112182617"
          ],
          "name": "stdout"
        },
        {
          "output_type": "stream",
          "text": [
            "\r22it [04:54, 13.58s/it]"
          ],
          "name": "stderr"
        },
        {
          "output_type": "stream",
          "text": [
            "\rtrain batch [22/41]: loss 0.44276294112205505"
          ],
          "name": "stdout"
        },
        {
          "output_type": "stream",
          "text": [
            "\r23it [05:08, 13.61s/it]"
          ],
          "name": "stderr"
        },
        {
          "output_type": "stream",
          "text": [
            "\rtrain batch [23/41]: loss 0.40508291125297546"
          ],
          "name": "stdout"
        },
        {
          "output_type": "stream",
          "text": [
            "\r24it [05:21, 13.55s/it]"
          ],
          "name": "stderr"
        },
        {
          "output_type": "stream",
          "text": [
            "\rtrain batch [24/41]: loss 0.39682814478874207"
          ],
          "name": "stdout"
        },
        {
          "output_type": "stream",
          "text": [
            "\r25it [05:35, 13.55s/it]"
          ],
          "name": "stderr"
        },
        {
          "output_type": "stream",
          "text": [
            "\rtrain batch [25/41]: loss 0.41769468784332275"
          ],
          "name": "stdout"
        },
        {
          "output_type": "stream",
          "text": [
            "\r26it [05:48, 13.57s/it]"
          ],
          "name": "stderr"
        },
        {
          "output_type": "stream",
          "text": [
            "\rtrain batch [26/41]: loss 0.4457129240036011"
          ],
          "name": "stdout"
        },
        {
          "output_type": "stream",
          "text": [
            "\r27it [06:02, 13.68s/it]"
          ],
          "name": "stderr"
        },
        {
          "output_type": "stream",
          "text": [
            "\rtrain batch [27/41]: loss 0.40366512537002563"
          ],
          "name": "stdout"
        },
        {
          "output_type": "stream",
          "text": [
            "\r28it [06:16, 13.69s/it]"
          ],
          "name": "stderr"
        },
        {
          "output_type": "stream",
          "text": [
            "\rtrain batch [28/41]: loss 0.3428070545196533"
          ],
          "name": "stdout"
        },
        {
          "output_type": "stream",
          "text": [
            "\r29it [06:30, 13.63s/it]"
          ],
          "name": "stderr"
        },
        {
          "output_type": "stream",
          "text": [
            "\rtrain batch [29/41]: loss 0.37467002868652344"
          ],
          "name": "stdout"
        },
        {
          "output_type": "stream",
          "text": [
            "\r30it [06:43, 13.70s/it]"
          ],
          "name": "stderr"
        },
        {
          "output_type": "stream",
          "text": [
            "\rtrain batch [30/41]: loss 0.38754376769065857"
          ],
          "name": "stdout"
        },
        {
          "output_type": "stream",
          "text": [
            "\r31it [06:57, 13.73s/it]"
          ],
          "name": "stderr"
        },
        {
          "output_type": "stream",
          "text": [
            "\rtrain batch [31/41]: loss 0.3825412392616272"
          ],
          "name": "stdout"
        },
        {
          "output_type": "stream",
          "text": [
            "\r32it [07:11, 13.76s/it]"
          ],
          "name": "stderr"
        },
        {
          "output_type": "stream",
          "text": [
            "\rtrain batch [32/41]: loss 0.4105771780014038"
          ],
          "name": "stdout"
        },
        {
          "output_type": "stream",
          "text": [
            "\r33it [07:25, 13.82s/it]"
          ],
          "name": "stderr"
        },
        {
          "output_type": "stream",
          "text": [
            "\rtrain batch [33/41]: loss 0.37556982040405273"
          ],
          "name": "stdout"
        },
        {
          "output_type": "stream",
          "text": [
            "\r34it [07:39, 13.74s/it]"
          ],
          "name": "stderr"
        },
        {
          "output_type": "stream",
          "text": [
            "\rtrain batch [34/41]: loss 0.4150824546813965"
          ],
          "name": "stdout"
        },
        {
          "output_type": "stream",
          "text": [
            "\r35it [07:52, 13.78s/it]"
          ],
          "name": "stderr"
        },
        {
          "output_type": "stream",
          "text": [
            "\rtrain batch [35/41]: loss 0.5063139200210571"
          ],
          "name": "stdout"
        },
        {
          "output_type": "stream",
          "text": [
            "\r36it [08:07, 13.89s/it]"
          ],
          "name": "stderr"
        },
        {
          "output_type": "stream",
          "text": [
            "\rtrain batch [36/41]: loss 0.3330981135368347"
          ],
          "name": "stdout"
        },
        {
          "output_type": "stream",
          "text": [
            "\r37it [08:20, 13.84s/it]"
          ],
          "name": "stderr"
        },
        {
          "output_type": "stream",
          "text": [
            "\rtrain batch [37/41]: loss 0.36922526359558105"
          ],
          "name": "stdout"
        },
        {
          "output_type": "stream",
          "text": [
            "\r38it [08:34, 13.83s/it]"
          ],
          "name": "stderr"
        },
        {
          "output_type": "stream",
          "text": [
            "\rtrain batch [38/41]: loss 0.37237197160720825"
          ],
          "name": "stdout"
        },
        {
          "output_type": "stream",
          "text": [
            "\r39it [08:48, 13.82s/it]"
          ],
          "name": "stderr"
        },
        {
          "output_type": "stream",
          "text": [
            "\rtrain batch [39/41]: loss 0.4846045970916748"
          ],
          "name": "stdout"
        },
        {
          "output_type": "stream",
          "text": [
            "\r40it [09:02, 13.84s/it]"
          ],
          "name": "stderr"
        },
        {
          "output_type": "stream",
          "text": [
            "\rtrain batch [40/41]: loss 0.3908742666244507"
          ],
          "name": "stdout"
        },
        {
          "output_type": "stream",
          "text": [
            "41it [09:12, 13.48s/it]"
          ],
          "name": "stderr"
        },
        {
          "output_type": "stream",
          "text": [
            "\rval batch [0/4]: loss 1.4225773811340332"
          ],
          "name": "stdout"
        },
        {
          "output_type": "stream",
          "text": [
            "\n"
          ],
          "name": "stderr"
        },
        {
          "output_type": "stream",
          "text": [
            "val batch [3/4]: loss 0.21604306995868683\n",
            "Train loss: 0.42214942487274726, Train accuracy: 0.772430956363678\n",
            "Val loss: 0.8262079693377018, Val accuracy: 0.5\n",
            "\n"
          ],
          "name": "stdout"
        },
        {
          "output_type": "stream",
          "text": [
            "\r0it [00:00, ?it/s]"
          ],
          "name": "stderr"
        },
        {
          "output_type": "stream",
          "text": [
            "=============== Epoch: 2\n",
            "train batch [0/41]: loss 0.3679295778274536"
          ],
          "name": "stdout"
        },
        {
          "output_type": "stream",
          "text": [
            "\r1it [00:13, 13.53s/it]"
          ],
          "name": "stderr"
        },
        {
          "output_type": "stream",
          "text": [
            "\rtrain batch [1/41]: loss 0.3508821725845337"
          ],
          "name": "stdout"
        },
        {
          "output_type": "stream",
          "text": [
            "\r2it [00:27, 13.55s/it]"
          ],
          "name": "stderr"
        },
        {
          "output_type": "stream",
          "text": [
            "\rtrain batch [2/41]: loss 0.4333072006702423"
          ],
          "name": "stdout"
        },
        {
          "output_type": "stream",
          "text": [
            "\r3it [00:40, 13.62s/it]"
          ],
          "name": "stderr"
        },
        {
          "output_type": "stream",
          "text": [
            "\rtrain batch [3/41]: loss 0.37994372844696045"
          ],
          "name": "stdout"
        },
        {
          "output_type": "stream",
          "text": [
            "\r4it [00:54, 13.63s/it]"
          ],
          "name": "stderr"
        },
        {
          "output_type": "stream",
          "text": [
            "\rtrain batch [4/41]: loss 0.49142590165138245"
          ],
          "name": "stdout"
        },
        {
          "output_type": "stream",
          "text": [
            "\r5it [01:08, 13.76s/it]"
          ],
          "name": "stderr"
        },
        {
          "output_type": "stream",
          "text": [
            "\rtrain batch [5/41]: loss 0.3706475496292114"
          ],
          "name": "stdout"
        },
        {
          "output_type": "stream",
          "text": [
            "\r6it [01:22, 13.75s/it]"
          ],
          "name": "stderr"
        },
        {
          "output_type": "stream",
          "text": [
            "\rtrain batch [6/41]: loss 0.407882422208786"
          ],
          "name": "stdout"
        },
        {
          "output_type": "stream",
          "text": [
            "\r7it [01:36, 13.76s/it]"
          ],
          "name": "stderr"
        },
        {
          "output_type": "stream",
          "text": [
            "\rtrain batch [7/41]: loss 0.3987915515899658"
          ],
          "name": "stdout"
        },
        {
          "output_type": "stream",
          "text": [
            "\r8it [01:49, 13.70s/it]"
          ],
          "name": "stderr"
        },
        {
          "output_type": "stream",
          "text": [
            "\rtrain batch [8/41]: loss 0.4228290021419525"
          ],
          "name": "stdout"
        },
        {
          "output_type": "stream",
          "text": [
            "\r9it [02:03, 13.77s/it]"
          ],
          "name": "stderr"
        },
        {
          "output_type": "stream",
          "text": [
            "\rtrain batch [9/41]: loss 0.42815738916397095"
          ],
          "name": "stdout"
        },
        {
          "output_type": "stream",
          "text": [
            "\r10it [02:17, 13.82s/it]"
          ],
          "name": "stderr"
        },
        {
          "output_type": "stream",
          "text": [
            "\rtrain batch [10/41]: loss 0.39787954092025757"
          ],
          "name": "stdout"
        },
        {
          "output_type": "stream",
          "text": [
            "\r11it [02:31, 13.80s/it]"
          ],
          "name": "stderr"
        },
        {
          "output_type": "stream",
          "text": [
            "\rtrain batch [11/41]: loss 0.43442291021347046"
          ],
          "name": "stdout"
        },
        {
          "output_type": "stream",
          "text": [
            "\r12it [02:45, 13.80s/it]"
          ],
          "name": "stderr"
        },
        {
          "output_type": "stream",
          "text": [
            "\rtrain batch [12/41]: loss 0.354279100894928"
          ],
          "name": "stdout"
        },
        {
          "output_type": "stream",
          "text": [
            "\r13it [02:58, 13.77s/it]"
          ],
          "name": "stderr"
        },
        {
          "output_type": "stream",
          "text": [
            "\rtrain batch [13/41]: loss 0.40936610102653503"
          ],
          "name": "stdout"
        },
        {
          "output_type": "stream",
          "text": [
            "\r14it [03:12, 13.78s/it]"
          ],
          "name": "stderr"
        },
        {
          "output_type": "stream",
          "text": [
            "\rtrain batch [14/41]: loss 0.4001537561416626"
          ],
          "name": "stdout"
        },
        {
          "output_type": "stream",
          "text": [
            "\r15it [03:26, 13.76s/it]"
          ],
          "name": "stderr"
        },
        {
          "output_type": "stream",
          "text": [
            "\rtrain batch [15/41]: loss 0.3820340633392334"
          ],
          "name": "stdout"
        },
        {
          "output_type": "stream",
          "text": [
            "\r16it [03:40, 13.80s/it]"
          ],
          "name": "stderr"
        },
        {
          "output_type": "stream",
          "text": [
            "\rtrain batch [16/41]: loss 0.39943844079971313"
          ],
          "name": "stdout"
        },
        {
          "output_type": "stream",
          "text": [
            "\r17it [03:54, 13.80s/it]"
          ],
          "name": "stderr"
        },
        {
          "output_type": "stream",
          "text": [
            "\rtrain batch [17/41]: loss 0.4686158299446106"
          ],
          "name": "stdout"
        },
        {
          "output_type": "stream",
          "text": [
            "\r18it [04:08, 13.89s/it]"
          ],
          "name": "stderr"
        },
        {
          "output_type": "stream",
          "text": [
            "\rtrain batch [18/41]: loss 0.3905831575393677"
          ],
          "name": "stdout"
        },
        {
          "output_type": "stream",
          "text": [
            "\r19it [04:22, 13.89s/it]"
          ],
          "name": "stderr"
        },
        {
          "output_type": "stream",
          "text": [
            "\rtrain batch [19/41]: loss 0.30181974172592163"
          ],
          "name": "stdout"
        },
        {
          "output_type": "stream",
          "text": [
            "\r20it [04:35, 13.77s/it]"
          ],
          "name": "stderr"
        },
        {
          "output_type": "stream",
          "text": [
            "\rtrain batch [20/41]: loss 0.4266434609889984"
          ],
          "name": "stdout"
        },
        {
          "output_type": "stream",
          "text": [
            "\r21it [04:49, 13.82s/it]"
          ],
          "name": "stderr"
        },
        {
          "output_type": "stream",
          "text": [
            "\rtrain batch [21/41]: loss 0.37217283248901367"
          ],
          "name": "stdout"
        },
        {
          "output_type": "stream",
          "text": [
            "\r22it [05:03, 13.83s/it]"
          ],
          "name": "stderr"
        },
        {
          "output_type": "stream",
          "text": [
            "\rtrain batch [22/41]: loss 0.35648906230926514"
          ],
          "name": "stdout"
        },
        {
          "output_type": "stream",
          "text": [
            "\r23it [05:17, 13.81s/it]"
          ],
          "name": "stderr"
        },
        {
          "output_type": "stream",
          "text": [
            "\rtrain batch [23/41]: loss 0.396267831325531"
          ],
          "name": "stdout"
        },
        {
          "output_type": "stream",
          "text": [
            "\r24it [05:30, 13.78s/it]"
          ],
          "name": "stderr"
        },
        {
          "output_type": "stream",
          "text": [
            "\rtrain batch [24/41]: loss 0.44003981351852417"
          ],
          "name": "stdout"
        },
        {
          "output_type": "stream",
          "text": [
            "\r25it [05:44, 13.79s/it]"
          ],
          "name": "stderr"
        },
        {
          "output_type": "stream",
          "text": [
            "\rtrain batch [25/41]: loss 0.38761603832244873"
          ],
          "name": "stdout"
        },
        {
          "output_type": "stream",
          "text": [
            "\r26it [05:58, 13.81s/it]"
          ],
          "name": "stderr"
        },
        {
          "output_type": "stream",
          "text": [
            "\rtrain batch [26/41]: loss 0.392900675535202"
          ],
          "name": "stdout"
        },
        {
          "output_type": "stream",
          "text": [
            "\r27it [06:12, 13.82s/it]"
          ],
          "name": "stderr"
        },
        {
          "output_type": "stream",
          "text": [
            "\rtrain batch [27/41]: loss 0.49932345747947693"
          ],
          "name": "stdout"
        },
        {
          "output_type": "stream",
          "text": [
            "\r28it [06:26, 13.87s/it]"
          ],
          "name": "stderr"
        },
        {
          "output_type": "stream",
          "text": [
            "\rtrain batch [28/41]: loss 0.3977842926979065"
          ],
          "name": "stdout"
        },
        {
          "output_type": "stream",
          "text": [
            "\r29it [06:40, 13.84s/it]"
          ],
          "name": "stderr"
        },
        {
          "output_type": "stream",
          "text": [
            "\rtrain batch [29/41]: loss 0.38883450627326965"
          ],
          "name": "stdout"
        },
        {
          "output_type": "stream",
          "text": [
            "\r30it [06:53, 13.85s/it]"
          ],
          "name": "stderr"
        },
        {
          "output_type": "stream",
          "text": [
            "\rtrain batch [30/41]: loss 0.4430917203426361"
          ],
          "name": "stdout"
        },
        {
          "output_type": "stream",
          "text": [
            "\r31it [07:07, 13.89s/it]"
          ],
          "name": "stderr"
        },
        {
          "output_type": "stream",
          "text": [
            "\rtrain batch [31/41]: loss 0.3804715573787689"
          ],
          "name": "stdout"
        },
        {
          "output_type": "stream",
          "text": [
            "\r32it [07:21, 13.84s/it]"
          ],
          "name": "stderr"
        },
        {
          "output_type": "stream",
          "text": [
            "\rtrain batch [32/41]: loss 0.42262178659439087"
          ],
          "name": "stdout"
        },
        {
          "output_type": "stream",
          "text": [
            "\r33it [07:35, 13.87s/it]"
          ],
          "name": "stderr"
        },
        {
          "output_type": "stream",
          "text": [
            "\rtrain batch [33/41]: loss 0.3531225919723511"
          ],
          "name": "stdout"
        },
        {
          "output_type": "stream",
          "text": [
            "\r34it [07:49, 13.85s/it]"
          ],
          "name": "stderr"
        },
        {
          "output_type": "stream",
          "text": [
            "\rtrain batch [34/41]: loss 0.4127082824707031"
          ],
          "name": "stdout"
        },
        {
          "output_type": "stream",
          "text": [
            "\r35it [08:03, 13.92s/it]"
          ],
          "name": "stderr"
        },
        {
          "output_type": "stream",
          "text": [
            "\rtrain batch [35/41]: loss 0.35340115427970886"
          ],
          "name": "stdout"
        },
        {
          "output_type": "stream",
          "text": [
            "\r36it [08:17, 13.84s/it]"
          ],
          "name": "stderr"
        },
        {
          "output_type": "stream",
          "text": [
            "\rtrain batch [36/41]: loss 0.3185214400291443"
          ],
          "name": "stdout"
        },
        {
          "output_type": "stream",
          "text": [
            "\r37it [08:30, 13.80s/it]"
          ],
          "name": "stderr"
        },
        {
          "output_type": "stream",
          "text": [
            "\rtrain batch [37/41]: loss 0.34288161993026733"
          ],
          "name": "stdout"
        },
        {
          "output_type": "stream",
          "text": [
            "\r38it [08:44, 13.73s/it]"
          ],
          "name": "stderr"
        },
        {
          "output_type": "stream",
          "text": [
            "\rtrain batch [38/41]: loss 0.4208032786846161"
          ],
          "name": "stdout"
        },
        {
          "output_type": "stream",
          "text": [
            "\r39it [08:58, 13.77s/it]"
          ],
          "name": "stderr"
        },
        {
          "output_type": "stream",
          "text": [
            "\rtrain batch [39/41]: loss 0.3804727792739868"
          ],
          "name": "stdout"
        },
        {
          "output_type": "stream",
          "text": [
            "\r40it [09:12, 13.78s/it]"
          ],
          "name": "stderr"
        },
        {
          "output_type": "stream",
          "text": [
            "\rtrain batch [40/41]: loss 0.4188429117202759"
          ],
          "name": "stdout"
        },
        {
          "output_type": "stream",
          "text": [
            "41it [09:22, 13.72s/it]"
          ],
          "name": "stderr"
        },
        {
          "output_type": "stream",
          "text": [
            "\rval batch [0/4]: loss 1.487349510192871"
          ],
          "name": "stdout"
        },
        {
          "output_type": "stream",
          "text": [
            "\n"
          ],
          "name": "stderr"
        },
        {
          "output_type": "stream",
          "text": [
            "val batch [3/4]: loss 0.15484799444675446"
          ],
          "name": "stdout"
        },
        {
          "output_type": "stream",
          "text": [
            "\r0it [00:00, ?it/s]"
          ],
          "name": "stderr"
        },
        {
          "output_type": "stream",
          "text": [
            "\n",
            "Train loss: 0.39744878760198266, Train accuracy: 0.7670628428459167\n",
            "Val loss: 0.8574457503855228, Val accuracy: 0.5\n",
            "\n",
            "=============== Epoch: 3\n",
            "train batch [0/41]: loss 0.39652109146118164"
          ],
          "name": "stdout"
        },
        {
          "output_type": "stream",
          "text": [
            "\r1it [00:13, 13.88s/it]"
          ],
          "name": "stderr"
        },
        {
          "output_type": "stream",
          "text": [
            "\rtrain batch [1/41]: loss 0.3883753716945648"
          ],
          "name": "stdout"
        },
        {
          "output_type": "stream",
          "text": [
            "\r2it [00:27, 13.91s/it]"
          ],
          "name": "stderr"
        },
        {
          "output_type": "stream",
          "text": [
            "\rtrain batch [2/41]: loss 0.4018624424934387"
          ],
          "name": "stdout"
        },
        {
          "output_type": "stream",
          "text": [
            "\r3it [00:41, 13.89s/it]"
          ],
          "name": "stderr"
        },
        {
          "output_type": "stream",
          "text": [
            "\rtrain batch [3/41]: loss 0.4038742780685425"
          ],
          "name": "stdout"
        },
        {
          "output_type": "stream",
          "text": [
            "\r4it [00:55, 13.87s/it]"
          ],
          "name": "stderr"
        },
        {
          "output_type": "stream",
          "text": [
            "\rtrain batch [4/41]: loss 0.39375194907188416"
          ],
          "name": "stdout"
        },
        {
          "output_type": "stream",
          "text": [
            "\r5it [01:09, 13.82s/it]"
          ],
          "name": "stderr"
        },
        {
          "output_type": "stream",
          "text": [
            "\rtrain batch [5/41]: loss 0.34563812613487244"
          ],
          "name": "stdout"
        },
        {
          "output_type": "stream",
          "text": [
            "\r6it [01:22, 13.78s/it]"
          ],
          "name": "stderr"
        },
        {
          "output_type": "stream",
          "text": [
            "\rtrain batch [6/41]: loss 0.36536121368408203"
          ],
          "name": "stdout"
        },
        {
          "output_type": "stream",
          "text": [
            "\r7it [01:36, 13.75s/it]"
          ],
          "name": "stderr"
        },
        {
          "output_type": "stream",
          "text": [
            "\rtrain batch [7/41]: loss 0.3861069679260254"
          ],
          "name": "stdout"
        },
        {
          "output_type": "stream",
          "text": [
            "\r8it [01:50, 13.75s/it]"
          ],
          "name": "stderr"
        },
        {
          "output_type": "stream",
          "text": [
            "\rtrain batch [8/41]: loss 0.37626731395721436"
          ],
          "name": "stdout"
        },
        {
          "output_type": "stream",
          "text": [
            "\r9it [02:04, 13.76s/it]"
          ],
          "name": "stderr"
        },
        {
          "output_type": "stream",
          "text": [
            "\rtrain batch [9/41]: loss 0.4850059449672699"
          ],
          "name": "stdout"
        },
        {
          "output_type": "stream",
          "text": [
            "\r10it [02:18, 13.83s/it]"
          ],
          "name": "stderr"
        },
        {
          "output_type": "stream",
          "text": [
            "\rtrain batch [10/41]: loss 0.3893703818321228"
          ],
          "name": "stdout"
        },
        {
          "output_type": "stream",
          "text": [
            "\r11it [02:31, 13.79s/it]"
          ],
          "name": "stderr"
        },
        {
          "output_type": "stream",
          "text": [
            "\rtrain batch [11/41]: loss 0.3669098913669586"
          ],
          "name": "stdout"
        },
        {
          "output_type": "stream",
          "text": [
            "\r12it [02:45, 13.77s/it]"
          ],
          "name": "stderr"
        },
        {
          "output_type": "stream",
          "text": [
            "\rtrain batch [12/41]: loss 0.3869383633136749"
          ],
          "name": "stdout"
        },
        {
          "output_type": "stream",
          "text": [
            "\r13it [02:59, 13.81s/it]"
          ],
          "name": "stderr"
        },
        {
          "output_type": "stream",
          "text": [
            "\rtrain batch [13/41]: loss 0.4510732889175415"
          ],
          "name": "stdout"
        },
        {
          "output_type": "stream",
          "text": [
            "\r14it [03:13, 13.83s/it]"
          ],
          "name": "stderr"
        },
        {
          "output_type": "stream",
          "text": [
            "\rtrain batch [14/41]: loss 0.3828794062137604"
          ],
          "name": "stdout"
        },
        {
          "output_type": "stream",
          "text": [
            "\r15it [03:26, 13.77s/it]"
          ],
          "name": "stderr"
        },
        {
          "output_type": "stream",
          "text": [
            "\rtrain batch [15/41]: loss 0.3763561546802521"
          ],
          "name": "stdout"
        },
        {
          "output_type": "stream",
          "text": [
            "\r16it [03:40, 13.75s/it]"
          ],
          "name": "stderr"
        },
        {
          "output_type": "stream",
          "text": [
            "\rtrain batch [16/41]: loss 0.4334803521633148"
          ],
          "name": "stdout"
        },
        {
          "output_type": "stream",
          "text": [
            "\r17it [03:54, 13.82s/it]"
          ],
          "name": "stderr"
        },
        {
          "output_type": "stream",
          "text": [
            "\rtrain batch [17/41]: loss 0.41973328590393066"
          ],
          "name": "stdout"
        },
        {
          "output_type": "stream",
          "text": [
            "\r18it [04:08, 13.83s/it]"
          ],
          "name": "stderr"
        },
        {
          "output_type": "stream",
          "text": [
            "\rtrain batch [18/41]: loss 0.37371042370796204"
          ],
          "name": "stdout"
        },
        {
          "output_type": "stream",
          "text": [
            "\r19it [04:22, 13.81s/it]"
          ],
          "name": "stderr"
        },
        {
          "output_type": "stream",
          "text": [
            "\rtrain batch [19/41]: loss 0.42378222942352295"
          ],
          "name": "stdout"
        },
        {
          "output_type": "stream",
          "text": [
            "\r20it [04:36, 13.84s/it]"
          ],
          "name": "stderr"
        },
        {
          "output_type": "stream",
          "text": [
            "\rtrain batch [20/41]: loss 0.3968949317932129"
          ],
          "name": "stdout"
        },
        {
          "output_type": "stream",
          "text": [
            "\r21it [04:49, 13.83s/it]"
          ],
          "name": "stderr"
        },
        {
          "output_type": "stream",
          "text": [
            "\rtrain batch [21/41]: loss 0.4159439206123352"
          ],
          "name": "stdout"
        },
        {
          "output_type": "stream",
          "text": [
            "\r22it [05:04, 13.91s/it]"
          ],
          "name": "stderr"
        },
        {
          "output_type": "stream",
          "text": [
            "\rtrain batch [22/41]: loss 0.4235106408596039"
          ],
          "name": "stdout"
        },
        {
          "output_type": "stream",
          "text": [
            "\r23it [05:17, 13.88s/it]"
          ],
          "name": "stderr"
        },
        {
          "output_type": "stream",
          "text": [
            "\rtrain batch [23/41]: loss 0.4619431495666504"
          ],
          "name": "stdout"
        },
        {
          "output_type": "stream",
          "text": [
            "\r24it [05:31, 13.88s/it]"
          ],
          "name": "stderr"
        },
        {
          "output_type": "stream",
          "text": [
            "\rtrain batch [24/41]: loss 0.41830679774284363"
          ],
          "name": "stdout"
        },
        {
          "output_type": "stream",
          "text": [
            "\r25it [05:45, 13.84s/it]"
          ],
          "name": "stderr"
        },
        {
          "output_type": "stream",
          "text": [
            "\rtrain batch [25/41]: loss 0.37261131405830383"
          ],
          "name": "stdout"
        },
        {
          "output_type": "stream",
          "text": [
            "\r26it [05:59, 13.80s/it]"
          ],
          "name": "stderr"
        },
        {
          "output_type": "stream",
          "text": [
            "\rtrain batch [26/41]: loss 0.3416408598423004"
          ],
          "name": "stdout"
        },
        {
          "output_type": "stream",
          "text": [
            "\r27it [06:12, 13.77s/it]"
          ],
          "name": "stderr"
        },
        {
          "output_type": "stream",
          "text": [
            "\rtrain batch [27/41]: loss 0.3995313048362732"
          ],
          "name": "stdout"
        },
        {
          "output_type": "stream",
          "text": [
            "\r28it [06:26, 13.80s/it]"
          ],
          "name": "stderr"
        },
        {
          "output_type": "stream",
          "text": [
            "\rtrain batch [28/41]: loss 0.4657632112503052"
          ],
          "name": "stdout"
        },
        {
          "output_type": "stream",
          "text": [
            "\r29it [06:40, 13.86s/it]"
          ],
          "name": "stderr"
        },
        {
          "output_type": "stream",
          "text": [
            "\rtrain batch [29/41]: loss 0.32743939757347107"
          ],
          "name": "stdout"
        },
        {
          "output_type": "stream",
          "text": [
            "\r30it [06:54, 13.82s/it]"
          ],
          "name": "stderr"
        },
        {
          "output_type": "stream",
          "text": [
            "\rtrain batch [30/41]: loss 0.315583735704422"
          ],
          "name": "stdout"
        },
        {
          "output_type": "stream",
          "text": [
            "\r31it [07:08, 13.76s/it]"
          ],
          "name": "stderr"
        },
        {
          "output_type": "stream",
          "text": [
            "\rtrain batch [31/41]: loss 0.3643905222415924"
          ],
          "name": "stdout"
        },
        {
          "output_type": "stream",
          "text": [
            "\r32it [07:21, 13.76s/it]"
          ],
          "name": "stderr"
        },
        {
          "output_type": "stream",
          "text": [
            "\rtrain batch [32/41]: loss 0.36125022172927856"
          ],
          "name": "stdout"
        },
        {
          "output_type": "stream",
          "text": [
            "\r33it [07:35, 13.76s/it]"
          ],
          "name": "stderr"
        },
        {
          "output_type": "stream",
          "text": [
            "\rtrain batch [33/41]: loss 0.41570356488227844"
          ],
          "name": "stdout"
        },
        {
          "output_type": "stream",
          "text": [
            "\r34it [07:49, 13.83s/it]"
          ],
          "name": "stderr"
        },
        {
          "output_type": "stream",
          "text": [
            "\rtrain batch [34/41]: loss 0.35540831089019775"
          ],
          "name": "stdout"
        },
        {
          "output_type": "stream",
          "text": [
            "\r35it [08:03, 13.85s/it]"
          ],
          "name": "stderr"
        },
        {
          "output_type": "stream",
          "text": [
            "\rtrain batch [35/41]: loss 0.38856643438339233"
          ],
          "name": "stdout"
        },
        {
          "output_type": "stream",
          "text": [
            "\r36it [08:17, 13.87s/it]"
          ],
          "name": "stderr"
        },
        {
          "output_type": "stream",
          "text": [
            "\rtrain batch [36/41]: loss 0.3287399113178253"
          ],
          "name": "stdout"
        },
        {
          "output_type": "stream",
          "text": [
            "\r37it [08:31, 13.82s/it]"
          ],
          "name": "stderr"
        },
        {
          "output_type": "stream",
          "text": [
            "\rtrain batch [37/41]: loss 0.3411548137664795"
          ],
          "name": "stdout"
        },
        {
          "output_type": "stream",
          "text": [
            "\r38it [08:44, 13.75s/it]"
          ],
          "name": "stderr"
        },
        {
          "output_type": "stream",
          "text": [
            "\rtrain batch [38/41]: loss 0.435410737991333"
          ],
          "name": "stdout"
        },
        {
          "output_type": "stream",
          "text": [
            "\r39it [08:58, 13.87s/it]"
          ],
          "name": "stderr"
        },
        {
          "output_type": "stream",
          "text": [
            "\rtrain batch [39/41]: loss 0.389621376991272"
          ],
          "name": "stdout"
        },
        {
          "output_type": "stream",
          "text": [
            "\r40it [09:12, 13.82s/it]"
          ],
          "name": "stderr"
        },
        {
          "output_type": "stream",
          "text": [
            "\rtrain batch [40/41]: loss 0.3639392852783203"
          ],
          "name": "stdout"
        },
        {
          "output_type": "stream",
          "text": [
            "41it [09:23, 13.73s/it]"
          ],
          "name": "stderr"
        },
        {
          "output_type": "stream",
          "text": [
            "\rval batch [0/4]: loss 0.9735115766525269"
          ],
          "name": "stdout"
        },
        {
          "output_type": "stream",
          "text": [
            "\n"
          ],
          "name": "stderr"
        },
        {
          "output_type": "stream",
          "text": [
            "val batch [3/4]: loss 0.22788019478321075\n",
            "Train loss: 0.39098421756814167, Train accuracy: 0.7835506200790405\n",
            "Val loss: 0.5689905397593975, Val accuracy: 0.5\n",
            "\n"
          ],
          "name": "stdout"
        },
        {
          "output_type": "stream",
          "text": [
            "\r0it [00:00, ?it/s]"
          ],
          "name": "stderr"
        },
        {
          "output_type": "stream",
          "text": [
            "=============== Epoch: 4\n",
            "train batch [0/41]: loss 0.3453002870082855"
          ],
          "name": "stdout"
        },
        {
          "output_type": "stream",
          "text": [
            "\r1it [00:13, 13.83s/it]"
          ],
          "name": "stderr"
        },
        {
          "output_type": "stream",
          "text": [
            "\rtrain batch [1/41]: loss 0.41159382462501526"
          ],
          "name": "stdout"
        },
        {
          "output_type": "stream",
          "text": [
            "\r2it [00:27, 13.87s/it]"
          ],
          "name": "stderr"
        },
        {
          "output_type": "stream",
          "text": [
            "\rtrain batch [2/41]: loss 0.4011199176311493"
          ],
          "name": "stdout"
        },
        {
          "output_type": "stream",
          "text": [
            "\r3it [00:41, 13.84s/it]"
          ],
          "name": "stderr"
        },
        {
          "output_type": "stream",
          "text": [
            "\rtrain batch [3/41]: loss 0.37870967388153076"
          ],
          "name": "stdout"
        },
        {
          "output_type": "stream",
          "text": [
            "\r4it [00:55, 13.81s/it]"
          ],
          "name": "stderr"
        },
        {
          "output_type": "stream",
          "text": [
            "\rtrain batch [4/41]: loss 0.3764001727104187"
          ],
          "name": "stdout"
        },
        {
          "output_type": "stream",
          "text": [
            "\r5it [01:09, 13.79s/it]"
          ],
          "name": "stderr"
        },
        {
          "output_type": "stream",
          "text": [
            "\rtrain batch [5/41]: loss 0.3510732650756836"
          ],
          "name": "stdout"
        },
        {
          "output_type": "stream",
          "text": [
            "\r6it [01:22, 13.78s/it]"
          ],
          "name": "stderr"
        },
        {
          "output_type": "stream",
          "text": [
            "\rtrain batch [6/41]: loss 0.3767774701118469"
          ],
          "name": "stdout"
        },
        {
          "output_type": "stream",
          "text": [
            "\r7it [01:36, 13.74s/it]"
          ],
          "name": "stderr"
        },
        {
          "output_type": "stream",
          "text": [
            "\rtrain batch [7/41]: loss 0.33065932989120483"
          ],
          "name": "stdout"
        },
        {
          "output_type": "stream",
          "text": [
            "\r8it [01:50, 13.75s/it]"
          ],
          "name": "stderr"
        },
        {
          "output_type": "stream",
          "text": [
            "\rtrain batch [8/41]: loss 0.4438525438308716"
          ],
          "name": "stdout"
        },
        {
          "output_type": "stream",
          "text": [
            "\r9it [02:04, 13.81s/it]"
          ],
          "name": "stderr"
        },
        {
          "output_type": "stream",
          "text": [
            "\rtrain batch [9/41]: loss 0.3935069441795349"
          ],
          "name": "stdout"
        },
        {
          "output_type": "stream",
          "text": [
            "\r10it [02:18, 13.84s/it]"
          ],
          "name": "stderr"
        },
        {
          "output_type": "stream",
          "text": [
            "\rtrain batch [10/41]: loss 0.36962243914604187"
          ],
          "name": "stdout"
        },
        {
          "output_type": "stream",
          "text": [
            "\r11it [02:31, 13.82s/it]"
          ],
          "name": "stderr"
        },
        {
          "output_type": "stream",
          "text": [
            "\rtrain batch [11/41]: loss 0.38908299803733826"
          ],
          "name": "stdout"
        },
        {
          "output_type": "stream",
          "text": [
            "\r12it [02:45, 13.81s/it]"
          ],
          "name": "stderr"
        },
        {
          "output_type": "stream",
          "text": [
            "\rtrain batch [12/41]: loss 0.38481324911117554"
          ],
          "name": "stdout"
        },
        {
          "output_type": "stream",
          "text": [
            "\r13it [02:59, 13.79s/it]"
          ],
          "name": "stderr"
        },
        {
          "output_type": "stream",
          "text": [
            "\rtrain batch [13/41]: loss 0.3458843231201172"
          ],
          "name": "stdout"
        },
        {
          "output_type": "stream",
          "text": [
            "\r14it [03:13, 13.77s/it]"
          ],
          "name": "stderr"
        },
        {
          "output_type": "stream",
          "text": [
            "\rtrain batch [14/41]: loss 0.4534464180469513"
          ],
          "name": "stdout"
        },
        {
          "output_type": "stream",
          "text": [
            "\r15it [03:27, 13.86s/it]"
          ],
          "name": "stderr"
        },
        {
          "output_type": "stream",
          "text": [
            "\rtrain batch [15/41]: loss 0.4092538058757782"
          ],
          "name": "stdout"
        },
        {
          "output_type": "stream",
          "text": [
            "\r16it [03:41, 13.85s/it]"
          ],
          "name": "stderr"
        },
        {
          "output_type": "stream",
          "text": [
            "\rtrain batch [16/41]: loss 0.29996150732040405"
          ],
          "name": "stdout"
        },
        {
          "output_type": "stream",
          "text": [
            "\r17it [03:54, 13.77s/it]"
          ],
          "name": "stderr"
        },
        {
          "output_type": "stream",
          "text": [
            "\rtrain batch [17/41]: loss 0.30105966329574585"
          ],
          "name": "stdout"
        },
        {
          "output_type": "stream",
          "text": [
            "\r18it [04:08, 13.73s/it]"
          ],
          "name": "stderr"
        },
        {
          "output_type": "stream",
          "text": [
            "\rtrain batch [18/41]: loss 0.42940324544906616"
          ],
          "name": "stdout"
        },
        {
          "output_type": "stream",
          "text": [
            "\r19it [04:21, 13.71s/it]"
          ],
          "name": "stderr"
        },
        {
          "output_type": "stream",
          "text": [
            "\rtrain batch [19/41]: loss 0.38587358593940735"
          ],
          "name": "stdout"
        },
        {
          "output_type": "stream",
          "text": [
            "\r20it [04:35, 13.72s/it]"
          ],
          "name": "stderr"
        },
        {
          "output_type": "stream",
          "text": [
            "\rtrain batch [20/41]: loss 0.35630136728286743"
          ],
          "name": "stdout"
        },
        {
          "output_type": "stream",
          "text": [
            "\r21it [04:49, 13.70s/it]"
          ],
          "name": "stderr"
        },
        {
          "output_type": "stream",
          "text": [
            "\rtrain batch [21/41]: loss 0.3840733468532562"
          ],
          "name": "stdout"
        },
        {
          "output_type": "stream",
          "text": [
            "\r22it [05:02, 13.69s/it]"
          ],
          "name": "stderr"
        },
        {
          "output_type": "stream",
          "text": [
            "\rtrain batch [22/41]: loss 0.33834898471832275"
          ],
          "name": "stdout"
        },
        {
          "output_type": "stream",
          "text": [
            "\r23it [05:16, 13.71s/it]"
          ],
          "name": "stderr"
        },
        {
          "output_type": "stream",
          "text": [
            "\rtrain batch [23/41]: loss 0.4538586735725403"
          ],
          "name": "stdout"
        },
        {
          "output_type": "stream",
          "text": [
            "\r24it [05:30, 13.77s/it]"
          ],
          "name": "stderr"
        },
        {
          "output_type": "stream",
          "text": [
            "\rtrain batch [24/41]: loss 0.5018765330314636"
          ],
          "name": "stdout"
        },
        {
          "output_type": "stream",
          "text": [
            "\r25it [05:44, 13.82s/it]"
          ],
          "name": "stderr"
        },
        {
          "output_type": "stream",
          "text": [
            "\rtrain batch [25/41]: loss 0.46777790784835815"
          ],
          "name": "stdout"
        },
        {
          "output_type": "stream",
          "text": [
            "\r26it [05:58, 13.86s/it]"
          ],
          "name": "stderr"
        },
        {
          "output_type": "stream",
          "text": [
            "\rtrain batch [26/41]: loss 0.3979421854019165"
          ],
          "name": "stdout"
        },
        {
          "output_type": "stream",
          "text": [
            "\r27it [06:12, 13.87s/it]"
          ],
          "name": "stderr"
        },
        {
          "output_type": "stream",
          "text": [
            "\rtrain batch [27/41]: loss 0.4959093928337097"
          ],
          "name": "stdout"
        },
        {
          "output_type": "stream",
          "text": [
            "\r28it [06:26, 13.85s/it]"
          ],
          "name": "stderr"
        },
        {
          "output_type": "stream",
          "text": [
            "\rtrain batch [28/41]: loss 0.5308443307876587"
          ],
          "name": "stdout"
        },
        {
          "output_type": "stream",
          "text": [
            "\r29it [06:40, 13.89s/it]"
          ],
          "name": "stderr"
        },
        {
          "output_type": "stream",
          "text": [
            "\rtrain batch [29/41]: loss 0.45727744698524475"
          ],
          "name": "stdout"
        },
        {
          "output_type": "stream",
          "text": [
            "\r30it [06:53, 13.83s/it]"
          ],
          "name": "stderr"
        },
        {
          "output_type": "stream",
          "text": [
            "\rtrain batch [30/41]: loss 0.6142870187759399"
          ],
          "name": "stdout"
        },
        {
          "output_type": "stream",
          "text": [
            "\r31it [07:07, 13.87s/it]"
          ],
          "name": "stderr"
        },
        {
          "output_type": "stream",
          "text": [
            "\rtrain batch [31/41]: loss 0.4201357960700989"
          ],
          "name": "stdout"
        },
        {
          "output_type": "stream",
          "text": [
            "\r32it [07:21, 13.87s/it]"
          ],
          "name": "stderr"
        },
        {
          "output_type": "stream",
          "text": [
            "\rtrain batch [32/41]: loss 0.3418715298175812"
          ],
          "name": "stdout"
        },
        {
          "output_type": "stream",
          "text": [
            "\r33it [07:35, 13.85s/it]"
          ],
          "name": "stderr"
        },
        {
          "output_type": "stream",
          "text": [
            "\rtrain batch [33/41]: loss 0.4622139036655426"
          ],
          "name": "stdout"
        },
        {
          "output_type": "stream",
          "text": [
            "\r34it [07:49, 13.86s/it]"
          ],
          "name": "stderr"
        },
        {
          "output_type": "stream",
          "text": [
            "\rtrain batch [34/41]: loss 0.3991178870201111"
          ],
          "name": "stdout"
        },
        {
          "output_type": "stream",
          "text": [
            "\r35it [08:03, 13.85s/it]"
          ],
          "name": "stderr"
        },
        {
          "output_type": "stream",
          "text": [
            "\rtrain batch [35/41]: loss 0.41289591789245605"
          ],
          "name": "stdout"
        },
        {
          "output_type": "stream",
          "text": [
            "\r36it [08:16, 13.81s/it]"
          ],
          "name": "stderr"
        },
        {
          "output_type": "stream",
          "text": [
            "\rtrain batch [36/41]: loss 0.5274882912635803"
          ],
          "name": "stdout"
        },
        {
          "output_type": "stream",
          "text": [
            "\r37it [08:30, 13.85s/it]"
          ],
          "name": "stderr"
        },
        {
          "output_type": "stream",
          "text": [
            "\rtrain batch [37/41]: loss 0.3421545624732971"
          ],
          "name": "stdout"
        },
        {
          "output_type": "stream",
          "text": [
            "\r38it [08:44, 13.76s/it]"
          ],
          "name": "stderr"
        },
        {
          "output_type": "stream",
          "text": [
            "\rtrain batch [38/41]: loss 0.3543803095817566"
          ],
          "name": "stdout"
        },
        {
          "output_type": "stream",
          "text": [
            "\r39it [08:58, 13.75s/it]"
          ],
          "name": "stderr"
        },
        {
          "output_type": "stream",
          "text": [
            "\rtrain batch [39/41]: loss 0.4916929602622986"
          ],
          "name": "stdout"
        },
        {
          "output_type": "stream",
          "text": [
            "\r40it [09:12, 13.84s/it]"
          ],
          "name": "stderr"
        },
        {
          "output_type": "stream",
          "text": [
            "\rtrain batch [40/41]: loss 0.4267192780971527"
          ],
          "name": "stdout"
        },
        {
          "output_type": "stream",
          "text": [
            "41it [09:22, 13.73s/it]"
          ],
          "name": "stderr"
        },
        {
          "output_type": "stream",
          "text": [
            "\rval batch [0/4]: loss 1.5980862379074097"
          ],
          "name": "stdout"
        },
        {
          "output_type": "stream",
          "text": [
            "\n"
          ],
          "name": "stderr"
        },
        {
          "output_type": "stream",
          "text": [
            "val batch [3/4]: loss 0.11966164410114288"
          ],
          "name": "stdout"
        },
        {
          "output_type": "stream",
          "text": [
            "\r0it [00:00, ?it/s]"
          ],
          "name": "stderr"
        },
        {
          "output_type": "stream",
          "text": [
            "\n",
            "Train loss: 0.4086478585150184, Train accuracy: 0.7666794061660767\n",
            "Val loss: 0.8253123313188553, Val accuracy: 0.5\n",
            "\n",
            "=============== Epoch: 5\n",
            "train batch [0/41]: loss 0.4335612654685974"
          ],
          "name": "stdout"
        },
        {
          "output_type": "stream",
          "text": [
            "\r1it [00:13, 13.84s/it]"
          ],
          "name": "stderr"
        },
        {
          "output_type": "stream",
          "text": [
            "\rtrain batch [1/41]: loss 0.38290488719940186"
          ],
          "name": "stdout"
        },
        {
          "output_type": "stream",
          "text": [
            "\r2it [00:27, 13.85s/it]"
          ],
          "name": "stderr"
        },
        {
          "output_type": "stream",
          "text": [
            "\rtrain batch [2/41]: loss 0.3585609793663025"
          ],
          "name": "stdout"
        },
        {
          "output_type": "stream",
          "text": [
            "\r3it [00:41, 13.82s/it]"
          ],
          "name": "stderr"
        },
        {
          "output_type": "stream",
          "text": [
            "\rtrain batch [3/41]: loss 0.45560216903686523"
          ],
          "name": "stdout"
        },
        {
          "output_type": "stream",
          "text": [
            "\r4it [00:55, 13.84s/it]"
          ],
          "name": "stderr"
        },
        {
          "output_type": "stream",
          "text": [
            "\rtrain batch [4/41]: loss 0.4273976683616638"
          ],
          "name": "stdout"
        },
        {
          "output_type": "stream",
          "text": [
            "\r5it [01:09, 13.84s/it]"
          ],
          "name": "stderr"
        },
        {
          "output_type": "stream",
          "text": [
            "\rtrain batch [5/41]: loss 0.3367626667022705"
          ],
          "name": "stdout"
        },
        {
          "output_type": "stream",
          "text": [
            "\r6it [01:22, 13.81s/it]"
          ],
          "name": "stderr"
        },
        {
          "output_type": "stream",
          "text": [
            "\rtrain batch [6/41]: loss 0.33114832639694214"
          ],
          "name": "stdout"
        },
        {
          "output_type": "stream",
          "text": [
            "\r7it [01:36, 13.79s/it]"
          ],
          "name": "stderr"
        },
        {
          "output_type": "stream",
          "text": [
            "\rtrain batch [7/41]: loss 0.4534222483634949"
          ],
          "name": "stdout"
        },
        {
          "output_type": "stream",
          "text": [
            "\r8it [01:50, 13.90s/it]"
          ],
          "name": "stderr"
        },
        {
          "output_type": "stream",
          "text": [
            "\rtrain batch [8/41]: loss 0.36548808217048645"
          ],
          "name": "stdout"
        },
        {
          "output_type": "stream",
          "text": [
            "\r9it [02:04, 13.88s/it]"
          ],
          "name": "stderr"
        },
        {
          "output_type": "stream",
          "text": [
            "\rtrain batch [9/41]: loss 0.412462055683136"
          ],
          "name": "stdout"
        },
        {
          "output_type": "stream",
          "text": [
            "\r10it [02:18, 13.84s/it]"
          ],
          "name": "stderr"
        },
        {
          "output_type": "stream",
          "text": [
            "\rtrain batch [10/41]: loss 0.4455692768096924"
          ],
          "name": "stdout"
        },
        {
          "output_type": "stream",
          "text": [
            "\r11it [02:32, 13.89s/it]"
          ],
          "name": "stderr"
        },
        {
          "output_type": "stream",
          "text": [
            "\rtrain batch [11/41]: loss 0.5695635676383972"
          ],
          "name": "stdout"
        },
        {
          "output_type": "stream",
          "text": [
            "\r12it [02:46, 13.90s/it]"
          ],
          "name": "stderr"
        },
        {
          "output_type": "stream",
          "text": [
            "\rtrain batch [12/41]: loss 0.34506291151046753"
          ],
          "name": "stdout"
        },
        {
          "output_type": "stream",
          "text": [
            "\r13it [03:00, 13.87s/it]"
          ],
          "name": "stderr"
        },
        {
          "output_type": "stream",
          "text": [
            "\rtrain batch [13/41]: loss 0.34387218952178955"
          ],
          "name": "stdout"
        },
        {
          "output_type": "stream",
          "text": [
            "\r14it [03:13, 13.85s/it]"
          ],
          "name": "stderr"
        },
        {
          "output_type": "stream",
          "text": [
            "\rtrain batch [14/41]: loss 0.458884060382843"
          ],
          "name": "stdout"
        },
        {
          "output_type": "stream",
          "text": [
            "\r15it [03:27, 13.89s/it]"
          ],
          "name": "stderr"
        },
        {
          "output_type": "stream",
          "text": [
            "\rtrain batch [15/41]: loss 0.42543530464172363"
          ],
          "name": "stdout"
        },
        {
          "output_type": "stream",
          "text": [
            "\r16it [03:41, 13.90s/it]"
          ],
          "name": "stderr"
        },
        {
          "output_type": "stream",
          "text": [
            "\rtrain batch [16/41]: loss 0.5029017925262451"
          ],
          "name": "stdout"
        },
        {
          "output_type": "stream",
          "text": [
            "\r17it [03:55, 13.90s/it]"
          ],
          "name": "stderr"
        },
        {
          "output_type": "stream",
          "text": [
            "\rtrain batch [17/41]: loss 0.37917327880859375"
          ],
          "name": "stdout"
        },
        {
          "output_type": "stream",
          "text": [
            "\r18it [04:09, 13.85s/it]"
          ],
          "name": "stderr"
        },
        {
          "output_type": "stream",
          "text": [
            "\rtrain batch [18/41]: loss 0.44559189677238464"
          ],
          "name": "stdout"
        },
        {
          "output_type": "stream",
          "text": [
            "\r19it [04:23, 13.87s/it]"
          ],
          "name": "stderr"
        },
        {
          "output_type": "stream",
          "text": [
            "\rtrain batch [19/41]: loss 0.28347083926200867"
          ],
          "name": "stdout"
        },
        {
          "output_type": "stream",
          "text": [
            "\r20it [04:37, 13.81s/it]"
          ],
          "name": "stderr"
        },
        {
          "output_type": "stream",
          "text": [
            "\rtrain batch [20/41]: loss 0.4018622636795044"
          ],
          "name": "stdout"
        },
        {
          "output_type": "stream",
          "text": [
            "\r21it [04:50, 13.78s/it]"
          ],
          "name": "stderr"
        },
        {
          "output_type": "stream",
          "text": [
            "\rtrain batch [21/41]: loss 0.36442792415618896"
          ],
          "name": "stdout"
        },
        {
          "output_type": "stream",
          "text": [
            "\r22it [05:04, 13.80s/it]"
          ],
          "name": "stderr"
        },
        {
          "output_type": "stream",
          "text": [
            "\rtrain batch [22/41]: loss 0.3922303318977356"
          ],
          "name": "stdout"
        },
        {
          "output_type": "stream",
          "text": [
            "\r23it [05:18, 13.85s/it]"
          ],
          "name": "stderr"
        },
        {
          "output_type": "stream",
          "text": [
            "\rtrain batch [23/41]: loss 0.38657262921333313"
          ],
          "name": "stdout"
        },
        {
          "output_type": "stream",
          "text": [
            "\r24it [05:32, 13.81s/it]"
          ],
          "name": "stderr"
        },
        {
          "output_type": "stream",
          "text": [
            "\rtrain batch [24/41]: loss 0.36776578426361084"
          ],
          "name": "stdout"
        },
        {
          "output_type": "stream",
          "text": [
            "\r25it [05:46, 13.81s/it]"
          ],
          "name": "stderr"
        },
        {
          "output_type": "stream",
          "text": [
            "\rtrain batch [25/41]: loss 0.40597018599510193"
          ],
          "name": "stdout"
        },
        {
          "output_type": "stream",
          "text": [
            "\r26it [05:59, 13.79s/it]"
          ],
          "name": "stderr"
        },
        {
          "output_type": "stream",
          "text": [
            "\rtrain batch [26/41]: loss 0.3656500279903412"
          ],
          "name": "stdout"
        },
        {
          "output_type": "stream",
          "text": [
            "\r27it [06:13, 13.78s/it]"
          ],
          "name": "stderr"
        },
        {
          "output_type": "stream",
          "text": [
            "\rtrain batch [27/41]: loss 0.5018210411071777"
          ],
          "name": "stdout"
        },
        {
          "output_type": "stream",
          "text": [
            "\r28it [06:27, 13.83s/it]"
          ],
          "name": "stderr"
        },
        {
          "output_type": "stream",
          "text": [
            "\rtrain batch [28/41]: loss 0.40124088525772095"
          ],
          "name": "stdout"
        },
        {
          "output_type": "stream",
          "text": [
            "\r29it [06:41, 13.86s/it]"
          ],
          "name": "stderr"
        },
        {
          "output_type": "stream",
          "text": [
            "\rtrain batch [29/41]: loss 0.344086617231369"
          ],
          "name": "stdout"
        },
        {
          "output_type": "stream",
          "text": [
            "\r30it [06:55, 13.85s/it]"
          ],
          "name": "stderr"
        },
        {
          "output_type": "stream",
          "text": [
            "\rtrain batch [30/41]: loss 0.36973172426223755"
          ],
          "name": "stdout"
        },
        {
          "output_type": "stream",
          "text": [
            "\r31it [07:09, 13.87s/it]"
          ],
          "name": "stderr"
        },
        {
          "output_type": "stream",
          "text": [
            "\rtrain batch [31/41]: loss 0.3458743989467621"
          ],
          "name": "stdout"
        },
        {
          "output_type": "stream",
          "text": [
            "\r32it [07:22, 13.81s/it]"
          ],
          "name": "stderr"
        },
        {
          "output_type": "stream",
          "text": [
            "\rtrain batch [32/41]: loss 0.3659847676753998"
          ],
          "name": "stdout"
        },
        {
          "output_type": "stream",
          "text": [
            "\r33it [07:36, 13.83s/it]"
          ],
          "name": "stderr"
        },
        {
          "output_type": "stream",
          "text": [
            "\rtrain batch [33/41]: loss 0.4037381708621979"
          ],
          "name": "stdout"
        },
        {
          "output_type": "stream",
          "text": [
            "\r34it [07:50, 13.80s/it]"
          ],
          "name": "stderr"
        },
        {
          "output_type": "stream",
          "text": [
            "\rtrain batch [34/41]: loss 0.4066733717918396"
          ],
          "name": "stdout"
        },
        {
          "output_type": "stream",
          "text": [
            "\r35it [08:04, 13.79s/it]"
          ],
          "name": "stderr"
        },
        {
          "output_type": "stream",
          "text": [
            "\rtrain batch [35/41]: loss 0.45689964294433594"
          ],
          "name": "stdout"
        },
        {
          "output_type": "stream",
          "text": [
            "\r36it [08:18, 13.83s/it]"
          ],
          "name": "stderr"
        },
        {
          "output_type": "stream",
          "text": [
            "\rtrain batch [36/41]: loss 0.40026018023490906"
          ],
          "name": "stdout"
        },
        {
          "output_type": "stream",
          "text": [
            "\r37it [08:32, 13.83s/it]"
          ],
          "name": "stderr"
        },
        {
          "output_type": "stream",
          "text": [
            "\rtrain batch [37/41]: loss 0.4380686283111572"
          ],
          "name": "stdout"
        },
        {
          "output_type": "stream",
          "text": [
            "\r38it [08:45, 13.84s/it]"
          ],
          "name": "stderr"
        },
        {
          "output_type": "stream",
          "text": [
            "\rtrain batch [38/41]: loss 0.28461754322052"
          ],
          "name": "stdout"
        },
        {
          "output_type": "stream",
          "text": [
            "\r39it [08:59, 13.81s/it]"
          ],
          "name": "stderr"
        },
        {
          "output_type": "stream",
          "text": [
            "\rtrain batch [39/41]: loss 0.37802961468696594"
          ],
          "name": "stdout"
        },
        {
          "output_type": "stream",
          "text": [
            "\r40it [09:13, 13.81s/it]"
          ],
          "name": "stderr"
        },
        {
          "output_type": "stream",
          "text": [
            "\rtrain batch [40/41]: loss 0.41132164001464844"
          ],
          "name": "stdout"
        },
        {
          "output_type": "stream",
          "text": [
            "41it [09:23, 13.75s/it]"
          ],
          "name": "stderr"
        },
        {
          "output_type": "stream",
          "text": [
            "val batch [1/4]: loss 1.4566670656204224"
          ],
          "name": "stdout"
        },
        {
          "output_type": "stream",
          "text": [
            "\n"
          ],
          "name": "stderr"
        },
        {
          "output_type": "stream",
          "text": [
            "val batch [3/4]: loss 0.07402795553207397"
          ],
          "name": "stdout"
        },
        {
          "output_type": "stream",
          "text": [
            "\r0it [00:00, ?it/s]"
          ],
          "name": "stderr"
        },
        {
          "output_type": "stream",
          "text": [
            "\n",
            "Train loss: 0.39877225422277685, Train accuracy: 0.7613113522529602\n",
            "Val loss: 0.9156675711274147, Val accuracy: 0.5\n",
            "\n",
            "=============== Epoch: 6\n",
            "train batch [0/41]: loss 0.31474706530570984"
          ],
          "name": "stdout"
        },
        {
          "output_type": "stream",
          "text": [
            "\r1it [00:13, 13.76s/it]"
          ],
          "name": "stderr"
        },
        {
          "output_type": "stream",
          "text": [
            "\rtrain batch [1/41]: loss 0.3874843418598175"
          ],
          "name": "stdout"
        },
        {
          "output_type": "stream",
          "text": [
            "\r2it [00:27, 13.77s/it]"
          ],
          "name": "stderr"
        },
        {
          "output_type": "stream",
          "text": [
            "\rtrain batch [2/41]: loss 0.43640005588531494"
          ],
          "name": "stdout"
        },
        {
          "output_type": "stream",
          "text": [
            "\r3it [00:41, 13.86s/it]"
          ],
          "name": "stderr"
        },
        {
          "output_type": "stream",
          "text": [
            "\rtrain batch [3/41]: loss 0.4636878967285156"
          ],
          "name": "stdout"
        },
        {
          "output_type": "stream",
          "text": [
            "\r4it [00:55, 13.91s/it]"
          ],
          "name": "stderr"
        },
        {
          "output_type": "stream",
          "text": [
            "\rtrain batch [4/41]: loss 0.37539321184158325"
          ],
          "name": "stdout"
        },
        {
          "output_type": "stream",
          "text": [
            "\r5it [01:09, 13.84s/it]"
          ],
          "name": "stderr"
        },
        {
          "output_type": "stream",
          "text": [
            "\rtrain batch [5/41]: loss 0.3381279706954956"
          ],
          "name": "stdout"
        },
        {
          "output_type": "stream",
          "text": [
            "\r6it [01:22, 13.76s/it]"
          ],
          "name": "stderr"
        },
        {
          "output_type": "stream",
          "text": [
            "\rtrain batch [6/41]: loss 0.30483347177505493"
          ],
          "name": "stdout"
        },
        {
          "output_type": "stream",
          "text": [
            "\r7it [01:36, 13.78s/it]"
          ],
          "name": "stderr"
        },
        {
          "output_type": "stream",
          "text": [
            "\rtrain batch [7/41]: loss 0.4057310223579407"
          ],
          "name": "stdout"
        },
        {
          "output_type": "stream",
          "text": [
            "\r8it [01:50, 13.80s/it]"
          ],
          "name": "stderr"
        },
        {
          "output_type": "stream",
          "text": [
            "\rtrain batch [8/41]: loss 0.3380761444568634"
          ],
          "name": "stdout"
        },
        {
          "output_type": "stream",
          "text": [
            "\r9it [02:04, 13.80s/it]"
          ],
          "name": "stderr"
        },
        {
          "output_type": "stream",
          "text": [
            "\rtrain batch [9/41]: loss 0.3105221390724182"
          ],
          "name": "stdout"
        },
        {
          "output_type": "stream",
          "text": [
            "\r10it [02:18, 13.80s/it]"
          ],
          "name": "stderr"
        },
        {
          "output_type": "stream",
          "text": [
            "\rtrain batch [10/41]: loss 0.35456588864326477"
          ],
          "name": "stdout"
        },
        {
          "output_type": "stream",
          "text": [
            "\r11it [02:31, 13.81s/it]"
          ],
          "name": "stderr"
        },
        {
          "output_type": "stream",
          "text": [
            "\rtrain batch [11/41]: loss 0.35929566621780396"
          ],
          "name": "stdout"
        },
        {
          "output_type": "stream",
          "text": [
            "\r12it [02:45, 13.86s/it]"
          ],
          "name": "stderr"
        },
        {
          "output_type": "stream",
          "text": [
            "\rtrain batch [12/41]: loss 0.41185060143470764"
          ],
          "name": "stdout"
        },
        {
          "output_type": "stream",
          "text": [
            "\r13it [02:59, 13.84s/it]"
          ],
          "name": "stderr"
        },
        {
          "output_type": "stream",
          "text": [
            "\rtrain batch [13/41]: loss 0.3766275644302368"
          ],
          "name": "stdout"
        },
        {
          "output_type": "stream",
          "text": [
            "\r14it [03:13, 13.87s/it]"
          ],
          "name": "stderr"
        },
        {
          "output_type": "stream",
          "text": [
            "\rtrain batch [14/41]: loss 0.3783780336380005"
          ],
          "name": "stdout"
        },
        {
          "output_type": "stream",
          "text": [
            "\r15it [03:27, 13.82s/it]"
          ],
          "name": "stderr"
        },
        {
          "output_type": "stream",
          "text": [
            "\rtrain batch [15/41]: loss 0.29879581928253174"
          ],
          "name": "stdout"
        },
        {
          "output_type": "stream",
          "text": [
            "\r16it [03:41, 13.75s/it]"
          ],
          "name": "stderr"
        },
        {
          "output_type": "stream",
          "text": [
            "\rtrain batch [16/41]: loss 0.3868933916091919"
          ],
          "name": "stdout"
        },
        {
          "output_type": "stream",
          "text": [
            "\r17it [03:54, 13.78s/it]"
          ],
          "name": "stderr"
        },
        {
          "output_type": "stream",
          "text": [
            "\rtrain batch [17/41]: loss 0.33970025181770325"
          ],
          "name": "stdout"
        },
        {
          "output_type": "stream",
          "text": [
            "\r18it [04:08, 13.76s/it]"
          ],
          "name": "stderr"
        },
        {
          "output_type": "stream",
          "text": [
            "\rtrain batch [18/41]: loss 0.3615528643131256"
          ],
          "name": "stdout"
        },
        {
          "output_type": "stream",
          "text": [
            "\r19it [04:22, 13.77s/it]"
          ],
          "name": "stderr"
        },
        {
          "output_type": "stream",
          "text": [
            "\rtrain batch [19/41]: loss 0.271630197763443"
          ],
          "name": "stdout"
        },
        {
          "output_type": "stream",
          "text": [
            "\r20it [04:36, 13.80s/it]"
          ],
          "name": "stderr"
        },
        {
          "output_type": "stream",
          "text": [
            "\rtrain batch [20/41]: loss 0.39235302805900574"
          ],
          "name": "stdout"
        },
        {
          "output_type": "stream",
          "text": [
            "\r21it [04:49, 13.79s/it]"
          ],
          "name": "stderr"
        },
        {
          "output_type": "stream",
          "text": [
            "\rtrain batch [21/41]: loss 0.3934677541255951"
          ],
          "name": "stdout"
        },
        {
          "output_type": "stream",
          "text": [
            "\r22it [05:03, 13.79s/it]"
          ],
          "name": "stderr"
        },
        {
          "output_type": "stream",
          "text": [
            "\rtrain batch [22/41]: loss 0.31638258695602417"
          ],
          "name": "stdout"
        },
        {
          "output_type": "stream",
          "text": [
            "\r23it [05:17, 13.75s/it]"
          ],
          "name": "stderr"
        },
        {
          "output_type": "stream",
          "text": [
            "\rtrain batch [23/41]: loss 0.3649316132068634"
          ],
          "name": "stdout"
        },
        {
          "output_type": "stream",
          "text": [
            "\r24it [05:31, 13.75s/it]"
          ],
          "name": "stderr"
        },
        {
          "output_type": "stream",
          "text": [
            "\rtrain batch [24/41]: loss 0.4482175409793854"
          ],
          "name": "stdout"
        },
        {
          "output_type": "stream",
          "text": [
            "\r25it [05:45, 13.85s/it]"
          ],
          "name": "stderr"
        },
        {
          "output_type": "stream",
          "text": [
            "\rtrain batch [25/41]: loss 0.32845553755760193"
          ],
          "name": "stdout"
        },
        {
          "output_type": "stream",
          "text": [
            "\r26it [05:59, 13.84s/it]"
          ],
          "name": "stderr"
        },
        {
          "output_type": "stream",
          "text": [
            "\rtrain batch [26/41]: loss 0.4244382381439209"
          ],
          "name": "stdout"
        },
        {
          "output_type": "stream",
          "text": [
            "\r27it [06:12, 13.85s/it]"
          ],
          "name": "stderr"
        },
        {
          "output_type": "stream",
          "text": [
            "\rtrain batch [27/41]: loss 0.35557854175567627"
          ],
          "name": "stdout"
        },
        {
          "output_type": "stream",
          "text": [
            "\r28it [06:26, 13.83s/it]"
          ],
          "name": "stderr"
        },
        {
          "output_type": "stream",
          "text": [
            "\rtrain batch [28/41]: loss 0.3959333896636963"
          ],
          "name": "stdout"
        },
        {
          "output_type": "stream",
          "text": [
            "\r29it [06:40, 13.81s/it]"
          ],
          "name": "stderr"
        },
        {
          "output_type": "stream",
          "text": [
            "\rtrain batch [29/41]: loss 0.3376604914665222"
          ],
          "name": "stdout"
        },
        {
          "output_type": "stream",
          "text": [
            "\r30it [06:54, 13.83s/it]"
          ],
          "name": "stderr"
        },
        {
          "output_type": "stream",
          "text": [
            "\rtrain batch [30/41]: loss 0.33959734439849854"
          ],
          "name": "stdout"
        },
        {
          "output_type": "stream",
          "text": [
            "\r31it [07:08, 13.84s/it]"
          ],
          "name": "stderr"
        },
        {
          "output_type": "stream",
          "text": [
            "\rtrain batch [31/41]: loss 0.46947336196899414"
          ],
          "name": "stdout"
        },
        {
          "output_type": "stream",
          "text": [
            "\r32it [07:22, 13.90s/it]"
          ],
          "name": "stderr"
        },
        {
          "output_type": "stream",
          "text": [
            "\rtrain batch [32/41]: loss 0.37929680943489075"
          ],
          "name": "stdout"
        },
        {
          "output_type": "stream",
          "text": [
            "\r33it [07:36, 13.90s/it]"
          ],
          "name": "stderr"
        },
        {
          "output_type": "stream",
          "text": [
            "\rtrain batch [33/41]: loss 0.37469497323036194"
          ],
          "name": "stdout"
        },
        {
          "output_type": "stream",
          "text": [
            "\r34it [07:50, 13.90s/it]"
          ],
          "name": "stderr"
        },
        {
          "output_type": "stream",
          "text": [
            "\rtrain batch [34/41]: loss 0.29721641540527344"
          ],
          "name": "stdout"
        },
        {
          "output_type": "stream",
          "text": [
            "\r35it [08:03, 13.79s/it]"
          ],
          "name": "stderr"
        },
        {
          "output_type": "stream",
          "text": [
            "\rtrain batch [35/41]: loss 0.43374088406562805"
          ],
          "name": "stdout"
        },
        {
          "output_type": "stream",
          "text": [
            "\r36it [08:17, 13.81s/it]"
          ],
          "name": "stderr"
        },
        {
          "output_type": "stream",
          "text": [
            "\rtrain batch [36/41]: loss 0.39435482025146484"
          ],
          "name": "stdout"
        },
        {
          "output_type": "stream",
          "text": [
            "\r37it [08:31, 13.83s/it]"
          ],
          "name": "stderr"
        },
        {
          "output_type": "stream",
          "text": [
            "\rtrain batch [37/41]: loss 0.31604865193367004"
          ],
          "name": "stdout"
        },
        {
          "output_type": "stream",
          "text": [
            "\r38it [08:44, 13.74s/it]"
          ],
          "name": "stderr"
        },
        {
          "output_type": "stream",
          "text": [
            "\rtrain batch [38/41]: loss 0.42947161197662354"
          ],
          "name": "stdout"
        },
        {
          "output_type": "stream",
          "text": [
            "\r39it [08:58, 13.80s/it]"
          ],
          "name": "stderr"
        },
        {
          "output_type": "stream",
          "text": [
            "\rtrain batch [39/41]: loss 0.38503748178482056"
          ],
          "name": "stdout"
        },
        {
          "output_type": "stream",
          "text": [
            "\r40it [09:12, 13.77s/it]"
          ],
          "name": "stderr"
        },
        {
          "output_type": "stream",
          "text": [
            "\rtrain batch [40/41]: loss 0.36527523398399353"
          ],
          "name": "stdout"
        },
        {
          "output_type": "stream",
          "text": [
            "41it [09:23, 13.74s/it]"
          ],
          "name": "stderr"
        },
        {
          "output_type": "stream",
          "text": [
            "val batch [1/4]: loss 1.2364901304244995"
          ],
          "name": "stdout"
        },
        {
          "output_type": "stream",
          "text": [
            "\n"
          ],
          "name": "stderr"
        },
        {
          "output_type": "stream",
          "text": [
            "val batch [3/4]: loss 0.09710708260536194"
          ],
          "name": "stdout"
        },
        {
          "output_type": "stream",
          "text": [
            "\r0it [00:00, ?it/s]"
          ],
          "name": "stderr"
        },
        {
          "output_type": "stream",
          "text": [
            "\n",
            "Train loss: 0.36965658097732357, Train accuracy: 0.7902607321739197\n",
            "Val loss: 0.8048525303602219, Val accuracy: 0.5625\n",
            "\n",
            "=============== Epoch: 7\n",
            "train batch [0/41]: loss 0.26844093203544617"
          ],
          "name": "stdout"
        },
        {
          "output_type": "stream",
          "text": [
            "\r1it [00:13, 13.63s/it]"
          ],
          "name": "stderr"
        },
        {
          "output_type": "stream",
          "text": [
            "\rtrain batch [1/41]: loss 0.4069426357746124"
          ],
          "name": "stdout"
        },
        {
          "output_type": "stream",
          "text": [
            "\r2it [00:27, 13.72s/it]"
          ],
          "name": "stderr"
        },
        {
          "output_type": "stream",
          "text": [
            "\rtrain batch [2/41]: loss 0.3226034641265869"
          ],
          "name": "stdout"
        },
        {
          "output_type": "stream",
          "text": [
            "\r3it [00:41, 13.73s/it]"
          ],
          "name": "stderr"
        },
        {
          "output_type": "stream",
          "text": [
            "\rtrain batch [3/41]: loss 0.39732760190963745"
          ],
          "name": "stdout"
        },
        {
          "output_type": "stream",
          "text": [
            "\r4it [00:55, 13.81s/it]"
          ],
          "name": "stderr"
        },
        {
          "output_type": "stream",
          "text": [
            "\rtrain batch [4/41]: loss 0.34826886653900146"
          ],
          "name": "stdout"
        },
        {
          "output_type": "stream",
          "text": [
            "\r5it [01:09, 13.78s/it]"
          ],
          "name": "stderr"
        },
        {
          "output_type": "stream",
          "text": [
            "\rtrain batch [5/41]: loss 0.3591858744621277"
          ],
          "name": "stdout"
        },
        {
          "output_type": "stream",
          "text": [
            "\r6it [01:22, 13.76s/it]"
          ],
          "name": "stderr"
        },
        {
          "output_type": "stream",
          "text": [
            "\rtrain batch [6/41]: loss 0.407632440328598"
          ],
          "name": "stdout"
        },
        {
          "output_type": "stream",
          "text": [
            "\r7it [01:36, 13.83s/it]"
          ],
          "name": "stderr"
        },
        {
          "output_type": "stream",
          "text": [
            "\rtrain batch [7/41]: loss 0.40386730432510376"
          ],
          "name": "stdout"
        },
        {
          "output_type": "stream",
          "text": [
            "\r8it [01:50, 13.85s/it]"
          ],
          "name": "stderr"
        },
        {
          "output_type": "stream",
          "text": [
            "\rtrain batch [8/41]: loss 0.4570624828338623"
          ],
          "name": "stdout"
        },
        {
          "output_type": "stream",
          "text": [
            "\r9it [02:04, 13.90s/it]"
          ],
          "name": "stderr"
        },
        {
          "output_type": "stream",
          "text": [
            "\rtrain batch [9/41]: loss 0.3858914375305176"
          ],
          "name": "stdout"
        },
        {
          "output_type": "stream",
          "text": [
            "\r10it [02:18, 13.86s/it]"
          ],
          "name": "stderr"
        },
        {
          "output_type": "stream",
          "text": [
            "\rtrain batch [10/41]: loss 0.3414066433906555"
          ],
          "name": "stdout"
        },
        {
          "output_type": "stream",
          "text": [
            "\r11it [02:32, 13.88s/it]"
          ],
          "name": "stderr"
        },
        {
          "output_type": "stream",
          "text": [
            "\rtrain batch [11/41]: loss 0.4196513593196869"
          ],
          "name": "stdout"
        },
        {
          "output_type": "stream",
          "text": [
            "\r12it [02:46, 13.89s/it]"
          ],
          "name": "stderr"
        },
        {
          "output_type": "stream",
          "text": [
            "\rtrain batch [12/41]: loss 0.38191741704940796"
          ],
          "name": "stdout"
        },
        {
          "output_type": "stream",
          "text": [
            "\r13it [03:00, 13.86s/it]"
          ],
          "name": "stderr"
        },
        {
          "output_type": "stream",
          "text": [
            "\rtrain batch [13/41]: loss 0.3271053433418274"
          ],
          "name": "stdout"
        },
        {
          "output_type": "stream",
          "text": [
            "\r14it [03:13, 13.81s/it]"
          ],
          "name": "stderr"
        },
        {
          "output_type": "stream",
          "text": [
            "\rtrain batch [14/41]: loss 0.36708301305770874"
          ],
          "name": "stdout"
        },
        {
          "output_type": "stream",
          "text": [
            "\r15it [03:27, 13.86s/it]"
          ],
          "name": "stderr"
        },
        {
          "output_type": "stream",
          "text": [
            "\rtrain batch [15/41]: loss 0.32147330045700073"
          ],
          "name": "stdout"
        },
        {
          "output_type": "stream",
          "text": [
            "\r16it [03:41, 13.83s/it]"
          ],
          "name": "stderr"
        },
        {
          "output_type": "stream",
          "text": [
            "\rtrain batch [16/41]: loss 0.3060975968837738"
          ],
          "name": "stdout"
        },
        {
          "output_type": "stream",
          "text": [
            "\r17it [03:55, 13.81s/it]"
          ],
          "name": "stderr"
        },
        {
          "output_type": "stream",
          "text": [
            "\rtrain batch [17/41]: loss 0.36063051223754883"
          ],
          "name": "stdout"
        },
        {
          "output_type": "stream",
          "text": [
            "\r18it [04:08, 13.75s/it]"
          ],
          "name": "stderr"
        },
        {
          "output_type": "stream",
          "text": [
            "\rtrain batch [18/41]: loss 0.3548518121242523"
          ],
          "name": "stdout"
        },
        {
          "output_type": "stream",
          "text": [
            "\r19it [04:22, 13.76s/it]"
          ],
          "name": "stderr"
        },
        {
          "output_type": "stream",
          "text": [
            "\rtrain batch [19/41]: loss 0.36978456377983093"
          ],
          "name": "stdout"
        },
        {
          "output_type": "stream",
          "text": [
            "\r20it [04:36, 13.77s/it]"
          ],
          "name": "stderr"
        },
        {
          "output_type": "stream",
          "text": [
            "\rtrain batch [20/41]: loss 0.31175684928894043"
          ],
          "name": "stdout"
        },
        {
          "output_type": "stream",
          "text": [
            "\r21it [04:50, 13.75s/it]"
          ],
          "name": "stderr"
        },
        {
          "output_type": "stream",
          "text": [
            "\rtrain batch [21/41]: loss 0.3563544750213623"
          ],
          "name": "stdout"
        },
        {
          "output_type": "stream",
          "text": [
            "\r22it [05:03, 13.77s/it]"
          ],
          "name": "stderr"
        },
        {
          "output_type": "stream",
          "text": [
            "\rtrain batch [22/41]: loss 0.37320172786712646"
          ],
          "name": "stdout"
        },
        {
          "output_type": "stream",
          "text": [
            "\r23it [05:17, 13.76s/it]"
          ],
          "name": "stderr"
        },
        {
          "output_type": "stream",
          "text": [
            "\rtrain batch [23/41]: loss 0.3319944739341736"
          ],
          "name": "stdout"
        },
        {
          "output_type": "stream",
          "text": [
            "\r24it [05:31, 13.77s/it]"
          ],
          "name": "stderr"
        },
        {
          "output_type": "stream",
          "text": [
            "\rtrain batch [24/41]: loss 0.3800819218158722"
          ],
          "name": "stdout"
        },
        {
          "output_type": "stream",
          "text": [
            "\r25it [05:45, 13.76s/it]"
          ],
          "name": "stderr"
        },
        {
          "output_type": "stream",
          "text": [
            "\rtrain batch [25/41]: loss 0.3305445909500122"
          ],
          "name": "stdout"
        },
        {
          "output_type": "stream",
          "text": [
            "\r26it [05:58, 13.76s/it]"
          ],
          "name": "stderr"
        },
        {
          "output_type": "stream",
          "text": [
            "\rtrain batch [26/41]: loss 0.408088743686676"
          ],
          "name": "stdout"
        },
        {
          "output_type": "stream",
          "text": [
            "\r27it [06:12, 13.83s/it]"
          ],
          "name": "stderr"
        },
        {
          "output_type": "stream",
          "text": [
            "\rtrain batch [27/41]: loss 0.39106422662734985"
          ],
          "name": "stdout"
        },
        {
          "output_type": "stream",
          "text": [
            "\r28it [06:26, 13.84s/it]"
          ],
          "name": "stderr"
        },
        {
          "output_type": "stream",
          "text": [
            "\rtrain batch [28/41]: loss 0.3561508059501648"
          ],
          "name": "stdout"
        },
        {
          "output_type": "stream",
          "text": [
            "\r29it [06:40, 13.86s/it]"
          ],
          "name": "stderr"
        },
        {
          "output_type": "stream",
          "text": [
            "\rtrain batch [29/41]: loss 0.37376517057418823"
          ],
          "name": "stdout"
        },
        {
          "output_type": "stream",
          "text": [
            "\r30it [06:54, 13.86s/it]"
          ],
          "name": "stderr"
        },
        {
          "output_type": "stream",
          "text": [
            "\rtrain batch [30/41]: loss 0.3117789328098297"
          ],
          "name": "stdout"
        },
        {
          "output_type": "stream",
          "text": [
            "\r31it [07:08, 13.82s/it]"
          ],
          "name": "stderr"
        },
        {
          "output_type": "stream",
          "text": [
            "\rtrain batch [31/41]: loss 0.3736313581466675"
          ],
          "name": "stdout"
        },
        {
          "output_type": "stream",
          "text": [
            "\r32it [07:22, 13.80s/it]"
          ],
          "name": "stderr"
        },
        {
          "output_type": "stream",
          "text": [
            "\rtrain batch [32/41]: loss 0.3551204204559326"
          ],
          "name": "stdout"
        },
        {
          "output_type": "stream",
          "text": [
            "\r33it [07:35, 13.79s/it]"
          ],
          "name": "stderr"
        },
        {
          "output_type": "stream",
          "text": [
            "\rtrain batch [33/41]: loss 0.46270641684532166"
          ],
          "name": "stdout"
        },
        {
          "output_type": "stream",
          "text": [
            "\r34it [07:49, 13.85s/it]"
          ],
          "name": "stderr"
        },
        {
          "output_type": "stream",
          "text": [
            "\rtrain batch [34/41]: loss 0.3408139944076538"
          ],
          "name": "stdout"
        },
        {
          "output_type": "stream",
          "text": [
            "\r35it [08:03, 13.80s/it]"
          ],
          "name": "stderr"
        },
        {
          "output_type": "stream",
          "text": [
            "\rtrain batch [35/41]: loss 0.3626808524131775"
          ],
          "name": "stdout"
        },
        {
          "output_type": "stream",
          "text": [
            "\r36it [08:17, 13.79s/it]"
          ],
          "name": "stderr"
        },
        {
          "output_type": "stream",
          "text": [
            "\rtrain batch [36/41]: loss 0.3304075002670288"
          ],
          "name": "stdout"
        },
        {
          "output_type": "stream",
          "text": [
            "\r37it [08:31, 13.77s/it]"
          ],
          "name": "stderr"
        },
        {
          "output_type": "stream",
          "text": [
            "\rtrain batch [37/41]: loss 0.3222090005874634"
          ],
          "name": "stdout"
        },
        {
          "output_type": "stream",
          "text": [
            "\r38it [08:44, 13.79s/it]"
          ],
          "name": "stderr"
        },
        {
          "output_type": "stream",
          "text": [
            "\rtrain batch [38/41]: loss 0.2835899889469147"
          ],
          "name": "stdout"
        },
        {
          "output_type": "stream",
          "text": [
            "\r39it [08:58, 13.77s/it]"
          ],
          "name": "stderr"
        },
        {
          "output_type": "stream",
          "text": [
            "\rtrain batch [39/41]: loss 0.33947694301605225"
          ],
          "name": "stdout"
        },
        {
          "output_type": "stream",
          "text": [
            "\r40it [09:12, 13.74s/it]"
          ],
          "name": "stderr"
        },
        {
          "output_type": "stream",
          "text": [
            "\rtrain batch [40/41]: loss 0.33294546604156494"
          ],
          "name": "stdout"
        },
        {
          "output_type": "stream",
          "text": [
            "41it [09:22, 13.73s/it]"
          ],
          "name": "stderr"
        },
        {
          "output_type": "stream",
          "text": [
            "\rval batch [0/4]: loss 1.6367906332015991"
          ],
          "name": "stdout"
        },
        {
          "output_type": "stream",
          "text": [
            "\n"
          ],
          "name": "stderr"
        },
        {
          "output_type": "stream",
          "text": [
            "val batch [3/4]: loss 0.12230134010314941"
          ],
          "name": "stdout"
        },
        {
          "output_type": "stream",
          "text": [
            "\r0it [00:00, ?it/s]"
          ],
          "name": "stderr"
        },
        {
          "output_type": "stream",
          "text": [
            "\n",
            "Train loss: 0.35940459443301687, Train accuracy: 0.8017637729644775\n",
            "Val loss: 0.7422164902091026, Val accuracy: 0.5625\n",
            "\n",
            "=============== Epoch: 8\n",
            "train batch [0/41]: loss 0.34071242809295654"
          ],
          "name": "stdout"
        },
        {
          "output_type": "stream",
          "text": [
            "\r1it [00:13, 13.68s/it]"
          ],
          "name": "stderr"
        },
        {
          "output_type": "stream",
          "text": [
            "\rtrain batch [1/41]: loss 0.3627641499042511"
          ],
          "name": "stdout"
        },
        {
          "output_type": "stream",
          "text": [
            "\r2it [00:27, 13.71s/it]"
          ],
          "name": "stderr"
        },
        {
          "output_type": "stream",
          "text": [
            "\rtrain batch [2/41]: loss 0.35887444019317627"
          ],
          "name": "stdout"
        },
        {
          "output_type": "stream",
          "text": [
            "\r3it [00:41, 13.76s/it]"
          ],
          "name": "stderr"
        },
        {
          "output_type": "stream",
          "text": [
            "\rtrain batch [3/41]: loss 0.3049616813659668"
          ],
          "name": "stdout"
        },
        {
          "output_type": "stream",
          "text": [
            "\r4it [00:55, 13.77s/it]"
          ],
          "name": "stderr"
        },
        {
          "output_type": "stream",
          "text": [
            "\rtrain batch [4/41]: loss 0.40101414918899536"
          ],
          "name": "stdout"
        },
        {
          "output_type": "stream",
          "text": [
            "\r5it [01:08, 13.79s/it]"
          ],
          "name": "stderr"
        },
        {
          "output_type": "stream",
          "text": [
            "\rtrain batch [5/41]: loss 0.39174315333366394"
          ],
          "name": "stdout"
        },
        {
          "output_type": "stream",
          "text": [
            "\r6it [01:22, 13.82s/it]"
          ],
          "name": "stderr"
        },
        {
          "output_type": "stream",
          "text": [
            "\rtrain batch [6/41]: loss 0.3510217070579529"
          ],
          "name": "stdout"
        },
        {
          "output_type": "stream",
          "text": [
            "\r7it [01:36, 13.85s/it]"
          ],
          "name": "stderr"
        },
        {
          "output_type": "stream",
          "text": [
            "\rtrain batch [7/41]: loss 0.31779661774635315"
          ],
          "name": "stdout"
        },
        {
          "output_type": "stream",
          "text": [
            "\r8it [01:50, 13.81s/it]"
          ],
          "name": "stderr"
        },
        {
          "output_type": "stream",
          "text": [
            "\rtrain batch [8/41]: loss 0.35064542293548584"
          ],
          "name": "stdout"
        },
        {
          "output_type": "stream",
          "text": [
            "\r9it [02:04, 13.80s/it]"
          ],
          "name": "stderr"
        },
        {
          "output_type": "stream",
          "text": [
            "\rtrain batch [9/41]: loss 0.31278282403945923"
          ],
          "name": "stdout"
        },
        {
          "output_type": "stream",
          "text": [
            "\r10it [02:18, 13.80s/it]"
          ],
          "name": "stderr"
        },
        {
          "output_type": "stream",
          "text": [
            "\rtrain batch [10/41]: loss 0.3249574303627014"
          ],
          "name": "stdout"
        },
        {
          "output_type": "stream",
          "text": [
            "\r11it [02:31, 13.83s/it]"
          ],
          "name": "stderr"
        },
        {
          "output_type": "stream",
          "text": [
            "\rtrain batch [11/41]: loss 0.35432034730911255"
          ],
          "name": "stdout"
        },
        {
          "output_type": "stream",
          "text": [
            "\r12it [02:45, 13.85s/it]"
          ],
          "name": "stderr"
        },
        {
          "output_type": "stream",
          "text": [
            "\rtrain batch [12/41]: loss 0.40939414501190186"
          ],
          "name": "stdout"
        },
        {
          "output_type": "stream",
          "text": [
            "\r13it [02:59, 13.91s/it]"
          ],
          "name": "stderr"
        },
        {
          "output_type": "stream",
          "text": [
            "\rtrain batch [13/41]: loss 0.3487224280834198"
          ],
          "name": "stdout"
        },
        {
          "output_type": "stream",
          "text": [
            "\r14it [03:13, 13.90s/it]"
          ],
          "name": "stderr"
        },
        {
          "output_type": "stream",
          "text": [
            "\rtrain batch [14/41]: loss 0.35097989439964294"
          ],
          "name": "stdout"
        },
        {
          "output_type": "stream",
          "text": [
            "\r15it [03:27, 13.87s/it]"
          ],
          "name": "stderr"
        },
        {
          "output_type": "stream",
          "text": [
            "\rtrain batch [15/41]: loss 0.3863397240638733"
          ],
          "name": "stdout"
        },
        {
          "output_type": "stream",
          "text": [
            "\r16it [03:41, 13.89s/it]"
          ],
          "name": "stderr"
        },
        {
          "output_type": "stream",
          "text": [
            "\rtrain batch [16/41]: loss 0.3171594738960266"
          ],
          "name": "stdout"
        },
        {
          "output_type": "stream",
          "text": [
            "\r17it [03:55, 13.79s/it]"
          ],
          "name": "stderr"
        },
        {
          "output_type": "stream",
          "text": [
            "\rtrain batch [17/41]: loss 0.3322887122631073"
          ],
          "name": "stdout"
        },
        {
          "output_type": "stream",
          "text": [
            "\r18it [04:08, 13.79s/it]"
          ],
          "name": "stderr"
        },
        {
          "output_type": "stream",
          "text": [
            "\rtrain batch [18/41]: loss 0.43338778614997864"
          ],
          "name": "stdout"
        },
        {
          "output_type": "stream",
          "text": [
            "\r19it [04:22, 13.79s/it]"
          ],
          "name": "stderr"
        },
        {
          "output_type": "stream",
          "text": [
            "\rtrain batch [19/41]: loss 0.3250601291656494"
          ],
          "name": "stdout"
        },
        {
          "output_type": "stream",
          "text": [
            "\r20it [04:36, 13.81s/it]"
          ],
          "name": "stderr"
        },
        {
          "output_type": "stream",
          "text": [
            "\rtrain batch [20/41]: loss 0.381517618894577"
          ],
          "name": "stdout"
        },
        {
          "output_type": "stream",
          "text": [
            "\r21it [04:50, 13.87s/it]"
          ],
          "name": "stderr"
        },
        {
          "output_type": "stream",
          "text": [
            "\rtrain batch [21/41]: loss 0.40817874670028687"
          ],
          "name": "stdout"
        },
        {
          "output_type": "stream",
          "text": [
            "\r22it [05:04, 13.84s/it]"
          ],
          "name": "stderr"
        },
        {
          "output_type": "stream",
          "text": [
            "\rtrain batch [22/41]: loss 0.3702184855937958"
          ],
          "name": "stdout"
        },
        {
          "output_type": "stream",
          "text": [
            "\r23it [05:17, 13.79s/it]"
          ],
          "name": "stderr"
        },
        {
          "output_type": "stream",
          "text": [
            "\rtrain batch [23/41]: loss 0.3812139630317688"
          ],
          "name": "stdout"
        },
        {
          "output_type": "stream",
          "text": [
            "\r24it [05:31, 13.74s/it]"
          ],
          "name": "stderr"
        },
        {
          "output_type": "stream",
          "text": [
            "\rtrain batch [24/41]: loss 0.33447736501693726"
          ],
          "name": "stdout"
        },
        {
          "output_type": "stream",
          "text": [
            "\r25it [05:45, 13.74s/it]"
          ],
          "name": "stderr"
        },
        {
          "output_type": "stream",
          "text": [
            "\rtrain batch [25/41]: loss 0.42444470524787903"
          ],
          "name": "stdout"
        },
        {
          "output_type": "stream",
          "text": [
            "\r26it [05:59, 13.80s/it]"
          ],
          "name": "stderr"
        },
        {
          "output_type": "stream",
          "text": [
            "\rtrain batch [26/41]: loss 0.34587007761001587"
          ],
          "name": "stdout"
        },
        {
          "output_type": "stream",
          "text": [
            "\r27it [06:13, 13.85s/it]"
          ],
          "name": "stderr"
        },
        {
          "output_type": "stream",
          "text": [
            "\rtrain batch [27/41]: loss 0.3341931700706482"
          ],
          "name": "stdout"
        },
        {
          "output_type": "stream",
          "text": [
            "\r28it [06:26, 13.81s/it]"
          ],
          "name": "stderr"
        },
        {
          "output_type": "stream",
          "text": [
            "\rtrain batch [28/41]: loss 0.3287971019744873"
          ],
          "name": "stdout"
        },
        {
          "output_type": "stream",
          "text": [
            "\r29it [06:40, 13.77s/it]"
          ],
          "name": "stderr"
        },
        {
          "output_type": "stream",
          "text": [
            "\rtrain batch [29/41]: loss 0.35608381032943726"
          ],
          "name": "stdout"
        },
        {
          "output_type": "stream",
          "text": [
            "\r30it [06:54, 13.79s/it]"
          ],
          "name": "stderr"
        },
        {
          "output_type": "stream",
          "text": [
            "\rtrain batch [30/41]: loss 0.32388895750045776"
          ],
          "name": "stdout"
        },
        {
          "output_type": "stream",
          "text": [
            "\r31it [07:08, 13.80s/it]"
          ],
          "name": "stderr"
        },
        {
          "output_type": "stream",
          "text": [
            "\rtrain batch [31/41]: loss 0.3283778131008148"
          ],
          "name": "stdout"
        },
        {
          "output_type": "stream",
          "text": [
            "\r32it [07:21, 13.77s/it]"
          ],
          "name": "stderr"
        },
        {
          "output_type": "stream",
          "text": [
            "\rtrain batch [32/41]: loss 0.33688944578170776"
          ],
          "name": "stdout"
        },
        {
          "output_type": "stream",
          "text": [
            "\r33it [07:35, 13.73s/it]"
          ],
          "name": "stderr"
        },
        {
          "output_type": "stream",
          "text": [
            "\rtrain batch [33/41]: loss 0.31324154138565063"
          ],
          "name": "stdout"
        },
        {
          "output_type": "stream",
          "text": [
            "\r34it [07:49, 13.71s/it]"
          ],
          "name": "stderr"
        },
        {
          "output_type": "stream",
          "text": [
            "\rtrain batch [34/41]: loss 0.30670541524887085"
          ],
          "name": "stdout"
        },
        {
          "output_type": "stream",
          "text": [
            "\r35it [08:03, 13.77s/it]"
          ],
          "name": "stderr"
        },
        {
          "output_type": "stream",
          "text": [
            "\rtrain batch [35/41]: loss 0.3882025182247162"
          ],
          "name": "stdout"
        },
        {
          "output_type": "stream",
          "text": [
            "\r36it [08:17, 13.83s/it]"
          ],
          "name": "stderr"
        },
        {
          "output_type": "stream",
          "text": [
            "\rtrain batch [36/41]: loss 0.30195900797843933"
          ],
          "name": "stdout"
        },
        {
          "output_type": "stream",
          "text": [
            "\r37it [08:30, 13.80s/it]"
          ],
          "name": "stderr"
        },
        {
          "output_type": "stream",
          "text": [
            "\rtrain batch [37/41]: loss 0.34510958194732666"
          ],
          "name": "stdout"
        },
        {
          "output_type": "stream",
          "text": [
            "\r38it [08:44, 13.83s/it]"
          ],
          "name": "stderr"
        },
        {
          "output_type": "stream",
          "text": [
            "\rtrain batch [38/41]: loss 0.30405867099761963"
          ],
          "name": "stdout"
        },
        {
          "output_type": "stream",
          "text": [
            "\r39it [08:58, 13.82s/it]"
          ],
          "name": "stderr"
        },
        {
          "output_type": "stream",
          "text": [
            "\rtrain batch [39/41]: loss 0.32534193992614746"
          ],
          "name": "stdout"
        },
        {
          "output_type": "stream",
          "text": [
            "\r40it [09:12, 13.76s/it]"
          ],
          "name": "stderr"
        },
        {
          "output_type": "stream",
          "text": [
            "\rtrain batch [40/41]: loss 0.31649619340896606"
          ],
          "name": "stdout"
        },
        {
          "output_type": "stream",
          "text": [
            "41it [09:22, 13.72s/it]"
          ],
          "name": "stderr"
        },
        {
          "output_type": "stream",
          "text": [
            "\rval batch [0/4]: loss 1.8335398435592651"
          ],
          "name": "stdout"
        },
        {
          "output_type": "stream",
          "text": [
            "\n"
          ],
          "name": "stderr"
        },
        {
          "output_type": "stream",
          "text": [
            "val batch [3/4]: loss 0.09187978506088257"
          ],
          "name": "stdout"
        },
        {
          "output_type": "stream",
          "text": [
            "\r0it [00:00, ?it/s]"
          ],
          "name": "stderr"
        },
        {
          "output_type": "stream",
          "text": [
            "\n",
            "Train loss: 0.3495168940323155, Train accuracy: 0.808282196521759\n",
            "Val loss: 0.8858844004571438, Val accuracy: 0.5\n",
            "\n",
            "=============== Epoch: 9\n",
            "train batch [0/41]: loss 0.3595757782459259"
          ],
          "name": "stdout"
        },
        {
          "output_type": "stream",
          "text": [
            "\r1it [00:13, 13.89s/it]"
          ],
          "name": "stderr"
        },
        {
          "output_type": "stream",
          "text": [
            "\rtrain batch [1/41]: loss 0.3196040987968445"
          ],
          "name": "stdout"
        },
        {
          "output_type": "stream",
          "text": [
            "\r2it [00:27, 13.86s/it]"
          ],
          "name": "stderr"
        },
        {
          "output_type": "stream",
          "text": [
            "\rtrain batch [2/41]: loss 0.3629472255706787"
          ],
          "name": "stdout"
        },
        {
          "output_type": "stream",
          "text": [
            "\r3it [00:41, 13.89s/it]"
          ],
          "name": "stderr"
        },
        {
          "output_type": "stream",
          "text": [
            "\rtrain batch [3/41]: loss 0.37989571690559387"
          ],
          "name": "stdout"
        },
        {
          "output_type": "stream",
          "text": [
            "\r4it [00:55, 13.90s/it]"
          ],
          "name": "stderr"
        },
        {
          "output_type": "stream",
          "text": [
            "\rtrain batch [4/41]: loss 0.31503427028656006"
          ],
          "name": "stdout"
        },
        {
          "output_type": "stream",
          "text": [
            "\r5it [01:09, 13.85s/it]"
          ],
          "name": "stderr"
        },
        {
          "output_type": "stream",
          "text": [
            "\rtrain batch [5/41]: loss 0.2851758599281311"
          ],
          "name": "stdout"
        },
        {
          "output_type": "stream",
          "text": [
            "\r6it [01:22, 13.76s/it]"
          ],
          "name": "stderr"
        },
        {
          "output_type": "stream",
          "text": [
            "\rtrain batch [6/41]: loss 0.37480002641677856"
          ],
          "name": "stdout"
        },
        {
          "output_type": "stream",
          "text": [
            "\r7it [01:36, 13.78s/it]"
          ],
          "name": "stderr"
        },
        {
          "output_type": "stream",
          "text": [
            "\rtrain batch [7/41]: loss 0.37592992186546326"
          ],
          "name": "stdout"
        },
        {
          "output_type": "stream",
          "text": [
            "\r8it [01:50, 13.79s/it]"
          ],
          "name": "stderr"
        },
        {
          "output_type": "stream",
          "text": [
            "\rtrain batch [8/41]: loss 0.41375598311424255"
          ],
          "name": "stdout"
        },
        {
          "output_type": "stream",
          "text": [
            "\r9it [02:04, 13.86s/it]"
          ],
          "name": "stderr"
        },
        {
          "output_type": "stream",
          "text": [
            "\rtrain batch [9/41]: loss 0.31062543392181396"
          ],
          "name": "stdout"
        },
        {
          "output_type": "stream",
          "text": [
            "\r10it [02:18, 13.78s/it]"
          ],
          "name": "stderr"
        },
        {
          "output_type": "stream",
          "text": [
            "\rtrain batch [10/41]: loss 0.3791896104812622"
          ],
          "name": "stdout"
        },
        {
          "output_type": "stream",
          "text": [
            "\r11it [02:31, 13.77s/it]"
          ],
          "name": "stderr"
        },
        {
          "output_type": "stream",
          "text": [
            "\rtrain batch [11/41]: loss 0.4132763743400574"
          ],
          "name": "stdout"
        },
        {
          "output_type": "stream",
          "text": [
            "\r12it [02:45, 13.81s/it]"
          ],
          "name": "stderr"
        },
        {
          "output_type": "stream",
          "text": [
            "\rtrain batch [12/41]: loss 0.3041776716709137"
          ],
          "name": "stdout"
        },
        {
          "output_type": "stream",
          "text": [
            "\r13it [02:59, 13.79s/it]"
          ],
          "name": "stderr"
        },
        {
          "output_type": "stream",
          "text": [
            "\rtrain batch [13/41]: loss 0.35573676228523254"
          ],
          "name": "stdout"
        },
        {
          "output_type": "stream",
          "text": [
            "\r14it [03:13, 13.78s/it]"
          ],
          "name": "stderr"
        },
        {
          "output_type": "stream",
          "text": [
            "\rtrain batch [14/41]: loss 0.39130455255508423"
          ],
          "name": "stdout"
        },
        {
          "output_type": "stream",
          "text": [
            "\r15it [03:27, 13.77s/it]"
          ],
          "name": "stderr"
        },
        {
          "output_type": "stream",
          "text": [
            "\rtrain batch [15/41]: loss 0.3346577286720276"
          ],
          "name": "stdout"
        },
        {
          "output_type": "stream",
          "text": [
            "\r16it [03:40, 13.82s/it]"
          ],
          "name": "stderr"
        },
        {
          "output_type": "stream",
          "text": [
            "\rtrain batch [16/41]: loss 0.3132435083389282"
          ],
          "name": "stdout"
        },
        {
          "output_type": "stream",
          "text": [
            "\r17it [03:54, 13.85s/it]"
          ],
          "name": "stderr"
        },
        {
          "output_type": "stream",
          "text": [
            "\rtrain batch [17/41]: loss 0.3416190445423126"
          ],
          "name": "stdout"
        },
        {
          "output_type": "stream",
          "text": [
            "\r18it [04:08, 13.82s/it]"
          ],
          "name": "stderr"
        },
        {
          "output_type": "stream",
          "text": [
            "\rtrain batch [18/41]: loss 0.3483375310897827"
          ],
          "name": "stdout"
        },
        {
          "output_type": "stream",
          "text": [
            "\r19it [04:22, 13.81s/it]"
          ],
          "name": "stderr"
        },
        {
          "output_type": "stream",
          "text": [
            "\rtrain batch [19/41]: loss 0.32135260105133057"
          ],
          "name": "stdout"
        },
        {
          "output_type": "stream",
          "text": [
            "\r20it [04:36, 13.79s/it]"
          ],
          "name": "stderr"
        },
        {
          "output_type": "stream",
          "text": [
            "\rtrain batch [20/41]: loss 0.35232266783714294"
          ],
          "name": "stdout"
        },
        {
          "output_type": "stream",
          "text": [
            "\r21it [04:49, 13.79s/it]"
          ],
          "name": "stderr"
        },
        {
          "output_type": "stream",
          "text": [
            "\rtrain batch [21/41]: loss 0.3573555052280426"
          ],
          "name": "stdout"
        },
        {
          "output_type": "stream",
          "text": [
            "\r22it [05:03, 13.83s/it]"
          ],
          "name": "stderr"
        },
        {
          "output_type": "stream",
          "text": [
            "\rtrain batch [22/41]: loss 0.36893415451049805"
          ],
          "name": "stdout"
        },
        {
          "output_type": "stream",
          "text": [
            "\r23it [05:17, 13.86s/it]"
          ],
          "name": "stderr"
        },
        {
          "output_type": "stream",
          "text": [
            "\rtrain batch [23/41]: loss 0.3453436493873596"
          ],
          "name": "stdout"
        },
        {
          "output_type": "stream",
          "text": [
            "\r24it [05:31, 13.87s/it]"
          ],
          "name": "stderr"
        },
        {
          "output_type": "stream",
          "text": [
            "\rtrain batch [24/41]: loss 0.35890862345695496"
          ],
          "name": "stdout"
        },
        {
          "output_type": "stream",
          "text": [
            "\r25it [05:45, 13.86s/it]"
          ],
          "name": "stderr"
        },
        {
          "output_type": "stream",
          "text": [
            "\rtrain batch [25/41]: loss 0.32235145568847656"
          ],
          "name": "stdout"
        },
        {
          "output_type": "stream",
          "text": [
            "\r26it [05:59, 13.78s/it]"
          ],
          "name": "stderr"
        },
        {
          "output_type": "stream",
          "text": [
            "\rtrain batch [26/41]: loss 0.34347063302993774"
          ],
          "name": "stdout"
        },
        {
          "output_type": "stream",
          "text": [
            "\r27it [06:12, 13.77s/it]"
          ],
          "name": "stderr"
        },
        {
          "output_type": "stream",
          "text": [
            "\rtrain batch [27/41]: loss 0.3319210410118103"
          ],
          "name": "stdout"
        },
        {
          "output_type": "stream",
          "text": [
            "\r28it [06:26, 13.79s/it]"
          ],
          "name": "stderr"
        },
        {
          "output_type": "stream",
          "text": [
            "\rtrain batch [28/41]: loss 0.38514846563339233"
          ],
          "name": "stdout"
        },
        {
          "output_type": "stream",
          "text": [
            "\r29it [06:40, 13.82s/it]"
          ],
          "name": "stderr"
        },
        {
          "output_type": "stream",
          "text": [
            "\rtrain batch [29/41]: loss 0.3397117257118225"
          ],
          "name": "stdout"
        },
        {
          "output_type": "stream",
          "text": [
            "\r30it [06:54, 13.83s/it]"
          ],
          "name": "stderr"
        },
        {
          "output_type": "stream",
          "text": [
            "\rtrain batch [30/41]: loss 0.3572070002555847"
          ],
          "name": "stdout"
        },
        {
          "output_type": "stream",
          "text": [
            "\r31it [07:08, 13.76s/it]"
          ],
          "name": "stderr"
        },
        {
          "output_type": "stream",
          "text": [
            "\rtrain batch [31/41]: loss 0.33220338821411133"
          ],
          "name": "stdout"
        },
        {
          "output_type": "stream",
          "text": [
            "\r32it [07:21, 13.74s/it]"
          ],
          "name": "stderr"
        },
        {
          "output_type": "stream",
          "text": [
            "\rtrain batch [32/41]: loss 0.3383021950721741"
          ],
          "name": "stdout"
        },
        {
          "output_type": "stream",
          "text": [
            "\r33it [07:35, 13.72s/it]"
          ],
          "name": "stderr"
        },
        {
          "output_type": "stream",
          "text": [
            "\rtrain batch [33/41]: loss 0.3627077341079712"
          ],
          "name": "stdout"
        },
        {
          "output_type": "stream",
          "text": [
            "\r34it [07:49, 13.73s/it]"
          ],
          "name": "stderr"
        },
        {
          "output_type": "stream",
          "text": [
            "\rtrain batch [34/41]: loss 0.4203798770904541"
          ],
          "name": "stdout"
        },
        {
          "output_type": "stream",
          "text": [
            "\r35it [08:02, 13.76s/it]"
          ],
          "name": "stderr"
        },
        {
          "output_type": "stream",
          "text": [
            "\rtrain batch [35/41]: loss 0.4154852628707886"
          ],
          "name": "stdout"
        },
        {
          "output_type": "stream",
          "text": [
            "\r36it [08:17, 13.84s/it]"
          ],
          "name": "stderr"
        },
        {
          "output_type": "stream",
          "text": [
            "\rtrain batch [36/41]: loss 0.42932528257369995"
          ],
          "name": "stdout"
        },
        {
          "output_type": "stream",
          "text": [
            "\r37it [08:30, 13.86s/it]"
          ],
          "name": "stderr"
        },
        {
          "output_type": "stream",
          "text": [
            "\rtrain batch [37/41]: loss 0.29490962624549866"
          ],
          "name": "stdout"
        },
        {
          "output_type": "stream",
          "text": [
            "\r38it [08:44, 13.79s/it]"
          ],
          "name": "stderr"
        },
        {
          "output_type": "stream",
          "text": [
            "\rtrain batch [38/41]: loss 0.37566250562667847"
          ],
          "name": "stdout"
        },
        {
          "output_type": "stream",
          "text": [
            "\r39it [08:58, 13.83s/it]"
          ],
          "name": "stderr"
        },
        {
          "output_type": "stream",
          "text": [
            "\rtrain batch [39/41]: loss 0.42679229378700256"
          ],
          "name": "stdout"
        },
        {
          "output_type": "stream",
          "text": [
            "\r40it [09:12, 13.83s/it]"
          ],
          "name": "stderr"
        },
        {
          "output_type": "stream",
          "text": [
            "\rtrain batch [40/41]: loss 0.38449057936668396"
          ],
          "name": "stdout"
        },
        {
          "output_type": "stream",
          "text": [
            "41it [09:22, 13.73s/it]"
          ],
          "name": "stderr"
        },
        {
          "output_type": "stream",
          "text": [
            "\rval batch [0/4]: loss 2.0077545642852783"
          ],
          "name": "stdout"
        },
        {
          "output_type": "stream",
          "text": [
            "\n"
          ],
          "name": "stderr"
        },
        {
          "output_type": "stream",
          "text": [
            "val batch [3/4]: loss 0.14320522546768188"
          ],
          "name": "stdout"
        },
        {
          "output_type": "stream",
          "text": [
            "\r0it [00:00, ?it/s]"
          ],
          "name": "stderr"
        },
        {
          "output_type": "stream",
          "text": [
            "\n",
            "Train loss: 0.35715056410649926, Train accuracy: 0.7894938588142395\n",
            "Val loss: 0.8556331992149353, Val accuracy: 0.5\n",
            "\n",
            "=============== Epoch: 10\n",
            "train batch [0/41]: loss 0.3678957223892212"
          ],
          "name": "stdout"
        },
        {
          "output_type": "stream",
          "text": [
            "\r1it [00:13, 13.97s/it]"
          ],
          "name": "stderr"
        },
        {
          "output_type": "stream",
          "text": [
            "\rtrain batch [1/41]: loss 0.37491944432258606"
          ],
          "name": "stdout"
        },
        {
          "output_type": "stream",
          "text": [
            "\r2it [00:27, 13.88s/it]"
          ],
          "name": "stderr"
        },
        {
          "output_type": "stream",
          "text": [
            "\rtrain batch [2/41]: loss 0.379219114780426"
          ],
          "name": "stdout"
        },
        {
          "output_type": "stream",
          "text": [
            "\r3it [00:41, 13.90s/it]"
          ],
          "name": "stderr"
        },
        {
          "output_type": "stream",
          "text": [
            "\rtrain batch [3/41]: loss 0.3667769134044647"
          ],
          "name": "stdout"
        },
        {
          "output_type": "stream",
          "text": [
            "\r4it [00:55, 13.89s/it]"
          ],
          "name": "stderr"
        },
        {
          "output_type": "stream",
          "text": [
            "\rtrain batch [4/41]: loss 0.4000294804573059"
          ],
          "name": "stdout"
        },
        {
          "output_type": "stream",
          "text": [
            "\r5it [01:09, 13.86s/it]"
          ],
          "name": "stderr"
        },
        {
          "output_type": "stream",
          "text": [
            "\rtrain batch [5/41]: loss 0.43539392948150635"
          ],
          "name": "stdout"
        },
        {
          "output_type": "stream",
          "text": [
            "\r6it [01:23, 13.90s/it]"
          ],
          "name": "stderr"
        },
        {
          "output_type": "stream",
          "text": [
            "\rtrain batch [6/41]: loss 0.3627176880836487"
          ],
          "name": "stdout"
        },
        {
          "output_type": "stream",
          "text": [
            "\r7it [01:36, 13.84s/it]"
          ],
          "name": "stderr"
        },
        {
          "output_type": "stream",
          "text": [
            "\rtrain batch [7/41]: loss 0.32892972230911255"
          ],
          "name": "stdout"
        },
        {
          "output_type": "stream",
          "text": [
            "\r8it [01:50, 13.80s/it]"
          ],
          "name": "stderr"
        },
        {
          "output_type": "stream",
          "text": [
            "\rtrain batch [8/41]: loss 0.4349325895309448"
          ],
          "name": "stdout"
        },
        {
          "output_type": "stream",
          "text": [
            "\r9it [02:04, 13.86s/it]"
          ],
          "name": "stderr"
        },
        {
          "output_type": "stream",
          "text": [
            "\rtrain batch [9/41]: loss 0.3287709355354309"
          ],
          "name": "stdout"
        },
        {
          "output_type": "stream",
          "text": [
            "\r10it [02:18, 13.83s/it]"
          ],
          "name": "stderr"
        },
        {
          "output_type": "stream",
          "text": [
            "\rtrain batch [10/41]: loss 0.38335931301116943"
          ],
          "name": "stdout"
        },
        {
          "output_type": "stream",
          "text": [
            "\r11it [02:32, 13.87s/it]"
          ],
          "name": "stderr"
        },
        {
          "output_type": "stream",
          "text": [
            "\rtrain batch [11/41]: loss 0.3584591746330261"
          ],
          "name": "stdout"
        },
        {
          "output_type": "stream",
          "text": [
            "\r12it [02:46, 13.90s/it]"
          ],
          "name": "stderr"
        },
        {
          "output_type": "stream",
          "text": [
            "\rtrain batch [12/41]: loss 0.35273703932762146"
          ],
          "name": "stdout"
        },
        {
          "output_type": "stream",
          "text": [
            "\r13it [03:00, 13.89s/it]"
          ],
          "name": "stderr"
        },
        {
          "output_type": "stream",
          "text": [
            "\rtrain batch [13/41]: loss 0.4240455627441406"
          ],
          "name": "stdout"
        },
        {
          "output_type": "stream",
          "text": [
            "\r14it [03:14, 13.92s/it]"
          ],
          "name": "stderr"
        },
        {
          "output_type": "stream",
          "text": [
            "\rtrain batch [14/41]: loss 0.36032038927078247"
          ],
          "name": "stdout"
        },
        {
          "output_type": "stream",
          "text": [
            "\r15it [03:28, 13.92s/it]"
          ],
          "name": "stderr"
        },
        {
          "output_type": "stream",
          "text": [
            "\rtrain batch [15/41]: loss 0.3285940885543823"
          ],
          "name": "stdout"
        },
        {
          "output_type": "stream",
          "text": [
            "\r16it [03:41, 13.87s/it]"
          ],
          "name": "stderr"
        },
        {
          "output_type": "stream",
          "text": [
            "\rtrain batch [16/41]: loss 0.34716910123825073"
          ],
          "name": "stdout"
        },
        {
          "output_type": "stream",
          "text": [
            "\r17it [03:55, 13.82s/it]"
          ],
          "name": "stderr"
        },
        {
          "output_type": "stream",
          "text": [
            "\rtrain batch [17/41]: loss 0.3445701003074646"
          ],
          "name": "stdout"
        },
        {
          "output_type": "stream",
          "text": [
            "\r18it [04:09, 13.82s/it]"
          ],
          "name": "stderr"
        },
        {
          "output_type": "stream",
          "text": [
            "\rtrain batch [18/41]: loss 0.33706143498420715"
          ],
          "name": "stdout"
        },
        {
          "output_type": "stream",
          "text": [
            "\r19it [04:23, 13.79s/it]"
          ],
          "name": "stderr"
        },
        {
          "output_type": "stream",
          "text": [
            "\rtrain batch [19/41]: loss 0.38538604974746704"
          ],
          "name": "stdout"
        },
        {
          "output_type": "stream",
          "text": [
            "\r20it [04:37, 13.85s/it]"
          ],
          "name": "stderr"
        },
        {
          "output_type": "stream",
          "text": [
            "\rtrain batch [20/41]: loss 0.38899266719818115"
          ],
          "name": "stdout"
        },
        {
          "output_type": "stream",
          "text": [
            "\r21it [04:50, 13.86s/it]"
          ],
          "name": "stderr"
        },
        {
          "output_type": "stream",
          "text": [
            "\rtrain batch [21/41]: loss 0.2759923040866852"
          ],
          "name": "stdout"
        },
        {
          "output_type": "stream",
          "text": [
            "\r22it [05:04, 13.79s/it]"
          ],
          "name": "stderr"
        },
        {
          "output_type": "stream",
          "text": [
            "\rtrain batch [22/41]: loss 0.32635852694511414"
          ],
          "name": "stdout"
        },
        {
          "output_type": "stream",
          "text": [
            "\r23it [05:18, 13.77s/it]"
          ],
          "name": "stderr"
        },
        {
          "output_type": "stream",
          "text": [
            "\rtrain batch [23/41]: loss 0.36696314811706543"
          ],
          "name": "stdout"
        },
        {
          "output_type": "stream",
          "text": [
            "\r24it [05:32, 13.76s/it]"
          ],
          "name": "stderr"
        },
        {
          "output_type": "stream",
          "text": [
            "\rtrain batch [24/41]: loss 0.3213456869125366"
          ],
          "name": "stdout"
        },
        {
          "output_type": "stream",
          "text": [
            "\r25it [05:46, 13.82s/it]"
          ],
          "name": "stderr"
        },
        {
          "output_type": "stream",
          "text": [
            "\rtrain batch [25/41]: loss 0.35652828216552734"
          ],
          "name": "stdout"
        },
        {
          "output_type": "stream",
          "text": [
            "\r26it [05:59, 13.84s/it]"
          ],
          "name": "stderr"
        },
        {
          "output_type": "stream",
          "text": [
            "\rtrain batch [26/41]: loss 0.442856103181839"
          ],
          "name": "stdout"
        },
        {
          "output_type": "stream",
          "text": [
            "\r27it [06:13, 13.90s/it]"
          ],
          "name": "stderr"
        },
        {
          "output_type": "stream",
          "text": [
            "\rtrain batch [27/41]: loss 0.3001481890678406"
          ],
          "name": "stdout"
        },
        {
          "output_type": "stream",
          "text": [
            "\r28it [06:27, 13.82s/it]"
          ],
          "name": "stderr"
        },
        {
          "output_type": "stream",
          "text": [
            "\rtrain batch [28/41]: loss 0.349974662065506"
          ],
          "name": "stdout"
        },
        {
          "output_type": "stream",
          "text": [
            "\r29it [06:41, 13.81s/it]"
          ],
          "name": "stderr"
        },
        {
          "output_type": "stream",
          "text": [
            "\rtrain batch [29/41]: loss 0.30317750573158264"
          ],
          "name": "stdout"
        },
        {
          "output_type": "stream",
          "text": [
            "\r30it [06:55, 13.78s/it]"
          ],
          "name": "stderr"
        },
        {
          "output_type": "stream",
          "text": [
            "\rtrain batch [30/41]: loss 0.31154465675354004"
          ],
          "name": "stdout"
        },
        {
          "output_type": "stream",
          "text": [
            "\r31it [07:08, 13.80s/it]"
          ],
          "name": "stderr"
        },
        {
          "output_type": "stream",
          "text": [
            "\rtrain batch [31/41]: loss 0.3611169457435608"
          ],
          "name": "stdout"
        },
        {
          "output_type": "stream",
          "text": [
            "\r32it [07:22, 13.79s/it]"
          ],
          "name": "stderr"
        },
        {
          "output_type": "stream",
          "text": [
            "\rtrain batch [32/41]: loss 0.3359910249710083"
          ],
          "name": "stdout"
        },
        {
          "output_type": "stream",
          "text": [
            "\r33it [07:36, 13.83s/it]"
          ],
          "name": "stderr"
        },
        {
          "output_type": "stream",
          "text": [
            "\rtrain batch [33/41]: loss 0.3883829116821289"
          ],
          "name": "stdout"
        },
        {
          "output_type": "stream",
          "text": [
            "\r34it [07:50, 13.86s/it]"
          ],
          "name": "stderr"
        },
        {
          "output_type": "stream",
          "text": [
            "\rtrain batch [34/41]: loss 0.35582995414733887"
          ],
          "name": "stdout"
        },
        {
          "output_type": "stream",
          "text": [
            "\r35it [08:04, 13.85s/it]"
          ],
          "name": "stderr"
        },
        {
          "output_type": "stream",
          "text": [
            "\rtrain batch [35/41]: loss 0.35991838574409485"
          ],
          "name": "stdout"
        },
        {
          "output_type": "stream",
          "text": [
            "\r36it [08:18, 13.87s/it]"
          ],
          "name": "stderr"
        },
        {
          "output_type": "stream",
          "text": [
            "\rtrain batch [36/41]: loss 0.29768937826156616"
          ],
          "name": "stdout"
        },
        {
          "output_type": "stream",
          "text": [
            "\r37it [08:32, 13.84s/it]"
          ],
          "name": "stderr"
        },
        {
          "output_type": "stream",
          "text": [
            "\rtrain batch [37/41]: loss 0.3536524474620819"
          ],
          "name": "stdout"
        },
        {
          "output_type": "stream",
          "text": [
            "\r38it [08:45, 13.85s/it]"
          ],
          "name": "stderr"
        },
        {
          "output_type": "stream",
          "text": [
            "\rtrain batch [38/41]: loss 0.3207899332046509"
          ],
          "name": "stdout"
        },
        {
          "output_type": "stream",
          "text": [
            "\r39it [08:59, 13.78s/it]"
          ],
          "name": "stderr"
        },
        {
          "output_type": "stream",
          "text": [
            "\rtrain batch [39/41]: loss 0.306082159280777"
          ],
          "name": "stdout"
        },
        {
          "output_type": "stream",
          "text": [
            "\r40it [09:13, 13.79s/it]"
          ],
          "name": "stderr"
        },
        {
          "output_type": "stream",
          "text": [
            "\rtrain batch [40/41]: loss 0.2948012053966522"
          ],
          "name": "stdout"
        },
        {
          "output_type": "stream",
          "text": [
            "41it [09:23, 13.75s/it]"
          ],
          "name": "stderr"
        },
        {
          "output_type": "stream",
          "text": [
            "\rval batch [0/4]: loss 1.3650621175765991"
          ],
          "name": "stdout"
        },
        {
          "output_type": "stream",
          "text": [
            "\n"
          ],
          "name": "stderr"
        },
        {
          "output_type": "stream",
          "text": [
            "val batch [3/4]: loss 0.16129113733768463"
          ],
          "name": "stdout"
        },
        {
          "output_type": "stream",
          "text": [
            "\r0it [00:00, ?it/s]"
          ],
          "name": "stderr"
        },
        {
          "output_type": "stream",
          "text": [
            "\n",
            "Train loss: 0.35413229320107437, Train accuracy: 0.8109662532806396\n",
            "Val loss: 0.7398281656205654, Val accuracy: 0.5625\n",
            "\n",
            "=============== Epoch: 11\n",
            "train batch [0/41]: loss 0.3656582832336426"
          ],
          "name": "stdout"
        },
        {
          "output_type": "stream",
          "text": [
            "\r1it [00:13, 13.81s/it]"
          ],
          "name": "stderr"
        },
        {
          "output_type": "stream",
          "text": [
            "\rtrain batch [1/41]: loss 0.287849485874176"
          ],
          "name": "stdout"
        },
        {
          "output_type": "stream",
          "text": [
            "\r2it [00:27, 13.74s/it]"
          ],
          "name": "stderr"
        },
        {
          "output_type": "stream",
          "text": [
            "\rtrain batch [2/41]: loss 0.33778926730155945"
          ],
          "name": "stdout"
        },
        {
          "output_type": "stream",
          "text": [
            "\r3it [00:41, 13.84s/it]"
          ],
          "name": "stderr"
        },
        {
          "output_type": "stream",
          "text": [
            "\rtrain batch [3/41]: loss 0.3470737338066101"
          ],
          "name": "stdout"
        },
        {
          "output_type": "stream",
          "text": [
            "\r4it [00:55, 13.81s/it]"
          ],
          "name": "stderr"
        },
        {
          "output_type": "stream",
          "text": [
            "\rtrain batch [4/41]: loss 0.27436310052871704"
          ],
          "name": "stdout"
        },
        {
          "output_type": "stream",
          "text": [
            "\r5it [01:08, 13.76s/it]"
          ],
          "name": "stderr"
        },
        {
          "output_type": "stream",
          "text": [
            "\rtrain batch [5/41]: loss 0.3702564239501953"
          ],
          "name": "stdout"
        },
        {
          "output_type": "stream",
          "text": [
            "\r6it [01:22, 13.79s/it]"
          ],
          "name": "stderr"
        },
        {
          "output_type": "stream",
          "text": [
            "\rtrain batch [6/41]: loss 0.33204635977745056"
          ],
          "name": "stdout"
        },
        {
          "output_type": "stream",
          "text": [
            "\r7it [01:36, 13.80s/it]"
          ],
          "name": "stderr"
        },
        {
          "output_type": "stream",
          "text": [
            "\rtrain batch [7/41]: loss 0.331686794757843"
          ],
          "name": "stdout"
        },
        {
          "output_type": "stream",
          "text": [
            "\r8it [01:50, 13.84s/it]"
          ],
          "name": "stderr"
        },
        {
          "output_type": "stream",
          "text": [
            "\rtrain batch [8/41]: loss 0.43432462215423584"
          ],
          "name": "stdout"
        },
        {
          "output_type": "stream",
          "text": [
            "\r9it [02:04, 13.87s/it]"
          ],
          "name": "stderr"
        },
        {
          "output_type": "stream",
          "text": [
            "\rtrain batch [9/41]: loss 0.35957714915275574"
          ],
          "name": "stdout"
        },
        {
          "output_type": "stream",
          "text": [
            "\r10it [02:18, 13.93s/it]"
          ],
          "name": "stderr"
        },
        {
          "output_type": "stream",
          "text": [
            "\rtrain batch [10/41]: loss 0.26714301109313965"
          ],
          "name": "stdout"
        },
        {
          "output_type": "stream",
          "text": [
            "\r11it [02:32, 13.89s/it]"
          ],
          "name": "stderr"
        },
        {
          "output_type": "stream",
          "text": [
            "\rtrain batch [11/41]: loss 0.39107364416122437"
          ],
          "name": "stdout"
        },
        {
          "output_type": "stream",
          "text": [
            "\r12it [02:46, 13.90s/it]"
          ],
          "name": "stderr"
        },
        {
          "output_type": "stream",
          "text": [
            "\rtrain batch [12/41]: loss 0.32127517461776733"
          ],
          "name": "stdout"
        },
        {
          "output_type": "stream",
          "text": [
            "\r13it [03:00, 13.88s/it]"
          ],
          "name": "stderr"
        },
        {
          "output_type": "stream",
          "text": [
            "\rtrain batch [13/41]: loss 0.4447101354598999"
          ],
          "name": "stdout"
        },
        {
          "output_type": "stream",
          "text": [
            "\r14it [03:14, 13.93s/it]"
          ],
          "name": "stderr"
        },
        {
          "output_type": "stream",
          "text": [
            "\rtrain batch [14/41]: loss 0.38357433676719666"
          ],
          "name": "stdout"
        },
        {
          "output_type": "stream",
          "text": [
            "\r15it [03:28, 13.96s/it]"
          ],
          "name": "stderr"
        },
        {
          "output_type": "stream",
          "text": [
            "\rtrain batch [15/41]: loss 0.43879520893096924"
          ],
          "name": "stdout"
        },
        {
          "output_type": "stream",
          "text": [
            "\r16it [03:42, 13.96s/it]"
          ],
          "name": "stderr"
        },
        {
          "output_type": "stream",
          "text": [
            "\rtrain batch [16/41]: loss 0.2985021770000458"
          ],
          "name": "stdout"
        },
        {
          "output_type": "stream",
          "text": [
            "\r17it [03:55, 13.86s/it]"
          ],
          "name": "stderr"
        },
        {
          "output_type": "stream",
          "text": [
            "\rtrain batch [17/41]: loss 0.35377267003059387"
          ],
          "name": "stdout"
        },
        {
          "output_type": "stream",
          "text": [
            "\r18it [04:09, 13.85s/it]"
          ],
          "name": "stderr"
        },
        {
          "output_type": "stream",
          "text": [
            "\rtrain batch [18/41]: loss 0.3824029862880707"
          ],
          "name": "stdout"
        },
        {
          "output_type": "stream",
          "text": [
            "\r19it [04:23, 13.81s/it]"
          ],
          "name": "stderr"
        },
        {
          "output_type": "stream",
          "text": [
            "\rtrain batch [19/41]: loss 0.36854666471481323"
          ],
          "name": "stdout"
        },
        {
          "output_type": "stream",
          "text": [
            "\r20it [04:37, 13.81s/it]"
          ],
          "name": "stderr"
        },
        {
          "output_type": "stream",
          "text": [
            "\rtrain batch [20/41]: loss 0.31641000509262085"
          ],
          "name": "stdout"
        },
        {
          "output_type": "stream",
          "text": [
            "\r21it [04:50, 13.81s/it]"
          ],
          "name": "stderr"
        },
        {
          "output_type": "stream",
          "text": [
            "\rtrain batch [21/41]: loss 0.42242440581321716"
          ],
          "name": "stdout"
        },
        {
          "output_type": "stream",
          "text": [
            "\r22it [05:04, 13.88s/it]"
          ],
          "name": "stderr"
        },
        {
          "output_type": "stream",
          "text": [
            "\rtrain batch [22/41]: loss 0.32079219818115234"
          ],
          "name": "stdout"
        },
        {
          "output_type": "stream",
          "text": [
            "\r23it [05:18, 13.83s/it]"
          ],
          "name": "stderr"
        },
        {
          "output_type": "stream",
          "text": [
            "\rtrain batch [23/41]: loss 0.3208516836166382"
          ],
          "name": "stdout"
        },
        {
          "output_type": "stream",
          "text": [
            "\r24it [05:32, 13.77s/it]"
          ],
          "name": "stderr"
        },
        {
          "output_type": "stream",
          "text": [
            "\rtrain batch [24/41]: loss 0.3419191241264343"
          ],
          "name": "stdout"
        },
        {
          "output_type": "stream",
          "text": [
            "\r25it [05:46, 13.80s/it]"
          ],
          "name": "stderr"
        },
        {
          "output_type": "stream",
          "text": [
            "\rtrain batch [25/41]: loss 0.3164355158805847"
          ],
          "name": "stdout"
        },
        {
          "output_type": "stream",
          "text": [
            "\r26it [05:59, 13.79s/it]"
          ],
          "name": "stderr"
        },
        {
          "output_type": "stream",
          "text": [
            "\rtrain batch [26/41]: loss 0.3338070511817932"
          ],
          "name": "stdout"
        },
        {
          "output_type": "stream",
          "text": [
            "\r27it [06:13, 13.79s/it]"
          ],
          "name": "stderr"
        },
        {
          "output_type": "stream",
          "text": [
            "\rtrain batch [27/41]: loss 0.35455161333084106"
          ],
          "name": "stdout"
        },
        {
          "output_type": "stream",
          "text": [
            "\r28it [06:27, 13.83s/it]"
          ],
          "name": "stderr"
        },
        {
          "output_type": "stream",
          "text": [
            "\rtrain batch [28/41]: loss 0.3748772144317627"
          ],
          "name": "stdout"
        },
        {
          "output_type": "stream",
          "text": [
            "\r29it [06:41, 13.80s/it]"
          ],
          "name": "stderr"
        },
        {
          "output_type": "stream",
          "text": [
            "\rtrain batch [29/41]: loss 0.32820194959640503"
          ],
          "name": "stdout"
        },
        {
          "output_type": "stream",
          "text": [
            "\r30it [06:55, 13.84s/it]"
          ],
          "name": "stderr"
        },
        {
          "output_type": "stream",
          "text": [
            "\rtrain batch [30/41]: loss 0.3146781325340271"
          ],
          "name": "stdout"
        },
        {
          "output_type": "stream",
          "text": [
            "\r31it [07:08, 13.80s/it]"
          ],
          "name": "stderr"
        },
        {
          "output_type": "stream",
          "text": [
            "\rtrain batch [31/41]: loss 0.3763973116874695"
          ],
          "name": "stdout"
        },
        {
          "output_type": "stream",
          "text": [
            "\r32it [07:22, 13.82s/it]"
          ],
          "name": "stderr"
        },
        {
          "output_type": "stream",
          "text": [
            "\rtrain batch [32/41]: loss 0.36800283193588257"
          ],
          "name": "stdout"
        },
        {
          "output_type": "stream",
          "text": [
            "\r33it [07:36, 13.87s/it]"
          ],
          "name": "stderr"
        },
        {
          "output_type": "stream",
          "text": [
            "\rtrain batch [33/41]: loss 0.3118484616279602"
          ],
          "name": "stdout"
        },
        {
          "output_type": "stream",
          "text": [
            "\r34it [07:50, 13.84s/it]"
          ],
          "name": "stderr"
        },
        {
          "output_type": "stream",
          "text": [
            "\rtrain batch [34/41]: loss 0.35391610860824585"
          ],
          "name": "stdout"
        },
        {
          "output_type": "stream",
          "text": [
            "\r35it [08:04, 13.82s/it]"
          ],
          "name": "stderr"
        },
        {
          "output_type": "stream",
          "text": [
            "\rtrain batch [35/41]: loss 0.3262867033481598"
          ],
          "name": "stdout"
        },
        {
          "output_type": "stream",
          "text": [
            "\r36it [08:18, 13.81s/it]"
          ],
          "name": "stderr"
        },
        {
          "output_type": "stream",
          "text": [
            "\rtrain batch [36/41]: loss 0.3561575710773468"
          ],
          "name": "stdout"
        },
        {
          "output_type": "stream",
          "text": [
            "\r37it [08:31, 13.81s/it]"
          ],
          "name": "stderr"
        },
        {
          "output_type": "stream",
          "text": [
            "\rtrain batch [37/41]: loss 0.3118344247341156"
          ],
          "name": "stdout"
        },
        {
          "output_type": "stream",
          "text": [
            "\r38it [08:45, 13.81s/it]"
          ],
          "name": "stderr"
        },
        {
          "output_type": "stream",
          "text": [
            "\rtrain batch [38/41]: loss 0.3181023895740509"
          ],
          "name": "stdout"
        },
        {
          "output_type": "stream",
          "text": [
            "\r39it [08:59, 13.77s/it]"
          ],
          "name": "stderr"
        },
        {
          "output_type": "stream",
          "text": [
            "\rtrain batch [39/41]: loss 0.31564760208129883"
          ],
          "name": "stdout"
        },
        {
          "output_type": "stream",
          "text": [
            "\r40it [09:13, 13.77s/it]"
          ],
          "name": "stderr"
        },
        {
          "output_type": "stream",
          "text": [
            "\rtrain batch [40/41]: loss 0.36157533526420593"
          ],
          "name": "stdout"
        },
        {
          "output_type": "stream",
          "text": [
            "41it [09:23, 13.75s/it]"
          ],
          "name": "stderr"
        },
        {
          "output_type": "stream",
          "text": [
            "\rval batch [0/4]: loss 1.2900991439819336"
          ],
          "name": "stdout"
        },
        {
          "output_type": "stream",
          "text": [
            "\n"
          ],
          "name": "stderr"
        },
        {
          "output_type": "stream",
          "text": [
            "val batch [3/4]: loss 0.21556612849235535"
          ],
          "name": "stdout"
        },
        {
          "output_type": "stream",
          "text": [
            "\r0it [00:00, ?it/s]"
          ],
          "name": "stderr"
        },
        {
          "output_type": "stream",
          "text": [
            "\n",
            "Train loss: 0.34719850668093055, Train accuracy: 0.8125\n",
            "Val loss: 0.6837960705161095, Val accuracy: 0.625\n",
            "\n",
            "=============== Epoch: 12\n",
            "train batch [0/41]: loss 0.34403520822525024"
          ],
          "name": "stdout"
        },
        {
          "output_type": "stream",
          "text": [
            "\r1it [00:13, 13.70s/it]"
          ],
          "name": "stderr"
        },
        {
          "output_type": "stream",
          "text": [
            "\rtrain batch [1/41]: loss 0.3155193328857422"
          ],
          "name": "stdout"
        },
        {
          "output_type": "stream",
          "text": [
            "\r2it [00:27, 13.71s/it]"
          ],
          "name": "stderr"
        },
        {
          "output_type": "stream",
          "text": [
            "\rtrain batch [2/41]: loss 0.27386099100112915"
          ],
          "name": "stdout"
        },
        {
          "output_type": "stream",
          "text": [
            "\r3it [00:41, 13.71s/it]"
          ],
          "name": "stderr"
        },
        {
          "output_type": "stream",
          "text": [
            "\rtrain batch [3/41]: loss 0.36994314193725586"
          ],
          "name": "stdout"
        },
        {
          "output_type": "stream",
          "text": [
            "\r4it [00:54, 13.73s/it]"
          ],
          "name": "stderr"
        },
        {
          "output_type": "stream",
          "text": [
            "\rtrain batch [4/41]: loss 0.4515306055545807"
          ],
          "name": "stdout"
        },
        {
          "output_type": "stream",
          "text": [
            "\r5it [01:08, 13.77s/it]"
          ],
          "name": "stderr"
        },
        {
          "output_type": "stream",
          "text": [
            "\rtrain batch [5/41]: loss 0.3466452658176422"
          ],
          "name": "stdout"
        },
        {
          "output_type": "stream",
          "text": [
            "\r6it [01:22, 13.76s/it]"
          ],
          "name": "stderr"
        },
        {
          "output_type": "stream",
          "text": [
            "\rtrain batch [6/41]: loss 0.38325417041778564"
          ],
          "name": "stdout"
        },
        {
          "output_type": "stream",
          "text": [
            "\r7it [01:36, 13.83s/it]"
          ],
          "name": "stderr"
        },
        {
          "output_type": "stream",
          "text": [
            "\rtrain batch [7/41]: loss 0.2935630679130554"
          ],
          "name": "stdout"
        },
        {
          "output_type": "stream",
          "text": [
            "\r8it [01:50, 13.86s/it]"
          ],
          "name": "stderr"
        },
        {
          "output_type": "stream",
          "text": [
            "\rtrain batch [8/41]: loss 0.2996811866760254"
          ],
          "name": "stdout"
        },
        {
          "output_type": "stream",
          "text": [
            "\r9it [02:04, 13.84s/it]"
          ],
          "name": "stderr"
        },
        {
          "output_type": "stream",
          "text": [
            "\rtrain batch [9/41]: loss 0.3745986819267273"
          ],
          "name": "stdout"
        },
        {
          "output_type": "stream",
          "text": [
            "\r10it [02:18, 13.83s/it]"
          ],
          "name": "stderr"
        },
        {
          "output_type": "stream",
          "text": [
            "\rtrain batch [10/41]: loss 0.2830774784088135"
          ],
          "name": "stdout"
        },
        {
          "output_type": "stream",
          "text": [
            "\r11it [02:31, 13.81s/it]"
          ],
          "name": "stderr"
        },
        {
          "output_type": "stream",
          "text": [
            "\rtrain batch [11/41]: loss 0.35860010981559753"
          ],
          "name": "stdout"
        },
        {
          "output_type": "stream",
          "text": [
            "\r12it [02:45, 13.85s/it]"
          ],
          "name": "stderr"
        },
        {
          "output_type": "stream",
          "text": [
            "\rtrain batch [12/41]: loss 0.3452805280685425"
          ],
          "name": "stdout"
        },
        {
          "output_type": "stream",
          "text": [
            "\r13it [02:59, 13.80s/it]"
          ],
          "name": "stderr"
        },
        {
          "output_type": "stream",
          "text": [
            "\rtrain batch [13/41]: loss 0.3192859888076782"
          ],
          "name": "stdout"
        },
        {
          "output_type": "stream",
          "text": [
            "\r14it [03:13, 13.79s/it]"
          ],
          "name": "stderr"
        },
        {
          "output_type": "stream",
          "text": [
            "\rtrain batch [14/41]: loss 0.35709768533706665"
          ],
          "name": "stdout"
        },
        {
          "output_type": "stream",
          "text": [
            "\r15it [03:27, 13.79s/it]"
          ],
          "name": "stderr"
        },
        {
          "output_type": "stream",
          "text": [
            "\rtrain batch [15/41]: loss 0.3955128788948059"
          ],
          "name": "stdout"
        },
        {
          "output_type": "stream",
          "text": [
            "\r16it [03:40, 13.82s/it]"
          ],
          "name": "stderr"
        },
        {
          "output_type": "stream",
          "text": [
            "\rtrain batch [16/41]: loss 0.4059715270996094"
          ],
          "name": "stdout"
        },
        {
          "output_type": "stream",
          "text": [
            "\r17it [03:54, 13.84s/it]"
          ],
          "name": "stderr"
        },
        {
          "output_type": "stream",
          "text": [
            "\rtrain batch [17/41]: loss 0.33121317625045776"
          ],
          "name": "stdout"
        },
        {
          "output_type": "stream",
          "text": [
            "\r18it [04:08, 13.84s/it]"
          ],
          "name": "stderr"
        },
        {
          "output_type": "stream",
          "text": [
            "\rtrain batch [18/41]: loss 0.33206814527511597"
          ],
          "name": "stdout"
        },
        {
          "output_type": "stream",
          "text": [
            "\r19it [04:22, 13.81s/it]"
          ],
          "name": "stderr"
        },
        {
          "output_type": "stream",
          "text": [
            "\rtrain batch [19/41]: loss 0.41668540239334106"
          ],
          "name": "stdout"
        },
        {
          "output_type": "stream",
          "text": [
            "\r20it [04:36, 13.89s/it]"
          ],
          "name": "stderr"
        },
        {
          "output_type": "stream",
          "text": [
            "\rtrain batch [20/41]: loss 0.3044065237045288"
          ],
          "name": "stdout"
        },
        {
          "output_type": "stream",
          "text": [
            "\r21it [04:50, 13.86s/it]"
          ],
          "name": "stderr"
        },
        {
          "output_type": "stream",
          "text": [
            "\rtrain batch [21/41]: loss 0.3634434938430786"
          ],
          "name": "stdout"
        },
        {
          "output_type": "stream",
          "text": [
            "\r22it [05:04, 13.88s/it]"
          ],
          "name": "stderr"
        },
        {
          "output_type": "stream",
          "text": [
            "\rtrain batch [22/41]: loss 0.3165220022201538"
          ],
          "name": "stdout"
        },
        {
          "output_type": "stream",
          "text": [
            "\r23it [05:18, 13.91s/it]"
          ],
          "name": "stderr"
        },
        {
          "output_type": "stream",
          "text": [
            "\rtrain batch [23/41]: loss 0.27970045804977417"
          ],
          "name": "stdout"
        },
        {
          "output_type": "stream",
          "text": [
            "\r24it [05:31, 13.86s/it]"
          ],
          "name": "stderr"
        },
        {
          "output_type": "stream",
          "text": [
            "\rtrain batch [24/41]: loss 0.3894202411174774"
          ],
          "name": "stdout"
        },
        {
          "output_type": "stream",
          "text": [
            "\r25it [05:45, 13.83s/it]"
          ],
          "name": "stderr"
        },
        {
          "output_type": "stream",
          "text": [
            "\rtrain batch [25/41]: loss 0.33312922716140747"
          ],
          "name": "stdout"
        },
        {
          "output_type": "stream",
          "text": [
            "\r26it [05:59, 13.85s/it]"
          ],
          "name": "stderr"
        },
        {
          "output_type": "stream",
          "text": [
            "\rtrain batch [26/41]: loss 0.34368792176246643"
          ],
          "name": "stdout"
        },
        {
          "output_type": "stream",
          "text": [
            "\r27it [06:13, 13.89s/it]"
          ],
          "name": "stderr"
        },
        {
          "output_type": "stream",
          "text": [
            "\rtrain batch [27/41]: loss 0.32785534858703613"
          ],
          "name": "stdout"
        },
        {
          "output_type": "stream",
          "text": [
            "\r28it [06:27, 13.91s/it]"
          ],
          "name": "stderr"
        },
        {
          "output_type": "stream",
          "text": [
            "\rtrain batch [28/41]: loss 0.31956708431243896"
          ],
          "name": "stdout"
        },
        {
          "output_type": "stream",
          "text": [
            "\r29it [06:41, 13.81s/it]"
          ],
          "name": "stderr"
        },
        {
          "output_type": "stream",
          "text": [
            "\rtrain batch [29/41]: loss 0.3075511157512665"
          ],
          "name": "stdout"
        },
        {
          "output_type": "stream",
          "text": [
            "\r30it [06:54, 13.77s/it]"
          ],
          "name": "stderr"
        },
        {
          "output_type": "stream",
          "text": [
            "\rtrain batch [30/41]: loss 0.3497660756111145"
          ],
          "name": "stdout"
        },
        {
          "output_type": "stream",
          "text": [
            "\r31it [07:08, 13.80s/it]"
          ],
          "name": "stderr"
        },
        {
          "output_type": "stream",
          "text": [
            "\rtrain batch [31/41]: loss 0.32432329654693604"
          ],
          "name": "stdout"
        },
        {
          "output_type": "stream",
          "text": [
            "\r32it [07:22, 13.77s/it]"
          ],
          "name": "stderr"
        },
        {
          "output_type": "stream",
          "text": [
            "\rtrain batch [32/41]: loss 0.383320689201355"
          ],
          "name": "stdout"
        },
        {
          "output_type": "stream",
          "text": [
            "\r33it [07:36, 13.84s/it]"
          ],
          "name": "stderr"
        },
        {
          "output_type": "stream",
          "text": [
            "\rtrain batch [33/41]: loss 0.34393948316574097"
          ],
          "name": "stdout"
        },
        {
          "output_type": "stream",
          "text": [
            "\r34it [07:50, 13.85s/it]"
          ],
          "name": "stderr"
        },
        {
          "output_type": "stream",
          "text": [
            "\rtrain batch [34/41]: loss 0.2970496416091919"
          ],
          "name": "stdout"
        },
        {
          "output_type": "stream",
          "text": [
            "\r35it [08:03, 13.82s/it]"
          ],
          "name": "stderr"
        },
        {
          "output_type": "stream",
          "text": [
            "\rtrain batch [35/41]: loss 0.33563584089279175"
          ],
          "name": "stdout"
        },
        {
          "output_type": "stream",
          "text": [
            "\r36it [08:17, 13.78s/it]"
          ],
          "name": "stderr"
        },
        {
          "output_type": "stream",
          "text": [
            "\rtrain batch [36/41]: loss 0.2973351776599884"
          ],
          "name": "stdout"
        },
        {
          "output_type": "stream",
          "text": [
            "\r37it [08:31, 13.80s/it]"
          ],
          "name": "stderr"
        },
        {
          "output_type": "stream",
          "text": [
            "\rtrain batch [37/41]: loss 0.31863129138946533"
          ],
          "name": "stdout"
        },
        {
          "output_type": "stream",
          "text": [
            "\r38it [08:45, 13.81s/it]"
          ],
          "name": "stderr"
        },
        {
          "output_type": "stream",
          "text": [
            "\rtrain batch [38/41]: loss 0.3657258152961731"
          ],
          "name": "stdout"
        },
        {
          "output_type": "stream",
          "text": [
            "\r39it [08:59, 13.86s/it]"
          ],
          "name": "stderr"
        },
        {
          "output_type": "stream",
          "text": [
            "\rtrain batch [39/41]: loss 0.3385312259197235"
          ],
          "name": "stdout"
        },
        {
          "output_type": "stream",
          "text": [
            "\r40it [09:13, 13.83s/it]"
          ],
          "name": "stderr"
        },
        {
          "output_type": "stream",
          "text": [
            "\rtrain batch [40/41]: loss 0.32273226976394653"
          ],
          "name": "stdout"
        },
        {
          "output_type": "stream",
          "text": [
            "41it [09:23, 13.75s/it]"
          ],
          "name": "stderr"
        },
        {
          "output_type": "stream",
          "text": [
            "\rval batch [0/4]: loss 1.6910686492919922"
          ],
          "name": "stdout"
        },
        {
          "output_type": "stream",
          "text": [
            "\n"
          ],
          "name": "stderr"
        },
        {
          "output_type": "stream",
          "text": [
            "val batch [3/4]: loss 0.09151923656463623"
          ],
          "name": "stdout"
        },
        {
          "output_type": "stream",
          "text": [
            "\r0it [00:00, ?it/s]"
          ],
          "name": "stderr"
        },
        {
          "output_type": "stream",
          "text": [
            "\n",
            "Train loss: 0.3404804569918935, Train accuracy: 0.8328220844268799\n",
            "Val loss: 0.7165992297232151, Val accuracy: 0.625\n",
            "\n",
            "=============== Epoch: 13\n",
            "train batch [0/41]: loss 0.36571407318115234"
          ],
          "name": "stdout"
        },
        {
          "output_type": "stream",
          "text": [
            "\r1it [00:13, 13.74s/it]"
          ],
          "name": "stderr"
        },
        {
          "output_type": "stream",
          "text": [
            "\rtrain batch [1/41]: loss 0.39098912477493286"
          ],
          "name": "stdout"
        },
        {
          "output_type": "stream",
          "text": [
            "\r2it [00:27, 13.76s/it]"
          ],
          "name": "stderr"
        },
        {
          "output_type": "stream",
          "text": [
            "\rtrain batch [2/41]: loss 0.3172147274017334"
          ],
          "name": "stdout"
        },
        {
          "output_type": "stream",
          "text": [
            "\r3it [00:41, 13.77s/it]"
          ],
          "name": "stderr"
        },
        {
          "output_type": "stream",
          "text": [
            "\rtrain batch [3/41]: loss 0.30049464106559753"
          ],
          "name": "stdout"
        },
        {
          "output_type": "stream",
          "text": [
            "\r4it [00:54, 13.73s/it]"
          ],
          "name": "stderr"
        },
        {
          "output_type": "stream",
          "text": [
            "\rtrain batch [4/41]: loss 0.3284604549407959"
          ],
          "name": "stdout"
        },
        {
          "output_type": "stream",
          "text": [
            "\r5it [01:08, 13.80s/it]"
          ],
          "name": "stderr"
        },
        {
          "output_type": "stream",
          "text": [
            "\rtrain batch [5/41]: loss 0.381713330745697"
          ],
          "name": "stdout"
        },
        {
          "output_type": "stream",
          "text": [
            "\r6it [01:22, 13.80s/it]"
          ],
          "name": "stderr"
        },
        {
          "output_type": "stream",
          "text": [
            "\rtrain batch [6/41]: loss 0.3037872314453125"
          ],
          "name": "stdout"
        },
        {
          "output_type": "stream",
          "text": [
            "\r7it [01:36, 13.78s/it]"
          ],
          "name": "stderr"
        },
        {
          "output_type": "stream",
          "text": [
            "\rtrain batch [7/41]: loss 0.3576522767543793"
          ],
          "name": "stdout"
        },
        {
          "output_type": "stream",
          "text": [
            "\r8it [01:50, 13.74s/it]"
          ],
          "name": "stderr"
        },
        {
          "output_type": "stream",
          "text": [
            "\rtrain batch [8/41]: loss 0.3469391465187073"
          ],
          "name": "stdout"
        },
        {
          "output_type": "stream",
          "text": [
            "\r9it [02:04, 13.82s/it]"
          ],
          "name": "stderr"
        },
        {
          "output_type": "stream",
          "text": [
            "\rtrain batch [9/41]: loss 0.36464202404022217"
          ],
          "name": "stdout"
        },
        {
          "output_type": "stream",
          "text": [
            "\r10it [02:18, 13.83s/it]"
          ],
          "name": "stderr"
        },
        {
          "output_type": "stream",
          "text": [
            "\rtrain batch [10/41]: loss 0.328352689743042"
          ],
          "name": "stdout"
        },
        {
          "output_type": "stream",
          "text": [
            "\r11it [02:31, 13.87s/it]"
          ],
          "name": "stderr"
        },
        {
          "output_type": "stream",
          "text": [
            "\rtrain batch [11/41]: loss 0.2758377492427826"
          ],
          "name": "stdout"
        },
        {
          "output_type": "stream",
          "text": [
            "\r12it [02:45, 13.79s/it]"
          ],
          "name": "stderr"
        },
        {
          "output_type": "stream",
          "text": [
            "\rtrain batch [12/41]: loss 0.32542163133621216"
          ],
          "name": "stdout"
        },
        {
          "output_type": "stream",
          "text": [
            "\r13it [02:59, 13.77s/it]"
          ],
          "name": "stderr"
        },
        {
          "output_type": "stream",
          "text": [
            "\rtrain batch [13/41]: loss 0.33256834745407104"
          ],
          "name": "stdout"
        },
        {
          "output_type": "stream",
          "text": [
            "\r14it [03:13, 13.76s/it]"
          ],
          "name": "stderr"
        },
        {
          "output_type": "stream",
          "text": [
            "\rtrain batch [14/41]: loss 0.31171914935112"
          ],
          "name": "stdout"
        },
        {
          "output_type": "stream",
          "text": [
            "\r15it [03:26, 13.81s/it]"
          ],
          "name": "stderr"
        },
        {
          "output_type": "stream",
          "text": [
            "\rtrain batch [15/41]: loss 0.3024270534515381"
          ],
          "name": "stdout"
        },
        {
          "output_type": "stream",
          "text": [
            "\r16it [03:40, 13.79s/it]"
          ],
          "name": "stderr"
        },
        {
          "output_type": "stream",
          "text": [
            "\rtrain batch [16/41]: loss 0.30412814021110535"
          ],
          "name": "stdout"
        },
        {
          "output_type": "stream",
          "text": [
            "\r17it [03:54, 13.81s/it]"
          ],
          "name": "stderr"
        },
        {
          "output_type": "stream",
          "text": [
            "\rtrain batch [17/41]: loss 0.35480356216430664"
          ],
          "name": "stdout"
        },
        {
          "output_type": "stream",
          "text": [
            "\r18it [04:08, 13.84s/it]"
          ],
          "name": "stderr"
        },
        {
          "output_type": "stream",
          "text": [
            "\rtrain batch [18/41]: loss 0.30475300550460815"
          ],
          "name": "stdout"
        },
        {
          "output_type": "stream",
          "text": [
            "\r19it [04:22, 13.78s/it]"
          ],
          "name": "stderr"
        },
        {
          "output_type": "stream",
          "text": [
            "\rtrain batch [19/41]: loss 0.40467962622642517"
          ],
          "name": "stdout"
        },
        {
          "output_type": "stream",
          "text": [
            "\r20it [04:36, 13.89s/it]"
          ],
          "name": "stderr"
        },
        {
          "output_type": "stream",
          "text": [
            "\rtrain batch [20/41]: loss 0.35980451107025146"
          ],
          "name": "stdout"
        },
        {
          "output_type": "stream",
          "text": [
            "\r21it [04:50, 13.91s/it]"
          ],
          "name": "stderr"
        },
        {
          "output_type": "stream",
          "text": [
            "\rtrain batch [21/41]: loss 0.31642431020736694"
          ],
          "name": "stdout"
        },
        {
          "output_type": "stream",
          "text": [
            "\r22it [05:04, 13.92s/it]"
          ],
          "name": "stderr"
        },
        {
          "output_type": "stream",
          "text": [
            "\rtrain batch [22/41]: loss 0.36128151416778564"
          ],
          "name": "stdout"
        },
        {
          "output_type": "stream",
          "text": [
            "\r23it [05:18, 13.93s/it]"
          ],
          "name": "stderr"
        },
        {
          "output_type": "stream",
          "text": [
            "\rtrain batch [23/41]: loss 0.34374648332595825"
          ],
          "name": "stdout"
        },
        {
          "output_type": "stream",
          "text": [
            "\r24it [05:31, 13.87s/it]"
          ],
          "name": "stderr"
        },
        {
          "output_type": "stream",
          "text": [
            "\rtrain batch [24/41]: loss 0.36657965183258057"
          ],
          "name": "stdout"
        },
        {
          "output_type": "stream",
          "text": [
            "\r25it [05:45, 13.82s/it]"
          ],
          "name": "stderr"
        },
        {
          "output_type": "stream",
          "text": [
            "\rtrain batch [25/41]: loss 0.3005615472793579"
          ],
          "name": "stdout"
        },
        {
          "output_type": "stream",
          "text": [
            "\r26it [05:59, 13.78s/it]"
          ],
          "name": "stderr"
        },
        {
          "output_type": "stream",
          "text": [
            "\rtrain batch [26/41]: loss 0.3398470878601074"
          ],
          "name": "stdout"
        },
        {
          "output_type": "stream",
          "text": [
            "\r27it [06:13, 13.81s/it]"
          ],
          "name": "stderr"
        },
        {
          "output_type": "stream",
          "text": [
            "\rtrain batch [27/41]: loss 0.2664197087287903"
          ],
          "name": "stdout"
        },
        {
          "output_type": "stream",
          "text": [
            "\r28it [06:26, 13.79s/it]"
          ],
          "name": "stderr"
        },
        {
          "output_type": "stream",
          "text": [
            "\rtrain batch [28/41]: loss 0.3798537254333496"
          ],
          "name": "stdout"
        },
        {
          "output_type": "stream",
          "text": [
            "\r29it [06:40, 13.80s/it]"
          ],
          "name": "stderr"
        },
        {
          "output_type": "stream",
          "text": [
            "\rtrain batch [29/41]: loss 0.336274117231369"
          ],
          "name": "stdout"
        },
        {
          "output_type": "stream",
          "text": [
            "\r30it [06:54, 13.77s/it]"
          ],
          "name": "stderr"
        },
        {
          "output_type": "stream",
          "text": [
            "\rtrain batch [30/41]: loss 0.3381305932998657"
          ],
          "name": "stdout"
        },
        {
          "output_type": "stream",
          "text": [
            "\r31it [07:08, 13.76s/it]"
          ],
          "name": "stderr"
        },
        {
          "output_type": "stream",
          "text": [
            "\rtrain batch [31/41]: loss 0.31064897775650024"
          ],
          "name": "stdout"
        },
        {
          "output_type": "stream",
          "text": [
            "\r32it [07:21, 13.70s/it]"
          ],
          "name": "stderr"
        },
        {
          "output_type": "stream",
          "text": [
            "\rtrain batch [32/41]: loss 0.3478420376777649"
          ],
          "name": "stdout"
        },
        {
          "output_type": "stream",
          "text": [
            "\r33it [07:35, 13.78s/it]"
          ],
          "name": "stderr"
        },
        {
          "output_type": "stream",
          "text": [
            "\rtrain batch [33/41]: loss 0.3849645256996155"
          ],
          "name": "stdout"
        },
        {
          "output_type": "stream",
          "text": [
            "\r34it [07:49, 13.88s/it]"
          ],
          "name": "stderr"
        },
        {
          "output_type": "stream",
          "text": [
            "\rtrain batch [34/41]: loss 0.33171114325523376"
          ],
          "name": "stdout"
        },
        {
          "output_type": "stream",
          "text": [
            "\r35it [08:03, 13.96s/it]"
          ],
          "name": "stderr"
        },
        {
          "output_type": "stream",
          "text": [
            "\rtrain batch [35/41]: loss 0.3349584937095642"
          ],
          "name": "stdout"
        },
        {
          "output_type": "stream",
          "text": [
            "\r36it [08:17, 13.94s/it]"
          ],
          "name": "stderr"
        },
        {
          "output_type": "stream",
          "text": [
            "\rtrain batch [36/41]: loss 0.24421250820159912"
          ],
          "name": "stdout"
        },
        {
          "output_type": "stream",
          "text": [
            "\r37it [08:31, 13.85s/it]"
          ],
          "name": "stderr"
        },
        {
          "output_type": "stream",
          "text": [
            "\rtrain batch [37/41]: loss 0.34582269191741943"
          ],
          "name": "stdout"
        },
        {
          "output_type": "stream",
          "text": [
            "\r38it [08:45, 13.84s/it]"
          ],
          "name": "stderr"
        },
        {
          "output_type": "stream",
          "text": [
            "\rtrain batch [38/41]: loss 0.36458921432495117"
          ],
          "name": "stdout"
        },
        {
          "output_type": "stream",
          "text": [
            "\r39it [08:59, 13.88s/it]"
          ],
          "name": "stderr"
        },
        {
          "output_type": "stream",
          "text": [
            "\rtrain batch [39/41]: loss 0.28781062364578247"
          ],
          "name": "stdout"
        },
        {
          "output_type": "stream",
          "text": [
            "\r40it [09:13, 13.88s/it]"
          ],
          "name": "stderr"
        },
        {
          "output_type": "stream",
          "text": [
            "\rtrain batch [40/41]: loss 0.280658096075058"
          ],
          "name": "stdout"
        },
        {
          "output_type": "stream",
          "text": [
            "41it [09:23, 13.75s/it]"
          ],
          "name": "stderr"
        },
        {
          "output_type": "stream",
          "text": [
            "\rval batch [0/4]: loss 1.8748174905776978"
          ],
          "name": "stdout"
        },
        {
          "output_type": "stream",
          "text": [
            "\n"
          ],
          "name": "stderr"
        },
        {
          "output_type": "stream",
          "text": [
            "val batch [3/4]: loss 0.11008325219154358"
          ],
          "name": "stdout"
        },
        {
          "output_type": "stream",
          "text": [
            "\r0it [00:00, ?it/s]"
          ],
          "name": "stderr"
        },
        {
          "output_type": "stream",
          "text": [
            "\n",
            "Train loss: 0.332791211038101, Train accuracy: 0.8406825065612793\n",
            "Val loss: 0.845973514020443, Val accuracy: 0.625\n",
            "\n",
            "=============== Epoch: 14\n",
            "train batch [0/41]: loss 0.3063631057739258"
          ],
          "name": "stdout"
        },
        {
          "output_type": "stream",
          "text": [
            "\r1it [00:13, 13.92s/it]"
          ],
          "name": "stderr"
        },
        {
          "output_type": "stream",
          "text": [
            "\rtrain batch [1/41]: loss 0.32107025384902954"
          ],
          "name": "stdout"
        },
        {
          "output_type": "stream",
          "text": [
            "\r2it [00:27, 13.92s/it]"
          ],
          "name": "stderr"
        },
        {
          "output_type": "stream",
          "text": [
            "\rtrain batch [2/41]: loss 0.28032469749450684"
          ],
          "name": "stdout"
        },
        {
          "output_type": "stream",
          "text": [
            "\r3it [00:41, 13.92s/it]"
          ],
          "name": "stderr"
        },
        {
          "output_type": "stream",
          "text": [
            "\rtrain batch [3/41]: loss 0.37483885884284973"
          ],
          "name": "stdout"
        },
        {
          "output_type": "stream",
          "text": [
            "\r4it [00:55, 13.90s/it]"
          ],
          "name": "stderr"
        },
        {
          "output_type": "stream",
          "text": [
            "\rtrain batch [4/41]: loss 0.2820931375026703"
          ],
          "name": "stdout"
        },
        {
          "output_type": "stream",
          "text": [
            "\r5it [01:09, 13.83s/it]"
          ],
          "name": "stderr"
        },
        {
          "output_type": "stream",
          "text": [
            "\rtrain batch [5/41]: loss 0.444328248500824"
          ],
          "name": "stdout"
        },
        {
          "output_type": "stream",
          "text": [
            "\r6it [01:23, 13.85s/it]"
          ],
          "name": "stderr"
        },
        {
          "output_type": "stream",
          "text": [
            "\rtrain batch [6/41]: loss 0.34643715620040894"
          ],
          "name": "stdout"
        },
        {
          "output_type": "stream",
          "text": [
            "\r7it [01:37, 13.85s/it]"
          ],
          "name": "stderr"
        },
        {
          "output_type": "stream",
          "text": [
            "\rtrain batch [7/41]: loss 0.3220352530479431"
          ],
          "name": "stdout"
        },
        {
          "output_type": "stream",
          "text": [
            "\r8it [01:50, 13.85s/it]"
          ],
          "name": "stderr"
        },
        {
          "output_type": "stream",
          "text": [
            "\rtrain batch [8/41]: loss 0.3278576731681824"
          ],
          "name": "stdout"
        },
        {
          "output_type": "stream",
          "text": [
            "\r9it [02:04, 13.85s/it]"
          ],
          "name": "stderr"
        },
        {
          "output_type": "stream",
          "text": [
            "\rtrain batch [9/41]: loss 0.4269554316997528"
          ],
          "name": "stdout"
        },
        {
          "output_type": "stream",
          "text": [
            "\r10it [02:18, 13.88s/it]"
          ],
          "name": "stderr"
        },
        {
          "output_type": "stream",
          "text": [
            "\rtrain batch [10/41]: loss 0.274946928024292"
          ],
          "name": "stdout"
        },
        {
          "output_type": "stream",
          "text": [
            "\r11it [02:32, 13.84s/it]"
          ],
          "name": "stderr"
        },
        {
          "output_type": "stream",
          "text": [
            "\rtrain batch [11/41]: loss 0.5114951133728027"
          ],
          "name": "stdout"
        },
        {
          "output_type": "stream",
          "text": [
            "\r12it [02:46, 13.88s/it]"
          ],
          "name": "stderr"
        },
        {
          "output_type": "stream",
          "text": [
            "\rtrain batch [12/41]: loss 0.32120203971862793"
          ],
          "name": "stdout"
        },
        {
          "output_type": "stream",
          "text": [
            "\r13it [03:00, 13.84s/it]"
          ],
          "name": "stderr"
        },
        {
          "output_type": "stream",
          "text": [
            "\rtrain batch [13/41]: loss 0.4286406636238098"
          ],
          "name": "stdout"
        },
        {
          "output_type": "stream",
          "text": [
            "\r14it [03:14, 13.92s/it]"
          ],
          "name": "stderr"
        },
        {
          "output_type": "stream",
          "text": [
            "\rtrain batch [14/41]: loss 0.3667142689228058"
          ],
          "name": "stdout"
        },
        {
          "output_type": "stream",
          "text": [
            "\r15it [03:28, 13.93s/it]"
          ],
          "name": "stderr"
        },
        {
          "output_type": "stream",
          "text": [
            "\rtrain batch [15/41]: loss 0.30046844482421875"
          ],
          "name": "stdout"
        },
        {
          "output_type": "stream",
          "text": [
            "\r16it [03:41, 13.87s/it]"
          ],
          "name": "stderr"
        },
        {
          "output_type": "stream",
          "text": [
            "\rtrain batch [16/41]: loss 0.37048670649528503"
          ],
          "name": "stdout"
        },
        {
          "output_type": "stream",
          "text": [
            "\r17it [03:55, 13.86s/it]"
          ],
          "name": "stderr"
        },
        {
          "output_type": "stream",
          "text": [
            "\rtrain batch [17/41]: loss 0.40282854437828064"
          ],
          "name": "stdout"
        },
        {
          "output_type": "stream",
          "text": [
            "\r18it [04:09, 13.87s/it]"
          ],
          "name": "stderr"
        },
        {
          "output_type": "stream",
          "text": [
            "\rtrain batch [18/41]: loss 0.3554355502128601"
          ],
          "name": "stdout"
        },
        {
          "output_type": "stream",
          "text": [
            "\r19it [04:23, 13.88s/it]"
          ],
          "name": "stderr"
        },
        {
          "output_type": "stream",
          "text": [
            "\rtrain batch [19/41]: loss 0.2708010673522949"
          ],
          "name": "stdout"
        },
        {
          "output_type": "stream",
          "text": [
            "\r20it [04:37, 13.79s/it]"
          ],
          "name": "stderr"
        },
        {
          "output_type": "stream",
          "text": [
            "\rtrain batch [20/41]: loss 0.3218332529067993"
          ],
          "name": "stdout"
        },
        {
          "output_type": "stream",
          "text": [
            "\r21it [04:50, 13.78s/it]"
          ],
          "name": "stderr"
        },
        {
          "output_type": "stream",
          "text": [
            "\rtrain batch [21/41]: loss 0.3812454342842102"
          ],
          "name": "stdout"
        },
        {
          "output_type": "stream",
          "text": [
            "\r22it [05:04, 13.76s/it]"
          ],
          "name": "stderr"
        },
        {
          "output_type": "stream",
          "text": [
            "\rtrain batch [22/41]: loss 0.4418407082557678"
          ],
          "name": "stdout"
        },
        {
          "output_type": "stream",
          "text": [
            "\r23it [05:18, 13.85s/it]"
          ],
          "name": "stderr"
        },
        {
          "output_type": "stream",
          "text": [
            "\rtrain batch [23/41]: loss 0.31729722023010254"
          ],
          "name": "stdout"
        },
        {
          "output_type": "stream",
          "text": [
            "\r24it [05:32, 13.78s/it]"
          ],
          "name": "stderr"
        },
        {
          "output_type": "stream",
          "text": [
            "\rtrain batch [24/41]: loss 0.28367143869400024"
          ],
          "name": "stdout"
        },
        {
          "output_type": "stream",
          "text": [
            "\r25it [05:45, 13.74s/it]"
          ],
          "name": "stderr"
        },
        {
          "output_type": "stream",
          "text": [
            "\rtrain batch [25/41]: loss 0.335695743560791"
          ],
          "name": "stdout"
        },
        {
          "output_type": "stream",
          "text": [
            "\r26it [05:59, 13.79s/it]"
          ],
          "name": "stderr"
        },
        {
          "output_type": "stream",
          "text": [
            "\rtrain batch [26/41]: loss 0.3190022110939026"
          ],
          "name": "stdout"
        },
        {
          "output_type": "stream",
          "text": [
            "\r27it [06:13, 13.76s/it]"
          ],
          "name": "stderr"
        },
        {
          "output_type": "stream",
          "text": [
            "\rtrain batch [27/41]: loss 0.3005855977535248"
          ],
          "name": "stdout"
        },
        {
          "output_type": "stream",
          "text": [
            "\r28it [06:27, 13.73s/it]"
          ],
          "name": "stderr"
        },
        {
          "output_type": "stream",
          "text": [
            "\rtrain batch [28/41]: loss 0.4968443512916565"
          ],
          "name": "stdout"
        },
        {
          "output_type": "stream",
          "text": [
            "\r29it [06:41, 13.76s/it]"
          ],
          "name": "stderr"
        },
        {
          "output_type": "stream",
          "text": [
            "\rtrain batch [29/41]: loss 0.3674578070640564"
          ],
          "name": "stdout"
        },
        {
          "output_type": "stream",
          "text": [
            "\r30it [06:54, 13.75s/it]"
          ],
          "name": "stderr"
        },
        {
          "output_type": "stream",
          "text": [
            "\rtrain batch [30/41]: loss 0.2692740857601166"
          ],
          "name": "stdout"
        },
        {
          "output_type": "stream",
          "text": [
            "\r31it [07:08, 13.72s/it]"
          ],
          "name": "stderr"
        },
        {
          "output_type": "stream",
          "text": [
            "\rtrain batch [31/41]: loss 0.30237698554992676"
          ],
          "name": "stdout"
        },
        {
          "output_type": "stream",
          "text": [
            "\r32it [07:22, 13.75s/it]"
          ],
          "name": "stderr"
        },
        {
          "output_type": "stream",
          "text": [
            "\rtrain batch [32/41]: loss 0.3347529172897339"
          ],
          "name": "stdout"
        },
        {
          "output_type": "stream",
          "text": [
            "\r33it [07:35, 13.71s/it]"
          ],
          "name": "stderr"
        },
        {
          "output_type": "stream",
          "text": [
            "\rtrain batch [33/41]: loss 0.47454026341438293"
          ],
          "name": "stdout"
        },
        {
          "output_type": "stream",
          "text": [
            "\r34it [07:49, 13.80s/it]"
          ],
          "name": "stderr"
        },
        {
          "output_type": "stream",
          "text": [
            "\rtrain batch [34/41]: loss 0.39596834778785706"
          ],
          "name": "stdout"
        },
        {
          "output_type": "stream",
          "text": [
            "\r35it [08:03, 13.83s/it]"
          ],
          "name": "stderr"
        },
        {
          "output_type": "stream",
          "text": [
            "\rtrain batch [35/41]: loss 0.3522056043148041"
          ],
          "name": "stdout"
        },
        {
          "output_type": "stream",
          "text": [
            "\r36it [08:17, 13.78s/it]"
          ],
          "name": "stderr"
        },
        {
          "output_type": "stream",
          "text": [
            "\rtrain batch [36/41]: loss 0.41506174206733704"
          ],
          "name": "stdout"
        },
        {
          "output_type": "stream",
          "text": [
            "\r37it [08:31, 13.86s/it]"
          ],
          "name": "stderr"
        },
        {
          "output_type": "stream",
          "text": [
            "\rtrain batch [37/41]: loss 0.36371859908103943"
          ],
          "name": "stdout"
        },
        {
          "output_type": "stream",
          "text": [
            "\r38it [08:45, 13.89s/it]"
          ],
          "name": "stderr"
        },
        {
          "output_type": "stream",
          "text": [
            "\rtrain batch [38/41]: loss 0.36088836193084717"
          ],
          "name": "stdout"
        },
        {
          "output_type": "stream",
          "text": [
            "\r39it [08:59, 13.84s/it]"
          ],
          "name": "stderr"
        },
        {
          "output_type": "stream",
          "text": [
            "\rtrain batch [39/41]: loss 0.3870393633842468"
          ],
          "name": "stdout"
        },
        {
          "output_type": "stream",
          "text": [
            "\r40it [09:12, 13.82s/it]"
          ],
          "name": "stderr"
        },
        {
          "output_type": "stream",
          "text": [
            "\rtrain batch [40/41]: loss 0.3395085334777832"
          ],
          "name": "stdout"
        },
        {
          "output_type": "stream",
          "text": [
            "41it [09:23, 13.74s/it]"
          ],
          "name": "stderr"
        },
        {
          "output_type": "stream",
          "text": [
            "\rval batch [0/4]: loss 1.494180679321289"
          ],
          "name": "stdout"
        },
        {
          "output_type": "stream",
          "text": [
            "\n"
          ],
          "name": "stderr"
        },
        {
          "output_type": "stream",
          "text": [
            "val batch [3/4]: loss 0.1528485119342804"
          ],
          "name": "stdout"
        },
        {
          "output_type": "stream",
          "text": [
            "\r0it [00:00, ?it/s]"
          ],
          "name": "stderr"
        },
        {
          "output_type": "stream",
          "text": [
            "\n",
            "Train loss: 0.35600321467329815, Train accuracy: 0.7998465895652771\n",
            "Val loss: 0.6615233011543751, Val accuracy: 0.625\n",
            "\n",
            "=============== Epoch: 15\n",
            "train batch [0/41]: loss 0.3367864489555359"
          ],
          "name": "stdout"
        },
        {
          "output_type": "stream",
          "text": [
            "\r1it [00:13, 13.66s/it]"
          ],
          "name": "stderr"
        },
        {
          "output_type": "stream",
          "text": [
            "\rtrain batch [1/41]: loss 0.3239479064941406"
          ],
          "name": "stdout"
        },
        {
          "output_type": "stream",
          "text": [
            "\r2it [00:27, 13.73s/it]"
          ],
          "name": "stderr"
        },
        {
          "output_type": "stream",
          "text": [
            "\rtrain batch [2/41]: loss 0.3187720775604248"
          ],
          "name": "stdout"
        },
        {
          "output_type": "stream",
          "text": [
            "\r3it [00:41, 13.73s/it]"
          ],
          "name": "stderr"
        },
        {
          "output_type": "stream",
          "text": [
            "\rtrain batch [3/41]: loss 0.3335779905319214"
          ],
          "name": "stdout"
        },
        {
          "output_type": "stream",
          "text": [
            "\r4it [00:55, 13.78s/it]"
          ],
          "name": "stderr"
        },
        {
          "output_type": "stream",
          "text": [
            "\rtrain batch [4/41]: loss 0.3815818727016449"
          ],
          "name": "stdout"
        },
        {
          "output_type": "stream",
          "text": [
            "\r5it [01:08, 13.76s/it]"
          ],
          "name": "stderr"
        },
        {
          "output_type": "stream",
          "text": [
            "\rtrain batch [5/41]: loss 0.3889637589454651"
          ],
          "name": "stdout"
        },
        {
          "output_type": "stream",
          "text": [
            "\r6it [01:22, 13.80s/it]"
          ],
          "name": "stderr"
        },
        {
          "output_type": "stream",
          "text": [
            "\rtrain batch [6/41]: loss 0.31924352049827576"
          ],
          "name": "stdout"
        },
        {
          "output_type": "stream",
          "text": [
            "\r7it [01:36, 13.85s/it]"
          ],
          "name": "stderr"
        },
        {
          "output_type": "stream",
          "text": [
            "\rtrain batch [7/41]: loss 0.27305760979652405"
          ],
          "name": "stdout"
        },
        {
          "output_type": "stream",
          "text": [
            "\r8it [01:50, 13.83s/it]"
          ],
          "name": "stderr"
        },
        {
          "output_type": "stream",
          "text": [
            "\rtrain batch [8/41]: loss 0.3091577887535095"
          ],
          "name": "stdout"
        },
        {
          "output_type": "stream",
          "text": [
            "\r9it [02:04, 13.84s/it]"
          ],
          "name": "stderr"
        },
        {
          "output_type": "stream",
          "text": [
            "\rtrain batch [9/41]: loss 0.32402652502059937"
          ],
          "name": "stdout"
        },
        {
          "output_type": "stream",
          "text": [
            "\r10it [02:18, 13.80s/it]"
          ],
          "name": "stderr"
        },
        {
          "output_type": "stream",
          "text": [
            "\rtrain batch [10/41]: loss 0.4280831217765808"
          ],
          "name": "stdout"
        },
        {
          "output_type": "stream",
          "text": [
            "\r11it [02:32, 13.84s/it]"
          ],
          "name": "stderr"
        },
        {
          "output_type": "stream",
          "text": [
            "\rtrain batch [11/41]: loss 0.3502851724624634"
          ],
          "name": "stdout"
        },
        {
          "output_type": "stream",
          "text": [
            "\r12it [02:45, 13.82s/it]"
          ],
          "name": "stderr"
        },
        {
          "output_type": "stream",
          "text": [
            "\rtrain batch [12/41]: loss 0.2879047691822052"
          ],
          "name": "stdout"
        },
        {
          "output_type": "stream",
          "text": [
            "\r13it [02:59, 13.81s/it]"
          ],
          "name": "stderr"
        },
        {
          "output_type": "stream",
          "text": [
            "\rtrain batch [13/41]: loss 0.3187873959541321"
          ],
          "name": "stdout"
        },
        {
          "output_type": "stream",
          "text": [
            "\r14it [03:13, 13.76s/it]"
          ],
          "name": "stderr"
        },
        {
          "output_type": "stream",
          "text": [
            "\rtrain batch [14/41]: loss 0.35525527596473694"
          ],
          "name": "stdout"
        },
        {
          "output_type": "stream",
          "text": [
            "\r15it [03:27, 13.81s/it]"
          ],
          "name": "stderr"
        },
        {
          "output_type": "stream",
          "text": [
            "\rtrain batch [15/41]: loss 0.29202988743782043"
          ],
          "name": "stdout"
        },
        {
          "output_type": "stream",
          "text": [
            "\r16it [03:41, 13.82s/it]"
          ],
          "name": "stderr"
        },
        {
          "output_type": "stream",
          "text": [
            "\rtrain batch [16/41]: loss 0.3050468862056732"
          ],
          "name": "stdout"
        },
        {
          "output_type": "stream",
          "text": [
            "\r17it [03:54, 13.82s/it]"
          ],
          "name": "stderr"
        },
        {
          "output_type": "stream",
          "text": [
            "\rtrain batch [17/41]: loss 0.4713452458381653"
          ],
          "name": "stdout"
        },
        {
          "output_type": "stream",
          "text": [
            "\r18it [04:08, 13.87s/it]"
          ],
          "name": "stderr"
        },
        {
          "output_type": "stream",
          "text": [
            "\rtrain batch [18/41]: loss 0.3426635265350342"
          ],
          "name": "stdout"
        },
        {
          "output_type": "stream",
          "text": [
            "\r19it [04:22, 13.83s/it]"
          ],
          "name": "stderr"
        },
        {
          "output_type": "stream",
          "text": [
            "\rtrain batch [19/41]: loss 0.36950355768203735"
          ],
          "name": "stdout"
        },
        {
          "output_type": "stream",
          "text": [
            "\r20it [04:36, 13.87s/it]"
          ],
          "name": "stderr"
        },
        {
          "output_type": "stream",
          "text": [
            "\rtrain batch [20/41]: loss 0.3322067856788635"
          ],
          "name": "stdout"
        },
        {
          "output_type": "stream",
          "text": [
            "\r21it [04:50, 13.87s/it]"
          ],
          "name": "stderr"
        },
        {
          "output_type": "stream",
          "text": [
            "\rtrain batch [21/41]: loss 0.25661712884902954"
          ],
          "name": "stdout"
        },
        {
          "output_type": "stream",
          "text": [
            "\r22it [05:04, 13.82s/it]"
          ],
          "name": "stderr"
        },
        {
          "output_type": "stream",
          "text": [
            "\rtrain batch [22/41]: loss 0.33107709884643555"
          ],
          "name": "stdout"
        },
        {
          "output_type": "stream",
          "text": [
            "\r23it [05:17, 13.81s/it]"
          ],
          "name": "stderr"
        },
        {
          "output_type": "stream",
          "text": [
            "\rtrain batch [23/41]: loss 0.28461337089538574"
          ],
          "name": "stdout"
        },
        {
          "output_type": "stream",
          "text": [
            "\r24it [05:31, 13.73s/it]"
          ],
          "name": "stderr"
        },
        {
          "output_type": "stream",
          "text": [
            "\rtrain batch [24/41]: loss 0.3692619800567627"
          ],
          "name": "stdout"
        },
        {
          "output_type": "stream",
          "text": [
            "\r25it [05:45, 13.77s/it]"
          ],
          "name": "stderr"
        },
        {
          "output_type": "stream",
          "text": [
            "\rtrain batch [25/41]: loss 0.37769198417663574"
          ],
          "name": "stdout"
        },
        {
          "output_type": "stream",
          "text": [
            "\r26it [05:59, 13.75s/it]"
          ],
          "name": "stderr"
        },
        {
          "output_type": "stream",
          "text": [
            "\rtrain batch [26/41]: loss 0.3996775448322296"
          ],
          "name": "stdout"
        },
        {
          "output_type": "stream",
          "text": [
            "\r27it [06:12, 13.82s/it]"
          ],
          "name": "stderr"
        },
        {
          "output_type": "stream",
          "text": [
            "\rtrain batch [27/41]: loss 0.34291720390319824"
          ],
          "name": "stdout"
        },
        {
          "output_type": "stream",
          "text": [
            "\r28it [06:26, 13.83s/it]"
          ],
          "name": "stderr"
        },
        {
          "output_type": "stream",
          "text": [
            "\rtrain batch [28/41]: loss 0.2926340401172638"
          ],
          "name": "stdout"
        },
        {
          "output_type": "stream",
          "text": [
            "\r29it [06:40, 13.81s/it]"
          ],
          "name": "stderr"
        },
        {
          "output_type": "stream",
          "text": [
            "\rtrain batch [29/41]: loss 0.28367388248443604"
          ],
          "name": "stdout"
        },
        {
          "output_type": "stream",
          "text": [
            "\r30it [06:54, 13.84s/it]"
          ],
          "name": "stderr"
        },
        {
          "output_type": "stream",
          "text": [
            "\rtrain batch [30/41]: loss 0.36190295219421387"
          ],
          "name": "stdout"
        },
        {
          "output_type": "stream",
          "text": [
            "\r31it [07:08, 13.88s/it]"
          ],
          "name": "stderr"
        },
        {
          "output_type": "stream",
          "text": [
            "\rtrain batch [31/41]: loss 0.287453830242157"
          ],
          "name": "stdout"
        },
        {
          "output_type": "stream",
          "text": [
            "\r32it [07:22, 13.85s/it]"
          ],
          "name": "stderr"
        },
        {
          "output_type": "stream",
          "text": [
            "\rtrain batch [32/41]: loss 0.3231765627861023"
          ],
          "name": "stdout"
        },
        {
          "output_type": "stream",
          "text": [
            "\r33it [07:36, 13.82s/it]"
          ],
          "name": "stderr"
        },
        {
          "output_type": "stream",
          "text": [
            "\rtrain batch [33/41]: loss 0.3952277898788452"
          ],
          "name": "stdout"
        },
        {
          "output_type": "stream",
          "text": [
            "\r34it [07:49, 13.86s/it]"
          ],
          "name": "stderr"
        },
        {
          "output_type": "stream",
          "text": [
            "\rtrain batch [34/41]: loss 0.2680206298828125"
          ],
          "name": "stdout"
        },
        {
          "output_type": "stream",
          "text": [
            "\r35it [08:03, 13.79s/it]"
          ],
          "name": "stderr"
        },
        {
          "output_type": "stream",
          "text": [
            "\rtrain batch [35/41]: loss 0.31706809997558594"
          ],
          "name": "stdout"
        },
        {
          "output_type": "stream",
          "text": [
            "\r36it [08:17, 13.81s/it]"
          ],
          "name": "stderr"
        },
        {
          "output_type": "stream",
          "text": [
            "\rtrain batch [36/41]: loss 0.4107556939125061"
          ],
          "name": "stdout"
        },
        {
          "output_type": "stream",
          "text": [
            "\r37it [08:31, 13.84s/it]"
          ],
          "name": "stderr"
        },
        {
          "output_type": "stream",
          "text": [
            "\rtrain batch [37/41]: loss 0.33450642228126526"
          ],
          "name": "stdout"
        },
        {
          "output_type": "stream",
          "text": [
            "\r38it [08:45, 13.92s/it]"
          ],
          "name": "stderr"
        },
        {
          "output_type": "stream",
          "text": [
            "\rtrain batch [38/41]: loss 0.35838842391967773"
          ],
          "name": "stdout"
        },
        {
          "output_type": "stream",
          "text": [
            "\r39it [08:59, 13.90s/it]"
          ],
          "name": "stderr"
        },
        {
          "output_type": "stream",
          "text": [
            "\rtrain batch [39/41]: loss 0.3665730655193329"
          ],
          "name": "stdout"
        },
        {
          "output_type": "stream",
          "text": [
            "\r40it [09:13, 13.87s/it]"
          ],
          "name": "stderr"
        },
        {
          "output_type": "stream",
          "text": [
            "\rtrain batch [40/41]: loss 0.3671339452266693"
          ],
          "name": "stdout"
        },
        {
          "output_type": "stream",
          "text": [
            "41it [09:23, 13.75s/it]"
          ],
          "name": "stderr"
        },
        {
          "output_type": "stream",
          "text": [
            "\rval batch [0/4]: loss 1.296811819076538"
          ],
          "name": "stdout"
        },
        {
          "output_type": "stream",
          "text": [
            "\n"
          ],
          "name": "stderr"
        },
        {
          "output_type": "stream",
          "text": [
            "val batch [3/4]: loss 0.12108804285526276"
          ],
          "name": "stdout"
        },
        {
          "output_type": "stream",
          "text": [
            "\r0it [00:00, ?it/s]"
          ],
          "name": "stderr"
        },
        {
          "output_type": "stream",
          "text": [
            "\n",
            "Train loss: 0.33879508841328504, Train accuracy: 0.8194018006324768\n",
            "Val loss: 0.7127846702933311, Val accuracy: 0.5625\n",
            "\n",
            "=============== Epoch: 16\n",
            "train batch [0/41]: loss 0.33926695585250854"
          ],
          "name": "stdout"
        },
        {
          "output_type": "stream",
          "text": [
            "\r1it [00:13, 13.72s/it]"
          ],
          "name": "stderr"
        },
        {
          "output_type": "stream",
          "text": [
            "\rtrain batch [1/41]: loss 0.3394013047218323"
          ],
          "name": "stdout"
        },
        {
          "output_type": "stream",
          "text": [
            "\r2it [00:27, 13.79s/it]"
          ],
          "name": "stderr"
        },
        {
          "output_type": "stream",
          "text": [
            "\rtrain batch [2/41]: loss 0.2753836214542389"
          ],
          "name": "stdout"
        },
        {
          "output_type": "stream",
          "text": [
            "\r3it [00:41, 13.79s/it]"
          ],
          "name": "stderr"
        },
        {
          "output_type": "stream",
          "text": [
            "\rtrain batch [3/41]: loss 0.3375356197357178"
          ],
          "name": "stdout"
        },
        {
          "output_type": "stream",
          "text": [
            "\r4it [00:55, 13.83s/it]"
          ],
          "name": "stderr"
        },
        {
          "output_type": "stream",
          "text": [
            "\rtrain batch [4/41]: loss 0.24022051692008972"
          ],
          "name": "stdout"
        },
        {
          "output_type": "stream",
          "text": [
            "\r5it [01:08, 13.75s/it]"
          ],
          "name": "stderr"
        },
        {
          "output_type": "stream",
          "text": [
            "\rtrain batch [5/41]: loss 0.322889119386673"
          ],
          "name": "stdout"
        },
        {
          "output_type": "stream",
          "text": [
            "\r6it [01:22, 13.76s/it]"
          ],
          "name": "stderr"
        },
        {
          "output_type": "stream",
          "text": [
            "\rtrain batch [6/41]: loss 0.40469449758529663"
          ],
          "name": "stdout"
        },
        {
          "output_type": "stream",
          "text": [
            "\r7it [01:36, 13.79s/it]"
          ],
          "name": "stderr"
        },
        {
          "output_type": "stream",
          "text": [
            "\rtrain batch [7/41]: loss 0.3449295461177826"
          ],
          "name": "stdout"
        },
        {
          "output_type": "stream",
          "text": [
            "\r8it [01:50, 13.82s/it]"
          ],
          "name": "stderr"
        },
        {
          "output_type": "stream",
          "text": [
            "\rtrain batch [8/41]: loss 0.36151325702667236"
          ],
          "name": "stdout"
        },
        {
          "output_type": "stream",
          "text": [
            "\r9it [02:04, 13.83s/it]"
          ],
          "name": "stderr"
        },
        {
          "output_type": "stream",
          "text": [
            "\rtrain batch [9/41]: loss 0.34834736585617065"
          ],
          "name": "stdout"
        },
        {
          "output_type": "stream",
          "text": [
            "\r10it [02:18, 13.81s/it]"
          ],
          "name": "stderr"
        },
        {
          "output_type": "stream",
          "text": [
            "\rtrain batch [10/41]: loss 0.3685779571533203"
          ],
          "name": "stdout"
        },
        {
          "output_type": "stream",
          "text": [
            "\r11it [02:31, 13.83s/it]"
          ],
          "name": "stderr"
        },
        {
          "output_type": "stream",
          "text": [
            "\rtrain batch [11/41]: loss 0.3482438325881958"
          ],
          "name": "stdout"
        },
        {
          "output_type": "stream",
          "text": [
            "\r12it [02:45, 13.84s/it]"
          ],
          "name": "stderr"
        },
        {
          "output_type": "stream",
          "text": [
            "\rtrain batch [12/41]: loss 0.2602967619895935"
          ],
          "name": "stdout"
        },
        {
          "output_type": "stream",
          "text": [
            "\r13it [02:59, 13.77s/it]"
          ],
          "name": "stderr"
        },
        {
          "output_type": "stream",
          "text": [
            "\rtrain batch [13/41]: loss 0.2904890179634094"
          ],
          "name": "stdout"
        },
        {
          "output_type": "stream",
          "text": [
            "\r14it [03:13, 13.76s/it]"
          ],
          "name": "stderr"
        },
        {
          "output_type": "stream",
          "text": [
            "\rtrain batch [14/41]: loss 0.293201208114624"
          ],
          "name": "stdout"
        },
        {
          "output_type": "stream",
          "text": [
            "\r15it [03:27, 13.78s/it]"
          ],
          "name": "stderr"
        },
        {
          "output_type": "stream",
          "text": [
            "\rtrain batch [15/41]: loss 0.3700293302536011"
          ],
          "name": "stdout"
        },
        {
          "output_type": "stream",
          "text": [
            "\r16it [03:41, 13.88s/it]"
          ],
          "name": "stderr"
        },
        {
          "output_type": "stream",
          "text": [
            "\rtrain batch [16/41]: loss 0.40232598781585693"
          ],
          "name": "stdout"
        },
        {
          "output_type": "stream",
          "text": [
            "\r17it [03:55, 13.92s/it]"
          ],
          "name": "stderr"
        },
        {
          "output_type": "stream",
          "text": [
            "\rtrain batch [17/41]: loss 0.3335847854614258"
          ],
          "name": "stdout"
        },
        {
          "output_type": "stream",
          "text": [
            "\r18it [04:08, 13.88s/it]"
          ],
          "name": "stderr"
        },
        {
          "output_type": "stream",
          "text": [
            "\rtrain batch [18/41]: loss 0.3639911711215973"
          ],
          "name": "stdout"
        },
        {
          "output_type": "stream",
          "text": [
            "\r19it [04:22, 13.84s/it]"
          ],
          "name": "stderr"
        },
        {
          "output_type": "stream",
          "text": [
            "\rtrain batch [19/41]: loss 0.3511720895767212"
          ],
          "name": "stdout"
        },
        {
          "output_type": "stream",
          "text": [
            "\r20it [04:36, 13.82s/it]"
          ],
          "name": "stderr"
        },
        {
          "output_type": "stream",
          "text": [
            "\rtrain batch [20/41]: loss 0.37639951705932617"
          ],
          "name": "stdout"
        },
        {
          "output_type": "stream",
          "text": [
            "\r21it [04:50, 13.86s/it]"
          ],
          "name": "stderr"
        },
        {
          "output_type": "stream",
          "text": [
            "\rtrain batch [21/41]: loss 0.356705904006958"
          ],
          "name": "stdout"
        },
        {
          "output_type": "stream",
          "text": [
            "\r22it [05:04, 13.92s/it]"
          ],
          "name": "stderr"
        },
        {
          "output_type": "stream",
          "text": [
            "\rtrain batch [22/41]: loss 0.302202969789505"
          ],
          "name": "stdout"
        },
        {
          "output_type": "stream",
          "text": [
            "\r23it [05:18, 13.87s/it]"
          ],
          "name": "stderr"
        },
        {
          "output_type": "stream",
          "text": [
            "\rtrain batch [23/41]: loss 0.30894675850868225"
          ],
          "name": "stdout"
        },
        {
          "output_type": "stream",
          "text": [
            "\r24it [05:32, 13.85s/it]"
          ],
          "name": "stderr"
        },
        {
          "output_type": "stream",
          "text": [
            "\rtrain batch [24/41]: loss 0.23755064606666565"
          ],
          "name": "stdout"
        },
        {
          "output_type": "stream",
          "text": [
            "\r25it [05:45, 13.77s/it]"
          ],
          "name": "stderr"
        },
        {
          "output_type": "stream",
          "text": [
            "\rtrain batch [25/41]: loss 0.3067055344581604"
          ],
          "name": "stdout"
        },
        {
          "output_type": "stream",
          "text": [
            "\r26it [05:59, 13.84s/it]"
          ],
          "name": "stderr"
        },
        {
          "output_type": "stream",
          "text": [
            "\rtrain batch [26/41]: loss 0.40523484349250793"
          ],
          "name": "stdout"
        },
        {
          "output_type": "stream",
          "text": [
            "\r27it [06:13, 13.84s/it]"
          ],
          "name": "stderr"
        },
        {
          "output_type": "stream",
          "text": [
            "\rtrain batch [27/41]: loss 0.3040001392364502"
          ],
          "name": "stdout"
        },
        {
          "output_type": "stream",
          "text": [
            "\r28it [06:27, 13.81s/it]"
          ],
          "name": "stderr"
        },
        {
          "output_type": "stream",
          "text": [
            "\rtrain batch [28/41]: loss 0.2938961386680603"
          ],
          "name": "stdout"
        },
        {
          "output_type": "stream",
          "text": [
            "\r29it [06:40, 13.75s/it]"
          ],
          "name": "stderr"
        },
        {
          "output_type": "stream",
          "text": [
            "\rtrain batch [29/41]: loss 0.2601761221885681"
          ],
          "name": "stdout"
        },
        {
          "output_type": "stream",
          "text": [
            "\r30it [06:54, 13.73s/it]"
          ],
          "name": "stderr"
        },
        {
          "output_type": "stream",
          "text": [
            "\rtrain batch [30/41]: loss 0.4268244206905365"
          ],
          "name": "stdout"
        },
        {
          "output_type": "stream",
          "text": [
            "\r31it [07:08, 13.83s/it]"
          ],
          "name": "stderr"
        },
        {
          "output_type": "stream",
          "text": [
            "\rtrain batch [31/41]: loss 0.269558846950531"
          ],
          "name": "stdout"
        },
        {
          "output_type": "stream",
          "text": [
            "\r32it [07:22, 13.83s/it]"
          ],
          "name": "stderr"
        },
        {
          "output_type": "stream",
          "text": [
            "\rtrain batch [32/41]: loss 0.40227559208869934"
          ],
          "name": "stdout"
        },
        {
          "output_type": "stream",
          "text": [
            "\r33it [07:36, 13.84s/it]"
          ],
          "name": "stderr"
        },
        {
          "output_type": "stream",
          "text": [
            "\rtrain batch [33/41]: loss 0.3140568435192108"
          ],
          "name": "stdout"
        },
        {
          "output_type": "stream",
          "text": [
            "\r34it [07:49, 13.82s/it]"
          ],
          "name": "stderr"
        },
        {
          "output_type": "stream",
          "text": [
            "\rtrain batch [34/41]: loss 0.22421225905418396"
          ],
          "name": "stdout"
        },
        {
          "output_type": "stream",
          "text": [
            "\r35it [08:03, 13.77s/it]"
          ],
          "name": "stderr"
        },
        {
          "output_type": "stream",
          "text": [
            "\rtrain batch [35/41]: loss 0.3306857943534851"
          ],
          "name": "stdout"
        },
        {
          "output_type": "stream",
          "text": [
            "\r36it [08:17, 13.77s/it]"
          ],
          "name": "stderr"
        },
        {
          "output_type": "stream",
          "text": [
            "\rtrain batch [36/41]: loss 0.398762971162796"
          ],
          "name": "stdout"
        },
        {
          "output_type": "stream",
          "text": [
            "\r37it [08:31, 13.83s/it]"
          ],
          "name": "stderr"
        },
        {
          "output_type": "stream",
          "text": [
            "\rtrain batch [37/41]: loss 0.31059035658836365"
          ],
          "name": "stdout"
        },
        {
          "output_type": "stream",
          "text": [
            "\r38it [08:45, 13.85s/it]"
          ],
          "name": "stderr"
        },
        {
          "output_type": "stream",
          "text": [
            "\rtrain batch [38/41]: loss 0.4158795475959778"
          ],
          "name": "stdout"
        },
        {
          "output_type": "stream",
          "text": [
            "\r39it [08:59, 13.91s/it]"
          ],
          "name": "stderr"
        },
        {
          "output_type": "stream",
          "text": [
            "\rtrain batch [39/41]: loss 0.3104315996170044"
          ],
          "name": "stdout"
        },
        {
          "output_type": "stream",
          "text": [
            "\r40it [09:13, 13.93s/it]"
          ],
          "name": "stderr"
        },
        {
          "output_type": "stream",
          "text": [
            "\rtrain batch [40/41]: loss 0.36562904715538025"
          ],
          "name": "stdout"
        },
        {
          "output_type": "stream",
          "text": [
            "41it [09:23, 13.75s/it]"
          ],
          "name": "stderr"
        },
        {
          "output_type": "stream",
          "text": [
            "val batch [1/4]: loss 1.1211390495300293"
          ],
          "name": "stdout"
        },
        {
          "output_type": "stream",
          "text": [
            "\n"
          ],
          "name": "stderr"
        },
        {
          "output_type": "stream",
          "text": [
            "val batch [3/4]: loss 0.07646529376506805"
          ],
          "name": "stdout"
        },
        {
          "output_type": "stream",
          "text": [
            "\r0it [00:00, ?it/s]"
          ],
          "name": "stderr"
        },
        {
          "output_type": "stream",
          "text": [
            "\n",
            "Train loss: 0.3321175578890777, Train accuracy: 0.8232361674308777\n",
            "Val loss: 0.7710070721805096, Val accuracy: 0.5625\n",
            "\n",
            "=============== Epoch: 17\n",
            "train batch [0/41]: loss 0.29936566948890686"
          ],
          "name": "stdout"
        },
        {
          "output_type": "stream",
          "text": [
            "\r1it [00:13, 13.79s/it]"
          ],
          "name": "stderr"
        },
        {
          "output_type": "stream",
          "text": [
            "\rtrain batch [1/41]: loss 0.2551237940788269"
          ],
          "name": "stdout"
        },
        {
          "output_type": "stream",
          "text": [
            "\r2it [00:27, 13.77s/it]"
          ],
          "name": "stderr"
        },
        {
          "output_type": "stream",
          "text": [
            "\rtrain batch [2/41]: loss 0.41112518310546875"
          ],
          "name": "stdout"
        },
        {
          "output_type": "stream",
          "text": [
            "\r3it [00:41, 13.81s/it]"
          ],
          "name": "stderr"
        },
        {
          "output_type": "stream",
          "text": [
            "\rtrain batch [3/41]: loss 0.3060322105884552"
          ],
          "name": "stdout"
        },
        {
          "output_type": "stream",
          "text": [
            "\r4it [00:55, 13.81s/it]"
          ],
          "name": "stderr"
        },
        {
          "output_type": "stream",
          "text": [
            "\rtrain batch [4/41]: loss 0.32611921429634094"
          ],
          "name": "stdout"
        },
        {
          "output_type": "stream",
          "text": [
            "\r5it [01:08, 13.78s/it]"
          ],
          "name": "stderr"
        },
        {
          "output_type": "stream",
          "text": [
            "\rtrain batch [5/41]: loss 0.33209770917892456"
          ],
          "name": "stdout"
        },
        {
          "output_type": "stream",
          "text": [
            "\r6it [01:22, 13.83s/it]"
          ],
          "name": "stderr"
        },
        {
          "output_type": "stream",
          "text": [
            "\rtrain batch [6/41]: loss 0.328400194644928"
          ],
          "name": "stdout"
        },
        {
          "output_type": "stream",
          "text": [
            "\r7it [01:36, 13.81s/it]"
          ],
          "name": "stderr"
        },
        {
          "output_type": "stream",
          "text": [
            "\rtrain batch [7/41]: loss 0.3009861707687378"
          ],
          "name": "stdout"
        },
        {
          "output_type": "stream",
          "text": [
            "\r8it [01:50, 13.78s/it]"
          ],
          "name": "stderr"
        },
        {
          "output_type": "stream",
          "text": [
            "\rtrain batch [8/41]: loss 0.36012816429138184"
          ],
          "name": "stdout"
        },
        {
          "output_type": "stream",
          "text": [
            "\r9it [02:04, 13.82s/it]"
          ],
          "name": "stderr"
        },
        {
          "output_type": "stream",
          "text": [
            "\rtrain batch [9/41]: loss 0.28349339962005615"
          ],
          "name": "stdout"
        },
        {
          "output_type": "stream",
          "text": [
            "\r10it [02:18, 13.83s/it]"
          ],
          "name": "stderr"
        },
        {
          "output_type": "stream",
          "text": [
            "\rtrain batch [10/41]: loss 0.36277884244918823"
          ],
          "name": "stdout"
        },
        {
          "output_type": "stream",
          "text": [
            "\r11it [02:31, 13.80s/it]"
          ],
          "name": "stderr"
        },
        {
          "output_type": "stream",
          "text": [
            "\rtrain batch [11/41]: loss 0.30979228019714355"
          ],
          "name": "stdout"
        },
        {
          "output_type": "stream",
          "text": [
            "\r12it [02:45, 13.80s/it]"
          ],
          "name": "stderr"
        },
        {
          "output_type": "stream",
          "text": [
            "\rtrain batch [12/41]: loss 0.2585103511810303"
          ],
          "name": "stdout"
        },
        {
          "output_type": "stream",
          "text": [
            "\r13it [02:59, 13.80s/it]"
          ],
          "name": "stderr"
        },
        {
          "output_type": "stream",
          "text": [
            "\rtrain batch [13/41]: loss 0.2091006189584732"
          ],
          "name": "stdout"
        },
        {
          "output_type": "stream",
          "text": [
            "\r14it [03:13, 13.75s/it]"
          ],
          "name": "stderr"
        },
        {
          "output_type": "stream",
          "text": [
            "\rtrain batch [14/41]: loss 0.29893848299980164"
          ],
          "name": "stdout"
        },
        {
          "output_type": "stream",
          "text": [
            "\r15it [03:26, 13.76s/it]"
          ],
          "name": "stderr"
        },
        {
          "output_type": "stream",
          "text": [
            "\rtrain batch [15/41]: loss 0.293209433555603"
          ],
          "name": "stdout"
        },
        {
          "output_type": "stream",
          "text": [
            "\r16it [03:40, 13.76s/it]"
          ],
          "name": "stderr"
        },
        {
          "output_type": "stream",
          "text": [
            "\rtrain batch [16/41]: loss 0.30138933658599854"
          ],
          "name": "stdout"
        },
        {
          "output_type": "stream",
          "text": [
            "\r17it [03:54, 13.79s/it]"
          ],
          "name": "stderr"
        },
        {
          "output_type": "stream",
          "text": [
            "\rtrain batch [17/41]: loss 0.33467304706573486"
          ],
          "name": "stdout"
        },
        {
          "output_type": "stream",
          "text": [
            "\r18it [04:08, 13.75s/it]"
          ],
          "name": "stderr"
        },
        {
          "output_type": "stream",
          "text": [
            "\rtrain batch [18/41]: loss 0.2997134327888489"
          ],
          "name": "stdout"
        },
        {
          "output_type": "stream",
          "text": [
            "\r19it [04:21, 13.75s/it]"
          ],
          "name": "stderr"
        },
        {
          "output_type": "stream",
          "text": [
            "\rtrain batch [19/41]: loss 0.3656269907951355"
          ],
          "name": "stdout"
        },
        {
          "output_type": "stream",
          "text": [
            "\r20it [04:35, 13.75s/it]"
          ],
          "name": "stderr"
        },
        {
          "output_type": "stream",
          "text": [
            "\rtrain batch [20/41]: loss 0.43921875953674316"
          ],
          "name": "stdout"
        },
        {
          "output_type": "stream",
          "text": [
            "\r21it [04:49, 13.82s/it]"
          ],
          "name": "stderr"
        },
        {
          "output_type": "stream",
          "text": [
            "\rtrain batch [21/41]: loss 0.3803614377975464"
          ],
          "name": "stdout"
        },
        {
          "output_type": "stream",
          "text": [
            "\r22it [05:03, 13.79s/it]"
          ],
          "name": "stderr"
        },
        {
          "output_type": "stream",
          "text": [
            "\rtrain batch [22/41]: loss 0.321688175201416"
          ],
          "name": "stdout"
        },
        {
          "output_type": "stream",
          "text": [
            "\r23it [05:17, 13.81s/it]"
          ],
          "name": "stderr"
        },
        {
          "output_type": "stream",
          "text": [
            "\rtrain batch [23/41]: loss 0.3197530508041382"
          ],
          "name": "stdout"
        },
        {
          "output_type": "stream",
          "text": [
            "\r24it [05:31, 13.84s/it]"
          ],
          "name": "stderr"
        },
        {
          "output_type": "stream",
          "text": [
            "\rtrain batch [24/41]: loss 0.2971533238887787"
          ],
          "name": "stdout"
        },
        {
          "output_type": "stream",
          "text": [
            "\r25it [05:44, 13.80s/it]"
          ],
          "name": "stderr"
        },
        {
          "output_type": "stream",
          "text": [
            "\rtrain batch [25/41]: loss 0.3417448103427887"
          ],
          "name": "stdout"
        },
        {
          "output_type": "stream",
          "text": [
            "\r26it [05:58, 13.83s/it]"
          ],
          "name": "stderr"
        },
        {
          "output_type": "stream",
          "text": [
            "\rtrain batch [26/41]: loss 0.3408781886100769"
          ],
          "name": "stdout"
        },
        {
          "output_type": "stream",
          "text": [
            "\r27it [06:12, 13.87s/it]"
          ],
          "name": "stderr"
        },
        {
          "output_type": "stream",
          "text": [
            "\rtrain batch [27/41]: loss 0.3826010227203369"
          ],
          "name": "stdout"
        },
        {
          "output_type": "stream",
          "text": [
            "\r28it [06:26, 13.89s/it]"
          ],
          "name": "stderr"
        },
        {
          "output_type": "stream",
          "text": [
            "\rtrain batch [28/41]: loss 0.324321985244751"
          ],
          "name": "stdout"
        },
        {
          "output_type": "stream",
          "text": [
            "\r29it [06:40, 13.91s/it]"
          ],
          "name": "stderr"
        },
        {
          "output_type": "stream",
          "text": [
            "\rtrain batch [29/41]: loss 0.3004117012023926"
          ],
          "name": "stdout"
        },
        {
          "output_type": "stream",
          "text": [
            "\r30it [06:54, 13.97s/it]"
          ],
          "name": "stderr"
        },
        {
          "output_type": "stream",
          "text": [
            "\rtrain batch [30/41]: loss 0.38183340430259705"
          ],
          "name": "stdout"
        },
        {
          "output_type": "stream",
          "text": [
            "\r31it [07:08, 13.92s/it]"
          ],
          "name": "stderr"
        },
        {
          "output_type": "stream",
          "text": [
            "\rtrain batch [31/41]: loss 0.2501184940338135"
          ],
          "name": "stdout"
        },
        {
          "output_type": "stream",
          "text": [
            "\r32it [07:22, 13.87s/it]"
          ],
          "name": "stderr"
        },
        {
          "output_type": "stream",
          "text": [
            "\rtrain batch [32/41]: loss 0.35535696148872375"
          ],
          "name": "stdout"
        },
        {
          "output_type": "stream",
          "text": [
            "\r33it [07:36, 13.86s/it]"
          ],
          "name": "stderr"
        },
        {
          "output_type": "stream",
          "text": [
            "\rtrain batch [33/41]: loss 0.5382375121116638"
          ],
          "name": "stdout"
        },
        {
          "output_type": "stream",
          "text": [
            "\r34it [07:50, 13.96s/it]"
          ],
          "name": "stderr"
        },
        {
          "output_type": "stream",
          "text": [
            "\rtrain batch [34/41]: loss 0.2825285792350769"
          ],
          "name": "stdout"
        },
        {
          "output_type": "stream",
          "text": [
            "\r35it [08:04, 13.91s/it]"
          ],
          "name": "stderr"
        },
        {
          "output_type": "stream",
          "text": [
            "\rtrain batch [35/41]: loss 0.36547771096229553"
          ],
          "name": "stdout"
        },
        {
          "output_type": "stream",
          "text": [
            "\r36it [08:17, 13.88s/it]"
          ],
          "name": "stderr"
        },
        {
          "output_type": "stream",
          "text": [
            "\rtrain batch [36/41]: loss 0.4612799882888794"
          ],
          "name": "stdout"
        },
        {
          "output_type": "stream",
          "text": [
            "\r37it [08:31, 13.95s/it]"
          ],
          "name": "stderr"
        },
        {
          "output_type": "stream",
          "text": [
            "\rtrain batch [37/41]: loss 0.3908950388431549"
          ],
          "name": "stdout"
        },
        {
          "output_type": "stream",
          "text": [
            "\r38it [08:45, 13.93s/it]"
          ],
          "name": "stderr"
        },
        {
          "output_type": "stream",
          "text": [
            "\rtrain batch [38/41]: loss 0.36227816343307495"
          ],
          "name": "stdout"
        },
        {
          "output_type": "stream",
          "text": [
            "\r39it [08:59, 13.93s/it]"
          ],
          "name": "stderr"
        },
        {
          "output_type": "stream",
          "text": [
            "\rtrain batch [39/41]: loss 0.4703283905982971"
          ],
          "name": "stdout"
        },
        {
          "output_type": "stream",
          "text": [
            "\r40it [09:13, 13.99s/it]"
          ],
          "name": "stderr"
        },
        {
          "output_type": "stream",
          "text": [
            "\rtrain batch [40/41]: loss 0.34609270095825195"
          ],
          "name": "stdout"
        },
        {
          "output_type": "stream",
          "text": [
            "41it [09:24, 13.76s/it]"
          ],
          "name": "stderr"
        },
        {
          "output_type": "stream",
          "text": [
            "\rval batch [0/4]: loss 2.2208266258239746"
          ],
          "name": "stdout"
        },
        {
          "output_type": "stream",
          "text": [
            "\n"
          ],
          "name": "stderr"
        },
        {
          "output_type": "stream",
          "text": [
            "val batch [3/4]: loss 0.056340545415878296"
          ],
          "name": "stdout"
        },
        {
          "output_type": "stream",
          "text": [
            "\r0it [00:00, ?it/s]"
          ],
          "name": "stderr"
        },
        {
          "output_type": "stream",
          "text": [
            "\n",
            "Train loss: 0.33876009648892935, Train accuracy: 0.8165260553359985\n",
            "Val loss: 0.9628516286611557, Val accuracy: 0.5625\n",
            "\n",
            "=============== Epoch: 18\n",
            "train batch [0/41]: loss 0.32279983162879944"
          ],
          "name": "stdout"
        },
        {
          "output_type": "stream",
          "text": [
            "\r1it [00:13, 13.56s/it]"
          ],
          "name": "stderr"
        },
        {
          "output_type": "stream",
          "text": [
            "\rtrain batch [1/41]: loss 0.29851260781288147"
          ],
          "name": "stdout"
        },
        {
          "output_type": "stream",
          "text": [
            "\r2it [00:27, 13.61s/it]"
          ],
          "name": "stderr"
        },
        {
          "output_type": "stream",
          "text": [
            "\rtrain batch [2/41]: loss 0.41101595759391785"
          ],
          "name": "stdout"
        },
        {
          "output_type": "stream",
          "text": [
            "\r3it [00:41, 13.72s/it]"
          ],
          "name": "stderr"
        },
        {
          "output_type": "stream",
          "text": [
            "\rtrain batch [3/41]: loss 0.40315333008766174"
          ],
          "name": "stdout"
        },
        {
          "output_type": "stream",
          "text": [
            "\r4it [00:55, 13.79s/it]"
          ],
          "name": "stderr"
        },
        {
          "output_type": "stream",
          "text": [
            "\rtrain batch [4/41]: loss 0.2997084856033325"
          ],
          "name": "stdout"
        },
        {
          "output_type": "stream",
          "text": [
            "\r5it [01:08, 13.77s/it]"
          ],
          "name": "stderr"
        },
        {
          "output_type": "stream",
          "text": [
            "\rtrain batch [5/41]: loss 0.3557564914226532"
          ],
          "name": "stdout"
        },
        {
          "output_type": "stream",
          "text": [
            "\r6it [01:22, 13.84s/it]"
          ],
          "name": "stderr"
        },
        {
          "output_type": "stream",
          "text": [
            "\rtrain batch [6/41]: loss 0.3374512195587158"
          ],
          "name": "stdout"
        },
        {
          "output_type": "stream",
          "text": [
            "\r7it [01:36, 13.84s/it]"
          ],
          "name": "stderr"
        },
        {
          "output_type": "stream",
          "text": [
            "\rtrain batch [7/41]: loss 0.3631477952003479"
          ],
          "name": "stdout"
        },
        {
          "output_type": "stream",
          "text": [
            "\r8it [01:50, 13.88s/it]"
          ],
          "name": "stderr"
        },
        {
          "output_type": "stream",
          "text": [
            "\rtrain batch [8/41]: loss 0.4062674641609192"
          ],
          "name": "stdout"
        },
        {
          "output_type": "stream",
          "text": [
            "\r9it [02:04, 13.86s/it]"
          ],
          "name": "stderr"
        },
        {
          "output_type": "stream",
          "text": [
            "\rtrain batch [9/41]: loss 0.35472333431243896"
          ],
          "name": "stdout"
        },
        {
          "output_type": "stream",
          "text": [
            "\r10it [02:18, 13.83s/it]"
          ],
          "name": "stderr"
        },
        {
          "output_type": "stream",
          "text": [
            "\rtrain batch [10/41]: loss 0.346148818731308"
          ],
          "name": "stdout"
        },
        {
          "output_type": "stream",
          "text": [
            "\r11it [02:32, 13.87s/it]"
          ],
          "name": "stderr"
        },
        {
          "output_type": "stream",
          "text": [
            "\rtrain batch [11/41]: loss 0.2662017345428467"
          ],
          "name": "stdout"
        },
        {
          "output_type": "stream",
          "text": [
            "\r12it [02:46, 13.86s/it]"
          ],
          "name": "stderr"
        },
        {
          "output_type": "stream",
          "text": [
            "\rtrain batch [12/41]: loss 0.2864004373550415"
          ],
          "name": "stdout"
        },
        {
          "output_type": "stream",
          "text": [
            "\r13it [02:59, 13.83s/it]"
          ],
          "name": "stderr"
        },
        {
          "output_type": "stream",
          "text": [
            "\rtrain batch [13/41]: loss 0.2873285114765167"
          ],
          "name": "stdout"
        },
        {
          "output_type": "stream",
          "text": [
            "\r14it [03:13, 13.83s/it]"
          ],
          "name": "stderr"
        },
        {
          "output_type": "stream",
          "text": [
            "\rtrain batch [14/41]: loss 0.28567931056022644"
          ],
          "name": "stdout"
        },
        {
          "output_type": "stream",
          "text": [
            "\r15it [03:27, 13.79s/it]"
          ],
          "name": "stderr"
        },
        {
          "output_type": "stream",
          "text": [
            "\rtrain batch [15/41]: loss 0.3500332236289978"
          ],
          "name": "stdout"
        },
        {
          "output_type": "stream",
          "text": [
            "\r16it [03:41, 13.85s/it]"
          ],
          "name": "stderr"
        },
        {
          "output_type": "stream",
          "text": [
            "\rtrain batch [16/41]: loss 0.3089776039123535"
          ],
          "name": "stdout"
        },
        {
          "output_type": "stream",
          "text": [
            "\r17it [03:55, 13.83s/it]"
          ],
          "name": "stderr"
        },
        {
          "output_type": "stream",
          "text": [
            "\rtrain batch [17/41]: loss 0.3925777077674866"
          ],
          "name": "stdout"
        },
        {
          "output_type": "stream",
          "text": [
            "\r18it [04:09, 13.92s/it]"
          ],
          "name": "stderr"
        },
        {
          "output_type": "stream",
          "text": [
            "\rtrain batch [18/41]: loss 0.3373609483242035"
          ],
          "name": "stdout"
        },
        {
          "output_type": "stream",
          "text": [
            "\r19it [04:23, 13.91s/it]"
          ],
          "name": "stderr"
        },
        {
          "output_type": "stream",
          "text": [
            "\rtrain batch [19/41]: loss 0.2681943476200104"
          ],
          "name": "stdout"
        },
        {
          "output_type": "stream",
          "text": [
            "\r20it [04:36, 13.86s/it]"
          ],
          "name": "stderr"
        },
        {
          "output_type": "stream",
          "text": [
            "\rtrain batch [20/41]: loss 0.3635365962982178"
          ],
          "name": "stdout"
        },
        {
          "output_type": "stream",
          "text": [
            "\r21it [04:50, 13.90s/it]"
          ],
          "name": "stderr"
        },
        {
          "output_type": "stream",
          "text": [
            "\rtrain batch [21/41]: loss 0.4034101665019989"
          ],
          "name": "stdout"
        },
        {
          "output_type": "stream",
          "text": [
            "\r22it [05:04, 13.87s/it]"
          ],
          "name": "stderr"
        },
        {
          "output_type": "stream",
          "text": [
            "\rtrain batch [22/41]: loss 0.3603031039237976"
          ],
          "name": "stdout"
        },
        {
          "output_type": "stream",
          "text": [
            "\r23it [05:18, 13.87s/it]"
          ],
          "name": "stderr"
        },
        {
          "output_type": "stream",
          "text": [
            "\rtrain batch [23/41]: loss 0.2986970543861389"
          ],
          "name": "stdout"
        },
        {
          "output_type": "stream",
          "text": [
            "\r24it [05:32, 13.82s/it]"
          ],
          "name": "stderr"
        },
        {
          "output_type": "stream",
          "text": [
            "\rtrain batch [24/41]: loss 0.38355517387390137"
          ],
          "name": "stdout"
        },
        {
          "output_type": "stream",
          "text": [
            "\r25it [05:46, 13.85s/it]"
          ],
          "name": "stderr"
        },
        {
          "output_type": "stream",
          "text": [
            "\rtrain batch [25/41]: loss 0.267202228307724"
          ],
          "name": "stdout"
        },
        {
          "output_type": "stream",
          "text": [
            "\r26it [06:00, 13.88s/it]"
          ],
          "name": "stderr"
        },
        {
          "output_type": "stream",
          "text": [
            "\rtrain batch [26/41]: loss 0.3555566668510437"
          ],
          "name": "stdout"
        },
        {
          "output_type": "stream",
          "text": [
            "\r27it [06:14, 13.90s/it]"
          ],
          "name": "stderr"
        },
        {
          "output_type": "stream",
          "text": [
            "\rtrain batch [27/41]: loss 0.2596938908100128"
          ],
          "name": "stdout"
        },
        {
          "output_type": "stream",
          "text": [
            "\r28it [06:27, 13.82s/it]"
          ],
          "name": "stderr"
        },
        {
          "output_type": "stream",
          "text": [
            "\rtrain batch [28/41]: loss 0.3760627806186676"
          ],
          "name": "stdout"
        },
        {
          "output_type": "stream",
          "text": [
            "\r29it [06:41, 13.85s/it]"
          ],
          "name": "stderr"
        },
        {
          "output_type": "stream",
          "text": [
            "\rtrain batch [29/41]: loss 0.36235570907592773"
          ],
          "name": "stdout"
        },
        {
          "output_type": "stream",
          "text": [
            "\r30it [06:55, 13.91s/it]"
          ],
          "name": "stderr"
        },
        {
          "output_type": "stream",
          "text": [
            "\rtrain batch [30/41]: loss 0.31399470567703247"
          ],
          "name": "stdout"
        },
        {
          "output_type": "stream",
          "text": [
            "\r31it [07:09, 13.89s/it]"
          ],
          "name": "stderr"
        },
        {
          "output_type": "stream",
          "text": [
            "\rtrain batch [31/41]: loss 0.3082394599914551"
          ],
          "name": "stdout"
        },
        {
          "output_type": "stream",
          "text": [
            "\r32it [07:23, 13.90s/it]"
          ],
          "name": "stderr"
        },
        {
          "output_type": "stream",
          "text": [
            "\rtrain batch [32/41]: loss 0.264721155166626"
          ],
          "name": "stdout"
        },
        {
          "output_type": "stream",
          "text": [
            "\r33it [07:37, 13.86s/it]"
          ],
          "name": "stderr"
        },
        {
          "output_type": "stream",
          "text": [
            "\rtrain batch [33/41]: loss 0.34295302629470825"
          ],
          "name": "stdout"
        },
        {
          "output_type": "stream",
          "text": [
            "\r34it [07:51, 13.91s/it]"
          ],
          "name": "stderr"
        },
        {
          "output_type": "stream",
          "text": [
            "\rtrain batch [34/41]: loss 0.2830127477645874"
          ],
          "name": "stdout"
        },
        {
          "output_type": "stream",
          "text": [
            "\r35it [08:04, 13.84s/it]"
          ],
          "name": "stderr"
        },
        {
          "output_type": "stream",
          "text": [
            "\rtrain batch [35/41]: loss 0.34113436937332153"
          ],
          "name": "stdout"
        },
        {
          "output_type": "stream",
          "text": [
            "\r36it [08:18, 13.83s/it]"
          ],
          "name": "stderr"
        },
        {
          "output_type": "stream",
          "text": [
            "\rtrain batch [36/41]: loss 0.35231781005859375"
          ],
          "name": "stdout"
        },
        {
          "output_type": "stream",
          "text": [
            "\r37it [08:32, 13.86s/it]"
          ],
          "name": "stderr"
        },
        {
          "output_type": "stream",
          "text": [
            "\rtrain batch [37/41]: loss 0.2771443724632263"
          ],
          "name": "stdout"
        },
        {
          "output_type": "stream",
          "text": [
            "\r38it [08:46, 13.81s/it]"
          ],
          "name": "stderr"
        },
        {
          "output_type": "stream",
          "text": [
            "\rtrain batch [38/41]: loss 0.30274152755737305"
          ],
          "name": "stdout"
        },
        {
          "output_type": "stream",
          "text": [
            "\r39it [09:00, 13.83s/it]"
          ],
          "name": "stderr"
        },
        {
          "output_type": "stream",
          "text": [
            "\rtrain batch [39/41]: loss 0.2573803663253784"
          ],
          "name": "stdout"
        },
        {
          "output_type": "stream",
          "text": [
            "\r40it [09:13, 13.79s/it]"
          ],
          "name": "stderr"
        },
        {
          "output_type": "stream",
          "text": [
            "\rtrain batch [40/41]: loss 0.34999561309814453"
          ],
          "name": "stdout"
        },
        {
          "output_type": "stream",
          "text": [
            "41it [09:24, 13.77s/it]"
          ],
          "name": "stderr"
        },
        {
          "output_type": "stream",
          "text": [
            "\rval batch [0/4]: loss 1.6153992414474487"
          ],
          "name": "stdout"
        },
        {
          "output_type": "stream",
          "text": [
            "\n"
          ],
          "name": "stderr"
        },
        {
          "output_type": "stream",
          "text": [
            "val batch [3/4]: loss 0.12074310332536697"
          ],
          "name": "stdout"
        },
        {
          "output_type": "stream",
          "text": [
            "\r0it [00:00, ?it/s]"
          ],
          "name": "stderr"
        },
        {
          "output_type": "stream",
          "text": [
            "\n",
            "Train loss: 0.32940117033516486, Train accuracy: 0.830713152885437\n",
            "Val loss: 0.7873441707342863, Val accuracy: 0.5625\n",
            "\n",
            "=============== Epoch: 19\n",
            "train batch [0/41]: loss 0.2893527150154114"
          ],
          "name": "stdout"
        },
        {
          "output_type": "stream",
          "text": [
            "\r1it [00:13, 13.61s/it]"
          ],
          "name": "stderr"
        },
        {
          "output_type": "stream",
          "text": [
            "\rtrain batch [1/41]: loss 0.30477845668792725"
          ],
          "name": "stdout"
        },
        {
          "output_type": "stream",
          "text": [
            "\r2it [00:27, 13.71s/it]"
          ],
          "name": "stderr"
        },
        {
          "output_type": "stream",
          "text": [
            "\rtrain batch [2/41]: loss 0.2402743399143219"
          ],
          "name": "stdout"
        },
        {
          "output_type": "stream",
          "text": [
            "\r3it [00:41, 13.73s/it]"
          ],
          "name": "stderr"
        },
        {
          "output_type": "stream",
          "text": [
            "\rtrain batch [3/41]: loss 0.29094305634498596"
          ],
          "name": "stdout"
        },
        {
          "output_type": "stream",
          "text": [
            "\r4it [00:54, 13.67s/it]"
          ],
          "name": "stderr"
        },
        {
          "output_type": "stream",
          "text": [
            "\rtrain batch [4/41]: loss 0.3359188437461853"
          ],
          "name": "stdout"
        },
        {
          "output_type": "stream",
          "text": [
            "\r5it [01:08, 13.73s/it]"
          ],
          "name": "stderr"
        },
        {
          "output_type": "stream",
          "text": [
            "\rtrain batch [5/41]: loss 0.3129660487174988"
          ],
          "name": "stdout"
        },
        {
          "output_type": "stream",
          "text": [
            "\r6it [01:22, 13.76s/it]"
          ],
          "name": "stderr"
        },
        {
          "output_type": "stream",
          "text": [
            "\rtrain batch [6/41]: loss 0.3512481153011322"
          ],
          "name": "stdout"
        },
        {
          "output_type": "stream",
          "text": [
            "\r7it [01:36, 13.80s/it]"
          ],
          "name": "stderr"
        },
        {
          "output_type": "stream",
          "text": [
            "\rtrain batch [7/41]: loss 0.3414205312728882"
          ],
          "name": "stdout"
        },
        {
          "output_type": "stream",
          "text": [
            "\r8it [01:50, 13.81s/it]"
          ],
          "name": "stderr"
        },
        {
          "output_type": "stream",
          "text": [
            "\rtrain batch [8/41]: loss 0.35281920433044434"
          ],
          "name": "stdout"
        },
        {
          "output_type": "stream",
          "text": [
            "\r9it [02:04, 13.83s/it]"
          ],
          "name": "stderr"
        },
        {
          "output_type": "stream",
          "text": [
            "\rtrain batch [9/41]: loss 0.3568616211414337"
          ],
          "name": "stdout"
        },
        {
          "output_type": "stream",
          "text": [
            "\r10it [02:18, 13.87s/it]"
          ],
          "name": "stderr"
        },
        {
          "output_type": "stream",
          "text": [
            "\rtrain batch [10/41]: loss 0.2892302870750427"
          ],
          "name": "stdout"
        },
        {
          "output_type": "stream",
          "text": [
            "\r11it [02:31, 13.82s/it]"
          ],
          "name": "stderr"
        },
        {
          "output_type": "stream",
          "text": [
            "\rtrain batch [11/41]: loss 0.2678127884864807"
          ],
          "name": "stdout"
        },
        {
          "output_type": "stream",
          "text": [
            "\r12it [02:45, 13.76s/it]"
          ],
          "name": "stderr"
        },
        {
          "output_type": "stream",
          "text": [
            "\rtrain batch [12/41]: loss 0.30786049365997314"
          ],
          "name": "stdout"
        },
        {
          "output_type": "stream",
          "text": [
            "\r13it [02:59, 13.78s/it]"
          ],
          "name": "stderr"
        },
        {
          "output_type": "stream",
          "text": [
            "\rtrain batch [13/41]: loss 0.33293095231056213"
          ],
          "name": "stdout"
        },
        {
          "output_type": "stream",
          "text": [
            "\r14it [03:13, 13.79s/it]"
          ],
          "name": "stderr"
        },
        {
          "output_type": "stream",
          "text": [
            "\rtrain batch [14/41]: loss 0.3398202061653137"
          ],
          "name": "stdout"
        },
        {
          "output_type": "stream",
          "text": [
            "\r15it [03:27, 13.84s/it]"
          ],
          "name": "stderr"
        },
        {
          "output_type": "stream",
          "text": [
            "\rtrain batch [15/41]: loss 0.3456713855266571"
          ],
          "name": "stdout"
        },
        {
          "output_type": "stream",
          "text": [
            "\r16it [03:41, 13.90s/it]"
          ],
          "name": "stderr"
        },
        {
          "output_type": "stream",
          "text": [
            "\rtrain batch [16/41]: loss 0.3024793863296509"
          ],
          "name": "stdout"
        },
        {
          "output_type": "stream",
          "text": [
            "\r17it [03:54, 13.87s/it]"
          ],
          "name": "stderr"
        },
        {
          "output_type": "stream",
          "text": [
            "\rtrain batch [17/41]: loss 0.30887871980667114"
          ],
          "name": "stdout"
        },
        {
          "output_type": "stream",
          "text": [
            "\r18it [04:08, 13.90s/it]"
          ],
          "name": "stderr"
        },
        {
          "output_type": "stream",
          "text": [
            "\rtrain batch [18/41]: loss 0.3828902840614319"
          ],
          "name": "stdout"
        },
        {
          "output_type": "stream",
          "text": [
            "\r19it [04:22, 13.88s/it]"
          ],
          "name": "stderr"
        },
        {
          "output_type": "stream",
          "text": [
            "\rtrain batch [19/41]: loss 0.39843225479125977"
          ],
          "name": "stdout"
        },
        {
          "output_type": "stream",
          "text": [
            "\r20it [04:36, 13.88s/it]"
          ],
          "name": "stderr"
        },
        {
          "output_type": "stream",
          "text": [
            "\rtrain batch [20/41]: loss 0.33689743280410767"
          ],
          "name": "stdout"
        },
        {
          "output_type": "stream",
          "text": [
            "\r21it [04:50, 13.90s/it]"
          ],
          "name": "stderr"
        },
        {
          "output_type": "stream",
          "text": [
            "\rtrain batch [21/41]: loss 0.3821239471435547"
          ],
          "name": "stdout"
        },
        {
          "output_type": "stream",
          "text": [
            "\r22it [05:04, 13.85s/it]"
          ],
          "name": "stderr"
        },
        {
          "output_type": "stream",
          "text": [
            "\rtrain batch [22/41]: loss 0.3867402672767639"
          ],
          "name": "stdout"
        },
        {
          "output_type": "stream",
          "text": [
            "\r23it [05:18, 13.89s/it]"
          ],
          "name": "stderr"
        },
        {
          "output_type": "stream",
          "text": [
            "\rtrain batch [23/41]: loss 0.24449239671230316"
          ],
          "name": "stdout"
        },
        {
          "output_type": "stream",
          "text": [
            "\r24it [05:31, 13.79s/it]"
          ],
          "name": "stderr"
        },
        {
          "output_type": "stream",
          "text": [
            "\rtrain batch [24/41]: loss 0.3108026385307312"
          ],
          "name": "stdout"
        },
        {
          "output_type": "stream",
          "text": [
            "\r25it [05:45, 13.78s/it]"
          ],
          "name": "stderr"
        },
        {
          "output_type": "stream",
          "text": [
            "\rtrain batch [25/41]: loss 0.3107560873031616"
          ],
          "name": "stdout"
        },
        {
          "output_type": "stream",
          "text": [
            "\r26it [05:59, 13.82s/it]"
          ],
          "name": "stderr"
        },
        {
          "output_type": "stream",
          "text": [
            "\rtrain batch [26/41]: loss 0.34309524297714233"
          ],
          "name": "stdout"
        },
        {
          "output_type": "stream",
          "text": [
            "\r27it [06:13, 13.83s/it]"
          ],
          "name": "stderr"
        },
        {
          "output_type": "stream",
          "text": [
            "\rtrain batch [27/41]: loss 0.29697278141975403"
          ],
          "name": "stdout"
        },
        {
          "output_type": "stream",
          "text": [
            "\r28it [06:27, 13.80s/it]"
          ],
          "name": "stderr"
        },
        {
          "output_type": "stream",
          "text": [
            "\rtrain batch [28/41]: loss 0.3973864018917084"
          ],
          "name": "stdout"
        },
        {
          "output_type": "stream",
          "text": [
            "\r29it [06:41, 13.87s/it]"
          ],
          "name": "stderr"
        },
        {
          "output_type": "stream",
          "text": [
            "\rtrain batch [29/41]: loss 0.37424236536026"
          ],
          "name": "stdout"
        },
        {
          "output_type": "stream",
          "text": [
            "\r30it [06:54, 13.86s/it]"
          ],
          "name": "stderr"
        },
        {
          "output_type": "stream",
          "text": [
            "\rtrain batch [30/41]: loss 0.2831427752971649"
          ],
          "name": "stdout"
        },
        {
          "output_type": "stream",
          "text": [
            "\r31it [07:08, 13.80s/it]"
          ],
          "name": "stderr"
        },
        {
          "output_type": "stream",
          "text": [
            "\rtrain batch [31/41]: loss 0.3656333088874817"
          ],
          "name": "stdout"
        },
        {
          "output_type": "stream",
          "text": [
            "\r32it [07:22, 13.77s/it]"
          ],
          "name": "stderr"
        },
        {
          "output_type": "stream",
          "text": [
            "\rtrain batch [32/41]: loss 0.30262821912765503"
          ],
          "name": "stdout"
        },
        {
          "output_type": "stream",
          "text": [
            "\r33it [07:36, 13.80s/it]"
          ],
          "name": "stderr"
        },
        {
          "output_type": "stream",
          "text": [
            "\rtrain batch [33/41]: loss 0.374525249004364"
          ],
          "name": "stdout"
        },
        {
          "output_type": "stream",
          "text": [
            "\r34it [07:50, 13.84s/it]"
          ],
          "name": "stderr"
        },
        {
          "output_type": "stream",
          "text": [
            "\rtrain batch [34/41]: loss 0.2991417944431305"
          ],
          "name": "stdout"
        },
        {
          "output_type": "stream",
          "text": [
            "\r35it [08:03, 13.81s/it]"
          ],
          "name": "stderr"
        },
        {
          "output_type": "stream",
          "text": [
            "\rtrain batch [35/41]: loss 0.29095232486724854"
          ],
          "name": "stdout"
        },
        {
          "output_type": "stream",
          "text": [
            "\r36it [08:17, 13.81s/it]"
          ],
          "name": "stderr"
        },
        {
          "output_type": "stream",
          "text": [
            "\rtrain batch [36/41]: loss 0.3603232502937317"
          ],
          "name": "stdout"
        },
        {
          "output_type": "stream",
          "text": [
            "\r37it [08:31, 13.80s/it]"
          ],
          "name": "stderr"
        },
        {
          "output_type": "stream",
          "text": [
            "\rtrain batch [37/41]: loss 0.28658154606819153"
          ],
          "name": "stdout"
        },
        {
          "output_type": "stream",
          "text": [
            "\r38it [08:45, 13.76s/it]"
          ],
          "name": "stderr"
        },
        {
          "output_type": "stream",
          "text": [
            "\rtrain batch [38/41]: loss 0.34439170360565186"
          ],
          "name": "stdout"
        },
        {
          "output_type": "stream",
          "text": [
            "\r39it [08:59, 13.83s/it]"
          ],
          "name": "stderr"
        },
        {
          "output_type": "stream",
          "text": [
            "\rtrain batch [39/41]: loss 0.3267061412334442"
          ],
          "name": "stdout"
        },
        {
          "output_type": "stream",
          "text": [
            "\r40it [09:13, 13.87s/it]"
          ],
          "name": "stderr"
        },
        {
          "output_type": "stream",
          "text": [
            "\rtrain batch [40/41]: loss 0.3902774453163147"
          ],
          "name": "stdout"
        },
        {
          "output_type": "stream",
          "text": [
            "41it [09:23, 13.75s/it]"
          ],
          "name": "stderr"
        },
        {
          "output_type": "stream",
          "text": [
            "\rval batch [0/4]: loss 1.8149707317352295"
          ],
          "name": "stdout"
        },
        {
          "output_type": "stream",
          "text": [
            "\n"
          ],
          "name": "stderr"
        },
        {
          "output_type": "stream",
          "text": [
            "val batch [3/4]: loss 0.0982622280716896"
          ],
          "name": "stdout"
        },
        {
          "output_type": "stream",
          "text": [
            "\r0it [00:00, ?it/s]"
          ],
          "name": "stderr"
        },
        {
          "output_type": "stream",
          "text": [
            "\n",
            "Train loss: 0.32830250553968476, Train accuracy: 0.8314800262451172\n",
            "Val loss: 0.9089276473969221, Val accuracy: 0.5\n",
            "\n",
            "=============== Epoch: 20\n",
            "train batch [0/41]: loss 0.3134414553642273"
          ],
          "name": "stdout"
        },
        {
          "output_type": "stream",
          "text": [
            "\r1it [00:13, 13.75s/it]"
          ],
          "name": "stderr"
        },
        {
          "output_type": "stream",
          "text": [
            "\rtrain batch [1/41]: loss 0.34390851855278015"
          ],
          "name": "stdout"
        },
        {
          "output_type": "stream",
          "text": [
            "\r2it [00:27, 13.76s/it]"
          ],
          "name": "stderr"
        },
        {
          "output_type": "stream",
          "text": [
            "\rtrain batch [2/41]: loss 0.41300368309020996"
          ],
          "name": "stdout"
        },
        {
          "output_type": "stream",
          "text": [
            "\r3it [00:41, 13.81s/it]"
          ],
          "name": "stderr"
        },
        {
          "output_type": "stream",
          "text": [
            "\rtrain batch [3/41]: loss 0.402910053730011"
          ],
          "name": "stdout"
        },
        {
          "output_type": "stream",
          "text": [
            "\r4it [00:55, 13.84s/it]"
          ],
          "name": "stderr"
        },
        {
          "output_type": "stream",
          "text": [
            "\rtrain batch [4/41]: loss 0.4113463759422302"
          ],
          "name": "stdout"
        },
        {
          "output_type": "stream",
          "text": [
            "\r5it [01:09, 13.88s/it]"
          ],
          "name": "stderr"
        },
        {
          "output_type": "stream",
          "text": [
            "\rtrain batch [5/41]: loss 0.3058910667896271"
          ],
          "name": "stdout"
        },
        {
          "output_type": "stream",
          "text": [
            "\r6it [01:23, 13.84s/it]"
          ],
          "name": "stderr"
        },
        {
          "output_type": "stream",
          "text": [
            "\rtrain batch [6/41]: loss 0.3743475079536438"
          ],
          "name": "stdout"
        },
        {
          "output_type": "stream",
          "text": [
            "\r7it [01:37, 13.90s/it]"
          ],
          "name": "stderr"
        },
        {
          "output_type": "stream",
          "text": [
            "\rtrain batch [7/41]: loss 0.44279712438583374"
          ],
          "name": "stdout"
        },
        {
          "output_type": "stream",
          "text": [
            "\r8it [01:51, 13.89s/it]"
          ],
          "name": "stderr"
        },
        {
          "output_type": "stream",
          "text": [
            "\rtrain batch [8/41]: loss 0.3441064953804016"
          ],
          "name": "stdout"
        },
        {
          "output_type": "stream",
          "text": [
            "\r9it [02:04, 13.85s/it]"
          ],
          "name": "stderr"
        },
        {
          "output_type": "stream",
          "text": [
            "\rtrain batch [9/41]: loss 0.33326786756515503"
          ],
          "name": "stdout"
        },
        {
          "output_type": "stream",
          "text": [
            "\r10it [02:18, 13.81s/it]"
          ],
          "name": "stderr"
        },
        {
          "output_type": "stream",
          "text": [
            "\rtrain batch [10/41]: loss 0.4042564034461975"
          ],
          "name": "stdout"
        },
        {
          "output_type": "stream",
          "text": [
            "\r11it [02:32, 13.88s/it]"
          ],
          "name": "stderr"
        },
        {
          "output_type": "stream",
          "text": [
            "\rtrain batch [11/41]: loss 0.32891544699668884"
          ],
          "name": "stdout"
        },
        {
          "output_type": "stream",
          "text": [
            "\r12it [02:46, 13.87s/it]"
          ],
          "name": "stderr"
        },
        {
          "output_type": "stream",
          "text": [
            "\rtrain batch [12/41]: loss 0.31732964515686035"
          ],
          "name": "stdout"
        },
        {
          "output_type": "stream",
          "text": [
            "\r13it [03:00, 13.83s/it]"
          ],
          "name": "stderr"
        },
        {
          "output_type": "stream",
          "text": [
            "\rtrain batch [13/41]: loss 0.3342369794845581"
          ],
          "name": "stdout"
        },
        {
          "output_type": "stream",
          "text": [
            "\r14it [03:13, 13.81s/it]"
          ],
          "name": "stderr"
        },
        {
          "output_type": "stream",
          "text": [
            "\rtrain batch [14/41]: loss 0.3734998404979706"
          ],
          "name": "stdout"
        },
        {
          "output_type": "stream",
          "text": [
            "\r15it [03:27, 13.85s/it]"
          ],
          "name": "stderr"
        },
        {
          "output_type": "stream",
          "text": [
            "\rtrain batch [15/41]: loss 0.3172701597213745"
          ],
          "name": "stdout"
        },
        {
          "output_type": "stream",
          "text": [
            "\r16it [03:41, 13.89s/it]"
          ],
          "name": "stderr"
        },
        {
          "output_type": "stream",
          "text": [
            "\rtrain batch [16/41]: loss 0.33288249373435974"
          ],
          "name": "stdout"
        },
        {
          "output_type": "stream",
          "text": [
            "\r17it [03:55, 13.91s/it]"
          ],
          "name": "stderr"
        },
        {
          "output_type": "stream",
          "text": [
            "\rtrain batch [17/41]: loss 0.3629041314125061"
          ],
          "name": "stdout"
        },
        {
          "output_type": "stream",
          "text": [
            "\r18it [04:09, 13.87s/it]"
          ],
          "name": "stderr"
        },
        {
          "output_type": "stream",
          "text": [
            "\rtrain batch [18/41]: loss 0.40104010701179504"
          ],
          "name": "stdout"
        },
        {
          "output_type": "stream",
          "text": [
            "\r19it [04:23, 13.82s/it]"
          ],
          "name": "stderr"
        },
        {
          "output_type": "stream",
          "text": [
            "\rtrain batch [19/41]: loss 0.29056721925735474"
          ],
          "name": "stdout"
        },
        {
          "output_type": "stream",
          "text": [
            "\r20it [04:37, 13.80s/it]"
          ],
          "name": "stderr"
        },
        {
          "output_type": "stream",
          "text": [
            "\rtrain batch [20/41]: loss 0.32120734453201294"
          ],
          "name": "stdout"
        },
        {
          "output_type": "stream",
          "text": [
            "\r21it [04:50, 13.78s/it]"
          ],
          "name": "stderr"
        },
        {
          "output_type": "stream",
          "text": [
            "\rtrain batch [21/41]: loss 0.3391743004322052"
          ],
          "name": "stdout"
        },
        {
          "output_type": "stream",
          "text": [
            "\r22it [05:04, 13.75s/it]"
          ],
          "name": "stderr"
        },
        {
          "output_type": "stream",
          "text": [
            "\rtrain batch [22/41]: loss 0.406203031539917"
          ],
          "name": "stdout"
        },
        {
          "output_type": "stream",
          "text": [
            "\r23it [05:18, 13.83s/it]"
          ],
          "name": "stderr"
        },
        {
          "output_type": "stream",
          "text": [
            "\rtrain batch [23/41]: loss 0.3519553542137146"
          ],
          "name": "stdout"
        },
        {
          "output_type": "stream",
          "text": [
            "\r24it [05:32, 13.87s/it]"
          ],
          "name": "stderr"
        },
        {
          "output_type": "stream",
          "text": [
            "\rtrain batch [24/41]: loss 0.3249971568584442"
          ],
          "name": "stdout"
        },
        {
          "output_type": "stream",
          "text": [
            "\r25it [05:46, 13.83s/it]"
          ],
          "name": "stderr"
        },
        {
          "output_type": "stream",
          "text": [
            "\rtrain batch [25/41]: loss 0.252734899520874"
          ],
          "name": "stdout"
        },
        {
          "output_type": "stream",
          "text": [
            "\r26it [05:59, 13.76s/it]"
          ],
          "name": "stderr"
        },
        {
          "output_type": "stream",
          "text": [
            "\rtrain batch [26/41]: loss 0.3222646117210388"
          ],
          "name": "stdout"
        },
        {
          "output_type": "stream",
          "text": [
            "\r27it [06:13, 13.74s/it]"
          ],
          "name": "stderr"
        },
        {
          "output_type": "stream",
          "text": [
            "\rtrain batch [27/41]: loss 0.34625932574272156"
          ],
          "name": "stdout"
        },
        {
          "output_type": "stream",
          "text": [
            "\r28it [06:27, 13.74s/it]"
          ],
          "name": "stderr"
        },
        {
          "output_type": "stream",
          "text": [
            "\rtrain batch [28/41]: loss 0.3421180844306946"
          ],
          "name": "stdout"
        },
        {
          "output_type": "stream",
          "text": [
            "\r29it [06:40, 13.76s/it]"
          ],
          "name": "stderr"
        },
        {
          "output_type": "stream",
          "text": [
            "\rtrain batch [29/41]: loss 0.34896016120910645"
          ],
          "name": "stdout"
        },
        {
          "output_type": "stream",
          "text": [
            "\r30it [06:54, 13.76s/it]"
          ],
          "name": "stderr"
        },
        {
          "output_type": "stream",
          "text": [
            "\rtrain batch [30/41]: loss 0.3592382073402405"
          ],
          "name": "stdout"
        },
        {
          "output_type": "stream",
          "text": [
            "\r31it [07:08, 13.82s/it]"
          ],
          "name": "stderr"
        },
        {
          "output_type": "stream",
          "text": [
            "\rtrain batch [31/41]: loss 0.41109493374824524"
          ],
          "name": "stdout"
        },
        {
          "output_type": "stream",
          "text": [
            "\r32it [07:22, 13.84s/it]"
          ],
          "name": "stderr"
        },
        {
          "output_type": "stream",
          "text": [
            "\rtrain batch [32/41]: loss 0.3697258532047272"
          ],
          "name": "stdout"
        },
        {
          "output_type": "stream",
          "text": [
            "\r33it [07:36, 13.81s/it]"
          ],
          "name": "stderr"
        },
        {
          "output_type": "stream",
          "text": [
            "\rtrain batch [33/41]: loss 0.316023588180542"
          ],
          "name": "stdout"
        },
        {
          "output_type": "stream",
          "text": [
            "\r34it [07:50, 13.80s/it]"
          ],
          "name": "stderr"
        },
        {
          "output_type": "stream",
          "text": [
            "\rtrain batch [34/41]: loss 0.32752853631973267"
          ],
          "name": "stdout"
        },
        {
          "output_type": "stream",
          "text": [
            "\r35it [08:03, 13.80s/it]"
          ],
          "name": "stderr"
        },
        {
          "output_type": "stream",
          "text": [
            "\rtrain batch [35/41]: loss 0.3269590735435486"
          ],
          "name": "stdout"
        },
        {
          "output_type": "stream",
          "text": [
            "\r36it [08:17, 13.82s/it]"
          ],
          "name": "stderr"
        },
        {
          "output_type": "stream",
          "text": [
            "\rtrain batch [36/41]: loss 0.3468421697616577"
          ],
          "name": "stdout"
        },
        {
          "output_type": "stream",
          "text": [
            "\r37it [08:31, 13.79s/it]"
          ],
          "name": "stderr"
        },
        {
          "output_type": "stream",
          "text": [
            "\rtrain batch [37/41]: loss 0.3322879374027252"
          ],
          "name": "stdout"
        },
        {
          "output_type": "stream",
          "text": [
            "\r38it [08:45, 13.77s/it]"
          ],
          "name": "stderr"
        },
        {
          "output_type": "stream",
          "text": [
            "\rtrain batch [38/41]: loss 0.3169745206832886"
          ],
          "name": "stdout"
        },
        {
          "output_type": "stream",
          "text": [
            "\r39it [08:58, 13.70s/it]"
          ],
          "name": "stderr"
        },
        {
          "output_type": "stream",
          "text": [
            "\rtrain batch [39/41]: loss 0.31287631392478943"
          ],
          "name": "stdout"
        },
        {
          "output_type": "stream",
          "text": [
            "\r40it [09:12, 13.73s/it]"
          ],
          "name": "stderr"
        },
        {
          "output_type": "stream",
          "text": [
            "\rtrain batch [40/41]: loss 0.3378452956676483"
          ],
          "name": "stdout"
        },
        {
          "output_type": "stream",
          "text": [
            "41it [09:23, 13.73s/it]"
          ],
          "name": "stderr"
        },
        {
          "output_type": "stream",
          "text": [
            "\rval batch [0/4]: loss 1.8934115171432495"
          ],
          "name": "stdout"
        },
        {
          "output_type": "stream",
          "text": [
            "\n"
          ],
          "name": "stderr"
        },
        {
          "output_type": "stream",
          "text": [
            "val batch [3/4]: loss 0.07483190298080444"
          ],
          "name": "stdout"
        },
        {
          "output_type": "stream",
          "text": [
            "\r0it [00:00, ?it/s]"
          ],
          "name": "stderr"
        },
        {
          "output_type": "stream",
          "text": [
            "\n",
            "Train loss: 0.34783398450874703, Train accuracy: 0.8111579418182373\n",
            "Val loss: 0.8695162460207939, Val accuracy: 0.5625\n",
            "\n",
            "=============== Epoch: 21\n",
            "train batch [0/41]: loss 0.46852532029151917"
          ],
          "name": "stdout"
        },
        {
          "output_type": "stream",
          "text": [
            "\r1it [00:13, 13.94s/it]"
          ],
          "name": "stderr"
        },
        {
          "output_type": "stream",
          "text": [
            "\rtrain batch [1/41]: loss 0.36733055114746094"
          ],
          "name": "stdout"
        },
        {
          "output_type": "stream",
          "text": [
            "\r2it [00:27, 13.91s/it]"
          ],
          "name": "stderr"
        },
        {
          "output_type": "stream",
          "text": [
            "\rtrain batch [2/41]: loss 0.3943176865577698"
          ],
          "name": "stdout"
        },
        {
          "output_type": "stream",
          "text": [
            "\r3it [00:41, 13.88s/it]"
          ],
          "name": "stderr"
        },
        {
          "output_type": "stream",
          "text": [
            "\rtrain batch [3/41]: loss 0.36370640993118286"
          ],
          "name": "stdout"
        },
        {
          "output_type": "stream",
          "text": [
            "\r4it [00:55, 13.86s/it]"
          ],
          "name": "stderr"
        },
        {
          "output_type": "stream",
          "text": [
            "\rtrain batch [4/41]: loss 0.3699992299079895"
          ],
          "name": "stdout"
        },
        {
          "output_type": "stream",
          "text": [
            "\r5it [01:09, 13.82s/it]"
          ],
          "name": "stderr"
        },
        {
          "output_type": "stream",
          "text": [
            "\rtrain batch [5/41]: loss 0.44310781359672546"
          ],
          "name": "stdout"
        },
        {
          "output_type": "stream",
          "text": [
            "\r6it [01:23, 13.88s/it]"
          ],
          "name": "stderr"
        },
        {
          "output_type": "stream",
          "text": [
            "\rtrain batch [6/41]: loss 0.34705257415771484"
          ],
          "name": "stdout"
        },
        {
          "output_type": "stream",
          "text": [
            "\r7it [01:36, 13.85s/it]"
          ],
          "name": "stderr"
        },
        {
          "output_type": "stream",
          "text": [
            "\rtrain batch [7/41]: loss 0.3439463973045349"
          ],
          "name": "stdout"
        },
        {
          "output_type": "stream",
          "text": [
            "\r8it [01:50, 13.86s/it]"
          ],
          "name": "stderr"
        },
        {
          "output_type": "stream",
          "text": [
            "\rtrain batch [8/41]: loss 0.4110431671142578"
          ],
          "name": "stdout"
        },
        {
          "output_type": "stream",
          "text": [
            "\r9it [02:04, 13.91s/it]"
          ],
          "name": "stderr"
        },
        {
          "output_type": "stream",
          "text": [
            "\rtrain batch [9/41]: loss 0.3518372178077698"
          ],
          "name": "stdout"
        },
        {
          "output_type": "stream",
          "text": [
            "\r10it [02:18, 13.92s/it]"
          ],
          "name": "stderr"
        },
        {
          "output_type": "stream",
          "text": [
            "\rtrain batch [10/41]: loss 0.2955258786678314"
          ],
          "name": "stdout"
        },
        {
          "output_type": "stream",
          "text": [
            "\r11it [02:32, 13.85s/it]"
          ],
          "name": "stderr"
        },
        {
          "output_type": "stream",
          "text": [
            "\rtrain batch [11/41]: loss 0.32852524518966675"
          ],
          "name": "stdout"
        },
        {
          "output_type": "stream",
          "text": [
            "\r12it [02:46, 13.88s/it]"
          ],
          "name": "stderr"
        },
        {
          "output_type": "stream",
          "text": [
            "\rtrain batch [12/41]: loss 0.2495799958705902"
          ],
          "name": "stdout"
        },
        {
          "output_type": "stream",
          "text": [
            "\r13it [03:00, 13.84s/it]"
          ],
          "name": "stderr"
        },
        {
          "output_type": "stream",
          "text": [
            "\rtrain batch [13/41]: loss 0.37899190187454224"
          ],
          "name": "stdout"
        },
        {
          "output_type": "stream",
          "text": [
            "\r14it [03:14, 13.85s/it]"
          ],
          "name": "stderr"
        },
        {
          "output_type": "stream",
          "text": [
            "\rtrain batch [14/41]: loss 0.40753263235092163"
          ],
          "name": "stdout"
        },
        {
          "output_type": "stream",
          "text": [
            "\r15it [03:27, 13.86s/it]"
          ],
          "name": "stderr"
        },
        {
          "output_type": "stream",
          "text": [
            "\rtrain batch [15/41]: loss 0.28643688559532166"
          ],
          "name": "stdout"
        },
        {
          "output_type": "stream",
          "text": [
            "\r16it [03:41, 13.83s/it]"
          ],
          "name": "stderr"
        },
        {
          "output_type": "stream",
          "text": [
            "\rtrain batch [16/41]: loss 0.3324401080608368"
          ],
          "name": "stdout"
        },
        {
          "output_type": "stream",
          "text": [
            "\r17it [03:55, 13.79s/it]"
          ],
          "name": "stderr"
        },
        {
          "output_type": "stream",
          "text": [
            "\rtrain batch [17/41]: loss 0.3682303726673126"
          ],
          "name": "stdout"
        },
        {
          "output_type": "stream",
          "text": [
            "\r18it [04:09, 13.78s/it]"
          ],
          "name": "stderr"
        },
        {
          "output_type": "stream",
          "text": [
            "\rtrain batch [18/41]: loss 0.40118443965911865"
          ],
          "name": "stdout"
        },
        {
          "output_type": "stream",
          "text": [
            "\r19it [04:23, 13.82s/it]"
          ],
          "name": "stderr"
        },
        {
          "output_type": "stream",
          "text": [
            "\rtrain batch [19/41]: loss 0.32604968547821045"
          ],
          "name": "stdout"
        },
        {
          "output_type": "stream",
          "text": [
            "\r20it [04:36, 13.80s/it]"
          ],
          "name": "stderr"
        },
        {
          "output_type": "stream",
          "text": [
            "\rtrain batch [20/41]: loss 0.33233821392059326"
          ],
          "name": "stdout"
        },
        {
          "output_type": "stream",
          "text": [
            "\r21it [04:50, 13.81s/it]"
          ],
          "name": "stderr"
        },
        {
          "output_type": "stream",
          "text": [
            "\rtrain batch [21/41]: loss 0.3700055480003357"
          ],
          "name": "stdout"
        },
        {
          "output_type": "stream",
          "text": [
            "\r22it [05:04, 13.78s/it]"
          ],
          "name": "stderr"
        },
        {
          "output_type": "stream",
          "text": [
            "\rtrain batch [22/41]: loss 0.3442515432834625"
          ],
          "name": "stdout"
        },
        {
          "output_type": "stream",
          "text": [
            "\r23it [05:18, 13.79s/it]"
          ],
          "name": "stderr"
        },
        {
          "output_type": "stream",
          "text": [
            "\rtrain batch [23/41]: loss 0.35646018385887146"
          ],
          "name": "stdout"
        },
        {
          "output_type": "stream",
          "text": [
            "\r24it [05:31, 13.79s/it]"
          ],
          "name": "stderr"
        },
        {
          "output_type": "stream",
          "text": [
            "\rtrain batch [24/41]: loss 0.34480005502700806"
          ],
          "name": "stdout"
        },
        {
          "output_type": "stream",
          "text": [
            "\r25it [05:45, 13.79s/it]"
          ],
          "name": "stderr"
        },
        {
          "output_type": "stream",
          "text": [
            "\rtrain batch [25/41]: loss 0.4022938013076782"
          ],
          "name": "stdout"
        },
        {
          "output_type": "stream",
          "text": [
            "\r26it [05:59, 13.83s/it]"
          ],
          "name": "stderr"
        },
        {
          "output_type": "stream",
          "text": [
            "\rtrain batch [26/41]: loss 0.35021936893463135"
          ],
          "name": "stdout"
        },
        {
          "output_type": "stream",
          "text": [
            "\r27it [06:13, 13.82s/it]"
          ],
          "name": "stderr"
        },
        {
          "output_type": "stream",
          "text": [
            "\rtrain batch [27/41]: loss 0.36160194873809814"
          ],
          "name": "stdout"
        },
        {
          "output_type": "stream",
          "text": [
            "\r28it [06:27, 13.82s/it]"
          ],
          "name": "stderr"
        },
        {
          "output_type": "stream",
          "text": [
            "\rtrain batch [28/41]: loss 0.4140738844871521"
          ],
          "name": "stdout"
        },
        {
          "output_type": "stream",
          "text": [
            "\r29it [06:41, 13.83s/it]"
          ],
          "name": "stderr"
        },
        {
          "output_type": "stream",
          "text": [
            "\rtrain batch [29/41]: loss 0.2985486686229706"
          ],
          "name": "stdout"
        },
        {
          "output_type": "stream",
          "text": [
            "\r30it [06:54, 13.82s/it]"
          ],
          "name": "stderr"
        },
        {
          "output_type": "stream",
          "text": [
            "\rtrain batch [30/41]: loss 0.41122350096702576"
          ],
          "name": "stdout"
        },
        {
          "output_type": "stream",
          "text": [
            "\r31it [07:08, 13.85s/it]"
          ],
          "name": "stderr"
        },
        {
          "output_type": "stream",
          "text": [
            "\rtrain batch [31/41]: loss 0.2870911955833435"
          ],
          "name": "stdout"
        },
        {
          "output_type": "stream",
          "text": [
            "\r32it [07:22, 13.81s/it]"
          ],
          "name": "stderr"
        },
        {
          "output_type": "stream",
          "text": [
            "\rtrain batch [32/41]: loss 0.3833683133125305"
          ],
          "name": "stdout"
        },
        {
          "output_type": "stream",
          "text": [
            "\r33it [07:36, 13.81s/it]"
          ],
          "name": "stderr"
        },
        {
          "output_type": "stream",
          "text": [
            "\rtrain batch [33/41]: loss 0.3362385630607605"
          ],
          "name": "stdout"
        },
        {
          "output_type": "stream",
          "text": [
            "\r34it [07:50, 13.78s/it]"
          ],
          "name": "stderr"
        },
        {
          "output_type": "stream",
          "text": [
            "\rtrain batch [34/41]: loss 0.36058568954467773"
          ],
          "name": "stdout"
        },
        {
          "output_type": "stream",
          "text": [
            "\r35it [08:03, 13.78s/it]"
          ],
          "name": "stderr"
        },
        {
          "output_type": "stream",
          "text": [
            "\rtrain batch [35/41]: loss 0.3347785472869873"
          ],
          "name": "stdout"
        },
        {
          "output_type": "stream",
          "text": [
            "\r36it [08:17, 13.76s/it]"
          ],
          "name": "stderr"
        },
        {
          "output_type": "stream",
          "text": [
            "\rtrain batch [36/41]: loss 0.4336831271648407"
          ],
          "name": "stdout"
        },
        {
          "output_type": "stream",
          "text": [
            "\r37it [08:31, 13.81s/it]"
          ],
          "name": "stderr"
        },
        {
          "output_type": "stream",
          "text": [
            "\rtrain batch [37/41]: loss 0.3312527537345886"
          ],
          "name": "stdout"
        },
        {
          "output_type": "stream",
          "text": [
            "\r38it [08:45, 13.80s/it]"
          ],
          "name": "stderr"
        },
        {
          "output_type": "stream",
          "text": [
            "\rtrain batch [38/41]: loss 0.31708335876464844"
          ],
          "name": "stdout"
        },
        {
          "output_type": "stream",
          "text": [
            "\r39it [08:59, 13.79s/it]"
          ],
          "name": "stderr"
        },
        {
          "output_type": "stream",
          "text": [
            "\rtrain batch [39/41]: loss 0.3101070523262024"
          ],
          "name": "stdout"
        },
        {
          "output_type": "stream",
          "text": [
            "\r40it [09:12, 13.79s/it]"
          ],
          "name": "stderr"
        },
        {
          "output_type": "stream",
          "text": [
            "\rtrain batch [40/41]: loss 0.3901776671409607"
          ],
          "name": "stdout"
        },
        {
          "output_type": "stream",
          "text": [
            "41it [09:23, 13.74s/it]"
          ],
          "name": "stderr"
        },
        {
          "output_type": "stream",
          "text": [
            "\rval batch [0/4]: loss 1.7121918201446533"
          ],
          "name": "stdout"
        },
        {
          "output_type": "stream",
          "text": [
            "\n"
          ],
          "name": "stderr"
        },
        {
          "output_type": "stream",
          "text": [
            "val batch [3/4]: loss 0.13752301037311554"
          ],
          "name": "stdout"
        },
        {
          "output_type": "stream",
          "text": [
            "\r0it [00:00, ?it/s]"
          ],
          "name": "stderr"
        },
        {
          "output_type": "stream",
          "text": [
            "\n",
            "Train loss: 0.3586718672659339, Train accuracy: 0.7998465895652771\n",
            "Val loss: 0.727333340793848, Val accuracy: 0.5\n",
            "\n",
            "=============== Epoch: 22\n",
            "train batch [0/41]: loss 0.3767012357711792"
          ],
          "name": "stdout"
        },
        {
          "output_type": "stream",
          "text": [
            "\r1it [00:13, 13.87s/it]"
          ],
          "name": "stderr"
        },
        {
          "output_type": "stream",
          "text": [
            "\rtrain batch [1/41]: loss 0.352245956659317"
          ],
          "name": "stdout"
        },
        {
          "output_type": "stream",
          "text": [
            "\r2it [00:27, 13.87s/it]"
          ],
          "name": "stderr"
        },
        {
          "output_type": "stream",
          "text": [
            "\rtrain batch [2/41]: loss 0.3676750063896179"
          ],
          "name": "stdout"
        },
        {
          "output_type": "stream",
          "text": [
            "\r3it [00:41, 13.87s/it]"
          ],
          "name": "stderr"
        },
        {
          "output_type": "stream",
          "text": [
            "\rtrain batch [3/41]: loss 0.3086428642272949"
          ],
          "name": "stdout"
        },
        {
          "output_type": "stream",
          "text": [
            "\r4it [00:55, 13.89s/it]"
          ],
          "name": "stderr"
        },
        {
          "output_type": "stream",
          "text": [
            "\rtrain batch [4/41]: loss 0.4174296259880066"
          ],
          "name": "stdout"
        },
        {
          "output_type": "stream",
          "text": [
            "\r5it [01:09, 13.93s/it]"
          ],
          "name": "stderr"
        },
        {
          "output_type": "stream",
          "text": [
            "\rtrain batch [5/41]: loss 0.36273691058158875"
          ],
          "name": "stdout"
        },
        {
          "output_type": "stream",
          "text": [
            "\r6it [01:23, 13.88s/it]"
          ],
          "name": "stderr"
        },
        {
          "output_type": "stream",
          "text": [
            "\rtrain batch [6/41]: loss 0.3164711594581604"
          ],
          "name": "stdout"
        },
        {
          "output_type": "stream",
          "text": [
            "\r7it [01:37, 13.84s/it]"
          ],
          "name": "stderr"
        },
        {
          "output_type": "stream",
          "text": [
            "\rtrain batch [7/41]: loss 0.3675093948841095"
          ],
          "name": "stdout"
        },
        {
          "output_type": "stream",
          "text": [
            "\r8it [01:50, 13.86s/it]"
          ],
          "name": "stderr"
        },
        {
          "output_type": "stream",
          "text": [
            "\rtrain batch [8/41]: loss 0.28872203826904297"
          ],
          "name": "stdout"
        },
        {
          "output_type": "stream",
          "text": [
            "\r9it [02:04, 13.77s/it]"
          ],
          "name": "stderr"
        },
        {
          "output_type": "stream",
          "text": [
            "\rtrain batch [9/41]: loss 0.3836022913455963"
          ],
          "name": "stdout"
        },
        {
          "output_type": "stream",
          "text": [
            "\r10it [02:18, 13.81s/it]"
          ],
          "name": "stderr"
        },
        {
          "output_type": "stream",
          "text": [
            "\rtrain batch [10/41]: loss 0.3542993664741516"
          ],
          "name": "stdout"
        },
        {
          "output_type": "stream",
          "text": [
            "\r11it [02:32, 13.87s/it]"
          ],
          "name": "stderr"
        },
        {
          "output_type": "stream",
          "text": [
            "\rtrain batch [11/41]: loss 0.37804335355758667"
          ],
          "name": "stdout"
        },
        {
          "output_type": "stream",
          "text": [
            "\r12it [02:46, 13.83s/it]"
          ],
          "name": "stderr"
        },
        {
          "output_type": "stream",
          "text": [
            "\rtrain batch [12/41]: loss 0.30977123975753784"
          ],
          "name": "stdout"
        },
        {
          "output_type": "stream",
          "text": [
            "\r13it [02:59, 13.77s/it]"
          ],
          "name": "stderr"
        },
        {
          "output_type": "stream",
          "text": [
            "\rtrain batch [13/41]: loss 0.36230653524398804"
          ],
          "name": "stdout"
        },
        {
          "output_type": "stream",
          "text": [
            "\r14it [03:13, 13.75s/it]"
          ],
          "name": "stderr"
        },
        {
          "output_type": "stream",
          "text": [
            "\rtrain batch [14/41]: loss 0.2848968207836151"
          ],
          "name": "stdout"
        },
        {
          "output_type": "stream",
          "text": [
            "\r15it [03:27, 13.74s/it]"
          ],
          "name": "stderr"
        },
        {
          "output_type": "stream",
          "text": [
            "\rtrain batch [15/41]: loss 0.35984402894973755"
          ],
          "name": "stdout"
        },
        {
          "output_type": "stream",
          "text": [
            "\r16it [03:40, 13.74s/it]"
          ],
          "name": "stderr"
        },
        {
          "output_type": "stream",
          "text": [
            "\rtrain batch [16/41]: loss 0.29367536306381226"
          ],
          "name": "stdout"
        },
        {
          "output_type": "stream",
          "text": [
            "\r17it [03:54, 13.80s/it]"
          ],
          "name": "stderr"
        },
        {
          "output_type": "stream",
          "text": [
            "\rtrain batch [17/41]: loss 0.3243446350097656"
          ],
          "name": "stdout"
        },
        {
          "output_type": "stream",
          "text": [
            "\r18it [04:08, 13.79s/it]"
          ],
          "name": "stderr"
        },
        {
          "output_type": "stream",
          "text": [
            "\rtrain batch [18/41]: loss 0.30309051275253296"
          ],
          "name": "stdout"
        },
        {
          "output_type": "stream",
          "text": [
            "\r19it [04:22, 13.73s/it]"
          ],
          "name": "stderr"
        },
        {
          "output_type": "stream",
          "text": [
            "\rtrain batch [19/41]: loss 0.3378554582595825"
          ],
          "name": "stdout"
        },
        {
          "output_type": "stream",
          "text": [
            "\r20it [04:36, 13.78s/it]"
          ],
          "name": "stderr"
        },
        {
          "output_type": "stream",
          "text": [
            "\rtrain batch [20/41]: loss 0.30011194944381714"
          ],
          "name": "stdout"
        },
        {
          "output_type": "stream",
          "text": [
            "\r21it [04:49, 13.77s/it]"
          ],
          "name": "stderr"
        },
        {
          "output_type": "stream",
          "text": [
            "\rtrain batch [21/41]: loss 0.33487558364868164"
          ],
          "name": "stdout"
        },
        {
          "output_type": "stream",
          "text": [
            "\r22it [05:03, 13.78s/it]"
          ],
          "name": "stderr"
        },
        {
          "output_type": "stream",
          "text": [
            "\rtrain batch [22/41]: loss 0.31866416335105896"
          ],
          "name": "stdout"
        },
        {
          "output_type": "stream",
          "text": [
            "\r23it [05:17, 13.75s/it]"
          ],
          "name": "stderr"
        },
        {
          "output_type": "stream",
          "text": [
            "\rtrain batch [23/41]: loss 0.36991122364997864"
          ],
          "name": "stdout"
        },
        {
          "output_type": "stream",
          "text": [
            "\r24it [05:31, 13.82s/it]"
          ],
          "name": "stderr"
        },
        {
          "output_type": "stream",
          "text": [
            "\rtrain batch [24/41]: loss 0.3551045358181"
          ],
          "name": "stdout"
        },
        {
          "output_type": "stream",
          "text": [
            "\r25it [05:45, 13.80s/it]"
          ],
          "name": "stderr"
        },
        {
          "output_type": "stream",
          "text": [
            "\rtrain batch [25/41]: loss 0.37445151805877686"
          ],
          "name": "stdout"
        },
        {
          "output_type": "stream",
          "text": [
            "\r26it [05:59, 13.89s/it]"
          ],
          "name": "stderr"
        },
        {
          "output_type": "stream",
          "text": [
            "\rtrain batch [26/41]: loss 0.2910343110561371"
          ],
          "name": "stdout"
        },
        {
          "output_type": "stream",
          "text": [
            "\r27it [06:13, 13.87s/it]"
          ],
          "name": "stderr"
        },
        {
          "output_type": "stream",
          "text": [
            "\rtrain batch [27/41]: loss 0.3888508677482605"
          ],
          "name": "stdout"
        },
        {
          "output_type": "stream",
          "text": [
            "\r28it [06:27, 13.92s/it]"
          ],
          "name": "stderr"
        },
        {
          "output_type": "stream",
          "text": [
            "\rtrain batch [28/41]: loss 0.45478934049606323"
          ],
          "name": "stdout"
        },
        {
          "output_type": "stream",
          "text": [
            "\r29it [06:41, 14.06s/it]"
          ],
          "name": "stderr"
        },
        {
          "output_type": "stream",
          "text": [
            "\rtrain batch [29/41]: loss 0.3092260956764221"
          ],
          "name": "stdout"
        },
        {
          "output_type": "stream",
          "text": [
            "\r30it [06:55, 13.97s/it]"
          ],
          "name": "stderr"
        },
        {
          "output_type": "stream",
          "text": [
            "\rtrain batch [30/41]: loss 0.35417720675468445"
          ],
          "name": "stdout"
        },
        {
          "output_type": "stream",
          "text": [
            "\r31it [07:09, 13.91s/it]"
          ],
          "name": "stderr"
        },
        {
          "output_type": "stream",
          "text": [
            "\rtrain batch [31/41]: loss 0.38441187143325806"
          ],
          "name": "stdout"
        },
        {
          "output_type": "stream",
          "text": [
            "\r32it [07:22, 13.91s/it]"
          ],
          "name": "stderr"
        },
        {
          "output_type": "stream",
          "text": [
            "\rtrain batch [32/41]: loss 0.3326686918735504"
          ],
          "name": "stdout"
        },
        {
          "output_type": "stream",
          "text": [
            "\r33it [07:36, 13.84s/it]"
          ],
          "name": "stderr"
        },
        {
          "output_type": "stream",
          "text": [
            "\rtrain batch [33/41]: loss 0.31353288888931274"
          ],
          "name": "stdout"
        },
        {
          "output_type": "stream",
          "text": [
            "\r34it [07:50, 13.83s/it]"
          ],
          "name": "stderr"
        },
        {
          "output_type": "stream",
          "text": [
            "\rtrain batch [34/41]: loss 0.3064616620540619"
          ],
          "name": "stdout"
        },
        {
          "output_type": "stream",
          "text": [
            "\r35it [08:04, 13.80s/it]"
          ],
          "name": "stderr"
        },
        {
          "output_type": "stream",
          "text": [
            "\rtrain batch [35/41]: loss 0.3860197067260742"
          ],
          "name": "stdout"
        },
        {
          "output_type": "stream",
          "text": [
            "\r36it [08:17, 13.81s/it]"
          ],
          "name": "stderr"
        },
        {
          "output_type": "stream",
          "text": [
            "\rtrain batch [36/41]: loss 0.34900185465812683"
          ],
          "name": "stdout"
        },
        {
          "output_type": "stream",
          "text": [
            "\r37it [08:31, 13.85s/it]"
          ],
          "name": "stderr"
        },
        {
          "output_type": "stream",
          "text": [
            "\rtrain batch [37/41]: loss 0.3883354663848877"
          ],
          "name": "stdout"
        },
        {
          "output_type": "stream",
          "text": [
            "\r38it [08:45, 13.87s/it]"
          ],
          "name": "stderr"
        },
        {
          "output_type": "stream",
          "text": [
            "\rtrain batch [38/41]: loss 0.39172568917274475"
          ],
          "name": "stdout"
        },
        {
          "output_type": "stream",
          "text": [
            "\r39it [08:59, 13.83s/it]"
          ],
          "name": "stderr"
        },
        {
          "output_type": "stream",
          "text": [
            "\rtrain batch [39/41]: loss 0.35582417249679565"
          ],
          "name": "stdout"
        },
        {
          "output_type": "stream",
          "text": [
            "\r40it [09:13, 13.82s/it]"
          ],
          "name": "stderr"
        },
        {
          "output_type": "stream",
          "text": [
            "\rtrain batch [40/41]: loss 0.29986143112182617"
          ],
          "name": "stdout"
        },
        {
          "output_type": "stream",
          "text": [
            "41it [09:23, 13.75s/it]"
          ],
          "name": "stderr"
        },
        {
          "output_type": "stream",
          "text": [
            "\rval batch [0/4]: loss 1.488537311553955"
          ],
          "name": "stdout"
        },
        {
          "output_type": "stream",
          "text": [
            "\n"
          ],
          "name": "stderr"
        },
        {
          "output_type": "stream",
          "text": [
            "val batch [3/4]: loss 0.11327172815799713"
          ],
          "name": "stdout"
        },
        {
          "output_type": "stream",
          "text": [
            "\r0it [00:00, ?it/s]"
          ],
          "name": "stderr"
        },
        {
          "output_type": "stream",
          "text": [
            "\n",
            "Train loss: 0.34655863555466254, Train accuracy: 0.8057898879051208\n",
            "Val loss: 0.723790843039751, Val accuracy: 0.5625\n",
            "\n",
            "=============== Epoch: 23\n",
            "train batch [0/41]: loss 0.3396439254283905"
          ],
          "name": "stdout"
        },
        {
          "output_type": "stream",
          "text": [
            "\r1it [00:13, 13.83s/it]"
          ],
          "name": "stderr"
        },
        {
          "output_type": "stream",
          "text": [
            "\rtrain batch [1/41]: loss 0.2934519946575165"
          ],
          "name": "stdout"
        },
        {
          "output_type": "stream",
          "text": [
            "\r2it [00:27, 13.78s/it]"
          ],
          "name": "stderr"
        },
        {
          "output_type": "stream",
          "text": [
            "\rtrain batch [2/41]: loss 0.3873216509819031"
          ],
          "name": "stdout"
        },
        {
          "output_type": "stream",
          "text": [
            "\r3it [00:41, 13.80s/it]"
          ],
          "name": "stderr"
        },
        {
          "output_type": "stream",
          "text": [
            "\rtrain batch [3/41]: loss 0.38980019092559814"
          ],
          "name": "stdout"
        },
        {
          "output_type": "stream",
          "text": [
            "\r4it [00:55, 13.84s/it]"
          ],
          "name": "stderr"
        },
        {
          "output_type": "stream",
          "text": [
            "\rtrain batch [4/41]: loss 0.3070763349533081"
          ],
          "name": "stdout"
        },
        {
          "output_type": "stream",
          "text": [
            "\r5it [01:09, 13.88s/it]"
          ],
          "name": "stderr"
        },
        {
          "output_type": "stream",
          "text": [
            "\rtrain batch [5/41]: loss 0.3949999511241913"
          ],
          "name": "stdout"
        },
        {
          "output_type": "stream",
          "text": [
            "\r6it [01:23, 13.92s/it]"
          ],
          "name": "stderr"
        },
        {
          "output_type": "stream",
          "text": [
            "\rtrain batch [6/41]: loss 0.35620394349098206"
          ],
          "name": "stdout"
        },
        {
          "output_type": "stream",
          "text": [
            "\r7it [01:37, 13.90s/it]"
          ],
          "name": "stderr"
        },
        {
          "output_type": "stream",
          "text": [
            "\rtrain batch [7/41]: loss 0.3859661817550659"
          ],
          "name": "stdout"
        },
        {
          "output_type": "stream",
          "text": [
            "\r8it [01:50, 13.82s/it]"
          ],
          "name": "stderr"
        },
        {
          "output_type": "stream",
          "text": [
            "\rtrain batch [8/41]: loss 0.2713549733161926"
          ],
          "name": "stdout"
        },
        {
          "output_type": "stream",
          "text": [
            "\r9it [02:04, 13.72s/it]"
          ],
          "name": "stderr"
        },
        {
          "output_type": "stream",
          "text": [
            "\rtrain batch [9/41]: loss 0.3960458040237427"
          ],
          "name": "stdout"
        },
        {
          "output_type": "stream",
          "text": [
            "\r10it [02:18, 13.79s/it]"
          ],
          "name": "stderr"
        },
        {
          "output_type": "stream",
          "text": [
            "\rtrain batch [10/41]: loss 0.36384379863739014"
          ],
          "name": "stdout"
        },
        {
          "output_type": "stream",
          "text": [
            "\r11it [02:31, 13.79s/it]"
          ],
          "name": "stderr"
        },
        {
          "output_type": "stream",
          "text": [
            "\rtrain batch [11/41]: loss 0.3997035026550293"
          ],
          "name": "stdout"
        },
        {
          "output_type": "stream",
          "text": [
            "\r12it [02:45, 13.82s/it]"
          ],
          "name": "stderr"
        },
        {
          "output_type": "stream",
          "text": [
            "\rtrain batch [12/41]: loss 0.31412896513938904"
          ],
          "name": "stdout"
        },
        {
          "output_type": "stream",
          "text": [
            "\r13it [02:59, 13.74s/it]"
          ],
          "name": "stderr"
        },
        {
          "output_type": "stream",
          "text": [
            "\rtrain batch [13/41]: loss 0.37255406379699707"
          ],
          "name": "stdout"
        },
        {
          "output_type": "stream",
          "text": [
            "\r14it [03:13, 13.78s/it]"
          ],
          "name": "stderr"
        },
        {
          "output_type": "stream",
          "text": [
            "\rtrain batch [14/41]: loss 0.3583059012889862"
          ],
          "name": "stdout"
        },
        {
          "output_type": "stream",
          "text": [
            "\r15it [03:26, 13.75s/it]"
          ],
          "name": "stderr"
        },
        {
          "output_type": "stream",
          "text": [
            "\rtrain batch [15/41]: loss 0.4328785538673401"
          ],
          "name": "stdout"
        },
        {
          "output_type": "stream",
          "text": [
            "\r16it [03:40, 13.80s/it]"
          ],
          "name": "stderr"
        },
        {
          "output_type": "stream",
          "text": [
            "\rtrain batch [16/41]: loss 0.3214126229286194"
          ],
          "name": "stdout"
        },
        {
          "output_type": "stream",
          "text": [
            "\r17it [03:54, 13.85s/it]"
          ],
          "name": "stderr"
        },
        {
          "output_type": "stream",
          "text": [
            "\rtrain batch [17/41]: loss 0.4184255599975586"
          ],
          "name": "stdout"
        },
        {
          "output_type": "stream",
          "text": [
            "\r18it [04:08, 13.87s/it]"
          ],
          "name": "stderr"
        },
        {
          "output_type": "stream",
          "text": [
            "\rtrain batch [18/41]: loss 0.32943373918533325"
          ],
          "name": "stdout"
        },
        {
          "output_type": "stream",
          "text": [
            "\r19it [04:22, 13.91s/it]"
          ],
          "name": "stderr"
        },
        {
          "output_type": "stream",
          "text": [
            "\rtrain batch [19/41]: loss 0.28982824087142944"
          ],
          "name": "stdout"
        },
        {
          "output_type": "stream",
          "text": [
            "\r20it [04:36, 13.85s/it]"
          ],
          "name": "stderr"
        },
        {
          "output_type": "stream",
          "text": [
            "\rtrain batch [20/41]: loss 0.3906414806842804"
          ],
          "name": "stdout"
        },
        {
          "output_type": "stream",
          "text": [
            "\r21it [04:50, 13.83s/it]"
          ],
          "name": "stderr"
        },
        {
          "output_type": "stream",
          "text": [
            "\rtrain batch [21/41]: loss 0.3854232728481293"
          ],
          "name": "stdout"
        },
        {
          "output_type": "stream",
          "text": [
            "\r22it [05:04, 13.87s/it]"
          ],
          "name": "stderr"
        },
        {
          "output_type": "stream",
          "text": [
            "\rtrain batch [22/41]: loss 0.4040837287902832"
          ],
          "name": "stdout"
        },
        {
          "output_type": "stream",
          "text": [
            "\r23it [05:18, 13.87s/it]"
          ],
          "name": "stderr"
        },
        {
          "output_type": "stream",
          "text": [
            "\rtrain batch [23/41]: loss 0.3285544812679291"
          ],
          "name": "stdout"
        },
        {
          "output_type": "stream",
          "text": [
            "\r24it [05:32, 13.88s/it]"
          ],
          "name": "stderr"
        },
        {
          "output_type": "stream",
          "text": [
            "\rtrain batch [24/41]: loss 0.41904187202453613"
          ],
          "name": "stdout"
        },
        {
          "output_type": "stream",
          "text": [
            "\r25it [05:46, 13.92s/it]"
          ],
          "name": "stderr"
        },
        {
          "output_type": "stream",
          "text": [
            "\rtrain batch [25/41]: loss 0.3918066918849945"
          ],
          "name": "stdout"
        },
        {
          "output_type": "stream",
          "text": [
            "\r26it [05:59, 13.87s/it]"
          ],
          "name": "stderr"
        },
        {
          "output_type": "stream",
          "text": [
            "\rtrain batch [26/41]: loss 0.3829800486564636"
          ],
          "name": "stdout"
        },
        {
          "output_type": "stream",
          "text": [
            "\r27it [06:13, 13.95s/it]"
          ],
          "name": "stderr"
        },
        {
          "output_type": "stream",
          "text": [
            "\rtrain batch [27/41]: loss 0.3488001525402069"
          ],
          "name": "stdout"
        },
        {
          "output_type": "stream",
          "text": [
            "\r28it [06:27, 13.89s/it]"
          ],
          "name": "stderr"
        },
        {
          "output_type": "stream",
          "text": [
            "\rtrain batch [28/41]: loss 0.30664196610450745"
          ],
          "name": "stdout"
        },
        {
          "output_type": "stream",
          "text": [
            "\r29it [06:41, 13.84s/it]"
          ],
          "name": "stderr"
        },
        {
          "output_type": "stream",
          "text": [
            "\rtrain batch [29/41]: loss 0.35333746671676636"
          ],
          "name": "stdout"
        },
        {
          "output_type": "stream",
          "text": [
            "\r30it [06:55, 13.87s/it]"
          ],
          "name": "stderr"
        },
        {
          "output_type": "stream",
          "text": [
            "\rtrain batch [30/41]: loss 0.3230695128440857"
          ],
          "name": "stdout"
        },
        {
          "output_type": "stream",
          "text": [
            "\r31it [07:08, 13.78s/it]"
          ],
          "name": "stderr"
        },
        {
          "output_type": "stream",
          "text": [
            "\rtrain batch [31/41]: loss 0.3733840584754944"
          ],
          "name": "stdout"
        },
        {
          "output_type": "stream",
          "text": [
            "\r32it [07:22, 13.80s/it]"
          ],
          "name": "stderr"
        },
        {
          "output_type": "stream",
          "text": [
            "\rtrain batch [32/41]: loss 0.3447425961494446"
          ],
          "name": "stdout"
        },
        {
          "output_type": "stream",
          "text": [
            "\r33it [07:36, 13.78s/it]"
          ],
          "name": "stderr"
        },
        {
          "output_type": "stream",
          "text": [
            "\rtrain batch [33/41]: loss 0.337189644575119"
          ],
          "name": "stdout"
        },
        {
          "output_type": "stream",
          "text": [
            "\r34it [07:50, 13.80s/it]"
          ],
          "name": "stderr"
        },
        {
          "output_type": "stream",
          "text": [
            "\rtrain batch [34/41]: loss 0.4011685252189636"
          ],
          "name": "stdout"
        },
        {
          "output_type": "stream",
          "text": [
            "\r35it [08:04, 13.84s/it]"
          ],
          "name": "stderr"
        },
        {
          "output_type": "stream",
          "text": [
            "\rtrain batch [35/41]: loss 0.35998839139938354"
          ],
          "name": "stdout"
        },
        {
          "output_type": "stream",
          "text": [
            "\r36it [08:18, 13.81s/it]"
          ],
          "name": "stderr"
        },
        {
          "output_type": "stream",
          "text": [
            "\rtrain batch [36/41]: loss 0.33614474534988403"
          ],
          "name": "stdout"
        },
        {
          "output_type": "stream",
          "text": [
            "\r37it [08:31, 13.77s/it]"
          ],
          "name": "stderr"
        },
        {
          "output_type": "stream",
          "text": [
            "\rtrain batch [37/41]: loss 0.31752488017082214"
          ],
          "name": "stdout"
        },
        {
          "output_type": "stream",
          "text": [
            "\r38it [08:45, 13.74s/it]"
          ],
          "name": "stderr"
        },
        {
          "output_type": "stream",
          "text": [
            "\rtrain batch [38/41]: loss 0.31843239068984985"
          ],
          "name": "stdout"
        },
        {
          "output_type": "stream",
          "text": [
            "\r39it [08:59, 13.74s/it]"
          ],
          "name": "stderr"
        },
        {
          "output_type": "stream",
          "text": [
            "\rtrain batch [39/41]: loss 0.3588836193084717"
          ],
          "name": "stdout"
        },
        {
          "output_type": "stream",
          "text": [
            "\r40it [09:12, 13.75s/it]"
          ],
          "name": "stderr"
        },
        {
          "output_type": "stream",
          "text": [
            "\rtrain batch [40/41]: loss 0.30804771184921265"
          ],
          "name": "stdout"
        },
        {
          "output_type": "stream",
          "text": [
            "41it [09:23, 13.74s/it]"
          ],
          "name": "stderr"
        },
        {
          "output_type": "stream",
          "text": [
            "\rval batch [0/4]: loss 1.9464375972747803"
          ],
          "name": "stdout"
        },
        {
          "output_type": "stream",
          "text": [
            "\n"
          ],
          "name": "stderr"
        },
        {
          "output_type": "stream",
          "text": [
            "val batch [3/4]: loss 0.07261782884597778"
          ],
          "name": "stdout"
        },
        {
          "output_type": "stream",
          "text": [
            "\r0it [00:00, ?it/s]"
          ],
          "name": "stderr"
        },
        {
          "output_type": "stream",
          "text": [
            "\n",
            "Train loss: 0.3563967536135418, Train accuracy: 0.8046395778656006\n",
            "Val loss: 0.8958481773734093, Val accuracy: 0.5625\n",
            "\n",
            "=============== Epoch: 24\n",
            "train batch [0/41]: loss 0.40997105836868286"
          ],
          "name": "stdout"
        },
        {
          "output_type": "stream",
          "text": [
            "\r1it [00:14, 14.01s/it]"
          ],
          "name": "stderr"
        },
        {
          "output_type": "stream",
          "text": [
            "\rtrain batch [1/41]: loss 0.3470013737678528"
          ],
          "name": "stdout"
        },
        {
          "output_type": "stream",
          "text": [
            "\r2it [00:27, 13.94s/it]"
          ],
          "name": "stderr"
        },
        {
          "output_type": "stream",
          "text": [
            "\rtrain batch [2/41]: loss 0.32642364501953125"
          ],
          "name": "stdout"
        },
        {
          "output_type": "stream",
          "text": [
            "\r3it [00:41, 13.99s/it]"
          ],
          "name": "stderr"
        },
        {
          "output_type": "stream",
          "text": [
            "\rtrain batch [3/41]: loss 0.32191985845565796"
          ],
          "name": "stdout"
        },
        {
          "output_type": "stream",
          "text": [
            "\r4it [00:55, 13.98s/it]"
          ],
          "name": "stderr"
        },
        {
          "output_type": "stream",
          "text": [
            "\rtrain batch [4/41]: loss 0.29581236839294434"
          ],
          "name": "stdout"
        },
        {
          "output_type": "stream",
          "text": [
            "\r5it [01:09, 13.90s/it]"
          ],
          "name": "stderr"
        },
        {
          "output_type": "stream",
          "text": [
            "\rtrain batch [5/41]: loss 0.42893874645233154"
          ],
          "name": "stdout"
        },
        {
          "output_type": "stream",
          "text": [
            "\r6it [01:23, 13.91s/it]"
          ],
          "name": "stderr"
        },
        {
          "output_type": "stream",
          "text": [
            "\rtrain batch [6/41]: loss 0.367328405380249"
          ],
          "name": "stdout"
        },
        {
          "output_type": "stream",
          "text": [
            "\r7it [01:37, 13.89s/it]"
          ],
          "name": "stderr"
        },
        {
          "output_type": "stream",
          "text": [
            "\rtrain batch [7/41]: loss 0.36234939098358154"
          ],
          "name": "stdout"
        },
        {
          "output_type": "stream",
          "text": [
            "\r8it [01:51, 13.89s/it]"
          ],
          "name": "stderr"
        },
        {
          "output_type": "stream",
          "text": [
            "\rtrain batch [8/41]: loss 0.3840426206588745"
          ],
          "name": "stdout"
        },
        {
          "output_type": "stream",
          "text": [
            "10it [02:18, 13.85s/it]"
          ],
          "name": "stderr"
        },
        {
          "output_type": "stream",
          "text": [
            "\rtrain batch [10/41]: loss 0.3434753119945526"
          ],
          "name": "stdout"
        },
        {
          "output_type": "stream",
          "text": [
            "\r11it [02:32, 13.85s/it]"
          ],
          "name": "stderr"
        },
        {
          "output_type": "stream",
          "text": [
            "\rtrain batch [11/41]: loss 0.33479544520378113"
          ],
          "name": "stdout"
        },
        {
          "output_type": "stream",
          "text": [
            "\r12it [02:46, 13.83s/it]"
          ],
          "name": "stderr"
        },
        {
          "output_type": "stream",
          "text": [
            "\rtrain batch [12/41]: loss 0.29013657569885254"
          ],
          "name": "stdout"
        },
        {
          "output_type": "stream",
          "text": [
            "\r13it [03:00, 13.80s/it]"
          ],
          "name": "stderr"
        },
        {
          "output_type": "stream",
          "text": [
            "\rtrain batch [13/41]: loss 0.46114087104797363"
          ],
          "name": "stdout"
        },
        {
          "output_type": "stream",
          "text": [
            "\r14it [03:14, 13.83s/it]"
          ],
          "name": "stderr"
        },
        {
          "output_type": "stream",
          "text": [
            "\rtrain batch [14/41]: loss 0.3612229526042938"
          ],
          "name": "stdout"
        },
        {
          "output_type": "stream",
          "text": [
            "\r15it [03:27, 13.81s/it]"
          ],
          "name": "stderr"
        },
        {
          "output_type": "stream",
          "text": [
            "\rtrain batch [15/41]: loss 0.3933107256889343"
          ],
          "name": "stdout"
        },
        {
          "output_type": "stream",
          "text": [
            "\r16it [03:41, 13.86s/it]"
          ],
          "name": "stderr"
        },
        {
          "output_type": "stream",
          "text": [
            "\rtrain batch [16/41]: loss 0.34849560260772705"
          ],
          "name": "stdout"
        },
        {
          "output_type": "stream",
          "text": [
            "\r17it [03:55, 13.87s/it]"
          ],
          "name": "stderr"
        },
        {
          "output_type": "stream",
          "text": [
            "\rtrain batch [17/41]: loss 0.2949203848838806"
          ],
          "name": "stdout"
        },
        {
          "output_type": "stream",
          "text": [
            "\r18it [04:09, 13.79s/it]"
          ],
          "name": "stderr"
        },
        {
          "output_type": "stream",
          "text": [
            "\rtrain batch [18/41]: loss 0.28781482577323914"
          ],
          "name": "stdout"
        },
        {
          "output_type": "stream",
          "text": [
            "\r19it [04:22, 13.71s/it]"
          ],
          "name": "stderr"
        },
        {
          "output_type": "stream",
          "text": [
            "\rtrain batch [19/41]: loss 0.3482600450515747"
          ],
          "name": "stdout"
        },
        {
          "output_type": "stream",
          "text": [
            "\r20it [04:36, 13.72s/it]"
          ],
          "name": "stderr"
        },
        {
          "output_type": "stream",
          "text": [
            "\rtrain batch [20/41]: loss 0.348957359790802"
          ],
          "name": "stdout"
        },
        {
          "output_type": "stream",
          "text": [
            "\r21it [04:50, 13.76s/it]"
          ],
          "name": "stderr"
        },
        {
          "output_type": "stream",
          "text": [
            "\rtrain batch [21/41]: loss 0.32466328144073486"
          ],
          "name": "stdout"
        },
        {
          "output_type": "stream",
          "text": [
            "\r22it [05:04, 13.75s/it]"
          ],
          "name": "stderr"
        },
        {
          "output_type": "stream",
          "text": [
            "\rtrain batch [22/41]: loss 0.3786187171936035"
          ],
          "name": "stdout"
        },
        {
          "output_type": "stream",
          "text": [
            "\r23it [05:18, 13.79s/it]"
          ],
          "name": "stderr"
        },
        {
          "output_type": "stream",
          "text": [
            "\rtrain batch [23/41]: loss 0.34944477677345276"
          ],
          "name": "stdout"
        },
        {
          "output_type": "stream",
          "text": [
            "\r24it [05:32, 13.85s/it]"
          ],
          "name": "stderr"
        },
        {
          "output_type": "stream",
          "text": [
            "\rtrain batch [24/41]: loss 0.42491936683654785"
          ],
          "name": "stdout"
        },
        {
          "output_type": "stream",
          "text": [
            "\r25it [05:46, 13.96s/it]"
          ],
          "name": "stderr"
        },
        {
          "output_type": "stream",
          "text": [
            "\rtrain batch [25/41]: loss 0.37101584672927856"
          ],
          "name": "stdout"
        },
        {
          "output_type": "stream",
          "text": [
            "\r26it [06:00, 13.93s/it]"
          ],
          "name": "stderr"
        },
        {
          "output_type": "stream",
          "text": [
            "\rtrain batch [26/41]: loss 0.32451093196868896"
          ],
          "name": "stdout"
        },
        {
          "output_type": "stream",
          "text": [
            "\r27it [06:14, 13.94s/it]"
          ],
          "name": "stderr"
        },
        {
          "output_type": "stream",
          "text": [
            "\rtrain batch [27/41]: loss 0.3618828356266022"
          ],
          "name": "stdout"
        },
        {
          "output_type": "stream",
          "text": [
            "\r28it [06:28, 13.98s/it]"
          ],
          "name": "stderr"
        },
        {
          "output_type": "stream",
          "text": [
            "\rtrain batch [28/41]: loss 0.31288933753967285"
          ],
          "name": "stdout"
        },
        {
          "output_type": "stream",
          "text": [
            "\r29it [06:41, 13.92s/it]"
          ],
          "name": "stderr"
        },
        {
          "output_type": "stream",
          "text": [
            "\rtrain batch [29/41]: loss 0.3863941431045532"
          ],
          "name": "stdout"
        },
        {
          "output_type": "stream",
          "text": [
            "\r30it [06:55, 13.93s/it]"
          ],
          "name": "stderr"
        },
        {
          "output_type": "stream",
          "text": [
            "\rtrain batch [30/41]: loss 0.32618531584739685"
          ],
          "name": "stdout"
        },
        {
          "output_type": "stream",
          "text": [
            "\r31it [07:09, 13.92s/it]"
          ],
          "name": "stderr"
        },
        {
          "output_type": "stream",
          "text": [
            "\rtrain batch [31/41]: loss 0.34962382912635803"
          ],
          "name": "stdout"
        },
        {
          "output_type": "stream",
          "text": [
            "\r32it [07:23, 13.90s/it]"
          ],
          "name": "stderr"
        },
        {
          "output_type": "stream",
          "text": [
            "\rtrain batch [32/41]: loss 0.3330714702606201"
          ],
          "name": "stdout"
        },
        {
          "output_type": "stream",
          "text": [
            "\r33it [07:37, 13.85s/it]"
          ],
          "name": "stderr"
        },
        {
          "output_type": "stream",
          "text": [
            "\rtrain batch [33/41]: loss 0.304795503616333"
          ],
          "name": "stdout"
        },
        {
          "output_type": "stream",
          "text": [
            "\r34it [07:51, 13.86s/it]"
          ],
          "name": "stderr"
        },
        {
          "output_type": "stream",
          "text": [
            "\rtrain batch [34/41]: loss 0.3454783260822296"
          ],
          "name": "stdout"
        },
        {
          "output_type": "stream",
          "text": [
            "\r35it [08:05, 13.84s/it]"
          ],
          "name": "stderr"
        },
        {
          "output_type": "stream",
          "text": [
            "\rtrain batch [35/41]: loss 0.35579922795295715"
          ],
          "name": "stdout"
        },
        {
          "output_type": "stream",
          "text": [
            "\r36it [08:19, 13.86s/it]"
          ],
          "name": "stderr"
        },
        {
          "output_type": "stream",
          "text": [
            "\rtrain batch [36/41]: loss 0.3988204598426819"
          ],
          "name": "stdout"
        },
        {
          "output_type": "stream",
          "text": [
            "\r37it [08:32, 13.88s/it]"
          ],
          "name": "stderr"
        },
        {
          "output_type": "stream",
          "text": [
            "\rtrain batch [37/41]: loss 0.34970414638519287"
          ],
          "name": "stdout"
        },
        {
          "output_type": "stream",
          "text": [
            "\r38it [08:46, 13.86s/it]"
          ],
          "name": "stderr"
        },
        {
          "output_type": "stream",
          "text": [
            "\rtrain batch [38/41]: loss 0.3683122992515564"
          ],
          "name": "stdout"
        },
        {
          "output_type": "stream",
          "text": [
            "\r39it [09:00, 13.84s/it]"
          ],
          "name": "stderr"
        },
        {
          "output_type": "stream",
          "text": [
            "\rtrain batch [39/41]: loss 0.37031203508377075"
          ],
          "name": "stdout"
        },
        {
          "output_type": "stream",
          "text": [
            "\r40it [09:14, 13.82s/it]"
          ],
          "name": "stderr"
        },
        {
          "output_type": "stream",
          "text": [
            "\rtrain batch [40/41]: loss 0.3689204156398773"
          ],
          "name": "stdout"
        },
        {
          "output_type": "stream",
          "text": [
            "41it [09:24, 13.77s/it]"
          ],
          "name": "stderr"
        },
        {
          "output_type": "stream",
          "text": [
            "\rval batch [0/4]: loss 2.1160364151000977"
          ],
          "name": "stdout"
        },
        {
          "output_type": "stream",
          "text": [
            "\n"
          ],
          "name": "stderr"
        },
        {
          "output_type": "stream",
          "text": [
            "val batch [3/4]: loss 0.09081923961639404"
          ],
          "name": "stdout"
        },
        {
          "output_type": "stream",
          "text": [
            "\r0it [00:00, ?it/s]"
          ],
          "name": "stderr"
        },
        {
          "output_type": "stream",
          "text": [
            "\n",
            "Train loss: 0.35475599475023223, Train accuracy: 0.8061732649803162\n",
            "Val loss: 0.9184043705463409, Val accuracy: 0.5\n",
            "\n",
            "=============== Epoch: 25\n",
            "train batch [0/41]: loss 0.34974294900894165"
          ],
          "name": "stdout"
        },
        {
          "output_type": "stream",
          "text": [
            "\r1it [00:13, 13.78s/it]"
          ],
          "name": "stderr"
        },
        {
          "output_type": "stream",
          "text": [
            "\rtrain batch [1/41]: loss 0.46789517998695374"
          ],
          "name": "stdout"
        },
        {
          "output_type": "stream",
          "text": [
            "\r2it [00:27, 13.88s/it]"
          ],
          "name": "stderr"
        },
        {
          "output_type": "stream",
          "text": [
            "\rtrain batch [2/41]: loss 0.4013786315917969"
          ],
          "name": "stdout"
        },
        {
          "output_type": "stream",
          "text": [
            "\r3it [00:41, 13.83s/it]"
          ],
          "name": "stderr"
        },
        {
          "output_type": "stream",
          "text": [
            "\rtrain batch [3/41]: loss 0.336050808429718"
          ],
          "name": "stdout"
        },
        {
          "output_type": "stream",
          "text": [
            "\r4it [00:55, 13.87s/it]"
          ],
          "name": "stderr"
        },
        {
          "output_type": "stream",
          "text": [
            "\rtrain batch [4/41]: loss 0.42793965339660645"
          ],
          "name": "stdout"
        },
        {
          "output_type": "stream",
          "text": [
            "\r5it [01:09, 13.90s/it]"
          ],
          "name": "stderr"
        },
        {
          "output_type": "stream",
          "text": [
            "\rtrain batch [5/41]: loss 0.2579711079597473"
          ],
          "name": "stdout"
        },
        {
          "output_type": "stream",
          "text": [
            "\r6it [01:23, 13.85s/it]"
          ],
          "name": "stderr"
        },
        {
          "output_type": "stream",
          "text": [
            "\rtrain batch [6/41]: loss 0.3179948031902313"
          ],
          "name": "stdout"
        },
        {
          "output_type": "stream",
          "text": [
            "\r7it [01:37, 13.86s/it]"
          ],
          "name": "stderr"
        },
        {
          "output_type": "stream",
          "text": [
            "\rtrain batch [7/41]: loss 0.45627185702323914"
          ],
          "name": "stdout"
        },
        {
          "output_type": "stream",
          "text": [
            "\r8it [01:51, 13.86s/it]"
          ],
          "name": "stderr"
        },
        {
          "output_type": "stream",
          "text": [
            "\rtrain batch [8/41]: loss 0.3308906555175781"
          ],
          "name": "stdout"
        },
        {
          "output_type": "stream",
          "text": [
            "\r9it [02:04, 13.87s/it]"
          ],
          "name": "stderr"
        },
        {
          "output_type": "stream",
          "text": [
            "\rtrain batch [9/41]: loss 0.3846897482872009"
          ],
          "name": "stdout"
        },
        {
          "output_type": "stream",
          "text": [
            "\r10it [02:18, 13.85s/it]"
          ],
          "name": "stderr"
        },
        {
          "output_type": "stream",
          "text": [
            "\rtrain batch [10/41]: loss 0.44560807943344116"
          ],
          "name": "stdout"
        },
        {
          "output_type": "stream",
          "text": [
            "\r11it [02:32, 13.93s/it]"
          ],
          "name": "stderr"
        },
        {
          "output_type": "stream",
          "text": [
            "\rtrain batch [11/41]: loss 0.33175987005233765"
          ],
          "name": "stdout"
        },
        {
          "output_type": "stream",
          "text": [
            "\r12it [02:46, 13.83s/it]"
          ],
          "name": "stderr"
        },
        {
          "output_type": "stream",
          "text": [
            "\rtrain batch [12/41]: loss 0.5252535939216614"
          ],
          "name": "stdout"
        },
        {
          "output_type": "stream",
          "text": [
            "\r13it [03:00, 13.85s/it]"
          ],
          "name": "stderr"
        },
        {
          "output_type": "stream",
          "text": [
            "\rtrain batch [13/41]: loss 0.38333094120025635"
          ],
          "name": "stdout"
        },
        {
          "output_type": "stream",
          "text": [
            "\r14it [03:14, 13.88s/it]"
          ],
          "name": "stderr"
        },
        {
          "output_type": "stream",
          "text": [
            "\rtrain batch [14/41]: loss 0.29162973165512085"
          ],
          "name": "stdout"
        },
        {
          "output_type": "stream",
          "text": [
            "\r15it [03:28, 13.87s/it]"
          ],
          "name": "stderr"
        },
        {
          "output_type": "stream",
          "text": [
            "\rtrain batch [15/41]: loss 0.44456925988197327"
          ],
          "name": "stdout"
        },
        {
          "output_type": "stream",
          "text": [
            "\r16it [03:42, 13.88s/it]"
          ],
          "name": "stderr"
        },
        {
          "output_type": "stream",
          "text": [
            "\rtrain batch [16/41]: loss 0.31789302825927734"
          ],
          "name": "stdout"
        },
        {
          "output_type": "stream",
          "text": [
            "\r17it [03:55, 13.85s/it]"
          ],
          "name": "stderr"
        },
        {
          "output_type": "stream",
          "text": [
            "\rtrain batch [17/41]: loss 0.3821636736392975"
          ],
          "name": "stdout"
        },
        {
          "output_type": "stream",
          "text": [
            "\r18it [04:09, 13.91s/it]"
          ],
          "name": "stderr"
        },
        {
          "output_type": "stream",
          "text": [
            "\rtrain batch [18/41]: loss 0.27466514706611633"
          ],
          "name": "stdout"
        },
        {
          "output_type": "stream",
          "text": [
            "\r19it [04:23, 13.82s/it]"
          ],
          "name": "stderr"
        },
        {
          "output_type": "stream",
          "text": [
            "\rtrain batch [19/41]: loss 0.29804152250289917"
          ],
          "name": "stdout"
        },
        {
          "output_type": "stream",
          "text": [
            "\r20it [04:37, 13.78s/it]"
          ],
          "name": "stderr"
        },
        {
          "output_type": "stream",
          "text": [
            "\rtrain batch [20/41]: loss 0.32006147503852844"
          ],
          "name": "stdout"
        },
        {
          "output_type": "stream",
          "text": [
            "\r21it [04:51, 13.83s/it]"
          ],
          "name": "stderr"
        },
        {
          "output_type": "stream",
          "text": [
            "\rtrain batch [21/41]: loss 0.3046063184738159"
          ],
          "name": "stdout"
        },
        {
          "output_type": "stream",
          "text": [
            "\r22it [05:04, 13.81s/it]"
          ],
          "name": "stderr"
        },
        {
          "output_type": "stream",
          "text": [
            "\rtrain batch [22/41]: loss 0.36009690165519714"
          ],
          "name": "stdout"
        },
        {
          "output_type": "stream",
          "text": [
            "\r23it [05:18, 13.84s/it]"
          ],
          "name": "stderr"
        },
        {
          "output_type": "stream",
          "text": [
            "\rtrain batch [23/41]: loss 0.30456024408340454"
          ],
          "name": "stdout"
        },
        {
          "output_type": "stream",
          "text": [
            "\r24it [05:32, 13.79s/it]"
          ],
          "name": "stderr"
        },
        {
          "output_type": "stream",
          "text": [
            "\rtrain batch [24/41]: loss 0.28724443912506104"
          ],
          "name": "stdout"
        },
        {
          "output_type": "stream",
          "text": [
            "\r25it [05:46, 13.77s/it]"
          ],
          "name": "stderr"
        },
        {
          "output_type": "stream",
          "text": [
            "\rtrain batch [25/41]: loss 0.38389232754707336"
          ],
          "name": "stdout"
        },
        {
          "output_type": "stream",
          "text": [
            "\r26it [05:59, 13.77s/it]"
          ],
          "name": "stderr"
        },
        {
          "output_type": "stream",
          "text": [
            "\rtrain batch [26/41]: loss 0.37993496656417847"
          ],
          "name": "stdout"
        },
        {
          "output_type": "stream",
          "text": [
            "\r27it [06:13, 13.82s/it]"
          ],
          "name": "stderr"
        },
        {
          "output_type": "stream",
          "text": [
            "\rtrain batch [27/41]: loss 0.21040885150432587"
          ],
          "name": "stdout"
        },
        {
          "output_type": "stream",
          "text": [
            "\r28it [06:27, 13.79s/it]"
          ],
          "name": "stderr"
        },
        {
          "output_type": "stream",
          "text": [
            "\rtrain batch [28/41]: loss 0.34550032019615173"
          ],
          "name": "stdout"
        },
        {
          "output_type": "stream",
          "text": [
            "\r29it [06:41, 13.87s/it]"
          ],
          "name": "stderr"
        },
        {
          "output_type": "stream",
          "text": [
            "\rtrain batch [29/41]: loss 0.3564719557762146"
          ],
          "name": "stdout"
        },
        {
          "output_type": "stream",
          "text": [
            "\r30it [06:55, 13.87s/it]"
          ],
          "name": "stderr"
        },
        {
          "output_type": "stream",
          "text": [
            "\rtrain batch [30/41]: loss 0.3166753053665161"
          ],
          "name": "stdout"
        },
        {
          "output_type": "stream",
          "text": [
            "\r31it [07:09, 13.88s/it]"
          ],
          "name": "stderr"
        },
        {
          "output_type": "stream",
          "text": [
            "\rtrain batch [31/41]: loss 0.2883991003036499"
          ],
          "name": "stdout"
        },
        {
          "output_type": "stream",
          "text": [
            "\r32it [07:23, 13.85s/it]"
          ],
          "name": "stderr"
        },
        {
          "output_type": "stream",
          "text": [
            "\rtrain batch [32/41]: loss 0.44559216499328613"
          ],
          "name": "stdout"
        },
        {
          "output_type": "stream",
          "text": [
            "\r33it [07:37, 13.95s/it]"
          ],
          "name": "stderr"
        },
        {
          "output_type": "stream",
          "text": [
            "\rtrain batch [33/41]: loss 0.2824494540691376"
          ],
          "name": "stdout"
        },
        {
          "output_type": "stream",
          "text": [
            "\r34it [07:51, 13.92s/it]"
          ],
          "name": "stderr"
        },
        {
          "output_type": "stream",
          "text": [
            "\rtrain batch [34/41]: loss 0.2758609354496002"
          ],
          "name": "stdout"
        },
        {
          "output_type": "stream",
          "text": [
            "\r35it [08:04, 13.84s/it]"
          ],
          "name": "stderr"
        },
        {
          "output_type": "stream",
          "text": [
            "\rtrain batch [35/41]: loss 0.363461434841156"
          ],
          "name": "stdout"
        },
        {
          "output_type": "stream",
          "text": [
            "\r36it [08:18, 13.88s/it]"
          ],
          "name": "stderr"
        },
        {
          "output_type": "stream",
          "text": [
            "\rtrain batch [36/41]: loss 0.4045262038707733"
          ],
          "name": "stdout"
        },
        {
          "output_type": "stream",
          "text": [
            "\r37it [08:32, 13.87s/it]"
          ],
          "name": "stderr"
        },
        {
          "output_type": "stream",
          "text": [
            "\rtrain batch [37/41]: loss 0.37162524461746216"
          ],
          "name": "stdout"
        },
        {
          "output_type": "stream",
          "text": [
            "\r38it [08:46, 13.86s/it]"
          ],
          "name": "stderr"
        },
        {
          "output_type": "stream",
          "text": [
            "\rtrain batch [38/41]: loss 0.3596321940422058"
          ],
          "name": "stdout"
        },
        {
          "output_type": "stream",
          "text": [
            "\r39it [09:00, 13.87s/it]"
          ],
          "name": "stderr"
        },
        {
          "output_type": "stream",
          "text": [
            "\rtrain batch [39/41]: loss 0.2866605520248413"
          ],
          "name": "stdout"
        },
        {
          "output_type": "stream",
          "text": [
            "\r40it [09:14, 13.88s/it]"
          ],
          "name": "stderr"
        },
        {
          "output_type": "stream",
          "text": [
            "\rtrain batch [40/41]: loss 0.37677693367004395"
          ],
          "name": "stdout"
        },
        {
          "output_type": "stream",
          "text": [
            "41it [09:24, 13.78s/it]"
          ],
          "name": "stderr"
        },
        {
          "output_type": "stream",
          "text": [
            "\rval batch [0/4]: loss 1.5859038829803467"
          ],
          "name": "stdout"
        },
        {
          "output_type": "stream",
          "text": [
            "\n"
          ],
          "name": "stderr"
        },
        {
          "output_type": "stream",
          "text": [
            "val batch [3/4]: loss 0.134201779961586"
          ],
          "name": "stdout"
        },
        {
          "output_type": "stream",
          "text": [
            "\r0it [00:00, ?it/s]"
          ],
          "name": "stderr"
        },
        {
          "output_type": "stream",
          "text": [
            "\n",
            "Train loss: 0.35244335706641033, Train accuracy: 0.8075153231620789\n",
            "Val loss: 0.8349501751363277, Val accuracy: 0.5625\n",
            "\n",
            "=============== Epoch: 26\n",
            "train batch [0/41]: loss 0.3720664381980896"
          ],
          "name": "stdout"
        },
        {
          "output_type": "stream",
          "text": [
            "\r1it [00:13, 13.72s/it]"
          ],
          "name": "stderr"
        },
        {
          "output_type": "stream",
          "text": [
            "\rtrain batch [1/41]: loss 0.3266034722328186"
          ],
          "name": "stdout"
        },
        {
          "output_type": "stream",
          "text": [
            "\r2it [00:27, 13.72s/it]"
          ],
          "name": "stderr"
        },
        {
          "output_type": "stream",
          "text": [
            "\rtrain batch [2/41]: loss 0.3237895369529724"
          ],
          "name": "stdout"
        },
        {
          "output_type": "stream",
          "text": [
            "\r3it [00:41, 13.80s/it]"
          ],
          "name": "stderr"
        },
        {
          "output_type": "stream",
          "text": [
            "\rtrain batch [3/41]: loss 0.3218165934085846"
          ],
          "name": "stdout"
        },
        {
          "output_type": "stream",
          "text": [
            "\r4it [00:55, 13.80s/it]"
          ],
          "name": "stderr"
        },
        {
          "output_type": "stream",
          "text": [
            "\rtrain batch [4/41]: loss 0.3733503520488739"
          ],
          "name": "stdout"
        },
        {
          "output_type": "stream",
          "text": [
            "\r5it [01:09, 13.89s/it]"
          ],
          "name": "stderr"
        },
        {
          "output_type": "stream",
          "text": [
            "\rtrain batch [5/41]: loss 0.3697899281978607"
          ],
          "name": "stdout"
        },
        {
          "output_type": "stream",
          "text": [
            "\r6it [01:23, 13.96s/it]"
          ],
          "name": "stderr"
        },
        {
          "output_type": "stream",
          "text": [
            "\rtrain batch [6/41]: loss 0.30964380502700806"
          ],
          "name": "stdout"
        },
        {
          "output_type": "stream",
          "text": [
            "\r7it [01:37, 13.94s/it]"
          ],
          "name": "stderr"
        },
        {
          "output_type": "stream",
          "text": [
            "\rtrain batch [7/41]: loss 0.3159359097480774"
          ],
          "name": "stdout"
        },
        {
          "output_type": "stream",
          "text": [
            "\r8it [01:51, 13.88s/it]"
          ],
          "name": "stderr"
        },
        {
          "output_type": "stream",
          "text": [
            "\rtrain batch [8/41]: loss 0.30435988306999207"
          ],
          "name": "stdout"
        },
        {
          "output_type": "stream",
          "text": [
            "\r9it [02:04, 13.86s/it]"
          ],
          "name": "stderr"
        },
        {
          "output_type": "stream",
          "text": [
            "\rtrain batch [9/41]: loss 0.3303322196006775"
          ],
          "name": "stdout"
        },
        {
          "output_type": "stream",
          "text": [
            "\r10it [02:18, 13.88s/it]"
          ],
          "name": "stderr"
        },
        {
          "output_type": "stream",
          "text": [
            "\rtrain batch [10/41]: loss 0.33029893040657043"
          ],
          "name": "stdout"
        },
        {
          "output_type": "stream",
          "text": [
            "\r11it [02:32, 13.91s/it]"
          ],
          "name": "stderr"
        },
        {
          "output_type": "stream",
          "text": [
            "\rtrain batch [11/41]: loss 0.3692321181297302"
          ],
          "name": "stdout"
        },
        {
          "output_type": "stream",
          "text": [
            "\r12it [02:46, 13.96s/it]"
          ],
          "name": "stderr"
        },
        {
          "output_type": "stream",
          "text": [
            "\rtrain batch [12/41]: loss 0.28359222412109375"
          ],
          "name": "stdout"
        },
        {
          "output_type": "stream",
          "text": [
            "\r13it [03:00, 13.93s/it]"
          ],
          "name": "stderr"
        },
        {
          "output_type": "stream",
          "text": [
            "\rtrain batch [13/41]: loss 0.40485039353370667"
          ],
          "name": "stdout"
        },
        {
          "output_type": "stream",
          "text": [
            "\r14it [03:14, 13.96s/it]"
          ],
          "name": "stderr"
        },
        {
          "output_type": "stream",
          "text": [
            "\rtrain batch [14/41]: loss 0.38587331771850586"
          ],
          "name": "stdout"
        },
        {
          "output_type": "stream",
          "text": [
            "\r15it [03:28, 13.96s/it]"
          ],
          "name": "stderr"
        },
        {
          "output_type": "stream",
          "text": [
            "\rtrain batch [15/41]: loss 0.41092613339424133"
          ],
          "name": "stdout"
        },
        {
          "output_type": "stream",
          "text": [
            "\r16it [03:42, 13.98s/it]"
          ],
          "name": "stderr"
        },
        {
          "output_type": "stream",
          "text": [
            "\rtrain batch [16/41]: loss 0.3864363729953766"
          ],
          "name": "stdout"
        },
        {
          "output_type": "stream",
          "text": [
            "\r17it [03:56, 13.96s/it]"
          ],
          "name": "stderr"
        },
        {
          "output_type": "stream",
          "text": [
            "\rtrain batch [17/41]: loss 0.34300360083580017"
          ],
          "name": "stdout"
        },
        {
          "output_type": "stream",
          "text": [
            "\r18it [04:10, 13.96s/it]"
          ],
          "name": "stderr"
        },
        {
          "output_type": "stream",
          "text": [
            "\rtrain batch [18/41]: loss 0.3044009208679199"
          ],
          "name": "stdout"
        },
        {
          "output_type": "stream",
          "text": [
            "\r19it [04:24, 13.94s/it]"
          ],
          "name": "stderr"
        },
        {
          "output_type": "stream",
          "text": [
            "\rtrain batch [19/41]: loss 0.3886013925075531"
          ],
          "name": "stdout"
        },
        {
          "output_type": "stream",
          "text": [
            "\r20it [04:38, 13.95s/it]"
          ],
          "name": "stderr"
        },
        {
          "output_type": "stream",
          "text": [
            "\rtrain batch [20/41]: loss 0.3276520073413849"
          ],
          "name": "stdout"
        },
        {
          "output_type": "stream",
          "text": [
            "\r21it [04:52, 13.89s/it]"
          ],
          "name": "stderr"
        },
        {
          "output_type": "stream",
          "text": [
            "\rtrain batch [21/41]: loss 0.3413691520690918"
          ],
          "name": "stdout"
        },
        {
          "output_type": "stream",
          "text": [
            "\r22it [05:06, 13.85s/it]"
          ],
          "name": "stderr"
        },
        {
          "output_type": "stream",
          "text": [
            "\rtrain batch [22/41]: loss 0.3348321318626404"
          ],
          "name": "stdout"
        },
        {
          "output_type": "stream",
          "text": [
            "\r23it [05:19, 13.87s/it]"
          ],
          "name": "stderr"
        },
        {
          "output_type": "stream",
          "text": [
            "\rtrain batch [23/41]: loss 0.3404095768928528"
          ],
          "name": "stdout"
        },
        {
          "output_type": "stream",
          "text": [
            "\r24it [05:33, 13.82s/it]"
          ],
          "name": "stderr"
        },
        {
          "output_type": "stream",
          "text": [
            "\rtrain batch [24/41]: loss 0.3408863842487335"
          ],
          "name": "stdout"
        },
        {
          "output_type": "stream",
          "text": [
            "\r25it [05:47, 13.78s/it]"
          ],
          "name": "stderr"
        },
        {
          "output_type": "stream",
          "text": [
            "\rtrain batch [25/41]: loss 0.29585087299346924"
          ],
          "name": "stdout"
        },
        {
          "output_type": "stream",
          "text": [
            "\r26it [06:01, 13.87s/it]"
          ],
          "name": "stderr"
        },
        {
          "output_type": "stream",
          "text": [
            "\rtrain batch [26/41]: loss 0.37281617522239685"
          ],
          "name": "stdout"
        },
        {
          "output_type": "stream",
          "text": [
            "\r27it [06:15, 13.88s/it]"
          ],
          "name": "stderr"
        },
        {
          "output_type": "stream",
          "text": [
            "\rtrain batch [27/41]: loss 0.3902410864830017"
          ],
          "name": "stdout"
        },
        {
          "output_type": "stream",
          "text": [
            "\r28it [06:29, 13.87s/it]"
          ],
          "name": "stderr"
        },
        {
          "output_type": "stream",
          "text": [
            "\rtrain batch [28/41]: loss 0.3334040641784668"
          ],
          "name": "stdout"
        },
        {
          "output_type": "stream",
          "text": [
            "\r29it [06:42, 13.85s/it]"
          ],
          "name": "stderr"
        },
        {
          "output_type": "stream",
          "text": [
            "\rtrain batch [29/41]: loss 0.2700667083263397"
          ],
          "name": "stdout"
        },
        {
          "output_type": "stream",
          "text": [
            "\r30it [06:56, 13.78s/it]"
          ],
          "name": "stderr"
        },
        {
          "output_type": "stream",
          "text": [
            "\rtrain batch [30/41]: loss 0.32202380895614624"
          ],
          "name": "stdout"
        },
        {
          "output_type": "stream",
          "text": [
            "\r31it [07:10, 13.82s/it]"
          ],
          "name": "stderr"
        },
        {
          "output_type": "stream",
          "text": [
            "\rtrain batch [31/41]: loss 0.3474798798561096"
          ],
          "name": "stdout"
        },
        {
          "output_type": "stream",
          "text": [
            "\r32it [07:24, 13.75s/it]"
          ],
          "name": "stderr"
        },
        {
          "output_type": "stream",
          "text": [
            "\rtrain batch [32/41]: loss 0.2963793873786926"
          ],
          "name": "stdout"
        },
        {
          "output_type": "stream",
          "text": [
            "\r33it [07:37, 13.79s/it]"
          ],
          "name": "stderr"
        },
        {
          "output_type": "stream",
          "text": [
            "\rtrain batch [33/41]: loss 0.3165431022644043"
          ],
          "name": "stdout"
        },
        {
          "output_type": "stream",
          "text": [
            "\r34it [07:51, 13.80s/it]"
          ],
          "name": "stderr"
        },
        {
          "output_type": "stream",
          "text": [
            "\rtrain batch [34/41]: loss 0.29128366708755493"
          ],
          "name": "stdout"
        },
        {
          "output_type": "stream",
          "text": [
            "\r35it [08:05, 13.77s/it]"
          ],
          "name": "stderr"
        },
        {
          "output_type": "stream",
          "text": [
            "\rtrain batch [35/41]: loss 0.48140066862106323"
          ],
          "name": "stdout"
        },
        {
          "output_type": "stream",
          "text": [
            "\r36it [08:19, 13.85s/it]"
          ],
          "name": "stderr"
        },
        {
          "output_type": "stream",
          "text": [
            "\rtrain batch [36/41]: loss 0.3550025522708893"
          ],
          "name": "stdout"
        },
        {
          "output_type": "stream",
          "text": [
            "\r37it [08:33, 13.86s/it]"
          ],
          "name": "stderr"
        },
        {
          "output_type": "stream",
          "text": [
            "\rtrain batch [37/41]: loss 0.33109569549560547"
          ],
          "name": "stdout"
        },
        {
          "output_type": "stream",
          "text": [
            "\r38it [08:47, 13.82s/it]"
          ],
          "name": "stderr"
        },
        {
          "output_type": "stream",
          "text": [
            "\rtrain batch [38/41]: loss 0.3194093704223633"
          ],
          "name": "stdout"
        },
        {
          "output_type": "stream",
          "text": [
            "\r39it [09:00, 13.77s/it]"
          ],
          "name": "stderr"
        },
        {
          "output_type": "stream",
          "text": [
            "\rtrain batch [39/41]: loss 0.3855655789375305"
          ],
          "name": "stdout"
        },
        {
          "output_type": "stream",
          "text": [
            "\r40it [09:14, 13.81s/it]"
          ],
          "name": "stderr"
        },
        {
          "output_type": "stream",
          "text": [
            "\rtrain batch [40/41]: loss 0.5400853157043457"
          ],
          "name": "stdout"
        },
        {
          "output_type": "stream",
          "text": [
            "41it [09:25, 13.79s/it]"
          ],
          "name": "stderr"
        },
        {
          "output_type": "stream",
          "text": [
            "\rval batch [0/4]: loss 1.9920493364334106"
          ],
          "name": "stdout"
        },
        {
          "output_type": "stream",
          "text": [
            "\n"
          ],
          "name": "stderr"
        },
        {
          "output_type": "stream",
          "text": [
            "val batch [3/4]: loss 0.07932841777801514"
          ],
          "name": "stdout"
        },
        {
          "output_type": "stream",
          "text": [
            "\r0it [00:00, ?it/s]"
          ],
          "name": "stderr"
        },
        {
          "output_type": "stream",
          "text": [
            "\n",
            "Train loss: 0.34850489657099654, Train accuracy: 0.8213189840316772\n",
            "Val loss: 0.8286549784243107, Val accuracy: 0.625\n",
            "\n",
            "=============== Epoch: 27\n",
            "train batch [0/41]: loss 0.36329591274261475"
          ],
          "name": "stdout"
        },
        {
          "output_type": "stream",
          "text": [
            "\r1it [00:13, 13.80s/it]"
          ],
          "name": "stderr"
        },
        {
          "output_type": "stream",
          "text": [
            "\rtrain batch [1/41]: loss 0.32070592045783997"
          ],
          "name": "stdout"
        },
        {
          "output_type": "stream",
          "text": [
            "\r2it [00:27, 13.78s/it]"
          ],
          "name": "stderr"
        },
        {
          "output_type": "stream",
          "text": [
            "\rtrain batch [2/41]: loss 0.3404719829559326"
          ],
          "name": "stdout"
        },
        {
          "output_type": "stream",
          "text": [
            "\r3it [00:41, 13.79s/it]"
          ],
          "name": "stderr"
        },
        {
          "output_type": "stream",
          "text": [
            "\rtrain batch [3/41]: loss 0.34128761291503906"
          ],
          "name": "stdout"
        },
        {
          "output_type": "stream",
          "text": [
            "\r4it [00:55, 13.80s/it]"
          ],
          "name": "stderr"
        },
        {
          "output_type": "stream",
          "text": [
            "\rtrain batch [4/41]: loss 0.34596604108810425"
          ],
          "name": "stdout"
        },
        {
          "output_type": "stream",
          "text": [
            "\r5it [01:09, 13.85s/it]"
          ],
          "name": "stderr"
        },
        {
          "output_type": "stream",
          "text": [
            "\rtrain batch [5/41]: loss 0.4367455840110779"
          ],
          "name": "stdout"
        },
        {
          "output_type": "stream",
          "text": [
            "\r6it [01:23, 13.88s/it]"
          ],
          "name": "stderr"
        },
        {
          "output_type": "stream",
          "text": [
            "\rtrain batch [6/41]: loss 0.4170573353767395"
          ],
          "name": "stdout"
        },
        {
          "output_type": "stream",
          "text": [
            "\r7it [01:37, 13.91s/it]"
          ],
          "name": "stderr"
        },
        {
          "output_type": "stream",
          "text": [
            "\rtrain batch [7/41]: loss 0.31780073046684265"
          ],
          "name": "stdout"
        },
        {
          "output_type": "stream",
          "text": [
            "\r8it [01:50, 13.85s/it]"
          ],
          "name": "stderr"
        },
        {
          "output_type": "stream",
          "text": [
            "\rtrain batch [8/41]: loss 0.3181871175765991"
          ],
          "name": "stdout"
        },
        {
          "output_type": "stream",
          "text": [
            "\r9it [02:04, 13.88s/it]"
          ],
          "name": "stderr"
        },
        {
          "output_type": "stream",
          "text": [
            "\rtrain batch [9/41]: loss 0.32869860529899597"
          ],
          "name": "stdout"
        },
        {
          "output_type": "stream",
          "text": [
            "\r10it [02:18, 13.89s/it]"
          ],
          "name": "stderr"
        },
        {
          "output_type": "stream",
          "text": [
            "\rtrain batch [10/41]: loss 0.3997668921947479"
          ],
          "name": "stdout"
        },
        {
          "output_type": "stream",
          "text": [
            "\r11it [02:32, 13.93s/it]"
          ],
          "name": "stderr"
        },
        {
          "output_type": "stream",
          "text": [
            "\rtrain batch [11/41]: loss 0.3376525044441223"
          ],
          "name": "stdout"
        },
        {
          "output_type": "stream",
          "text": [
            "\r12it [02:46, 13.91s/it]"
          ],
          "name": "stderr"
        },
        {
          "output_type": "stream",
          "text": [
            "\rtrain batch [12/41]: loss 0.36586618423461914"
          ],
          "name": "stdout"
        },
        {
          "output_type": "stream",
          "text": [
            "\r13it [03:00, 13.94s/it]"
          ],
          "name": "stderr"
        },
        {
          "output_type": "stream",
          "text": [
            "\rtrain batch [13/41]: loss 0.3658500611782074"
          ],
          "name": "stdout"
        },
        {
          "output_type": "stream",
          "text": [
            "\r14it [03:14, 13.88s/it]"
          ],
          "name": "stderr"
        },
        {
          "output_type": "stream",
          "text": [
            "\rtrain batch [14/41]: loss 0.33572182059288025"
          ],
          "name": "stdout"
        },
        {
          "output_type": "stream",
          "text": [
            "\r15it [03:28, 13.91s/it]"
          ],
          "name": "stderr"
        },
        {
          "output_type": "stream",
          "text": [
            "\rtrain batch [15/41]: loss 0.31474947929382324"
          ],
          "name": "stdout"
        },
        {
          "output_type": "stream",
          "text": [
            "\r16it [03:42, 13.91s/it]"
          ],
          "name": "stderr"
        },
        {
          "output_type": "stream",
          "text": [
            "\rtrain batch [16/41]: loss 0.34501999616622925"
          ],
          "name": "stdout"
        },
        {
          "output_type": "stream",
          "text": [
            "\r17it [03:56, 13.92s/it]"
          ],
          "name": "stderr"
        },
        {
          "output_type": "stream",
          "text": [
            "\rtrain batch [17/41]: loss 0.39653104543685913"
          ],
          "name": "stdout"
        },
        {
          "output_type": "stream",
          "text": [
            "\r18it [04:10, 13.95s/it]"
          ],
          "name": "stderr"
        },
        {
          "output_type": "stream",
          "text": [
            "\rtrain batch [18/41]: loss 0.3390481472015381"
          ],
          "name": "stdout"
        },
        {
          "output_type": "stream",
          "text": [
            "\r19it [04:23, 13.92s/it]"
          ],
          "name": "stderr"
        },
        {
          "output_type": "stream",
          "text": [
            "\rtrain batch [19/41]: loss 0.3612098693847656"
          ],
          "name": "stdout"
        },
        {
          "output_type": "stream",
          "text": [
            "\r20it [04:37, 13.88s/it]"
          ],
          "name": "stderr"
        },
        {
          "output_type": "stream",
          "text": [
            "\rtrain batch [20/41]: loss 0.3196377754211426"
          ],
          "name": "stdout"
        },
        {
          "output_type": "stream",
          "text": [
            "\r21it [04:51, 13.91s/it]"
          ],
          "name": "stderr"
        },
        {
          "output_type": "stream",
          "text": [
            "\rtrain batch [21/41]: loss 0.34465494751930237"
          ],
          "name": "stdout"
        },
        {
          "output_type": "stream",
          "text": [
            "\r22it [05:05, 13.88s/it]"
          ],
          "name": "stderr"
        },
        {
          "output_type": "stream",
          "text": [
            "\rtrain batch [22/41]: loss 0.344021737575531"
          ],
          "name": "stdout"
        },
        {
          "output_type": "stream",
          "text": [
            "\r23it [05:19, 13.82s/it]"
          ],
          "name": "stderr"
        },
        {
          "output_type": "stream",
          "text": [
            "\rtrain batch [23/41]: loss 0.3445202708244324"
          ],
          "name": "stdout"
        },
        {
          "output_type": "stream",
          "text": [
            "\r24it [05:33, 13.91s/it]"
          ],
          "name": "stderr"
        },
        {
          "output_type": "stream",
          "text": [
            "\rtrain batch [24/41]: loss 0.33068498969078064"
          ],
          "name": "stdout"
        },
        {
          "output_type": "stream",
          "text": [
            "\r25it [05:47, 13.92s/it]"
          ],
          "name": "stderr"
        },
        {
          "output_type": "stream",
          "text": [
            "\rtrain batch [25/41]: loss 0.3747575879096985"
          ],
          "name": "stdout"
        },
        {
          "output_type": "stream",
          "text": [
            "\r26it [06:01, 13.94s/it]"
          ],
          "name": "stderr"
        },
        {
          "output_type": "stream",
          "text": [
            "\rtrain batch [26/41]: loss 0.3431931734085083"
          ],
          "name": "stdout"
        },
        {
          "output_type": "stream",
          "text": [
            "\r27it [06:15, 13.89s/it]"
          ],
          "name": "stderr"
        },
        {
          "output_type": "stream",
          "text": [
            "\rtrain batch [27/41]: loss 0.30024397373199463"
          ],
          "name": "stdout"
        },
        {
          "output_type": "stream",
          "text": [
            "\r28it [06:28, 13.90s/it]"
          ],
          "name": "stderr"
        },
        {
          "output_type": "stream",
          "text": [
            "\rtrain batch [28/41]: loss 0.35745590925216675"
          ],
          "name": "stdout"
        },
        {
          "output_type": "stream",
          "text": [
            "\r29it [06:42, 13.87s/it]"
          ],
          "name": "stderr"
        },
        {
          "output_type": "stream",
          "text": [
            "\rtrain batch [29/41]: loss 0.34812676906585693"
          ],
          "name": "stdout"
        },
        {
          "output_type": "stream",
          "text": [
            "\r30it [06:56, 13.94s/it]"
          ],
          "name": "stderr"
        },
        {
          "output_type": "stream",
          "text": [
            "\rtrain batch [30/41]: loss 0.43236929178237915"
          ],
          "name": "stdout"
        },
        {
          "output_type": "stream",
          "text": [
            "\r31it [07:11, 14.00s/it]"
          ],
          "name": "stderr"
        },
        {
          "output_type": "stream",
          "text": [
            "\rtrain batch [31/41]: loss 0.3212997615337372"
          ],
          "name": "stdout"
        },
        {
          "output_type": "stream",
          "text": [
            "\r32it [07:24, 13.97s/it]"
          ],
          "name": "stderr"
        },
        {
          "output_type": "stream",
          "text": [
            "\rtrain batch [32/41]: loss 0.30278250575065613"
          ],
          "name": "stdout"
        },
        {
          "output_type": "stream",
          "text": [
            "\r33it [07:38, 13.97s/it]"
          ],
          "name": "stderr"
        },
        {
          "output_type": "stream",
          "text": [
            "\rtrain batch [33/41]: loss 0.26748573780059814"
          ],
          "name": "stdout"
        },
        {
          "output_type": "stream",
          "text": [
            "\r34it [07:52, 13.85s/it]"
          ],
          "name": "stderr"
        },
        {
          "output_type": "stream",
          "text": [
            "\rtrain batch [34/41]: loss 0.2926177382469177"
          ],
          "name": "stdout"
        },
        {
          "output_type": "stream",
          "text": [
            "\r35it [08:06, 13.88s/it]"
          ],
          "name": "stderr"
        },
        {
          "output_type": "stream",
          "text": [
            "\rtrain batch [35/41]: loss 0.36370086669921875"
          ],
          "name": "stdout"
        },
        {
          "output_type": "stream",
          "text": [
            "\r36it [08:20, 13.89s/it]"
          ],
          "name": "stderr"
        },
        {
          "output_type": "stream",
          "text": [
            "\rtrain batch [36/41]: loss 0.3675132989883423"
          ],
          "name": "stdout"
        },
        {
          "output_type": "stream",
          "text": [
            "\r37it [08:34, 13.91s/it]"
          ],
          "name": "stderr"
        },
        {
          "output_type": "stream",
          "text": [
            "\rtrain batch [37/41]: loss 0.43392330408096313"
          ],
          "name": "stdout"
        },
        {
          "output_type": "stream",
          "text": [
            "\r38it [08:48, 13.86s/it]"
          ],
          "name": "stderr"
        },
        {
          "output_type": "stream",
          "text": [
            "\rtrain batch [38/41]: loss 0.3213346600532532"
          ],
          "name": "stdout"
        },
        {
          "output_type": "stream",
          "text": [
            "\r39it [09:01, 13.89s/it]"
          ],
          "name": "stderr"
        },
        {
          "output_type": "stream",
          "text": [
            "\rtrain batch [39/41]: loss 0.3577808737754822"
          ],
          "name": "stdout"
        },
        {
          "output_type": "stream",
          "text": [
            "\r40it [09:15, 13.89s/it]"
          ],
          "name": "stderr"
        },
        {
          "output_type": "stream",
          "text": [
            "\rtrain batch [40/41]: loss 0.27827584743499756"
          ],
          "name": "stdout"
        },
        {
          "output_type": "stream",
          "text": [
            "41it [09:26, 13.81s/it]"
          ],
          "name": "stderr"
        },
        {
          "output_type": "stream",
          "text": [
            "\rval batch [0/4]: loss 1.1539433002471924"
          ],
          "name": "stdout"
        },
        {
          "output_type": "stream",
          "text": [
            "\n"
          ],
          "name": "stderr"
        },
        {
          "output_type": "stream",
          "text": [
            "val batch [3/4]: loss 0.10413159430027008"
          ],
          "name": "stdout"
        },
        {
          "output_type": "stream",
          "text": [
            "\r0it [00:00, ?it/s]"
          ],
          "name": "stderr"
        },
        {
          "output_type": "stream",
          "text": [
            "\n",
            "Train loss: 0.34726863445305245, Train accuracy: 0.8172929286956787\n",
            "Val loss: 0.627482358366251, Val accuracy: 0.6875\n",
            "\n",
            "=============== Epoch: 28\n",
            "train batch [0/41]: loss 0.3713610768318176"
          ],
          "name": "stdout"
        },
        {
          "output_type": "stream",
          "text": [
            "\r1it [00:14, 14.07s/it]"
          ],
          "name": "stderr"
        },
        {
          "output_type": "stream",
          "text": [
            "\rtrain batch [1/41]: loss 0.27928897738456726"
          ],
          "name": "stdout"
        },
        {
          "output_type": "stream",
          "text": [
            "\r2it [00:28, 14.03s/it]"
          ],
          "name": "stderr"
        },
        {
          "output_type": "stream",
          "text": [
            "\rtrain batch [2/41]: loss 0.3038085997104645"
          ],
          "name": "stdout"
        },
        {
          "output_type": "stream",
          "text": [
            "\r3it [00:41, 14.01s/it]"
          ],
          "name": "stderr"
        },
        {
          "output_type": "stream",
          "text": [
            "\rtrain batch [3/41]: loss 0.29293137788772583"
          ],
          "name": "stdout"
        },
        {
          "output_type": "stream",
          "text": [
            "\r4it [00:55, 13.95s/it]"
          ],
          "name": "stderr"
        },
        {
          "output_type": "stream",
          "text": [
            "\rtrain batch [4/41]: loss 0.31410402059555054"
          ],
          "name": "stdout"
        },
        {
          "output_type": "stream",
          "text": [
            "\r5it [01:09, 13.94s/it]"
          ],
          "name": "stderr"
        },
        {
          "output_type": "stream",
          "text": [
            "\rtrain batch [5/41]: loss 0.3265147805213928"
          ],
          "name": "stdout"
        },
        {
          "output_type": "stream",
          "text": [
            "\r6it [01:23, 13.92s/it]"
          ],
          "name": "stderr"
        },
        {
          "output_type": "stream",
          "text": [
            "\rtrain batch [6/41]: loss 0.37254512310028076"
          ],
          "name": "stdout"
        },
        {
          "output_type": "stream",
          "text": [
            "\r7it [01:37, 13.92s/it]"
          ],
          "name": "stderr"
        },
        {
          "output_type": "stream",
          "text": [
            "\rtrain batch [7/41]: loss 0.4001709222793579"
          ],
          "name": "stdout"
        },
        {
          "output_type": "stream",
          "text": [
            "\r8it [01:51, 13.92s/it]"
          ],
          "name": "stderr"
        },
        {
          "output_type": "stream",
          "text": [
            "\rtrain batch [8/41]: loss 0.2851947546005249"
          ],
          "name": "stdout"
        },
        {
          "output_type": "stream",
          "text": [
            "\r9it [02:05, 13.93s/it]"
          ],
          "name": "stderr"
        },
        {
          "output_type": "stream",
          "text": [
            "\rtrain batch [9/41]: loss 0.2843047082424164"
          ],
          "name": "stdout"
        },
        {
          "output_type": "stream",
          "text": [
            "\r10it [02:19, 13.88s/it]"
          ],
          "name": "stderr"
        },
        {
          "output_type": "stream",
          "text": [
            "\rtrain batch [10/41]: loss 0.3557923436164856"
          ],
          "name": "stdout"
        },
        {
          "output_type": "stream",
          "text": [
            "\r11it [02:33, 13.89s/it]"
          ],
          "name": "stderr"
        },
        {
          "output_type": "stream",
          "text": [
            "\rtrain batch [11/41]: loss 0.2715737819671631"
          ],
          "name": "stdout"
        },
        {
          "output_type": "stream",
          "text": [
            "\r12it [02:46, 13.85s/it]"
          ],
          "name": "stderr"
        },
        {
          "output_type": "stream",
          "text": [
            "\rtrain batch [12/41]: loss 0.44404011964797974"
          ],
          "name": "stdout"
        },
        {
          "output_type": "stream",
          "text": [
            "\r13it [03:00, 13.92s/it]"
          ],
          "name": "stderr"
        },
        {
          "output_type": "stream",
          "text": [
            "\rtrain batch [13/41]: loss 0.31136876344680786"
          ],
          "name": "stdout"
        },
        {
          "output_type": "stream",
          "text": [
            "\r14it [03:14, 13.91s/it]"
          ],
          "name": "stderr"
        },
        {
          "output_type": "stream",
          "text": [
            "\rtrain batch [14/41]: loss 0.3205181062221527"
          ],
          "name": "stdout"
        },
        {
          "output_type": "stream",
          "text": [
            "\r15it [03:28, 13.83s/it]"
          ],
          "name": "stderr"
        },
        {
          "output_type": "stream",
          "text": [
            "\rtrain batch [15/41]: loss 0.3436102867126465"
          ],
          "name": "stdout"
        },
        {
          "output_type": "stream",
          "text": [
            "\r16it [03:42, 13.79s/it]"
          ],
          "name": "stderr"
        },
        {
          "output_type": "stream",
          "text": [
            "\rtrain batch [16/41]: loss 0.37241923809051514"
          ],
          "name": "stdout"
        },
        {
          "output_type": "stream",
          "text": [
            "\r17it [03:55, 13.78s/it]"
          ],
          "name": "stderr"
        },
        {
          "output_type": "stream",
          "text": [
            "\rtrain batch [17/41]: loss 0.2675408720970154"
          ],
          "name": "stdout"
        },
        {
          "output_type": "stream",
          "text": [
            "\r18it [04:09, 13.81s/it]"
          ],
          "name": "stderr"
        },
        {
          "output_type": "stream",
          "text": [
            "\rtrain batch [18/41]: loss 0.35531461238861084"
          ],
          "name": "stdout"
        },
        {
          "output_type": "stream",
          "text": [
            "\r19it [04:23, 13.88s/it]"
          ],
          "name": "stderr"
        },
        {
          "output_type": "stream",
          "text": [
            "\rtrain batch [19/41]: loss 0.3327246606349945"
          ],
          "name": "stdout"
        },
        {
          "output_type": "stream",
          "text": [
            "\r20it [04:37, 13.90s/it]"
          ],
          "name": "stderr"
        },
        {
          "output_type": "stream",
          "text": [
            "\rtrain batch [20/41]: loss 0.33043602108955383"
          ],
          "name": "stdout"
        },
        {
          "output_type": "stream",
          "text": [
            "\r21it [04:51, 13.86s/it]"
          ],
          "name": "stderr"
        },
        {
          "output_type": "stream",
          "text": [
            "\rtrain batch [21/41]: loss 0.3332294225692749"
          ],
          "name": "stdout"
        },
        {
          "output_type": "stream",
          "text": [
            "\r22it [05:05, 13.86s/it]"
          ],
          "name": "stderr"
        },
        {
          "output_type": "stream",
          "text": [
            "\rtrain batch [22/41]: loss 0.3376641869544983"
          ],
          "name": "stdout"
        },
        {
          "output_type": "stream",
          "text": [
            "\r23it [05:19, 13.90s/it]"
          ],
          "name": "stderr"
        },
        {
          "output_type": "stream",
          "text": [
            "\rtrain batch [23/41]: loss 0.2521703243255615"
          ],
          "name": "stdout"
        },
        {
          "output_type": "stream",
          "text": [
            "\r24it [05:33, 13.86s/it]"
          ],
          "name": "stderr"
        },
        {
          "output_type": "stream",
          "text": [
            "\rtrain batch [24/41]: loss 0.3241293430328369"
          ],
          "name": "stdout"
        },
        {
          "output_type": "stream",
          "text": [
            "\r25it [05:47, 13.89s/it]"
          ],
          "name": "stderr"
        },
        {
          "output_type": "stream",
          "text": [
            "\rtrain batch [25/41]: loss 0.2836329936981201"
          ],
          "name": "stdout"
        },
        {
          "output_type": "stream",
          "text": [
            "\r26it [06:01, 13.90s/it]"
          ],
          "name": "stderr"
        },
        {
          "output_type": "stream",
          "text": [
            "\rtrain batch [26/41]: loss 0.35240331292152405"
          ],
          "name": "stdout"
        },
        {
          "output_type": "stream",
          "text": [
            "\r27it [06:14, 13.91s/it]"
          ],
          "name": "stderr"
        },
        {
          "output_type": "stream",
          "text": [
            "\rtrain batch [27/41]: loss 0.33391356468200684"
          ],
          "name": "stdout"
        },
        {
          "output_type": "stream",
          "text": [
            "\r28it [06:28, 13.88s/it]"
          ],
          "name": "stderr"
        },
        {
          "output_type": "stream",
          "text": [
            "\rtrain batch [28/41]: loss 0.3123781681060791"
          ],
          "name": "stdout"
        },
        {
          "output_type": "stream",
          "text": [
            "\r29it [06:42, 13.86s/it]"
          ],
          "name": "stderr"
        },
        {
          "output_type": "stream",
          "text": [
            "\rtrain batch [29/41]: loss 0.335317999124527"
          ],
          "name": "stdout"
        },
        {
          "output_type": "stream",
          "text": [
            "\r30it [06:56, 13.89s/it]"
          ],
          "name": "stderr"
        },
        {
          "output_type": "stream",
          "text": [
            "\rtrain batch [30/41]: loss 0.2462611049413681"
          ],
          "name": "stdout"
        },
        {
          "output_type": "stream",
          "text": [
            "\r31it [07:10, 13.88s/it]"
          ],
          "name": "stderr"
        },
        {
          "output_type": "stream",
          "text": [
            "\rtrain batch [31/41]: loss 0.2749999761581421"
          ],
          "name": "stdout"
        },
        {
          "output_type": "stream",
          "text": [
            "\r32it [07:24, 13.86s/it]"
          ],
          "name": "stderr"
        },
        {
          "output_type": "stream",
          "text": [
            "\rtrain batch [32/41]: loss 0.2924908399581909"
          ],
          "name": "stdout"
        },
        {
          "output_type": "stream",
          "text": [
            "\r33it [07:38, 13.89s/it]"
          ],
          "name": "stderr"
        },
        {
          "output_type": "stream",
          "text": [
            "\rtrain batch [33/41]: loss 0.2504676878452301"
          ],
          "name": "stdout"
        },
        {
          "output_type": "stream",
          "text": [
            "\r34it [07:51, 13.82s/it]"
          ],
          "name": "stderr"
        },
        {
          "output_type": "stream",
          "text": [
            "\rtrain batch [34/41]: loss 0.33418339490890503"
          ],
          "name": "stdout"
        },
        {
          "output_type": "stream",
          "text": [
            "\r35it [08:05, 13.93s/it]"
          ],
          "name": "stderr"
        },
        {
          "output_type": "stream",
          "text": [
            "\rtrain batch [35/41]: loss 0.32779356837272644"
          ],
          "name": "stdout"
        },
        {
          "output_type": "stream",
          "text": [
            "\r36it [08:20, 13.95s/it]"
          ],
          "name": "stderr"
        },
        {
          "output_type": "stream",
          "text": [
            "\rtrain batch [36/41]: loss 0.42438846826553345"
          ],
          "name": "stdout"
        },
        {
          "output_type": "stream",
          "text": [
            "\r37it [08:34, 13.99s/it]"
          ],
          "name": "stderr"
        },
        {
          "output_type": "stream",
          "text": [
            "\rtrain batch [37/41]: loss 0.36896049976348877"
          ],
          "name": "stdout"
        },
        {
          "output_type": "stream",
          "text": [
            "\r38it [08:48, 13.99s/it]"
          ],
          "name": "stderr"
        },
        {
          "output_type": "stream",
          "text": [
            "\rtrain batch [38/41]: loss 0.3510951101779938"
          ],
          "name": "stdout"
        },
        {
          "output_type": "stream",
          "text": [
            "\r39it [09:02, 13.98s/it]"
          ],
          "name": "stderr"
        },
        {
          "output_type": "stream",
          "text": [
            "\rtrain batch [39/41]: loss 0.2967801094055176"
          ],
          "name": "stdout"
        },
        {
          "output_type": "stream",
          "text": [
            "\r40it [09:15, 13.98s/it]"
          ],
          "name": "stderr"
        },
        {
          "output_type": "stream",
          "text": [
            "\rtrain batch [40/41]: loss 0.32596108317375183"
          ],
          "name": "stdout"
        },
        {
          "output_type": "stream",
          "text": [
            "41it [09:26, 13.82s/it]"
          ],
          "name": "stderr"
        },
        {
          "output_type": "stream",
          "text": [
            "\rval batch [0/4]: loss 1.4312530755996704"
          ],
          "name": "stdout"
        },
        {
          "output_type": "stream",
          "text": [
            "\n"
          ],
          "name": "stderr"
        },
        {
          "output_type": "stream",
          "text": [
            "val batch [3/4]: loss 0.28178244829177856"
          ],
          "name": "stdout"
        },
        {
          "output_type": "stream",
          "text": [
            "\r0it [00:00, ?it/s]"
          ],
          "name": "stderr"
        },
        {
          "output_type": "stream",
          "text": [
            "\n",
            "Train loss: 0.32423864377707967, Train accuracy: 0.8353143930435181\n",
            "Val loss: 0.6675422713160515, Val accuracy: 0.5625\n",
            "\n",
            "=============== Epoch: 29\n",
            "train batch [0/41]: loss 0.2619783878326416"
          ],
          "name": "stdout"
        },
        {
          "output_type": "stream",
          "text": [
            "\r1it [00:13, 13.78s/it]"
          ],
          "name": "stderr"
        },
        {
          "output_type": "stream",
          "text": [
            "\rtrain batch [1/41]: loss 0.3783111572265625"
          ],
          "name": "stdout"
        },
        {
          "output_type": "stream",
          "text": [
            "\r2it [00:27, 13.85s/it]"
          ],
          "name": "stderr"
        },
        {
          "output_type": "stream",
          "text": [
            "\rtrain batch [2/41]: loss 0.29847899079322815"
          ],
          "name": "stdout"
        },
        {
          "output_type": "stream",
          "text": [
            "\r3it [00:41, 13.83s/it]"
          ],
          "name": "stderr"
        },
        {
          "output_type": "stream",
          "text": [
            "\rtrain batch [3/41]: loss 0.3135489821434021"
          ],
          "name": "stdout"
        },
        {
          "output_type": "stream",
          "text": [
            "\r4it [00:55, 13.82s/it]"
          ],
          "name": "stderr"
        },
        {
          "output_type": "stream",
          "text": [
            "\rtrain batch [4/41]: loss 0.29189521074295044"
          ],
          "name": "stdout"
        },
        {
          "output_type": "stream",
          "text": [
            "\r5it [01:09, 13.81s/it]"
          ],
          "name": "stderr"
        },
        {
          "output_type": "stream",
          "text": [
            "\rtrain batch [5/41]: loss 0.37648409605026245"
          ],
          "name": "stdout"
        },
        {
          "output_type": "stream",
          "text": [
            "\r6it [01:23, 13.83s/it]"
          ],
          "name": "stderr"
        },
        {
          "output_type": "stream",
          "text": [
            "\rtrain batch [6/41]: loss 0.35096991062164307"
          ],
          "name": "stdout"
        },
        {
          "output_type": "stream",
          "text": [
            "\r7it [01:37, 13.87s/it]"
          ],
          "name": "stderr"
        },
        {
          "output_type": "stream",
          "text": [
            "\rtrain batch [7/41]: loss 0.3700920343399048"
          ],
          "name": "stdout"
        },
        {
          "output_type": "stream",
          "text": [
            "\r8it [01:50, 13.85s/it]"
          ],
          "name": "stderr"
        },
        {
          "output_type": "stream",
          "text": [
            "\rtrain batch [8/41]: loss 0.3126734495162964"
          ],
          "name": "stdout"
        },
        {
          "output_type": "stream",
          "text": [
            "\r9it [02:04, 13.83s/it]"
          ],
          "name": "stderr"
        },
        {
          "output_type": "stream",
          "text": [
            "\rtrain batch [9/41]: loss 0.3244672119617462"
          ],
          "name": "stdout"
        },
        {
          "output_type": "stream",
          "text": [
            "\r10it [02:18, 13.83s/it]"
          ],
          "name": "stderr"
        },
        {
          "output_type": "stream",
          "text": [
            "\rtrain batch [10/41]: loss 0.31590554118156433"
          ],
          "name": "stdout"
        },
        {
          "output_type": "stream",
          "text": [
            "\r11it [02:32, 13.80s/it]"
          ],
          "name": "stderr"
        },
        {
          "output_type": "stream",
          "text": [
            "\rtrain batch [11/41]: loss 0.3580121099948883"
          ],
          "name": "stdout"
        },
        {
          "output_type": "stream",
          "text": [
            "\r12it [02:46, 13.91s/it]"
          ],
          "name": "stderr"
        },
        {
          "output_type": "stream",
          "text": [
            "\rtrain batch [12/41]: loss 0.3075098395347595"
          ],
          "name": "stdout"
        },
        {
          "output_type": "stream",
          "text": [
            "\r13it [02:59, 13.84s/it]"
          ],
          "name": "stderr"
        },
        {
          "output_type": "stream",
          "text": [
            "\rtrain batch [13/41]: loss 0.39464300870895386"
          ],
          "name": "stdout"
        },
        {
          "output_type": "stream",
          "text": [
            "\r14it [03:14, 13.90s/it]"
          ],
          "name": "stderr"
        },
        {
          "output_type": "stream",
          "text": [
            "\rtrain batch [14/41]: loss 0.36034753918647766"
          ],
          "name": "stdout"
        },
        {
          "output_type": "stream",
          "text": [
            "\r15it [03:27, 13.89s/it]"
          ],
          "name": "stderr"
        },
        {
          "output_type": "stream",
          "text": [
            "\rtrain batch [15/41]: loss 0.46414780616760254"
          ],
          "name": "stdout"
        },
        {
          "output_type": "stream",
          "text": [
            "\r16it [03:41, 13.91s/it]"
          ],
          "name": "stderr"
        },
        {
          "output_type": "stream",
          "text": [
            "\rtrain batch [16/41]: loss 0.3360220789909363"
          ],
          "name": "stdout"
        },
        {
          "output_type": "stream",
          "text": [
            "\r17it [03:55, 13.84s/it]"
          ],
          "name": "stderr"
        },
        {
          "output_type": "stream",
          "text": [
            "\rtrain batch [17/41]: loss 0.38017475605010986"
          ],
          "name": "stdout"
        },
        {
          "output_type": "stream",
          "text": [
            "\r18it [04:09, 13.87s/it]"
          ],
          "name": "stderr"
        },
        {
          "output_type": "stream",
          "text": [
            "\rtrain batch [18/41]: loss 0.3592315912246704"
          ],
          "name": "stdout"
        },
        {
          "output_type": "stream",
          "text": [
            "\r19it [04:23, 13.81s/it]"
          ],
          "name": "stderr"
        },
        {
          "output_type": "stream",
          "text": [
            "\rtrain batch [19/41]: loss 0.31200045347213745"
          ],
          "name": "stdout"
        },
        {
          "output_type": "stream",
          "text": [
            "\r20it [04:36, 13.77s/it]"
          ],
          "name": "stderr"
        },
        {
          "output_type": "stream",
          "text": [
            "\rtrain batch [20/41]: loss 0.3850250840187073"
          ],
          "name": "stdout"
        },
        {
          "output_type": "stream",
          "text": [
            "\r21it [04:50, 13.79s/it]"
          ],
          "name": "stderr"
        },
        {
          "output_type": "stream",
          "text": [
            "\rtrain batch [21/41]: loss 0.38701194524765015"
          ],
          "name": "stdout"
        },
        {
          "output_type": "stream",
          "text": [
            "\r22it [05:04, 13.93s/it]"
          ],
          "name": "stderr"
        },
        {
          "output_type": "stream",
          "text": [
            "\rtrain batch [22/41]: loss 0.38625985383987427"
          ],
          "name": "stdout"
        },
        {
          "output_type": "stream",
          "text": [
            "\r23it [05:18, 13.96s/it]"
          ],
          "name": "stderr"
        },
        {
          "output_type": "stream",
          "text": [
            "\rtrain batch [23/41]: loss 0.3840622901916504"
          ],
          "name": "stdout"
        },
        {
          "output_type": "stream",
          "text": [
            "\r24it [05:32, 13.94s/it]"
          ],
          "name": "stderr"
        },
        {
          "output_type": "stream",
          "text": [
            "\rtrain batch [24/41]: loss 0.316161572933197"
          ],
          "name": "stdout"
        },
        {
          "output_type": "stream",
          "text": [
            "\r25it [05:46, 13.92s/it]"
          ],
          "name": "stderr"
        },
        {
          "output_type": "stream",
          "text": [
            "\rtrain batch [25/41]: loss 0.3416319191455841"
          ],
          "name": "stdout"
        },
        {
          "output_type": "stream",
          "text": [
            "\r26it [06:00, 13.94s/it]"
          ],
          "name": "stderr"
        },
        {
          "output_type": "stream",
          "text": [
            "\rtrain batch [26/41]: loss 0.37070852518081665"
          ],
          "name": "stdout"
        },
        {
          "output_type": "stream",
          "text": [
            "\r27it [06:14, 13.96s/it]"
          ],
          "name": "stderr"
        },
        {
          "output_type": "stream",
          "text": [
            "\rtrain batch [27/41]: loss 0.32476770877838135"
          ],
          "name": "stdout"
        },
        {
          "output_type": "stream",
          "text": [
            "\r28it [06:28, 13.87s/it]"
          ],
          "name": "stderr"
        },
        {
          "output_type": "stream",
          "text": [
            "\rtrain batch [28/41]: loss 0.38131314516067505"
          ],
          "name": "stdout"
        },
        {
          "output_type": "stream",
          "text": [
            "\r29it [06:42, 13.86s/it]"
          ],
          "name": "stderr"
        },
        {
          "output_type": "stream",
          "text": [
            "\rtrain batch [29/41]: loss 0.35662513971328735"
          ],
          "name": "stdout"
        },
        {
          "output_type": "stream",
          "text": [
            "\r30it [06:56, 13.89s/it]"
          ],
          "name": "stderr"
        },
        {
          "output_type": "stream",
          "text": [
            "\rtrain batch [30/41]: loss 0.33679652214050293"
          ],
          "name": "stdout"
        },
        {
          "output_type": "stream",
          "text": [
            "\r31it [07:10, 13.90s/it]"
          ],
          "name": "stderr"
        },
        {
          "output_type": "stream",
          "text": [
            "\rtrain batch [31/41]: loss 0.33205685019493103"
          ],
          "name": "stdout"
        },
        {
          "output_type": "stream",
          "text": [
            "\r32it [07:23, 13.90s/it]"
          ],
          "name": "stderr"
        },
        {
          "output_type": "stream",
          "text": [
            "\rtrain batch [32/41]: loss 0.369904488325119"
          ],
          "name": "stdout"
        },
        {
          "output_type": "stream",
          "text": [
            "\r33it [07:37, 13.93s/it]"
          ],
          "name": "stderr"
        },
        {
          "output_type": "stream",
          "text": [
            "\rtrain batch [33/41]: loss 0.30798858404159546"
          ],
          "name": "stdout"
        },
        {
          "output_type": "stream",
          "text": [
            "\r34it [07:51, 13.88s/it]"
          ],
          "name": "stderr"
        },
        {
          "output_type": "stream",
          "text": [
            "\rtrain batch [34/41]: loss 0.44590136408805847"
          ],
          "name": "stdout"
        },
        {
          "output_type": "stream",
          "text": [
            "\r35it [08:05, 13.91s/it]"
          ],
          "name": "stderr"
        },
        {
          "output_type": "stream",
          "text": [
            "\rtrain batch [35/41]: loss 0.3955325782299042"
          ],
          "name": "stdout"
        },
        {
          "output_type": "stream",
          "text": [
            "\r36it [08:19, 13.92s/it]"
          ],
          "name": "stderr"
        },
        {
          "output_type": "stream",
          "text": [
            "\rtrain batch [36/41]: loss 0.26696228981018066"
          ],
          "name": "stdout"
        },
        {
          "output_type": "stream",
          "text": [
            "\r37it [08:33, 13.89s/it]"
          ],
          "name": "stderr"
        },
        {
          "output_type": "stream",
          "text": [
            "\rtrain batch [37/41]: loss 0.3008403182029724"
          ],
          "name": "stdout"
        },
        {
          "output_type": "stream",
          "text": [
            "\r38it [08:47, 13.88s/it]"
          ],
          "name": "stderr"
        },
        {
          "output_type": "stream",
          "text": [
            "\rtrain batch [38/41]: loss 0.36971259117126465"
          ],
          "name": "stdout"
        },
        {
          "output_type": "stream",
          "text": [
            "\r39it [09:01, 13.89s/it]"
          ],
          "name": "stderr"
        },
        {
          "output_type": "stream",
          "text": [
            "\rtrain batch [39/41]: loss 0.40247732400894165"
          ],
          "name": "stdout"
        },
        {
          "output_type": "stream",
          "text": [
            "\r40it [09:15, 13.92s/it]"
          ],
          "name": "stderr"
        },
        {
          "output_type": "stream",
          "text": [
            "\rtrain batch [40/41]: loss 0.4289949834346771"
          ],
          "name": "stdout"
        },
        {
          "output_type": "stream",
          "text": [
            "41it [09:25, 13.80s/it]"
          ],
          "name": "stderr"
        },
        {
          "output_type": "stream",
          "text": [
            "\rval batch [0/4]: loss 2.249899387359619"
          ],
          "name": "stdout"
        },
        {
          "output_type": "stream",
          "text": [
            "\n"
          ],
          "name": "stderr"
        },
        {
          "output_type": "stream",
          "text": [
            "val batch [3/4]: loss 0.08208193629980087"
          ],
          "name": "stdout"
        },
        {
          "output_type": "stream",
          "text": [
            "\r0it [00:00, ?it/s]"
          ],
          "name": "stderr"
        },
        {
          "output_type": "stream",
          "text": [
            "\n",
            "Train loss: 0.3526250967165319, Train accuracy: 0.8057898879051208\n",
            "Val loss: 1.2123470362275839, Val accuracy: 0.5\n",
            "\n",
            "=============== Epoch: 30\n",
            "train batch [0/41]: loss 0.27864497900009155"
          ],
          "name": "stdout"
        },
        {
          "output_type": "stream",
          "text": [
            "\r1it [00:13, 13.81s/it]"
          ],
          "name": "stderr"
        },
        {
          "output_type": "stream",
          "text": [
            "\rtrain batch [1/41]: loss 0.4285288453102112"
          ],
          "name": "stdout"
        },
        {
          "output_type": "stream",
          "text": [
            "\r2it [00:27, 13.86s/it]"
          ],
          "name": "stderr"
        },
        {
          "output_type": "stream",
          "text": [
            "\rtrain batch [2/41]: loss 0.29606521129608154"
          ],
          "name": "stdout"
        },
        {
          "output_type": "stream",
          "text": [
            "\r3it [00:41, 13.83s/it]"
          ],
          "name": "stderr"
        },
        {
          "output_type": "stream",
          "text": [
            "\rtrain batch [3/41]: loss 0.393185019493103"
          ],
          "name": "stdout"
        },
        {
          "output_type": "stream",
          "text": [
            "\r4it [00:55, 13.92s/it]"
          ],
          "name": "stderr"
        },
        {
          "output_type": "stream",
          "text": [
            "\rtrain batch [4/41]: loss 0.3344636559486389"
          ],
          "name": "stdout"
        },
        {
          "output_type": "stream",
          "text": [
            "\r5it [01:09, 13.87s/it]"
          ],
          "name": "stderr"
        },
        {
          "output_type": "stream",
          "text": [
            "\rtrain batch [5/41]: loss 0.37899133563041687"
          ],
          "name": "stdout"
        },
        {
          "output_type": "stream",
          "text": [
            "\r6it [01:23, 13.85s/it]"
          ],
          "name": "stderr"
        },
        {
          "output_type": "stream",
          "text": [
            "\rtrain batch [6/41]: loss 0.3560126721858978"
          ],
          "name": "stdout"
        },
        {
          "output_type": "stream",
          "text": [
            "\r7it [01:37, 13.86s/it]"
          ],
          "name": "stderr"
        },
        {
          "output_type": "stream",
          "text": [
            "\rtrain batch [7/41]: loss 0.32749125361442566"
          ],
          "name": "stdout"
        },
        {
          "output_type": "stream",
          "text": [
            "\r8it [01:50, 13.82s/it]"
          ],
          "name": "stderr"
        },
        {
          "output_type": "stream",
          "text": [
            "\rtrain batch [8/41]: loss 0.3115079998970032"
          ],
          "name": "stdout"
        },
        {
          "output_type": "stream",
          "text": [
            "\r9it [02:04, 13.86s/it]"
          ],
          "name": "stderr"
        },
        {
          "output_type": "stream",
          "text": [
            "\rtrain batch [9/41]: loss 0.32137417793273926"
          ],
          "name": "stdout"
        },
        {
          "output_type": "stream",
          "text": [
            "\r10it [02:18, 13.85s/it]"
          ],
          "name": "stderr"
        },
        {
          "output_type": "stream",
          "text": [
            "\rtrain batch [10/41]: loss 0.21417827904224396"
          ],
          "name": "stdout"
        },
        {
          "output_type": "stream",
          "text": [
            "\r11it [02:32, 13.73s/it]"
          ],
          "name": "stderr"
        },
        {
          "output_type": "stream",
          "text": [
            "\rtrain batch [11/41]: loss 0.39330893754959106"
          ],
          "name": "stdout"
        },
        {
          "output_type": "stream",
          "text": [
            "\r12it [02:46, 13.80s/it]"
          ],
          "name": "stderr"
        },
        {
          "output_type": "stream",
          "text": [
            "\rtrain batch [12/41]: loss 0.38865870237350464"
          ],
          "name": "stdout"
        },
        {
          "output_type": "stream",
          "text": [
            "\r13it [03:00, 13.86s/it]"
          ],
          "name": "stderr"
        },
        {
          "output_type": "stream",
          "text": [
            "\rtrain batch [13/41]: loss 0.3463594317436218"
          ],
          "name": "stdout"
        },
        {
          "output_type": "stream",
          "text": [
            "\r14it [03:13, 13.85s/it]"
          ],
          "name": "stderr"
        },
        {
          "output_type": "stream",
          "text": [
            "\rtrain batch [14/41]: loss 0.37271401286125183"
          ],
          "name": "stdout"
        },
        {
          "output_type": "stream",
          "text": [
            "\r15it [03:27, 13.89s/it]"
          ],
          "name": "stderr"
        },
        {
          "output_type": "stream",
          "text": [
            "\rtrain batch [15/41]: loss 0.42442891001701355"
          ],
          "name": "stdout"
        },
        {
          "output_type": "stream",
          "text": [
            "\r16it [03:41, 13.89s/it]"
          ],
          "name": "stderr"
        },
        {
          "output_type": "stream",
          "text": [
            "\rtrain batch [16/41]: loss 0.35039347410202026"
          ],
          "name": "stdout"
        },
        {
          "output_type": "stream",
          "text": [
            "\r17it [03:55, 13.87s/it]"
          ],
          "name": "stderr"
        },
        {
          "output_type": "stream",
          "text": [
            "\rtrain batch [17/41]: loss 0.2671472728252411"
          ],
          "name": "stdout"
        },
        {
          "output_type": "stream",
          "text": [
            "\r18it [04:09, 13.84s/it]"
          ],
          "name": "stderr"
        },
        {
          "output_type": "stream",
          "text": [
            "\rtrain batch [18/41]: loss 0.47445929050445557"
          ],
          "name": "stdout"
        },
        {
          "output_type": "stream",
          "text": [
            "\r19it [04:23, 13.87s/it]"
          ],
          "name": "stderr"
        },
        {
          "output_type": "stream",
          "text": [
            "\rtrain batch [19/41]: loss 0.4150548577308655"
          ],
          "name": "stdout"
        },
        {
          "output_type": "stream",
          "text": [
            "\r20it [04:37, 13.88s/it]"
          ],
          "name": "stderr"
        },
        {
          "output_type": "stream",
          "text": [
            "\rtrain batch [20/41]: loss 0.29572728276252747"
          ],
          "name": "stdout"
        },
        {
          "output_type": "stream",
          "text": [
            "\r21it [04:51, 13.95s/it]"
          ],
          "name": "stderr"
        },
        {
          "output_type": "stream",
          "text": [
            "\rtrain batch [21/41]: loss 0.41782906651496887"
          ],
          "name": "stdout"
        },
        {
          "output_type": "stream",
          "text": [
            "\r22it [05:05, 14.01s/it]"
          ],
          "name": "stderr"
        },
        {
          "output_type": "stream",
          "text": [
            "\rtrain batch [22/41]: loss 0.38095343112945557"
          ],
          "name": "stdout"
        },
        {
          "output_type": "stream",
          "text": [
            "\r23it [05:19, 13.99s/it]"
          ],
          "name": "stderr"
        },
        {
          "output_type": "stream",
          "text": [
            "\rtrain batch [23/41]: loss 0.3625946640968323"
          ],
          "name": "stdout"
        },
        {
          "output_type": "stream",
          "text": [
            "\r24it [05:33, 13.93s/it]"
          ],
          "name": "stderr"
        },
        {
          "output_type": "stream",
          "text": [
            "\rtrain batch [24/41]: loss 0.3376404643058777"
          ],
          "name": "stdout"
        },
        {
          "output_type": "stream",
          "text": [
            "\r25it [05:46, 13.87s/it]"
          ],
          "name": "stderr"
        },
        {
          "output_type": "stream",
          "text": [
            "\rtrain batch [25/41]: loss 0.41313931345939636"
          ],
          "name": "stdout"
        },
        {
          "output_type": "stream",
          "text": [
            "\r26it [06:00, 13.86s/it]"
          ],
          "name": "stderr"
        },
        {
          "output_type": "stream",
          "text": [
            "\rtrain batch [26/41]: loss 0.4054560661315918"
          ],
          "name": "stdout"
        },
        {
          "output_type": "stream",
          "text": [
            "\r27it [06:14, 13.86s/it]"
          ],
          "name": "stderr"
        },
        {
          "output_type": "stream",
          "text": [
            "\rtrain batch [27/41]: loss 0.28354233503341675"
          ],
          "name": "stdout"
        },
        {
          "output_type": "stream",
          "text": [
            "\r28it [06:28, 13.82s/it]"
          ],
          "name": "stderr"
        },
        {
          "output_type": "stream",
          "text": [
            "\rtrain batch [28/41]: loss 0.29570698738098145"
          ],
          "name": "stdout"
        },
        {
          "output_type": "stream",
          "text": [
            "\r29it [06:42, 13.77s/it]"
          ],
          "name": "stderr"
        },
        {
          "output_type": "stream",
          "text": [
            "\rtrain batch [29/41]: loss 0.4765162765979767"
          ],
          "name": "stdout"
        },
        {
          "output_type": "stream",
          "text": [
            "\r30it [06:55, 13.82s/it]"
          ],
          "name": "stderr"
        },
        {
          "output_type": "stream",
          "text": [
            "\rtrain batch [30/41]: loss 0.3816099166870117"
          ],
          "name": "stdout"
        },
        {
          "output_type": "stream",
          "text": [
            "\r31it [07:09, 13.84s/it]"
          ],
          "name": "stderr"
        },
        {
          "output_type": "stream",
          "text": [
            "\rtrain batch [31/41]: loss 0.4356144666671753"
          ],
          "name": "stdout"
        },
        {
          "output_type": "stream",
          "text": [
            "\r32it [07:23, 13.88s/it]"
          ],
          "name": "stderr"
        },
        {
          "output_type": "stream",
          "text": [
            "\rtrain batch [32/41]: loss 0.3991871476173401"
          ],
          "name": "stdout"
        },
        {
          "output_type": "stream",
          "text": [
            "\r33it [07:37, 13.89s/it]"
          ],
          "name": "stderr"
        },
        {
          "output_type": "stream",
          "text": [
            "\rtrain batch [33/41]: loss 0.4478023052215576"
          ],
          "name": "stdout"
        },
        {
          "output_type": "stream",
          "text": [
            "\r34it [07:51, 13.86s/it]"
          ],
          "name": "stderr"
        },
        {
          "output_type": "stream",
          "text": [
            "\rtrain batch [34/41]: loss 0.4073612093925476"
          ],
          "name": "stdout"
        },
        {
          "output_type": "stream",
          "text": [
            "\r35it [08:05, 13.83s/it]"
          ],
          "name": "stderr"
        },
        {
          "output_type": "stream",
          "text": [
            "\rtrain batch [35/41]: loss 0.33498021960258484"
          ],
          "name": "stdout"
        },
        {
          "output_type": "stream",
          "text": [
            "\r36it [08:19, 13.84s/it]"
          ],
          "name": "stderr"
        },
        {
          "output_type": "stream",
          "text": [
            "\rtrain batch [36/41]: loss 0.30671507120132446"
          ],
          "name": "stdout"
        },
        {
          "output_type": "stream",
          "text": [
            "\r37it [08:32, 13.82s/it]"
          ],
          "name": "stderr"
        },
        {
          "output_type": "stream",
          "text": [
            "\rtrain batch [37/41]: loss 0.45241084694862366"
          ],
          "name": "stdout"
        },
        {
          "output_type": "stream",
          "text": [
            "\r38it [08:46, 13.86s/it]"
          ],
          "name": "stderr"
        },
        {
          "output_type": "stream",
          "text": [
            "\rtrain batch [38/41]: loss 0.44532477855682373"
          ],
          "name": "stdout"
        },
        {
          "output_type": "stream",
          "text": [
            "\r39it [09:00, 13.91s/it]"
          ],
          "name": "stderr"
        },
        {
          "output_type": "stream",
          "text": [
            "\rtrain batch [39/41]: loss 0.4059659242630005"
          ],
          "name": "stdout"
        },
        {
          "output_type": "stream",
          "text": [
            "\r40it [09:14, 13.91s/it]"
          ],
          "name": "stderr"
        },
        {
          "output_type": "stream",
          "text": [
            "\rtrain batch [40/41]: loss 0.38659340143203735"
          ],
          "name": "stdout"
        },
        {
          "output_type": "stream",
          "text": [
            "41it [09:25, 13.79s/it]"
          ],
          "name": "stderr"
        },
        {
          "output_type": "stream",
          "text": [
            "\rval batch [0/4]: loss 2.55263614654541"
          ],
          "name": "stdout"
        },
        {
          "output_type": "stream",
          "text": [
            "\n"
          ],
          "name": "stderr"
        },
        {
          "output_type": "stream",
          "text": [
            "val batch [3/4]: loss 0.06612585484981537"
          ],
          "name": "stdout"
        },
        {
          "output_type": "stream",
          "text": [
            "\r0it [00:00, ?it/s]"
          ],
          "name": "stderr"
        },
        {
          "output_type": "stream",
          "text": [
            "\n",
            "Train loss: 0.3694058427723443, Train accuracy: 0.7963956594467163\n",
            "Val loss: 1.1010440960526466, Val accuracy: 0.625\n",
            "\n",
            "=============== Epoch: 31\n",
            "train batch [0/41]: loss 0.4367135763168335"
          ],
          "name": "stdout"
        },
        {
          "output_type": "stream",
          "text": [
            "\r1it [00:13, 13.93s/it]"
          ],
          "name": "stderr"
        },
        {
          "output_type": "stream",
          "text": [
            "\rtrain batch [1/41]: loss 0.2671506404876709"
          ],
          "name": "stdout"
        },
        {
          "output_type": "stream",
          "text": [
            "\r2it [00:27, 13.87s/it]"
          ],
          "name": "stderr"
        },
        {
          "output_type": "stream",
          "text": [
            "\rtrain batch [2/41]: loss 0.3492492437362671"
          ],
          "name": "stdout"
        },
        {
          "output_type": "stream",
          "text": [
            "\r3it [00:41, 13.90s/it]"
          ],
          "name": "stderr"
        },
        {
          "output_type": "stream",
          "text": [
            "\rtrain batch [3/41]: loss 0.3095627427101135"
          ],
          "name": "stdout"
        },
        {
          "output_type": "stream",
          "text": [
            "\r4it [00:55, 13.85s/it]"
          ],
          "name": "stderr"
        },
        {
          "output_type": "stream",
          "text": [
            "\rtrain batch [4/41]: loss 0.29246529936790466"
          ],
          "name": "stdout"
        },
        {
          "output_type": "stream",
          "text": [
            "\r5it [01:09, 13.83s/it]"
          ],
          "name": "stderr"
        },
        {
          "output_type": "stream",
          "text": [
            "\rtrain batch [5/41]: loss 0.36299124360084534"
          ],
          "name": "stdout"
        },
        {
          "output_type": "stream",
          "text": [
            "\r6it [01:23, 13.85s/it]"
          ],
          "name": "stderr"
        },
        {
          "output_type": "stream",
          "text": [
            "\rtrain batch [6/41]: loss 0.3093577027320862"
          ],
          "name": "stdout"
        },
        {
          "output_type": "stream",
          "text": [
            "\r7it [01:36, 13.83s/it]"
          ],
          "name": "stderr"
        },
        {
          "output_type": "stream",
          "text": [
            "\rtrain batch [7/41]: loss 0.39117032289505005"
          ],
          "name": "stdout"
        },
        {
          "output_type": "stream",
          "text": [
            "\r8it [01:50, 13.81s/it]"
          ],
          "name": "stderr"
        },
        {
          "output_type": "stream",
          "text": [
            "\rtrain batch [8/41]: loss 0.41147688031196594"
          ],
          "name": "stdout"
        },
        {
          "output_type": "stream",
          "text": [
            "\r9it [02:04, 13.85s/it]"
          ],
          "name": "stderr"
        },
        {
          "output_type": "stream",
          "text": [
            "\rtrain batch [9/41]: loss 0.38254013657569885"
          ],
          "name": "stdout"
        },
        {
          "output_type": "stream",
          "text": [
            "\r10it [02:18, 13.85s/it]"
          ],
          "name": "stderr"
        },
        {
          "output_type": "stream",
          "text": [
            "\rtrain batch [10/41]: loss 0.3549036979675293"
          ],
          "name": "stdout"
        },
        {
          "output_type": "stream",
          "text": [
            "\r11it [02:32, 13.96s/it]"
          ],
          "name": "stderr"
        },
        {
          "output_type": "stream",
          "text": [
            "\rtrain batch [11/41]: loss 0.29821038246154785"
          ],
          "name": "stdout"
        },
        {
          "output_type": "stream",
          "text": [
            "\r12it [02:46, 13.90s/it]"
          ],
          "name": "stderr"
        },
        {
          "output_type": "stream",
          "text": [
            "\rtrain batch [12/41]: loss 0.4342502951622009"
          ],
          "name": "stdout"
        },
        {
          "output_type": "stream",
          "text": [
            "\r13it [03:00, 13.93s/it]"
          ],
          "name": "stderr"
        },
        {
          "output_type": "stream",
          "text": [
            "\rtrain batch [13/41]: loss 0.3858860731124878"
          ],
          "name": "stdout"
        },
        {
          "output_type": "stream",
          "text": [
            "\r14it [03:14, 13.94s/it]"
          ],
          "name": "stderr"
        },
        {
          "output_type": "stream",
          "text": [
            "\rtrain batch [14/41]: loss 0.3093479871749878"
          ],
          "name": "stdout"
        },
        {
          "output_type": "stream",
          "text": [
            "\r15it [03:28, 13.93s/it]"
          ],
          "name": "stderr"
        },
        {
          "output_type": "stream",
          "text": [
            "\rtrain batch [15/41]: loss 0.2627021074295044"
          ],
          "name": "stdout"
        },
        {
          "output_type": "stream",
          "text": [
            "\r16it [03:41, 13.84s/it]"
          ],
          "name": "stderr"
        },
        {
          "output_type": "stream",
          "text": [
            "\rtrain batch [16/41]: loss 0.30808931589126587"
          ],
          "name": "stdout"
        },
        {
          "output_type": "stream",
          "text": [
            "\r17it [03:55, 13.83s/it]"
          ],
          "name": "stderr"
        },
        {
          "output_type": "stream",
          "text": [
            "\rtrain batch [17/41]: loss 0.3196357786655426"
          ],
          "name": "stdout"
        },
        {
          "output_type": "stream",
          "text": [
            "\r18it [04:09, 13.75s/it]"
          ],
          "name": "stderr"
        },
        {
          "output_type": "stream",
          "text": [
            "\rtrain batch [18/41]: loss 0.25371450185775757"
          ],
          "name": "stdout"
        },
        {
          "output_type": "stream",
          "text": [
            "\r19it [04:22, 13.70s/it]"
          ],
          "name": "stderr"
        },
        {
          "output_type": "stream",
          "text": [
            "\rtrain batch [19/41]: loss 0.3802800476551056"
          ],
          "name": "stdout"
        },
        {
          "output_type": "stream",
          "text": [
            "\r20it [04:36, 13.77s/it]"
          ],
          "name": "stderr"
        },
        {
          "output_type": "stream",
          "text": [
            "\rtrain batch [20/41]: loss 0.2926514148712158"
          ],
          "name": "stdout"
        },
        {
          "output_type": "stream",
          "text": [
            "\r21it [04:50, 13.75s/it]"
          ],
          "name": "stderr"
        },
        {
          "output_type": "stream",
          "text": [
            "\rtrain batch [21/41]: loss 0.333251416683197"
          ],
          "name": "stdout"
        },
        {
          "output_type": "stream",
          "text": [
            "\r22it [05:04, 13.78s/it]"
          ],
          "name": "stderr"
        },
        {
          "output_type": "stream",
          "text": [
            "\rtrain batch [22/41]: loss 0.2682715952396393"
          ],
          "name": "stdout"
        },
        {
          "output_type": "stream",
          "text": [
            "\r23it [05:17, 13.73s/it]"
          ],
          "name": "stderr"
        },
        {
          "output_type": "stream",
          "text": [
            "\rtrain batch [23/41]: loss 0.3156368136405945"
          ],
          "name": "stdout"
        },
        {
          "output_type": "stream",
          "text": [
            "\r24it [05:31, 13.70s/it]"
          ],
          "name": "stderr"
        },
        {
          "output_type": "stream",
          "text": [
            "\rtrain batch [24/41]: loss 0.45034992694854736"
          ],
          "name": "stdout"
        },
        {
          "output_type": "stream",
          "text": [
            "\r25it [05:45, 13.77s/it]"
          ],
          "name": "stderr"
        },
        {
          "output_type": "stream",
          "text": [
            "\rtrain batch [25/41]: loss 0.3844669759273529"
          ],
          "name": "stdout"
        },
        {
          "output_type": "stream",
          "text": [
            "\r26it [05:59, 13.84s/it]"
          ],
          "name": "stderr"
        },
        {
          "output_type": "stream",
          "text": [
            "\rtrain batch [26/41]: loss 0.2838946580886841"
          ],
          "name": "stdout"
        },
        {
          "output_type": "stream",
          "text": [
            "\r27it [06:13, 13.80s/it]"
          ],
          "name": "stderr"
        },
        {
          "output_type": "stream",
          "text": [
            "\rtrain batch [27/41]: loss 0.3390343487262726"
          ],
          "name": "stdout"
        },
        {
          "output_type": "stream",
          "text": [
            "\r28it [06:27, 13.85s/it]"
          ],
          "name": "stderr"
        },
        {
          "output_type": "stream",
          "text": [
            "\rtrain batch [28/41]: loss 0.2578929662704468"
          ],
          "name": "stdout"
        },
        {
          "output_type": "stream",
          "text": [
            "\r29it [06:40, 13.81s/it]"
          ],
          "name": "stderr"
        },
        {
          "output_type": "stream",
          "text": [
            "\rtrain batch [29/41]: loss 0.33077263832092285"
          ],
          "name": "stdout"
        },
        {
          "output_type": "stream",
          "text": [
            "\r30it [06:54, 13.81s/it]"
          ],
          "name": "stderr"
        },
        {
          "output_type": "stream",
          "text": [
            "\rtrain batch [30/41]: loss 0.28110000491142273"
          ],
          "name": "stdout"
        },
        {
          "output_type": "stream",
          "text": [
            "\r31it [07:08, 13.84s/it]"
          ],
          "name": "stderr"
        },
        {
          "output_type": "stream",
          "text": [
            "\rtrain batch [31/41]: loss 0.3614177107810974"
          ],
          "name": "stdout"
        },
        {
          "output_type": "stream",
          "text": [
            "\r32it [07:22, 13.82s/it]"
          ],
          "name": "stderr"
        },
        {
          "output_type": "stream",
          "text": [
            "\rtrain batch [32/41]: loss 0.2699512541294098"
          ],
          "name": "stdout"
        },
        {
          "output_type": "stream",
          "text": [
            "\r33it [07:36, 13.83s/it]"
          ],
          "name": "stderr"
        },
        {
          "output_type": "stream",
          "text": [
            "\rtrain batch [33/41]: loss 0.3624011278152466"
          ],
          "name": "stdout"
        },
        {
          "output_type": "stream",
          "text": [
            "\r34it [07:50, 13.87s/it]"
          ],
          "name": "stderr"
        },
        {
          "output_type": "stream",
          "text": [
            "\rtrain batch [34/41]: loss 0.3952491879463196"
          ],
          "name": "stdout"
        },
        {
          "output_type": "stream",
          "text": [
            "\r35it [08:04, 13.96s/it]"
          ],
          "name": "stderr"
        },
        {
          "output_type": "stream",
          "text": [
            "\rtrain batch [35/41]: loss 0.31016573309898376"
          ],
          "name": "stdout"
        },
        {
          "output_type": "stream",
          "text": [
            "\r36it [08:18, 13.90s/it]"
          ],
          "name": "stderr"
        },
        {
          "output_type": "stream",
          "text": [
            "\rtrain batch [36/41]: loss 0.43942999839782715"
          ],
          "name": "stdout"
        },
        {
          "output_type": "stream",
          "text": [
            "\r37it [08:32, 13.91s/it]"
          ],
          "name": "stderr"
        },
        {
          "output_type": "stream",
          "text": [
            "\rtrain batch [37/41]: loss 0.3137374222278595"
          ],
          "name": "stdout"
        },
        {
          "output_type": "stream",
          "text": [
            "\r38it [08:45, 13.87s/it]"
          ],
          "name": "stderr"
        },
        {
          "output_type": "stream",
          "text": [
            "\rtrain batch [38/41]: loss 0.38366684317588806"
          ],
          "name": "stdout"
        },
        {
          "output_type": "stream",
          "text": [
            "\r39it [08:59, 13.88s/it]"
          ],
          "name": "stderr"
        },
        {
          "output_type": "stream",
          "text": [
            "\rtrain batch [39/41]: loss 0.3230885863304138"
          ],
          "name": "stdout"
        },
        {
          "output_type": "stream",
          "text": [
            "\r40it [09:13, 13.86s/it]"
          ],
          "name": "stderr"
        },
        {
          "output_type": "stream",
          "text": [
            "\rtrain batch [40/41]: loss 0.2457706183195114"
          ],
          "name": "stdout"
        },
        {
          "output_type": "stream",
          "text": [
            "41it [09:24, 13.76s/it]"
          ],
          "name": "stderr"
        },
        {
          "output_type": "stream",
          "text": [
            "\rval batch [0/4]: loss 1.9215306043624878"
          ],
          "name": "stdout"
        },
        {
          "output_type": "stream",
          "text": [
            "\n"
          ],
          "name": "stderr"
        },
        {
          "output_type": "stream",
          "text": [
            "val batch [3/4]: loss 0.08769798278808594"
          ],
          "name": "stdout"
        },
        {
          "output_type": "stream",
          "text": [
            "\r0it [00:00, ?it/s]"
          ],
          "name": "stderr"
        },
        {
          "output_type": "stream",
          "text": [
            "\n",
            "Train loss: 0.3356560755793641, Train accuracy: 0.8234279155731201\n",
            "Val loss: 0.9344477467238903, Val accuracy: 0.5625\n",
            "\n",
            "=============== Epoch: 32\n",
            "train batch [0/41]: loss 0.30644935369491577"
          ],
          "name": "stdout"
        },
        {
          "output_type": "stream",
          "text": [
            "\r1it [00:13, 13.86s/it]"
          ],
          "name": "stderr"
        },
        {
          "output_type": "stream",
          "text": [
            "\rtrain batch [1/41]: loss 0.41510576009750366"
          ],
          "name": "stdout"
        },
        {
          "output_type": "stream",
          "text": [
            "\r2it [00:27, 13.94s/it]"
          ],
          "name": "stderr"
        },
        {
          "output_type": "stream",
          "text": [
            "\rtrain batch [2/41]: loss 0.31513142585754395"
          ],
          "name": "stdout"
        },
        {
          "output_type": "stream",
          "text": [
            "\r3it [00:41, 13.93s/it]"
          ],
          "name": "stderr"
        },
        {
          "output_type": "stream",
          "text": [
            "\rtrain batch [3/41]: loss 0.39745521545410156"
          ],
          "name": "stdout"
        },
        {
          "output_type": "stream",
          "text": [
            "\r4it [00:55, 13.91s/it]"
          ],
          "name": "stderr"
        },
        {
          "output_type": "stream",
          "text": [
            "\rtrain batch [4/41]: loss 0.24391451478004456"
          ],
          "name": "stdout"
        },
        {
          "output_type": "stream",
          "text": [
            "\r5it [01:09, 13.84s/it]"
          ],
          "name": "stderr"
        },
        {
          "output_type": "stream",
          "text": [
            "\rtrain batch [5/41]: loss 0.42327880859375"
          ],
          "name": "stdout"
        },
        {
          "output_type": "stream",
          "text": [
            "\r6it [01:23, 13.90s/it]"
          ],
          "name": "stderr"
        },
        {
          "output_type": "stream",
          "text": [
            "\rtrain batch [6/41]: loss 0.27811217308044434"
          ],
          "name": "stdout"
        },
        {
          "output_type": "stream",
          "text": [
            "\r7it [01:37, 13.84s/it]"
          ],
          "name": "stderr"
        },
        {
          "output_type": "stream",
          "text": [
            "\rtrain batch [7/41]: loss 0.3453403413295746"
          ],
          "name": "stdout"
        },
        {
          "output_type": "stream",
          "text": [
            "\r8it [01:51, 13.84s/it]"
          ],
          "name": "stderr"
        },
        {
          "output_type": "stream",
          "text": [
            "\rtrain batch [8/41]: loss 0.2855355143547058"
          ],
          "name": "stdout"
        },
        {
          "output_type": "stream",
          "text": [
            "\r9it [02:04, 13.78s/it]"
          ],
          "name": "stderr"
        },
        {
          "output_type": "stream",
          "text": [
            "\rtrain batch [9/41]: loss 0.3268222510814667"
          ],
          "name": "stdout"
        },
        {
          "output_type": "stream",
          "text": [
            "\r10it [02:18, 13.84s/it]"
          ],
          "name": "stderr"
        },
        {
          "output_type": "stream",
          "text": [
            "\rtrain batch [10/41]: loss 0.44143933057785034"
          ],
          "name": "stdout"
        },
        {
          "output_type": "stream",
          "text": [
            "\r11it [02:32, 13.87s/it]"
          ],
          "name": "stderr"
        },
        {
          "output_type": "stream",
          "text": [
            "\rtrain batch [11/41]: loss 0.26329049468040466"
          ],
          "name": "stdout"
        },
        {
          "output_type": "stream",
          "text": [
            "\r12it [02:46, 13.88s/it]"
          ],
          "name": "stderr"
        },
        {
          "output_type": "stream",
          "text": [
            "\rtrain batch [12/41]: loss 0.30097052454948425"
          ],
          "name": "stdout"
        },
        {
          "output_type": "stream",
          "text": [
            "\r13it [03:00, 13.85s/it]"
          ],
          "name": "stderr"
        },
        {
          "output_type": "stream",
          "text": [
            "\rtrain batch [13/41]: loss 0.30425721406936646"
          ],
          "name": "stdout"
        },
        {
          "output_type": "stream",
          "text": [
            "\r14it [03:14, 13.87s/it]"
          ],
          "name": "stderr"
        },
        {
          "output_type": "stream",
          "text": [
            "\rtrain batch [14/41]: loss 0.30321332812309265"
          ],
          "name": "stdout"
        },
        {
          "output_type": "stream",
          "text": [
            "\r15it [03:27, 13.84s/it]"
          ],
          "name": "stderr"
        },
        {
          "output_type": "stream",
          "text": [
            "\rtrain batch [15/41]: loss 0.23258337378501892"
          ],
          "name": "stdout"
        },
        {
          "output_type": "stream",
          "text": [
            "\r16it [03:41, 13.80s/it]"
          ],
          "name": "stderr"
        },
        {
          "output_type": "stream",
          "text": [
            "\rtrain batch [16/41]: loss 0.4107983410358429"
          ],
          "name": "stdout"
        },
        {
          "output_type": "stream",
          "text": [
            "\r17it [03:55, 13.85s/it]"
          ],
          "name": "stderr"
        },
        {
          "output_type": "stream",
          "text": [
            "\rtrain batch [17/41]: loss 0.3229566216468811"
          ],
          "name": "stdout"
        },
        {
          "output_type": "stream",
          "text": [
            "\r18it [04:09, 13.92s/it]"
          ],
          "name": "stderr"
        },
        {
          "output_type": "stream",
          "text": [
            "\rtrain batch [18/41]: loss 0.3127489984035492"
          ],
          "name": "stdout"
        },
        {
          "output_type": "stream",
          "text": [
            "\r19it [04:23, 13.86s/it]"
          ],
          "name": "stderr"
        },
        {
          "output_type": "stream",
          "text": [
            "\rtrain batch [19/41]: loss 0.4080824851989746"
          ],
          "name": "stdout"
        },
        {
          "output_type": "stream",
          "text": [
            "\r20it [04:37, 13.90s/it]"
          ],
          "name": "stderr"
        },
        {
          "output_type": "stream",
          "text": [
            "\rtrain batch [20/41]: loss 0.34392833709716797"
          ],
          "name": "stdout"
        },
        {
          "output_type": "stream",
          "text": [
            "\r21it [04:51, 13.86s/it]"
          ],
          "name": "stderr"
        },
        {
          "output_type": "stream",
          "text": [
            "\rtrain batch [21/41]: loss 0.3394014537334442"
          ],
          "name": "stdout"
        },
        {
          "output_type": "stream",
          "text": [
            "\r22it [05:04, 13.84s/it]"
          ],
          "name": "stderr"
        },
        {
          "output_type": "stream",
          "text": [
            "\rtrain batch [22/41]: loss 0.30207157135009766"
          ],
          "name": "stdout"
        },
        {
          "output_type": "stream",
          "text": [
            "\r23it [05:18, 13.84s/it]"
          ],
          "name": "stderr"
        },
        {
          "output_type": "stream",
          "text": [
            "\rtrain batch [23/41]: loss 0.3257104754447937"
          ],
          "name": "stdout"
        },
        {
          "output_type": "stream",
          "text": [
            "\r24it [05:32, 13.80s/it]"
          ],
          "name": "stderr"
        },
        {
          "output_type": "stream",
          "text": [
            "\rtrain batch [24/41]: loss 0.24164718389511108"
          ],
          "name": "stdout"
        },
        {
          "output_type": "stream",
          "text": [
            "\r25it [05:46, 13.78s/it]"
          ],
          "name": "stderr"
        },
        {
          "output_type": "stream",
          "text": [
            "\rtrain batch [25/41]: loss 0.3429575264453888"
          ],
          "name": "stdout"
        },
        {
          "output_type": "stream",
          "text": [
            "\r26it [06:00, 13.80s/it]"
          ],
          "name": "stderr"
        },
        {
          "output_type": "stream",
          "text": [
            "\rtrain batch [26/41]: loss 0.3494420051574707"
          ],
          "name": "stdout"
        },
        {
          "output_type": "stream",
          "text": [
            "\r27it [06:14, 13.86s/it]"
          ],
          "name": "stderr"
        },
        {
          "output_type": "stream",
          "text": [
            "\rtrain batch [27/41]: loss 0.29812586307525635"
          ],
          "name": "stdout"
        },
        {
          "output_type": "stream",
          "text": [
            "\r28it [06:27, 13.85s/it]"
          ],
          "name": "stderr"
        },
        {
          "output_type": "stream",
          "text": [
            "\rtrain batch [28/41]: loss 0.3414093852043152"
          ],
          "name": "stdout"
        },
        {
          "output_type": "stream",
          "text": [
            "\r29it [06:41, 13.83s/it]"
          ],
          "name": "stderr"
        },
        {
          "output_type": "stream",
          "text": [
            "\rtrain batch [29/41]: loss 0.26668354868888855"
          ],
          "name": "stdout"
        },
        {
          "output_type": "stream",
          "text": [
            "\r30it [06:55, 13.84s/it]"
          ],
          "name": "stderr"
        },
        {
          "output_type": "stream",
          "text": [
            "\rtrain batch [30/41]: loss 0.342049777507782"
          ],
          "name": "stdout"
        },
        {
          "output_type": "stream",
          "text": [
            "\r31it [07:09, 13.90s/it]"
          ],
          "name": "stderr"
        },
        {
          "output_type": "stream",
          "text": [
            "\rtrain batch [31/41]: loss 0.27023929357528687"
          ],
          "name": "stdout"
        },
        {
          "output_type": "stream",
          "text": [
            "\r32it [07:23, 13.87s/it]"
          ],
          "name": "stderr"
        },
        {
          "output_type": "stream",
          "text": [
            "\rtrain batch [32/41]: loss 0.2723434567451477"
          ],
          "name": "stdout"
        },
        {
          "output_type": "stream",
          "text": [
            "\r33it [07:37, 13.90s/it]"
          ],
          "name": "stderr"
        },
        {
          "output_type": "stream",
          "text": [
            "\rtrain batch [33/41]: loss 0.314243346452713"
          ],
          "name": "stdout"
        },
        {
          "output_type": "stream",
          "text": [
            "\r34it [07:51, 13.85s/it]"
          ],
          "name": "stderr"
        },
        {
          "output_type": "stream",
          "text": [
            "\rtrain batch [34/41]: loss 0.3698156476020813"
          ],
          "name": "stdout"
        },
        {
          "output_type": "stream",
          "text": [
            "\r35it [08:05, 13.89s/it]"
          ],
          "name": "stderr"
        },
        {
          "output_type": "stream",
          "text": [
            "\rtrain batch [35/41]: loss 0.33082184195518494"
          ],
          "name": "stdout"
        },
        {
          "output_type": "stream",
          "text": [
            "\r36it [08:19, 13.91s/it]"
          ],
          "name": "stderr"
        },
        {
          "output_type": "stream",
          "text": [
            "\rtrain batch [36/41]: loss 0.30314892530441284"
          ],
          "name": "stdout"
        },
        {
          "output_type": "stream",
          "text": [
            "\r37it [08:32, 13.83s/it]"
          ],
          "name": "stderr"
        },
        {
          "output_type": "stream",
          "text": [
            "\rtrain batch [37/41]: loss 0.29635682702064514"
          ],
          "name": "stdout"
        },
        {
          "output_type": "stream",
          "text": [
            "\r38it [08:46, 13.84s/it]"
          ],
          "name": "stderr"
        },
        {
          "output_type": "stream",
          "text": [
            "\rtrain batch [38/41]: loss 0.3303043246269226"
          ],
          "name": "stdout"
        },
        {
          "output_type": "stream",
          "text": [
            "\r39it [09:00, 13.83s/it]"
          ],
          "name": "stderr"
        },
        {
          "output_type": "stream",
          "text": [
            "\rtrain batch [39/41]: loss 0.33138519525527954"
          ],
          "name": "stdout"
        },
        {
          "output_type": "stream",
          "text": [
            "\r40it [09:14, 13.84s/it]"
          ],
          "name": "stderr"
        },
        {
          "output_type": "stream",
          "text": [
            "\rtrain batch [40/41]: loss 0.25401756167411804"
          ],
          "name": "stdout"
        },
        {
          "output_type": "stream",
          "text": [
            "41it [09:24, 13.77s/it]"
          ],
          "name": "stderr"
        },
        {
          "output_type": "stream",
          "text": [
            "\rval batch [0/4]: loss 0.9183089733123779"
          ],
          "name": "stdout"
        },
        {
          "output_type": "stream",
          "text": [
            "\n"
          ],
          "name": "stderr"
        },
        {
          "output_type": "stream",
          "text": [
            "val batch [3/4]: loss 0.2225976288318634\n",
            "Train loss: 0.3220387733564144, Train accuracy: 0.8473926186561584\n",
            "Val loss: 0.48918022960424423, Val accuracy: 0.75\n",
            "\n"
          ],
          "name": "stdout"
        },
        {
          "output_type": "stream",
          "text": [
            "\r0it [00:00, ?it/s]"
          ],
          "name": "stderr"
        },
        {
          "output_type": "stream",
          "text": [
            "=============== Epoch: 33\n",
            "train batch [0/41]: loss 0.2551950216293335"
          ],
          "name": "stdout"
        },
        {
          "output_type": "stream",
          "text": [
            "\r1it [00:13, 13.75s/it]"
          ],
          "name": "stderr"
        },
        {
          "output_type": "stream",
          "text": [
            "\rtrain batch [1/41]: loss 0.2798886299133301"
          ],
          "name": "stdout"
        },
        {
          "output_type": "stream",
          "text": [
            "\r2it [00:27, 13.74s/it]"
          ],
          "name": "stderr"
        },
        {
          "output_type": "stream",
          "text": [
            "\rtrain batch [2/41]: loss 0.3647853136062622"
          ],
          "name": "stdout"
        },
        {
          "output_type": "stream",
          "text": [
            "\r3it [00:41, 13.81s/it]"
          ],
          "name": "stderr"
        },
        {
          "output_type": "stream",
          "text": [
            "\rtrain batch [3/41]: loss 0.27040016651153564"
          ],
          "name": "stdout"
        },
        {
          "output_type": "stream",
          "text": [
            "\r4it [00:55, 13.76s/it]"
          ],
          "name": "stderr"
        },
        {
          "output_type": "stream",
          "text": [
            "\rtrain batch [4/41]: loss 0.3362005949020386"
          ],
          "name": "stdout"
        },
        {
          "output_type": "stream",
          "text": [
            "\r5it [01:08, 13.80s/it]"
          ],
          "name": "stderr"
        },
        {
          "output_type": "stream",
          "text": [
            "\rtrain batch [5/41]: loss 0.2970448136329651"
          ],
          "name": "stdout"
        },
        {
          "output_type": "stream",
          "text": [
            "\r6it [01:22, 13.83s/it]"
          ],
          "name": "stderr"
        },
        {
          "output_type": "stream",
          "text": [
            "\rtrain batch [6/41]: loss 0.30288538336753845"
          ],
          "name": "stdout"
        },
        {
          "output_type": "stream",
          "text": [
            "\r7it [01:36, 13.84s/it]"
          ],
          "name": "stderr"
        },
        {
          "output_type": "stream",
          "text": [
            "\rtrain batch [7/41]: loss 0.2828812003135681"
          ],
          "name": "stdout"
        },
        {
          "output_type": "stream",
          "text": [
            "\r8it [01:50, 13.86s/it]"
          ],
          "name": "stderr"
        },
        {
          "output_type": "stream",
          "text": [
            "\rtrain batch [8/41]: loss 0.2716669738292694"
          ],
          "name": "stdout"
        },
        {
          "output_type": "stream",
          "text": [
            "\r9it [02:04, 13.86s/it]"
          ],
          "name": "stderr"
        },
        {
          "output_type": "stream",
          "text": [
            "\rtrain batch [9/41]: loss 0.27915921807289124"
          ],
          "name": "stdout"
        },
        {
          "output_type": "stream",
          "text": [
            "\r10it [02:18, 13.81s/it]"
          ],
          "name": "stderr"
        },
        {
          "output_type": "stream",
          "text": [
            "\rtrain batch [10/41]: loss 0.31491249799728394"
          ],
          "name": "stdout"
        },
        {
          "output_type": "stream",
          "text": [
            "\r11it [02:32, 13.85s/it]"
          ],
          "name": "stderr"
        },
        {
          "output_type": "stream",
          "text": [
            "\rtrain batch [11/41]: loss 0.30553966760635376"
          ],
          "name": "stdout"
        },
        {
          "output_type": "stream",
          "text": [
            "\r12it [02:45, 13.80s/it]"
          ],
          "name": "stderr"
        },
        {
          "output_type": "stream",
          "text": [
            "\rtrain batch [12/41]: loss 0.3525063991546631"
          ],
          "name": "stdout"
        },
        {
          "output_type": "stream",
          "text": [
            "\r13it [02:59, 13.82s/it]"
          ],
          "name": "stderr"
        },
        {
          "output_type": "stream",
          "text": [
            "\rtrain batch [13/41]: loss 0.2743114233016968"
          ],
          "name": "stdout"
        },
        {
          "output_type": "stream",
          "text": [
            "\r14it [03:13, 13.82s/it]"
          ],
          "name": "stderr"
        },
        {
          "output_type": "stream",
          "text": [
            "\rtrain batch [14/41]: loss 0.2706948518753052"
          ],
          "name": "stdout"
        },
        {
          "output_type": "stream",
          "text": [
            "\r15it [03:27, 13.79s/it]"
          ],
          "name": "stderr"
        },
        {
          "output_type": "stream",
          "text": [
            "\rtrain batch [15/41]: loss 0.342391699552536"
          ],
          "name": "stdout"
        },
        {
          "output_type": "stream",
          "text": [
            "\r16it [03:41, 13.82s/it]"
          ],
          "name": "stderr"
        },
        {
          "output_type": "stream",
          "text": [
            "\rtrain batch [16/41]: loss 0.3271286189556122"
          ],
          "name": "stdout"
        },
        {
          "output_type": "stream",
          "text": [
            "\r17it [03:55, 13.85s/it]"
          ],
          "name": "stderr"
        },
        {
          "output_type": "stream",
          "text": [
            "\rtrain batch [17/41]: loss 0.290215402841568"
          ],
          "name": "stdout"
        },
        {
          "output_type": "stream",
          "text": [
            "\r18it [04:08, 13.80s/it]"
          ],
          "name": "stderr"
        },
        {
          "output_type": "stream",
          "text": [
            "\rtrain batch [18/41]: loss 0.3037869930267334"
          ],
          "name": "stdout"
        },
        {
          "output_type": "stream",
          "text": [
            "\r19it [04:22, 13.81s/it]"
          ],
          "name": "stderr"
        },
        {
          "output_type": "stream",
          "text": [
            "\rtrain batch [19/41]: loss 0.3531208634376526"
          ],
          "name": "stdout"
        },
        {
          "output_type": "stream",
          "text": [
            "\r20it [04:36, 13.89s/it]"
          ],
          "name": "stderr"
        },
        {
          "output_type": "stream",
          "text": [
            "\rtrain batch [20/41]: loss 0.32674717903137207"
          ],
          "name": "stdout"
        },
        {
          "output_type": "stream",
          "text": [
            "\r21it [04:50, 13.89s/it]"
          ],
          "name": "stderr"
        },
        {
          "output_type": "stream",
          "text": [
            "\rtrain batch [21/41]: loss 0.2867812216281891"
          ],
          "name": "stdout"
        },
        {
          "output_type": "stream",
          "text": [
            "\r22it [05:04, 13.85s/it]"
          ],
          "name": "stderr"
        },
        {
          "output_type": "stream",
          "text": [
            "\rtrain batch [22/41]: loss 0.3598070740699768"
          ],
          "name": "stdout"
        },
        {
          "output_type": "stream",
          "text": [
            "\r23it [05:18, 13.89s/it]"
          ],
          "name": "stderr"
        },
        {
          "output_type": "stream",
          "text": [
            "\rtrain batch [23/41]: loss 0.29515451192855835"
          ],
          "name": "stdout"
        },
        {
          "output_type": "stream",
          "text": [
            "\r24it [05:32, 13.90s/it]"
          ],
          "name": "stderr"
        },
        {
          "output_type": "stream",
          "text": [
            "\rtrain batch [24/41]: loss 0.34312790632247925"
          ],
          "name": "stdout"
        },
        {
          "output_type": "stream",
          "text": [
            "\r25it [05:45, 13.86s/it]"
          ],
          "name": "stderr"
        },
        {
          "output_type": "stream",
          "text": [
            "\rtrain batch [25/41]: loss 0.304007887840271"
          ],
          "name": "stdout"
        },
        {
          "output_type": "stream",
          "text": [
            "\r26it [05:59, 13.88s/it]"
          ],
          "name": "stderr"
        },
        {
          "output_type": "stream",
          "text": [
            "\rtrain batch [26/41]: loss 0.3115754723548889"
          ],
          "name": "stdout"
        },
        {
          "output_type": "stream",
          "text": [
            "\r27it [06:13, 13.86s/it]"
          ],
          "name": "stderr"
        },
        {
          "output_type": "stream",
          "text": [
            "\rtrain batch [27/41]: loss 0.3196764588356018"
          ],
          "name": "stdout"
        },
        {
          "output_type": "stream",
          "text": [
            "\r28it [06:27, 13.90s/it]"
          ],
          "name": "stderr"
        },
        {
          "output_type": "stream",
          "text": [
            "\rtrain batch [28/41]: loss 0.317910373210907"
          ],
          "name": "stdout"
        },
        {
          "output_type": "stream",
          "text": [
            "\r29it [06:41, 13.90s/it]"
          ],
          "name": "stderr"
        },
        {
          "output_type": "stream",
          "text": [
            "\rtrain batch [29/41]: loss 0.30127471685409546"
          ],
          "name": "stdout"
        },
        {
          "output_type": "stream",
          "text": [
            "\r30it [06:55, 13.89s/it]"
          ],
          "name": "stderr"
        },
        {
          "output_type": "stream",
          "text": [
            "\rtrain batch [30/41]: loss 0.24296703934669495"
          ],
          "name": "stdout"
        },
        {
          "output_type": "stream",
          "text": [
            "\r31it [07:09, 13.90s/it]"
          ],
          "name": "stderr"
        },
        {
          "output_type": "stream",
          "text": [
            "\rtrain batch [31/41]: loss 0.35648876428604126"
          ],
          "name": "stdout"
        },
        {
          "output_type": "stream",
          "text": [
            "\r32it [07:23, 13.90s/it]"
          ],
          "name": "stderr"
        },
        {
          "output_type": "stream",
          "text": [
            "\rtrain batch [32/41]: loss 0.3010891377925873"
          ],
          "name": "stdout"
        },
        {
          "output_type": "stream",
          "text": [
            "\r33it [07:37, 13.88s/it]"
          ],
          "name": "stderr"
        },
        {
          "output_type": "stream",
          "text": [
            "\rtrain batch [33/41]: loss 0.30019211769104004"
          ],
          "name": "stdout"
        },
        {
          "output_type": "stream",
          "text": [
            "\r34it [07:50, 13.84s/it]"
          ],
          "name": "stderr"
        },
        {
          "output_type": "stream",
          "text": [
            "\rtrain batch [34/41]: loss 0.3150002360343933"
          ],
          "name": "stdout"
        },
        {
          "output_type": "stream",
          "text": [
            "\r35it [08:04, 13.91s/it]"
          ],
          "name": "stderr"
        },
        {
          "output_type": "stream",
          "text": [
            "\rtrain batch [35/41]: loss 0.33212345838546753"
          ],
          "name": "stdout"
        },
        {
          "output_type": "stream",
          "text": [
            "\r36it [08:18, 13.88s/it]"
          ],
          "name": "stderr"
        },
        {
          "output_type": "stream",
          "text": [
            "\rtrain batch [36/41]: loss 0.30213356018066406"
          ],
          "name": "stdout"
        },
        {
          "output_type": "stream",
          "text": [
            "\r37it [08:32, 13.85s/it]"
          ],
          "name": "stderr"
        },
        {
          "output_type": "stream",
          "text": [
            "\rtrain batch [37/41]: loss 0.28773224353790283"
          ],
          "name": "stdout"
        },
        {
          "output_type": "stream",
          "text": [
            "\r38it [08:46, 13.83s/it]"
          ],
          "name": "stderr"
        },
        {
          "output_type": "stream",
          "text": [
            "\rtrain batch [38/41]: loss 0.26658350229263306"
          ],
          "name": "stdout"
        },
        {
          "output_type": "stream",
          "text": [
            "\r39it [09:00, 13.84s/it]"
          ],
          "name": "stderr"
        },
        {
          "output_type": "stream",
          "text": [
            "\rtrain batch [39/41]: loss 0.3501591384410858"
          ],
          "name": "stdout"
        },
        {
          "output_type": "stream",
          "text": [
            "\r40it [09:14, 13.84s/it]"
          ],
          "name": "stderr"
        },
        {
          "output_type": "stream",
          "text": [
            "\rtrain batch [40/41]: loss 0.3301246762275696"
          ],
          "name": "stdout"
        },
        {
          "output_type": "stream",
          "text": [
            "41it [09:24, 13.77s/it]"
          ],
          "name": "stderr"
        },
        {
          "output_type": "stream",
          "text": [
            "\rval batch [0/4]: loss 0.9471585750579834"
          ],
          "name": "stdout"
        },
        {
          "output_type": "stream",
          "text": [
            "\n"
          ],
          "name": "stderr"
        },
        {
          "output_type": "stream",
          "text": [
            "val batch [3/4]: loss 0.10903146862983704\n",
            "Train loss: 0.3079359167959632, Train accuracy: 0.870782196521759\n",
            "Val loss: 0.5824023708701134, Val accuracy: 0.625\n",
            "\n"
          ],
          "name": "stdout"
        },
        {
          "output_type": "stream",
          "text": [
            "\r0it [00:00, ?it/s]"
          ],
          "name": "stderr"
        },
        {
          "output_type": "stream",
          "text": [
            "=============== Epoch: 34\n",
            "train batch [0/41]: loss 0.34258830547332764"
          ],
          "name": "stdout"
        },
        {
          "output_type": "stream",
          "text": [
            "\r1it [00:13, 13.81s/it]"
          ],
          "name": "stderr"
        },
        {
          "output_type": "stream",
          "text": [
            "\rtrain batch [1/41]: loss 0.31006330251693726"
          ],
          "name": "stdout"
        },
        {
          "output_type": "stream",
          "text": [
            "\r2it [00:27, 13.86s/it]"
          ],
          "name": "stderr"
        },
        {
          "output_type": "stream",
          "text": [
            "\rtrain batch [2/41]: loss 0.28486040234565735"
          ],
          "name": "stdout"
        },
        {
          "output_type": "stream",
          "text": [
            "\r3it [00:41, 13.81s/it]"
          ],
          "name": "stderr"
        },
        {
          "output_type": "stream",
          "text": [
            "\rtrain batch [3/41]: loss 0.320860356092453"
          ],
          "name": "stdout"
        },
        {
          "output_type": "stream",
          "text": [
            "\r4it [00:55, 13.85s/it]"
          ],
          "name": "stderr"
        },
        {
          "output_type": "stream",
          "text": [
            "\rtrain batch [4/41]: loss 0.28664082288742065"
          ],
          "name": "stdout"
        },
        {
          "output_type": "stream",
          "text": [
            "\r5it [01:09, 13.82s/it]"
          ],
          "name": "stderr"
        },
        {
          "output_type": "stream",
          "text": [
            "\rtrain batch [5/41]: loss 0.30830004811286926"
          ],
          "name": "stdout"
        },
        {
          "output_type": "stream",
          "text": [
            "\r6it [01:23, 13.86s/it]"
          ],
          "name": "stderr"
        },
        {
          "output_type": "stream",
          "text": [
            "\rtrain batch [6/41]: loss 0.33117008209228516"
          ],
          "name": "stdout"
        },
        {
          "output_type": "stream",
          "text": [
            "\r7it [01:37, 13.93s/it]"
          ],
          "name": "stderr"
        },
        {
          "output_type": "stream",
          "text": [
            "\rtrain batch [7/41]: loss 0.27885550260543823"
          ],
          "name": "stdout"
        },
        {
          "output_type": "stream",
          "text": [
            "\r8it [01:50, 13.87s/it]"
          ],
          "name": "stderr"
        },
        {
          "output_type": "stream",
          "text": [
            "\rtrain batch [8/41]: loss 0.29689234495162964"
          ],
          "name": "stdout"
        },
        {
          "output_type": "stream",
          "text": [
            "\r9it [02:05, 13.94s/it]"
          ],
          "name": "stderr"
        },
        {
          "output_type": "stream",
          "text": [
            "\rtrain batch [9/41]: loss 0.39104485511779785"
          ],
          "name": "stdout"
        },
        {
          "output_type": "stream",
          "text": [
            "\r10it [02:19, 13.98s/it]"
          ],
          "name": "stderr"
        },
        {
          "output_type": "stream",
          "text": [
            "\rtrain batch [10/41]: loss 0.3389666676521301"
          ],
          "name": "stdout"
        },
        {
          "output_type": "stream",
          "text": [
            "\r11it [02:32, 13.95s/it]"
          ],
          "name": "stderr"
        },
        {
          "output_type": "stream",
          "text": [
            "\rtrain batch [11/41]: loss 0.31120720505714417"
          ],
          "name": "stdout"
        },
        {
          "output_type": "stream",
          "text": [
            "\r12it [02:46, 13.90s/it]"
          ],
          "name": "stderr"
        },
        {
          "output_type": "stream",
          "text": [
            "\rtrain batch [12/41]: loss 0.4254206418991089"
          ],
          "name": "stdout"
        },
        {
          "output_type": "stream",
          "text": [
            "\r13it [03:00, 13.96s/it]"
          ],
          "name": "stderr"
        },
        {
          "output_type": "stream",
          "text": [
            "\rtrain batch [13/41]: loss 0.27436378598213196"
          ],
          "name": "stdout"
        },
        {
          "output_type": "stream",
          "text": [
            "\r14it [03:14, 13.97s/it]"
          ],
          "name": "stderr"
        },
        {
          "output_type": "stream",
          "text": [
            "\rtrain batch [14/41]: loss 0.3414398431777954"
          ],
          "name": "stdout"
        },
        {
          "output_type": "stream",
          "text": [
            "\r15it [03:29, 14.02s/it]"
          ],
          "name": "stderr"
        },
        {
          "output_type": "stream",
          "text": [
            "\rtrain batch [15/41]: loss 0.2915423512458801"
          ],
          "name": "stdout"
        },
        {
          "output_type": "stream",
          "text": [
            "\r16it [03:42, 13.94s/it]"
          ],
          "name": "stderr"
        },
        {
          "output_type": "stream",
          "text": [
            "\rtrain batch [16/41]: loss 0.29395878314971924"
          ],
          "name": "stdout"
        },
        {
          "output_type": "stream",
          "text": [
            "\r17it [03:56, 13.88s/it]"
          ],
          "name": "stderr"
        },
        {
          "output_type": "stream",
          "text": [
            "\rtrain batch [17/41]: loss 0.2969464361667633"
          ],
          "name": "stdout"
        },
        {
          "output_type": "stream",
          "text": [
            "\r18it [04:10, 13.82s/it]"
          ],
          "name": "stderr"
        },
        {
          "output_type": "stream",
          "text": [
            "\rtrain batch [18/41]: loss 0.3016256093978882"
          ],
          "name": "stdout"
        },
        {
          "output_type": "stream",
          "text": [
            "\r19it [04:24, 13.87s/it]"
          ],
          "name": "stderr"
        },
        {
          "output_type": "stream",
          "text": [
            "\rtrain batch [19/41]: loss 0.3930211663246155"
          ],
          "name": "stdout"
        },
        {
          "output_type": "stream",
          "text": [
            "\r20it [04:38, 13.92s/it]"
          ],
          "name": "stderr"
        },
        {
          "output_type": "stream",
          "text": [
            "\rtrain batch [20/41]: loss 0.30756014585494995"
          ],
          "name": "stdout"
        },
        {
          "output_type": "stream",
          "text": [
            "\r21it [04:52, 13.90s/it]"
          ],
          "name": "stderr"
        },
        {
          "output_type": "stream",
          "text": [
            "\rtrain batch [21/41]: loss 0.36167043447494507"
          ],
          "name": "stdout"
        },
        {
          "output_type": "stream",
          "text": [
            "\r22it [05:06, 13.93s/it]"
          ],
          "name": "stderr"
        },
        {
          "output_type": "stream",
          "text": [
            "\rtrain batch [22/41]: loss 0.27899253368377686"
          ],
          "name": "stdout"
        },
        {
          "output_type": "stream",
          "text": [
            "\r23it [05:20, 13.98s/it]"
          ],
          "name": "stderr"
        },
        {
          "output_type": "stream",
          "text": [
            "\rtrain batch [23/41]: loss 0.2709609270095825"
          ],
          "name": "stdout"
        },
        {
          "output_type": "stream",
          "text": [
            "\r24it [05:33, 13.90s/it]"
          ],
          "name": "stderr"
        },
        {
          "output_type": "stream",
          "text": [
            "\rtrain batch [24/41]: loss 0.3293110132217407"
          ],
          "name": "stdout"
        },
        {
          "output_type": "stream",
          "text": [
            "\r25it [05:47, 13.88s/it]"
          ],
          "name": "stderr"
        },
        {
          "output_type": "stream",
          "text": [
            "\rtrain batch [25/41]: loss 0.2790149450302124"
          ],
          "name": "stdout"
        },
        {
          "output_type": "stream",
          "text": [
            "\r26it [06:01, 13.86s/it]"
          ],
          "name": "stderr"
        },
        {
          "output_type": "stream",
          "text": [
            "\rtrain batch [26/41]: loss 0.2455003261566162"
          ],
          "name": "stdout"
        },
        {
          "output_type": "stream",
          "text": [
            "\r27it [06:15, 13.81s/it]"
          ],
          "name": "stderr"
        },
        {
          "output_type": "stream",
          "text": [
            "\rtrain batch [27/41]: loss 0.26421308517456055"
          ],
          "name": "stdout"
        },
        {
          "output_type": "stream",
          "text": [
            "\r28it [06:29, 13.80s/it]"
          ],
          "name": "stderr"
        },
        {
          "output_type": "stream",
          "text": [
            "\rtrain batch [28/41]: loss 0.38443708419799805"
          ],
          "name": "stdout"
        },
        {
          "output_type": "stream",
          "text": [
            "\r29it [06:42, 13.84s/it]"
          ],
          "name": "stderr"
        },
        {
          "output_type": "stream",
          "text": [
            "\rtrain batch [29/41]: loss 0.32327964901924133"
          ],
          "name": "stdout"
        },
        {
          "output_type": "stream",
          "text": [
            "\r30it [06:56, 13.86s/it]"
          ],
          "name": "stderr"
        },
        {
          "output_type": "stream",
          "text": [
            "\rtrain batch [30/41]: loss 0.3215835392475128"
          ],
          "name": "stdout"
        },
        {
          "output_type": "stream",
          "text": [
            "\r31it [07:10, 13.90s/it]"
          ],
          "name": "stderr"
        },
        {
          "output_type": "stream",
          "text": [
            "\rtrain batch [31/41]: loss 0.3041028380393982"
          ],
          "name": "stdout"
        },
        {
          "output_type": "stream",
          "text": [
            "\r32it [07:24, 13.92s/it]"
          ],
          "name": "stderr"
        },
        {
          "output_type": "stream",
          "text": [
            "\rtrain batch [32/41]: loss 0.31395357847213745"
          ],
          "name": "stdout"
        },
        {
          "output_type": "stream",
          "text": [
            "\r33it [07:38, 13.90s/it]"
          ],
          "name": "stderr"
        },
        {
          "output_type": "stream",
          "text": [
            "\rtrain batch [33/41]: loss 0.28412002325057983"
          ],
          "name": "stdout"
        },
        {
          "output_type": "stream",
          "text": [
            "\r34it [07:52, 13.92s/it]"
          ],
          "name": "stderr"
        },
        {
          "output_type": "stream",
          "text": [
            "\rtrain batch [34/41]: loss 0.3955436944961548"
          ],
          "name": "stdout"
        },
        {
          "output_type": "stream",
          "text": [
            "\r35it [08:06, 13.97s/it]"
          ],
          "name": "stderr"
        },
        {
          "output_type": "stream",
          "text": [
            "\rtrain batch [35/41]: loss 0.2986275255680084"
          ],
          "name": "stdout"
        },
        {
          "output_type": "stream",
          "text": [
            "\r36it [08:20, 13.94s/it]"
          ],
          "name": "stderr"
        },
        {
          "output_type": "stream",
          "text": [
            "\rtrain batch [36/41]: loss 0.3159627616405487"
          ],
          "name": "stdout"
        },
        {
          "output_type": "stream",
          "text": [
            "\r37it [08:34, 13.95s/it]"
          ],
          "name": "stderr"
        },
        {
          "output_type": "stream",
          "text": [
            "\rtrain batch [37/41]: loss 0.32987654209136963"
          ],
          "name": "stdout"
        },
        {
          "output_type": "stream",
          "text": [
            "\r38it [08:48, 13.93s/it]"
          ],
          "name": "stderr"
        },
        {
          "output_type": "stream",
          "text": [
            "\rtrain batch [38/41]: loss 0.24936890602111816"
          ],
          "name": "stdout"
        },
        {
          "output_type": "stream",
          "text": [
            "\r39it [09:02, 13.95s/it]"
          ],
          "name": "stderr"
        },
        {
          "output_type": "stream",
          "text": [
            "\rtrain batch [39/41]: loss 0.3063432574272156"
          ],
          "name": "stdout"
        },
        {
          "output_type": "stream",
          "text": [
            "\r40it [09:16, 13.88s/it]"
          ],
          "name": "stderr"
        },
        {
          "output_type": "stream",
          "text": [
            "\rtrain batch [40/41]: loss 0.2977883517742157"
          ],
          "name": "stdout"
        },
        {
          "output_type": "stream",
          "text": [
            "41it [09:26, 13.82s/it]"
          ],
          "name": "stderr"
        },
        {
          "output_type": "stream",
          "text": [
            "\rval batch [0/4]: loss 1.6250419616699219"
          ],
          "name": "stdout"
        },
        {
          "output_type": "stream",
          "text": [
            "\n"
          ],
          "name": "stderr"
        },
        {
          "output_type": "stream",
          "text": [
            "val batch [3/4]: loss 0.07638565450906754"
          ],
          "name": "stdout"
        },
        {
          "output_type": "stream",
          "text": [
            "\r0it [00:00, ?it/s]"
          ],
          "name": "stderr"
        },
        {
          "output_type": "stream",
          "text": [
            "\n",
            "Train loss: 0.314194620745938, Train accuracy: 0.8588956594467163\n",
            "Val loss: 0.6187042742967606, Val accuracy: 0.625\n",
            "\n",
            "=============== Epoch: 35\n",
            "train batch [0/41]: loss 0.3305306136608124"
          ],
          "name": "stdout"
        },
        {
          "output_type": "stream",
          "text": [
            "\r1it [00:13, 13.85s/it]"
          ],
          "name": "stderr"
        },
        {
          "output_type": "stream",
          "text": [
            "\rtrain batch [1/41]: loss 0.33152180910110474"
          ],
          "name": "stdout"
        },
        {
          "output_type": "stream",
          "text": [
            "\r2it [00:27, 13.87s/it]"
          ],
          "name": "stderr"
        },
        {
          "output_type": "stream",
          "text": [
            "\rtrain batch [2/41]: loss 0.2930537760257721"
          ],
          "name": "stdout"
        },
        {
          "output_type": "stream",
          "text": [
            "\r3it [00:41, 13.83s/it]"
          ],
          "name": "stderr"
        },
        {
          "output_type": "stream",
          "text": [
            "\rtrain batch [3/41]: loss 0.27865928411483765"
          ],
          "name": "stdout"
        },
        {
          "output_type": "stream",
          "text": [
            "\r4it [00:55, 13.79s/it]"
          ],
          "name": "stderr"
        },
        {
          "output_type": "stream",
          "text": [
            "\rtrain batch [4/41]: loss 0.35284966230392456"
          ],
          "name": "stdout"
        },
        {
          "output_type": "stream",
          "text": [
            "\r5it [01:09, 13.81s/it]"
          ],
          "name": "stderr"
        },
        {
          "output_type": "stream",
          "text": [
            "\rtrain batch [5/41]: loss 0.3151547908782959"
          ],
          "name": "stdout"
        },
        {
          "output_type": "stream",
          "text": [
            "\r6it [01:23, 13.89s/it]"
          ],
          "name": "stderr"
        },
        {
          "output_type": "stream",
          "text": [
            "\rtrain batch [6/41]: loss 0.3227041959762573"
          ],
          "name": "stdout"
        },
        {
          "output_type": "stream",
          "text": [
            "\r7it [01:37, 13.91s/it]"
          ],
          "name": "stderr"
        },
        {
          "output_type": "stream",
          "text": [
            "\rtrain batch [7/41]: loss 0.3096010684967041"
          ],
          "name": "stdout"
        },
        {
          "output_type": "stream",
          "text": [
            "\r8it [01:50, 13.88s/it]"
          ],
          "name": "stderr"
        },
        {
          "output_type": "stream",
          "text": [
            "\rtrain batch [8/41]: loss 0.3211536705493927"
          ],
          "name": "stdout"
        },
        {
          "output_type": "stream",
          "text": [
            "\r9it [02:04, 13.83s/it]"
          ],
          "name": "stderr"
        },
        {
          "output_type": "stream",
          "text": [
            "\rtrain batch [9/41]: loss 0.3162085711956024"
          ],
          "name": "stdout"
        },
        {
          "output_type": "stream",
          "text": [
            "\r10it [02:18, 13.85s/it]"
          ],
          "name": "stderr"
        },
        {
          "output_type": "stream",
          "text": [
            "\rtrain batch [10/41]: loss 0.2505987882614136"
          ],
          "name": "stdout"
        },
        {
          "output_type": "stream",
          "text": [
            "\r11it [02:32, 13.81s/it]"
          ],
          "name": "stderr"
        },
        {
          "output_type": "stream",
          "text": [
            "\rtrain batch [11/41]: loss 0.3779129981994629"
          ],
          "name": "stdout"
        },
        {
          "output_type": "stream",
          "text": [
            "\r12it [02:46, 13.89s/it]"
          ],
          "name": "stderr"
        },
        {
          "output_type": "stream",
          "text": [
            "\rtrain batch [12/41]: loss 0.32496631145477295"
          ],
          "name": "stdout"
        },
        {
          "output_type": "stream",
          "text": [
            "\r13it [03:00, 13.91s/it]"
          ],
          "name": "stderr"
        },
        {
          "output_type": "stream",
          "text": [
            "\rtrain batch [13/41]: loss 0.35454970598220825"
          ],
          "name": "stdout"
        },
        {
          "output_type": "stream",
          "text": [
            "\r14it [03:14, 13.95s/it]"
          ],
          "name": "stderr"
        },
        {
          "output_type": "stream",
          "text": [
            "\rtrain batch [14/41]: loss 0.3098387122154236"
          ],
          "name": "stdout"
        },
        {
          "output_type": "stream",
          "text": [
            "\r15it [03:28, 13.90s/it]"
          ],
          "name": "stderr"
        },
        {
          "output_type": "stream",
          "text": [
            "\rtrain batch [15/41]: loss 0.3942999243736267"
          ],
          "name": "stdout"
        },
        {
          "output_type": "stream",
          "text": [
            "\r16it [03:42, 13.91s/it]"
          ],
          "name": "stderr"
        },
        {
          "output_type": "stream",
          "text": [
            "\rtrain batch [16/41]: loss 0.36324387788772583"
          ],
          "name": "stdout"
        },
        {
          "output_type": "stream",
          "text": [
            "\r17it [03:56, 13.98s/it]"
          ],
          "name": "stderr"
        },
        {
          "output_type": "stream",
          "text": [
            "\rtrain batch [17/41]: loss 0.34021633863449097"
          ],
          "name": "stdout"
        },
        {
          "output_type": "stream",
          "text": [
            "\r18it [04:10, 13.98s/it]"
          ],
          "name": "stderr"
        },
        {
          "output_type": "stream",
          "text": [
            "\rtrain batch [18/41]: loss 0.3813064396381378"
          ],
          "name": "stdout"
        },
        {
          "output_type": "stream",
          "text": [
            "\r19it [04:24, 13.96s/it]"
          ],
          "name": "stderr"
        },
        {
          "output_type": "stream",
          "text": [
            "\rtrain batch [19/41]: loss 0.3033434748649597"
          ],
          "name": "stdout"
        },
        {
          "output_type": "stream",
          "text": [
            "\r20it [04:38, 13.96s/it]"
          ],
          "name": "stderr"
        },
        {
          "output_type": "stream",
          "text": [
            "\rtrain batch [20/41]: loss 0.3790801763534546"
          ],
          "name": "stdout"
        },
        {
          "output_type": "stream",
          "text": [
            "\r21it [04:52, 13.99s/it]"
          ],
          "name": "stderr"
        },
        {
          "output_type": "stream",
          "text": [
            "\rtrain batch [21/41]: loss 0.27059006690979004"
          ],
          "name": "stdout"
        },
        {
          "output_type": "stream",
          "text": [
            "\r22it [05:05, 13.89s/it]"
          ],
          "name": "stderr"
        },
        {
          "output_type": "stream",
          "text": [
            "\rtrain batch [22/41]: loss 0.3651903569698334"
          ],
          "name": "stdout"
        },
        {
          "output_type": "stream",
          "text": [
            "\r23it [05:19, 13.96s/it]"
          ],
          "name": "stderr"
        },
        {
          "output_type": "stream",
          "text": [
            "\rtrain batch [23/41]: loss 0.29428547620773315"
          ],
          "name": "stdout"
        },
        {
          "output_type": "stream",
          "text": [
            "\r24it [05:33, 13.96s/it]"
          ],
          "name": "stderr"
        },
        {
          "output_type": "stream",
          "text": [
            "\rtrain batch [24/41]: loss 0.3606681525707245"
          ],
          "name": "stdout"
        },
        {
          "output_type": "stream",
          "text": [
            "\r25it [05:47, 13.96s/it]"
          ],
          "name": "stderr"
        },
        {
          "output_type": "stream",
          "text": [
            "\rtrain batch [25/41]: loss 0.3366759121417999"
          ],
          "name": "stdout"
        },
        {
          "output_type": "stream",
          "text": [
            "\r26it [06:01, 13.94s/it]"
          ],
          "name": "stderr"
        },
        {
          "output_type": "stream",
          "text": [
            "\rtrain batch [26/41]: loss 0.3209330141544342"
          ],
          "name": "stdout"
        },
        {
          "output_type": "stream",
          "text": [
            "\r27it [06:15, 13.92s/it]"
          ],
          "name": "stderr"
        },
        {
          "output_type": "stream",
          "text": [
            "\rtrain batch [27/41]: loss 0.23352555930614471"
          ],
          "name": "stdout"
        },
        {
          "output_type": "stream",
          "text": [
            "\r28it [06:29, 13.92s/it]"
          ],
          "name": "stderr"
        },
        {
          "output_type": "stream",
          "text": [
            "\rtrain batch [28/41]: loss 0.3973923325538635"
          ],
          "name": "stdout"
        },
        {
          "output_type": "stream",
          "text": [
            "\r29it [06:43, 13.98s/it]"
          ],
          "name": "stderr"
        },
        {
          "output_type": "stream",
          "text": [
            "\rtrain batch [29/41]: loss 0.3325910270214081"
          ],
          "name": "stdout"
        },
        {
          "output_type": "stream",
          "text": [
            "\r30it [06:57, 13.95s/it]"
          ],
          "name": "stderr"
        },
        {
          "output_type": "stream",
          "text": [
            "\rtrain batch [30/41]: loss 0.22032742202281952"
          ],
          "name": "stdout"
        },
        {
          "output_type": "stream",
          "text": [
            "\r31it [07:11, 13.89s/it]"
          ],
          "name": "stderr"
        },
        {
          "output_type": "stream",
          "text": [
            "\rtrain batch [31/41]: loss 0.3292272090911865"
          ],
          "name": "stdout"
        },
        {
          "output_type": "stream",
          "text": [
            "\r32it [07:25, 13.89s/it]"
          ],
          "name": "stderr"
        },
        {
          "output_type": "stream",
          "text": [
            "\rtrain batch [32/41]: loss 0.4420948624610901"
          ],
          "name": "stdout"
        },
        {
          "output_type": "stream",
          "text": [
            "\r33it [07:39, 13.91s/it]"
          ],
          "name": "stderr"
        },
        {
          "output_type": "stream",
          "text": [
            "\rtrain batch [33/41]: loss 0.34227627515792847"
          ],
          "name": "stdout"
        },
        {
          "output_type": "stream",
          "text": [
            "\r34it [07:53, 13.93s/it]"
          ],
          "name": "stderr"
        },
        {
          "output_type": "stream",
          "text": [
            "\rtrain batch [34/41]: loss 0.33196374773979187"
          ],
          "name": "stdout"
        },
        {
          "output_type": "stream",
          "text": [
            "\r35it [08:06, 13.93s/it]"
          ],
          "name": "stderr"
        },
        {
          "output_type": "stream",
          "text": [
            "\rtrain batch [35/41]: loss 0.3385468125343323"
          ],
          "name": "stdout"
        },
        {
          "output_type": "stream",
          "text": [
            "\r36it [08:20, 13.90s/it]"
          ],
          "name": "stderr"
        },
        {
          "output_type": "stream",
          "text": [
            "\rtrain batch [36/41]: loss 0.37642592191696167"
          ],
          "name": "stdout"
        },
        {
          "output_type": "stream",
          "text": [
            "\r37it [08:34, 13.92s/it]"
          ],
          "name": "stderr"
        },
        {
          "output_type": "stream",
          "text": [
            "\rtrain batch [37/41]: loss 0.24207980930805206"
          ],
          "name": "stdout"
        },
        {
          "output_type": "stream",
          "text": [
            "\r38it [08:48, 13.81s/it]"
          ],
          "name": "stderr"
        },
        {
          "output_type": "stream",
          "text": [
            "\rtrain batch [38/41]: loss 0.3652876913547516"
          ],
          "name": "stdout"
        },
        {
          "output_type": "stream",
          "text": [
            "\r39it [09:02, 13.82s/it]"
          ],
          "name": "stderr"
        },
        {
          "output_type": "stream",
          "text": [
            "\rtrain batch [39/41]: loss 0.3156690299510956"
          ],
          "name": "stdout"
        },
        {
          "output_type": "stream",
          "text": [
            "\r40it [09:15, 13.81s/it]"
          ],
          "name": "stderr"
        },
        {
          "output_type": "stream",
          "text": [
            "\rtrain batch [40/41]: loss 0.2724981904029846"
          ],
          "name": "stdout"
        },
        {
          "output_type": "stream",
          "text": [
            "41it [09:26, 13.81s/it]"
          ],
          "name": "stderr"
        },
        {
          "output_type": "stream",
          "text": [
            "\rval batch [0/4]: loss 2.240893840789795"
          ],
          "name": "stdout"
        },
        {
          "output_type": "stream",
          "text": [
            "\n"
          ],
          "name": "stderr"
        },
        {
          "output_type": "stream",
          "text": [
            "val batch [3/4]: loss 0.04889896512031555"
          ],
          "name": "stdout"
        },
        {
          "output_type": "stream",
          "text": [
            "\r0it [00:00, ?it/s]"
          ],
          "name": "stderr"
        },
        {
          "output_type": "stream",
          "text": [
            "\n",
            "Train loss: 0.327781534776455, Train accuracy: 0.8387653231620789\n",
            "Val loss: 0.9498436041176319, Val accuracy: 0.5625\n",
            "\n",
            "=============== Epoch: 36\n",
            "train batch [0/41]: loss 0.3978722095489502"
          ],
          "name": "stdout"
        },
        {
          "output_type": "stream",
          "text": [
            "\r1it [00:13, 13.96s/it]"
          ],
          "name": "stderr"
        },
        {
          "output_type": "stream",
          "text": [
            "\rtrain batch [1/41]: loss 0.36301952600479126"
          ],
          "name": "stdout"
        },
        {
          "output_type": "stream",
          "text": [
            "\r2it [00:27, 13.93s/it]"
          ],
          "name": "stderr"
        },
        {
          "output_type": "stream",
          "text": [
            "\rtrain batch [2/41]: loss 0.4680856168270111"
          ],
          "name": "stdout"
        },
        {
          "output_type": "stream",
          "text": [
            "\r3it [00:41, 13.93s/it]"
          ],
          "name": "stderr"
        },
        {
          "output_type": "stream",
          "text": [
            "\rtrain batch [3/41]: loss 0.3189891278743744"
          ],
          "name": "stdout"
        },
        {
          "output_type": "stream",
          "text": [
            "\r4it [00:55, 13.90s/it]"
          ],
          "name": "stderr"
        },
        {
          "output_type": "stream",
          "text": [
            "\rtrain batch [4/41]: loss 0.3495064675807953"
          ],
          "name": "stdout"
        },
        {
          "output_type": "stream",
          "text": [
            "\r5it [01:09, 13.87s/it]"
          ],
          "name": "stderr"
        },
        {
          "output_type": "stream",
          "text": [
            "\rtrain batch [5/41]: loss 0.3682495355606079"
          ],
          "name": "stdout"
        },
        {
          "output_type": "stream",
          "text": [
            "\r6it [01:23, 13.96s/it]"
          ],
          "name": "stderr"
        },
        {
          "output_type": "stream",
          "text": [
            "\rtrain batch [6/41]: loss 0.26669973134994507"
          ],
          "name": "stdout"
        },
        {
          "output_type": "stream",
          "text": [
            "\r7it [01:37, 13.94s/it]"
          ],
          "name": "stderr"
        },
        {
          "output_type": "stream",
          "text": [
            "\rtrain batch [7/41]: loss 0.32806435227394104"
          ],
          "name": "stdout"
        },
        {
          "output_type": "stream",
          "text": [
            "\r8it [01:51, 13.99s/it]"
          ],
          "name": "stderr"
        },
        {
          "output_type": "stream",
          "text": [
            "\rtrain batch [8/41]: loss 0.27390414476394653"
          ],
          "name": "stdout"
        },
        {
          "output_type": "stream",
          "text": [
            "\r9it [02:05, 13.94s/it]"
          ],
          "name": "stderr"
        },
        {
          "output_type": "stream",
          "text": [
            "\rtrain batch [9/41]: loss 0.38958898186683655"
          ],
          "name": "stdout"
        },
        {
          "output_type": "stream",
          "text": [
            "\r10it [02:19, 13.92s/it]"
          ],
          "name": "stderr"
        },
        {
          "output_type": "stream",
          "text": [
            "\rtrain batch [10/41]: loss 0.3952683210372925"
          ],
          "name": "stdout"
        },
        {
          "output_type": "stream",
          "text": [
            "\r11it [02:33, 13.91s/it]"
          ],
          "name": "stderr"
        },
        {
          "output_type": "stream",
          "text": [
            "\rtrain batch [11/41]: loss 0.3310203552246094"
          ],
          "name": "stdout"
        },
        {
          "output_type": "stream",
          "text": [
            "\r12it [02:46, 13.89s/it]"
          ],
          "name": "stderr"
        },
        {
          "output_type": "stream",
          "text": [
            "\rtrain batch [12/41]: loss 0.3091024160385132"
          ],
          "name": "stdout"
        },
        {
          "output_type": "stream",
          "text": [
            "\r13it [03:00, 13.86s/it]"
          ],
          "name": "stderr"
        },
        {
          "output_type": "stream",
          "text": [
            "\rtrain batch [13/41]: loss 0.4065804183483124"
          ],
          "name": "stdout"
        },
        {
          "output_type": "stream",
          "text": [
            "\r14it [03:14, 13.88s/it]"
          ],
          "name": "stderr"
        },
        {
          "output_type": "stream",
          "text": [
            "\rtrain batch [14/41]: loss 0.2797130346298218"
          ],
          "name": "stdout"
        },
        {
          "output_type": "stream",
          "text": [
            "\r15it [03:28, 13.81s/it]"
          ],
          "name": "stderr"
        },
        {
          "output_type": "stream",
          "text": [
            "\rtrain batch [15/41]: loss 0.3047908544540405"
          ],
          "name": "stdout"
        },
        {
          "output_type": "stream",
          "text": [
            "\r16it [03:42, 13.83s/it]"
          ],
          "name": "stderr"
        },
        {
          "output_type": "stream",
          "text": [
            "\rtrain batch [16/41]: loss 0.501971423625946"
          ],
          "name": "stdout"
        },
        {
          "output_type": "stream",
          "text": [
            "\r17it [03:56, 13.84s/it]"
          ],
          "name": "stderr"
        },
        {
          "output_type": "stream",
          "text": [
            "\rtrain batch [17/41]: loss 0.35717442631721497"
          ],
          "name": "stdout"
        },
        {
          "output_type": "stream",
          "text": [
            "\r18it [04:10, 13.89s/it]"
          ],
          "name": "stderr"
        },
        {
          "output_type": "stream",
          "text": [
            "\rtrain batch [18/41]: loss 0.38685065507888794"
          ],
          "name": "stdout"
        },
        {
          "output_type": "stream",
          "text": [
            "\r19it [04:23, 13.89s/it]"
          ],
          "name": "stderr"
        },
        {
          "output_type": "stream",
          "text": [
            "\rtrain batch [19/41]: loss 0.38821160793304443"
          ],
          "name": "stdout"
        },
        {
          "output_type": "stream",
          "text": [
            "\r20it [04:37, 13.91s/it]"
          ],
          "name": "stderr"
        },
        {
          "output_type": "stream",
          "text": [
            "\rtrain batch [20/41]: loss 0.3871000409126282"
          ],
          "name": "stdout"
        },
        {
          "output_type": "stream",
          "text": [
            "\r21it [04:51, 13.92s/it]"
          ],
          "name": "stderr"
        },
        {
          "output_type": "stream",
          "text": [
            "\rtrain batch [21/41]: loss 0.28869694471359253"
          ],
          "name": "stdout"
        },
        {
          "output_type": "stream",
          "text": [
            "\r22it [05:05, 13.82s/it]"
          ],
          "name": "stderr"
        },
        {
          "output_type": "stream",
          "text": [
            "\rtrain batch [22/41]: loss 0.3388967216014862"
          ],
          "name": "stdout"
        },
        {
          "output_type": "stream",
          "text": [
            "\r23it [05:19, 13.87s/it]"
          ],
          "name": "stderr"
        },
        {
          "output_type": "stream",
          "text": [
            "\rtrain batch [23/41]: loss 0.3741415739059448"
          ],
          "name": "stdout"
        },
        {
          "output_type": "stream",
          "text": [
            "\r24it [05:33, 13.89s/it]"
          ],
          "name": "stderr"
        },
        {
          "output_type": "stream",
          "text": [
            "\rtrain batch [24/41]: loss 0.3971577286720276"
          ],
          "name": "stdout"
        },
        {
          "output_type": "stream",
          "text": [
            "\r25it [05:47, 13.91s/it]"
          ],
          "name": "stderr"
        },
        {
          "output_type": "stream",
          "text": [
            "\rtrain batch [25/41]: loss 0.3424803614616394"
          ],
          "name": "stdout"
        },
        {
          "output_type": "stream",
          "text": [
            "\r26it [06:01, 13.86s/it]"
          ],
          "name": "stderr"
        },
        {
          "output_type": "stream",
          "text": [
            "\rtrain batch [26/41]: loss 0.39526352286338806"
          ],
          "name": "stdout"
        },
        {
          "output_type": "stream",
          "text": [
            "\r27it [06:14, 13.84s/it]"
          ],
          "name": "stderr"
        },
        {
          "output_type": "stream",
          "text": [
            "\rtrain batch [27/41]: loss 0.4016694724559784"
          ],
          "name": "stdout"
        },
        {
          "output_type": "stream",
          "text": [
            "\r28it [06:28, 13.87s/it]"
          ],
          "name": "stderr"
        },
        {
          "output_type": "stream",
          "text": [
            "\rtrain batch [28/41]: loss 0.3610727787017822"
          ],
          "name": "stdout"
        },
        {
          "output_type": "stream",
          "text": [
            "\r29it [06:42, 13.88s/it]"
          ],
          "name": "stderr"
        },
        {
          "output_type": "stream",
          "text": [
            "\rtrain batch [29/41]: loss 0.4225127696990967"
          ],
          "name": "stdout"
        },
        {
          "output_type": "stream",
          "text": [
            "\r30it [06:56, 13.90s/it]"
          ],
          "name": "stderr"
        },
        {
          "output_type": "stream",
          "text": [
            "\rtrain batch [30/41]: loss 0.4183741807937622"
          ],
          "name": "stdout"
        },
        {
          "output_type": "stream",
          "text": [
            "\r31it [07:10, 13.91s/it]"
          ],
          "name": "stderr"
        },
        {
          "output_type": "stream",
          "text": [
            "\rtrain batch [31/41]: loss 0.2938380241394043"
          ],
          "name": "stdout"
        },
        {
          "output_type": "stream",
          "text": [
            "\r32it [07:24, 13.91s/it]"
          ],
          "name": "stderr"
        },
        {
          "output_type": "stream",
          "text": [
            "\rtrain batch [32/41]: loss 0.26914775371551514"
          ],
          "name": "stdout"
        },
        {
          "output_type": "stream",
          "text": [
            "\r33it [07:38, 13.82s/it]"
          ],
          "name": "stderr"
        },
        {
          "output_type": "stream",
          "text": [
            "\rtrain batch [33/41]: loss 0.3847804665565491"
          ],
          "name": "stdout"
        },
        {
          "output_type": "stream",
          "text": [
            "\r34it [07:52, 13.84s/it]"
          ],
          "name": "stderr"
        },
        {
          "output_type": "stream",
          "text": [
            "\rtrain batch [34/41]: loss 0.35607725381851196"
          ],
          "name": "stdout"
        },
        {
          "output_type": "stream",
          "text": [
            "\r35it [08:06, 13.93s/it]"
          ],
          "name": "stderr"
        },
        {
          "output_type": "stream",
          "text": [
            "\rtrain batch [35/41]: loss 0.46305394172668457"
          ],
          "name": "stdout"
        },
        {
          "output_type": "stream",
          "text": [
            "\r36it [08:20, 14.01s/it]"
          ],
          "name": "stderr"
        },
        {
          "output_type": "stream",
          "text": [
            "\rtrain batch [36/41]: loss 0.38384711742401123"
          ],
          "name": "stdout"
        },
        {
          "output_type": "stream",
          "text": [
            "\r37it [08:34, 14.04s/it]"
          ],
          "name": "stderr"
        },
        {
          "output_type": "stream",
          "text": [
            "\rtrain batch [37/41]: loss 0.29218801856040955"
          ],
          "name": "stdout"
        },
        {
          "output_type": "stream",
          "text": [
            "\r38it [08:48, 13.97s/it]"
          ],
          "name": "stderr"
        },
        {
          "output_type": "stream",
          "text": [
            "\rtrain batch [38/41]: loss 0.4174633026123047"
          ],
          "name": "stdout"
        },
        {
          "output_type": "stream",
          "text": [
            "\r39it [09:02, 14.00s/it]"
          ],
          "name": "stderr"
        },
        {
          "output_type": "stream",
          "text": [
            "\rtrain batch [39/41]: loss 0.3228328227996826"
          ],
          "name": "stdout"
        },
        {
          "output_type": "stream",
          "text": [
            "\r40it [09:16, 13.94s/it]"
          ],
          "name": "stderr"
        },
        {
          "output_type": "stream",
          "text": [
            "\rtrain batch [40/41]: loss 0.4412660002708435"
          ],
          "name": "stdout"
        },
        {
          "output_type": "stream",
          "text": [
            "41it [09:26, 13.82s/it]"
          ],
          "name": "stderr"
        },
        {
          "output_type": "stream",
          "text": [
            "\rval batch [0/4]: loss 1.4063433408737183"
          ],
          "name": "stdout"
        },
        {
          "output_type": "stream",
          "text": [
            "\n"
          ],
          "name": "stderr"
        },
        {
          "output_type": "stream",
          "text": [
            "val batch [3/4]: loss 0.24772067368030548"
          ],
          "name": "stdout"
        },
        {
          "output_type": "stream",
          "text": [
            "\r0it [00:00, ?it/s]"
          ],
          "name": "stderr"
        },
        {
          "output_type": "stream",
          "text": [
            "\n",
            "Train loss: 0.36430546786726975, Train accuracy: 0.8054064512252808\n",
            "Val loss: 0.6358247008174658, Val accuracy: 0.5625\n",
            "\n",
            "=============== Epoch: 37\n",
            "train batch [0/41]: loss 0.32842934131622314"
          ],
          "name": "stdout"
        },
        {
          "output_type": "stream",
          "text": [
            "\r1it [00:14, 14.12s/it]"
          ],
          "name": "stderr"
        },
        {
          "output_type": "stream",
          "text": [
            "\rtrain batch [1/41]: loss 0.3860265612602234"
          ],
          "name": "stdout"
        },
        {
          "output_type": "stream",
          "text": [
            "\r2it [00:27, 14.04s/it]"
          ],
          "name": "stderr"
        },
        {
          "output_type": "stream",
          "text": [
            "\rtrain batch [2/41]: loss 0.26756545901298523"
          ],
          "name": "stdout"
        },
        {
          "output_type": "stream",
          "text": [
            "\r3it [00:41, 13.98s/it]"
          ],
          "name": "stderr"
        },
        {
          "output_type": "stream",
          "text": [
            "\rtrain batch [3/41]: loss 0.3657342791557312"
          ],
          "name": "stdout"
        },
        {
          "output_type": "stream",
          "text": [
            "\r4it [00:55, 14.03s/it]"
          ],
          "name": "stderr"
        },
        {
          "output_type": "stream",
          "text": [
            "\rtrain batch [4/41]: loss 0.32957109808921814"
          ],
          "name": "stdout"
        },
        {
          "output_type": "stream",
          "text": [
            "\r5it [01:09, 13.98s/it]"
          ],
          "name": "stderr"
        },
        {
          "output_type": "stream",
          "text": [
            "\rtrain batch [5/41]: loss 0.3125855624675751"
          ],
          "name": "stdout"
        },
        {
          "output_type": "stream",
          "text": [
            "\r6it [01:23, 13.96s/it]"
          ],
          "name": "stderr"
        },
        {
          "output_type": "stream",
          "text": [
            "\rtrain batch [6/41]: loss 0.35356050729751587"
          ],
          "name": "stdout"
        },
        {
          "output_type": "stream",
          "text": [
            "\r7it [01:37, 13.91s/it]"
          ],
          "name": "stderr"
        },
        {
          "output_type": "stream",
          "text": [
            "\rtrain batch [7/41]: loss 0.36297541856765747"
          ],
          "name": "stdout"
        },
        {
          "output_type": "stream",
          "text": [
            "\r8it [01:51, 13.93s/it]"
          ],
          "name": "stderr"
        },
        {
          "output_type": "stream",
          "text": [
            "\rtrain batch [8/41]: loss 0.3322576582431793"
          ],
          "name": "stdout"
        },
        {
          "output_type": "stream",
          "text": [
            "\r9it [02:05, 13.95s/it]"
          ],
          "name": "stderr"
        },
        {
          "output_type": "stream",
          "text": [
            "\rtrain batch [9/41]: loss 0.31503355503082275"
          ],
          "name": "stdout"
        },
        {
          "output_type": "stream",
          "text": [
            "\r10it [02:19, 13.93s/it]"
          ],
          "name": "stderr"
        },
        {
          "output_type": "stream",
          "text": [
            "\rtrain batch [10/41]: loss 0.3024454414844513"
          ],
          "name": "stdout"
        },
        {
          "output_type": "stream",
          "text": [
            "\r11it [02:33, 13.93s/it]"
          ],
          "name": "stderr"
        },
        {
          "output_type": "stream",
          "text": [
            "\rtrain batch [11/41]: loss 0.2311374545097351"
          ],
          "name": "stdout"
        },
        {
          "output_type": "stream",
          "text": [
            "\r12it [02:47, 13.88s/it]"
          ],
          "name": "stderr"
        },
        {
          "output_type": "stream",
          "text": [
            "\rtrain batch [12/41]: loss 0.33478984236717224"
          ],
          "name": "stdout"
        },
        {
          "output_type": "stream",
          "text": [
            "\r13it [03:01, 13.91s/it]"
          ],
          "name": "stderr"
        },
        {
          "output_type": "stream",
          "text": [
            "\rtrain batch [13/41]: loss 0.3329777717590332"
          ],
          "name": "stdout"
        },
        {
          "output_type": "stream",
          "text": [
            "\r14it [03:15, 13.96s/it]"
          ],
          "name": "stderr"
        },
        {
          "output_type": "stream",
          "text": [
            "\rtrain batch [14/41]: loss 0.2654103636741638"
          ],
          "name": "stdout"
        },
        {
          "output_type": "stream",
          "text": [
            "\r15it [03:28, 13.90s/it]"
          ],
          "name": "stderr"
        },
        {
          "output_type": "stream",
          "text": [
            "\rtrain batch [15/41]: loss 0.24331709742546082"
          ],
          "name": "stdout"
        },
        {
          "output_type": "stream",
          "text": [
            "\r16it [03:42, 13.94s/it]"
          ],
          "name": "stderr"
        },
        {
          "output_type": "stream",
          "text": [
            "\rtrain batch [16/41]: loss 0.4044972062110901"
          ],
          "name": "stdout"
        },
        {
          "output_type": "stream",
          "text": [
            "\r17it [03:56, 13.96s/it]"
          ],
          "name": "stderr"
        },
        {
          "output_type": "stream",
          "text": [
            "\rtrain batch [17/41]: loss 0.34026914834976196"
          ],
          "name": "stdout"
        },
        {
          "output_type": "stream",
          "text": [
            "\r18it [04:10, 13.96s/it]"
          ],
          "name": "stderr"
        },
        {
          "output_type": "stream",
          "text": [
            "\rtrain batch [18/41]: loss 0.4096246361732483"
          ],
          "name": "stdout"
        },
        {
          "output_type": "stream",
          "text": [
            "\r19it [04:24, 13.92s/it]"
          ],
          "name": "stderr"
        },
        {
          "output_type": "stream",
          "text": [
            "\rtrain batch [19/41]: loss 0.3166174292564392"
          ],
          "name": "stdout"
        },
        {
          "output_type": "stream",
          "text": [
            "\r20it [04:38, 13.89s/it]"
          ],
          "name": "stderr"
        },
        {
          "output_type": "stream",
          "text": [
            "\rtrain batch [20/41]: loss 0.3954355716705322"
          ],
          "name": "stdout"
        },
        {
          "output_type": "stream",
          "text": [
            "\r21it [04:52, 13.97s/it]"
          ],
          "name": "stderr"
        },
        {
          "output_type": "stream",
          "text": [
            "\rtrain batch [21/41]: loss 0.3085983693599701"
          ],
          "name": "stdout"
        },
        {
          "output_type": "stream",
          "text": [
            "\r22it [05:06, 13.93s/it]"
          ],
          "name": "stderr"
        },
        {
          "output_type": "stream",
          "text": [
            "\rtrain batch [22/41]: loss 0.28023186326026917"
          ],
          "name": "stdout"
        },
        {
          "output_type": "stream",
          "text": [
            "\r23it [05:20, 13.88s/it]"
          ],
          "name": "stderr"
        },
        {
          "output_type": "stream",
          "text": [
            "\rtrain batch [23/41]: loss 0.3872326612472534"
          ],
          "name": "stdout"
        },
        {
          "output_type": "stream",
          "text": [
            "\r24it [05:34, 13.85s/it]"
          ],
          "name": "stderr"
        },
        {
          "output_type": "stream",
          "text": [
            "\rtrain batch [24/41]: loss 0.3385981321334839"
          ],
          "name": "stdout"
        },
        {
          "output_type": "stream",
          "text": [
            "\r25it [05:47, 13.85s/it]"
          ],
          "name": "stderr"
        },
        {
          "output_type": "stream",
          "text": [
            "\rtrain batch [25/41]: loss 0.30745846033096313"
          ],
          "name": "stdout"
        },
        {
          "output_type": "stream",
          "text": [
            "\r26it [06:01, 13.87s/it]"
          ],
          "name": "stderr"
        },
        {
          "output_type": "stream",
          "text": [
            "\rtrain batch [26/41]: loss 0.34520408511161804"
          ],
          "name": "stdout"
        },
        {
          "output_type": "stream",
          "text": [
            "\r27it [06:15, 13.88s/it]"
          ],
          "name": "stderr"
        },
        {
          "output_type": "stream",
          "text": [
            "\rtrain batch [27/41]: loss 0.36884891986846924"
          ],
          "name": "stdout"
        },
        {
          "output_type": "stream",
          "text": [
            "\r28it [06:29, 13.89s/it]"
          ],
          "name": "stderr"
        },
        {
          "output_type": "stream",
          "text": [
            "\rtrain batch [28/41]: loss 0.2828339636325836"
          ],
          "name": "stdout"
        },
        {
          "output_type": "stream",
          "text": [
            "\r29it [06:43, 13.90s/it]"
          ],
          "name": "stderr"
        },
        {
          "output_type": "stream",
          "text": [
            "\rtrain batch [29/41]: loss 0.3301408886909485"
          ],
          "name": "stdout"
        },
        {
          "output_type": "stream",
          "text": [
            "\r30it [06:57, 13.90s/it]"
          ],
          "name": "stderr"
        },
        {
          "output_type": "stream",
          "text": [
            "\rtrain batch [30/41]: loss 0.2837744951248169"
          ],
          "name": "stdout"
        },
        {
          "output_type": "stream",
          "text": [
            "\r31it [07:11, 13.92s/it]"
          ],
          "name": "stderr"
        },
        {
          "output_type": "stream",
          "text": [
            "\rtrain batch [31/41]: loss 0.34693995118141174"
          ],
          "name": "stdout"
        },
        {
          "output_type": "stream",
          "text": [
            "\r32it [07:25, 13.89s/it]"
          ],
          "name": "stderr"
        },
        {
          "output_type": "stream",
          "text": [
            "\rtrain batch [32/41]: loss 0.3530418872833252"
          ],
          "name": "stdout"
        },
        {
          "output_type": "stream",
          "text": [
            "\r33it [07:39, 13.90s/it]"
          ],
          "name": "stderr"
        },
        {
          "output_type": "stream",
          "text": [
            "\rtrain batch [33/41]: loss 0.366025447845459"
          ],
          "name": "stdout"
        },
        {
          "output_type": "stream",
          "text": [
            "\r34it [07:53, 13.92s/it]"
          ],
          "name": "stderr"
        },
        {
          "output_type": "stream",
          "text": [
            "\rtrain batch [34/41]: loss 0.31905341148376465"
          ],
          "name": "stdout"
        },
        {
          "output_type": "stream",
          "text": [
            "\r35it [08:07, 13.89s/it]"
          ],
          "name": "stderr"
        },
        {
          "output_type": "stream",
          "text": [
            "\rtrain batch [35/41]: loss 0.257551372051239"
          ],
          "name": "stdout"
        },
        {
          "output_type": "stream",
          "text": [
            "\r36it [08:20, 13.86s/it]"
          ],
          "name": "stderr"
        },
        {
          "output_type": "stream",
          "text": [
            "\rtrain batch [36/41]: loss 0.297926664352417"
          ],
          "name": "stdout"
        },
        {
          "output_type": "stream",
          "text": [
            "\r37it [08:34, 13.86s/it]"
          ],
          "name": "stderr"
        },
        {
          "output_type": "stream",
          "text": [
            "\rtrain batch [37/41]: loss 0.29976922273635864"
          ],
          "name": "stdout"
        },
        {
          "output_type": "stream",
          "text": [
            "\r38it [08:48, 13.90s/it]"
          ],
          "name": "stderr"
        },
        {
          "output_type": "stream",
          "text": [
            "\rtrain batch [38/41]: loss 0.3449745178222656"
          ],
          "name": "stdout"
        },
        {
          "output_type": "stream",
          "text": [
            "\r39it [09:02, 13.92s/it]"
          ],
          "name": "stderr"
        },
        {
          "output_type": "stream",
          "text": [
            "\rtrain batch [39/41]: loss 0.4737319052219391"
          ],
          "name": "stdout"
        },
        {
          "output_type": "stream",
          "text": [
            "\r40it [09:16, 13.97s/it]"
          ],
          "name": "stderr"
        },
        {
          "output_type": "stream",
          "text": [
            "\rtrain batch [40/41]: loss 0.37213969230651855"
          ],
          "name": "stdout"
        },
        {
          "output_type": "stream",
          "text": [
            "41it [09:27, 13.84s/it]"
          ],
          "name": "stderr"
        },
        {
          "output_type": "stream",
          "text": [
            "\rval batch [0/4]: loss 2.325150728225708"
          ],
          "name": "stdout"
        },
        {
          "output_type": "stream",
          "text": [
            "\n"
          ],
          "name": "stderr"
        },
        {
          "output_type": "stream",
          "text": [
            "val batch [3/4]: loss 0.05446133017539978"
          ],
          "name": "stdout"
        },
        {
          "output_type": "stream",
          "text": [
            "\r0it [00:00, ?it/s]"
          ],
          "name": "stderr"
        },
        {
          "output_type": "stream",
          "text": [
            "\n",
            "Train loss: 0.33156919588403005, Train accuracy: 0.8355061411857605\n",
            "Val loss: 0.9756888970732689, Val accuracy: 0.5\n",
            "\n",
            "=============== Epoch: 38\n",
            "train batch [0/41]: loss 0.30399033427238464"
          ],
          "name": "stdout"
        },
        {
          "output_type": "stream",
          "text": [
            "\r1it [00:14, 14.04s/it]"
          ],
          "name": "stderr"
        },
        {
          "output_type": "stream",
          "text": [
            "\rtrain batch [1/41]: loss 0.32298168540000916"
          ],
          "name": "stdout"
        },
        {
          "output_type": "stream",
          "text": [
            "\r2it [00:27, 14.00s/it]"
          ],
          "name": "stderr"
        },
        {
          "output_type": "stream",
          "text": [
            "\rtrain batch [2/41]: loss 0.33831194043159485"
          ],
          "name": "stdout"
        },
        {
          "output_type": "stream",
          "text": [
            "\r3it [00:41, 13.93s/it]"
          ],
          "name": "stderr"
        },
        {
          "output_type": "stream",
          "text": [
            "\rtrain batch [3/41]: loss 0.32351815700531006"
          ],
          "name": "stdout"
        },
        {
          "output_type": "stream",
          "text": [
            "\r4it [00:55, 13.90s/it]"
          ],
          "name": "stderr"
        },
        {
          "output_type": "stream",
          "text": [
            "\rtrain batch [4/41]: loss 0.3699740469455719"
          ],
          "name": "stdout"
        },
        {
          "output_type": "stream",
          "text": [
            "\r5it [01:09, 13.85s/it]"
          ],
          "name": "stderr"
        },
        {
          "output_type": "stream",
          "text": [
            "\rtrain batch [5/41]: loss 0.28422078490257263"
          ],
          "name": "stdout"
        },
        {
          "output_type": "stream",
          "text": [
            "\r6it [01:23, 13.86s/it]"
          ],
          "name": "stderr"
        },
        {
          "output_type": "stream",
          "text": [
            "\rtrain batch [6/41]: loss 0.2946207523345947"
          ],
          "name": "stdout"
        },
        {
          "output_type": "stream",
          "text": [
            "\r7it [01:37, 13.87s/it]"
          ],
          "name": "stderr"
        },
        {
          "output_type": "stream",
          "text": [
            "\rtrain batch [7/41]: loss 0.34128695726394653"
          ],
          "name": "stdout"
        },
        {
          "output_type": "stream",
          "text": [
            "\r8it [01:51, 13.91s/it]"
          ],
          "name": "stderr"
        },
        {
          "output_type": "stream",
          "text": [
            "\rtrain batch [8/41]: loss 0.30890601873397827"
          ],
          "name": "stdout"
        },
        {
          "output_type": "stream",
          "text": [
            "\r9it [02:04, 13.88s/it]"
          ],
          "name": "stderr"
        },
        {
          "output_type": "stream",
          "text": [
            "\rtrain batch [9/41]: loss 0.299212247133255"
          ],
          "name": "stdout"
        },
        {
          "output_type": "stream",
          "text": [
            "\r10it [02:18, 13.89s/it]"
          ],
          "name": "stderr"
        },
        {
          "output_type": "stream",
          "text": [
            "\rtrain batch [10/41]: loss 0.35524049401283264"
          ],
          "name": "stdout"
        },
        {
          "output_type": "stream",
          "text": [
            "\r11it [02:32, 13.92s/it]"
          ],
          "name": "stderr"
        },
        {
          "output_type": "stream",
          "text": [
            "\rtrain batch [11/41]: loss 0.38430628180503845"
          ],
          "name": "stdout"
        },
        {
          "output_type": "stream",
          "text": [
            "\r12it [02:46, 13.92s/it]"
          ],
          "name": "stderr"
        },
        {
          "output_type": "stream",
          "text": [
            "\rtrain batch [12/41]: loss 0.4254310429096222"
          ],
          "name": "stdout"
        },
        {
          "output_type": "stream",
          "text": [
            "\r13it [03:00, 13.93s/it]"
          ],
          "name": "stderr"
        },
        {
          "output_type": "stream",
          "text": [
            "\rtrain batch [13/41]: loss 0.22093036770820618"
          ],
          "name": "stdout"
        },
        {
          "output_type": "stream",
          "text": [
            "\r14it [03:14, 13.94s/it]"
          ],
          "name": "stderr"
        },
        {
          "output_type": "stream",
          "text": [
            "\rtrain batch [14/41]: loss 0.3689718246459961"
          ],
          "name": "stdout"
        },
        {
          "output_type": "stream",
          "text": [
            "\r15it [03:28, 13.92s/it]"
          ],
          "name": "stderr"
        },
        {
          "output_type": "stream",
          "text": [
            "\rtrain batch [15/41]: loss 0.2959732413291931"
          ],
          "name": "stdout"
        },
        {
          "output_type": "stream",
          "text": [
            "\r16it [03:42, 13.91s/it]"
          ],
          "name": "stderr"
        },
        {
          "output_type": "stream",
          "text": [
            "\rtrain batch [16/41]: loss 0.2956140637397766"
          ],
          "name": "stdout"
        },
        {
          "output_type": "stream",
          "text": [
            "\r17it [03:56, 13.95s/it]"
          ],
          "name": "stderr"
        },
        {
          "output_type": "stream",
          "text": [
            "\rtrain batch [17/41]: loss 0.42421460151672363"
          ],
          "name": "stdout"
        },
        {
          "output_type": "stream",
          "text": [
            "\r18it [04:10, 13.94s/it]"
          ],
          "name": "stderr"
        },
        {
          "output_type": "stream",
          "text": [
            "\rtrain batch [18/41]: loss 0.2947876453399658"
          ],
          "name": "stdout"
        },
        {
          "output_type": "stream",
          "text": [
            "\r19it [04:24, 13.93s/it]"
          ],
          "name": "stderr"
        },
        {
          "output_type": "stream",
          "text": [
            "\rtrain batch [19/41]: loss 0.34322136640548706"
          ],
          "name": "stdout"
        },
        {
          "output_type": "stream",
          "text": [
            "\r20it [04:38, 13.90s/it]"
          ],
          "name": "stderr"
        },
        {
          "output_type": "stream",
          "text": [
            "\rtrain batch [20/41]: loss 0.2898216247558594"
          ],
          "name": "stdout"
        },
        {
          "output_type": "stream",
          "text": [
            "\r21it [04:51, 13.90s/it]"
          ],
          "name": "stderr"
        },
        {
          "output_type": "stream",
          "text": [
            "\rtrain batch [21/41]: loss 0.4156627953052521"
          ],
          "name": "stdout"
        },
        {
          "output_type": "stream",
          "text": [
            "\r22it [05:06, 14.00s/it]"
          ],
          "name": "stderr"
        },
        {
          "output_type": "stream",
          "text": [
            "\rtrain batch [22/41]: loss 0.3675852417945862"
          ],
          "name": "stdout"
        },
        {
          "output_type": "stream",
          "text": [
            "\r23it [05:20, 14.02s/it]"
          ],
          "name": "stderr"
        },
        {
          "output_type": "stream",
          "text": [
            "\rtrain batch [23/41]: loss 0.33708423376083374"
          ],
          "name": "stdout"
        },
        {
          "output_type": "stream",
          "text": [
            "\r24it [05:34, 13.95s/it]"
          ],
          "name": "stderr"
        },
        {
          "output_type": "stream",
          "text": [
            "\rtrain batch [24/41]: loss 0.35914814472198486"
          ],
          "name": "stdout"
        },
        {
          "output_type": "stream",
          "text": [
            "\r25it [05:48, 13.95s/it]"
          ],
          "name": "stderr"
        },
        {
          "output_type": "stream",
          "text": [
            "\rtrain batch [25/41]: loss 0.2764129042625427"
          ],
          "name": "stdout"
        },
        {
          "output_type": "stream",
          "text": [
            "\r26it [06:01, 13.89s/it]"
          ],
          "name": "stderr"
        },
        {
          "output_type": "stream",
          "text": [
            "\rtrain batch [26/41]: loss 0.2710684537887573"
          ],
          "name": "stdout"
        },
        {
          "output_type": "stream",
          "text": [
            "\r27it [06:15, 13.90s/it]"
          ],
          "name": "stderr"
        },
        {
          "output_type": "stream",
          "text": [
            "\rtrain batch [27/41]: loss 0.2967844605445862"
          ],
          "name": "stdout"
        },
        {
          "output_type": "stream",
          "text": [
            "\r28it [06:29, 13.86s/it]"
          ],
          "name": "stderr"
        },
        {
          "output_type": "stream",
          "text": [
            "\rtrain batch [28/41]: loss 0.26086363196372986"
          ],
          "name": "stdout"
        },
        {
          "output_type": "stream",
          "text": [
            "\r29it [06:43, 13.83s/it]"
          ],
          "name": "stderr"
        },
        {
          "output_type": "stream",
          "text": [
            "\rtrain batch [29/41]: loss 0.28138262033462524"
          ],
          "name": "stdout"
        },
        {
          "output_type": "stream",
          "text": [
            "\r30it [06:56, 13.80s/it]"
          ],
          "name": "stderr"
        },
        {
          "output_type": "stream",
          "text": [
            "\rtrain batch [30/41]: loss 0.3808675706386566"
          ],
          "name": "stdout"
        },
        {
          "output_type": "stream",
          "text": [
            "\r31it [07:10, 13.85s/it]"
          ],
          "name": "stderr"
        },
        {
          "output_type": "stream",
          "text": [
            "\rtrain batch [31/41]: loss 0.278486043214798"
          ],
          "name": "stdout"
        },
        {
          "output_type": "stream",
          "text": [
            "\r32it [07:24, 13.86s/it]"
          ],
          "name": "stderr"
        },
        {
          "output_type": "stream",
          "text": [
            "\rtrain batch [32/41]: loss 0.33377277851104736"
          ],
          "name": "stdout"
        },
        {
          "output_type": "stream",
          "text": [
            "\r33it [07:38, 13.86s/it]"
          ],
          "name": "stderr"
        },
        {
          "output_type": "stream",
          "text": [
            "\rtrain batch [33/41]: loss 0.3394831120967865"
          ],
          "name": "stdout"
        },
        {
          "output_type": "stream",
          "text": [
            "\r34it [07:52, 13.87s/it]"
          ],
          "name": "stderr"
        },
        {
          "output_type": "stream",
          "text": [
            "\rtrain batch [34/41]: loss 0.3108288049697876"
          ],
          "name": "stdout"
        },
        {
          "output_type": "stream",
          "text": [
            "\r35it [08:06, 13.86s/it]"
          ],
          "name": "stderr"
        },
        {
          "output_type": "stream",
          "text": [
            "\rtrain batch [35/41]: loss 0.34122753143310547"
          ],
          "name": "stdout"
        },
        {
          "output_type": "stream",
          "text": [
            "\r36it [08:20, 13.94s/it]"
          ],
          "name": "stderr"
        },
        {
          "output_type": "stream",
          "text": [
            "\rtrain batch [36/41]: loss 0.24888059496879578"
          ],
          "name": "stdout"
        },
        {
          "output_type": "stream",
          "text": [
            "\r37it [08:34, 13.96s/it]"
          ],
          "name": "stderr"
        },
        {
          "output_type": "stream",
          "text": [
            "\rtrain batch [37/41]: loss 0.3019353747367859"
          ],
          "name": "stdout"
        },
        {
          "output_type": "stream",
          "text": [
            "\r38it [08:48, 13.90s/it]"
          ],
          "name": "stderr"
        },
        {
          "output_type": "stream",
          "text": [
            "\rtrain batch [38/41]: loss 0.3869689702987671"
          ],
          "name": "stdout"
        },
        {
          "output_type": "stream",
          "text": [
            "\r39it [09:02, 13.93s/it]"
          ],
          "name": "stderr"
        },
        {
          "output_type": "stream",
          "text": [
            "\rtrain batch [39/41]: loss 0.3102308511734009"
          ],
          "name": "stdout"
        },
        {
          "output_type": "stream",
          "text": [
            "\r40it [09:16, 13.92s/it]"
          ],
          "name": "stderr"
        },
        {
          "output_type": "stream",
          "text": [
            "\rtrain batch [40/41]: loss 0.35983455181121826"
          ],
          "name": "stdout"
        },
        {
          "output_type": "stream",
          "text": [
            "41it [09:26, 13.83s/it]"
          ],
          "name": "stderr"
        },
        {
          "output_type": "stream",
          "text": [
            "\rval batch [0/4]: loss 2.0087430477142334"
          ],
          "name": "stdout"
        },
        {
          "output_type": "stream",
          "text": [
            "\n"
          ],
          "name": "stderr"
        },
        {
          "output_type": "stream",
          "text": [
            "val batch [3/4]: loss 0.07170409709215164"
          ],
          "name": "stdout"
        },
        {
          "output_type": "stream",
          "text": [
            "\r0it [00:00, ?it/s]"
          ],
          "name": "stderr"
        },
        {
          "output_type": "stream",
          "text": [
            "\n",
            "Train loss: 0.3254644892564634, Train accuracy: 0.8439416885375977\n",
            "Val loss: 0.8452557120472193, Val accuracy: 0.5625\n",
            "\n",
            "=============== Epoch: 39\n",
            "train batch [0/41]: loss 0.3467175364494324"
          ],
          "name": "stdout"
        },
        {
          "output_type": "stream",
          "text": [
            "\r1it [00:13, 13.77s/it]"
          ],
          "name": "stderr"
        },
        {
          "output_type": "stream",
          "text": [
            "\rtrain batch [1/41]: loss 0.25758635997772217"
          ],
          "name": "stdout"
        },
        {
          "output_type": "stream",
          "text": [
            "\r2it [00:27, 13.76s/it]"
          ],
          "name": "stderr"
        },
        {
          "output_type": "stream",
          "text": [
            "\rtrain batch [2/41]: loss 0.2907068133354187"
          ],
          "name": "stdout"
        },
        {
          "output_type": "stream",
          "text": [
            "\r3it [00:41, 13.82s/it]"
          ],
          "name": "stderr"
        },
        {
          "output_type": "stream",
          "text": [
            "\rtrain batch [3/41]: loss 0.2921401262283325"
          ],
          "name": "stdout"
        },
        {
          "output_type": "stream",
          "text": [
            "\r4it [00:55, 13.87s/it]"
          ],
          "name": "stderr"
        },
        {
          "output_type": "stream",
          "text": [
            "\rtrain batch [4/41]: loss 0.2951502799987793"
          ],
          "name": "stdout"
        },
        {
          "output_type": "stream",
          "text": [
            "\r5it [01:09, 13.86s/it]"
          ],
          "name": "stderr"
        },
        {
          "output_type": "stream",
          "text": [
            "\rtrain batch [5/41]: loss 0.40414491295814514"
          ],
          "name": "stdout"
        },
        {
          "output_type": "stream",
          "text": [
            "\r6it [01:23, 13.89s/it]"
          ],
          "name": "stderr"
        },
        {
          "output_type": "stream",
          "text": [
            "\rtrain batch [6/41]: loss 0.28324976563453674"
          ],
          "name": "stdout"
        },
        {
          "output_type": "stream",
          "text": [
            "\r7it [01:37, 13.85s/it]"
          ],
          "name": "stderr"
        },
        {
          "output_type": "stream",
          "text": [
            "\rtrain batch [7/41]: loss 0.36007487773895264"
          ],
          "name": "stdout"
        },
        {
          "output_type": "stream",
          "text": [
            "\r8it [01:51, 13.90s/it]"
          ],
          "name": "stderr"
        },
        {
          "output_type": "stream",
          "text": [
            "\rtrain batch [8/41]: loss 0.3500334620475769"
          ],
          "name": "stdout"
        },
        {
          "output_type": "stream",
          "text": [
            "\r9it [02:04, 13.89s/it]"
          ],
          "name": "stderr"
        },
        {
          "output_type": "stream",
          "text": [
            "\rtrain batch [9/41]: loss 0.3182147741317749"
          ],
          "name": "stdout"
        },
        {
          "output_type": "stream",
          "text": [
            "\r10it [02:18, 13.92s/it]"
          ],
          "name": "stderr"
        },
        {
          "output_type": "stream",
          "text": [
            "\rtrain batch [10/41]: loss 0.3406386971473694"
          ],
          "name": "stdout"
        },
        {
          "output_type": "stream",
          "text": [
            "\r11it [02:32, 13.92s/it]"
          ],
          "name": "stderr"
        },
        {
          "output_type": "stream",
          "text": [
            "\rtrain batch [11/41]: loss 0.2696648836135864"
          ],
          "name": "stdout"
        },
        {
          "output_type": "stream",
          "text": [
            "\r12it [02:46, 13.86s/it]"
          ],
          "name": "stderr"
        },
        {
          "output_type": "stream",
          "text": [
            "\rtrain batch [12/41]: loss 0.3641388416290283"
          ],
          "name": "stdout"
        },
        {
          "output_type": "stream",
          "text": [
            "\r13it [03:00, 13.90s/it]"
          ],
          "name": "stderr"
        },
        {
          "output_type": "stream",
          "text": [
            "\rtrain batch [13/41]: loss 0.47002527117729187"
          ],
          "name": "stdout"
        },
        {
          "output_type": "stream",
          "text": [
            "\r14it [03:14, 13.97s/it]"
          ],
          "name": "stderr"
        },
        {
          "output_type": "stream",
          "text": [
            "\rtrain batch [14/41]: loss 0.3461247384548187"
          ],
          "name": "stdout"
        },
        {
          "output_type": "stream",
          "text": [
            "\r15it [03:28, 13.97s/it]"
          ],
          "name": "stderr"
        },
        {
          "output_type": "stream",
          "text": [
            "\rtrain batch [15/41]: loss 0.2918258309364319"
          ],
          "name": "stdout"
        },
        {
          "output_type": "stream",
          "text": [
            "\r16it [03:42, 13.90s/it]"
          ],
          "name": "stderr"
        },
        {
          "output_type": "stream",
          "text": [
            "\rtrain batch [16/41]: loss 0.32158416509628296"
          ],
          "name": "stdout"
        },
        {
          "output_type": "stream",
          "text": [
            "\r17it [03:56, 13.90s/it]"
          ],
          "name": "stderr"
        },
        {
          "output_type": "stream",
          "text": [
            "\rtrain batch [17/41]: loss 0.34414681792259216"
          ],
          "name": "stdout"
        },
        {
          "output_type": "stream",
          "text": [
            "\r18it [04:10, 13.90s/it]"
          ],
          "name": "stderr"
        },
        {
          "output_type": "stream",
          "text": [
            "\rtrain batch [18/41]: loss 0.3342626094818115"
          ],
          "name": "stdout"
        },
        {
          "output_type": "stream",
          "text": [
            "\r19it [04:24, 13.90s/it]"
          ],
          "name": "stderr"
        },
        {
          "output_type": "stream",
          "text": [
            "\rtrain batch [19/41]: loss 0.22418361902236938"
          ],
          "name": "stdout"
        },
        {
          "output_type": "stream",
          "text": [
            "\r20it [04:37, 13.86s/it]"
          ],
          "name": "stderr"
        },
        {
          "output_type": "stream",
          "text": [
            "\rtrain batch [20/41]: loss 0.2981734275817871"
          ],
          "name": "stdout"
        },
        {
          "output_type": "stream",
          "text": [
            "\r21it [04:51, 13.79s/it]"
          ],
          "name": "stderr"
        },
        {
          "output_type": "stream",
          "text": [
            "\rtrain batch [21/41]: loss 0.31614091992378235"
          ],
          "name": "stdout"
        },
        {
          "output_type": "stream",
          "text": [
            "\r22it [05:05, 13.86s/it]"
          ],
          "name": "stderr"
        },
        {
          "output_type": "stream",
          "text": [
            "\rtrain batch [22/41]: loss 0.32001352310180664"
          ],
          "name": "stdout"
        },
        {
          "output_type": "stream",
          "text": [
            "\r23it [05:19, 13.89s/it]"
          ],
          "name": "stderr"
        },
        {
          "output_type": "stream",
          "text": [
            "\rtrain batch [23/41]: loss 0.2943541407585144"
          ],
          "name": "stdout"
        },
        {
          "output_type": "stream",
          "text": [
            "\r24it [05:33, 13.87s/it]"
          ],
          "name": "stderr"
        },
        {
          "output_type": "stream",
          "text": [
            "\rtrain batch [24/41]: loss 0.31296318769454956"
          ],
          "name": "stdout"
        },
        {
          "output_type": "stream",
          "text": [
            "\r25it [05:47, 13.84s/it]"
          ],
          "name": "stderr"
        },
        {
          "output_type": "stream",
          "text": [
            "\rtrain batch [25/41]: loss 0.28845125436782837"
          ],
          "name": "stdout"
        },
        {
          "output_type": "stream",
          "text": [
            "\r26it [06:01, 13.91s/it]"
          ],
          "name": "stderr"
        },
        {
          "output_type": "stream",
          "text": [
            "\rtrain batch [26/41]: loss 0.2876666784286499"
          ],
          "name": "stdout"
        },
        {
          "output_type": "stream",
          "text": [
            "\r27it [06:14, 13.87s/it]"
          ],
          "name": "stderr"
        },
        {
          "output_type": "stream",
          "text": [
            "\rtrain batch [27/41]: loss 0.35198599100112915"
          ],
          "name": "stdout"
        },
        {
          "output_type": "stream",
          "text": [
            "\r28it [06:28, 13.87s/it]"
          ],
          "name": "stderr"
        },
        {
          "output_type": "stream",
          "text": [
            "\rtrain batch [28/41]: loss 0.3820970058441162"
          ],
          "name": "stdout"
        },
        {
          "output_type": "stream",
          "text": [
            "\r29it [06:42, 13.89s/it]"
          ],
          "name": "stderr"
        },
        {
          "output_type": "stream",
          "text": [
            "\rtrain batch [29/41]: loss 0.3620991110801697"
          ],
          "name": "stdout"
        },
        {
          "output_type": "stream",
          "text": [
            "\r30it [06:56, 13.93s/it]"
          ],
          "name": "stderr"
        },
        {
          "output_type": "stream",
          "text": [
            "\rtrain batch [30/41]: loss 0.3090142011642456"
          ],
          "name": "stdout"
        },
        {
          "output_type": "stream",
          "text": [
            "\r31it [07:10, 13.93s/it]"
          ],
          "name": "stderr"
        },
        {
          "output_type": "stream",
          "text": [
            "\rtrain batch [31/41]: loss 0.3292899429798126"
          ],
          "name": "stdout"
        },
        {
          "output_type": "stream",
          "text": [
            "\r32it [07:24, 13.88s/it]"
          ],
          "name": "stderr"
        },
        {
          "output_type": "stream",
          "text": [
            "\rtrain batch [32/41]: loss 0.29618287086486816"
          ],
          "name": "stdout"
        },
        {
          "output_type": "stream",
          "text": [
            "\r33it [07:38, 13.80s/it]"
          ],
          "name": "stderr"
        },
        {
          "output_type": "stream",
          "text": [
            "\rtrain batch [33/41]: loss 0.3950772285461426"
          ],
          "name": "stdout"
        },
        {
          "output_type": "stream",
          "text": [
            "\r34it [07:52, 13.87s/it]"
          ],
          "name": "stderr"
        },
        {
          "output_type": "stream",
          "text": [
            "\rtrain batch [34/41]: loss 0.38718360662460327"
          ],
          "name": "stdout"
        },
        {
          "output_type": "stream",
          "text": [
            "\r35it [08:06, 13.95s/it]"
          ],
          "name": "stderr"
        },
        {
          "output_type": "stream",
          "text": [
            "\rtrain batch [35/41]: loss 0.30093273520469666"
          ],
          "name": "stdout"
        },
        {
          "output_type": "stream",
          "text": [
            "\r36it [08:20, 13.94s/it]"
          ],
          "name": "stderr"
        },
        {
          "output_type": "stream",
          "text": [
            "\rtrain batch [36/41]: loss 0.2840772867202759"
          ],
          "name": "stdout"
        },
        {
          "output_type": "stream",
          "text": [
            "\r37it [08:33, 13.90s/it]"
          ],
          "name": "stderr"
        },
        {
          "output_type": "stream",
          "text": [
            "\rtrain batch [37/41]: loss 0.374698668718338"
          ],
          "name": "stdout"
        },
        {
          "output_type": "stream",
          "text": [
            "\r38it [08:48, 13.98s/it]"
          ],
          "name": "stderr"
        },
        {
          "output_type": "stream",
          "text": [
            "\rtrain batch [38/41]: loss 0.39851486682891846"
          ],
          "name": "stdout"
        },
        {
          "output_type": "stream",
          "text": [
            "\r39it [09:01, 13.91s/it]"
          ],
          "name": "stderr"
        },
        {
          "output_type": "stream",
          "text": [
            "\rtrain batch [39/41]: loss 0.3162388205528259"
          ],
          "name": "stdout"
        },
        {
          "output_type": "stream",
          "text": [
            "\r40it [09:15, 13.97s/it]"
          ],
          "name": "stderr"
        },
        {
          "output_type": "stream",
          "text": [
            "\rtrain batch [40/41]: loss 0.31327831745147705"
          ],
          "name": "stdout"
        },
        {
          "output_type": "stream",
          "text": [
            "41it [09:26, 13.82s/it]"
          ],
          "name": "stderr"
        },
        {
          "output_type": "stream",
          "text": [
            "\rval batch [0/4]: loss 1.2745671272277832"
          ],
          "name": "stdout"
        },
        {
          "output_type": "stream",
          "text": [
            "\n"
          ],
          "name": "stderr"
        },
        {
          "output_type": "stream",
          "text": [
            "val batch [3/4]: loss 0.27165085077285767"
          ],
          "name": "stdout"
        },
        {
          "output_type": "stream",
          "text": [
            "\r0it [00:00, ?it/s]"
          ],
          "name": "stderr"
        },
        {
          "output_type": "stream",
          "text": [
            "\n",
            "Train loss: 0.3273914194688564, Train accuracy: 0.8425996899604797\n",
            "Val loss: 0.747245829552412, Val accuracy: 0.5\n",
            "\n",
            "=============== Epoch: 40\n",
            "train batch [0/41]: loss 0.3834858536720276"
          ],
          "name": "stdout"
        },
        {
          "output_type": "stream",
          "text": [
            "\r1it [00:13, 13.84s/it]"
          ],
          "name": "stderr"
        },
        {
          "output_type": "stream",
          "text": [
            "\rtrain batch [1/41]: loss 0.30595290660858154"
          ],
          "name": "stdout"
        },
        {
          "output_type": "stream",
          "text": [
            "\r2it [00:27, 13.89s/it]"
          ],
          "name": "stderr"
        },
        {
          "output_type": "stream",
          "text": [
            "\rtrain batch [2/41]: loss 0.26574385166168213"
          ],
          "name": "stdout"
        },
        {
          "output_type": "stream",
          "text": [
            "\r3it [00:41, 13.83s/it]"
          ],
          "name": "stderr"
        },
        {
          "output_type": "stream",
          "text": [
            "\rtrain batch [3/41]: loss 0.29487672448158264"
          ],
          "name": "stdout"
        },
        {
          "output_type": "stream",
          "text": [
            "\r4it [00:55, 13.86s/it]"
          ],
          "name": "stderr"
        },
        {
          "output_type": "stream",
          "text": [
            "\rtrain batch [4/41]: loss 0.4469633102416992"
          ],
          "name": "stdout"
        },
        {
          "output_type": "stream",
          "text": [
            "\r5it [01:09, 13.90s/it]"
          ],
          "name": "stderr"
        },
        {
          "output_type": "stream",
          "text": [
            "\rtrain batch [5/41]: loss 0.3467339873313904"
          ],
          "name": "stdout"
        },
        {
          "output_type": "stream",
          "text": [
            "\r6it [01:23, 13.89s/it]"
          ],
          "name": "stderr"
        },
        {
          "output_type": "stream",
          "text": [
            "\rtrain batch [6/41]: loss 0.35107481479644775"
          ],
          "name": "stdout"
        },
        {
          "output_type": "stream",
          "text": [
            "\r7it [01:37, 13.94s/it]"
          ],
          "name": "stderr"
        },
        {
          "output_type": "stream",
          "text": [
            "\rtrain batch [7/41]: loss 0.4170059859752655"
          ],
          "name": "stdout"
        },
        {
          "output_type": "stream",
          "text": [
            "\r8it [01:51, 13.93s/it]"
          ],
          "name": "stderr"
        },
        {
          "output_type": "stream",
          "text": [
            "\rtrain batch [8/41]: loss 0.31532737612724304"
          ],
          "name": "stdout"
        },
        {
          "output_type": "stream",
          "text": [
            "\r9it [02:05, 13.88s/it]"
          ],
          "name": "stderr"
        },
        {
          "output_type": "stream",
          "text": [
            "\rtrain batch [9/41]: loss 0.24741242825984955"
          ],
          "name": "stdout"
        },
        {
          "output_type": "stream",
          "text": [
            "\r10it [02:18, 13.84s/it]"
          ],
          "name": "stderr"
        },
        {
          "output_type": "stream",
          "text": [
            "\rtrain batch [10/41]: loss 0.3287216126918793"
          ],
          "name": "stdout"
        },
        {
          "output_type": "stream",
          "text": [
            "\r11it [02:32, 13.87s/it]"
          ],
          "name": "stderr"
        },
        {
          "output_type": "stream",
          "text": [
            "\rtrain batch [11/41]: loss 0.3006784915924072"
          ],
          "name": "stdout"
        },
        {
          "output_type": "stream",
          "text": [
            "\r12it [02:46, 13.82s/it]"
          ],
          "name": "stderr"
        },
        {
          "output_type": "stream",
          "text": [
            "\rtrain batch [12/41]: loss 0.447374165058136"
          ],
          "name": "stdout"
        },
        {
          "output_type": "stream",
          "text": [
            "\r13it [03:00, 13.91s/it]"
          ],
          "name": "stderr"
        },
        {
          "output_type": "stream",
          "text": [
            "\rtrain batch [13/41]: loss 0.414453387260437"
          ],
          "name": "stdout"
        },
        {
          "output_type": "stream",
          "text": [
            "\r14it [03:14, 13.95s/it]"
          ],
          "name": "stderr"
        },
        {
          "output_type": "stream",
          "text": [
            "\rtrain batch [14/41]: loss 0.3547476530075073"
          ],
          "name": "stdout"
        },
        {
          "output_type": "stream",
          "text": [
            "\r15it [03:28, 13.89s/it]"
          ],
          "name": "stderr"
        },
        {
          "output_type": "stream",
          "text": [
            "\rtrain batch [15/41]: loss 0.24400430917739868"
          ],
          "name": "stdout"
        },
        {
          "output_type": "stream",
          "text": [
            "\r16it [03:42, 13.90s/it]"
          ],
          "name": "stderr"
        },
        {
          "output_type": "stream",
          "text": [
            "\rtrain batch [16/41]: loss 0.36507806181907654"
          ],
          "name": "stdout"
        },
        {
          "output_type": "stream",
          "text": [
            "\r17it [03:56, 13.87s/it]"
          ],
          "name": "stderr"
        },
        {
          "output_type": "stream",
          "text": [
            "\rtrain batch [17/41]: loss 0.24246354401111603"
          ],
          "name": "stdout"
        },
        {
          "output_type": "stream",
          "text": [
            "\r18it [04:10, 13.88s/it]"
          ],
          "name": "stderr"
        },
        {
          "output_type": "stream",
          "text": [
            "\rtrain batch [18/41]: loss 0.3691808581352234"
          ],
          "name": "stdout"
        },
        {
          "output_type": "stream",
          "text": [
            "\r19it [04:23, 13.89s/it]"
          ],
          "name": "stderr"
        },
        {
          "output_type": "stream",
          "text": [
            "\rtrain batch [19/41]: loss 0.27824366092681885"
          ],
          "name": "stdout"
        },
        {
          "output_type": "stream",
          "text": [
            "\r20it [04:37, 13.92s/it]"
          ],
          "name": "stderr"
        },
        {
          "output_type": "stream",
          "text": [
            "\rtrain batch [20/41]: loss 0.27764490246772766"
          ],
          "name": "stdout"
        },
        {
          "output_type": "stream",
          "text": [
            "\r21it [04:51, 13.90s/it]"
          ],
          "name": "stderr"
        },
        {
          "output_type": "stream",
          "text": [
            "\rtrain batch [21/41]: loss 0.36519086360931396"
          ],
          "name": "stdout"
        },
        {
          "output_type": "stream",
          "text": [
            "\r22it [05:05, 13.99s/it]"
          ],
          "name": "stderr"
        },
        {
          "output_type": "stream",
          "text": [
            "\rtrain batch [22/41]: loss 0.3134390413761139"
          ],
          "name": "stdout"
        },
        {
          "output_type": "stream",
          "text": [
            "\r23it [05:19, 13.92s/it]"
          ],
          "name": "stderr"
        },
        {
          "output_type": "stream",
          "text": [
            "\rtrain batch [23/41]: loss 0.2817988395690918"
          ],
          "name": "stdout"
        },
        {
          "output_type": "stream",
          "text": [
            "\r24it [05:33, 13.92s/it]"
          ],
          "name": "stderr"
        },
        {
          "output_type": "stream",
          "text": [
            "\rtrain batch [24/41]: loss 0.30511578917503357"
          ],
          "name": "stdout"
        },
        {
          "output_type": "stream",
          "text": [
            "\r25it [05:47, 13.88s/it]"
          ],
          "name": "stderr"
        },
        {
          "output_type": "stream",
          "text": [
            "\rtrain batch [25/41]: loss 0.30255964398384094"
          ],
          "name": "stdout"
        },
        {
          "output_type": "stream",
          "text": [
            "\r26it [06:01, 13.91s/it]"
          ],
          "name": "stderr"
        },
        {
          "output_type": "stream",
          "text": [
            "\rtrain batch [26/41]: loss 0.4039509892463684"
          ],
          "name": "stdout"
        },
        {
          "output_type": "stream",
          "text": [
            "\r27it [06:15, 13.93s/it]"
          ],
          "name": "stderr"
        },
        {
          "output_type": "stream",
          "text": [
            "\rtrain batch [27/41]: loss 0.2943478226661682"
          ],
          "name": "stdout"
        },
        {
          "output_type": "stream",
          "text": [
            "\r28it [06:29, 13.91s/it]"
          ],
          "name": "stderr"
        },
        {
          "output_type": "stream",
          "text": [
            "\rtrain batch [28/41]: loss 0.2691839337348938"
          ],
          "name": "stdout"
        },
        {
          "output_type": "stream",
          "text": [
            "\r29it [06:43, 13.92s/it]"
          ],
          "name": "stderr"
        },
        {
          "output_type": "stream",
          "text": [
            "\rtrain batch [29/41]: loss 0.2966151237487793"
          ],
          "name": "stdout"
        },
        {
          "output_type": "stream",
          "text": [
            "\r30it [06:56, 13.89s/it]"
          ],
          "name": "stderr"
        },
        {
          "output_type": "stream",
          "text": [
            "\rtrain batch [30/41]: loss 0.2765101492404938"
          ],
          "name": "stdout"
        },
        {
          "output_type": "stream",
          "text": [
            "\r31it [07:10, 13.91s/it]"
          ],
          "name": "stderr"
        },
        {
          "output_type": "stream",
          "text": [
            "\rtrain batch [31/41]: loss 0.3194659650325775"
          ],
          "name": "stdout"
        },
        {
          "output_type": "stream",
          "text": [
            "\r32it [07:25, 13.96s/it]"
          ],
          "name": "stderr"
        },
        {
          "output_type": "stream",
          "text": [
            "\rtrain batch [32/41]: loss 0.3121876120567322"
          ],
          "name": "stdout"
        },
        {
          "output_type": "stream",
          "text": [
            "\r33it [07:38, 13.90s/it]"
          ],
          "name": "stderr"
        },
        {
          "output_type": "stream",
          "text": [
            "\rtrain batch [33/41]: loss 0.29596471786499023"
          ],
          "name": "stdout"
        },
        {
          "output_type": "stream",
          "text": [
            "\r34it [07:52, 13.87s/it]"
          ],
          "name": "stderr"
        },
        {
          "output_type": "stream",
          "text": [
            "\rtrain batch [34/41]: loss 0.35889214277267456"
          ],
          "name": "stdout"
        },
        {
          "output_type": "stream",
          "text": [
            "\r35it [08:06, 13.88s/it]"
          ],
          "name": "stderr"
        },
        {
          "output_type": "stream",
          "text": [
            "\rtrain batch [35/41]: loss 0.4169212579727173"
          ],
          "name": "stdout"
        },
        {
          "output_type": "stream",
          "text": [
            "\r36it [08:20, 13.89s/it]"
          ],
          "name": "stderr"
        },
        {
          "output_type": "stream",
          "text": [
            "\rtrain batch [36/41]: loss 0.29063767194747925"
          ],
          "name": "stdout"
        },
        {
          "output_type": "stream",
          "text": [
            "\r37it [08:34, 13.81s/it]"
          ],
          "name": "stderr"
        },
        {
          "output_type": "stream",
          "text": [
            "\rtrain batch [37/41]: loss 0.28008338809013367"
          ],
          "name": "stdout"
        },
        {
          "output_type": "stream",
          "text": [
            "\r38it [08:48, 13.87s/it]"
          ],
          "name": "stderr"
        },
        {
          "output_type": "stream",
          "text": [
            "\rtrain batch [38/41]: loss 0.3614388108253479"
          ],
          "name": "stdout"
        },
        {
          "output_type": "stream",
          "text": [
            "\r39it [09:01, 13.88s/it]"
          ],
          "name": "stderr"
        },
        {
          "output_type": "stream",
          "text": [
            "\rtrain batch [39/41]: loss 0.30593472719192505"
          ],
          "name": "stdout"
        },
        {
          "output_type": "stream",
          "text": [
            "\r40it [09:15, 13.85s/it]"
          ],
          "name": "stderr"
        },
        {
          "output_type": "stream",
          "text": [
            "\rtrain batch [40/41]: loss 0.27494531869888306"
          ],
          "name": "stdout"
        },
        {
          "output_type": "stream",
          "text": [
            "41it [09:26, 13.81s/it]"
          ],
          "name": "stderr"
        },
        {
          "output_type": "stream",
          "text": [
            "\rval batch [0/4]: loss 1.6148905754089355"
          ],
          "name": "stdout"
        },
        {
          "output_type": "stream",
          "text": [
            "\n"
          ],
          "name": "stderr"
        },
        {
          "output_type": "stream",
          "text": [
            "val batch [3/4]: loss 0.09404323995113373"
          ],
          "name": "stdout"
        },
        {
          "output_type": "stream",
          "text": [
            "\r0it [00:00, ?it/s]"
          ],
          "name": "stderr"
        },
        {
          "output_type": "stream",
          "text": [
            "\n",
            "Train loss: 0.3249354111712153, Train accuracy: 0.8500766754150391\n",
            "Val loss: 0.7248053513467312, Val accuracy: 0.625\n",
            "\n",
            "=============== Epoch: 41\n",
            "train batch [0/41]: loss 0.29944825172424316"
          ],
          "name": "stdout"
        },
        {
          "output_type": "stream",
          "text": [
            "\r1it [00:13, 13.75s/it]"
          ],
          "name": "stderr"
        },
        {
          "output_type": "stream",
          "text": [
            "\rtrain batch [1/41]: loss 0.38337796926498413"
          ],
          "name": "stdout"
        },
        {
          "output_type": "stream",
          "text": [
            "\r2it [00:27, 13.82s/it]"
          ],
          "name": "stderr"
        },
        {
          "output_type": "stream",
          "text": [
            "\rtrain batch [2/41]: loss 0.29919764399528503"
          ],
          "name": "stdout"
        },
        {
          "output_type": "stream",
          "text": [
            "\r3it [00:41, 13.81s/it]"
          ],
          "name": "stderr"
        },
        {
          "output_type": "stream",
          "text": [
            "\rtrain batch [3/41]: loss 0.3389964997768402"
          ],
          "name": "stdout"
        },
        {
          "output_type": "stream",
          "text": [
            "\r4it [00:55, 13.84s/it]"
          ],
          "name": "stderr"
        },
        {
          "output_type": "stream",
          "text": [
            "\rtrain batch [4/41]: loss 0.2731274962425232"
          ],
          "name": "stdout"
        },
        {
          "output_type": "stream",
          "text": [
            "\r5it [01:09, 13.82s/it]"
          ],
          "name": "stderr"
        },
        {
          "output_type": "stream",
          "text": [
            "\rtrain batch [5/41]: loss 0.33775171637535095"
          ],
          "name": "stdout"
        },
        {
          "output_type": "stream",
          "text": [
            "\r6it [01:23, 13.83s/it]"
          ],
          "name": "stderr"
        },
        {
          "output_type": "stream",
          "text": [
            "\rtrain batch [6/41]: loss 0.34352394938468933"
          ],
          "name": "stdout"
        },
        {
          "output_type": "stream",
          "text": [
            "\r7it [01:36, 13.84s/it]"
          ],
          "name": "stderr"
        },
        {
          "output_type": "stream",
          "text": [
            "\rtrain batch [7/41]: loss 0.34109628200531006"
          ],
          "name": "stdout"
        },
        {
          "output_type": "stream",
          "text": [
            "\r8it [01:50, 13.89s/it]"
          ],
          "name": "stderr"
        },
        {
          "output_type": "stream",
          "text": [
            "\rtrain batch [8/41]: loss 0.2714441418647766"
          ],
          "name": "stdout"
        },
        {
          "output_type": "stream",
          "text": [
            "\r9it [02:04, 13.86s/it]"
          ],
          "name": "stderr"
        },
        {
          "output_type": "stream",
          "text": [
            "\rtrain batch [9/41]: loss 0.2709621787071228"
          ],
          "name": "stdout"
        },
        {
          "output_type": "stream",
          "text": [
            "\r10it [02:18, 13.86s/it]"
          ],
          "name": "stderr"
        },
        {
          "output_type": "stream",
          "text": [
            "\rtrain batch [10/41]: loss 0.3674966096878052"
          ],
          "name": "stdout"
        },
        {
          "output_type": "stream",
          "text": [
            "\r11it [02:32, 13.88s/it]"
          ],
          "name": "stderr"
        },
        {
          "output_type": "stream",
          "text": [
            "\rtrain batch [11/41]: loss 0.2622242867946625"
          ],
          "name": "stdout"
        },
        {
          "output_type": "stream",
          "text": [
            "\r12it [02:46, 13.84s/it]"
          ],
          "name": "stderr"
        },
        {
          "output_type": "stream",
          "text": [
            "\rtrain batch [12/41]: loss 0.2715112566947937"
          ],
          "name": "stdout"
        },
        {
          "output_type": "stream",
          "text": [
            "\r13it [03:00, 13.82s/it]"
          ],
          "name": "stderr"
        },
        {
          "output_type": "stream",
          "text": [
            "\rtrain batch [13/41]: loss 0.34070688486099243"
          ],
          "name": "stdout"
        },
        {
          "output_type": "stream",
          "text": [
            "\r14it [03:13, 13.79s/it]"
          ],
          "name": "stderr"
        },
        {
          "output_type": "stream",
          "text": [
            "\rtrain batch [14/41]: loss 0.34241926670074463"
          ],
          "name": "stdout"
        },
        {
          "output_type": "stream",
          "text": [
            "\r15it [03:27, 13.81s/it]"
          ],
          "name": "stderr"
        },
        {
          "output_type": "stream",
          "text": [
            "\rtrain batch [15/41]: loss 0.2269592434167862"
          ],
          "name": "stdout"
        },
        {
          "output_type": "stream",
          "text": [
            "\r16it [03:41, 13.76s/it]"
          ],
          "name": "stderr"
        },
        {
          "output_type": "stream",
          "text": [
            "\rtrain batch [16/41]: loss 0.34831559658050537"
          ],
          "name": "stdout"
        },
        {
          "output_type": "stream",
          "text": [
            "\r17it [03:54, 13.76s/it]"
          ],
          "name": "stderr"
        },
        {
          "output_type": "stream",
          "text": [
            "\rtrain batch [17/41]: loss 0.3157162666320801"
          ],
          "name": "stdout"
        },
        {
          "output_type": "stream",
          "text": [
            "\r18it [04:08, 13.74s/it]"
          ],
          "name": "stderr"
        },
        {
          "output_type": "stream",
          "text": [
            "\rtrain batch [18/41]: loss 0.31701406836509705"
          ],
          "name": "stdout"
        },
        {
          "output_type": "stream",
          "text": [
            "\r19it [04:22, 13.79s/it]"
          ],
          "name": "stderr"
        },
        {
          "output_type": "stream",
          "text": [
            "\rtrain batch [19/41]: loss 0.3225852847099304"
          ],
          "name": "stdout"
        },
        {
          "output_type": "stream",
          "text": [
            "\r20it [04:36, 13.80s/it]"
          ],
          "name": "stderr"
        },
        {
          "output_type": "stream",
          "text": [
            "\rtrain batch [20/41]: loss 0.3742583990097046"
          ],
          "name": "stdout"
        },
        {
          "output_type": "stream",
          "text": [
            "\r21it [04:50, 13.76s/it]"
          ],
          "name": "stderr"
        },
        {
          "output_type": "stream",
          "text": [
            "\rtrain batch [21/41]: loss 0.3640279769897461"
          ],
          "name": "stdout"
        },
        {
          "output_type": "stream",
          "text": [
            "\r22it [05:04, 13.82s/it]"
          ],
          "name": "stderr"
        },
        {
          "output_type": "stream",
          "text": [
            "\rtrain batch [22/41]: loss 0.30145519971847534"
          ],
          "name": "stdout"
        },
        {
          "output_type": "stream",
          "text": [
            "\r23it [05:18, 13.89s/it]"
          ],
          "name": "stderr"
        },
        {
          "output_type": "stream",
          "text": [
            "\rtrain batch [23/41]: loss 0.39252644777297974"
          ],
          "name": "stdout"
        },
        {
          "output_type": "stream",
          "text": [
            "\r24it [05:32, 13.90s/it]"
          ],
          "name": "stderr"
        },
        {
          "output_type": "stream",
          "text": [
            "\rtrain batch [24/41]: loss 0.35490310192108154"
          ],
          "name": "stdout"
        },
        {
          "output_type": "stream",
          "text": [
            "\r25it [05:45, 13.89s/it]"
          ],
          "name": "stderr"
        },
        {
          "output_type": "stream",
          "text": [
            "\rtrain batch [25/41]: loss 0.4224368929862976"
          ],
          "name": "stdout"
        },
        {
          "output_type": "stream",
          "text": [
            "\r26it [05:59, 13.94s/it]"
          ],
          "name": "stderr"
        },
        {
          "output_type": "stream",
          "text": [
            "\rtrain batch [26/41]: loss 0.3800252676010132"
          ],
          "name": "stdout"
        },
        {
          "output_type": "stream",
          "text": [
            "\r27it [06:14, 14.01s/it]"
          ],
          "name": "stderr"
        },
        {
          "output_type": "stream",
          "text": [
            "\rtrain batch [27/41]: loss 0.3035094141960144"
          ],
          "name": "stdout"
        },
        {
          "output_type": "stream",
          "text": [
            "\r28it [06:28, 13.99s/it]"
          ],
          "name": "stderr"
        },
        {
          "output_type": "stream",
          "text": [
            "\rtrain batch [28/41]: loss 0.2846197783946991"
          ],
          "name": "stdout"
        },
        {
          "output_type": "stream",
          "text": [
            "\r29it [06:41, 13.92s/it]"
          ],
          "name": "stderr"
        },
        {
          "output_type": "stream",
          "text": [
            "\rtrain batch [29/41]: loss 0.2693169116973877"
          ],
          "name": "stdout"
        },
        {
          "output_type": "stream",
          "text": [
            "\r30it [06:55, 13.89s/it]"
          ],
          "name": "stderr"
        },
        {
          "output_type": "stream",
          "text": [
            "\rtrain batch [30/41]: loss 0.3294624090194702"
          ],
          "name": "stdout"
        },
        {
          "output_type": "stream",
          "text": [
            "\r31it [07:09, 13.87s/it]"
          ],
          "name": "stderr"
        },
        {
          "output_type": "stream",
          "text": [
            "\rtrain batch [31/41]: loss 0.3018827438354492"
          ],
          "name": "stdout"
        },
        {
          "output_type": "stream",
          "text": [
            "\r32it [07:23, 13.87s/it]"
          ],
          "name": "stderr"
        },
        {
          "output_type": "stream",
          "text": [
            "\rtrain batch [32/41]: loss 0.3465728163719177"
          ],
          "name": "stdout"
        },
        {
          "output_type": "stream",
          "text": [
            "\r33it [07:37, 13.92s/it]"
          ],
          "name": "stderr"
        },
        {
          "output_type": "stream",
          "text": [
            "\rtrain batch [33/41]: loss 0.30643659830093384"
          ],
          "name": "stdout"
        },
        {
          "output_type": "stream",
          "text": [
            "\r34it [07:51, 13.89s/it]"
          ],
          "name": "stderr"
        },
        {
          "output_type": "stream",
          "text": [
            "\rtrain batch [34/41]: loss 0.300601065158844"
          ],
          "name": "stdout"
        },
        {
          "output_type": "stream",
          "text": [
            "\r35it [08:04, 13.84s/it]"
          ],
          "name": "stderr"
        },
        {
          "output_type": "stream",
          "text": [
            "\rtrain batch [35/41]: loss 0.308574378490448"
          ],
          "name": "stdout"
        },
        {
          "output_type": "stream",
          "text": [
            "\r36it [08:18, 13.86s/it]"
          ],
          "name": "stderr"
        },
        {
          "output_type": "stream",
          "text": [
            "\rtrain batch [36/41]: loss 0.29718559980392456"
          ],
          "name": "stdout"
        },
        {
          "output_type": "stream",
          "text": [
            "\r37it [08:32, 13.83s/it]"
          ],
          "name": "stderr"
        },
        {
          "output_type": "stream",
          "text": [
            "\rtrain batch [37/41]: loss 0.3970697820186615"
          ],
          "name": "stdout"
        },
        {
          "output_type": "stream",
          "text": [
            "\r38it [08:46, 13.87s/it]"
          ],
          "name": "stderr"
        },
        {
          "output_type": "stream",
          "text": [
            "\rtrain batch [38/41]: loss 0.26814258098602295"
          ],
          "name": "stdout"
        },
        {
          "output_type": "stream",
          "text": [
            "\r39it [09:00, 13.82s/it]"
          ],
          "name": "stderr"
        },
        {
          "output_type": "stream",
          "text": [
            "\rtrain batch [39/41]: loss 0.30611419677734375"
          ],
          "name": "stdout"
        },
        {
          "output_type": "stream",
          "text": [
            "\r40it [09:14, 13.85s/it]"
          ],
          "name": "stderr"
        },
        {
          "output_type": "stream",
          "text": [
            "\rtrain batch [40/41]: loss 0.4150732457637787"
          ],
          "name": "stdout"
        },
        {
          "output_type": "stream",
          "text": [
            "41it [09:24, 13.77s/it]"
          ],
          "name": "stderr"
        },
        {
          "output_type": "stream",
          "text": [
            "\rval batch [0/4]: loss 1.3327521085739136"
          ],
          "name": "stdout"
        },
        {
          "output_type": "stream",
          "text": [
            "\n"
          ],
          "name": "stderr"
        },
        {
          "output_type": "stream",
          "text": [
            "val batch [3/4]: loss 0.05152854323387146"
          ],
          "name": "stdout"
        },
        {
          "output_type": "stream",
          "text": [
            "\r0it [00:00, ?it/s]"
          ],
          "name": "stderr"
        },
        {
          "output_type": "stream",
          "text": [
            "\n",
            "Train loss: 0.32434316197546514, Train accuracy: 0.8481594920158386\n",
            "Val loss: 0.6559502519667149, Val accuracy: 0.625\n",
            "\n",
            "=============== Epoch: 42\n",
            "train batch [0/41]: loss 0.40922975540161133"
          ],
          "name": "stdout"
        },
        {
          "output_type": "stream",
          "text": [
            "\r1it [00:13, 13.75s/it]"
          ],
          "name": "stderr"
        },
        {
          "output_type": "stream",
          "text": [
            "\rtrain batch [1/41]: loss 0.3205238878726959"
          ],
          "name": "stdout"
        },
        {
          "output_type": "stream",
          "text": [
            "\r2it [00:27, 13.79s/it]"
          ],
          "name": "stderr"
        },
        {
          "output_type": "stream",
          "text": [
            "\rtrain batch [2/41]: loss 0.26972270011901855"
          ],
          "name": "stdout"
        },
        {
          "output_type": "stream",
          "text": [
            "\r3it [00:41, 13.74s/it]"
          ],
          "name": "stderr"
        },
        {
          "output_type": "stream",
          "text": [
            "\rtrain batch [3/41]: loss 0.31145012378692627"
          ],
          "name": "stdout"
        },
        {
          "output_type": "stream",
          "text": [
            "\r4it [00:55, 13.78s/it]"
          ],
          "name": "stderr"
        },
        {
          "output_type": "stream",
          "text": [
            "\rtrain batch [4/41]: loss 0.2764143943786621"
          ],
          "name": "stdout"
        },
        {
          "output_type": "stream",
          "text": [
            "\r5it [01:09, 13.82s/it]"
          ],
          "name": "stderr"
        },
        {
          "output_type": "stream",
          "text": [
            "\rtrain batch [5/41]: loss 0.33925408124923706"
          ],
          "name": "stdout"
        },
        {
          "output_type": "stream",
          "text": [
            "\r6it [01:23, 13.86s/it]"
          ],
          "name": "stderr"
        },
        {
          "output_type": "stream",
          "text": [
            "\rtrain batch [6/41]: loss 0.29834312200546265"
          ],
          "name": "stdout"
        },
        {
          "output_type": "stream",
          "text": [
            "\r7it [01:36, 13.90s/it]"
          ],
          "name": "stderr"
        },
        {
          "output_type": "stream",
          "text": [
            "\rtrain batch [7/41]: loss 0.36743882298469543"
          ],
          "name": "stdout"
        },
        {
          "output_type": "stream",
          "text": [
            "\r8it [01:50, 13.91s/it]"
          ],
          "name": "stderr"
        },
        {
          "output_type": "stream",
          "text": [
            "\rtrain batch [8/41]: loss 0.3162977695465088"
          ],
          "name": "stdout"
        },
        {
          "output_type": "stream",
          "text": [
            "\r9it [02:04, 13.92s/it]"
          ],
          "name": "stderr"
        },
        {
          "output_type": "stream",
          "text": [
            "\rtrain batch [9/41]: loss 0.2512883245944977"
          ],
          "name": "stdout"
        },
        {
          "output_type": "stream",
          "text": [
            "\r10it [02:18, 13.88s/it]"
          ],
          "name": "stderr"
        },
        {
          "output_type": "stream",
          "text": [
            "\rtrain batch [10/41]: loss 0.27280184626579285"
          ],
          "name": "stdout"
        },
        {
          "output_type": "stream",
          "text": [
            "\r11it [02:32, 13.86s/it]"
          ],
          "name": "stderr"
        },
        {
          "output_type": "stream",
          "text": [
            "\rtrain batch [11/41]: loss 0.3724142909049988"
          ],
          "name": "stdout"
        },
        {
          "output_type": "stream",
          "text": [
            "\r12it [02:46, 13.83s/it]"
          ],
          "name": "stderr"
        },
        {
          "output_type": "stream",
          "text": [
            "\rtrain batch [12/41]: loss 0.31286174058914185"
          ],
          "name": "stdout"
        },
        {
          "output_type": "stream",
          "text": [
            "\r13it [03:00, 13.84s/it]"
          ],
          "name": "stderr"
        },
        {
          "output_type": "stream",
          "text": [
            "\rtrain batch [13/41]: loss 0.3146388530731201"
          ],
          "name": "stdout"
        },
        {
          "output_type": "stream",
          "text": [
            "\r14it [03:13, 13.81s/it]"
          ],
          "name": "stderr"
        },
        {
          "output_type": "stream",
          "text": [
            "\rtrain batch [14/41]: loss 0.2989932894706726"
          ],
          "name": "stdout"
        },
        {
          "output_type": "stream",
          "text": [
            "\r15it [03:27, 13.78s/it]"
          ],
          "name": "stderr"
        },
        {
          "output_type": "stream",
          "text": [
            "\rtrain batch [15/41]: loss 0.37707769870758057"
          ],
          "name": "stdout"
        },
        {
          "output_type": "stream",
          "text": [
            "\r16it [03:41, 13.79s/it]"
          ],
          "name": "stderr"
        },
        {
          "output_type": "stream",
          "text": [
            "\rtrain batch [16/41]: loss 0.2737823724746704"
          ],
          "name": "stdout"
        },
        {
          "output_type": "stream",
          "text": [
            "\r17it [03:55, 13.75s/it]"
          ],
          "name": "stderr"
        },
        {
          "output_type": "stream",
          "text": [
            "\rtrain batch [17/41]: loss 0.4941863417625427"
          ],
          "name": "stdout"
        },
        {
          "output_type": "stream",
          "text": [
            "\r18it [04:09, 13.82s/it]"
          ],
          "name": "stderr"
        },
        {
          "output_type": "stream",
          "text": [
            "\rtrain batch [18/41]: loss 0.3418610394001007"
          ],
          "name": "stdout"
        },
        {
          "output_type": "stream",
          "text": [
            "\r19it [04:22, 13.79s/it]"
          ],
          "name": "stderr"
        },
        {
          "output_type": "stream",
          "text": [
            "\rtrain batch [19/41]: loss 0.470662921667099"
          ],
          "name": "stdout"
        },
        {
          "output_type": "stream",
          "text": [
            "\r20it [04:36, 13.85s/it]"
          ],
          "name": "stderr"
        },
        {
          "output_type": "stream",
          "text": [
            "\rtrain batch [20/41]: loss 0.4309476912021637"
          ],
          "name": "stdout"
        },
        {
          "output_type": "stream",
          "text": [
            "\r21it [04:50, 13.88s/it]"
          ],
          "name": "stderr"
        },
        {
          "output_type": "stream",
          "text": [
            "\rtrain batch [21/41]: loss 0.3911333680152893"
          ],
          "name": "stdout"
        },
        {
          "output_type": "stream",
          "text": [
            "\r22it [05:04, 14.00s/it]"
          ],
          "name": "stderr"
        },
        {
          "output_type": "stream",
          "text": [
            "\rtrain batch [22/41]: loss 0.3755284547805786"
          ],
          "name": "stdout"
        },
        {
          "output_type": "stream",
          "text": [
            "\r23it [05:18, 13.94s/it]"
          ],
          "name": "stderr"
        },
        {
          "output_type": "stream",
          "text": [
            "\rtrain batch [23/41]: loss 0.36361587047576904"
          ],
          "name": "stdout"
        },
        {
          "output_type": "stream",
          "text": [
            "\r24it [05:32, 13.93s/it]"
          ],
          "name": "stderr"
        },
        {
          "output_type": "stream",
          "text": [
            "\rtrain batch [24/41]: loss 0.3585154712200165"
          ],
          "name": "stdout"
        },
        {
          "output_type": "stream",
          "text": [
            "\r25it [05:46, 13.91s/it]"
          ],
          "name": "stderr"
        },
        {
          "output_type": "stream",
          "text": [
            "\rtrain batch [25/41]: loss 0.3484562039375305"
          ],
          "name": "stdout"
        },
        {
          "output_type": "stream",
          "text": [
            "\r26it [06:00, 13.96s/it]"
          ],
          "name": "stderr"
        },
        {
          "output_type": "stream",
          "text": [
            "\rtrain batch [26/41]: loss 0.3474810719490051"
          ],
          "name": "stdout"
        },
        {
          "output_type": "stream",
          "text": [
            "\r27it [06:14, 13.90s/it]"
          ],
          "name": "stderr"
        },
        {
          "output_type": "stream",
          "text": [
            "\rtrain batch [27/41]: loss 0.282412052154541"
          ],
          "name": "stdout"
        },
        {
          "output_type": "stream",
          "text": [
            "\r28it [06:28, 13.87s/it]"
          ],
          "name": "stderr"
        },
        {
          "output_type": "stream",
          "text": [
            "\rtrain batch [28/41]: loss 0.40018948912620544"
          ],
          "name": "stdout"
        },
        {
          "output_type": "stream",
          "text": [
            "\r29it [06:42, 13.88s/it]"
          ],
          "name": "stderr"
        },
        {
          "output_type": "stream",
          "text": [
            "\rtrain batch [29/41]: loss 0.32810157537460327"
          ],
          "name": "stdout"
        },
        {
          "output_type": "stream",
          "text": [
            "\r30it [06:56, 13.95s/it]"
          ],
          "name": "stderr"
        },
        {
          "output_type": "stream",
          "text": [
            "\rtrain batch [30/41]: loss 0.3505261540412903"
          ],
          "name": "stdout"
        },
        {
          "output_type": "stream",
          "text": [
            "\r31it [07:09, 13.91s/it]"
          ],
          "name": "stderr"
        },
        {
          "output_type": "stream",
          "text": [
            "\rtrain batch [31/41]: loss 0.4378558099269867"
          ],
          "name": "stdout"
        },
        {
          "output_type": "stream",
          "text": [
            "\r32it [07:23, 13.91s/it]"
          ],
          "name": "stderr"
        },
        {
          "output_type": "stream",
          "text": [
            "\rtrain batch [32/41]: loss 0.40498095750808716"
          ],
          "name": "stdout"
        },
        {
          "output_type": "stream",
          "text": [
            "\r33it [07:37, 13.91s/it]"
          ],
          "name": "stderr"
        },
        {
          "output_type": "stream",
          "text": [
            "\rtrain batch [33/41]: loss 0.28786009550094604"
          ],
          "name": "stdout"
        },
        {
          "output_type": "stream",
          "text": [
            "\r34it [07:51, 13.81s/it]"
          ],
          "name": "stderr"
        },
        {
          "output_type": "stream",
          "text": [
            "\rtrain batch [34/41]: loss 0.3155902326107025"
          ],
          "name": "stdout"
        },
        {
          "output_type": "stream",
          "text": [
            "\r35it [08:05, 13.79s/it]"
          ],
          "name": "stderr"
        },
        {
          "output_type": "stream",
          "text": [
            "\rtrain batch [35/41]: loss 0.3833853602409363"
          ],
          "name": "stdout"
        },
        {
          "output_type": "stream",
          "text": [
            "\r36it [08:18, 13.80s/it]"
          ],
          "name": "stderr"
        },
        {
          "output_type": "stream",
          "text": [
            "\rtrain batch [36/41]: loss 0.42832547426223755"
          ],
          "name": "stdout"
        },
        {
          "output_type": "stream",
          "text": [
            "\r37it [08:32, 13.82s/it]"
          ],
          "name": "stderr"
        },
        {
          "output_type": "stream",
          "text": [
            "\rtrain batch [37/41]: loss 0.31406170129776"
          ],
          "name": "stdout"
        },
        {
          "output_type": "stream",
          "text": [
            "\r38it [08:46, 13.81s/it]"
          ],
          "name": "stderr"
        },
        {
          "output_type": "stream",
          "text": [
            "\rtrain batch [38/41]: loss 0.33992505073547363"
          ],
          "name": "stdout"
        },
        {
          "output_type": "stream",
          "text": [
            "\r39it [09:00, 13.81s/it]"
          ],
          "name": "stderr"
        },
        {
          "output_type": "stream",
          "text": [
            "\rtrain batch [39/41]: loss 0.32003164291381836"
          ],
          "name": "stdout"
        },
        {
          "output_type": "stream",
          "text": [
            "\r40it [09:14, 13.85s/it]"
          ],
          "name": "stderr"
        },
        {
          "output_type": "stream",
          "text": [
            "\rtrain batch [40/41]: loss 0.43620142340660095"
          ],
          "name": "stdout"
        },
        {
          "output_type": "stream",
          "text": [
            "41it [09:25, 13.78s/it]"
          ],
          "name": "stderr"
        },
        {
          "output_type": "stream",
          "text": [
            "\rval batch [0/4]: loss 2.1555933952331543"
          ],
          "name": "stdout"
        },
        {
          "output_type": "stream",
          "text": [
            "\n"
          ],
          "name": "stderr"
        },
        {
          "output_type": "stream",
          "text": [
            "val batch [3/4]: loss 0.08831241726875305"
          ],
          "name": "stdout"
        },
        {
          "output_type": "stream",
          "text": [
            "\r0it [00:00, ?it/s]"
          ],
          "name": "stderr"
        },
        {
          "output_type": "stream",
          "text": [
            "\n",
            "Train loss: 0.3496187438325184, Train accuracy: 0.8241947889328003\n",
            "Val loss: 0.9739875420928001, Val accuracy: 0.5625\n",
            "\n",
            "=============== Epoch: 43\n",
            "train batch [0/41]: loss 0.4115029573440552"
          ],
          "name": "stdout"
        },
        {
          "output_type": "stream",
          "text": [
            "\r1it [00:13, 13.89s/it]"
          ],
          "name": "stderr"
        },
        {
          "output_type": "stream",
          "text": [
            "\rtrain batch [1/41]: loss 0.3839496076107025"
          ],
          "name": "stdout"
        },
        {
          "output_type": "stream",
          "text": [
            "\r2it [00:27, 13.91s/it]"
          ],
          "name": "stderr"
        },
        {
          "output_type": "stream",
          "text": [
            "\rtrain batch [2/41]: loss 0.4774334728717804"
          ],
          "name": "stdout"
        },
        {
          "output_type": "stream",
          "text": [
            "\r3it [00:41, 13.94s/it]"
          ],
          "name": "stderr"
        },
        {
          "output_type": "stream",
          "text": [
            "\rtrain batch [3/41]: loss 0.38936764001846313"
          ],
          "name": "stdout"
        },
        {
          "output_type": "stream",
          "text": [
            "\r4it [00:55, 13.90s/it]"
          ],
          "name": "stderr"
        },
        {
          "output_type": "stream",
          "text": [
            "\rtrain batch [4/41]: loss 0.31183210015296936"
          ],
          "name": "stdout"
        },
        {
          "output_type": "stream",
          "text": [
            "\r5it [01:09, 13.91s/it]"
          ],
          "name": "stderr"
        },
        {
          "output_type": "stream",
          "text": [
            "\rtrain batch [5/41]: loss 0.38651522994041443"
          ],
          "name": "stdout"
        },
        {
          "output_type": "stream",
          "text": [
            "\r6it [01:23, 13.94s/it]"
          ],
          "name": "stderr"
        },
        {
          "output_type": "stream",
          "text": [
            "\rtrain batch [6/41]: loss 0.3251223862171173"
          ],
          "name": "stdout"
        },
        {
          "output_type": "stream",
          "text": [
            "\r7it [01:37, 13.88s/it]"
          ],
          "name": "stderr"
        },
        {
          "output_type": "stream",
          "text": [
            "\rtrain batch [7/41]: loss 0.3582074046134949"
          ],
          "name": "stdout"
        },
        {
          "output_type": "stream",
          "text": [
            "\r8it [01:51, 13.87s/it]"
          ],
          "name": "stderr"
        },
        {
          "output_type": "stream",
          "text": [
            "\rtrain batch [8/41]: loss 0.30035269260406494"
          ],
          "name": "stdout"
        },
        {
          "output_type": "stream",
          "text": [
            "\r9it [02:04, 13.82s/it]"
          ],
          "name": "stderr"
        },
        {
          "output_type": "stream",
          "text": [
            "\rtrain batch [9/41]: loss 0.42384427785873413"
          ],
          "name": "stdout"
        },
        {
          "output_type": "stream",
          "text": [
            "\r10it [02:18, 13.84s/it]"
          ],
          "name": "stderr"
        },
        {
          "output_type": "stream",
          "text": [
            "\rtrain batch [10/41]: loss 0.385215163230896"
          ],
          "name": "stdout"
        },
        {
          "output_type": "stream",
          "text": [
            "\r11it [02:32, 13.87s/it]"
          ],
          "name": "stderr"
        },
        {
          "output_type": "stream",
          "text": [
            "\rtrain batch [11/41]: loss 0.35611093044281006"
          ],
          "name": "stdout"
        },
        {
          "output_type": "stream",
          "text": [
            "\r12it [02:46, 13.90s/it]"
          ],
          "name": "stderr"
        },
        {
          "output_type": "stream",
          "text": [
            "\rtrain batch [12/41]: loss 0.29726988077163696"
          ],
          "name": "stdout"
        },
        {
          "output_type": "stream",
          "text": [
            "\r13it [03:00, 13.87s/it]"
          ],
          "name": "stderr"
        },
        {
          "output_type": "stream",
          "text": [
            "\rtrain batch [13/41]: loss 0.2923433184623718"
          ],
          "name": "stdout"
        },
        {
          "output_type": "stream",
          "text": [
            "\r14it [03:14, 13.86s/it]"
          ],
          "name": "stderr"
        },
        {
          "output_type": "stream",
          "text": [
            "\rtrain batch [14/41]: loss 0.2921212315559387"
          ],
          "name": "stdout"
        },
        {
          "output_type": "stream",
          "text": [
            "\r15it [03:28, 13.85s/it]"
          ],
          "name": "stderr"
        },
        {
          "output_type": "stream",
          "text": [
            "\rtrain batch [15/41]: loss 0.26939475536346436"
          ],
          "name": "stdout"
        },
        {
          "output_type": "stream",
          "text": [
            "\r16it [03:41, 13.80s/it]"
          ],
          "name": "stderr"
        },
        {
          "output_type": "stream",
          "text": [
            "\rtrain batch [16/41]: loss 0.42669326066970825"
          ],
          "name": "stdout"
        },
        {
          "output_type": "stream",
          "text": [
            "\r17it [03:55, 13.90s/it]"
          ],
          "name": "stderr"
        },
        {
          "output_type": "stream",
          "text": [
            "\rtrain batch [17/41]: loss 0.394356906414032"
          ],
          "name": "stdout"
        },
        {
          "output_type": "stream",
          "text": [
            "\r18it [04:09, 13.91s/it]"
          ],
          "name": "stderr"
        },
        {
          "output_type": "stream",
          "text": [
            "\rtrain batch [18/41]: loss 0.41436856985092163"
          ],
          "name": "stdout"
        },
        {
          "output_type": "stream",
          "text": [
            "\r19it [04:23, 13.93s/it]"
          ],
          "name": "stderr"
        },
        {
          "output_type": "stream",
          "text": [
            "\rtrain batch [19/41]: loss 0.36483681201934814"
          ],
          "name": "stdout"
        },
        {
          "output_type": "stream",
          "text": [
            "\r20it [04:37, 13.96s/it]"
          ],
          "name": "stderr"
        },
        {
          "output_type": "stream",
          "text": [
            "\rtrain batch [20/41]: loss 0.39259374141693115"
          ],
          "name": "stdout"
        },
        {
          "output_type": "stream",
          "text": [
            "\r21it [04:51, 13.93s/it]"
          ],
          "name": "stderr"
        },
        {
          "output_type": "stream",
          "text": [
            "\rtrain batch [21/41]: loss 0.5420137047767639"
          ],
          "name": "stdout"
        },
        {
          "output_type": "stream",
          "text": [
            "\r22it [05:05, 13.98s/it]"
          ],
          "name": "stderr"
        },
        {
          "output_type": "stream",
          "text": [
            "\rtrain batch [22/41]: loss 0.2818393111228943"
          ],
          "name": "stdout"
        },
        {
          "output_type": "stream",
          "text": [
            "\r23it [05:19, 13.92s/it]"
          ],
          "name": "stderr"
        },
        {
          "output_type": "stream",
          "text": [
            "\rtrain batch [23/41]: loss 0.2501992881298065"
          ],
          "name": "stdout"
        },
        {
          "output_type": "stream",
          "text": [
            "\r24it [05:33, 13.83s/it]"
          ],
          "name": "stderr"
        },
        {
          "output_type": "stream",
          "text": [
            "\rtrain batch [24/41]: loss 0.3478890657424927"
          ],
          "name": "stdout"
        },
        {
          "output_type": "stream",
          "text": [
            "\r25it [05:47, 13.83s/it]"
          ],
          "name": "stderr"
        },
        {
          "output_type": "stream",
          "text": [
            "\rtrain batch [25/41]: loss 0.47106003761291504"
          ],
          "name": "stdout"
        },
        {
          "output_type": "stream",
          "text": [
            "\r26it [06:00, 13.83s/it]"
          ],
          "name": "stderr"
        },
        {
          "output_type": "stream",
          "text": [
            "\rtrain batch [26/41]: loss 0.25814834237098694"
          ],
          "name": "stdout"
        },
        {
          "output_type": "stream",
          "text": [
            "\r27it [06:14, 13.76s/it]"
          ],
          "name": "stderr"
        },
        {
          "output_type": "stream",
          "text": [
            "\rtrain batch [27/41]: loss 0.32029348611831665"
          ],
          "name": "stdout"
        },
        {
          "output_type": "stream",
          "text": [
            "\r28it [06:28, 13.80s/it]"
          ],
          "name": "stderr"
        },
        {
          "output_type": "stream",
          "text": [
            "\rtrain batch [28/41]: loss 0.4333506226539612"
          ],
          "name": "stdout"
        },
        {
          "output_type": "stream",
          "text": [
            "\r29it [06:42, 13.86s/it]"
          ],
          "name": "stderr"
        },
        {
          "output_type": "stream",
          "text": [
            "\rtrain batch [29/41]: loss 0.2260228544473648"
          ],
          "name": "stdout"
        },
        {
          "output_type": "stream",
          "text": [
            "\r30it [06:56, 13.82s/it]"
          ],
          "name": "stderr"
        },
        {
          "output_type": "stream",
          "text": [
            "\rtrain batch [30/41]: loss 0.3821171522140503"
          ],
          "name": "stdout"
        },
        {
          "output_type": "stream",
          "text": [
            "\r31it [07:10, 13.86s/it]"
          ],
          "name": "stderr"
        },
        {
          "output_type": "stream",
          "text": [
            "\rtrain batch [31/41]: loss 0.3419994115829468"
          ],
          "name": "stdout"
        },
        {
          "output_type": "stream",
          "text": [
            "\r32it [07:23, 13.83s/it]"
          ],
          "name": "stderr"
        },
        {
          "output_type": "stream",
          "text": [
            "\rtrain batch [32/41]: loss 0.4060673117637634"
          ],
          "name": "stdout"
        },
        {
          "output_type": "stream",
          "text": [
            "\r33it [07:37, 13.87s/it]"
          ],
          "name": "stderr"
        },
        {
          "output_type": "stream",
          "text": [
            "\rtrain batch [33/41]: loss 0.30894339084625244"
          ],
          "name": "stdout"
        },
        {
          "output_type": "stream",
          "text": [
            "\r34it [07:51, 13.88s/it]"
          ],
          "name": "stderr"
        },
        {
          "output_type": "stream",
          "text": [
            "\rtrain batch [34/41]: loss 0.3926207423210144"
          ],
          "name": "stdout"
        },
        {
          "output_type": "stream",
          "text": [
            "\r35it [08:05, 13.96s/it]"
          ],
          "name": "stderr"
        },
        {
          "output_type": "stream",
          "text": [
            "\rtrain batch [35/41]: loss 0.338373064994812"
          ],
          "name": "stdout"
        },
        {
          "output_type": "stream",
          "text": [
            "\r36it [08:19, 13.91s/it]"
          ],
          "name": "stderr"
        },
        {
          "output_type": "stream",
          "text": [
            "\rtrain batch [36/41]: loss 0.3128257095813751"
          ],
          "name": "stdout"
        },
        {
          "output_type": "stream",
          "text": [
            "\r37it [08:33, 13.88s/it]"
          ],
          "name": "stderr"
        },
        {
          "output_type": "stream",
          "text": [
            "\rtrain batch [37/41]: loss 0.287728488445282"
          ],
          "name": "stdout"
        },
        {
          "output_type": "stream",
          "text": [
            "\r38it [08:47, 13.87s/it]"
          ],
          "name": "stderr"
        },
        {
          "output_type": "stream",
          "text": [
            "\rtrain batch [38/41]: loss 0.41359564661979675"
          ],
          "name": "stdout"
        },
        {
          "output_type": "stream",
          "text": [
            "\r39it [09:01, 13.87s/it]"
          ],
          "name": "stderr"
        },
        {
          "output_type": "stream",
          "text": [
            "\rtrain batch [39/41]: loss 0.3816985487937927"
          ],
          "name": "stdout"
        },
        {
          "output_type": "stream",
          "text": [
            "\r40it [09:14, 13.79s/it]"
          ],
          "name": "stderr"
        },
        {
          "output_type": "stream",
          "text": [
            "\rtrain batch [40/41]: loss 0.30817553400993347"
          ],
          "name": "stdout"
        },
        {
          "output_type": "stream",
          "text": [
            "41it [09:25, 13.79s/it]"
          ],
          "name": "stderr"
        },
        {
          "output_type": "stream",
          "text": [
            "\rval batch [0/4]: loss 2.591552495956421"
          ],
          "name": "stdout"
        },
        {
          "output_type": "stream",
          "text": [
            "\n"
          ],
          "name": "stderr"
        },
        {
          "output_type": "stream",
          "text": [
            "val batch [3/4]: loss 0.06227995455265045"
          ],
          "name": "stdout"
        },
        {
          "output_type": "stream",
          "text": [
            "\r0it [00:00, ?it/s]"
          ],
          "name": "stderr"
        },
        {
          "output_type": "stream",
          "text": [
            "\n",
            "Train loss: 0.3575218003697512, Train accuracy: 0.8178680539131165\n",
            "Val loss: 1.0463064946234226, Val accuracy: 0.625\n",
            "\n",
            "=============== Epoch: 44\n",
            "train batch [0/41]: loss 0.3567870855331421"
          ],
          "name": "stdout"
        },
        {
          "output_type": "stream",
          "text": [
            "\r1it [00:13, 13.86s/it]"
          ],
          "name": "stderr"
        },
        {
          "output_type": "stream",
          "text": [
            "\rtrain batch [1/41]: loss 0.35589170455932617"
          ],
          "name": "stdout"
        },
        {
          "output_type": "stream",
          "text": [
            "\r2it [00:27, 13.88s/it]"
          ],
          "name": "stderr"
        },
        {
          "output_type": "stream",
          "text": [
            "\rtrain batch [2/41]: loss 0.32734382152557373"
          ],
          "name": "stdout"
        },
        {
          "output_type": "stream",
          "text": [
            "\r3it [00:41, 13.93s/it]"
          ],
          "name": "stderr"
        },
        {
          "output_type": "stream",
          "text": [
            "\rtrain batch [3/41]: loss 0.5151544213294983"
          ],
          "name": "stdout"
        },
        {
          "output_type": "stream",
          "text": [
            "\r4it [00:55, 13.93s/it]"
          ],
          "name": "stderr"
        },
        {
          "output_type": "stream",
          "text": [
            "\rtrain batch [4/41]: loss 0.3377451002597809"
          ],
          "name": "stdout"
        },
        {
          "output_type": "stream",
          "text": [
            "\r5it [01:09, 13.92s/it]"
          ],
          "name": "stderr"
        },
        {
          "output_type": "stream",
          "text": [
            "\rtrain batch [5/41]: loss 0.3349708020687103"
          ],
          "name": "stdout"
        },
        {
          "output_type": "stream",
          "text": [
            "\r6it [01:23, 13.98s/it]"
          ],
          "name": "stderr"
        },
        {
          "output_type": "stream",
          "text": [
            "\rtrain batch [6/41]: loss 0.3713042140007019"
          ],
          "name": "stdout"
        },
        {
          "output_type": "stream",
          "text": [
            "\r7it [01:37, 13.98s/it]"
          ],
          "name": "stderr"
        },
        {
          "output_type": "stream",
          "text": [
            "\rtrain batch [7/41]: loss 0.4588310122489929"
          ],
          "name": "stdout"
        },
        {
          "output_type": "stream",
          "text": [
            "\r8it [01:51, 13.99s/it]"
          ],
          "name": "stderr"
        },
        {
          "output_type": "stream",
          "text": [
            "\rtrain batch [8/41]: loss 0.44303321838378906"
          ],
          "name": "stdout"
        },
        {
          "output_type": "stream",
          "text": [
            "\r9it [02:05, 13.97s/it]"
          ],
          "name": "stderr"
        },
        {
          "output_type": "stream",
          "text": [
            "\rtrain batch [9/41]: loss 0.261410653591156"
          ],
          "name": "stdout"
        },
        {
          "output_type": "stream",
          "text": [
            "\r10it [02:19, 13.91s/it]"
          ],
          "name": "stderr"
        },
        {
          "output_type": "stream",
          "text": [
            "\rtrain batch [10/41]: loss 0.31079596281051636"
          ],
          "name": "stdout"
        },
        {
          "output_type": "stream",
          "text": [
            "\r11it [02:33, 13.90s/it]"
          ],
          "name": "stderr"
        },
        {
          "output_type": "stream",
          "text": [
            "\rtrain batch [11/41]: loss 0.34242725372314453"
          ],
          "name": "stdout"
        },
        {
          "output_type": "stream",
          "text": [
            "\r12it [02:47, 13.89s/it]"
          ],
          "name": "stderr"
        },
        {
          "output_type": "stream",
          "text": [
            "\rtrain batch [12/41]: loss 0.33415767550468445"
          ],
          "name": "stdout"
        },
        {
          "output_type": "stream",
          "text": [
            "\r13it [03:01, 13.92s/it]"
          ],
          "name": "stderr"
        },
        {
          "output_type": "stream",
          "text": [
            "\rtrain batch [13/41]: loss 0.2916909456253052"
          ],
          "name": "stdout"
        },
        {
          "output_type": "stream",
          "text": [
            "\r14it [03:14, 13.82s/it]"
          ],
          "name": "stderr"
        },
        {
          "output_type": "stream",
          "text": [
            "\rtrain batch [14/41]: loss 0.38745105266571045"
          ],
          "name": "stdout"
        },
        {
          "output_type": "stream",
          "text": [
            "\r15it [03:28, 13.89s/it]"
          ],
          "name": "stderr"
        },
        {
          "output_type": "stream",
          "text": [
            "\rtrain batch [15/41]: loss 0.3631564676761627"
          ],
          "name": "stdout"
        },
        {
          "output_type": "stream",
          "text": [
            "\r16it [03:42, 13.86s/it]"
          ],
          "name": "stderr"
        },
        {
          "output_type": "stream",
          "text": [
            "\rtrain batch [16/41]: loss 0.36199861764907837"
          ],
          "name": "stdout"
        },
        {
          "output_type": "stream",
          "text": [
            "\r17it [03:56, 13.82s/it]"
          ],
          "name": "stderr"
        },
        {
          "output_type": "stream",
          "text": [
            "\rtrain batch [17/41]: loss 0.2293757200241089"
          ],
          "name": "stdout"
        },
        {
          "output_type": "stream",
          "text": [
            "\r18it [04:10, 13.78s/it]"
          ],
          "name": "stderr"
        },
        {
          "output_type": "stream",
          "text": [
            "\rtrain batch [18/41]: loss 0.31685835123062134"
          ],
          "name": "stdout"
        },
        {
          "output_type": "stream",
          "text": [
            "\r19it [04:23, 13.81s/it]"
          ],
          "name": "stderr"
        },
        {
          "output_type": "stream",
          "text": [
            "\rtrain batch [19/41]: loss 0.34245574474334717"
          ],
          "name": "stdout"
        },
        {
          "output_type": "stream",
          "text": [
            "\r20it [04:37, 13.87s/it]"
          ],
          "name": "stderr"
        },
        {
          "output_type": "stream",
          "text": [
            "\rtrain batch [20/41]: loss 0.38865357637405396"
          ],
          "name": "stdout"
        },
        {
          "output_type": "stream",
          "text": [
            "\r21it [04:51, 13.83s/it]"
          ],
          "name": "stderr"
        },
        {
          "output_type": "stream",
          "text": [
            "\rtrain batch [21/41]: loss 0.30299022793769836"
          ],
          "name": "stdout"
        },
        {
          "output_type": "stream",
          "text": [
            "\r22it [05:05, 13.80s/it]"
          ],
          "name": "stderr"
        },
        {
          "output_type": "stream",
          "text": [
            "\rtrain batch [22/41]: loss 0.34300482273101807"
          ],
          "name": "stdout"
        },
        {
          "output_type": "stream",
          "text": [
            "\r23it [05:19, 13.86s/it]"
          ],
          "name": "stderr"
        },
        {
          "output_type": "stream",
          "text": [
            "\rtrain batch [23/41]: loss 0.4137844443321228"
          ],
          "name": "stdout"
        },
        {
          "output_type": "stream",
          "text": [
            "\r24it [05:33, 13.86s/it]"
          ],
          "name": "stderr"
        },
        {
          "output_type": "stream",
          "text": [
            "\rtrain batch [24/41]: loss 0.3420518636703491"
          ],
          "name": "stdout"
        },
        {
          "output_type": "stream",
          "text": [
            "\r25it [05:47, 13.82s/it]"
          ],
          "name": "stderr"
        },
        {
          "output_type": "stream",
          "text": [
            "\rtrain batch [25/41]: loss 0.35669708251953125"
          ],
          "name": "stdout"
        },
        {
          "output_type": "stream",
          "text": [
            "\r26it [06:01, 13.89s/it]"
          ],
          "name": "stderr"
        },
        {
          "output_type": "stream",
          "text": [
            "\rtrain batch [26/41]: loss 0.39274901151657104"
          ],
          "name": "stdout"
        },
        {
          "output_type": "stream",
          "text": [
            "\r27it [06:15, 13.92s/it]"
          ],
          "name": "stderr"
        },
        {
          "output_type": "stream",
          "text": [
            "\rtrain batch [27/41]: loss 0.35799846053123474"
          ],
          "name": "stdout"
        },
        {
          "output_type": "stream",
          "text": [
            "\r28it [06:28, 13.93s/it]"
          ],
          "name": "stderr"
        },
        {
          "output_type": "stream",
          "text": [
            "\rtrain batch [28/41]: loss 0.3135584592819214"
          ],
          "name": "stdout"
        },
        {
          "output_type": "stream",
          "text": [
            "\r29it [06:42, 13.86s/it]"
          ],
          "name": "stderr"
        },
        {
          "output_type": "stream",
          "text": [
            "\rtrain batch [29/41]: loss 0.3737647533416748"
          ],
          "name": "stdout"
        },
        {
          "output_type": "stream",
          "text": [
            "\r30it [06:56, 13.84s/it]"
          ],
          "name": "stderr"
        },
        {
          "output_type": "stream",
          "text": [
            "\rtrain batch [30/41]: loss 0.27408358454704285"
          ],
          "name": "stdout"
        },
        {
          "output_type": "stream",
          "text": [
            "\r31it [07:10, 13.84s/it]"
          ],
          "name": "stderr"
        },
        {
          "output_type": "stream",
          "text": [
            "\rtrain batch [31/41]: loss 0.28774094581604004"
          ],
          "name": "stdout"
        },
        {
          "output_type": "stream",
          "text": [
            "\r32it [07:23, 13.76s/it]"
          ],
          "name": "stderr"
        },
        {
          "output_type": "stream",
          "text": [
            "\rtrain batch [32/41]: loss 0.2825695276260376"
          ],
          "name": "stdout"
        },
        {
          "output_type": "stream",
          "text": [
            "\r33it [07:37, 13.75s/it]"
          ],
          "name": "stderr"
        },
        {
          "output_type": "stream",
          "text": [
            "\rtrain batch [33/41]: loss 0.31668978929519653"
          ],
          "name": "stdout"
        },
        {
          "output_type": "stream",
          "text": [
            "\r34it [07:51, 13.80s/it]"
          ],
          "name": "stderr"
        },
        {
          "output_type": "stream",
          "text": [
            "\rtrain batch [34/41]: loss 0.32909753918647766"
          ],
          "name": "stdout"
        },
        {
          "output_type": "stream",
          "text": [
            "\r35it [08:05, 13.84s/it]"
          ],
          "name": "stderr"
        },
        {
          "output_type": "stream",
          "text": [
            "\rtrain batch [35/41]: loss 0.3850145637989044"
          ],
          "name": "stdout"
        },
        {
          "output_type": "stream",
          "text": [
            "\r36it [08:19, 13.85s/it]"
          ],
          "name": "stderr"
        },
        {
          "output_type": "stream",
          "text": [
            "\rtrain batch [36/41]: loss 0.27614784240722656"
          ],
          "name": "stdout"
        },
        {
          "output_type": "stream",
          "text": [
            "\r37it [08:33, 13.82s/it]"
          ],
          "name": "stderr"
        },
        {
          "output_type": "stream",
          "text": [
            "\rtrain batch [37/41]: loss 0.271101176738739"
          ],
          "name": "stdout"
        },
        {
          "output_type": "stream",
          "text": [
            "\r38it [08:46, 13.84s/it]"
          ],
          "name": "stderr"
        },
        {
          "output_type": "stream",
          "text": [
            "\rtrain batch [38/41]: loss 0.31825095415115356"
          ],
          "name": "stdout"
        },
        {
          "output_type": "stream",
          "text": [
            "\r39it [09:00, 13.82s/it]"
          ],
          "name": "stderr"
        },
        {
          "output_type": "stream",
          "text": [
            "\rtrain batch [39/41]: loss 0.34921351075172424"
          ],
          "name": "stdout"
        },
        {
          "output_type": "stream",
          "text": [
            "\r40it [09:14, 13.80s/it]"
          ],
          "name": "stderr"
        },
        {
          "output_type": "stream",
          "text": [
            "\rtrain batch [40/41]: loss 0.38960713148117065"
          ],
          "name": "stdout"
        },
        {
          "output_type": "stream",
          "text": [
            "41it [09:25, 13.79s/it]"
          ],
          "name": "stderr"
        },
        {
          "output_type": "stream",
          "text": [
            "\rval batch [0/4]: loss 2.187425136566162"
          ],
          "name": "stdout"
        },
        {
          "output_type": "stream",
          "text": [
            "\n"
          ],
          "name": "stderr"
        },
        {
          "output_type": "stream",
          "text": [
            "val batch [3/4]: loss 0.0385720431804657"
          ],
          "name": "stdout"
        },
        {
          "output_type": "stream",
          "text": [
            "\r0it [00:00, ?it/s]"
          ],
          "name": "stderr"
        },
        {
          "output_type": "stream",
          "text": [
            "\n",
            "Train loss: 0.3440880299341388, Train accuracy: 0.8305214643478394\n",
            "Val loss: 0.9666923247277737, Val accuracy: 0.5625\n",
            "\n",
            "=============== Epoch: 45\n",
            "train batch [0/41]: loss 0.3649252653121948"
          ],
          "name": "stdout"
        },
        {
          "output_type": "stream",
          "text": [
            "\r1it [00:13, 13.89s/it]"
          ],
          "name": "stderr"
        },
        {
          "output_type": "stream",
          "text": [
            "\rtrain batch [1/41]: loss 0.3758887052536011"
          ],
          "name": "stdout"
        },
        {
          "output_type": "stream",
          "text": [
            "\r2it [00:27, 13.87s/it]"
          ],
          "name": "stderr"
        },
        {
          "output_type": "stream",
          "text": [
            "\rtrain batch [2/41]: loss 0.29209670424461365"
          ],
          "name": "stdout"
        },
        {
          "output_type": "stream",
          "text": [
            "\r3it [00:41, 13.90s/it]"
          ],
          "name": "stderr"
        },
        {
          "output_type": "stream",
          "text": [
            "\rtrain batch [3/41]: loss 0.37742891907691956"
          ],
          "name": "stdout"
        },
        {
          "output_type": "stream",
          "text": [
            "\r4it [00:55, 13.91s/it]"
          ],
          "name": "stderr"
        },
        {
          "output_type": "stream",
          "text": [
            "\rtrain batch [4/41]: loss 0.3469446301460266"
          ],
          "name": "stdout"
        },
        {
          "output_type": "stream",
          "text": [
            "\r5it [01:09, 13.89s/it]"
          ],
          "name": "stderr"
        },
        {
          "output_type": "stream",
          "text": [
            "\rtrain batch [5/41]: loss 0.45316213369369507"
          ],
          "name": "stdout"
        },
        {
          "output_type": "stream",
          "text": [
            "\r6it [01:23, 13.96s/it]"
          ],
          "name": "stderr"
        },
        {
          "output_type": "stream",
          "text": [
            "\rtrain batch [6/41]: loss 0.33338066935539246"
          ],
          "name": "stdout"
        },
        {
          "output_type": "stream",
          "text": [
            "\r7it [01:37, 13.93s/it]"
          ],
          "name": "stderr"
        },
        {
          "output_type": "stream",
          "text": [
            "\rtrain batch [7/41]: loss 0.293266236782074"
          ],
          "name": "stdout"
        },
        {
          "output_type": "stream",
          "text": [
            "\r8it [01:51, 13.87s/it]"
          ],
          "name": "stderr"
        },
        {
          "output_type": "stream",
          "text": [
            "\rtrain batch [8/41]: loss 0.2721025049686432"
          ],
          "name": "stdout"
        },
        {
          "output_type": "stream",
          "text": [
            "\r9it [02:04, 13.76s/it]"
          ],
          "name": "stderr"
        },
        {
          "output_type": "stream",
          "text": [
            "\rtrain batch [9/41]: loss 0.36091190576553345"
          ],
          "name": "stdout"
        },
        {
          "output_type": "stream",
          "text": [
            "\r10it [02:18, 13.80s/it]"
          ],
          "name": "stderr"
        },
        {
          "output_type": "stream",
          "text": [
            "\rtrain batch [10/41]: loss 0.3079928159713745"
          ],
          "name": "stdout"
        },
        {
          "output_type": "stream",
          "text": [
            "\r11it [02:32, 13.79s/it]"
          ],
          "name": "stderr"
        },
        {
          "output_type": "stream",
          "text": [
            "\rtrain batch [11/41]: loss 0.2544141709804535"
          ],
          "name": "stdout"
        },
        {
          "output_type": "stream",
          "text": [
            "\r12it [02:46, 13.84s/it]"
          ],
          "name": "stderr"
        },
        {
          "output_type": "stream",
          "text": [
            "\rtrain batch [12/41]: loss 0.35107171535491943"
          ],
          "name": "stdout"
        },
        {
          "output_type": "stream",
          "text": [
            "\r13it [03:00, 13.83s/it]"
          ],
          "name": "stderr"
        },
        {
          "output_type": "stream",
          "text": [
            "\rtrain batch [13/41]: loss 0.3126509189605713"
          ],
          "name": "stdout"
        },
        {
          "output_type": "stream",
          "text": [
            "\r14it [03:13, 13.80s/it]"
          ],
          "name": "stderr"
        },
        {
          "output_type": "stream",
          "text": [
            "\rtrain batch [14/41]: loss 0.4073549509048462"
          ],
          "name": "stdout"
        },
        {
          "output_type": "stream",
          "text": [
            "\r15it [03:27, 13.87s/it]"
          ],
          "name": "stderr"
        },
        {
          "output_type": "stream",
          "text": [
            "\rtrain batch [15/41]: loss 0.3594270944595337"
          ],
          "name": "stdout"
        },
        {
          "output_type": "stream",
          "text": [
            "\r16it [03:41, 13.89s/it]"
          ],
          "name": "stderr"
        },
        {
          "output_type": "stream",
          "text": [
            "\rtrain batch [16/41]: loss 0.23123008012771606"
          ],
          "name": "stdout"
        },
        {
          "output_type": "stream",
          "text": [
            "\r17it [03:55, 13.83s/it]"
          ],
          "name": "stderr"
        },
        {
          "output_type": "stream",
          "text": [
            "\rtrain batch [17/41]: loss 0.2800585627555847"
          ],
          "name": "stdout"
        },
        {
          "output_type": "stream",
          "text": [
            "\r18it [04:09, 13.88s/it]"
          ],
          "name": "stderr"
        },
        {
          "output_type": "stream",
          "text": [
            "\rtrain batch [18/41]: loss 0.2975715398788452"
          ],
          "name": "stdout"
        },
        {
          "output_type": "stream",
          "text": [
            "\r19it [04:23, 13.92s/it]"
          ],
          "name": "stderr"
        },
        {
          "output_type": "stream",
          "text": [
            "\rtrain batch [19/41]: loss 0.3653552830219269"
          ],
          "name": "stdout"
        },
        {
          "output_type": "stream",
          "text": [
            "\r20it [04:37, 13.90s/it]"
          ],
          "name": "stderr"
        },
        {
          "output_type": "stream",
          "text": [
            "\rtrain batch [20/41]: loss 0.30912184715270996"
          ],
          "name": "stdout"
        },
        {
          "output_type": "stream",
          "text": [
            "\r21it [04:51, 13.86s/it]"
          ],
          "name": "stderr"
        },
        {
          "output_type": "stream",
          "text": [
            "\rtrain batch [21/41]: loss 0.27605485916137695"
          ],
          "name": "stdout"
        },
        {
          "output_type": "stream",
          "text": [
            "\r22it [05:04, 13.82s/it]"
          ],
          "name": "stderr"
        },
        {
          "output_type": "stream",
          "text": [
            "\rtrain batch [22/41]: loss 0.3743790090084076"
          ],
          "name": "stdout"
        },
        {
          "output_type": "stream",
          "text": [
            "\r23it [05:18, 13.88s/it]"
          ],
          "name": "stderr"
        },
        {
          "output_type": "stream",
          "text": [
            "\rtrain batch [23/41]: loss 0.3710213303565979"
          ],
          "name": "stdout"
        },
        {
          "output_type": "stream",
          "text": [
            "\r24it [05:32, 13.87s/it]"
          ],
          "name": "stderr"
        },
        {
          "output_type": "stream",
          "text": [
            "\rtrain batch [24/41]: loss 0.3258593678474426"
          ],
          "name": "stdout"
        },
        {
          "output_type": "stream",
          "text": [
            "\r25it [05:46, 13.89s/it]"
          ],
          "name": "stderr"
        },
        {
          "output_type": "stream",
          "text": [
            "\rtrain batch [25/41]: loss 0.28091949224472046"
          ],
          "name": "stdout"
        },
        {
          "output_type": "stream",
          "text": [
            "\r26it [06:00, 13.87s/it]"
          ],
          "name": "stderr"
        },
        {
          "output_type": "stream",
          "text": [
            "\rtrain batch [26/41]: loss 0.3390185832977295"
          ],
          "name": "stdout"
        },
        {
          "output_type": "stream",
          "text": [
            "\r27it [06:14, 13.87s/it]"
          ],
          "name": "stderr"
        },
        {
          "output_type": "stream",
          "text": [
            "\rtrain batch [27/41]: loss 0.3032720685005188"
          ],
          "name": "stdout"
        },
        {
          "output_type": "stream",
          "text": [
            "\r28it [06:28, 13.88s/it]"
          ],
          "name": "stderr"
        },
        {
          "output_type": "stream",
          "text": [
            "\rtrain batch [28/41]: loss 0.2568364143371582"
          ],
          "name": "stdout"
        },
        {
          "output_type": "stream",
          "text": [
            "\r29it [06:42, 13.86s/it]"
          ],
          "name": "stderr"
        },
        {
          "output_type": "stream",
          "text": [
            "\rtrain batch [29/41]: loss 0.34567639231681824"
          ],
          "name": "stdout"
        },
        {
          "output_type": "stream",
          "text": [
            "\r30it [06:55, 13.81s/it]"
          ],
          "name": "stderr"
        },
        {
          "output_type": "stream",
          "text": [
            "\rtrain batch [30/41]: loss 0.27806222438812256"
          ],
          "name": "stdout"
        },
        {
          "output_type": "stream",
          "text": [
            "\r31it [07:09, 13.86s/it]"
          ],
          "name": "stderr"
        },
        {
          "output_type": "stream",
          "text": [
            "\rtrain batch [31/41]: loss 0.31935060024261475"
          ],
          "name": "stdout"
        },
        {
          "output_type": "stream",
          "text": [
            "\r32it [07:23, 13.86s/it]"
          ],
          "name": "stderr"
        },
        {
          "output_type": "stream",
          "text": [
            "\rtrain batch [32/41]: loss 0.3132486939430237"
          ],
          "name": "stdout"
        },
        {
          "output_type": "stream",
          "text": [
            "\r33it [07:37, 13.86s/it]"
          ],
          "name": "stderr"
        },
        {
          "output_type": "stream",
          "text": [
            "\rtrain batch [33/41]: loss 0.3026069104671478"
          ],
          "name": "stdout"
        },
        {
          "output_type": "stream",
          "text": [
            "\r34it [07:51, 13.81s/it]"
          ],
          "name": "stderr"
        },
        {
          "output_type": "stream",
          "text": [
            "\rtrain batch [34/41]: loss 0.29275912046432495"
          ],
          "name": "stdout"
        },
        {
          "output_type": "stream",
          "text": [
            "\r35it [08:04, 13.78s/it]"
          ],
          "name": "stderr"
        },
        {
          "output_type": "stream",
          "text": [
            "\rtrain batch [35/41]: loss 0.40249091386795044"
          ],
          "name": "stdout"
        },
        {
          "output_type": "stream",
          "text": [
            "\r36it [08:18, 13.84s/it]"
          ],
          "name": "stderr"
        },
        {
          "output_type": "stream",
          "text": [
            "\rtrain batch [36/41]: loss 0.3087978661060333"
          ],
          "name": "stdout"
        },
        {
          "output_type": "stream",
          "text": [
            "\r37it [08:32, 13.85s/it]"
          ],
          "name": "stderr"
        },
        {
          "output_type": "stream",
          "text": [
            "\rtrain batch [37/41]: loss 0.31567925214767456"
          ],
          "name": "stdout"
        },
        {
          "output_type": "stream",
          "text": [
            "\r38it [08:46, 13.88s/it]"
          ],
          "name": "stderr"
        },
        {
          "output_type": "stream",
          "text": [
            "\rtrain batch [38/41]: loss 0.3212894797325134"
          ],
          "name": "stdout"
        },
        {
          "output_type": "stream",
          "text": [
            "\r39it [09:00, 13.81s/it]"
          ],
          "name": "stderr"
        },
        {
          "output_type": "stream",
          "text": [
            "\rtrain batch [39/41]: loss 0.2854486107826233"
          ],
          "name": "stdout"
        },
        {
          "output_type": "stream",
          "text": [
            "\r40it [09:14, 13.82s/it]"
          ],
          "name": "stderr"
        },
        {
          "output_type": "stream",
          "text": [
            "\rtrain batch [40/41]: loss 0.35031068325042725"
          ],
          "name": "stdout"
        },
        {
          "output_type": "stream",
          "text": [
            "41it [09:24, 13.77s/it]"
          ],
          "name": "stderr"
        },
        {
          "output_type": "stream",
          "text": [
            "\rval batch [0/4]: loss 1.847827434539795"
          ],
          "name": "stdout"
        },
        {
          "output_type": "stream",
          "text": [
            "\n"
          ],
          "name": "stderr"
        },
        {
          "output_type": "stream",
          "text": [
            "val batch [3/4]: loss 0.058087632060050964"
          ],
          "name": "stdout"
        },
        {
          "output_type": "stream",
          "text": [
            "\r0it [00:00, ?it/s]"
          ],
          "name": "stderr"
        },
        {
          "output_type": "stream",
          "text": [
            "\n",
            "Train loss: 0.3246204515055912, Train accuracy: 0.8493098020553589\n",
            "Val loss: 0.8460764326155186, Val accuracy: 0.625\n",
            "\n",
            "=============== Epoch: 46\n",
            "train batch [0/41]: loss 0.337358295917511"
          ],
          "name": "stdout"
        },
        {
          "output_type": "stream",
          "text": [
            "\r1it [00:14, 14.05s/it]"
          ],
          "name": "stderr"
        },
        {
          "output_type": "stream",
          "text": [
            "\rtrain batch [1/41]: loss 0.29407399892807007"
          ],
          "name": "stdout"
        },
        {
          "output_type": "stream",
          "text": [
            "\r2it [00:28, 14.06s/it]"
          ],
          "name": "stderr"
        },
        {
          "output_type": "stream",
          "text": [
            "\rtrain batch [2/41]: loss 0.3810647130012512"
          ],
          "name": "stdout"
        },
        {
          "output_type": "stream",
          "text": [
            "\r3it [00:42, 14.03s/it]"
          ],
          "name": "stderr"
        },
        {
          "output_type": "stream",
          "text": [
            "\rtrain batch [3/41]: loss 0.25117555260658264"
          ],
          "name": "stdout"
        },
        {
          "output_type": "stream",
          "text": [
            "\r4it [00:55, 13.95s/it]"
          ],
          "name": "stderr"
        },
        {
          "output_type": "stream",
          "text": [
            "\rtrain batch [4/41]: loss 0.3499624729156494"
          ],
          "name": "stdout"
        },
        {
          "output_type": "stream",
          "text": [
            "\r5it [01:09, 13.96s/it]"
          ],
          "name": "stderr"
        },
        {
          "output_type": "stream",
          "text": [
            "\rtrain batch [5/41]: loss 0.26909542083740234"
          ],
          "name": "stdout"
        },
        {
          "output_type": "stream",
          "text": [
            "\r6it [01:23, 13.91s/it]"
          ],
          "name": "stderr"
        },
        {
          "output_type": "stream",
          "text": [
            "\rtrain batch [6/41]: loss 0.28085827827453613"
          ],
          "name": "stdout"
        },
        {
          "output_type": "stream",
          "text": [
            "\r7it [01:37, 13.90s/it]"
          ],
          "name": "stderr"
        },
        {
          "output_type": "stream",
          "text": [
            "\rtrain batch [7/41]: loss 0.23437047004699707"
          ],
          "name": "stdout"
        },
        {
          "output_type": "stream",
          "text": [
            "\r8it [01:51, 13.85s/it]"
          ],
          "name": "stderr"
        },
        {
          "output_type": "stream",
          "text": [
            "\rtrain batch [8/41]: loss 0.2676672339439392"
          ],
          "name": "stdout"
        },
        {
          "output_type": "stream",
          "text": [
            "\r9it [02:05, 13.83s/it]"
          ],
          "name": "stderr"
        },
        {
          "output_type": "stream",
          "text": [
            "\rtrain batch [9/41]: loss 0.33887359499931335"
          ],
          "name": "stdout"
        },
        {
          "output_type": "stream",
          "text": [
            "\r10it [02:19, 13.89s/it]"
          ],
          "name": "stderr"
        },
        {
          "output_type": "stream",
          "text": [
            "\rtrain batch [10/41]: loss 0.277724951505661"
          ],
          "name": "stdout"
        },
        {
          "output_type": "stream",
          "text": [
            "\r11it [02:32, 13.86s/it]"
          ],
          "name": "stderr"
        },
        {
          "output_type": "stream",
          "text": [
            "\rtrain batch [11/41]: loss 0.36801135540008545"
          ],
          "name": "stdout"
        },
        {
          "output_type": "stream",
          "text": [
            "\r12it [02:46, 13.87s/it]"
          ],
          "name": "stderr"
        },
        {
          "output_type": "stream",
          "text": [
            "\rtrain batch [12/41]: loss 0.3667398691177368"
          ],
          "name": "stdout"
        },
        {
          "output_type": "stream",
          "text": [
            "\r13it [03:00, 13.86s/it]"
          ],
          "name": "stderr"
        },
        {
          "output_type": "stream",
          "text": [
            "\rtrain batch [13/41]: loss 0.3459322452545166"
          ],
          "name": "stdout"
        },
        {
          "output_type": "stream",
          "text": [
            "\r14it [03:14, 13.84s/it]"
          ],
          "name": "stderr"
        },
        {
          "output_type": "stream",
          "text": [
            "\rtrain batch [14/41]: loss 0.3387807607650757"
          ],
          "name": "stdout"
        },
        {
          "output_type": "stream",
          "text": [
            "\r15it [03:28, 13.88s/it]"
          ],
          "name": "stderr"
        },
        {
          "output_type": "stream",
          "text": [
            "\rtrain batch [15/41]: loss 0.30435529351234436"
          ],
          "name": "stdout"
        },
        {
          "output_type": "stream",
          "text": [
            "\r16it [03:41, 13.81s/it]"
          ],
          "name": "stderr"
        },
        {
          "output_type": "stream",
          "text": [
            "\rtrain batch [16/41]: loss 0.3201981484889984"
          ],
          "name": "stdout"
        },
        {
          "output_type": "stream",
          "text": [
            "\r17it [03:55, 13.86s/it]"
          ],
          "name": "stderr"
        },
        {
          "output_type": "stream",
          "text": [
            "\rtrain batch [17/41]: loss 0.36795538663864136"
          ],
          "name": "stdout"
        },
        {
          "output_type": "stream",
          "text": [
            "\r18it [04:09, 13.85s/it]"
          ],
          "name": "stderr"
        },
        {
          "output_type": "stream",
          "text": [
            "\rtrain batch [18/41]: loss 0.43028414249420166"
          ],
          "name": "stdout"
        },
        {
          "output_type": "stream",
          "text": [
            "\r19it [04:23, 13.88s/it]"
          ],
          "name": "stderr"
        },
        {
          "output_type": "stream",
          "text": [
            "\rtrain batch [19/41]: loss 0.3866177499294281"
          ],
          "name": "stdout"
        },
        {
          "output_type": "stream",
          "text": [
            "\r20it [04:37, 13.89s/it]"
          ],
          "name": "stderr"
        },
        {
          "output_type": "stream",
          "text": [
            "\rtrain batch [20/41]: loss 0.2726985812187195"
          ],
          "name": "stdout"
        },
        {
          "output_type": "stream",
          "text": [
            "\r21it [04:51, 13.85s/it]"
          ],
          "name": "stderr"
        },
        {
          "output_type": "stream",
          "text": [
            "\rtrain batch [21/41]: loss 0.3071361482143402"
          ],
          "name": "stdout"
        },
        {
          "output_type": "stream",
          "text": [
            "\r22it [05:05, 13.85s/it]"
          ],
          "name": "stderr"
        },
        {
          "output_type": "stream",
          "text": [
            "\rtrain batch [22/41]: loss 0.26650381088256836"
          ],
          "name": "stdout"
        },
        {
          "output_type": "stream",
          "text": [
            "\r23it [05:19, 13.91s/it]"
          ],
          "name": "stderr"
        },
        {
          "output_type": "stream",
          "text": [
            "\rtrain batch [23/41]: loss 0.2697555124759674"
          ],
          "name": "stdout"
        },
        {
          "output_type": "stream",
          "text": [
            "\r24it [05:32, 13.81s/it]"
          ],
          "name": "stderr"
        },
        {
          "output_type": "stream",
          "text": [
            "\rtrain batch [24/41]: loss 0.3003513813018799"
          ],
          "name": "stdout"
        },
        {
          "output_type": "stream",
          "text": [
            "\r25it [05:46, 13.86s/it]"
          ],
          "name": "stderr"
        },
        {
          "output_type": "stream",
          "text": [
            "\rtrain batch [25/41]: loss 0.35324326157569885"
          ],
          "name": "stdout"
        },
        {
          "output_type": "stream",
          "text": [
            "\r26it [06:00, 13.89s/it]"
          ],
          "name": "stderr"
        },
        {
          "output_type": "stream",
          "text": [
            "\rtrain batch [26/41]: loss 0.3156365156173706"
          ],
          "name": "stdout"
        },
        {
          "output_type": "stream",
          "text": [
            "\r27it [06:14, 13.89s/it]"
          ],
          "name": "stderr"
        },
        {
          "output_type": "stream",
          "text": [
            "\rtrain batch [27/41]: loss 0.2606140971183777"
          ],
          "name": "stdout"
        },
        {
          "output_type": "stream",
          "text": [
            "\r28it [06:28, 13.91s/it]"
          ],
          "name": "stderr"
        },
        {
          "output_type": "stream",
          "text": [
            "\rtrain batch [28/41]: loss 0.33243846893310547"
          ],
          "name": "stdout"
        },
        {
          "output_type": "stream",
          "text": [
            "\r29it [06:42, 13.91s/it]"
          ],
          "name": "stderr"
        },
        {
          "output_type": "stream",
          "text": [
            "\rtrain batch [29/41]: loss 0.2937820553779602"
          ],
          "name": "stdout"
        },
        {
          "output_type": "stream",
          "text": [
            "\r30it [06:56, 13.88s/it]"
          ],
          "name": "stderr"
        },
        {
          "output_type": "stream",
          "text": [
            "\rtrain batch [30/41]: loss 0.24467626214027405"
          ],
          "name": "stdout"
        },
        {
          "output_type": "stream",
          "text": [
            "\r31it [07:10, 13.87s/it]"
          ],
          "name": "stderr"
        },
        {
          "output_type": "stream",
          "text": [
            "\rtrain batch [31/41]: loss 0.28061801195144653"
          ],
          "name": "stdout"
        },
        {
          "output_type": "stream",
          "text": [
            "\r32it [07:24, 13.85s/it]"
          ],
          "name": "stderr"
        },
        {
          "output_type": "stream",
          "text": [
            "\rtrain batch [32/41]: loss 0.2955417037010193"
          ],
          "name": "stdout"
        },
        {
          "output_type": "stream",
          "text": [
            "\r33it [07:37, 13.83s/it]"
          ],
          "name": "stderr"
        },
        {
          "output_type": "stream",
          "text": [
            "\rtrain batch [33/41]: loss 0.3369229733943939"
          ],
          "name": "stdout"
        },
        {
          "output_type": "stream",
          "text": [
            "\r34it [07:51, 13.79s/it]"
          ],
          "name": "stderr"
        },
        {
          "output_type": "stream",
          "text": [
            "\rtrain batch [34/41]: loss 0.3212481737136841"
          ],
          "name": "stdout"
        },
        {
          "output_type": "stream",
          "text": [
            "\r35it [08:05, 13.81s/it]"
          ],
          "name": "stderr"
        },
        {
          "output_type": "stream",
          "text": [
            "\rtrain batch [35/41]: loss 0.3166069984436035"
          ],
          "name": "stdout"
        },
        {
          "output_type": "stream",
          "text": [
            "\r36it [08:19, 13.79s/it]"
          ],
          "name": "stderr"
        },
        {
          "output_type": "stream",
          "text": [
            "\rtrain batch [36/41]: loss 0.32665854692459106"
          ],
          "name": "stdout"
        },
        {
          "output_type": "stream",
          "text": [
            "\r37it [08:33, 13.88s/it]"
          ],
          "name": "stderr"
        },
        {
          "output_type": "stream",
          "text": [
            "\rtrain batch [37/41]: loss 0.2998751401901245"
          ],
          "name": "stdout"
        },
        {
          "output_type": "stream",
          "text": [
            "\r38it [08:46, 13.85s/it]"
          ],
          "name": "stderr"
        },
        {
          "output_type": "stream",
          "text": [
            "\rtrain batch [38/41]: loss 0.28248167037963867"
          ],
          "name": "stdout"
        },
        {
          "output_type": "stream",
          "text": [
            "\r39it [09:00, 13.81s/it]"
          ],
          "name": "stderr"
        },
        {
          "output_type": "stream",
          "text": [
            "\rtrain batch [39/41]: loss 0.30009371042251587"
          ],
          "name": "stdout"
        },
        {
          "output_type": "stream",
          "text": [
            "\r40it [09:14, 13.79s/it]"
          ],
          "name": "stderr"
        },
        {
          "output_type": "stream",
          "text": [
            "\rtrain batch [40/41]: loss 0.3536084294319153"
          ],
          "name": "stdout"
        },
        {
          "output_type": "stream",
          "text": [
            "41it [09:25, 13.78s/it]"
          ],
          "name": "stderr"
        },
        {
          "output_type": "stream",
          "text": [
            "\rval batch [0/4]: loss 1.9263691902160645"
          ],
          "name": "stdout"
        },
        {
          "output_type": "stream",
          "text": [
            "\n"
          ],
          "name": "stderr"
        },
        {
          "output_type": "stream",
          "text": [
            "val batch [3/4]: loss 0.15790097415447235"
          ],
          "name": "stdout"
        },
        {
          "output_type": "stream",
          "text": [
            "\r0it [00:00, ?it/s]"
          ],
          "name": "stderr"
        },
        {
          "output_type": "stream",
          "text": [
            "\n",
            "Train loss: 0.3132095409602654, Train accuracy: 0.8544861674308777\n",
            "Val loss: 0.8568698316812515, Val accuracy: 0.625\n",
            "\n",
            "=============== Epoch: 47\n",
            "train batch [0/41]: loss 0.32698214054107666"
          ],
          "name": "stdout"
        },
        {
          "output_type": "stream",
          "text": [
            "\r1it [00:13, 13.90s/it]"
          ],
          "name": "stderr"
        },
        {
          "output_type": "stream",
          "text": [
            "\rtrain batch [1/41]: loss 0.36369308829307556"
          ],
          "name": "stdout"
        },
        {
          "output_type": "stream",
          "text": [
            "\r2it [00:27, 13.93s/it]"
          ],
          "name": "stderr"
        },
        {
          "output_type": "stream",
          "text": [
            "\rtrain batch [2/41]: loss 0.3210856318473816"
          ],
          "name": "stdout"
        },
        {
          "output_type": "stream",
          "text": [
            "\r3it [00:41, 13.92s/it]"
          ],
          "name": "stderr"
        },
        {
          "output_type": "stream",
          "text": [
            "\rtrain batch [3/41]: loss 0.36726945638656616"
          ],
          "name": "stdout"
        },
        {
          "output_type": "stream",
          "text": [
            "\r4it [00:55, 13.94s/it]"
          ],
          "name": "stderr"
        },
        {
          "output_type": "stream",
          "text": [
            "\rtrain batch [4/41]: loss 0.2872312068939209"
          ],
          "name": "stdout"
        },
        {
          "output_type": "stream",
          "text": [
            "\r5it [01:09, 13.88s/it]"
          ],
          "name": "stderr"
        },
        {
          "output_type": "stream",
          "text": [
            "\rtrain batch [5/41]: loss 0.25955235958099365"
          ],
          "name": "stdout"
        },
        {
          "output_type": "stream",
          "text": [
            "\r6it [01:23, 13.89s/it]"
          ],
          "name": "stderr"
        },
        {
          "output_type": "stream",
          "text": [
            "\rtrain batch [6/41]: loss 0.31680113077163696"
          ],
          "name": "stdout"
        },
        {
          "output_type": "stream",
          "text": [
            "\r7it [01:37, 13.86s/it]"
          ],
          "name": "stderr"
        },
        {
          "output_type": "stream",
          "text": [
            "\rtrain batch [7/41]: loss 0.2556203603744507"
          ],
          "name": "stdout"
        },
        {
          "output_type": "stream",
          "text": [
            "\r8it [01:51, 13.87s/it]"
          ],
          "name": "stderr"
        },
        {
          "output_type": "stream",
          "text": [
            "\rtrain batch [8/41]: loss 0.336467444896698"
          ],
          "name": "stdout"
        },
        {
          "output_type": "stream",
          "text": [
            "\r9it [02:04, 13.85s/it]"
          ],
          "name": "stderr"
        },
        {
          "output_type": "stream",
          "text": [
            "\rtrain batch [9/41]: loss 0.32524433732032776"
          ],
          "name": "stdout"
        },
        {
          "output_type": "stream",
          "text": [
            "\r10it [02:18, 13.89s/it]"
          ],
          "name": "stderr"
        },
        {
          "output_type": "stream",
          "text": [
            "\rtrain batch [10/41]: loss 0.2876981198787689"
          ],
          "name": "stdout"
        },
        {
          "output_type": "stream",
          "text": [
            "\r11it [02:32, 13.84s/it]"
          ],
          "name": "stderr"
        },
        {
          "output_type": "stream",
          "text": [
            "\rtrain batch [11/41]: loss 0.2514929175376892"
          ],
          "name": "stdout"
        },
        {
          "output_type": "stream",
          "text": [
            "\r12it [02:46, 13.81s/it]"
          ],
          "name": "stderr"
        },
        {
          "output_type": "stream",
          "text": [
            "\rtrain batch [12/41]: loss 0.3745116889476776"
          ],
          "name": "stdout"
        },
        {
          "output_type": "stream",
          "text": [
            "\r13it [03:00, 13.84s/it]"
          ],
          "name": "stderr"
        },
        {
          "output_type": "stream",
          "text": [
            "\rtrain batch [13/41]: loss 0.24836406111717224"
          ],
          "name": "stdout"
        },
        {
          "output_type": "stream",
          "text": [
            "\r14it [03:14, 13.84s/it]"
          ],
          "name": "stderr"
        },
        {
          "output_type": "stream",
          "text": [
            "\rtrain batch [14/41]: loss 0.2733179032802582"
          ],
          "name": "stdout"
        },
        {
          "output_type": "stream",
          "text": [
            "\r15it [03:28, 13.87s/it]"
          ],
          "name": "stderr"
        },
        {
          "output_type": "stream",
          "text": [
            "\rtrain batch [15/41]: loss 0.33629757165908813"
          ],
          "name": "stdout"
        },
        {
          "output_type": "stream",
          "text": [
            "\r16it [03:41, 13.89s/it]"
          ],
          "name": "stderr"
        },
        {
          "output_type": "stream",
          "text": [
            "\rtrain batch [16/41]: loss 0.37641406059265137"
          ],
          "name": "stdout"
        },
        {
          "output_type": "stream",
          "text": [
            "\r17it [03:56, 13.98s/it]"
          ],
          "name": "stderr"
        },
        {
          "output_type": "stream",
          "text": [
            "\rtrain batch [17/41]: loss 0.21137817203998566"
          ],
          "name": "stdout"
        },
        {
          "output_type": "stream",
          "text": [
            "\r18it [04:09, 13.86s/it]"
          ],
          "name": "stderr"
        },
        {
          "output_type": "stream",
          "text": [
            "\rtrain batch [18/41]: loss 0.30317258834838867"
          ],
          "name": "stdout"
        },
        {
          "output_type": "stream",
          "text": [
            "\r19it [04:23, 13.84s/it]"
          ],
          "name": "stderr"
        },
        {
          "output_type": "stream",
          "text": [
            "\rtrain batch [19/41]: loss 0.3649387061595917"
          ],
          "name": "stdout"
        },
        {
          "output_type": "stream",
          "text": [
            "\r20it [04:37, 13.83s/it]"
          ],
          "name": "stderr"
        },
        {
          "output_type": "stream",
          "text": [
            "\rtrain batch [20/41]: loss 0.30090513825416565"
          ],
          "name": "stdout"
        },
        {
          "output_type": "stream",
          "text": [
            "\r21it [04:51, 13.79s/it]"
          ],
          "name": "stderr"
        },
        {
          "output_type": "stream",
          "text": [
            "\rtrain batch [21/41]: loss 0.35340794920921326"
          ],
          "name": "stdout"
        },
        {
          "output_type": "stream",
          "text": [
            "\r22it [05:04, 13.81s/it]"
          ],
          "name": "stderr"
        },
        {
          "output_type": "stream",
          "text": [
            "\rtrain batch [22/41]: loss 0.36701303720474243"
          ],
          "name": "stdout"
        },
        {
          "output_type": "stream",
          "text": [
            "\r23it [05:18, 13.82s/it]"
          ],
          "name": "stderr"
        },
        {
          "output_type": "stream",
          "text": [
            "\rtrain batch [23/41]: loss 0.318506121635437"
          ],
          "name": "stdout"
        },
        {
          "output_type": "stream",
          "text": [
            "\r24it [05:32, 13.80s/it]"
          ],
          "name": "stderr"
        },
        {
          "output_type": "stream",
          "text": [
            "\rtrain batch [24/41]: loss 0.32306528091430664"
          ],
          "name": "stdout"
        },
        {
          "output_type": "stream",
          "text": [
            "\r25it [05:46, 13.77s/it]"
          ],
          "name": "stderr"
        },
        {
          "output_type": "stream",
          "text": [
            "\rtrain batch [25/41]: loss 0.33507996797561646"
          ],
          "name": "stdout"
        },
        {
          "output_type": "stream",
          "text": [
            "\r26it [06:00, 13.80s/it]"
          ],
          "name": "stderr"
        },
        {
          "output_type": "stream",
          "text": [
            "\rtrain batch [26/41]: loss 0.2937849760055542"
          ],
          "name": "stdout"
        },
        {
          "output_type": "stream",
          "text": [
            "\r27it [06:13, 13.83s/it]"
          ],
          "name": "stderr"
        },
        {
          "output_type": "stream",
          "text": [
            "\rtrain batch [27/41]: loss 0.34970271587371826"
          ],
          "name": "stdout"
        },
        {
          "output_type": "stream",
          "text": [
            "\r28it [06:27, 13.88s/it]"
          ],
          "name": "stderr"
        },
        {
          "output_type": "stream",
          "text": [
            "\rtrain batch [28/41]: loss 0.3282150328159332"
          ],
          "name": "stdout"
        },
        {
          "output_type": "stream",
          "text": [
            "\r29it [06:42, 13.93s/it]"
          ],
          "name": "stderr"
        },
        {
          "output_type": "stream",
          "text": [
            "\rtrain batch [29/41]: loss 0.30225619673728943"
          ],
          "name": "stdout"
        },
        {
          "output_type": "stream",
          "text": [
            "\r30it [06:56, 13.95s/it]"
          ],
          "name": "stderr"
        },
        {
          "output_type": "stream",
          "text": [
            "\rtrain batch [30/41]: loss 0.3028640151023865"
          ],
          "name": "stdout"
        },
        {
          "output_type": "stream",
          "text": [
            "\r31it [07:09, 13.95s/it]"
          ],
          "name": "stderr"
        },
        {
          "output_type": "stream",
          "text": [
            "\rtrain batch [31/41]: loss 0.24851961433887482"
          ],
          "name": "stdout"
        },
        {
          "output_type": "stream",
          "text": [
            "\r32it [07:23, 13.85s/it]"
          ],
          "name": "stderr"
        },
        {
          "output_type": "stream",
          "text": [
            "\rtrain batch [32/41]: loss 0.3527486324310303"
          ],
          "name": "stdout"
        },
        {
          "output_type": "stream",
          "text": [
            "\r33it [07:37, 13.82s/it]"
          ],
          "name": "stderr"
        },
        {
          "output_type": "stream",
          "text": [
            "\rtrain batch [33/41]: loss 0.3343280553817749"
          ],
          "name": "stdout"
        },
        {
          "output_type": "stream",
          "text": [
            "\r34it [07:51, 13.84s/it]"
          ],
          "name": "stderr"
        },
        {
          "output_type": "stream",
          "text": [
            "\rtrain batch [34/41]: loss 0.3888120651245117"
          ],
          "name": "stdout"
        },
        {
          "output_type": "stream",
          "text": [
            "\r35it [08:05, 13.88s/it]"
          ],
          "name": "stderr"
        },
        {
          "output_type": "stream",
          "text": [
            "\rtrain batch [35/41]: loss 0.2613546848297119"
          ],
          "name": "stdout"
        },
        {
          "output_type": "stream",
          "text": [
            "\r36it [08:18, 13.82s/it]"
          ],
          "name": "stderr"
        },
        {
          "output_type": "stream",
          "text": [
            "\rtrain batch [36/41]: loss 0.34103161096572876"
          ],
          "name": "stdout"
        },
        {
          "output_type": "stream",
          "text": [
            "\r37it [08:32, 13.79s/it]"
          ],
          "name": "stderr"
        },
        {
          "output_type": "stream",
          "text": [
            "\rtrain batch [37/41]: loss 0.3497336506843567"
          ],
          "name": "stdout"
        },
        {
          "output_type": "stream",
          "text": [
            "\r38it [08:46, 13.77s/it]"
          ],
          "name": "stderr"
        },
        {
          "output_type": "stream",
          "text": [
            "\rtrain batch [38/41]: loss 0.39364027976989746"
          ],
          "name": "stdout"
        },
        {
          "output_type": "stream",
          "text": [
            "\r39it [09:00, 13.80s/it]"
          ],
          "name": "stderr"
        },
        {
          "output_type": "stream",
          "text": [
            "\rtrain batch [39/41]: loss 0.369172066450119"
          ],
          "name": "stdout"
        },
        {
          "output_type": "stream",
          "text": [
            "\r40it [09:14, 13.83s/it]"
          ],
          "name": "stderr"
        },
        {
          "output_type": "stream",
          "text": [
            "\rtrain batch [40/41]: loss 0.24310553073883057"
          ],
          "name": "stdout"
        },
        {
          "output_type": "stream",
          "text": [
            "41it [09:24, 13.77s/it]"
          ],
          "name": "stderr"
        },
        {
          "output_type": "stream",
          "text": [
            "\rval batch [0/4]: loss 2.0723628997802734"
          ],
          "name": "stdout"
        },
        {
          "output_type": "stream",
          "text": [
            "\n"
          ],
          "name": "stderr"
        },
        {
          "output_type": "stream",
          "text": [
            "val batch [3/4]: loss 0.08402390778064728"
          ],
          "name": "stdout"
        },
        {
          "output_type": "stream",
          "text": [
            "\r0it [00:00, ?it/s]"
          ],
          "name": "stderr"
        },
        {
          "output_type": "stream",
          "text": [
            "\n",
            "Train loss: 0.31816535315862515, Train accuracy: 0.8472009301185608\n",
            "Val loss: 0.9415996335446835, Val accuracy: 0.5625\n",
            "\n",
            "=============== Epoch: 48\n",
            "train batch [0/41]: loss 0.39311859011650085"
          ],
          "name": "stdout"
        },
        {
          "output_type": "stream",
          "text": [
            "\r1it [00:13, 13.97s/it]"
          ],
          "name": "stderr"
        },
        {
          "output_type": "stream",
          "text": [
            "\rtrain batch [1/41]: loss 0.28252094984054565"
          ],
          "name": "stdout"
        },
        {
          "output_type": "stream",
          "text": [
            "\r2it [00:27, 13.96s/it]"
          ],
          "name": "stderr"
        },
        {
          "output_type": "stream",
          "text": [
            "\rtrain batch [2/41]: loss 0.30541136860847473"
          ],
          "name": "stdout"
        },
        {
          "output_type": "stream",
          "text": [
            "\r3it [00:42, 14.00s/it]"
          ],
          "name": "stderr"
        },
        {
          "output_type": "stream",
          "text": [
            "\rtrain batch [3/41]: loss 0.37515774369239807"
          ],
          "name": "stdout"
        },
        {
          "output_type": "stream",
          "text": [
            "\r4it [00:55, 14.00s/it]"
          ],
          "name": "stderr"
        },
        {
          "output_type": "stream",
          "text": [
            "\rtrain batch [4/41]: loss 0.2627694606781006"
          ],
          "name": "stdout"
        },
        {
          "output_type": "stream",
          "text": [
            "\r5it [01:09, 13.96s/it]"
          ],
          "name": "stderr"
        },
        {
          "output_type": "stream",
          "text": [
            "\rtrain batch [5/41]: loss 0.4433388113975525"
          ],
          "name": "stdout"
        },
        {
          "output_type": "stream",
          "text": [
            "\r6it [01:23, 13.97s/it]"
          ],
          "name": "stderr"
        },
        {
          "output_type": "stream",
          "text": [
            "\rtrain batch [6/41]: loss 0.2619733214378357"
          ],
          "name": "stdout"
        },
        {
          "output_type": "stream",
          "text": [
            "\r7it [01:37, 13.88s/it]"
          ],
          "name": "stderr"
        },
        {
          "output_type": "stream",
          "text": [
            "\rtrain batch [7/41]: loss 0.3269478678703308"
          ],
          "name": "stdout"
        },
        {
          "output_type": "stream",
          "text": [
            "\r8it [01:51, 13.85s/it]"
          ],
          "name": "stderr"
        },
        {
          "output_type": "stream",
          "text": [
            "\rtrain batch [8/41]: loss 0.4105529189109802"
          ],
          "name": "stdout"
        },
        {
          "output_type": "stream",
          "text": [
            "\r9it [02:05, 13.87s/it]"
          ],
          "name": "stderr"
        },
        {
          "output_type": "stream",
          "text": [
            "\rtrain batch [9/41]: loss 0.3010824918746948"
          ],
          "name": "stdout"
        },
        {
          "output_type": "stream",
          "text": [
            "\r10it [02:19, 13.87s/it]"
          ],
          "name": "stderr"
        },
        {
          "output_type": "stream",
          "text": [
            "\rtrain batch [10/41]: loss 0.34597086906433105"
          ],
          "name": "stdout"
        },
        {
          "output_type": "stream",
          "text": [
            "\r11it [02:32, 13.85s/it]"
          ],
          "name": "stderr"
        },
        {
          "output_type": "stream",
          "text": [
            "\rtrain batch [11/41]: loss 0.3377067446708679"
          ],
          "name": "stdout"
        },
        {
          "output_type": "stream",
          "text": [
            "\r12it [02:46, 13.83s/it]"
          ],
          "name": "stderr"
        },
        {
          "output_type": "stream",
          "text": [
            "\rtrain batch [12/41]: loss 0.2990068793296814"
          ],
          "name": "stdout"
        },
        {
          "output_type": "stream",
          "text": [
            "\r13it [03:00, 13.84s/it]"
          ],
          "name": "stderr"
        },
        {
          "output_type": "stream",
          "text": [
            "\rtrain batch [13/41]: loss 0.2960539162158966"
          ],
          "name": "stdout"
        },
        {
          "output_type": "stream",
          "text": [
            "\r14it [03:14, 13.82s/it]"
          ],
          "name": "stderr"
        },
        {
          "output_type": "stream",
          "text": [
            "\rtrain batch [14/41]: loss 0.3829718828201294"
          ],
          "name": "stdout"
        },
        {
          "output_type": "stream",
          "text": [
            "\r15it [03:28, 13.85s/it]"
          ],
          "name": "stderr"
        },
        {
          "output_type": "stream",
          "text": [
            "\rtrain batch [15/41]: loss 0.24933567643165588"
          ],
          "name": "stdout"
        },
        {
          "output_type": "stream",
          "text": [
            "\r16it [03:41, 13.77s/it]"
          ],
          "name": "stderr"
        },
        {
          "output_type": "stream",
          "text": [
            "\rtrain batch [16/41]: loss 0.2785906493663788"
          ],
          "name": "stdout"
        },
        {
          "output_type": "stream",
          "text": [
            "\r17it [03:55, 13.81s/it]"
          ],
          "name": "stderr"
        },
        {
          "output_type": "stream",
          "text": [
            "\rtrain batch [17/41]: loss 0.3529343605041504"
          ],
          "name": "stdout"
        },
        {
          "output_type": "stream",
          "text": [
            "\r18it [04:09, 13.84s/it]"
          ],
          "name": "stderr"
        },
        {
          "output_type": "stream",
          "text": [
            "\rtrain batch [18/41]: loss 0.26918309926986694"
          ],
          "name": "stdout"
        },
        {
          "output_type": "stream",
          "text": [
            "\r19it [04:23, 13.80s/it]"
          ],
          "name": "stderr"
        },
        {
          "output_type": "stream",
          "text": [
            "\rtrain batch [19/41]: loss 0.3301430940628052"
          ],
          "name": "stdout"
        },
        {
          "output_type": "stream",
          "text": [
            "\r20it [04:37, 13.82s/it]"
          ],
          "name": "stderr"
        },
        {
          "output_type": "stream",
          "text": [
            "\rtrain batch [20/41]: loss 0.26513493061065674"
          ],
          "name": "stdout"
        },
        {
          "output_type": "stream",
          "text": [
            "\r21it [04:50, 13.80s/it]"
          ],
          "name": "stderr"
        },
        {
          "output_type": "stream",
          "text": [
            "\rtrain batch [21/41]: loss 0.33919888734817505"
          ],
          "name": "stdout"
        },
        {
          "output_type": "stream",
          "text": [
            "\r22it [05:04, 13.82s/it]"
          ],
          "name": "stderr"
        },
        {
          "output_type": "stream",
          "text": [
            "\rtrain batch [22/41]: loss 0.2933195233345032"
          ],
          "name": "stdout"
        },
        {
          "output_type": "stream",
          "text": [
            "\r23it [05:18, 13.84s/it]"
          ],
          "name": "stderr"
        },
        {
          "output_type": "stream",
          "text": [
            "\rtrain batch [23/41]: loss 0.31684938073158264"
          ],
          "name": "stdout"
        },
        {
          "output_type": "stream",
          "text": [
            "\r24it [05:32, 13.78s/it]"
          ],
          "name": "stderr"
        },
        {
          "output_type": "stream",
          "text": [
            "\rtrain batch [24/41]: loss 0.36456480622291565"
          ],
          "name": "stdout"
        },
        {
          "output_type": "stream",
          "text": [
            "\r25it [05:46, 13.80s/it]"
          ],
          "name": "stderr"
        },
        {
          "output_type": "stream",
          "text": [
            "\rtrain batch [25/41]: loss 0.33744871616363525"
          ],
          "name": "stdout"
        },
        {
          "output_type": "stream",
          "text": [
            "\r26it [05:59, 13.80s/it]"
          ],
          "name": "stderr"
        },
        {
          "output_type": "stream",
          "text": [
            "\rtrain batch [26/41]: loss 0.29789990186691284"
          ],
          "name": "stdout"
        },
        {
          "output_type": "stream",
          "text": [
            "\r27it [06:13, 13.82s/it]"
          ],
          "name": "stderr"
        },
        {
          "output_type": "stream",
          "text": [
            "\rtrain batch [27/41]: loss 0.3044275939464569"
          ],
          "name": "stdout"
        },
        {
          "output_type": "stream",
          "text": [
            "\r28it [06:27, 13.81s/it]"
          ],
          "name": "stderr"
        },
        {
          "output_type": "stream",
          "text": [
            "\rtrain batch [28/41]: loss 0.38959890604019165"
          ],
          "name": "stdout"
        },
        {
          "output_type": "stream",
          "text": [
            "\r29it [06:41, 13.86s/it]"
          ],
          "name": "stderr"
        },
        {
          "output_type": "stream",
          "text": [
            "\rtrain batch [29/41]: loss 0.3811365067958832"
          ],
          "name": "stdout"
        },
        {
          "output_type": "stream",
          "text": [
            "\r30it [06:55, 13.90s/it]"
          ],
          "name": "stderr"
        },
        {
          "output_type": "stream",
          "text": [
            "\rtrain batch [30/41]: loss 0.3284549117088318"
          ],
          "name": "stdout"
        },
        {
          "output_type": "stream",
          "text": [
            "\r31it [07:09, 13.89s/it]"
          ],
          "name": "stderr"
        },
        {
          "output_type": "stream",
          "text": [
            "\rtrain batch [31/41]: loss 0.43107423186302185"
          ],
          "name": "stdout"
        },
        {
          "output_type": "stream",
          "text": [
            "\r32it [07:23, 13.88s/it]"
          ],
          "name": "stderr"
        },
        {
          "output_type": "stream",
          "text": [
            "\rtrain batch [32/41]: loss 0.34853431582450867"
          ],
          "name": "stdout"
        },
        {
          "output_type": "stream",
          "text": [
            "\r33it [07:37, 13.89s/it]"
          ],
          "name": "stderr"
        },
        {
          "output_type": "stream",
          "text": [
            "\rtrain batch [33/41]: loss 0.2952316403388977"
          ],
          "name": "stdout"
        },
        {
          "output_type": "stream",
          "text": [
            "\r34it [07:50, 13.85s/it]"
          ],
          "name": "stderr"
        },
        {
          "output_type": "stream",
          "text": [
            "\rtrain batch [34/41]: loss 0.2617490887641907"
          ],
          "name": "stdout"
        },
        {
          "output_type": "stream",
          "text": [
            "\r35it [08:04, 13.89s/it]"
          ],
          "name": "stderr"
        },
        {
          "output_type": "stream",
          "text": [
            "\rtrain batch [35/41]: loss 0.3005950450897217"
          ],
          "name": "stdout"
        },
        {
          "output_type": "stream",
          "text": [
            "\r36it [08:18, 13.89s/it]"
          ],
          "name": "stderr"
        },
        {
          "output_type": "stream",
          "text": [
            "\rtrain batch [36/41]: loss 0.27359846234321594"
          ],
          "name": "stdout"
        },
        {
          "output_type": "stream",
          "text": [
            "\r37it [08:32, 13.89s/it]"
          ],
          "name": "stderr"
        },
        {
          "output_type": "stream",
          "text": [
            "\rtrain batch [37/41]: loss 0.3164418637752533"
          ],
          "name": "stdout"
        },
        {
          "output_type": "stream",
          "text": [
            "\r38it [08:46, 13.86s/it]"
          ],
          "name": "stderr"
        },
        {
          "output_type": "stream",
          "text": [
            "\rtrain batch [38/41]: loss 0.3552170395851135"
          ],
          "name": "stdout"
        },
        {
          "output_type": "stream",
          "text": [
            "\r39it [09:00, 13.82s/it]"
          ],
          "name": "stderr"
        },
        {
          "output_type": "stream",
          "text": [
            "\rtrain batch [39/41]: loss 0.4025219678878784"
          ],
          "name": "stdout"
        },
        {
          "output_type": "stream",
          "text": [
            "\r40it [09:14, 13.81s/it]"
          ],
          "name": "stderr"
        },
        {
          "output_type": "stream",
          "text": [
            "\rtrain batch [40/41]: loss 0.40830883383750916"
          ],
          "name": "stdout"
        },
        {
          "output_type": "stream",
          "text": [
            "41it [09:24, 13.77s/it]"
          ],
          "name": "stderr"
        },
        {
          "output_type": "stream",
          "text": [
            "val batch [1/4]: loss 1.178897738456726"
          ],
          "name": "stdout"
        },
        {
          "output_type": "stream",
          "text": [
            "\n"
          ],
          "name": "stderr"
        },
        {
          "output_type": "stream",
          "text": [
            "val batch [3/4]: loss 0.037850797176361084"
          ],
          "name": "stdout"
        },
        {
          "output_type": "stream",
          "text": [
            "\r0it [00:00, ?it/s]"
          ],
          "name": "stderr"
        },
        {
          "output_type": "stream",
          "text": [
            "\n",
            "Train loss: 0.32966041819351477, Train accuracy: 0.8326303362846375\n",
            "Val loss: 0.87973403185606, Val accuracy: 0.625\n",
            "\n",
            "=============== Epoch: 49\n",
            "train batch [0/41]: loss 0.28333309292793274"
          ],
          "name": "stdout"
        },
        {
          "output_type": "stream",
          "text": [
            "\r1it [00:13, 13.77s/it]"
          ],
          "name": "stderr"
        },
        {
          "output_type": "stream",
          "text": [
            "\rtrain batch [1/41]: loss 0.2703092098236084"
          ],
          "name": "stdout"
        },
        {
          "output_type": "stream",
          "text": [
            "\r2it [00:27, 13.73s/it]"
          ],
          "name": "stderr"
        },
        {
          "output_type": "stream",
          "text": [
            "\rtrain batch [2/41]: loss 0.343181848526001"
          ],
          "name": "stdout"
        },
        {
          "output_type": "stream",
          "text": [
            "\r3it [00:41, 13.76s/it]"
          ],
          "name": "stderr"
        },
        {
          "output_type": "stream",
          "text": [
            "\rtrain batch [3/41]: loss 0.23895423114299774"
          ],
          "name": "stdout"
        },
        {
          "output_type": "stream",
          "text": [
            "\r4it [00:54, 13.71s/it]"
          ],
          "name": "stderr"
        },
        {
          "output_type": "stream",
          "text": [
            "\rtrain batch [4/41]: loss 0.28671693801879883"
          ],
          "name": "stdout"
        },
        {
          "output_type": "stream",
          "text": [
            "\r5it [01:08, 13.78s/it]"
          ],
          "name": "stderr"
        },
        {
          "output_type": "stream",
          "text": [
            "\rtrain batch [5/41]: loss 0.2808951139450073"
          ],
          "name": "stdout"
        },
        {
          "output_type": "stream",
          "text": [
            "\r6it [01:22, 13.71s/it]"
          ],
          "name": "stderr"
        },
        {
          "output_type": "stream",
          "text": [
            "\rtrain batch [6/41]: loss 0.28176936507225037"
          ],
          "name": "stdout"
        },
        {
          "output_type": "stream",
          "text": [
            "\r7it [01:36, 13.74s/it]"
          ],
          "name": "stderr"
        },
        {
          "output_type": "stream",
          "text": [
            "\rtrain batch [7/41]: loss 0.29948461055755615"
          ],
          "name": "stdout"
        },
        {
          "output_type": "stream",
          "text": [
            "\r8it [01:49, 13.73s/it]"
          ],
          "name": "stderr"
        },
        {
          "output_type": "stream",
          "text": [
            "\rtrain batch [8/41]: loss 0.35716867446899414"
          ],
          "name": "stdout"
        },
        {
          "output_type": "stream",
          "text": [
            "\r9it [02:03, 13.77s/it]"
          ],
          "name": "stderr"
        },
        {
          "output_type": "stream",
          "text": [
            "\rtrain batch [9/41]: loss 0.31705135107040405"
          ],
          "name": "stdout"
        },
        {
          "output_type": "stream",
          "text": [
            "\r10it [02:17, 13.79s/it]"
          ],
          "name": "stderr"
        },
        {
          "output_type": "stream",
          "text": [
            "\rtrain batch [10/41]: loss 0.30934661626815796"
          ],
          "name": "stdout"
        },
        {
          "output_type": "stream",
          "text": [
            "\r11it [02:31, 13.88s/it]"
          ],
          "name": "stderr"
        },
        {
          "output_type": "stream",
          "text": [
            "\rtrain batch [11/41]: loss 0.3204284608364105"
          ],
          "name": "stdout"
        },
        {
          "output_type": "stream",
          "text": [
            "\r12it [02:45, 13.90s/it]"
          ],
          "name": "stderr"
        },
        {
          "output_type": "stream",
          "text": [
            "\rtrain batch [12/41]: loss 0.3114829659461975"
          ],
          "name": "stdout"
        },
        {
          "output_type": "stream",
          "text": [
            "\r13it [02:59, 13.88s/it]"
          ],
          "name": "stderr"
        },
        {
          "output_type": "stream",
          "text": [
            "\rtrain batch [13/41]: loss 0.28993040323257446"
          ],
          "name": "stdout"
        },
        {
          "output_type": "stream",
          "text": [
            "\r14it [03:13, 13.89s/it]"
          ],
          "name": "stderr"
        },
        {
          "output_type": "stream",
          "text": [
            "\rtrain batch [14/41]: loss 0.2501014173030853"
          ],
          "name": "stdout"
        },
        {
          "output_type": "stream",
          "text": [
            "\r15it [03:27, 13.86s/it]"
          ],
          "name": "stderr"
        },
        {
          "output_type": "stream",
          "text": [
            "\rtrain batch [15/41]: loss 0.2358609437942505"
          ],
          "name": "stdout"
        },
        {
          "output_type": "stream",
          "text": [
            "\r16it [03:40, 13.77s/it]"
          ],
          "name": "stderr"
        },
        {
          "output_type": "stream",
          "text": [
            "\rtrain batch [16/41]: loss 0.3563028573989868"
          ],
          "name": "stdout"
        },
        {
          "output_type": "stream",
          "text": [
            "\r17it [03:54, 13.86s/it]"
          ],
          "name": "stderr"
        },
        {
          "output_type": "stream",
          "text": [
            "\rtrain batch [17/41]: loss 0.3214758634567261"
          ],
          "name": "stdout"
        },
        {
          "output_type": "stream",
          "text": [
            "\r18it [04:08, 13.83s/it]"
          ],
          "name": "stderr"
        },
        {
          "output_type": "stream",
          "text": [
            "\rtrain batch [18/41]: loss 0.37280285358428955"
          ],
          "name": "stdout"
        },
        {
          "output_type": "stream",
          "text": [
            "\r19it [04:22, 13.81s/it]"
          ],
          "name": "stderr"
        },
        {
          "output_type": "stream",
          "text": [
            "\rtrain batch [19/41]: loss 0.40147072076797485"
          ],
          "name": "stdout"
        },
        {
          "output_type": "stream",
          "text": [
            "\r20it [04:36, 13.91s/it]"
          ],
          "name": "stderr"
        },
        {
          "output_type": "stream",
          "text": [
            "\rtrain batch [20/41]: loss 0.2876150608062744"
          ],
          "name": "stdout"
        },
        {
          "output_type": "stream",
          "text": [
            "\r21it [04:50, 13.86s/it]"
          ],
          "name": "stderr"
        },
        {
          "output_type": "stream",
          "text": [
            "\rtrain batch [21/41]: loss 0.283577561378479"
          ],
          "name": "stdout"
        },
        {
          "output_type": "stream",
          "text": [
            "\r22it [05:03, 13.85s/it]"
          ],
          "name": "stderr"
        },
        {
          "output_type": "stream",
          "text": [
            "\rtrain batch [22/41]: loss 0.37171560525894165"
          ],
          "name": "stdout"
        },
        {
          "output_type": "stream",
          "text": [
            "\r23it [05:17, 13.86s/it]"
          ],
          "name": "stderr"
        },
        {
          "output_type": "stream",
          "text": [
            "\rtrain batch [23/41]: loss 0.3328062891960144"
          ],
          "name": "stdout"
        },
        {
          "output_type": "stream",
          "text": [
            "\r24it [05:31, 13.89s/it]"
          ],
          "name": "stderr"
        },
        {
          "output_type": "stream",
          "text": [
            "\rtrain batch [24/41]: loss 0.3138694167137146"
          ],
          "name": "stdout"
        },
        {
          "output_type": "stream",
          "text": [
            "\r25it [05:45, 13.92s/it]"
          ],
          "name": "stderr"
        },
        {
          "output_type": "stream",
          "text": [
            "\rtrain batch [25/41]: loss 0.27119511365890503"
          ],
          "name": "stdout"
        },
        {
          "output_type": "stream",
          "text": [
            "\r26it [05:59, 13.85s/it]"
          ],
          "name": "stderr"
        },
        {
          "output_type": "stream",
          "text": [
            "\rtrain batch [26/41]: loss 0.33945900201797485"
          ],
          "name": "stdout"
        },
        {
          "output_type": "stream",
          "text": [
            "\r27it [06:13, 13.83s/it]"
          ],
          "name": "stderr"
        },
        {
          "output_type": "stream",
          "text": [
            "\rtrain batch [27/41]: loss 0.40227603912353516"
          ],
          "name": "stdout"
        },
        {
          "output_type": "stream",
          "text": [
            "\r28it [06:27, 13.86s/it]"
          ],
          "name": "stderr"
        },
        {
          "output_type": "stream",
          "text": [
            "\rtrain batch [28/41]: loss 0.38420987129211426"
          ],
          "name": "stdout"
        },
        {
          "output_type": "stream",
          "text": [
            "\r29it [06:41, 13.94s/it]"
          ],
          "name": "stderr"
        },
        {
          "output_type": "stream",
          "text": [
            "\rtrain batch [29/41]: loss 0.30481863021850586"
          ],
          "name": "stdout"
        },
        {
          "output_type": "stream",
          "text": [
            "\r30it [06:55, 13.90s/it]"
          ],
          "name": "stderr"
        },
        {
          "output_type": "stream",
          "text": [
            "\rtrain batch [30/41]: loss 0.2326948046684265"
          ],
          "name": "stdout"
        },
        {
          "output_type": "stream",
          "text": [
            "\r31it [07:08, 13.81s/it]"
          ],
          "name": "stderr"
        },
        {
          "output_type": "stream",
          "text": [
            "\rtrain batch [31/41]: loss 0.26142191886901855"
          ],
          "name": "stdout"
        },
        {
          "output_type": "stream",
          "text": [
            "\r32it [07:22, 13.83s/it]"
          ],
          "name": "stderr"
        },
        {
          "output_type": "stream",
          "text": [
            "\rtrain batch [32/41]: loss 0.31282204389572144"
          ],
          "name": "stdout"
        },
        {
          "output_type": "stream",
          "text": [
            "\r33it [07:36, 13.88s/it]"
          ],
          "name": "stderr"
        },
        {
          "output_type": "stream",
          "text": [
            "\rtrain batch [33/41]: loss 0.3051767349243164"
          ],
          "name": "stdout"
        },
        {
          "output_type": "stream",
          "text": [
            "\r34it [07:50, 13.86s/it]"
          ],
          "name": "stderr"
        },
        {
          "output_type": "stream",
          "text": [
            "\rtrain batch [34/41]: loss 0.37538301944732666"
          ],
          "name": "stdout"
        },
        {
          "output_type": "stream",
          "text": [
            "\r35it [08:04, 13.87s/it]"
          ],
          "name": "stderr"
        },
        {
          "output_type": "stream",
          "text": [
            "\rtrain batch [35/41]: loss 0.33952903747558594"
          ],
          "name": "stdout"
        },
        {
          "output_type": "stream",
          "text": [
            "\r36it [08:18, 13.88s/it]"
          ],
          "name": "stderr"
        },
        {
          "output_type": "stream",
          "text": [
            "\rtrain batch [36/41]: loss 0.2846234142780304"
          ],
          "name": "stdout"
        },
        {
          "output_type": "stream",
          "text": [
            "\r37it [08:32, 13.91s/it]"
          ],
          "name": "stderr"
        },
        {
          "output_type": "stream",
          "text": [
            "\rtrain batch [37/41]: loss 0.22273088991641998"
          ],
          "name": "stdout"
        },
        {
          "output_type": "stream",
          "text": [
            "\r38it [08:45, 13.86s/it]"
          ],
          "name": "stderr"
        },
        {
          "output_type": "stream",
          "text": [
            "\rtrain batch [38/41]: loss 0.2780519723892212"
          ],
          "name": "stdout"
        },
        {
          "output_type": "stream",
          "text": [
            "\r39it [08:59, 13.86s/it]"
          ],
          "name": "stderr"
        },
        {
          "output_type": "stream",
          "text": [
            "\rtrain batch [39/41]: loss 0.33920031785964966"
          ],
          "name": "stdout"
        },
        {
          "output_type": "stream",
          "text": [
            "\r40it [09:13, 13.84s/it]"
          ],
          "name": "stderr"
        },
        {
          "output_type": "stream",
          "text": [
            "\rtrain batch [40/41]: loss 0.37509915232658386"
          ],
          "name": "stdout"
        },
        {
          "output_type": "stream",
          "text": [
            "41it [09:24, 13.76s/it]"
          ],
          "name": "stderr"
        },
        {
          "output_type": "stream",
          "text": [
            "\rval batch [0/4]: loss 1.7187011241912842"
          ],
          "name": "stdout"
        },
        {
          "output_type": "stream",
          "text": [
            "\n"
          ],
          "name": "stderr"
        },
        {
          "output_type": "stream",
          "text": [
            "val batch [3/4]: loss 0.14784160256385803\n",
            "Train loss: 0.3108864194009362, Train accuracy: 0.8475843071937561\n",
            "Val loss: 0.7363650612533092, Val accuracy: 0.625\n",
            "\n"
          ],
          "name": "stdout"
        }
      ]
    },
    {
      "cell_type": "code",
      "metadata": {
        "id": "78IkqIEdlNwB",
        "colab_type": "code",
        "colab": {}
      },
      "source": [
        ""
      ],
      "execution_count": null,
      "outputs": []
    },
    {
      "cell_type": "code",
      "metadata": {
        "id": "VgC17l3gnVSI",
        "colab_type": "code",
        "colab": {
          "base_uri": "https://localhost:8080/",
          "height": 54
        },
        "outputId": "db152862-063f-43b2-ef5b-a4f7f46f1df4"
      },
      "source": [
        "train_after_loss, train_after_acc, true_labels, pred_labels = test(model, train_dataloader, criterion, optimizer, lr_scheduler, phase='test')\n",
        "print(f'Train loss (After Training is Completed): {train_after_loss}, Train accuracy (After Training is Completed): {train_after_acc}')"
      ],
      "execution_count": 22,
      "outputs": [
        {
          "output_type": "stream",
          "text": [
            "test batch [40/41]: loss 0.33005383610725403Train loss (After Training is Completed): 0.29875991657012846, Train accuracy (After Training is Completed): 0.8713573217391968\n"
          ],
          "name": "stdout"
        }
      ]
    },
    {
      "cell_type": "code",
      "metadata": {
        "id": "etr6x9lklkQJ",
        "colab_type": "code",
        "colab": {
          "base_uri": "https://localhost:8080/",
          "height": 34
        },
        "outputId": "14a693e3-64a3-465d-8064-a633fba5fc63"
      },
      "source": [
        "test_dataloader = torch.utils.data.DataLoader(test_dataset, batch_size=128, shuffle=False)\n",
        "test_loss, test_acc, true_labels, pred_labels = test(model, test_dataloader, criterion, optimizer, lr_scheduler, phase='test')\n",
        "print(f'Test loss: {test_loss}, Test accuracy: {test_acc}')"
      ],
      "execution_count": 21,
      "outputs": [
        {
          "output_type": "stream",
          "text": [
            "test batch [4/5]: loss 0.148805171251297Test loss: 0.5051441311836242, Test accuracy: 0.7676281929016113\n"
          ],
          "name": "stdout"
        }
      ]
    },
    {
      "cell_type": "code",
      "metadata": {
        "id": "Ya9R9a7blkMs",
        "colab_type": "code",
        "colab": {}
      },
      "source": [
        ""
      ],
      "execution_count": null,
      "outputs": []
    }
  ]
}