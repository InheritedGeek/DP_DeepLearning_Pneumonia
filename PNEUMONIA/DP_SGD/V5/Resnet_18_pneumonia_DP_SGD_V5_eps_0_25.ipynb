{
  "nbformat": 4,
  "nbformat_minor": 0,
  "metadata": {
    "kernelspec": {
      "display_name": "Python 3",
      "language": "python",
      "name": "python3"
    },
    "language_info": {
      "codemirror_mode": {
        "name": "ipython",
        "version": 3
      },
      "file_extension": ".py",
      "mimetype": "text/x-python",
      "name": "python",
      "nbconvert_exporter": "python",
      "pygments_lexer": "ipython3",
      "version": "3.8.2"
    },
    "colab": {
      "name": "Resnet_18_pneumonia_DP_SGD_V5_eps_0_25.ipynb",
      "provenance": [],
      "collapsed_sections": [],
      "machine_shape": "hm"
    },
    "accelerator": "GPU",
    "widgets": {
      "application/vnd.jupyter.widget-state+json": {
        "dab8490236b4446d931f6c888e73af48": {
          "model_module": "@jupyter-widgets/controls",
          "model_name": "HBoxModel",
          "state": {
            "_view_name": "HBoxView",
            "_dom_classes": [],
            "_model_name": "HBoxModel",
            "_view_module": "@jupyter-widgets/controls",
            "_model_module_version": "1.5.0",
            "_view_count": null,
            "_view_module_version": "1.5.0",
            "box_style": "",
            "layout": "IPY_MODEL_121db8421e2349609f636785b4ae07d2",
            "_model_module": "@jupyter-widgets/controls",
            "children": [
              "IPY_MODEL_c819a20a02d84404986025b2237b1d23",
              "IPY_MODEL_abdda80de99141fab896c9316d027f9b"
            ]
          }
        },
        "121db8421e2349609f636785b4ae07d2": {
          "model_module": "@jupyter-widgets/base",
          "model_name": "LayoutModel",
          "state": {
            "_view_name": "LayoutView",
            "grid_template_rows": null,
            "right": null,
            "justify_content": null,
            "_view_module": "@jupyter-widgets/base",
            "overflow": null,
            "_model_module_version": "1.2.0",
            "_view_count": null,
            "flex_flow": null,
            "width": null,
            "min_width": null,
            "border": null,
            "align_items": null,
            "bottom": null,
            "_model_module": "@jupyter-widgets/base",
            "top": null,
            "grid_column": null,
            "overflow_y": null,
            "overflow_x": null,
            "grid_auto_flow": null,
            "grid_area": null,
            "grid_template_columns": null,
            "flex": null,
            "_model_name": "LayoutModel",
            "justify_items": null,
            "grid_row": null,
            "max_height": null,
            "align_content": null,
            "visibility": null,
            "align_self": null,
            "height": null,
            "min_height": null,
            "padding": null,
            "grid_auto_rows": null,
            "grid_gap": null,
            "max_width": null,
            "order": null,
            "_view_module_version": "1.2.0",
            "grid_template_areas": null,
            "object_position": null,
            "object_fit": null,
            "grid_auto_columns": null,
            "margin": null,
            "display": null,
            "left": null
          }
        },
        "c819a20a02d84404986025b2237b1d23": {
          "model_module": "@jupyter-widgets/controls",
          "model_name": "FloatProgressModel",
          "state": {
            "_view_name": "ProgressView",
            "style": "IPY_MODEL_edf366c68f1b4131a117da5c58a0128c",
            "_dom_classes": [],
            "description": "100%",
            "_model_name": "FloatProgressModel",
            "bar_style": "success",
            "max": 46827520,
            "_view_module": "@jupyter-widgets/controls",
            "_model_module_version": "1.5.0",
            "value": 46827520,
            "_view_count": null,
            "_view_module_version": "1.5.0",
            "orientation": "horizontal",
            "min": 0,
            "description_tooltip": null,
            "_model_module": "@jupyter-widgets/controls",
            "layout": "IPY_MODEL_65e959c78f964266a0de8b744528c623"
          }
        },
        "abdda80de99141fab896c9316d027f9b": {
          "model_module": "@jupyter-widgets/controls",
          "model_name": "HTMLModel",
          "state": {
            "_view_name": "HTMLView",
            "style": "IPY_MODEL_ccd5d067620a4bc9a0ff8548420dfdf3",
            "_dom_classes": [],
            "description": "",
            "_model_name": "HTMLModel",
            "placeholder": "​",
            "_view_module": "@jupyter-widgets/controls",
            "_model_module_version": "1.5.0",
            "value": " 44.7M/44.7M [00:39&lt;00:00, 1.19MB/s]",
            "_view_count": null,
            "_view_module_version": "1.5.0",
            "description_tooltip": null,
            "_model_module": "@jupyter-widgets/controls",
            "layout": "IPY_MODEL_7547b5c2d4a849f18d09898cf1b540b8"
          }
        },
        "edf366c68f1b4131a117da5c58a0128c": {
          "model_module": "@jupyter-widgets/controls",
          "model_name": "ProgressStyleModel",
          "state": {
            "_view_name": "StyleView",
            "_model_name": "ProgressStyleModel",
            "description_width": "initial",
            "_view_module": "@jupyter-widgets/base",
            "_model_module_version": "1.5.0",
            "_view_count": null,
            "_view_module_version": "1.2.0",
            "bar_color": null,
            "_model_module": "@jupyter-widgets/controls"
          }
        },
        "65e959c78f964266a0de8b744528c623": {
          "model_module": "@jupyter-widgets/base",
          "model_name": "LayoutModel",
          "state": {
            "_view_name": "LayoutView",
            "grid_template_rows": null,
            "right": null,
            "justify_content": null,
            "_view_module": "@jupyter-widgets/base",
            "overflow": null,
            "_model_module_version": "1.2.0",
            "_view_count": null,
            "flex_flow": null,
            "width": null,
            "min_width": null,
            "border": null,
            "align_items": null,
            "bottom": null,
            "_model_module": "@jupyter-widgets/base",
            "top": null,
            "grid_column": null,
            "overflow_y": null,
            "overflow_x": null,
            "grid_auto_flow": null,
            "grid_area": null,
            "grid_template_columns": null,
            "flex": null,
            "_model_name": "LayoutModel",
            "justify_items": null,
            "grid_row": null,
            "max_height": null,
            "align_content": null,
            "visibility": null,
            "align_self": null,
            "height": null,
            "min_height": null,
            "padding": null,
            "grid_auto_rows": null,
            "grid_gap": null,
            "max_width": null,
            "order": null,
            "_view_module_version": "1.2.0",
            "grid_template_areas": null,
            "object_position": null,
            "object_fit": null,
            "grid_auto_columns": null,
            "margin": null,
            "display": null,
            "left": null
          }
        },
        "ccd5d067620a4bc9a0ff8548420dfdf3": {
          "model_module": "@jupyter-widgets/controls",
          "model_name": "DescriptionStyleModel",
          "state": {
            "_view_name": "StyleView",
            "_model_name": "DescriptionStyleModel",
            "description_width": "",
            "_view_module": "@jupyter-widgets/base",
            "_model_module_version": "1.5.0",
            "_view_count": null,
            "_view_module_version": "1.2.0",
            "_model_module": "@jupyter-widgets/controls"
          }
        },
        "7547b5c2d4a849f18d09898cf1b540b8": {
          "model_module": "@jupyter-widgets/base",
          "model_name": "LayoutModel",
          "state": {
            "_view_name": "LayoutView",
            "grid_template_rows": null,
            "right": null,
            "justify_content": null,
            "_view_module": "@jupyter-widgets/base",
            "overflow": null,
            "_model_module_version": "1.2.0",
            "_view_count": null,
            "flex_flow": null,
            "width": null,
            "min_width": null,
            "border": null,
            "align_items": null,
            "bottom": null,
            "_model_module": "@jupyter-widgets/base",
            "top": null,
            "grid_column": null,
            "overflow_y": null,
            "overflow_x": null,
            "grid_auto_flow": null,
            "grid_area": null,
            "grid_template_columns": null,
            "flex": null,
            "_model_name": "LayoutModel",
            "justify_items": null,
            "grid_row": null,
            "max_height": null,
            "align_content": null,
            "visibility": null,
            "align_self": null,
            "height": null,
            "min_height": null,
            "padding": null,
            "grid_auto_rows": null,
            "grid_gap": null,
            "max_width": null,
            "order": null,
            "_view_module_version": "1.2.0",
            "grid_template_areas": null,
            "object_position": null,
            "object_fit": null,
            "grid_auto_columns": null,
            "margin": null,
            "display": null,
            "left": null
          }
        }
      }
    }
  },
  "cells": [
    {
      "cell_type": "code",
      "metadata": {
        "id": "tJxejS4BhtfA",
        "colab_type": "code",
        "colab": {
          "base_uri": "https://localhost:8080/",
          "height": 357
        },
        "outputId": "dc8b8a9c-edef-401f-9de4-0cefd5fbb039"
      },
      "source": [
        "!nvidia-smi"
      ],
      "execution_count": 1,
      "outputs": [
        {
          "output_type": "stream",
          "text": [
            "Sun Jul 26 18:25:00 2020       \n",
            "+-----------------------------------------------------------------------------+\n",
            "| NVIDIA-SMI 450.51.05    Driver Version: 418.67       CUDA Version: 10.1     |\n",
            "|-------------------------------+----------------------+----------------------+\n",
            "| GPU  Name        Persistence-M| Bus-Id        Disp.A | Volatile Uncorr. ECC |\n",
            "| Fan  Temp  Perf  Pwr:Usage/Cap|         Memory-Usage | GPU-Util  Compute M. |\n",
            "|                               |                      |               MIG M. |\n",
            "|===============================+======================+======================|\n",
            "|   0  Tesla P100-PCIE...  Off  | 00000000:00:04.0 Off |                    0 |\n",
            "| N/A   39C    P0    27W / 250W |      0MiB / 16280MiB |      0%      Default |\n",
            "|                               |                      |                 ERR! |\n",
            "+-------------------------------+----------------------+----------------------+\n",
            "                                                                               \n",
            "+-----------------------------------------------------------------------------+\n",
            "| Processes:                                                                  |\n",
            "|  GPU   GI   CI        PID   Type   Process name                  GPU Memory |\n",
            "|        ID   ID                                                   Usage      |\n",
            "|=============================================================================|\n",
            "|  No running processes found                                                 |\n",
            "+-----------------------------------------------------------------------------+\n"
          ],
          "name": "stdout"
        }
      ]
    },
    {
      "cell_type": "code",
      "metadata": {
        "id": "KqzKNkpfXrM7",
        "colab_type": "code",
        "colab": {
          "base_uri": "https://localhost:8080/",
          "height": 122
        },
        "outputId": "02f806b0-3038-4601-f1c5-02d726f285af"
      },
      "source": [
        "from google.colab import drive\n",
        "drive.mount('/content/drive', force_remount=True)"
      ],
      "execution_count": 2,
      "outputs": [
        {
          "output_type": "stream",
          "text": [
            "Go to this URL in a browser: https://accounts.google.com/o/oauth2/auth?client_id=947318989803-6bn6qk8qdgf4n4g3pfee6491hc0brc4i.apps.googleusercontent.com&redirect_uri=urn%3aietf%3awg%3aoauth%3a2.0%3aoob&response_type=code&scope=email%20https%3a%2f%2fwww.googleapis.com%2fauth%2fdocs.test%20https%3a%2f%2fwww.googleapis.com%2fauth%2fdrive%20https%3a%2f%2fwww.googleapis.com%2fauth%2fdrive.photos.readonly%20https%3a%2f%2fwww.googleapis.com%2fauth%2fpeopleapi.readonly\n",
            "\n",
            "Enter your authorization code:\n",
            "··········\n",
            "Mounted at /content/drive\n"
          ],
          "name": "stdout"
        }
      ]
    },
    {
      "cell_type": "code",
      "metadata": {
        "id": "5tkHSteTnOUV",
        "colab_type": "code",
        "colab": {}
      },
      "source": [
        "import torch \n",
        "import torch.nn as nn\n",
        "import torchvision\n",
        "import numpy as np \n",
        "import random\n",
        "import os\n",
        "import glob\n",
        "import copy\n",
        "from tqdm import tqdm as tqdm\n",
        "from torchsummary import summary\n",
        "\n",
        "seed = 42\n",
        "random.seed(seed)\n",
        "os.environ[\"PYTHONHASHSEED\"] = str(seed)\n",
        "np.random.seed(seed)\n",
        "torch.cuda.manual_seed(seed)\n",
        "torch.cuda.manual_seed_all(seed)\n",
        "torch.backends.cudnn.deterministic = True\n",
        "torch.manual_seed(seed)\n",
        "\n",
        "best_model = None\n",
        "best_loss = 0.\n",
        "best_test_loss = 0.\n",
        "best_test_acc = 0.\n",
        "best_pred_labels = []\n",
        "true_labels = []\n",
        "\n",
        "pred_labels = []\n",
        "test_acc = 0.\n",
        "test_loss = 0.\n",
        "\n",
        "# device = torch.device('cuda:0')\n",
        "device = torch.device('cuda' if torch.cuda.is_available() else 'cpu')"
      ],
      "execution_count": 3,
      "outputs": []
    },
    {
      "cell_type": "code",
      "metadata": {
        "id": "7RU4xhb-Rd5f",
        "colab_type": "code",
        "colab": {}
      },
      "source": [
        ""
      ],
      "execution_count": null,
      "outputs": []
    },
    {
      "cell_type": "code",
      "metadata": {
        "id": "YrWpxiPORkyD",
        "colab_type": "code",
        "colab": {}
      },
      "source": [
        ""
      ],
      "execution_count": null,
      "outputs": []
    },
    {
      "cell_type": "code",
      "metadata": {
        "id": "Fru4k-1bRksb",
        "colab_type": "code",
        "colab": {}
      },
      "source": [
        ""
      ],
      "execution_count": null,
      "outputs": []
    },
    {
      "cell_type": "code",
      "metadata": {
        "id": "xjX3GQUHnOUh",
        "colab_type": "code",
        "colab": {
          "base_uri": "https://localhost:8080/",
          "height": 85
        },
        "outputId": "23114f1d-0c51-4960-d9e0-af8883aac904"
      },
      "source": [
        "# train class samples \n",
        "print('Normal Samples in Training Data')\n",
        "!ls -l /content/drive/\"My Drive\"/NDP_Data/chest_xray/train/NORMAL | wc -l\n",
        "print('Pneumonia Samples in Training Data')\n",
        "!ls -l /content/drive/\"My Drive\"/NDP_Data/chest_xray/train/PNEUMONIA | wc -l"
      ],
      "execution_count": 4,
      "outputs": [
        {
          "output_type": "stream",
          "text": [
            "Normal Samples in Training Data\n",
            "1342\n",
            "Pneumonia Samples in Training Data\n",
            "3876\n"
          ],
          "name": "stdout"
        }
      ]
    },
    {
      "cell_type": "code",
      "metadata": {
        "id": "XOR0OlpIbDFA",
        "colab_type": "code",
        "colab": {
          "base_uri": "https://localhost:8080/",
          "height": 85
        },
        "outputId": "d7e2b54c-ed2e-4614-f855-f08d5ddbc012"
      },
      "source": [
        "# Validation samples\n",
        "print('Normal Samples in Validation Data')\n",
        "!ls -l /content/drive/\"My Drive\"/NDP_Data/chest_xray/val/NORMAL | wc -l\n",
        "print('Pneumonia Samples in Validation Data')\n",
        "!ls -l /content/drive/\"My Drive\"/NDP_Data/chest_xray/val/PNEUMONIA | wc -l"
      ],
      "execution_count": 5,
      "outputs": [
        {
          "output_type": "stream",
          "text": [
            "Normal Samples in Validation Data\n",
            "9\n",
            "Pneumonia Samples in Validation Data\n",
            "9\n"
          ],
          "name": "stdout"
        }
      ]
    },
    {
      "cell_type": "code",
      "metadata": {
        "id": "z8YxWrN7nOUo",
        "colab_type": "code",
        "colab": {
          "base_uri": "https://localhost:8080/",
          "height": 85
        },
        "outputId": "e2a3e997-5de6-4073-f923-c221bd96e7c5"
      },
      "source": [
        "# Testing samples\n",
        "print('Normal Samples in Testing Data')\n",
        "!ls -l /content/drive/\"My Drive\"/NDP_Data/chest_xray/test/NORMAL | wc -l\n",
        "print('Pneumonia Samples in Testing Data')\n",
        "!ls -l /content/drive/\"My Drive\"/NDP_Data/chest_xray/test/PNEUMONIA | wc -l"
      ],
      "execution_count": 6,
      "outputs": [
        {
          "output_type": "stream",
          "text": [
            "Normal Samples in Testing Data\n",
            "235\n",
            "Pneumonia Samples in Testing Data\n",
            "391\n"
          ],
          "name": "stdout"
        }
      ]
    },
    {
      "cell_type": "code",
      "metadata": {
        "id": "cXSLk7THBYud",
        "colab_type": "code",
        "colab": {}
      },
      "source": [
        ""
      ],
      "execution_count": null,
      "outputs": []
    },
    {
      "cell_type": "code",
      "metadata": {
        "id": "rWZYl9iuBYw_",
        "colab_type": "code",
        "colab": {}
      },
      "source": [
        "# Copying to Non DP data(train, val and test) to local to process/run faster during training & inference\n",
        "\n",
        "!cp -R /content/drive/\"My Drive\"/NDP_Data/chest_xray/train ./\n",
        "\n",
        "!cp -R /content/drive/\"My Drive\"/NDP_Data/chest_xray/val ./\n",
        "\n",
        "!cp -R /content/drive/\"My Drive\"/NDP_Data/chest_xray/test ./"
      ],
      "execution_count": 7,
      "outputs": []
    },
    {
      "cell_type": "code",
      "metadata": {
        "id": "1Vbg2Cn6BZd8",
        "colab_type": "code",
        "colab": {}
      },
      "source": [
        ""
      ],
      "execution_count": null,
      "outputs": []
    },
    {
      "cell_type": "code",
      "metadata": {
        "id": "2wjjYqolBbl1",
        "colab_type": "code",
        "colab": {
          "base_uri": "https://localhost:8080/",
          "height": 119
        },
        "outputId": "f8b3c710-d0ed-4436-e8f7-0484f831ab82"
      },
      "source": [
        "!ls -lrt"
      ],
      "execution_count": 8,
      "outputs": [
        {
          "output_type": "stream",
          "text": [
            "total 20\n",
            "drwxr-xr-x 1 root root 4096 Jul 10 16:29 sample_data\n",
            "drwx------ 4 root root 4096 Jul 26 18:25 drive\n",
            "drwx------ 4 root root 4096 Jul 26 18:31 train\n",
            "drwx------ 4 root root 4096 Jul 26 18:45 val\n",
            "drwx------ 4 root root 4096 Jul 26 18:46 test\n"
          ],
          "name": "stdout"
        }
      ]
    },
    {
      "cell_type": "code",
      "metadata": {
        "id": "pcogn5mOBgCM",
        "colab_type": "code",
        "colab": {
          "base_uri": "https://localhost:8080/",
          "height": 51
        },
        "outputId": "acec439f-45f4-402e-a93e-541127e5cc89"
      },
      "source": [
        "!ls -l ./train/NORMAL | wc -l\n",
        "\n",
        "!ls -l ./train/PNEUMONIA | wc -l"
      ],
      "execution_count": 9,
      "outputs": [
        {
          "output_type": "stream",
          "text": [
            "1342\n",
            "3876\n"
          ],
          "name": "stdout"
        }
      ]
    },
    {
      "cell_type": "code",
      "metadata": {
        "id": "DLJvhTlPBgiu",
        "colab_type": "code",
        "colab": {}
      },
      "source": [
        ""
      ],
      "execution_count": null,
      "outputs": []
    },
    {
      "cell_type": "code",
      "metadata": {
        "id": "kwHKVqcwBgqm",
        "colab_type": "code",
        "colab": {
          "base_uri": "https://localhost:8080/",
          "height": 51
        },
        "outputId": "d13f4390-6be3-4376-b277-9b7c2300a0c9"
      },
      "source": [
        "!ls -l ./val/NORMAL | wc -l\n",
        "\n",
        "!ls -l ./val/PNEUMONIA | wc -l"
      ],
      "execution_count": 10,
      "outputs": [
        {
          "output_type": "stream",
          "text": [
            "9\n",
            "9\n"
          ],
          "name": "stdout"
        }
      ]
    },
    {
      "cell_type": "code",
      "metadata": {
        "id": "8nE8TYF8Bim-",
        "colab_type": "code",
        "colab": {}
      },
      "source": [
        ""
      ],
      "execution_count": null,
      "outputs": []
    },
    {
      "cell_type": "code",
      "metadata": {
        "id": "D43Ycj1cBivD",
        "colab_type": "code",
        "colab": {
          "base_uri": "https://localhost:8080/",
          "height": 51
        },
        "outputId": "b06239b7-affb-4e5c-e851-6cca439d17ea"
      },
      "source": [
        "!ls -l ./test/NORMAL | wc -l\n",
        "\n",
        "!ls -l ./test/PNEUMONIA | wc -l"
      ],
      "execution_count": 11,
      "outputs": [
        {
          "output_type": "stream",
          "text": [
            "235\n",
            "391\n"
          ],
          "name": "stdout"
        }
      ]
    },
    {
      "cell_type": "code",
      "metadata": {
        "id": "KeFNqMhzBboW",
        "colab_type": "code",
        "colab": {}
      },
      "source": [
        ""
      ],
      "execution_count": null,
      "outputs": []
    },
    {
      "cell_type": "code",
      "metadata": {
        "id": "LPDTSXKWnOUw",
        "colab_type": "code",
        "colab": {}
      },
      "source": [
        "class ChestXRay(torchvision.datasets.ImageFolder):\n",
        "    def __getitem__(self, index):\n",
        "        sample, target = super().__getitem__(index)\n",
        "        path, _ = self.samples[index]\n",
        "        \n",
        "        target = 0\n",
        "        if 'PNEUMONIA' in path:\n",
        "            target = 1\n",
        "        \n",
        "        return sample, target\n",
        "       "
      ],
      "execution_count": 12,
      "outputs": []
    },
    {
      "cell_type": "code",
      "metadata": {
        "id": "J-_xESJtnOU0",
        "colab_type": "code",
        "colab": {}
      },
      "source": [
        "train_transforms = torchvision.transforms.Compose([\n",
        "    torchvision.transforms.Resize(256),\n",
        "    torchvision.transforms.RandomAffine(0, translate=(0, 0.1), scale=(1, 1.10)),\n",
        "    torchvision.transforms.CenterCrop(224),\n",
        "    torchvision.transforms.ToTensor(),\n",
        "    torchvision.transforms.Normalize([0.485, 0.456, 0.406], [0.229, 0.224, 0.225])\n",
        "])\n",
        "\n",
        "transforms = torchvision.transforms.Compose([\n",
        "    torchvision.transforms.Resize(256),\n",
        "    torchvision.transforms.CenterCrop(224),\n",
        "    torchvision.transforms.ToTensor(),\n",
        "    torchvision.transforms.Normalize([0.485, 0.456, 0.406], [0.229, 0.224, 0.225]),\n",
        "])\n",
        "\n",
        "train_dataset = ChestXRay('./train/', transform=train_transforms)\n",
        "val_dataset = ChestXRay('./val/', transform=train_transforms)\n",
        "test_dataset = ChestXRay('./test/', transform=transforms)\n",
        "\n",
        "train_dataloader = torch.utils.data.DataLoader(train_dataset, batch_size=128, shuffle=True)\n",
        "val_dataloader = torch.utils.data.DataLoader(val_dataset, batch_size=4, shuffle=False)\n",
        "test_dataloader = torch.utils.data.DataLoader(test_dataset, batch_size=128, shuffle=False)"
      ],
      "execution_count": 13,
      "outputs": []
    },
    {
      "cell_type": "code",
      "metadata": {
        "id": "Ee19YDP1nOVA",
        "colab_type": "code",
        "colab": {
          "base_uri": "https://localhost:8080/",
          "height": 1000,
          "referenced_widgets": [
            "dab8490236b4446d931f6c888e73af48",
            "121db8421e2349609f636785b4ae07d2",
            "c819a20a02d84404986025b2237b1d23",
            "abdda80de99141fab896c9316d027f9b",
            "edf366c68f1b4131a117da5c58a0128c",
            "65e959c78f964266a0de8b744528c623",
            "ccd5d067620a4bc9a0ff8548420dfdf3",
            "7547b5c2d4a849f18d09898cf1b540b8"
          ]
        },
        "outputId": "26449691-e20e-4323-ccc0-6e6648a6a848"
      },
      "source": [
        "model = torchvision.models.resnet18(pretrained=True)\n",
        "model.fc = torch.nn.Linear(in_features=512, out_features=2)\n",
        "model = model.to(device)\n",
        "model"
      ],
      "execution_count": 14,
      "outputs": [
        {
          "output_type": "stream",
          "text": [
            "Downloading: \"https://download.pytorch.org/models/resnet18-5c106cde.pth\" to /root/.cache/torch/checkpoints/resnet18-5c106cde.pth\n"
          ],
          "name": "stderr"
        },
        {
          "output_type": "display_data",
          "data": {
            "application/vnd.jupyter.widget-view+json": {
              "model_id": "dab8490236b4446d931f6c888e73af48",
              "version_minor": 0,
              "version_major": 2
            },
            "text/plain": [
              "HBox(children=(FloatProgress(value=0.0, max=46827520.0), HTML(value='')))"
            ]
          },
          "metadata": {
            "tags": []
          }
        },
        {
          "output_type": "stream",
          "text": [
            "\n"
          ],
          "name": "stdout"
        },
        {
          "output_type": "execute_result",
          "data": {
            "text/plain": [
              "ResNet(\n",
              "  (conv1): Conv2d(3, 64, kernel_size=(7, 7), stride=(2, 2), padding=(3, 3), bias=False)\n",
              "  (bn1): BatchNorm2d(64, eps=1e-05, momentum=0.1, affine=True, track_running_stats=True)\n",
              "  (relu): ReLU(inplace=True)\n",
              "  (maxpool): MaxPool2d(kernel_size=3, stride=2, padding=1, dilation=1, ceil_mode=False)\n",
              "  (layer1): Sequential(\n",
              "    (0): BasicBlock(\n",
              "      (conv1): Conv2d(64, 64, kernel_size=(3, 3), stride=(1, 1), padding=(1, 1), bias=False)\n",
              "      (bn1): BatchNorm2d(64, eps=1e-05, momentum=0.1, affine=True, track_running_stats=True)\n",
              "      (relu): ReLU(inplace=True)\n",
              "      (conv2): Conv2d(64, 64, kernel_size=(3, 3), stride=(1, 1), padding=(1, 1), bias=False)\n",
              "      (bn2): BatchNorm2d(64, eps=1e-05, momentum=0.1, affine=True, track_running_stats=True)\n",
              "    )\n",
              "    (1): BasicBlock(\n",
              "      (conv1): Conv2d(64, 64, kernel_size=(3, 3), stride=(1, 1), padding=(1, 1), bias=False)\n",
              "      (bn1): BatchNorm2d(64, eps=1e-05, momentum=0.1, affine=True, track_running_stats=True)\n",
              "      (relu): ReLU(inplace=True)\n",
              "      (conv2): Conv2d(64, 64, kernel_size=(3, 3), stride=(1, 1), padding=(1, 1), bias=False)\n",
              "      (bn2): BatchNorm2d(64, eps=1e-05, momentum=0.1, affine=True, track_running_stats=True)\n",
              "    )\n",
              "  )\n",
              "  (layer2): Sequential(\n",
              "    (0): BasicBlock(\n",
              "      (conv1): Conv2d(64, 128, kernel_size=(3, 3), stride=(2, 2), padding=(1, 1), bias=False)\n",
              "      (bn1): BatchNorm2d(128, eps=1e-05, momentum=0.1, affine=True, track_running_stats=True)\n",
              "      (relu): ReLU(inplace=True)\n",
              "      (conv2): Conv2d(128, 128, kernel_size=(3, 3), stride=(1, 1), padding=(1, 1), bias=False)\n",
              "      (bn2): BatchNorm2d(128, eps=1e-05, momentum=0.1, affine=True, track_running_stats=True)\n",
              "      (downsample): Sequential(\n",
              "        (0): Conv2d(64, 128, kernel_size=(1, 1), stride=(2, 2), bias=False)\n",
              "        (1): BatchNorm2d(128, eps=1e-05, momentum=0.1, affine=True, track_running_stats=True)\n",
              "      )\n",
              "    )\n",
              "    (1): BasicBlock(\n",
              "      (conv1): Conv2d(128, 128, kernel_size=(3, 3), stride=(1, 1), padding=(1, 1), bias=False)\n",
              "      (bn1): BatchNorm2d(128, eps=1e-05, momentum=0.1, affine=True, track_running_stats=True)\n",
              "      (relu): ReLU(inplace=True)\n",
              "      (conv2): Conv2d(128, 128, kernel_size=(3, 3), stride=(1, 1), padding=(1, 1), bias=False)\n",
              "      (bn2): BatchNorm2d(128, eps=1e-05, momentum=0.1, affine=True, track_running_stats=True)\n",
              "    )\n",
              "  )\n",
              "  (layer3): Sequential(\n",
              "    (0): BasicBlock(\n",
              "      (conv1): Conv2d(128, 256, kernel_size=(3, 3), stride=(2, 2), padding=(1, 1), bias=False)\n",
              "      (bn1): BatchNorm2d(256, eps=1e-05, momentum=0.1, affine=True, track_running_stats=True)\n",
              "      (relu): ReLU(inplace=True)\n",
              "      (conv2): Conv2d(256, 256, kernel_size=(3, 3), stride=(1, 1), padding=(1, 1), bias=False)\n",
              "      (bn2): BatchNorm2d(256, eps=1e-05, momentum=0.1, affine=True, track_running_stats=True)\n",
              "      (downsample): Sequential(\n",
              "        (0): Conv2d(128, 256, kernel_size=(1, 1), stride=(2, 2), bias=False)\n",
              "        (1): BatchNorm2d(256, eps=1e-05, momentum=0.1, affine=True, track_running_stats=True)\n",
              "      )\n",
              "    )\n",
              "    (1): BasicBlock(\n",
              "      (conv1): Conv2d(256, 256, kernel_size=(3, 3), stride=(1, 1), padding=(1, 1), bias=False)\n",
              "      (bn1): BatchNorm2d(256, eps=1e-05, momentum=0.1, affine=True, track_running_stats=True)\n",
              "      (relu): ReLU(inplace=True)\n",
              "      (conv2): Conv2d(256, 256, kernel_size=(3, 3), stride=(1, 1), padding=(1, 1), bias=False)\n",
              "      (bn2): BatchNorm2d(256, eps=1e-05, momentum=0.1, affine=True, track_running_stats=True)\n",
              "    )\n",
              "  )\n",
              "  (layer4): Sequential(\n",
              "    (0): BasicBlock(\n",
              "      (conv1): Conv2d(256, 512, kernel_size=(3, 3), stride=(2, 2), padding=(1, 1), bias=False)\n",
              "      (bn1): BatchNorm2d(512, eps=1e-05, momentum=0.1, affine=True, track_running_stats=True)\n",
              "      (relu): ReLU(inplace=True)\n",
              "      (conv2): Conv2d(512, 512, kernel_size=(3, 3), stride=(1, 1), padding=(1, 1), bias=False)\n",
              "      (bn2): BatchNorm2d(512, eps=1e-05, momentum=0.1, affine=True, track_running_stats=True)\n",
              "      (downsample): Sequential(\n",
              "        (0): Conv2d(256, 512, kernel_size=(1, 1), stride=(2, 2), bias=False)\n",
              "        (1): BatchNorm2d(512, eps=1e-05, momentum=0.1, affine=True, track_running_stats=True)\n",
              "      )\n",
              "    )\n",
              "    (1): BasicBlock(\n",
              "      (conv1): Conv2d(512, 512, kernel_size=(3, 3), stride=(1, 1), padding=(1, 1), bias=False)\n",
              "      (bn1): BatchNorm2d(512, eps=1e-05, momentum=0.1, affine=True, track_running_stats=True)\n",
              "      (relu): ReLU(inplace=True)\n",
              "      (conv2): Conv2d(512, 512, kernel_size=(3, 3), stride=(1, 1), padding=(1, 1), bias=False)\n",
              "      (bn2): BatchNorm2d(512, eps=1e-05, momentum=0.1, affine=True, track_running_stats=True)\n",
              "    )\n",
              "  )\n",
              "  (avgpool): AdaptiveAvgPool2d(output_size=(1, 1))\n",
              "  (fc): Linear(in_features=512, out_features=2, bias=True)\n",
              ")"
            ]
          },
          "metadata": {
            "tags": []
          },
          "execution_count": 14
        }
      ]
    },
    {
      "cell_type": "code",
      "metadata": {
        "id": "61IVJvrmr7th",
        "colab_type": "code",
        "colab": {
          "base_uri": "https://localhost:8080/",
          "height": 1000
        },
        "outputId": "689ec999-b7da-4045-b399-038dca966a29"
      },
      "source": [
        "summary(model.cuda(), [(3,224,224,)])"
      ],
      "execution_count": 15,
      "outputs": [
        {
          "output_type": "stream",
          "text": [
            "----------------------------------------------------------------\n",
            "        Layer (type)               Output Shape         Param #\n",
            "================================================================\n",
            "            Conv2d-1         [-1, 64, 112, 112]           9,408\n",
            "       BatchNorm2d-2         [-1, 64, 112, 112]             128\n",
            "              ReLU-3         [-1, 64, 112, 112]               0\n",
            "         MaxPool2d-4           [-1, 64, 56, 56]               0\n",
            "            Conv2d-5           [-1, 64, 56, 56]          36,864\n",
            "       BatchNorm2d-6           [-1, 64, 56, 56]             128\n",
            "              ReLU-7           [-1, 64, 56, 56]               0\n",
            "            Conv2d-8           [-1, 64, 56, 56]          36,864\n",
            "       BatchNorm2d-9           [-1, 64, 56, 56]             128\n",
            "             ReLU-10           [-1, 64, 56, 56]               0\n",
            "       BasicBlock-11           [-1, 64, 56, 56]               0\n",
            "           Conv2d-12           [-1, 64, 56, 56]          36,864\n",
            "      BatchNorm2d-13           [-1, 64, 56, 56]             128\n",
            "             ReLU-14           [-1, 64, 56, 56]               0\n",
            "           Conv2d-15           [-1, 64, 56, 56]          36,864\n",
            "      BatchNorm2d-16           [-1, 64, 56, 56]             128\n",
            "             ReLU-17           [-1, 64, 56, 56]               0\n",
            "       BasicBlock-18           [-1, 64, 56, 56]               0\n",
            "           Conv2d-19          [-1, 128, 28, 28]          73,728\n",
            "      BatchNorm2d-20          [-1, 128, 28, 28]             256\n",
            "             ReLU-21          [-1, 128, 28, 28]               0\n",
            "           Conv2d-22          [-1, 128, 28, 28]         147,456\n",
            "      BatchNorm2d-23          [-1, 128, 28, 28]             256\n",
            "           Conv2d-24          [-1, 128, 28, 28]           8,192\n",
            "      BatchNorm2d-25          [-1, 128, 28, 28]             256\n",
            "             ReLU-26          [-1, 128, 28, 28]               0\n",
            "       BasicBlock-27          [-1, 128, 28, 28]               0\n",
            "           Conv2d-28          [-1, 128, 28, 28]         147,456\n",
            "      BatchNorm2d-29          [-1, 128, 28, 28]             256\n",
            "             ReLU-30          [-1, 128, 28, 28]               0\n",
            "           Conv2d-31          [-1, 128, 28, 28]         147,456\n",
            "      BatchNorm2d-32          [-1, 128, 28, 28]             256\n",
            "             ReLU-33          [-1, 128, 28, 28]               0\n",
            "       BasicBlock-34          [-1, 128, 28, 28]               0\n",
            "           Conv2d-35          [-1, 256, 14, 14]         294,912\n",
            "      BatchNorm2d-36          [-1, 256, 14, 14]             512\n",
            "             ReLU-37          [-1, 256, 14, 14]               0\n",
            "           Conv2d-38          [-1, 256, 14, 14]         589,824\n",
            "      BatchNorm2d-39          [-1, 256, 14, 14]             512\n",
            "           Conv2d-40          [-1, 256, 14, 14]          32,768\n",
            "      BatchNorm2d-41          [-1, 256, 14, 14]             512\n",
            "             ReLU-42          [-1, 256, 14, 14]               0\n",
            "       BasicBlock-43          [-1, 256, 14, 14]               0\n",
            "           Conv2d-44          [-1, 256, 14, 14]         589,824\n",
            "      BatchNorm2d-45          [-1, 256, 14, 14]             512\n",
            "             ReLU-46          [-1, 256, 14, 14]               0\n",
            "           Conv2d-47          [-1, 256, 14, 14]         589,824\n",
            "      BatchNorm2d-48          [-1, 256, 14, 14]             512\n",
            "             ReLU-49          [-1, 256, 14, 14]               0\n",
            "       BasicBlock-50          [-1, 256, 14, 14]               0\n",
            "           Conv2d-51            [-1, 512, 7, 7]       1,179,648\n",
            "      BatchNorm2d-52            [-1, 512, 7, 7]           1,024\n",
            "             ReLU-53            [-1, 512, 7, 7]               0\n",
            "           Conv2d-54            [-1, 512, 7, 7]       2,359,296\n",
            "      BatchNorm2d-55            [-1, 512, 7, 7]           1,024\n",
            "           Conv2d-56            [-1, 512, 7, 7]         131,072\n",
            "      BatchNorm2d-57            [-1, 512, 7, 7]           1,024\n",
            "             ReLU-58            [-1, 512, 7, 7]               0\n",
            "       BasicBlock-59            [-1, 512, 7, 7]               0\n",
            "           Conv2d-60            [-1, 512, 7, 7]       2,359,296\n",
            "      BatchNorm2d-61            [-1, 512, 7, 7]           1,024\n",
            "             ReLU-62            [-1, 512, 7, 7]               0\n",
            "           Conv2d-63            [-1, 512, 7, 7]       2,359,296\n",
            "      BatchNorm2d-64            [-1, 512, 7, 7]           1,024\n",
            "             ReLU-65            [-1, 512, 7, 7]               0\n",
            "       BasicBlock-66            [-1, 512, 7, 7]               0\n",
            "AdaptiveAvgPool2d-67            [-1, 512, 1, 1]               0\n",
            "           Linear-68                    [-1, 2]           1,026\n",
            "================================================================\n",
            "Total params: 11,177,538\n",
            "Trainable params: 11,177,538\n",
            "Non-trainable params: 0\n",
            "----------------------------------------------------------------\n",
            "Input size (MB): 0.57\n",
            "Forward/backward pass size (MB): 62.79\n",
            "Params size (MB): 42.64\n",
            "Estimated Total Size (MB): 106.00\n",
            "----------------------------------------------------------------\n"
          ],
          "name": "stdout"
        }
      ]
    },
    {
      "cell_type": "code",
      "metadata": {
        "id": "VhXhlzFK2Dl1",
        "colab_type": "code",
        "colab": {}
      },
      "source": [
        ""
      ],
      "execution_count": null,
      "outputs": []
    },
    {
      "cell_type": "code",
      "metadata": {
        "id": "V5U-QpQHr7wE",
        "colab_type": "code",
        "colab": {}
      },
      "source": [
        ""
      ],
      "execution_count": null,
      "outputs": []
    },
    {
      "cell_type": "code",
      "metadata": {
        "id": "4B07P_pxylNA",
        "colab_type": "code",
        "colab": {}
      },
      "source": [
        "def deactivate_batchnorm(m):\n",
        "    if isinstance(m, nn.BatchNorm2d):\n",
        "        m.reset_parameters()\n",
        "        m.eval()\n",
        "        #m.affine = False\n",
        "        #m.track_running_stats = False\n",
        "        with torch.no_grad():\n",
        "            m.weight.fill_(1.0)\n",
        "            m.bias.zero_()"
      ],
      "execution_count": 16,
      "outputs": []
    },
    {
      "cell_type": "code",
      "metadata": {
        "id": "2YIhJ7MefyqN",
        "colab_type": "code",
        "colab": {}
      },
      "source": [
        "def clip_grad(parameters, max_norm, norm_type=2):\n",
        "    parameters = list(filter(lambda p: p.grad is not None, parameters))\n",
        "    total_norm = 0\n",
        "    for p in parameters:\n",
        "        param_norm = p.grad.data.norm(norm_type)\n",
        "        total_norm += param_norm.item() ** norm_type"
      ],
      "execution_count": 17,
      "outputs": []
    },
    {
      "cell_type": "code",
      "metadata": {
        "id": "VAoD68pMf5oy",
        "colab_type": "code",
        "colab": {}
      },
      "source": [
        "def train_dp(model, trainloader, criterion, optimizer, lr_scheduler, phase='train'):\n",
        "    \"\"\"\n",
        "    Differentially Private version of the training procedure\n",
        "    :param trainloader:\n",
        "    :param model:\n",
        "    :param optimizer:\n",
        "    :param epoch:\n",
        "    :return:\n",
        "    \"\"\"\n",
        "    model.train()\n",
        "    model.apply(deactivate_batchnorm)\n",
        "    running_loss = 0.0\n",
        "    epoch_loss = 0.\n",
        "    epoch_acc = 0.\n",
        "    \n",
        "    batch_num = 0.\n",
        "    samples_num = 0.\n",
        "    \n",
        "    true_labels = []\n",
        "    pred_labels = []\n",
        "    num_microbatches = 32\n",
        "    S = 1\n",
        "    z = 19.55 #DP-SGD with sampling rate = 2.45% and noise_multiplier = 19.55 iterated over 2039 steps satisfies differential privacy with eps = 0.25 and delta = 0.0001.\n",
        "              #The optimal RDP order is 63.0.\n",
        "    sigma = z * S\n",
        "    for batch_idx, data in tqdm(enumerate(trainloader, 0), leave=True):\n",
        "        inputs, labels = data\n",
        "        inputs = inputs.to(device)\n",
        "        labels = labels.to(device)\n",
        "        optimizer.zero_grad()\n",
        "        outputs = model(inputs)\n",
        "        _, preds = torch.max(outputs, 1)\n",
        "        loss = criterion(outputs, labels)\n",
        "        #print(loss.shape)\n",
        "        running_loss += torch.mean(loss).item()\n",
        "\n",
        "        true_labels.append(labels.detach().cpu())\n",
        "        pred_labels.append(preds.detach().cpu())\n",
        "\n",
        "        losses = torch.mean(loss.reshape(num_microbatches, -1), dim=1)\n",
        "        saved_var = dict()\n",
        "        for tensor_name, tensor in model.named_parameters():\n",
        "            saved_var[tensor_name] = torch.zeros_like(tensor)\n",
        "\n",
        "        for j in losses:\n",
        "            j.backward(retain_graph=True)\n",
        "            torch.nn.utils.clip_grad_norm_(model.parameters(), S)\n",
        "            for tensor_name, tensor in model.named_parameters():\n",
        "                new_grad = tensor.grad\n",
        "                saved_var[tensor_name].add_(new_grad)\n",
        "            model.zero_grad()\n",
        "\n",
        "        for tensor_name, tensor in model.named_parameters():\n",
        "            if device.type =='cuda':\n",
        "                noise = torch.cuda.FloatTensor(tensor.grad.shape).normal_(0, sigma)\n",
        "                #noise = torch.FloatTensor(tensor.grad.shape).normal_(0, sigma)\n",
        "            else:\n",
        "                noise = torch.FloatTensor(tensor.grad.shape).normal_(0, sigma)\n",
        "            saved_var[tensor_name].add_(noise)\n",
        "            tensor.grad = saved_var[tensor_name] / num_microbatches\n",
        "        optimizer.step()\n",
        "\n",
        "        #print(f'\\r{phase} batch [{batch_idx}/{len(trainloader)}]: loss {loss}', end='', flush=True)\n",
        "        print(f'\\r{phase} batch [{batch_idx}/{len(trainloader)}]: loss {torch.mean(loss).item()}', end='', flush=True)\n",
        "        epoch_loss += torch.mean(loss.detach().cpu()).item()\n",
        "        epoch_acc += torch.sum(preds == labels.data)\n",
        "        batch_num += 1\n",
        "        samples_num += len(labels)\n",
        "\n",
        "        '''if i > 0 and i % 20 == 0:\n",
        "            #             logger.info('[%d, %5d] loss: %.3f' %\n",
        "            #                   (epoch + 1, i + 1, running_loss / 2000))\n",
        "            plot(epoch * len(trainloader) + i, running_loss, 'Train Loss')\n",
        "            running_loss = 0.0'''\n",
        "    #print(\"RETURNING........\")\n",
        "    return epoch_loss / batch_num, epoch_acc / samples_num, torch.cat(true_labels).numpy(), torch.cat(pred_labels).numpy()      "
      ],
      "execution_count": 18,
      "outputs": []
    },
    {
      "cell_type": "code",
      "metadata": {
        "id": "8qxYBChvf6t3",
        "colab_type": "code",
        "colab": {}
      },
      "source": [
        "def test(model, testloader, criterion, optimizer, lr_scheduler, phase='test'):\n",
        "    model.eval()\n",
        "    model.apply(deactivate_batchnorm)\n",
        "    #correct = 0\n",
        "    #total = 0\n",
        "\n",
        "    epoch_loss = 0.\n",
        "    epoch_acc = 0.\n",
        "    \n",
        "    batch_num = 0.\n",
        "    samples_num = 0.\n",
        "    \n",
        "    true_labels = []\n",
        "    pred_labels = []\n",
        "\n",
        "    with torch.no_grad():\n",
        "        for batch_idx, data in  enumerate(testloader):\n",
        "            inputs, labels = data\n",
        "            inputs = inputs.to(device)\n",
        "            labels = labels.to(device)\n",
        "            outputs = model(inputs)\n",
        "            #_, predicted = torch.max(outputs.data, 1)\n",
        "            _, preds = torch.max(outputs, 1)\n",
        "            loss = criterion(outputs, labels)\n",
        "            true_labels.append(labels.detach().cpu())\n",
        "            pred_labels.append(preds.detach().cpu())\n",
        "\n",
        "            # print(f'\\r{phase} batch [{batch_idx}/{len(testloader)}]: loss {loss}', end='', flush=True)\n",
        "            print(f'\\r{phase} batch [{batch_idx}/{len(testloader)}]: loss {torch.mean(loss).item()}', end='', flush=True)\n",
        "            epoch_loss += torch.mean(loss.detach().cpu()).item()\n",
        "            epoch_acc += torch.sum(preds == labels.data)\n",
        "            batch_num += 1\n",
        "            samples_num += len(labels)\n",
        "\n",
        "            #total += labels.size(0)\n",
        "            #correct += (predicted == labels).sum().item()\n",
        "        #print(\"TESTING.....\")\n",
        "        return epoch_loss / batch_num, epoch_acc / samples_num, torch.cat(true_labels).numpy(), torch.cat(pred_labels).numpy()"
      ],
      "execution_count": 19,
      "outputs": []
    },
    {
      "cell_type": "code",
      "metadata": {
        "id": "68w_Ljsff9wO",
        "colab_type": "code",
        "colab": {}
      },
      "source": [
        ""
      ],
      "execution_count": null,
      "outputs": []
    },
    {
      "cell_type": "code",
      "metadata": {
        "id": "x7qXbQPUgRnw",
        "colab_type": "code",
        "colab": {}
      },
      "source": [
        ""
      ],
      "execution_count": null,
      "outputs": []
    },
    {
      "cell_type": "code",
      "metadata": {
        "id": "MCUrp4S-gRqP",
        "colab_type": "code",
        "colab": {}
      },
      "source": [
        "criterion = torch.nn.CrossEntropyLoss(reduction='none')\n",
        "optimizer = torch.optim.SGD(model.parameters(), lr=1e-2, weight_decay=0.001)\n",
        "lr_scheduler = torch.optim.lr_scheduler.ReduceLROnPlateau(optimizer, patience=3, verbose=True)"
      ],
      "execution_count": 20,
      "outputs": []
    },
    {
      "cell_type": "code",
      "metadata": {
        "id": "iAn4FWp3nOVR",
        "colab_type": "code",
        "colab": {
          "base_uri": "https://localhost:8080/",
          "height": 1000
        },
        "outputId": "4a268b92-0a3f-4170-bea8-d7aebdc57de8"
      },
      "source": [
        "train_losses = []\n",
        "val_losses = []\n",
        "test_losses = []\n",
        "\n",
        "for epoch in range(50):\n",
        "    print('='*15, f'Epoch: {epoch}')\n",
        "    \n",
        "#train_dp(model, trainloader, criterion, optimizer, lr_scheduler, phase='train')\n",
        "#test(model, testloader, criterion, optimizer, lr_scheduler, phase='test')\n",
        "\n",
        "    train_loss, train_acc, _, _ = train_dp(model, train_dataloader, criterion, optimizer, lr_scheduler)\n",
        "    val_loss, val_acc, _, _ = test(model, val_dataloader, criterion, optimizer, lr_scheduler, phase='val')\n",
        "    test_loss, test_acc, true_labels, pred_labels = test(model, test_dataloader, criterion, optimizer, lr_scheduler, phase='test')\n",
        "    \n",
        "    print()\n",
        "    print(f'Train loss: {train_loss}, Train accuracy: {train_acc}')\n",
        "    print(f'Val loss: {val_loss}, Val accuracy: {val_acc}')\n",
        "    print(f'Test loss: {test_loss}, Test accuracy: {test_acc}')\n",
        "    print()\n",
        "    \n",
        "    train_losses.append(train_loss)\n",
        "    val_losses.append(val_loss)\n",
        "    test_losses.append(test_loss)\n",
        "    \n",
        "    torch.save({'epoch': epoch, 'model': model.state_dict()}, f'resnet34-mooney-chest-x-ray-{seed}.pt')\n",
        "    \n",
        "    if best_model is None or val_loss < best_loss:\n",
        "        best_model = copy.deepcopy(model)\n",
        "        best_loss = val_loss\n",
        "        best_test_loss = test_loss\n",
        "        best_test_acc = test_acc \n",
        "        best_pred_labels = pred_labels\n",
        "        torch.save({'epoch': epoch, 'model': model.state_dict()}, f'resnet34-mooney-chest-x-ray-best-{seed}.pt')"
      ],
      "execution_count": 21,
      "outputs": [
        {
          "output_type": "stream",
          "text": [
            "\r0it [00:00, ?it/s]"
          ],
          "name": "stderr"
        },
        {
          "output_type": "stream",
          "text": [
            "=============== Epoch: 0\n",
            "train batch [0/41]: loss 0.6756365895271301"
          ],
          "name": "stdout"
        },
        {
          "output_type": "stream",
          "text": [
            "\r1it [00:08,  8.80s/it]"
          ],
          "name": "stderr"
        },
        {
          "output_type": "stream",
          "text": [
            "\rtrain batch [1/41]: loss 0.6549589037895203"
          ],
          "name": "stdout"
        },
        {
          "output_type": "stream",
          "text": [
            "\r2it [00:17,  8.74s/it]"
          ],
          "name": "stderr"
        },
        {
          "output_type": "stream",
          "text": [
            "\rtrain batch [2/41]: loss 0.6668936014175415"
          ],
          "name": "stdout"
        },
        {
          "output_type": "stream",
          "text": [
            "\r3it [00:26,  8.71s/it]"
          ],
          "name": "stderr"
        },
        {
          "output_type": "stream",
          "text": [
            "\rtrain batch [3/41]: loss 0.6785067319869995"
          ],
          "name": "stdout"
        },
        {
          "output_type": "stream",
          "text": [
            "\r4it [00:35,  8.79s/it]"
          ],
          "name": "stderr"
        },
        {
          "output_type": "stream",
          "text": [
            "\rtrain batch [4/41]: loss 0.63213050365448"
          ],
          "name": "stdout"
        },
        {
          "output_type": "stream",
          "text": [
            "\r5it [00:43,  8.75s/it]"
          ],
          "name": "stderr"
        },
        {
          "output_type": "stream",
          "text": [
            "\rtrain batch [5/41]: loss 0.5596095323562622"
          ],
          "name": "stdout"
        },
        {
          "output_type": "stream",
          "text": [
            "\r6it [00:52,  8.65s/it]"
          ],
          "name": "stderr"
        },
        {
          "output_type": "stream",
          "text": [
            "\rtrain batch [6/41]: loss 0.5538970232009888"
          ],
          "name": "stdout"
        },
        {
          "output_type": "stream",
          "text": [
            "\r7it [01:00,  8.66s/it]"
          ],
          "name": "stderr"
        },
        {
          "output_type": "stream",
          "text": [
            "\rtrain batch [7/41]: loss 0.4818699359893799"
          ],
          "name": "stdout"
        },
        {
          "output_type": "stream",
          "text": [
            "\r8it [01:09,  8.66s/it]"
          ],
          "name": "stderr"
        },
        {
          "output_type": "stream",
          "text": [
            "\rtrain batch [8/41]: loss 0.5108190774917603"
          ],
          "name": "stdout"
        },
        {
          "output_type": "stream",
          "text": [
            "\r9it [01:18,  8.68s/it]"
          ],
          "name": "stderr"
        },
        {
          "output_type": "stream",
          "text": [
            "\rtrain batch [9/41]: loss 0.4962613582611084"
          ],
          "name": "stdout"
        },
        {
          "output_type": "stream",
          "text": [
            "\r10it [01:26,  8.63s/it]"
          ],
          "name": "stderr"
        },
        {
          "output_type": "stream",
          "text": [
            "\rtrain batch [10/41]: loss 0.47599947452545166"
          ],
          "name": "stdout"
        },
        {
          "output_type": "stream",
          "text": [
            "\r11it [01:35,  8.61s/it]"
          ],
          "name": "stderr"
        },
        {
          "output_type": "stream",
          "text": [
            "\rtrain batch [11/41]: loss 0.48829442262649536"
          ],
          "name": "stdout"
        },
        {
          "output_type": "stream",
          "text": [
            "\r12it [01:43,  8.60s/it]"
          ],
          "name": "stderr"
        },
        {
          "output_type": "stream",
          "text": [
            "\rtrain batch [12/41]: loss 0.5455284118652344"
          ],
          "name": "stdout"
        },
        {
          "output_type": "stream",
          "text": [
            "\r13it [01:52,  8.61s/it]"
          ],
          "name": "stderr"
        },
        {
          "output_type": "stream",
          "text": [
            "\rtrain batch [13/41]: loss 0.5036829113960266"
          ],
          "name": "stdout"
        },
        {
          "output_type": "stream",
          "text": [
            "\r14it [02:01,  8.61s/it]"
          ],
          "name": "stderr"
        },
        {
          "output_type": "stream",
          "text": [
            "\rtrain batch [14/41]: loss 0.4678913354873657"
          ],
          "name": "stdout"
        },
        {
          "output_type": "stream",
          "text": [
            "\r15it [02:09,  8.61s/it]"
          ],
          "name": "stderr"
        },
        {
          "output_type": "stream",
          "text": [
            "\rtrain batch [15/41]: loss 0.5479196310043335"
          ],
          "name": "stdout"
        },
        {
          "output_type": "stream",
          "text": [
            "\r16it [02:18,  8.64s/it]"
          ],
          "name": "stderr"
        },
        {
          "output_type": "stream",
          "text": [
            "\rtrain batch [16/41]: loss 0.4733247756958008"
          ],
          "name": "stdout"
        },
        {
          "output_type": "stream",
          "text": [
            "\r17it [02:26,  8.61s/it]"
          ],
          "name": "stderr"
        },
        {
          "output_type": "stream",
          "text": [
            "\rtrain batch [17/41]: loss 0.6614915728569031"
          ],
          "name": "stdout"
        },
        {
          "output_type": "stream",
          "text": [
            "\r18it [02:35,  8.66s/it]"
          ],
          "name": "stderr"
        },
        {
          "output_type": "stream",
          "text": [
            "\rtrain batch [18/41]: loss 0.4925825893878937"
          ],
          "name": "stdout"
        },
        {
          "output_type": "stream",
          "text": [
            "\r19it [02:44,  8.63s/it]"
          ],
          "name": "stderr"
        },
        {
          "output_type": "stream",
          "text": [
            "\rtrain batch [19/41]: loss 0.5470377206802368"
          ],
          "name": "stdout"
        },
        {
          "output_type": "stream",
          "text": [
            "\r20it [02:52,  8.66s/it]"
          ],
          "name": "stderr"
        },
        {
          "output_type": "stream",
          "text": [
            "\rtrain batch [20/41]: loss 0.439430296421051"
          ],
          "name": "stdout"
        },
        {
          "output_type": "stream",
          "text": [
            "\r21it [03:01,  8.63s/it]"
          ],
          "name": "stderr"
        },
        {
          "output_type": "stream",
          "text": [
            "\rtrain batch [21/41]: loss 0.5601990818977356"
          ],
          "name": "stdout"
        },
        {
          "output_type": "stream",
          "text": [
            "\r22it [03:10,  8.60s/it]"
          ],
          "name": "stderr"
        },
        {
          "output_type": "stream",
          "text": [
            "\rtrain batch [22/41]: loss 0.5560250282287598"
          ],
          "name": "stdout"
        },
        {
          "output_type": "stream",
          "text": [
            "\r23it [03:18,  8.60s/it]"
          ],
          "name": "stderr"
        },
        {
          "output_type": "stream",
          "text": [
            "\rtrain batch [23/41]: loss 0.5472506284713745"
          ],
          "name": "stdout"
        },
        {
          "output_type": "stream",
          "text": [
            "\r24it [03:27,  8.65s/it]"
          ],
          "name": "stderr"
        },
        {
          "output_type": "stream",
          "text": [
            "\rtrain batch [24/41]: loss 0.6247328519821167"
          ],
          "name": "stdout"
        },
        {
          "output_type": "stream",
          "text": [
            "\r25it [03:36,  8.67s/it]"
          ],
          "name": "stderr"
        },
        {
          "output_type": "stream",
          "text": [
            "\rtrain batch [25/41]: loss 0.48046714067459106"
          ],
          "name": "stdout"
        },
        {
          "output_type": "stream",
          "text": [
            "\r26it [03:44,  8.68s/it]"
          ],
          "name": "stderr"
        },
        {
          "output_type": "stream",
          "text": [
            "\rtrain batch [26/41]: loss 0.49161460995674133"
          ],
          "name": "stdout"
        },
        {
          "output_type": "stream",
          "text": [
            "\r27it [03:53,  8.65s/it]"
          ],
          "name": "stderr"
        },
        {
          "output_type": "stream",
          "text": [
            "\rtrain batch [27/41]: loss 0.7497035264968872"
          ],
          "name": "stdout"
        },
        {
          "output_type": "stream",
          "text": [
            "\r28it [04:02,  8.67s/it]"
          ],
          "name": "stderr"
        },
        {
          "output_type": "stream",
          "text": [
            "\rtrain batch [28/41]: loss 0.8815677762031555"
          ],
          "name": "stdout"
        },
        {
          "output_type": "stream",
          "text": [
            "\r29it [04:10,  8.57s/it]"
          ],
          "name": "stderr"
        },
        {
          "output_type": "stream",
          "text": [
            "\rtrain batch [29/41]: loss 0.48840832710266113"
          ],
          "name": "stdout"
        },
        {
          "output_type": "stream",
          "text": [
            "\r30it [04:19,  8.56s/it]"
          ],
          "name": "stderr"
        },
        {
          "output_type": "stream",
          "text": [
            "\rtrain batch [30/41]: loss 0.5345214009284973"
          ],
          "name": "stdout"
        },
        {
          "output_type": "stream",
          "text": [
            "\r31it [04:27,  8.59s/it]"
          ],
          "name": "stderr"
        },
        {
          "output_type": "stream",
          "text": [
            "\rtrain batch [31/41]: loss 0.5198085904121399"
          ],
          "name": "stdout"
        },
        {
          "output_type": "stream",
          "text": [
            "\r32it [04:36,  8.62s/it]"
          ],
          "name": "stderr"
        },
        {
          "output_type": "stream",
          "text": [
            "\rtrain batch [32/41]: loss 1.2636911869049072"
          ],
          "name": "stdout"
        },
        {
          "output_type": "stream",
          "text": [
            "\r33it [04:45,  8.64s/it]"
          ],
          "name": "stderr"
        },
        {
          "output_type": "stream",
          "text": [
            "\rtrain batch [33/41]: loss 0.5392429232597351"
          ],
          "name": "stdout"
        },
        {
          "output_type": "stream",
          "text": [
            "\r34it [04:53,  8.61s/it]"
          ],
          "name": "stderr"
        },
        {
          "output_type": "stream",
          "text": [
            "\rtrain batch [34/41]: loss 0.5461633205413818"
          ],
          "name": "stdout"
        },
        {
          "output_type": "stream",
          "text": [
            "\r35it [05:02,  8.61s/it]"
          ],
          "name": "stderr"
        },
        {
          "output_type": "stream",
          "text": [
            "\rtrain batch [35/41]: loss 2.3939013481140137"
          ],
          "name": "stdout"
        },
        {
          "output_type": "stream",
          "text": [
            "\r36it [05:10,  8.55s/it]"
          ],
          "name": "stderr"
        },
        {
          "output_type": "stream",
          "text": [
            "\rtrain batch [36/41]: loss 0.5974653959274292"
          ],
          "name": "stdout"
        },
        {
          "output_type": "stream",
          "text": [
            "\r37it [05:19,  8.62s/it]"
          ],
          "name": "stderr"
        },
        {
          "output_type": "stream",
          "text": [
            "\rtrain batch [37/41]: loss 0.4488993287086487"
          ],
          "name": "stdout"
        },
        {
          "output_type": "stream",
          "text": [
            "\r38it [05:27,  8.60s/it]"
          ],
          "name": "stderr"
        },
        {
          "output_type": "stream",
          "text": [
            "\rtrain batch [38/41]: loss 0.8004122376441956"
          ],
          "name": "stdout"
        },
        {
          "output_type": "stream",
          "text": [
            "\r39it [05:36,  8.62s/it]"
          ],
          "name": "stderr"
        },
        {
          "output_type": "stream",
          "text": [
            "\rtrain batch [39/41]: loss 0.4181497395038605"
          ],
          "name": "stdout"
        },
        {
          "output_type": "stream",
          "text": [
            "\r40it [05:45,  8.63s/it]"
          ],
          "name": "stderr"
        },
        {
          "output_type": "stream",
          "text": [
            "\rtrain batch [40/41]: loss 0.6262460350990295"
          ],
          "name": "stdout"
        },
        {
          "output_type": "stream",
          "text": [
            "41it [05:51,  8.58s/it]"
          ],
          "name": "stderr"
        },
        {
          "output_type": "stream",
          "text": [
            "\rval batch [0/4]: loss 7.729578971862793"
          ],
          "name": "stdout"
        },
        {
          "output_type": "stream",
          "text": [
            "\n"
          ],
          "name": "stderr"
        },
        {
          "output_type": "stream",
          "text": [
            "test batch [4/5]: loss 0.0043987249955534935"
          ],
          "name": "stdout"
        },
        {
          "output_type": "stream",
          "text": [
            "\r0it [00:00, ?it/s]"
          ],
          "name": "stderr"
        },
        {
          "output_type": "stream",
          "text": [
            "\n",
            "Train loss: 0.6249326147684237, Train accuracy: 0.7016870975494385\n",
            "Val loss: 3.91429340839386, Val accuracy: 0.5\n",
            "Test loss: 2.4129910660907625, Test accuracy: 0.625\n",
            "\n",
            "=============== Epoch: 1\n",
            "train batch [0/41]: loss 1.8556448221206665"
          ],
          "name": "stdout"
        },
        {
          "output_type": "stream",
          "text": [
            "\r1it [00:08,  8.71s/it]"
          ],
          "name": "stderr"
        },
        {
          "output_type": "stream",
          "text": [
            "\rtrain batch [1/41]: loss 0.4973137080669403"
          ],
          "name": "stdout"
        },
        {
          "output_type": "stream",
          "text": [
            "\r2it [00:17,  8.62s/it]"
          ],
          "name": "stderr"
        },
        {
          "output_type": "stream",
          "text": [
            "\rtrain batch [2/41]: loss 2.0228476524353027"
          ],
          "name": "stdout"
        },
        {
          "output_type": "stream",
          "text": [
            "\r3it [00:25,  8.61s/it]"
          ],
          "name": "stderr"
        },
        {
          "output_type": "stream",
          "text": [
            "\rtrain batch [3/41]: loss 2.5533456802368164"
          ],
          "name": "stdout"
        },
        {
          "output_type": "stream",
          "text": [
            "\r4it [00:34,  8.67s/it]"
          ],
          "name": "stderr"
        },
        {
          "output_type": "stream",
          "text": [
            "\rtrain batch [4/41]: loss 3.1606671810150146"
          ],
          "name": "stdout"
        },
        {
          "output_type": "stream",
          "text": [
            "\r5it [00:43,  8.71s/it]"
          ],
          "name": "stderr"
        },
        {
          "output_type": "stream",
          "text": [
            "\rtrain batch [5/41]: loss 1.8281707763671875"
          ],
          "name": "stdout"
        },
        {
          "output_type": "stream",
          "text": [
            "\r6it [00:52,  8.71s/it]"
          ],
          "name": "stderr"
        },
        {
          "output_type": "stream",
          "text": [
            "\rtrain batch [6/41]: loss 5.984643936157227"
          ],
          "name": "stdout"
        },
        {
          "output_type": "stream",
          "text": [
            "\r7it [01:00,  8.72s/it]"
          ],
          "name": "stderr"
        },
        {
          "output_type": "stream",
          "text": [
            "\rtrain batch [7/41]: loss 3.470762252807617"
          ],
          "name": "stdout"
        },
        {
          "output_type": "stream",
          "text": [
            "\r8it [01:09,  8.65s/it]"
          ],
          "name": "stderr"
        },
        {
          "output_type": "stream",
          "text": [
            "\rtrain batch [8/41]: loss 3.8275365829467773"
          ],
          "name": "stdout"
        },
        {
          "output_type": "stream",
          "text": [
            "\r9it [01:17,  8.65s/it]"
          ],
          "name": "stderr"
        },
        {
          "output_type": "stream",
          "text": [
            "\rtrain batch [9/41]: loss 3.8819925785064697"
          ],
          "name": "stdout"
        },
        {
          "output_type": "stream",
          "text": [
            "\r10it [01:26,  8.64s/it]"
          ],
          "name": "stderr"
        },
        {
          "output_type": "stream",
          "text": [
            "\rtrain batch [10/41]: loss 1.2084319591522217"
          ],
          "name": "stdout"
        },
        {
          "output_type": "stream",
          "text": [
            "\r11it [01:34,  8.56s/it]"
          ],
          "name": "stderr"
        },
        {
          "output_type": "stream",
          "text": [
            "\rtrain batch [11/41]: loss 4.623820781707764"
          ],
          "name": "stdout"
        },
        {
          "output_type": "stream",
          "text": [
            "\r12it [01:43,  8.59s/it]"
          ],
          "name": "stderr"
        },
        {
          "output_type": "stream",
          "text": [
            "\rtrain batch [12/41]: loss 1.8471835851669312"
          ],
          "name": "stdout"
        },
        {
          "output_type": "stream",
          "text": [
            "\r13it [01:52,  8.57s/it]"
          ],
          "name": "stderr"
        },
        {
          "output_type": "stream",
          "text": [
            "\rtrain batch [13/41]: loss 3.376880168914795"
          ],
          "name": "stdout"
        },
        {
          "output_type": "stream",
          "text": [
            "\r14it [02:01,  8.69s/it]"
          ],
          "name": "stderr"
        },
        {
          "output_type": "stream",
          "text": [
            "\rtrain batch [14/41]: loss 3.3738327026367188"
          ],
          "name": "stdout"
        },
        {
          "output_type": "stream",
          "text": [
            "\r15it [02:10,  8.82s/it]"
          ],
          "name": "stderr"
        },
        {
          "output_type": "stream",
          "text": [
            "\rtrain batch [15/41]: loss 2.129932403564453"
          ],
          "name": "stdout"
        },
        {
          "output_type": "stream",
          "text": [
            "\r16it [02:18,  8.79s/it]"
          ],
          "name": "stderr"
        },
        {
          "output_type": "stream",
          "text": [
            "\rtrain batch [16/41]: loss 1.94350004196167"
          ],
          "name": "stdout"
        },
        {
          "output_type": "stream",
          "text": [
            "\r17it [02:27,  8.87s/it]"
          ],
          "name": "stderr"
        },
        {
          "output_type": "stream",
          "text": [
            "\rtrain batch [17/41]: loss 1.6180334091186523"
          ],
          "name": "stdout"
        },
        {
          "output_type": "stream",
          "text": [
            "\r18it [02:36,  8.78s/it]"
          ],
          "name": "stderr"
        },
        {
          "output_type": "stream",
          "text": [
            "\rtrain batch [18/41]: loss 0.9256165027618408"
          ],
          "name": "stdout"
        },
        {
          "output_type": "stream",
          "text": [
            "\r19it [02:45,  8.72s/it]"
          ],
          "name": "stderr"
        },
        {
          "output_type": "stream",
          "text": [
            "\rtrain batch [19/41]: loss 0.6418033838272095"
          ],
          "name": "stdout"
        },
        {
          "output_type": "stream",
          "text": [
            "\r20it [02:53,  8.70s/it]"
          ],
          "name": "stderr"
        },
        {
          "output_type": "stream",
          "text": [
            "\rtrain batch [20/41]: loss 1.684694528579712"
          ],
          "name": "stdout"
        },
        {
          "output_type": "stream",
          "text": [
            "\r21it [03:02,  8.67s/it]"
          ],
          "name": "stderr"
        },
        {
          "output_type": "stream",
          "text": [
            "\rtrain batch [21/41]: loss 4.137611389160156"
          ],
          "name": "stdout"
        },
        {
          "output_type": "stream",
          "text": [
            "\r22it [03:10,  8.61s/it]"
          ],
          "name": "stderr"
        },
        {
          "output_type": "stream",
          "text": [
            "\rtrain batch [22/41]: loss 5.616526126861572"
          ],
          "name": "stdout"
        },
        {
          "output_type": "stream",
          "text": [
            "\r23it [03:19,  8.54s/it]"
          ],
          "name": "stderr"
        },
        {
          "output_type": "stream",
          "text": [
            "\rtrain batch [23/41]: loss 5.5065460205078125"
          ],
          "name": "stdout"
        },
        {
          "output_type": "stream",
          "text": [
            "\r24it [03:27,  8.54s/it]"
          ],
          "name": "stderr"
        },
        {
          "output_type": "stream",
          "text": [
            "\rtrain batch [24/41]: loss 5.697397232055664"
          ],
          "name": "stdout"
        },
        {
          "output_type": "stream",
          "text": [
            "\r25it [03:36,  8.56s/it]"
          ],
          "name": "stderr"
        },
        {
          "output_type": "stream",
          "text": [
            "\rtrain batch [25/41]: loss 3.2538485527038574"
          ],
          "name": "stdout"
        },
        {
          "output_type": "stream",
          "text": [
            "\r26it [03:45,  8.62s/it]"
          ],
          "name": "stderr"
        },
        {
          "output_type": "stream",
          "text": [
            "\rtrain batch [26/41]: loss 2.869013786315918"
          ],
          "name": "stdout"
        },
        {
          "output_type": "stream",
          "text": [
            "\r27it [03:53,  8.62s/it]"
          ],
          "name": "stderr"
        },
        {
          "output_type": "stream",
          "text": [
            "\rtrain batch [27/41]: loss 1.5065510272979736"
          ],
          "name": "stdout"
        },
        {
          "output_type": "stream",
          "text": [
            "\r28it [04:02,  8.56s/it]"
          ],
          "name": "stderr"
        },
        {
          "output_type": "stream",
          "text": [
            "\rtrain batch [28/41]: loss 11.518808364868164"
          ],
          "name": "stdout"
        },
        {
          "output_type": "stream",
          "text": [
            "\r29it [04:10,  8.64s/it]"
          ],
          "name": "stderr"
        },
        {
          "output_type": "stream",
          "text": [
            "\rtrain batch [29/41]: loss 3.508922576904297"
          ],
          "name": "stdout"
        },
        {
          "output_type": "stream",
          "text": [
            "\r30it [04:19,  8.62s/it]"
          ],
          "name": "stderr"
        },
        {
          "output_type": "stream",
          "text": [
            "\rtrain batch [30/41]: loss 5.165273666381836"
          ],
          "name": "stdout"
        },
        {
          "output_type": "stream",
          "text": [
            "\r31it [04:28,  8.66s/it]"
          ],
          "name": "stderr"
        },
        {
          "output_type": "stream",
          "text": [
            "\rtrain batch [31/41]: loss 7.455705165863037"
          ],
          "name": "stdout"
        },
        {
          "output_type": "stream",
          "text": [
            "\r32it [04:36,  8.66s/it]"
          ],
          "name": "stderr"
        },
        {
          "output_type": "stream",
          "text": [
            "\rtrain batch [32/41]: loss 5.236481666564941"
          ],
          "name": "stdout"
        },
        {
          "output_type": "stream",
          "text": [
            "\r33it [04:45,  8.62s/it]"
          ],
          "name": "stderr"
        },
        {
          "output_type": "stream",
          "text": [
            "\rtrain batch [33/41]: loss 3.168712615966797"
          ],
          "name": "stdout"
        },
        {
          "output_type": "stream",
          "text": [
            "\r34it [04:54,  8.65s/it]"
          ],
          "name": "stderr"
        },
        {
          "output_type": "stream",
          "text": [
            "\rtrain batch [34/41]: loss 2.889226198196411"
          ],
          "name": "stdout"
        },
        {
          "output_type": "stream",
          "text": [
            "\r35it [05:02,  8.69s/it]"
          ],
          "name": "stderr"
        },
        {
          "output_type": "stream",
          "text": [
            "\rtrain batch [35/41]: loss 5.2809600830078125"
          ],
          "name": "stdout"
        },
        {
          "output_type": "stream",
          "text": [
            "\r36it [05:12,  8.79s/it]"
          ],
          "name": "stderr"
        },
        {
          "output_type": "stream",
          "text": [
            "\rtrain batch [36/41]: loss 3.646693706512451"
          ],
          "name": "stdout"
        },
        {
          "output_type": "stream",
          "text": [
            "\r37it [05:20,  8.70s/it]"
          ],
          "name": "stderr"
        },
        {
          "output_type": "stream",
          "text": [
            "\rtrain batch [37/41]: loss 6.247855186462402"
          ],
          "name": "stdout"
        },
        {
          "output_type": "stream",
          "text": [
            "\r38it [05:28,  8.62s/it]"
          ],
          "name": "stderr"
        },
        {
          "output_type": "stream",
          "text": [
            "\rtrain batch [38/41]: loss 11.55282974243164"
          ],
          "name": "stdout"
        },
        {
          "output_type": "stream",
          "text": [
            "\r39it [05:37,  8.66s/it]"
          ],
          "name": "stderr"
        },
        {
          "output_type": "stream",
          "text": [
            "\rtrain batch [39/41]: loss 8.567300796508789"
          ],
          "name": "stdout"
        },
        {
          "output_type": "stream",
          "text": [
            "\r40it [05:46,  8.59s/it]"
          ],
          "name": "stderr"
        },
        {
          "output_type": "stream",
          "text": [
            "\rtrain batch [40/41]: loss 14.375213623046875"
          ],
          "name": "stdout"
        },
        {
          "output_type": "stream",
          "text": [
            "41it [05:52,  8.60s/it]"
          ],
          "name": "stderr"
        },
        {
          "output_type": "stream",
          "text": [
            "\rval batch [0/4]: loss 41.09043502807617"
          ],
          "name": "stdout"
        },
        {
          "output_type": "stream",
          "text": [
            "\n"
          ],
          "name": "stderr"
        },
        {
          "output_type": "stream",
          "text": [
            "test batch [4/5]: loss 7.37735244911164e-05"
          ],
          "name": "stdout"
        },
        {
          "output_type": "stream",
          "text": [
            "\r0it [00:00, ?it/s]"
          ],
          "name": "stderr"
        },
        {
          "output_type": "stream",
          "text": [
            "\n",
            "Train loss: 4.138003209742104, Train accuracy: 0.6188650131225586\n",
            "Val loss: 22.990269660949707, Val accuracy: 0.5\n",
            "Test loss: 19.402234980037612, Test accuracy: 0.625\n",
            "\n",
            "=============== Epoch: 2\n",
            "train batch [0/41]: loss 15.438737869262695"
          ],
          "name": "stdout"
        },
        {
          "output_type": "stream",
          "text": [
            "\r1it [00:08,  8.68s/it]"
          ],
          "name": "stderr"
        },
        {
          "output_type": "stream",
          "text": [
            "\rtrain batch [1/41]: loss 6.751567840576172"
          ],
          "name": "stdout"
        },
        {
          "output_type": "stream",
          "text": [
            "\r2it [00:17,  8.61s/it]"
          ],
          "name": "stderr"
        },
        {
          "output_type": "stream",
          "text": [
            "\rtrain batch [2/41]: loss 19.399375915527344"
          ],
          "name": "stdout"
        },
        {
          "output_type": "stream",
          "text": [
            "\r3it [00:25,  8.61s/it]"
          ],
          "name": "stderr"
        },
        {
          "output_type": "stream",
          "text": [
            "\rtrain batch [3/41]: loss 26.684127807617188"
          ],
          "name": "stdout"
        },
        {
          "output_type": "stream",
          "text": [
            "\r4it [00:34,  8.63s/it]"
          ],
          "name": "stderr"
        },
        {
          "output_type": "stream",
          "text": [
            "\rtrain batch [4/41]: loss 30.988422393798828"
          ],
          "name": "stdout"
        },
        {
          "output_type": "stream",
          "text": [
            "\r5it [00:43,  8.62s/it]"
          ],
          "name": "stderr"
        },
        {
          "output_type": "stream",
          "text": [
            "\rtrain batch [5/41]: loss 42.57334899902344"
          ],
          "name": "stdout"
        },
        {
          "output_type": "stream",
          "text": [
            "\r6it [00:51,  8.62s/it]"
          ],
          "name": "stderr"
        },
        {
          "output_type": "stream",
          "text": [
            "\rtrain batch [6/41]: loss 11.782812118530273"
          ],
          "name": "stdout"
        },
        {
          "output_type": "stream",
          "text": [
            "\r7it [01:00,  8.69s/it]"
          ],
          "name": "stderr"
        },
        {
          "output_type": "stream",
          "text": [
            "\rtrain batch [7/41]: loss 29.936132431030273"
          ],
          "name": "stdout"
        },
        {
          "output_type": "stream",
          "text": [
            "\r8it [01:09,  8.74s/it]"
          ],
          "name": "stderr"
        },
        {
          "output_type": "stream",
          "text": [
            "\rtrain batch [8/41]: loss 14.972370147705078"
          ],
          "name": "stdout"
        },
        {
          "output_type": "stream",
          "text": [
            "\r9it [01:18,  8.72s/it]"
          ],
          "name": "stderr"
        },
        {
          "output_type": "stream",
          "text": [
            "\rtrain batch [9/41]: loss 9.369654655456543"
          ],
          "name": "stdout"
        },
        {
          "output_type": "stream",
          "text": [
            "\r10it [01:26,  8.71s/it]"
          ],
          "name": "stderr"
        },
        {
          "output_type": "stream",
          "text": [
            "\rtrain batch [10/41]: loss 13.504745483398438"
          ],
          "name": "stdout"
        },
        {
          "output_type": "stream",
          "text": [
            "\r11it [01:35,  8.68s/it]"
          ],
          "name": "stderr"
        },
        {
          "output_type": "stream",
          "text": [
            "\rtrain batch [11/41]: loss 55.911285400390625"
          ],
          "name": "stdout"
        },
        {
          "output_type": "stream",
          "text": [
            "\r12it [01:43,  8.66s/it]"
          ],
          "name": "stderr"
        },
        {
          "output_type": "stream",
          "text": [
            "\rtrain batch [12/41]: loss 41.030067443847656"
          ],
          "name": "stdout"
        },
        {
          "output_type": "stream",
          "text": [
            "\r13it [01:52,  8.63s/it]"
          ],
          "name": "stderr"
        },
        {
          "output_type": "stream",
          "text": [
            "\rtrain batch [13/41]: loss 30.50979995727539"
          ],
          "name": "stdout"
        },
        {
          "output_type": "stream",
          "text": [
            "\r14it [02:01,  8.68s/it]"
          ],
          "name": "stderr"
        },
        {
          "output_type": "stream",
          "text": [
            "\rtrain batch [14/41]: loss 3.876035690307617"
          ],
          "name": "stdout"
        },
        {
          "output_type": "stream",
          "text": [
            "\r15it [02:10,  8.69s/it]"
          ],
          "name": "stderr"
        },
        {
          "output_type": "stream",
          "text": [
            "\rtrain batch [15/41]: loss 69.97872161865234"
          ],
          "name": "stdout"
        },
        {
          "output_type": "stream",
          "text": [
            "\r16it [02:18,  8.71s/it]"
          ],
          "name": "stderr"
        },
        {
          "output_type": "stream",
          "text": [
            "\rtrain batch [16/41]: loss 94.31088256835938"
          ],
          "name": "stdout"
        },
        {
          "output_type": "stream",
          "text": [
            "\r17it [02:27,  8.72s/it]"
          ],
          "name": "stderr"
        },
        {
          "output_type": "stream",
          "text": [
            "\rtrain batch [17/41]: loss 47.33637619018555"
          ],
          "name": "stdout"
        },
        {
          "output_type": "stream",
          "text": [
            "\r18it [02:36,  8.72s/it]"
          ],
          "name": "stderr"
        },
        {
          "output_type": "stream",
          "text": [
            "\rtrain batch [18/41]: loss 17.691078186035156"
          ],
          "name": "stdout"
        },
        {
          "output_type": "stream",
          "text": [
            "\r19it [02:44,  8.65s/it]"
          ],
          "name": "stderr"
        },
        {
          "output_type": "stream",
          "text": [
            "\rtrain batch [19/41]: loss 132.50729370117188"
          ],
          "name": "stdout"
        },
        {
          "output_type": "stream",
          "text": [
            "\r20it [02:53,  8.67s/it]"
          ],
          "name": "stderr"
        },
        {
          "output_type": "stream",
          "text": [
            "\rtrain batch [20/41]: loss 30.362899780273438"
          ],
          "name": "stdout"
        },
        {
          "output_type": "stream",
          "text": [
            "\r21it [03:01,  8.63s/it]"
          ],
          "name": "stderr"
        },
        {
          "output_type": "stream",
          "text": [
            "\rtrain batch [21/41]: loss 29.960769653320312"
          ],
          "name": "stdout"
        },
        {
          "output_type": "stream",
          "text": [
            "\r22it [03:10,  8.63s/it]"
          ],
          "name": "stderr"
        },
        {
          "output_type": "stream",
          "text": [
            "\rtrain batch [22/41]: loss 108.62429809570312"
          ],
          "name": "stdout"
        },
        {
          "output_type": "stream",
          "text": [
            "\r23it [03:19,  8.67s/it]"
          ],
          "name": "stderr"
        },
        {
          "output_type": "stream",
          "text": [
            "\rtrain batch [23/41]: loss 113.84242248535156"
          ],
          "name": "stdout"
        },
        {
          "output_type": "stream",
          "text": [
            "\r24it [03:27,  8.66s/it]"
          ],
          "name": "stderr"
        },
        {
          "output_type": "stream",
          "text": [
            "\rtrain batch [24/41]: loss 15.084648132324219"
          ],
          "name": "stdout"
        },
        {
          "output_type": "stream",
          "text": [
            "\r25it [03:36,  8.59s/it]"
          ],
          "name": "stderr"
        },
        {
          "output_type": "stream",
          "text": [
            "\rtrain batch [25/41]: loss 30.00704574584961"
          ],
          "name": "stdout"
        },
        {
          "output_type": "stream",
          "text": [
            "\r26it [03:44,  8.57s/it]"
          ],
          "name": "stderr"
        },
        {
          "output_type": "stream",
          "text": [
            "\rtrain batch [26/41]: loss 73.12895965576172"
          ],
          "name": "stdout"
        },
        {
          "output_type": "stream",
          "text": [
            "\r27it [03:53,  8.62s/it]"
          ],
          "name": "stderr"
        },
        {
          "output_type": "stream",
          "text": [
            "\rtrain batch [27/41]: loss 45.47120666503906"
          ],
          "name": "stdout"
        },
        {
          "output_type": "stream",
          "text": [
            "\r28it [04:02,  8.63s/it]"
          ],
          "name": "stderr"
        },
        {
          "output_type": "stream",
          "text": [
            "\rtrain batch [28/41]: loss 53.24181365966797"
          ],
          "name": "stdout"
        },
        {
          "output_type": "stream",
          "text": [
            "\r29it [04:11,  8.65s/it]"
          ],
          "name": "stderr"
        },
        {
          "output_type": "stream",
          "text": [
            "\rtrain batch [29/41]: loss 227.60577392578125"
          ],
          "name": "stdout"
        },
        {
          "output_type": "stream",
          "text": [
            "\r30it [04:19,  8.64s/it]"
          ],
          "name": "stderr"
        },
        {
          "output_type": "stream",
          "text": [
            "\rtrain batch [30/41]: loss 383.2540283203125"
          ],
          "name": "stdout"
        },
        {
          "output_type": "stream",
          "text": [
            "\r31it [04:28,  8.64s/it]"
          ],
          "name": "stderr"
        },
        {
          "output_type": "stream",
          "text": [
            "\rtrain batch [31/41]: loss 326.26751708984375"
          ],
          "name": "stdout"
        },
        {
          "output_type": "stream",
          "text": [
            "\r32it [04:36,  8.66s/it]"
          ],
          "name": "stderr"
        },
        {
          "output_type": "stream",
          "text": [
            "\rtrain batch [32/41]: loss 229.03158569335938"
          ],
          "name": "stdout"
        },
        {
          "output_type": "stream",
          "text": [
            "\r33it [04:45,  8.68s/it]"
          ],
          "name": "stderr"
        },
        {
          "output_type": "stream",
          "text": [
            "\rtrain batch [33/41]: loss 121.98255920410156"
          ],
          "name": "stdout"
        },
        {
          "output_type": "stream",
          "text": [
            "\r34it [04:54,  8.69s/it]"
          ],
          "name": "stderr"
        },
        {
          "output_type": "stream",
          "text": [
            "\rtrain batch [34/41]: loss 334.87091064453125"
          ],
          "name": "stdout"
        },
        {
          "output_type": "stream",
          "text": [
            "\r35it [05:02,  8.63s/it]"
          ],
          "name": "stderr"
        },
        {
          "output_type": "stream",
          "text": [
            "\rtrain batch [35/41]: loss 134.25543212890625"
          ],
          "name": "stdout"
        },
        {
          "output_type": "stream",
          "text": [
            "\r36it [05:11,  8.60s/it]"
          ],
          "name": "stderr"
        },
        {
          "output_type": "stream",
          "text": [
            "\rtrain batch [36/41]: loss 165.7550048828125"
          ],
          "name": "stdout"
        },
        {
          "output_type": "stream",
          "text": [
            "\r37it [05:19,  8.56s/it]"
          ],
          "name": "stderr"
        },
        {
          "output_type": "stream",
          "text": [
            "\rtrain batch [37/41]: loss 71.17771911621094"
          ],
          "name": "stdout"
        },
        {
          "output_type": "stream",
          "text": [
            "\r38it [05:28,  8.60s/it]"
          ],
          "name": "stderr"
        },
        {
          "output_type": "stream",
          "text": [
            "\rtrain batch [38/41]: loss 83.4154052734375"
          ],
          "name": "stdout"
        },
        {
          "output_type": "stream",
          "text": [
            "\r39it [05:37,  8.61s/it]"
          ],
          "name": "stderr"
        },
        {
          "output_type": "stream",
          "text": [
            "\rtrain batch [39/41]: loss 226.41616821289062"
          ],
          "name": "stdout"
        },
        {
          "output_type": "stream",
          "text": [
            "\r40it [05:45,  8.59s/it]"
          ],
          "name": "stderr"
        },
        {
          "output_type": "stream",
          "text": [
            "\rtrain batch [40/41]: loss 128.6455078125"
          ],
          "name": "stdout"
        },
        {
          "output_type": "stream",
          "text": [
            "41it [05:52,  8.59s/it]"
          ],
          "name": "stderr"
        },
        {
          "output_type": "stream",
          "text": [
            "\rval batch [0/4]: loss 0.0"
          ],
          "name": "stdout"
        },
        {
          "output_type": "stream",
          "text": [
            "\n"
          ],
          "name": "stderr"
        },
        {
          "output_type": "stream",
          "text": [
            "test batch [4/5]: loss 710.3273315429688"
          ],
          "name": "stdout"
        },
        {
          "output_type": "stream",
          "text": [
            "\r0it [00:00, ?it/s]"
          ],
          "name": "stderr"
        },
        {
          "output_type": "stream",
          "text": [
            "\n",
            "Train loss: 88.95010956903783, Train accuracy: 0.7216257452964783\n",
            "Val loss: 531.267951965332, Val accuracy: 0.375\n",
            "Test loss: 459.8705169677734, Test accuracy: 0.31891027092933655\n",
            "\n",
            "=============== Epoch: 3\n",
            "train batch [0/41]: loss 695.5234375"
          ],
          "name": "stdout"
        },
        {
          "output_type": "stream",
          "text": [
            "\r1it [00:08,  8.48s/it]"
          ],
          "name": "stderr"
        },
        {
          "output_type": "stream",
          "text": [
            "\rtrain batch [1/41]: loss 257.42193603515625"
          ],
          "name": "stdout"
        },
        {
          "output_type": "stream",
          "text": [
            "\r2it [00:17,  8.58s/it]"
          ],
          "name": "stderr"
        },
        {
          "output_type": "stream",
          "text": [
            "\rtrain batch [2/41]: loss 276.4552001953125"
          ],
          "name": "stdout"
        },
        {
          "output_type": "stream",
          "text": [
            "\r3it [00:25,  8.60s/it]"
          ],
          "name": "stderr"
        },
        {
          "output_type": "stream",
          "text": [
            "\rtrain batch [3/41]: loss 220.3223114013672"
          ],
          "name": "stdout"
        },
        {
          "output_type": "stream",
          "text": [
            "\r4it [00:34,  8.69s/it]"
          ],
          "name": "stderr"
        },
        {
          "output_type": "stream",
          "text": [
            "\rtrain batch [4/41]: loss 273.45867919921875"
          ],
          "name": "stdout"
        },
        {
          "output_type": "stream",
          "text": [
            "\r5it [00:43,  8.70s/it]"
          ],
          "name": "stderr"
        },
        {
          "output_type": "stream",
          "text": [
            "\rtrain batch [5/41]: loss 341.8563232421875"
          ],
          "name": "stdout"
        },
        {
          "output_type": "stream",
          "text": [
            "\r6it [00:52,  8.71s/it]"
          ],
          "name": "stderr"
        },
        {
          "output_type": "stream",
          "text": [
            "\rtrain batch [6/41]: loss 456.4190979003906"
          ],
          "name": "stdout"
        },
        {
          "output_type": "stream",
          "text": [
            "\r7it [01:00,  8.63s/it]"
          ],
          "name": "stderr"
        },
        {
          "output_type": "stream",
          "text": [
            "\rtrain batch [7/41]: loss 462.34393310546875"
          ],
          "name": "stdout"
        },
        {
          "output_type": "stream",
          "text": [
            "\r8it [01:09,  8.70s/it]"
          ],
          "name": "stderr"
        },
        {
          "output_type": "stream",
          "text": [
            "\rtrain batch [8/41]: loss 212.83883666992188"
          ],
          "name": "stdout"
        },
        {
          "output_type": "stream",
          "text": [
            "\r9it [01:18,  8.64s/it]"
          ],
          "name": "stderr"
        },
        {
          "output_type": "stream",
          "text": [
            "\rtrain batch [9/41]: loss 260.55413818359375"
          ],
          "name": "stdout"
        },
        {
          "output_type": "stream",
          "text": [
            "\r10it [01:26,  8.56s/it]"
          ],
          "name": "stderr"
        },
        {
          "output_type": "stream",
          "text": [
            "\rtrain batch [10/41]: loss 406.8516540527344"
          ],
          "name": "stdout"
        },
        {
          "output_type": "stream",
          "text": [
            "\r11it [01:35,  8.64s/it]"
          ],
          "name": "stderr"
        },
        {
          "output_type": "stream",
          "text": [
            "\rtrain batch [11/41]: loss 268.472900390625"
          ],
          "name": "stdout"
        },
        {
          "output_type": "stream",
          "text": [
            "\r12it [01:44,  8.66s/it]"
          ],
          "name": "stderr"
        },
        {
          "output_type": "stream",
          "text": [
            "\rtrain batch [12/41]: loss 280.86932373046875"
          ],
          "name": "stdout"
        },
        {
          "output_type": "stream",
          "text": [
            "\r13it [01:52,  8.66s/it]"
          ],
          "name": "stderr"
        },
        {
          "output_type": "stream",
          "text": [
            "\rtrain batch [13/41]: loss 229.28526306152344"
          ],
          "name": "stdout"
        },
        {
          "output_type": "stream",
          "text": [
            "\r14it [02:01,  8.65s/it]"
          ],
          "name": "stderr"
        },
        {
          "output_type": "stream",
          "text": [
            "\rtrain batch [14/41]: loss 242.29066467285156"
          ],
          "name": "stdout"
        },
        {
          "output_type": "stream",
          "text": [
            "\r15it [02:09,  8.63s/it]"
          ],
          "name": "stderr"
        },
        {
          "output_type": "stream",
          "text": [
            "\rtrain batch [15/41]: loss 332.43609619140625"
          ],
          "name": "stdout"
        },
        {
          "output_type": "stream",
          "text": [
            "\r16it [02:18,  8.67s/it]"
          ],
          "name": "stderr"
        },
        {
          "output_type": "stream",
          "text": [
            "\rtrain batch [16/41]: loss 106.02881622314453"
          ],
          "name": "stdout"
        },
        {
          "output_type": "stream",
          "text": [
            "\r17it [02:27,  8.65s/it]"
          ],
          "name": "stderr"
        },
        {
          "output_type": "stream",
          "text": [
            "\rtrain batch [17/41]: loss 342.70269775390625"
          ],
          "name": "stdout"
        },
        {
          "output_type": "stream",
          "text": [
            "\r18it [02:35,  8.61s/it]"
          ],
          "name": "stderr"
        },
        {
          "output_type": "stream",
          "text": [
            "\rtrain batch [18/41]: loss 373.4609375"
          ],
          "name": "stdout"
        },
        {
          "output_type": "stream",
          "text": [
            "\r19it [02:44,  8.62s/it]"
          ],
          "name": "stderr"
        },
        {
          "output_type": "stream",
          "text": [
            "\rtrain batch [19/41]: loss 638.7008056640625"
          ],
          "name": "stdout"
        },
        {
          "output_type": "stream",
          "text": [
            "\r20it [02:53,  8.63s/it]"
          ],
          "name": "stderr"
        },
        {
          "output_type": "stream",
          "text": [
            "\rtrain batch [20/41]: loss 358.49542236328125"
          ],
          "name": "stdout"
        },
        {
          "output_type": "stream",
          "text": [
            "\r21it [03:01,  8.58s/it]"
          ],
          "name": "stderr"
        },
        {
          "output_type": "stream",
          "text": [
            "\rtrain batch [21/41]: loss 290.77435302734375"
          ],
          "name": "stdout"
        },
        {
          "output_type": "stream",
          "text": [
            "\r22it [03:10,  8.67s/it]"
          ],
          "name": "stderr"
        },
        {
          "output_type": "stream",
          "text": [
            "\rtrain batch [22/41]: loss 438.66143798828125"
          ],
          "name": "stdout"
        },
        {
          "output_type": "stream",
          "text": [
            "\r23it [03:19,  8.67s/it]"
          ],
          "name": "stderr"
        },
        {
          "output_type": "stream",
          "text": [
            "\rtrain batch [23/41]: loss 555.3507690429688"
          ],
          "name": "stdout"
        },
        {
          "output_type": "stream",
          "text": [
            "\r24it [03:27,  8.70s/it]"
          ],
          "name": "stderr"
        },
        {
          "output_type": "stream",
          "text": [
            "\rtrain batch [24/41]: loss 294.77056884765625"
          ],
          "name": "stdout"
        },
        {
          "output_type": "stream",
          "text": [
            "\r25it [03:36,  8.64s/it]"
          ],
          "name": "stderr"
        },
        {
          "output_type": "stream",
          "text": [
            "\rtrain batch [25/41]: loss 372.20855712890625"
          ],
          "name": "stdout"
        },
        {
          "output_type": "stream",
          "text": [
            "\r26it [03:45,  8.64s/it]"
          ],
          "name": "stderr"
        },
        {
          "output_type": "stream",
          "text": [
            "\rtrain batch [26/41]: loss 842.2186279296875"
          ],
          "name": "stdout"
        },
        {
          "output_type": "stream",
          "text": [
            "\r27it [03:53,  8.59s/it]"
          ],
          "name": "stderr"
        },
        {
          "output_type": "stream",
          "text": [
            "\rtrain batch [27/41]: loss 1083.614013671875"
          ],
          "name": "stdout"
        },
        {
          "output_type": "stream",
          "text": [
            "\r28it [04:02,  8.57s/it]"
          ],
          "name": "stderr"
        },
        {
          "output_type": "stream",
          "text": [
            "\rtrain batch [28/41]: loss 1182.2567138671875"
          ],
          "name": "stdout"
        },
        {
          "output_type": "stream",
          "text": [
            "\r29it [04:10,  8.59s/it]"
          ],
          "name": "stderr"
        },
        {
          "output_type": "stream",
          "text": [
            "\rtrain batch [29/41]: loss 1231.09619140625"
          ],
          "name": "stdout"
        },
        {
          "output_type": "stream",
          "text": [
            "\r30it [04:19,  8.71s/it]"
          ],
          "name": "stderr"
        },
        {
          "output_type": "stream",
          "text": [
            "\rtrain batch [30/41]: loss 1182.50048828125"
          ],
          "name": "stdout"
        },
        {
          "output_type": "stream",
          "text": [
            "\r31it [04:28,  8.71s/it]"
          ],
          "name": "stderr"
        },
        {
          "output_type": "stream",
          "text": [
            "\rtrain batch [31/41]: loss 1052.68603515625"
          ],
          "name": "stdout"
        },
        {
          "output_type": "stream",
          "text": [
            "\r32it [04:36,  8.63s/it]"
          ],
          "name": "stderr"
        },
        {
          "output_type": "stream",
          "text": [
            "\rtrain batch [32/41]: loss 1045.6732177734375"
          ],
          "name": "stdout"
        },
        {
          "output_type": "stream",
          "text": [
            "\r33it [04:45,  8.62s/it]"
          ],
          "name": "stderr"
        },
        {
          "output_type": "stream",
          "text": [
            "\rtrain batch [33/41]: loss 664.4679565429688"
          ],
          "name": "stdout"
        },
        {
          "output_type": "stream",
          "text": [
            "\r34it [04:54,  8.69s/it]"
          ],
          "name": "stderr"
        },
        {
          "output_type": "stream",
          "text": [
            "\rtrain batch [34/41]: loss 648.5595092773438"
          ],
          "name": "stdout"
        },
        {
          "output_type": "stream",
          "text": [
            "\r35it [05:03,  8.71s/it]"
          ],
          "name": "stderr"
        },
        {
          "output_type": "stream",
          "text": [
            "\rtrain batch [35/41]: loss 314.5240173339844"
          ],
          "name": "stdout"
        },
        {
          "output_type": "stream",
          "text": [
            "\r36it [05:11,  8.62s/it]"
          ],
          "name": "stderr"
        },
        {
          "output_type": "stream",
          "text": [
            "\rtrain batch [36/41]: loss 292.6537780761719"
          ],
          "name": "stdout"
        },
        {
          "output_type": "stream",
          "text": [
            "\r37it [05:19,  8.58s/it]"
          ],
          "name": "stderr"
        },
        {
          "output_type": "stream",
          "text": [
            "\rtrain batch [37/41]: loss 1250.863525390625"
          ],
          "name": "stdout"
        },
        {
          "output_type": "stream",
          "text": [
            "\r38it [05:28,  8.55s/it]"
          ],
          "name": "stderr"
        },
        {
          "output_type": "stream",
          "text": [
            "\rtrain batch [38/41]: loss 479.7110900878906"
          ],
          "name": "stdout"
        },
        {
          "output_type": "stream",
          "text": [
            "\r39it [05:37,  8.61s/it]"
          ],
          "name": "stderr"
        },
        {
          "output_type": "stream",
          "text": [
            "\rtrain batch [39/41]: loss 1005.6729736328125"
          ],
          "name": "stdout"
        },
        {
          "output_type": "stream",
          "text": [
            "\r40it [05:45,  8.62s/it]"
          ],
          "name": "stderr"
        },
        {
          "output_type": "stream",
          "text": [
            "\rtrain batch [40/41]: loss 1481.83203125"
          ],
          "name": "stdout"
        },
        {
          "output_type": "stream",
          "text": [
            "41it [05:52,  8.59s/it]"
          ],
          "name": "stderr"
        },
        {
          "output_type": "stream",
          "text": [
            "\rval batch [0/4]: loss 3931.64892578125"
          ],
          "name": "stdout"
        },
        {
          "output_type": "stream",
          "text": [
            "\n"
          ],
          "name": "stderr"
        },
        {
          "output_type": "stream",
          "text": [
            "test batch [4/5]: loss 32.42002868652344"
          ],
          "name": "stdout"
        },
        {
          "output_type": "stream",
          "text": [
            "\r0it [00:00, ?it/s]"
          ],
          "name": "stderr"
        },
        {
          "output_type": "stream",
          "text": [
            "\n",
            "Train loss: 554.8020549867211, Train accuracy: 0.629217803478241\n",
            "Val loss: 2912.4268493652344, Val accuracy: 0.4375\n",
            "Test loss: 1054.0131965637206, Test accuracy: 0.6233974695205688\n",
            "\n",
            "=============== Epoch: 4\n",
            "train batch [0/41]: loss 978.4976196289062"
          ],
          "name": "stdout"
        },
        {
          "output_type": "stream",
          "text": [
            "\r1it [00:08,  8.50s/it]"
          ],
          "name": "stderr"
        },
        {
          "output_type": "stream",
          "text": [
            "\rtrain batch [1/41]: loss 424.0938415527344"
          ],
          "name": "stdout"
        },
        {
          "output_type": "stream",
          "text": [
            "\r2it [00:17,  8.61s/it]"
          ],
          "name": "stderr"
        },
        {
          "output_type": "stream",
          "text": [
            "\rtrain batch [2/41]: loss 563.470458984375"
          ],
          "name": "stdout"
        },
        {
          "output_type": "stream",
          "text": [
            "\r3it [00:25,  8.60s/it]"
          ],
          "name": "stderr"
        },
        {
          "output_type": "stream",
          "text": [
            "\rtrain batch [3/41]: loss 1840.6138916015625"
          ],
          "name": "stdout"
        },
        {
          "output_type": "stream",
          "text": [
            "\r4it [00:34,  8.54s/it]"
          ],
          "name": "stderr"
        },
        {
          "output_type": "stream",
          "text": [
            "\rtrain batch [4/41]: loss 710.0538330078125"
          ],
          "name": "stdout"
        },
        {
          "output_type": "stream",
          "text": [
            "\r5it [00:43,  8.61s/it]"
          ],
          "name": "stderr"
        },
        {
          "output_type": "stream",
          "text": [
            "\rtrain batch [5/41]: loss 1085.7216796875"
          ],
          "name": "stdout"
        },
        {
          "output_type": "stream",
          "text": [
            "\r6it [00:51,  8.57s/it]"
          ],
          "name": "stderr"
        },
        {
          "output_type": "stream",
          "text": [
            "\rtrain batch [6/41]: loss 812.2818603515625"
          ],
          "name": "stdout"
        },
        {
          "output_type": "stream",
          "text": [
            "\r7it [01:00,  8.59s/it]"
          ],
          "name": "stderr"
        },
        {
          "output_type": "stream",
          "text": [
            "\rtrain batch [7/41]: loss 633.796142578125"
          ],
          "name": "stdout"
        },
        {
          "output_type": "stream",
          "text": [
            "\r8it [01:08,  8.60s/it]"
          ],
          "name": "stderr"
        },
        {
          "output_type": "stream",
          "text": [
            "\rtrain batch [8/41]: loss 2089.91845703125"
          ],
          "name": "stdout"
        },
        {
          "output_type": "stream",
          "text": [
            "\r9it [01:17,  8.60s/it]"
          ],
          "name": "stderr"
        },
        {
          "output_type": "stream",
          "text": [
            "\rtrain batch [9/41]: loss 2850.6962890625"
          ],
          "name": "stdout"
        },
        {
          "output_type": "stream",
          "text": [
            "\r10it [01:26,  8.64s/it]"
          ],
          "name": "stderr"
        },
        {
          "output_type": "stream",
          "text": [
            "\rtrain batch [10/41]: loss 1126.1943359375"
          ],
          "name": "stdout"
        },
        {
          "output_type": "stream",
          "text": [
            "\r11it [01:34,  8.61s/it]"
          ],
          "name": "stderr"
        },
        {
          "output_type": "stream",
          "text": [
            "\rtrain batch [11/41]: loss 3006.17431640625"
          ],
          "name": "stdout"
        },
        {
          "output_type": "stream",
          "text": [
            "\r12it [01:43,  8.61s/it]"
          ],
          "name": "stderr"
        },
        {
          "output_type": "stream",
          "text": [
            "\rtrain batch [12/41]: loss 1400.5067138671875"
          ],
          "name": "stdout"
        },
        {
          "output_type": "stream",
          "text": [
            "\r13it [01:52,  8.63s/it]"
          ],
          "name": "stderr"
        },
        {
          "output_type": "stream",
          "text": [
            "\rtrain batch [13/41]: loss 1003.4591064453125"
          ],
          "name": "stdout"
        },
        {
          "output_type": "stream",
          "text": [
            "\r14it [02:00,  8.64s/it]"
          ],
          "name": "stderr"
        },
        {
          "output_type": "stream",
          "text": [
            "\rtrain batch [14/41]: loss 1096.195556640625"
          ],
          "name": "stdout"
        },
        {
          "output_type": "stream",
          "text": [
            "\r15it [02:09,  8.63s/it]"
          ],
          "name": "stderr"
        },
        {
          "output_type": "stream",
          "text": [
            "\rtrain batch [15/41]: loss 810.4031982421875"
          ],
          "name": "stdout"
        },
        {
          "output_type": "stream",
          "text": [
            "\r16it [02:17,  8.59s/it]"
          ],
          "name": "stderr"
        },
        {
          "output_type": "stream",
          "text": [
            "\rtrain batch [16/41]: loss 975.2501220703125"
          ],
          "name": "stdout"
        },
        {
          "output_type": "stream",
          "text": [
            "\r17it [02:26,  8.61s/it]"
          ],
          "name": "stderr"
        },
        {
          "output_type": "stream",
          "text": [
            "\rtrain batch [17/41]: loss 853.4598388671875"
          ],
          "name": "stdout"
        },
        {
          "output_type": "stream",
          "text": [
            "\r18it [02:35,  8.62s/it]"
          ],
          "name": "stderr"
        },
        {
          "output_type": "stream",
          "text": [
            "\rtrain batch [18/41]: loss 6064.7294921875"
          ],
          "name": "stdout"
        },
        {
          "output_type": "stream",
          "text": [
            "\r19it [02:43,  8.59s/it]"
          ],
          "name": "stderr"
        },
        {
          "output_type": "stream",
          "text": [
            "\rtrain batch [19/41]: loss 1905.65673828125"
          ],
          "name": "stdout"
        },
        {
          "output_type": "stream",
          "text": [
            "\r20it [02:52,  8.56s/it]"
          ],
          "name": "stderr"
        },
        {
          "output_type": "stream",
          "text": [
            "\rtrain batch [20/41]: loss 1157.4705810546875"
          ],
          "name": "stdout"
        },
        {
          "output_type": "stream",
          "text": [
            "\r21it [03:00,  8.57s/it]"
          ],
          "name": "stderr"
        },
        {
          "output_type": "stream",
          "text": [
            "\rtrain batch [21/41]: loss 2286.25146484375"
          ],
          "name": "stdout"
        },
        {
          "output_type": "stream",
          "text": [
            "\r22it [03:09,  8.51s/it]"
          ],
          "name": "stderr"
        },
        {
          "output_type": "stream",
          "text": [
            "\rtrain batch [22/41]: loss 3039.290283203125"
          ],
          "name": "stdout"
        },
        {
          "output_type": "stream",
          "text": [
            "\r23it [03:17,  8.59s/it]"
          ],
          "name": "stderr"
        },
        {
          "output_type": "stream",
          "text": [
            "\rtrain batch [23/41]: loss 1376.8681640625"
          ],
          "name": "stdout"
        },
        {
          "output_type": "stream",
          "text": [
            "\r24it [03:26,  8.53s/it]"
          ],
          "name": "stderr"
        },
        {
          "output_type": "stream",
          "text": [
            "\rtrain batch [24/41]: loss 747.8084716796875"
          ],
          "name": "stdout"
        },
        {
          "output_type": "stream",
          "text": [
            "\r25it [03:35,  8.62s/it]"
          ],
          "name": "stderr"
        },
        {
          "output_type": "stream",
          "text": [
            "\rtrain batch [25/41]: loss 3040.896728515625"
          ],
          "name": "stdout"
        },
        {
          "output_type": "stream",
          "text": [
            "\r26it [03:43,  8.68s/it]"
          ],
          "name": "stderr"
        },
        {
          "output_type": "stream",
          "text": [
            "\rtrain batch [26/41]: loss 1301.6441650390625"
          ],
          "name": "stdout"
        },
        {
          "output_type": "stream",
          "text": [
            "\r27it [03:52,  8.59s/it]"
          ],
          "name": "stderr"
        },
        {
          "output_type": "stream",
          "text": [
            "\rtrain batch [27/41]: loss 2016.988037109375"
          ],
          "name": "stdout"
        },
        {
          "output_type": "stream",
          "text": [
            "\r28it [04:00,  8.61s/it]"
          ],
          "name": "stderr"
        },
        {
          "output_type": "stream",
          "text": [
            "\rtrain batch [28/41]: loss 1175.1494140625"
          ],
          "name": "stdout"
        },
        {
          "output_type": "stream",
          "text": [
            "\r29it [04:09,  8.68s/it]"
          ],
          "name": "stderr"
        },
        {
          "output_type": "stream",
          "text": [
            "\rtrain batch [29/41]: loss 1782.1873779296875"
          ],
          "name": "stdout"
        },
        {
          "output_type": "stream",
          "text": [
            "\r30it [04:18,  8.67s/it]"
          ],
          "name": "stderr"
        },
        {
          "output_type": "stream",
          "text": [
            "\rtrain batch [30/41]: loss 3478.740478515625"
          ],
          "name": "stdout"
        },
        {
          "output_type": "stream",
          "text": [
            "\r31it [04:27,  8.68s/it]"
          ],
          "name": "stderr"
        },
        {
          "output_type": "stream",
          "text": [
            "\rtrain batch [31/41]: loss 2678.853515625"
          ],
          "name": "stdout"
        },
        {
          "output_type": "stream",
          "text": [
            "\r32it [04:35,  8.71s/it]"
          ],
          "name": "stderr"
        },
        {
          "output_type": "stream",
          "text": [
            "\rtrain batch [32/41]: loss 3220.06103515625"
          ],
          "name": "stdout"
        },
        {
          "output_type": "stream",
          "text": [
            "\r33it [04:44,  8.66s/it]"
          ],
          "name": "stderr"
        },
        {
          "output_type": "stream",
          "text": [
            "\rtrain batch [33/41]: loss 2695.62255859375"
          ],
          "name": "stdout"
        },
        {
          "output_type": "stream",
          "text": [
            "\r34it [04:53,  8.66s/it]"
          ],
          "name": "stderr"
        },
        {
          "output_type": "stream",
          "text": [
            "\rtrain batch [34/41]: loss 5183.3701171875"
          ],
          "name": "stdout"
        },
        {
          "output_type": "stream",
          "text": [
            "\r35it [05:01,  8.68s/it]"
          ],
          "name": "stderr"
        },
        {
          "output_type": "stream",
          "text": [
            "\rtrain batch [35/41]: loss 2116.234130859375"
          ],
          "name": "stdout"
        },
        {
          "output_type": "stream",
          "text": [
            "\r36it [05:10,  8.73s/it]"
          ],
          "name": "stderr"
        },
        {
          "output_type": "stream",
          "text": [
            "\rtrain batch [36/41]: loss 3967.326171875"
          ],
          "name": "stdout"
        },
        {
          "output_type": "stream",
          "text": [
            "\r37it [05:19,  8.70s/it]"
          ],
          "name": "stderr"
        },
        {
          "output_type": "stream",
          "text": [
            "\rtrain batch [37/41]: loss 2622.1484375"
          ],
          "name": "stdout"
        },
        {
          "output_type": "stream",
          "text": [
            "\r38it [05:28,  8.78s/it]"
          ],
          "name": "stderr"
        },
        {
          "output_type": "stream",
          "text": [
            "\rtrain batch [38/41]: loss 3682.55322265625"
          ],
          "name": "stdout"
        },
        {
          "output_type": "stream",
          "text": [
            "\r39it [05:36,  8.76s/it]"
          ],
          "name": "stderr"
        },
        {
          "output_type": "stream",
          "text": [
            "\rtrain batch [39/41]: loss 4157.724609375"
          ],
          "name": "stdout"
        },
        {
          "output_type": "stream",
          "text": [
            "\r40it [05:45,  8.81s/it]"
          ],
          "name": "stderr"
        },
        {
          "output_type": "stream",
          "text": [
            "\rtrain batch [40/41]: loss 17333.984375"
          ],
          "name": "stdout"
        },
        {
          "output_type": "stream",
          "text": [
            "41it [05:52,  8.60s/it]"
          ],
          "name": "stderr"
        },
        {
          "output_type": "stream",
          "text": [
            "\rval batch [0/4]: loss 0.0"
          ],
          "name": "stdout"
        },
        {
          "output_type": "stream",
          "text": [
            "\n"
          ],
          "name": "stderr"
        },
        {
          "output_type": "stream",
          "text": [
            "test batch [4/5]: loss 64801.76171875"
          ],
          "name": "stdout"
        },
        {
          "output_type": "stream",
          "text": [
            "\r0it [00:00, ?it/s]"
          ],
          "name": "stderr"
        },
        {
          "output_type": "stream",
          "text": [
            "\n",
            "Train loss: 2421.764583680688, Train accuracy: 0.652032196521759\n",
            "Val loss: 33146.9619140625, Val accuracy: 0.5\n",
            "Test loss: 39263.71171875, Test accuracy: 0.375\n",
            "\n",
            "=============== Epoch: 5\n",
            "train batch [0/41]: loss 48933.9765625"
          ],
          "name": "stdout"
        },
        {
          "output_type": "stream",
          "text": [
            "\r1it [00:08,  8.73s/it]"
          ],
          "name": "stderr"
        },
        {
          "output_type": "stream",
          "text": [
            "\rtrain batch [1/41]: loss 25350.779296875"
          ],
          "name": "stdout"
        },
        {
          "output_type": "stream",
          "text": [
            "\r2it [00:17,  8.72s/it]"
          ],
          "name": "stderr"
        },
        {
          "output_type": "stream",
          "text": [
            "\rtrain batch [2/41]: loss 20245.96875"
          ],
          "name": "stdout"
        },
        {
          "output_type": "stream",
          "text": [
            "\r3it [00:26,  8.75s/it]"
          ],
          "name": "stderr"
        },
        {
          "output_type": "stream",
          "text": [
            "\rtrain batch [3/41]: loss 4404.658203125"
          ],
          "name": "stdout"
        },
        {
          "output_type": "stream",
          "text": [
            "\r4it [00:34,  8.71s/it]"
          ],
          "name": "stderr"
        },
        {
          "output_type": "stream",
          "text": [
            "\rtrain batch [4/41]: loss 6170.58203125"
          ],
          "name": "stdout"
        },
        {
          "output_type": "stream",
          "text": [
            "\r5it [00:43,  8.66s/it]"
          ],
          "name": "stderr"
        },
        {
          "output_type": "stream",
          "text": [
            "\rtrain batch [5/41]: loss 7228.8828125"
          ],
          "name": "stdout"
        },
        {
          "output_type": "stream",
          "text": [
            "\r6it [00:52,  8.65s/it]"
          ],
          "name": "stderr"
        },
        {
          "output_type": "stream",
          "text": [
            "\rtrain batch [6/41]: loss 4187.9970703125"
          ],
          "name": "stdout"
        },
        {
          "output_type": "stream",
          "text": [
            "\r7it [01:00,  8.53s/it]"
          ],
          "name": "stderr"
        },
        {
          "output_type": "stream",
          "text": [
            "\rtrain batch [7/41]: loss 13903.1123046875"
          ],
          "name": "stdout"
        },
        {
          "output_type": "stream",
          "text": [
            "\r8it [01:09,  8.59s/it]"
          ],
          "name": "stderr"
        },
        {
          "output_type": "stream",
          "text": [
            "\rtrain batch [8/41]: loss 7206.5185546875"
          ],
          "name": "stdout"
        },
        {
          "output_type": "stream",
          "text": [
            "\r9it [01:17,  8.65s/it]"
          ],
          "name": "stderr"
        },
        {
          "output_type": "stream",
          "text": [
            "\rtrain batch [9/41]: loss 5791.7958984375"
          ],
          "name": "stdout"
        },
        {
          "output_type": "stream",
          "text": [
            "\r10it [01:26,  8.67s/it]"
          ],
          "name": "stderr"
        },
        {
          "output_type": "stream",
          "text": [
            "\rtrain batch [10/41]: loss 5657.68408203125"
          ],
          "name": "stdout"
        },
        {
          "output_type": "stream",
          "text": [
            "\r11it [01:35,  8.70s/it]"
          ],
          "name": "stderr"
        },
        {
          "output_type": "stream",
          "text": [
            "\rtrain batch [11/41]: loss 7917.7861328125"
          ],
          "name": "stdout"
        },
        {
          "output_type": "stream",
          "text": [
            "\r12it [01:43,  8.63s/it]"
          ],
          "name": "stderr"
        },
        {
          "output_type": "stream",
          "text": [
            "\rtrain batch [12/41]: loss 16348.91015625"
          ],
          "name": "stdout"
        },
        {
          "output_type": "stream",
          "text": [
            "\r13it [01:52,  8.59s/it]"
          ],
          "name": "stderr"
        },
        {
          "output_type": "stream",
          "text": [
            "\rtrain batch [13/41]: loss 8982.7802734375"
          ],
          "name": "stdout"
        },
        {
          "output_type": "stream",
          "text": [
            "\r14it [02:01,  8.67s/it]"
          ],
          "name": "stderr"
        },
        {
          "output_type": "stream",
          "text": [
            "\rtrain batch [14/41]: loss 6938.23681640625"
          ],
          "name": "stdout"
        },
        {
          "output_type": "stream",
          "text": [
            "\r15it [02:09,  8.67s/it]"
          ],
          "name": "stderr"
        },
        {
          "output_type": "stream",
          "text": [
            "\rtrain batch [15/41]: loss 29105.140625"
          ],
          "name": "stdout"
        },
        {
          "output_type": "stream",
          "text": [
            "\r16it [02:18,  8.69s/it]"
          ],
          "name": "stderr"
        },
        {
          "output_type": "stream",
          "text": [
            "\rtrain batch [16/41]: loss 9394.833984375"
          ],
          "name": "stdout"
        },
        {
          "output_type": "stream",
          "text": [
            "\r17it [02:27,  8.74s/it]"
          ],
          "name": "stderr"
        },
        {
          "output_type": "stream",
          "text": [
            "\rtrain batch [17/41]: loss 10574.18359375"
          ],
          "name": "stdout"
        },
        {
          "output_type": "stream",
          "text": [
            "\r18it [02:36,  8.71s/it]"
          ],
          "name": "stderr"
        },
        {
          "output_type": "stream",
          "text": [
            "\rtrain batch [18/41]: loss 13476.619140625"
          ],
          "name": "stdout"
        },
        {
          "output_type": "stream",
          "text": [
            "\r19it [02:44,  8.75s/it]"
          ],
          "name": "stderr"
        },
        {
          "output_type": "stream",
          "text": [
            "\rtrain batch [19/41]: loss 9227.466796875"
          ],
          "name": "stdout"
        },
        {
          "output_type": "stream",
          "text": [
            "\r20it [02:53,  8.63s/it]"
          ],
          "name": "stderr"
        },
        {
          "output_type": "stream",
          "text": [
            "\rtrain batch [20/41]: loss 8838.357421875"
          ],
          "name": "stdout"
        },
        {
          "output_type": "stream",
          "text": [
            "\r21it [03:01,  8.66s/it]"
          ],
          "name": "stderr"
        },
        {
          "output_type": "stream",
          "text": [
            "\rtrain batch [21/41]: loss 8954.5302734375"
          ],
          "name": "stdout"
        },
        {
          "output_type": "stream",
          "text": [
            "\r22it [03:10,  8.67s/it]"
          ],
          "name": "stderr"
        },
        {
          "output_type": "stream",
          "text": [
            "\rtrain batch [22/41]: loss 11847.5439453125"
          ],
          "name": "stdout"
        },
        {
          "output_type": "stream",
          "text": [
            "\r23it [03:19,  8.64s/it]"
          ],
          "name": "stderr"
        },
        {
          "output_type": "stream",
          "text": [
            "\rtrain batch [23/41]: loss 27348.390625"
          ],
          "name": "stdout"
        },
        {
          "output_type": "stream",
          "text": [
            "\r24it [03:27,  8.63s/it]"
          ],
          "name": "stderr"
        },
        {
          "output_type": "stream",
          "text": [
            "\rtrain batch [24/41]: loss 36587.2890625"
          ],
          "name": "stdout"
        },
        {
          "output_type": "stream",
          "text": [
            "\r25it [03:36,  8.61s/it]"
          ],
          "name": "stderr"
        },
        {
          "output_type": "stream",
          "text": [
            "\rtrain batch [25/41]: loss 60874.515625"
          ],
          "name": "stdout"
        },
        {
          "output_type": "stream",
          "text": [
            "\r26it [03:45,  8.70s/it]"
          ],
          "name": "stderr"
        },
        {
          "output_type": "stream",
          "text": [
            "\rtrain batch [26/41]: loss 22531.85546875"
          ],
          "name": "stdout"
        },
        {
          "output_type": "stream",
          "text": [
            "\r27it [03:54,  8.72s/it]"
          ],
          "name": "stderr"
        },
        {
          "output_type": "stream",
          "text": [
            "\rtrain batch [27/41]: loss 29382.142578125"
          ],
          "name": "stdout"
        },
        {
          "output_type": "stream",
          "text": [
            "\r28it [04:02,  8.70s/it]"
          ],
          "name": "stderr"
        },
        {
          "output_type": "stream",
          "text": [
            "\rtrain batch [28/41]: loss 31977.041015625"
          ],
          "name": "stdout"
        },
        {
          "output_type": "stream",
          "text": [
            "\r29it [04:11,  8.73s/it]"
          ],
          "name": "stderr"
        },
        {
          "output_type": "stream",
          "text": [
            "\rtrain batch [29/41]: loss 32979.0703125"
          ],
          "name": "stdout"
        },
        {
          "output_type": "stream",
          "text": [
            "\r30it [04:20,  8.70s/it]"
          ],
          "name": "stderr"
        },
        {
          "output_type": "stream",
          "text": [
            "\rtrain batch [30/41]: loss 43766.203125"
          ],
          "name": "stdout"
        },
        {
          "output_type": "stream",
          "text": [
            "\r31it [04:28,  8.73s/it]"
          ],
          "name": "stderr"
        },
        {
          "output_type": "stream",
          "text": [
            "\rtrain batch [31/41]: loss 50021.63671875"
          ],
          "name": "stdout"
        },
        {
          "output_type": "stream",
          "text": [
            "\r32it [04:37,  8.74s/it]"
          ],
          "name": "stderr"
        },
        {
          "output_type": "stream",
          "text": [
            "\rtrain batch [32/41]: loss 36836.0390625"
          ],
          "name": "stdout"
        },
        {
          "output_type": "stream",
          "text": [
            "\r33it [04:46,  8.80s/it]"
          ],
          "name": "stderr"
        },
        {
          "output_type": "stream",
          "text": [
            "\rtrain batch [33/41]: loss 34127.82421875"
          ],
          "name": "stdout"
        },
        {
          "output_type": "stream",
          "text": [
            "\r34it [04:55,  8.81s/it]"
          ],
          "name": "stderr"
        },
        {
          "output_type": "stream",
          "text": [
            "\rtrain batch [34/41]: loss 26570.50390625"
          ],
          "name": "stdout"
        },
        {
          "output_type": "stream",
          "text": [
            "\r35it [05:03,  8.73s/it]"
          ],
          "name": "stderr"
        },
        {
          "output_type": "stream",
          "text": [
            "\rtrain batch [35/41]: loss 13584.818359375"
          ],
          "name": "stdout"
        },
        {
          "output_type": "stream",
          "text": [
            "\r36it [05:12,  8.68s/it]"
          ],
          "name": "stderr"
        },
        {
          "output_type": "stream",
          "text": [
            "\rtrain batch [36/41]: loss 14347.0078125"
          ],
          "name": "stdout"
        },
        {
          "output_type": "stream",
          "text": [
            "\r37it [05:21,  8.69s/it]"
          ],
          "name": "stderr"
        },
        {
          "output_type": "stream",
          "text": [
            "\rtrain batch [37/41]: loss 15914.8125"
          ],
          "name": "stdout"
        },
        {
          "output_type": "stream",
          "text": [
            "\r38it [05:29,  8.71s/it]"
          ],
          "name": "stderr"
        },
        {
          "output_type": "stream",
          "text": [
            "\rtrain batch [38/41]: loss 19322.48046875"
          ],
          "name": "stdout"
        },
        {
          "output_type": "stream",
          "text": [
            "\r39it [05:38,  8.73s/it]"
          ],
          "name": "stderr"
        },
        {
          "output_type": "stream",
          "text": [
            "\rtrain batch [39/41]: loss 24627.67578125"
          ],
          "name": "stdout"
        },
        {
          "output_type": "stream",
          "text": [
            "\r40it [05:47,  8.64s/it]"
          ],
          "name": "stderr"
        },
        {
          "output_type": "stream",
          "text": [
            "\rtrain batch [40/41]: loss 18233.484375"
          ],
          "name": "stdout"
        },
        {
          "output_type": "stream",
          "text": [
            "41it [05:53,  8.63s/it]"
          ],
          "name": "stderr"
        },
        {
          "output_type": "stream",
          "text": [
            "\rval batch [0/4]: loss 114199.1015625"
          ],
          "name": "stdout"
        },
        {
          "output_type": "stream",
          "text": [
            "\n"
          ],
          "name": "stderr"
        },
        {
          "output_type": "stream",
          "text": [
            "test batch [4/5]: loss 17356.82421875"
          ],
          "name": "stdout"
        },
        {
          "output_type": "stream",
          "text": [
            "\r0it [00:00, ?it/s]"
          ],
          "name": "stderr"
        },
        {
          "output_type": "stream",
          "text": [
            "\n",
            "Train loss: 20237.100669302592, Train accuracy: 0.5970091819763184\n",
            "Val loss: 43714.9140625, Val accuracy: 0.4375\n",
            "Test loss: 18807.041015625, Test accuracy: 0.6490384936332703\n",
            "\n",
            "=============== Epoch: 6\n",
            "train batch [0/41]: loss 14676.439453125"
          ],
          "name": "stdout"
        },
        {
          "output_type": "stream",
          "text": [
            "\r1it [00:08,  8.82s/it]"
          ],
          "name": "stderr"
        },
        {
          "output_type": "stream",
          "text": [
            "\rtrain batch [1/41]: loss 42858.015625"
          ],
          "name": "stdout"
        },
        {
          "output_type": "stream",
          "text": [
            "\r2it [00:17,  8.82s/it]"
          ],
          "name": "stderr"
        },
        {
          "output_type": "stream",
          "text": [
            "\rtrain batch [2/41]: loss 52894.15234375"
          ],
          "name": "stdout"
        },
        {
          "output_type": "stream",
          "text": [
            "\r3it [00:26,  8.81s/it]"
          ],
          "name": "stderr"
        },
        {
          "output_type": "stream",
          "text": [
            "\rtrain batch [3/41]: loss 29332.84375"
          ],
          "name": "stdout"
        },
        {
          "output_type": "stream",
          "text": [
            "\r4it [00:35,  8.81s/it]"
          ],
          "name": "stderr"
        },
        {
          "output_type": "stream",
          "text": [
            "\rtrain batch [4/41]: loss 54364.796875"
          ],
          "name": "stdout"
        },
        {
          "output_type": "stream",
          "text": [
            "\r5it [00:43,  8.79s/it]"
          ],
          "name": "stderr"
        },
        {
          "output_type": "stream",
          "text": [
            "\rtrain batch [5/41]: loss 45283.8515625"
          ],
          "name": "stdout"
        },
        {
          "output_type": "stream",
          "text": [
            "\r6it [00:52,  8.79s/it]"
          ],
          "name": "stderr"
        },
        {
          "output_type": "stream",
          "text": [
            "\rtrain batch [6/41]: loss 39116.49609375"
          ],
          "name": "stdout"
        },
        {
          "output_type": "stream",
          "text": [
            "\r7it [01:01,  8.67s/it]"
          ],
          "name": "stderr"
        },
        {
          "output_type": "stream",
          "text": [
            "\rtrain batch [7/41]: loss 29263.40234375"
          ],
          "name": "stdout"
        },
        {
          "output_type": "stream",
          "text": [
            "\r8it [01:09,  8.59s/it]"
          ],
          "name": "stderr"
        },
        {
          "output_type": "stream",
          "text": [
            "\rtrain batch [8/41]: loss 32549.65234375"
          ],
          "name": "stdout"
        },
        {
          "output_type": "stream",
          "text": [
            "\r9it [01:18,  8.64s/it]"
          ],
          "name": "stderr"
        },
        {
          "output_type": "stream",
          "text": [
            "\rtrain batch [9/41]: loss 47948.796875"
          ],
          "name": "stdout"
        },
        {
          "output_type": "stream",
          "text": [
            "\r10it [01:26,  8.62s/it]"
          ],
          "name": "stderr"
        },
        {
          "output_type": "stream",
          "text": [
            "\rtrain batch [10/41]: loss 79988.0078125"
          ],
          "name": "stdout"
        },
        {
          "output_type": "stream",
          "text": [
            "\r11it [01:35,  8.71s/it]"
          ],
          "name": "stderr"
        },
        {
          "output_type": "stream",
          "text": [
            "\rtrain batch [11/41]: loss 30365.154296875"
          ],
          "name": "stdout"
        },
        {
          "output_type": "stream",
          "text": [
            "\r12it [01:44,  8.68s/it]"
          ],
          "name": "stderr"
        },
        {
          "output_type": "stream",
          "text": [
            "\rtrain batch [12/41]: loss 72112.421875"
          ],
          "name": "stdout"
        },
        {
          "output_type": "stream",
          "text": [
            "\r13it [01:53,  8.66s/it]"
          ],
          "name": "stderr"
        },
        {
          "output_type": "stream",
          "text": [
            "\rtrain batch [13/41]: loss 38224.640625"
          ],
          "name": "stdout"
        },
        {
          "output_type": "stream",
          "text": [
            "\r14it [02:01,  8.71s/it]"
          ],
          "name": "stderr"
        },
        {
          "output_type": "stream",
          "text": [
            "\rtrain batch [14/41]: loss 114196.15625"
          ],
          "name": "stdout"
        },
        {
          "output_type": "stream",
          "text": [
            "\r15it [02:10,  8.65s/it]"
          ],
          "name": "stderr"
        },
        {
          "output_type": "stream",
          "text": [
            "\rtrain batch [15/41]: loss 49600.84375"
          ],
          "name": "stdout"
        },
        {
          "output_type": "stream",
          "text": [
            "\r16it [02:19,  8.69s/it]"
          ],
          "name": "stderr"
        },
        {
          "output_type": "stream",
          "text": [
            "\rtrain batch [16/41]: loss 47796.78125"
          ],
          "name": "stdout"
        },
        {
          "output_type": "stream",
          "text": [
            "\r17it [02:27,  8.69s/it]"
          ],
          "name": "stderr"
        },
        {
          "output_type": "stream",
          "text": [
            "\rtrain batch [17/41]: loss 34880.01171875"
          ],
          "name": "stdout"
        },
        {
          "output_type": "stream",
          "text": [
            "\r18it [02:36,  8.65s/it]"
          ],
          "name": "stderr"
        },
        {
          "output_type": "stream",
          "text": [
            "\rtrain batch [18/41]: loss 32601.12109375"
          ],
          "name": "stdout"
        },
        {
          "output_type": "stream",
          "text": [
            "\r19it [02:45,  8.67s/it]"
          ],
          "name": "stderr"
        },
        {
          "output_type": "stream",
          "text": [
            "\rtrain batch [19/41]: loss 51217.1328125"
          ],
          "name": "stdout"
        },
        {
          "output_type": "stream",
          "text": [
            "\r20it [02:54,  8.74s/it]"
          ],
          "name": "stderr"
        },
        {
          "output_type": "stream",
          "text": [
            "\rtrain batch [20/41]: loss 30918.068359375"
          ],
          "name": "stdout"
        },
        {
          "output_type": "stream",
          "text": [
            "\r21it [03:02,  8.76s/it]"
          ],
          "name": "stderr"
        },
        {
          "output_type": "stream",
          "text": [
            "\rtrain batch [21/41]: loss 44083.9375"
          ],
          "name": "stdout"
        },
        {
          "output_type": "stream",
          "text": [
            "\r22it [03:11,  8.78s/it]"
          ],
          "name": "stderr"
        },
        {
          "output_type": "stream",
          "text": [
            "\rtrain batch [22/41]: loss 57495.8125"
          ],
          "name": "stdout"
        },
        {
          "output_type": "stream",
          "text": [
            "\r23it [03:20,  8.77s/it]"
          ],
          "name": "stderr"
        },
        {
          "output_type": "stream",
          "text": [
            "\rtrain batch [23/41]: loss 46847.4609375"
          ],
          "name": "stdout"
        },
        {
          "output_type": "stream",
          "text": [
            "\r24it [03:28,  8.71s/it]"
          ],
          "name": "stderr"
        },
        {
          "output_type": "stream",
          "text": [
            "\rtrain batch [24/41]: loss 24814.330078125"
          ],
          "name": "stdout"
        },
        {
          "output_type": "stream",
          "text": [
            "\r25it [03:37,  8.64s/it]"
          ],
          "name": "stderr"
        },
        {
          "output_type": "stream",
          "text": [
            "\rtrain batch [25/41]: loss 37493.90625"
          ],
          "name": "stdout"
        },
        {
          "output_type": "stream",
          "text": [
            "\r26it [03:46,  8.64s/it]"
          ],
          "name": "stderr"
        },
        {
          "output_type": "stream",
          "text": [
            "\rtrain batch [26/41]: loss 82493.53125"
          ],
          "name": "stdout"
        },
        {
          "output_type": "stream",
          "text": [
            "\r27it [03:54,  8.65s/it]"
          ],
          "name": "stderr"
        },
        {
          "output_type": "stream",
          "text": [
            "\rtrain batch [27/41]: loss 23729.5625"
          ],
          "name": "stdout"
        },
        {
          "output_type": "stream",
          "text": [
            "\r28it [04:03,  8.63s/it]"
          ],
          "name": "stderr"
        },
        {
          "output_type": "stream",
          "text": [
            "\rtrain batch [28/41]: loss 32635.4375"
          ],
          "name": "stdout"
        },
        {
          "output_type": "stream",
          "text": [
            "\r29it [04:11,  8.60s/it]"
          ],
          "name": "stderr"
        },
        {
          "output_type": "stream",
          "text": [
            "\rtrain batch [29/41]: loss 24467.73828125"
          ],
          "name": "stdout"
        },
        {
          "output_type": "stream",
          "text": [
            "\r30it [04:20,  8.59s/it]"
          ],
          "name": "stderr"
        },
        {
          "output_type": "stream",
          "text": [
            "\rtrain batch [30/41]: loss 43680.6015625"
          ],
          "name": "stdout"
        },
        {
          "output_type": "stream",
          "text": [
            "\r31it [04:29,  8.59s/it]"
          ],
          "name": "stderr"
        },
        {
          "output_type": "stream",
          "text": [
            "\rtrain batch [31/41]: loss 44405.8046875"
          ],
          "name": "stdout"
        },
        {
          "output_type": "stream",
          "text": [
            "\r32it [04:37,  8.59s/it]"
          ],
          "name": "stderr"
        },
        {
          "output_type": "stream",
          "text": [
            "\rtrain batch [32/41]: loss 38521.0703125"
          ],
          "name": "stdout"
        },
        {
          "output_type": "stream",
          "text": [
            "\r33it [04:46,  8.56s/it]"
          ],
          "name": "stderr"
        },
        {
          "output_type": "stream",
          "text": [
            "\rtrain batch [33/41]: loss 26158.16015625"
          ],
          "name": "stdout"
        },
        {
          "output_type": "stream",
          "text": [
            "\r34it [04:54,  8.54s/it]"
          ],
          "name": "stderr"
        },
        {
          "output_type": "stream",
          "text": [
            "\rtrain batch [34/41]: loss 80743.015625"
          ],
          "name": "stdout"
        },
        {
          "output_type": "stream",
          "text": [
            "\r35it [05:03,  8.66s/it]"
          ],
          "name": "stderr"
        },
        {
          "output_type": "stream",
          "text": [
            "\rtrain batch [35/41]: loss 85204.234375"
          ],
          "name": "stdout"
        },
        {
          "output_type": "stream",
          "text": [
            "\r36it [05:12,  8.67s/it]"
          ],
          "name": "stderr"
        },
        {
          "output_type": "stream",
          "text": [
            "\rtrain batch [36/41]: loss 134149.40625"
          ],
          "name": "stdout"
        },
        {
          "output_type": "stream",
          "text": [
            "\r37it [05:20,  8.66s/it]"
          ],
          "name": "stderr"
        },
        {
          "output_type": "stream",
          "text": [
            "\rtrain batch [37/41]: loss 49165.37890625"
          ],
          "name": "stdout"
        },
        {
          "output_type": "stream",
          "text": [
            "\r38it [05:29,  8.58s/it]"
          ],
          "name": "stderr"
        },
        {
          "output_type": "stream",
          "text": [
            "\rtrain batch [38/41]: loss 94049.6875"
          ],
          "name": "stdout"
        },
        {
          "output_type": "stream",
          "text": [
            "\r39it [05:37,  8.53s/it]"
          ],
          "name": "stderr"
        },
        {
          "output_type": "stream",
          "text": [
            "\rtrain batch [39/41]: loss 181431.65625"
          ],
          "name": "stdout"
        },
        {
          "output_type": "stream",
          "text": [
            "\r40it [05:46,  8.56s/it]"
          ],
          "name": "stderr"
        },
        {
          "output_type": "stream",
          "text": [
            "\rtrain batch [40/41]: loss 111525.3046875"
          ],
          "name": "stdout"
        },
        {
          "output_type": "stream",
          "text": [
            "41it [05:52,  8.61s/it]"
          ],
          "name": "stderr"
        },
        {
          "output_type": "stream",
          "text": [
            "\rval batch [0/4]: loss 382344.65625"
          ],
          "name": "stdout"
        },
        {
          "output_type": "stream",
          "text": [
            "\n"
          ],
          "name": "stderr"
        },
        {
          "output_type": "stream",
          "text": [
            "test batch [4/5]: loss 44386.6015625"
          ],
          "name": "stdout"
        },
        {
          "output_type": "stream",
          "text": [
            "\r0it [00:00, ?it/s]"
          ],
          "name": "stderr"
        },
        {
          "output_type": "stream",
          "text": [
            "\n",
            "Train loss: 54470.36104230183, Train accuracy: 0.5757285356521606\n",
            "Val loss: 200834.453125, Val accuracy: 0.5625\n",
            "Test loss: 87755.88359375, Test accuracy: 0.5785256624221802\n",
            "\n",
            "=============== Epoch: 7\n",
            "train batch [0/41]: loss 61467.24609375"
          ],
          "name": "stdout"
        },
        {
          "output_type": "stream",
          "text": [
            "\r1it [00:08,  8.41s/it]"
          ],
          "name": "stderr"
        },
        {
          "output_type": "stream",
          "text": [
            "\rtrain batch [1/41]: loss 68953.90625"
          ],
          "name": "stdout"
        },
        {
          "output_type": "stream",
          "text": [
            "\r2it [00:16,  8.38s/it]"
          ],
          "name": "stderr"
        },
        {
          "output_type": "stream",
          "text": [
            "\rtrain batch [2/41]: loss 68464.46875"
          ],
          "name": "stdout"
        },
        {
          "output_type": "stream",
          "text": [
            "\r3it [00:25,  8.47s/it]"
          ],
          "name": "stderr"
        },
        {
          "output_type": "stream",
          "text": [
            "\rtrain batch [3/41]: loss 84674.015625"
          ],
          "name": "stdout"
        },
        {
          "output_type": "stream",
          "text": [
            "\r4it [00:34,  8.54s/it]"
          ],
          "name": "stderr"
        },
        {
          "output_type": "stream",
          "text": [
            "\rtrain batch [4/41]: loss 222150.859375"
          ],
          "name": "stdout"
        },
        {
          "output_type": "stream",
          "text": [
            "\r5it [00:42,  8.61s/it]"
          ],
          "name": "stderr"
        },
        {
          "output_type": "stream",
          "text": [
            "\rtrain batch [5/41]: loss 87064.625"
          ],
          "name": "stdout"
        },
        {
          "output_type": "stream",
          "text": [
            "\r6it [00:51,  8.63s/it]"
          ],
          "name": "stderr"
        },
        {
          "output_type": "stream",
          "text": [
            "\rtrain batch [6/41]: loss 92567.7265625"
          ],
          "name": "stdout"
        },
        {
          "output_type": "stream",
          "text": [
            "\r7it [01:00,  8.59s/it]"
          ],
          "name": "stderr"
        },
        {
          "output_type": "stream",
          "text": [
            "\rtrain batch [7/41]: loss 116124.2109375"
          ],
          "name": "stdout"
        },
        {
          "output_type": "stream",
          "text": [
            "\r8it [01:08,  8.58s/it]"
          ],
          "name": "stderr"
        },
        {
          "output_type": "stream",
          "text": [
            "\rtrain batch [8/41]: loss 177753.125"
          ],
          "name": "stdout"
        },
        {
          "output_type": "stream",
          "text": [
            "\r9it [01:16,  8.51s/it]"
          ],
          "name": "stderr"
        },
        {
          "output_type": "stream",
          "text": [
            "\rtrain batch [9/41]: loss 95363.3828125"
          ],
          "name": "stdout"
        },
        {
          "output_type": "stream",
          "text": [
            "\r10it [01:25,  8.55s/it]"
          ],
          "name": "stderr"
        },
        {
          "output_type": "stream",
          "text": [
            "\rtrain batch [10/41]: loss 49120.171875"
          ],
          "name": "stdout"
        },
        {
          "output_type": "stream",
          "text": [
            "\r11it [01:34,  8.53s/it]"
          ],
          "name": "stderr"
        },
        {
          "output_type": "stream",
          "text": [
            "\rtrain batch [11/41]: loss 65946.890625"
          ],
          "name": "stdout"
        },
        {
          "output_type": "stream",
          "text": [
            "\r12it [01:42,  8.62s/it]"
          ],
          "name": "stderr"
        },
        {
          "output_type": "stream",
          "text": [
            "\rtrain batch [12/41]: loss 80921.875"
          ],
          "name": "stdout"
        },
        {
          "output_type": "stream",
          "text": [
            "\r13it [01:51,  8.71s/it]"
          ],
          "name": "stderr"
        },
        {
          "output_type": "stream",
          "text": [
            "\rtrain batch [13/41]: loss 86623.078125"
          ],
          "name": "stdout"
        },
        {
          "output_type": "stream",
          "text": [
            "\r14it [02:00,  8.70s/it]"
          ],
          "name": "stderr"
        },
        {
          "output_type": "stream",
          "text": [
            "\rtrain batch [14/41]: loss 231617.125"
          ],
          "name": "stdout"
        },
        {
          "output_type": "stream",
          "text": [
            "\r15it [02:09,  8.74s/it]"
          ],
          "name": "stderr"
        },
        {
          "output_type": "stream",
          "text": [
            "\rtrain batch [15/41]: loss 240130.921875"
          ],
          "name": "stdout"
        },
        {
          "output_type": "stream",
          "text": [
            "\r16it [02:17,  8.72s/it]"
          ],
          "name": "stderr"
        },
        {
          "output_type": "stream",
          "text": [
            "\rtrain batch [16/41]: loss 74532.6484375"
          ],
          "name": "stdout"
        },
        {
          "output_type": "stream",
          "text": [
            "\r17it [02:26,  8.74s/it]"
          ],
          "name": "stderr"
        },
        {
          "output_type": "stream",
          "text": [
            "\rtrain batch [17/41]: loss 176913.28125"
          ],
          "name": "stdout"
        },
        {
          "output_type": "stream",
          "text": [
            "\r18it [02:35,  8.78s/it]"
          ],
          "name": "stderr"
        },
        {
          "output_type": "stream",
          "text": [
            "\rtrain batch [18/41]: loss 142493.46875"
          ],
          "name": "stdout"
        },
        {
          "output_type": "stream",
          "text": [
            "\r19it [02:44,  8.78s/it]"
          ],
          "name": "stderr"
        },
        {
          "output_type": "stream",
          "text": [
            "\rtrain batch [19/41]: loss 504146.9375"
          ],
          "name": "stdout"
        },
        {
          "output_type": "stream",
          "text": [
            "\r20it [02:53,  8.73s/it]"
          ],
          "name": "stderr"
        },
        {
          "output_type": "stream",
          "text": [
            "\rtrain batch [20/41]: loss 179501.546875"
          ],
          "name": "stdout"
        },
        {
          "output_type": "stream",
          "text": [
            "\r21it [03:01,  8.72s/it]"
          ],
          "name": "stderr"
        },
        {
          "output_type": "stream",
          "text": [
            "\rtrain batch [21/41]: loss 179208.234375"
          ],
          "name": "stdout"
        },
        {
          "output_type": "stream",
          "text": [
            "\r22it [03:10,  8.77s/it]"
          ],
          "name": "stderr"
        },
        {
          "output_type": "stream",
          "text": [
            "\rtrain batch [22/41]: loss 132984.59375"
          ],
          "name": "stdout"
        },
        {
          "output_type": "stream",
          "text": [
            "\r23it [03:19,  8.77s/it]"
          ],
          "name": "stderr"
        },
        {
          "output_type": "stream",
          "text": [
            "\rtrain batch [23/41]: loss 179166.125"
          ],
          "name": "stdout"
        },
        {
          "output_type": "stream",
          "text": [
            "\r24it [03:28,  8.74s/it]"
          ],
          "name": "stderr"
        },
        {
          "output_type": "stream",
          "text": [
            "\rtrain batch [24/41]: loss 145432.96875"
          ],
          "name": "stdout"
        },
        {
          "output_type": "stream",
          "text": [
            "\r25it [03:36,  8.77s/it]"
          ],
          "name": "stderr"
        },
        {
          "output_type": "stream",
          "text": [
            "\rtrain batch [25/41]: loss 134885.125"
          ],
          "name": "stdout"
        },
        {
          "output_type": "stream",
          "text": [
            "\r26it [03:45,  8.77s/it]"
          ],
          "name": "stderr"
        },
        {
          "output_type": "stream",
          "text": [
            "\rtrain batch [26/41]: loss 178286.15625"
          ],
          "name": "stdout"
        },
        {
          "output_type": "stream",
          "text": [
            "\r27it [03:54,  8.71s/it]"
          ],
          "name": "stderr"
        },
        {
          "output_type": "stream",
          "text": [
            "\rtrain batch [27/41]: loss 333503.28125"
          ],
          "name": "stdout"
        },
        {
          "output_type": "stream",
          "text": [
            "\r28it [04:02,  8.67s/it]"
          ],
          "name": "stderr"
        },
        {
          "output_type": "stream",
          "text": [
            "\rtrain batch [28/41]: loss 220257.109375"
          ],
          "name": "stdout"
        },
        {
          "output_type": "stream",
          "text": [
            "\r29it [04:11,  8.63s/it]"
          ],
          "name": "stderr"
        },
        {
          "output_type": "stream",
          "text": [
            "\rtrain batch [29/41]: loss 238220.71875"
          ],
          "name": "stdout"
        },
        {
          "output_type": "stream",
          "text": [
            "\r30it [04:20,  8.75s/it]"
          ],
          "name": "stderr"
        },
        {
          "output_type": "stream",
          "text": [
            "\rtrain batch [30/41]: loss 96971.3125"
          ],
          "name": "stdout"
        },
        {
          "output_type": "stream",
          "text": [
            "\r31it [04:29,  8.72s/it]"
          ],
          "name": "stderr"
        },
        {
          "output_type": "stream",
          "text": [
            "\rtrain batch [31/41]: loss 225024.96875"
          ],
          "name": "stdout"
        },
        {
          "output_type": "stream",
          "text": [
            "\r32it [04:37,  8.70s/it]"
          ],
          "name": "stderr"
        },
        {
          "output_type": "stream",
          "text": [
            "\rtrain batch [32/41]: loss 195811.1875"
          ],
          "name": "stdout"
        },
        {
          "output_type": "stream",
          "text": [
            "\r33it [04:46,  8.68s/it]"
          ],
          "name": "stderr"
        },
        {
          "output_type": "stream",
          "text": [
            "\rtrain batch [33/41]: loss 192727.390625"
          ],
          "name": "stdout"
        },
        {
          "output_type": "stream",
          "text": [
            "\r34it [04:55,  8.69s/it]"
          ],
          "name": "stderr"
        },
        {
          "output_type": "stream",
          "text": [
            "\rtrain batch [34/41]: loss 445124.46875"
          ],
          "name": "stdout"
        },
        {
          "output_type": "stream",
          "text": [
            "\r35it [05:03,  8.64s/it]"
          ],
          "name": "stderr"
        },
        {
          "output_type": "stream",
          "text": [
            "\rtrain batch [35/41]: loss 199027.96875"
          ],
          "name": "stdout"
        },
        {
          "output_type": "stream",
          "text": [
            "\r36it [05:12,  8.65s/it]"
          ],
          "name": "stderr"
        },
        {
          "output_type": "stream",
          "text": [
            "\rtrain batch [36/41]: loss 221445.5625"
          ],
          "name": "stdout"
        },
        {
          "output_type": "stream",
          "text": [
            "\r37it [05:21,  8.71s/it]"
          ],
          "name": "stderr"
        },
        {
          "output_type": "stream",
          "text": [
            "\rtrain batch [37/41]: loss 636210.875"
          ],
          "name": "stdout"
        },
        {
          "output_type": "stream",
          "text": [
            "\r38it [05:29,  8.67s/it]"
          ],
          "name": "stderr"
        },
        {
          "output_type": "stream",
          "text": [
            "\rtrain batch [38/41]: loss 435199.5625"
          ],
          "name": "stdout"
        },
        {
          "output_type": "stream",
          "text": [
            "\r39it [05:38,  8.67s/it]"
          ],
          "name": "stderr"
        },
        {
          "output_type": "stream",
          "text": [
            "\rtrain batch [39/41]: loss 226635.390625"
          ],
          "name": "stdout"
        },
        {
          "output_type": "stream",
          "text": [
            "\r40it [05:46,  8.67s/it]"
          ],
          "name": "stderr"
        },
        {
          "output_type": "stream",
          "text": [
            "\rtrain batch [40/41]: loss 224770.5"
          ],
          "name": "stdout"
        },
        {
          "output_type": "stream",
          "text": [
            "41it [05:53,  8.62s/it]"
          ],
          "name": "stderr"
        },
        {
          "output_type": "stream",
          "text": [
            "\rval batch [0/4]: loss 135270.125"
          ],
          "name": "stdout"
        },
        {
          "output_type": "stream",
          "text": [
            "\n"
          ],
          "name": "stderr"
        },
        {
          "output_type": "stream",
          "text": [
            "test batch [4/5]: loss 732326.4375"
          ],
          "name": "stdout"
        },
        {
          "output_type": "stream",
          "text": [
            "\r0it [00:00, ?it/s]"
          ],
          "name": "stderr"
        },
        {
          "output_type": "stream",
          "text": [
            "\n",
            "Train loss: 188961.5840320122, Train accuracy: 0.5993098020553589\n",
            "Val loss: 407888.8125, Val accuracy: 0.375\n",
            "Test loss: 608507.14375, Test accuracy: 0.33173078298568726\n",
            "\n",
            "=============== Epoch: 8\n",
            "train batch [0/41]: loss 726766.5625"
          ],
          "name": "stdout"
        },
        {
          "output_type": "stream",
          "text": [
            "\r1it [00:08,  8.70s/it]"
          ],
          "name": "stderr"
        },
        {
          "output_type": "stream",
          "text": [
            "\rtrain batch [1/41]: loss 809420.125"
          ],
          "name": "stdout"
        },
        {
          "output_type": "stream",
          "text": [
            "\r2it [00:17,  8.68s/it]"
          ],
          "name": "stderr"
        },
        {
          "output_type": "stream",
          "text": [
            "\rtrain batch [2/41]: loss 396168.3125"
          ],
          "name": "stdout"
        },
        {
          "output_type": "stream",
          "text": [
            "\r3it [00:26,  8.73s/it]"
          ],
          "name": "stderr"
        },
        {
          "output_type": "stream",
          "text": [
            "\rtrain batch [3/41]: loss 374785.875"
          ],
          "name": "stdout"
        },
        {
          "output_type": "stream",
          "text": [
            "\r4it [00:34,  8.71s/it]"
          ],
          "name": "stderr"
        },
        {
          "output_type": "stream",
          "text": [
            "\rtrain batch [4/41]: loss 658502.0"
          ],
          "name": "stdout"
        },
        {
          "output_type": "stream",
          "text": [
            "\r5it [00:43,  8.75s/it]"
          ],
          "name": "stderr"
        },
        {
          "output_type": "stream",
          "text": [
            "\rtrain batch [5/41]: loss 1024560.5"
          ],
          "name": "stdout"
        },
        {
          "output_type": "stream",
          "text": [
            "\r6it [00:52,  8.72s/it]"
          ],
          "name": "stderr"
        },
        {
          "output_type": "stream",
          "text": [
            "\rtrain batch [6/41]: loss 584625.5"
          ],
          "name": "stdout"
        },
        {
          "output_type": "stream",
          "text": [
            "\r7it [01:00,  8.67s/it]"
          ],
          "name": "stderr"
        },
        {
          "output_type": "stream",
          "text": [
            "\rtrain batch [7/41]: loss 517442.125"
          ],
          "name": "stdout"
        },
        {
          "output_type": "stream",
          "text": [
            "\r8it [01:09,  8.71s/it]"
          ],
          "name": "stderr"
        },
        {
          "output_type": "stream",
          "text": [
            "\rtrain batch [8/41]: loss 326390.3125"
          ],
          "name": "stdout"
        },
        {
          "output_type": "stream",
          "text": [
            "\r9it [01:18,  8.68s/it]"
          ],
          "name": "stderr"
        },
        {
          "output_type": "stream",
          "text": [
            "\rtrain batch [9/41]: loss 1468718.25"
          ],
          "name": "stdout"
        },
        {
          "output_type": "stream",
          "text": [
            "\r10it [01:26,  8.66s/it]"
          ],
          "name": "stderr"
        },
        {
          "output_type": "stream",
          "text": [
            "\rtrain batch [10/41]: loss 477694.625"
          ],
          "name": "stdout"
        },
        {
          "output_type": "stream",
          "text": [
            "\r11it [01:35,  8.73s/it]"
          ],
          "name": "stderr"
        },
        {
          "output_type": "stream",
          "text": [
            "\rtrain batch [11/41]: loss 1140103.25"
          ],
          "name": "stdout"
        },
        {
          "output_type": "stream",
          "text": [
            "\r12it [01:44,  8.73s/it]"
          ],
          "name": "stderr"
        },
        {
          "output_type": "stream",
          "text": [
            "\rtrain batch [12/41]: loss 321106.6875"
          ],
          "name": "stdout"
        },
        {
          "output_type": "stream",
          "text": [
            "\r13it [01:53,  8.72s/it]"
          ],
          "name": "stderr"
        },
        {
          "output_type": "stream",
          "text": [
            "\rtrain batch [13/41]: loss 270127.25"
          ],
          "name": "stdout"
        },
        {
          "output_type": "stream",
          "text": [
            "\r14it [02:02,  8.78s/it]"
          ],
          "name": "stderr"
        },
        {
          "output_type": "stream",
          "text": [
            "\rtrain batch [14/41]: loss 440722.6875"
          ],
          "name": "stdout"
        },
        {
          "output_type": "stream",
          "text": [
            "\r15it [02:10,  8.79s/it]"
          ],
          "name": "stderr"
        },
        {
          "output_type": "stream",
          "text": [
            "\rtrain batch [15/41]: loss 443262.3125"
          ],
          "name": "stdout"
        },
        {
          "output_type": "stream",
          "text": [
            "\r16it [02:19,  8.77s/it]"
          ],
          "name": "stderr"
        },
        {
          "output_type": "stream",
          "text": [
            "\rtrain batch [16/41]: loss 493671.625"
          ],
          "name": "stdout"
        },
        {
          "output_type": "stream",
          "text": [
            "\r17it [02:28,  8.73s/it]"
          ],
          "name": "stderr"
        },
        {
          "output_type": "stream",
          "text": [
            "\rtrain batch [17/41]: loss 261184.453125"
          ],
          "name": "stdout"
        },
        {
          "output_type": "stream",
          "text": [
            "\r18it [02:37,  8.75s/it]"
          ],
          "name": "stderr"
        },
        {
          "output_type": "stream",
          "text": [
            "\rtrain batch [18/41]: loss 247246.34375"
          ],
          "name": "stdout"
        },
        {
          "output_type": "stream",
          "text": [
            "\r19it [02:45,  8.66s/it]"
          ],
          "name": "stderr"
        },
        {
          "output_type": "stream",
          "text": [
            "\rtrain batch [19/41]: loss 245085.375"
          ],
          "name": "stdout"
        },
        {
          "output_type": "stream",
          "text": [
            "\r20it [02:54,  8.60s/it]"
          ],
          "name": "stderr"
        },
        {
          "output_type": "stream",
          "text": [
            "\rtrain batch [20/41]: loss 245821.21875"
          ],
          "name": "stdout"
        },
        {
          "output_type": "stream",
          "text": [
            "\r21it [03:02,  8.59s/it]"
          ],
          "name": "stderr"
        },
        {
          "output_type": "stream",
          "text": [
            "\rtrain batch [21/41]: loss 346009.875"
          ],
          "name": "stdout"
        },
        {
          "output_type": "stream",
          "text": [
            "\r22it [03:11,  8.57s/it]"
          ],
          "name": "stderr"
        },
        {
          "output_type": "stream",
          "text": [
            "\rtrain batch [22/41]: loss 258771.4375"
          ],
          "name": "stdout"
        },
        {
          "output_type": "stream",
          "text": [
            "\r23it [03:19,  8.61s/it]"
          ],
          "name": "stderr"
        },
        {
          "output_type": "stream",
          "text": [
            "\rtrain batch [23/41]: loss 1892640.25"
          ],
          "name": "stdout"
        },
        {
          "output_type": "stream",
          "text": [
            "\r24it [03:28,  8.67s/it]"
          ],
          "name": "stderr"
        },
        {
          "output_type": "stream",
          "text": [
            "\rtrain batch [24/41]: loss 291942.25"
          ],
          "name": "stdout"
        },
        {
          "output_type": "stream",
          "text": [
            "\r25it [03:37,  8.64s/it]"
          ],
          "name": "stderr"
        },
        {
          "output_type": "stream",
          "text": [
            "\rtrain batch [25/41]: loss 663896.4375"
          ],
          "name": "stdout"
        },
        {
          "output_type": "stream",
          "text": [
            "\r26it [03:45,  8.64s/it]"
          ],
          "name": "stderr"
        },
        {
          "output_type": "stream",
          "text": [
            "\rtrain batch [26/41]: loss 373559.5"
          ],
          "name": "stdout"
        },
        {
          "output_type": "stream",
          "text": [
            "\r27it [03:54,  8.66s/it]"
          ],
          "name": "stderr"
        },
        {
          "output_type": "stream",
          "text": [
            "\rtrain batch [27/41]: loss 1116980.25"
          ],
          "name": "stdout"
        },
        {
          "output_type": "stream",
          "text": [
            "\r28it [04:03,  8.64s/it]"
          ],
          "name": "stderr"
        },
        {
          "output_type": "stream",
          "text": [
            "\rtrain batch [28/41]: loss 671696.75"
          ],
          "name": "stdout"
        },
        {
          "output_type": "stream",
          "text": [
            "\r29it [04:11,  8.65s/it]"
          ],
          "name": "stderr"
        },
        {
          "output_type": "stream",
          "text": [
            "\rtrain batch [29/41]: loss 736452.75"
          ],
          "name": "stdout"
        },
        {
          "output_type": "stream",
          "text": [
            "\r30it [04:20,  8.65s/it]"
          ],
          "name": "stderr"
        },
        {
          "output_type": "stream",
          "text": [
            "\rtrain batch [30/41]: loss 747497.3125"
          ],
          "name": "stdout"
        },
        {
          "output_type": "stream",
          "text": [
            "\r31it [04:29,  8.69s/it]"
          ],
          "name": "stderr"
        },
        {
          "output_type": "stream",
          "text": [
            "\rtrain batch [31/41]: loss 726065.0"
          ],
          "name": "stdout"
        },
        {
          "output_type": "stream",
          "text": [
            "\r32it [04:37,  8.64s/it]"
          ],
          "name": "stderr"
        },
        {
          "output_type": "stream",
          "text": [
            "\rtrain batch [32/41]: loss 550708.9375"
          ],
          "name": "stdout"
        },
        {
          "output_type": "stream",
          "text": [
            "\r33it [04:46,  8.67s/it]"
          ],
          "name": "stderr"
        },
        {
          "output_type": "stream",
          "text": [
            "\rtrain batch [33/41]: loss 738075.3125"
          ],
          "name": "stdout"
        },
        {
          "output_type": "stream",
          "text": [
            "\r34it [04:55,  8.71s/it]"
          ],
          "name": "stderr"
        },
        {
          "output_type": "stream",
          "text": [
            "\rtrain batch [34/41]: loss 554771.375"
          ],
          "name": "stdout"
        },
        {
          "output_type": "stream",
          "text": [
            "\r35it [05:04,  8.72s/it]"
          ],
          "name": "stderr"
        },
        {
          "output_type": "stream",
          "text": [
            "\rtrain batch [35/41]: loss 926632.625"
          ],
          "name": "stdout"
        },
        {
          "output_type": "stream",
          "text": [
            "\r36it [05:12,  8.73s/it]"
          ],
          "name": "stderr"
        },
        {
          "output_type": "stream",
          "text": [
            "\rtrain batch [36/41]: loss 683579.3125"
          ],
          "name": "stdout"
        },
        {
          "output_type": "stream",
          "text": [
            "\r37it [05:21,  8.73s/it]"
          ],
          "name": "stderr"
        },
        {
          "output_type": "stream",
          "text": [
            "\rtrain batch [37/41]: loss 513245.34375"
          ],
          "name": "stdout"
        },
        {
          "output_type": "stream",
          "text": [
            "\r38it [05:30,  8.69s/it]"
          ],
          "name": "stderr"
        },
        {
          "output_type": "stream",
          "text": [
            "\rtrain batch [38/41]: loss 1502299.75"
          ],
          "name": "stdout"
        },
        {
          "output_type": "stream",
          "text": [
            "\r39it [05:38,  8.72s/it]"
          ],
          "name": "stderr"
        },
        {
          "output_type": "stream",
          "text": [
            "\rtrain batch [39/41]: loss 777743.875"
          ],
          "name": "stdout"
        },
        {
          "output_type": "stream",
          "text": [
            "\r40it [05:47,  8.69s/it]"
          ],
          "name": "stderr"
        },
        {
          "output_type": "stream",
          "text": [
            "\rtrain batch [40/41]: loss 599288.5"
          ],
          "name": "stdout"
        },
        {
          "output_type": "stream",
          "text": [
            "41it [05:54,  8.64s/it]"
          ],
          "name": "stderr"
        },
        {
          "output_type": "stream",
          "text": [
            "\rval batch [0/4]: loss 4383685.0"
          ],
          "name": "stdout"
        },
        {
          "output_type": "stream",
          "text": [
            "\n"
          ],
          "name": "stderr"
        },
        {
          "output_type": "stream",
          "text": [
            "test batch [4/5]: loss 0.0"
          ],
          "name": "stdout"
        },
        {
          "output_type": "stream",
          "text": [
            "\r0it [00:00, ?it/s]"
          ],
          "name": "stderr"
        },
        {
          "output_type": "stream",
          "text": [
            "\n",
            "Train loss: 637689.3239329269, Train accuracy: 0.5695935487747192\n",
            "Val loss: 2026422.3125, Val accuracy: 0.5\n",
            "Test loss: 1380856.1375, Test accuracy: 0.6233974695205688\n",
            "\n",
            "=============== Epoch: 9\n",
            "train batch [0/41]: loss 717254.625"
          ],
          "name": "stdout"
        },
        {
          "output_type": "stream",
          "text": [
            "\r1it [00:08,  8.50s/it]"
          ],
          "name": "stderr"
        },
        {
          "output_type": "stream",
          "text": [
            "\rtrain batch [1/41]: loss 785925.5"
          ],
          "name": "stdout"
        },
        {
          "output_type": "stream",
          "text": [
            "\r2it [00:17,  8.56s/it]"
          ],
          "name": "stderr"
        },
        {
          "output_type": "stream",
          "text": [
            "\rtrain batch [2/41]: loss 808357.5625"
          ],
          "name": "stdout"
        },
        {
          "output_type": "stream",
          "text": [
            "\r3it [00:25,  8.61s/it]"
          ],
          "name": "stderr"
        },
        {
          "output_type": "stream",
          "text": [
            "\rtrain batch [3/41]: loss 1595419.5"
          ],
          "name": "stdout"
        },
        {
          "output_type": "stream",
          "text": [
            "\r4it [00:34,  8.68s/it]"
          ],
          "name": "stderr"
        },
        {
          "output_type": "stream",
          "text": [
            "\rtrain batch [4/41]: loss 1023623.875"
          ],
          "name": "stdout"
        },
        {
          "output_type": "stream",
          "text": [
            "\r5it [00:43,  8.67s/it]"
          ],
          "name": "stderr"
        },
        {
          "output_type": "stream",
          "text": [
            "\rtrain batch [5/41]: loss 647221.5"
          ],
          "name": "stdout"
        },
        {
          "output_type": "stream",
          "text": [
            "\r6it [00:52,  8.67s/it]"
          ],
          "name": "stderr"
        },
        {
          "output_type": "stream",
          "text": [
            "\rtrain batch [6/41]: loss 773226.6875"
          ],
          "name": "stdout"
        },
        {
          "output_type": "stream",
          "text": [
            "\r7it [01:00,  8.66s/it]"
          ],
          "name": "stderr"
        },
        {
          "output_type": "stream",
          "text": [
            "\rtrain batch [7/41]: loss 819290.875"
          ],
          "name": "stdout"
        },
        {
          "output_type": "stream",
          "text": [
            "\r8it [01:09,  8.72s/it]"
          ],
          "name": "stderr"
        },
        {
          "output_type": "stream",
          "text": [
            "\rtrain batch [8/41]: loss 1203905.25"
          ],
          "name": "stdout"
        },
        {
          "output_type": "stream",
          "text": [
            "\r9it [01:18,  8.77s/it]"
          ],
          "name": "stderr"
        },
        {
          "output_type": "stream",
          "text": [
            "\rtrain batch [9/41]: loss 1218574.5"
          ],
          "name": "stdout"
        },
        {
          "output_type": "stream",
          "text": [
            "\r10it [01:27,  8.73s/it]"
          ],
          "name": "stderr"
        },
        {
          "output_type": "stream",
          "text": [
            "\rtrain batch [10/41]: loss 1127756.25"
          ],
          "name": "stdout"
        },
        {
          "output_type": "stream",
          "text": [
            "\r11it [01:35,  8.65s/it]"
          ],
          "name": "stderr"
        },
        {
          "output_type": "stream",
          "text": [
            "\rtrain batch [11/41]: loss 1321422.75"
          ],
          "name": "stdout"
        },
        {
          "output_type": "stream",
          "text": [
            "\r12it [01:44,  8.67s/it]"
          ],
          "name": "stderr"
        },
        {
          "output_type": "stream",
          "text": [
            "\rtrain batch [12/41]: loss 1556585.25"
          ],
          "name": "stdout"
        },
        {
          "output_type": "stream",
          "text": [
            "\r13it [01:53,  8.71s/it]"
          ],
          "name": "stderr"
        },
        {
          "output_type": "stream",
          "text": [
            "\rtrain batch [13/41]: loss 821281.25"
          ],
          "name": "stdout"
        },
        {
          "output_type": "stream",
          "text": [
            "\r14it [02:01,  8.66s/it]"
          ],
          "name": "stderr"
        },
        {
          "output_type": "stream",
          "text": [
            "\rtrain batch [14/41]: loss 1456891.75"
          ],
          "name": "stdout"
        },
        {
          "output_type": "stream",
          "text": [
            "\r15it [02:10,  8.71s/it]"
          ],
          "name": "stderr"
        },
        {
          "output_type": "stream",
          "text": [
            "\rtrain batch [15/41]: loss 1002078.8125"
          ],
          "name": "stdout"
        },
        {
          "output_type": "stream",
          "text": [
            "\r16it [02:19,  8.70s/it]"
          ],
          "name": "stderr"
        },
        {
          "output_type": "stream",
          "text": [
            "\rtrain batch [16/41]: loss 1089167.0"
          ],
          "name": "stdout"
        },
        {
          "output_type": "stream",
          "text": [
            "\r17it [02:28,  8.76s/it]"
          ],
          "name": "stderr"
        },
        {
          "output_type": "stream",
          "text": [
            "\rtrain batch [17/41]: loss 1333023.75"
          ],
          "name": "stdout"
        },
        {
          "output_type": "stream",
          "text": [
            "\r18it [02:36,  8.72s/it]"
          ],
          "name": "stderr"
        },
        {
          "output_type": "stream",
          "text": [
            "\rtrain batch [18/41]: loss 1940509.875"
          ],
          "name": "stdout"
        },
        {
          "output_type": "stream",
          "text": [
            "\r19it [02:45,  8.72s/it]"
          ],
          "name": "stderr"
        },
        {
          "output_type": "stream",
          "text": [
            "\rtrain batch [19/41]: loss 1068773.125"
          ],
          "name": "stdout"
        },
        {
          "output_type": "stream",
          "text": [
            "\r20it [02:53,  8.66s/it]"
          ],
          "name": "stderr"
        },
        {
          "output_type": "stream",
          "text": [
            "\rtrain batch [20/41]: loss 3455469.75"
          ],
          "name": "stdout"
        },
        {
          "output_type": "stream",
          "text": [
            "\r21it [03:02,  8.72s/it]"
          ],
          "name": "stderr"
        },
        {
          "output_type": "stream",
          "text": [
            "\rtrain batch [21/41]: loss 1156394.75"
          ],
          "name": "stdout"
        },
        {
          "output_type": "stream",
          "text": [
            "\r22it [03:11,  8.76s/it]"
          ],
          "name": "stderr"
        },
        {
          "output_type": "stream",
          "text": [
            "\rtrain batch [22/41]: loss 1616598.75"
          ],
          "name": "stdout"
        },
        {
          "output_type": "stream",
          "text": [
            "\r23it [03:20,  8.75s/it]"
          ],
          "name": "stderr"
        },
        {
          "output_type": "stream",
          "text": [
            "\rtrain batch [23/41]: loss 2263494.75"
          ],
          "name": "stdout"
        },
        {
          "output_type": "stream",
          "text": [
            "\r24it [03:28,  8.69s/it]"
          ],
          "name": "stderr"
        },
        {
          "output_type": "stream",
          "text": [
            "\rtrain batch [24/41]: loss 1768805.25"
          ],
          "name": "stdout"
        },
        {
          "output_type": "stream",
          "text": [
            "\r25it [03:37,  8.76s/it]"
          ],
          "name": "stderr"
        },
        {
          "output_type": "stream",
          "text": [
            "\rtrain batch [25/41]: loss 2757312.25"
          ],
          "name": "stdout"
        },
        {
          "output_type": "stream",
          "text": [
            "\r26it [03:46,  8.77s/it]"
          ],
          "name": "stderr"
        },
        {
          "output_type": "stream",
          "text": [
            "\rtrain batch [26/41]: loss 1662201.25"
          ],
          "name": "stdout"
        },
        {
          "output_type": "stream",
          "text": [
            "\r27it [03:55,  8.71s/it]"
          ],
          "name": "stderr"
        },
        {
          "output_type": "stream",
          "text": [
            "\rtrain batch [27/41]: loss 1026174.75"
          ],
          "name": "stdout"
        },
        {
          "output_type": "stream",
          "text": [
            "\r28it [04:03,  8.67s/it]"
          ],
          "name": "stderr"
        },
        {
          "output_type": "stream",
          "text": [
            "\rtrain batch [28/41]: loss 1077943.125"
          ],
          "name": "stdout"
        },
        {
          "output_type": "stream",
          "text": [
            "\r29it [04:12,  8.65s/it]"
          ],
          "name": "stderr"
        },
        {
          "output_type": "stream",
          "text": [
            "\rtrain batch [29/41]: loss 1629491.0"
          ],
          "name": "stdout"
        },
        {
          "output_type": "stream",
          "text": [
            "\r30it [04:21,  8.70s/it]"
          ],
          "name": "stderr"
        },
        {
          "output_type": "stream",
          "text": [
            "\rtrain batch [30/41]: loss 1899839.125"
          ],
          "name": "stdout"
        },
        {
          "output_type": "stream",
          "text": [
            "\r31it [04:29,  8.73s/it]"
          ],
          "name": "stderr"
        },
        {
          "output_type": "stream",
          "text": [
            "\rtrain batch [31/41]: loss 2683823.75"
          ],
          "name": "stdout"
        },
        {
          "output_type": "stream",
          "text": [
            "\r32it [04:38,  8.65s/it]"
          ],
          "name": "stderr"
        },
        {
          "output_type": "stream",
          "text": [
            "\rtrain batch [32/41]: loss 2286459.5"
          ],
          "name": "stdout"
        },
        {
          "output_type": "stream",
          "text": [
            "\r33it [04:47,  8.75s/it]"
          ],
          "name": "stderr"
        },
        {
          "output_type": "stream",
          "text": [
            "\rtrain batch [33/41]: loss 2116733.5"
          ],
          "name": "stdout"
        },
        {
          "output_type": "stream",
          "text": [
            "\r34it [04:56,  8.70s/it]"
          ],
          "name": "stderr"
        },
        {
          "output_type": "stream",
          "text": [
            "\rtrain batch [34/41]: loss 857431.3125"
          ],
          "name": "stdout"
        },
        {
          "output_type": "stream",
          "text": [
            "\r35it [05:04,  8.71s/it]"
          ],
          "name": "stderr"
        },
        {
          "output_type": "stream",
          "text": [
            "\rtrain batch [35/41]: loss 1293707.5"
          ],
          "name": "stdout"
        },
        {
          "output_type": "stream",
          "text": [
            "\r36it [05:13,  8.66s/it]"
          ],
          "name": "stderr"
        },
        {
          "output_type": "stream",
          "text": [
            "\rtrain batch [36/41]: loss 1224925.25"
          ],
          "name": "stdout"
        },
        {
          "output_type": "stream",
          "text": [
            "\r37it [05:21,  8.62s/it]"
          ],
          "name": "stderr"
        },
        {
          "output_type": "stream",
          "text": [
            "\rtrain batch [37/41]: loss 1983608.5"
          ],
          "name": "stdout"
        },
        {
          "output_type": "stream",
          "text": [
            "\r38it [05:30,  8.68s/it]"
          ],
          "name": "stderr"
        },
        {
          "output_type": "stream",
          "text": [
            "\rtrain batch [38/41]: loss 1322897.5"
          ],
          "name": "stdout"
        },
        {
          "output_type": "stream",
          "text": [
            "\r39it [05:39,  8.70s/it]"
          ],
          "name": "stderr"
        },
        {
          "output_type": "stream",
          "text": [
            "\rtrain batch [39/41]: loss 1458712.625"
          ],
          "name": "stdout"
        },
        {
          "output_type": "stream",
          "text": [
            "\r40it [05:47,  8.64s/it]"
          ],
          "name": "stderr"
        },
        {
          "output_type": "stream",
          "text": [
            "\rtrain batch [40/41]: loss 1519318.0"
          ],
          "name": "stdout"
        },
        {
          "output_type": "stream",
          "text": [
            "41it [05:54,  8.65s/it]"
          ],
          "name": "stderr"
        },
        {
          "output_type": "stream",
          "text": [
            "\rval batch [0/4]: loss 2652972.0"
          ],
          "name": "stdout"
        },
        {
          "output_type": "stream",
          "text": [
            "\n"
          ],
          "name": "stderr"
        },
        {
          "output_type": "stream",
          "text": [
            "test batch [4/5]: loss 247005.203125"
          ],
          "name": "stdout"
        },
        {
          "output_type": "stream",
          "text": [
            "\r0it [00:00, ?it/s]"
          ],
          "name": "stderr"
        },
        {
          "output_type": "stream",
          "text": [
            "\n",
            "Train loss: 1448088.6097560977, Train accuracy: 0.5649923086166382\n",
            "Val loss: 1499103.0, Val accuracy: 0.5625\n",
            "Test loss: 2157757.725, Test accuracy: 0.5256410241127014\n",
            "\n",
            "=============== Epoch: 10\n",
            "train batch [0/41]: loss 1751285.0"
          ],
          "name": "stdout"
        },
        {
          "output_type": "stream",
          "text": [
            "\r1it [00:08,  8.57s/it]"
          ],
          "name": "stderr"
        },
        {
          "output_type": "stream",
          "text": [
            "\rtrain batch [1/41]: loss 1168319.5"
          ],
          "name": "stdout"
        },
        {
          "output_type": "stream",
          "text": [
            "\r2it [00:17,  8.60s/it]"
          ],
          "name": "stderr"
        },
        {
          "output_type": "stream",
          "text": [
            "\rtrain batch [2/41]: loss 1557908.0"
          ],
          "name": "stdout"
        },
        {
          "output_type": "stream",
          "text": [
            "\r3it [00:25,  8.63s/it]"
          ],
          "name": "stderr"
        },
        {
          "output_type": "stream",
          "text": [
            "\rtrain batch [3/41]: loss 2386002.0"
          ],
          "name": "stdout"
        },
        {
          "output_type": "stream",
          "text": [
            "\r4it [00:34,  8.62s/it]"
          ],
          "name": "stderr"
        },
        {
          "output_type": "stream",
          "text": [
            "\rtrain batch [4/41]: loss 1953562.5"
          ],
          "name": "stdout"
        },
        {
          "output_type": "stream",
          "text": [
            "\r5it [00:43,  8.71s/it]"
          ],
          "name": "stderr"
        },
        {
          "output_type": "stream",
          "text": [
            "\rtrain batch [5/41]: loss 2587096.0"
          ],
          "name": "stdout"
        },
        {
          "output_type": "stream",
          "text": [
            "\r6it [00:52,  8.71s/it]"
          ],
          "name": "stderr"
        },
        {
          "output_type": "stream",
          "text": [
            "\rtrain batch [6/41]: loss 2137013.25"
          ],
          "name": "stdout"
        },
        {
          "output_type": "stream",
          "text": [
            "\r7it [01:00,  8.67s/it]"
          ],
          "name": "stderr"
        },
        {
          "output_type": "stream",
          "text": [
            "\rtrain batch [7/41]: loss 4992866.5"
          ],
          "name": "stdout"
        },
        {
          "output_type": "stream",
          "text": [
            "\r8it [01:09,  8.68s/it]"
          ],
          "name": "stderr"
        },
        {
          "output_type": "stream",
          "text": [
            "\rtrain batch [8/41]: loss 3453829.0"
          ],
          "name": "stdout"
        },
        {
          "output_type": "stream",
          "text": [
            "\r9it [01:18,  8.78s/it]"
          ],
          "name": "stderr"
        },
        {
          "output_type": "stream",
          "text": [
            "\rtrain batch [9/41]: loss 4429914.0"
          ],
          "name": "stdout"
        },
        {
          "output_type": "stream",
          "text": [
            "\r10it [01:27,  8.75s/it]"
          ],
          "name": "stderr"
        },
        {
          "output_type": "stream",
          "text": [
            "\rtrain batch [10/41]: loss 3331708.5"
          ],
          "name": "stdout"
        },
        {
          "output_type": "stream",
          "text": [
            "\r11it [01:35,  8.76s/it]"
          ],
          "name": "stderr"
        },
        {
          "output_type": "stream",
          "text": [
            "\rtrain batch [11/41]: loss 4271903.0"
          ],
          "name": "stdout"
        },
        {
          "output_type": "stream",
          "text": [
            "\r12it [01:44,  8.73s/it]"
          ],
          "name": "stderr"
        },
        {
          "output_type": "stream",
          "text": [
            "\rtrain batch [12/41]: loss 5225843.5"
          ],
          "name": "stdout"
        },
        {
          "output_type": "stream",
          "text": [
            "\r13it [01:53,  8.75s/it]"
          ],
          "name": "stderr"
        },
        {
          "output_type": "stream",
          "text": [
            "\rtrain batch [13/41]: loss 5058382.0"
          ],
          "name": "stdout"
        },
        {
          "output_type": "stream",
          "text": [
            "\r14it [02:02,  8.75s/it]"
          ],
          "name": "stderr"
        },
        {
          "output_type": "stream",
          "text": [
            "\rtrain batch [14/41]: loss 3203810.0"
          ],
          "name": "stdout"
        },
        {
          "output_type": "stream",
          "text": [
            "\r15it [02:10,  8.73s/it]"
          ],
          "name": "stderr"
        },
        {
          "output_type": "stream",
          "text": [
            "\rtrain batch [15/41]: loss 2953227.0"
          ],
          "name": "stdout"
        },
        {
          "output_type": "stream",
          "text": [
            "\r16it [02:19,  8.79s/it]"
          ],
          "name": "stderr"
        },
        {
          "output_type": "stream",
          "text": [
            "\rtrain batch [16/41]: loss 2258677.25"
          ],
          "name": "stdout"
        },
        {
          "output_type": "stream",
          "text": [
            "\r17it [02:28,  8.77s/it]"
          ],
          "name": "stderr"
        },
        {
          "output_type": "stream",
          "text": [
            "\rtrain batch [17/41]: loss 3947509.5"
          ],
          "name": "stdout"
        },
        {
          "output_type": "stream",
          "text": [
            "\r18it [02:37,  8.82s/it]"
          ],
          "name": "stderr"
        },
        {
          "output_type": "stream",
          "text": [
            "\rtrain batch [18/41]: loss 3806754.0"
          ],
          "name": "stdout"
        },
        {
          "output_type": "stream",
          "text": [
            "\r19it [02:46,  8.83s/it]"
          ],
          "name": "stderr"
        },
        {
          "output_type": "stream",
          "text": [
            "\rtrain batch [19/41]: loss 3320931.5"
          ],
          "name": "stdout"
        },
        {
          "output_type": "stream",
          "text": [
            "\r20it [02:54,  8.75s/it]"
          ],
          "name": "stderr"
        },
        {
          "output_type": "stream",
          "text": [
            "\rtrain batch [20/41]: loss 3271778.5"
          ],
          "name": "stdout"
        },
        {
          "output_type": "stream",
          "text": [
            "\r21it [03:03,  8.72s/it]"
          ],
          "name": "stderr"
        },
        {
          "output_type": "stream",
          "text": [
            "\rtrain batch [21/41]: loss 3681802.0"
          ],
          "name": "stdout"
        },
        {
          "output_type": "stream",
          "text": [
            "\r22it [03:12,  8.72s/it]"
          ],
          "name": "stderr"
        },
        {
          "output_type": "stream",
          "text": [
            "\rtrain batch [22/41]: loss 3790545.0"
          ],
          "name": "stdout"
        },
        {
          "output_type": "stream",
          "text": [
            "\r23it [03:20,  8.73s/it]"
          ],
          "name": "stderr"
        },
        {
          "output_type": "stream",
          "text": [
            "\rtrain batch [23/41]: loss 2865447.5"
          ],
          "name": "stdout"
        },
        {
          "output_type": "stream",
          "text": [
            "\r24it [03:29,  8.71s/it]"
          ],
          "name": "stderr"
        },
        {
          "output_type": "stream",
          "text": [
            "\rtrain batch [24/41]: loss 5447489.5"
          ],
          "name": "stdout"
        },
        {
          "output_type": "stream",
          "text": [
            "\r25it [03:38,  8.71s/it]"
          ],
          "name": "stderr"
        },
        {
          "output_type": "stream",
          "text": [
            "\rtrain batch [25/41]: loss 4412116.0"
          ],
          "name": "stdout"
        },
        {
          "output_type": "stream",
          "text": [
            "\r26it [03:47,  8.76s/it]"
          ],
          "name": "stderr"
        },
        {
          "output_type": "stream",
          "text": [
            "\rtrain batch [26/41]: loss 6324241.0"
          ],
          "name": "stdout"
        },
        {
          "output_type": "stream",
          "text": [
            "\r27it [03:55,  8.73s/it]"
          ],
          "name": "stderr"
        },
        {
          "output_type": "stream",
          "text": [
            "\rtrain batch [27/41]: loss 4894709.5"
          ],
          "name": "stdout"
        },
        {
          "output_type": "stream",
          "text": [
            "\r28it [04:04,  8.69s/it]"
          ],
          "name": "stderr"
        },
        {
          "output_type": "stream",
          "text": [
            "\rtrain batch [28/41]: loss 2997100.75"
          ],
          "name": "stdout"
        },
        {
          "output_type": "stream",
          "text": [
            "\r29it [04:12,  8.62s/it]"
          ],
          "name": "stderr"
        },
        {
          "output_type": "stream",
          "text": [
            "\rtrain batch [29/41]: loss 4763015.5"
          ],
          "name": "stdout"
        },
        {
          "output_type": "stream",
          "text": [
            "\r30it [04:21,  8.68s/it]"
          ],
          "name": "stderr"
        },
        {
          "output_type": "stream",
          "text": [
            "\rtrain batch [30/41]: loss 5691898.0"
          ],
          "name": "stdout"
        },
        {
          "output_type": "stream",
          "text": [
            "\r31it [04:30,  8.73s/it]"
          ],
          "name": "stderr"
        },
        {
          "output_type": "stream",
          "text": [
            "\rtrain batch [31/41]: loss 4350670.5"
          ],
          "name": "stdout"
        },
        {
          "output_type": "stream",
          "text": [
            "\r32it [04:39,  8.76s/it]"
          ],
          "name": "stderr"
        },
        {
          "output_type": "stream",
          "text": [
            "\rtrain batch [32/41]: loss 3675248.0"
          ],
          "name": "stdout"
        },
        {
          "output_type": "stream",
          "text": [
            "\r33it [04:48,  8.73s/it]"
          ],
          "name": "stderr"
        },
        {
          "output_type": "stream",
          "text": [
            "\rtrain batch [33/41]: loss 2567105.0"
          ],
          "name": "stdout"
        },
        {
          "output_type": "stream",
          "text": [
            "\r34it [04:56,  8.73s/it]"
          ],
          "name": "stderr"
        },
        {
          "output_type": "stream",
          "text": [
            "\rtrain batch [34/41]: loss 4070102.5"
          ],
          "name": "stdout"
        },
        {
          "output_type": "stream",
          "text": [
            "\r35it [05:05,  8.71s/it]"
          ],
          "name": "stderr"
        },
        {
          "output_type": "stream",
          "text": [
            "\rtrain batch [35/41]: loss 2790017.25"
          ],
          "name": "stdout"
        },
        {
          "output_type": "stream",
          "text": [
            "\r36it [05:14,  8.66s/it]"
          ],
          "name": "stderr"
        },
        {
          "output_type": "stream",
          "text": [
            "\rtrain batch [36/41]: loss 2899875.0"
          ],
          "name": "stdout"
        },
        {
          "output_type": "stream",
          "text": [
            "\r37it [05:22,  8.74s/it]"
          ],
          "name": "stderr"
        },
        {
          "output_type": "stream",
          "text": [
            "\rtrain batch [37/41]: loss 3927953.0"
          ],
          "name": "stdout"
        },
        {
          "output_type": "stream",
          "text": [
            "\r38it [05:31,  8.69s/it]"
          ],
          "name": "stderr"
        },
        {
          "output_type": "stream",
          "text": [
            "\rtrain batch [38/41]: loss 5727126.0"
          ],
          "name": "stdout"
        },
        {
          "output_type": "stream",
          "text": [
            "\r39it [05:40,  8.75s/it]"
          ],
          "name": "stderr"
        },
        {
          "output_type": "stream",
          "text": [
            "\rtrain batch [39/41]: loss 3734774.0"
          ],
          "name": "stdout"
        },
        {
          "output_type": "stream",
          "text": [
            "\r40it [05:49,  8.73s/it]"
          ],
          "name": "stderr"
        },
        {
          "output_type": "stream",
          "text": [
            "\rtrain batch [40/41]: loss 2717653.0"
          ],
          "name": "stdout"
        },
        {
          "output_type": "stream",
          "text": [
            "41it [05:55,  8.67s/it]"
          ],
          "name": "stderr"
        },
        {
          "output_type": "stream",
          "text": [
            "\rval batch [0/4]: loss 5276215.5"
          ],
          "name": "stdout"
        },
        {
          "output_type": "stream",
          "text": [
            "\n"
          ],
          "name": "stderr"
        },
        {
          "output_type": "stream",
          "text": [
            "test batch [4/5]: loss 1294839.75"
          ],
          "name": "stdout"
        },
        {
          "output_type": "stream",
          "text": [
            "\r0it [00:00, ?it/s]"
          ],
          "name": "stderr"
        },
        {
          "output_type": "stream",
          "text": [
            "\n",
            "Train loss: 3619444.076219512, Train accuracy: 0.6453220844268799\n",
            "Val loss: 2823634.875, Val accuracy: 0.625\n",
            "Test loss: 3570982.45, Test accuracy: 0.5368589758872986\n",
            "\n",
            "=============== Epoch: 11\n",
            "train batch [0/41]: loss 2178674.75"
          ],
          "name": "stdout"
        },
        {
          "output_type": "stream",
          "text": [
            "\r1it [00:08,  8.94s/it]"
          ],
          "name": "stderr"
        },
        {
          "output_type": "stream",
          "text": [
            "\rtrain batch [1/41]: loss 3186353.25"
          ],
          "name": "stdout"
        },
        {
          "output_type": "stream",
          "text": [
            "\r2it [00:17,  8.86s/it]"
          ],
          "name": "stderr"
        },
        {
          "output_type": "stream",
          "text": [
            "\rtrain batch [2/41]: loss 3779842.0"
          ],
          "name": "stdout"
        },
        {
          "output_type": "stream",
          "text": [
            "\r3it [00:26,  8.79s/it]"
          ],
          "name": "stderr"
        },
        {
          "output_type": "stream",
          "text": [
            "\rtrain batch [3/41]: loss 4157716.25"
          ],
          "name": "stdout"
        },
        {
          "output_type": "stream",
          "text": [
            "\r4it [00:35,  8.80s/it]"
          ],
          "name": "stderr"
        },
        {
          "output_type": "stream",
          "text": [
            "\rtrain batch [4/41]: loss 3602957.5"
          ],
          "name": "stdout"
        },
        {
          "output_type": "stream",
          "text": [
            "\r5it [00:43,  8.80s/it]"
          ],
          "name": "stderr"
        },
        {
          "output_type": "stream",
          "text": [
            "\rtrain batch [5/41]: loss 5338967.5"
          ],
          "name": "stdout"
        },
        {
          "output_type": "stream",
          "text": [
            "\r6it [00:52,  8.87s/it]"
          ],
          "name": "stderr"
        },
        {
          "output_type": "stream",
          "text": [
            "\rtrain batch [6/41]: loss 7677627.0"
          ],
          "name": "stdout"
        },
        {
          "output_type": "stream",
          "text": [
            "\r7it [01:01,  8.85s/it]"
          ],
          "name": "stderr"
        },
        {
          "output_type": "stream",
          "text": [
            "\rtrain batch [7/41]: loss 4098459.0"
          ],
          "name": "stdout"
        },
        {
          "output_type": "stream",
          "text": [
            "\r8it [01:10,  8.85s/it]"
          ],
          "name": "stderr"
        },
        {
          "output_type": "stream",
          "text": [
            "\rtrain batch [8/41]: loss 3152494.5"
          ],
          "name": "stdout"
        },
        {
          "output_type": "stream",
          "text": [
            "\r9it [01:19,  8.89s/it]"
          ],
          "name": "stderr"
        },
        {
          "output_type": "stream",
          "text": [
            "\rtrain batch [9/41]: loss 3664805.5"
          ],
          "name": "stdout"
        },
        {
          "output_type": "stream",
          "text": [
            "\r10it [01:28,  8.87s/it]"
          ],
          "name": "stderr"
        },
        {
          "output_type": "stream",
          "text": [
            "\rtrain batch [10/41]: loss 3153038.0"
          ],
          "name": "stdout"
        },
        {
          "output_type": "stream",
          "text": [
            "\r11it [01:37,  8.86s/it]"
          ],
          "name": "stderr"
        },
        {
          "output_type": "stream",
          "text": [
            "\rtrain batch [11/41]: loss 4735676.0"
          ],
          "name": "stdout"
        },
        {
          "output_type": "stream",
          "text": [
            "\r12it [01:45,  8.80s/it]"
          ],
          "name": "stderr"
        },
        {
          "output_type": "stream",
          "text": [
            "\rtrain batch [12/41]: loss 4072027.5"
          ],
          "name": "stdout"
        },
        {
          "output_type": "stream",
          "text": [
            "\r13it [01:54,  8.75s/it]"
          ],
          "name": "stderr"
        },
        {
          "output_type": "stream",
          "text": [
            "\rtrain batch [13/41]: loss 6969393.0"
          ],
          "name": "stdout"
        },
        {
          "output_type": "stream",
          "text": [
            "\r14it [02:03,  8.72s/it]"
          ],
          "name": "stderr"
        },
        {
          "output_type": "stream",
          "text": [
            "\rtrain batch [14/41]: loss 6737537.0"
          ],
          "name": "stdout"
        },
        {
          "output_type": "stream",
          "text": [
            "\r15it [02:11,  8.72s/it]"
          ],
          "name": "stderr"
        },
        {
          "output_type": "stream",
          "text": [
            "\rtrain batch [15/41]: loss 6304018.0"
          ],
          "name": "stdout"
        },
        {
          "output_type": "stream",
          "text": [
            "\r16it [02:20,  8.67s/it]"
          ],
          "name": "stderr"
        },
        {
          "output_type": "stream",
          "text": [
            "\rtrain batch [16/41]: loss 8362596.0"
          ],
          "name": "stdout"
        },
        {
          "output_type": "stream",
          "text": [
            "\r17it [02:28,  8.58s/it]"
          ],
          "name": "stderr"
        },
        {
          "output_type": "stream",
          "text": [
            "\rtrain batch [17/41]: loss 10228065.0"
          ],
          "name": "stdout"
        },
        {
          "output_type": "stream",
          "text": [
            "\r18it [02:37,  8.65s/it]"
          ],
          "name": "stderr"
        },
        {
          "output_type": "stream",
          "text": [
            "\rtrain batch [18/41]: loss 7542722.0"
          ],
          "name": "stdout"
        },
        {
          "output_type": "stream",
          "text": [
            "\r19it [02:46,  8.73s/it]"
          ],
          "name": "stderr"
        },
        {
          "output_type": "stream",
          "text": [
            "\rtrain batch [19/41]: loss 3390344.75"
          ],
          "name": "stdout"
        },
        {
          "output_type": "stream",
          "text": [
            "\r20it [02:55,  8.71s/it]"
          ],
          "name": "stderr"
        },
        {
          "output_type": "stream",
          "text": [
            "\rtrain batch [20/41]: loss 3842688.5"
          ],
          "name": "stdout"
        },
        {
          "output_type": "stream",
          "text": [
            "\r21it [03:03,  8.69s/it]"
          ],
          "name": "stderr"
        },
        {
          "output_type": "stream",
          "text": [
            "\rtrain batch [21/41]: loss 3555810.0"
          ],
          "name": "stdout"
        },
        {
          "output_type": "stream",
          "text": [
            "\r22it [03:12,  8.66s/it]"
          ],
          "name": "stderr"
        },
        {
          "output_type": "stream",
          "text": [
            "\rtrain batch [22/41]: loss 4030913.5"
          ],
          "name": "stdout"
        },
        {
          "output_type": "stream",
          "text": [
            "\r23it [03:20,  8.62s/it]"
          ],
          "name": "stderr"
        },
        {
          "output_type": "stream",
          "text": [
            "\rtrain batch [23/41]: loss 10227056.0"
          ],
          "name": "stdout"
        },
        {
          "output_type": "stream",
          "text": [
            "\r24it [03:29,  8.63s/it]"
          ],
          "name": "stderr"
        },
        {
          "output_type": "stream",
          "text": [
            "\rtrain batch [24/41]: loss 3142766.5"
          ],
          "name": "stdout"
        },
        {
          "output_type": "stream",
          "text": [
            "\r25it [03:38,  8.70s/it]"
          ],
          "name": "stderr"
        },
        {
          "output_type": "stream",
          "text": [
            "\rtrain batch [25/41]: loss 3446606.0"
          ],
          "name": "stdout"
        },
        {
          "output_type": "stream",
          "text": [
            "\r26it [03:47,  8.77s/it]"
          ],
          "name": "stderr"
        },
        {
          "output_type": "stream",
          "text": [
            "\rtrain batch [26/41]: loss 4007313.5"
          ],
          "name": "stdout"
        },
        {
          "output_type": "stream",
          "text": [
            "\r27it [03:56,  8.74s/it]"
          ],
          "name": "stderr"
        },
        {
          "output_type": "stream",
          "text": [
            "\rtrain batch [27/41]: loss 2020539.75"
          ],
          "name": "stdout"
        },
        {
          "output_type": "stream",
          "text": [
            "\r28it [04:04,  8.74s/it]"
          ],
          "name": "stderr"
        },
        {
          "output_type": "stream",
          "text": [
            "\rtrain batch [28/41]: loss 4538222.0"
          ],
          "name": "stdout"
        },
        {
          "output_type": "stream",
          "text": [
            "\r29it [04:13,  8.83s/it]"
          ],
          "name": "stderr"
        },
        {
          "output_type": "stream",
          "text": [
            "\rtrain batch [29/41]: loss 4958295.0"
          ],
          "name": "stdout"
        },
        {
          "output_type": "stream",
          "text": [
            "\r30it [04:22,  8.81s/it]"
          ],
          "name": "stderr"
        },
        {
          "output_type": "stream",
          "text": [
            "\rtrain batch [30/41]: loss 17187736.0"
          ],
          "name": "stdout"
        },
        {
          "output_type": "stream",
          "text": [
            "\r31it [04:31,  8.77s/it]"
          ],
          "name": "stderr"
        },
        {
          "output_type": "stream",
          "text": [
            "\rtrain batch [31/41]: loss 2581777.25"
          ],
          "name": "stdout"
        },
        {
          "output_type": "stream",
          "text": [
            "\r32it [04:39,  8.71s/it]"
          ],
          "name": "stderr"
        },
        {
          "output_type": "stream",
          "text": [
            "\rtrain batch [32/41]: loss 5493940.0"
          ],
          "name": "stdout"
        },
        {
          "output_type": "stream",
          "text": [
            "\r33it [04:48,  8.70s/it]"
          ],
          "name": "stderr"
        },
        {
          "output_type": "stream",
          "text": [
            "\rtrain batch [33/41]: loss 3206953.75"
          ],
          "name": "stdout"
        },
        {
          "output_type": "stream",
          "text": [
            "\r34it [04:56,  8.62s/it]"
          ],
          "name": "stderr"
        },
        {
          "output_type": "stream",
          "text": [
            "\rtrain batch [34/41]: loss 5136526.5"
          ],
          "name": "stdout"
        },
        {
          "output_type": "stream",
          "text": [
            "\r35it [05:05,  8.69s/it]"
          ],
          "name": "stderr"
        },
        {
          "output_type": "stream",
          "text": [
            "\rtrain batch [35/41]: loss 7199830.0"
          ],
          "name": "stdout"
        },
        {
          "output_type": "stream",
          "text": [
            "\r36it [05:14,  8.69s/it]"
          ],
          "name": "stderr"
        },
        {
          "output_type": "stream",
          "text": [
            "\rtrain batch [36/41]: loss 4355176.5"
          ],
          "name": "stdout"
        },
        {
          "output_type": "stream",
          "text": [
            "\r37it [05:23,  8.75s/it]"
          ],
          "name": "stderr"
        },
        {
          "output_type": "stream",
          "text": [
            "\rtrain batch [37/41]: loss 2494687.75"
          ],
          "name": "stdout"
        },
        {
          "output_type": "stream",
          "text": [
            "\r38it [05:31,  8.69s/it]"
          ],
          "name": "stderr"
        },
        {
          "output_type": "stream",
          "text": [
            "\rtrain batch [38/41]: loss 3315875.75"
          ],
          "name": "stdout"
        },
        {
          "output_type": "stream",
          "text": [
            "\r39it [05:40,  8.69s/it]"
          ],
          "name": "stderr"
        },
        {
          "output_type": "stream",
          "text": [
            "\rtrain batch [39/41]: loss 5141321.0"
          ],
          "name": "stdout"
        },
        {
          "output_type": "stream",
          "text": [
            "\r40it [05:49,  8.68s/it]"
          ],
          "name": "stderr"
        },
        {
          "output_type": "stream",
          "text": [
            "\rtrain batch [40/41]: loss 12934452.0"
          ],
          "name": "stdout"
        },
        {
          "output_type": "stream",
          "text": [
            "41it [05:56,  8.69s/it]"
          ],
          "name": "stderr"
        },
        {
          "output_type": "stream",
          "text": [
            "\rval batch [0/4]: loss 25053148.0"
          ],
          "name": "stdout"
        },
        {
          "output_type": "stream",
          "text": [
            "\n"
          ],
          "name": "stderr"
        },
        {
          "output_type": "stream",
          "text": [
            "test batch [4/5]: loss 596867.6875"
          ],
          "name": "stdout"
        },
        {
          "output_type": "stream",
          "text": [
            "\r0it [00:00, ?it/s]"
          ],
          "name": "stderr"
        },
        {
          "output_type": "stream",
          "text": [
            "\n",
            "Train loss: 5247605.015243903, Train accuracy: 0.620398759841919\n",
            "Val loss: 11831460.0, Val accuracy: 0.5\n",
            "Test loss: 8574050.175, Test accuracy: 0.5913461446762085\n",
            "\n",
            "=============== Epoch: 12\n",
            "train batch [0/41]: loss 5523321.0"
          ],
          "name": "stdout"
        },
        {
          "output_type": "stream",
          "text": [
            "\r1it [00:08,  8.58s/it]"
          ],
          "name": "stderr"
        },
        {
          "output_type": "stream",
          "text": [
            "\rtrain batch [1/41]: loss 6213285.0"
          ],
          "name": "stdout"
        },
        {
          "output_type": "stream",
          "text": [
            "\r2it [00:17,  8.66s/it]"
          ],
          "name": "stderr"
        },
        {
          "output_type": "stream",
          "text": [
            "\rtrain batch [2/41]: loss 6507491.0"
          ],
          "name": "stdout"
        },
        {
          "output_type": "stream",
          "text": [
            "\r3it [00:25,  8.62s/it]"
          ],
          "name": "stderr"
        },
        {
          "output_type": "stream",
          "text": [
            "\rtrain batch [3/41]: loss 8218945.5"
          ],
          "name": "stdout"
        },
        {
          "output_type": "stream",
          "text": [
            "\r4it [00:34,  8.65s/it]"
          ],
          "name": "stderr"
        },
        {
          "output_type": "stream",
          "text": [
            "\rtrain batch [4/41]: loss 7561940.0"
          ],
          "name": "stdout"
        },
        {
          "output_type": "stream",
          "text": [
            "\r5it [00:43,  8.57s/it]"
          ],
          "name": "stderr"
        },
        {
          "output_type": "stream",
          "text": [
            "\rtrain batch [5/41]: loss 11162893.0"
          ],
          "name": "stdout"
        },
        {
          "output_type": "stream",
          "text": [
            "\r6it [00:51,  8.60s/it]"
          ],
          "name": "stderr"
        },
        {
          "output_type": "stream",
          "text": [
            "\rtrain batch [6/41]: loss 4938254.5"
          ],
          "name": "stdout"
        },
        {
          "output_type": "stream",
          "text": [
            "\r7it [01:00,  8.62s/it]"
          ],
          "name": "stderr"
        },
        {
          "output_type": "stream",
          "text": [
            "\rtrain batch [7/41]: loss 8991272.0"
          ],
          "name": "stdout"
        },
        {
          "output_type": "stream",
          "text": [
            "\r8it [01:09,  8.70s/it]"
          ],
          "name": "stderr"
        },
        {
          "output_type": "stream",
          "text": [
            "\rtrain batch [8/41]: loss 6331151.0"
          ],
          "name": "stdout"
        },
        {
          "output_type": "stream",
          "text": [
            "\r9it [01:17,  8.69s/it]"
          ],
          "name": "stderr"
        },
        {
          "output_type": "stream",
          "text": [
            "\rtrain batch [9/41]: loss 9317236.0"
          ],
          "name": "stdout"
        },
        {
          "output_type": "stream",
          "text": [
            "\r10it [01:26,  8.70s/it]"
          ],
          "name": "stderr"
        },
        {
          "output_type": "stream",
          "text": [
            "\rtrain batch [10/41]: loss 8996358.0"
          ],
          "name": "stdout"
        },
        {
          "output_type": "stream",
          "text": [
            "\r11it [01:35,  8.72s/it]"
          ],
          "name": "stderr"
        },
        {
          "output_type": "stream",
          "text": [
            "\rtrain batch [11/41]: loss 6348316.0"
          ],
          "name": "stdout"
        },
        {
          "output_type": "stream",
          "text": [
            "\r12it [01:44,  8.71s/it]"
          ],
          "name": "stderr"
        },
        {
          "output_type": "stream",
          "text": [
            "\rtrain batch [12/41]: loss 3941159.5"
          ],
          "name": "stdout"
        },
        {
          "output_type": "stream",
          "text": [
            "\r13it [01:52,  8.69s/it]"
          ],
          "name": "stderr"
        },
        {
          "output_type": "stream",
          "text": [
            "\rtrain batch [13/41]: loss 11414114.0"
          ],
          "name": "stdout"
        },
        {
          "output_type": "stream",
          "text": [
            "\r14it [02:01,  8.61s/it]"
          ],
          "name": "stderr"
        },
        {
          "output_type": "stream",
          "text": [
            "\rtrain batch [14/41]: loss 4576180.0"
          ],
          "name": "stdout"
        },
        {
          "output_type": "stream",
          "text": [
            "\r15it [02:09,  8.67s/it]"
          ],
          "name": "stderr"
        },
        {
          "output_type": "stream",
          "text": [
            "\rtrain batch [15/41]: loss 6274196.5"
          ],
          "name": "stdout"
        },
        {
          "output_type": "stream",
          "text": [
            "\r16it [02:18,  8.71s/it]"
          ],
          "name": "stderr"
        },
        {
          "output_type": "stream",
          "text": [
            "\rtrain batch [16/41]: loss 6336918.0"
          ],
          "name": "stdout"
        },
        {
          "output_type": "stream",
          "text": [
            "\r17it [02:27,  8.71s/it]"
          ],
          "name": "stderr"
        },
        {
          "output_type": "stream",
          "text": [
            "\rtrain batch [17/41]: loss 10042823.0"
          ],
          "name": "stdout"
        },
        {
          "output_type": "stream",
          "text": [
            "\r18it [02:36,  8.69s/it]"
          ],
          "name": "stderr"
        },
        {
          "output_type": "stream",
          "text": [
            "\rtrain batch [18/41]: loss 21849654.0"
          ],
          "name": "stdout"
        },
        {
          "output_type": "stream",
          "text": [
            "\r19it [02:44,  8.68s/it]"
          ],
          "name": "stderr"
        },
        {
          "output_type": "stream",
          "text": [
            "\rtrain batch [19/41]: loss 10165982.0"
          ],
          "name": "stdout"
        },
        {
          "output_type": "stream",
          "text": [
            "\r20it [02:53,  8.64s/it]"
          ],
          "name": "stderr"
        },
        {
          "output_type": "stream",
          "text": [
            "\rtrain batch [20/41]: loss 18086792.0"
          ],
          "name": "stdout"
        },
        {
          "output_type": "stream",
          "text": [
            "\r21it [03:01,  8.59s/it]"
          ],
          "name": "stderr"
        },
        {
          "output_type": "stream",
          "text": [
            "\rtrain batch [21/41]: loss 11972079.0"
          ],
          "name": "stdout"
        },
        {
          "output_type": "stream",
          "text": [
            "\r22it [03:10,  8.63s/it]"
          ],
          "name": "stderr"
        },
        {
          "output_type": "stream",
          "text": [
            "\rtrain batch [22/41]: loss 15159497.0"
          ],
          "name": "stdout"
        },
        {
          "output_type": "stream",
          "text": [
            "\r23it [03:19,  8.69s/it]"
          ],
          "name": "stderr"
        },
        {
          "output_type": "stream",
          "text": [
            "\rtrain batch [23/41]: loss 14269516.0"
          ],
          "name": "stdout"
        },
        {
          "output_type": "stream",
          "text": [
            "\r24it [03:28,  8.78s/it]"
          ],
          "name": "stderr"
        },
        {
          "output_type": "stream",
          "text": [
            "\rtrain batch [24/41]: loss 12220014.0"
          ],
          "name": "stdout"
        },
        {
          "output_type": "stream",
          "text": [
            "\r25it [03:37,  8.80s/it]"
          ],
          "name": "stderr"
        },
        {
          "output_type": "stream",
          "text": [
            "\rtrain batch [25/41]: loss 10341790.0"
          ],
          "name": "stdout"
        },
        {
          "output_type": "stream",
          "text": [
            "\r26it [03:45,  8.70s/it]"
          ],
          "name": "stderr"
        },
        {
          "output_type": "stream",
          "text": [
            "\rtrain batch [26/41]: loss 13754211.0"
          ],
          "name": "stdout"
        },
        {
          "output_type": "stream",
          "text": [
            "\r27it [03:54,  8.71s/it]"
          ],
          "name": "stderr"
        },
        {
          "output_type": "stream",
          "text": [
            "\rtrain batch [27/41]: loss 11457444.0"
          ],
          "name": "stdout"
        },
        {
          "output_type": "stream",
          "text": [
            "\r28it [04:03,  8.91s/it]"
          ],
          "name": "stderr"
        },
        {
          "output_type": "stream",
          "text": [
            "\rtrain batch [28/41]: loss 7302183.0"
          ],
          "name": "stdout"
        },
        {
          "output_type": "stream",
          "text": [
            "\r29it [04:12,  8.89s/it]"
          ],
          "name": "stderr"
        },
        {
          "output_type": "stream",
          "text": [
            "\rtrain batch [29/41]: loss 8475883.0"
          ],
          "name": "stdout"
        },
        {
          "output_type": "stream",
          "text": [
            "\r30it [04:21,  8.84s/it]"
          ],
          "name": "stderr"
        },
        {
          "output_type": "stream",
          "text": [
            "\rtrain batch [30/41]: loss 7483785.5"
          ],
          "name": "stdout"
        },
        {
          "output_type": "stream",
          "text": [
            "\r31it [04:30,  8.84s/it]"
          ],
          "name": "stderr"
        },
        {
          "output_type": "stream",
          "text": [
            "\rtrain batch [31/41]: loss 20938102.0"
          ],
          "name": "stdout"
        },
        {
          "output_type": "stream",
          "text": [
            "\r32it [04:38,  8.76s/it]"
          ],
          "name": "stderr"
        },
        {
          "output_type": "stream",
          "text": [
            "\rtrain batch [32/41]: loss 22490160.0"
          ],
          "name": "stdout"
        },
        {
          "output_type": "stream",
          "text": [
            "\r33it [04:47,  8.77s/it]"
          ],
          "name": "stderr"
        },
        {
          "output_type": "stream",
          "text": [
            "\rtrain batch [33/41]: loss 9450411.0"
          ],
          "name": "stdout"
        },
        {
          "output_type": "stream",
          "text": [
            "\r34it [04:56,  8.75s/it]"
          ],
          "name": "stderr"
        },
        {
          "output_type": "stream",
          "text": [
            "\rtrain batch [34/41]: loss 20990586.0"
          ],
          "name": "stdout"
        },
        {
          "output_type": "stream",
          "text": [
            "\r35it [05:04,  8.73s/it]"
          ],
          "name": "stderr"
        },
        {
          "output_type": "stream",
          "text": [
            "\rtrain batch [35/41]: loss 14230309.0"
          ],
          "name": "stdout"
        },
        {
          "output_type": "stream",
          "text": [
            "\r36it [05:13,  8.72s/it]"
          ],
          "name": "stderr"
        },
        {
          "output_type": "stream",
          "text": [
            "\rtrain batch [36/41]: loss 10097728.0"
          ],
          "name": "stdout"
        },
        {
          "output_type": "stream",
          "text": [
            "\r37it [05:22,  8.79s/it]"
          ],
          "name": "stderr"
        },
        {
          "output_type": "stream",
          "text": [
            "\rtrain batch [37/41]: loss 8324456.0"
          ],
          "name": "stdout"
        },
        {
          "output_type": "stream",
          "text": [
            "\r38it [05:31,  8.83s/it]"
          ],
          "name": "stderr"
        },
        {
          "output_type": "stream",
          "text": [
            "\rtrain batch [38/41]: loss 8907314.0"
          ],
          "name": "stdout"
        },
        {
          "output_type": "stream",
          "text": [
            "\r39it [05:40,  8.84s/it]"
          ],
          "name": "stderr"
        },
        {
          "output_type": "stream",
          "text": [
            "\rtrain batch [39/41]: loss 8462122.0"
          ],
          "name": "stdout"
        },
        {
          "output_type": "stream",
          "text": [
            "\r40it [05:49,  8.77s/it]"
          ],
          "name": "stderr"
        },
        {
          "output_type": "stream",
          "text": [
            "\rtrain batch [40/41]: loss 11543507.0"
          ],
          "name": "stdout"
        },
        {
          "output_type": "stream",
          "text": [
            "41it [05:55,  8.68s/it]"
          ],
          "name": "stderr"
        },
        {
          "output_type": "stream",
          "text": [
            "\rval batch [0/4]: loss 19750952.0"
          ],
          "name": "stdout"
        },
        {
          "output_type": "stream",
          "text": [
            "\n"
          ],
          "name": "stderr"
        },
        {
          "output_type": "stream",
          "text": [
            "test batch [4/5]: loss 22949182.0"
          ],
          "name": "stdout"
        },
        {
          "output_type": "stream",
          "text": [
            "\r0it [00:00, ?it/s]"
          ],
          "name": "stderr"
        },
        {
          "output_type": "stream",
          "text": [
            "\n",
            "Train loss: 10504131.18292683, Train accuracy: 0.6468558311462402\n",
            "Val loss: 26735658.5, Val accuracy: 0.375\n",
            "Test loss: 19687790.4, Test accuracy: 0.3830128312110901\n",
            "\n",
            "=============== Epoch: 13\n",
            "train batch [0/41]: loss 18126604.0"
          ],
          "name": "stdout"
        },
        {
          "output_type": "stream",
          "text": [
            "\r1it [00:08,  8.80s/it]"
          ],
          "name": "stderr"
        },
        {
          "output_type": "stream",
          "text": [
            "\rtrain batch [1/41]: loss 12167418.0"
          ],
          "name": "stdout"
        },
        {
          "output_type": "stream",
          "text": [
            "\r2it [00:17,  8.82s/it]"
          ],
          "name": "stderr"
        },
        {
          "output_type": "stream",
          "text": [
            "\rtrain batch [2/41]: loss 9646840.0"
          ],
          "name": "stdout"
        },
        {
          "output_type": "stream",
          "text": [
            "\r3it [00:26,  8.79s/it]"
          ],
          "name": "stderr"
        },
        {
          "output_type": "stream",
          "text": [
            "\rtrain batch [3/41]: loss 22581972.0"
          ],
          "name": "stdout"
        },
        {
          "output_type": "stream",
          "text": [
            "\r4it [00:35,  8.79s/it]"
          ],
          "name": "stderr"
        },
        {
          "output_type": "stream",
          "text": [
            "\rtrain batch [4/41]: loss 14563440.0"
          ],
          "name": "stdout"
        },
        {
          "output_type": "stream",
          "text": [
            "\r5it [00:44,  8.84s/it]"
          ],
          "name": "stderr"
        },
        {
          "output_type": "stream",
          "text": [
            "\rtrain batch [5/41]: loss 10501926.0"
          ],
          "name": "stdout"
        },
        {
          "output_type": "stream",
          "text": [
            "\r6it [00:52,  8.78s/it]"
          ],
          "name": "stderr"
        },
        {
          "output_type": "stream",
          "text": [
            "\rtrain batch [6/41]: loss 36415264.0"
          ],
          "name": "stdout"
        },
        {
          "output_type": "stream",
          "text": [
            "\r7it [01:01,  8.78s/it]"
          ],
          "name": "stderr"
        },
        {
          "output_type": "stream",
          "text": [
            "\rtrain batch [7/41]: loss 53876976.0"
          ],
          "name": "stdout"
        },
        {
          "output_type": "stream",
          "text": [
            "\r8it [01:10,  8.69s/it]"
          ],
          "name": "stderr"
        },
        {
          "output_type": "stream",
          "text": [
            "\rtrain batch [8/41]: loss 21870814.0"
          ],
          "name": "stdout"
        },
        {
          "output_type": "stream",
          "text": [
            "\r9it [01:18,  8.76s/it]"
          ],
          "name": "stderr"
        },
        {
          "output_type": "stream",
          "text": [
            "\rtrain batch [9/41]: loss 26131540.0"
          ],
          "name": "stdout"
        },
        {
          "output_type": "stream",
          "text": [
            "\r10it [01:27,  8.74s/it]"
          ],
          "name": "stderr"
        },
        {
          "output_type": "stream",
          "text": [
            "\rtrain batch [10/41]: loss 22832100.0"
          ],
          "name": "stdout"
        },
        {
          "output_type": "stream",
          "text": [
            "\r11it [01:36,  8.73s/it]"
          ],
          "name": "stderr"
        },
        {
          "output_type": "stream",
          "text": [
            "\rtrain batch [11/41]: loss 20171052.0"
          ],
          "name": "stdout"
        },
        {
          "output_type": "stream",
          "text": [
            "\r12it [01:45,  8.77s/it]"
          ],
          "name": "stderr"
        },
        {
          "output_type": "stream",
          "text": [
            "\rtrain batch [12/41]: loss 17294204.0"
          ],
          "name": "stdout"
        },
        {
          "output_type": "stream",
          "text": [
            "\r13it [01:54,  8.82s/it]"
          ],
          "name": "stderr"
        },
        {
          "output_type": "stream",
          "text": [
            "\rtrain batch [13/41]: loss 12697629.0"
          ],
          "name": "stdout"
        },
        {
          "output_type": "stream",
          "text": [
            "\r14it [02:02,  8.77s/it]"
          ],
          "name": "stderr"
        },
        {
          "output_type": "stream",
          "text": [
            "\rtrain batch [14/41]: loss 13194411.0"
          ],
          "name": "stdout"
        },
        {
          "output_type": "stream",
          "text": [
            "\r15it [02:11,  8.81s/it]"
          ],
          "name": "stderr"
        },
        {
          "output_type": "stream",
          "text": [
            "\rtrain batch [15/41]: loss 17892758.0"
          ],
          "name": "stdout"
        },
        {
          "output_type": "stream",
          "text": [
            "\r16it [02:20,  8.75s/it]"
          ],
          "name": "stderr"
        },
        {
          "output_type": "stream",
          "text": [
            "\rtrain batch [16/41]: loss 13008224.0"
          ],
          "name": "stdout"
        },
        {
          "output_type": "stream",
          "text": [
            "\r17it [02:29,  8.73s/it]"
          ],
          "name": "stderr"
        },
        {
          "output_type": "stream",
          "text": [
            "\rtrain batch [17/41]: loss 11494074.0"
          ],
          "name": "stdout"
        },
        {
          "output_type": "stream",
          "text": [
            "\r18it [02:37,  8.75s/it]"
          ],
          "name": "stderr"
        },
        {
          "output_type": "stream",
          "text": [
            "\rtrain batch [18/41]: loss 26360684.0"
          ],
          "name": "stdout"
        },
        {
          "output_type": "stream",
          "text": [
            "\r19it [02:46,  8.69s/it]"
          ],
          "name": "stderr"
        },
        {
          "output_type": "stream",
          "text": [
            "\rtrain batch [19/41]: loss 16385827.0"
          ],
          "name": "stdout"
        },
        {
          "output_type": "stream",
          "text": [
            "\r20it [02:55,  8.69s/it]"
          ],
          "name": "stderr"
        },
        {
          "output_type": "stream",
          "text": [
            "\rtrain batch [20/41]: loss 23112224.0"
          ],
          "name": "stdout"
        },
        {
          "output_type": "stream",
          "text": [
            "\r21it [03:03,  8.68s/it]"
          ],
          "name": "stderr"
        },
        {
          "output_type": "stream",
          "text": [
            "\rtrain batch [21/41]: loss 16780264.0"
          ],
          "name": "stdout"
        },
        {
          "output_type": "stream",
          "text": [
            "\r22it [03:12,  8.76s/it]"
          ],
          "name": "stderr"
        },
        {
          "output_type": "stream",
          "text": [
            "\rtrain batch [22/41]: loss 12826260.0"
          ],
          "name": "stdout"
        },
        {
          "output_type": "stream",
          "text": [
            "\r23it [03:21,  8.72s/it]"
          ],
          "name": "stderr"
        },
        {
          "output_type": "stream",
          "text": [
            "\rtrain batch [23/41]: loss 53689216.0"
          ],
          "name": "stdout"
        },
        {
          "output_type": "stream",
          "text": [
            "\r24it [03:29,  8.71s/it]"
          ],
          "name": "stderr"
        },
        {
          "output_type": "stream",
          "text": [
            "\rtrain batch [24/41]: loss 14667862.0"
          ],
          "name": "stdout"
        },
        {
          "output_type": "stream",
          "text": [
            "\r25it [03:38,  8.68s/it]"
          ],
          "name": "stderr"
        },
        {
          "output_type": "stream",
          "text": [
            "\rtrain batch [25/41]: loss 17609618.0"
          ],
          "name": "stdout"
        },
        {
          "output_type": "stream",
          "text": [
            "\r26it [03:47,  8.79s/it]"
          ],
          "name": "stderr"
        },
        {
          "output_type": "stream",
          "text": [
            "\rtrain batch [26/41]: loss 19443458.0"
          ],
          "name": "stdout"
        },
        {
          "output_type": "stream",
          "text": [
            "\r27it [03:56,  8.77s/it]"
          ],
          "name": "stderr"
        },
        {
          "output_type": "stream",
          "text": [
            "\rtrain batch [27/41]: loss 24299820.0"
          ],
          "name": "stdout"
        },
        {
          "output_type": "stream",
          "text": [
            "\r28it [04:05,  8.78s/it]"
          ],
          "name": "stderr"
        },
        {
          "output_type": "stream",
          "text": [
            "\rtrain batch [28/41]: loss 12673660.0"
          ],
          "name": "stdout"
        },
        {
          "output_type": "stream",
          "text": [
            "\r29it [04:14,  8.81s/it]"
          ],
          "name": "stderr"
        },
        {
          "output_type": "stream",
          "text": [
            "\rtrain batch [29/41]: loss 20572380.0"
          ],
          "name": "stdout"
        },
        {
          "output_type": "stream",
          "text": [
            "\r30it [04:23,  8.89s/it]"
          ],
          "name": "stderr"
        },
        {
          "output_type": "stream",
          "text": [
            "\rtrain batch [30/41]: loss 14592592.0"
          ],
          "name": "stdout"
        },
        {
          "output_type": "stream",
          "text": [
            "\r31it [04:31,  8.85s/it]"
          ],
          "name": "stderr"
        },
        {
          "output_type": "stream",
          "text": [
            "\rtrain batch [31/41]: loss 81192736.0"
          ],
          "name": "stdout"
        },
        {
          "output_type": "stream",
          "text": [
            "\r32it [04:40,  8.75s/it]"
          ],
          "name": "stderr"
        },
        {
          "output_type": "stream",
          "text": [
            "\rtrain batch [32/41]: loss 58587988.0"
          ],
          "name": "stdout"
        },
        {
          "output_type": "stream",
          "text": [
            "\r33it [04:49,  8.79s/it]"
          ],
          "name": "stderr"
        },
        {
          "output_type": "stream",
          "text": [
            "\rtrain batch [33/41]: loss 61543628.0"
          ],
          "name": "stdout"
        },
        {
          "output_type": "stream",
          "text": [
            "\r34it [04:57,  8.67s/it]"
          ],
          "name": "stderr"
        },
        {
          "output_type": "stream",
          "text": [
            "\rtrain batch [34/41]: loss 15295662.0"
          ],
          "name": "stdout"
        },
        {
          "output_type": "stream",
          "text": [
            "\r35it [05:06,  8.63s/it]"
          ],
          "name": "stderr"
        },
        {
          "output_type": "stream",
          "text": [
            "\rtrain batch [35/41]: loss 15336714.0"
          ],
          "name": "stdout"
        },
        {
          "output_type": "stream",
          "text": [
            "\r36it [05:15,  8.68s/it]"
          ],
          "name": "stderr"
        },
        {
          "output_type": "stream",
          "text": [
            "\rtrain batch [36/41]: loss 45824148.0"
          ],
          "name": "stdout"
        },
        {
          "output_type": "stream",
          "text": [
            "\r37it [05:23,  8.67s/it]"
          ],
          "name": "stderr"
        },
        {
          "output_type": "stream",
          "text": [
            "\rtrain batch [37/41]: loss 16163492.0"
          ],
          "name": "stdout"
        },
        {
          "output_type": "stream",
          "text": [
            "\r38it [05:32,  8.70s/it]"
          ],
          "name": "stderr"
        },
        {
          "output_type": "stream",
          "text": [
            "\rtrain batch [38/41]: loss 59724528.0"
          ],
          "name": "stdout"
        },
        {
          "output_type": "stream",
          "text": [
            "\r39it [05:40,  8.62s/it]"
          ],
          "name": "stderr"
        },
        {
          "output_type": "stream",
          "text": [
            "\rtrain batch [39/41]: loss 39835936.0"
          ],
          "name": "stdout"
        },
        {
          "output_type": "stream",
          "text": [
            "\r40it [05:49,  8.68s/it]"
          ],
          "name": "stderr"
        },
        {
          "output_type": "stream",
          "text": [
            "\rtrain batch [40/41]: loss 80349112.0"
          ],
          "name": "stdout"
        },
        {
          "output_type": "stream",
          "text": [
            "41it [05:56,  8.70s/it]"
          ],
          "name": "stderr"
        },
        {
          "output_type": "stream",
          "text": [
            "\rval batch [0/4]: loss 9562760.0"
          ],
          "name": "stdout"
        },
        {
          "output_type": "stream",
          "text": [
            "\n"
          ],
          "name": "stderr"
        },
        {
          "output_type": "stream",
          "text": [
            "test batch [4/5]: loss 47236856.0"
          ],
          "name": "stdout"
        },
        {
          "output_type": "stream",
          "text": [
            "\r0it [00:00, ?it/s]"
          ],
          "name": "stderr"
        },
        {
          "output_type": "stream",
          "text": [
            "\n",
            "Train loss: 26861830.902439024, Train accuracy: 0.5391104221343994\n",
            "Val loss: 31563468.0, Val accuracy: 0.625\n",
            "Test loss: 34267047.2, Test accuracy: 0.5544871687889099\n",
            "\n",
            "=============== Epoch: 14\n",
            "train batch [0/41]: loss 40364552.0"
          ],
          "name": "stdout"
        },
        {
          "output_type": "stream",
          "text": [
            "\r1it [00:08,  8.62s/it]"
          ],
          "name": "stderr"
        },
        {
          "output_type": "stream",
          "text": [
            "\rtrain batch [1/41]: loss 17204856.0"
          ],
          "name": "stdout"
        },
        {
          "output_type": "stream",
          "text": [
            "\r2it [00:17,  8.68s/it]"
          ],
          "name": "stderr"
        },
        {
          "output_type": "stream",
          "text": [
            "\rtrain batch [2/41]: loss 28356984.0"
          ],
          "name": "stdout"
        },
        {
          "output_type": "stream",
          "text": [
            "\r3it [00:26,  8.70s/it]"
          ],
          "name": "stderr"
        },
        {
          "output_type": "stream",
          "text": [
            "\rtrain batch [3/41]: loss 27581000.0"
          ],
          "name": "stdout"
        },
        {
          "output_type": "stream",
          "text": [
            "\r4it [00:34,  8.72s/it]"
          ],
          "name": "stderr"
        },
        {
          "output_type": "stream",
          "text": [
            "\rtrain batch [4/41]: loss 30443400.0"
          ],
          "name": "stdout"
        },
        {
          "output_type": "stream",
          "text": [
            "\r5it [00:43,  8.72s/it]"
          ],
          "name": "stderr"
        },
        {
          "output_type": "stream",
          "text": [
            "\rtrain batch [5/41]: loss 35110312.0"
          ],
          "name": "stdout"
        },
        {
          "output_type": "stream",
          "text": [
            "\r6it [00:52,  8.78s/it]"
          ],
          "name": "stderr"
        },
        {
          "output_type": "stream",
          "text": [
            "\rtrain batch [6/41]: loss 25191046.0"
          ],
          "name": "stdout"
        },
        {
          "output_type": "stream",
          "text": [
            "\r7it [01:01,  8.72s/it]"
          ],
          "name": "stderr"
        },
        {
          "output_type": "stream",
          "text": [
            "\rtrain batch [7/41]: loss 39271388.0"
          ],
          "name": "stdout"
        },
        {
          "output_type": "stream",
          "text": [
            "\r8it [01:10,  8.75s/it]"
          ],
          "name": "stderr"
        },
        {
          "output_type": "stream",
          "text": [
            "\rtrain batch [8/41]: loss 44048884.0"
          ],
          "name": "stdout"
        },
        {
          "output_type": "stream",
          "text": [
            "\r9it [01:18,  8.73s/it]"
          ],
          "name": "stderr"
        },
        {
          "output_type": "stream",
          "text": [
            "\rtrain batch [9/41]: loss 84540824.0"
          ],
          "name": "stdout"
        },
        {
          "output_type": "stream",
          "text": [
            "\r10it [01:27,  8.71s/it]"
          ],
          "name": "stderr"
        },
        {
          "output_type": "stream",
          "text": [
            "\rtrain batch [10/41]: loss 39273468.0"
          ],
          "name": "stdout"
        },
        {
          "output_type": "stream",
          "text": [
            "\r11it [01:36,  8.71s/it]"
          ],
          "name": "stderr"
        },
        {
          "output_type": "stream",
          "text": [
            "\rtrain batch [11/41]: loss 31269168.0"
          ],
          "name": "stdout"
        },
        {
          "output_type": "stream",
          "text": [
            "\r12it [01:44,  8.68s/it]"
          ],
          "name": "stderr"
        },
        {
          "output_type": "stream",
          "text": [
            "\rtrain batch [12/41]: loss 43503688.0"
          ],
          "name": "stdout"
        },
        {
          "output_type": "stream",
          "text": [
            "\r13it [01:53,  8.67s/it]"
          ],
          "name": "stderr"
        },
        {
          "output_type": "stream",
          "text": [
            "\rtrain batch [13/41]: loss 50887200.0"
          ],
          "name": "stdout"
        },
        {
          "output_type": "stream",
          "text": [
            "\r14it [02:02,  8.69s/it]"
          ],
          "name": "stderr"
        },
        {
          "output_type": "stream",
          "text": [
            "\rtrain batch [14/41]: loss 57517732.0"
          ],
          "name": "stdout"
        },
        {
          "output_type": "stream",
          "text": [
            "\r15it [02:10,  8.77s/it]"
          ],
          "name": "stderr"
        },
        {
          "output_type": "stream",
          "text": [
            "\rtrain batch [15/41]: loss 26637770.0"
          ],
          "name": "stdout"
        },
        {
          "output_type": "stream",
          "text": [
            "\r16it [02:19,  8.66s/it]"
          ],
          "name": "stderr"
        },
        {
          "output_type": "stream",
          "text": [
            "\rtrain batch [16/41]: loss 74624272.0"
          ],
          "name": "stdout"
        },
        {
          "output_type": "stream",
          "text": [
            "\r17it [02:28,  8.74s/it]"
          ],
          "name": "stderr"
        },
        {
          "output_type": "stream",
          "text": [
            "\rtrain batch [17/41]: loss 39770200.0"
          ],
          "name": "stdout"
        },
        {
          "output_type": "stream",
          "text": [
            "\r18it [02:36,  8.71s/it]"
          ],
          "name": "stderr"
        },
        {
          "output_type": "stream",
          "text": [
            "\rtrain batch [18/41]: loss 81562840.0"
          ],
          "name": "stdout"
        },
        {
          "output_type": "stream",
          "text": [
            "\r19it [02:45,  8.69s/it]"
          ],
          "name": "stderr"
        },
        {
          "output_type": "stream",
          "text": [
            "\rtrain batch [19/41]: loss 38381952.0"
          ],
          "name": "stdout"
        },
        {
          "output_type": "stream",
          "text": [
            "\r20it [02:54,  8.75s/it]"
          ],
          "name": "stderr"
        },
        {
          "output_type": "stream",
          "text": [
            "\rtrain batch [20/41]: loss 62300504.0"
          ],
          "name": "stdout"
        },
        {
          "output_type": "stream",
          "text": [
            "\r21it [03:03,  8.73s/it]"
          ],
          "name": "stderr"
        },
        {
          "output_type": "stream",
          "text": [
            "\rtrain batch [21/41]: loss 47626872.0"
          ],
          "name": "stdout"
        },
        {
          "output_type": "stream",
          "text": [
            "\r22it [03:11,  8.67s/it]"
          ],
          "name": "stderr"
        },
        {
          "output_type": "stream",
          "text": [
            "\rtrain batch [22/41]: loss 49660328.0"
          ],
          "name": "stdout"
        },
        {
          "output_type": "stream",
          "text": [
            "\r23it [03:20,  8.65s/it]"
          ],
          "name": "stderr"
        },
        {
          "output_type": "stream",
          "text": [
            "\rtrain batch [23/41]: loss 52053996.0"
          ],
          "name": "stdout"
        },
        {
          "output_type": "stream",
          "text": [
            "\r24it [03:28,  8.65s/it]"
          ],
          "name": "stderr"
        },
        {
          "output_type": "stream",
          "text": [
            "\rtrain batch [24/41]: loss 59802952.0"
          ],
          "name": "stdout"
        },
        {
          "output_type": "stream",
          "text": [
            "\r25it [03:37,  8.66s/it]"
          ],
          "name": "stderr"
        },
        {
          "output_type": "stream",
          "text": [
            "\rtrain batch [25/41]: loss 31216880.0"
          ],
          "name": "stdout"
        },
        {
          "output_type": "stream",
          "text": [
            "\r26it [03:46,  8.65s/it]"
          ],
          "name": "stderr"
        },
        {
          "output_type": "stream",
          "text": [
            "\rtrain batch [26/41]: loss 116618576.0"
          ],
          "name": "stdout"
        },
        {
          "output_type": "stream",
          "text": [
            "\r27it [03:55,  8.76s/it]"
          ],
          "name": "stderr"
        },
        {
          "output_type": "stream",
          "text": [
            "\rtrain batch [27/41]: loss 72227216.0"
          ],
          "name": "stdout"
        },
        {
          "output_type": "stream",
          "text": [
            "\r28it [04:04,  8.78s/it]"
          ],
          "name": "stderr"
        },
        {
          "output_type": "stream",
          "text": [
            "\rtrain batch [28/41]: loss 84770872.0"
          ],
          "name": "stdout"
        },
        {
          "output_type": "stream",
          "text": [
            "\r29it [04:12,  8.77s/it]"
          ],
          "name": "stderr"
        },
        {
          "output_type": "stream",
          "text": [
            "\rtrain batch [29/41]: loss 87538192.0"
          ],
          "name": "stdout"
        },
        {
          "output_type": "stream",
          "text": [
            "\r30it [04:21,  8.75s/it]"
          ],
          "name": "stderr"
        },
        {
          "output_type": "stream",
          "text": [
            "\rtrain batch [30/41]: loss 72869312.0"
          ],
          "name": "stdout"
        },
        {
          "output_type": "stream",
          "text": [
            "\r31it [04:30,  8.68s/it]"
          ],
          "name": "stderr"
        },
        {
          "output_type": "stream",
          "text": [
            "\rtrain batch [31/41]: loss 32239984.0"
          ],
          "name": "stdout"
        },
        {
          "output_type": "stream",
          "text": [
            "\r32it [04:38,  8.67s/it]"
          ],
          "name": "stderr"
        },
        {
          "output_type": "stream",
          "text": [
            "\rtrain batch [32/41]: loss 38717972.0"
          ],
          "name": "stdout"
        },
        {
          "output_type": "stream",
          "text": [
            "\r33it [04:47,  8.64s/it]"
          ],
          "name": "stderr"
        },
        {
          "output_type": "stream",
          "text": [
            "\rtrain batch [33/41]: loss 74416064.0"
          ],
          "name": "stdout"
        },
        {
          "output_type": "stream",
          "text": [
            "\r34it [04:56,  8.72s/it]"
          ],
          "name": "stderr"
        },
        {
          "output_type": "stream",
          "text": [
            "\rtrain batch [34/41]: loss 51668092.0"
          ],
          "name": "stdout"
        },
        {
          "output_type": "stream",
          "text": [
            "\r35it [05:04,  8.66s/it]"
          ],
          "name": "stderr"
        },
        {
          "output_type": "stream",
          "text": [
            "\rtrain batch [35/41]: loss 63441552.0"
          ],
          "name": "stdout"
        },
        {
          "output_type": "stream",
          "text": [
            "\r36it [05:13,  8.67s/it]"
          ],
          "name": "stderr"
        },
        {
          "output_type": "stream",
          "text": [
            "\rtrain batch [36/41]: loss 74652064.0"
          ],
          "name": "stdout"
        },
        {
          "output_type": "stream",
          "text": [
            "\r37it [05:22,  8.69s/it]"
          ],
          "name": "stderr"
        },
        {
          "output_type": "stream",
          "text": [
            "\rtrain batch [37/41]: loss 50052920.0"
          ],
          "name": "stdout"
        },
        {
          "output_type": "stream",
          "text": [
            "\r38it [05:30,  8.66s/it]"
          ],
          "name": "stderr"
        },
        {
          "output_type": "stream",
          "text": [
            "\rtrain batch [38/41]: loss 97727688.0"
          ],
          "name": "stdout"
        },
        {
          "output_type": "stream",
          "text": [
            "\r39it [05:39,  8.69s/it]"
          ],
          "name": "stderr"
        },
        {
          "output_type": "stream",
          "text": [
            "\rtrain batch [39/41]: loss 84475936.0"
          ],
          "name": "stdout"
        },
        {
          "output_type": "stream",
          "text": [
            "\r40it [05:48,  8.70s/it]"
          ],
          "name": "stderr"
        },
        {
          "output_type": "stream",
          "text": [
            "\rtrain batch [40/41]: loss 71567088.0"
          ],
          "name": "stdout"
        },
        {
          "output_type": "stream",
          "text": [
            "41it [05:55,  8.67s/it]"
          ],
          "name": "stderr"
        },
        {
          "output_type": "stream",
          "text": [
            "\rval batch [0/4]: loss 14292160.0"
          ],
          "name": "stdout"
        },
        {
          "output_type": "stream",
          "text": [
            "\n"
          ],
          "name": "stderr"
        },
        {
          "output_type": "stream",
          "text": [
            "test batch [4/5]: loss 147165744.0"
          ],
          "name": "stdout"
        },
        {
          "output_type": "stream",
          "text": [
            "\r0it [00:00, ?it/s]"
          ],
          "name": "stderr"
        },
        {
          "output_type": "stream",
          "text": [
            "\n",
            "Train loss: 54419184.09756097, Train accuracy: 0.5724692940711975\n",
            "Val loss: 120492992.0, Val accuracy: 0.4375\n",
            "Test loss: 128485484.8, Test accuracy: 0.27724358439445496\n",
            "\n",
            "=============== Epoch: 15\n",
            "train batch [0/41]: loss 143765056.0"
          ],
          "name": "stdout"
        },
        {
          "output_type": "stream",
          "text": [
            "\r1it [00:09,  9.04s/it]"
          ],
          "name": "stderr"
        },
        {
          "output_type": "stream",
          "text": [
            "\rtrain batch [1/41]: loss 124363632.0"
          ],
          "name": "stdout"
        },
        {
          "output_type": "stream",
          "text": [
            "\r2it [00:17,  8.97s/it]"
          ],
          "name": "stderr"
        },
        {
          "output_type": "stream",
          "text": [
            "\rtrain batch [2/41]: loss 82201568.0"
          ],
          "name": "stdout"
        },
        {
          "output_type": "stream",
          "text": [
            "\r3it [00:26,  8.87s/it]"
          ],
          "name": "stderr"
        },
        {
          "output_type": "stream",
          "text": [
            "\rtrain batch [3/41]: loss 74708176.0"
          ],
          "name": "stdout"
        },
        {
          "output_type": "stream",
          "text": [
            "\r4it [00:35,  8.87s/it]"
          ],
          "name": "stderr"
        },
        {
          "output_type": "stream",
          "text": [
            "\rtrain batch [4/41]: loss 104771272.0"
          ],
          "name": "stdout"
        },
        {
          "output_type": "stream",
          "text": [
            "\r5it [00:44,  8.87s/it]"
          ],
          "name": "stderr"
        },
        {
          "output_type": "stream",
          "text": [
            "\rtrain batch [5/41]: loss 89343696.0"
          ],
          "name": "stdout"
        },
        {
          "output_type": "stream",
          "text": [
            "\r6it [00:52,  8.81s/it]"
          ],
          "name": "stderr"
        },
        {
          "output_type": "stream",
          "text": [
            "\rtrain batch [6/41]: loss 108269640.0"
          ],
          "name": "stdout"
        },
        {
          "output_type": "stream",
          "text": [
            "\r7it [01:01,  8.76s/it]"
          ],
          "name": "stderr"
        },
        {
          "output_type": "stream",
          "text": [
            "\rtrain batch [7/41]: loss 135185312.0"
          ],
          "name": "stdout"
        },
        {
          "output_type": "stream",
          "text": [
            "\r8it [01:10,  8.75s/it]"
          ],
          "name": "stderr"
        },
        {
          "output_type": "stream",
          "text": [
            "\rtrain batch [8/41]: loss 100229344.0"
          ],
          "name": "stdout"
        },
        {
          "output_type": "stream",
          "text": [
            "\r9it [01:18,  8.70s/it]"
          ],
          "name": "stderr"
        },
        {
          "output_type": "stream",
          "text": [
            "\rtrain batch [9/41]: loss 107593424.0"
          ],
          "name": "stdout"
        },
        {
          "output_type": "stream",
          "text": [
            "\r10it [01:27,  8.70s/it]"
          ],
          "name": "stderr"
        },
        {
          "output_type": "stream",
          "text": [
            "\rtrain batch [10/41]: loss 35848192.0"
          ],
          "name": "stdout"
        },
        {
          "output_type": "stream",
          "text": [
            "\r11it [01:36,  8.69s/it]"
          ],
          "name": "stderr"
        },
        {
          "output_type": "stream",
          "text": [
            "\rtrain batch [11/41]: loss 94879856.0"
          ],
          "name": "stdout"
        },
        {
          "output_type": "stream",
          "text": [
            "\r12it [01:45,  8.72s/it]"
          ],
          "name": "stderr"
        },
        {
          "output_type": "stream",
          "text": [
            "\rtrain batch [12/41]: loss 49952880.0"
          ],
          "name": "stdout"
        },
        {
          "output_type": "stream",
          "text": [
            "\r13it [01:53,  8.70s/it]"
          ],
          "name": "stderr"
        },
        {
          "output_type": "stream",
          "text": [
            "\rtrain batch [13/41]: loss 58144396.0"
          ],
          "name": "stdout"
        },
        {
          "output_type": "stream",
          "text": [
            "\r14it [02:02,  8.71s/it]"
          ],
          "name": "stderr"
        },
        {
          "output_type": "stream",
          "text": [
            "\rtrain batch [14/41]: loss 41266816.0"
          ],
          "name": "stdout"
        },
        {
          "output_type": "stream",
          "text": [
            "\r15it [02:10,  8.64s/it]"
          ],
          "name": "stderr"
        },
        {
          "output_type": "stream",
          "text": [
            "\rtrain batch [15/41]: loss 42577512.0"
          ],
          "name": "stdout"
        },
        {
          "output_type": "stream",
          "text": [
            "\r16it [02:19,  8.68s/it]"
          ],
          "name": "stderr"
        },
        {
          "output_type": "stream",
          "text": [
            "\rtrain batch [16/41]: loss 250924128.0"
          ],
          "name": "stdout"
        },
        {
          "output_type": "stream",
          "text": [
            "\r17it [02:28,  8.62s/it]"
          ],
          "name": "stderr"
        },
        {
          "output_type": "stream",
          "text": [
            "\rtrain batch [17/41]: loss 39882116.0"
          ],
          "name": "stdout"
        },
        {
          "output_type": "stream",
          "text": [
            "\r18it [02:36,  8.69s/it]"
          ],
          "name": "stderr"
        },
        {
          "output_type": "stream",
          "text": [
            "\rtrain batch [18/41]: loss 67323440.0"
          ],
          "name": "stdout"
        },
        {
          "output_type": "stream",
          "text": [
            "\r19it [02:45,  8.69s/it]"
          ],
          "name": "stderr"
        },
        {
          "output_type": "stream",
          "text": [
            "\rtrain batch [19/41]: loss 134628448.0"
          ],
          "name": "stdout"
        },
        {
          "output_type": "stream",
          "text": [
            "\r20it [02:54,  8.62s/it]"
          ],
          "name": "stderr"
        },
        {
          "output_type": "stream",
          "text": [
            "\rtrain batch [20/41]: loss 100183440.0"
          ],
          "name": "stdout"
        },
        {
          "output_type": "stream",
          "text": [
            "\r21it [03:03,  8.70s/it]"
          ],
          "name": "stderr"
        },
        {
          "output_type": "stream",
          "text": [
            "\rtrain batch [21/41]: loss 72641960.0"
          ],
          "name": "stdout"
        },
        {
          "output_type": "stream",
          "text": [
            "\r22it [03:11,  8.70s/it]"
          ],
          "name": "stderr"
        },
        {
          "output_type": "stream",
          "text": [
            "\rtrain batch [22/41]: loss 49538528.0"
          ],
          "name": "stdout"
        },
        {
          "output_type": "stream",
          "text": [
            "\r23it [03:20,  8.58s/it]"
          ],
          "name": "stderr"
        },
        {
          "output_type": "stream",
          "text": [
            "\rtrain batch [23/41]: loss 65010152.0"
          ],
          "name": "stdout"
        },
        {
          "output_type": "stream",
          "text": [
            "\r24it [03:28,  8.65s/it]"
          ],
          "name": "stderr"
        },
        {
          "output_type": "stream",
          "text": [
            "\rtrain batch [24/41]: loss 98289952.0"
          ],
          "name": "stdout"
        },
        {
          "output_type": "stream",
          "text": [
            "\r25it [03:37,  8.66s/it]"
          ],
          "name": "stderr"
        },
        {
          "output_type": "stream",
          "text": [
            "\rtrain batch [25/41]: loss 96746208.0"
          ],
          "name": "stdout"
        },
        {
          "output_type": "stream",
          "text": [
            "\r26it [03:46,  8.70s/it]"
          ],
          "name": "stderr"
        },
        {
          "output_type": "stream",
          "text": [
            "\rtrain batch [26/41]: loss 36728928.0"
          ],
          "name": "stdout"
        },
        {
          "output_type": "stream",
          "text": [
            "\r27it [03:54,  8.69s/it]"
          ],
          "name": "stderr"
        },
        {
          "output_type": "stream",
          "text": [
            "\rtrain batch [27/41]: loss 47436112.0"
          ],
          "name": "stdout"
        },
        {
          "output_type": "stream",
          "text": [
            "\r28it [04:03,  8.71s/it]"
          ],
          "name": "stderr"
        },
        {
          "output_type": "stream",
          "text": [
            "\rtrain batch [28/41]: loss 50451192.0"
          ],
          "name": "stdout"
        },
        {
          "output_type": "stream",
          "text": [
            "\r29it [04:12,  8.73s/it]"
          ],
          "name": "stderr"
        },
        {
          "output_type": "stream",
          "text": [
            "\rtrain batch [29/41]: loss 82683720.0"
          ],
          "name": "stdout"
        },
        {
          "output_type": "stream",
          "text": [
            "\r30it [04:21,  8.78s/it]"
          ],
          "name": "stderr"
        },
        {
          "output_type": "stream",
          "text": [
            "\rtrain batch [30/41]: loss 279836096.0"
          ],
          "name": "stdout"
        },
        {
          "output_type": "stream",
          "text": [
            "\r31it [04:30,  8.76s/it]"
          ],
          "name": "stderr"
        },
        {
          "output_type": "stream",
          "text": [
            "\rtrain batch [31/41]: loss 121899816.0"
          ],
          "name": "stdout"
        },
        {
          "output_type": "stream",
          "text": [
            "\r32it [04:38,  8.78s/it]"
          ],
          "name": "stderr"
        },
        {
          "output_type": "stream",
          "text": [
            "\rtrain batch [32/41]: loss 150868896.0"
          ],
          "name": "stdout"
        },
        {
          "output_type": "stream",
          "text": [
            "\r33it [04:47,  8.72s/it]"
          ],
          "name": "stderr"
        },
        {
          "output_type": "stream",
          "text": [
            "\rtrain batch [33/41]: loss 91684312.0"
          ],
          "name": "stdout"
        },
        {
          "output_type": "stream",
          "text": [
            "\r34it [04:56,  8.70s/it]"
          ],
          "name": "stderr"
        },
        {
          "output_type": "stream",
          "text": [
            "\rtrain batch [34/41]: loss 251802400.0"
          ],
          "name": "stdout"
        },
        {
          "output_type": "stream",
          "text": [
            "\r35it [05:04,  8.72s/it]"
          ],
          "name": "stderr"
        },
        {
          "output_type": "stream",
          "text": [
            "\rtrain batch [35/41]: loss 102667472.0"
          ],
          "name": "stdout"
        },
        {
          "output_type": "stream",
          "text": [
            "\r36it [05:13,  8.76s/it]"
          ],
          "name": "stderr"
        },
        {
          "output_type": "stream",
          "text": [
            "\rtrain batch [36/41]: loss 75129280.0"
          ],
          "name": "stdout"
        },
        {
          "output_type": "stream",
          "text": [
            "\r37it [05:22,  8.76s/it]"
          ],
          "name": "stderr"
        },
        {
          "output_type": "stream",
          "text": [
            "\rtrain batch [37/41]: loss 82844768.0"
          ],
          "name": "stdout"
        },
        {
          "output_type": "stream",
          "text": [
            "\r38it [05:31,  8.69s/it]"
          ],
          "name": "stderr"
        },
        {
          "output_type": "stream",
          "text": [
            "\rtrain batch [38/41]: loss 60492492.0"
          ],
          "name": "stdout"
        },
        {
          "output_type": "stream",
          "text": [
            "\r39it [05:39,  8.66s/it]"
          ],
          "name": "stderr"
        },
        {
          "output_type": "stream",
          "text": [
            "\rtrain batch [39/41]: loss 60389272.0"
          ],
          "name": "stdout"
        },
        {
          "output_type": "stream",
          "text": [
            "\r40it [05:48,  8.64s/it]"
          ],
          "name": "stderr"
        },
        {
          "output_type": "stream",
          "text": [
            "\rtrain batch [40/41]: loss 182516720.0"
          ],
          "name": "stdout"
        },
        {
          "output_type": "stream",
          "text": [
            "41it [05:54,  8.66s/it]"
          ],
          "name": "stderr"
        },
        {
          "output_type": "stream",
          "text": [
            "\rval batch [0/4]: loss 150922320.0"
          ],
          "name": "stdout"
        },
        {
          "output_type": "stream",
          "text": [
            "\n"
          ],
          "name": "stderr"
        },
        {
          "output_type": "stream",
          "text": [
            "test batch [4/5]: loss 70492024.0"
          ],
          "name": "stdout"
        },
        {
          "output_type": "stream",
          "text": [
            "\r0it [00:00, ?it/s]"
          ],
          "name": "stderr"
        },
        {
          "output_type": "stream",
          "text": [
            "\n",
            "Train loss: 98675626.43902439, Train accuracy: 0.5440950989723206\n",
            "Val loss: 90211788.0, Val accuracy: 0.6875\n",
            "Test loss: 97363142.4, Test accuracy: 0.5689102411270142\n",
            "\n",
            "=============== Epoch: 16\n",
            "train batch [0/41]: loss 111441736.0"
          ],
          "name": "stdout"
        },
        {
          "output_type": "stream",
          "text": [
            "\r1it [00:08,  8.60s/it]"
          ],
          "name": "stderr"
        },
        {
          "output_type": "stream",
          "text": [
            "\rtrain batch [1/41]: loss 83967176.0"
          ],
          "name": "stdout"
        },
        {
          "output_type": "stream",
          "text": [
            "\r2it [00:17,  8.57s/it]"
          ],
          "name": "stderr"
        },
        {
          "output_type": "stream",
          "text": [
            "\rtrain batch [2/41]: loss 65724868.0"
          ],
          "name": "stdout"
        },
        {
          "output_type": "stream",
          "text": [
            "\r3it [00:25,  8.60s/it]"
          ],
          "name": "stderr"
        },
        {
          "output_type": "stream",
          "text": [
            "\rtrain batch [3/41]: loss 71823216.0"
          ],
          "name": "stdout"
        },
        {
          "output_type": "stream",
          "text": [
            "\r4it [00:34,  8.62s/it]"
          ],
          "name": "stderr"
        },
        {
          "output_type": "stream",
          "text": [
            "\rtrain batch [4/41]: loss 161740256.0"
          ],
          "name": "stdout"
        },
        {
          "output_type": "stream",
          "text": [
            "\r5it [00:43,  8.61s/it]"
          ],
          "name": "stderr"
        },
        {
          "output_type": "stream",
          "text": [
            "\rtrain batch [5/41]: loss 124092800.0"
          ],
          "name": "stdout"
        },
        {
          "output_type": "stream",
          "text": [
            "\r6it [00:51,  8.68s/it]"
          ],
          "name": "stderr"
        },
        {
          "output_type": "stream",
          "text": [
            "\rtrain batch [6/41]: loss 146753152.0"
          ],
          "name": "stdout"
        },
        {
          "output_type": "stream",
          "text": [
            "\r7it [01:00,  8.70s/it]"
          ],
          "name": "stderr"
        },
        {
          "output_type": "stream",
          "text": [
            "\rtrain batch [7/41]: loss 64507292.0"
          ],
          "name": "stdout"
        },
        {
          "output_type": "stream",
          "text": [
            "\r8it [01:09,  8.65s/it]"
          ],
          "name": "stderr"
        },
        {
          "output_type": "stream",
          "text": [
            "\rtrain batch [8/41]: loss 161292272.0"
          ],
          "name": "stdout"
        },
        {
          "output_type": "stream",
          "text": [
            "\r9it [01:17,  8.63s/it]"
          ],
          "name": "stderr"
        },
        {
          "output_type": "stream",
          "text": [
            "\rtrain batch [9/41]: loss 142813776.0"
          ],
          "name": "stdout"
        },
        {
          "output_type": "stream",
          "text": [
            "\r10it [01:26,  8.65s/it]"
          ],
          "name": "stderr"
        },
        {
          "output_type": "stream",
          "text": [
            "\rtrain batch [10/41]: loss 172912128.0"
          ],
          "name": "stdout"
        },
        {
          "output_type": "stream",
          "text": [
            "\r11it [01:35,  8.68s/it]"
          ],
          "name": "stderr"
        },
        {
          "output_type": "stream",
          "text": [
            "\rtrain batch [11/41]: loss 72568448.0"
          ],
          "name": "stdout"
        },
        {
          "output_type": "stream",
          "text": [
            "\r12it [01:43,  8.68s/it]"
          ],
          "name": "stderr"
        },
        {
          "output_type": "stream",
          "text": [
            "\rtrain batch [12/41]: loss 56730008.0"
          ],
          "name": "stdout"
        },
        {
          "output_type": "stream",
          "text": [
            "\r13it [01:52,  8.62s/it]"
          ],
          "name": "stderr"
        },
        {
          "output_type": "stream",
          "text": [
            "\rtrain batch [13/41]: loss 106638808.0"
          ],
          "name": "stdout"
        },
        {
          "output_type": "stream",
          "text": [
            "\r14it [02:01,  8.66s/it]"
          ],
          "name": "stderr"
        },
        {
          "output_type": "stream",
          "text": [
            "\rtrain batch [14/41]: loss 90932592.0"
          ],
          "name": "stdout"
        },
        {
          "output_type": "stream",
          "text": [
            "\r15it [02:09,  8.63s/it]"
          ],
          "name": "stderr"
        },
        {
          "output_type": "stream",
          "text": [
            "\rtrain batch [15/41]: loss 182185472.0"
          ],
          "name": "stdout"
        },
        {
          "output_type": "stream",
          "text": [
            "\r16it [02:18,  8.63s/it]"
          ],
          "name": "stderr"
        },
        {
          "output_type": "stream",
          "text": [
            "\rtrain batch [16/41]: loss 67532000.0"
          ],
          "name": "stdout"
        },
        {
          "output_type": "stream",
          "text": [
            "\r17it [02:26,  8.64s/it]"
          ],
          "name": "stderr"
        },
        {
          "output_type": "stream",
          "text": [
            "\rtrain batch [17/41]: loss 187549984.0"
          ],
          "name": "stdout"
        },
        {
          "output_type": "stream",
          "text": [
            "\r18it [02:35,  8.71s/it]"
          ],
          "name": "stderr"
        },
        {
          "output_type": "stream",
          "text": [
            "\rtrain batch [18/41]: loss 290195456.0"
          ],
          "name": "stdout"
        },
        {
          "output_type": "stream",
          "text": [
            "\r19it [02:44,  8.70s/it]"
          ],
          "name": "stderr"
        },
        {
          "output_type": "stream",
          "text": [
            "\rtrain batch [19/41]: loss 349581760.0"
          ],
          "name": "stdout"
        },
        {
          "output_type": "stream",
          "text": [
            "\r20it [02:53,  8.71s/it]"
          ],
          "name": "stderr"
        },
        {
          "output_type": "stream",
          "text": [
            "\rtrain batch [20/41]: loss 141989488.0"
          ],
          "name": "stdout"
        },
        {
          "output_type": "stream",
          "text": [
            "\r21it [03:02,  8.76s/it]"
          ],
          "name": "stderr"
        },
        {
          "output_type": "stream",
          "text": [
            "\rtrain batch [21/41]: loss 109046280.0"
          ],
          "name": "stdout"
        },
        {
          "output_type": "stream",
          "text": [
            "\r22it [03:10,  8.69s/it]"
          ],
          "name": "stderr"
        },
        {
          "output_type": "stream",
          "text": [
            "\rtrain batch [22/41]: loss 127976352.0"
          ],
          "name": "stdout"
        },
        {
          "output_type": "stream",
          "text": [
            "\r23it [03:19,  8.69s/it]"
          ],
          "name": "stderr"
        },
        {
          "output_type": "stream",
          "text": [
            "\rtrain batch [23/41]: loss 88746304.0"
          ],
          "name": "stdout"
        },
        {
          "output_type": "stream",
          "text": [
            "\r24it [03:27,  8.66s/it]"
          ],
          "name": "stderr"
        },
        {
          "output_type": "stream",
          "text": [
            "\rtrain batch [24/41]: loss 97842544.0"
          ],
          "name": "stdout"
        },
        {
          "output_type": "stream",
          "text": [
            "\r25it [03:36,  8.65s/it]"
          ],
          "name": "stderr"
        },
        {
          "output_type": "stream",
          "text": [
            "\rtrain batch [25/41]: loss 132522432.0"
          ],
          "name": "stdout"
        },
        {
          "output_type": "stream",
          "text": [
            "\r26it [03:45,  8.71s/it]"
          ],
          "name": "stderr"
        },
        {
          "output_type": "stream",
          "text": [
            "\rtrain batch [26/41]: loss 228221408.0"
          ],
          "name": "stdout"
        },
        {
          "output_type": "stream",
          "text": [
            "\r27it [03:54,  8.74s/it]"
          ],
          "name": "stderr"
        },
        {
          "output_type": "stream",
          "text": [
            "\rtrain batch [27/41]: loss 244864128.0"
          ],
          "name": "stdout"
        },
        {
          "output_type": "stream",
          "text": [
            "\r28it [04:03,  8.80s/it]"
          ],
          "name": "stderr"
        },
        {
          "output_type": "stream",
          "text": [
            "\rtrain batch [28/41]: loss 431323744.0"
          ],
          "name": "stdout"
        },
        {
          "output_type": "stream",
          "text": [
            "\r29it [04:11,  8.71s/it]"
          ],
          "name": "stderr"
        },
        {
          "output_type": "stream",
          "text": [
            "\rtrain batch [29/41]: loss 108000768.0"
          ],
          "name": "stdout"
        },
        {
          "output_type": "stream",
          "text": [
            "\r30it [04:20,  8.71s/it]"
          ],
          "name": "stderr"
        },
        {
          "output_type": "stream",
          "text": [
            "\rtrain batch [30/41]: loss 69917440.0"
          ],
          "name": "stdout"
        },
        {
          "output_type": "stream",
          "text": [
            "\r31it [04:29,  8.70s/it]"
          ],
          "name": "stderr"
        },
        {
          "output_type": "stream",
          "text": [
            "\rtrain batch [31/41]: loss 88916128.0"
          ],
          "name": "stdout"
        },
        {
          "output_type": "stream",
          "text": [
            "\r32it [04:38,  8.81s/it]"
          ],
          "name": "stderr"
        },
        {
          "output_type": "stream",
          "text": [
            "\rtrain batch [32/41]: loss 113981744.0"
          ],
          "name": "stdout"
        },
        {
          "output_type": "stream",
          "text": [
            "\r33it [04:46,  8.76s/it]"
          ],
          "name": "stderr"
        },
        {
          "output_type": "stream",
          "text": [
            "\rtrain batch [33/41]: loss 190751744.0"
          ],
          "name": "stdout"
        },
        {
          "output_type": "stream",
          "text": [
            "\r34it [04:55,  8.78s/it]"
          ],
          "name": "stderr"
        },
        {
          "output_type": "stream",
          "text": [
            "\rtrain batch [34/41]: loss 156113344.0"
          ],
          "name": "stdout"
        },
        {
          "output_type": "stream",
          "text": [
            "\r35it [05:04,  8.78s/it]"
          ],
          "name": "stderr"
        },
        {
          "output_type": "stream",
          "text": [
            "\rtrain batch [35/41]: loss 132483400.0"
          ],
          "name": "stdout"
        },
        {
          "output_type": "stream",
          "text": [
            "\r36it [05:13,  8.76s/it]"
          ],
          "name": "stderr"
        },
        {
          "output_type": "stream",
          "text": [
            "\rtrain batch [36/41]: loss 159064752.0"
          ],
          "name": "stdout"
        },
        {
          "output_type": "stream",
          "text": [
            "\r37it [05:21,  8.71s/it]"
          ],
          "name": "stderr"
        },
        {
          "output_type": "stream",
          "text": [
            "\rtrain batch [37/41]: loss 136188928.0"
          ],
          "name": "stdout"
        },
        {
          "output_type": "stream",
          "text": [
            "\r38it [05:30,  8.63s/it]"
          ],
          "name": "stderr"
        },
        {
          "output_type": "stream",
          "text": [
            "\rtrain batch [38/41]: loss 126130064.0"
          ],
          "name": "stdout"
        },
        {
          "output_type": "stream",
          "text": [
            "\r39it [05:38,  8.68s/it]"
          ],
          "name": "stderr"
        },
        {
          "output_type": "stream",
          "text": [
            "\rtrain batch [39/41]: loss 181478256.0"
          ],
          "name": "stdout"
        },
        {
          "output_type": "stream",
          "text": [
            "\r40it [05:47,  8.71s/it]"
          ],
          "name": "stderr"
        },
        {
          "output_type": "stream",
          "text": [
            "\rtrain batch [40/41]: loss 272258016.0"
          ],
          "name": "stdout"
        },
        {
          "output_type": "stream",
          "text": [
            "41it [05:54,  8.64s/it]"
          ],
          "name": "stderr"
        },
        {
          "output_type": "stream",
          "text": [
            "\rval batch [0/4]: loss 1015246720.0"
          ],
          "name": "stdout"
        },
        {
          "output_type": "stream",
          "text": [
            "\n"
          ],
          "name": "stderr"
        },
        {
          "output_type": "stream",
          "text": [
            "test batch [4/5]: loss 10735639.0"
          ],
          "name": "stdout"
        },
        {
          "output_type": "stream",
          "text": [
            "\r0it [00:00, ?it/s]"
          ],
          "name": "stderr"
        },
        {
          "output_type": "stream",
          "text": [
            "\n",
            "Train loss: 147531719.2195122, Train accuracy: 0.6213573217391968\n",
            "Val loss: 386156488.0, Val accuracy: 0.375\n",
            "Test loss: 207547668.6, Test accuracy: 0.6394230723381042\n",
            "\n",
            "=============== Epoch: 17\n",
            "train batch [0/41]: loss 133066960.0"
          ],
          "name": "stdout"
        },
        {
          "output_type": "stream",
          "text": [
            "\r1it [00:08,  8.90s/it]"
          ],
          "name": "stderr"
        },
        {
          "output_type": "stream",
          "text": [
            "\rtrain batch [1/41]: loss 136750928.0"
          ],
          "name": "stdout"
        },
        {
          "output_type": "stream",
          "text": [
            "\r2it [00:17,  8.83s/it]"
          ],
          "name": "stderr"
        },
        {
          "output_type": "stream",
          "text": [
            "\rtrain batch [2/41]: loss 159047392.0"
          ],
          "name": "stdout"
        },
        {
          "output_type": "stream",
          "text": [
            "\r3it [00:26,  8.84s/it]"
          ],
          "name": "stderr"
        },
        {
          "output_type": "stream",
          "text": [
            "\rtrain batch [3/41]: loss 231654784.0"
          ],
          "name": "stdout"
        },
        {
          "output_type": "stream",
          "text": [
            "\r4it [00:35,  8.82s/it]"
          ],
          "name": "stderr"
        },
        {
          "output_type": "stream",
          "text": [
            "\rtrain batch [4/41]: loss 167968624.0"
          ],
          "name": "stdout"
        },
        {
          "output_type": "stream",
          "text": [
            "\r5it [00:43,  8.77s/it]"
          ],
          "name": "stderr"
        },
        {
          "output_type": "stream",
          "text": [
            "\rtrain batch [5/41]: loss 236666000.0"
          ],
          "name": "stdout"
        },
        {
          "output_type": "stream",
          "text": [
            "\r6it [00:52,  8.67s/it]"
          ],
          "name": "stderr"
        },
        {
          "output_type": "stream",
          "text": [
            "\rtrain batch [6/41]: loss 157164768.0"
          ],
          "name": "stdout"
        },
        {
          "output_type": "stream",
          "text": [
            "\r7it [01:00,  8.66s/it]"
          ],
          "name": "stderr"
        },
        {
          "output_type": "stream",
          "text": [
            "\rtrain batch [7/41]: loss 138907264.0"
          ],
          "name": "stdout"
        },
        {
          "output_type": "stream",
          "text": [
            "\r8it [01:09,  8.67s/it]"
          ],
          "name": "stderr"
        },
        {
          "output_type": "stream",
          "text": [
            "\rtrain batch [8/41]: loss 192185088.0"
          ],
          "name": "stdout"
        },
        {
          "output_type": "stream",
          "text": [
            "\r9it [01:18,  8.68s/it]"
          ],
          "name": "stderr"
        },
        {
          "output_type": "stream",
          "text": [
            "\rtrain batch [9/41]: loss 104364016.0"
          ],
          "name": "stdout"
        },
        {
          "output_type": "stream",
          "text": [
            "\r10it [01:27,  8.75s/it]"
          ],
          "name": "stderr"
        },
        {
          "output_type": "stream",
          "text": [
            "\rtrain batch [10/41]: loss 303692480.0"
          ],
          "name": "stdout"
        },
        {
          "output_type": "stream",
          "text": [
            "\r11it [01:35,  8.67s/it]"
          ],
          "name": "stderr"
        },
        {
          "output_type": "stream",
          "text": [
            "\rtrain batch [11/41]: loss 169965088.0"
          ],
          "name": "stdout"
        },
        {
          "output_type": "stream",
          "text": [
            "\r12it [01:44,  8.70s/it]"
          ],
          "name": "stderr"
        },
        {
          "output_type": "stream",
          "text": [
            "\rtrain batch [12/41]: loss 172669600.0"
          ],
          "name": "stdout"
        },
        {
          "output_type": "stream",
          "text": [
            "\r13it [01:52,  8.64s/it]"
          ],
          "name": "stderr"
        },
        {
          "output_type": "stream",
          "text": [
            "\rtrain batch [13/41]: loss 121478128.0"
          ],
          "name": "stdout"
        },
        {
          "output_type": "stream",
          "text": [
            "\r14it [02:01,  8.58s/it]"
          ],
          "name": "stderr"
        },
        {
          "output_type": "stream",
          "text": [
            "\rtrain batch [14/41]: loss 486202720.0"
          ],
          "name": "stdout"
        },
        {
          "output_type": "stream",
          "text": [
            "\r15it [02:10,  8.63s/it]"
          ],
          "name": "stderr"
        },
        {
          "output_type": "stream",
          "text": [
            "\rtrain batch [15/41]: loss 140175808.0"
          ],
          "name": "stdout"
        },
        {
          "output_type": "stream",
          "text": [
            "\r16it [02:18,  8.62s/it]"
          ],
          "name": "stderr"
        },
        {
          "output_type": "stream",
          "text": [
            "\rtrain batch [16/41]: loss 241310576.0"
          ],
          "name": "stdout"
        },
        {
          "output_type": "stream",
          "text": [
            "\r17it [02:27,  8.63s/it]"
          ],
          "name": "stderr"
        },
        {
          "output_type": "stream",
          "text": [
            "\rtrain batch [17/41]: loss 140456096.0"
          ],
          "name": "stdout"
        },
        {
          "output_type": "stream",
          "text": [
            "\r18it [02:36,  8.63s/it]"
          ],
          "name": "stderr"
        },
        {
          "output_type": "stream",
          "text": [
            "\rtrain batch [18/41]: loss 186171344.0"
          ],
          "name": "stdout"
        },
        {
          "output_type": "stream",
          "text": [
            "\r19it [02:44,  8.61s/it]"
          ],
          "name": "stderr"
        },
        {
          "output_type": "stream",
          "text": [
            "\rtrain batch [19/41]: loss 233900256.0"
          ],
          "name": "stdout"
        },
        {
          "output_type": "stream",
          "text": [
            "\r20it [02:53,  8.58s/it]"
          ],
          "name": "stderr"
        },
        {
          "output_type": "stream",
          "text": [
            "\rtrain batch [20/41]: loss 310607808.0"
          ],
          "name": "stdout"
        },
        {
          "output_type": "stream",
          "text": [
            "\r21it [03:01,  8.57s/it]"
          ],
          "name": "stderr"
        },
        {
          "output_type": "stream",
          "text": [
            "\rtrain batch [21/41]: loss 445026176.0"
          ],
          "name": "stdout"
        },
        {
          "output_type": "stream",
          "text": [
            "\r22it [03:10,  8.59s/it]"
          ],
          "name": "stderr"
        },
        {
          "output_type": "stream",
          "text": [
            "\rtrain batch [22/41]: loss 203626752.0"
          ],
          "name": "stdout"
        },
        {
          "output_type": "stream",
          "text": [
            "\r23it [03:18,  8.59s/it]"
          ],
          "name": "stderr"
        },
        {
          "output_type": "stream",
          "text": [
            "\rtrain batch [23/41]: loss 194093600.0"
          ],
          "name": "stdout"
        },
        {
          "output_type": "stream",
          "text": [
            "\r24it [03:27,  8.57s/it]"
          ],
          "name": "stderr"
        },
        {
          "output_type": "stream",
          "text": [
            "\rtrain batch [24/41]: loss 553951360.0"
          ],
          "name": "stdout"
        },
        {
          "output_type": "stream",
          "text": [
            "\r25it [03:36,  8.67s/it]"
          ],
          "name": "stderr"
        },
        {
          "output_type": "stream",
          "text": [
            "\rtrain batch [25/41]: loss 551873408.0"
          ],
          "name": "stdout"
        },
        {
          "output_type": "stream",
          "text": [
            "\r26it [03:45,  8.74s/it]"
          ],
          "name": "stderr"
        },
        {
          "output_type": "stream",
          "text": [
            "\rtrain batch [26/41]: loss 326941696.0"
          ],
          "name": "stdout"
        },
        {
          "output_type": "stream",
          "text": [
            "\r27it [03:53,  8.69s/it]"
          ],
          "name": "stderr"
        },
        {
          "output_type": "stream",
          "text": [
            "\rtrain batch [27/41]: loss 236066736.0"
          ],
          "name": "stdout"
        },
        {
          "output_type": "stream",
          "text": [
            "\r28it [04:02,  8.70s/it]"
          ],
          "name": "stderr"
        },
        {
          "output_type": "stream",
          "text": [
            "\rtrain batch [28/41]: loss 376556544.0"
          ],
          "name": "stdout"
        },
        {
          "output_type": "stream",
          "text": [
            "\r29it [04:11,  8.73s/it]"
          ],
          "name": "stderr"
        },
        {
          "output_type": "stream",
          "text": [
            "\rtrain batch [29/41]: loss 330605632.0"
          ],
          "name": "stdout"
        },
        {
          "output_type": "stream",
          "text": [
            "\r30it [04:19,  8.62s/it]"
          ],
          "name": "stderr"
        },
        {
          "output_type": "stream",
          "text": [
            "\rtrain batch [30/41]: loss 415129280.0"
          ],
          "name": "stdout"
        },
        {
          "output_type": "stream",
          "text": [
            "\r31it [04:28,  8.68s/it]"
          ],
          "name": "stderr"
        },
        {
          "output_type": "stream",
          "text": [
            "\rtrain batch [31/41]: loss 328805696.0"
          ],
          "name": "stdout"
        },
        {
          "output_type": "stream",
          "text": [
            "\r32it [04:37,  8.76s/it]"
          ],
          "name": "stderr"
        },
        {
          "output_type": "stream",
          "text": [
            "\rtrain batch [32/41]: loss 269654144.0"
          ],
          "name": "stdout"
        },
        {
          "output_type": "stream",
          "text": [
            "\r33it [04:46,  8.77s/it]"
          ],
          "name": "stderr"
        },
        {
          "output_type": "stream",
          "text": [
            "\rtrain batch [33/41]: loss 180813344.0"
          ],
          "name": "stdout"
        },
        {
          "output_type": "stream",
          "text": [
            "\r34it [04:54,  8.72s/it]"
          ],
          "name": "stderr"
        },
        {
          "output_type": "stream",
          "text": [
            "\rtrain batch [34/41]: loss 248487072.0"
          ],
          "name": "stdout"
        },
        {
          "output_type": "stream",
          "text": [
            "\r35it [05:03,  8.75s/it]"
          ],
          "name": "stderr"
        },
        {
          "output_type": "stream",
          "text": [
            "\rtrain batch [35/41]: loss 134294112.0"
          ],
          "name": "stdout"
        },
        {
          "output_type": "stream",
          "text": [
            "\r36it [05:12,  8.71s/it]"
          ],
          "name": "stderr"
        },
        {
          "output_type": "stream",
          "text": [
            "\rtrain batch [36/41]: loss 215925056.0"
          ],
          "name": "stdout"
        },
        {
          "output_type": "stream",
          "text": [
            "\r37it [05:20,  8.65s/it]"
          ],
          "name": "stderr"
        },
        {
          "output_type": "stream",
          "text": [
            "\rtrain batch [37/41]: loss 255968144.0"
          ],
          "name": "stdout"
        },
        {
          "output_type": "stream",
          "text": [
            "\r38it [05:29,  8.66s/it]"
          ],
          "name": "stderr"
        },
        {
          "output_type": "stream",
          "text": [
            "\rtrain batch [38/41]: loss 494205504.0"
          ],
          "name": "stdout"
        },
        {
          "output_type": "stream",
          "text": [
            "\r39it [05:38,  8.71s/it]"
          ],
          "name": "stderr"
        },
        {
          "output_type": "stream",
          "text": [
            "\rtrain batch [39/41]: loss 409046272.0"
          ],
          "name": "stdout"
        },
        {
          "output_type": "stream",
          "text": [
            "\r40it [05:47,  8.73s/it]"
          ],
          "name": "stderr"
        },
        {
          "output_type": "stream",
          "text": [
            "\rtrain batch [40/41]: loss 241754544.0"
          ],
          "name": "stdout"
        },
        {
          "output_type": "stream",
          "text": [
            "41it [05:53,  8.63s/it]"
          ],
          "name": "stderr"
        },
        {
          "output_type": "stream",
          "text": [
            "\rval batch [0/4]: loss 0.0"
          ],
          "name": "stdout"
        },
        {
          "output_type": "stream",
          "text": [
            "\n"
          ],
          "name": "stderr"
        },
        {
          "output_type": "stream",
          "text": [
            "test batch [4/5]: loss 1204265856.0"
          ],
          "name": "stdout"
        },
        {
          "output_type": "stream",
          "text": [
            "\r0it [00:00, ?it/s]"
          ],
          "name": "stderr"
        },
        {
          "output_type": "stream",
          "text": [
            "\n",
            "Train loss: 257981241.75609756, Train accuracy: 0.5945168733596802\n",
            "Val loss: 418857216.0, Val accuracy: 0.5625\n",
            "Test loss: 777968619.2, Test accuracy: 0.3621794879436493\n",
            "\n",
            "=============== Epoch: 18\n",
            "train batch [0/41]: loss 943117824.0"
          ],
          "name": "stdout"
        },
        {
          "output_type": "stream",
          "text": [
            "\r1it [00:08,  8.54s/it]"
          ],
          "name": "stderr"
        },
        {
          "output_type": "stream",
          "text": [
            "\rtrain batch [1/41]: loss 416149312.0"
          ],
          "name": "stdout"
        },
        {
          "output_type": "stream",
          "text": [
            "\r2it [00:17,  8.55s/it]"
          ],
          "name": "stderr"
        },
        {
          "output_type": "stream",
          "text": [
            "\rtrain batch [2/41]: loss 314100544.0"
          ],
          "name": "stdout"
        },
        {
          "output_type": "stream",
          "text": [
            "\r3it [00:25,  8.62s/it]"
          ],
          "name": "stderr"
        },
        {
          "output_type": "stream",
          "text": [
            "\rtrain batch [3/41]: loss 267158304.0"
          ],
          "name": "stdout"
        },
        {
          "output_type": "stream",
          "text": [
            "\r4it [00:34,  8.64s/it]"
          ],
          "name": "stderr"
        },
        {
          "output_type": "stream",
          "text": [
            "\rtrain batch [4/41]: loss 311891040.0"
          ],
          "name": "stdout"
        },
        {
          "output_type": "stream",
          "text": [
            "\r5it [00:43,  8.66s/it]"
          ],
          "name": "stderr"
        },
        {
          "output_type": "stream",
          "text": [
            "\rtrain batch [5/41]: loss 226900768.0"
          ],
          "name": "stdout"
        },
        {
          "output_type": "stream",
          "text": [
            "\r6it [00:51,  8.62s/it]"
          ],
          "name": "stderr"
        },
        {
          "output_type": "stream",
          "text": [
            "\rtrain batch [6/41]: loss 320159872.0"
          ],
          "name": "stdout"
        },
        {
          "output_type": "stream",
          "text": [
            "\r7it [01:00,  8.65s/it]"
          ],
          "name": "stderr"
        },
        {
          "output_type": "stream",
          "text": [
            "\rtrain batch [7/41]: loss 147125440.0"
          ],
          "name": "stdout"
        },
        {
          "output_type": "stream",
          "text": [
            "\r8it [01:09,  8.60s/it]"
          ],
          "name": "stderr"
        },
        {
          "output_type": "stream",
          "text": [
            "\rtrain batch [8/41]: loss 313731904.0"
          ],
          "name": "stdout"
        },
        {
          "output_type": "stream",
          "text": [
            "\r9it [01:17,  8.60s/it]"
          ],
          "name": "stderr"
        },
        {
          "output_type": "stream",
          "text": [
            "\rtrain batch [9/41]: loss 264270528.0"
          ],
          "name": "stdout"
        },
        {
          "output_type": "stream",
          "text": [
            "\r10it [01:26,  8.67s/it]"
          ],
          "name": "stderr"
        },
        {
          "output_type": "stream",
          "text": [
            "\rtrain batch [10/41]: loss 333014400.0"
          ],
          "name": "stdout"
        },
        {
          "output_type": "stream",
          "text": [
            "\r11it [01:35,  8.71s/it]"
          ],
          "name": "stderr"
        },
        {
          "output_type": "stream",
          "text": [
            "\rtrain batch [11/41]: loss 449122336.0"
          ],
          "name": "stdout"
        },
        {
          "output_type": "stream",
          "text": [
            "\r12it [01:44,  8.75s/it]"
          ],
          "name": "stderr"
        },
        {
          "output_type": "stream",
          "text": [
            "\rtrain batch [12/41]: loss 201743392.0"
          ],
          "name": "stdout"
        },
        {
          "output_type": "stream",
          "text": [
            "\r13it [01:52,  8.70s/it]"
          ],
          "name": "stderr"
        },
        {
          "output_type": "stream",
          "text": [
            "\rtrain batch [13/41]: loss 213257952.0"
          ],
          "name": "stdout"
        },
        {
          "output_type": "stream",
          "text": [
            "\r14it [02:01,  8.66s/it]"
          ],
          "name": "stderr"
        },
        {
          "output_type": "stream",
          "text": [
            "\rtrain batch [14/41]: loss 174567616.0"
          ],
          "name": "stdout"
        },
        {
          "output_type": "stream",
          "text": [
            "\r15it [02:09,  8.62s/it]"
          ],
          "name": "stderr"
        },
        {
          "output_type": "stream",
          "text": [
            "\rtrain batch [15/41]: loss 135887776.0"
          ],
          "name": "stdout"
        },
        {
          "output_type": "stream",
          "text": [
            "\r16it [02:18,  8.69s/it]"
          ],
          "name": "stderr"
        },
        {
          "output_type": "stream",
          "text": [
            "\rtrain batch [16/41]: loss 252871424.0"
          ],
          "name": "stdout"
        },
        {
          "output_type": "stream",
          "text": [
            "\r17it [02:27,  8.73s/it]"
          ],
          "name": "stderr"
        },
        {
          "output_type": "stream",
          "text": [
            "\rtrain batch [17/41]: loss 233432064.0"
          ],
          "name": "stdout"
        },
        {
          "output_type": "stream",
          "text": [
            "\r18it [02:35,  8.64s/it]"
          ],
          "name": "stderr"
        },
        {
          "output_type": "stream",
          "text": [
            "\rtrain batch [18/41]: loss 216618160.0"
          ],
          "name": "stdout"
        },
        {
          "output_type": "stream",
          "text": [
            "\r19it [02:44,  8.55s/it]"
          ],
          "name": "stderr"
        },
        {
          "output_type": "stream",
          "text": [
            "\rtrain batch [19/41]: loss 241170528.0"
          ],
          "name": "stdout"
        },
        {
          "output_type": "stream",
          "text": [
            "\r20it [02:52,  8.55s/it]"
          ],
          "name": "stderr"
        },
        {
          "output_type": "stream",
          "text": [
            "\rtrain batch [20/41]: loss 273717632.0"
          ],
          "name": "stdout"
        },
        {
          "output_type": "stream",
          "text": [
            "\r21it [03:01,  8.65s/it]"
          ],
          "name": "stderr"
        },
        {
          "output_type": "stream",
          "text": [
            "\rtrain batch [21/41]: loss 152439248.0"
          ],
          "name": "stdout"
        },
        {
          "output_type": "stream",
          "text": [
            "\r22it [03:10,  8.62s/it]"
          ],
          "name": "stderr"
        },
        {
          "output_type": "stream",
          "text": [
            "\rtrain batch [22/41]: loss 210372192.0"
          ],
          "name": "stdout"
        },
        {
          "output_type": "stream",
          "text": [
            "\r23it [03:18,  8.66s/it]"
          ],
          "name": "stderr"
        },
        {
          "output_type": "stream",
          "text": [
            "\rtrain batch [23/41]: loss 247638944.0"
          ],
          "name": "stdout"
        },
        {
          "output_type": "stream",
          "text": [
            "\r24it [03:27,  8.73s/it]"
          ],
          "name": "stderr"
        },
        {
          "output_type": "stream",
          "text": [
            "\rtrain batch [24/41]: loss 305230048.0"
          ],
          "name": "stdout"
        },
        {
          "output_type": "stream",
          "text": [
            "\r25it [03:36,  8.75s/it]"
          ],
          "name": "stderr"
        },
        {
          "output_type": "stream",
          "text": [
            "\rtrain batch [25/41]: loss 352063296.0"
          ],
          "name": "stdout"
        },
        {
          "output_type": "stream",
          "text": [
            "\r26it [03:45,  8.83s/it]"
          ],
          "name": "stderr"
        },
        {
          "output_type": "stream",
          "text": [
            "\rtrain batch [26/41]: loss 282648512.0"
          ],
          "name": "stdout"
        },
        {
          "output_type": "stream",
          "text": [
            "\r27it [03:54,  8.83s/it]"
          ],
          "name": "stderr"
        },
        {
          "output_type": "stream",
          "text": [
            "\rtrain batch [27/41]: loss 474280064.0"
          ],
          "name": "stdout"
        },
        {
          "output_type": "stream",
          "text": [
            "\r28it [04:03,  8.83s/it]"
          ],
          "name": "stderr"
        },
        {
          "output_type": "stream",
          "text": [
            "\rtrain batch [28/41]: loss 277848928.0"
          ],
          "name": "stdout"
        },
        {
          "output_type": "stream",
          "text": [
            "\r29it [04:12,  8.86s/it]"
          ],
          "name": "stderr"
        },
        {
          "output_type": "stream",
          "text": [
            "\rtrain batch [29/41]: loss 154438320.0"
          ],
          "name": "stdout"
        },
        {
          "output_type": "stream",
          "text": [
            "\r30it [04:20,  8.75s/it]"
          ],
          "name": "stderr"
        },
        {
          "output_type": "stream",
          "text": [
            "\rtrain batch [30/41]: loss 317581216.0"
          ],
          "name": "stdout"
        },
        {
          "output_type": "stream",
          "text": [
            "\r31it [04:29,  8.68s/it]"
          ],
          "name": "stderr"
        },
        {
          "output_type": "stream",
          "text": [
            "\rtrain batch [31/41]: loss 475031232.0"
          ],
          "name": "stdout"
        },
        {
          "output_type": "stream",
          "text": [
            "\r32it [04:38,  8.70s/it]"
          ],
          "name": "stderr"
        },
        {
          "output_type": "stream",
          "text": [
            "\rtrain batch [32/41]: loss 519272832.0"
          ],
          "name": "stdout"
        },
        {
          "output_type": "stream",
          "text": [
            "\r33it [04:46,  8.72s/it]"
          ],
          "name": "stderr"
        },
        {
          "output_type": "stream",
          "text": [
            "\rtrain batch [33/41]: loss 225417072.0"
          ],
          "name": "stdout"
        },
        {
          "output_type": "stream",
          "text": [
            "\r34it [04:55,  8.69s/it]"
          ],
          "name": "stderr"
        },
        {
          "output_type": "stream",
          "text": [
            "\rtrain batch [34/41]: loss 308390272.0"
          ],
          "name": "stdout"
        },
        {
          "output_type": "stream",
          "text": [
            "\r35it [05:03,  8.62s/it]"
          ],
          "name": "stderr"
        },
        {
          "output_type": "stream",
          "text": [
            "\rtrain batch [35/41]: loss 530953728.0"
          ],
          "name": "stdout"
        },
        {
          "output_type": "stream",
          "text": [
            "\r36it [05:12,  8.63s/it]"
          ],
          "name": "stderr"
        },
        {
          "output_type": "stream",
          "text": [
            "\rtrain batch [36/41]: loss 1199975424.0"
          ],
          "name": "stdout"
        },
        {
          "output_type": "stream",
          "text": [
            "\r37it [05:21,  8.68s/it]"
          ],
          "name": "stderr"
        },
        {
          "output_type": "stream",
          "text": [
            "\rtrain batch [37/41]: loss 160527744.0"
          ],
          "name": "stdout"
        },
        {
          "output_type": "stream",
          "text": [
            "\r38it [05:29,  8.66s/it]"
          ],
          "name": "stderr"
        },
        {
          "output_type": "stream",
          "text": [
            "\rtrain batch [38/41]: loss 252393536.0"
          ],
          "name": "stdout"
        },
        {
          "output_type": "stream",
          "text": [
            "\r39it [05:38,  8.61s/it]"
          ],
          "name": "stderr"
        },
        {
          "output_type": "stream",
          "text": [
            "\rtrain batch [39/41]: loss 305488352.0"
          ],
          "name": "stdout"
        },
        {
          "output_type": "stream",
          "text": [
            "\r40it [05:47,  8.61s/it]"
          ],
          "name": "stderr"
        },
        {
          "output_type": "stream",
          "text": [
            "\rtrain batch [40/41]: loss 600821056.0"
          ],
          "name": "stdout"
        },
        {
          "output_type": "stream",
          "text": [
            "41it [05:53,  8.63s/it]"
          ],
          "name": "stderr"
        },
        {
          "output_type": "stream",
          "text": [
            "\rval batch [0/4]: loss 2213229568.0"
          ],
          "name": "stdout"
        },
        {
          "output_type": "stream",
          "text": [
            "\n"
          ],
          "name": "stderr"
        },
        {
          "output_type": "stream",
          "text": [
            "test batch [4/5]: loss 9657024.0"
          ],
          "name": "stdout"
        },
        {
          "output_type": "stream",
          "text": [
            "\r0it [00:00, ?it/s]"
          ],
          "name": "stderr"
        },
        {
          "output_type": "stream",
          "text": [
            "\n",
            "Train loss: 331776124.4878049, Train accuracy: 0.6871165633201599\n",
            "Val loss: 792856128.0, Val accuracy: 0.5\n",
            "Test loss: 621285066.0, Test accuracy: 0.6442307829856873\n",
            "\n",
            "=============== Epoch: 19\n",
            "train batch [0/41]: loss 620014464.0"
          ],
          "name": "stdout"
        },
        {
          "output_type": "stream",
          "text": [
            "\r1it [00:08,  8.92s/it]"
          ],
          "name": "stderr"
        },
        {
          "output_type": "stream",
          "text": [
            "\rtrain batch [1/41]: loss 590886528.0"
          ],
          "name": "stdout"
        },
        {
          "output_type": "stream",
          "text": [
            "\r2it [00:17,  8.84s/it]"
          ],
          "name": "stderr"
        },
        {
          "output_type": "stream",
          "text": [
            "\rtrain batch [2/41]: loss 408322144.0"
          ],
          "name": "stdout"
        },
        {
          "output_type": "stream",
          "text": [
            "\r3it [00:26,  8.81s/it]"
          ],
          "name": "stderr"
        },
        {
          "output_type": "stream",
          "text": [
            "\rtrain batch [3/41]: loss 195550336.0"
          ],
          "name": "stdout"
        },
        {
          "output_type": "stream",
          "text": [
            "\r4it [00:35,  8.86s/it]"
          ],
          "name": "stderr"
        },
        {
          "output_type": "stream",
          "text": [
            "\rtrain batch [4/41]: loss 163795392.0"
          ],
          "name": "stdout"
        },
        {
          "output_type": "stream",
          "text": [
            "\r5it [00:44,  8.82s/it]"
          ],
          "name": "stderr"
        },
        {
          "output_type": "stream",
          "text": [
            "\rtrain batch [5/41]: loss 497823136.0"
          ],
          "name": "stdout"
        },
        {
          "output_type": "stream",
          "text": [
            "\r6it [00:52,  8.79s/it]"
          ],
          "name": "stderr"
        },
        {
          "output_type": "stream",
          "text": [
            "\rtrain batch [6/41]: loss 635472768.0"
          ],
          "name": "stdout"
        },
        {
          "output_type": "stream",
          "text": [
            "\r7it [01:01,  8.78s/it]"
          ],
          "name": "stderr"
        },
        {
          "output_type": "stream",
          "text": [
            "\rtrain batch [7/41]: loss 323717888.0"
          ],
          "name": "stdout"
        },
        {
          "output_type": "stream",
          "text": [
            "\r8it [01:10,  8.76s/it]"
          ],
          "name": "stderr"
        },
        {
          "output_type": "stream",
          "text": [
            "\rtrain batch [8/41]: loss 160939840.0"
          ],
          "name": "stdout"
        },
        {
          "output_type": "stream",
          "text": [
            "\r9it [01:18,  8.67s/it]"
          ],
          "name": "stderr"
        },
        {
          "output_type": "stream",
          "text": [
            "\rtrain batch [9/41]: loss 328692768.0"
          ],
          "name": "stdout"
        },
        {
          "output_type": "stream",
          "text": [
            "\r10it [01:27,  8.73s/it]"
          ],
          "name": "stderr"
        },
        {
          "output_type": "stream",
          "text": [
            "\rtrain batch [10/41]: loss 153402944.0"
          ],
          "name": "stdout"
        },
        {
          "output_type": "stream",
          "text": [
            "\r11it [01:36,  8.70s/it]"
          ],
          "name": "stderr"
        },
        {
          "output_type": "stream",
          "text": [
            "\rtrain batch [11/41]: loss 339558912.0"
          ],
          "name": "stdout"
        },
        {
          "output_type": "stream",
          "text": [
            "\r12it [01:44,  8.72s/it]"
          ],
          "name": "stderr"
        },
        {
          "output_type": "stream",
          "text": [
            "\rtrain batch [12/41]: loss 445784032.0"
          ],
          "name": "stdout"
        },
        {
          "output_type": "stream",
          "text": [
            "\r13it [01:53,  8.63s/it]"
          ],
          "name": "stderr"
        },
        {
          "output_type": "stream",
          "text": [
            "\rtrain batch [13/41]: loss 583608896.0"
          ],
          "name": "stdout"
        },
        {
          "output_type": "stream",
          "text": [
            "\r14it [02:02,  8.69s/it]"
          ],
          "name": "stderr"
        },
        {
          "output_type": "stream",
          "text": [
            "\rtrain batch [14/41]: loss 591414400.0"
          ],
          "name": "stdout"
        },
        {
          "output_type": "stream",
          "text": [
            "\r15it [02:11,  8.82s/it]"
          ],
          "name": "stderr"
        },
        {
          "output_type": "stream",
          "text": [
            "\rtrain batch [15/41]: loss 414414560.0"
          ],
          "name": "stdout"
        },
        {
          "output_type": "stream",
          "text": [
            "\r16it [02:20,  8.84s/it]"
          ],
          "name": "stderr"
        },
        {
          "output_type": "stream",
          "text": [
            "\rtrain batch [16/41]: loss 351740800.0"
          ],
          "name": "stdout"
        },
        {
          "output_type": "stream",
          "text": [
            "\r17it [02:28,  8.80s/it]"
          ],
          "name": "stderr"
        },
        {
          "output_type": "stream",
          "text": [
            "\rtrain batch [17/41]: loss 409065792.0"
          ],
          "name": "stdout"
        },
        {
          "output_type": "stream",
          "text": [
            "\r18it [02:37,  8.77s/it]"
          ],
          "name": "stderr"
        },
        {
          "output_type": "stream",
          "text": [
            "\rtrain batch [18/41]: loss 405535488.0"
          ],
          "name": "stdout"
        },
        {
          "output_type": "stream",
          "text": [
            "\r19it [02:46,  8.75s/it]"
          ],
          "name": "stderr"
        },
        {
          "output_type": "stream",
          "text": [
            "\rtrain batch [19/41]: loss 405394112.0"
          ],
          "name": "stdout"
        },
        {
          "output_type": "stream",
          "text": [
            "\r20it [02:54,  8.71s/it]"
          ],
          "name": "stderr"
        },
        {
          "output_type": "stream",
          "text": [
            "\rtrain batch [20/41]: loss 328681280.0"
          ],
          "name": "stdout"
        },
        {
          "output_type": "stream",
          "text": [
            "\r21it [03:03,  8.69s/it]"
          ],
          "name": "stderr"
        },
        {
          "output_type": "stream",
          "text": [
            "\rtrain batch [21/41]: loss 392521088.0"
          ],
          "name": "stdout"
        },
        {
          "output_type": "stream",
          "text": [
            "\r22it [03:12,  8.82s/it]"
          ],
          "name": "stderr"
        },
        {
          "output_type": "stream",
          "text": [
            "\rtrain batch [22/41]: loss 377619808.0"
          ],
          "name": "stdout"
        },
        {
          "output_type": "stream",
          "text": [
            "\r23it [03:21,  8.79s/it]"
          ],
          "name": "stderr"
        },
        {
          "output_type": "stream",
          "text": [
            "\rtrain batch [23/41]: loss 417684064.0"
          ],
          "name": "stdout"
        },
        {
          "output_type": "stream",
          "text": [
            "\r24it [03:29,  8.69s/it]"
          ],
          "name": "stderr"
        },
        {
          "output_type": "stream",
          "text": [
            "\rtrain batch [24/41]: loss 500222784.0"
          ],
          "name": "stdout"
        },
        {
          "output_type": "stream",
          "text": [
            "\r25it [03:38,  8.70s/it]"
          ],
          "name": "stderr"
        },
        {
          "output_type": "stream",
          "text": [
            "\rtrain batch [25/41]: loss 829166592.0"
          ],
          "name": "stdout"
        },
        {
          "output_type": "stream",
          "text": [
            "\r26it [03:47,  8.67s/it]"
          ],
          "name": "stderr"
        },
        {
          "output_type": "stream",
          "text": [
            "\rtrain batch [26/41]: loss 321136384.0"
          ],
          "name": "stdout"
        },
        {
          "output_type": "stream",
          "text": [
            "\r27it [03:55,  8.64s/it]"
          ],
          "name": "stderr"
        },
        {
          "output_type": "stream",
          "text": [
            "\rtrain batch [27/41]: loss 428913984.0"
          ],
          "name": "stdout"
        },
        {
          "output_type": "stream",
          "text": [
            "\r28it [04:04,  8.65s/it]"
          ],
          "name": "stderr"
        },
        {
          "output_type": "stream",
          "text": [
            "\rtrain batch [28/41]: loss 811276928.0"
          ],
          "name": "stdout"
        },
        {
          "output_type": "stream",
          "text": [
            "\r29it [04:13,  8.66s/it]"
          ],
          "name": "stderr"
        },
        {
          "output_type": "stream",
          "text": [
            "\rtrain batch [29/41]: loss 357403648.0"
          ],
          "name": "stdout"
        },
        {
          "output_type": "stream",
          "text": [
            "\r30it [04:21,  8.62s/it]"
          ],
          "name": "stderr"
        },
        {
          "output_type": "stream",
          "text": [
            "\rtrain batch [30/41]: loss 466861216.0"
          ],
          "name": "stdout"
        },
        {
          "output_type": "stream",
          "text": [
            "\r31it [04:30,  8.61s/it]"
          ],
          "name": "stderr"
        },
        {
          "output_type": "stream",
          "text": [
            "\rtrain batch [31/41]: loss 680383616.0"
          ],
          "name": "stdout"
        },
        {
          "output_type": "stream",
          "text": [
            "\r32it [04:38,  8.60s/it]"
          ],
          "name": "stderr"
        },
        {
          "output_type": "stream",
          "text": [
            "\rtrain batch [32/41]: loss 913018560.0"
          ],
          "name": "stdout"
        },
        {
          "output_type": "stream",
          "text": [
            "\r33it [04:47,  8.58s/it]"
          ],
          "name": "stderr"
        },
        {
          "output_type": "stream",
          "text": [
            "\rtrain batch [33/41]: loss 1549320704.0"
          ],
          "name": "stdout"
        },
        {
          "output_type": "stream",
          "text": [
            "\r34it [04:56,  8.63s/it]"
          ],
          "name": "stderr"
        },
        {
          "output_type": "stream",
          "text": [
            "\rtrain batch [34/41]: loss 1548708608.0"
          ],
          "name": "stdout"
        },
        {
          "output_type": "stream",
          "text": [
            "\r35it [05:04,  8.62s/it]"
          ],
          "name": "stderr"
        },
        {
          "output_type": "stream",
          "text": [
            "\rtrain batch [35/41]: loss 732770048.0"
          ],
          "name": "stdout"
        },
        {
          "output_type": "stream",
          "text": [
            "\r36it [05:13,  8.59s/it]"
          ],
          "name": "stderr"
        },
        {
          "output_type": "stream",
          "text": [
            "\rtrain batch [36/41]: loss 889484032.0"
          ],
          "name": "stdout"
        },
        {
          "output_type": "stream",
          "text": [
            "\r37it [05:21,  8.62s/it]"
          ],
          "name": "stderr"
        },
        {
          "output_type": "stream",
          "text": [
            "\rtrain batch [37/41]: loss 436390176.0"
          ],
          "name": "stdout"
        },
        {
          "output_type": "stream",
          "text": [
            "\r38it [05:30,  8.54s/it]"
          ],
          "name": "stderr"
        },
        {
          "output_type": "stream",
          "text": [
            "\rtrain batch [38/41]: loss 318059968.0"
          ],
          "name": "stdout"
        },
        {
          "output_type": "stream",
          "text": [
            "\r39it [05:38,  8.51s/it]"
          ],
          "name": "stderr"
        },
        {
          "output_type": "stream",
          "text": [
            "\rtrain batch [39/41]: loss 358615104.0"
          ],
          "name": "stdout"
        },
        {
          "output_type": "stream",
          "text": [
            "\r40it [05:47,  8.53s/it]"
          ],
          "name": "stderr"
        },
        {
          "output_type": "stream",
          "text": [
            "\rtrain batch [40/41]: loss 316638432.0"
          ],
          "name": "stdout"
        },
        {
          "output_type": "stream",
          "text": [
            "41it [05:53,  8.63s/it]"
          ],
          "name": "stderr"
        },
        {
          "output_type": "stream",
          "text": [
            "\rval batch [0/4]: loss 3429336064.0"
          ],
          "name": "stdout"
        },
        {
          "output_type": "stream",
          "text": [
            "\n"
          ],
          "name": "stderr"
        },
        {
          "output_type": "stream",
          "text": [
            "test batch [4/5]: loss 37883688.0"
          ],
          "name": "stdout"
        },
        {
          "output_type": "stream",
          "text": [
            "\r0it [00:00, ?it/s]"
          ],
          "name": "stderr"
        },
        {
          "output_type": "stream",
          "text": [
            "\n",
            "Train loss: 512195420.097561, Train accuracy: 0.6886503100395203\n",
            "Val loss: 1499167264.0, Val accuracy: 0.625\n",
            "Test loss: 820149247.2, Test accuracy: 0.6730769276618958\n",
            "\n",
            "=============== Epoch: 20\n",
            "train batch [0/41]: loss 589334912.0"
          ],
          "name": "stdout"
        },
        {
          "output_type": "stream",
          "text": [
            "\r1it [00:08,  8.82s/it]"
          ],
          "name": "stderr"
        },
        {
          "output_type": "stream",
          "text": [
            "\rtrain batch [1/41]: loss 318448320.0"
          ],
          "name": "stdout"
        },
        {
          "output_type": "stream",
          "text": [
            "\r2it [00:17,  8.73s/it]"
          ],
          "name": "stderr"
        },
        {
          "output_type": "stream",
          "text": [
            "\rtrain batch [2/41]: loss 784698880.0"
          ],
          "name": "stdout"
        },
        {
          "output_type": "stream",
          "text": [
            "\r3it [00:25,  8.69s/it]"
          ],
          "name": "stderr"
        },
        {
          "output_type": "stream",
          "text": [
            "\rtrain batch [3/41]: loss 649754816.0"
          ],
          "name": "stdout"
        },
        {
          "output_type": "stream",
          "text": [
            "\r4it [00:34,  8.64s/it]"
          ],
          "name": "stderr"
        },
        {
          "output_type": "stream",
          "text": [
            "\rtrain batch [4/41]: loss 468410944.0"
          ],
          "name": "stdout"
        },
        {
          "output_type": "stream",
          "text": [
            "\r5it [00:43,  8.67s/it]"
          ],
          "name": "stderr"
        },
        {
          "output_type": "stream",
          "text": [
            "\rtrain batch [5/41]: loss 245999152.0"
          ],
          "name": "stdout"
        },
        {
          "output_type": "stream",
          "text": [
            "\r6it [00:51,  8.63s/it]"
          ],
          "name": "stderr"
        },
        {
          "output_type": "stream",
          "text": [
            "\rtrain batch [6/41]: loss 238417040.0"
          ],
          "name": "stdout"
        },
        {
          "output_type": "stream",
          "text": [
            "\r7it [01:00,  8.71s/it]"
          ],
          "name": "stderr"
        },
        {
          "output_type": "stream",
          "text": [
            "\rtrain batch [7/41]: loss 361461568.0"
          ],
          "name": "stdout"
        },
        {
          "output_type": "stream",
          "text": [
            "\r8it [01:09,  8.67s/it]"
          ],
          "name": "stderr"
        },
        {
          "output_type": "stream",
          "text": [
            "\rtrain batch [8/41]: loss 494940384.0"
          ],
          "name": "stdout"
        },
        {
          "output_type": "stream",
          "text": [
            "\r9it [01:17,  8.70s/it]"
          ],
          "name": "stderr"
        },
        {
          "output_type": "stream",
          "text": [
            "\rtrain batch [9/41]: loss 427276672.0"
          ],
          "name": "stdout"
        },
        {
          "output_type": "stream",
          "text": [
            "\r10it [01:26,  8.65s/it]"
          ],
          "name": "stderr"
        },
        {
          "output_type": "stream",
          "text": [
            "\rtrain batch [10/41]: loss 490974944.0"
          ],
          "name": "stdout"
        },
        {
          "output_type": "stream",
          "text": [
            "\r11it [01:35,  8.68s/it]"
          ],
          "name": "stderr"
        },
        {
          "output_type": "stream",
          "text": [
            "\rtrain batch [11/41]: loss 644438080.0"
          ],
          "name": "stdout"
        },
        {
          "output_type": "stream",
          "text": [
            "\r12it [01:43,  8.68s/it]"
          ],
          "name": "stderr"
        },
        {
          "output_type": "stream",
          "text": [
            "\rtrain batch [12/41]: loss 648626560.0"
          ],
          "name": "stdout"
        },
        {
          "output_type": "stream",
          "text": [
            "\r13it [01:52,  8.60s/it]"
          ],
          "name": "stderr"
        },
        {
          "output_type": "stream",
          "text": [
            "\rtrain batch [13/41]: loss 598437824.0"
          ],
          "name": "stdout"
        },
        {
          "output_type": "stream",
          "text": [
            "\r14it [02:01,  8.67s/it]"
          ],
          "name": "stderr"
        },
        {
          "output_type": "stream",
          "text": [
            "\rtrain batch [14/41]: loss 779306240.0"
          ],
          "name": "stdout"
        },
        {
          "output_type": "stream",
          "text": [
            "\r15it [02:10,  8.71s/it]"
          ],
          "name": "stderr"
        },
        {
          "output_type": "stream",
          "text": [
            "\rtrain batch [15/41]: loss 631478208.0"
          ],
          "name": "stdout"
        },
        {
          "output_type": "stream",
          "text": [
            "\r16it [02:18,  8.78s/it]"
          ],
          "name": "stderr"
        },
        {
          "output_type": "stream",
          "text": [
            "\rtrain batch [16/41]: loss 466502592.0"
          ],
          "name": "stdout"
        },
        {
          "output_type": "stream",
          "text": [
            "\r17it [02:27,  8.72s/it]"
          ],
          "name": "stderr"
        },
        {
          "output_type": "stream",
          "text": [
            "\rtrain batch [17/41]: loss 463228128.0"
          ],
          "name": "stdout"
        },
        {
          "output_type": "stream",
          "text": [
            "\r18it [02:36,  8.70s/it]"
          ],
          "name": "stderr"
        },
        {
          "output_type": "stream",
          "text": [
            "\rtrain batch [18/41]: loss 754521856.0"
          ],
          "name": "stdout"
        },
        {
          "output_type": "stream",
          "text": [
            "\r19it [02:44,  8.64s/it]"
          ],
          "name": "stderr"
        },
        {
          "output_type": "stream",
          "text": [
            "\rtrain batch [19/41]: loss 882137536.0"
          ],
          "name": "stdout"
        },
        {
          "output_type": "stream",
          "text": [
            "\r20it [02:53,  8.63s/it]"
          ],
          "name": "stderr"
        },
        {
          "output_type": "stream",
          "text": [
            "\rtrain batch [20/41]: loss 830887424.0"
          ],
          "name": "stdout"
        },
        {
          "output_type": "stream",
          "text": [
            "\r21it [03:02,  8.73s/it]"
          ],
          "name": "stderr"
        },
        {
          "output_type": "stream",
          "text": [
            "\rtrain batch [21/41]: loss 463244800.0"
          ],
          "name": "stdout"
        },
        {
          "output_type": "stream",
          "text": [
            "\r22it [03:10,  8.64s/it]"
          ],
          "name": "stderr"
        },
        {
          "output_type": "stream",
          "text": [
            "\rtrain batch [22/41]: loss 583322496.0"
          ],
          "name": "stdout"
        },
        {
          "output_type": "stream",
          "text": [
            "\r23it [03:19,  8.70s/it]"
          ],
          "name": "stderr"
        },
        {
          "output_type": "stream",
          "text": [
            "\rtrain batch [23/41]: loss 526261376.0"
          ],
          "name": "stdout"
        },
        {
          "output_type": "stream",
          "text": [
            "\r24it [03:28,  8.71s/it]"
          ],
          "name": "stderr"
        },
        {
          "output_type": "stream",
          "text": [
            "\rtrain batch [24/41]: loss 886681984.0"
          ],
          "name": "stdout"
        },
        {
          "output_type": "stream",
          "text": [
            "\r25it [03:36,  8.69s/it]"
          ],
          "name": "stderr"
        },
        {
          "output_type": "stream",
          "text": [
            "\rtrain batch [25/41]: loss 1386791808.0"
          ],
          "name": "stdout"
        },
        {
          "output_type": "stream",
          "text": [
            "\r26it [03:45,  8.67s/it]"
          ],
          "name": "stderr"
        },
        {
          "output_type": "stream",
          "text": [
            "\rtrain batch [26/41]: loss 867569792.0"
          ],
          "name": "stdout"
        },
        {
          "output_type": "stream",
          "text": [
            "\r27it [03:54,  8.73s/it]"
          ],
          "name": "stderr"
        },
        {
          "output_type": "stream",
          "text": [
            "\rtrain batch [27/41]: loss 739538688.0"
          ],
          "name": "stdout"
        },
        {
          "output_type": "stream",
          "text": [
            "\r28it [04:02,  8.68s/it]"
          ],
          "name": "stderr"
        },
        {
          "output_type": "stream",
          "text": [
            "\rtrain batch [28/41]: loss 560209408.0"
          ],
          "name": "stdout"
        },
        {
          "output_type": "stream",
          "text": [
            "\r29it [04:11,  8.62s/it]"
          ],
          "name": "stderr"
        },
        {
          "output_type": "stream",
          "text": [
            "\rtrain batch [29/41]: loss 469590848.0"
          ],
          "name": "stdout"
        },
        {
          "output_type": "stream",
          "text": [
            "\r30it [04:20,  8.62s/it]"
          ],
          "name": "stderr"
        },
        {
          "output_type": "stream",
          "text": [
            "\rtrain batch [30/41]: loss 823518080.0"
          ],
          "name": "stdout"
        },
        {
          "output_type": "stream",
          "text": [
            "\r31it [04:28,  8.69s/it]"
          ],
          "name": "stderr"
        },
        {
          "output_type": "stream",
          "text": [
            "\rtrain batch [31/41]: loss 547816512.0"
          ],
          "name": "stdout"
        },
        {
          "output_type": "stream",
          "text": [
            "\r32it [04:37,  8.67s/it]"
          ],
          "name": "stderr"
        },
        {
          "output_type": "stream",
          "text": [
            "\rtrain batch [32/41]: loss 925672768.0"
          ],
          "name": "stdout"
        },
        {
          "output_type": "stream",
          "text": [
            "\r33it [04:46,  8.64s/it]"
          ],
          "name": "stderr"
        },
        {
          "output_type": "stream",
          "text": [
            "\rtrain batch [33/41]: loss 536279200.0"
          ],
          "name": "stdout"
        },
        {
          "output_type": "stream",
          "text": [
            "\r34it [04:54,  8.69s/it]"
          ],
          "name": "stderr"
        },
        {
          "output_type": "stream",
          "text": [
            "\rtrain batch [34/41]: loss 433624896.0"
          ],
          "name": "stdout"
        },
        {
          "output_type": "stream",
          "text": [
            "\r35it [05:03,  8.75s/it]"
          ],
          "name": "stderr"
        },
        {
          "output_type": "stream",
          "text": [
            "\rtrain batch [35/41]: loss 688811776.0"
          ],
          "name": "stdout"
        },
        {
          "output_type": "stream",
          "text": [
            "\r36it [05:12,  8.80s/it]"
          ],
          "name": "stderr"
        },
        {
          "output_type": "stream",
          "text": [
            "\rtrain batch [36/41]: loss 519860096.0"
          ],
          "name": "stdout"
        },
        {
          "output_type": "stream",
          "text": [
            "\r37it [05:21,  8.79s/it]"
          ],
          "name": "stderr"
        },
        {
          "output_type": "stream",
          "text": [
            "\rtrain batch [37/41]: loss 1214440960.0"
          ],
          "name": "stdout"
        },
        {
          "output_type": "stream",
          "text": [
            "\r38it [05:30,  8.78s/it]"
          ],
          "name": "stderr"
        },
        {
          "output_type": "stream",
          "text": [
            "\rtrain batch [38/41]: loss 658734848.0"
          ],
          "name": "stdout"
        },
        {
          "output_type": "stream",
          "text": [
            "\r39it [05:38,  8.74s/it]"
          ],
          "name": "stderr"
        },
        {
          "output_type": "stream",
          "text": [
            "\rtrain batch [39/41]: loss 1845719552.0"
          ],
          "name": "stdout"
        },
        {
          "output_type": "stream",
          "text": [
            "\r40it [05:47,  8.74s/it]"
          ],
          "name": "stderr"
        },
        {
          "output_type": "stream",
          "text": [
            "\rtrain batch [40/41]: loss 491829600.0"
          ],
          "name": "stdout"
        },
        {
          "output_type": "stream",
          "text": [
            "41it [05:54,  8.64s/it]"
          ],
          "name": "stderr"
        },
        {
          "output_type": "stream",
          "text": [
            "\rval batch [0/4]: loss 301930368.0"
          ],
          "name": "stdout"
        },
        {
          "output_type": "stream",
          "text": [
            "\n"
          ],
          "name": "stderr"
        },
        {
          "output_type": "stream",
          "text": [
            "test batch [4/5]: loss 791592768.0"
          ],
          "name": "stdout"
        },
        {
          "output_type": "stream",
          "text": [
            "\r0it [00:00, ?it/s]"
          ],
          "name": "stderr"
        },
        {
          "output_type": "stream",
          "text": [
            "\n",
            "Train loss: 657043946.9268292, Train accuracy: 0.7072468996047974\n",
            "Val loss: 559212368.0, Val accuracy: 0.6875\n",
            "Test loss: 744699852.8, Test accuracy: 0.6810897588729858\n",
            "\n",
            "=============== Epoch: 21\n",
            "train batch [0/41]: loss 702234112.0"
          ],
          "name": "stdout"
        },
        {
          "output_type": "stream",
          "text": [
            "\r1it [00:08,  8.63s/it]"
          ],
          "name": "stderr"
        },
        {
          "output_type": "stream",
          "text": [
            "\rtrain batch [1/41]: loss 479313632.0"
          ],
          "name": "stdout"
        },
        {
          "output_type": "stream",
          "text": [
            "\r2it [00:17,  8.59s/it]"
          ],
          "name": "stderr"
        },
        {
          "output_type": "stream",
          "text": [
            "\rtrain batch [2/41]: loss 571048000.0"
          ],
          "name": "stdout"
        },
        {
          "output_type": "stream",
          "text": [
            "\r3it [00:25,  8.57s/it]"
          ],
          "name": "stderr"
        },
        {
          "output_type": "stream",
          "text": [
            "\rtrain batch [3/41]: loss 1468209408.0"
          ],
          "name": "stdout"
        },
        {
          "output_type": "stream",
          "text": [
            "\r4it [00:34,  8.63s/it]"
          ],
          "name": "stderr"
        },
        {
          "output_type": "stream",
          "text": [
            "\rtrain batch [4/41]: loss 558692096.0"
          ],
          "name": "stdout"
        },
        {
          "output_type": "stream",
          "text": [
            "\r5it [00:43,  8.66s/it]"
          ],
          "name": "stderr"
        },
        {
          "output_type": "stream",
          "text": [
            "\rtrain batch [5/41]: loss 960856832.0"
          ],
          "name": "stdout"
        },
        {
          "output_type": "stream",
          "text": [
            "\r6it [00:51,  8.71s/it]"
          ],
          "name": "stderr"
        },
        {
          "output_type": "stream",
          "text": [
            "\rtrain batch [6/41]: loss 718982016.0"
          ],
          "name": "stdout"
        },
        {
          "output_type": "stream",
          "text": [
            "\r7it [01:00,  8.61s/it]"
          ],
          "name": "stderr"
        },
        {
          "output_type": "stream",
          "text": [
            "\rtrain batch [7/41]: loss 637926976.0"
          ],
          "name": "stdout"
        },
        {
          "output_type": "stream",
          "text": [
            "\r8it [01:08,  8.60s/it]"
          ],
          "name": "stderr"
        },
        {
          "output_type": "stream",
          "text": [
            "\rtrain batch [8/41]: loss 1359864448.0"
          ],
          "name": "stdout"
        },
        {
          "output_type": "stream",
          "text": [
            "\r9it [01:17,  8.63s/it]"
          ],
          "name": "stderr"
        },
        {
          "output_type": "stream",
          "text": [
            "\rtrain batch [9/41]: loss 830704704.0"
          ],
          "name": "stdout"
        },
        {
          "output_type": "stream",
          "text": [
            "\r10it [01:26,  8.66s/it]"
          ],
          "name": "stderr"
        },
        {
          "output_type": "stream",
          "text": [
            "\rtrain batch [10/41]: loss 850301696.0"
          ],
          "name": "stdout"
        },
        {
          "output_type": "stream",
          "text": [
            "\r11it [01:34,  8.64s/it]"
          ],
          "name": "stderr"
        },
        {
          "output_type": "stream",
          "text": [
            "\rtrain batch [11/41]: loss 818774784.0"
          ],
          "name": "stdout"
        },
        {
          "output_type": "stream",
          "text": [
            "\r12it [01:43,  8.76s/it]"
          ],
          "name": "stderr"
        },
        {
          "output_type": "stream",
          "text": [
            "\rtrain batch [12/41]: loss 726272128.0"
          ],
          "name": "stdout"
        },
        {
          "output_type": "stream",
          "text": [
            "\r13it [01:52,  8.75s/it]"
          ],
          "name": "stderr"
        },
        {
          "output_type": "stream",
          "text": [
            "\rtrain batch [13/41]: loss 1810344064.0"
          ],
          "name": "stdout"
        },
        {
          "output_type": "stream",
          "text": [
            "\r14it [02:01,  8.73s/it]"
          ],
          "name": "stderr"
        },
        {
          "output_type": "stream",
          "text": [
            "\rtrain batch [14/41]: loss 805268480.0"
          ],
          "name": "stdout"
        },
        {
          "output_type": "stream",
          "text": [
            "\r15it [02:10,  8.72s/it]"
          ],
          "name": "stderr"
        },
        {
          "output_type": "stream",
          "text": [
            "\rtrain batch [15/41]: loss 1145020160.0"
          ],
          "name": "stdout"
        },
        {
          "output_type": "stream",
          "text": [
            "\r16it [02:18,  8.65s/it]"
          ],
          "name": "stderr"
        },
        {
          "output_type": "stream",
          "text": [
            "\rtrain batch [16/41]: loss 447685696.0"
          ],
          "name": "stdout"
        },
        {
          "output_type": "stream",
          "text": [
            "\r17it [02:27,  8.64s/it]"
          ],
          "name": "stderr"
        },
        {
          "output_type": "stream",
          "text": [
            "\rtrain batch [17/41]: loss 967193216.0"
          ],
          "name": "stdout"
        },
        {
          "output_type": "stream",
          "text": [
            "\r18it [02:35,  8.61s/it]"
          ],
          "name": "stderr"
        },
        {
          "output_type": "stream",
          "text": [
            "\rtrain batch [18/41]: loss 1025941248.0"
          ],
          "name": "stdout"
        },
        {
          "output_type": "stream",
          "text": [
            "\r19it [02:44,  8.59s/it]"
          ],
          "name": "stderr"
        },
        {
          "output_type": "stream",
          "text": [
            "\rtrain batch [19/41]: loss 1829497984.0"
          ],
          "name": "stdout"
        },
        {
          "output_type": "stream",
          "text": [
            "\r20it [02:52,  8.61s/it]"
          ],
          "name": "stderr"
        },
        {
          "output_type": "stream",
          "text": [
            "\rtrain batch [20/41]: loss 2462788096.0"
          ],
          "name": "stdout"
        },
        {
          "output_type": "stream",
          "text": [
            "\r21it [03:01,  8.60s/it]"
          ],
          "name": "stderr"
        },
        {
          "output_type": "stream",
          "text": [
            "\rtrain batch [21/41]: loss 4044191744.0"
          ],
          "name": "stdout"
        },
        {
          "output_type": "stream",
          "text": [
            "\r22it [03:10,  8.69s/it]"
          ],
          "name": "stderr"
        },
        {
          "output_type": "stream",
          "text": [
            "\rtrain batch [22/41]: loss 4606144000.0"
          ],
          "name": "stdout"
        },
        {
          "output_type": "stream",
          "text": [
            "\r23it [03:19,  8.79s/it]"
          ],
          "name": "stderr"
        },
        {
          "output_type": "stream",
          "text": [
            "\rtrain batch [23/41]: loss 2549603840.0"
          ],
          "name": "stdout"
        },
        {
          "output_type": "stream",
          "text": [
            "\r24it [03:28,  8.72s/it]"
          ],
          "name": "stderr"
        },
        {
          "output_type": "stream",
          "text": [
            "\rtrain batch [24/41]: loss 1968876416.0"
          ],
          "name": "stdout"
        },
        {
          "output_type": "stream",
          "text": [
            "\r25it [03:36,  8.66s/it]"
          ],
          "name": "stderr"
        },
        {
          "output_type": "stream",
          "text": [
            "\rtrain batch [25/41]: loss 1240659840.0"
          ],
          "name": "stdout"
        },
        {
          "output_type": "stream",
          "text": [
            "\r26it [03:45,  8.66s/it]"
          ],
          "name": "stderr"
        },
        {
          "output_type": "stream",
          "text": [
            "\rtrain batch [26/41]: loss 1517993856.0"
          ],
          "name": "stdout"
        },
        {
          "output_type": "stream",
          "text": [
            "\r27it [03:53,  8.70s/it]"
          ],
          "name": "stderr"
        },
        {
          "output_type": "stream",
          "text": [
            "\rtrain batch [27/41]: loss 1170852736.0"
          ],
          "name": "stdout"
        },
        {
          "output_type": "stream",
          "text": [
            "\r28it [04:02,  8.70s/it]"
          ],
          "name": "stderr"
        },
        {
          "output_type": "stream",
          "text": [
            "\rtrain batch [28/41]: loss 2685877248.0"
          ],
          "name": "stdout"
        },
        {
          "output_type": "stream",
          "text": [
            "\r29it [04:11,  8.70s/it]"
          ],
          "name": "stderr"
        },
        {
          "output_type": "stream",
          "text": [
            "\rtrain batch [29/41]: loss 1531163648.0"
          ],
          "name": "stdout"
        },
        {
          "output_type": "stream",
          "text": [
            "\r30it [04:20,  8.77s/it]"
          ],
          "name": "stderr"
        },
        {
          "output_type": "stream",
          "text": [
            "\rtrain batch [30/41]: loss 1392403200.0"
          ],
          "name": "stdout"
        },
        {
          "output_type": "stream",
          "text": [
            "\r31it [04:29,  8.75s/it]"
          ],
          "name": "stderr"
        },
        {
          "output_type": "stream",
          "text": [
            "\rtrain batch [31/41]: loss 2236411648.0"
          ],
          "name": "stdout"
        },
        {
          "output_type": "stream",
          "text": [
            "\r32it [04:37,  8.72s/it]"
          ],
          "name": "stderr"
        },
        {
          "output_type": "stream",
          "text": [
            "\rtrain batch [32/41]: loss 2206412288.0"
          ],
          "name": "stdout"
        },
        {
          "output_type": "stream",
          "text": [
            "\r33it [04:46,  8.73s/it]"
          ],
          "name": "stderr"
        },
        {
          "output_type": "stream",
          "text": [
            "\rtrain batch [33/41]: loss 1542462720.0"
          ],
          "name": "stdout"
        },
        {
          "output_type": "stream",
          "text": [
            "\r34it [04:55,  8.75s/it]"
          ],
          "name": "stderr"
        },
        {
          "output_type": "stream",
          "text": [
            "\rtrain batch [34/41]: loss 1685391360.0"
          ],
          "name": "stdout"
        },
        {
          "output_type": "stream",
          "text": [
            "\r35it [05:03,  8.72s/it]"
          ],
          "name": "stderr"
        },
        {
          "output_type": "stream",
          "text": [
            "\rtrain batch [35/41]: loss 1475949056.0"
          ],
          "name": "stdout"
        },
        {
          "output_type": "stream",
          "text": [
            "\r36it [05:12,  8.72s/it]"
          ],
          "name": "stderr"
        },
        {
          "output_type": "stream",
          "text": [
            "\rtrain batch [36/41]: loss 1469862656.0"
          ],
          "name": "stdout"
        },
        {
          "output_type": "stream",
          "text": [
            "\r37it [05:21,  8.76s/it]"
          ],
          "name": "stderr"
        },
        {
          "output_type": "stream",
          "text": [
            "\rtrain batch [37/41]: loss 1327303936.0"
          ],
          "name": "stdout"
        },
        {
          "output_type": "stream",
          "text": [
            "\r38it [05:30,  8.78s/it]"
          ],
          "name": "stderr"
        },
        {
          "output_type": "stream",
          "text": [
            "\rtrain batch [38/41]: loss 1641018240.0"
          ],
          "name": "stdout"
        },
        {
          "output_type": "stream",
          "text": [
            "\r39it [05:38,  8.74s/it]"
          ],
          "name": "stderr"
        },
        {
          "output_type": "stream",
          "text": [
            "\rtrain batch [39/41]: loss 677453696.0"
          ],
          "name": "stdout"
        },
        {
          "output_type": "stream",
          "text": [
            "\r40it [05:47,  8.74s/it]"
          ],
          "name": "stderr"
        },
        {
          "output_type": "stream",
          "text": [
            "\rtrain batch [40/41]: loss 759733440.0"
          ],
          "name": "stdout"
        },
        {
          "output_type": "stream",
          "text": [
            "41it [05:54,  8.64s/it]"
          ],
          "name": "stderr"
        },
        {
          "output_type": "stream",
          "text": [
            "\rval batch [0/4]: loss 1345600128.0"
          ],
          "name": "stdout"
        },
        {
          "output_type": "stream",
          "text": [
            "\n"
          ],
          "name": "stderr"
        },
        {
          "output_type": "stream",
          "text": [
            "test batch [4/5]: loss 2953100032.0"
          ],
          "name": "stdout"
        },
        {
          "output_type": "stream",
          "text": [
            "\r0it [00:00, ?it/s]"
          ],
          "name": "stderr"
        },
        {
          "output_type": "stream",
          "text": [
            "\n",
            "Train loss: 1436748423.804878, Train accuracy: 0.6863496899604797\n",
            "Val loss: 2263061088.0, Val accuracy: 0.4375\n",
            "Test loss: 1919583795.2, Test accuracy: 0.43108975887298584\n",
            "\n",
            "=============== Epoch: 22\n",
            "train batch [0/41]: loss 2783185152.0"
          ],
          "name": "stdout"
        },
        {
          "output_type": "stream",
          "text": [
            "\r1it [00:08,  8.49s/it]"
          ],
          "name": "stderr"
        },
        {
          "output_type": "stream",
          "text": [
            "\rtrain batch [1/41]: loss 1912819840.0"
          ],
          "name": "stdout"
        },
        {
          "output_type": "stream",
          "text": [
            "\r2it [00:17,  8.55s/it]"
          ],
          "name": "stderr"
        },
        {
          "output_type": "stream",
          "text": [
            "\rtrain batch [2/41]: loss 1603070336.0"
          ],
          "name": "stdout"
        },
        {
          "output_type": "stream",
          "text": [
            "\r3it [00:25,  8.63s/it]"
          ],
          "name": "stderr"
        },
        {
          "output_type": "stream",
          "text": [
            "\rtrain batch [3/41]: loss 1805228544.0"
          ],
          "name": "stdout"
        },
        {
          "output_type": "stream",
          "text": [
            "\r4it [00:34,  8.68s/it]"
          ],
          "name": "stderr"
        },
        {
          "output_type": "stream",
          "text": [
            "\rtrain batch [4/41]: loss 3125288704.0"
          ],
          "name": "stdout"
        },
        {
          "output_type": "stream",
          "text": [
            "\r5it [00:43,  8.69s/it]"
          ],
          "name": "stderr"
        },
        {
          "output_type": "stream",
          "text": [
            "\rtrain batch [5/41]: loss 1962404096.0"
          ],
          "name": "stdout"
        },
        {
          "output_type": "stream",
          "text": [
            "\r6it [00:52,  8.69s/it]"
          ],
          "name": "stderr"
        },
        {
          "output_type": "stream",
          "text": [
            "\rtrain batch [6/41]: loss 899401600.0"
          ],
          "name": "stdout"
        },
        {
          "output_type": "stream",
          "text": [
            "\r7it [01:00,  8.66s/it]"
          ],
          "name": "stderr"
        },
        {
          "output_type": "stream",
          "text": [
            "\rtrain batch [7/41]: loss 1639329792.0"
          ],
          "name": "stdout"
        },
        {
          "output_type": "stream",
          "text": [
            "\r8it [01:09,  8.67s/it]"
          ],
          "name": "stderr"
        },
        {
          "output_type": "stream",
          "text": [
            "\rtrain batch [8/41]: loss 942810368.0"
          ],
          "name": "stdout"
        },
        {
          "output_type": "stream",
          "text": [
            "\r9it [01:18,  8.72s/it]"
          ],
          "name": "stderr"
        },
        {
          "output_type": "stream",
          "text": [
            "\rtrain batch [9/41]: loss 980439424.0"
          ],
          "name": "stdout"
        },
        {
          "output_type": "stream",
          "text": [
            "\r10it [01:27,  8.73s/it]"
          ],
          "name": "stderr"
        },
        {
          "output_type": "stream",
          "text": [
            "\rtrain batch [10/41]: loss 2130967296.0"
          ],
          "name": "stdout"
        },
        {
          "output_type": "stream",
          "text": [
            "\r11it [01:35,  8.71s/it]"
          ],
          "name": "stderr"
        },
        {
          "output_type": "stream",
          "text": [
            "\rtrain batch [11/41]: loss 3019072512.0"
          ],
          "name": "stdout"
        },
        {
          "output_type": "stream",
          "text": [
            "\r12it [01:44,  8.76s/it]"
          ],
          "name": "stderr"
        },
        {
          "output_type": "stream",
          "text": [
            "\rtrain batch [12/41]: loss 4293107200.0"
          ],
          "name": "stdout"
        },
        {
          "output_type": "stream",
          "text": [
            "\r13it [01:53,  8.76s/it]"
          ],
          "name": "stderr"
        },
        {
          "output_type": "stream",
          "text": [
            "\rtrain batch [13/41]: loss 4500540416.0"
          ],
          "name": "stdout"
        },
        {
          "output_type": "stream",
          "text": [
            "\r14it [02:01,  8.68s/it]"
          ],
          "name": "stderr"
        },
        {
          "output_type": "stream",
          "text": [
            "\rtrain batch [14/41]: loss 3396753920.0"
          ],
          "name": "stdout"
        },
        {
          "output_type": "stream",
          "text": [
            "\r15it [02:10,  8.70s/it]"
          ],
          "name": "stderr"
        },
        {
          "output_type": "stream",
          "text": [
            "\rtrain batch [15/41]: loss 2239941632.0"
          ],
          "name": "stdout"
        },
        {
          "output_type": "stream",
          "text": [
            "\r16it [02:19,  8.79s/it]"
          ],
          "name": "stderr"
        },
        {
          "output_type": "stream",
          "text": [
            "\rtrain batch [16/41]: loss 4111044096.0"
          ],
          "name": "stdout"
        },
        {
          "output_type": "stream",
          "text": [
            "\r17it [02:28,  8.74s/it]"
          ],
          "name": "stderr"
        },
        {
          "output_type": "stream",
          "text": [
            "\rtrain batch [17/41]: loss 6358682624.0"
          ],
          "name": "stdout"
        },
        {
          "output_type": "stream",
          "text": [
            "\r18it [02:37,  8.88s/it]"
          ],
          "name": "stderr"
        },
        {
          "output_type": "stream",
          "text": [
            "\rtrain batch [18/41]: loss 4788286464.0"
          ],
          "name": "stdout"
        },
        {
          "output_type": "stream",
          "text": [
            "\r19it [02:46,  8.85s/it]"
          ],
          "name": "stderr"
        },
        {
          "output_type": "stream",
          "text": [
            "\rtrain batch [19/41]: loss 5714987008.0"
          ],
          "name": "stdout"
        },
        {
          "output_type": "stream",
          "text": [
            "\r20it [02:54,  8.76s/it]"
          ],
          "name": "stderr"
        },
        {
          "output_type": "stream",
          "text": [
            "\rtrain batch [20/41]: loss 1450935296.0"
          ],
          "name": "stdout"
        },
        {
          "output_type": "stream",
          "text": [
            "\r21it [03:03,  8.76s/it]"
          ],
          "name": "stderr"
        },
        {
          "output_type": "stream",
          "text": [
            "\rtrain batch [21/41]: loss 1119226496.0"
          ],
          "name": "stdout"
        },
        {
          "output_type": "stream",
          "text": [
            "\r22it [03:12,  8.79s/it]"
          ],
          "name": "stderr"
        },
        {
          "output_type": "stream",
          "text": [
            "\rtrain batch [22/41]: loss 1357375744.0"
          ],
          "name": "stdout"
        },
        {
          "output_type": "stream",
          "text": [
            "\r23it [03:21,  8.74s/it]"
          ],
          "name": "stderr"
        },
        {
          "output_type": "stream",
          "text": [
            "\rtrain batch [23/41]: loss 815645248.0"
          ],
          "name": "stdout"
        },
        {
          "output_type": "stream",
          "text": [
            "\r24it [03:29,  8.73s/it]"
          ],
          "name": "stderr"
        },
        {
          "output_type": "stream",
          "text": [
            "\rtrain batch [24/41]: loss 858781824.0"
          ],
          "name": "stdout"
        },
        {
          "output_type": "stream",
          "text": [
            "\r25it [03:38,  8.75s/it]"
          ],
          "name": "stderr"
        },
        {
          "output_type": "stream",
          "text": [
            "\rtrain batch [25/41]: loss 919691008.0"
          ],
          "name": "stdout"
        },
        {
          "output_type": "stream",
          "text": [
            "\r26it [03:47,  8.72s/it]"
          ],
          "name": "stderr"
        },
        {
          "output_type": "stream",
          "text": [
            "\rtrain batch [26/41]: loss 1356512640.0"
          ],
          "name": "stdout"
        },
        {
          "output_type": "stream",
          "text": [
            "\r27it [03:55,  8.66s/it]"
          ],
          "name": "stderr"
        },
        {
          "output_type": "stream",
          "text": [
            "\rtrain batch [27/41]: loss 1231583232.0"
          ],
          "name": "stdout"
        },
        {
          "output_type": "stream",
          "text": [
            "\r28it [04:04,  8.65s/it]"
          ],
          "name": "stderr"
        },
        {
          "output_type": "stream",
          "text": [
            "\rtrain batch [28/41]: loss 1909922048.0"
          ],
          "name": "stdout"
        },
        {
          "output_type": "stream",
          "text": [
            "\r29it [04:12,  8.60s/it]"
          ],
          "name": "stderr"
        },
        {
          "output_type": "stream",
          "text": [
            "\rtrain batch [29/41]: loss 855532928.0"
          ],
          "name": "stdout"
        },
        {
          "output_type": "stream",
          "text": [
            "\r30it [04:21,  8.56s/it]"
          ],
          "name": "stderr"
        },
        {
          "output_type": "stream",
          "text": [
            "\rtrain batch [30/41]: loss 1663802112.0"
          ],
          "name": "stdout"
        },
        {
          "output_type": "stream",
          "text": [
            "\r31it [04:30,  8.63s/it]"
          ],
          "name": "stderr"
        },
        {
          "output_type": "stream",
          "text": [
            "\rtrain batch [31/41]: loss 1268616320.0"
          ],
          "name": "stdout"
        },
        {
          "output_type": "stream",
          "text": [
            "\r32it [04:38,  8.66s/it]"
          ],
          "name": "stderr"
        },
        {
          "output_type": "stream",
          "text": [
            "\rtrain batch [32/41]: loss 3357974016.0"
          ],
          "name": "stdout"
        },
        {
          "output_type": "stream",
          "text": [
            "\r33it [04:47,  8.69s/it]"
          ],
          "name": "stderr"
        },
        {
          "output_type": "stream",
          "text": [
            "\rtrain batch [33/41]: loss 1822821888.0"
          ],
          "name": "stdout"
        },
        {
          "output_type": "stream",
          "text": [
            "\r34it [04:56,  8.69s/it]"
          ],
          "name": "stderr"
        },
        {
          "output_type": "stream",
          "text": [
            "\rtrain batch [34/41]: loss 1144969472.0"
          ],
          "name": "stdout"
        },
        {
          "output_type": "stream",
          "text": [
            "\r35it [05:04,  8.68s/it]"
          ],
          "name": "stderr"
        },
        {
          "output_type": "stream",
          "text": [
            "\rtrain batch [35/41]: loss 1119499648.0"
          ],
          "name": "stdout"
        },
        {
          "output_type": "stream",
          "text": [
            "\r36it [05:13,  8.67s/it]"
          ],
          "name": "stderr"
        },
        {
          "output_type": "stream",
          "text": [
            "\rtrain batch [36/41]: loss 818518784.0"
          ],
          "name": "stdout"
        },
        {
          "output_type": "stream",
          "text": [
            "\r37it [05:22,  8.62s/it]"
          ],
          "name": "stderr"
        },
        {
          "output_type": "stream",
          "text": [
            "\rtrain batch [37/41]: loss 908827776.0"
          ],
          "name": "stdout"
        },
        {
          "output_type": "stream",
          "text": [
            "\r38it [05:30,  8.70s/it]"
          ],
          "name": "stderr"
        },
        {
          "output_type": "stream",
          "text": [
            "\rtrain batch [38/41]: loss 968414656.0"
          ],
          "name": "stdout"
        },
        {
          "output_type": "stream",
          "text": [
            "\r39it [05:39,  8.69s/it]"
          ],
          "name": "stderr"
        },
        {
          "output_type": "stream",
          "text": [
            "\rtrain batch [39/41]: loss 1508842240.0"
          ],
          "name": "stdout"
        },
        {
          "output_type": "stream",
          "text": [
            "\r40it [05:48,  8.75s/it]"
          ],
          "name": "stderr"
        },
        {
          "output_type": "stream",
          "text": [
            "\rtrain batch [40/41]: loss 736700096.0"
          ],
          "name": "stdout"
        },
        {
          "output_type": "stream",
          "text": [
            "41it [05:54,  8.66s/it]"
          ],
          "name": "stderr"
        },
        {
          "output_type": "stream",
          "text": [
            "\rval batch [0/4]: loss 4146946048.0"
          ],
          "name": "stdout"
        },
        {
          "output_type": "stream",
          "text": [
            "\n"
          ],
          "name": "stderr"
        },
        {
          "output_type": "stream",
          "text": [
            "test batch [4/5]: loss 543739264.0"
          ],
          "name": "stdout"
        },
        {
          "output_type": "stream",
          "text": [
            "\r0it [00:00, ?it/s]"
          ],
          "name": "stderr"
        },
        {
          "output_type": "stream",
          "text": [
            "\n",
            "Train loss: 2082964712.5853658, Train accuracy: 0.5786042809486389\n",
            "Val loss: 1611497792.0, Val accuracy: 0.75\n",
            "Test loss: 1450257568.0, Test accuracy: 0.7019230723381042\n",
            "\n",
            "=============== Epoch: 23\n",
            "train batch [0/41]: loss 785818816.0"
          ],
          "name": "stdout"
        },
        {
          "output_type": "stream",
          "text": [
            "\r1it [00:08,  8.81s/it]"
          ],
          "name": "stderr"
        },
        {
          "output_type": "stream",
          "text": [
            "\rtrain batch [1/41]: loss 1080607232.0"
          ],
          "name": "stdout"
        },
        {
          "output_type": "stream",
          "text": [
            "\r2it [00:17,  8.72s/it]"
          ],
          "name": "stderr"
        },
        {
          "output_type": "stream",
          "text": [
            "\rtrain batch [2/41]: loss 1902608896.0"
          ],
          "name": "stdout"
        },
        {
          "output_type": "stream",
          "text": [
            "\r3it [00:26,  8.76s/it]"
          ],
          "name": "stderr"
        },
        {
          "output_type": "stream",
          "text": [
            "\rtrain batch [3/41]: loss 1689607680.0"
          ],
          "name": "stdout"
        },
        {
          "output_type": "stream",
          "text": [
            "\r4it [00:34,  8.75s/it]"
          ],
          "name": "stderr"
        },
        {
          "output_type": "stream",
          "text": [
            "\rtrain batch [4/41]: loss 1310332416.0"
          ],
          "name": "stdout"
        },
        {
          "output_type": "stream",
          "text": [
            "\r5it [00:43,  8.71s/it]"
          ],
          "name": "stderr"
        },
        {
          "output_type": "stream",
          "text": [
            "\rtrain batch [5/41]: loss 1557355904.0"
          ],
          "name": "stdout"
        },
        {
          "output_type": "stream",
          "text": [
            "\r6it [00:52,  8.78s/it]"
          ],
          "name": "stderr"
        },
        {
          "output_type": "stream",
          "text": [
            "\rtrain batch [6/41]: loss 1043441920.0"
          ],
          "name": "stdout"
        },
        {
          "output_type": "stream",
          "text": [
            "\r7it [01:01,  8.72s/it]"
          ],
          "name": "stderr"
        },
        {
          "output_type": "stream",
          "text": [
            "\rtrain batch [7/41]: loss 1185010176.0"
          ],
          "name": "stdout"
        },
        {
          "output_type": "stream",
          "text": [
            "\r8it [01:09,  8.74s/it]"
          ],
          "name": "stderr"
        },
        {
          "output_type": "stream",
          "text": [
            "\rtrain batch [8/41]: loss 2825244928.0"
          ],
          "name": "stdout"
        },
        {
          "output_type": "stream",
          "text": [
            "\r9it [01:18,  8.70s/it]"
          ],
          "name": "stderr"
        },
        {
          "output_type": "stream",
          "text": [
            "\rtrain batch [9/41]: loss 4517449728.0"
          ],
          "name": "stdout"
        },
        {
          "output_type": "stream",
          "text": [
            "\r10it [01:27,  8.66s/it]"
          ],
          "name": "stderr"
        },
        {
          "output_type": "stream",
          "text": [
            "\rtrain batch [10/41]: loss 3402656768.0"
          ],
          "name": "stdout"
        },
        {
          "output_type": "stream",
          "text": [
            "\r11it [01:35,  8.73s/it]"
          ],
          "name": "stderr"
        },
        {
          "output_type": "stream",
          "text": [
            "\rtrain batch [11/41]: loss 1773170560.0"
          ],
          "name": "stdout"
        },
        {
          "output_type": "stream",
          "text": [
            "\r12it [01:44,  8.74s/it]"
          ],
          "name": "stderr"
        },
        {
          "output_type": "stream",
          "text": [
            "\rtrain batch [12/41]: loss 2798743552.0"
          ],
          "name": "stdout"
        },
        {
          "output_type": "stream",
          "text": [
            "\r13it [01:53,  8.76s/it]"
          ],
          "name": "stderr"
        },
        {
          "output_type": "stream",
          "text": [
            "\rtrain batch [13/41]: loss 1794014848.0"
          ],
          "name": "stdout"
        },
        {
          "output_type": "stream",
          "text": [
            "\r14it [02:01,  8.69s/it]"
          ],
          "name": "stderr"
        },
        {
          "output_type": "stream",
          "text": [
            "\rtrain batch [14/41]: loss 2569647616.0"
          ],
          "name": "stdout"
        },
        {
          "output_type": "stream",
          "text": [
            "\r15it [02:10,  8.69s/it]"
          ],
          "name": "stderr"
        },
        {
          "output_type": "stream",
          "text": [
            "\rtrain batch [15/41]: loss 4412358656.0"
          ],
          "name": "stdout"
        },
        {
          "output_type": "stream",
          "text": [
            "\r16it [02:19,  8.73s/it]"
          ],
          "name": "stderr"
        },
        {
          "output_type": "stream",
          "text": [
            "\rtrain batch [16/41]: loss 2714331136.0"
          ],
          "name": "stdout"
        },
        {
          "output_type": "stream",
          "text": [
            "\r17it [02:28,  8.76s/it]"
          ],
          "name": "stderr"
        },
        {
          "output_type": "stream",
          "text": [
            "\rtrain batch [17/41]: loss 2168303104.0"
          ],
          "name": "stdout"
        },
        {
          "output_type": "stream",
          "text": [
            "\r18it [02:37,  8.84s/it]"
          ],
          "name": "stderr"
        },
        {
          "output_type": "stream",
          "text": [
            "\rtrain batch [18/41]: loss 2681796096.0"
          ],
          "name": "stdout"
        },
        {
          "output_type": "stream",
          "text": [
            "\r19it [02:45,  8.74s/it]"
          ],
          "name": "stderr"
        },
        {
          "output_type": "stream",
          "text": [
            "\rtrain batch [19/41]: loss 2529170688.0"
          ],
          "name": "stdout"
        },
        {
          "output_type": "stream",
          "text": [
            "\r20it [02:54,  8.79s/it]"
          ],
          "name": "stderr"
        },
        {
          "output_type": "stream",
          "text": [
            "\rtrain batch [20/41]: loss 3445645312.0"
          ],
          "name": "stdout"
        },
        {
          "output_type": "stream",
          "text": [
            "\r21it [03:03,  8.85s/it]"
          ],
          "name": "stderr"
        },
        {
          "output_type": "stream",
          "text": [
            "\rtrain batch [21/41]: loss 1531920128.0"
          ],
          "name": "stdout"
        },
        {
          "output_type": "stream",
          "text": [
            "\r22it [03:12,  8.74s/it]"
          ],
          "name": "stderr"
        },
        {
          "output_type": "stream",
          "text": [
            "\rtrain batch [22/41]: loss 9789842432.0"
          ],
          "name": "stdout"
        },
        {
          "output_type": "stream",
          "text": [
            "\r23it [03:20,  8.71s/it]"
          ],
          "name": "stderr"
        },
        {
          "output_type": "stream",
          "text": [
            "\rtrain batch [23/41]: loss 3699744768.0"
          ],
          "name": "stdout"
        },
        {
          "output_type": "stream",
          "text": [
            "\r24it [03:29,  8.67s/it]"
          ],
          "name": "stderr"
        },
        {
          "output_type": "stream",
          "text": [
            "\rtrain batch [24/41]: loss 2792171264.0"
          ],
          "name": "stdout"
        },
        {
          "output_type": "stream",
          "text": [
            "\r25it [03:37,  8.61s/it]"
          ],
          "name": "stderr"
        },
        {
          "output_type": "stream",
          "text": [
            "\rtrain batch [25/41]: loss 2536066560.0"
          ],
          "name": "stdout"
        },
        {
          "output_type": "stream",
          "text": [
            "\r26it [03:46,  8.66s/it]"
          ],
          "name": "stderr"
        },
        {
          "output_type": "stream",
          "text": [
            "\rtrain batch [26/41]: loss 2156315648.0"
          ],
          "name": "stdout"
        },
        {
          "output_type": "stream",
          "text": [
            "\r27it [03:55,  8.69s/it]"
          ],
          "name": "stderr"
        },
        {
          "output_type": "stream",
          "text": [
            "\rtrain batch [27/41]: loss 1738319872.0"
          ],
          "name": "stdout"
        },
        {
          "output_type": "stream",
          "text": [
            "\r28it [04:04,  8.66s/it]"
          ],
          "name": "stderr"
        },
        {
          "output_type": "stream",
          "text": [
            "\rtrain batch [28/41]: loss 2194640896.0"
          ],
          "name": "stdout"
        },
        {
          "output_type": "stream",
          "text": [
            "\r29it [04:12,  8.64s/it]"
          ],
          "name": "stderr"
        },
        {
          "output_type": "stream",
          "text": [
            "\rtrain batch [29/41]: loss 2752771584.0"
          ],
          "name": "stdout"
        },
        {
          "output_type": "stream",
          "text": [
            "\r30it [04:21,  8.61s/it]"
          ],
          "name": "stderr"
        },
        {
          "output_type": "stream",
          "text": [
            "\rtrain batch [30/41]: loss 8034904064.0"
          ],
          "name": "stdout"
        },
        {
          "output_type": "stream",
          "text": [
            "\r31it [04:30,  8.67s/it]"
          ],
          "name": "stderr"
        },
        {
          "output_type": "stream",
          "text": [
            "\rtrain batch [31/41]: loss 5859771392.0"
          ],
          "name": "stdout"
        },
        {
          "output_type": "stream",
          "text": [
            "\r32it [04:38,  8.70s/it]"
          ],
          "name": "stderr"
        },
        {
          "output_type": "stream",
          "text": [
            "\rtrain batch [32/41]: loss 6581074944.0"
          ],
          "name": "stdout"
        },
        {
          "output_type": "stream",
          "text": [
            "\r33it [04:47,  8.65s/it]"
          ],
          "name": "stderr"
        },
        {
          "output_type": "stream",
          "text": [
            "\rtrain batch [33/41]: loss 5112573952.0"
          ],
          "name": "stdout"
        },
        {
          "output_type": "stream",
          "text": [
            "\r34it [04:56,  8.75s/it]"
          ],
          "name": "stderr"
        },
        {
          "output_type": "stream",
          "text": [
            "\rtrain batch [34/41]: loss 2329604864.0"
          ],
          "name": "stdout"
        },
        {
          "output_type": "stream",
          "text": [
            "\r35it [05:04,  8.72s/it]"
          ],
          "name": "stderr"
        },
        {
          "output_type": "stream",
          "text": [
            "\rtrain batch [35/41]: loss 3981563392.0"
          ],
          "name": "stdout"
        },
        {
          "output_type": "stream",
          "text": [
            "\r36it [05:13,  8.72s/it]"
          ],
          "name": "stderr"
        },
        {
          "output_type": "stream",
          "text": [
            "\rtrain batch [36/41]: loss 3291076096.0"
          ],
          "name": "stdout"
        },
        {
          "output_type": "stream",
          "text": [
            "\r37it [05:22,  8.74s/it]"
          ],
          "name": "stderr"
        },
        {
          "output_type": "stream",
          "text": [
            "\rtrain batch [37/41]: loss 3199548160.0"
          ],
          "name": "stdout"
        },
        {
          "output_type": "stream",
          "text": [
            "\r38it [05:31,  8.86s/it]"
          ],
          "name": "stderr"
        },
        {
          "output_type": "stream",
          "text": [
            "\rtrain batch [38/41]: loss 11215309824.0"
          ],
          "name": "stdout"
        },
        {
          "output_type": "stream",
          "text": [
            "\r39it [05:40,  8.82s/it]"
          ],
          "name": "stderr"
        },
        {
          "output_type": "stream",
          "text": [
            "\rtrain batch [39/41]: loss 2467296512.0"
          ],
          "name": "stdout"
        },
        {
          "output_type": "stream",
          "text": [
            "\r40it [05:48,  8.75s/it]"
          ],
          "name": "stderr"
        },
        {
          "output_type": "stream",
          "text": [
            "\rtrain batch [40/41]: loss 3336780288.0"
          ],
          "name": "stdout"
        },
        {
          "output_type": "stream",
          "text": [
            "41it [05:55,  8.67s/it]"
          ],
          "name": "stderr"
        },
        {
          "output_type": "stream",
          "text": [
            "\rval batch [0/4]: loss 9448164352.0"
          ],
          "name": "stdout"
        },
        {
          "output_type": "stream",
          "text": [
            "\n"
          ],
          "name": "stderr"
        },
        {
          "output_type": "stream",
          "text": [
            "test batch [4/5]: loss 371791520.0"
          ],
          "name": "stdout"
        },
        {
          "output_type": "stream",
          "text": [
            "\r0it [00:00, ?it/s]"
          ],
          "name": "stderr"
        },
        {
          "output_type": "stream",
          "text": [
            "\n",
            "Train loss: 3238746588.097561, Train accuracy: 0.6566334366798401\n",
            "Val loss: 5064279552.0, Val accuracy: 0.5625\n",
            "Test loss: 5121300883.2, Test accuracy: 0.6330128312110901\n",
            "\n",
            "=============== Epoch: 24\n",
            "train batch [0/41]: loss 2615351040.0"
          ],
          "name": "stdout"
        },
        {
          "output_type": "stream",
          "text": [
            "\r1it [00:08,  8.48s/it]"
          ],
          "name": "stderr"
        },
        {
          "output_type": "stream",
          "text": [
            "\rtrain batch [1/41]: loss 1929782784.0"
          ],
          "name": "stdout"
        },
        {
          "output_type": "stream",
          "text": [
            "\r2it [00:17,  8.55s/it]"
          ],
          "name": "stderr"
        },
        {
          "output_type": "stream",
          "text": [
            "\rtrain batch [2/41]: loss 3207399936.0"
          ],
          "name": "stdout"
        },
        {
          "output_type": "stream",
          "text": [
            "\r3it [00:25,  8.56s/it]"
          ],
          "name": "stderr"
        },
        {
          "output_type": "stream",
          "text": [
            "\rtrain batch [3/41]: loss 5239949312.0"
          ],
          "name": "stdout"
        },
        {
          "output_type": "stream",
          "text": [
            "\r4it [00:34,  8.57s/it]"
          ],
          "name": "stderr"
        },
        {
          "output_type": "stream",
          "text": [
            "\rtrain batch [4/41]: loss 3919198208.0"
          ],
          "name": "stdout"
        },
        {
          "output_type": "stream",
          "text": [
            "\r5it [00:43,  8.73s/it]"
          ],
          "name": "stderr"
        },
        {
          "output_type": "stream",
          "text": [
            "\rtrain batch [5/41]: loss 3488123392.0"
          ],
          "name": "stdout"
        },
        {
          "output_type": "stream",
          "text": [
            "\r6it [00:51,  8.66s/it]"
          ],
          "name": "stderr"
        },
        {
          "output_type": "stream",
          "text": [
            "\rtrain batch [6/41]: loss 7942331392.0"
          ],
          "name": "stdout"
        },
        {
          "output_type": "stream",
          "text": [
            "\r7it [01:00,  8.68s/it]"
          ],
          "name": "stderr"
        },
        {
          "output_type": "stream",
          "text": [
            "\rtrain batch [7/41]: loss 4009873408.0"
          ],
          "name": "stdout"
        },
        {
          "output_type": "stream",
          "text": [
            "\r8it [01:09,  8.77s/it]"
          ],
          "name": "stderr"
        },
        {
          "output_type": "stream",
          "text": [
            "\rtrain batch [8/41]: loss 3201408256.0"
          ],
          "name": "stdout"
        },
        {
          "output_type": "stream",
          "text": [
            "\r9it [01:18,  8.87s/it]"
          ],
          "name": "stderr"
        },
        {
          "output_type": "stream",
          "text": [
            "\rtrain batch [9/41]: loss 4484709376.0"
          ],
          "name": "stdout"
        },
        {
          "output_type": "stream",
          "text": [
            "\r10it [01:27,  8.83s/it]"
          ],
          "name": "stderr"
        },
        {
          "output_type": "stream",
          "text": [
            "\rtrain batch [10/41]: loss 4185338112.0"
          ],
          "name": "stdout"
        },
        {
          "output_type": "stream",
          "text": [
            "\r11it [01:36,  8.77s/it]"
          ],
          "name": "stderr"
        },
        {
          "output_type": "stream",
          "text": [
            "\rtrain batch [11/41]: loss 3831826944.0"
          ],
          "name": "stdout"
        },
        {
          "output_type": "stream",
          "text": [
            "\r12it [01:44,  8.75s/it]"
          ],
          "name": "stderr"
        },
        {
          "output_type": "stream",
          "text": [
            "\rtrain batch [12/41]: loss 7042058240.0"
          ],
          "name": "stdout"
        },
        {
          "output_type": "stream",
          "text": [
            "\r13it [01:53,  8.76s/it]"
          ],
          "name": "stderr"
        },
        {
          "output_type": "stream",
          "text": [
            "\rtrain batch [13/41]: loss 16055066624.0"
          ],
          "name": "stdout"
        },
        {
          "output_type": "stream",
          "text": [
            "\r14it [02:02,  8.73s/it]"
          ],
          "name": "stderr"
        },
        {
          "output_type": "stream",
          "text": [
            "\rtrain batch [14/41]: loss 23702183936.0"
          ],
          "name": "stdout"
        },
        {
          "output_type": "stream",
          "text": [
            "\r15it [02:11,  8.72s/it]"
          ],
          "name": "stderr"
        },
        {
          "output_type": "stream",
          "text": [
            "\rtrain batch [15/41]: loss 8487794176.0"
          ],
          "name": "stdout"
        },
        {
          "output_type": "stream",
          "text": [
            "\r16it [02:19,  8.66s/it]"
          ],
          "name": "stderr"
        },
        {
          "output_type": "stream",
          "text": [
            "\rtrain batch [16/41]: loss 3767956480.0"
          ],
          "name": "stdout"
        },
        {
          "output_type": "stream",
          "text": [
            "\r17it [02:28,  8.62s/it]"
          ],
          "name": "stderr"
        },
        {
          "output_type": "stream",
          "text": [
            "\rtrain batch [17/41]: loss 4115183104.0"
          ],
          "name": "stdout"
        },
        {
          "output_type": "stream",
          "text": [
            "\r18it [02:36,  8.62s/it]"
          ],
          "name": "stderr"
        },
        {
          "output_type": "stream",
          "text": [
            "\rtrain batch [18/41]: loss 11794503680.0"
          ],
          "name": "stdout"
        },
        {
          "output_type": "stream",
          "text": [
            "\r19it [02:45,  8.65s/it]"
          ],
          "name": "stderr"
        },
        {
          "output_type": "stream",
          "text": [
            "\rtrain batch [19/41]: loss 3860374528.0"
          ],
          "name": "stdout"
        },
        {
          "output_type": "stream",
          "text": [
            "\r20it [02:54,  8.65s/it]"
          ],
          "name": "stderr"
        },
        {
          "output_type": "stream",
          "text": [
            "\rtrain batch [20/41]: loss 7826309120.0"
          ],
          "name": "stdout"
        },
        {
          "output_type": "stream",
          "text": [
            "\r21it [03:02,  8.67s/it]"
          ],
          "name": "stderr"
        },
        {
          "output_type": "stream",
          "text": [
            "\rtrain batch [21/41]: loss 7097290752.0"
          ],
          "name": "stdout"
        },
        {
          "output_type": "stream",
          "text": [
            "\r22it [03:11,  8.67s/it]"
          ],
          "name": "stderr"
        },
        {
          "output_type": "stream",
          "text": [
            "\rtrain batch [22/41]: loss 4376466432.0"
          ],
          "name": "stdout"
        },
        {
          "output_type": "stream",
          "text": [
            "\r23it [03:20,  8.70s/it]"
          ],
          "name": "stderr"
        },
        {
          "output_type": "stream",
          "text": [
            "\rtrain batch [23/41]: loss 7354175488.0"
          ],
          "name": "stdout"
        },
        {
          "output_type": "stream",
          "text": [
            "\r24it [03:29,  8.77s/it]"
          ],
          "name": "stderr"
        },
        {
          "output_type": "stream",
          "text": [
            "\rtrain batch [24/41]: loss 4865494016.0"
          ],
          "name": "stdout"
        },
        {
          "output_type": "stream",
          "text": [
            "\r25it [03:37,  8.75s/it]"
          ],
          "name": "stderr"
        },
        {
          "output_type": "stream",
          "text": [
            "\rtrain batch [25/41]: loss 3738740480.0"
          ],
          "name": "stdout"
        },
        {
          "output_type": "stream",
          "text": [
            "\r26it [03:46,  8.71s/it]"
          ],
          "name": "stderr"
        },
        {
          "output_type": "stream",
          "text": [
            "\rtrain batch [26/41]: loss 6249377280.0"
          ],
          "name": "stdout"
        },
        {
          "output_type": "stream",
          "text": [
            "\r27it [03:55,  8.74s/it]"
          ],
          "name": "stderr"
        },
        {
          "output_type": "stream",
          "text": [
            "\rtrain batch [27/41]: loss 4688610816.0"
          ],
          "name": "stdout"
        },
        {
          "output_type": "stream",
          "text": [
            "\r28it [04:03,  8.69s/it]"
          ],
          "name": "stderr"
        },
        {
          "output_type": "stream",
          "text": [
            "\rtrain batch [28/41]: loss 7774176256.0"
          ],
          "name": "stdout"
        },
        {
          "output_type": "stream",
          "text": [
            "\r29it [04:12,  8.71s/it]"
          ],
          "name": "stderr"
        },
        {
          "output_type": "stream",
          "text": [
            "\rtrain batch [29/41]: loss 8364670464.0"
          ],
          "name": "stdout"
        },
        {
          "output_type": "stream",
          "text": [
            "\r30it [04:21,  8.73s/it]"
          ],
          "name": "stderr"
        },
        {
          "output_type": "stream",
          "text": [
            "\rtrain batch [30/41]: loss 7112933888.0"
          ],
          "name": "stdout"
        },
        {
          "output_type": "stream",
          "text": [
            "\r31it [04:30,  8.77s/it]"
          ],
          "name": "stderr"
        },
        {
          "output_type": "stream",
          "text": [
            "\rtrain batch [31/41]: loss 14320323584.0"
          ],
          "name": "stdout"
        },
        {
          "output_type": "stream",
          "text": [
            "\r32it [04:38,  8.75s/it]"
          ],
          "name": "stderr"
        },
        {
          "output_type": "stream",
          "text": [
            "\rtrain batch [32/41]: loss 6970621952.0"
          ],
          "name": "stdout"
        },
        {
          "output_type": "stream",
          "text": [
            "\r33it [04:47,  8.78s/it]"
          ],
          "name": "stderr"
        },
        {
          "output_type": "stream",
          "text": [
            "\rtrain batch [33/41]: loss 5726968832.0"
          ],
          "name": "stdout"
        },
        {
          "output_type": "stream",
          "text": [
            "\r34it [04:56,  8.74s/it]"
          ],
          "name": "stderr"
        },
        {
          "output_type": "stream",
          "text": [
            "\rtrain batch [34/41]: loss 5489751040.0"
          ],
          "name": "stdout"
        },
        {
          "output_type": "stream",
          "text": [
            "\r35it [05:05,  8.73s/it]"
          ],
          "name": "stderr"
        },
        {
          "output_type": "stream",
          "text": [
            "\rtrain batch [35/41]: loss 8441801728.0"
          ],
          "name": "stdout"
        },
        {
          "output_type": "stream",
          "text": [
            "\r36it [05:13,  8.68s/it]"
          ],
          "name": "stderr"
        },
        {
          "output_type": "stream",
          "text": [
            "\rtrain batch [36/41]: loss 10581470208.0"
          ],
          "name": "stdout"
        },
        {
          "output_type": "stream",
          "text": [
            "\r37it [05:22,  8.68s/it]"
          ],
          "name": "stderr"
        },
        {
          "output_type": "stream",
          "text": [
            "\rtrain batch [37/41]: loss 22703816704.0"
          ],
          "name": "stdout"
        },
        {
          "output_type": "stream",
          "text": [
            "\r38it [05:31,  8.72s/it]"
          ],
          "name": "stderr"
        },
        {
          "output_type": "stream",
          "text": [
            "\rtrain batch [38/41]: loss 6918528512.0"
          ],
          "name": "stdout"
        },
        {
          "output_type": "stream",
          "text": [
            "\r39it [05:39,  8.72s/it]"
          ],
          "name": "stderr"
        },
        {
          "output_type": "stream",
          "text": [
            "\rtrain batch [39/41]: loss 3389060352.0"
          ],
          "name": "stdout"
        },
        {
          "output_type": "stream",
          "text": [
            "\r40it [05:48,  8.65s/it]"
          ],
          "name": "stderr"
        },
        {
          "output_type": "stream",
          "text": [
            "\rtrain batch [40/41]: loss 6374009856.0"
          ],
          "name": "stdout"
        },
        {
          "output_type": "stream",
          "text": [
            "41it [05:55,  8.66s/it]"
          ],
          "name": "stderr"
        },
        {
          "output_type": "stream",
          "text": [
            "\rval batch [0/4]: loss 35437694976.0"
          ],
          "name": "stdout"
        },
        {
          "output_type": "stream",
          "text": [
            "\n"
          ],
          "name": "stderr"
        },
        {
          "output_type": "stream",
          "text": [
            "test batch [4/5]: loss 58056488.0"
          ],
          "name": "stdout"
        },
        {
          "output_type": "stream",
          "text": [
            "\r0it [00:00, ?it/s]"
          ],
          "name": "stderr"
        },
        {
          "output_type": "stream",
          "text": [
            "\n",
            "Train loss: 7005975917.268292, Train accuracy: 0.5573236346244812\n",
            "Val loss: 16486503424.0, Val accuracy: 0.5\n",
            "Test loss: 14720613028.0, Test accuracy: 0.6282051205635071\n",
            "\n",
            "=============== Epoch: 25\n",
            "train batch [0/41]: loss 11603472384.0"
          ],
          "name": "stdout"
        },
        {
          "output_type": "stream",
          "text": [
            "\r1it [00:08,  8.67s/it]"
          ],
          "name": "stderr"
        },
        {
          "output_type": "stream",
          "text": [
            "\rtrain batch [1/41]: loss 5699041280.0"
          ],
          "name": "stdout"
        },
        {
          "output_type": "stream",
          "text": [
            "\r2it [00:17,  8.67s/it]"
          ],
          "name": "stderr"
        },
        {
          "output_type": "stream",
          "text": [
            "\rtrain batch [2/41]: loss 14990044160.0"
          ],
          "name": "stdout"
        },
        {
          "output_type": "stream",
          "text": [
            "\r3it [00:26,  8.67s/it]"
          ],
          "name": "stderr"
        },
        {
          "output_type": "stream",
          "text": [
            "\rtrain batch [3/41]: loss 19642449920.0"
          ],
          "name": "stdout"
        },
        {
          "output_type": "stream",
          "text": [
            "\r4it [00:34,  8.72s/it]"
          ],
          "name": "stderr"
        },
        {
          "output_type": "stream",
          "text": [
            "\rtrain batch [4/41]: loss 5246181888.0"
          ],
          "name": "stdout"
        },
        {
          "output_type": "stream",
          "text": [
            "\r5it [00:43,  8.67s/it]"
          ],
          "name": "stderr"
        },
        {
          "output_type": "stream",
          "text": [
            "\rtrain batch [5/41]: loss 11171068928.0"
          ],
          "name": "stdout"
        },
        {
          "output_type": "stream",
          "text": [
            "\r6it [00:52,  8.72s/it]"
          ],
          "name": "stderr"
        },
        {
          "output_type": "stream",
          "text": [
            "\rtrain batch [6/41]: loss 5357895680.0"
          ],
          "name": "stdout"
        },
        {
          "output_type": "stream",
          "text": [
            "\r7it [01:00,  8.60s/it]"
          ],
          "name": "stderr"
        },
        {
          "output_type": "stream",
          "text": [
            "\rtrain batch [7/41]: loss 9677707264.0"
          ],
          "name": "stdout"
        },
        {
          "output_type": "stream",
          "text": [
            "\r8it [01:09,  8.70s/it]"
          ],
          "name": "stderr"
        },
        {
          "output_type": "stream",
          "text": [
            "\rtrain batch [8/41]: loss 11050994688.0"
          ],
          "name": "stdout"
        },
        {
          "output_type": "stream",
          "text": [
            "\r9it [01:17,  8.63s/it]"
          ],
          "name": "stderr"
        },
        {
          "output_type": "stream",
          "text": [
            "\rtrain batch [9/41]: loss 12777576448.0"
          ],
          "name": "stdout"
        },
        {
          "output_type": "stream",
          "text": [
            "\r10it [01:26,  8.63s/it]"
          ],
          "name": "stderr"
        },
        {
          "output_type": "stream",
          "text": [
            "\rtrain batch [10/41]: loss 11294242816.0"
          ],
          "name": "stdout"
        },
        {
          "output_type": "stream",
          "text": [
            "\r11it [01:35,  8.61s/it]"
          ],
          "name": "stderr"
        },
        {
          "output_type": "stream",
          "text": [
            "\rtrain batch [11/41]: loss 5161628672.0"
          ],
          "name": "stdout"
        },
        {
          "output_type": "stream",
          "text": [
            "\r12it [01:44,  8.73s/it]"
          ],
          "name": "stderr"
        },
        {
          "output_type": "stream",
          "text": [
            "\rtrain batch [12/41]: loss 7004921344.0"
          ],
          "name": "stdout"
        },
        {
          "output_type": "stream",
          "text": [
            "\r13it [01:52,  8.71s/it]"
          ],
          "name": "stderr"
        },
        {
          "output_type": "stream",
          "text": [
            "\rtrain batch [13/41]: loss 6696270336.0"
          ],
          "name": "stdout"
        },
        {
          "output_type": "stream",
          "text": [
            "\r14it [02:01,  8.71s/it]"
          ],
          "name": "stderr"
        },
        {
          "output_type": "stream",
          "text": [
            "\rtrain batch [14/41]: loss 29167804416.0"
          ],
          "name": "stdout"
        },
        {
          "output_type": "stream",
          "text": [
            "\r15it [02:10,  8.67s/it]"
          ],
          "name": "stderr"
        },
        {
          "output_type": "stream",
          "text": [
            "\rtrain batch [15/41]: loss 18659600384.0"
          ],
          "name": "stdout"
        },
        {
          "output_type": "stream",
          "text": [
            "\r16it [02:18,  8.62s/it]"
          ],
          "name": "stderr"
        },
        {
          "output_type": "stream",
          "text": [
            "\rtrain batch [16/41]: loss 14640193536.0"
          ],
          "name": "stdout"
        },
        {
          "output_type": "stream",
          "text": [
            "\r17it [02:27,  8.64s/it]"
          ],
          "name": "stderr"
        },
        {
          "output_type": "stream",
          "text": [
            "\rtrain batch [17/41]: loss 12643494912.0"
          ],
          "name": "stdout"
        },
        {
          "output_type": "stream",
          "text": [
            "\r18it [02:35,  8.61s/it]"
          ],
          "name": "stderr"
        },
        {
          "output_type": "stream",
          "text": [
            "\rtrain batch [18/41]: loss 10910850048.0"
          ],
          "name": "stdout"
        },
        {
          "output_type": "stream",
          "text": [
            "\r19it [02:44,  8.66s/it]"
          ],
          "name": "stderr"
        },
        {
          "output_type": "stream",
          "text": [
            "\rtrain batch [19/41]: loss 5813667840.0"
          ],
          "name": "stdout"
        },
        {
          "output_type": "stream",
          "text": [
            "\r20it [02:53,  8.61s/it]"
          ],
          "name": "stderr"
        },
        {
          "output_type": "stream",
          "text": [
            "\rtrain batch [20/41]: loss 10649498624.0"
          ],
          "name": "stdout"
        },
        {
          "output_type": "stream",
          "text": [
            "\r21it [03:01,  8.67s/it]"
          ],
          "name": "stderr"
        },
        {
          "output_type": "stream",
          "text": [
            "\rtrain batch [21/41]: loss 8787372032.0"
          ],
          "name": "stdout"
        },
        {
          "output_type": "stream",
          "text": [
            "\r22it [03:10,  8.65s/it]"
          ],
          "name": "stderr"
        },
        {
          "output_type": "stream",
          "text": [
            "\rtrain batch [22/41]: loss 9346952192.0"
          ],
          "name": "stdout"
        },
        {
          "output_type": "stream",
          "text": [
            "\r23it [03:19,  8.67s/it]"
          ],
          "name": "stderr"
        },
        {
          "output_type": "stream",
          "text": [
            "\rtrain batch [23/41]: loss 11473260544.0"
          ],
          "name": "stdout"
        },
        {
          "output_type": "stream",
          "text": [
            "\r24it [03:27,  8.65s/it]"
          ],
          "name": "stderr"
        },
        {
          "output_type": "stream",
          "text": [
            "\rtrain batch [24/41]: loss 9483540480.0"
          ],
          "name": "stdout"
        },
        {
          "output_type": "stream",
          "text": [
            "\r25it [03:36,  8.72s/it]"
          ],
          "name": "stderr"
        },
        {
          "output_type": "stream",
          "text": [
            "\rtrain batch [25/41]: loss 15592289280.0"
          ],
          "name": "stdout"
        },
        {
          "output_type": "stream",
          "text": [
            "\r26it [03:45,  8.69s/it]"
          ],
          "name": "stderr"
        },
        {
          "output_type": "stream",
          "text": [
            "\rtrain batch [26/41]: loss 8942449664.0"
          ],
          "name": "stdout"
        },
        {
          "output_type": "stream",
          "text": [
            "\r27it [03:53,  8.63s/it]"
          ],
          "name": "stderr"
        },
        {
          "output_type": "stream",
          "text": [
            "\rtrain batch [27/41]: loss 16965363712.0"
          ],
          "name": "stdout"
        },
        {
          "output_type": "stream",
          "text": [
            "\r28it [04:02,  8.63s/it]"
          ],
          "name": "stderr"
        },
        {
          "output_type": "stream",
          "text": [
            "\rtrain batch [28/41]: loss 19358547968.0"
          ],
          "name": "stdout"
        },
        {
          "output_type": "stream",
          "text": [
            "\r29it [04:11,  8.64s/it]"
          ],
          "name": "stderr"
        },
        {
          "output_type": "stream",
          "text": [
            "\rtrain batch [29/41]: loss 12414765056.0"
          ],
          "name": "stdout"
        },
        {
          "output_type": "stream",
          "text": [
            "\r30it [04:19,  8.65s/it]"
          ],
          "name": "stderr"
        },
        {
          "output_type": "stream",
          "text": [
            "\rtrain batch [30/41]: loss 12730957824.0"
          ],
          "name": "stdout"
        },
        {
          "output_type": "stream",
          "text": [
            "\r31it [04:28,  8.70s/it]"
          ],
          "name": "stderr"
        },
        {
          "output_type": "stream",
          "text": [
            "\rtrain batch [31/41]: loss 7156461568.0"
          ],
          "name": "stdout"
        },
        {
          "output_type": "stream",
          "text": [
            "\r32it [04:37,  8.65s/it]"
          ],
          "name": "stderr"
        },
        {
          "output_type": "stream",
          "text": [
            "\rtrain batch [32/41]: loss 12916539392.0"
          ],
          "name": "stdout"
        },
        {
          "output_type": "stream",
          "text": [
            "\r33it [04:45,  8.68s/it]"
          ],
          "name": "stderr"
        },
        {
          "output_type": "stream",
          "text": [
            "\rtrain batch [33/41]: loss 16296139776.0"
          ],
          "name": "stdout"
        },
        {
          "output_type": "stream",
          "text": [
            "\r34it [04:54,  8.71s/it]"
          ],
          "name": "stderr"
        },
        {
          "output_type": "stream",
          "text": [
            "\rtrain batch [34/41]: loss 8488750080.0"
          ],
          "name": "stdout"
        },
        {
          "output_type": "stream",
          "text": [
            "\r35it [05:03,  8.70s/it]"
          ],
          "name": "stderr"
        },
        {
          "output_type": "stream",
          "text": [
            "\rtrain batch [35/41]: loss 10860561408.0"
          ],
          "name": "stdout"
        },
        {
          "output_type": "stream",
          "text": [
            "\r36it [05:12,  8.74s/it]"
          ],
          "name": "stderr"
        },
        {
          "output_type": "stream",
          "text": [
            "\rtrain batch [36/41]: loss 6913531904.0"
          ],
          "name": "stdout"
        },
        {
          "output_type": "stream",
          "text": [
            "\r37it [05:21,  8.76s/it]"
          ],
          "name": "stderr"
        },
        {
          "output_type": "stream",
          "text": [
            "\rtrain batch [37/41]: loss 13076506624.0"
          ],
          "name": "stdout"
        },
        {
          "output_type": "stream",
          "text": [
            "\r38it [05:29,  8.72s/it]"
          ],
          "name": "stderr"
        },
        {
          "output_type": "stream",
          "text": [
            "\rtrain batch [38/41]: loss 8556045312.0"
          ],
          "name": "stdout"
        },
        {
          "output_type": "stream",
          "text": [
            "\r39it [05:38,  8.68s/it]"
          ],
          "name": "stderr"
        },
        {
          "output_type": "stream",
          "text": [
            "\rtrain batch [39/41]: loss 8869256192.0"
          ],
          "name": "stdout"
        },
        {
          "output_type": "stream",
          "text": [
            "\r40it [05:46,  8.64s/it]"
          ],
          "name": "stderr"
        },
        {
          "output_type": "stream",
          "text": [
            "\rtrain batch [40/41]: loss 9591902208.0"
          ],
          "name": "stdout"
        },
        {
          "output_type": "stream",
          "text": [
            "41it [05:53,  8.62s/it]"
          ],
          "name": "stderr"
        },
        {
          "output_type": "stream",
          "text": [
            "\rval batch [0/4]: loss 1910449152.0"
          ],
          "name": "stdout"
        },
        {
          "output_type": "stream",
          "text": [
            "\n"
          ],
          "name": "stderr"
        },
        {
          "output_type": "stream",
          "text": [
            "test batch [4/5]: loss 10106246144.0"
          ],
          "name": "stdout"
        },
        {
          "output_type": "stream",
          "text": [
            "\r0it [00:00, ?it/s]"
          ],
          "name": "stderr"
        },
        {
          "output_type": "stream",
          "text": [
            "\n",
            "Train loss: 11406824335.609756, Train accuracy: 0.6311349272727966\n",
            "Val loss: 10796972032.0, Val accuracy: 0.5\n",
            "Test loss: 9971875123.2, Test accuracy: 0.41506409645080566\n",
            "\n",
            "=============== Epoch: 26\n",
            "train batch [0/41]: loss 12789230592.0"
          ],
          "name": "stdout"
        },
        {
          "output_type": "stream",
          "text": [
            "\r1it [00:08,  8.58s/it]"
          ],
          "name": "stderr"
        },
        {
          "output_type": "stream",
          "text": [
            "\rtrain batch [1/41]: loss 10148014080.0"
          ],
          "name": "stdout"
        },
        {
          "output_type": "stream",
          "text": [
            "\r2it [00:17,  8.62s/it]"
          ],
          "name": "stderr"
        },
        {
          "output_type": "stream",
          "text": [
            "\rtrain batch [2/41]: loss 11207045120.0"
          ],
          "name": "stdout"
        },
        {
          "output_type": "stream",
          "text": [
            "\r3it [00:26,  8.66s/it]"
          ],
          "name": "stderr"
        },
        {
          "output_type": "stream",
          "text": [
            "\rtrain batch [3/41]: loss 25974140928.0"
          ],
          "name": "stdout"
        },
        {
          "output_type": "stream",
          "text": [
            "\r4it [00:34,  8.64s/it]"
          ],
          "name": "stderr"
        },
        {
          "output_type": "stream",
          "text": [
            "\rtrain batch [4/41]: loss 11746626560.0"
          ],
          "name": "stdout"
        },
        {
          "output_type": "stream",
          "text": [
            "\r5it [00:43,  8.64s/it]"
          ],
          "name": "stderr"
        },
        {
          "output_type": "stream",
          "text": [
            "\rtrain batch [5/41]: loss 10252279808.0"
          ],
          "name": "stdout"
        },
        {
          "output_type": "stream",
          "text": [
            "\r6it [00:52,  8.70s/it]"
          ],
          "name": "stderr"
        },
        {
          "output_type": "stream",
          "text": [
            "\rtrain batch [6/41]: loss 7794601984.0"
          ],
          "name": "stdout"
        },
        {
          "output_type": "stream",
          "text": [
            "\r7it [01:00,  8.72s/it]"
          ],
          "name": "stderr"
        },
        {
          "output_type": "stream",
          "text": [
            "\rtrain batch [7/41]: loss 4665506304.0"
          ],
          "name": "stdout"
        },
        {
          "output_type": "stream",
          "text": [
            "\r8it [01:09,  8.68s/it]"
          ],
          "name": "stderr"
        },
        {
          "output_type": "stream",
          "text": [
            "\rtrain batch [8/41]: loss 10917689344.0"
          ],
          "name": "stdout"
        },
        {
          "output_type": "stream",
          "text": [
            "\r9it [01:18,  8.76s/it]"
          ],
          "name": "stderr"
        },
        {
          "output_type": "stream",
          "text": [
            "\rtrain batch [9/41]: loss 17867067392.0"
          ],
          "name": "stdout"
        },
        {
          "output_type": "stream",
          "text": [
            "\r10it [01:27,  8.76s/it]"
          ],
          "name": "stderr"
        },
        {
          "output_type": "stream",
          "text": [
            "\rtrain batch [10/41]: loss 18045505536.0"
          ],
          "name": "stdout"
        },
        {
          "output_type": "stream",
          "text": [
            "\r11it [01:36,  8.79s/it]"
          ],
          "name": "stderr"
        },
        {
          "output_type": "stream",
          "text": [
            "\rtrain batch [11/41]: loss 13000318976.0"
          ],
          "name": "stdout"
        },
        {
          "output_type": "stream",
          "text": [
            "\r12it [01:44,  8.75s/it]"
          ],
          "name": "stderr"
        },
        {
          "output_type": "stream",
          "text": [
            "\rtrain batch [12/41]: loss 9644240896.0"
          ],
          "name": "stdout"
        },
        {
          "output_type": "stream",
          "text": [
            "\r13it [01:53,  8.71s/it]"
          ],
          "name": "stderr"
        },
        {
          "output_type": "stream",
          "text": [
            "\rtrain batch [13/41]: loss 7340625408.0"
          ],
          "name": "stdout"
        },
        {
          "output_type": "stream",
          "text": [
            "\r14it [02:01,  8.70s/it]"
          ],
          "name": "stderr"
        },
        {
          "output_type": "stream",
          "text": [
            "\rtrain batch [14/41]: loss 13766025216.0"
          ],
          "name": "stdout"
        },
        {
          "output_type": "stream",
          "text": [
            "\r15it [02:10,  8.67s/it]"
          ],
          "name": "stderr"
        },
        {
          "output_type": "stream",
          "text": [
            "\rtrain batch [15/41]: loss 11407046656.0"
          ],
          "name": "stdout"
        },
        {
          "output_type": "stream",
          "text": [
            "\r16it [02:19,  8.74s/it]"
          ],
          "name": "stderr"
        },
        {
          "output_type": "stream",
          "text": [
            "\rtrain batch [16/41]: loss 6911257088.0"
          ],
          "name": "stdout"
        },
        {
          "output_type": "stream",
          "text": [
            "\r17it [02:28,  8.68s/it]"
          ],
          "name": "stderr"
        },
        {
          "output_type": "stream",
          "text": [
            "\rtrain batch [17/41]: loss 10430840832.0"
          ],
          "name": "stdout"
        },
        {
          "output_type": "stream",
          "text": [
            "\r18it [02:36,  8.67s/it]"
          ],
          "name": "stderr"
        },
        {
          "output_type": "stream",
          "text": [
            "\rtrain batch [18/41]: loss 7637520896.0"
          ],
          "name": "stdout"
        },
        {
          "output_type": "stream",
          "text": [
            "\r19it [02:45,  8.65s/it]"
          ],
          "name": "stderr"
        },
        {
          "output_type": "stream",
          "text": [
            "\rtrain batch [19/41]: loss 5779205120.0"
          ],
          "name": "stdout"
        },
        {
          "output_type": "stream",
          "text": [
            "\r20it [02:53,  8.64s/it]"
          ],
          "name": "stderr"
        },
        {
          "output_type": "stream",
          "text": [
            "\rtrain batch [20/41]: loss 13820326912.0"
          ],
          "name": "stdout"
        },
        {
          "output_type": "stream",
          "text": [
            "\r21it [03:02,  8.65s/it]"
          ],
          "name": "stderr"
        },
        {
          "output_type": "stream",
          "text": [
            "\rtrain batch [21/41]: loss 44028334080.0"
          ],
          "name": "stdout"
        },
        {
          "output_type": "stream",
          "text": [
            "\r22it [03:11,  8.66s/it]"
          ],
          "name": "stderr"
        },
        {
          "output_type": "stream",
          "text": [
            "\rtrain batch [22/41]: loss 27460218880.0"
          ],
          "name": "stdout"
        },
        {
          "output_type": "stream",
          "text": [
            "\r23it [03:19,  8.68s/it]"
          ],
          "name": "stderr"
        },
        {
          "output_type": "stream",
          "text": [
            "\rtrain batch [23/41]: loss 4638281216.0"
          ],
          "name": "stdout"
        },
        {
          "output_type": "stream",
          "text": [
            "\r24it [03:28,  8.66s/it]"
          ],
          "name": "stderr"
        },
        {
          "output_type": "stream",
          "text": [
            "\rtrain batch [24/41]: loss 11955676160.0"
          ],
          "name": "stdout"
        },
        {
          "output_type": "stream",
          "text": [
            "\r25it [03:37,  8.63s/it]"
          ],
          "name": "stderr"
        },
        {
          "output_type": "stream",
          "text": [
            "\rtrain batch [25/41]: loss 15901422592.0"
          ],
          "name": "stdout"
        },
        {
          "output_type": "stream",
          "text": [
            "\r26it [03:45,  8.65s/it]"
          ],
          "name": "stderr"
        },
        {
          "output_type": "stream",
          "text": [
            "\rtrain batch [26/41]: loss 11542895616.0"
          ],
          "name": "stdout"
        },
        {
          "output_type": "stream",
          "text": [
            "\r27it [03:54,  8.68s/it]"
          ],
          "name": "stderr"
        },
        {
          "output_type": "stream",
          "text": [
            "\rtrain batch [27/41]: loss 11695441920.0"
          ],
          "name": "stdout"
        },
        {
          "output_type": "stream",
          "text": [
            "\r28it [04:03,  8.72s/it]"
          ],
          "name": "stderr"
        },
        {
          "output_type": "stream",
          "text": [
            "\rtrain batch [28/41]: loss 15611119616.0"
          ],
          "name": "stdout"
        },
        {
          "output_type": "stream",
          "text": [
            "\r29it [04:12,  8.70s/it]"
          ],
          "name": "stderr"
        },
        {
          "output_type": "stream",
          "text": [
            "\rtrain batch [29/41]: loss 14857482240.0"
          ],
          "name": "stdout"
        },
        {
          "output_type": "stream",
          "text": [
            "\r30it [04:20,  8.76s/it]"
          ],
          "name": "stderr"
        },
        {
          "output_type": "stream",
          "text": [
            "\rtrain batch [30/41]: loss 15890239488.0"
          ],
          "name": "stdout"
        },
        {
          "output_type": "stream",
          "text": [
            "\r31it [04:29,  8.80s/it]"
          ],
          "name": "stderr"
        },
        {
          "output_type": "stream",
          "text": [
            "\rtrain batch [31/41]: loss 18278385664.0"
          ],
          "name": "stdout"
        },
        {
          "output_type": "stream",
          "text": [
            "\r32it [04:38,  8.82s/it]"
          ],
          "name": "stderr"
        },
        {
          "output_type": "stream",
          "text": [
            "\rtrain batch [32/41]: loss 44137914368.0"
          ],
          "name": "stdout"
        },
        {
          "output_type": "stream",
          "text": [
            "\r33it [04:47,  8.71s/it]"
          ],
          "name": "stderr"
        },
        {
          "output_type": "stream",
          "text": [
            "\rtrain batch [33/41]: loss 15300265984.0"
          ],
          "name": "stdout"
        },
        {
          "output_type": "stream",
          "text": [
            "\r34it [04:56,  8.75s/it]"
          ],
          "name": "stderr"
        },
        {
          "output_type": "stream",
          "text": [
            "\rtrain batch [34/41]: loss 9501139968.0"
          ],
          "name": "stdout"
        },
        {
          "output_type": "stream",
          "text": [
            "\r35it [05:04,  8.66s/it]"
          ],
          "name": "stderr"
        },
        {
          "output_type": "stream",
          "text": [
            "\rtrain batch [35/41]: loss 10473545728.0"
          ],
          "name": "stdout"
        },
        {
          "output_type": "stream",
          "text": [
            "\r36it [05:13,  8.62s/it]"
          ],
          "name": "stderr"
        },
        {
          "output_type": "stream",
          "text": [
            "\rtrain batch [36/41]: loss 12615328768.0"
          ],
          "name": "stdout"
        },
        {
          "output_type": "stream",
          "text": [
            "\r37it [05:21,  8.66s/it]"
          ],
          "name": "stderr"
        },
        {
          "output_type": "stream",
          "text": [
            "\rtrain batch [37/41]: loss 18605674496.0"
          ],
          "name": "stdout"
        },
        {
          "output_type": "stream",
          "text": [
            "\r38it [05:30,  8.73s/it]"
          ],
          "name": "stderr"
        },
        {
          "output_type": "stream",
          "text": [
            "\rtrain batch [38/41]: loss 14647610368.0"
          ],
          "name": "stdout"
        },
        {
          "output_type": "stream",
          "text": [
            "\r39it [05:39,  8.71s/it]"
          ],
          "name": "stderr"
        },
        {
          "output_type": "stream",
          "text": [
            "\rtrain batch [39/41]: loss 25457289216.0"
          ],
          "name": "stdout"
        },
        {
          "output_type": "stream",
          "text": [
            "\r40it [05:48,  8.75s/it]"
          ],
          "name": "stderr"
        },
        {
          "output_type": "stream",
          "text": [
            "\rtrain batch [40/41]: loss 18472837120.0"
          ],
          "name": "stdout"
        },
        {
          "output_type": "stream",
          "text": [
            "41it [05:54,  8.65s/it]"
          ],
          "name": "stderr"
        },
        {
          "output_type": "stream",
          "text": [
            "\rval batch [0/4]: loss 114701623296.0"
          ],
          "name": "stdout"
        },
        {
          "output_type": "stream",
          "text": [
            "\n"
          ],
          "name": "stderr"
        },
        {
          "output_type": "stream",
          "text": [
            "test batch [4/5]: loss 0.0"
          ],
          "name": "stdout"
        },
        {
          "output_type": "stream",
          "text": [
            "\r0it [00:00, ?it/s]"
          ],
          "name": "stderr"
        },
        {
          "output_type": "stream",
          "text": [
            "\n",
            "Train loss: 14688200753.95122, Train accuracy: 0.5814800262451172\n",
            "Val loss: 55651778560.0, Val accuracy: 0.5\n",
            "Test loss: 37961354444.8, Test accuracy: 0.625\n",
            "\n",
            "=============== Epoch: 27\n",
            "train batch [0/41]: loss 29134190592.0"
          ],
          "name": "stdout"
        },
        {
          "output_type": "stream",
          "text": [
            "\r1it [00:08,  8.85s/it]"
          ],
          "name": "stderr"
        },
        {
          "output_type": "stream",
          "text": [
            "\rtrain batch [1/41]: loss 18572910592.0"
          ],
          "name": "stdout"
        },
        {
          "output_type": "stream",
          "text": [
            "\r2it [00:17,  8.82s/it]"
          ],
          "name": "stderr"
        },
        {
          "output_type": "stream",
          "text": [
            "\rtrain batch [2/41]: loss 19365359616.0"
          ],
          "name": "stdout"
        },
        {
          "output_type": "stream",
          "text": [
            "\r3it [00:26,  8.76s/it]"
          ],
          "name": "stderr"
        },
        {
          "output_type": "stream",
          "text": [
            "\rtrain batch [3/41]: loss 10654077952.0"
          ],
          "name": "stdout"
        },
        {
          "output_type": "stream",
          "text": [
            "\r4it [00:34,  8.74s/it]"
          ],
          "name": "stderr"
        },
        {
          "output_type": "stream",
          "text": [
            "\rtrain batch [4/41]: loss 21939552256.0"
          ],
          "name": "stdout"
        },
        {
          "output_type": "stream",
          "text": [
            "\r5it [00:43,  8.70s/it]"
          ],
          "name": "stderr"
        },
        {
          "output_type": "stream",
          "text": [
            "\rtrain batch [5/41]: loss 17129525248.0"
          ],
          "name": "stdout"
        },
        {
          "output_type": "stream",
          "text": [
            "\r6it [00:52,  8.72s/it]"
          ],
          "name": "stderr"
        },
        {
          "output_type": "stream",
          "text": [
            "\rtrain batch [6/41]: loss 17915830272.0"
          ],
          "name": "stdout"
        },
        {
          "output_type": "stream",
          "text": [
            "\r7it [01:00,  8.64s/it]"
          ],
          "name": "stderr"
        },
        {
          "output_type": "stream",
          "text": [
            "\rtrain batch [7/41]: loss 24678486016.0"
          ],
          "name": "stdout"
        },
        {
          "output_type": "stream",
          "text": [
            "\r8it [01:09,  8.73s/it]"
          ],
          "name": "stderr"
        },
        {
          "output_type": "stream",
          "text": [
            "\rtrain batch [8/41]: loss 18579380224.0"
          ],
          "name": "stdout"
        },
        {
          "output_type": "stream",
          "text": [
            "\r9it [01:18,  8.77s/it]"
          ],
          "name": "stderr"
        },
        {
          "output_type": "stream",
          "text": [
            "\rtrain batch [9/41]: loss 31445510144.0"
          ],
          "name": "stdout"
        },
        {
          "output_type": "stream",
          "text": [
            "\r10it [01:27,  8.79s/it]"
          ],
          "name": "stderr"
        },
        {
          "output_type": "stream",
          "text": [
            "\rtrain batch [10/41]: loss 21788942336.0"
          ],
          "name": "stdout"
        },
        {
          "output_type": "stream",
          "text": [
            "\r11it [01:36,  8.78s/it]"
          ],
          "name": "stderr"
        },
        {
          "output_type": "stream",
          "text": [
            "\rtrain batch [11/41]: loss 20768464896.0"
          ],
          "name": "stdout"
        },
        {
          "output_type": "stream",
          "text": [
            "\r12it [01:45,  8.83s/it]"
          ],
          "name": "stderr"
        },
        {
          "output_type": "stream",
          "text": [
            "\rtrain batch [12/41]: loss 13300807680.0"
          ],
          "name": "stdout"
        },
        {
          "output_type": "stream",
          "text": [
            "\r13it [01:53,  8.79s/it]"
          ],
          "name": "stderr"
        },
        {
          "output_type": "stream",
          "text": [
            "\rtrain batch [13/41]: loss 36225298432.0"
          ],
          "name": "stdout"
        },
        {
          "output_type": "stream",
          "text": [
            "\r14it [02:02,  8.69s/it]"
          ],
          "name": "stderr"
        },
        {
          "output_type": "stream",
          "text": [
            "\rtrain batch [14/41]: loss 27274227712.0"
          ],
          "name": "stdout"
        },
        {
          "output_type": "stream",
          "text": [
            "\r15it [02:10,  8.64s/it]"
          ],
          "name": "stderr"
        },
        {
          "output_type": "stream",
          "text": [
            "\rtrain batch [15/41]: loss 14253010944.0"
          ],
          "name": "stdout"
        },
        {
          "output_type": "stream",
          "text": [
            "\r16it [02:19,  8.67s/it]"
          ],
          "name": "stderr"
        },
        {
          "output_type": "stream",
          "text": [
            "\rtrain batch [16/41]: loss 21135560704.0"
          ],
          "name": "stdout"
        },
        {
          "output_type": "stream",
          "text": [
            "\r17it [02:28,  8.70s/it]"
          ],
          "name": "stderr"
        },
        {
          "output_type": "stream",
          "text": [
            "\rtrain batch [17/41]: loss 15614615552.0"
          ],
          "name": "stdout"
        },
        {
          "output_type": "stream",
          "text": [
            "\r18it [02:36,  8.69s/it]"
          ],
          "name": "stderr"
        },
        {
          "output_type": "stream",
          "text": [
            "\rtrain batch [18/41]: loss 19630794752.0"
          ],
          "name": "stdout"
        },
        {
          "output_type": "stream",
          "text": [
            "\r19it [02:45,  8.73s/it]"
          ],
          "name": "stderr"
        },
        {
          "output_type": "stream",
          "text": [
            "\rtrain batch [19/41]: loss 32147488768.0"
          ],
          "name": "stdout"
        },
        {
          "output_type": "stream",
          "text": [
            "\r20it [02:54,  8.71s/it]"
          ],
          "name": "stderr"
        },
        {
          "output_type": "stream",
          "text": [
            "\rtrain batch [20/41]: loss 14070671360.0"
          ],
          "name": "stdout"
        },
        {
          "output_type": "stream",
          "text": [
            "\r21it [03:03,  8.70s/it]"
          ],
          "name": "stderr"
        },
        {
          "output_type": "stream",
          "text": [
            "\rtrain batch [21/41]: loss 11749481472.0"
          ],
          "name": "stdout"
        },
        {
          "output_type": "stream",
          "text": [
            "\r22it [03:11,  8.65s/it]"
          ],
          "name": "stderr"
        },
        {
          "output_type": "stream",
          "text": [
            "\rtrain batch [22/41]: loss 15846344704.0"
          ],
          "name": "stdout"
        },
        {
          "output_type": "stream",
          "text": [
            "\r23it [03:20,  8.66s/it]"
          ],
          "name": "stderr"
        },
        {
          "output_type": "stream",
          "text": [
            "\rtrain batch [23/41]: loss 10624002048.0"
          ],
          "name": "stdout"
        },
        {
          "output_type": "stream",
          "text": [
            "\r24it [03:28,  8.62s/it]"
          ],
          "name": "stderr"
        },
        {
          "output_type": "stream",
          "text": [
            "\rtrain batch [24/41]: loss 17599520768.0"
          ],
          "name": "stdout"
        },
        {
          "output_type": "stream",
          "text": [
            "\r25it [03:37,  8.65s/it]"
          ],
          "name": "stderr"
        },
        {
          "output_type": "stream",
          "text": [
            "\rtrain batch [25/41]: loss 16620681216.0"
          ],
          "name": "stdout"
        },
        {
          "output_type": "stream",
          "text": [
            "\r26it [03:45,  8.59s/it]"
          ],
          "name": "stderr"
        },
        {
          "output_type": "stream",
          "text": [
            "\rtrain batch [26/41]: loss 13758087168.0"
          ],
          "name": "stdout"
        },
        {
          "output_type": "stream",
          "text": [
            "\r27it [03:54,  8.62s/it]"
          ],
          "name": "stderr"
        },
        {
          "output_type": "stream",
          "text": [
            "\rtrain batch [27/41]: loss 10149967872.0"
          ],
          "name": "stdout"
        },
        {
          "output_type": "stream",
          "text": [
            "\r28it [04:03,  8.64s/it]"
          ],
          "name": "stderr"
        },
        {
          "output_type": "stream",
          "text": [
            "\rtrain batch [28/41]: loss 10919157760.0"
          ],
          "name": "stdout"
        },
        {
          "output_type": "stream",
          "text": [
            "\r29it [04:11,  8.58s/it]"
          ],
          "name": "stderr"
        },
        {
          "output_type": "stream",
          "text": [
            "\rtrain batch [29/41]: loss 8302152704.0"
          ],
          "name": "stdout"
        },
        {
          "output_type": "stream",
          "text": [
            "\r30it [04:20,  8.58s/it]"
          ],
          "name": "stderr"
        },
        {
          "output_type": "stream",
          "text": [
            "\rtrain batch [30/41]: loss 6835582976.0"
          ],
          "name": "stdout"
        },
        {
          "output_type": "stream",
          "text": [
            "\r31it [04:29,  8.64s/it]"
          ],
          "name": "stderr"
        },
        {
          "output_type": "stream",
          "text": [
            "\rtrain batch [31/41]: loss 5609041920.0"
          ],
          "name": "stdout"
        },
        {
          "output_type": "stream",
          "text": [
            "\r32it [04:37,  8.67s/it]"
          ],
          "name": "stderr"
        },
        {
          "output_type": "stream",
          "text": [
            "\rtrain batch [32/41]: loss 9502443520.0"
          ],
          "name": "stdout"
        },
        {
          "output_type": "stream",
          "text": [
            "\r33it [04:46,  8.69s/it]"
          ],
          "name": "stderr"
        },
        {
          "output_type": "stream",
          "text": [
            "\rtrain batch [33/41]: loss 23457118208.0"
          ],
          "name": "stdout"
        },
        {
          "output_type": "stream",
          "text": [
            "\r34it [04:55,  8.62s/it]"
          ],
          "name": "stderr"
        },
        {
          "output_type": "stream",
          "text": [
            "\rtrain batch [34/41]: loss 14336771072.0"
          ],
          "name": "stdout"
        },
        {
          "output_type": "stream",
          "text": [
            "\r35it [05:03,  8.69s/it]"
          ],
          "name": "stderr"
        },
        {
          "output_type": "stream",
          "text": [
            "\rtrain batch [35/41]: loss 38821822464.0"
          ],
          "name": "stdout"
        },
        {
          "output_type": "stream",
          "text": [
            "\r36it [05:12,  8.69s/it]"
          ],
          "name": "stderr"
        },
        {
          "output_type": "stream",
          "text": [
            "\rtrain batch [36/41]: loss 21907394560.0"
          ],
          "name": "stdout"
        },
        {
          "output_type": "stream",
          "text": [
            "\r37it [05:21,  8.63s/it]"
          ],
          "name": "stderr"
        },
        {
          "output_type": "stream",
          "text": [
            "\rtrain batch [37/41]: loss 14743409664.0"
          ],
          "name": "stdout"
        },
        {
          "output_type": "stream",
          "text": [
            "\r38it [05:29,  8.61s/it]"
          ],
          "name": "stderr"
        },
        {
          "output_type": "stream",
          "text": [
            "\rtrain batch [38/41]: loss 18465255424.0"
          ],
          "name": "stdout"
        },
        {
          "output_type": "stream",
          "text": [
            "\r39it [05:38,  8.60s/it]"
          ],
          "name": "stderr"
        },
        {
          "output_type": "stream",
          "text": [
            "\rtrain batch [39/41]: loss 18180421632.0"
          ],
          "name": "stdout"
        },
        {
          "output_type": "stream",
          "text": [
            "\r40it [05:46,  8.54s/it]"
          ],
          "name": "stderr"
        },
        {
          "output_type": "stream",
          "text": [
            "\rtrain batch [40/41]: loss 20251760640.0"
          ],
          "name": "stdout"
        },
        {
          "output_type": "stream",
          "text": [
            "41it [05:53,  8.62s/it]"
          ],
          "name": "stderr"
        },
        {
          "output_type": "stream",
          "text": [
            "\rval batch [0/4]: loss 162983886848.0"
          ],
          "name": "stdout"
        },
        {
          "output_type": "stream",
          "text": [
            "\n"
          ],
          "name": "stderr"
        },
        {
          "output_type": "stream",
          "text": [
            "test batch [4/5]: loss 547097792.0"
          ],
          "name": "stdout"
        },
        {
          "output_type": "stream",
          "text": [
            "\r0it [00:00, ?it/s]"
          ],
          "name": "stderr"
        },
        {
          "output_type": "stream",
          "text": [
            "\n",
            "Train loss: 18373295703.414635, Train accuracy: 0.6083205342292786\n",
            "Val loss: 60397252608.0, Val accuracy: 0.5\n",
            "Test loss: 41245090048.0, Test accuracy: 0.5993589758872986\n",
            "\n",
            "=============== Epoch: 28\n",
            "train batch [0/41]: loss 25180336128.0"
          ],
          "name": "stdout"
        },
        {
          "output_type": "stream",
          "text": [
            "\r1it [00:08,  8.39s/it]"
          ],
          "name": "stderr"
        },
        {
          "output_type": "stream",
          "text": [
            "\rtrain batch [1/41]: loss 27090565120.0"
          ],
          "name": "stdout"
        },
        {
          "output_type": "stream",
          "text": [
            "\r2it [00:17,  8.48s/it]"
          ],
          "name": "stderr"
        },
        {
          "output_type": "stream",
          "text": [
            "\rtrain batch [2/41]: loss 20504252416.0"
          ],
          "name": "stdout"
        },
        {
          "output_type": "stream",
          "text": [
            "\r3it [00:25,  8.57s/it]"
          ],
          "name": "stderr"
        },
        {
          "output_type": "stream",
          "text": [
            "\rtrain batch [3/41]: loss 24021575680.0"
          ],
          "name": "stdout"
        },
        {
          "output_type": "stream",
          "text": [
            "\r4it [00:34,  8.57s/it]"
          ],
          "name": "stderr"
        },
        {
          "output_type": "stream",
          "text": [
            "\rtrain batch [4/41]: loss 23042990080.0"
          ],
          "name": "stdout"
        },
        {
          "output_type": "stream",
          "text": [
            "\r5it [00:43,  8.60s/it]"
          ],
          "name": "stderr"
        },
        {
          "output_type": "stream",
          "text": [
            "\rtrain batch [5/41]: loss 18065592320.0"
          ],
          "name": "stdout"
        },
        {
          "output_type": "stream",
          "text": [
            "\r6it [00:51,  8.65s/it]"
          ],
          "name": "stderr"
        },
        {
          "output_type": "stream",
          "text": [
            "\rtrain batch [6/41]: loss 17386633216.0"
          ],
          "name": "stdout"
        },
        {
          "output_type": "stream",
          "text": [
            "\r7it [01:00,  8.64s/it]"
          ],
          "name": "stderr"
        },
        {
          "output_type": "stream",
          "text": [
            "\rtrain batch [7/41]: loss 19138015232.0"
          ],
          "name": "stdout"
        },
        {
          "output_type": "stream",
          "text": [
            "\r8it [01:09,  8.71s/it]"
          ],
          "name": "stderr"
        },
        {
          "output_type": "stream",
          "text": [
            "\rtrain batch [8/41]: loss 49076899840.0"
          ],
          "name": "stdout"
        },
        {
          "output_type": "stream",
          "text": [
            "\r9it [01:17,  8.62s/it]"
          ],
          "name": "stderr"
        },
        {
          "output_type": "stream",
          "text": [
            "\rtrain batch [9/41]: loss 12303232000.0"
          ],
          "name": "stdout"
        },
        {
          "output_type": "stream",
          "text": [
            "\r10it [01:26,  8.56s/it]"
          ],
          "name": "stderr"
        },
        {
          "output_type": "stream",
          "text": [
            "\rtrain batch [10/41]: loss 10972483584.0"
          ],
          "name": "stdout"
        },
        {
          "output_type": "stream",
          "text": [
            "\r11it [01:34,  8.58s/it]"
          ],
          "name": "stderr"
        },
        {
          "output_type": "stream",
          "text": [
            "\rtrain batch [11/41]: loss 8878781440.0"
          ],
          "name": "stdout"
        },
        {
          "output_type": "stream",
          "text": [
            "\r12it [01:43,  8.62s/it]"
          ],
          "name": "stderr"
        },
        {
          "output_type": "stream",
          "text": [
            "\rtrain batch [12/41]: loss 14131666944.0"
          ],
          "name": "stdout"
        },
        {
          "output_type": "stream",
          "text": [
            "\r13it [01:52,  8.63s/it]"
          ],
          "name": "stderr"
        },
        {
          "output_type": "stream",
          "text": [
            "\rtrain batch [13/41]: loss 16273118208.0"
          ],
          "name": "stdout"
        },
        {
          "output_type": "stream",
          "text": [
            "\r14it [02:00,  8.61s/it]"
          ],
          "name": "stderr"
        },
        {
          "output_type": "stream",
          "text": [
            "\rtrain batch [14/41]: loss 13775462400.0"
          ],
          "name": "stdout"
        },
        {
          "output_type": "stream",
          "text": [
            "\r15it [02:09,  8.60s/it]"
          ],
          "name": "stderr"
        },
        {
          "output_type": "stream",
          "text": [
            "\rtrain batch [15/41]: loss 32383832064.0"
          ],
          "name": "stdout"
        },
        {
          "output_type": "stream",
          "text": [
            "\r16it [02:18,  8.69s/it]"
          ],
          "name": "stderr"
        },
        {
          "output_type": "stream",
          "text": [
            "\rtrain batch [16/41]: loss 24001036288.0"
          ],
          "name": "stdout"
        },
        {
          "output_type": "stream",
          "text": [
            "\r17it [02:27,  8.76s/it]"
          ],
          "name": "stderr"
        },
        {
          "output_type": "stream",
          "text": [
            "\rtrain batch [17/41]: loss 14119124992.0"
          ],
          "name": "stdout"
        },
        {
          "output_type": "stream",
          "text": [
            "\r18it [02:36,  8.82s/it]"
          ],
          "name": "stderr"
        },
        {
          "output_type": "stream",
          "text": [
            "\rtrain batch [18/41]: loss 31439519744.0"
          ],
          "name": "stdout"
        },
        {
          "output_type": "stream",
          "text": [
            "\r19it [02:44,  8.76s/it]"
          ],
          "name": "stderr"
        },
        {
          "output_type": "stream",
          "text": [
            "\rtrain batch [19/41]: loss 24810921984.0"
          ],
          "name": "stdout"
        },
        {
          "output_type": "stream",
          "text": [
            "\r20it [02:53,  8.82s/it]"
          ],
          "name": "stderr"
        },
        {
          "output_type": "stream",
          "text": [
            "\rtrain batch [20/41]: loss 7509393920.0"
          ],
          "name": "stdout"
        },
        {
          "output_type": "stream",
          "text": [
            "\r21it [03:02,  8.72s/it]"
          ],
          "name": "stderr"
        },
        {
          "output_type": "stream",
          "text": [
            "\rtrain batch [21/41]: loss 11349322752.0"
          ],
          "name": "stdout"
        },
        {
          "output_type": "stream",
          "text": [
            "\r22it [03:10,  8.58s/it]"
          ],
          "name": "stderr"
        },
        {
          "output_type": "stream",
          "text": [
            "\rtrain batch [22/41]: loss 16688136192.0"
          ],
          "name": "stdout"
        },
        {
          "output_type": "stream",
          "text": [
            "\r23it [03:19,  8.63s/it]"
          ],
          "name": "stderr"
        },
        {
          "output_type": "stream",
          "text": [
            "\rtrain batch [23/41]: loss 9028567040.0"
          ],
          "name": "stdout"
        },
        {
          "output_type": "stream",
          "text": [
            "\r24it [03:27,  8.58s/it]"
          ],
          "name": "stderr"
        },
        {
          "output_type": "stream",
          "text": [
            "\rtrain batch [24/41]: loss 13458057216.0"
          ],
          "name": "stdout"
        },
        {
          "output_type": "stream",
          "text": [
            "\r25it [03:36,  8.57s/it]"
          ],
          "name": "stderr"
        },
        {
          "output_type": "stream",
          "text": [
            "\rtrain batch [25/41]: loss 10997553152.0"
          ],
          "name": "stdout"
        },
        {
          "output_type": "stream",
          "text": [
            "\r26it [03:44,  8.59s/it]"
          ],
          "name": "stderr"
        },
        {
          "output_type": "stream",
          "text": [
            "\rtrain batch [26/41]: loss 18621079552.0"
          ],
          "name": "stdout"
        },
        {
          "output_type": "stream",
          "text": [
            "\r27it [03:53,  8.54s/it]"
          ],
          "name": "stderr"
        },
        {
          "output_type": "stream",
          "text": [
            "\rtrain batch [27/41]: loss 23985010688.0"
          ],
          "name": "stdout"
        },
        {
          "output_type": "stream",
          "text": [
            "\r28it [04:01,  8.57s/it]"
          ],
          "name": "stderr"
        },
        {
          "output_type": "stream",
          "text": [
            "\rtrain batch [28/41]: loss 14236022784.0"
          ],
          "name": "stdout"
        },
        {
          "output_type": "stream",
          "text": [
            "\r29it [04:10,  8.67s/it]"
          ],
          "name": "stderr"
        },
        {
          "output_type": "stream",
          "text": [
            "\rtrain batch [29/41]: loss 10072475648.0"
          ],
          "name": "stdout"
        },
        {
          "output_type": "stream",
          "text": [
            "\r30it [04:19,  8.58s/it]"
          ],
          "name": "stderr"
        },
        {
          "output_type": "stream",
          "text": [
            "\rtrain batch [30/41]: loss 23770316800.0"
          ],
          "name": "stdout"
        },
        {
          "output_type": "stream",
          "text": [
            "\r31it [04:27,  8.65s/it]"
          ],
          "name": "stderr"
        },
        {
          "output_type": "stream",
          "text": [
            "\rtrain batch [31/41]: loss 13291372544.0"
          ],
          "name": "stdout"
        },
        {
          "output_type": "stream",
          "text": [
            "\r32it [04:36,  8.72s/it]"
          ],
          "name": "stderr"
        },
        {
          "output_type": "stream",
          "text": [
            "\rtrain batch [32/41]: loss 21294153728.0"
          ],
          "name": "stdout"
        },
        {
          "output_type": "stream",
          "text": [
            "\r33it [04:45,  8.72s/it]"
          ],
          "name": "stderr"
        },
        {
          "output_type": "stream",
          "text": [
            "\rtrain batch [33/41]: loss 12880152576.0"
          ],
          "name": "stdout"
        },
        {
          "output_type": "stream",
          "text": [
            "\r34it [04:54,  8.66s/it]"
          ],
          "name": "stderr"
        },
        {
          "output_type": "stream",
          "text": [
            "\rtrain batch [34/41]: loss 16316813312.0"
          ],
          "name": "stdout"
        },
        {
          "output_type": "stream",
          "text": [
            "\r35it [05:02,  8.67s/it]"
          ],
          "name": "stderr"
        },
        {
          "output_type": "stream",
          "text": [
            "\rtrain batch [35/41]: loss 15701770240.0"
          ],
          "name": "stdout"
        },
        {
          "output_type": "stream",
          "text": [
            "\r36it [05:11,  8.63s/it]"
          ],
          "name": "stderr"
        },
        {
          "output_type": "stream",
          "text": [
            "\rtrain batch [36/41]: loss 17118409728.0"
          ],
          "name": "stdout"
        },
        {
          "output_type": "stream",
          "text": [
            "\r37it [05:19,  8.60s/it]"
          ],
          "name": "stderr"
        },
        {
          "output_type": "stream",
          "text": [
            "\rtrain batch [37/41]: loss 33174984704.0"
          ],
          "name": "stdout"
        },
        {
          "output_type": "stream",
          "text": [
            "\r38it [05:28,  8.62s/it]"
          ],
          "name": "stderr"
        },
        {
          "output_type": "stream",
          "text": [
            "\rtrain batch [38/41]: loss 17785085952.0"
          ],
          "name": "stdout"
        },
        {
          "output_type": "stream",
          "text": [
            "\r39it [05:37,  8.61s/it]"
          ],
          "name": "stderr"
        },
        {
          "output_type": "stream",
          "text": [
            "\rtrain batch [39/41]: loss 18255867904.0"
          ],
          "name": "stdout"
        },
        {
          "output_type": "stream",
          "text": [
            "\r40it [05:45,  8.67s/it]"
          ],
          "name": "stderr"
        },
        {
          "output_type": "stream",
          "text": [
            "\rtrain batch [40/41]: loss 29233240064.0"
          ],
          "name": "stdout"
        },
        {
          "output_type": "stream",
          "text": [
            "41it [05:52,  8.60s/it]"
          ],
          "name": "stderr"
        },
        {
          "output_type": "stream",
          "text": [
            "\rval batch [0/4]: loss 76218204160.0"
          ],
          "name": "stdout"
        },
        {
          "output_type": "stream",
          "text": [
            "\n"
          ],
          "name": "stderr"
        },
        {
          "output_type": "stream",
          "text": [
            "test batch [4/5]: loss 16475793408.0"
          ],
          "name": "stdout"
        },
        {
          "output_type": "stream",
          "text": [
            "\r0it [00:00, ?it/s]"
          ],
          "name": "stderr"
        },
        {
          "output_type": "stream",
          "text": [
            "\n",
            "Train loss: 19057654434.341465, Train accuracy: 0.6597009301185608\n",
            "Val loss: 42907995648.0, Val accuracy: 0.4375\n",
            "Test loss: 27362638438.4, Test accuracy: 0.5801281929016113\n",
            "\n",
            "=============== Epoch: 29\n",
            "train batch [0/41]: loss 29719640064.0"
          ],
          "name": "stdout"
        },
        {
          "output_type": "stream",
          "text": [
            "\r1it [00:08,  8.50s/it]"
          ],
          "name": "stderr"
        },
        {
          "output_type": "stream",
          "text": [
            "\rtrain batch [1/41]: loss 24001896448.0"
          ],
          "name": "stdout"
        },
        {
          "output_type": "stream",
          "text": [
            "\r2it [00:16,  8.49s/it]"
          ],
          "name": "stderr"
        },
        {
          "output_type": "stream",
          "text": [
            "\rtrain batch [2/41]: loss 32822493184.0"
          ],
          "name": "stdout"
        },
        {
          "output_type": "stream",
          "text": [
            "\r3it [00:25,  8.54s/it]"
          ],
          "name": "stderr"
        },
        {
          "output_type": "stream",
          "text": [
            "\rtrain batch [3/41]: loss 25697892352.0"
          ],
          "name": "stdout"
        },
        {
          "output_type": "stream",
          "text": [
            "\r4it [00:34,  8.52s/it]"
          ],
          "name": "stderr"
        },
        {
          "output_type": "stream",
          "text": [
            "\rtrain batch [4/41]: loss 37136592896.0"
          ],
          "name": "stdout"
        },
        {
          "output_type": "stream",
          "text": [
            "\r5it [00:42,  8.51s/it]"
          ],
          "name": "stderr"
        },
        {
          "output_type": "stream",
          "text": [
            "\rtrain batch [5/41]: loss 24732409856.0"
          ],
          "name": "stdout"
        },
        {
          "output_type": "stream",
          "text": [
            "\r6it [00:51,  8.53s/it]"
          ],
          "name": "stderr"
        },
        {
          "output_type": "stream",
          "text": [
            "\rtrain batch [6/41]: loss 19731320832.0"
          ],
          "name": "stdout"
        },
        {
          "output_type": "stream",
          "text": [
            "\r7it [00:59,  8.55s/it]"
          ],
          "name": "stderr"
        },
        {
          "output_type": "stream",
          "text": [
            "\rtrain batch [7/41]: loss 33646493696.0"
          ],
          "name": "stdout"
        },
        {
          "output_type": "stream",
          "text": [
            "\r8it [01:08,  8.64s/it]"
          ],
          "name": "stderr"
        },
        {
          "output_type": "stream",
          "text": [
            "\rtrain batch [8/41]: loss 29836587008.0"
          ],
          "name": "stdout"
        },
        {
          "output_type": "stream",
          "text": [
            "\r9it [01:17,  8.73s/it]"
          ],
          "name": "stderr"
        },
        {
          "output_type": "stream",
          "text": [
            "\rtrain batch [9/41]: loss 47601876992.0"
          ],
          "name": "stdout"
        },
        {
          "output_type": "stream",
          "text": [
            "\r10it [01:25,  8.64s/it]"
          ],
          "name": "stderr"
        },
        {
          "output_type": "stream",
          "text": [
            "\rtrain batch [10/41]: loss 36837425152.0"
          ],
          "name": "stdout"
        },
        {
          "output_type": "stream",
          "text": [
            "\r11it [01:34,  8.62s/it]"
          ],
          "name": "stderr"
        },
        {
          "output_type": "stream",
          "text": [
            "\rtrain batch [11/41]: loss 51707453440.0"
          ],
          "name": "stdout"
        },
        {
          "output_type": "stream",
          "text": [
            "\r12it [01:43,  8.59s/it]"
          ],
          "name": "stderr"
        },
        {
          "output_type": "stream",
          "text": [
            "\rtrain batch [12/41]: loss 30391037952.0"
          ],
          "name": "stdout"
        },
        {
          "output_type": "stream",
          "text": [
            "\r13it [01:51,  8.59s/it]"
          ],
          "name": "stderr"
        },
        {
          "output_type": "stream",
          "text": [
            "\rtrain batch [13/41]: loss 67989381120.0"
          ],
          "name": "stdout"
        },
        {
          "output_type": "stream",
          "text": [
            "\r14it [02:00,  8.57s/it]"
          ],
          "name": "stderr"
        },
        {
          "output_type": "stream",
          "text": [
            "\rtrain batch [14/41]: loss 63593439232.0"
          ],
          "name": "stdout"
        },
        {
          "output_type": "stream",
          "text": [
            "\r15it [02:09,  8.71s/it]"
          ],
          "name": "stderr"
        },
        {
          "output_type": "stream",
          "text": [
            "\rtrain batch [15/41]: loss 34779844608.0"
          ],
          "name": "stdout"
        },
        {
          "output_type": "stream",
          "text": [
            "\r16it [02:17,  8.65s/it]"
          ],
          "name": "stderr"
        },
        {
          "output_type": "stream",
          "text": [
            "\rtrain batch [16/41]: loss 36749959168.0"
          ],
          "name": "stdout"
        },
        {
          "output_type": "stream",
          "text": [
            "\r17it [02:26,  8.74s/it]"
          ],
          "name": "stderr"
        },
        {
          "output_type": "stream",
          "text": [
            "\rtrain batch [17/41]: loss 26326867968.0"
          ],
          "name": "stdout"
        },
        {
          "output_type": "stream",
          "text": [
            "\r18it [02:35,  8.70s/it]"
          ],
          "name": "stderr"
        },
        {
          "output_type": "stream",
          "text": [
            "\rtrain batch [18/41]: loss 41607159808.0"
          ],
          "name": "stdout"
        },
        {
          "output_type": "stream",
          "text": [
            "\r19it [02:44,  8.75s/it]"
          ],
          "name": "stderr"
        },
        {
          "output_type": "stream",
          "text": [
            "\rtrain batch [19/41]: loss 43572662272.0"
          ],
          "name": "stdout"
        },
        {
          "output_type": "stream",
          "text": [
            "\r20it [02:52,  8.77s/it]"
          ],
          "name": "stderr"
        },
        {
          "output_type": "stream",
          "text": [
            "\rtrain batch [20/41]: loss 64637591552.0"
          ],
          "name": "stdout"
        },
        {
          "output_type": "stream",
          "text": [
            "\r21it [03:01,  8.75s/it]"
          ],
          "name": "stderr"
        },
        {
          "output_type": "stream",
          "text": [
            "\rtrain batch [21/41]: loss 43663634432.0"
          ],
          "name": "stdout"
        },
        {
          "output_type": "stream",
          "text": [
            "\r22it [03:10,  8.73s/it]"
          ],
          "name": "stderr"
        },
        {
          "output_type": "stream",
          "text": [
            "\rtrain batch [22/41]: loss 39949561856.0"
          ],
          "name": "stdout"
        },
        {
          "output_type": "stream",
          "text": [
            "\r23it [03:19,  8.76s/it]"
          ],
          "name": "stderr"
        },
        {
          "output_type": "stream",
          "text": [
            "\rtrain batch [23/41]: loss 56668635136.0"
          ],
          "name": "stdout"
        },
        {
          "output_type": "stream",
          "text": [
            "\r24it [03:28,  8.80s/it]"
          ],
          "name": "stderr"
        },
        {
          "output_type": "stream",
          "text": [
            "\rtrain batch [24/41]: loss 72947892224.0"
          ],
          "name": "stdout"
        },
        {
          "output_type": "stream",
          "text": [
            "\r25it [03:36,  8.69s/it]"
          ],
          "name": "stderr"
        },
        {
          "output_type": "stream",
          "text": [
            "\rtrain batch [25/41]: loss 84457299968.0"
          ],
          "name": "stdout"
        },
        {
          "output_type": "stream",
          "text": [
            "\r26it [03:45,  8.70s/it]"
          ],
          "name": "stderr"
        },
        {
          "output_type": "stream",
          "text": [
            "\rtrain batch [26/41]: loss 65901596672.0"
          ],
          "name": "stdout"
        },
        {
          "output_type": "stream",
          "text": [
            "\r27it [03:54,  8.76s/it]"
          ],
          "name": "stderr"
        },
        {
          "output_type": "stream",
          "text": [
            "\rtrain batch [27/41]: loss 57841086464.0"
          ],
          "name": "stdout"
        },
        {
          "output_type": "stream",
          "text": [
            "\r28it [04:02,  8.73s/it]"
          ],
          "name": "stderr"
        },
        {
          "output_type": "stream",
          "text": [
            "\rtrain batch [28/41]: loss 50194427904.0"
          ],
          "name": "stdout"
        },
        {
          "output_type": "stream",
          "text": [
            "\r29it [04:11,  8.70s/it]"
          ],
          "name": "stderr"
        },
        {
          "output_type": "stream",
          "text": [
            "\rtrain batch [29/41]: loss 57397665792.0"
          ],
          "name": "stdout"
        },
        {
          "output_type": "stream",
          "text": [
            "\r30it [04:20,  8.76s/it]"
          ],
          "name": "stderr"
        },
        {
          "output_type": "stream",
          "text": [
            "\rtrain batch [30/41]: loss 49217880064.0"
          ],
          "name": "stdout"
        },
        {
          "output_type": "stream",
          "text": [
            "\r31it [04:29,  8.77s/it]"
          ],
          "name": "stderr"
        },
        {
          "output_type": "stream",
          "text": [
            "\rtrain batch [31/41]: loss 68290523136.0"
          ],
          "name": "stdout"
        },
        {
          "output_type": "stream",
          "text": [
            "\r32it [04:37,  8.75s/it]"
          ],
          "name": "stderr"
        },
        {
          "output_type": "stream",
          "text": [
            "\rtrain batch [32/41]: loss 72286281728.0"
          ],
          "name": "stdout"
        },
        {
          "output_type": "stream",
          "text": [
            "\r33it [04:46,  8.74s/it]"
          ],
          "name": "stderr"
        },
        {
          "output_type": "stream",
          "text": [
            "\rtrain batch [33/41]: loss 81990090752.0"
          ],
          "name": "stdout"
        },
        {
          "output_type": "stream",
          "text": [
            "\r34it [04:55,  8.74s/it]"
          ],
          "name": "stderr"
        },
        {
          "output_type": "stream",
          "text": [
            "\rtrain batch [34/41]: loss 80035618816.0"
          ],
          "name": "stdout"
        },
        {
          "output_type": "stream",
          "text": [
            "\r35it [05:03,  8.71s/it]"
          ],
          "name": "stderr"
        },
        {
          "output_type": "stream",
          "text": [
            "\rtrain batch [35/41]: loss 35623387136.0"
          ],
          "name": "stdout"
        },
        {
          "output_type": "stream",
          "text": [
            "\r36it [05:12,  8.70s/it]"
          ],
          "name": "stderr"
        },
        {
          "output_type": "stream",
          "text": [
            "\rtrain batch [36/41]: loss 29043673088.0"
          ],
          "name": "stdout"
        },
        {
          "output_type": "stream",
          "text": [
            "\r37it [05:21,  8.67s/it]"
          ],
          "name": "stderr"
        },
        {
          "output_type": "stream",
          "text": [
            "\rtrain batch [37/41]: loss 42078085120.0"
          ],
          "name": "stdout"
        },
        {
          "output_type": "stream",
          "text": [
            "\r38it [05:29,  8.68s/it]"
          ],
          "name": "stderr"
        },
        {
          "output_type": "stream",
          "text": [
            "\rtrain batch [38/41]: loss 37995560960.0"
          ],
          "name": "stdout"
        },
        {
          "output_type": "stream",
          "text": [
            "\r39it [05:38,  8.63s/it]"
          ],
          "name": "stderr"
        },
        {
          "output_type": "stream",
          "text": [
            "\rtrain batch [39/41]: loss 22482960384.0"
          ],
          "name": "stdout"
        },
        {
          "output_type": "stream",
          "text": [
            "\r40it [05:46,  8.60s/it]"
          ],
          "name": "stderr"
        },
        {
          "output_type": "stream",
          "text": [
            "\rtrain batch [40/41]: loss 27232196608.0"
          ],
          "name": "stdout"
        },
        {
          "output_type": "stream",
          "text": [
            "41it [05:53,  8.62s/it]"
          ],
          "name": "stderr"
        },
        {
          "output_type": "stream",
          "text": [
            "\rval batch [0/4]: loss 160897040384.0"
          ],
          "name": "stdout"
        },
        {
          "output_type": "stream",
          "text": [
            "\n"
          ],
          "name": "stderr"
        },
        {
          "output_type": "stream",
          "text": [
            "test batch [4/5]: loss 13615902720.0"
          ],
          "name": "stdout"
        },
        {
          "output_type": "stream",
          "text": [
            "\r0it [00:00, ?it/s]"
          ],
          "name": "stderr"
        },
        {
          "output_type": "stream",
          "text": [
            "\n",
            "Train loss: 45815075565.268295, Train accuracy: 0.6228910684585571\n",
            "Val loss: 68056641536.0, Val accuracy: 0.5\n",
            "Test loss: 46518034022.4, Test accuracy: 0.5464743375778198\n",
            "\n",
            "=============== Epoch: 30\n",
            "train batch [0/41]: loss 41785376768.0"
          ],
          "name": "stdout"
        },
        {
          "output_type": "stream",
          "text": [
            "\r1it [00:08,  8.72s/it]"
          ],
          "name": "stderr"
        },
        {
          "output_type": "stream",
          "text": [
            "\rtrain batch [1/41]: loss 66355986432.0"
          ],
          "name": "stdout"
        },
        {
          "output_type": "stream",
          "text": [
            "\r2it [00:17,  8.75s/it]"
          ],
          "name": "stderr"
        },
        {
          "output_type": "stream",
          "text": [
            "\rtrain batch [2/41]: loss 53247459328.0"
          ],
          "name": "stdout"
        },
        {
          "output_type": "stream",
          "text": [
            "\r3it [00:26,  8.69s/it]"
          ],
          "name": "stderr"
        },
        {
          "output_type": "stream",
          "text": [
            "\rtrain batch [3/41]: loss 39890665472.0"
          ],
          "name": "stdout"
        },
        {
          "output_type": "stream",
          "text": [
            "\r4it [00:34,  8.74s/it]"
          ],
          "name": "stderr"
        },
        {
          "output_type": "stream",
          "text": [
            "\rtrain batch [4/41]: loss 41701990400.0"
          ],
          "name": "stdout"
        },
        {
          "output_type": "stream",
          "text": [
            "\r5it [00:43,  8.78s/it]"
          ],
          "name": "stderr"
        },
        {
          "output_type": "stream",
          "text": [
            "\rtrain batch [5/41]: loss 51567616000.0"
          ],
          "name": "stdout"
        },
        {
          "output_type": "stream",
          "text": [
            "\r6it [00:52,  8.63s/it]"
          ],
          "name": "stderr"
        },
        {
          "output_type": "stream",
          "text": [
            "\rtrain batch [6/41]: loss 76341936128.0"
          ],
          "name": "stdout"
        },
        {
          "output_type": "stream",
          "text": [
            "\r7it [01:00,  8.69s/it]"
          ],
          "name": "stderr"
        },
        {
          "output_type": "stream",
          "text": [
            "\rtrain batch [7/41]: loss 47264768000.0"
          ],
          "name": "stdout"
        },
        {
          "output_type": "stream",
          "text": [
            "\r8it [01:09,  8.70s/it]"
          ],
          "name": "stderr"
        },
        {
          "output_type": "stream",
          "text": [
            "\rtrain batch [8/41]: loss 43874328576.0"
          ],
          "name": "stdout"
        },
        {
          "output_type": "stream",
          "text": [
            "\r9it [01:18,  8.68s/it]"
          ],
          "name": "stderr"
        },
        {
          "output_type": "stream",
          "text": [
            "\rtrain batch [9/41]: loss 101802729472.0"
          ],
          "name": "stdout"
        },
        {
          "output_type": "stream",
          "text": [
            "\r10it [01:27,  8.79s/it]"
          ],
          "name": "stderr"
        },
        {
          "output_type": "stream",
          "text": [
            "\rtrain batch [10/41]: loss 44463120384.0"
          ],
          "name": "stdout"
        },
        {
          "output_type": "stream",
          "text": [
            "\r11it [01:35,  8.73s/it]"
          ],
          "name": "stderr"
        },
        {
          "output_type": "stream",
          "text": [
            "\rtrain batch [11/41]: loss 89201770496.0"
          ],
          "name": "stdout"
        },
        {
          "output_type": "stream",
          "text": [
            "\r12it [01:44,  8.77s/it]"
          ],
          "name": "stderr"
        },
        {
          "output_type": "stream",
          "text": [
            "\rtrain batch [12/41]: loss 70709731328.0"
          ],
          "name": "stdout"
        },
        {
          "output_type": "stream",
          "text": [
            "\r13it [01:53,  8.71s/it]"
          ],
          "name": "stderr"
        },
        {
          "output_type": "stream",
          "text": [
            "\rtrain batch [13/41]: loss 49826975744.0"
          ],
          "name": "stdout"
        },
        {
          "output_type": "stream",
          "text": [
            "\r14it [02:01,  8.62s/it]"
          ],
          "name": "stderr"
        },
        {
          "output_type": "stream",
          "text": [
            "\rtrain batch [14/41]: loss 46904696832.0"
          ],
          "name": "stdout"
        },
        {
          "output_type": "stream",
          "text": [
            "\r15it [02:10,  8.60s/it]"
          ],
          "name": "stderr"
        },
        {
          "output_type": "stream",
          "text": [
            "\rtrain batch [15/41]: loss 73285894144.0"
          ],
          "name": "stdout"
        },
        {
          "output_type": "stream",
          "text": [
            "\r16it [02:19,  8.66s/it]"
          ],
          "name": "stderr"
        },
        {
          "output_type": "stream",
          "text": [
            "\rtrain batch [16/41]: loss 39106404352.0"
          ],
          "name": "stdout"
        },
        {
          "output_type": "stream",
          "text": [
            "\r17it [02:27,  8.65s/it]"
          ],
          "name": "stderr"
        },
        {
          "output_type": "stream",
          "text": [
            "\rtrain batch [17/41]: loss 53100773376.0"
          ],
          "name": "stdout"
        },
        {
          "output_type": "stream",
          "text": [
            "\r18it [02:36,  8.65s/it]"
          ],
          "name": "stderr"
        },
        {
          "output_type": "stream",
          "text": [
            "\rtrain batch [18/41]: loss 86081781760.0"
          ],
          "name": "stdout"
        },
        {
          "output_type": "stream",
          "text": [
            "\r19it [02:45,  8.70s/it]"
          ],
          "name": "stderr"
        },
        {
          "output_type": "stream",
          "text": [
            "\rtrain batch [19/41]: loss 70010765312.0"
          ],
          "name": "stdout"
        },
        {
          "output_type": "stream",
          "text": [
            "\r20it [02:53,  8.70s/it]"
          ],
          "name": "stderr"
        },
        {
          "output_type": "stream",
          "text": [
            "\rtrain batch [20/41]: loss 57418424320.0"
          ],
          "name": "stdout"
        },
        {
          "output_type": "stream",
          "text": [
            "\r21it [03:02,  8.63s/it]"
          ],
          "name": "stderr"
        },
        {
          "output_type": "stream",
          "text": [
            "\rtrain batch [21/41]: loss 49680801792.0"
          ],
          "name": "stdout"
        },
        {
          "output_type": "stream",
          "text": [
            "\r22it [03:11,  8.64s/it]"
          ],
          "name": "stderr"
        },
        {
          "output_type": "stream",
          "text": [
            "\rtrain batch [22/41]: loss 46358343680.0"
          ],
          "name": "stdout"
        },
        {
          "output_type": "stream",
          "text": [
            "\r23it [03:19,  8.66s/it]"
          ],
          "name": "stderr"
        },
        {
          "output_type": "stream",
          "text": [
            "\rtrain batch [23/41]: loss 57984974848.0"
          ],
          "name": "stdout"
        },
        {
          "output_type": "stream",
          "text": [
            "\r24it [03:28,  8.65s/it]"
          ],
          "name": "stderr"
        },
        {
          "output_type": "stream",
          "text": [
            "\rtrain batch [24/41]: loss 57934815232.0"
          ],
          "name": "stdout"
        },
        {
          "output_type": "stream",
          "text": [
            "\r25it [03:37,  8.70s/it]"
          ],
          "name": "stderr"
        },
        {
          "output_type": "stream",
          "text": [
            "\rtrain batch [25/41]: loss 29787691008.0"
          ],
          "name": "stdout"
        },
        {
          "output_type": "stream",
          "text": [
            "\r26it [03:46,  8.76s/it]"
          ],
          "name": "stderr"
        },
        {
          "output_type": "stream",
          "text": [
            "\rtrain batch [26/41]: loss 43345162240.0"
          ],
          "name": "stdout"
        },
        {
          "output_type": "stream",
          "text": [
            "\r27it [03:55,  8.84s/it]"
          ],
          "name": "stderr"
        },
        {
          "output_type": "stream",
          "text": [
            "\rtrain batch [27/41]: loss 27208587264.0"
          ],
          "name": "stdout"
        },
        {
          "output_type": "stream",
          "text": [
            "\r28it [04:03,  8.77s/it]"
          ],
          "name": "stderr"
        },
        {
          "output_type": "stream",
          "text": [
            "\rtrain batch [28/41]: loss 27503996928.0"
          ],
          "name": "stdout"
        },
        {
          "output_type": "stream",
          "text": [
            "\r29it [04:12,  8.77s/it]"
          ],
          "name": "stderr"
        },
        {
          "output_type": "stream",
          "text": [
            "\rtrain batch [29/41]: loss 35959828480.0"
          ],
          "name": "stdout"
        },
        {
          "output_type": "stream",
          "text": [
            "\r30it [04:21,  8.83s/it]"
          ],
          "name": "stderr"
        },
        {
          "output_type": "stream",
          "text": [
            "\rtrain batch [30/41]: loss 46500515840.0"
          ],
          "name": "stdout"
        },
        {
          "output_type": "stream",
          "text": [
            "\r31it [04:30,  8.76s/it]"
          ],
          "name": "stderr"
        },
        {
          "output_type": "stream",
          "text": [
            "\rtrain batch [31/41]: loss 32533467136.0"
          ],
          "name": "stdout"
        },
        {
          "output_type": "stream",
          "text": [
            "\r32it [04:38,  8.74s/it]"
          ],
          "name": "stderr"
        },
        {
          "output_type": "stream",
          "text": [
            "\rtrain batch [32/41]: loss 27783491584.0"
          ],
          "name": "stdout"
        },
        {
          "output_type": "stream",
          "text": [
            "\r33it [04:47,  8.71s/it]"
          ],
          "name": "stderr"
        },
        {
          "output_type": "stream",
          "text": [
            "\rtrain batch [33/41]: loss 26849818624.0"
          ],
          "name": "stdout"
        },
        {
          "output_type": "stream",
          "text": [
            "\r34it [04:55,  8.67s/it]"
          ],
          "name": "stderr"
        },
        {
          "output_type": "stream",
          "text": [
            "\rtrain batch [34/41]: loss 33190262784.0"
          ],
          "name": "stdout"
        },
        {
          "output_type": "stream",
          "text": [
            "\r35it [05:04,  8.69s/it]"
          ],
          "name": "stderr"
        },
        {
          "output_type": "stream",
          "text": [
            "\rtrain batch [35/41]: loss 33714712576.0"
          ],
          "name": "stdout"
        },
        {
          "output_type": "stream",
          "text": [
            "\r36it [05:13,  8.67s/it]"
          ],
          "name": "stderr"
        },
        {
          "output_type": "stream",
          "text": [
            "\rtrain batch [36/41]: loss 47394095104.0"
          ],
          "name": "stdout"
        },
        {
          "output_type": "stream",
          "text": [
            "\r37it [05:21,  8.68s/it]"
          ],
          "name": "stderr"
        },
        {
          "output_type": "stream",
          "text": [
            "\rtrain batch [37/41]: loss 37987475456.0"
          ],
          "name": "stdout"
        },
        {
          "output_type": "stream",
          "text": [
            "\r38it [05:30,  8.68s/it]"
          ],
          "name": "stderr"
        },
        {
          "output_type": "stream",
          "text": [
            "\rtrain batch [38/41]: loss 39713292288.0"
          ],
          "name": "stdout"
        },
        {
          "output_type": "stream",
          "text": [
            "\r39it [05:39,  8.73s/it]"
          ],
          "name": "stderr"
        },
        {
          "output_type": "stream",
          "text": [
            "\rtrain batch [39/41]: loss 38445969408.0"
          ],
          "name": "stdout"
        },
        {
          "output_type": "stream",
          "text": [
            "\r40it [05:48,  8.74s/it]"
          ],
          "name": "stderr"
        },
        {
          "output_type": "stream",
          "text": [
            "\rtrain batch [40/41]: loss 34736611328.0"
          ],
          "name": "stdout"
        },
        {
          "output_type": "stream",
          "text": [
            "41it [05:54,  8.66s/it]"
          ],
          "name": "stderr"
        },
        {
          "output_type": "stream",
          "text": [
            "\rval batch [0/4]: loss 268201017344.0"
          ],
          "name": "stdout"
        },
        {
          "output_type": "stream",
          "text": [
            "\n"
          ],
          "name": "stderr"
        },
        {
          "output_type": "stream",
          "text": [
            "test batch [4/5]: loss 6020632064.0"
          ],
          "name": "stdout"
        },
        {
          "output_type": "stream",
          "text": [
            "\r0it [00:00, ?it/s]"
          ],
          "name": "stderr"
        },
        {
          "output_type": "stream",
          "text": [
            "\n",
            "Train loss: 49233100150.63415, Train accuracy: 0.6232745051383972\n",
            "Val loss: 110689021952.0, Val accuracy: 0.5625\n",
            "Test loss: 70738735052.8, Test accuracy: 0.6073718070983887\n",
            "\n",
            "=============== Epoch: 31\n",
            "train batch [0/41]: loss 48555167744.0"
          ],
          "name": "stdout"
        },
        {
          "output_type": "stream",
          "text": [
            "\r1it [00:08,  8.61s/it]"
          ],
          "name": "stderr"
        },
        {
          "output_type": "stream",
          "text": [
            "\rtrain batch [1/41]: loss 49958281216.0"
          ],
          "name": "stdout"
        },
        {
          "output_type": "stream",
          "text": [
            "\r2it [00:17,  8.76s/it]"
          ],
          "name": "stderr"
        },
        {
          "output_type": "stream",
          "text": [
            "\rtrain batch [2/41]: loss 36334710784.0"
          ],
          "name": "stdout"
        },
        {
          "output_type": "stream",
          "text": [
            "\r3it [00:26,  8.75s/it]"
          ],
          "name": "stderr"
        },
        {
          "output_type": "stream",
          "text": [
            "\rtrain batch [3/41]: loss 48001990656.0"
          ],
          "name": "stdout"
        },
        {
          "output_type": "stream",
          "text": [
            "\r4it [00:35,  8.74s/it]"
          ],
          "name": "stderr"
        },
        {
          "output_type": "stream",
          "text": [
            "\rtrain batch [4/41]: loss 77489881088.0"
          ],
          "name": "stdout"
        },
        {
          "output_type": "stream",
          "text": [
            "\r5it [00:43,  8.72s/it]"
          ],
          "name": "stderr"
        },
        {
          "output_type": "stream",
          "text": [
            "\rtrain batch [5/41]: loss 93354573824.0"
          ],
          "name": "stdout"
        },
        {
          "output_type": "stream",
          "text": [
            "\r6it [00:52,  8.76s/it]"
          ],
          "name": "stderr"
        },
        {
          "output_type": "stream",
          "text": [
            "\rtrain batch [6/41]: loss 137322913792.0"
          ],
          "name": "stdout"
        },
        {
          "output_type": "stream",
          "text": [
            "\r7it [01:01,  8.82s/it]"
          ],
          "name": "stderr"
        },
        {
          "output_type": "stream",
          "text": [
            "\rtrain batch [7/41]: loss 125296099328.0"
          ],
          "name": "stdout"
        },
        {
          "output_type": "stream",
          "text": [
            "\r8it [01:10,  8.78s/it]"
          ],
          "name": "stderr"
        },
        {
          "output_type": "stream",
          "text": [
            "\rtrain batch [8/41]: loss 80756178944.0"
          ],
          "name": "stdout"
        },
        {
          "output_type": "stream",
          "text": [
            "\r9it [01:19,  8.79s/it]"
          ],
          "name": "stderr"
        },
        {
          "output_type": "stream",
          "text": [
            "\rtrain batch [9/41]: loss 93552951296.0"
          ],
          "name": "stdout"
        },
        {
          "output_type": "stream",
          "text": [
            "\r10it [01:28,  8.81s/it]"
          ],
          "name": "stderr"
        },
        {
          "output_type": "stream",
          "text": [
            "\rtrain batch [10/41]: loss 53098696704.0"
          ],
          "name": "stdout"
        },
        {
          "output_type": "stream",
          "text": [
            "\r11it [01:36,  8.76s/it]"
          ],
          "name": "stderr"
        },
        {
          "output_type": "stream",
          "text": [
            "\rtrain batch [11/41]: loss 56990093312.0"
          ],
          "name": "stdout"
        },
        {
          "output_type": "stream",
          "text": [
            "\r12it [01:45,  8.77s/it]"
          ],
          "name": "stderr"
        },
        {
          "output_type": "stream",
          "text": [
            "\rtrain batch [12/41]: loss 44110536704.0"
          ],
          "name": "stdout"
        },
        {
          "output_type": "stream",
          "text": [
            "\r13it [01:54,  8.81s/it]"
          ],
          "name": "stderr"
        },
        {
          "output_type": "stream",
          "text": [
            "\rtrain batch [13/41]: loss 51071041536.0"
          ],
          "name": "stdout"
        },
        {
          "output_type": "stream",
          "text": [
            "\r14it [02:03,  8.80s/it]"
          ],
          "name": "stderr"
        },
        {
          "output_type": "stream",
          "text": [
            "\rtrain batch [14/41]: loss 49092407296.0"
          ],
          "name": "stdout"
        },
        {
          "output_type": "stream",
          "text": [
            "\r15it [02:11,  8.80s/it]"
          ],
          "name": "stderr"
        },
        {
          "output_type": "stream",
          "text": [
            "\rtrain batch [15/41]: loss 45585682432.0"
          ],
          "name": "stdout"
        },
        {
          "output_type": "stream",
          "text": [
            "\r16it [02:20,  8.75s/it]"
          ],
          "name": "stderr"
        },
        {
          "output_type": "stream",
          "text": [
            "\rtrain batch [16/41]: loss 45706915840.0"
          ],
          "name": "stdout"
        },
        {
          "output_type": "stream",
          "text": [
            "\r17it [02:29,  8.67s/it]"
          ],
          "name": "stderr"
        },
        {
          "output_type": "stream",
          "text": [
            "\rtrain batch [17/41]: loss 47836778496.0"
          ],
          "name": "stdout"
        },
        {
          "output_type": "stream",
          "text": [
            "\r18it [02:37,  8.67s/it]"
          ],
          "name": "stderr"
        },
        {
          "output_type": "stream",
          "text": [
            "\rtrain batch [18/41]: loss 48755089408.0"
          ],
          "name": "stdout"
        },
        {
          "output_type": "stream",
          "text": [
            "\r19it [02:46,  8.69s/it]"
          ],
          "name": "stderr"
        },
        {
          "output_type": "stream",
          "text": [
            "\rtrain batch [19/41]: loss 25202970624.0"
          ],
          "name": "stdout"
        },
        {
          "output_type": "stream",
          "text": [
            "\r20it [02:54,  8.63s/it]"
          ],
          "name": "stderr"
        },
        {
          "output_type": "stream",
          "text": [
            "\rtrain batch [20/41]: loss 32818417664.0"
          ],
          "name": "stdout"
        },
        {
          "output_type": "stream",
          "text": [
            "\r21it [03:03,  8.70s/it]"
          ],
          "name": "stderr"
        },
        {
          "output_type": "stream",
          "text": [
            "\rtrain batch [21/41]: loss 34692415488.0"
          ],
          "name": "stdout"
        },
        {
          "output_type": "stream",
          "text": [
            "\r22it [03:12,  8.59s/it]"
          ],
          "name": "stderr"
        },
        {
          "output_type": "stream",
          "text": [
            "\rtrain batch [22/41]: loss 64646115328.0"
          ],
          "name": "stdout"
        },
        {
          "output_type": "stream",
          "text": [
            "\r23it [03:20,  8.61s/it]"
          ],
          "name": "stderr"
        },
        {
          "output_type": "stream",
          "text": [
            "\rtrain batch [23/41]: loss 66585190400.0"
          ],
          "name": "stdout"
        },
        {
          "output_type": "stream",
          "text": [
            "\r24it [03:29,  8.63s/it]"
          ],
          "name": "stderr"
        },
        {
          "output_type": "stream",
          "text": [
            "\rtrain batch [24/41]: loss 59967086592.0"
          ],
          "name": "stdout"
        },
        {
          "output_type": "stream",
          "text": [
            "\r25it [03:38,  8.63s/it]"
          ],
          "name": "stderr"
        },
        {
          "output_type": "stream",
          "text": [
            "\rtrain batch [25/41]: loss 50288865280.0"
          ],
          "name": "stdout"
        },
        {
          "output_type": "stream",
          "text": [
            "\r26it [03:46,  8.67s/it]"
          ],
          "name": "stderr"
        },
        {
          "output_type": "stream",
          "text": [
            "\rtrain batch [26/41]: loss 41178177536.0"
          ],
          "name": "stdout"
        },
        {
          "output_type": "stream",
          "text": [
            "\r27it [03:55,  8.68s/it]"
          ],
          "name": "stderr"
        },
        {
          "output_type": "stream",
          "text": [
            "\rtrain batch [27/41]: loss 58149326848.0"
          ],
          "name": "stdout"
        },
        {
          "output_type": "stream",
          "text": [
            "\r28it [04:04,  8.67s/it]"
          ],
          "name": "stderr"
        },
        {
          "output_type": "stream",
          "text": [
            "\rtrain batch [28/41]: loss 70570622976.0"
          ],
          "name": "stdout"
        },
        {
          "output_type": "stream",
          "text": [
            "\r29it [04:13,  8.75s/it]"
          ],
          "name": "stderr"
        },
        {
          "output_type": "stream",
          "text": [
            "\rtrain batch [29/41]: loss 55189643264.0"
          ],
          "name": "stdout"
        },
        {
          "output_type": "stream",
          "text": [
            "\r30it [04:21,  8.73s/it]"
          ],
          "name": "stderr"
        },
        {
          "output_type": "stream",
          "text": [
            "\rtrain batch [30/41]: loss 46568022016.0"
          ],
          "name": "stdout"
        },
        {
          "output_type": "stream",
          "text": [
            "\r31it [04:30,  8.77s/it]"
          ],
          "name": "stderr"
        },
        {
          "output_type": "stream",
          "text": [
            "\rtrain batch [31/41]: loss 41296572416.0"
          ],
          "name": "stdout"
        },
        {
          "output_type": "stream",
          "text": [
            "\r32it [04:39,  8.75s/it]"
          ],
          "name": "stderr"
        },
        {
          "output_type": "stream",
          "text": [
            "\rtrain batch [32/41]: loss 54991196160.0"
          ],
          "name": "stdout"
        },
        {
          "output_type": "stream",
          "text": [
            "\r33it [04:48,  8.74s/it]"
          ],
          "name": "stderr"
        },
        {
          "output_type": "stream",
          "text": [
            "\rtrain batch [33/41]: loss 39301439488.0"
          ],
          "name": "stdout"
        },
        {
          "output_type": "stream",
          "text": [
            "\r34it [04:56,  8.72s/it]"
          ],
          "name": "stderr"
        },
        {
          "output_type": "stream",
          "text": [
            "\rtrain batch [34/41]: loss 47697166336.0"
          ],
          "name": "stdout"
        },
        {
          "output_type": "stream",
          "text": [
            "\r35it [05:05,  8.68s/it]"
          ],
          "name": "stderr"
        },
        {
          "output_type": "stream",
          "text": [
            "\rtrain batch [35/41]: loss 30758518784.0"
          ],
          "name": "stdout"
        },
        {
          "output_type": "stream",
          "text": [
            "\r36it [05:13,  8.66s/it]"
          ],
          "name": "stderr"
        },
        {
          "output_type": "stream",
          "text": [
            "\rtrain batch [36/41]: loss 60317614080.0"
          ],
          "name": "stdout"
        },
        {
          "output_type": "stream",
          "text": [
            "\r37it [05:22,  8.72s/it]"
          ],
          "name": "stderr"
        },
        {
          "output_type": "stream",
          "text": [
            "\rtrain batch [37/41]: loss 166945849344.0"
          ],
          "name": "stdout"
        },
        {
          "output_type": "stream",
          "text": [
            "\r38it [05:31,  8.67s/it]"
          ],
          "name": "stderr"
        },
        {
          "output_type": "stream",
          "text": [
            "\rtrain batch [38/41]: loss 83775750144.0"
          ],
          "name": "stdout"
        },
        {
          "output_type": "stream",
          "text": [
            "\r39it [05:39,  8.64s/it]"
          ],
          "name": "stderr"
        },
        {
          "output_type": "stream",
          "text": [
            "\rtrain batch [39/41]: loss 37583675392.0"
          ],
          "name": "stdout"
        },
        {
          "output_type": "stream",
          "text": [
            "\r40it [05:48,  8.68s/it]"
          ],
          "name": "stderr"
        },
        {
          "output_type": "stream",
          "text": [
            "\rtrain batch [40/41]: loss 32301324288.0"
          ],
          "name": "stdout"
        },
        {
          "output_type": "stream",
          "text": [
            "41it [05:55,  8.67s/it]"
          ],
          "name": "stderr"
        },
        {
          "output_type": "stream",
          "text": [
            "\rval batch [0/4]: loss 323807608832.0"
          ],
          "name": "stdout"
        },
        {
          "output_type": "stream",
          "text": [
            "\n"
          ],
          "name": "stderr"
        },
        {
          "output_type": "stream",
          "text": [
            "test batch [4/5]: loss 15771865088.0"
          ],
          "name": "stdout"
        },
        {
          "output_type": "stream",
          "text": [
            "\r0it [00:00, ?it/s]"
          ],
          "name": "stderr"
        },
        {
          "output_type": "stream",
          "text": [
            "\n",
            "Train loss: 59358437026.34146, Train accuracy: 0.6543328166007996\n",
            "Val loss: 116401987584.0, Val accuracy: 0.5\n",
            "Test loss: 62174415667.2, Test accuracy: 0.7003205418586731\n",
            "\n",
            "=============== Epoch: 32\n",
            "train batch [0/41]: loss 47010209792.0"
          ],
          "name": "stdout"
        },
        {
          "output_type": "stream",
          "text": [
            "\r1it [00:08,  8.60s/it]"
          ],
          "name": "stderr"
        },
        {
          "output_type": "stream",
          "text": [
            "\rtrain batch [1/41]: loss 64125120512.0"
          ],
          "name": "stdout"
        },
        {
          "output_type": "stream",
          "text": [
            "\r2it [00:17,  8.64s/it]"
          ],
          "name": "stderr"
        },
        {
          "output_type": "stream",
          "text": [
            "\rtrain batch [2/41]: loss 60952408064.0"
          ],
          "name": "stdout"
        },
        {
          "output_type": "stream",
          "text": [
            "\r3it [00:25,  8.64s/it]"
          ],
          "name": "stderr"
        },
        {
          "output_type": "stream",
          "text": [
            "\rtrain batch [3/41]: loss 36409253888.0"
          ],
          "name": "stdout"
        },
        {
          "output_type": "stream",
          "text": [
            "\r4it [00:34,  8.70s/it]"
          ],
          "name": "stderr"
        },
        {
          "output_type": "stream",
          "text": [
            "\rtrain batch [4/41]: loss 34644729856.0"
          ],
          "name": "stdout"
        },
        {
          "output_type": "stream",
          "text": [
            "\r5it [00:43,  8.80s/it]"
          ],
          "name": "stderr"
        },
        {
          "output_type": "stream",
          "text": [
            "\rtrain batch [5/41]: loss 280645074944.0"
          ],
          "name": "stdout"
        },
        {
          "output_type": "stream",
          "text": [
            "\r6it [00:52,  8.85s/it]"
          ],
          "name": "stderr"
        },
        {
          "output_type": "stream",
          "text": [
            "\rtrain batch [6/41]: loss 223570591744.0"
          ],
          "name": "stdout"
        },
        {
          "output_type": "stream",
          "text": [
            "\r7it [01:01,  8.85s/it]"
          ],
          "name": "stderr"
        },
        {
          "output_type": "stream",
          "text": [
            "\rtrain batch [7/41]: loss 34308116480.0"
          ],
          "name": "stdout"
        },
        {
          "output_type": "stream",
          "text": [
            "\r8it [01:10,  8.78s/it]"
          ],
          "name": "stderr"
        },
        {
          "output_type": "stream",
          "text": [
            "\rtrain batch [8/41]: loss 49923821568.0"
          ],
          "name": "stdout"
        },
        {
          "output_type": "stream",
          "text": [
            "\r9it [01:18,  8.74s/it]"
          ],
          "name": "stderr"
        },
        {
          "output_type": "stream",
          "text": [
            "\rtrain batch [9/41]: loss 122909065216.0"
          ],
          "name": "stdout"
        },
        {
          "output_type": "stream",
          "text": [
            "\r10it [01:27,  8.76s/it]"
          ],
          "name": "stderr"
        },
        {
          "output_type": "stream",
          "text": [
            "\rtrain batch [10/41]: loss 88066727936.0"
          ],
          "name": "stdout"
        },
        {
          "output_type": "stream",
          "text": [
            "\r11it [01:36,  8.71s/it]"
          ],
          "name": "stderr"
        },
        {
          "output_type": "stream",
          "text": [
            "\rtrain batch [11/41]: loss 93184696320.0"
          ],
          "name": "stdout"
        },
        {
          "output_type": "stream",
          "text": [
            "\r12it [01:45,  8.72s/it]"
          ],
          "name": "stderr"
        },
        {
          "output_type": "stream",
          "text": [
            "\rtrain batch [12/41]: loss 89844441088.0"
          ],
          "name": "stdout"
        },
        {
          "output_type": "stream",
          "text": [
            "\r13it [01:53,  8.70s/it]"
          ],
          "name": "stderr"
        },
        {
          "output_type": "stream",
          "text": [
            "\rtrain batch [13/41]: loss 130309734400.0"
          ],
          "name": "stdout"
        },
        {
          "output_type": "stream",
          "text": [
            "\r14it [02:02,  8.69s/it]"
          ],
          "name": "stderr"
        },
        {
          "output_type": "stream",
          "text": [
            "\rtrain batch [14/41]: loss 90762395648.0"
          ],
          "name": "stdout"
        },
        {
          "output_type": "stream",
          "text": [
            "\r15it [02:11,  8.69s/it]"
          ],
          "name": "stderr"
        },
        {
          "output_type": "stream",
          "text": [
            "\rtrain batch [15/41]: loss 141228326912.0"
          ],
          "name": "stdout"
        },
        {
          "output_type": "stream",
          "text": [
            "\r16it [02:19,  8.71s/it]"
          ],
          "name": "stderr"
        },
        {
          "output_type": "stream",
          "text": [
            "\rtrain batch [16/41]: loss 145189634048.0"
          ],
          "name": "stdout"
        },
        {
          "output_type": "stream",
          "text": [
            "\r17it [02:28,  8.67s/it]"
          ],
          "name": "stderr"
        },
        {
          "output_type": "stream",
          "text": [
            "\rtrain batch [17/41]: loss 246826975232.0"
          ],
          "name": "stdout"
        },
        {
          "output_type": "stream",
          "text": [
            "\r18it [02:37,  8.73s/it]"
          ],
          "name": "stderr"
        },
        {
          "output_type": "stream",
          "text": [
            "\rtrain batch [18/41]: loss 196004380672.0"
          ],
          "name": "stdout"
        },
        {
          "output_type": "stream",
          "text": [
            "\r19it [02:45,  8.72s/it]"
          ],
          "name": "stderr"
        },
        {
          "output_type": "stream",
          "text": [
            "\rtrain batch [19/41]: loss 142310965248.0"
          ],
          "name": "stdout"
        },
        {
          "output_type": "stream",
          "text": [
            "\r20it [02:54,  8.66s/it]"
          ],
          "name": "stderr"
        },
        {
          "output_type": "stream",
          "text": [
            "\rtrain batch [20/41]: loss 160802816000.0"
          ],
          "name": "stdout"
        },
        {
          "output_type": "stream",
          "text": [
            "\r21it [03:03,  8.73s/it]"
          ],
          "name": "stderr"
        },
        {
          "output_type": "stream",
          "text": [
            "\rtrain batch [21/41]: loss 90417913856.0"
          ],
          "name": "stdout"
        },
        {
          "output_type": "stream",
          "text": [
            "\r22it [03:12,  8.74s/it]"
          ],
          "name": "stderr"
        },
        {
          "output_type": "stream",
          "text": [
            "\rtrain batch [22/41]: loss 146109186048.0"
          ],
          "name": "stdout"
        },
        {
          "output_type": "stream",
          "text": [
            "\r23it [03:20,  8.72s/it]"
          ],
          "name": "stderr"
        },
        {
          "output_type": "stream",
          "text": [
            "\rtrain batch [23/41]: loss 88450195456.0"
          ],
          "name": "stdout"
        },
        {
          "output_type": "stream",
          "text": [
            "\r24it [03:29,  8.70s/it]"
          ],
          "name": "stderr"
        },
        {
          "output_type": "stream",
          "text": [
            "\rtrain batch [24/41]: loss 153874071552.0"
          ],
          "name": "stdout"
        },
        {
          "output_type": "stream",
          "text": [
            "\r25it [03:38,  8.75s/it]"
          ],
          "name": "stderr"
        },
        {
          "output_type": "stream",
          "text": [
            "\rtrain batch [25/41]: loss 82990702592.0"
          ],
          "name": "stdout"
        },
        {
          "output_type": "stream",
          "text": [
            "\r26it [03:46,  8.67s/it]"
          ],
          "name": "stderr"
        },
        {
          "output_type": "stream",
          "text": [
            "\rtrain batch [26/41]: loss 66737848320.0"
          ],
          "name": "stdout"
        },
        {
          "output_type": "stream",
          "text": [
            "\r27it [03:55,  8.62s/it]"
          ],
          "name": "stderr"
        },
        {
          "output_type": "stream",
          "text": [
            "\rtrain batch [27/41]: loss 383836192768.0"
          ],
          "name": "stdout"
        },
        {
          "output_type": "stream",
          "text": [
            "\r28it [04:03,  8.57s/it]"
          ],
          "name": "stderr"
        },
        {
          "output_type": "stream",
          "text": [
            "\rtrain batch [28/41]: loss 223134744576.0"
          ],
          "name": "stdout"
        },
        {
          "output_type": "stream",
          "text": [
            "\r29it [04:12,  8.65s/it]"
          ],
          "name": "stderr"
        },
        {
          "output_type": "stream",
          "text": [
            "\rtrain batch [29/41]: loss 126096203776.0"
          ],
          "name": "stdout"
        },
        {
          "output_type": "stream",
          "text": [
            "\r30it [04:21,  8.65s/it]"
          ],
          "name": "stderr"
        },
        {
          "output_type": "stream",
          "text": [
            "\rtrain batch [30/41]: loss 72383758336.0"
          ],
          "name": "stdout"
        },
        {
          "output_type": "stream",
          "text": [
            "\r31it [04:30,  8.77s/it]"
          ],
          "name": "stderr"
        },
        {
          "output_type": "stream",
          "text": [
            "\rtrain batch [31/41]: loss 107591720960.0"
          ],
          "name": "stdout"
        },
        {
          "output_type": "stream",
          "text": [
            "\r32it [04:39,  8.75s/it]"
          ],
          "name": "stderr"
        },
        {
          "output_type": "stream",
          "text": [
            "\rtrain batch [32/41]: loss 93453484032.0"
          ],
          "name": "stdout"
        },
        {
          "output_type": "stream",
          "text": [
            "\r33it [04:47,  8.72s/it]"
          ],
          "name": "stderr"
        },
        {
          "output_type": "stream",
          "text": [
            "\rtrain batch [33/41]: loss 131950206976.0"
          ],
          "name": "stdout"
        },
        {
          "output_type": "stream",
          "text": [
            "\r34it [04:56,  8.66s/it]"
          ],
          "name": "stderr"
        },
        {
          "output_type": "stream",
          "text": [
            "\rtrain batch [34/41]: loss 125318946816.0"
          ],
          "name": "stdout"
        },
        {
          "output_type": "stream",
          "text": [
            "\r35it [05:04,  8.67s/it]"
          ],
          "name": "stderr"
        },
        {
          "output_type": "stream",
          "text": [
            "\rtrain batch [35/41]: loss 102602186752.0"
          ],
          "name": "stdout"
        },
        {
          "output_type": "stream",
          "text": [
            "\r36it [05:13,  8.66s/it]"
          ],
          "name": "stderr"
        },
        {
          "output_type": "stream",
          "text": [
            "\rtrain batch [36/41]: loss 95624462336.0"
          ],
          "name": "stdout"
        },
        {
          "output_type": "stream",
          "text": [
            "\r37it [05:22,  8.71s/it]"
          ],
          "name": "stderr"
        },
        {
          "output_type": "stream",
          "text": [
            "\rtrain batch [37/41]: loss 61211209728.0"
          ],
          "name": "stdout"
        },
        {
          "output_type": "stream",
          "text": [
            "\r38it [05:31,  8.72s/it]"
          ],
          "name": "stderr"
        },
        {
          "output_type": "stream",
          "text": [
            "\rtrain batch [38/41]: loss 424402386944.0"
          ],
          "name": "stdout"
        },
        {
          "output_type": "stream",
          "text": [
            "\r39it [05:39,  8.74s/it]"
          ],
          "name": "stderr"
        },
        {
          "output_type": "stream",
          "text": [
            "\rtrain batch [39/41]: loss 207549677568.0"
          ],
          "name": "stdout"
        },
        {
          "output_type": "stream",
          "text": [
            "\r40it [05:48,  8.76s/it]"
          ],
          "name": "stderr"
        },
        {
          "output_type": "stream",
          "text": [
            "\rtrain batch [40/41]: loss 112314286080.0"
          ],
          "name": "stdout"
        },
        {
          "output_type": "stream",
          "text": [
            "41it [05:55,  8.67s/it]"
          ],
          "name": "stderr"
        },
        {
          "output_type": "stream",
          "text": [
            "\rval batch [0/4]: loss 322898296832.0"
          ],
          "name": "stdout"
        },
        {
          "output_type": "stream",
          "text": [
            "\n"
          ],
          "name": "stderr"
        },
        {
          "output_type": "stream",
          "text": [
            "test batch [4/5]: loss 53750288384.0"
          ],
          "name": "stdout"
        },
        {
          "output_type": "stream",
          "text": [
            "\r0it [00:00, ?it/s]"
          ],
          "name": "stderr"
        },
        {
          "output_type": "stream",
          "text": [
            "\n",
            "Train loss: 131099484359.80487, Train accuracy: 0.5720858573913574\n",
            "Val loss: 167157125120.0, Val accuracy: 0.375\n",
            "Test loss: 121570826649.6, Test accuracy: 0.4326923191547394\n",
            "\n",
            "=============== Epoch: 33\n",
            "train batch [0/41]: loss 119434625024.0"
          ],
          "name": "stdout"
        },
        {
          "output_type": "stream",
          "text": [
            "\r1it [00:08,  8.81s/it]"
          ],
          "name": "stderr"
        },
        {
          "output_type": "stream",
          "text": [
            "\rtrain batch [1/41]: loss 124493496320.0"
          ],
          "name": "stdout"
        },
        {
          "output_type": "stream",
          "text": [
            "\r2it [00:17,  8.80s/it]"
          ],
          "name": "stderr"
        },
        {
          "output_type": "stream",
          "text": [
            "\rtrain batch [2/41]: loss 119558217728.0"
          ],
          "name": "stdout"
        },
        {
          "output_type": "stream",
          "text": [
            "\r3it [00:26,  8.75s/it]"
          ],
          "name": "stderr"
        },
        {
          "output_type": "stream",
          "text": [
            "\rtrain batch [3/41]: loss 119202193408.0"
          ],
          "name": "stdout"
        },
        {
          "output_type": "stream",
          "text": [
            "\r4it [00:34,  8.74s/it]"
          ],
          "name": "stderr"
        },
        {
          "output_type": "stream",
          "text": [
            "\rtrain batch [4/41]: loss 222375116800.0"
          ],
          "name": "stdout"
        },
        {
          "output_type": "stream",
          "text": [
            "\r5it [00:43,  8.79s/it]"
          ],
          "name": "stderr"
        },
        {
          "output_type": "stream",
          "text": [
            "\rtrain batch [5/41]: loss 158225694720.0"
          ],
          "name": "stdout"
        },
        {
          "output_type": "stream",
          "text": [
            "\r6it [00:52,  8.75s/it]"
          ],
          "name": "stderr"
        },
        {
          "output_type": "stream",
          "text": [
            "\rtrain batch [6/41]: loss 420693409792.0"
          ],
          "name": "stdout"
        },
        {
          "output_type": "stream",
          "text": [
            "\r7it [01:01,  8.72s/it]"
          ],
          "name": "stderr"
        },
        {
          "output_type": "stream",
          "text": [
            "\rtrain batch [7/41]: loss 244254064640.0"
          ],
          "name": "stdout"
        },
        {
          "output_type": "stream",
          "text": [
            "\r8it [01:09,  8.74s/it]"
          ],
          "name": "stderr"
        },
        {
          "output_type": "stream",
          "text": [
            "\rtrain batch [8/41]: loss 73524183040.0"
          ],
          "name": "stdout"
        },
        {
          "output_type": "stream",
          "text": [
            "\r9it [01:18,  8.71s/it]"
          ],
          "name": "stderr"
        },
        {
          "output_type": "stream",
          "text": [
            "\rtrain batch [9/41]: loss 87611932672.0"
          ],
          "name": "stdout"
        },
        {
          "output_type": "stream",
          "text": [
            "\r10it [01:27,  8.67s/it]"
          ],
          "name": "stderr"
        },
        {
          "output_type": "stream",
          "text": [
            "\rtrain batch [10/41]: loss 122299367424.0"
          ],
          "name": "stdout"
        },
        {
          "output_type": "stream",
          "text": [
            "\r11it [01:35,  8.64s/it]"
          ],
          "name": "stderr"
        },
        {
          "output_type": "stream",
          "text": [
            "\rtrain batch [11/41]: loss 111347032064.0"
          ],
          "name": "stdout"
        },
        {
          "output_type": "stream",
          "text": [
            "\r12it [01:44,  8.65s/it]"
          ],
          "name": "stderr"
        },
        {
          "output_type": "stream",
          "text": [
            "\rtrain batch [12/41]: loss 81936285696.0"
          ],
          "name": "stdout"
        },
        {
          "output_type": "stream",
          "text": [
            "\r13it [01:53,  8.72s/it]"
          ],
          "name": "stderr"
        },
        {
          "output_type": "stream",
          "text": [
            "\rtrain batch [13/41]: loss 83720798208.0"
          ],
          "name": "stdout"
        },
        {
          "output_type": "stream",
          "text": [
            "\r14it [02:01,  8.64s/it]"
          ],
          "name": "stderr"
        },
        {
          "output_type": "stream",
          "text": [
            "\rtrain batch [14/41]: loss 107787026432.0"
          ],
          "name": "stdout"
        },
        {
          "output_type": "stream",
          "text": [
            "\r15it [02:10,  8.68s/it]"
          ],
          "name": "stderr"
        },
        {
          "output_type": "stream",
          "text": [
            "\rtrain batch [15/41]: loss 298243653632.0"
          ],
          "name": "stdout"
        },
        {
          "output_type": "stream",
          "text": [
            "\r16it [02:19,  8.71s/it]"
          ],
          "name": "stderr"
        },
        {
          "output_type": "stream",
          "text": [
            "\rtrain batch [16/41]: loss 142754086912.0"
          ],
          "name": "stdout"
        },
        {
          "output_type": "stream",
          "text": [
            "\r17it [02:28,  8.74s/it]"
          ],
          "name": "stderr"
        },
        {
          "output_type": "stream",
          "text": [
            "\rtrain batch [17/41]: loss 97369399296.0"
          ],
          "name": "stdout"
        },
        {
          "output_type": "stream",
          "text": [
            "\r18it [02:36,  8.76s/it]"
          ],
          "name": "stderr"
        },
        {
          "output_type": "stream",
          "text": [
            "\rtrain batch [18/41]: loss 86349037568.0"
          ],
          "name": "stdout"
        },
        {
          "output_type": "stream",
          "text": [
            "\r19it [02:45,  8.69s/it]"
          ],
          "name": "stderr"
        },
        {
          "output_type": "stream",
          "text": [
            "\rtrain batch [19/41]: loss 88069881856.0"
          ],
          "name": "stdout"
        },
        {
          "output_type": "stream",
          "text": [
            "\r20it [02:54,  8.74s/it]"
          ],
          "name": "stderr"
        },
        {
          "output_type": "stream",
          "text": [
            "\rtrain batch [20/41]: loss 85322276864.0"
          ],
          "name": "stdout"
        },
        {
          "output_type": "stream",
          "text": [
            "\r21it [03:03,  8.74s/it]"
          ],
          "name": "stderr"
        },
        {
          "output_type": "stream",
          "text": [
            "\rtrain batch [21/41]: loss 101658484736.0"
          ],
          "name": "stdout"
        },
        {
          "output_type": "stream",
          "text": [
            "\r22it [03:11,  8.64s/it]"
          ],
          "name": "stderr"
        },
        {
          "output_type": "stream",
          "text": [
            "\rtrain batch [22/41]: loss 141565788160.0"
          ],
          "name": "stdout"
        },
        {
          "output_type": "stream",
          "text": [
            "\r23it [03:20,  8.67s/it]"
          ],
          "name": "stderr"
        },
        {
          "output_type": "stream",
          "text": [
            "\rtrain batch [23/41]: loss 148981399552.0"
          ],
          "name": "stdout"
        },
        {
          "output_type": "stream",
          "text": [
            "\r24it [03:29,  8.76s/it]"
          ],
          "name": "stderr"
        },
        {
          "output_type": "stream",
          "text": [
            "\rtrain batch [24/41]: loss 242255855616.0"
          ],
          "name": "stdout"
        },
        {
          "output_type": "stream",
          "text": [
            "\r25it [03:37,  8.77s/it]"
          ],
          "name": "stderr"
        },
        {
          "output_type": "stream",
          "text": [
            "\rtrain batch [25/41]: loss 180297433088.0"
          ],
          "name": "stdout"
        },
        {
          "output_type": "stream",
          "text": [
            "\r26it [03:46,  8.74s/it]"
          ],
          "name": "stderr"
        },
        {
          "output_type": "stream",
          "text": [
            "\rtrain batch [26/41]: loss 99759783936.0"
          ],
          "name": "stdout"
        },
        {
          "output_type": "stream",
          "text": [
            "\r27it [03:55,  8.71s/it]"
          ],
          "name": "stderr"
        },
        {
          "output_type": "stream",
          "text": [
            "\rtrain batch [27/41]: loss 114384617472.0"
          ],
          "name": "stdout"
        },
        {
          "output_type": "stream",
          "text": [
            "\r28it [04:03,  8.72s/it]"
          ],
          "name": "stderr"
        },
        {
          "output_type": "stream",
          "text": [
            "\rtrain batch [28/41]: loss 118140452864.0"
          ],
          "name": "stdout"
        },
        {
          "output_type": "stream",
          "text": [
            "\r29it [04:12,  8.64s/it]"
          ],
          "name": "stderr"
        },
        {
          "output_type": "stream",
          "text": [
            "\rtrain batch [29/41]: loss 188922003456.0"
          ],
          "name": "stdout"
        },
        {
          "output_type": "stream",
          "text": [
            "\r30it [04:21,  8.66s/it]"
          ],
          "name": "stderr"
        },
        {
          "output_type": "stream",
          "text": [
            "\rtrain batch [30/41]: loss 147590201344.0"
          ],
          "name": "stdout"
        },
        {
          "output_type": "stream",
          "text": [
            "\r31it [04:29,  8.62s/it]"
          ],
          "name": "stderr"
        },
        {
          "output_type": "stream",
          "text": [
            "\rtrain batch [31/41]: loss 124064038912.0"
          ],
          "name": "stdout"
        },
        {
          "output_type": "stream",
          "text": [
            "\r32it [04:38,  8.63s/it]"
          ],
          "name": "stderr"
        },
        {
          "output_type": "stream",
          "text": [
            "\rtrain batch [32/41]: loss 134480838656.0"
          ],
          "name": "stdout"
        },
        {
          "output_type": "stream",
          "text": [
            "\r33it [04:46,  8.61s/it]"
          ],
          "name": "stderr"
        },
        {
          "output_type": "stream",
          "text": [
            "\rtrain batch [33/41]: loss 89640574976.0"
          ],
          "name": "stdout"
        },
        {
          "output_type": "stream",
          "text": [
            "\r34it [04:55,  8.67s/it]"
          ],
          "name": "stderr"
        },
        {
          "output_type": "stream",
          "text": [
            "\rtrain batch [34/41]: loss 89651544064.0"
          ],
          "name": "stdout"
        },
        {
          "output_type": "stream",
          "text": [
            "\r35it [05:04,  8.74s/it]"
          ],
          "name": "stderr"
        },
        {
          "output_type": "stream",
          "text": [
            "\rtrain batch [35/41]: loss 248017485824.0"
          ],
          "name": "stdout"
        },
        {
          "output_type": "stream",
          "text": [
            "\r36it [05:13,  8.76s/it]"
          ],
          "name": "stderr"
        },
        {
          "output_type": "stream",
          "text": [
            "\rtrain batch [36/41]: loss 178076745728.0"
          ],
          "name": "stdout"
        },
        {
          "output_type": "stream",
          "text": [
            "\r37it [05:22,  8.81s/it]"
          ],
          "name": "stderr"
        },
        {
          "output_type": "stream",
          "text": [
            "\rtrain batch [37/41]: loss 228541464576.0"
          ],
          "name": "stdout"
        },
        {
          "output_type": "stream",
          "text": [
            "\r38it [05:31,  8.77s/it]"
          ],
          "name": "stderr"
        },
        {
          "output_type": "stream",
          "text": [
            "\rtrain batch [38/41]: loss 132722163712.0"
          ],
          "name": "stdout"
        },
        {
          "output_type": "stream",
          "text": [
            "\r39it [05:39,  8.76s/it]"
          ],
          "name": "stderr"
        },
        {
          "output_type": "stream",
          "text": [
            "\rtrain batch [39/41]: loss 151875813376.0"
          ],
          "name": "stdout"
        },
        {
          "output_type": "stream",
          "text": [
            "\r40it [05:48,  8.72s/it]"
          ],
          "name": "stderr"
        },
        {
          "output_type": "stream",
          "text": [
            "\rtrain batch [40/41]: loss 168589164544.0"
          ],
          "name": "stdout"
        },
        {
          "output_type": "stream",
          "text": [
            "41it [05:55,  8.66s/it]"
          ],
          "name": "stderr"
        },
        {
          "output_type": "stream",
          "text": [
            "\rval batch [0/4]: loss 977924784128.0"
          ],
          "name": "stdout"
        },
        {
          "output_type": "stream",
          "text": [
            "\n"
          ],
          "name": "stderr"
        },
        {
          "output_type": "stream",
          "text": [
            "test batch [4/5]: loss 124035891200.0"
          ],
          "name": "stdout"
        },
        {
          "output_type": "stream",
          "text": [
            "\r0it [00:00, ?it/s]"
          ],
          "name": "stderr"
        },
        {
          "output_type": "stream",
          "text": [
            "\n",
            "Train loss: 146921653023.2195, Train accuracy: 0.5678681135177612\n",
            "Val loss: 410340360192.0, Val accuracy: 0.625\n",
            "Test loss: 182800608460.8, Test accuracy: 0.682692289352417\n",
            "\n",
            "=============== Epoch: 34\n",
            "train batch [0/41]: loss 154531495936.0"
          ],
          "name": "stdout"
        },
        {
          "output_type": "stream",
          "text": [
            "\r1it [00:08,  8.83s/it]"
          ],
          "name": "stderr"
        },
        {
          "output_type": "stream",
          "text": [
            "\rtrain batch [1/41]: loss 108799795200.0"
          ],
          "name": "stdout"
        },
        {
          "output_type": "stream",
          "text": [
            "\r2it [00:17,  8.80s/it]"
          ],
          "name": "stderr"
        },
        {
          "output_type": "stream",
          "text": [
            "\rtrain batch [2/41]: loss 133887213568.0"
          ],
          "name": "stdout"
        },
        {
          "output_type": "stream",
          "text": [
            "\r3it [00:26,  8.75s/it]"
          ],
          "name": "stderr"
        },
        {
          "output_type": "stream",
          "text": [
            "\rtrain batch [3/41]: loss 70230491136.0"
          ],
          "name": "stdout"
        },
        {
          "output_type": "stream",
          "text": [
            "\r4it [00:34,  8.72s/it]"
          ],
          "name": "stderr"
        },
        {
          "output_type": "stream",
          "text": [
            "\rtrain batch [4/41]: loss 83152240640.0"
          ],
          "name": "stdout"
        },
        {
          "output_type": "stream",
          "text": [
            "\r5it [00:43,  8.70s/it]"
          ],
          "name": "stderr"
        },
        {
          "output_type": "stream",
          "text": [
            "\rtrain batch [5/41]: loss 160980631552.0"
          ],
          "name": "stdout"
        },
        {
          "output_type": "stream",
          "text": [
            "\r6it [00:52,  8.75s/it]"
          ],
          "name": "stderr"
        },
        {
          "output_type": "stream",
          "text": [
            "\rtrain batch [6/41]: loss 163457122304.0"
          ],
          "name": "stdout"
        },
        {
          "output_type": "stream",
          "text": [
            "\r7it [01:01,  8.75s/it]"
          ],
          "name": "stderr"
        },
        {
          "output_type": "stream",
          "text": [
            "\rtrain batch [7/41]: loss 110829715456.0"
          ],
          "name": "stdout"
        },
        {
          "output_type": "stream",
          "text": [
            "\r8it [01:09,  8.78s/it]"
          ],
          "name": "stderr"
        },
        {
          "output_type": "stream",
          "text": [
            "\rtrain batch [8/41]: loss 128367108096.0"
          ],
          "name": "stdout"
        },
        {
          "output_type": "stream",
          "text": [
            "\r9it [01:18,  8.72s/it]"
          ],
          "name": "stderr"
        },
        {
          "output_type": "stream",
          "text": [
            "\rtrain batch [9/41]: loss 109975945216.0"
          ],
          "name": "stdout"
        },
        {
          "output_type": "stream",
          "text": [
            "\r10it [01:27,  8.71s/it]"
          ],
          "name": "stderr"
        },
        {
          "output_type": "stream",
          "text": [
            "\rtrain batch [10/41]: loss 245622571008.0"
          ],
          "name": "stdout"
        },
        {
          "output_type": "stream",
          "text": [
            "\r11it [01:35,  8.73s/it]"
          ],
          "name": "stderr"
        },
        {
          "output_type": "stream",
          "text": [
            "\rtrain batch [11/41]: loss 115085524992.0"
          ],
          "name": "stdout"
        },
        {
          "output_type": "stream",
          "text": [
            "\r12it [01:45,  8.86s/it]"
          ],
          "name": "stderr"
        },
        {
          "output_type": "stream",
          "text": [
            "\rtrain batch [12/41]: loss 214029860864.0"
          ],
          "name": "stdout"
        },
        {
          "output_type": "stream",
          "text": [
            "\r13it [01:53,  8.83s/it]"
          ],
          "name": "stderr"
        },
        {
          "output_type": "stream",
          "text": [
            "\rtrain batch [13/41]: loss 193164689408.0"
          ],
          "name": "stdout"
        },
        {
          "output_type": "stream",
          "text": [
            "\r14it [02:02,  8.78s/it]"
          ],
          "name": "stderr"
        },
        {
          "output_type": "stream",
          "text": [
            "\rtrain batch [14/41]: loss 206032240640.0"
          ],
          "name": "stdout"
        },
        {
          "output_type": "stream",
          "text": [
            "\r15it [02:11,  8.71s/it]"
          ],
          "name": "stderr"
        },
        {
          "output_type": "stream",
          "text": [
            "\rtrain batch [15/41]: loss 218233470976.0"
          ],
          "name": "stdout"
        },
        {
          "output_type": "stream",
          "text": [
            "\r16it [02:19,  8.70s/it]"
          ],
          "name": "stderr"
        },
        {
          "output_type": "stream",
          "text": [
            "\rtrain batch [16/41]: loss 111087321088.0"
          ],
          "name": "stdout"
        },
        {
          "output_type": "stream",
          "text": [
            "\r17it [02:28,  8.74s/it]"
          ],
          "name": "stderr"
        },
        {
          "output_type": "stream",
          "text": [
            "\rtrain batch [17/41]: loss 138662346752.0"
          ],
          "name": "stdout"
        },
        {
          "output_type": "stream",
          "text": [
            "\r18it [02:37,  8.72s/it]"
          ],
          "name": "stderr"
        },
        {
          "output_type": "stream",
          "text": [
            "\rtrain batch [18/41]: loss 210831196160.0"
          ],
          "name": "stdout"
        },
        {
          "output_type": "stream",
          "text": [
            "\r19it [02:46,  8.77s/it]"
          ],
          "name": "stderr"
        },
        {
          "output_type": "stream",
          "text": [
            "\rtrain batch [19/41]: loss 198891307008.0"
          ],
          "name": "stdout"
        },
        {
          "output_type": "stream",
          "text": [
            "\r20it [02:54,  8.71s/it]"
          ],
          "name": "stderr"
        },
        {
          "output_type": "stream",
          "text": [
            "\rtrain batch [20/41]: loss 262936739840.0"
          ],
          "name": "stdout"
        },
        {
          "output_type": "stream",
          "text": [
            "\r21it [03:03,  8.73s/it]"
          ],
          "name": "stderr"
        },
        {
          "output_type": "stream",
          "text": [
            "\rtrain batch [21/41]: loss 196299472896.0"
          ],
          "name": "stdout"
        },
        {
          "output_type": "stream",
          "text": [
            "\r22it [03:12,  8.74s/it]"
          ],
          "name": "stderr"
        },
        {
          "output_type": "stream",
          "text": [
            "\rtrain batch [22/41]: loss 158705876992.0"
          ],
          "name": "stdout"
        },
        {
          "output_type": "stream",
          "text": [
            "\r23it [03:21,  8.78s/it]"
          ],
          "name": "stderr"
        },
        {
          "output_type": "stream",
          "text": [
            "\rtrain batch [23/41]: loss 187896152064.0"
          ],
          "name": "stdout"
        },
        {
          "output_type": "stream",
          "text": [
            "\r24it [03:29,  8.70s/it]"
          ],
          "name": "stderr"
        },
        {
          "output_type": "stream",
          "text": [
            "\rtrain batch [24/41]: loss 179868631040.0"
          ],
          "name": "stdout"
        },
        {
          "output_type": "stream",
          "text": [
            "\r25it [03:38,  8.71s/it]"
          ],
          "name": "stderr"
        },
        {
          "output_type": "stream",
          "text": [
            "\rtrain batch [25/41]: loss 124311404544.0"
          ],
          "name": "stdout"
        },
        {
          "output_type": "stream",
          "text": [
            "\r26it [03:47,  8.68s/it]"
          ],
          "name": "stderr"
        },
        {
          "output_type": "stream",
          "text": [
            "\rtrain batch [26/41]: loss 199455719424.0"
          ],
          "name": "stdout"
        },
        {
          "output_type": "stream",
          "text": [
            "\r27it [03:55,  8.67s/it]"
          ],
          "name": "stderr"
        },
        {
          "output_type": "stream",
          "text": [
            "\rtrain batch [27/41]: loss 197264375808.0"
          ],
          "name": "stdout"
        },
        {
          "output_type": "stream",
          "text": [
            "\r28it [04:04,  8.68s/it]"
          ],
          "name": "stderr"
        },
        {
          "output_type": "stream",
          "text": [
            "\rtrain batch [28/41]: loss 209695080448.0"
          ],
          "name": "stdout"
        },
        {
          "output_type": "stream",
          "text": [
            "\r29it [04:13,  8.70s/it]"
          ],
          "name": "stderr"
        },
        {
          "output_type": "stream",
          "text": [
            "\rtrain batch [29/41]: loss 139244060672.0"
          ],
          "name": "stdout"
        },
        {
          "output_type": "stream",
          "text": [
            "\r30it [04:21,  8.69s/it]"
          ],
          "name": "stderr"
        },
        {
          "output_type": "stream",
          "text": [
            "\rtrain batch [30/41]: loss 195367272448.0"
          ],
          "name": "stdout"
        },
        {
          "output_type": "stream",
          "text": [
            "\r31it [04:30,  8.74s/it]"
          ],
          "name": "stderr"
        },
        {
          "output_type": "stream",
          "text": [
            "\rtrain batch [31/41]: loss 117171109888.0"
          ],
          "name": "stdout"
        },
        {
          "output_type": "stream",
          "text": [
            "\r32it [04:39,  8.70s/it]"
          ],
          "name": "stderr"
        },
        {
          "output_type": "stream",
          "text": [
            "\rtrain batch [32/41]: loss 248533221376.0"
          ],
          "name": "stdout"
        },
        {
          "output_type": "stream",
          "text": [
            "\r33it [04:48,  8.75s/it]"
          ],
          "name": "stderr"
        },
        {
          "output_type": "stream",
          "text": [
            "\rtrain batch [33/41]: loss 151747018752.0"
          ],
          "name": "stdout"
        },
        {
          "output_type": "stream",
          "text": [
            "\r34it [04:56,  8.64s/it]"
          ],
          "name": "stderr"
        },
        {
          "output_type": "stream",
          "text": [
            "\rtrain batch [34/41]: loss 210477580288.0"
          ],
          "name": "stdout"
        },
        {
          "output_type": "stream",
          "text": [
            "\r35it [05:05,  8.64s/it]"
          ],
          "name": "stderr"
        },
        {
          "output_type": "stream",
          "text": [
            "\rtrain batch [35/41]: loss 178300878848.0"
          ],
          "name": "stdout"
        },
        {
          "output_type": "stream",
          "text": [
            "\r36it [05:14,  8.81s/it]"
          ],
          "name": "stderr"
        },
        {
          "output_type": "stream",
          "text": [
            "\rtrain batch [36/41]: loss 195137519616.0"
          ],
          "name": "stdout"
        },
        {
          "output_type": "stream",
          "text": [
            "\r37it [05:22,  8.75s/it]"
          ],
          "name": "stderr"
        },
        {
          "output_type": "stream",
          "text": [
            "\rtrain batch [37/41]: loss 259009216512.0"
          ],
          "name": "stdout"
        },
        {
          "output_type": "stream",
          "text": [
            "\r38it [05:31,  8.69s/it]"
          ],
          "name": "stderr"
        },
        {
          "output_type": "stream",
          "text": [
            "\rtrain batch [38/41]: loss 266299736064.0"
          ],
          "name": "stdout"
        },
        {
          "output_type": "stream",
          "text": [
            "\r39it [05:40,  8.76s/it]"
          ],
          "name": "stderr"
        },
        {
          "output_type": "stream",
          "text": [
            "\rtrain batch [39/41]: loss 137727377408.0"
          ],
          "name": "stdout"
        },
        {
          "output_type": "stream",
          "text": [
            "\r40it [05:49,  8.72s/it]"
          ],
          "name": "stderr"
        },
        {
          "output_type": "stream",
          "text": [
            "\rtrain batch [40/41]: loss 272888070144.0"
          ],
          "name": "stdout"
        },
        {
          "output_type": "stream",
          "text": [
            "41it [05:55,  8.68s/it]"
          ],
          "name": "stderr"
        },
        {
          "output_type": "stream",
          "text": [
            "\rval batch [0/4]: loss 0.0"
          ],
          "name": "stdout"
        },
        {
          "output_type": "stream",
          "text": [
            "\n"
          ],
          "name": "stderr"
        },
        {
          "output_type": "stream",
          "text": [
            "test batch [4/5]: loss 1074320310272.0"
          ],
          "name": "stdout"
        },
        {
          "output_type": "stream",
          "text": [
            "\r0it [00:00, ?it/s]"
          ],
          "name": "stderr"
        },
        {
          "output_type": "stream",
          "text": [
            "\n",
            "Train loss: 174736310072.19513, Train accuracy: 0.7168328166007996\n",
            "Val loss: 373929689088.0, Val accuracy: 0.5625\n",
            "Test loss: 677896162508.8, Test accuracy: 0.40224358439445496\n",
            "\n",
            "=============== Epoch: 35\n",
            "train batch [0/41]: loss 695964663808.0"
          ],
          "name": "stdout"
        },
        {
          "output_type": "stream",
          "text": [
            "\r1it [00:08,  8.85s/it]"
          ],
          "name": "stderr"
        },
        {
          "output_type": "stream",
          "text": [
            "\rtrain batch [1/41]: loss 707410591744.0"
          ],
          "name": "stdout"
        },
        {
          "output_type": "stream",
          "text": [
            "\r2it [00:17,  8.89s/it]"
          ],
          "name": "stderr"
        },
        {
          "output_type": "stream",
          "text": [
            "\rtrain batch [2/41]: loss 451758784512.0"
          ],
          "name": "stdout"
        },
        {
          "output_type": "stream",
          "text": [
            "\r3it [00:26,  8.81s/it]"
          ],
          "name": "stderr"
        },
        {
          "output_type": "stream",
          "text": [
            "\rtrain batch [3/41]: loss 387016556544.0"
          ],
          "name": "stdout"
        },
        {
          "output_type": "stream",
          "text": [
            "\r4it [00:35,  8.87s/it]"
          ],
          "name": "stderr"
        },
        {
          "output_type": "stream",
          "text": [
            "\rtrain batch [4/41]: loss 157231022080.0"
          ],
          "name": "stdout"
        },
        {
          "output_type": "stream",
          "text": [
            "\r5it [00:44,  8.88s/it]"
          ],
          "name": "stderr"
        },
        {
          "output_type": "stream",
          "text": [
            "\rtrain batch [5/41]: loss 181062549504.0"
          ],
          "name": "stdout"
        },
        {
          "output_type": "stream",
          "text": [
            "\r6it [00:53,  8.85s/it]"
          ],
          "name": "stderr"
        },
        {
          "output_type": "stream",
          "text": [
            "\rtrain batch [6/41]: loss 276328349696.0"
          ],
          "name": "stdout"
        },
        {
          "output_type": "stream",
          "text": [
            "\r7it [01:02,  8.86s/it]"
          ],
          "name": "stderr"
        },
        {
          "output_type": "stream",
          "text": [
            "\rtrain batch [7/41]: loss 191568691200.0"
          ],
          "name": "stdout"
        },
        {
          "output_type": "stream",
          "text": [
            "\r8it [01:10,  8.73s/it]"
          ],
          "name": "stderr"
        },
        {
          "output_type": "stream",
          "text": [
            "\rtrain batch [8/41]: loss 192206209024.0"
          ],
          "name": "stdout"
        },
        {
          "output_type": "stream",
          "text": [
            "\r9it [01:19,  8.70s/it]"
          ],
          "name": "stderr"
        },
        {
          "output_type": "stream",
          "text": [
            "\rtrain batch [9/41]: loss 146132811776.0"
          ],
          "name": "stdout"
        },
        {
          "output_type": "stream",
          "text": [
            "\r10it [01:27,  8.67s/it]"
          ],
          "name": "stderr"
        },
        {
          "output_type": "stream",
          "text": [
            "\rtrain batch [10/41]: loss 208665051136.0"
          ],
          "name": "stdout"
        },
        {
          "output_type": "stream",
          "text": [
            "\r11it [01:36,  8.66s/it]"
          ],
          "name": "stderr"
        },
        {
          "output_type": "stream",
          "text": [
            "\rtrain batch [11/41]: loss 186341916672.0"
          ],
          "name": "stdout"
        },
        {
          "output_type": "stream",
          "text": [
            "\r12it [01:45,  8.72s/it]"
          ],
          "name": "stderr"
        },
        {
          "output_type": "stream",
          "text": [
            "\rtrain batch [12/41]: loss 212821737472.0"
          ],
          "name": "stdout"
        },
        {
          "output_type": "stream",
          "text": [
            "\r13it [01:53,  8.74s/it]"
          ],
          "name": "stderr"
        },
        {
          "output_type": "stream",
          "text": [
            "\rtrain batch [13/41]: loss 164618928128.0"
          ],
          "name": "stdout"
        },
        {
          "output_type": "stream",
          "text": [
            "\r14it [02:02,  8.75s/it]"
          ],
          "name": "stderr"
        },
        {
          "output_type": "stream",
          "text": [
            "\rtrain batch [14/41]: loss 162116222976.0"
          ],
          "name": "stdout"
        },
        {
          "output_type": "stream",
          "text": [
            "\r15it [02:11,  8.71s/it]"
          ],
          "name": "stderr"
        },
        {
          "output_type": "stream",
          "text": [
            "\rtrain batch [15/41]: loss 294317588480.0"
          ],
          "name": "stdout"
        },
        {
          "output_type": "stream",
          "text": [
            "\r16it [02:20,  8.71s/it]"
          ],
          "name": "stderr"
        },
        {
          "output_type": "stream",
          "text": [
            "\rtrain batch [16/41]: loss 443002716160.0"
          ],
          "name": "stdout"
        },
        {
          "output_type": "stream",
          "text": [
            "\r17it [02:28,  8.67s/it]"
          ],
          "name": "stderr"
        },
        {
          "output_type": "stream",
          "text": [
            "\rtrain batch [17/41]: loss 352494649344.0"
          ],
          "name": "stdout"
        },
        {
          "output_type": "stream",
          "text": [
            "\r18it [02:37,  8.67s/it]"
          ],
          "name": "stderr"
        },
        {
          "output_type": "stream",
          "text": [
            "\rtrain batch [18/41]: loss 173339852800.0"
          ],
          "name": "stdout"
        },
        {
          "output_type": "stream",
          "text": [
            "\r19it [02:45,  8.65s/it]"
          ],
          "name": "stderr"
        },
        {
          "output_type": "stream",
          "text": [
            "\rtrain batch [19/41]: loss 349597073408.0"
          ],
          "name": "stdout"
        },
        {
          "output_type": "stream",
          "text": [
            "\r20it [02:54,  8.73s/it]"
          ],
          "name": "stderr"
        },
        {
          "output_type": "stream",
          "text": [
            "\rtrain batch [20/41]: loss 181420425216.0"
          ],
          "name": "stdout"
        },
        {
          "output_type": "stream",
          "text": [
            "\r21it [03:03,  8.71s/it]"
          ],
          "name": "stderr"
        },
        {
          "output_type": "stream",
          "text": [
            "\rtrain batch [21/41]: loss 117430747136.0"
          ],
          "name": "stdout"
        },
        {
          "output_type": "stream",
          "text": [
            "\r22it [03:12,  8.72s/it]"
          ],
          "name": "stderr"
        },
        {
          "output_type": "stream",
          "text": [
            "\rtrain batch [22/41]: loss 258881044480.0"
          ],
          "name": "stdout"
        },
        {
          "output_type": "stream",
          "text": [
            "\r23it [03:20,  8.71s/it]"
          ],
          "name": "stderr"
        },
        {
          "output_type": "stream",
          "text": [
            "\rtrain batch [23/41]: loss 434510823424.0"
          ],
          "name": "stdout"
        },
        {
          "output_type": "stream",
          "text": [
            "\r24it [03:29,  8.73s/it]"
          ],
          "name": "stderr"
        },
        {
          "output_type": "stream",
          "text": [
            "\rtrain batch [24/41]: loss 322174976000.0"
          ],
          "name": "stdout"
        },
        {
          "output_type": "stream",
          "text": [
            "\r25it [03:38,  8.79s/it]"
          ],
          "name": "stderr"
        },
        {
          "output_type": "stream",
          "text": [
            "\rtrain batch [25/41]: loss 419449700352.0"
          ],
          "name": "stdout"
        },
        {
          "output_type": "stream",
          "text": [
            "\r26it [03:47,  8.76s/it]"
          ],
          "name": "stderr"
        },
        {
          "output_type": "stream",
          "text": [
            "\rtrain batch [26/41]: loss 199022903296.0"
          ],
          "name": "stdout"
        },
        {
          "output_type": "stream",
          "text": [
            "\r27it [03:55,  8.73s/it]"
          ],
          "name": "stderr"
        },
        {
          "output_type": "stream",
          "text": [
            "\rtrain batch [27/41]: loss 194430877696.0"
          ],
          "name": "stdout"
        },
        {
          "output_type": "stream",
          "text": [
            "\r28it [04:04,  8.68s/it]"
          ],
          "name": "stderr"
        },
        {
          "output_type": "stream",
          "text": [
            "\rtrain batch [28/41]: loss 334974648320.0"
          ],
          "name": "stdout"
        },
        {
          "output_type": "stream",
          "text": [
            "\r29it [04:13,  8.73s/it]"
          ],
          "name": "stderr"
        },
        {
          "output_type": "stream",
          "text": [
            "\rtrain batch [29/41]: loss 299183472640.0"
          ],
          "name": "stdout"
        },
        {
          "output_type": "stream",
          "text": [
            "\r30it [04:22,  8.69s/it]"
          ],
          "name": "stderr"
        },
        {
          "output_type": "stream",
          "text": [
            "\rtrain batch [30/41]: loss 144931209216.0"
          ],
          "name": "stdout"
        },
        {
          "output_type": "stream",
          "text": [
            "\r31it [04:30,  8.66s/it]"
          ],
          "name": "stderr"
        },
        {
          "output_type": "stream",
          "text": [
            "\rtrain batch [31/41]: loss 157669949440.0"
          ],
          "name": "stdout"
        },
        {
          "output_type": "stream",
          "text": [
            "\r32it [04:39,  8.68s/it]"
          ],
          "name": "stderr"
        },
        {
          "output_type": "stream",
          "text": [
            "\rtrain batch [32/41]: loss 216261427200.0"
          ],
          "name": "stdout"
        },
        {
          "output_type": "stream",
          "text": [
            "\r33it [04:48,  8.71s/it]"
          ],
          "name": "stderr"
        },
        {
          "output_type": "stream",
          "text": [
            "\rtrain batch [33/41]: loss 172270452736.0"
          ],
          "name": "stdout"
        },
        {
          "output_type": "stream",
          "text": [
            "\r34it [04:56,  8.72s/it]"
          ],
          "name": "stderr"
        },
        {
          "output_type": "stream",
          "text": [
            "\rtrain batch [34/41]: loss 95919669248.0"
          ],
          "name": "stdout"
        },
        {
          "output_type": "stream",
          "text": [
            "\r35it [05:05,  8.73s/it]"
          ],
          "name": "stderr"
        },
        {
          "output_type": "stream",
          "text": [
            "\rtrain batch [35/41]: loss 224447250432.0"
          ],
          "name": "stdout"
        },
        {
          "output_type": "stream",
          "text": [
            "\r36it [05:14,  8.67s/it]"
          ],
          "name": "stderr"
        },
        {
          "output_type": "stream",
          "text": [
            "\rtrain batch [36/41]: loss 102958153728.0"
          ],
          "name": "stdout"
        },
        {
          "output_type": "stream",
          "text": [
            "\r37it [05:22,  8.67s/it]"
          ],
          "name": "stderr"
        },
        {
          "output_type": "stream",
          "text": [
            "\rtrain batch [37/41]: loss 147670106112.0"
          ],
          "name": "stdout"
        },
        {
          "output_type": "stream",
          "text": [
            "\r38it [05:31,  8.72s/it]"
          ],
          "name": "stderr"
        },
        {
          "output_type": "stream",
          "text": [
            "\rtrain batch [38/41]: loss 332410126336.0"
          ],
          "name": "stdout"
        },
        {
          "output_type": "stream",
          "text": [
            "\r39it [05:40,  8.70s/it]"
          ],
          "name": "stderr"
        },
        {
          "output_type": "stream",
          "text": [
            "\rtrain batch [39/41]: loss 171640127488.0"
          ],
          "name": "stdout"
        },
        {
          "output_type": "stream",
          "text": [
            "\r40it [05:48,  8.70s/it]"
          ],
          "name": "stderr"
        },
        {
          "output_type": "stream",
          "text": [
            "\rtrain batch [40/41]: loss 834639495168.0"
          ],
          "name": "stdout"
        },
        {
          "output_type": "stream",
          "text": [
            "41it [05:55,  8.68s/it]"
          ],
          "name": "stderr"
        },
        {
          "output_type": "stream",
          "text": [
            "\rval batch [0/4]: loss 0.0"
          ],
          "name": "stdout"
        },
        {
          "output_type": "stream",
          "text": [
            "\n"
          ],
          "name": "stderr"
        },
        {
          "output_type": "stream",
          "text": [
            "test batch [4/5]: loss 2311941259264.0"
          ],
          "name": "stdout"
        },
        {
          "output_type": "stream",
          "text": [
            "\r0it [00:00, ?it/s]"
          ],
          "name": "stderr"
        },
        {
          "output_type": "stream",
          "text": [
            "\n",
            "Train loss: 275519358526.439, Train accuracy: 0.6213573217391968\n",
            "Val loss: 1303680188416.0, Val accuracy: 0.5\n",
            "Test loss: 1472240700620.8, Test accuracy: 0.375\n",
            "\n",
            "=============== Epoch: 36\n",
            "train batch [0/41]: loss 1761343569920.0"
          ],
          "name": "stdout"
        },
        {
          "output_type": "stream",
          "text": [
            "\r1it [00:08,  8.75s/it]"
          ],
          "name": "stderr"
        },
        {
          "output_type": "stream",
          "text": [
            "\rtrain batch [1/41]: loss 1346688647168.0"
          ],
          "name": "stdout"
        },
        {
          "output_type": "stream",
          "text": [
            "\r2it [00:17,  8.66s/it]"
          ],
          "name": "stderr"
        },
        {
          "output_type": "stream",
          "text": [
            "\rtrain batch [2/41]: loss 1431174119424.0"
          ],
          "name": "stdout"
        },
        {
          "output_type": "stream",
          "text": [
            "\r3it [00:26,  8.75s/it]"
          ],
          "name": "stderr"
        },
        {
          "output_type": "stream",
          "text": [
            "\rtrain batch [3/41]: loss 477923573760.0"
          ],
          "name": "stdout"
        },
        {
          "output_type": "stream",
          "text": [
            "\r4it [00:34,  8.71s/it]"
          ],
          "name": "stderr"
        },
        {
          "output_type": "stream",
          "text": [
            "\rtrain batch [4/41]: loss 217690423296.0"
          ],
          "name": "stdout"
        },
        {
          "output_type": "stream",
          "text": [
            "\r5it [00:43,  8.77s/it]"
          ],
          "name": "stderr"
        },
        {
          "output_type": "stream",
          "text": [
            "\rtrain batch [5/41]: loss 334342258688.0"
          ],
          "name": "stdout"
        },
        {
          "output_type": "stream",
          "text": [
            "\r6it [00:52,  8.77s/it]"
          ],
          "name": "stderr"
        },
        {
          "output_type": "stream",
          "text": [
            "\rtrain batch [6/41]: loss 288955826176.0"
          ],
          "name": "stdout"
        },
        {
          "output_type": "stream",
          "text": [
            "\r7it [01:01,  8.77s/it]"
          ],
          "name": "stderr"
        },
        {
          "output_type": "stream",
          "text": [
            "\rtrain batch [7/41]: loss 271905423360.0"
          ],
          "name": "stdout"
        },
        {
          "output_type": "stream",
          "text": [
            "\r8it [01:09,  8.74s/it]"
          ],
          "name": "stderr"
        },
        {
          "output_type": "stream",
          "text": [
            "\rtrain batch [8/41]: loss 243103678464.0"
          ],
          "name": "stdout"
        },
        {
          "output_type": "stream",
          "text": [
            "\r9it [01:18,  8.71s/it]"
          ],
          "name": "stderr"
        },
        {
          "output_type": "stream",
          "text": [
            "\rtrain batch [9/41]: loss 235406983168.0"
          ],
          "name": "stdout"
        },
        {
          "output_type": "stream",
          "text": [
            "\r10it [01:27,  8.72s/it]"
          ],
          "name": "stderr"
        },
        {
          "output_type": "stream",
          "text": [
            "\rtrain batch [10/41]: loss 215169073152.0"
          ],
          "name": "stdout"
        },
        {
          "output_type": "stream",
          "text": [
            "\r11it [01:35,  8.69s/it]"
          ],
          "name": "stderr"
        },
        {
          "output_type": "stream",
          "text": [
            "\rtrain batch [11/41]: loss 266305110016.0"
          ],
          "name": "stdout"
        },
        {
          "output_type": "stream",
          "text": [
            "\r12it [01:44,  8.70s/it]"
          ],
          "name": "stderr"
        },
        {
          "output_type": "stream",
          "text": [
            "\rtrain batch [12/41]: loss 218041417728.0"
          ],
          "name": "stdout"
        },
        {
          "output_type": "stream",
          "text": [
            "\r13it [01:53,  8.69s/it]"
          ],
          "name": "stderr"
        },
        {
          "output_type": "stream",
          "text": [
            "\rtrain batch [13/41]: loss 322900492288.0"
          ],
          "name": "stdout"
        },
        {
          "output_type": "stream",
          "text": [
            "\r14it [02:01,  8.66s/it]"
          ],
          "name": "stderr"
        },
        {
          "output_type": "stream",
          "text": [
            "\rtrain batch [14/41]: loss 215165059072.0"
          ],
          "name": "stdout"
        },
        {
          "output_type": "stream",
          "text": [
            "\r15it [02:10,  8.66s/it]"
          ],
          "name": "stderr"
        },
        {
          "output_type": "stream",
          "text": [
            "\rtrain batch [15/41]: loss 411239612416.0"
          ],
          "name": "stdout"
        },
        {
          "output_type": "stream",
          "text": [
            "\r16it [02:19,  8.71s/it]"
          ],
          "name": "stderr"
        },
        {
          "output_type": "stream",
          "text": [
            "\rtrain batch [16/41]: loss 378629095424.0"
          ],
          "name": "stdout"
        },
        {
          "output_type": "stream",
          "text": [
            "\r17it [02:27,  8.65s/it]"
          ],
          "name": "stderr"
        },
        {
          "output_type": "stream",
          "text": [
            "\rtrain batch [17/41]: loss 324552556544.0"
          ],
          "name": "stdout"
        },
        {
          "output_type": "stream",
          "text": [
            "\r18it [02:36,  8.62s/it]"
          ],
          "name": "stderr"
        },
        {
          "output_type": "stream",
          "text": [
            "\rtrain batch [18/41]: loss 317278388224.0"
          ],
          "name": "stdout"
        },
        {
          "output_type": "stream",
          "text": [
            "\r19it [02:45,  8.70s/it]"
          ],
          "name": "stderr"
        },
        {
          "output_type": "stream",
          "text": [
            "\rtrain batch [19/41]: loss 418787491840.0"
          ],
          "name": "stdout"
        },
        {
          "output_type": "stream",
          "text": [
            "\r20it [02:54,  8.71s/it]"
          ],
          "name": "stderr"
        },
        {
          "output_type": "stream",
          "text": [
            "\rtrain batch [20/41]: loss 280364843008.0"
          ],
          "name": "stdout"
        },
        {
          "output_type": "stream",
          "text": [
            "\r21it [03:02,  8.71s/it]"
          ],
          "name": "stderr"
        },
        {
          "output_type": "stream",
          "text": [
            "\rtrain batch [21/41]: loss 399100149760.0"
          ],
          "name": "stdout"
        },
        {
          "output_type": "stream",
          "text": [
            "\r22it [03:11,  8.66s/it]"
          ],
          "name": "stderr"
        },
        {
          "output_type": "stream",
          "text": [
            "\rtrain batch [22/41]: loss 418989932544.0"
          ],
          "name": "stdout"
        },
        {
          "output_type": "stream",
          "text": [
            "\r23it [03:20,  8.78s/it]"
          ],
          "name": "stderr"
        },
        {
          "output_type": "stream",
          "text": [
            "\rtrain batch [23/41]: loss 310367879168.0"
          ],
          "name": "stdout"
        },
        {
          "output_type": "stream",
          "text": [
            "\r24it [03:29,  8.74s/it]"
          ],
          "name": "stderr"
        },
        {
          "output_type": "stream",
          "text": [
            "\rtrain batch [24/41]: loss 320107413504.0"
          ],
          "name": "stdout"
        },
        {
          "output_type": "stream",
          "text": [
            "\r25it [03:37,  8.70s/it]"
          ],
          "name": "stderr"
        },
        {
          "output_type": "stream",
          "text": [
            "\rtrain batch [25/41]: loss 542171004928.0"
          ],
          "name": "stdout"
        },
        {
          "output_type": "stream",
          "text": [
            "\r26it [03:46,  8.66s/it]"
          ],
          "name": "stderr"
        },
        {
          "output_type": "stream",
          "text": [
            "\rtrain batch [26/41]: loss 392241971200.0"
          ],
          "name": "stdout"
        },
        {
          "output_type": "stream",
          "text": [
            "\r27it [03:54,  8.66s/it]"
          ],
          "name": "stderr"
        },
        {
          "output_type": "stream",
          "text": [
            "\rtrain batch [27/41]: loss 315261681664.0"
          ],
          "name": "stdout"
        },
        {
          "output_type": "stream",
          "text": [
            "\r28it [04:03,  8.69s/it]"
          ],
          "name": "stderr"
        },
        {
          "output_type": "stream",
          "text": [
            "\rtrain batch [28/41]: loss 297264611328.0"
          ],
          "name": "stdout"
        },
        {
          "output_type": "stream",
          "text": [
            "\r29it [04:12,  8.69s/it]"
          ],
          "name": "stderr"
        },
        {
          "output_type": "stream",
          "text": [
            "\rtrain batch [29/41]: loss 226382249984.0"
          ],
          "name": "stdout"
        },
        {
          "output_type": "stream",
          "text": [
            "\r30it [04:21,  8.70s/it]"
          ],
          "name": "stderr"
        },
        {
          "output_type": "stream",
          "text": [
            "\rtrain batch [30/41]: loss 158590042112.0"
          ],
          "name": "stdout"
        },
        {
          "output_type": "stream",
          "text": [
            "\r31it [04:29,  8.69s/it]"
          ],
          "name": "stderr"
        },
        {
          "output_type": "stream",
          "text": [
            "\rtrain batch [31/41]: loss 245339521024.0"
          ],
          "name": "stdout"
        },
        {
          "output_type": "stream",
          "text": [
            "\r32it [04:38,  8.67s/it]"
          ],
          "name": "stderr"
        },
        {
          "output_type": "stream",
          "text": [
            "\rtrain batch [32/41]: loss 179946635264.0"
          ],
          "name": "stdout"
        },
        {
          "output_type": "stream",
          "text": [
            "\r33it [04:46,  8.65s/it]"
          ],
          "name": "stderr"
        },
        {
          "output_type": "stream",
          "text": [
            "\rtrain batch [33/41]: loss 191436226560.0"
          ],
          "name": "stdout"
        },
        {
          "output_type": "stream",
          "text": [
            "\r34it [04:55,  8.70s/it]"
          ],
          "name": "stderr"
        },
        {
          "output_type": "stream",
          "text": [
            "\rtrain batch [34/41]: loss 270012563456.0"
          ],
          "name": "stdout"
        },
        {
          "output_type": "stream",
          "text": [
            "\r35it [05:04,  8.71s/it]"
          ],
          "name": "stderr"
        },
        {
          "output_type": "stream",
          "text": [
            "\rtrain batch [35/41]: loss 174290862080.0"
          ],
          "name": "stdout"
        },
        {
          "output_type": "stream",
          "text": [
            "\r36it [05:12,  8.65s/it]"
          ],
          "name": "stderr"
        },
        {
          "output_type": "stream",
          "text": [
            "\rtrain batch [36/41]: loss 129076903936.0"
          ],
          "name": "stdout"
        },
        {
          "output_type": "stream",
          "text": [
            "\r37it [05:21,  8.69s/it]"
          ],
          "name": "stderr"
        },
        {
          "output_type": "stream",
          "text": [
            "\rtrain batch [37/41]: loss 179525763072.0"
          ],
          "name": "stdout"
        },
        {
          "output_type": "stream",
          "text": [
            "\r38it [05:30,  8.72s/it]"
          ],
          "name": "stderr"
        },
        {
          "output_type": "stream",
          "text": [
            "\rtrain batch [38/41]: loss 206144667648.0"
          ],
          "name": "stdout"
        },
        {
          "output_type": "stream",
          "text": [
            "\r39it [05:39,  8.77s/it]"
          ],
          "name": "stderr"
        },
        {
          "output_type": "stream",
          "text": [
            "\rtrain batch [39/41]: loss 247614668800.0"
          ],
          "name": "stdout"
        },
        {
          "output_type": "stream",
          "text": [
            "\r40it [05:48,  8.81s/it]"
          ],
          "name": "stderr"
        },
        {
          "output_type": "stream",
          "text": [
            "\rtrain batch [40/41]: loss 211276300288.0"
          ],
          "name": "stdout"
        },
        {
          "output_type": "stream",
          "text": [
            "41it [05:54,  8.66s/it]"
          ],
          "name": "stderr"
        },
        {
          "output_type": "stream",
          "text": [
            "\rval batch [0/4]: loss 142579073024.0"
          ],
          "name": "stdout"
        },
        {
          "output_type": "stream",
          "text": [
            "\n"
          ],
          "name": "stderr"
        },
        {
          "output_type": "stream",
          "text": [
            "test batch [4/5]: loss 340874330112.0"
          ],
          "name": "stdout"
        },
        {
          "output_type": "stream",
          "text": [
            "\r0it [00:00, ?it/s]"
          ],
          "name": "stderr"
        },
        {
          "output_type": "stream",
          "text": [
            "\n",
            "Train loss: 375417295547.3171, Train accuracy: 0.6549079418182373\n",
            "Val loss: 251681751040.0, Val accuracy: 0.4375\n",
            "Test loss: 229051256012.8, Test accuracy: 0.5464743375778198\n",
            "\n",
            "=============== Epoch: 37\n",
            "train batch [0/41]: loss 257439268864.0"
          ],
          "name": "stdout"
        },
        {
          "output_type": "stream",
          "text": [
            "\r1it [00:08,  8.63s/it]"
          ],
          "name": "stderr"
        },
        {
          "output_type": "stream",
          "text": [
            "\rtrain batch [1/41]: loss 166852689920.0"
          ],
          "name": "stdout"
        },
        {
          "output_type": "stream",
          "text": [
            "\r2it [00:17,  8.70s/it]"
          ],
          "name": "stderr"
        },
        {
          "output_type": "stream",
          "text": [
            "\rtrain batch [2/41]: loss 342080290816.0"
          ],
          "name": "stdout"
        },
        {
          "output_type": "stream",
          "text": [
            "\r3it [00:26,  8.69s/it]"
          ],
          "name": "stderr"
        },
        {
          "output_type": "stream",
          "text": [
            "\rtrain batch [3/41]: loss 376632180736.0"
          ],
          "name": "stdout"
        },
        {
          "output_type": "stream",
          "text": [
            "\r4it [00:34,  8.72s/it]"
          ],
          "name": "stderr"
        },
        {
          "output_type": "stream",
          "text": [
            "\rtrain batch [4/41]: loss 300977258496.0"
          ],
          "name": "stdout"
        },
        {
          "output_type": "stream",
          "text": [
            "\r5it [00:43,  8.68s/it]"
          ],
          "name": "stderr"
        },
        {
          "output_type": "stream",
          "text": [
            "\rtrain batch [5/41]: loss 260727078912.0"
          ],
          "name": "stdout"
        },
        {
          "output_type": "stream",
          "text": [
            "\r6it [00:51,  8.61s/it]"
          ],
          "name": "stderr"
        },
        {
          "output_type": "stream",
          "text": [
            "\rtrain batch [6/41]: loss 454909362176.0"
          ],
          "name": "stdout"
        },
        {
          "output_type": "stream",
          "text": [
            "\r7it [01:00,  8.62s/it]"
          ],
          "name": "stderr"
        },
        {
          "output_type": "stream",
          "text": [
            "\rtrain batch [7/41]: loss 242839076864.0"
          ],
          "name": "stdout"
        },
        {
          "output_type": "stream",
          "text": [
            "\r8it [01:09,  8.64s/it]"
          ],
          "name": "stderr"
        },
        {
          "output_type": "stream",
          "text": [
            "\rtrain batch [8/41]: loss 336646766592.0"
          ],
          "name": "stdout"
        },
        {
          "output_type": "stream",
          "text": [
            "\r9it [01:17,  8.61s/it]"
          ],
          "name": "stderr"
        },
        {
          "output_type": "stream",
          "text": [
            "\rtrain batch [9/41]: loss 447315181568.0"
          ],
          "name": "stdout"
        },
        {
          "output_type": "stream",
          "text": [
            "\r10it [01:26,  8.58s/it]"
          ],
          "name": "stderr"
        },
        {
          "output_type": "stream",
          "text": [
            "\rtrain batch [10/41]: loss 465714184192.0"
          ],
          "name": "stdout"
        },
        {
          "output_type": "stream",
          "text": [
            "\r11it [01:35,  8.65s/it]"
          ],
          "name": "stderr"
        },
        {
          "output_type": "stream",
          "text": [
            "\rtrain batch [11/41]: loss 346216202240.0"
          ],
          "name": "stdout"
        },
        {
          "output_type": "stream",
          "text": [
            "\r12it [01:43,  8.63s/it]"
          ],
          "name": "stderr"
        },
        {
          "output_type": "stream",
          "text": [
            "\rtrain batch [12/41]: loss 231789838336.0"
          ],
          "name": "stdout"
        },
        {
          "output_type": "stream",
          "text": [
            "\r13it [01:52,  8.66s/it]"
          ],
          "name": "stderr"
        },
        {
          "output_type": "stream",
          "text": [
            "\rtrain batch [13/41]: loss 285332045824.0"
          ],
          "name": "stdout"
        },
        {
          "output_type": "stream",
          "text": [
            "\r14it [02:01,  8.64s/it]"
          ],
          "name": "stderr"
        },
        {
          "output_type": "stream",
          "text": [
            "\rtrain batch [14/41]: loss 349799448576.0"
          ],
          "name": "stdout"
        },
        {
          "output_type": "stream",
          "text": [
            "\r15it [02:09,  8.65s/it]"
          ],
          "name": "stderr"
        },
        {
          "output_type": "stream",
          "text": [
            "\rtrain batch [15/41]: loss 243979550720.0"
          ],
          "name": "stdout"
        },
        {
          "output_type": "stream",
          "text": [
            "\r16it [02:18,  8.74s/it]"
          ],
          "name": "stderr"
        },
        {
          "output_type": "stream",
          "text": [
            "\rtrain batch [16/41]: loss 315600470016.0"
          ],
          "name": "stdout"
        },
        {
          "output_type": "stream",
          "text": [
            "\r17it [02:27,  8.73s/it]"
          ],
          "name": "stderr"
        },
        {
          "output_type": "stream",
          "text": [
            "\rtrain batch [17/41]: loss 526921236480.0"
          ],
          "name": "stdout"
        },
        {
          "output_type": "stream",
          "text": [
            "\r18it [02:36,  8.79s/it]"
          ],
          "name": "stderr"
        },
        {
          "output_type": "stream",
          "text": [
            "\rtrain batch [18/41]: loss 367292121088.0"
          ],
          "name": "stdout"
        },
        {
          "output_type": "stream",
          "text": [
            "\r19it [02:44,  8.74s/it]"
          ],
          "name": "stderr"
        },
        {
          "output_type": "stream",
          "text": [
            "\rtrain batch [19/41]: loss 315661418496.0"
          ],
          "name": "stdout"
        },
        {
          "output_type": "stream",
          "text": [
            "\r20it [02:53,  8.73s/it]"
          ],
          "name": "stderr"
        },
        {
          "output_type": "stream",
          "text": [
            "\rtrain batch [20/41]: loss 410605977600.0"
          ],
          "name": "stdout"
        },
        {
          "output_type": "stream",
          "text": [
            "\r21it [03:02,  8.73s/it]"
          ],
          "name": "stderr"
        },
        {
          "output_type": "stream",
          "text": [
            "\rtrain batch [21/41]: loss 246917578752.0"
          ],
          "name": "stdout"
        },
        {
          "output_type": "stream",
          "text": [
            "\r22it [03:11,  8.69s/it]"
          ],
          "name": "stderr"
        },
        {
          "output_type": "stream",
          "text": [
            "\rtrain batch [22/41]: loss 152062328832.0"
          ],
          "name": "stdout"
        },
        {
          "output_type": "stream",
          "text": [
            "\r23it [03:19,  8.65s/it]"
          ],
          "name": "stderr"
        },
        {
          "output_type": "stream",
          "text": [
            "\rtrain batch [23/41]: loss 310718300160.0"
          ],
          "name": "stdout"
        },
        {
          "output_type": "stream",
          "text": [
            "\r24it [03:28,  8.76s/it]"
          ],
          "name": "stderr"
        },
        {
          "output_type": "stream",
          "text": [
            "\rtrain batch [24/41]: loss 249425723392.0"
          ],
          "name": "stdout"
        },
        {
          "output_type": "stream",
          "text": [
            "\r25it [03:37,  8.77s/it]"
          ],
          "name": "stderr"
        },
        {
          "output_type": "stream",
          "text": [
            "\rtrain batch [25/41]: loss 242693095424.0"
          ],
          "name": "stdout"
        },
        {
          "output_type": "stream",
          "text": [
            "\r26it [03:45,  8.72s/it]"
          ],
          "name": "stderr"
        },
        {
          "output_type": "stream",
          "text": [
            "\rtrain batch [26/41]: loss 270155218944.0"
          ],
          "name": "stdout"
        },
        {
          "output_type": "stream",
          "text": [
            "\r27it [03:54,  8.77s/it]"
          ],
          "name": "stderr"
        },
        {
          "output_type": "stream",
          "text": [
            "\rtrain batch [27/41]: loss 434636652544.0"
          ],
          "name": "stdout"
        },
        {
          "output_type": "stream",
          "text": [
            "\r28it [04:03,  8.79s/it]"
          ],
          "name": "stderr"
        },
        {
          "output_type": "stream",
          "text": [
            "\rtrain batch [28/41]: loss 255622709248.0"
          ],
          "name": "stdout"
        },
        {
          "output_type": "stream",
          "text": [
            "\r29it [04:12,  8.75s/it]"
          ],
          "name": "stderr"
        },
        {
          "output_type": "stream",
          "text": [
            "\rtrain batch [29/41]: loss 475548155904.0"
          ],
          "name": "stdout"
        },
        {
          "output_type": "stream",
          "text": [
            "\r30it [04:21,  8.78s/it]"
          ],
          "name": "stderr"
        },
        {
          "output_type": "stream",
          "text": [
            "\rtrain batch [30/41]: loss 131094609920.0"
          ],
          "name": "stdout"
        },
        {
          "output_type": "stream",
          "text": [
            "\r31it [04:29,  8.74s/it]"
          ],
          "name": "stderr"
        },
        {
          "output_type": "stream",
          "text": [
            "\rtrain batch [31/41]: loss 140504481792.0"
          ],
          "name": "stdout"
        },
        {
          "output_type": "stream",
          "text": [
            "\r32it [04:38,  8.73s/it]"
          ],
          "name": "stderr"
        },
        {
          "output_type": "stream",
          "text": [
            "\rtrain batch [32/41]: loss 122095624192.0"
          ],
          "name": "stdout"
        },
        {
          "output_type": "stream",
          "text": [
            "\r33it [04:47,  8.71s/it]"
          ],
          "name": "stderr"
        },
        {
          "output_type": "stream",
          "text": [
            "\rtrain batch [33/41]: loss 221916692480.0"
          ],
          "name": "stdout"
        },
        {
          "output_type": "stream",
          "text": [
            "\r34it [04:55,  8.71s/it]"
          ],
          "name": "stderr"
        },
        {
          "output_type": "stream",
          "text": [
            "\rtrain batch [34/41]: loss 177279680512.0"
          ],
          "name": "stdout"
        },
        {
          "output_type": "stream",
          "text": [
            "\r35it [05:04,  8.70s/it]"
          ],
          "name": "stderr"
        },
        {
          "output_type": "stream",
          "text": [
            "\rtrain batch [35/41]: loss 177641816064.0"
          ],
          "name": "stdout"
        },
        {
          "output_type": "stream",
          "text": [
            "\r36it [05:13,  8.70s/it]"
          ],
          "name": "stderr"
        },
        {
          "output_type": "stream",
          "text": [
            "\rtrain batch [36/41]: loss 240663412736.0"
          ],
          "name": "stdout"
        },
        {
          "output_type": "stream",
          "text": [
            "\r37it [05:21,  8.66s/it]"
          ],
          "name": "stderr"
        },
        {
          "output_type": "stream",
          "text": [
            "\rtrain batch [37/41]: loss 319089639424.0"
          ],
          "name": "stdout"
        },
        {
          "output_type": "stream",
          "text": [
            "\r38it [05:30,  8.71s/it]"
          ],
          "name": "stderr"
        },
        {
          "output_type": "stream",
          "text": [
            "\rtrain batch [38/41]: loss 318274568192.0"
          ],
          "name": "stdout"
        },
        {
          "output_type": "stream",
          "text": [
            "\r39it [05:39,  8.78s/it]"
          ],
          "name": "stderr"
        },
        {
          "output_type": "stream",
          "text": [
            "\rtrain batch [39/41]: loss 282655916032.0"
          ],
          "name": "stdout"
        },
        {
          "output_type": "stream",
          "text": [
            "\r40it [05:48,  8.86s/it]"
          ],
          "name": "stderr"
        },
        {
          "output_type": "stream",
          "text": [
            "\rtrain batch [40/41]: loss 820829356032.0"
          ],
          "name": "stdout"
        },
        {
          "output_type": "stream",
          "text": [
            "41it [05:55,  8.67s/it]"
          ],
          "name": "stderr"
        },
        {
          "output_type": "stream",
          "text": [
            "\rval batch [0/4]: loss 313543491584.0"
          ],
          "name": "stdout"
        },
        {
          "output_type": "stream",
          "text": [
            "\n"
          ],
          "name": "stderr"
        },
        {
          "output_type": "stream",
          "text": [
            "test batch [4/5]: loss 462606073856.0"
          ],
          "name": "stdout"
        },
        {
          "output_type": "stream",
          "text": [
            "\r0it [00:00, ?it/s]"
          ],
          "name": "stderr"
        },
        {
          "output_type": "stream",
          "text": [
            "\n",
            "Train loss: 308174564876.4878, Train accuracy: 0.6319018006324768\n",
            "Val loss: 350933188608.0, Val accuracy: 0.4375\n",
            "Test loss: 304371164774.4, Test accuracy: 0.5368589758872986\n",
            "\n",
            "=============== Epoch: 38\n",
            "train batch [0/41]: loss 335323004928.0"
          ],
          "name": "stdout"
        },
        {
          "output_type": "stream",
          "text": [
            "\r1it [00:08,  8.62s/it]"
          ],
          "name": "stderr"
        },
        {
          "output_type": "stream",
          "text": [
            "\rtrain batch [1/41]: loss 610520924160.0"
          ],
          "name": "stdout"
        },
        {
          "output_type": "stream",
          "text": [
            "\r2it [00:17,  8.62s/it]"
          ],
          "name": "stderr"
        },
        {
          "output_type": "stream",
          "text": [
            "\rtrain batch [2/41]: loss 209708941312.0"
          ],
          "name": "stdout"
        },
        {
          "output_type": "stream",
          "text": [
            "\r3it [00:26,  8.68s/it]"
          ],
          "name": "stderr"
        },
        {
          "output_type": "stream",
          "text": [
            "\rtrain batch [3/41]: loss 358258835456.0"
          ],
          "name": "stdout"
        },
        {
          "output_type": "stream",
          "text": [
            "\r4it [00:34,  8.67s/it]"
          ],
          "name": "stderr"
        },
        {
          "output_type": "stream",
          "text": [
            "\rtrain batch [4/41]: loss 453992415232.0"
          ],
          "name": "stdout"
        },
        {
          "output_type": "stream",
          "text": [
            "\r5it [00:43,  8.69s/it]"
          ],
          "name": "stderr"
        },
        {
          "output_type": "stream",
          "text": [
            "\rtrain batch [5/41]: loss 568009228288.0"
          ],
          "name": "stdout"
        },
        {
          "output_type": "stream",
          "text": [
            "\r6it [00:52,  8.72s/it]"
          ],
          "name": "stderr"
        },
        {
          "output_type": "stream",
          "text": [
            "\rtrain batch [6/41]: loss 147384270848.0"
          ],
          "name": "stdout"
        },
        {
          "output_type": "stream",
          "text": [
            "\r7it [01:00,  8.73s/it]"
          ],
          "name": "stderr"
        },
        {
          "output_type": "stream",
          "text": [
            "\rtrain batch [7/41]: loss 133895954432.0"
          ],
          "name": "stdout"
        },
        {
          "output_type": "stream",
          "text": [
            "\r8it [01:09,  8.63s/it]"
          ],
          "name": "stderr"
        },
        {
          "output_type": "stream",
          "text": [
            "\rtrain batch [8/41]: loss 182863577088.0"
          ],
          "name": "stdout"
        },
        {
          "output_type": "stream",
          "text": [
            "\r9it [01:18,  8.67s/it]"
          ],
          "name": "stderr"
        },
        {
          "output_type": "stream",
          "text": [
            "\rtrain batch [9/41]: loss 253920804864.0"
          ],
          "name": "stdout"
        },
        {
          "output_type": "stream",
          "text": [
            "\r10it [01:26,  8.64s/it]"
          ],
          "name": "stderr"
        },
        {
          "output_type": "stream",
          "text": [
            "\rtrain batch [10/41]: loss 227873406976.0"
          ],
          "name": "stdout"
        },
        {
          "output_type": "stream",
          "text": [
            "\r11it [01:35,  8.62s/it]"
          ],
          "name": "stderr"
        },
        {
          "output_type": "stream",
          "text": [
            "\rtrain batch [11/41]: loss 317035511808.0"
          ],
          "name": "stdout"
        },
        {
          "output_type": "stream",
          "text": [
            "\r12it [01:44,  8.66s/it]"
          ],
          "name": "stderr"
        },
        {
          "output_type": "stream",
          "text": [
            "\rtrain batch [12/41]: loss 237628063744.0"
          ],
          "name": "stdout"
        },
        {
          "output_type": "stream",
          "text": [
            "\r13it [01:52,  8.60s/it]"
          ],
          "name": "stderr"
        },
        {
          "output_type": "stream",
          "text": [
            "\rtrain batch [13/41]: loss 569021038592.0"
          ],
          "name": "stdout"
        },
        {
          "output_type": "stream",
          "text": [
            "\r14it [02:01,  8.60s/it]"
          ],
          "name": "stderr"
        },
        {
          "output_type": "stream",
          "text": [
            "\rtrain batch [14/41]: loss 351487197184.0"
          ],
          "name": "stdout"
        },
        {
          "output_type": "stream",
          "text": [
            "\r15it [02:09,  8.61s/it]"
          ],
          "name": "stderr"
        },
        {
          "output_type": "stream",
          "text": [
            "\rtrain batch [15/41]: loss 359872462848.0"
          ],
          "name": "stdout"
        },
        {
          "output_type": "stream",
          "text": [
            "\r16it [02:18,  8.62s/it]"
          ],
          "name": "stderr"
        },
        {
          "output_type": "stream",
          "text": [
            "\rtrain batch [16/41]: loss 147517210624.0"
          ],
          "name": "stdout"
        },
        {
          "output_type": "stream",
          "text": [
            "\r17it [02:26,  8.61s/it]"
          ],
          "name": "stderr"
        },
        {
          "output_type": "stream",
          "text": [
            "\rtrain batch [17/41]: loss 394098278400.0"
          ],
          "name": "stdout"
        },
        {
          "output_type": "stream",
          "text": [
            "\r18it [02:35,  8.58s/it]"
          ],
          "name": "stderr"
        },
        {
          "output_type": "stream",
          "text": [
            "\rtrain batch [18/41]: loss 152125751296.0"
          ],
          "name": "stdout"
        },
        {
          "output_type": "stream",
          "text": [
            "\r19it [02:43,  8.56s/it]"
          ],
          "name": "stderr"
        },
        {
          "output_type": "stream",
          "text": [
            "\rtrain batch [19/41]: loss 613979652096.0"
          ],
          "name": "stdout"
        },
        {
          "output_type": "stream",
          "text": [
            "\r20it [02:52,  8.59s/it]"
          ],
          "name": "stderr"
        },
        {
          "output_type": "stream",
          "text": [
            "\rtrain batch [20/41]: loss 389609619456.0"
          ],
          "name": "stdout"
        },
        {
          "output_type": "stream",
          "text": [
            "\r21it [03:01,  8.70s/it]"
          ],
          "name": "stderr"
        },
        {
          "output_type": "stream",
          "text": [
            "\rtrain batch [21/41]: loss 269399982080.0"
          ],
          "name": "stdout"
        },
        {
          "output_type": "stream",
          "text": [
            "\r22it [03:10,  8.67s/it]"
          ],
          "name": "stderr"
        },
        {
          "output_type": "stream",
          "text": [
            "\rtrain batch [22/41]: loss 293639585792.0"
          ],
          "name": "stdout"
        },
        {
          "output_type": "stream",
          "text": [
            "\r23it [03:19,  8.72s/it]"
          ],
          "name": "stderr"
        },
        {
          "output_type": "stream",
          "text": [
            "\rtrain batch [23/41]: loss 306766282752.0"
          ],
          "name": "stdout"
        },
        {
          "output_type": "stream",
          "text": [
            "\r24it [03:27,  8.71s/it]"
          ],
          "name": "stderr"
        },
        {
          "output_type": "stream",
          "text": [
            "\rtrain batch [24/41]: loss 257888387072.0"
          ],
          "name": "stdout"
        },
        {
          "output_type": "stream",
          "text": [
            "\r25it [03:36,  8.72s/it]"
          ],
          "name": "stderr"
        },
        {
          "output_type": "stream",
          "text": [
            "\rtrain batch [25/41]: loss 799517442048.0"
          ],
          "name": "stdout"
        },
        {
          "output_type": "stream",
          "text": [
            "\r26it [03:44,  8.65s/it]"
          ],
          "name": "stderr"
        },
        {
          "output_type": "stream",
          "text": [
            "\rtrain batch [26/41]: loss 512099090432.0"
          ],
          "name": "stdout"
        },
        {
          "output_type": "stream",
          "text": [
            "\r27it [03:53,  8.62s/it]"
          ],
          "name": "stderr"
        },
        {
          "output_type": "stream",
          "text": [
            "\rtrain batch [27/41]: loss 469091581952.0"
          ],
          "name": "stdout"
        },
        {
          "output_type": "stream",
          "text": [
            "\r28it [04:02,  8.63s/it]"
          ],
          "name": "stderr"
        },
        {
          "output_type": "stream",
          "text": [
            "\rtrain batch [28/41]: loss 629813608448.0"
          ],
          "name": "stdout"
        },
        {
          "output_type": "stream",
          "text": [
            "\r29it [04:10,  8.63s/it]"
          ],
          "name": "stderr"
        },
        {
          "output_type": "stream",
          "text": [
            "\rtrain batch [29/41]: loss 630757523456.0"
          ],
          "name": "stdout"
        },
        {
          "output_type": "stream",
          "text": [
            "\r30it [04:19,  8.64s/it]"
          ],
          "name": "stderr"
        },
        {
          "output_type": "stream",
          "text": [
            "\rtrain batch [30/41]: loss 472227741696.0"
          ],
          "name": "stdout"
        },
        {
          "output_type": "stream",
          "text": [
            "\r31it [04:28,  8.66s/it]"
          ],
          "name": "stderr"
        },
        {
          "output_type": "stream",
          "text": [
            "\rtrain batch [31/41]: loss 765575168000.0"
          ],
          "name": "stdout"
        },
        {
          "output_type": "stream",
          "text": [
            "\r32it [04:36,  8.61s/it]"
          ],
          "name": "stderr"
        },
        {
          "output_type": "stream",
          "text": [
            "\rtrain batch [32/41]: loss 454938329088.0"
          ],
          "name": "stdout"
        },
        {
          "output_type": "stream",
          "text": [
            "\r33it [04:45,  8.74s/it]"
          ],
          "name": "stderr"
        },
        {
          "output_type": "stream",
          "text": [
            "\rtrain batch [33/41]: loss 530936201216.0"
          ],
          "name": "stdout"
        },
        {
          "output_type": "stream",
          "text": [
            "\r34it [04:54,  8.67s/it]"
          ],
          "name": "stderr"
        },
        {
          "output_type": "stream",
          "text": [
            "\rtrain batch [34/41]: loss 404428718080.0"
          ],
          "name": "stdout"
        },
        {
          "output_type": "stream",
          "text": [
            "\r35it [05:02,  8.67s/it]"
          ],
          "name": "stderr"
        },
        {
          "output_type": "stream",
          "text": [
            "\rtrain batch [35/41]: loss 1379829284864.0"
          ],
          "name": "stdout"
        },
        {
          "output_type": "stream",
          "text": [
            "\r36it [05:11,  8.64s/it]"
          ],
          "name": "stderr"
        },
        {
          "output_type": "stream",
          "text": [
            "\rtrain batch [36/41]: loss 486376407040.0"
          ],
          "name": "stdout"
        },
        {
          "output_type": "stream",
          "text": [
            "\r37it [05:19,  8.59s/it]"
          ],
          "name": "stderr"
        },
        {
          "output_type": "stream",
          "text": [
            "\rtrain batch [37/41]: loss 1144958353408.0"
          ],
          "name": "stdout"
        },
        {
          "output_type": "stream",
          "text": [
            "\r38it [05:28,  8.55s/it]"
          ],
          "name": "stderr"
        },
        {
          "output_type": "stream",
          "text": [
            "\rtrain batch [38/41]: loss 818940542976.0"
          ],
          "name": "stdout"
        },
        {
          "output_type": "stream",
          "text": [
            "\r39it [05:37,  8.61s/it]"
          ],
          "name": "stderr"
        },
        {
          "output_type": "stream",
          "text": [
            "\rtrain batch [39/41]: loss 459504353280.0"
          ],
          "name": "stdout"
        },
        {
          "output_type": "stream",
          "text": [
            "\r40it [05:45,  8.60s/it]"
          ],
          "name": "stderr"
        },
        {
          "output_type": "stream",
          "text": [
            "\rtrain batch [40/41]: loss 966722060288.0"
          ],
          "name": "stdout"
        },
        {
          "output_type": "stream",
          "text": [
            "41it [05:52,  8.59s/it]"
          ],
          "name": "stderr"
        },
        {
          "output_type": "stream",
          "text": [
            "\rval batch [0/4]: loss 2148345053184.0"
          ],
          "name": "stdout"
        },
        {
          "output_type": "stream",
          "text": [
            "\n"
          ],
          "name": "stderr"
        },
        {
          "output_type": "stream",
          "text": [
            "test batch [4/5]: loss 0.0"
          ],
          "name": "stdout"
        },
        {
          "output_type": "stream",
          "text": [
            "\r0it [00:00, ?it/s]"
          ],
          "name": "stderr"
        },
        {
          "output_type": "stream",
          "text": [
            "\n",
            "Train loss: 465061873414.2439, Train accuracy: 0.6075536608695984\n",
            "Val loss: 1439039062016.0, Val accuracy: 0.5\n",
            "Test loss: 1237989615206.4, Test accuracy: 0.6266025900840759\n",
            "\n",
            "=============== Epoch: 39\n",
            "train batch [0/41]: loss 871710064640.0"
          ],
          "name": "stdout"
        },
        {
          "output_type": "stream",
          "text": [
            "\r1it [00:08,  8.50s/it]"
          ],
          "name": "stderr"
        },
        {
          "output_type": "stream",
          "text": [
            "\rtrain batch [1/41]: loss 866186952704.0"
          ],
          "name": "stdout"
        },
        {
          "output_type": "stream",
          "text": [
            "\r2it [00:17,  8.61s/it]"
          ],
          "name": "stderr"
        },
        {
          "output_type": "stream",
          "text": [
            "\rtrain batch [2/41]: loss 549037080576.0"
          ],
          "name": "stdout"
        },
        {
          "output_type": "stream",
          "text": [
            "\r3it [00:25,  8.60s/it]"
          ],
          "name": "stderr"
        },
        {
          "output_type": "stream",
          "text": [
            "\rtrain batch [3/41]: loss 563188596736.0"
          ],
          "name": "stdout"
        },
        {
          "output_type": "stream",
          "text": [
            "\r4it [00:34,  8.65s/it]"
          ],
          "name": "stderr"
        },
        {
          "output_type": "stream",
          "text": [
            "\rtrain batch [4/41]: loss 572245606400.0"
          ],
          "name": "stdout"
        },
        {
          "output_type": "stream",
          "text": [
            "\r5it [00:43,  8.65s/it]"
          ],
          "name": "stderr"
        },
        {
          "output_type": "stream",
          "text": [
            "\rtrain batch [5/41]: loss 387875209216.0"
          ],
          "name": "stdout"
        },
        {
          "output_type": "stream",
          "text": [
            "\r6it [00:52,  8.69s/it]"
          ],
          "name": "stderr"
        },
        {
          "output_type": "stream",
          "text": [
            "\rtrain batch [6/41]: loss 586282696704.0"
          ],
          "name": "stdout"
        },
        {
          "output_type": "stream",
          "text": [
            "\r7it [01:00,  8.72s/it]"
          ],
          "name": "stderr"
        },
        {
          "output_type": "stream",
          "text": [
            "\rtrain batch [7/41]: loss 828008759296.0"
          ],
          "name": "stdout"
        },
        {
          "output_type": "stream",
          "text": [
            "\r8it [01:09,  8.74s/it]"
          ],
          "name": "stderr"
        },
        {
          "output_type": "stream",
          "text": [
            "\rtrain batch [8/41]: loss 1158921453568.0"
          ],
          "name": "stdout"
        },
        {
          "output_type": "stream",
          "text": [
            "\r9it [01:18,  8.73s/it]"
          ],
          "name": "stderr"
        },
        {
          "output_type": "stream",
          "text": [
            "\rtrain batch [9/41]: loss 519754612736.0"
          ],
          "name": "stdout"
        },
        {
          "output_type": "stream",
          "text": [
            "\r10it [01:27,  8.69s/it]"
          ],
          "name": "stderr"
        },
        {
          "output_type": "stream",
          "text": [
            "\rtrain batch [10/41]: loss 405508259840.0"
          ],
          "name": "stdout"
        },
        {
          "output_type": "stream",
          "text": [
            "\r11it [01:35,  8.61s/it]"
          ],
          "name": "stderr"
        },
        {
          "output_type": "stream",
          "text": [
            "\rtrain batch [11/41]: loss 545418018816.0"
          ],
          "name": "stdout"
        },
        {
          "output_type": "stream",
          "text": [
            "\r12it [01:44,  8.62s/it]"
          ],
          "name": "stderr"
        },
        {
          "output_type": "stream",
          "text": [
            "\rtrain batch [12/41]: loss 1371847786496.0"
          ],
          "name": "stdout"
        },
        {
          "output_type": "stream",
          "text": [
            "\r13it [01:52,  8.64s/it]"
          ],
          "name": "stderr"
        },
        {
          "output_type": "stream",
          "text": [
            "\rtrain batch [13/41]: loss 581734760448.0"
          ],
          "name": "stdout"
        },
        {
          "output_type": "stream",
          "text": [
            "\r14it [02:01,  8.66s/it]"
          ],
          "name": "stderr"
        },
        {
          "output_type": "stream",
          "text": [
            "\rtrain batch [14/41]: loss 799142248448.0"
          ],
          "name": "stdout"
        },
        {
          "output_type": "stream",
          "text": [
            "\r15it [02:09,  8.60s/it]"
          ],
          "name": "stderr"
        },
        {
          "output_type": "stream",
          "text": [
            "\rtrain batch [15/41]: loss 551922434048.0"
          ],
          "name": "stdout"
        },
        {
          "output_type": "stream",
          "text": [
            "\r16it [02:18,  8.59s/it]"
          ],
          "name": "stderr"
        },
        {
          "output_type": "stream",
          "text": [
            "\rtrain batch [16/41]: loss 288287293440.0"
          ],
          "name": "stdout"
        },
        {
          "output_type": "stream",
          "text": [
            "\r17it [02:26,  8.54s/it]"
          ],
          "name": "stderr"
        },
        {
          "output_type": "stream",
          "text": [
            "\rtrain batch [17/41]: loss 507547549696.0"
          ],
          "name": "stdout"
        },
        {
          "output_type": "stream",
          "text": [
            "\r18it [02:35,  8.54s/it]"
          ],
          "name": "stderr"
        },
        {
          "output_type": "stream",
          "text": [
            "\rtrain batch [18/41]: loss 287046959104.0"
          ],
          "name": "stdout"
        },
        {
          "output_type": "stream",
          "text": [
            "\r19it [02:44,  8.58s/it]"
          ],
          "name": "stderr"
        },
        {
          "output_type": "stream",
          "text": [
            "\rtrain batch [19/41]: loss 750022688768.0"
          ],
          "name": "stdout"
        },
        {
          "output_type": "stream",
          "text": [
            "\r20it [02:52,  8.58s/it]"
          ],
          "name": "stderr"
        },
        {
          "output_type": "stream",
          "text": [
            "\rtrain batch [20/41]: loss 208292708352.0"
          ],
          "name": "stdout"
        },
        {
          "output_type": "stream",
          "text": [
            "\r21it [03:01,  8.56s/it]"
          ],
          "name": "stderr"
        },
        {
          "output_type": "stream",
          "text": [
            "\rtrain batch [21/41]: loss 620999933952.0"
          ],
          "name": "stdout"
        },
        {
          "output_type": "stream",
          "text": [
            "\r22it [03:09,  8.59s/it]"
          ],
          "name": "stderr"
        },
        {
          "output_type": "stream",
          "text": [
            "\rtrain batch [22/41]: loss 681423273984.0"
          ],
          "name": "stdout"
        },
        {
          "output_type": "stream",
          "text": [
            "\r23it [03:18,  8.64s/it]"
          ],
          "name": "stderr"
        },
        {
          "output_type": "stream",
          "text": [
            "\rtrain batch [23/41]: loss 911569846272.0"
          ],
          "name": "stdout"
        },
        {
          "output_type": "stream",
          "text": [
            "\r24it [03:27,  8.71s/it]"
          ],
          "name": "stderr"
        },
        {
          "output_type": "stream",
          "text": [
            "\rtrain batch [24/41]: loss 291544104960.0"
          ],
          "name": "stdout"
        },
        {
          "output_type": "stream",
          "text": [
            "\r25it [03:36,  8.66s/it]"
          ],
          "name": "stderr"
        },
        {
          "output_type": "stream",
          "text": [
            "\rtrain batch [25/41]: loss 629232107520.0"
          ],
          "name": "stdout"
        },
        {
          "output_type": "stream",
          "text": [
            "\r26it [03:44,  8.73s/it]"
          ],
          "name": "stderr"
        },
        {
          "output_type": "stream",
          "text": [
            "\rtrain batch [26/41]: loss 1636962271232.0"
          ],
          "name": "stdout"
        },
        {
          "output_type": "stream",
          "text": [
            "\r27it [03:53,  8.64s/it]"
          ],
          "name": "stderr"
        },
        {
          "output_type": "stream",
          "text": [
            "\rtrain batch [27/41]: loss 281656164352.0"
          ],
          "name": "stdout"
        },
        {
          "output_type": "stream",
          "text": [
            "\r28it [04:02,  8.73s/it]"
          ],
          "name": "stderr"
        },
        {
          "output_type": "stream",
          "text": [
            "\rtrain batch [28/41]: loss 656705060864.0"
          ],
          "name": "stdout"
        },
        {
          "output_type": "stream",
          "text": [
            "\r29it [04:11,  8.71s/it]"
          ],
          "name": "stderr"
        },
        {
          "output_type": "stream",
          "text": [
            "\rtrain batch [29/41]: loss 396812156928.0"
          ],
          "name": "stdout"
        },
        {
          "output_type": "stream",
          "text": [
            "\r30it [04:19,  8.69s/it]"
          ],
          "name": "stderr"
        },
        {
          "output_type": "stream",
          "text": [
            "\rtrain batch [30/41]: loss 1001554313216.0"
          ],
          "name": "stdout"
        },
        {
          "output_type": "stream",
          "text": [
            "\r31it [04:28,  8.75s/it]"
          ],
          "name": "stderr"
        },
        {
          "output_type": "stream",
          "text": [
            "\rtrain batch [31/41]: loss 456975777792.0"
          ],
          "name": "stdout"
        },
        {
          "output_type": "stream",
          "text": [
            "\r32it [04:37,  8.73s/it]"
          ],
          "name": "stderr"
        },
        {
          "output_type": "stream",
          "text": [
            "\rtrain batch [32/41]: loss 624016228352.0"
          ],
          "name": "stdout"
        },
        {
          "output_type": "stream",
          "text": [
            "\r33it [04:45,  8.70s/it]"
          ],
          "name": "stderr"
        },
        {
          "output_type": "stream",
          "text": [
            "\rtrain batch [33/41]: loss 261620989952.0"
          ],
          "name": "stdout"
        },
        {
          "output_type": "stream",
          "text": [
            "\r34it [04:54,  8.68s/it]"
          ],
          "name": "stderr"
        },
        {
          "output_type": "stream",
          "text": [
            "\rtrain batch [34/41]: loss 588904005632.0"
          ],
          "name": "stdout"
        },
        {
          "output_type": "stream",
          "text": [
            "\r35it [05:03,  8.73s/it]"
          ],
          "name": "stderr"
        },
        {
          "output_type": "stream",
          "text": [
            "\rtrain batch [35/41]: loss 591999926272.0"
          ],
          "name": "stdout"
        },
        {
          "output_type": "stream",
          "text": [
            "\r36it [05:12,  8.80s/it]"
          ],
          "name": "stderr"
        },
        {
          "output_type": "stream",
          "text": [
            "\rtrain batch [36/41]: loss 713293824000.0"
          ],
          "name": "stdout"
        },
        {
          "output_type": "stream",
          "text": [
            "\r37it [05:21,  8.79s/it]"
          ],
          "name": "stderr"
        },
        {
          "output_type": "stream",
          "text": [
            "\rtrain batch [37/41]: loss 725830729728.0"
          ],
          "name": "stdout"
        },
        {
          "output_type": "stream",
          "text": [
            "\r38it [05:29,  8.71s/it]"
          ],
          "name": "stderr"
        },
        {
          "output_type": "stream",
          "text": [
            "\rtrain batch [38/41]: loss 474231078912.0"
          ],
          "name": "stdout"
        },
        {
          "output_type": "stream",
          "text": [
            "\r39it [05:38,  8.70s/it]"
          ],
          "name": "stderr"
        },
        {
          "output_type": "stream",
          "text": [
            "\rtrain batch [39/41]: loss 496084615168.0"
          ],
          "name": "stdout"
        },
        {
          "output_type": "stream",
          "text": [
            "\r40it [05:47,  8.73s/it]"
          ],
          "name": "stderr"
        },
        {
          "output_type": "stream",
          "text": [
            "\rtrain batch [40/41]: loss 545844101120.0"
          ],
          "name": "stdout"
        },
        {
          "output_type": "stream",
          "text": [
            "41it [05:53,  8.63s/it]"
          ],
          "name": "stderr"
        },
        {
          "output_type": "stream",
          "text": [
            "\rval batch [0/4]: loss 609868447744.0"
          ],
          "name": "stdout"
        },
        {
          "output_type": "stream",
          "text": [
            "\n"
          ],
          "name": "stderr"
        },
        {
          "output_type": "stream",
          "text": [
            "test batch [4/5]: loss 830790565888.0"
          ],
          "name": "stdout"
        },
        {
          "output_type": "stream",
          "text": [
            "\r0it [00:00, ?it/s]"
          ],
          "name": "stderr"
        },
        {
          "output_type": "stream",
          "text": [
            "\n",
            "Train loss: 628957116865.561, Train accuracy: 0.6230828166007996\n",
            "Val loss: 675412418560.0, Val accuracy: 0.5625\n",
            "Test loss: 658132110540.8, Test accuracy: 0.5\n",
            "\n",
            "=============== Epoch: 40\n",
            "train batch [0/41]: loss 720844619776.0"
          ],
          "name": "stdout"
        },
        {
          "output_type": "stream",
          "text": [
            "\r1it [00:08,  8.64s/it]"
          ],
          "name": "stderr"
        },
        {
          "output_type": "stream",
          "text": [
            "\rtrain batch [1/41]: loss 598610018304.0"
          ],
          "name": "stdout"
        },
        {
          "output_type": "stream",
          "text": [
            "\r2it [00:17,  8.62s/it]"
          ],
          "name": "stderr"
        },
        {
          "output_type": "stream",
          "text": [
            "\rtrain batch [2/41]: loss 1154737635328.0"
          ],
          "name": "stdout"
        },
        {
          "output_type": "stream",
          "text": [
            "\r3it [00:25,  8.62s/it]"
          ],
          "name": "stderr"
        },
        {
          "output_type": "stream",
          "text": [
            "\rtrain batch [3/41]: loss 701574873088.0"
          ],
          "name": "stdout"
        },
        {
          "output_type": "stream",
          "text": [
            "\r4it [00:34,  8.63s/it]"
          ],
          "name": "stderr"
        },
        {
          "output_type": "stream",
          "text": [
            "\rtrain batch [4/41]: loss 510933270528.0"
          ],
          "name": "stdout"
        },
        {
          "output_type": "stream",
          "text": [
            "\r5it [00:43,  8.63s/it]"
          ],
          "name": "stderr"
        },
        {
          "output_type": "stream",
          "text": [
            "\rtrain batch [5/41]: loss 743324909568.0"
          ],
          "name": "stdout"
        },
        {
          "output_type": "stream",
          "text": [
            "\r6it [00:51,  8.66s/it]"
          ],
          "name": "stderr"
        },
        {
          "output_type": "stream",
          "text": [
            "\rtrain batch [6/41]: loss 1003477925888.0"
          ],
          "name": "stdout"
        },
        {
          "output_type": "stream",
          "text": [
            "\r7it [01:00,  8.80s/it]"
          ],
          "name": "stderr"
        },
        {
          "output_type": "stream",
          "text": [
            "\rtrain batch [7/41]: loss 589457784832.0"
          ],
          "name": "stdout"
        },
        {
          "output_type": "stream",
          "text": [
            "\r8it [01:09,  8.73s/it]"
          ],
          "name": "stderr"
        },
        {
          "output_type": "stream",
          "text": [
            "\rtrain batch [8/41]: loss 619372871680.0"
          ],
          "name": "stdout"
        },
        {
          "output_type": "stream",
          "text": [
            "\r9it [01:18,  8.74s/it]"
          ],
          "name": "stderr"
        },
        {
          "output_type": "stream",
          "text": [
            "\rtrain batch [9/41]: loss 893604331520.0"
          ],
          "name": "stdout"
        },
        {
          "output_type": "stream",
          "text": [
            "\r10it [01:27,  8.75s/it]"
          ],
          "name": "stderr"
        },
        {
          "output_type": "stream",
          "text": [
            "\rtrain batch [10/41]: loss 1024489095168.0"
          ],
          "name": "stdout"
        },
        {
          "output_type": "stream",
          "text": [
            "\r11it [01:35,  8.72s/it]"
          ],
          "name": "stderr"
        },
        {
          "output_type": "stream",
          "text": [
            "\rtrain batch [11/41]: loss 628399407104.0"
          ],
          "name": "stdout"
        },
        {
          "output_type": "stream",
          "text": [
            "\r12it [01:44,  8.66s/it]"
          ],
          "name": "stderr"
        },
        {
          "output_type": "stream",
          "text": [
            "\rtrain batch [12/41]: loss 472981045248.0"
          ],
          "name": "stdout"
        },
        {
          "output_type": "stream",
          "text": [
            "\r13it [01:52,  8.67s/it]"
          ],
          "name": "stderr"
        },
        {
          "output_type": "stream",
          "text": [
            "\rtrain batch [13/41]: loss 361783492608.0"
          ],
          "name": "stdout"
        },
        {
          "output_type": "stream",
          "text": [
            "\r14it [02:01,  8.64s/it]"
          ],
          "name": "stderr"
        },
        {
          "output_type": "stream",
          "text": [
            "\rtrain batch [14/41]: loss 580489314304.0"
          ],
          "name": "stdout"
        },
        {
          "output_type": "stream",
          "text": [
            "\r15it [02:10,  8.69s/it]"
          ],
          "name": "stderr"
        },
        {
          "output_type": "stream",
          "text": [
            "\rtrain batch [15/41]: loss 1052730523648.0"
          ],
          "name": "stdout"
        },
        {
          "output_type": "stream",
          "text": [
            "\r16it [02:18,  8.65s/it]"
          ],
          "name": "stderr"
        },
        {
          "output_type": "stream",
          "text": [
            "\rtrain batch [16/41]: loss 2331258126336.0"
          ],
          "name": "stdout"
        },
        {
          "output_type": "stream",
          "text": [
            "\r17it [02:27,  8.68s/it]"
          ],
          "name": "stderr"
        },
        {
          "output_type": "stream",
          "text": [
            "\rtrain batch [17/41]: loss 3532913639424.0"
          ],
          "name": "stdout"
        },
        {
          "output_type": "stream",
          "text": [
            "\r18it [02:36,  8.65s/it]"
          ],
          "name": "stderr"
        },
        {
          "output_type": "stream",
          "text": [
            "\rtrain batch [18/41]: loss 922138312704.0"
          ],
          "name": "stdout"
        },
        {
          "output_type": "stream",
          "text": [
            "\r19it [02:45,  8.70s/it]"
          ],
          "name": "stderr"
        },
        {
          "output_type": "stream",
          "text": [
            "\rtrain batch [19/41]: loss 692536868864.0"
          ],
          "name": "stdout"
        },
        {
          "output_type": "stream",
          "text": [
            "\r20it [02:53,  8.72s/it]"
          ],
          "name": "stderr"
        },
        {
          "output_type": "stream",
          "text": [
            "\rtrain batch [20/41]: loss 929795080192.0"
          ],
          "name": "stdout"
        },
        {
          "output_type": "stream",
          "text": [
            "\r21it [03:02,  8.71s/it]"
          ],
          "name": "stderr"
        },
        {
          "output_type": "stream",
          "text": [
            "\rtrain batch [21/41]: loss 923343781888.0"
          ],
          "name": "stdout"
        },
        {
          "output_type": "stream",
          "text": [
            "\r22it [03:11,  8.73s/it]"
          ],
          "name": "stderr"
        },
        {
          "output_type": "stream",
          "text": [
            "\rtrain batch [22/41]: loss 668492103680.0"
          ],
          "name": "stdout"
        },
        {
          "output_type": "stream",
          "text": [
            "\r23it [03:19,  8.66s/it]"
          ],
          "name": "stderr"
        },
        {
          "output_type": "stream",
          "text": [
            "\rtrain batch [23/41]: loss 1420850233344.0"
          ],
          "name": "stdout"
        },
        {
          "output_type": "stream",
          "text": [
            "\r24it [03:28,  8.69s/it]"
          ],
          "name": "stderr"
        },
        {
          "output_type": "stream",
          "text": [
            "\rtrain batch [24/41]: loss 510722048000.0"
          ],
          "name": "stdout"
        },
        {
          "output_type": "stream",
          "text": [
            "\r25it [03:37,  8.75s/it]"
          ],
          "name": "stderr"
        },
        {
          "output_type": "stream",
          "text": [
            "\rtrain batch [25/41]: loss 884531396608.0"
          ],
          "name": "stdout"
        },
        {
          "output_type": "stream",
          "text": [
            "\r26it [03:46,  8.72s/it]"
          ],
          "name": "stderr"
        },
        {
          "output_type": "stream",
          "text": [
            "\rtrain batch [26/41]: loss 1331255050240.0"
          ],
          "name": "stdout"
        },
        {
          "output_type": "stream",
          "text": [
            "\r27it [03:54,  8.71s/it]"
          ],
          "name": "stderr"
        },
        {
          "output_type": "stream",
          "text": [
            "\rtrain batch [27/41]: loss 1169151229952.0"
          ],
          "name": "stdout"
        },
        {
          "output_type": "stream",
          "text": [
            "\r28it [04:03,  8.68s/it]"
          ],
          "name": "stderr"
        },
        {
          "output_type": "stream",
          "text": [
            "\rtrain batch [28/41]: loss 1432030412800.0"
          ],
          "name": "stdout"
        },
        {
          "output_type": "stream",
          "text": [
            "\r29it [04:12,  8.71s/it]"
          ],
          "name": "stderr"
        },
        {
          "output_type": "stream",
          "text": [
            "\rtrain batch [29/41]: loss 1754657980416.0"
          ],
          "name": "stdout"
        },
        {
          "output_type": "stream",
          "text": [
            "\r30it [04:20,  8.71s/it]"
          ],
          "name": "stderr"
        },
        {
          "output_type": "stream",
          "text": [
            "\rtrain batch [30/41]: loss 2121043279872.0"
          ],
          "name": "stdout"
        },
        {
          "output_type": "stream",
          "text": [
            "\r31it [04:29,  8.77s/it]"
          ],
          "name": "stderr"
        },
        {
          "output_type": "stream",
          "text": [
            "\rtrain batch [31/41]: loss 1399687741440.0"
          ],
          "name": "stdout"
        },
        {
          "output_type": "stream",
          "text": [
            "\r32it [04:38,  8.72s/it]"
          ],
          "name": "stderr"
        },
        {
          "output_type": "stream",
          "text": [
            "\rtrain batch [32/41]: loss 903658930176.0"
          ],
          "name": "stdout"
        },
        {
          "output_type": "stream",
          "text": [
            "\r33it [04:46,  8.69s/it]"
          ],
          "name": "stderr"
        },
        {
          "output_type": "stream",
          "text": [
            "\rtrain batch [33/41]: loss 729415942144.0"
          ],
          "name": "stdout"
        },
        {
          "output_type": "stream",
          "text": [
            "\r34it [04:55,  8.67s/it]"
          ],
          "name": "stderr"
        },
        {
          "output_type": "stream",
          "text": [
            "\rtrain batch [34/41]: loss 470928916480.0"
          ],
          "name": "stdout"
        },
        {
          "output_type": "stream",
          "text": [
            "\r35it [05:04,  8.62s/it]"
          ],
          "name": "stderr"
        },
        {
          "output_type": "stream",
          "text": [
            "\rtrain batch [35/41]: loss 285589143552.0"
          ],
          "name": "stdout"
        },
        {
          "output_type": "stream",
          "text": [
            "\r36it [05:12,  8.60s/it]"
          ],
          "name": "stderr"
        },
        {
          "output_type": "stream",
          "text": [
            "\rtrain batch [36/41]: loss 513517617152.0"
          ],
          "name": "stdout"
        },
        {
          "output_type": "stream",
          "text": [
            "\r37it [05:21,  8.67s/it]"
          ],
          "name": "stderr"
        },
        {
          "output_type": "stream",
          "text": [
            "\rtrain batch [37/41]: loss 625211473920.0"
          ],
          "name": "stdout"
        },
        {
          "output_type": "stream",
          "text": [
            "\r38it [05:30,  8.65s/it]"
          ],
          "name": "stderr"
        },
        {
          "output_type": "stream",
          "text": [
            "\rtrain batch [38/41]: loss 380336603136.0"
          ],
          "name": "stdout"
        },
        {
          "output_type": "stream",
          "text": [
            "\r39it [05:38,  8.60s/it]"
          ],
          "name": "stderr"
        },
        {
          "output_type": "stream",
          "text": [
            "\rtrain batch [39/41]: loss 738223128576.0"
          ],
          "name": "stdout"
        },
        {
          "output_type": "stream",
          "text": [
            "\r40it [05:47,  8.69s/it]"
          ],
          "name": "stderr"
        },
        {
          "output_type": "stream",
          "text": [
            "\rtrain batch [40/41]: loss 678713950208.0"
          ],
          "name": "stdout"
        },
        {
          "output_type": "stream",
          "text": [
            "41it [05:54,  8.64s/it]"
          ],
          "name": "stderr"
        },
        {
          "output_type": "stream",
          "text": [
            "\rval batch [0/4]: loss 1135551709184.0"
          ],
          "name": "stdout"
        },
        {
          "output_type": "stream",
          "text": [
            "\n"
          ],
          "name": "stderr"
        },
        {
          "output_type": "stream",
          "text": [
            "test batch [4/5]: loss 918021275648.0"
          ],
          "name": "stdout"
        },
        {
          "output_type": "stream",
          "text": [
            "\r0it [00:00, ?it/s]"
          ],
          "name": "stderr"
        },
        {
          "output_type": "stream",
          "text": [
            "\n",
            "Train loss: 951385697205.0731, Train accuracy: 0.6008435487747192\n",
            "Val loss: 1105422942208.0, Val accuracy: 0.375\n",
            "Test loss: 905197243596.8, Test accuracy: 0.4551282227039337\n",
            "\n",
            "=============== Epoch: 41\n",
            "train batch [0/41]: loss 909540851712.0"
          ],
          "name": "stdout"
        },
        {
          "output_type": "stream",
          "text": [
            "\r1it [00:08,  8.55s/it]"
          ],
          "name": "stderr"
        },
        {
          "output_type": "stream",
          "text": [
            "\rtrain batch [1/41]: loss 669463412736.0"
          ],
          "name": "stdout"
        },
        {
          "output_type": "stream",
          "text": [
            "\r2it [00:17,  8.58s/it]"
          ],
          "name": "stderr"
        },
        {
          "output_type": "stream",
          "text": [
            "\rtrain batch [2/41]: loss 1176542642176.0"
          ],
          "name": "stdout"
        },
        {
          "output_type": "stream",
          "text": [
            "\r3it [00:26,  8.65s/it]"
          ],
          "name": "stderr"
        },
        {
          "output_type": "stream",
          "text": [
            "\rtrain batch [3/41]: loss 939567218688.0"
          ],
          "name": "stdout"
        },
        {
          "output_type": "stream",
          "text": [
            "\r4it [00:34,  8.58s/it]"
          ],
          "name": "stderr"
        },
        {
          "output_type": "stream",
          "text": [
            "\rtrain batch [4/41]: loss 1019822604288.0"
          ],
          "name": "stdout"
        },
        {
          "output_type": "stream",
          "text": [
            "\r5it [00:43,  8.59s/it]"
          ],
          "name": "stderr"
        },
        {
          "output_type": "stream",
          "text": [
            "\rtrain batch [5/41]: loss 730649067520.0"
          ],
          "name": "stdout"
        },
        {
          "output_type": "stream",
          "text": [
            "\r6it [00:51,  8.57s/it]"
          ],
          "name": "stderr"
        },
        {
          "output_type": "stream",
          "text": [
            "\rtrain batch [6/41]: loss 1018573750272.0"
          ],
          "name": "stdout"
        },
        {
          "output_type": "stream",
          "text": [
            "\r7it [01:00,  8.63s/it]"
          ],
          "name": "stderr"
        },
        {
          "output_type": "stream",
          "text": [
            "\rtrain batch [7/41]: loss 705523679232.0"
          ],
          "name": "stdout"
        },
        {
          "output_type": "stream",
          "text": [
            "\r8it [01:09,  8.66s/it]"
          ],
          "name": "stderr"
        },
        {
          "output_type": "stream",
          "text": [
            "\rtrain batch [8/41]: loss 646521421824.0"
          ],
          "name": "stdout"
        },
        {
          "output_type": "stream",
          "text": [
            "\r9it [01:17,  8.69s/it]"
          ],
          "name": "stderr"
        },
        {
          "output_type": "stream",
          "text": [
            "\rtrain batch [9/41]: loss 543272239104.0"
          ],
          "name": "stdout"
        },
        {
          "output_type": "stream",
          "text": [
            "\r10it [01:26,  8.68s/it]"
          ],
          "name": "stderr"
        },
        {
          "output_type": "stream",
          "text": [
            "\rtrain batch [10/41]: loss 1084067282944.0"
          ],
          "name": "stdout"
        },
        {
          "output_type": "stream",
          "text": [
            "\r11it [01:35,  8.69s/it]"
          ],
          "name": "stderr"
        },
        {
          "output_type": "stream",
          "text": [
            "\rtrain batch [11/41]: loss 812831080448.0"
          ],
          "name": "stdout"
        },
        {
          "output_type": "stream",
          "text": [
            "\r12it [01:43,  8.72s/it]"
          ],
          "name": "stderr"
        },
        {
          "output_type": "stream",
          "text": [
            "\rtrain batch [12/41]: loss 562311331840.0"
          ],
          "name": "stdout"
        },
        {
          "output_type": "stream",
          "text": [
            "\r13it [01:52,  8.67s/it]"
          ],
          "name": "stderr"
        },
        {
          "output_type": "stream",
          "text": [
            "\rtrain batch [13/41]: loss 713503670272.0"
          ],
          "name": "stdout"
        },
        {
          "output_type": "stream",
          "text": [
            "\r14it [02:01,  8.71s/it]"
          ],
          "name": "stderr"
        },
        {
          "output_type": "stream",
          "text": [
            "\rtrain batch [14/41]: loss 440553177088.0"
          ],
          "name": "stdout"
        },
        {
          "output_type": "stream",
          "text": [
            "\r15it [02:09,  8.65s/it]"
          ],
          "name": "stderr"
        },
        {
          "output_type": "stream",
          "text": [
            "\rtrain batch [15/41]: loss 642221932544.0"
          ],
          "name": "stdout"
        },
        {
          "output_type": "stream",
          "text": [
            "\r16it [02:18,  8.73s/it]"
          ],
          "name": "stderr"
        },
        {
          "output_type": "stream",
          "text": [
            "\rtrain batch [16/41]: loss 612011868160.0"
          ],
          "name": "stdout"
        },
        {
          "output_type": "stream",
          "text": [
            "\r17it [02:27,  8.75s/it]"
          ],
          "name": "stderr"
        },
        {
          "output_type": "stream",
          "text": [
            "\rtrain batch [17/41]: loss 2181712052224.0"
          ],
          "name": "stdout"
        },
        {
          "output_type": "stream",
          "text": [
            "\r18it [02:36,  8.78s/it]"
          ],
          "name": "stderr"
        },
        {
          "output_type": "stream",
          "text": [
            "\rtrain batch [18/41]: loss 661915303936.0"
          ],
          "name": "stdout"
        },
        {
          "output_type": "stream",
          "text": [
            "\r19it [02:45,  8.80s/it]"
          ],
          "name": "stderr"
        },
        {
          "output_type": "stream",
          "text": [
            "\rtrain batch [19/41]: loss 556961497088.0"
          ],
          "name": "stdout"
        },
        {
          "output_type": "stream",
          "text": [
            "\r20it [02:54,  8.85s/it]"
          ],
          "name": "stderr"
        },
        {
          "output_type": "stream",
          "text": [
            "\rtrain batch [20/41]: loss 312002674688.0"
          ],
          "name": "stdout"
        },
        {
          "output_type": "stream",
          "text": [
            "\r21it [03:02,  8.80s/it]"
          ],
          "name": "stderr"
        },
        {
          "output_type": "stream",
          "text": [
            "\rtrain batch [21/41]: loss 395261968384.0"
          ],
          "name": "stdout"
        },
        {
          "output_type": "stream",
          "text": [
            "\r22it [03:11,  8.77s/it]"
          ],
          "name": "stderr"
        },
        {
          "output_type": "stream",
          "text": [
            "\rtrain batch [22/41]: loss 445952294912.0"
          ],
          "name": "stdout"
        },
        {
          "output_type": "stream",
          "text": [
            "\r23it [03:20,  8.76s/it]"
          ],
          "name": "stderr"
        },
        {
          "output_type": "stream",
          "text": [
            "\rtrain batch [23/41]: loss 401806032896.0"
          ],
          "name": "stdout"
        },
        {
          "output_type": "stream",
          "text": [
            "\r24it [03:28,  8.71s/it]"
          ],
          "name": "stderr"
        },
        {
          "output_type": "stream",
          "text": [
            "\rtrain batch [24/41]: loss 456787230720.0"
          ],
          "name": "stdout"
        },
        {
          "output_type": "stream",
          "text": [
            "\r25it [03:37,  8.72s/it]"
          ],
          "name": "stderr"
        },
        {
          "output_type": "stream",
          "text": [
            "\rtrain batch [25/41]: loss 420728569856.0"
          ],
          "name": "stdout"
        },
        {
          "output_type": "stream",
          "text": [
            "\r26it [03:46,  8.72s/it]"
          ],
          "name": "stderr"
        },
        {
          "output_type": "stream",
          "text": [
            "\rtrain batch [26/41]: loss 567839686656.0"
          ],
          "name": "stdout"
        },
        {
          "output_type": "stream",
          "text": [
            "\r27it [03:55,  8.74s/it]"
          ],
          "name": "stderr"
        },
        {
          "output_type": "stream",
          "text": [
            "\rtrain batch [27/41]: loss 442062209024.0"
          ],
          "name": "stdout"
        },
        {
          "output_type": "stream",
          "text": [
            "\r28it [04:03,  8.72s/it]"
          ],
          "name": "stderr"
        },
        {
          "output_type": "stream",
          "text": [
            "\rtrain batch [28/41]: loss 438548955136.0"
          ],
          "name": "stdout"
        },
        {
          "output_type": "stream",
          "text": [
            "\r29it [04:12,  8.72s/it]"
          ],
          "name": "stderr"
        },
        {
          "output_type": "stream",
          "text": [
            "\rtrain batch [29/41]: loss 434197954560.0"
          ],
          "name": "stdout"
        },
        {
          "output_type": "stream",
          "text": [
            "\r30it [04:21,  8.67s/it]"
          ],
          "name": "stderr"
        },
        {
          "output_type": "stream",
          "text": [
            "\rtrain batch [30/41]: loss 399261368320.0"
          ],
          "name": "stdout"
        },
        {
          "output_type": "stream",
          "text": [
            "\r31it [04:29,  8.66s/it]"
          ],
          "name": "stderr"
        },
        {
          "output_type": "stream",
          "text": [
            "\rtrain batch [31/41]: loss 1087460016128.0"
          ],
          "name": "stdout"
        },
        {
          "output_type": "stream",
          "text": [
            "\r32it [04:38,  8.63s/it]"
          ],
          "name": "stderr"
        },
        {
          "output_type": "stream",
          "text": [
            "\rtrain batch [32/41]: loss 1117651599360.0"
          ],
          "name": "stdout"
        },
        {
          "output_type": "stream",
          "text": [
            "\r33it [04:47,  8.71s/it]"
          ],
          "name": "stderr"
        },
        {
          "output_type": "stream",
          "text": [
            "\rtrain batch [33/41]: loss 508843917312.0"
          ],
          "name": "stdout"
        },
        {
          "output_type": "stream",
          "text": [
            "\r34it [04:56,  8.73s/it]"
          ],
          "name": "stderr"
        },
        {
          "output_type": "stream",
          "text": [
            "\rtrain batch [34/41]: loss 324816797696.0"
          ],
          "name": "stdout"
        },
        {
          "output_type": "stream",
          "text": [
            "\r35it [05:04,  8.69s/it]"
          ],
          "name": "stderr"
        },
        {
          "output_type": "stream",
          "text": [
            "\rtrain batch [35/41]: loss 331686346752.0"
          ],
          "name": "stdout"
        },
        {
          "output_type": "stream",
          "text": [
            "\r36it [05:13,  8.69s/it]"
          ],
          "name": "stderr"
        },
        {
          "output_type": "stream",
          "text": [
            "\rtrain batch [36/41]: loss 437114208256.0"
          ],
          "name": "stdout"
        },
        {
          "output_type": "stream",
          "text": [
            "\r37it [05:22,  8.78s/it]"
          ],
          "name": "stderr"
        },
        {
          "output_type": "stream",
          "text": [
            "\rtrain batch [37/41]: loss 565382414336.0"
          ],
          "name": "stdout"
        },
        {
          "output_type": "stream",
          "text": [
            "\r38it [05:30,  8.74s/it]"
          ],
          "name": "stderr"
        },
        {
          "output_type": "stream",
          "text": [
            "\rtrain batch [38/41]: loss 668852158464.0"
          ],
          "name": "stdout"
        },
        {
          "output_type": "stream",
          "text": [
            "\r39it [05:39,  8.69s/it]"
          ],
          "name": "stderr"
        },
        {
          "output_type": "stream",
          "text": [
            "\rtrain batch [39/41]: loss 476506423296.0"
          ],
          "name": "stdout"
        },
        {
          "output_type": "stream",
          "text": [
            "\r40it [05:48,  8.74s/it]"
          ],
          "name": "stderr"
        },
        {
          "output_type": "stream",
          "text": [
            "\rtrain batch [40/41]: loss 1807521021952.0"
          ],
          "name": "stdout"
        },
        {
          "output_type": "stream",
          "text": [
            "41it [05:54,  8.66s/it]"
          ],
          "name": "stderr"
        },
        {
          "output_type": "stream",
          "text": [
            "\rval batch [0/4]: loss 559943122944.0"
          ],
          "name": "stdout"
        },
        {
          "output_type": "stream",
          "text": [
            "\n"
          ],
          "name": "stderr"
        },
        {
          "output_type": "stream",
          "text": [
            "test batch [4/5]: loss 735746195456.0"
          ],
          "name": "stdout"
        },
        {
          "output_type": "stream",
          "text": [
            "\r0it [00:00, ?it/s]"
          ],
          "name": "stderr"
        },
        {
          "output_type": "stream",
          "text": [
            "\n",
            "Train loss: 699215838432.7805, Train accuracy: 0.6878834366798401\n",
            "Val loss: 687048720384.0, Val accuracy: 0.6875\n",
            "Test loss: 721081597952.0, Test accuracy: 0.5288461446762085\n",
            "\n",
            "=============== Epoch: 42\n",
            "train batch [0/41]: loss 789334065152.0"
          ],
          "name": "stdout"
        },
        {
          "output_type": "stream",
          "text": [
            "\r1it [00:08,  8.64s/it]"
          ],
          "name": "stderr"
        },
        {
          "output_type": "stream",
          "text": [
            "\rtrain batch [1/41]: loss 704223641600.0"
          ],
          "name": "stdout"
        },
        {
          "output_type": "stream",
          "text": [
            "\r2it [00:17,  8.61s/it]"
          ],
          "name": "stderr"
        },
        {
          "output_type": "stream",
          "text": [
            "\rtrain batch [2/41]: loss 964678123520.0"
          ],
          "name": "stdout"
        },
        {
          "output_type": "stream",
          "text": [
            "\r3it [00:25,  8.66s/it]"
          ],
          "name": "stderr"
        },
        {
          "output_type": "stream",
          "text": [
            "\rtrain batch [3/41]: loss 615225491456.0"
          ],
          "name": "stdout"
        },
        {
          "output_type": "stream",
          "text": [
            "\r4it [00:34,  8.67s/it]"
          ],
          "name": "stderr"
        },
        {
          "output_type": "stream",
          "text": [
            "\rtrain batch [4/41]: loss 604238118912.0"
          ],
          "name": "stdout"
        },
        {
          "output_type": "stream",
          "text": [
            "\r5it [00:43,  8.66s/it]"
          ],
          "name": "stderr"
        },
        {
          "output_type": "stream",
          "text": [
            "\rtrain batch [5/41]: loss 653804044288.0"
          ],
          "name": "stdout"
        },
        {
          "output_type": "stream",
          "text": [
            "\r6it [00:52,  8.71s/it]"
          ],
          "name": "stderr"
        },
        {
          "output_type": "stream",
          "text": [
            "\rtrain batch [6/41]: loss 580621434880.0"
          ],
          "name": "stdout"
        },
        {
          "output_type": "stream",
          "text": [
            "\r7it [01:00,  8.73s/it]"
          ],
          "name": "stderr"
        },
        {
          "output_type": "stream",
          "text": [
            "\rtrain batch [7/41]: loss 588273090560.0"
          ],
          "name": "stdout"
        },
        {
          "output_type": "stream",
          "text": [
            "\r8it [01:09,  8.77s/it]"
          ],
          "name": "stderr"
        },
        {
          "output_type": "stream",
          "text": [
            "\rtrain batch [8/41]: loss 1341263183872.0"
          ],
          "name": "stdout"
        },
        {
          "output_type": "stream",
          "text": [
            "\r9it [01:18,  8.71s/it]"
          ],
          "name": "stderr"
        },
        {
          "output_type": "stream",
          "text": [
            "\rtrain batch [9/41]: loss 950754672640.0"
          ],
          "name": "stdout"
        },
        {
          "output_type": "stream",
          "text": [
            "\r10it [01:26,  8.65s/it]"
          ],
          "name": "stderr"
        },
        {
          "output_type": "stream",
          "text": [
            "\rtrain batch [10/41]: loss 1838697676800.0"
          ],
          "name": "stdout"
        },
        {
          "output_type": "stream",
          "text": [
            "\r11it [01:35,  8.61s/it]"
          ],
          "name": "stderr"
        },
        {
          "output_type": "stream",
          "text": [
            "\rtrain batch [11/41]: loss 746988503040.0"
          ],
          "name": "stdout"
        },
        {
          "output_type": "stream",
          "text": [
            "\r12it [01:44,  8.69s/it]"
          ],
          "name": "stderr"
        },
        {
          "output_type": "stream",
          "text": [
            "\rtrain batch [12/41]: loss 663223730176.0"
          ],
          "name": "stdout"
        },
        {
          "output_type": "stream",
          "text": [
            "\r13it [01:52,  8.71s/it]"
          ],
          "name": "stderr"
        },
        {
          "output_type": "stream",
          "text": [
            "\rtrain batch [13/41]: loss 811993268224.0"
          ],
          "name": "stdout"
        },
        {
          "output_type": "stream",
          "text": [
            "\r14it [02:01,  8.71s/it]"
          ],
          "name": "stderr"
        },
        {
          "output_type": "stream",
          "text": [
            "\rtrain batch [14/41]: loss 710816432128.0"
          ],
          "name": "stdout"
        },
        {
          "output_type": "stream",
          "text": [
            "\r15it [02:10,  8.69s/it]"
          ],
          "name": "stderr"
        },
        {
          "output_type": "stream",
          "text": [
            "\rtrain batch [15/41]: loss 873270738944.0"
          ],
          "name": "stdout"
        },
        {
          "output_type": "stream",
          "text": [
            "\r16it [02:18,  8.67s/it]"
          ],
          "name": "stderr"
        },
        {
          "output_type": "stream",
          "text": [
            "\rtrain batch [16/41]: loss 522179051520.0"
          ],
          "name": "stdout"
        },
        {
          "output_type": "stream",
          "text": [
            "\r17it [02:27,  8.67s/it]"
          ],
          "name": "stderr"
        },
        {
          "output_type": "stream",
          "text": [
            "\rtrain batch [17/41]: loss 860713320448.0"
          ],
          "name": "stdout"
        },
        {
          "output_type": "stream",
          "text": [
            "\r18it [02:36,  8.71s/it]"
          ],
          "name": "stderr"
        },
        {
          "output_type": "stream",
          "text": [
            "\rtrain batch [18/41]: loss 774968311808.0"
          ],
          "name": "stdout"
        },
        {
          "output_type": "stream",
          "text": [
            "\r19it [02:45,  8.68s/it]"
          ],
          "name": "stderr"
        },
        {
          "output_type": "stream",
          "text": [
            "\rtrain batch [19/41]: loss 939246616576.0"
          ],
          "name": "stdout"
        },
        {
          "output_type": "stream",
          "text": [
            "\r20it [02:53,  8.73s/it]"
          ],
          "name": "stderr"
        },
        {
          "output_type": "stream",
          "text": [
            "\rtrain batch [20/41]: loss 927867863040.0"
          ],
          "name": "stdout"
        },
        {
          "output_type": "stream",
          "text": [
            "\r21it [03:02,  8.74s/it]"
          ],
          "name": "stderr"
        },
        {
          "output_type": "stream",
          "text": [
            "\rtrain batch [21/41]: loss 641699545088.0"
          ],
          "name": "stdout"
        },
        {
          "output_type": "stream",
          "text": [
            "\r22it [03:11,  8.79s/it]"
          ],
          "name": "stderr"
        },
        {
          "output_type": "stream",
          "text": [
            "\rtrain batch [22/41]: loss 477810917376.0"
          ],
          "name": "stdout"
        },
        {
          "output_type": "stream",
          "text": [
            "\r23it [03:20,  8.75s/it]"
          ],
          "name": "stderr"
        },
        {
          "output_type": "stream",
          "text": [
            "\rtrain batch [23/41]: loss 772866637824.0"
          ],
          "name": "stdout"
        },
        {
          "output_type": "stream",
          "text": [
            "\r24it [03:28,  8.73s/it]"
          ],
          "name": "stderr"
        },
        {
          "output_type": "stream",
          "text": [
            "\rtrain batch [24/41]: loss 420767924224.0"
          ],
          "name": "stdout"
        },
        {
          "output_type": "stream",
          "text": [
            "\r25it [03:37,  8.75s/it]"
          ],
          "name": "stderr"
        },
        {
          "output_type": "stream",
          "text": [
            "\rtrain batch [25/41]: loss 678601293824.0"
          ],
          "name": "stdout"
        },
        {
          "output_type": "stream",
          "text": [
            "\r26it [03:46,  8.75s/it]"
          ],
          "name": "stderr"
        },
        {
          "output_type": "stream",
          "text": [
            "\rtrain batch [26/41]: loss 2366683480064.0"
          ],
          "name": "stdout"
        },
        {
          "output_type": "stream",
          "text": [
            "\r27it [03:54,  8.64s/it]"
          ],
          "name": "stderr"
        },
        {
          "output_type": "stream",
          "text": [
            "\rtrain batch [27/41]: loss 450961342464.0"
          ],
          "name": "stdout"
        },
        {
          "output_type": "stream",
          "text": [
            "\r28it [04:03,  8.66s/it]"
          ],
          "name": "stderr"
        },
        {
          "output_type": "stream",
          "text": [
            "\rtrain batch [28/41]: loss 624297639936.0"
          ],
          "name": "stdout"
        },
        {
          "output_type": "stream",
          "text": [
            "\r29it [04:12,  8.63s/it]"
          ],
          "name": "stderr"
        },
        {
          "output_type": "stream",
          "text": [
            "\rtrain batch [29/41]: loss 1149869752320.0"
          ],
          "name": "stdout"
        },
        {
          "output_type": "stream",
          "text": [
            "\r30it [04:20,  8.64s/it]"
          ],
          "name": "stderr"
        },
        {
          "output_type": "stream",
          "text": [
            "\rtrain batch [30/41]: loss 1484549390336.0"
          ],
          "name": "stdout"
        },
        {
          "output_type": "stream",
          "text": [
            "\r31it [04:29,  8.66s/it]"
          ],
          "name": "stderr"
        },
        {
          "output_type": "stream",
          "text": [
            "\rtrain batch [31/41]: loss 322955542528.0"
          ],
          "name": "stdout"
        },
        {
          "output_type": "stream",
          "text": [
            "\r32it [04:38,  8.65s/it]"
          ],
          "name": "stderr"
        },
        {
          "output_type": "stream",
          "text": [
            "\rtrain batch [32/41]: loss 1176388763648.0"
          ],
          "name": "stdout"
        },
        {
          "output_type": "stream",
          "text": [
            "\r33it [04:46,  8.66s/it]"
          ],
          "name": "stderr"
        },
        {
          "output_type": "stream",
          "text": [
            "\rtrain batch [33/41]: loss 773956435968.0"
          ],
          "name": "stdout"
        },
        {
          "output_type": "stream",
          "text": [
            "\r34it [04:55,  8.64s/it]"
          ],
          "name": "stderr"
        },
        {
          "output_type": "stream",
          "text": [
            "\rtrain batch [34/41]: loss 614846824448.0"
          ],
          "name": "stdout"
        },
        {
          "output_type": "stream",
          "text": [
            "\r35it [05:04,  8.72s/it]"
          ],
          "name": "stderr"
        },
        {
          "output_type": "stream",
          "text": [
            "\rtrain batch [35/41]: loss 952572968960.0"
          ],
          "name": "stdout"
        },
        {
          "output_type": "stream",
          "text": [
            "\r36it [05:12,  8.71s/it]"
          ],
          "name": "stderr"
        },
        {
          "output_type": "stream",
          "text": [
            "\rtrain batch [36/41]: loss 595513835520.0"
          ],
          "name": "stdout"
        },
        {
          "output_type": "stream",
          "text": [
            "\r37it [05:21,  8.78s/it]"
          ],
          "name": "stderr"
        },
        {
          "output_type": "stream",
          "text": [
            "\rtrain batch [37/41]: loss 741877153792.0"
          ],
          "name": "stdout"
        },
        {
          "output_type": "stream",
          "text": [
            "\r38it [05:30,  8.74s/it]"
          ],
          "name": "stderr"
        },
        {
          "output_type": "stream",
          "text": [
            "\rtrain batch [38/41]: loss 1578492755968.0"
          ],
          "name": "stdout"
        },
        {
          "output_type": "stream",
          "text": [
            "\r39it [05:39,  8.74s/it]"
          ],
          "name": "stderr"
        },
        {
          "output_type": "stream",
          "text": [
            "\rtrain batch [39/41]: loss 1146068664320.0"
          ],
          "name": "stdout"
        },
        {
          "output_type": "stream",
          "text": [
            "\r40it [05:47,  8.73s/it]"
          ],
          "name": "stderr"
        },
        {
          "output_type": "stream",
          "text": [
            "\rtrain batch [40/41]: loss 1339094728704.0"
          ],
          "name": "stdout"
        },
        {
          "output_type": "stream",
          "text": [
            "41it [05:54,  8.65s/it]"
          ],
          "name": "stderr"
        },
        {
          "output_type": "stream",
          "text": [
            "\rval batch [0/4]: loss 0.0"
          ],
          "name": "stdout"
        },
        {
          "output_type": "stream",
          "text": [
            "\n"
          ],
          "name": "stderr"
        },
        {
          "output_type": "stream",
          "text": [
            "test batch [4/5]: loss 3564873711616.0"
          ],
          "name": "stdout"
        },
        {
          "output_type": "stream",
          "text": [
            "\r0it [00:00, ?it/s]"
          ],
          "name": "stderr"
        },
        {
          "output_type": "stream",
          "text": [
            "\n",
            "Train loss: 872494062217.3658, Train accuracy: 0.6598926186561584\n",
            "Val loss: 1815387373568.0, Val accuracy: 0.5\n",
            "Test loss: 2288352106905.6, Test accuracy: 0.3926282227039337\n",
            "\n",
            "=============== Epoch: 43\n",
            "train batch [0/41]: loss 2783709757440.0"
          ],
          "name": "stdout"
        },
        {
          "output_type": "stream",
          "text": [
            "\r1it [00:08,  8.97s/it]"
          ],
          "name": "stderr"
        },
        {
          "output_type": "stream",
          "text": [
            "\rtrain batch [1/41]: loss 917306540032.0"
          ],
          "name": "stdout"
        },
        {
          "output_type": "stream",
          "text": [
            "\r2it [00:17,  8.85s/it]"
          ],
          "name": "stderr"
        },
        {
          "output_type": "stream",
          "text": [
            "\rtrain batch [2/41]: loss 1659033616384.0"
          ],
          "name": "stdout"
        },
        {
          "output_type": "stream",
          "text": [
            "\r3it [00:26,  8.84s/it]"
          ],
          "name": "stderr"
        },
        {
          "output_type": "stream",
          "text": [
            "\rtrain batch [3/41]: loss 1015524884480.0"
          ],
          "name": "stdout"
        },
        {
          "output_type": "stream",
          "text": [
            "\r4it [00:35,  8.82s/it]"
          ],
          "name": "stderr"
        },
        {
          "output_type": "stream",
          "text": [
            "\rtrain batch [4/41]: loss 943416672256.0"
          ],
          "name": "stdout"
        },
        {
          "output_type": "stream",
          "text": [
            "\r5it [00:43,  8.77s/it]"
          ],
          "name": "stderr"
        },
        {
          "output_type": "stream",
          "text": [
            "\rtrain batch [5/41]: loss 707667820544.0"
          ],
          "name": "stdout"
        },
        {
          "output_type": "stream",
          "text": [
            "\r6it [00:52,  8.79s/it]"
          ],
          "name": "stderr"
        },
        {
          "output_type": "stream",
          "text": [
            "\rtrain batch [6/41]: loss 505836339200.0"
          ],
          "name": "stdout"
        },
        {
          "output_type": "stream",
          "text": [
            "\r7it [01:01,  8.73s/it]"
          ],
          "name": "stderr"
        },
        {
          "output_type": "stream",
          "text": [
            "\rtrain batch [7/41]: loss 747649105920.0"
          ],
          "name": "stdout"
        },
        {
          "output_type": "stream",
          "text": [
            "\r8it [01:09,  8.68s/it]"
          ],
          "name": "stderr"
        },
        {
          "output_type": "stream",
          "text": [
            "\rtrain batch [8/41]: loss 786743296000.0"
          ],
          "name": "stdout"
        },
        {
          "output_type": "stream",
          "text": [
            "\r9it [01:18,  8.68s/it]"
          ],
          "name": "stderr"
        },
        {
          "output_type": "stream",
          "text": [
            "\rtrain batch [9/41]: loss 409129779200.0"
          ],
          "name": "stdout"
        },
        {
          "output_type": "stream",
          "text": [
            "\r10it [01:26,  8.61s/it]"
          ],
          "name": "stderr"
        },
        {
          "output_type": "stream",
          "text": [
            "\rtrain batch [10/41]: loss 548934221824.0"
          ],
          "name": "stdout"
        },
        {
          "output_type": "stream",
          "text": [
            "\r11it [01:35,  8.71s/it]"
          ],
          "name": "stderr"
        },
        {
          "output_type": "stream",
          "text": [
            "\rtrain batch [11/41]: loss 1125321539584.0"
          ],
          "name": "stdout"
        },
        {
          "output_type": "stream",
          "text": [
            "\r12it [01:44,  8.73s/it]"
          ],
          "name": "stderr"
        },
        {
          "output_type": "stream",
          "text": [
            "\rtrain batch [12/41]: loss 554484105216.0"
          ],
          "name": "stdout"
        },
        {
          "output_type": "stream",
          "text": [
            "\r13it [01:53,  8.74s/it]"
          ],
          "name": "stderr"
        },
        {
          "output_type": "stream",
          "text": [
            "\rtrain batch [13/41]: loss 1080036229120.0"
          ],
          "name": "stdout"
        },
        {
          "output_type": "stream",
          "text": [
            "\r14it [02:02,  8.78s/it]"
          ],
          "name": "stderr"
        },
        {
          "output_type": "stream",
          "text": [
            "\rtrain batch [14/41]: loss 722238308352.0"
          ],
          "name": "stdout"
        },
        {
          "output_type": "stream",
          "text": [
            "\r15it [02:10,  8.70s/it]"
          ],
          "name": "stderr"
        },
        {
          "output_type": "stream",
          "text": [
            "\rtrain batch [15/41]: loss 828271230976.0"
          ],
          "name": "stdout"
        },
        {
          "output_type": "stream",
          "text": [
            "\r16it [02:19,  8.74s/it]"
          ],
          "name": "stderr"
        },
        {
          "output_type": "stream",
          "text": [
            "\rtrain batch [16/41]: loss 1363348291584.0"
          ],
          "name": "stdout"
        },
        {
          "output_type": "stream",
          "text": [
            "\r17it [02:28,  8.68s/it]"
          ],
          "name": "stderr"
        },
        {
          "output_type": "stream",
          "text": [
            "\rtrain batch [17/41]: loss 685126778880.0"
          ],
          "name": "stdout"
        },
        {
          "output_type": "stream",
          "text": [
            "\r18it [02:36,  8.64s/it]"
          ],
          "name": "stderr"
        },
        {
          "output_type": "stream",
          "text": [
            "\rtrain batch [18/41]: loss 853954985984.0"
          ],
          "name": "stdout"
        },
        {
          "output_type": "stream",
          "text": [
            "\r19it [02:45,  8.58s/it]"
          ],
          "name": "stderr"
        },
        {
          "output_type": "stream",
          "text": [
            "\rtrain batch [19/41]: loss 698597703680.0"
          ],
          "name": "stdout"
        },
        {
          "output_type": "stream",
          "text": [
            "\r20it [02:53,  8.57s/it]"
          ],
          "name": "stderr"
        },
        {
          "output_type": "stream",
          "text": [
            "\rtrain batch [20/41]: loss 1176586289152.0"
          ],
          "name": "stdout"
        },
        {
          "output_type": "stream",
          "text": [
            "\r21it [03:02,  8.64s/it]"
          ],
          "name": "stderr"
        },
        {
          "output_type": "stream",
          "text": [
            "\rtrain batch [21/41]: loss 1003415732224.0"
          ],
          "name": "stdout"
        },
        {
          "output_type": "stream",
          "text": [
            "\r22it [03:11,  8.68s/it]"
          ],
          "name": "stderr"
        },
        {
          "output_type": "stream",
          "text": [
            "\rtrain batch [22/41]: loss 1045879062528.0"
          ],
          "name": "stdout"
        },
        {
          "output_type": "stream",
          "text": [
            "\r23it [03:19,  8.69s/it]"
          ],
          "name": "stderr"
        },
        {
          "output_type": "stream",
          "text": [
            "\rtrain batch [23/41]: loss 974151680000.0"
          ],
          "name": "stdout"
        },
        {
          "output_type": "stream",
          "text": [
            "\r24it [03:28,  8.73s/it]"
          ],
          "name": "stderr"
        },
        {
          "output_type": "stream",
          "text": [
            "\rtrain batch [24/41]: loss 2569846390784.0"
          ],
          "name": "stdout"
        },
        {
          "output_type": "stream",
          "text": [
            "\r25it [03:37,  8.76s/it]"
          ],
          "name": "stderr"
        },
        {
          "output_type": "stream",
          "text": [
            "\rtrain batch [25/41]: loss 3312350134272.0"
          ],
          "name": "stdout"
        },
        {
          "output_type": "stream",
          "text": [
            "\r26it [03:46,  8.71s/it]"
          ],
          "name": "stderr"
        },
        {
          "output_type": "stream",
          "text": [
            "\rtrain batch [26/41]: loss 2019348054016.0"
          ],
          "name": "stdout"
        },
        {
          "output_type": "stream",
          "text": [
            "\r27it [03:54,  8.65s/it]"
          ],
          "name": "stderr"
        },
        {
          "output_type": "stream",
          "text": [
            "\rtrain batch [27/41]: loss 959758401536.0"
          ],
          "name": "stdout"
        },
        {
          "output_type": "stream",
          "text": [
            "\r28it [04:03,  8.63s/it]"
          ],
          "name": "stderr"
        },
        {
          "output_type": "stream",
          "text": [
            "\rtrain batch [28/41]: loss 1279121817600.0"
          ],
          "name": "stdout"
        },
        {
          "output_type": "stream",
          "text": [
            "\r29it [04:11,  8.61s/it]"
          ],
          "name": "stderr"
        },
        {
          "output_type": "stream",
          "text": [
            "\rtrain batch [29/41]: loss 2692206821376.0"
          ],
          "name": "stdout"
        },
        {
          "output_type": "stream",
          "text": [
            "\r30it [04:20,  8.66s/it]"
          ],
          "name": "stderr"
        },
        {
          "output_type": "stream",
          "text": [
            "\rtrain batch [30/41]: loss 2322992726016.0"
          ],
          "name": "stdout"
        },
        {
          "output_type": "stream",
          "text": [
            "\r31it [04:29,  8.66s/it]"
          ],
          "name": "stderr"
        },
        {
          "output_type": "stream",
          "text": [
            "\rtrain batch [31/41]: loss 2152943845376.0"
          ],
          "name": "stdout"
        },
        {
          "output_type": "stream",
          "text": [
            "\r32it [04:37,  8.63s/it]"
          ],
          "name": "stderr"
        },
        {
          "output_type": "stream",
          "text": [
            "\rtrain batch [32/41]: loss 2559234277376.0"
          ],
          "name": "stdout"
        },
        {
          "output_type": "stream",
          "text": [
            "\r33it [04:46,  8.61s/it]"
          ],
          "name": "stderr"
        },
        {
          "output_type": "stream",
          "text": [
            "\rtrain batch [33/41]: loss 1967335931904.0"
          ],
          "name": "stdout"
        },
        {
          "output_type": "stream",
          "text": [
            "\r34it [04:55,  8.61s/it]"
          ],
          "name": "stderr"
        },
        {
          "output_type": "stream",
          "text": [
            "\rtrain batch [34/41]: loss 2394901446656.0"
          ],
          "name": "stdout"
        },
        {
          "output_type": "stream",
          "text": [
            "\r35it [05:03,  8.60s/it]"
          ],
          "name": "stderr"
        },
        {
          "output_type": "stream",
          "text": [
            "\rtrain batch [35/41]: loss 2838913613824.0"
          ],
          "name": "stdout"
        },
        {
          "output_type": "stream",
          "text": [
            "\r36it [05:12,  8.67s/it]"
          ],
          "name": "stderr"
        },
        {
          "output_type": "stream",
          "text": [
            "\rtrain batch [36/41]: loss 2601343778816.0"
          ],
          "name": "stdout"
        },
        {
          "output_type": "stream",
          "text": [
            "\r37it [05:21,  8.76s/it]"
          ],
          "name": "stderr"
        },
        {
          "output_type": "stream",
          "text": [
            "\rtrain batch [37/41]: loss 3463010582528.0"
          ],
          "name": "stdout"
        },
        {
          "output_type": "stream",
          "text": [
            "\r38it [05:30,  8.78s/it]"
          ],
          "name": "stderr"
        },
        {
          "output_type": "stream",
          "text": [
            "\rtrain batch [38/41]: loss 2609665540096.0"
          ],
          "name": "stdout"
        },
        {
          "output_type": "stream",
          "text": [
            "\r39it [05:38,  8.75s/it]"
          ],
          "name": "stderr"
        },
        {
          "output_type": "stream",
          "text": [
            "\rtrain batch [39/41]: loss 2232500092928.0"
          ],
          "name": "stdout"
        },
        {
          "output_type": "stream",
          "text": [
            "\r40it [05:47,  8.79s/it]"
          ],
          "name": "stderr"
        },
        {
          "output_type": "stream",
          "text": [
            "\rtrain batch [40/41]: loss 2230564159488.0"
          ],
          "name": "stdout"
        },
        {
          "output_type": "stream",
          "text": [
            "41it [05:54,  8.64s/it]"
          ],
          "name": "stderr"
        },
        {
          "output_type": "stream",
          "text": [
            "\rval batch [0/4]: loss 10446018969600.0"
          ],
          "name": "stdout"
        },
        {
          "output_type": "stream",
          "text": [
            "\n"
          ],
          "name": "stderr"
        },
        {
          "output_type": "stream",
          "text": [
            "test batch [4/5]: loss 2855544064.0"
          ],
          "name": "stdout"
        },
        {
          "output_type": "stream",
          "text": [
            "\r0it [00:00, ?it/s]"
          ],
          "name": "stderr"
        },
        {
          "output_type": "stream",
          "text": [
            "\n",
            "Train loss: 1544936636016.3901, Train accuracy: 0.6196318864822388\n",
            "Val loss: 6483098206208.0, Val accuracy: 0.5\n",
            "Test loss: 3870529503488.0, Test accuracy: 0.6217948794364929\n",
            "\n",
            "=============== Epoch: 44\n",
            "train batch [0/41]: loss 3154463162368.0"
          ],
          "name": "stdout"
        },
        {
          "output_type": "stream",
          "text": [
            "\r1it [00:08,  8.87s/it]"
          ],
          "name": "stderr"
        },
        {
          "output_type": "stream",
          "text": [
            "\rtrain batch [1/41]: loss 2578457559040.0"
          ],
          "name": "stdout"
        },
        {
          "output_type": "stream",
          "text": [
            "\r2it [00:17,  8.91s/it]"
          ],
          "name": "stderr"
        },
        {
          "output_type": "stream",
          "text": [
            "\rtrain batch [2/41]: loss 2505399861248.0"
          ],
          "name": "stdout"
        },
        {
          "output_type": "stream",
          "text": [
            "\r3it [00:26,  8.95s/it]"
          ],
          "name": "stderr"
        },
        {
          "output_type": "stream",
          "text": [
            "\rtrain batch [3/41]: loss 1722197737472.0"
          ],
          "name": "stdout"
        },
        {
          "output_type": "stream",
          "text": [
            "\r4it [00:35,  8.86s/it]"
          ],
          "name": "stderr"
        },
        {
          "output_type": "stream",
          "text": [
            "\rtrain batch [4/41]: loss 1608484388864.0"
          ],
          "name": "stdout"
        },
        {
          "output_type": "stream",
          "text": [
            "\r5it [00:44,  8.78s/it]"
          ],
          "name": "stderr"
        },
        {
          "output_type": "stream",
          "text": [
            "\rtrain batch [5/41]: loss 1935238758400.0"
          ],
          "name": "stdout"
        },
        {
          "output_type": "stream",
          "text": [
            "\r6it [00:53,  8.81s/it]"
          ],
          "name": "stderr"
        },
        {
          "output_type": "stream",
          "text": [
            "\rtrain batch [6/41]: loss 1730058387456.0"
          ],
          "name": "stdout"
        },
        {
          "output_type": "stream",
          "text": [
            "\r7it [01:01,  8.81s/it]"
          ],
          "name": "stderr"
        },
        {
          "output_type": "stream",
          "text": [
            "\rtrain batch [7/41]: loss 2195899023360.0"
          ],
          "name": "stdout"
        },
        {
          "output_type": "stream",
          "text": [
            "\r8it [01:10,  8.81s/it]"
          ],
          "name": "stderr"
        },
        {
          "output_type": "stream",
          "text": [
            "\rtrain batch [8/41]: loss 1554528862208.0"
          ],
          "name": "stdout"
        },
        {
          "output_type": "stream",
          "text": [
            "\r9it [01:19,  8.74s/it]"
          ],
          "name": "stderr"
        },
        {
          "output_type": "stream",
          "text": [
            "\rtrain batch [9/41]: loss 1659225899008.0"
          ],
          "name": "stdout"
        },
        {
          "output_type": "stream",
          "text": [
            "\r10it [01:27,  8.71s/it]"
          ],
          "name": "stderr"
        },
        {
          "output_type": "stream",
          "text": [
            "\rtrain batch [10/41]: loss 1268545748992.0"
          ],
          "name": "stdout"
        },
        {
          "output_type": "stream",
          "text": [
            "\r11it [01:36,  8.66s/it]"
          ],
          "name": "stderr"
        },
        {
          "output_type": "stream",
          "text": [
            "\rtrain batch [11/41]: loss 1506002075648.0"
          ],
          "name": "stdout"
        },
        {
          "output_type": "stream",
          "text": [
            "\r12it [01:45,  8.69s/it]"
          ],
          "name": "stderr"
        },
        {
          "output_type": "stream",
          "text": [
            "\rtrain batch [12/41]: loss 2492386770944.0"
          ],
          "name": "stdout"
        },
        {
          "output_type": "stream",
          "text": [
            "\r13it [01:53,  8.68s/it]"
          ],
          "name": "stderr"
        },
        {
          "output_type": "stream",
          "text": [
            "\rtrain batch [13/41]: loss 1441808908288.0"
          ],
          "name": "stdout"
        },
        {
          "output_type": "stream",
          "text": [
            "\r14it [02:02,  8.64s/it]"
          ],
          "name": "stderr"
        },
        {
          "output_type": "stream",
          "text": [
            "\rtrain batch [14/41]: loss 1228550438912.0"
          ],
          "name": "stdout"
        },
        {
          "output_type": "stream",
          "text": [
            "\r15it [02:10,  8.60s/it]"
          ],
          "name": "stderr"
        },
        {
          "output_type": "stream",
          "text": [
            "\rtrain batch [15/41]: loss 1979819229184.0"
          ],
          "name": "stdout"
        },
        {
          "output_type": "stream",
          "text": [
            "\r16it [02:19,  8.59s/it]"
          ],
          "name": "stderr"
        },
        {
          "output_type": "stream",
          "text": [
            "\rtrain batch [16/41]: loss 1531207483392.0"
          ],
          "name": "stdout"
        },
        {
          "output_type": "stream",
          "text": [
            "\r17it [02:28,  8.58s/it]"
          ],
          "name": "stderr"
        },
        {
          "output_type": "stream",
          "text": [
            "\rtrain batch [17/41]: loss 1308854321152.0"
          ],
          "name": "stdout"
        },
        {
          "output_type": "stream",
          "text": [
            "\r18it [02:36,  8.55s/it]"
          ],
          "name": "stderr"
        },
        {
          "output_type": "stream",
          "text": [
            "\rtrain batch [18/41]: loss 2322633064448.0"
          ],
          "name": "stdout"
        },
        {
          "output_type": "stream",
          "text": [
            "\r19it [02:45,  8.54s/it]"
          ],
          "name": "stderr"
        },
        {
          "output_type": "stream",
          "text": [
            "\rtrain batch [19/41]: loss 1243470102528.0"
          ],
          "name": "stdout"
        },
        {
          "output_type": "stream",
          "text": [
            "\r20it [02:53,  8.51s/it]"
          ],
          "name": "stderr"
        },
        {
          "output_type": "stream",
          "text": [
            "\rtrain batch [20/41]: loss 1342753472512.0"
          ],
          "name": "stdout"
        },
        {
          "output_type": "stream",
          "text": [
            "\r21it [03:02,  8.54s/it]"
          ],
          "name": "stderr"
        },
        {
          "output_type": "stream",
          "text": [
            "\rtrain batch [21/41]: loss 940698763264.0"
          ],
          "name": "stdout"
        },
        {
          "output_type": "stream",
          "text": [
            "\r22it [03:10,  8.59s/it]"
          ],
          "name": "stderr"
        },
        {
          "output_type": "stream",
          "text": [
            "\rtrain batch [22/41]: loss 565664415744.0"
          ],
          "name": "stdout"
        },
        {
          "output_type": "stream",
          "text": [
            "\r23it [03:19,  8.59s/it]"
          ],
          "name": "stderr"
        },
        {
          "output_type": "stream",
          "text": [
            "\rtrain batch [23/41]: loss 1244553936896.0"
          ],
          "name": "stdout"
        },
        {
          "output_type": "stream",
          "text": [
            "\r24it [03:28,  8.64s/it]"
          ],
          "name": "stderr"
        },
        {
          "output_type": "stream",
          "text": [
            "\rtrain batch [24/41]: loss 756921270272.0"
          ],
          "name": "stdout"
        },
        {
          "output_type": "stream",
          "text": [
            "\r25it [03:36,  8.64s/it]"
          ],
          "name": "stderr"
        },
        {
          "output_type": "stream",
          "text": [
            "\rtrain batch [25/41]: loss 772493475840.0"
          ],
          "name": "stdout"
        },
        {
          "output_type": "stream",
          "text": [
            "\r26it [03:45,  8.65s/it]"
          ],
          "name": "stderr"
        },
        {
          "output_type": "stream",
          "text": [
            "\rtrain batch [26/41]: loss 600347312128.0"
          ],
          "name": "stdout"
        },
        {
          "output_type": "stream",
          "text": [
            "\r27it [03:54,  8.66s/it]"
          ],
          "name": "stderr"
        },
        {
          "output_type": "stream",
          "text": [
            "\rtrain batch [27/41]: loss 467757432832.0"
          ],
          "name": "stdout"
        },
        {
          "output_type": "stream",
          "text": [
            "\r28it [04:02,  8.67s/it]"
          ],
          "name": "stderr"
        },
        {
          "output_type": "stream",
          "text": [
            "\rtrain batch [28/41]: loss 686154907648.0"
          ],
          "name": "stdout"
        },
        {
          "output_type": "stream",
          "text": [
            "\r29it [04:11,  8.67s/it]"
          ],
          "name": "stderr"
        },
        {
          "output_type": "stream",
          "text": [
            "\rtrain batch [29/41]: loss 904781561856.0"
          ],
          "name": "stdout"
        },
        {
          "output_type": "stream",
          "text": [
            "\r30it [04:20,  8.67s/it]"
          ],
          "name": "stderr"
        },
        {
          "output_type": "stream",
          "text": [
            "\rtrain batch [30/41]: loss 1233706287104.0"
          ],
          "name": "stdout"
        },
        {
          "output_type": "stream",
          "text": [
            "\r31it [04:29,  8.76s/it]"
          ],
          "name": "stderr"
        },
        {
          "output_type": "stream",
          "text": [
            "\rtrain batch [31/41]: loss 1593434701824.0"
          ],
          "name": "stdout"
        },
        {
          "output_type": "stream",
          "text": [
            "\r32it [04:37,  8.69s/it]"
          ],
          "name": "stderr"
        },
        {
          "output_type": "stream",
          "text": [
            "\rtrain batch [32/41]: loss 858163707904.0"
          ],
          "name": "stdout"
        },
        {
          "output_type": "stream",
          "text": [
            "\r33it [04:46,  8.72s/it]"
          ],
          "name": "stderr"
        },
        {
          "output_type": "stream",
          "text": [
            "\rtrain batch [33/41]: loss 1049255739392.0"
          ],
          "name": "stdout"
        },
        {
          "output_type": "stream",
          "text": [
            "\r34it [04:55,  8.74s/it]"
          ],
          "name": "stderr"
        },
        {
          "output_type": "stream",
          "text": [
            "\rtrain batch [34/41]: loss 1288601206784.0"
          ],
          "name": "stdout"
        },
        {
          "output_type": "stream",
          "text": [
            "\r35it [05:03,  8.70s/it]"
          ],
          "name": "stderr"
        },
        {
          "output_type": "stream",
          "text": [
            "\rtrain batch [35/41]: loss 952112971776.0"
          ],
          "name": "stdout"
        },
        {
          "output_type": "stream",
          "text": [
            "\r36it [05:12,  8.64s/it]"
          ],
          "name": "stderr"
        },
        {
          "output_type": "stream",
          "text": [
            "\rtrain batch [36/41]: loss 774585319424.0"
          ],
          "name": "stdout"
        },
        {
          "output_type": "stream",
          "text": [
            "\r37it [05:21,  8.68s/it]"
          ],
          "name": "stderr"
        },
        {
          "output_type": "stream",
          "text": [
            "\rtrain batch [37/41]: loss 2354070683648.0"
          ],
          "name": "stdout"
        },
        {
          "output_type": "stream",
          "text": [
            "\r38it [05:29,  8.67s/it]"
          ],
          "name": "stderr"
        },
        {
          "output_type": "stream",
          "text": [
            "\rtrain batch [38/41]: loss 797526851584.0"
          ],
          "name": "stdout"
        },
        {
          "output_type": "stream",
          "text": [
            "\r39it [05:38,  8.66s/it]"
          ],
          "name": "stderr"
        },
        {
          "output_type": "stream",
          "text": [
            "\rtrain batch [39/41]: loss 762464436224.0"
          ],
          "name": "stdout"
        },
        {
          "output_type": "stream",
          "text": [
            "\r40it [05:47,  8.68s/it]"
          ],
          "name": "stderr"
        },
        {
          "output_type": "stream",
          "text": [
            "\rtrain batch [40/41]: loss 1432589172736.0"
          ],
          "name": "stdout"
        },
        {
          "output_type": "stream",
          "text": [
            "41it [05:54,  8.63s/it]"
          ],
          "name": "stderr"
        },
        {
          "output_type": "stream",
          "text": [
            "\rval batch [0/4]: loss 16024211554304.0"
          ],
          "name": "stdout"
        },
        {
          "output_type": "stream",
          "text": [
            "\n"
          ],
          "name": "stderr"
        },
        {
          "output_type": "stream",
          "text": [
            "test batch [4/5]: loss 0.0"
          ],
          "name": "stdout"
        },
        {
          "output_type": "stream",
          "text": [
            "\r0it [00:00, ?it/s]"
          ],
          "name": "stderr"
        },
        {
          "output_type": "stream",
          "text": [
            "\n",
            "Train loss: 1423069981621.0732, Train accuracy: 0.6499233245849609\n",
            "Val loss: 6800605184000.0, Val accuracy: 0.5\n",
            "Test loss: 3643421805772.8, Test accuracy: 0.6282051205635071\n",
            "\n",
            "=============== Epoch: 45\n",
            "train batch [0/41]: loss 2566681788416.0"
          ],
          "name": "stdout"
        },
        {
          "output_type": "stream",
          "text": [
            "\r1it [00:08,  8.57s/it]"
          ],
          "name": "stderr"
        },
        {
          "output_type": "stream",
          "text": [
            "\rtrain batch [1/41]: loss 1311994019840.0"
          ],
          "name": "stdout"
        },
        {
          "output_type": "stream",
          "text": [
            "\r2it [00:17,  8.64s/it]"
          ],
          "name": "stderr"
        },
        {
          "output_type": "stream",
          "text": [
            "\rtrain batch [2/41]: loss 993101152256.0"
          ],
          "name": "stdout"
        },
        {
          "output_type": "stream",
          "text": [
            "\r3it [00:26,  8.66s/it]"
          ],
          "name": "stderr"
        },
        {
          "output_type": "stream",
          "text": [
            "\rtrain batch [3/41]: loss 1334316367872.0"
          ],
          "name": "stdout"
        },
        {
          "output_type": "stream",
          "text": [
            "\r4it [00:34,  8.66s/it]"
          ],
          "name": "stderr"
        },
        {
          "output_type": "stream",
          "text": [
            "\rtrain batch [4/41]: loss 996808654848.0"
          ],
          "name": "stdout"
        },
        {
          "output_type": "stream",
          "text": [
            "\r5it [00:43,  8.63s/it]"
          ],
          "name": "stderr"
        },
        {
          "output_type": "stream",
          "text": [
            "\rtrain batch [5/41]: loss 760880562176.0"
          ],
          "name": "stdout"
        },
        {
          "output_type": "stream",
          "text": [
            "\r6it [00:51,  8.64s/it]"
          ],
          "name": "stderr"
        },
        {
          "output_type": "stream",
          "text": [
            "\rtrain batch [6/41]: loss 956239446016.0"
          ],
          "name": "stdout"
        },
        {
          "output_type": "stream",
          "text": [
            "\r7it [01:00,  8.66s/it]"
          ],
          "name": "stderr"
        },
        {
          "output_type": "stream",
          "text": [
            "\rtrain batch [7/41]: loss 1591235969024.0"
          ],
          "name": "stdout"
        },
        {
          "output_type": "stream",
          "text": [
            "\r8it [01:09,  8.67s/it]"
          ],
          "name": "stderr"
        },
        {
          "output_type": "stream",
          "text": [
            "\rtrain batch [8/41]: loss 1222410502144.0"
          ],
          "name": "stdout"
        },
        {
          "output_type": "stream",
          "text": [
            "\r9it [01:17,  8.63s/it]"
          ],
          "name": "stderr"
        },
        {
          "output_type": "stream",
          "text": [
            "\rtrain batch [9/41]: loss 2401285701632.0"
          ],
          "name": "stdout"
        },
        {
          "output_type": "stream",
          "text": [
            "\r10it [01:26,  8.69s/it]"
          ],
          "name": "stderr"
        },
        {
          "output_type": "stream",
          "text": [
            "\rtrain batch [10/41]: loss 3073809055744.0"
          ],
          "name": "stdout"
        },
        {
          "output_type": "stream",
          "text": [
            "\r11it [01:35,  8.76s/it]"
          ],
          "name": "stderr"
        },
        {
          "output_type": "stream",
          "text": [
            "\rtrain batch [11/41]: loss 1476402216960.0"
          ],
          "name": "stdout"
        },
        {
          "output_type": "stream",
          "text": [
            "\r12it [01:44,  8.74s/it]"
          ],
          "name": "stderr"
        },
        {
          "output_type": "stream",
          "text": [
            "\rtrain batch [12/41]: loss 1290656415744.0"
          ],
          "name": "stdout"
        },
        {
          "output_type": "stream",
          "text": [
            "\r13it [01:53,  8.71s/it]"
          ],
          "name": "stderr"
        },
        {
          "output_type": "stream",
          "text": [
            "\rtrain batch [13/41]: loss 2113799847936.0"
          ],
          "name": "stdout"
        },
        {
          "output_type": "stream",
          "text": [
            "\r14it [02:01,  8.75s/it]"
          ],
          "name": "stderr"
        },
        {
          "output_type": "stream",
          "text": [
            "\rtrain batch [14/41]: loss 1334228549632.0"
          ],
          "name": "stdout"
        },
        {
          "output_type": "stream",
          "text": [
            "\r15it [02:10,  8.87s/it]"
          ],
          "name": "stderr"
        },
        {
          "output_type": "stream",
          "text": [
            "\rtrain batch [15/41]: loss 832622821376.0"
          ],
          "name": "stdout"
        },
        {
          "output_type": "stream",
          "text": [
            "\r16it [02:19,  8.85s/it]"
          ],
          "name": "stderr"
        },
        {
          "output_type": "stream",
          "text": [
            "\rtrain batch [16/41]: loss 1402882228224.0"
          ],
          "name": "stdout"
        },
        {
          "output_type": "stream",
          "text": [
            "\r17it [02:28,  8.79s/it]"
          ],
          "name": "stderr"
        },
        {
          "output_type": "stream",
          "text": [
            "\rtrain batch [17/41]: loss 780467896320.0"
          ],
          "name": "stdout"
        },
        {
          "output_type": "stream",
          "text": [
            "\r18it [02:37,  8.86s/it]"
          ],
          "name": "stderr"
        },
        {
          "output_type": "stream",
          "text": [
            "\rtrain batch [18/41]: loss 893220028416.0"
          ],
          "name": "stdout"
        },
        {
          "output_type": "stream",
          "text": [
            "\r19it [02:46,  8.78s/it]"
          ],
          "name": "stderr"
        },
        {
          "output_type": "stream",
          "text": [
            "\rtrain batch [19/41]: loss 815365619712.0"
          ],
          "name": "stdout"
        },
        {
          "output_type": "stream",
          "text": [
            "\r20it [02:54,  8.76s/it]"
          ],
          "name": "stderr"
        },
        {
          "output_type": "stream",
          "text": [
            "\rtrain batch [20/41]: loss 1146348765184.0"
          ],
          "name": "stdout"
        },
        {
          "output_type": "stream",
          "text": [
            "\r21it [03:03,  8.67s/it]"
          ],
          "name": "stderr"
        },
        {
          "output_type": "stream",
          "text": [
            "\rtrain batch [21/41]: loss 3435282563072.0"
          ],
          "name": "stdout"
        },
        {
          "output_type": "stream",
          "text": [
            "\r22it [03:11,  8.66s/it]"
          ],
          "name": "stderr"
        },
        {
          "output_type": "stream",
          "text": [
            "\rtrain batch [22/41]: loss 2907144978432.0"
          ],
          "name": "stdout"
        },
        {
          "output_type": "stream",
          "text": [
            "\r23it [03:20,  8.63s/it]"
          ],
          "name": "stderr"
        },
        {
          "output_type": "stream",
          "text": [
            "\rtrain batch [23/41]: loss 3559980793856.0"
          ],
          "name": "stdout"
        },
        {
          "output_type": "stream",
          "text": [
            "\r24it [03:28,  8.61s/it]"
          ],
          "name": "stderr"
        },
        {
          "output_type": "stream",
          "text": [
            "\rtrain batch [24/41]: loss 4332998623232.0"
          ],
          "name": "stdout"
        },
        {
          "output_type": "stream",
          "text": [
            "\r25it [03:37,  8.64s/it]"
          ],
          "name": "stderr"
        },
        {
          "output_type": "stream",
          "text": [
            "\rtrain batch [25/41]: loss 1843650887680.0"
          ],
          "name": "stdout"
        },
        {
          "output_type": "stream",
          "text": [
            "\r26it [03:46,  8.65s/it]"
          ],
          "name": "stderr"
        },
        {
          "output_type": "stream",
          "text": [
            "\rtrain batch [26/41]: loss 1984389971968.0"
          ],
          "name": "stdout"
        },
        {
          "output_type": "stream",
          "text": [
            "\r27it [03:55,  8.70s/it]"
          ],
          "name": "stderr"
        },
        {
          "output_type": "stream",
          "text": [
            "\rtrain batch [27/41]: loss 2504517484544.0"
          ],
          "name": "stdout"
        },
        {
          "output_type": "stream",
          "text": [
            "\r28it [04:03,  8.71s/it]"
          ],
          "name": "stderr"
        },
        {
          "output_type": "stream",
          "text": [
            "\rtrain batch [28/41]: loss 5591625891840.0"
          ],
          "name": "stdout"
        },
        {
          "output_type": "stream",
          "text": [
            "\r29it [04:12,  8.78s/it]"
          ],
          "name": "stderr"
        },
        {
          "output_type": "stream",
          "text": [
            "\rtrain batch [29/41]: loss 7880062271488.0"
          ],
          "name": "stdout"
        },
        {
          "output_type": "stream",
          "text": [
            "\r30it [04:21,  8.75s/it]"
          ],
          "name": "stderr"
        },
        {
          "output_type": "stream",
          "text": [
            "\rtrain batch [30/41]: loss 4173044645888.0"
          ],
          "name": "stdout"
        },
        {
          "output_type": "stream",
          "text": [
            "\r31it [04:30,  8.78s/it]"
          ],
          "name": "stderr"
        },
        {
          "output_type": "stream",
          "text": [
            "\rtrain batch [31/41]: loss 2045690118144.0"
          ],
          "name": "stdout"
        },
        {
          "output_type": "stream",
          "text": [
            "\r32it [04:39,  8.74s/it]"
          ],
          "name": "stderr"
        },
        {
          "output_type": "stream",
          "text": [
            "\rtrain batch [32/41]: loss 1708866666496.0"
          ],
          "name": "stdout"
        },
        {
          "output_type": "stream",
          "text": [
            "\r33it [04:47,  8.64s/it]"
          ],
          "name": "stderr"
        },
        {
          "output_type": "stream",
          "text": [
            "\rtrain batch [33/41]: loss 2134719201280.0"
          ],
          "name": "stdout"
        },
        {
          "output_type": "stream",
          "text": [
            "\r34it [04:56,  8.63s/it]"
          ],
          "name": "stderr"
        },
        {
          "output_type": "stream",
          "text": [
            "\rtrain batch [34/41]: loss 2624712605696.0"
          ],
          "name": "stdout"
        },
        {
          "output_type": "stream",
          "text": [
            "\r35it [05:04,  8.57s/it]"
          ],
          "name": "stderr"
        },
        {
          "output_type": "stream",
          "text": [
            "\rtrain batch [35/41]: loss 2879052054528.0"
          ],
          "name": "stdout"
        },
        {
          "output_type": "stream",
          "text": [
            "\r36it [05:13,  8.73s/it]"
          ],
          "name": "stderr"
        },
        {
          "output_type": "stream",
          "text": [
            "\rtrain batch [36/41]: loss 2554574667776.0"
          ],
          "name": "stdout"
        },
        {
          "output_type": "stream",
          "text": [
            "\r37it [05:22,  8.77s/it]"
          ],
          "name": "stderr"
        },
        {
          "output_type": "stream",
          "text": [
            "\rtrain batch [37/41]: loss 1697224327168.0"
          ],
          "name": "stdout"
        },
        {
          "output_type": "stream",
          "text": [
            "\r38it [05:31,  8.82s/it]"
          ],
          "name": "stderr"
        },
        {
          "output_type": "stream",
          "text": [
            "\rtrain batch [38/41]: loss 2274125152256.0"
          ],
          "name": "stdout"
        },
        {
          "output_type": "stream",
          "text": [
            "\r39it [05:40,  8.80s/it]"
          ],
          "name": "stderr"
        },
        {
          "output_type": "stream",
          "text": [
            "\rtrain batch [39/41]: loss 3369546547200.0"
          ],
          "name": "stdout"
        },
        {
          "output_type": "stream",
          "text": [
            "\r40it [05:49,  8.84s/it]"
          ],
          "name": "stderr"
        },
        {
          "output_type": "stream",
          "text": [
            "\rtrain batch [40/41]: loss 1653716942848.0"
          ],
          "name": "stdout"
        },
        {
          "output_type": "stream",
          "text": [
            "41it [05:55,  8.68s/it]"
          ],
          "name": "stderr"
        },
        {
          "output_type": "stream",
          "text": [
            "\rval batch [0/4]: loss 982238625792.0"
          ],
          "name": "stdout"
        },
        {
          "output_type": "stream",
          "text": [
            "\n"
          ],
          "name": "stderr"
        },
        {
          "output_type": "stream",
          "text": [
            "test batch [4/5]: loss 2068124532736.0"
          ],
          "name": "stdout"
        },
        {
          "output_type": "stream",
          "text": [
            "\r0it [00:00, ?it/s]"
          ],
          "name": "stderr"
        },
        {
          "output_type": "stream",
          "text": [
            "\n",
            "Train loss: 2206089864966.244, Train accuracy: 0.5958588719367981\n",
            "Val loss: 3977711779840.0, Val accuracy: 0.375\n",
            "Test loss: 3072438566912.0, Test accuracy: 0.4326923191547394\n",
            "\n",
            "=============== Epoch: 46\n",
            "train batch [0/41]: loss 3174090145792.0"
          ],
          "name": "stdout"
        },
        {
          "output_type": "stream",
          "text": [
            "\r1it [00:08,  8.60s/it]"
          ],
          "name": "stderr"
        },
        {
          "output_type": "stream",
          "text": [
            "\rtrain batch [1/41]: loss 4950450503680.0"
          ],
          "name": "stdout"
        },
        {
          "output_type": "stream",
          "text": [
            "\r2it [00:17,  8.70s/it]"
          ],
          "name": "stderr"
        },
        {
          "output_type": "stream",
          "text": [
            "\rtrain batch [2/41]: loss 4113911250944.0"
          ],
          "name": "stdout"
        },
        {
          "output_type": "stream",
          "text": [
            "\r3it [00:26,  8.76s/it]"
          ],
          "name": "stderr"
        },
        {
          "output_type": "stream",
          "text": [
            "\rtrain batch [3/41]: loss 4127582060544.0"
          ],
          "name": "stdout"
        },
        {
          "output_type": "stream",
          "text": [
            "\r4it [00:35,  8.74s/it]"
          ],
          "name": "stderr"
        },
        {
          "output_type": "stream",
          "text": [
            "\rtrain batch [4/41]: loss 3323720630272.0"
          ],
          "name": "stdout"
        },
        {
          "output_type": "stream",
          "text": [
            "\r5it [00:44,  8.79s/it]"
          ],
          "name": "stderr"
        },
        {
          "output_type": "stream",
          "text": [
            "\rtrain batch [5/41]: loss 4539260338176.0"
          ],
          "name": "stdout"
        },
        {
          "output_type": "stream",
          "text": [
            "\r6it [00:52,  8.83s/it]"
          ],
          "name": "stderr"
        },
        {
          "output_type": "stream",
          "text": [
            "\rtrain batch [6/41]: loss 2469268029440.0"
          ],
          "name": "stdout"
        },
        {
          "output_type": "stream",
          "text": [
            "\r7it [01:01,  8.79s/it]"
          ],
          "name": "stderr"
        },
        {
          "output_type": "stream",
          "text": [
            "\rtrain batch [7/41]: loss 3845024645120.0"
          ],
          "name": "stdout"
        },
        {
          "output_type": "stream",
          "text": [
            "\r8it [01:10,  8.77s/it]"
          ],
          "name": "stderr"
        },
        {
          "output_type": "stream",
          "text": [
            "\rtrain batch [8/41]: loss 2497925873664.0"
          ],
          "name": "stdout"
        },
        {
          "output_type": "stream",
          "text": [
            "\r9it [01:18,  8.69s/it]"
          ],
          "name": "stderr"
        },
        {
          "output_type": "stream",
          "text": [
            "\rtrain batch [9/41]: loss 2178472738816.0"
          ],
          "name": "stdout"
        },
        {
          "output_type": "stream",
          "text": [
            "\r10it [01:27,  8.61s/it]"
          ],
          "name": "stderr"
        },
        {
          "output_type": "stream",
          "text": [
            "\rtrain batch [10/41]: loss 2686964989952.0"
          ],
          "name": "stdout"
        },
        {
          "output_type": "stream",
          "text": [
            "\r11it [01:36,  8.65s/it]"
          ],
          "name": "stderr"
        },
        {
          "output_type": "stream",
          "text": [
            "\rtrain batch [11/41]: loss 1973538258944.0"
          ],
          "name": "stdout"
        },
        {
          "output_type": "stream",
          "text": [
            "\r12it [01:44,  8.66s/it]"
          ],
          "name": "stderr"
        },
        {
          "output_type": "stream",
          "text": [
            "\rtrain batch [12/41]: loss 1938099929088.0"
          ],
          "name": "stdout"
        },
        {
          "output_type": "stream",
          "text": [
            "\r13it [01:53,  8.72s/it]"
          ],
          "name": "stderr"
        },
        {
          "output_type": "stream",
          "text": [
            "\rtrain batch [13/41]: loss 1486323449856.0"
          ],
          "name": "stdout"
        },
        {
          "output_type": "stream",
          "text": [
            "\r14it [02:02,  8.64s/it]"
          ],
          "name": "stderr"
        },
        {
          "output_type": "stream",
          "text": [
            "\rtrain batch [14/41]: loss 2179635871744.0"
          ],
          "name": "stdout"
        },
        {
          "output_type": "stream",
          "text": [
            "\r15it [02:10,  8.66s/it]"
          ],
          "name": "stderr"
        },
        {
          "output_type": "stream",
          "text": [
            "\rtrain batch [15/41]: loss 2215857094656.0"
          ],
          "name": "stdout"
        },
        {
          "output_type": "stream",
          "text": [
            "\r16it [02:19,  8.65s/it]"
          ],
          "name": "stderr"
        },
        {
          "output_type": "stream",
          "text": [
            "\rtrain batch [16/41]: loss 2610217091072.0"
          ],
          "name": "stdout"
        },
        {
          "output_type": "stream",
          "text": [
            "\r17it [02:27,  8.60s/it]"
          ],
          "name": "stderr"
        },
        {
          "output_type": "stream",
          "text": [
            "\rtrain batch [17/41]: loss 3217125539840.0"
          ],
          "name": "stdout"
        },
        {
          "output_type": "stream",
          "text": [
            "\r18it [02:36,  8.65s/it]"
          ],
          "name": "stderr"
        },
        {
          "output_type": "stream",
          "text": [
            "\rtrain batch [18/41]: loss 2254501314560.0"
          ],
          "name": "stdout"
        },
        {
          "output_type": "stream",
          "text": [
            "\r19it [02:45,  8.66s/it]"
          ],
          "name": "stderr"
        },
        {
          "output_type": "stream",
          "text": [
            "\rtrain batch [19/41]: loss 2773660729344.0"
          ],
          "name": "stdout"
        },
        {
          "output_type": "stream",
          "text": [
            "\r20it [02:53,  8.65s/it]"
          ],
          "name": "stderr"
        },
        {
          "output_type": "stream",
          "text": [
            "\rtrain batch [20/41]: loss 2129848041472.0"
          ],
          "name": "stdout"
        },
        {
          "output_type": "stream",
          "text": [
            "\r21it [03:02,  8.73s/it]"
          ],
          "name": "stderr"
        },
        {
          "output_type": "stream",
          "text": [
            "\rtrain batch [21/41]: loss 1994990551040.0"
          ],
          "name": "stdout"
        },
        {
          "output_type": "stream",
          "text": [
            "\r22it [03:11,  8.73s/it]"
          ],
          "name": "stderr"
        },
        {
          "output_type": "stream",
          "text": [
            "\rtrain batch [22/41]: loss 1694206263296.0"
          ],
          "name": "stdout"
        },
        {
          "output_type": "stream",
          "text": [
            "\r23it [03:20,  8.73s/it]"
          ],
          "name": "stderr"
        },
        {
          "output_type": "stream",
          "text": [
            "\rtrain batch [23/41]: loss 1911706353664.0"
          ],
          "name": "stdout"
        },
        {
          "output_type": "stream",
          "text": [
            "\r24it [03:29,  8.72s/it]"
          ],
          "name": "stderr"
        },
        {
          "output_type": "stream",
          "text": [
            "\rtrain batch [24/41]: loss 2186166140928.0"
          ],
          "name": "stdout"
        },
        {
          "output_type": "stream",
          "text": [
            "\r25it [03:37,  8.71s/it]"
          ],
          "name": "stderr"
        },
        {
          "output_type": "stream",
          "text": [
            "\rtrain batch [25/41]: loss 2952505327616.0"
          ],
          "name": "stdout"
        },
        {
          "output_type": "stream",
          "text": [
            "\r26it [03:46,  8.67s/it]"
          ],
          "name": "stderr"
        },
        {
          "output_type": "stream",
          "text": [
            "\rtrain batch [26/41]: loss 3046783320064.0"
          ],
          "name": "stdout"
        },
        {
          "output_type": "stream",
          "text": [
            "\r27it [03:55,  8.70s/it]"
          ],
          "name": "stderr"
        },
        {
          "output_type": "stream",
          "text": [
            "\rtrain batch [27/41]: loss 8039804436480.0"
          ],
          "name": "stdout"
        },
        {
          "output_type": "stream",
          "text": [
            "\r28it [04:03,  8.70s/it]"
          ],
          "name": "stderr"
        },
        {
          "output_type": "stream",
          "text": [
            "\rtrain batch [28/41]: loss 3123614056448.0"
          ],
          "name": "stdout"
        },
        {
          "output_type": "stream",
          "text": [
            "\r29it [04:12,  8.67s/it]"
          ],
          "name": "stderr"
        },
        {
          "output_type": "stream",
          "text": [
            "\rtrain batch [29/41]: loss 3994468220928.0"
          ],
          "name": "stdout"
        },
        {
          "output_type": "stream",
          "text": [
            "\r30it [04:21,  8.75s/it]"
          ],
          "name": "stderr"
        },
        {
          "output_type": "stream",
          "text": [
            "\rtrain batch [30/41]: loss 4885446656000.0"
          ],
          "name": "stdout"
        },
        {
          "output_type": "stream",
          "text": [
            "\r31it [04:29,  8.68s/it]"
          ],
          "name": "stderr"
        },
        {
          "output_type": "stream",
          "text": [
            "\rtrain batch [31/41]: loss 5107765215232.0"
          ],
          "name": "stdout"
        },
        {
          "output_type": "stream",
          "text": [
            "\r32it [04:38,  8.67s/it]"
          ],
          "name": "stderr"
        },
        {
          "output_type": "stream",
          "text": [
            "\rtrain batch [32/41]: loss 2706832883712.0"
          ],
          "name": "stdout"
        },
        {
          "output_type": "stream",
          "text": [
            "\r33it [04:47,  8.69s/it]"
          ],
          "name": "stderr"
        },
        {
          "output_type": "stream",
          "text": [
            "\rtrain batch [33/41]: loss 2289584046080.0"
          ],
          "name": "stdout"
        },
        {
          "output_type": "stream",
          "text": [
            "\r34it [04:55,  8.67s/it]"
          ],
          "name": "stderr"
        },
        {
          "output_type": "stream",
          "text": [
            "\rtrain batch [34/41]: loss 3184043491328.0"
          ],
          "name": "stdout"
        },
        {
          "output_type": "stream",
          "text": [
            "\r35it [05:04,  8.69s/it]"
          ],
          "name": "stderr"
        },
        {
          "output_type": "stream",
          "text": [
            "\rtrain batch [35/41]: loss 6242033467392.0"
          ],
          "name": "stdout"
        },
        {
          "output_type": "stream",
          "text": [
            "\r36it [05:13,  8.69s/it]"
          ],
          "name": "stderr"
        },
        {
          "output_type": "stream",
          "text": [
            "\rtrain batch [36/41]: loss 5065134833664.0"
          ],
          "name": "stdout"
        },
        {
          "output_type": "stream",
          "text": [
            "\r37it [05:21,  8.67s/it]"
          ],
          "name": "stderr"
        },
        {
          "output_type": "stream",
          "text": [
            "\rtrain batch [37/41]: loss 2819919970304.0"
          ],
          "name": "stdout"
        },
        {
          "output_type": "stream",
          "text": [
            "\r38it [05:30,  8.64s/it]"
          ],
          "name": "stderr"
        },
        {
          "output_type": "stream",
          "text": [
            "\rtrain batch [38/41]: loss 3630272872448.0"
          ],
          "name": "stdout"
        },
        {
          "output_type": "stream",
          "text": [
            "\r39it [05:39,  8.71s/it]"
          ],
          "name": "stderr"
        },
        {
          "output_type": "stream",
          "text": [
            "\rtrain batch [39/41]: loss 2259803439104.0"
          ],
          "name": "stdout"
        },
        {
          "output_type": "stream",
          "text": [
            "\r40it [05:48,  8.76s/it]"
          ],
          "name": "stderr"
        },
        {
          "output_type": "stream",
          "text": [
            "\rtrain batch [40/41]: loss 3202226323456.0"
          ],
          "name": "stdout"
        },
        {
          "output_type": "stream",
          "text": [
            "41it [05:54,  8.66s/it]"
          ],
          "name": "stderr"
        },
        {
          "output_type": "stream",
          "text": [
            "\rval batch [0/4]: loss 11040239648768.0"
          ],
          "name": "stdout"
        },
        {
          "output_type": "stream",
          "text": [
            "\n"
          ],
          "name": "stderr"
        },
        {
          "output_type": "stream",
          "text": [
            "test batch [4/5]: loss 118264250368.0"
          ],
          "name": "stdout"
        },
        {
          "output_type": "stream",
          "text": [
            "\r0it [00:00, ?it/s]"
          ],
          "name": "stderr"
        },
        {
          "output_type": "stream",
          "text": [
            "\n",
            "Train loss: 3195677726570.1465, Train accuracy: 0.5918328166007996\n",
            "Val loss: 6359924342784.0, Val accuracy: 0.5\n",
            "Test loss: 4731353787596.8, Test accuracy: 0.6025640964508057\n",
            "\n",
            "=============== Epoch: 47\n",
            "train batch [0/41]: loss 3147020632064.0"
          ],
          "name": "stdout"
        },
        {
          "output_type": "stream",
          "text": [
            "\r1it [00:08,  8.77s/it]"
          ],
          "name": "stderr"
        },
        {
          "output_type": "stream",
          "text": [
            "\rtrain batch [1/41]: loss 2406756646912.0"
          ],
          "name": "stdout"
        },
        {
          "output_type": "stream",
          "text": [
            "\r2it [00:17,  8.72s/it]"
          ],
          "name": "stderr"
        },
        {
          "output_type": "stream",
          "text": [
            "\rtrain batch [2/41]: loss 6561820835840.0"
          ],
          "name": "stdout"
        },
        {
          "output_type": "stream",
          "text": [
            "\r3it [00:25,  8.68s/it]"
          ],
          "name": "stderr"
        },
        {
          "output_type": "stream",
          "text": [
            "\rtrain batch [3/41]: loss 3977311420416.0"
          ],
          "name": "stdout"
        },
        {
          "output_type": "stream",
          "text": [
            "\r4it [00:34,  8.69s/it]"
          ],
          "name": "stderr"
        },
        {
          "output_type": "stream",
          "text": [
            "\rtrain batch [4/41]: loss 1873243799552.0"
          ],
          "name": "stdout"
        },
        {
          "output_type": "stream",
          "text": [
            "\r5it [00:43,  8.73s/it]"
          ],
          "name": "stderr"
        },
        {
          "output_type": "stream",
          "text": [
            "\rtrain batch [5/41]: loss 3482496532480.0"
          ],
          "name": "stdout"
        },
        {
          "output_type": "stream",
          "text": [
            "\r6it [00:52,  8.73s/it]"
          ],
          "name": "stderr"
        },
        {
          "output_type": "stream",
          "text": [
            "\rtrain batch [6/41]: loss 4458784227328.0"
          ],
          "name": "stdout"
        },
        {
          "output_type": "stream",
          "text": [
            "\r7it [01:00,  8.65s/it]"
          ],
          "name": "stderr"
        },
        {
          "output_type": "stream",
          "text": [
            "\rtrain batch [7/41]: loss 2193392664576.0"
          ],
          "name": "stdout"
        },
        {
          "output_type": "stream",
          "text": [
            "\r8it [01:09,  8.65s/it]"
          ],
          "name": "stderr"
        },
        {
          "output_type": "stream",
          "text": [
            "\rtrain batch [8/41]: loss 3020979437568.0"
          ],
          "name": "stdout"
        },
        {
          "output_type": "stream",
          "text": [
            "\r9it [01:18,  8.76s/it]"
          ],
          "name": "stderr"
        },
        {
          "output_type": "stream",
          "text": [
            "\rtrain batch [9/41]: loss 3785541025792.0"
          ],
          "name": "stdout"
        },
        {
          "output_type": "stream",
          "text": [
            "\r10it [01:27,  8.88s/it]"
          ],
          "name": "stderr"
        },
        {
          "output_type": "stream",
          "text": [
            "\rtrain batch [10/41]: loss 3717882970112.0"
          ],
          "name": "stdout"
        },
        {
          "output_type": "stream",
          "text": [
            "\r11it [01:36,  8.76s/it]"
          ],
          "name": "stderr"
        },
        {
          "output_type": "stream",
          "text": [
            "\rtrain batch [11/41]: loss 4442117111808.0"
          ],
          "name": "stdout"
        },
        {
          "output_type": "stream",
          "text": [
            "\r12it [01:44,  8.76s/it]"
          ],
          "name": "stderr"
        },
        {
          "output_type": "stream",
          "text": [
            "\rtrain batch [12/41]: loss 3153024253952.0"
          ],
          "name": "stdout"
        },
        {
          "output_type": "stream",
          "text": [
            "\r13it [01:53,  8.78s/it]"
          ],
          "name": "stderr"
        },
        {
          "output_type": "stream",
          "text": [
            "\rtrain batch [13/41]: loss 2933643018240.0"
          ],
          "name": "stdout"
        },
        {
          "output_type": "stream",
          "text": [
            "\r14it [02:02,  8.71s/it]"
          ],
          "name": "stderr"
        },
        {
          "output_type": "stream",
          "text": [
            "\rtrain batch [14/41]: loss 2891724619776.0"
          ],
          "name": "stdout"
        },
        {
          "output_type": "stream",
          "text": [
            "\r15it [02:10,  8.68s/it]"
          ],
          "name": "stderr"
        },
        {
          "output_type": "stream",
          "text": [
            "\rtrain batch [15/41]: loss 2130689916928.0"
          ],
          "name": "stdout"
        },
        {
          "output_type": "stream",
          "text": [
            "\r16it [02:19,  8.70s/it]"
          ],
          "name": "stderr"
        },
        {
          "output_type": "stream",
          "text": [
            "\rtrain batch [16/41]: loss 2118309380096.0"
          ],
          "name": "stdout"
        },
        {
          "output_type": "stream",
          "text": [
            "\r17it [02:27,  8.63s/it]"
          ],
          "name": "stderr"
        },
        {
          "output_type": "stream",
          "text": [
            "\rtrain batch [17/41]: loss 3708169224192.0"
          ],
          "name": "stdout"
        },
        {
          "output_type": "stream",
          "text": [
            "\r18it [02:36,  8.67s/it]"
          ],
          "name": "stderr"
        },
        {
          "output_type": "stream",
          "text": [
            "\rtrain batch [18/41]: loss 6127050817536.0"
          ],
          "name": "stdout"
        },
        {
          "output_type": "stream",
          "text": [
            "\r19it [02:45,  8.68s/it]"
          ],
          "name": "stderr"
        },
        {
          "output_type": "stream",
          "text": [
            "\rtrain batch [19/41]: loss 3205581242368.0"
          ],
          "name": "stdout"
        },
        {
          "output_type": "stream",
          "text": [
            "\r20it [02:53,  8.60s/it]"
          ],
          "name": "stderr"
        },
        {
          "output_type": "stream",
          "text": [
            "\rtrain batch [20/41]: loss 4411756118016.0"
          ],
          "name": "stdout"
        },
        {
          "output_type": "stream",
          "text": [
            "\r21it [03:02,  8.69s/it]"
          ],
          "name": "stderr"
        },
        {
          "output_type": "stream",
          "text": [
            "\rtrain batch [21/41]: loss 1110790897664.0"
          ],
          "name": "stdout"
        },
        {
          "output_type": "stream",
          "text": [
            "\r22it [03:11,  8.67s/it]"
          ],
          "name": "stderr"
        },
        {
          "output_type": "stream",
          "text": [
            "\rtrain batch [22/41]: loss 2549751480320.0"
          ],
          "name": "stdout"
        },
        {
          "output_type": "stream",
          "text": [
            "\r23it [03:20,  8.67s/it]"
          ],
          "name": "stderr"
        },
        {
          "output_type": "stream",
          "text": [
            "\rtrain batch [23/41]: loss 2039803150336.0"
          ],
          "name": "stdout"
        },
        {
          "output_type": "stream",
          "text": [
            "\r24it [03:28,  8.65s/it]"
          ],
          "name": "stderr"
        },
        {
          "output_type": "stream",
          "text": [
            "\rtrain batch [24/41]: loss 2151697350656.0"
          ],
          "name": "stdout"
        },
        {
          "output_type": "stream",
          "text": [
            "\r25it [03:37,  8.63s/it]"
          ],
          "name": "stderr"
        },
        {
          "output_type": "stream",
          "text": [
            "\rtrain batch [25/41]: loss 6108735340544.0"
          ],
          "name": "stdout"
        },
        {
          "output_type": "stream",
          "text": [
            "\r26it [03:45,  8.59s/it]"
          ],
          "name": "stderr"
        },
        {
          "output_type": "stream",
          "text": [
            "\rtrain batch [26/41]: loss 2187988566016.0"
          ],
          "name": "stdout"
        },
        {
          "output_type": "stream",
          "text": [
            "\r27it [03:54,  8.62s/it]"
          ],
          "name": "stderr"
        },
        {
          "output_type": "stream",
          "text": [
            "\rtrain batch [27/41]: loss 1620356628480.0"
          ],
          "name": "stdout"
        },
        {
          "output_type": "stream",
          "text": [
            "\r28it [04:03,  8.62s/it]"
          ],
          "name": "stderr"
        },
        {
          "output_type": "stream",
          "text": [
            "\rtrain batch [28/41]: loss 3274384080896.0"
          ],
          "name": "stdout"
        },
        {
          "output_type": "stream",
          "text": [
            "\r29it [04:11,  8.73s/it]"
          ],
          "name": "stderr"
        },
        {
          "output_type": "stream",
          "text": [
            "\rtrain batch [29/41]: loss 3262164500480.0"
          ],
          "name": "stdout"
        },
        {
          "output_type": "stream",
          "text": [
            "\r30it [04:20,  8.66s/it]"
          ],
          "name": "stderr"
        },
        {
          "output_type": "stream",
          "text": [
            "\rtrain batch [30/41]: loss 2245186289664.0"
          ],
          "name": "stdout"
        },
        {
          "output_type": "stream",
          "text": [
            "\r31it [04:29,  8.65s/it]"
          ],
          "name": "stderr"
        },
        {
          "output_type": "stream",
          "text": [
            "\rtrain batch [31/41]: loss 3640268161024.0"
          ],
          "name": "stdout"
        },
        {
          "output_type": "stream",
          "text": [
            "\r32it [04:37,  8.66s/it]"
          ],
          "name": "stderr"
        },
        {
          "output_type": "stream",
          "text": [
            "\rtrain batch [32/41]: loss 3108896505856.0"
          ],
          "name": "stdout"
        },
        {
          "output_type": "stream",
          "text": [
            "\r33it [04:46,  8.65s/it]"
          ],
          "name": "stderr"
        },
        {
          "output_type": "stream",
          "text": [
            "\rtrain batch [33/41]: loss 3020433653760.0"
          ],
          "name": "stdout"
        },
        {
          "output_type": "stream",
          "text": [
            "\r34it [04:54,  8.60s/it]"
          ],
          "name": "stderr"
        },
        {
          "output_type": "stream",
          "text": [
            "\rtrain batch [34/41]: loss 5224046526464.0"
          ],
          "name": "stdout"
        },
        {
          "output_type": "stream",
          "text": [
            "\r35it [05:03,  8.67s/it]"
          ],
          "name": "stderr"
        },
        {
          "output_type": "stream",
          "text": [
            "\rtrain batch [35/41]: loss 3376232792064.0"
          ],
          "name": "stdout"
        },
        {
          "output_type": "stream",
          "text": [
            "\r36it [05:12,  8.65s/it]"
          ],
          "name": "stderr"
        },
        {
          "output_type": "stream",
          "text": [
            "\rtrain batch [36/41]: loss 3570131271680.0"
          ],
          "name": "stdout"
        },
        {
          "output_type": "stream",
          "text": [
            "\r37it [05:20,  8.61s/it]"
          ],
          "name": "stderr"
        },
        {
          "output_type": "stream",
          "text": [
            "\rtrain batch [37/41]: loss 4142620213248.0"
          ],
          "name": "stdout"
        },
        {
          "output_type": "stream",
          "text": [
            "\r38it [05:29,  8.66s/it]"
          ],
          "name": "stderr"
        },
        {
          "output_type": "stream",
          "text": [
            "\rtrain batch [38/41]: loss 5108833714176.0"
          ],
          "name": "stdout"
        },
        {
          "output_type": "stream",
          "text": [
            "\r39it [05:38,  8.68s/it]"
          ],
          "name": "stderr"
        },
        {
          "output_type": "stream",
          "text": [
            "\rtrain batch [39/41]: loss 2934160490496.0"
          ],
          "name": "stdout"
        },
        {
          "output_type": "stream",
          "text": [
            "\r40it [05:46,  8.64s/it]"
          ],
          "name": "stderr"
        },
        {
          "output_type": "stream",
          "text": [
            "\rtrain batch [40/41]: loss 4335109406720.0"
          ],
          "name": "stdout"
        },
        {
          "output_type": "stream",
          "text": [
            "41it [05:53,  8.63s/it]"
          ],
          "name": "stderr"
        },
        {
          "output_type": "stream",
          "text": [
            "\rval batch [0/4]: loss 12432910057472.0"
          ],
          "name": "stdout"
        },
        {
          "output_type": "stream",
          "text": [
            "\n"
          ],
          "name": "stderr"
        },
        {
          "output_type": "stream",
          "text": [
            "test batch [4/5]: loss 252227256320.0"
          ],
          "name": "stdout"
        },
        {
          "output_type": "stream",
          "text": [
            "\r0it [00:00, ?it/s]"
          ],
          "name": "stderr"
        },
        {
          "output_type": "stream",
          "text": [
            "\n",
            "Train loss: 3384363063545.756, Train accuracy: 0.5646088719367981\n",
            "Val loss: 7624723529728.0, Val accuracy: 0.4375\n",
            "Test loss: 4435316005273.6, Test accuracy: 0.6570512652397156\n",
            "\n",
            "=============== Epoch: 48\n",
            "train batch [0/41]: loss 2585195446272.0"
          ],
          "name": "stdout"
        },
        {
          "output_type": "stream",
          "text": [
            "\r1it [00:08,  8.70s/it]"
          ],
          "name": "stderr"
        },
        {
          "output_type": "stream",
          "text": [
            "\rtrain batch [1/41]: loss 3000488165376.0"
          ],
          "name": "stdout"
        },
        {
          "output_type": "stream",
          "text": [
            "\r2it [00:17,  8.69s/it]"
          ],
          "name": "stderr"
        },
        {
          "output_type": "stream",
          "text": [
            "\rtrain batch [2/41]: loss 6761034022912.0"
          ],
          "name": "stdout"
        },
        {
          "output_type": "stream",
          "text": [
            "\r3it [00:26,  8.73s/it]"
          ],
          "name": "stderr"
        },
        {
          "output_type": "stream",
          "text": [
            "\rtrain batch [3/41]: loss 2309492834304.0"
          ],
          "name": "stdout"
        },
        {
          "output_type": "stream",
          "text": [
            "\r4it [00:35,  8.77s/it]"
          ],
          "name": "stderr"
        },
        {
          "output_type": "stream",
          "text": [
            "\rtrain batch [4/41]: loss 3319626989568.0"
          ],
          "name": "stdout"
        },
        {
          "output_type": "stream",
          "text": [
            "\r5it [00:43,  8.78s/it]"
          ],
          "name": "stderr"
        },
        {
          "output_type": "stream",
          "text": [
            "\rtrain batch [5/41]: loss 2736599334912.0"
          ],
          "name": "stdout"
        },
        {
          "output_type": "stream",
          "text": [
            "\r6it [00:52,  8.82s/it]"
          ],
          "name": "stderr"
        },
        {
          "output_type": "stream",
          "text": [
            "\rtrain batch [6/41]: loss 2661784485888.0"
          ],
          "name": "stdout"
        },
        {
          "output_type": "stream",
          "text": [
            "\r7it [01:01,  8.74s/it]"
          ],
          "name": "stderr"
        },
        {
          "output_type": "stream",
          "text": [
            "\rtrain batch [7/41]: loss 2890030120960.0"
          ],
          "name": "stdout"
        },
        {
          "output_type": "stream",
          "text": [
            "\r8it [01:09,  8.65s/it]"
          ],
          "name": "stderr"
        },
        {
          "output_type": "stream",
          "text": [
            "\rtrain batch [8/41]: loss 3619884105728.0"
          ],
          "name": "stdout"
        },
        {
          "output_type": "stream",
          "text": [
            "\r9it [01:18,  8.69s/it]"
          ],
          "name": "stderr"
        },
        {
          "output_type": "stream",
          "text": [
            "\rtrain batch [9/41]: loss 4070467698688.0"
          ],
          "name": "stdout"
        },
        {
          "output_type": "stream",
          "text": [
            "\r10it [01:27,  8.62s/it]"
          ],
          "name": "stderr"
        },
        {
          "output_type": "stream",
          "text": [
            "\rtrain batch [10/41]: loss 3618677981184.0"
          ],
          "name": "stdout"
        },
        {
          "output_type": "stream",
          "text": [
            "\r11it [01:35,  8.72s/it]"
          ],
          "name": "stderr"
        },
        {
          "output_type": "stream",
          "text": [
            "\rtrain batch [11/41]: loss 5322796171264.0"
          ],
          "name": "stdout"
        },
        {
          "output_type": "stream",
          "text": [
            "\r12it [01:44,  8.66s/it]"
          ],
          "name": "stderr"
        },
        {
          "output_type": "stream",
          "text": [
            "\rtrain batch [12/41]: loss 2704249192448.0"
          ],
          "name": "stdout"
        },
        {
          "output_type": "stream",
          "text": [
            "\r13it [01:53,  8.68s/it]"
          ],
          "name": "stderr"
        },
        {
          "output_type": "stream",
          "text": [
            "\rtrain batch [13/41]: loss 3865217859584.0"
          ],
          "name": "stdout"
        },
        {
          "output_type": "stream",
          "text": [
            "\r14it [02:02,  8.72s/it]"
          ],
          "name": "stderr"
        },
        {
          "output_type": "stream",
          "text": [
            "\rtrain batch [14/41]: loss 3372524503040.0"
          ],
          "name": "stdout"
        },
        {
          "output_type": "stream",
          "text": [
            "\r15it [02:10,  8.72s/it]"
          ],
          "name": "stderr"
        },
        {
          "output_type": "stream",
          "text": [
            "\rtrain batch [15/41]: loss 3030815866880.0"
          ],
          "name": "stdout"
        },
        {
          "output_type": "stream",
          "text": [
            "\r16it [02:19,  8.70s/it]"
          ],
          "name": "stderr"
        },
        {
          "output_type": "stream",
          "text": [
            "\rtrain batch [16/41]: loss 3983392899072.0"
          ],
          "name": "stdout"
        },
        {
          "output_type": "stream",
          "text": [
            "\r17it [02:28,  8.80s/it]"
          ],
          "name": "stderr"
        },
        {
          "output_type": "stream",
          "text": [
            "\rtrain batch [17/41]: loss 3400494743552.0"
          ],
          "name": "stdout"
        },
        {
          "output_type": "stream",
          "text": [
            "\r18it [02:37,  8.80s/it]"
          ],
          "name": "stderr"
        },
        {
          "output_type": "stream",
          "text": [
            "\rtrain batch [18/41]: loss 3438858993664.0"
          ],
          "name": "stdout"
        },
        {
          "output_type": "stream",
          "text": [
            "\r19it [02:45,  8.72s/it]"
          ],
          "name": "stderr"
        },
        {
          "output_type": "stream",
          "text": [
            "\rtrain batch [19/41]: loss 2586868449280.0"
          ],
          "name": "stdout"
        },
        {
          "output_type": "stream",
          "text": [
            "\r20it [02:54,  8.67s/it]"
          ],
          "name": "stderr"
        },
        {
          "output_type": "stream",
          "text": [
            "\rtrain batch [20/41]: loss 2591947227136.0"
          ],
          "name": "stdout"
        },
        {
          "output_type": "stream",
          "text": [
            "\r21it [03:02,  8.64s/it]"
          ],
          "name": "stderr"
        },
        {
          "output_type": "stream",
          "text": [
            "\rtrain batch [21/41]: loss 2215779500032.0"
          ],
          "name": "stdout"
        },
        {
          "output_type": "stream",
          "text": [
            "\r22it [03:11,  8.70s/it]"
          ],
          "name": "stderr"
        },
        {
          "output_type": "stream",
          "text": [
            "\rtrain batch [22/41]: loss 3026559959040.0"
          ],
          "name": "stdout"
        },
        {
          "output_type": "stream",
          "text": [
            "\r23it [03:20,  8.70s/it]"
          ],
          "name": "stderr"
        },
        {
          "output_type": "stream",
          "text": [
            "\rtrain batch [23/41]: loss 3388341223424.0"
          ],
          "name": "stdout"
        },
        {
          "output_type": "stream",
          "text": [
            "\r24it [03:29,  8.80s/it]"
          ],
          "name": "stderr"
        },
        {
          "output_type": "stream",
          "text": [
            "\rtrain batch [24/41]: loss 4103840727040.0"
          ],
          "name": "stdout"
        },
        {
          "output_type": "stream",
          "text": [
            "\r25it [03:38,  8.77s/it]"
          ],
          "name": "stderr"
        },
        {
          "output_type": "stream",
          "text": [
            "\rtrain batch [25/41]: loss 3423198511104.0"
          ],
          "name": "stdout"
        },
        {
          "output_type": "stream",
          "text": [
            "\r26it [03:46,  8.78s/it]"
          ],
          "name": "stderr"
        },
        {
          "output_type": "stream",
          "text": [
            "\rtrain batch [26/41]: loss 4534635593728.0"
          ],
          "name": "stdout"
        },
        {
          "output_type": "stream",
          "text": [
            "\r27it [03:55,  8.74s/it]"
          ],
          "name": "stderr"
        },
        {
          "output_type": "stream",
          "text": [
            "\rtrain batch [27/41]: loss 3787673567232.0"
          ],
          "name": "stdout"
        },
        {
          "output_type": "stream",
          "text": [
            "\r28it [04:04,  8.70s/it]"
          ],
          "name": "stderr"
        },
        {
          "output_type": "stream",
          "text": [
            "\rtrain batch [28/41]: loss 10570274177024.0"
          ],
          "name": "stdout"
        },
        {
          "output_type": "stream",
          "text": [
            "\r29it [04:12,  8.71s/it]"
          ],
          "name": "stderr"
        },
        {
          "output_type": "stream",
          "text": [
            "\rtrain batch [29/41]: loss 12314864517120.0"
          ],
          "name": "stdout"
        },
        {
          "output_type": "stream",
          "text": [
            "\r30it [04:21,  8.73s/it]"
          ],
          "name": "stderr"
        },
        {
          "output_type": "stream",
          "text": [
            "\rtrain batch [30/41]: loss 3407291088896.0"
          ],
          "name": "stdout"
        },
        {
          "output_type": "stream",
          "text": [
            "\r31it [04:30,  8.69s/it]"
          ],
          "name": "stderr"
        },
        {
          "output_type": "stream",
          "text": [
            "\rtrain batch [31/41]: loss 5157188796416.0"
          ],
          "name": "stdout"
        },
        {
          "output_type": "stream",
          "text": [
            "\r32it [04:39,  8.76s/it]"
          ],
          "name": "stderr"
        },
        {
          "output_type": "stream",
          "text": [
            "\rtrain batch [32/41]: loss 7235996483584.0"
          ],
          "name": "stdout"
        },
        {
          "output_type": "stream",
          "text": [
            "\r33it [04:47,  8.69s/it]"
          ],
          "name": "stderr"
        },
        {
          "output_type": "stream",
          "text": [
            "\rtrain batch [33/41]: loss 1663060803584.0"
          ],
          "name": "stdout"
        },
        {
          "output_type": "stream",
          "text": [
            "\r34it [04:56,  8.64s/it]"
          ],
          "name": "stderr"
        },
        {
          "output_type": "stream",
          "text": [
            "\rtrain batch [34/41]: loss 3621267177472.0"
          ],
          "name": "stdout"
        },
        {
          "output_type": "stream",
          "text": [
            "\r35it [05:04,  8.63s/it]"
          ],
          "name": "stderr"
        },
        {
          "output_type": "stream",
          "text": [
            "\rtrain batch [35/41]: loss 9589235908608.0"
          ],
          "name": "stdout"
        },
        {
          "output_type": "stream",
          "text": [
            "\r36it [05:13,  8.69s/it]"
          ],
          "name": "stderr"
        },
        {
          "output_type": "stream",
          "text": [
            "\rtrain batch [36/41]: loss 4403949993984.0"
          ],
          "name": "stdout"
        },
        {
          "output_type": "stream",
          "text": [
            "\r37it [05:22,  8.69s/it]"
          ],
          "name": "stderr"
        },
        {
          "output_type": "stream",
          "text": [
            "\rtrain batch [37/41]: loss 5054297276416.0"
          ],
          "name": "stdout"
        },
        {
          "output_type": "stream",
          "text": [
            "\r38it [05:30,  8.65s/it]"
          ],
          "name": "stderr"
        },
        {
          "output_type": "stream",
          "text": [
            "\rtrain batch [38/41]: loss 3342442430464.0"
          ],
          "name": "stdout"
        },
        {
          "output_type": "stream",
          "text": [
            "\r39it [05:39,  8.67s/it]"
          ],
          "name": "stderr"
        },
        {
          "output_type": "stream",
          "text": [
            "\rtrain batch [39/41]: loss 4365113098240.0"
          ],
          "name": "stdout"
        },
        {
          "output_type": "stream",
          "text": [
            "\r40it [05:48,  8.69s/it]"
          ],
          "name": "stderr"
        },
        {
          "output_type": "stream",
          "text": [
            "\rtrain batch [40/41]: loss 3305988161536.0"
          ],
          "name": "stdout"
        },
        {
          "output_type": "stream",
          "text": [
            "41it [05:54,  8.66s/it]"
          ],
          "name": "stderr"
        },
        {
          "output_type": "stream",
          "text": [
            "\rval batch [0/4]: loss 31138093465600.0"
          ],
          "name": "stdout"
        },
        {
          "output_type": "stream",
          "text": [
            "\n"
          ],
          "name": "stderr"
        },
        {
          "output_type": "stream",
          "text": [
            "test batch [4/5]: loss 227424190464.0"
          ],
          "name": "stdout"
        },
        {
          "output_type": "stream",
          "text": [
            "\r0it [00:00, ?it/s]"
          ],
          "name": "stderr"
        },
        {
          "output_type": "stream",
          "text": [
            "\n",
            "Train loss: 4155644988141.268, Train accuracy: 0.6756134629249573\n",
            "Val loss: 15395258368000.0, Val accuracy: 0.5\n",
            "Test loss: 9191469694976.0, Test accuracy: 0.620192289352417\n",
            "\n",
            "=============== Epoch: 49\n",
            "train batch [0/41]: loss 8401784406016.0"
          ],
          "name": "stdout"
        },
        {
          "output_type": "stream",
          "text": [
            "\r1it [00:08,  8.93s/it]"
          ],
          "name": "stderr"
        },
        {
          "output_type": "stream",
          "text": [
            "\rtrain batch [1/41]: loss 5079684349952.0"
          ],
          "name": "stdout"
        },
        {
          "output_type": "stream",
          "text": [
            "\r2it [00:17,  8.81s/it]"
          ],
          "name": "stderr"
        },
        {
          "output_type": "stream",
          "text": [
            "\rtrain batch [2/41]: loss 3247765454848.0"
          ],
          "name": "stdout"
        },
        {
          "output_type": "stream",
          "text": [
            "\r3it [00:26,  8.77s/it]"
          ],
          "name": "stderr"
        },
        {
          "output_type": "stream",
          "text": [
            "\rtrain batch [3/41]: loss 4799317671936.0"
          ],
          "name": "stdout"
        },
        {
          "output_type": "stream",
          "text": [
            "\r4it [00:34,  8.77s/it]"
          ],
          "name": "stderr"
        },
        {
          "output_type": "stream",
          "text": [
            "\rtrain batch [4/41]: loss 2652307980288.0"
          ],
          "name": "stdout"
        },
        {
          "output_type": "stream",
          "text": [
            "\r5it [00:43,  8.72s/it]"
          ],
          "name": "stderr"
        },
        {
          "output_type": "stream",
          "text": [
            "\rtrain batch [5/41]: loss 4740089905152.0"
          ],
          "name": "stdout"
        },
        {
          "output_type": "stream",
          "text": [
            "\r6it [00:52,  8.79s/it]"
          ],
          "name": "stderr"
        },
        {
          "output_type": "stream",
          "text": [
            "\rtrain batch [6/41]: loss 5492803371008.0"
          ],
          "name": "stdout"
        },
        {
          "output_type": "stream",
          "text": [
            "\r7it [01:01,  8.79s/it]"
          ],
          "name": "stderr"
        },
        {
          "output_type": "stream",
          "text": [
            "\rtrain batch [7/41]: loss 4702116773888.0"
          ],
          "name": "stdout"
        },
        {
          "output_type": "stream",
          "text": [
            "\r8it [01:09,  8.75s/it]"
          ],
          "name": "stderr"
        },
        {
          "output_type": "stream",
          "text": [
            "\rtrain batch [8/41]: loss 4482811822080.0"
          ],
          "name": "stdout"
        },
        {
          "output_type": "stream",
          "text": [
            "\r9it [01:18,  8.75s/it]"
          ],
          "name": "stderr"
        },
        {
          "output_type": "stream",
          "text": [
            "\rtrain batch [9/41]: loss 6428229632000.0"
          ],
          "name": "stdout"
        },
        {
          "output_type": "stream",
          "text": [
            "\r10it [01:27,  8.66s/it]"
          ],
          "name": "stderr"
        },
        {
          "output_type": "stream",
          "text": [
            "\rtrain batch [10/41]: loss 4756759117824.0"
          ],
          "name": "stdout"
        },
        {
          "output_type": "stream",
          "text": [
            "\r11it [01:35,  8.69s/it]"
          ],
          "name": "stderr"
        },
        {
          "output_type": "stream",
          "text": [
            "\rtrain batch [11/41]: loss 5440264994816.0"
          ],
          "name": "stdout"
        },
        {
          "output_type": "stream",
          "text": [
            "\r12it [01:44,  8.72s/it]"
          ],
          "name": "stderr"
        },
        {
          "output_type": "stream",
          "text": [
            "\rtrain batch [12/41]: loss 5330000936960.0"
          ],
          "name": "stdout"
        },
        {
          "output_type": "stream",
          "text": [
            "\r13it [01:53,  8.76s/it]"
          ],
          "name": "stderr"
        },
        {
          "output_type": "stream",
          "text": [
            "\rtrain batch [13/41]: loss 3605587034112.0"
          ],
          "name": "stdout"
        },
        {
          "output_type": "stream",
          "text": [
            "\r14it [02:02,  8.73s/it]"
          ],
          "name": "stderr"
        },
        {
          "output_type": "stream",
          "text": [
            "\rtrain batch [14/41]: loss 4670879170560.0"
          ],
          "name": "stdout"
        },
        {
          "output_type": "stream",
          "text": [
            "\r15it [02:11,  8.77s/it]"
          ],
          "name": "stderr"
        },
        {
          "output_type": "stream",
          "text": [
            "\rtrain batch [15/41]: loss 5540815044608.0"
          ],
          "name": "stdout"
        },
        {
          "output_type": "stream",
          "text": [
            "\r16it [02:20,  8.86s/it]"
          ],
          "name": "stderr"
        },
        {
          "output_type": "stream",
          "text": [
            "\rtrain batch [16/41]: loss 3790558724096.0"
          ],
          "name": "stdout"
        },
        {
          "output_type": "stream",
          "text": [
            "\r17it [02:28,  8.78s/it]"
          ],
          "name": "stderr"
        },
        {
          "output_type": "stream",
          "text": [
            "\rtrain batch [17/41]: loss 4899240673280.0"
          ],
          "name": "stdout"
        },
        {
          "output_type": "stream",
          "text": [
            "\r18it [02:37,  8.76s/it]"
          ],
          "name": "stderr"
        },
        {
          "output_type": "stream",
          "text": [
            "\rtrain batch [18/41]: loss 4698737737728.0"
          ],
          "name": "stdout"
        },
        {
          "output_type": "stream",
          "text": [
            "\r19it [02:45,  8.69s/it]"
          ],
          "name": "stderr"
        },
        {
          "output_type": "stream",
          "text": [
            "\rtrain batch [19/41]: loss 4440009998336.0"
          ],
          "name": "stdout"
        },
        {
          "output_type": "stream",
          "text": [
            "\r20it [02:54,  8.67s/it]"
          ],
          "name": "stderr"
        },
        {
          "output_type": "stream",
          "text": [
            "\rtrain batch [20/41]: loss 5158247333888.0"
          ],
          "name": "stdout"
        },
        {
          "output_type": "stream",
          "text": [
            "\r21it [03:03,  8.68s/it]"
          ],
          "name": "stderr"
        },
        {
          "output_type": "stream",
          "text": [
            "\rtrain batch [21/41]: loss 3474063360000.0"
          ],
          "name": "stdout"
        },
        {
          "output_type": "stream",
          "text": [
            "\r22it [03:12,  8.76s/it]"
          ],
          "name": "stderr"
        },
        {
          "output_type": "stream",
          "text": [
            "\rtrain batch [22/41]: loss 2848089964544.0"
          ],
          "name": "stdout"
        },
        {
          "output_type": "stream",
          "text": [
            "\r23it [03:21,  8.79s/it]"
          ],
          "name": "stderr"
        },
        {
          "output_type": "stream",
          "text": [
            "\rtrain batch [23/41]: loss 4161638760448.0"
          ],
          "name": "stdout"
        },
        {
          "output_type": "stream",
          "text": [
            "\r24it [03:29,  8.83s/it]"
          ],
          "name": "stderr"
        },
        {
          "output_type": "stream",
          "text": [
            "\rtrain batch [24/41]: loss 4431214018560.0"
          ],
          "name": "stdout"
        },
        {
          "output_type": "stream",
          "text": [
            "\r25it [03:38,  8.82s/it]"
          ],
          "name": "stderr"
        },
        {
          "output_type": "stream",
          "text": [
            "\rtrain batch [25/41]: loss 2871229677568.0"
          ],
          "name": "stdout"
        },
        {
          "output_type": "stream",
          "text": [
            "\r26it [03:47,  8.74s/it]"
          ],
          "name": "stderr"
        },
        {
          "output_type": "stream",
          "text": [
            "\rtrain batch [26/41]: loss 2882349826048.0"
          ],
          "name": "stdout"
        },
        {
          "output_type": "stream",
          "text": [
            "\r27it [03:56,  8.76s/it]"
          ],
          "name": "stderr"
        },
        {
          "output_type": "stream",
          "text": [
            "\rtrain batch [27/41]: loss 5225817571328.0"
          ],
          "name": "stdout"
        },
        {
          "output_type": "stream",
          "text": [
            "\r28it [04:04,  8.71s/it]"
          ],
          "name": "stderr"
        },
        {
          "output_type": "stream",
          "text": [
            "\rtrain batch [28/41]: loss 4688225239040.0"
          ],
          "name": "stdout"
        },
        {
          "output_type": "stream",
          "text": [
            "\r29it [04:13,  8.64s/it]"
          ],
          "name": "stderr"
        },
        {
          "output_type": "stream",
          "text": [
            "\rtrain batch [29/41]: loss 2959199698944.0"
          ],
          "name": "stdout"
        },
        {
          "output_type": "stream",
          "text": [
            "\r30it [04:22,  8.74s/it]"
          ],
          "name": "stderr"
        },
        {
          "output_type": "stream",
          "text": [
            "\rtrain batch [30/41]: loss 3534253719552.0"
          ],
          "name": "stdout"
        },
        {
          "output_type": "stream",
          "text": [
            "\r31it [04:31,  8.78s/it]"
          ],
          "name": "stderr"
        },
        {
          "output_type": "stream",
          "text": [
            "\rtrain batch [31/41]: loss 4657616781312.0"
          ],
          "name": "stdout"
        },
        {
          "output_type": "stream",
          "text": [
            "\r32it [04:39,  8.71s/it]"
          ],
          "name": "stderr"
        },
        {
          "output_type": "stream",
          "text": [
            "\rtrain batch [32/41]: loss 2791270514688.0"
          ],
          "name": "stdout"
        },
        {
          "output_type": "stream",
          "text": [
            "\r33it [04:48,  8.69s/it]"
          ],
          "name": "stderr"
        },
        {
          "output_type": "stream",
          "text": [
            "\rtrain batch [33/41]: loss 2708235354112.0"
          ],
          "name": "stdout"
        },
        {
          "output_type": "stream",
          "text": [
            "\r34it [04:56,  8.63s/it]"
          ],
          "name": "stderr"
        },
        {
          "output_type": "stream",
          "text": [
            "\rtrain batch [34/41]: loss 3025376641024.0"
          ],
          "name": "stdout"
        },
        {
          "output_type": "stream",
          "text": [
            "\r35it [05:05,  8.63s/it]"
          ],
          "name": "stderr"
        },
        {
          "output_type": "stream",
          "text": [
            "\rtrain batch [35/41]: loss 2214673776640.0"
          ],
          "name": "stdout"
        },
        {
          "output_type": "stream",
          "text": [
            "\r36it [05:14,  8.68s/it]"
          ],
          "name": "stderr"
        },
        {
          "output_type": "stream",
          "text": [
            "\rtrain batch [36/41]: loss 3215685844992.0"
          ],
          "name": "stdout"
        },
        {
          "output_type": "stream",
          "text": [
            "\r37it [05:23,  8.75s/it]"
          ],
          "name": "stderr"
        },
        {
          "output_type": "stream",
          "text": [
            "\rtrain batch [37/41]: loss 4107326980096.0"
          ],
          "name": "stdout"
        },
        {
          "output_type": "stream",
          "text": [
            "\r38it [05:31,  8.70s/it]"
          ],
          "name": "stderr"
        },
        {
          "output_type": "stream",
          "text": [
            "\rtrain batch [38/41]: loss 4932168056832.0"
          ],
          "name": "stdout"
        },
        {
          "output_type": "stream",
          "text": [
            "\r39it [05:40,  8.64s/it]"
          ],
          "name": "stderr"
        },
        {
          "output_type": "stream",
          "text": [
            "\rtrain batch [39/41]: loss 3812914102272.0"
          ],
          "name": "stdout"
        },
        {
          "output_type": "stream",
          "text": [
            "\r40it [05:48,  8.59s/it]"
          ],
          "name": "stderr"
        },
        {
          "output_type": "stream",
          "text": [
            "\rtrain batch [40/41]: loss 3219350618112.0"
          ],
          "name": "stdout"
        },
        {
          "output_type": "stream",
          "text": [
            "41it [05:55,  8.67s/it]"
          ],
          "name": "stderr"
        },
        {
          "output_type": "stream",
          "text": [
            "\rval batch [0/4]: loss 37622202236928.0"
          ],
          "name": "stdout"
        },
        {
          "output_type": "stream",
          "text": [
            "\n"
          ],
          "name": "stderr"
        },
        {
          "output_type": "stream",
          "text": [
            "test batch [4/5]: loss 1500856320000.0\n",
            "Train loss: 4246797856468.2925, Train accuracy: 0.6610429286956787\n",
            "Val loss: 16052322304000.0, Val accuracy: 0.5625\n",
            "Test loss: 7837672472576.0, Test accuracy: 0.6073718070983887\n",
            "\n"
          ],
          "name": "stdout"
        }
      ]
    },
    {
      "cell_type": "code",
      "metadata": {
        "id": "78IkqIEdlNwB",
        "colab_type": "code",
        "colab": {}
      },
      "source": [
        ""
      ],
      "execution_count": null,
      "outputs": []
    },
    {
      "cell_type": "code",
      "metadata": {
        "id": "VgC17l3gnVSI",
        "colab_type": "code",
        "colab": {
          "base_uri": "https://localhost:8080/",
          "height": 54
        },
        "outputId": "bc7b755e-80d6-48cc-8600-00f4d221552e"
      },
      "source": [
        "train_after_loss, train_after_acc, true_labels, pred_labels = test(model, train_dataloader, criterion, optimizer, lr_scheduler, phase='test')\n",
        "print(f'Train loss (After Training is Completed): {train_after_loss}, Train accuracy (After Training is Completed): {train_after_acc}')"
      ],
      "execution_count": 22,
      "outputs": [
        {
          "output_type": "stream",
          "text": [
            "test batch [40/41]: loss 5448833957888.0Train loss (After Training is Completed): 5225753154235.317, Train accuracy (After Training is Completed): 0.7070552110671997\n"
          ],
          "name": "stdout"
        }
      ]
    },
    {
      "cell_type": "code",
      "metadata": {
        "id": "etr6x9lklkQJ",
        "colab_type": "code",
        "colab": {
          "base_uri": "https://localhost:8080/",
          "height": 34
        },
        "outputId": "9094bd45-30f9-4c5b-9099-f34a7817cae0"
      },
      "source": [
        "test_dataloader = torch.utils.data.DataLoader(test_dataset, batch_size=128, shuffle=False)\n",
        "test_loss, test_acc, true_labels, pred_labels = test(model, test_dataloader, criterion, optimizer, lr_scheduler, phase='test')\n",
        "print(f'Test loss: {test_loss}, Test accuracy: {test_acc}')"
      ],
      "execution_count": 23,
      "outputs": [
        {
          "output_type": "stream",
          "text": [
            "test batch [4/5]: loss 1500856320000.0Test loss: 7837672472576.0, Test accuracy: 0.6073718070983887\n"
          ],
          "name": "stdout"
        }
      ]
    },
    {
      "cell_type": "code",
      "metadata": {
        "id": "_jFYM4vj70BY",
        "colab_type": "code",
        "colab": {}
      },
      "source": [
        ""
      ],
      "execution_count": null,
      "outputs": []
    },
    {
      "cell_type": "code",
      "metadata": {
        "id": "80xjc89C70Me",
        "colab_type": "code",
        "colab": {
          "base_uri": "https://localhost:8080/",
          "height": 153
        },
        "outputId": "33e31053-a1e2-43f0-9f82-397afbdf5773"
      },
      "source": [
        "!ls -lrt"
      ],
      "execution_count": 24,
      "outputs": [
        {
          "output_type": "stream",
          "text": [
            "total 87460\n",
            "drwxr-xr-x 1 root root     4096 Jul 10 16:29 sample_data\n",
            "drwx------ 4 root root     4096 Jul 26 18:25 drive\n",
            "drwx------ 4 root root     4096 Jul 26 18:31 train\n",
            "drwx------ 4 root root     4096 Jul 26 18:45 val\n",
            "drwx------ 4 root root     4096 Jul 26 18:46 test\n",
            "-rw-r--r-- 1 root root 44769144 Jul 26 18:54 resnet34-mooney-chest-x-ray-best-42.pt\n",
            "-rw-r--r-- 1 root root 44769144 Jul 26 23:54 resnet34-mooney-chest-x-ray-42.pt\n"
          ],
          "name": "stdout"
        }
      ]
    },
    {
      "cell_type": "code",
      "metadata": {
        "id": "PKewi0I2Z08s",
        "colab_type": "code",
        "colab": {}
      },
      "source": [
        "!cp ./resnet34-mooney-chest-x-ray-best-42.pt  /content/drive/\"My Drive\"/Dataset/"
      ],
      "execution_count": 25,
      "outputs": []
    },
    {
      "cell_type": "code",
      "metadata": {
        "id": "vt4A7dVNtGr6",
        "colab_type": "code",
        "colab": {}
      },
      "source": [
        ""
      ],
      "execution_count": null,
      "outputs": []
    }
  ]
}