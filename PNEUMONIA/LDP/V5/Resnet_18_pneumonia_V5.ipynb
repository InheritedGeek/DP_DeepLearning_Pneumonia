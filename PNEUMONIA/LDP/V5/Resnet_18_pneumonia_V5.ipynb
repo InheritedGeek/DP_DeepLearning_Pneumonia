{
  "nbformat": 4,
  "nbformat_minor": 0,
  "metadata": {
    "kernelspec": {
      "display_name": "Python 3",
      "language": "python",
      "name": "python3"
    },
    "language_info": {
      "codemirror_mode": {
        "name": "ipython",
        "version": 3
      },
      "file_extension": ".py",
      "mimetype": "text/x-python",
      "name": "python",
      "nbconvert_exporter": "python",
      "pygments_lexer": "ipython3",
      "version": "3.8.2"
    },
    "colab": {
      "name": "Resnet_18_pneumonia_V5.ipynb",
      "provenance": [],
      "collapsed_sections": [],
      "machine_shape": "hm"
    },
    "accelerator": "GPU",
    "widgets": {
      "application/vnd.jupyter.widget-state+json": {
        "4ab866e59f6f4398adf51739f87084d2": {
          "model_module": "@jupyter-widgets/controls",
          "model_name": "HBoxModel",
          "state": {
            "_view_name": "HBoxView",
            "_dom_classes": [],
            "_model_name": "HBoxModel",
            "_view_module": "@jupyter-widgets/controls",
            "_model_module_version": "1.5.0",
            "_view_count": null,
            "_view_module_version": "1.5.0",
            "box_style": "",
            "layout": "IPY_MODEL_a81965dfa6ae42698c664fea004a3054",
            "_model_module": "@jupyter-widgets/controls",
            "children": [
              "IPY_MODEL_233facde9ea8459f9493a0cad7749f02",
              "IPY_MODEL_5e8829d7897d42988a0f537fcabca3de"
            ]
          }
        },
        "a81965dfa6ae42698c664fea004a3054": {
          "model_module": "@jupyter-widgets/base",
          "model_name": "LayoutModel",
          "state": {
            "_view_name": "LayoutView",
            "grid_template_rows": null,
            "right": null,
            "justify_content": null,
            "_view_module": "@jupyter-widgets/base",
            "overflow": null,
            "_model_module_version": "1.2.0",
            "_view_count": null,
            "flex_flow": null,
            "width": null,
            "min_width": null,
            "border": null,
            "align_items": null,
            "bottom": null,
            "_model_module": "@jupyter-widgets/base",
            "top": null,
            "grid_column": null,
            "overflow_y": null,
            "overflow_x": null,
            "grid_auto_flow": null,
            "grid_area": null,
            "grid_template_columns": null,
            "flex": null,
            "_model_name": "LayoutModel",
            "justify_items": null,
            "grid_row": null,
            "max_height": null,
            "align_content": null,
            "visibility": null,
            "align_self": null,
            "height": null,
            "min_height": null,
            "padding": null,
            "grid_auto_rows": null,
            "grid_gap": null,
            "max_width": null,
            "order": null,
            "_view_module_version": "1.2.0",
            "grid_template_areas": null,
            "object_position": null,
            "object_fit": null,
            "grid_auto_columns": null,
            "margin": null,
            "display": null,
            "left": null
          }
        },
        "233facde9ea8459f9493a0cad7749f02": {
          "model_module": "@jupyter-widgets/controls",
          "model_name": "FloatProgressModel",
          "state": {
            "_view_name": "ProgressView",
            "style": "IPY_MODEL_51311d02ad604c88a2c2ed8aea35a0dd",
            "_dom_classes": [],
            "description": "100%",
            "_model_name": "FloatProgressModel",
            "bar_style": "success",
            "max": 46827520,
            "_view_module": "@jupyter-widgets/controls",
            "_model_module_version": "1.5.0",
            "value": 46827520,
            "_view_count": null,
            "_view_module_version": "1.5.0",
            "orientation": "horizontal",
            "min": 0,
            "description_tooltip": null,
            "_model_module": "@jupyter-widgets/controls",
            "layout": "IPY_MODEL_5d9d7f7e34d9463c93306f76d6deda75"
          }
        },
        "5e8829d7897d42988a0f537fcabca3de": {
          "model_module": "@jupyter-widgets/controls",
          "model_name": "HTMLModel",
          "state": {
            "_view_name": "HTMLView",
            "style": "IPY_MODEL_b99bcf2766e649cbbe1daaf3aa7b7769",
            "_dom_classes": [],
            "description": "",
            "_model_name": "HTMLModel",
            "placeholder": "​",
            "_view_module": "@jupyter-widgets/controls",
            "_model_module_version": "1.5.0",
            "value": " 44.7M/44.7M [00:18&lt;00:00, 2.47MB/s]",
            "_view_count": null,
            "_view_module_version": "1.5.0",
            "description_tooltip": null,
            "_model_module": "@jupyter-widgets/controls",
            "layout": "IPY_MODEL_0a7a91d010a3451e921c5a9cc267f194"
          }
        },
        "51311d02ad604c88a2c2ed8aea35a0dd": {
          "model_module": "@jupyter-widgets/controls",
          "model_name": "ProgressStyleModel",
          "state": {
            "_view_name": "StyleView",
            "_model_name": "ProgressStyleModel",
            "description_width": "initial",
            "_view_module": "@jupyter-widgets/base",
            "_model_module_version": "1.5.0",
            "_view_count": null,
            "_view_module_version": "1.2.0",
            "bar_color": null,
            "_model_module": "@jupyter-widgets/controls"
          }
        },
        "5d9d7f7e34d9463c93306f76d6deda75": {
          "model_module": "@jupyter-widgets/base",
          "model_name": "LayoutModel",
          "state": {
            "_view_name": "LayoutView",
            "grid_template_rows": null,
            "right": null,
            "justify_content": null,
            "_view_module": "@jupyter-widgets/base",
            "overflow": null,
            "_model_module_version": "1.2.0",
            "_view_count": null,
            "flex_flow": null,
            "width": null,
            "min_width": null,
            "border": null,
            "align_items": null,
            "bottom": null,
            "_model_module": "@jupyter-widgets/base",
            "top": null,
            "grid_column": null,
            "overflow_y": null,
            "overflow_x": null,
            "grid_auto_flow": null,
            "grid_area": null,
            "grid_template_columns": null,
            "flex": null,
            "_model_name": "LayoutModel",
            "justify_items": null,
            "grid_row": null,
            "max_height": null,
            "align_content": null,
            "visibility": null,
            "align_self": null,
            "height": null,
            "min_height": null,
            "padding": null,
            "grid_auto_rows": null,
            "grid_gap": null,
            "max_width": null,
            "order": null,
            "_view_module_version": "1.2.0",
            "grid_template_areas": null,
            "object_position": null,
            "object_fit": null,
            "grid_auto_columns": null,
            "margin": null,
            "display": null,
            "left": null
          }
        },
        "b99bcf2766e649cbbe1daaf3aa7b7769": {
          "model_module": "@jupyter-widgets/controls",
          "model_name": "DescriptionStyleModel",
          "state": {
            "_view_name": "StyleView",
            "_model_name": "DescriptionStyleModel",
            "description_width": "",
            "_view_module": "@jupyter-widgets/base",
            "_model_module_version": "1.5.0",
            "_view_count": null,
            "_view_module_version": "1.2.0",
            "_model_module": "@jupyter-widgets/controls"
          }
        },
        "0a7a91d010a3451e921c5a9cc267f194": {
          "model_module": "@jupyter-widgets/base",
          "model_name": "LayoutModel",
          "state": {
            "_view_name": "LayoutView",
            "grid_template_rows": null,
            "right": null,
            "justify_content": null,
            "_view_module": "@jupyter-widgets/base",
            "overflow": null,
            "_model_module_version": "1.2.0",
            "_view_count": null,
            "flex_flow": null,
            "width": null,
            "min_width": null,
            "border": null,
            "align_items": null,
            "bottom": null,
            "_model_module": "@jupyter-widgets/base",
            "top": null,
            "grid_column": null,
            "overflow_y": null,
            "overflow_x": null,
            "grid_auto_flow": null,
            "grid_area": null,
            "grid_template_columns": null,
            "flex": null,
            "_model_name": "LayoutModel",
            "justify_items": null,
            "grid_row": null,
            "max_height": null,
            "align_content": null,
            "visibility": null,
            "align_self": null,
            "height": null,
            "min_height": null,
            "padding": null,
            "grid_auto_rows": null,
            "grid_gap": null,
            "max_width": null,
            "order": null,
            "_view_module_version": "1.2.0",
            "grid_template_areas": null,
            "object_position": null,
            "object_fit": null,
            "grid_auto_columns": null,
            "margin": null,
            "display": null,
            "left": null
          }
        }
      }
    }
  },
  "cells": [
    {
      "cell_type": "code",
      "metadata": {
        "id": "tJxejS4BhtfA",
        "colab_type": "code",
        "colab": {
          "base_uri": "https://localhost:8080/",
          "height": 364
        },
        "outputId": "0800768e-2e1d-4a57-cc81-31d782843d94"
      },
      "source": [
        "!nvidia-smi"
      ],
      "execution_count": 1,
      "outputs": [
        {
          "output_type": "stream",
          "text": [
            "Sun Aug 23 10:16:21 2020       \n",
            "+-----------------------------------------------------------------------------+\n",
            "| NVIDIA-SMI 450.57       Driver Version: 418.67       CUDA Version: 10.1     |\n",
            "|-------------------------------+----------------------+----------------------+\n",
            "| GPU  Name        Persistence-M| Bus-Id        Disp.A | Volatile Uncorr. ECC |\n",
            "| Fan  Temp  Perf  Pwr:Usage/Cap|         Memory-Usage | GPU-Util  Compute M. |\n",
            "|                               |                      |               MIG M. |\n",
            "|===============================+======================+======================|\n",
            "|   0  Tesla P100-PCIE...  Off  | 00000000:00:04.0 Off |                    0 |\n",
            "| N/A   42C    P0    26W / 250W |      0MiB / 16280MiB |      0%      Default |\n",
            "|                               |                      |                 ERR! |\n",
            "+-------------------------------+----------------------+----------------------+\n",
            "                                                                               \n",
            "+-----------------------------------------------------------------------------+\n",
            "| Processes:                                                                  |\n",
            "|  GPU   GI   CI        PID   Type   Process name                  GPU Memory |\n",
            "|        ID   ID                                                   Usage      |\n",
            "|=============================================================================|\n",
            "|  No running processes found                                                 |\n",
            "+-----------------------------------------------------------------------------+\n"
          ],
          "name": "stdout"
        }
      ]
    },
    {
      "cell_type": "code",
      "metadata": {
        "id": "KqzKNkpfXrM7",
        "colab_type": "code",
        "colab": {
          "base_uri": "https://localhost:8080/",
          "height": 124
        },
        "outputId": "5b5f5f42-31b1-4d86-ab0e-8fd4b6eb054d"
      },
      "source": [
        "from google.colab import drive\n",
        "drive.mount('/content/drive', force_remount=True)"
      ],
      "execution_count": 2,
      "outputs": [
        {
          "output_type": "stream",
          "text": [
            "Go to this URL in a browser: https://accounts.google.com/o/oauth2/auth?client_id=947318989803-6bn6qk8qdgf4n4g3pfee6491hc0brc4i.apps.googleusercontent.com&redirect_uri=urn%3aietf%3awg%3aoauth%3a2.0%3aoob&scope=email%20https%3a%2f%2fwww.googleapis.com%2fauth%2fdocs.test%20https%3a%2f%2fwww.googleapis.com%2fauth%2fdrive%20https%3a%2f%2fwww.googleapis.com%2fauth%2fdrive.photos.readonly%20https%3a%2f%2fwww.googleapis.com%2fauth%2fpeopleapi.readonly&response_type=code\n",
            "\n",
            "Enter your authorization code:\n",
            "··········\n",
            "Mounted at /content/drive\n"
          ],
          "name": "stdout"
        }
      ]
    },
    {
      "cell_type": "code",
      "metadata": {
        "id": "5tkHSteTnOUV",
        "colab_type": "code",
        "colab": {}
      },
      "source": [
        "import torch \n",
        "import torchvision\n",
        "import numpy as np \n",
        "import random\n",
        "import os\n",
        "import glob\n",
        "import copy\n",
        "from tqdm import tqdm as tqdm\n",
        "from torchsummary import summary\n",
        "\n",
        "seed = 42\n",
        "random.seed(seed)\n",
        "os.environ[\"PYTHONHASHSEED\"] = str(seed)\n",
        "np.random.seed(seed)\n",
        "torch.cuda.manual_seed(seed)\n",
        "torch.cuda.manual_seed_all(seed)\n",
        "torch.backends.cudnn.deterministic = True\n",
        "torch.manual_seed(seed)\n",
        "\n",
        "best_model = None\n",
        "best_loss = 0.\n",
        "best_test_loss = 0.\n",
        "best_test_acc = 0.\n",
        "best_pred_labels = []\n",
        "true_labels = []\n",
        "\n",
        "pred_labels = []\n",
        "test_acc = 0.\n",
        "test_loss = 0.\n",
        "\n",
        "# device = torch.device('cuda:0')\n",
        "device = torch.device('cuda' if torch.cuda.is_available() else 'cpu')"
      ],
      "execution_count": 3,
      "outputs": []
    },
    {
      "cell_type": "code",
      "metadata": {
        "id": "xjX3GQUHnOUh",
        "colab_type": "code",
        "colab": {
          "base_uri": "https://localhost:8080/",
          "height": 86
        },
        "outputId": "743ab29e-1f27-4c8c-f6d4-0086b5d4a1db"
      },
      "source": [
        "# train class samples from Non DP data\n",
        "print('Normal Samples in Training Data')\n",
        "!ls -l /content/drive/\"My Drive\"/NDP_Data/chest_xray/train/NORMAL | wc -l\n",
        "print('Pneumonia Samples in Training Data')\n",
        "!ls -l /content/drive/\"My Drive\"/NDP_Data/chest_xray/train/PNEUMONIA | wc -l"
      ],
      "execution_count": 4,
      "outputs": [
        {
          "output_type": "stream",
          "text": [
            "Normal Samples in Training Data\n",
            "1342\n",
            "Pneumonia Samples in Training Data\n",
            "3876\n"
          ],
          "name": "stdout"
        }
      ]
    },
    {
      "cell_type": "code",
      "metadata": {
        "id": "XOR0OlpIbDFA",
        "colab_type": "code",
        "colab": {
          "base_uri": "https://localhost:8080/",
          "height": 86
        },
        "outputId": "42db9ffc-e6b7-4fd7-8837-22f1e81584fe"
      },
      "source": [
        "# Validation samples from Non DP data\n",
        "print('Normal Samples in Validation Data')\n",
        "!ls -l /content/drive/\"My Drive\"/NDP_Data/chest_xray/val/NORMAL | wc -l\n",
        "print('Pneumonia Samples in Validation Data')\n",
        "!ls -l /content/drive/\"My Drive\"/NDP_Data/chest_xray/val/PNEUMONIA | wc -l"
      ],
      "execution_count": 5,
      "outputs": [
        {
          "output_type": "stream",
          "text": [
            "Normal Samples in Validation Data\n",
            "9\n",
            "Pneumonia Samples in Validation Data\n",
            "9\n"
          ],
          "name": "stdout"
        }
      ]
    },
    {
      "cell_type": "code",
      "metadata": {
        "id": "z8YxWrN7nOUo",
        "colab_type": "code",
        "colab": {
          "base_uri": "https://localhost:8080/",
          "height": 86
        },
        "outputId": "95dcf214-6326-4c97-aea2-2e880eb8b644"
      },
      "source": [
        "# Testing samples from Non DP data\n",
        "print('Normal Samples in Testing Data')\n",
        "!ls -l /content/drive/\"My Drive\"/NDP_Data/chest_xray/test/NORMAL | wc -l\n",
        "print('Pneumonia Samples in Testing Data')\n",
        "!ls -l /content/drive/\"My Drive\"/NDP_Data/chest_xray/test/PNEUMONIA | wc -l"
      ],
      "execution_count": 6,
      "outputs": [
        {
          "output_type": "stream",
          "text": [
            "Normal Samples in Testing Data\n",
            "235\n",
            "Pneumonia Samples in Testing Data\n",
            "391\n"
          ],
          "name": "stdout"
        }
      ]
    },
    {
      "cell_type": "code",
      "metadata": {
        "id": "AiuaHzKIFjYw",
        "colab_type": "code",
        "colab": {}
      },
      "source": [
        "# Copying to local to process/train faster\n",
        "\n",
        "!cp -R /content/drive/\"My Drive\"/NDP_Data/chest_xray/train ./\n"
      ],
      "execution_count": 7,
      "outputs": []
    },
    {
      "cell_type": "code",
      "metadata": {
        "id": "_GZsr5LpFtXS",
        "colab_type": "code",
        "colab": {}
      },
      "source": [
        "# Copying to local to process/run faster during validation inference\n",
        "\n",
        "!cp -R /content/drive/\"My Drive\"/NDP_Data/chest_xray/val ./\n"
      ],
      "execution_count": 8,
      "outputs": []
    },
    {
      "cell_type": "code",
      "metadata": {
        "id": "Wh3E7LaXFukl",
        "colab_type": "code",
        "colab": {}
      },
      "source": [
        "# Copying to local to process/run faster during testing inference\n",
        "\n",
        "!cp -R /content/drive/\"My Drive\"/NDP_Data/chest_xray/test ./"
      ],
      "execution_count": 9,
      "outputs": []
    },
    {
      "cell_type": "code",
      "metadata": {
        "id": "WfTrqSj1JSCc",
        "colab_type": "code",
        "colab": {
          "base_uri": "https://localhost:8080/",
          "height": 121
        },
        "outputId": "45d38f5c-16c0-4dfd-c6a8-2bd968d267fa"
      },
      "source": [
        "!ls -lrt"
      ],
      "execution_count": 10,
      "outputs": [
        {
          "output_type": "stream",
          "text": [
            "total 20\n",
            "drwxr-xr-x 1 root root 4096 Jul 30 16:30 sample_data\n",
            "drwx------ 4 root root 4096 Aug 23 10:16 drive\n",
            "drwx------ 4 root root 4096 Aug 23 10:33 train\n",
            "drwx------ 4 root root 4096 Aug 23 11:15 val\n",
            "drwx------ 4 root root 4096 Aug 23 11:18 test\n"
          ],
          "name": "stdout"
        }
      ]
    },
    {
      "cell_type": "code",
      "metadata": {
        "id": "rP4UeXeyoTgk",
        "colab_type": "code",
        "colab": {
          "base_uri": "https://localhost:8080/",
          "height": 52
        },
        "outputId": "9dfdebbc-3722-487e-d052-7b1205bc65df"
      },
      "source": [
        "!ls -l ./train/NORMAL | wc -l\n",
        "!ls -l ./train/PNEUMONIA | wc -l\n"
      ],
      "execution_count": 11,
      "outputs": [
        {
          "output_type": "stream",
          "text": [
            "1342\n",
            "3876\n"
          ],
          "name": "stdout"
        }
      ]
    },
    {
      "cell_type": "code",
      "metadata": {
        "id": "SoKGl1gFoTjf",
        "colab_type": "code",
        "colab": {
          "base_uri": "https://localhost:8080/",
          "height": 52
        },
        "outputId": "af2ec172-5d00-47c9-9e67-361852d179e4"
      },
      "source": [
        "!ls -l ./val/NORMAL | wc -l\n",
        "!ls -l ./val/PNEUMONIA | wc -l"
      ],
      "execution_count": 12,
      "outputs": [
        {
          "output_type": "stream",
          "text": [
            "9\n",
            "9\n"
          ],
          "name": "stdout"
        }
      ]
    },
    {
      "cell_type": "code",
      "metadata": {
        "id": "3_Pc3iSF5SIy",
        "colab_type": "code",
        "colab": {
          "base_uri": "https://localhost:8080/",
          "height": 52
        },
        "outputId": "40fd496d-4b91-4943-eaa1-9f8243b88d04"
      },
      "source": [
        "!ls -l ./test/NORMAL | wc -l\n",
        "!ls -l ./test/PNEUMONIA | wc -l"
      ],
      "execution_count": 13,
      "outputs": [
        {
          "output_type": "stream",
          "text": [
            "235\n",
            "391\n"
          ],
          "name": "stdout"
        }
      ]
    },
    {
      "cell_type": "code",
      "metadata": {
        "id": "2Jx5gkIc5SLj",
        "colab_type": "code",
        "colab": {}
      },
      "source": [
        ""
      ],
      "execution_count": null,
      "outputs": []
    },
    {
      "cell_type": "code",
      "metadata": {
        "id": "LPDTSXKWnOUw",
        "colab_type": "code",
        "colab": {}
      },
      "source": [
        "class ChestXRay(torchvision.datasets.ImageFolder):\n",
        "    def __getitem__(self, index):\n",
        "        sample, target = super().__getitem__(index)\n",
        "        path, _ = self.samples[index]\n",
        "        \n",
        "        target = 0\n",
        "        if 'PNEUMONIA' in path:\n",
        "            target = 1\n",
        "        \n",
        "        return sample, target\n",
        "       "
      ],
      "execution_count": 14,
      "outputs": []
    },
    {
      "cell_type": "code",
      "metadata": {
        "id": "J-_xESJtnOU0",
        "colab_type": "code",
        "colab": {}
      },
      "source": [
        "train_transforms = torchvision.transforms.Compose([\n",
        "    torchvision.transforms.Resize(256),\n",
        "    torchvision.transforms.RandomAffine(0, translate=(0, 0.1), scale=(1, 1.10)),\n",
        "    torchvision.transforms.CenterCrop(224),\n",
        "    torchvision.transforms.ToTensor(),\n",
        "    torchvision.transforms.Normalize([0.485, 0.456, 0.406], [0.229, 0.224, 0.225])\n",
        "])\n",
        "\n",
        "transforms = torchvision.transforms.Compose([\n",
        "    torchvision.transforms.Resize(256),\n",
        "    torchvision.transforms.CenterCrop(224),\n",
        "    torchvision.transforms.ToTensor(),\n",
        "    torchvision.transforms.Normalize([0.485, 0.456, 0.406], [0.229, 0.224, 0.225]),\n",
        "])\n",
        "\n",
        "\n",
        "#train_dataset = ChestXRay('/content/drive/My Drive/NDP_Data/chest_xray/train/', transform=train_transforms)\n",
        "#val_dataset = ChestXRay('/content/drive/My Drive/NDP_Data/chest_xray/val/', transform=train_transforms)\n",
        "#test_dataset = ChestXRay('/content/drive/My Drive/NDP_Data/chest_xray/test/', transform=transforms)\n",
        "\n",
        "train_dataset = ChestXRay('./train/', transform=train_transforms)\n",
        "val_dataset = ChestXRay('./val/', transform=train_transforms)\n",
        "test_dataset = ChestXRay('./test/', transform=transforms)\n",
        "\n",
        "train_dataloader = torch.utils.data.DataLoader(train_dataset, batch_size=128, shuffle=True)\n",
        "val_dataloader = torch.utils.data.DataLoader(val_dataset, batch_size=4, shuffle=False)\n",
        "test_dataloader = torch.utils.data.DataLoader(test_dataset, batch_size=128, shuffle=False)"
      ],
      "execution_count": 15,
      "outputs": []
    },
    {
      "cell_type": "code",
      "metadata": {
        "id": "kPtm7Zaruoqv",
        "colab_type": "code",
        "colab": {}
      },
      "source": [
        ""
      ],
      "execution_count": null,
      "outputs": []
    },
    {
      "cell_type": "code",
      "metadata": {
        "id": "Ee19YDP1nOVA",
        "colab_type": "code",
        "colab": {
          "base_uri": "https://localhost:8080/",
          "height": 1000,
          "referenced_widgets": [
            "4ab866e59f6f4398adf51739f87084d2",
            "a81965dfa6ae42698c664fea004a3054",
            "233facde9ea8459f9493a0cad7749f02",
            "5e8829d7897d42988a0f537fcabca3de",
            "51311d02ad604c88a2c2ed8aea35a0dd",
            "5d9d7f7e34d9463c93306f76d6deda75",
            "b99bcf2766e649cbbe1daaf3aa7b7769",
            "0a7a91d010a3451e921c5a9cc267f194"
          ]
        },
        "outputId": "73112667-e5a5-4895-8b8d-cd006103f98e"
      },
      "source": [
        "model = torchvision.models.resnet18(pretrained=True)\n",
        "model.fc = torch.nn.Linear(in_features=512, out_features=2)\n",
        "\n",
        "model = model.to(device)\n",
        "model"
      ],
      "execution_count": 16,
      "outputs": [
        {
          "output_type": "stream",
          "text": [
            "Downloading: \"https://download.pytorch.org/models/resnet18-5c106cde.pth\" to /root/.cache/torch/hub/checkpoints/resnet18-5c106cde.pth\n"
          ],
          "name": "stderr"
        },
        {
          "output_type": "display_data",
          "data": {
            "application/vnd.jupyter.widget-view+json": {
              "model_id": "4ab866e59f6f4398adf51739f87084d2",
              "version_minor": 0,
              "version_major": 2
            },
            "text/plain": [
              "HBox(children=(FloatProgress(value=0.0, max=46827520.0), HTML(value='')))"
            ]
          },
          "metadata": {
            "tags": []
          }
        },
        {
          "output_type": "stream",
          "text": [
            "\n"
          ],
          "name": "stdout"
        },
        {
          "output_type": "execute_result",
          "data": {
            "text/plain": [
              "ResNet(\n",
              "  (conv1): Conv2d(3, 64, kernel_size=(7, 7), stride=(2, 2), padding=(3, 3), bias=False)\n",
              "  (bn1): BatchNorm2d(64, eps=1e-05, momentum=0.1, affine=True, track_running_stats=True)\n",
              "  (relu): ReLU(inplace=True)\n",
              "  (maxpool): MaxPool2d(kernel_size=3, stride=2, padding=1, dilation=1, ceil_mode=False)\n",
              "  (layer1): Sequential(\n",
              "    (0): BasicBlock(\n",
              "      (conv1): Conv2d(64, 64, kernel_size=(3, 3), stride=(1, 1), padding=(1, 1), bias=False)\n",
              "      (bn1): BatchNorm2d(64, eps=1e-05, momentum=0.1, affine=True, track_running_stats=True)\n",
              "      (relu): ReLU(inplace=True)\n",
              "      (conv2): Conv2d(64, 64, kernel_size=(3, 3), stride=(1, 1), padding=(1, 1), bias=False)\n",
              "      (bn2): BatchNorm2d(64, eps=1e-05, momentum=0.1, affine=True, track_running_stats=True)\n",
              "    )\n",
              "    (1): BasicBlock(\n",
              "      (conv1): Conv2d(64, 64, kernel_size=(3, 3), stride=(1, 1), padding=(1, 1), bias=False)\n",
              "      (bn1): BatchNorm2d(64, eps=1e-05, momentum=0.1, affine=True, track_running_stats=True)\n",
              "      (relu): ReLU(inplace=True)\n",
              "      (conv2): Conv2d(64, 64, kernel_size=(3, 3), stride=(1, 1), padding=(1, 1), bias=False)\n",
              "      (bn2): BatchNorm2d(64, eps=1e-05, momentum=0.1, affine=True, track_running_stats=True)\n",
              "    )\n",
              "  )\n",
              "  (layer2): Sequential(\n",
              "    (0): BasicBlock(\n",
              "      (conv1): Conv2d(64, 128, kernel_size=(3, 3), stride=(2, 2), padding=(1, 1), bias=False)\n",
              "      (bn1): BatchNorm2d(128, eps=1e-05, momentum=0.1, affine=True, track_running_stats=True)\n",
              "      (relu): ReLU(inplace=True)\n",
              "      (conv2): Conv2d(128, 128, kernel_size=(3, 3), stride=(1, 1), padding=(1, 1), bias=False)\n",
              "      (bn2): BatchNorm2d(128, eps=1e-05, momentum=0.1, affine=True, track_running_stats=True)\n",
              "      (downsample): Sequential(\n",
              "        (0): Conv2d(64, 128, kernel_size=(1, 1), stride=(2, 2), bias=False)\n",
              "        (1): BatchNorm2d(128, eps=1e-05, momentum=0.1, affine=True, track_running_stats=True)\n",
              "      )\n",
              "    )\n",
              "    (1): BasicBlock(\n",
              "      (conv1): Conv2d(128, 128, kernel_size=(3, 3), stride=(1, 1), padding=(1, 1), bias=False)\n",
              "      (bn1): BatchNorm2d(128, eps=1e-05, momentum=0.1, affine=True, track_running_stats=True)\n",
              "      (relu): ReLU(inplace=True)\n",
              "      (conv2): Conv2d(128, 128, kernel_size=(3, 3), stride=(1, 1), padding=(1, 1), bias=False)\n",
              "      (bn2): BatchNorm2d(128, eps=1e-05, momentum=0.1, affine=True, track_running_stats=True)\n",
              "    )\n",
              "  )\n",
              "  (layer3): Sequential(\n",
              "    (0): BasicBlock(\n",
              "      (conv1): Conv2d(128, 256, kernel_size=(3, 3), stride=(2, 2), padding=(1, 1), bias=False)\n",
              "      (bn1): BatchNorm2d(256, eps=1e-05, momentum=0.1, affine=True, track_running_stats=True)\n",
              "      (relu): ReLU(inplace=True)\n",
              "      (conv2): Conv2d(256, 256, kernel_size=(3, 3), stride=(1, 1), padding=(1, 1), bias=False)\n",
              "      (bn2): BatchNorm2d(256, eps=1e-05, momentum=0.1, affine=True, track_running_stats=True)\n",
              "      (downsample): Sequential(\n",
              "        (0): Conv2d(128, 256, kernel_size=(1, 1), stride=(2, 2), bias=False)\n",
              "        (1): BatchNorm2d(256, eps=1e-05, momentum=0.1, affine=True, track_running_stats=True)\n",
              "      )\n",
              "    )\n",
              "    (1): BasicBlock(\n",
              "      (conv1): Conv2d(256, 256, kernel_size=(3, 3), stride=(1, 1), padding=(1, 1), bias=False)\n",
              "      (bn1): BatchNorm2d(256, eps=1e-05, momentum=0.1, affine=True, track_running_stats=True)\n",
              "      (relu): ReLU(inplace=True)\n",
              "      (conv2): Conv2d(256, 256, kernel_size=(3, 3), stride=(1, 1), padding=(1, 1), bias=False)\n",
              "      (bn2): BatchNorm2d(256, eps=1e-05, momentum=0.1, affine=True, track_running_stats=True)\n",
              "    )\n",
              "  )\n",
              "  (layer4): Sequential(\n",
              "    (0): BasicBlock(\n",
              "      (conv1): Conv2d(256, 512, kernel_size=(3, 3), stride=(2, 2), padding=(1, 1), bias=False)\n",
              "      (bn1): BatchNorm2d(512, eps=1e-05, momentum=0.1, affine=True, track_running_stats=True)\n",
              "      (relu): ReLU(inplace=True)\n",
              "      (conv2): Conv2d(512, 512, kernel_size=(3, 3), stride=(1, 1), padding=(1, 1), bias=False)\n",
              "      (bn2): BatchNorm2d(512, eps=1e-05, momentum=0.1, affine=True, track_running_stats=True)\n",
              "      (downsample): Sequential(\n",
              "        (0): Conv2d(256, 512, kernel_size=(1, 1), stride=(2, 2), bias=False)\n",
              "        (1): BatchNorm2d(512, eps=1e-05, momentum=0.1, affine=True, track_running_stats=True)\n",
              "      )\n",
              "    )\n",
              "    (1): BasicBlock(\n",
              "      (conv1): Conv2d(512, 512, kernel_size=(3, 3), stride=(1, 1), padding=(1, 1), bias=False)\n",
              "      (bn1): BatchNorm2d(512, eps=1e-05, momentum=0.1, affine=True, track_running_stats=True)\n",
              "      (relu): ReLU(inplace=True)\n",
              "      (conv2): Conv2d(512, 512, kernel_size=(3, 3), stride=(1, 1), padding=(1, 1), bias=False)\n",
              "      (bn2): BatchNorm2d(512, eps=1e-05, momentum=0.1, affine=True, track_running_stats=True)\n",
              "    )\n",
              "  )\n",
              "  (avgpool): AdaptiveAvgPool2d(output_size=(1, 1))\n",
              "  (fc): Linear(in_features=512, out_features=2, bias=True)\n",
              ")"
            ]
          },
          "metadata": {
            "tags": []
          },
          "execution_count": 16
        }
      ]
    },
    {
      "cell_type": "code",
      "metadata": {
        "id": "61IVJvrmr7th",
        "colab_type": "code",
        "colab": {
          "base_uri": "https://localhost:8080/",
          "height": 1000
        },
        "outputId": "f305db85-aab5-4d40-c236-f008f6b5aba3"
      },
      "source": [
        "summary(model.cuda(), [(3,224,224,)])"
      ],
      "execution_count": 17,
      "outputs": [
        {
          "output_type": "stream",
          "text": [
            "----------------------------------------------------------------\n",
            "        Layer (type)               Output Shape         Param #\n",
            "================================================================\n",
            "            Conv2d-1         [-1, 64, 112, 112]           9,408\n",
            "       BatchNorm2d-2         [-1, 64, 112, 112]             128\n",
            "              ReLU-3         [-1, 64, 112, 112]               0\n",
            "         MaxPool2d-4           [-1, 64, 56, 56]               0\n",
            "            Conv2d-5           [-1, 64, 56, 56]          36,864\n",
            "       BatchNorm2d-6           [-1, 64, 56, 56]             128\n",
            "              ReLU-7           [-1, 64, 56, 56]               0\n",
            "            Conv2d-8           [-1, 64, 56, 56]          36,864\n",
            "       BatchNorm2d-9           [-1, 64, 56, 56]             128\n",
            "             ReLU-10           [-1, 64, 56, 56]               0\n",
            "       BasicBlock-11           [-1, 64, 56, 56]               0\n",
            "           Conv2d-12           [-1, 64, 56, 56]          36,864\n",
            "      BatchNorm2d-13           [-1, 64, 56, 56]             128\n",
            "             ReLU-14           [-1, 64, 56, 56]               0\n",
            "           Conv2d-15           [-1, 64, 56, 56]          36,864\n",
            "      BatchNorm2d-16           [-1, 64, 56, 56]             128\n",
            "             ReLU-17           [-1, 64, 56, 56]               0\n",
            "       BasicBlock-18           [-1, 64, 56, 56]               0\n",
            "           Conv2d-19          [-1, 128, 28, 28]          73,728\n",
            "      BatchNorm2d-20          [-1, 128, 28, 28]             256\n",
            "             ReLU-21          [-1, 128, 28, 28]               0\n",
            "           Conv2d-22          [-1, 128, 28, 28]         147,456\n",
            "      BatchNorm2d-23          [-1, 128, 28, 28]             256\n",
            "           Conv2d-24          [-1, 128, 28, 28]           8,192\n",
            "      BatchNorm2d-25          [-1, 128, 28, 28]             256\n",
            "             ReLU-26          [-1, 128, 28, 28]               0\n",
            "       BasicBlock-27          [-1, 128, 28, 28]               0\n",
            "           Conv2d-28          [-1, 128, 28, 28]         147,456\n",
            "      BatchNorm2d-29          [-1, 128, 28, 28]             256\n",
            "             ReLU-30          [-1, 128, 28, 28]               0\n",
            "           Conv2d-31          [-1, 128, 28, 28]         147,456\n",
            "      BatchNorm2d-32          [-1, 128, 28, 28]             256\n",
            "             ReLU-33          [-1, 128, 28, 28]               0\n",
            "       BasicBlock-34          [-1, 128, 28, 28]               0\n",
            "           Conv2d-35          [-1, 256, 14, 14]         294,912\n",
            "      BatchNorm2d-36          [-1, 256, 14, 14]             512\n",
            "             ReLU-37          [-1, 256, 14, 14]               0\n",
            "           Conv2d-38          [-1, 256, 14, 14]         589,824\n",
            "      BatchNorm2d-39          [-1, 256, 14, 14]             512\n",
            "           Conv2d-40          [-1, 256, 14, 14]          32,768\n",
            "      BatchNorm2d-41          [-1, 256, 14, 14]             512\n",
            "             ReLU-42          [-1, 256, 14, 14]               0\n",
            "       BasicBlock-43          [-1, 256, 14, 14]               0\n",
            "           Conv2d-44          [-1, 256, 14, 14]         589,824\n",
            "      BatchNorm2d-45          [-1, 256, 14, 14]             512\n",
            "             ReLU-46          [-1, 256, 14, 14]               0\n",
            "           Conv2d-47          [-1, 256, 14, 14]         589,824\n",
            "      BatchNorm2d-48          [-1, 256, 14, 14]             512\n",
            "             ReLU-49          [-1, 256, 14, 14]               0\n",
            "       BasicBlock-50          [-1, 256, 14, 14]               0\n",
            "           Conv2d-51            [-1, 512, 7, 7]       1,179,648\n",
            "      BatchNorm2d-52            [-1, 512, 7, 7]           1,024\n",
            "             ReLU-53            [-1, 512, 7, 7]               0\n",
            "           Conv2d-54            [-1, 512, 7, 7]       2,359,296\n",
            "      BatchNorm2d-55            [-1, 512, 7, 7]           1,024\n",
            "           Conv2d-56            [-1, 512, 7, 7]         131,072\n",
            "      BatchNorm2d-57            [-1, 512, 7, 7]           1,024\n",
            "             ReLU-58            [-1, 512, 7, 7]               0\n",
            "       BasicBlock-59            [-1, 512, 7, 7]               0\n",
            "           Conv2d-60            [-1, 512, 7, 7]       2,359,296\n",
            "      BatchNorm2d-61            [-1, 512, 7, 7]           1,024\n",
            "             ReLU-62            [-1, 512, 7, 7]               0\n",
            "           Conv2d-63            [-1, 512, 7, 7]       2,359,296\n",
            "      BatchNorm2d-64            [-1, 512, 7, 7]           1,024\n",
            "             ReLU-65            [-1, 512, 7, 7]               0\n",
            "       BasicBlock-66            [-1, 512, 7, 7]               0\n",
            "AdaptiveAvgPool2d-67            [-1, 512, 1, 1]               0\n",
            "           Linear-68                    [-1, 2]           1,026\n",
            "================================================================\n",
            "Total params: 11,177,538\n",
            "Trainable params: 11,177,538\n",
            "Non-trainable params: 0\n",
            "----------------------------------------------------------------\n",
            "Input size (MB): 0.57\n",
            "Forward/backward pass size (MB): 62.79\n",
            "Params size (MB): 42.64\n",
            "Estimated Total Size (MB): 106.00\n",
            "----------------------------------------------------------------\n"
          ],
          "name": "stdout"
        }
      ]
    },
    {
      "cell_type": "code",
      "metadata": {
        "id": "VhXhlzFK2Dl1",
        "colab_type": "code",
        "colab": {}
      },
      "source": [
        ""
      ],
      "execution_count": null,
      "outputs": []
    },
    {
      "cell_type": "code",
      "metadata": {
        "id": "V5U-QpQHr7wE",
        "colab_type": "code",
        "colab": {}
      },
      "source": [
        ""
      ],
      "execution_count": null,
      "outputs": []
    },
    {
      "cell_type": "code",
      "metadata": {
        "id": "VAoD68pMf5oy",
        "colab_type": "code",
        "colab": {}
      },
      "source": [
        "def run_epoch(model, dataloader, criterion, optimizer, lr_scheduler, phase='train'):\n",
        "    epoch_loss = 0.\n",
        "    epoch_acc = 0.\n",
        "    \n",
        "    batch_num = 0.\n",
        "    samples_num = 0.\n",
        "    \n",
        "    true_labels = []\n",
        "    pred_labels = []\n",
        "    \n",
        "    for batch_idx, (data, labels) in enumerate(dataloader):\n",
        "        data, labels = data.to(device), labels.to(device)\n",
        "        optimizer.zero_grad()\n",
        "        if phase == 'train':\n",
        "            model.train()\n",
        "        else:\n",
        "            model.eval()\n",
        "        with torch.set_grad_enabled(phase == 'train'):\n",
        "            outputs = model(data)\n",
        "            _, preds = torch.max(outputs, 1)\n",
        "            loss = criterion(outputs, labels)\n",
        "        \n",
        "        true_labels.append(labels.detach().cpu())\n",
        "        pred_labels.append(preds.detach().cpu())\n",
        "        \n",
        "        if phase == 'train':\n",
        "            loss.backward()\n",
        "            optimizer.step()\n",
        "        \n",
        "        print(f'\\r{phase} batch [{batch_idx}/{len(dataloader)}]: loss {loss.item()}', end='', flush=True)\n",
        "        epoch_loss += loss.detach().cpu().item()\n",
        "        epoch_acc += torch.sum(preds == labels.data)\n",
        "        batch_num += 1\n",
        "        samples_num += len(labels)\n",
        "    \n",
        "    print()\n",
        "    return epoch_loss / batch_num, epoch_acc / samples_num, torch.cat(true_labels).numpy(), torch.cat(pred_labels).numpy()"
      ],
      "execution_count": 18,
      "outputs": []
    },
    {
      "cell_type": "code",
      "metadata": {
        "id": "68w_Ljsff9wO",
        "colab_type": "code",
        "colab": {}
      },
      "source": [
        ""
      ],
      "execution_count": null,
      "outputs": []
    },
    {
      "cell_type": "code",
      "metadata": {
        "id": "x7qXbQPUgRnw",
        "colab_type": "code",
        "colab": {}
      },
      "source": [
        ""
      ],
      "execution_count": null,
      "outputs": []
    },
    {
      "cell_type": "code",
      "metadata": {
        "id": "MCUrp4S-gRqP",
        "colab_type": "code",
        "colab": {}
      },
      "source": [
        "criterion = torch.nn.CrossEntropyLoss()\n",
        "#optimizer = torch.optim.SGD(model.parameters(), lr=1e-2, weight_decay=0.001)\n",
        "optimizer = torch.optim.SGD([{'params': [param for name, param in model.named_parameters() if 'fc' not in name]}, {'params': model.fc.parameters(), 'lr': 1e-3}], lr=5e-4, weight_decay=0.001)\n",
        "lr_scheduler = torch.optim.lr_scheduler.ReduceLROnPlateau(optimizer, patience=3, verbose=True)"
      ],
      "execution_count": 19,
      "outputs": []
    },
    {
      "cell_type": "code",
      "metadata": {
        "id": "iAn4FWp3nOVR",
        "colab_type": "code",
        "colab": {
          "base_uri": "https://localhost:8080/",
          "height": 1000
        },
        "outputId": "229dc0e6-4e99-4e06-c1dc-429703131453"
      },
      "source": [
        "train_losses = []\n",
        "val_losses = []\n",
        "test_losses = []\n",
        "output_folder = '/content/drive/My Drive/Dataset/a/'\n",
        "for epoch in range(50):\n",
        "    print('='*15, f'Epoch: {epoch}')\n",
        "    \n",
        "    train_loss, train_acc, _, _ = run_epoch(model, train_dataloader, criterion, optimizer, lr_scheduler)\n",
        "    val_loss, val_acc, _, _ = run_epoch(model, val_dataloader, criterion, optimizer, lr_scheduler, phase='val')\n",
        "    test_loss, test_acc, true_labels, pred_labels = run_epoch(model, test_dataloader, criterion, optimizer, lr_scheduler, phase='test')\n",
        "    \n",
        "    print(f'Train loss: {train_loss}, Train accuracy: {train_acc}')\n",
        "    print(f'Val loss: {val_loss}, Val accuracy: {val_acc}')\n",
        "    print(f'Test loss: {test_loss}, Test accuracy: {test_acc}')\n",
        "    print()\n",
        "    \n",
        "    train_losses.append(train_loss)\n",
        "    val_losses.append(val_loss)\n",
        "    test_losses.append(test_loss)\n",
        "    \n",
        "    np.save(output_folder+'/train_losses',train_losses)\n",
        "    np.save(output_folder+'/val_losses',val_losses)\n",
        "    np.save(output_folder+'/test_losses',test_losses)\n",
        "    \n",
        "    torch.save({'epoch': epoch, 'model': model.state_dict()}, f'resnet34-chest-x-ray-{seed}.pt')\n",
        "    \n",
        "    if best_model is None or val_loss < best_loss:\n",
        "        best_model = copy.deepcopy(model)\n",
        "        best_loss = val_loss\n",
        "        best_test_loss = test_loss\n",
        "        best_test_acc = test_acc \n",
        "        best_pred_labels = pred_labels\n",
        "        torch.save({'epoch': epoch, 'model': model.state_dict()}, f'resnet34-chest-x-ray_ldp-best-{seed}.pt')"
      ],
      "execution_count": 20,
      "outputs": [
        {
          "output_type": "stream",
          "text": [
            "=============== Epoch: 0\n",
            "train batch [40/41]: loss 0.4135138690471649\n",
            "val batch [3/4]: loss 0.1555621325969696\n",
            "test batch [4/5]: loss 0.1571052372455597\n",
            "Train loss: 0.45328122740838583, Train accuracy: 0.7929447889328003\n",
            "Val loss: 0.9375189356505871, Val accuracy: 0.5\n",
            "Test loss: 0.7772765845060349, Test accuracy: 0.6266025900840759\n",
            "\n",
            "=============== Epoch: 1\n",
            "train batch [40/41]: loss 0.33525171875953674\n",
            "val batch [3/4]: loss 0.31283754110336304\n",
            "test batch [4/5]: loss 0.21129879355430603\n",
            "Train loss: 0.35366459954075696, Train accuracy: 0.8596625328063965\n",
            "Val loss: 0.7442364655435085, Val accuracy: 0.5\n",
            "Test loss: 0.4832127720117569, Test accuracy: 0.7467948794364929\n",
            "\n",
            "=============== Epoch: 2\n",
            "train batch [40/41]: loss 0.251164048910141\n",
            "val batch [3/4]: loss 0.20450250804424286\n",
            "test batch [4/5]: loss 0.18212969601154327\n",
            "Train loss: 0.29368036040445655, Train accuracy: 0.9050996899604797\n",
            "Val loss: 0.6633478589355946, Val accuracy: 0.625\n",
            "Test loss: 0.43970640003681183, Test accuracy: 0.7724359035491943\n",
            "\n",
            "=============== Epoch: 3\n",
            "train batch [40/41]: loss 0.2356060892343521\n",
            "val batch [3/4]: loss 0.14622096717357635\n",
            "test batch [4/5]: loss 0.16501644253730774\n",
            "Train loss: 0.25692572753603865, Train accuracy: 0.9171779155731201\n",
            "Val loss: 0.5773999057710171, Val accuracy: 0.625\n",
            "Test loss: 0.4045774400234222, Test accuracy: 0.8012820482254028\n",
            "\n",
            "=============== Epoch: 4\n",
            "train batch [40/41]: loss 0.2796359360218048\n",
            "val batch [3/4]: loss 0.15490499138832092\n",
            "test batch [4/5]: loss 0.14997541904449463\n",
            "Train loss: 0.2250727531386585, Train accuracy: 0.935007631778717\n",
            "Val loss: 0.6299550402909517, Val accuracy: 0.625\n",
            "Test loss: 0.3849218040704727, Test accuracy: 0.8205128312110901\n",
            "\n",
            "=============== Epoch: 5\n",
            "train batch [40/41]: loss 0.19881999492645264\n",
            "val batch [3/4]: loss 0.10905186086893082\n",
            "test batch [4/5]: loss 0.1311841458082199\n",
            "Train loss: 0.20902965599443854, Train accuracy: 0.9353910684585571\n",
            "Val loss: 0.6632838947698474, Val accuracy: 0.625\n",
            "Test loss: 0.38406663537025454, Test accuracy: 0.8157051205635071\n",
            "\n",
            "=============== Epoch: 6\n",
            "train batch [40/41]: loss 0.28199175000190735\n",
            "val batch [3/4]: loss 0.13343022763729095\n",
            "test batch [4/5]: loss 0.12002462893724442\n",
            "Train loss: 0.18942423673664652, Train accuracy: 0.9415260553359985\n",
            "Val loss: 0.6602346785366535, Val accuracy: 0.625\n",
            "Test loss: 0.3660809338092804, Test accuracy: 0.8301281929016113\n",
            "\n",
            "=============== Epoch: 7\n",
            "train batch [40/41]: loss 0.17923615872859955\n",
            "val batch [3/4]: loss 0.13080015778541565\n",
            "test batch [4/5]: loss 0.08926188945770264\n",
            "Train loss: 0.1764486312139325, Train accuracy: 0.9465107321739197\n",
            "Val loss: 0.7067946782335639, Val accuracy: 0.5625\n",
            "Test loss: 0.384040841460228, Test accuracy: 0.8157051205635071\n",
            "\n",
            "=============== Epoch: 8\n",
            "train batch [40/41]: loss 0.16630558669567108\n",
            "val batch [3/4]: loss 0.06575515866279602\n",
            "test batch [4/5]: loss 0.08882559835910797\n",
            "Train loss: 0.1668705295135335, Train accuracy: 0.9438266754150391\n",
            "Val loss: 0.7226699255406857, Val accuracy: 0.625\n",
            "Test loss: 0.3702585205435753, Test accuracy: 0.8269230723381042\n",
            "\n",
            "=============== Epoch: 9\n",
            "train batch [40/41]: loss 0.17110387980937958\n",
            "val batch [3/4]: loss 0.11038544774055481\n",
            "test batch [4/5]: loss 0.08237241953611374\n",
            "Train loss: 0.15922458869654957, Train accuracy: 0.9445935487747192\n",
            "Val loss: 0.6858058422803879, Val accuracy: 0.625\n",
            "Test loss: 0.36807904541492464, Test accuracy: 0.8317307829856873\n",
            "\n",
            "=============== Epoch: 10\n",
            "train batch [40/41]: loss 0.1645023375749588\n",
            "val batch [3/4]: loss 0.14378951489925385\n",
            "test batch [4/5]: loss 0.08312773704528809\n",
            "Train loss: 0.1532913484587902, Train accuracy: 0.949386477470398\n",
            "Val loss: 0.8948316005989909, Val accuracy: 0.625\n",
            "Test loss: 0.3596709743142128, Test accuracy: 0.8397436141967773\n",
            "\n",
            "=============== Epoch: 11\n",
            "train batch [40/41]: loss 0.1337933987379074\n",
            "val batch [3/4]: loss 0.13739506900310516\n",
            "test batch [4/5]: loss 0.07132382690906525\n",
            "Train loss: 0.14410928618617175, Train accuracy: 0.9518787860870361\n",
            "Val loss: 0.7456237133592367, Val accuracy: 0.5625\n",
            "Test loss: 0.3689850002527237, Test accuracy: 0.8317307829856873\n",
            "\n",
            "=============== Epoch: 12\n",
            "train batch [40/41]: loss 0.14437688887119293\n",
            "val batch [3/4]: loss 0.05467849224805832\n",
            "test batch [4/5]: loss 0.0724775418639183\n",
            "Train loss: 0.14148283059277186, Train accuracy: 0.951111912727356\n",
            "Val loss: 0.6856224676594138, Val accuracy: 0.625\n",
            "Test loss: 0.356455959379673, Test accuracy: 0.8461538553237915\n",
            "\n",
            "=============== Epoch: 13\n",
            "train batch [40/41]: loss 0.1627797931432724\n",
            "val batch [3/4]: loss 0.03939434513449669\n",
            "test batch [4/5]: loss 0.06827874481678009\n",
            "Train loss: 0.14003842996387947, Train accuracy: 0.9509202241897583\n",
            "Val loss: 0.7725869864225388, Val accuracy: 0.5625\n",
            "Test loss: 0.35612912848591805, Test accuracy: 0.8413461446762085\n",
            "\n",
            "=============== Epoch: 14\n",
            "train batch [40/41]: loss 0.14136604964733124\n",
            "val batch [3/4]: loss 0.11153407394886017\n",
            "test batch [4/5]: loss 0.0627443715929985\n",
            "Train loss: 0.13232980514081513, Train accuracy: 0.9534125328063965\n",
            "Val loss: 0.811637124279514, Val accuracy: 0.625\n",
            "Test loss: 0.3704609878361225, Test accuracy: 0.8413461446762085\n",
            "\n",
            "=============== Epoch: 15\n",
            "train batch [40/41]: loss 0.11710646003484726\n",
            "val batch [3/4]: loss 0.09371397644281387\n",
            "test batch [4/5]: loss 0.06466565281152725\n",
            "Train loss: 0.1273721233010292, Train accuracy: 0.9551380276679993\n",
            "Val loss: 0.7787790959700942, Val accuracy: 0.5625\n",
            "Test loss: 0.35577368512749674, Test accuracy: 0.8525640964508057\n",
            "\n",
            "=============== Epoch: 16\n",
            "train batch [40/41]: loss 0.18990902602672577\n",
            "val batch [3/4]: loss 0.06965462118387222\n",
            "test batch [4/5]: loss 0.06053007021546364\n",
            "Train loss: 0.1251688043518764, Train accuracy: 0.9555214643478394\n",
            "Val loss: 0.7736093355342746, Val accuracy: 0.5\n",
            "Test loss: 0.3637349635362625, Test accuracy: 0.8509615659713745\n",
            "\n",
            "=============== Epoch: 17\n",
            "train batch [40/41]: loss 0.12057483941316605\n",
            "val batch [3/4]: loss 0.09112391620874405\n",
            "test batch [4/5]: loss 0.054234836250543594\n",
            "Train loss: 0.12291564029164431, Train accuracy: 0.9570552110671997\n",
            "Val loss: 0.6321126562543213, Val accuracy: 0.625\n",
            "Test loss: 0.36128082275390627, Test accuracy: 0.8477564454078674\n",
            "\n",
            "=============== Epoch: 18\n",
            "train batch [40/41]: loss 0.1505528688430786\n",
            "val batch [3/4]: loss 0.05274798348546028\n",
            "test batch [4/5]: loss 0.0530550591647625\n",
            "Train loss: 0.12180543254788329, Train accuracy: 0.959930956363678\n",
            "Val loss: 0.7368359635584056, Val accuracy: 0.5625\n",
            "Test loss: 0.35575922578573227, Test accuracy: 0.8413461446762085\n",
            "\n",
            "=============== Epoch: 19\n",
            "train batch [40/41]: loss 0.07847677171230316\n",
            "val batch [3/4]: loss 0.12899164855480194\n",
            "test batch [4/5]: loss 0.055183786898851395\n",
            "Train loss: 0.1193539056836105, Train accuracy: 0.9570552110671997\n",
            "Val loss: 0.7079626498743892, Val accuracy: 0.6875\n",
            "Test loss: 0.3593044735491276, Test accuracy: 0.8541666865348816\n",
            "\n",
            "=============== Epoch: 20\n",
            "train batch [40/41]: loss 0.0938289538025856\n",
            "val batch [3/4]: loss 0.02648114413022995\n",
            "test batch [4/5]: loss 0.046912819147109985\n",
            "Train loss: 0.11250874654548924, Train accuracy: 0.9591640830039978\n",
            "Val loss: 0.8203979900572449, Val accuracy: 0.625\n",
            "Test loss: 0.36956713870167734, Test accuracy: 0.8445512652397156\n",
            "\n",
            "=============== Epoch: 21\n",
            "train batch [40/41]: loss 0.09241735190153122\n",
            "val batch [3/4]: loss 0.06895576417446136\n",
            "test batch [4/5]: loss 0.04400700703263283\n",
            "Train loss: 0.11191254200004949, Train accuracy: 0.9612729549407959\n",
            "Val loss: 0.942325078882277, Val accuracy: 0.5625\n",
            "Test loss: 0.37431701719760896, Test accuracy: 0.8493589758872986\n",
            "\n",
            "=============== Epoch: 22\n",
            "train batch [40/41]: loss 0.22120316326618195\n",
            "val batch [3/4]: loss 0.020740147680044174\n",
            "test batch [4/5]: loss 0.052634816616773605\n",
            "Train loss: 0.11393921931342381, Train accuracy: 0.9608895778656006\n",
            "Val loss: 0.8323743115179241, Val accuracy: 0.5625\n",
            "Test loss: 0.3578556105494499, Test accuracy: 0.8573718070983887\n",
            "\n",
            "=============== Epoch: 23\n",
            "train batch [40/41]: loss 0.10073468834161758\n",
            "val batch [3/4]: loss 0.016667647287249565\n",
            "test batch [4/5]: loss 0.04824448376893997\n",
            "Train loss: 0.1102727699752261, Train accuracy: 0.9601227045059204\n",
            "Val loss: 0.7551232441328466, Val accuracy: 0.5625\n",
            "Test loss: 0.36298715844750407, Test accuracy: 0.8557692170143127\n",
            "\n",
            "=============== Epoch: 24\n",
            "train batch [40/41]: loss 0.11585714668035507\n",
            "val batch [3/4]: loss 0.04014561325311661\n",
            "test batch [4/5]: loss 0.04525294527411461\n",
            "Train loss: 0.1053674747122497, Train accuracy: 0.9635735750198364\n",
            "Val loss: 0.7398579176515341, Val accuracy: 0.5625\n",
            "Test loss: 0.3600128762423992, Test accuracy: 0.8509615659713745\n",
            "\n",
            "=============== Epoch: 25\n",
            "train batch [40/41]: loss 0.15173736214637756\n",
            "val batch [3/4]: loss 0.02092508040368557\n",
            "test batch [4/5]: loss 0.04612041264772415\n",
            "Train loss: 0.10425492321572653, Train accuracy: 0.964148759841919\n",
            "Val loss: 0.7392705804668367, Val accuracy: 0.5625\n",
            "Test loss: 0.35762974098324773, Test accuracy: 0.8541666865348816\n",
            "\n",
            "=============== Epoch: 26\n",
            "train batch [40/41]: loss 0.0577983595430851\n",
            "val batch [3/4]: loss 0.04460866376757622\n",
            "test batch [4/5]: loss 0.0479712188243866\n",
            "Train loss: 0.10188513966958697, Train accuracy: 0.9629984498023987\n",
            "Val loss: 0.7566525000147521, Val accuracy: 0.5625\n",
            "Test loss: 0.34333943501114844, Test accuracy: 0.8589743971824646\n",
            "\n",
            "=============== Epoch: 27\n",
            "train batch [40/41]: loss 0.10914991050958633\n",
            "val batch [3/4]: loss 0.09414418041706085\n",
            "test batch [4/5]: loss 0.0403459295630455\n",
            "Train loss: 0.09881668056293232, Train accuracy: 0.9656825065612793\n",
            "Val loss: 0.7236794177442789, Val accuracy: 0.625\n",
            "Test loss: 0.3571055121719837, Test accuracy: 0.8541666865348816\n",
            "\n",
            "=============== Epoch: 28\n",
            "train batch [40/41]: loss 0.06397802382707596\n",
            "val batch [3/4]: loss 0.08792485296726227\n",
            "test batch [4/5]: loss 0.03899186849594116\n",
            "Train loss: 0.09885664856651934, Train accuracy: 0.9635735750198364\n",
            "Val loss: 0.8543898367788643, Val accuracy: 0.5625\n",
            "Test loss: 0.36498616598546507, Test accuracy: 0.8509615659713745\n",
            "\n",
            "=============== Epoch: 29\n",
            "train batch [40/41]: loss 0.06575769931077957\n",
            "val batch [3/4]: loss 0.10344573110342026\n",
            "test batch [4/5]: loss 0.04369131475687027\n",
            "Train loss: 0.09747655253584792, Train accuracy: 0.9660659432411194\n",
            "Val loss: 0.6670328434556723, Val accuracy: 0.5625\n",
            "Test loss: 0.33851945623755453, Test accuracy: 0.8669871687889099\n",
            "\n",
            "=============== Epoch: 30\n",
            "train batch [40/41]: loss 0.06198731064796448\n",
            "val batch [3/4]: loss 0.037355177104473114\n",
            "test batch [4/5]: loss 0.04165080934762955\n",
            "Train loss: 0.09346763871428443, Train accuracy: 0.9674079418182373\n",
            "Val loss: 0.8028656316455454, Val accuracy: 0.625\n",
            "Test loss: 0.34102792032063006, Test accuracy: 0.8589743971824646\n",
            "\n",
            "=============== Epoch: 31\n",
            "train batch [40/41]: loss 0.0856449231505394\n",
            "val batch [3/4]: loss 0.02426544576883316\n",
            "test batch [4/5]: loss 0.038812220096588135\n",
            "Train loss: 0.09387344031072245, Train accuracy: 0.9679831266403198\n",
            "Val loss: 0.7737099016085267, Val accuracy: 0.625\n",
            "Test loss: 0.34184993281960485, Test accuracy: 0.8637820482254028\n",
            "\n",
            "=============== Epoch: 32\n",
            "train batch [40/41]: loss 0.10116665810346603\n",
            "val batch [3/4]: loss 0.023869842290878296\n",
            "test batch [4/5]: loss 0.03595440462231636\n",
            "Train loss: 0.08882862111417258, Train accuracy: 0.9691334366798401\n",
            "Val loss: 0.8186121848411858, Val accuracy: 0.5625\n",
            "Test loss: 0.3553582586348057, Test accuracy: 0.8589743971824646\n",
            "\n",
            "=============== Epoch: 33\n",
            "train batch [40/41]: loss 0.15611129999160767\n",
            "val batch [3/4]: loss 0.012640313245356083\n",
            "test batch [4/5]: loss 0.03194219619035721\n",
            "Train loss: 0.09079919891749941, Train accuracy: 0.9675996899604797\n",
            "Val loss: 0.7248877466190606, Val accuracy: 0.5625\n",
            "Test loss: 0.36993046328425405, Test accuracy: 0.8525640964508057\n",
            "\n",
            "=============== Epoch: 34\n",
            "train batch [40/41]: loss 0.13063502311706543\n",
            "val batch [3/4]: loss 0.038372963666915894\n",
            "test batch [4/5]: loss 0.03876632824540138\n",
            "Train loss: 0.0861702805793867, Train accuracy: 0.9695168733596802\n",
            "Val loss: 0.814399007242173, Val accuracy: 0.625\n",
            "Test loss: 0.3443200599402189, Test accuracy: 0.8621795177459717\n",
            "\n",
            "=============== Epoch: 35\n",
            "train batch [40/41]: loss 0.04392191395163536\n",
            "val batch [3/4]: loss 0.0311095230281353\n",
            "test batch [4/5]: loss 0.03388127312064171\n",
            "Train loss: 0.08892121502175564, Train accuracy: 0.9697085618972778\n",
            "Val loss: 0.7917164857499301, Val accuracy: 0.625\n",
            "Test loss: 0.36082740053534507, Test accuracy: 0.8589743971824646\n",
            "\n",
            "=============== Epoch: 36\n",
            "train batch [40/41]: loss 0.10665484517812729\n",
            "val batch [3/4]: loss 0.028494037687778473\n",
            "test batch [4/5]: loss 0.029469670727849007\n",
            "Train loss: 0.08511575547660269, Train accuracy: 0.9710506200790405\n",
            "Val loss: 0.9801342476857826, Val accuracy: 0.5625\n",
            "Test loss: 0.36457319334149363, Test accuracy: 0.8557692170143127\n",
            "\n",
            "=============== Epoch: 37\n",
            "train batch [40/41]: loss 0.08993443846702576\n",
            "val batch [3/4]: loss 0.047070249915122986\n",
            "test batch [4/5]: loss 0.03490469232201576\n",
            "Train loss: 0.08975788414841745, Train accuracy: 0.9672162532806396\n",
            "Val loss: 0.849623701069504, Val accuracy: 0.5625\n",
            "Test loss: 0.34752931594848635, Test accuracy: 0.8653846383094788\n",
            "\n",
            "=============== Epoch: 38\n",
            "train batch [40/41]: loss 0.07511716336011887\n",
            "val batch [3/4]: loss 0.049953386187553406\n",
            "test batch [4/5]: loss 0.03740421310067177\n",
            "Train loss: 0.0827032799219213, Train accuracy: 0.9714339971542358\n",
            "Val loss: 0.6393114287639037, Val accuracy: 0.625\n",
            "Test loss: 0.344696856290102, Test accuracy: 0.8685897588729858\n",
            "\n",
            "=============== Epoch: 39\n",
            "train batch [40/41]: loss 0.07853657007217407\n",
            "val batch [3/4]: loss 0.03421764820814133\n",
            "test batch [4/5]: loss 0.03049585223197937\n",
            "Train loss: 0.0830645983720698, Train accuracy: 0.9714339971542358\n",
            "Val loss: 0.77295809565112, Val accuracy: 0.5625\n",
            "Test loss: 0.3549401666969061, Test accuracy: 0.8589743971824646\n",
            "\n",
            "=============== Epoch: 40\n",
            "train batch [40/41]: loss 0.0914987251162529\n",
            "val batch [3/4]: loss 0.08029074221849442\n",
            "test batch [4/5]: loss 0.03435943275690079\n",
            "Train loss: 0.08125966496583892, Train accuracy: 0.9739263653755188\n",
            "Val loss: 0.6000352095579728, Val accuracy: 0.75\n",
            "Test loss: 0.3444830160588026, Test accuracy: 0.870192289352417\n",
            "\n",
            "=============== Epoch: 41\n",
            "train batch [40/41]: loss 0.13416214287281036\n",
            "val batch [3/4]: loss 0.0433187261223793\n",
            "test batch [4/5]: loss 0.03126784786581993\n",
            "Train loss: 0.07724090383910551, Train accuracy: 0.9725843071937561\n",
            "Val loss: 0.5994415264576674, Val accuracy: 0.6875\n",
            "Test loss: 0.34212695620954037, Test accuracy: 0.8717948794364929\n",
            "\n",
            "=============== Epoch: 42\n",
            "train batch [40/41]: loss 0.06582624465227127\n",
            "val batch [3/4]: loss 0.01933807134628296\n",
            "test batch [4/5]: loss 0.03295634314417839\n",
            "Train loss: 0.07989213243126869, Train accuracy: 0.9731594920158386\n",
            "Val loss: 0.538033863529563, Val accuracy: 0.75\n",
            "Test loss: 0.347158957272768, Test accuracy: 0.8685897588729858\n",
            "\n",
            "=============== Epoch: 43\n",
            "train batch [40/41]: loss 0.04697270318865776\n",
            "val batch [3/4]: loss 0.10185179859399796\n",
            "test batch [4/5]: loss 0.02831766940653324\n",
            "Train loss: 0.07727494972144686, Train accuracy: 0.9756518006324768\n",
            "Val loss: 0.8901133120525628, Val accuracy: 0.5625\n",
            "Test loss: 0.3549345791339874, Test accuracy: 0.870192289352417\n",
            "\n",
            "=============== Epoch: 44\n",
            "train batch [40/41]: loss 0.11735882610082626\n",
            "val batch [3/4]: loss 0.04199279099702835\n",
            "test batch [4/5]: loss 0.032354097813367844\n",
            "Train loss: 0.07925772167197088, Train accuracy: 0.9737346172332764\n",
            "Val loss: 0.6812398375477642, Val accuracy: 0.625\n",
            "Test loss: 0.34463411308825015, Test accuracy: 0.8717948794364929\n",
            "\n",
            "=============== Epoch: 45\n",
            "train batch [40/41]: loss 0.10644810646772385\n",
            "val batch [3/4]: loss 0.008059579879045486\n",
            "test batch [4/5]: loss 0.03405838459730148\n",
            "Train loss: 0.07499525786899938, Train accuracy: 0.9745014905929565\n",
            "Val loss: 0.7629052745178342, Val accuracy: 0.5625\n",
            "Test loss: 0.33599923737347126, Test accuracy: 0.8766025900840759\n",
            "\n",
            "=============== Epoch: 46\n",
            "train batch [40/41]: loss 0.06478431075811386\n",
            "val batch [3/4]: loss 0.03017585724592209\n",
            "test batch [4/5]: loss 0.028016353026032448\n",
            "Train loss: 0.0742446090571764, Train accuracy: 0.9762269854545593\n",
            "Val loss: 0.7149738683365285, Val accuracy: 0.5625\n",
            "Test loss: 0.3503785476088524, Test accuracy: 0.870192289352417\n",
            "\n",
            "=============== Epoch: 47\n",
            "train batch [40/41]: loss 0.056382060050964355\n",
            "val batch [3/4]: loss 0.009915334172546864\n",
            "test batch [4/5]: loss 0.0328700914978981\n",
            "Train loss: 0.07848319197755034, Train accuracy: 0.9727760553359985\n",
            "Val loss: 0.6721985638141632, Val accuracy: 0.625\n",
            "Test loss: 0.34001717865467074, Test accuracy: 0.8766025900840759\n",
            "\n",
            "=============== Epoch: 48\n",
            "train batch [40/41]: loss 0.049120936542749405\n",
            "val batch [3/4]: loss 0.0669916421175003\n",
            "test batch [4/5]: loss 0.030147379264235497\n",
            "Train loss: 0.0738388494383998, Train accuracy: 0.9733511805534363\n",
            "Val loss: 0.659694260917604, Val accuracy: 0.6875\n",
            "Test loss: 0.33695061281323435, Test accuracy: 0.879807710647583\n",
            "\n",
            "=============== Epoch: 49\n",
            "train batch [40/41]: loss 0.08256565779447556\n",
            "val batch [3/4]: loss 0.03518956899642944\n",
            "test batch [4/5]: loss 0.032514672726392746\n",
            "Train loss: 0.07737426032743804, Train accuracy: 0.9737346172332764\n",
            "Val loss: 0.5222926335409284, Val accuracy: 0.6875\n",
            "Test loss: 0.32649834640324116, Test accuracy: 0.884615421295166\n",
            "\n"
          ],
          "name": "stdout"
        }
      ]
    },
    {
      "cell_type": "code",
      "metadata": {
        "id": "78IkqIEdlNwB",
        "colab_type": "code",
        "colab": {}
      },
      "source": [
        ""
      ],
      "execution_count": null,
      "outputs": []
    }
  ]
}