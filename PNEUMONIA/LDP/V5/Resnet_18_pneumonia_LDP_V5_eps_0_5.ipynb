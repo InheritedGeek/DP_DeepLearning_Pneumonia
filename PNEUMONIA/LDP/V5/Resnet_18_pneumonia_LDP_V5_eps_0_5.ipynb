{
  "nbformat": 4,
  "nbformat_minor": 0,
  "metadata": {
    "kernelspec": {
      "display_name": "Python 3",
      "language": "python",
      "name": "python3"
    },
    "language_info": {
      "codemirror_mode": {
        "name": "ipython",
        "version": 3
      },
      "file_extension": ".py",
      "mimetype": "text/x-python",
      "name": "python",
      "nbconvert_exporter": "python",
      "pygments_lexer": "ipython3",
      "version": "3.8.2"
    },
    "colab": {
      "name": "Resnet_18_pneumonia_LDP_V5_eps_0_5.ipynb",
      "provenance": [],
      "collapsed_sections": [],
      "machine_shape": "hm"
    },
    "accelerator": "GPU",
    "widgets": {
      "application/vnd.jupyter.widget-state+json": {
        "b53b2d8a3f834c11b351a27a48ef48b0": {
          "model_module": "@jupyter-widgets/controls",
          "model_name": "HBoxModel",
          "state": {
            "_view_name": "HBoxView",
            "_dom_classes": [],
            "_model_name": "HBoxModel",
            "_view_module": "@jupyter-widgets/controls",
            "_model_module_version": "1.5.0",
            "_view_count": null,
            "_view_module_version": "1.5.0",
            "box_style": "",
            "layout": "IPY_MODEL_c48a9e7965f84e7995e9d0c67108911e",
            "_model_module": "@jupyter-widgets/controls",
            "children": [
              "IPY_MODEL_18f40bcdf51e449ba8d3aa9baf0ca6ee",
              "IPY_MODEL_afac5e9d2daa4038bcf03cb8aeed8ac0"
            ]
          }
        },
        "c48a9e7965f84e7995e9d0c67108911e": {
          "model_module": "@jupyter-widgets/base",
          "model_name": "LayoutModel",
          "state": {
            "_view_name": "LayoutView",
            "grid_template_rows": null,
            "right": null,
            "justify_content": null,
            "_view_module": "@jupyter-widgets/base",
            "overflow": null,
            "_model_module_version": "1.2.0",
            "_view_count": null,
            "flex_flow": null,
            "width": null,
            "min_width": null,
            "border": null,
            "align_items": null,
            "bottom": null,
            "_model_module": "@jupyter-widgets/base",
            "top": null,
            "grid_column": null,
            "overflow_y": null,
            "overflow_x": null,
            "grid_auto_flow": null,
            "grid_area": null,
            "grid_template_columns": null,
            "flex": null,
            "_model_name": "LayoutModel",
            "justify_items": null,
            "grid_row": null,
            "max_height": null,
            "align_content": null,
            "visibility": null,
            "align_self": null,
            "height": null,
            "min_height": null,
            "padding": null,
            "grid_auto_rows": null,
            "grid_gap": null,
            "max_width": null,
            "order": null,
            "_view_module_version": "1.2.0",
            "grid_template_areas": null,
            "object_position": null,
            "object_fit": null,
            "grid_auto_columns": null,
            "margin": null,
            "display": null,
            "left": null
          }
        },
        "18f40bcdf51e449ba8d3aa9baf0ca6ee": {
          "model_module": "@jupyter-widgets/controls",
          "model_name": "FloatProgressModel",
          "state": {
            "_view_name": "ProgressView",
            "style": "IPY_MODEL_1b0e85623a774ae99a08da0c01f7c585",
            "_dom_classes": [],
            "description": "100%",
            "_model_name": "FloatProgressModel",
            "bar_style": "success",
            "max": 46827520,
            "_view_module": "@jupyter-widgets/controls",
            "_model_module_version": "1.5.0",
            "value": 46827520,
            "_view_count": null,
            "_view_module_version": "1.5.0",
            "orientation": "horizontal",
            "min": 0,
            "description_tooltip": null,
            "_model_module": "@jupyter-widgets/controls",
            "layout": "IPY_MODEL_06cd1fd8280f45c58c7612f474dd6640"
          }
        },
        "afac5e9d2daa4038bcf03cb8aeed8ac0": {
          "model_module": "@jupyter-widgets/controls",
          "model_name": "HTMLModel",
          "state": {
            "_view_name": "HTMLView",
            "style": "IPY_MODEL_2a9c21e2a5634054983105370d31891f",
            "_dom_classes": [],
            "description": "",
            "_model_name": "HTMLModel",
            "placeholder": "​",
            "_view_module": "@jupyter-widgets/controls",
            "_model_module_version": "1.5.0",
            "value": " 44.7M/44.7M [02:45&lt;00:00, 284kB/s]",
            "_view_count": null,
            "_view_module_version": "1.5.0",
            "description_tooltip": null,
            "_model_module": "@jupyter-widgets/controls",
            "layout": "IPY_MODEL_8b89a5c7d095484da77dbbd3d86c90e7"
          }
        },
        "1b0e85623a774ae99a08da0c01f7c585": {
          "model_module": "@jupyter-widgets/controls",
          "model_name": "ProgressStyleModel",
          "state": {
            "_view_name": "StyleView",
            "_model_name": "ProgressStyleModel",
            "description_width": "initial",
            "_view_module": "@jupyter-widgets/base",
            "_model_module_version": "1.5.0",
            "_view_count": null,
            "_view_module_version": "1.2.0",
            "bar_color": null,
            "_model_module": "@jupyter-widgets/controls"
          }
        },
        "06cd1fd8280f45c58c7612f474dd6640": {
          "model_module": "@jupyter-widgets/base",
          "model_name": "LayoutModel",
          "state": {
            "_view_name": "LayoutView",
            "grid_template_rows": null,
            "right": null,
            "justify_content": null,
            "_view_module": "@jupyter-widgets/base",
            "overflow": null,
            "_model_module_version": "1.2.0",
            "_view_count": null,
            "flex_flow": null,
            "width": null,
            "min_width": null,
            "border": null,
            "align_items": null,
            "bottom": null,
            "_model_module": "@jupyter-widgets/base",
            "top": null,
            "grid_column": null,
            "overflow_y": null,
            "overflow_x": null,
            "grid_auto_flow": null,
            "grid_area": null,
            "grid_template_columns": null,
            "flex": null,
            "_model_name": "LayoutModel",
            "justify_items": null,
            "grid_row": null,
            "max_height": null,
            "align_content": null,
            "visibility": null,
            "align_self": null,
            "height": null,
            "min_height": null,
            "padding": null,
            "grid_auto_rows": null,
            "grid_gap": null,
            "max_width": null,
            "order": null,
            "_view_module_version": "1.2.0",
            "grid_template_areas": null,
            "object_position": null,
            "object_fit": null,
            "grid_auto_columns": null,
            "margin": null,
            "display": null,
            "left": null
          }
        },
        "2a9c21e2a5634054983105370d31891f": {
          "model_module": "@jupyter-widgets/controls",
          "model_name": "DescriptionStyleModel",
          "state": {
            "_view_name": "StyleView",
            "_model_name": "DescriptionStyleModel",
            "description_width": "",
            "_view_module": "@jupyter-widgets/base",
            "_model_module_version": "1.5.0",
            "_view_count": null,
            "_view_module_version": "1.2.0",
            "_model_module": "@jupyter-widgets/controls"
          }
        },
        "8b89a5c7d095484da77dbbd3d86c90e7": {
          "model_module": "@jupyter-widgets/base",
          "model_name": "LayoutModel",
          "state": {
            "_view_name": "LayoutView",
            "grid_template_rows": null,
            "right": null,
            "justify_content": null,
            "_view_module": "@jupyter-widgets/base",
            "overflow": null,
            "_model_module_version": "1.2.0",
            "_view_count": null,
            "flex_flow": null,
            "width": null,
            "min_width": null,
            "border": null,
            "align_items": null,
            "bottom": null,
            "_model_module": "@jupyter-widgets/base",
            "top": null,
            "grid_column": null,
            "overflow_y": null,
            "overflow_x": null,
            "grid_auto_flow": null,
            "grid_area": null,
            "grid_template_columns": null,
            "flex": null,
            "_model_name": "LayoutModel",
            "justify_items": null,
            "grid_row": null,
            "max_height": null,
            "align_content": null,
            "visibility": null,
            "align_self": null,
            "height": null,
            "min_height": null,
            "padding": null,
            "grid_auto_rows": null,
            "grid_gap": null,
            "max_width": null,
            "order": null,
            "_view_module_version": "1.2.0",
            "grid_template_areas": null,
            "object_position": null,
            "object_fit": null,
            "grid_auto_columns": null,
            "margin": null,
            "display": null,
            "left": null
          }
        }
      }
    }
  },
  "cells": [
    {
      "cell_type": "code",
      "metadata": {
        "id": "tJxejS4BhtfA",
        "colab_type": "code",
        "colab": {
          "base_uri": "https://localhost:8080/",
          "height": 357
        },
        "outputId": "af383cb9-c60d-4d1c-b0d6-cac15ec83f5b"
      },
      "source": [
        "!nvidia-smi"
      ],
      "execution_count": 1,
      "outputs": [
        {
          "output_type": "stream",
          "text": [
            "Sun Aug 23 10:13:31 2020       \n",
            "+-----------------------------------------------------------------------------+\n",
            "| NVIDIA-SMI 450.57       Driver Version: 418.67       CUDA Version: 10.1     |\n",
            "|-------------------------------+----------------------+----------------------+\n",
            "| GPU  Name        Persistence-M| Bus-Id        Disp.A | Volatile Uncorr. ECC |\n",
            "| Fan  Temp  Perf  Pwr:Usage/Cap|         Memory-Usage | GPU-Util  Compute M. |\n",
            "|                               |                      |               MIG M. |\n",
            "|===============================+======================+======================|\n",
            "|   0  Tesla P100-PCIE...  Off  | 00000000:00:04.0 Off |                    0 |\n",
            "| N/A   34C    P0    26W / 250W |      0MiB / 16280MiB |      0%      Default |\n",
            "|                               |                      |                 ERR! |\n",
            "+-------------------------------+----------------------+----------------------+\n",
            "                                                                               \n",
            "+-----------------------------------------------------------------------------+\n",
            "| Processes:                                                                  |\n",
            "|  GPU   GI   CI        PID   Type   Process name                  GPU Memory |\n",
            "|        ID   ID                                                   Usage      |\n",
            "|=============================================================================|\n",
            "|  No running processes found                                                 |\n",
            "+-----------------------------------------------------------------------------+\n"
          ],
          "name": "stdout"
        }
      ]
    },
    {
      "cell_type": "code",
      "metadata": {
        "id": "KqzKNkpfXrM7",
        "colab_type": "code",
        "colab": {
          "base_uri": "https://localhost:8080/",
          "height": 122
        },
        "outputId": "6ac103f0-f9f8-4507-a230-3efe8d61392f"
      },
      "source": [
        "from google.colab import drive\n",
        "drive.mount('/content/drive', force_remount=True)"
      ],
      "execution_count": 2,
      "outputs": [
        {
          "output_type": "stream",
          "text": [
            "Go to this URL in a browser: https://accounts.google.com/o/oauth2/auth?client_id=947318989803-6bn6qk8qdgf4n4g3pfee6491hc0brc4i.apps.googleusercontent.com&redirect_uri=urn%3aietf%3awg%3aoauth%3a2.0%3aoob&scope=email%20https%3a%2f%2fwww.googleapis.com%2fauth%2fdocs.test%20https%3a%2f%2fwww.googleapis.com%2fauth%2fdrive%20https%3a%2f%2fwww.googleapis.com%2fauth%2fdrive.photos.readonly%20https%3a%2f%2fwww.googleapis.com%2fauth%2fpeopleapi.readonly&response_type=code\n",
            "\n",
            "Enter your authorization code:\n",
            "··········\n",
            "Mounted at /content/drive\n"
          ],
          "name": "stdout"
        }
      ]
    },
    {
      "cell_type": "code",
      "metadata": {
        "id": "5tkHSteTnOUV",
        "colab_type": "code",
        "colab": {}
      },
      "source": [
        "import torch \n",
        "import torchvision\n",
        "import numpy as np \n",
        "import random\n",
        "import os\n",
        "import glob\n",
        "import copy\n",
        "from tqdm import tqdm as tqdm\n",
        "from torchsummary import summary\n",
        "\n",
        "seed = 42\n",
        "random.seed(seed)\n",
        "os.environ[\"PYTHONHASHSEED\"] = str(seed)\n",
        "np.random.seed(seed)\n",
        "torch.cuda.manual_seed(seed)\n",
        "torch.cuda.manual_seed_all(seed)\n",
        "torch.backends.cudnn.deterministic = True\n",
        "torch.manual_seed(seed)\n",
        "\n",
        "best_model = None\n",
        "best_loss = 0.\n",
        "best_test_loss = 0.\n",
        "best_test_acc = 0.\n",
        "best_pred_labels = []\n",
        "true_labels = []\n",
        "\n",
        "pred_labels = []\n",
        "test_acc = 0.\n",
        "test_loss = 0.\n",
        "\n",
        "# device = torch.device('cuda:0')\n",
        "device = torch.device('cuda' if torch.cuda.is_available() else 'cpu')"
      ],
      "execution_count": 3,
      "outputs": []
    },
    {
      "cell_type": "code",
      "metadata": {
        "id": "xjX3GQUHnOUh",
        "colab_type": "code",
        "colab": {
          "base_uri": "https://localhost:8080/",
          "height": 85
        },
        "outputId": "4de24d03-a08d-4e21-fec1-59fc487de3fa"
      },
      "source": [
        "# train class samples from DP data\n",
        "print('Normal Samples in Training Data')\n",
        "!ls -l /content/drive/\"My Drive\"/\"DP Data\"/\"0.5\"/train/NORMAL | wc -l\n",
        "print('Pneumonia Samples in Training Data')\n",
        "!ls -l /content/drive/\"My Drive\"/\"DP Data\"/\"0.5\"/train/PNEUMONIA | wc -l"
      ],
      "execution_count": 4,
      "outputs": [
        {
          "output_type": "stream",
          "text": [
            "Normal Samples in Training Data\n",
            "1342\n",
            "Pneumonia Samples in Training Data\n",
            "3885\n"
          ],
          "name": "stdout"
        }
      ]
    },
    {
      "cell_type": "code",
      "metadata": {
        "id": "YFPQXljuwkHL",
        "colab_type": "code",
        "colab": {}
      },
      "source": [
        "# Copying DP training Data with epsilon 0.5 to local to process/train faster\n",
        "\n",
        "!cp -R /content/drive/\"My Drive\"/\"DP Data\"/\"0.5\"/train ./"
      ],
      "execution_count": 5,
      "outputs": []
    },
    {
      "cell_type": "code",
      "metadata": {
        "id": "2VO22zvswkPf",
        "colab_type": "code",
        "colab": {}
      },
      "source": [
        ""
      ],
      "execution_count": null,
      "outputs": []
    },
    {
      "cell_type": "code",
      "metadata": {
        "id": "XOR0OlpIbDFA",
        "colab_type": "code",
        "colab": {
          "base_uri": "https://localhost:8080/",
          "height": 85
        },
        "outputId": "6178048d-034f-45e1-ca5b-14b684e71d19"
      },
      "source": [
        "# Validation samples from Non DP data\n",
        "print('Normal Samples in Validation Data')\n",
        "!ls -l /content/drive/\"My Drive\"/NDP_Data/chest_xray/val/NORMAL | wc -l\n",
        "print('Pneumonia Samples in Validation Data')\n",
        "!ls -l /content/drive/\"My Drive\"/NDP_Data/chest_xray/val/PNEUMONIA | wc -l"
      ],
      "execution_count": 6,
      "outputs": [
        {
          "output_type": "stream",
          "text": [
            "Normal Samples in Validation Data\n",
            "9\n",
            "Pneumonia Samples in Validation Data\n",
            "9\n"
          ],
          "name": "stdout"
        }
      ]
    },
    {
      "cell_type": "code",
      "metadata": {
        "id": "qyF-WcKiwoN9",
        "colab_type": "code",
        "colab": {}
      },
      "source": [
        "# Copying to Non DP Validation data to local to process/run faster during validation inference\n",
        "\n",
        "!cp -R /content/drive/\"My Drive\"/NDP_Data/chest_xray/val ./"
      ],
      "execution_count": 7,
      "outputs": []
    },
    {
      "cell_type": "code",
      "metadata": {
        "id": "A1h9SY7Xwoic",
        "colab_type": "code",
        "colab": {}
      },
      "source": [
        ""
      ],
      "execution_count": null,
      "outputs": []
    },
    {
      "cell_type": "code",
      "metadata": {
        "id": "z8YxWrN7nOUo",
        "colab_type": "code",
        "colab": {
          "base_uri": "https://localhost:8080/",
          "height": 85
        },
        "outputId": "b69f0dac-fb2c-4505-8ff2-bc398f458565"
      },
      "source": [
        "# Testing samples from Non DP data\n",
        "print('Normal Samples in Testing Data')\n",
        "!ls -l /content/drive/\"My Drive\"/NDP_Data/chest_xray/test/NORMAL | wc -l\n",
        "print('Pneumonia Samples in Testing Data')\n",
        "!ls -l /content/drive/\"My Drive\"/NDP_Data/chest_xray/test/PNEUMONIA | wc -l"
      ],
      "execution_count": 8,
      "outputs": [
        {
          "output_type": "stream",
          "text": [
            "Normal Samples in Testing Data\n",
            "235\n",
            "Pneumonia Samples in Testing Data\n",
            "391\n"
          ],
          "name": "stdout"
        }
      ]
    },
    {
      "cell_type": "code",
      "metadata": {
        "id": "WLSyA-ptwpW9",
        "colab_type": "code",
        "colab": {}
      },
      "source": [
        "# Copying to Non DP Validation data to local to process/run faster during testing inference\n",
        "\n",
        "!cp -R /content/drive/\"My Drive\"/NDP_Data/chest_xray/test ./"
      ],
      "execution_count": 9,
      "outputs": []
    },
    {
      "cell_type": "code",
      "metadata": {
        "id": "04TiSSA8wpfs",
        "colab_type": "code",
        "colab": {}
      },
      "source": [
        ""
      ],
      "execution_count": null,
      "outputs": []
    },
    {
      "cell_type": "code",
      "metadata": {
        "id": "39ZenXsiw8mn",
        "colab_type": "code",
        "colab": {
          "base_uri": "https://localhost:8080/",
          "height": 119
        },
        "outputId": "0347f754-86f3-4447-8a56-943ce9eb0a95"
      },
      "source": [
        "!ls -lrt"
      ],
      "execution_count": 10,
      "outputs": [
        {
          "output_type": "stream",
          "text": [
            "total 20\n",
            "drwxr-xr-x 1 root root 4096 Jul 30 16:30 sample_data\n",
            "drwx------ 4 root root 4096 Aug 23 10:14 drive\n",
            "dr-x------ 4 root root 4096 Aug 23 11:17 train\n",
            "drwx------ 4 root root 4096 Aug 23 11:17 val\n",
            "drwx------ 4 root root 4096 Aug 23 11:20 test\n"
          ],
          "name": "stdout"
        }
      ]
    },
    {
      "cell_type": "code",
      "metadata": {
        "id": "Yhu7vi8Nw-N8",
        "colab_type": "code",
        "colab": {
          "base_uri": "https://localhost:8080/",
          "height": 51
        },
        "outputId": "838bbe74-da27-43aa-aaf4-d46f90ff9e39"
      },
      "source": [
        "!ls -l ./train/NORMAL | wc -l\n",
        "!ls -l ./train/PNEUMONIA | wc -l"
      ],
      "execution_count": 11,
      "outputs": [
        {
          "output_type": "stream",
          "text": [
            "1342\n",
            "3885\n"
          ],
          "name": "stdout"
        }
      ]
    },
    {
      "cell_type": "code",
      "metadata": {
        "id": "TMYBB-DRw-ZQ",
        "colab_type": "code",
        "colab": {
          "base_uri": "https://localhost:8080/",
          "height": 51
        },
        "outputId": "3db9cb2a-01c5-4c4b-9f32-8d6efad3f58a"
      },
      "source": [
        "!ls -l ./val/NORMAL | wc -l\n",
        "!ls -l ./val/PNEUMONIA | wc -l"
      ],
      "execution_count": 12,
      "outputs": [
        {
          "output_type": "stream",
          "text": [
            "9\n",
            "9\n"
          ],
          "name": "stdout"
        }
      ]
    },
    {
      "cell_type": "code",
      "metadata": {
        "id": "96H-CviAw-lT",
        "colab_type": "code",
        "colab": {
          "base_uri": "https://localhost:8080/",
          "height": 51
        },
        "outputId": "37aae802-5280-4703-8ced-ce708ea8c801"
      },
      "source": [
        "!ls -l ./test/NORMAL | wc -l\n",
        "!ls -l ./test/PNEUMONIA | wc -l"
      ],
      "execution_count": 13,
      "outputs": [
        {
          "output_type": "stream",
          "text": [
            "235\n",
            "391\n"
          ],
          "name": "stdout"
        }
      ]
    },
    {
      "cell_type": "code",
      "metadata": {
        "id": "qcDfd0KBw-sp",
        "colab_type": "code",
        "colab": {}
      },
      "source": [
        ""
      ],
      "execution_count": null,
      "outputs": []
    },
    {
      "cell_type": "code",
      "metadata": {
        "id": "LPDTSXKWnOUw",
        "colab_type": "code",
        "colab": {}
      },
      "source": [
        "class ChestXRay(torchvision.datasets.ImageFolder):\n",
        "    def __getitem__(self, index):\n",
        "        sample, target = super().__getitem__(index)\n",
        "        path, _ = self.samples[index]\n",
        "        \n",
        "        target = 0\n",
        "        if 'PNEUMONIA' in path:\n",
        "            target = 1\n",
        "        \n",
        "        return sample, target\n",
        "       "
      ],
      "execution_count": 14,
      "outputs": []
    },
    {
      "cell_type": "code",
      "metadata": {
        "id": "J-_xESJtnOU0",
        "colab_type": "code",
        "colab": {}
      },
      "source": [
        "train_transforms = torchvision.transforms.Compose([\n",
        "    torchvision.transforms.Resize(256),\n",
        "    torchvision.transforms.RandomAffine(0, translate=(0, 0.1), scale=(1, 1.10)),\n",
        "    torchvision.transforms.CenterCrop(224),\n",
        "    torchvision.transforms.ToTensor(),\n",
        "    torchvision.transforms.Normalize([0.485, 0.456, 0.406], [0.229, 0.224, 0.225])\n",
        "])\n",
        "\n",
        "transforms = torchvision.transforms.Compose([\n",
        "    torchvision.transforms.Resize(256),\n",
        "    torchvision.transforms.CenterCrop(224),\n",
        "    torchvision.transforms.ToTensor(),\n",
        "    torchvision.transforms.Normalize([0.485, 0.456, 0.406], [0.229, 0.224, 0.225]),\n",
        "])\n",
        "\n",
        "train_dataset = ChestXRay('./train/', transform=train_transforms)\n",
        "val_dataset = ChestXRay('./val/', transform=train_transforms)\n",
        "test_dataset = ChestXRay('./test/', transform=transforms)\n",
        "\n",
        "train_dataloader = torch.utils.data.DataLoader(train_dataset, batch_size=128, shuffle=True)\n",
        "val_dataloader = torch.utils.data.DataLoader(val_dataset, batch_size=4, shuffle=False)\n",
        "test_dataloader = torch.utils.data.DataLoader(test_dataset, batch_size=128, shuffle=False)"
      ],
      "execution_count": 15,
      "outputs": []
    },
    {
      "cell_type": "code",
      "metadata": {
        "id": "Ee19YDP1nOVA",
        "colab_type": "code",
        "colab": {
          "base_uri": "https://localhost:8080/",
          "height": 1000,
          "referenced_widgets": [
            "b53b2d8a3f834c11b351a27a48ef48b0",
            "c48a9e7965f84e7995e9d0c67108911e",
            "18f40bcdf51e449ba8d3aa9baf0ca6ee",
            "afac5e9d2daa4038bcf03cb8aeed8ac0",
            "1b0e85623a774ae99a08da0c01f7c585",
            "06cd1fd8280f45c58c7612f474dd6640",
            "2a9c21e2a5634054983105370d31891f",
            "8b89a5c7d095484da77dbbd3d86c90e7"
          ]
        },
        "outputId": "74cc7b1f-b0da-41d6-c873-3a041287e3c1"
      },
      "source": [
        "model = torchvision.models.resnet18(pretrained=True)\n",
        "model.fc = torch.nn.Linear(in_features=512, out_features=2)\n",
        "model = model.to(device)\n",
        "model"
      ],
      "execution_count": 16,
      "outputs": [
        {
          "output_type": "stream",
          "text": [
            "Downloading: \"https://download.pytorch.org/models/resnet18-5c106cde.pth\" to /root/.cache/torch/hub/checkpoints/resnet18-5c106cde.pth\n"
          ],
          "name": "stderr"
        },
        {
          "output_type": "display_data",
          "data": {
            "application/vnd.jupyter.widget-view+json": {
              "model_id": "b53b2d8a3f834c11b351a27a48ef48b0",
              "version_minor": 0,
              "version_major": 2
            },
            "text/plain": [
              "HBox(children=(FloatProgress(value=0.0, max=46827520.0), HTML(value='')))"
            ]
          },
          "metadata": {
            "tags": []
          }
        },
        {
          "output_type": "stream",
          "text": [
            "\n"
          ],
          "name": "stdout"
        },
        {
          "output_type": "execute_result",
          "data": {
            "text/plain": [
              "ResNet(\n",
              "  (conv1): Conv2d(3, 64, kernel_size=(7, 7), stride=(2, 2), padding=(3, 3), bias=False)\n",
              "  (bn1): BatchNorm2d(64, eps=1e-05, momentum=0.1, affine=True, track_running_stats=True)\n",
              "  (relu): ReLU(inplace=True)\n",
              "  (maxpool): MaxPool2d(kernel_size=3, stride=2, padding=1, dilation=1, ceil_mode=False)\n",
              "  (layer1): Sequential(\n",
              "    (0): BasicBlock(\n",
              "      (conv1): Conv2d(64, 64, kernel_size=(3, 3), stride=(1, 1), padding=(1, 1), bias=False)\n",
              "      (bn1): BatchNorm2d(64, eps=1e-05, momentum=0.1, affine=True, track_running_stats=True)\n",
              "      (relu): ReLU(inplace=True)\n",
              "      (conv2): Conv2d(64, 64, kernel_size=(3, 3), stride=(1, 1), padding=(1, 1), bias=False)\n",
              "      (bn2): BatchNorm2d(64, eps=1e-05, momentum=0.1, affine=True, track_running_stats=True)\n",
              "    )\n",
              "    (1): BasicBlock(\n",
              "      (conv1): Conv2d(64, 64, kernel_size=(3, 3), stride=(1, 1), padding=(1, 1), bias=False)\n",
              "      (bn1): BatchNorm2d(64, eps=1e-05, momentum=0.1, affine=True, track_running_stats=True)\n",
              "      (relu): ReLU(inplace=True)\n",
              "      (conv2): Conv2d(64, 64, kernel_size=(3, 3), stride=(1, 1), padding=(1, 1), bias=False)\n",
              "      (bn2): BatchNorm2d(64, eps=1e-05, momentum=0.1, affine=True, track_running_stats=True)\n",
              "    )\n",
              "  )\n",
              "  (layer2): Sequential(\n",
              "    (0): BasicBlock(\n",
              "      (conv1): Conv2d(64, 128, kernel_size=(3, 3), stride=(2, 2), padding=(1, 1), bias=False)\n",
              "      (bn1): BatchNorm2d(128, eps=1e-05, momentum=0.1, affine=True, track_running_stats=True)\n",
              "      (relu): ReLU(inplace=True)\n",
              "      (conv2): Conv2d(128, 128, kernel_size=(3, 3), stride=(1, 1), padding=(1, 1), bias=False)\n",
              "      (bn2): BatchNorm2d(128, eps=1e-05, momentum=0.1, affine=True, track_running_stats=True)\n",
              "      (downsample): Sequential(\n",
              "        (0): Conv2d(64, 128, kernel_size=(1, 1), stride=(2, 2), bias=False)\n",
              "        (1): BatchNorm2d(128, eps=1e-05, momentum=0.1, affine=True, track_running_stats=True)\n",
              "      )\n",
              "    )\n",
              "    (1): BasicBlock(\n",
              "      (conv1): Conv2d(128, 128, kernel_size=(3, 3), stride=(1, 1), padding=(1, 1), bias=False)\n",
              "      (bn1): BatchNorm2d(128, eps=1e-05, momentum=0.1, affine=True, track_running_stats=True)\n",
              "      (relu): ReLU(inplace=True)\n",
              "      (conv2): Conv2d(128, 128, kernel_size=(3, 3), stride=(1, 1), padding=(1, 1), bias=False)\n",
              "      (bn2): BatchNorm2d(128, eps=1e-05, momentum=0.1, affine=True, track_running_stats=True)\n",
              "    )\n",
              "  )\n",
              "  (layer3): Sequential(\n",
              "    (0): BasicBlock(\n",
              "      (conv1): Conv2d(128, 256, kernel_size=(3, 3), stride=(2, 2), padding=(1, 1), bias=False)\n",
              "      (bn1): BatchNorm2d(256, eps=1e-05, momentum=0.1, affine=True, track_running_stats=True)\n",
              "      (relu): ReLU(inplace=True)\n",
              "      (conv2): Conv2d(256, 256, kernel_size=(3, 3), stride=(1, 1), padding=(1, 1), bias=False)\n",
              "      (bn2): BatchNorm2d(256, eps=1e-05, momentum=0.1, affine=True, track_running_stats=True)\n",
              "      (downsample): Sequential(\n",
              "        (0): Conv2d(128, 256, kernel_size=(1, 1), stride=(2, 2), bias=False)\n",
              "        (1): BatchNorm2d(256, eps=1e-05, momentum=0.1, affine=True, track_running_stats=True)\n",
              "      )\n",
              "    )\n",
              "    (1): BasicBlock(\n",
              "      (conv1): Conv2d(256, 256, kernel_size=(3, 3), stride=(1, 1), padding=(1, 1), bias=False)\n",
              "      (bn1): BatchNorm2d(256, eps=1e-05, momentum=0.1, affine=True, track_running_stats=True)\n",
              "      (relu): ReLU(inplace=True)\n",
              "      (conv2): Conv2d(256, 256, kernel_size=(3, 3), stride=(1, 1), padding=(1, 1), bias=False)\n",
              "      (bn2): BatchNorm2d(256, eps=1e-05, momentum=0.1, affine=True, track_running_stats=True)\n",
              "    )\n",
              "  )\n",
              "  (layer4): Sequential(\n",
              "    (0): BasicBlock(\n",
              "      (conv1): Conv2d(256, 512, kernel_size=(3, 3), stride=(2, 2), padding=(1, 1), bias=False)\n",
              "      (bn1): BatchNorm2d(512, eps=1e-05, momentum=0.1, affine=True, track_running_stats=True)\n",
              "      (relu): ReLU(inplace=True)\n",
              "      (conv2): Conv2d(512, 512, kernel_size=(3, 3), stride=(1, 1), padding=(1, 1), bias=False)\n",
              "      (bn2): BatchNorm2d(512, eps=1e-05, momentum=0.1, affine=True, track_running_stats=True)\n",
              "      (downsample): Sequential(\n",
              "        (0): Conv2d(256, 512, kernel_size=(1, 1), stride=(2, 2), bias=False)\n",
              "        (1): BatchNorm2d(512, eps=1e-05, momentum=0.1, affine=True, track_running_stats=True)\n",
              "      )\n",
              "    )\n",
              "    (1): BasicBlock(\n",
              "      (conv1): Conv2d(512, 512, kernel_size=(3, 3), stride=(1, 1), padding=(1, 1), bias=False)\n",
              "      (bn1): BatchNorm2d(512, eps=1e-05, momentum=0.1, affine=True, track_running_stats=True)\n",
              "      (relu): ReLU(inplace=True)\n",
              "      (conv2): Conv2d(512, 512, kernel_size=(3, 3), stride=(1, 1), padding=(1, 1), bias=False)\n",
              "      (bn2): BatchNorm2d(512, eps=1e-05, momentum=0.1, affine=True, track_running_stats=True)\n",
              "    )\n",
              "  )\n",
              "  (avgpool): AdaptiveAvgPool2d(output_size=(1, 1))\n",
              "  (fc): Linear(in_features=512, out_features=2, bias=True)\n",
              ")"
            ]
          },
          "metadata": {
            "tags": []
          },
          "execution_count": 16
        }
      ]
    },
    {
      "cell_type": "code",
      "metadata": {
        "id": "61IVJvrmr7th",
        "colab_type": "code",
        "colab": {
          "base_uri": "https://localhost:8080/",
          "height": 1000
        },
        "outputId": "8c9ff94d-9241-4609-a887-c825979ef066"
      },
      "source": [
        "summary(model.cuda(), [(3,224,224,)])"
      ],
      "execution_count": 17,
      "outputs": [
        {
          "output_type": "stream",
          "text": [
            "----------------------------------------------------------------\n",
            "        Layer (type)               Output Shape         Param #\n",
            "================================================================\n",
            "            Conv2d-1         [-1, 64, 112, 112]           9,408\n",
            "       BatchNorm2d-2         [-1, 64, 112, 112]             128\n",
            "              ReLU-3         [-1, 64, 112, 112]               0\n",
            "         MaxPool2d-4           [-1, 64, 56, 56]               0\n",
            "            Conv2d-5           [-1, 64, 56, 56]          36,864\n",
            "       BatchNorm2d-6           [-1, 64, 56, 56]             128\n",
            "              ReLU-7           [-1, 64, 56, 56]               0\n",
            "            Conv2d-8           [-1, 64, 56, 56]          36,864\n",
            "       BatchNorm2d-9           [-1, 64, 56, 56]             128\n",
            "             ReLU-10           [-1, 64, 56, 56]               0\n",
            "       BasicBlock-11           [-1, 64, 56, 56]               0\n",
            "           Conv2d-12           [-1, 64, 56, 56]          36,864\n",
            "      BatchNorm2d-13           [-1, 64, 56, 56]             128\n",
            "             ReLU-14           [-1, 64, 56, 56]               0\n",
            "           Conv2d-15           [-1, 64, 56, 56]          36,864\n",
            "      BatchNorm2d-16           [-1, 64, 56, 56]             128\n",
            "             ReLU-17           [-1, 64, 56, 56]               0\n",
            "       BasicBlock-18           [-1, 64, 56, 56]               0\n",
            "           Conv2d-19          [-1, 128, 28, 28]          73,728\n",
            "      BatchNorm2d-20          [-1, 128, 28, 28]             256\n",
            "             ReLU-21          [-1, 128, 28, 28]               0\n",
            "           Conv2d-22          [-1, 128, 28, 28]         147,456\n",
            "      BatchNorm2d-23          [-1, 128, 28, 28]             256\n",
            "           Conv2d-24          [-1, 128, 28, 28]           8,192\n",
            "      BatchNorm2d-25          [-1, 128, 28, 28]             256\n",
            "             ReLU-26          [-1, 128, 28, 28]               0\n",
            "       BasicBlock-27          [-1, 128, 28, 28]               0\n",
            "           Conv2d-28          [-1, 128, 28, 28]         147,456\n",
            "      BatchNorm2d-29          [-1, 128, 28, 28]             256\n",
            "             ReLU-30          [-1, 128, 28, 28]               0\n",
            "           Conv2d-31          [-1, 128, 28, 28]         147,456\n",
            "      BatchNorm2d-32          [-1, 128, 28, 28]             256\n",
            "             ReLU-33          [-1, 128, 28, 28]               0\n",
            "       BasicBlock-34          [-1, 128, 28, 28]               0\n",
            "           Conv2d-35          [-1, 256, 14, 14]         294,912\n",
            "      BatchNorm2d-36          [-1, 256, 14, 14]             512\n",
            "             ReLU-37          [-1, 256, 14, 14]               0\n",
            "           Conv2d-38          [-1, 256, 14, 14]         589,824\n",
            "      BatchNorm2d-39          [-1, 256, 14, 14]             512\n",
            "           Conv2d-40          [-1, 256, 14, 14]          32,768\n",
            "      BatchNorm2d-41          [-1, 256, 14, 14]             512\n",
            "             ReLU-42          [-1, 256, 14, 14]               0\n",
            "       BasicBlock-43          [-1, 256, 14, 14]               0\n",
            "           Conv2d-44          [-1, 256, 14, 14]         589,824\n",
            "      BatchNorm2d-45          [-1, 256, 14, 14]             512\n",
            "             ReLU-46          [-1, 256, 14, 14]               0\n",
            "           Conv2d-47          [-1, 256, 14, 14]         589,824\n",
            "      BatchNorm2d-48          [-1, 256, 14, 14]             512\n",
            "             ReLU-49          [-1, 256, 14, 14]               0\n",
            "       BasicBlock-50          [-1, 256, 14, 14]               0\n",
            "           Conv2d-51            [-1, 512, 7, 7]       1,179,648\n",
            "      BatchNorm2d-52            [-1, 512, 7, 7]           1,024\n",
            "             ReLU-53            [-1, 512, 7, 7]               0\n",
            "           Conv2d-54            [-1, 512, 7, 7]       2,359,296\n",
            "      BatchNorm2d-55            [-1, 512, 7, 7]           1,024\n",
            "           Conv2d-56            [-1, 512, 7, 7]         131,072\n",
            "      BatchNorm2d-57            [-1, 512, 7, 7]           1,024\n",
            "             ReLU-58            [-1, 512, 7, 7]               0\n",
            "       BasicBlock-59            [-1, 512, 7, 7]               0\n",
            "           Conv2d-60            [-1, 512, 7, 7]       2,359,296\n",
            "      BatchNorm2d-61            [-1, 512, 7, 7]           1,024\n",
            "             ReLU-62            [-1, 512, 7, 7]               0\n",
            "           Conv2d-63            [-1, 512, 7, 7]       2,359,296\n",
            "      BatchNorm2d-64            [-1, 512, 7, 7]           1,024\n",
            "             ReLU-65            [-1, 512, 7, 7]               0\n",
            "       BasicBlock-66            [-1, 512, 7, 7]               0\n",
            "AdaptiveAvgPool2d-67            [-1, 512, 1, 1]               0\n",
            "           Linear-68                    [-1, 2]           1,026\n",
            "================================================================\n",
            "Total params: 11,177,538\n",
            "Trainable params: 11,177,538\n",
            "Non-trainable params: 0\n",
            "----------------------------------------------------------------\n",
            "Input size (MB): 0.57\n",
            "Forward/backward pass size (MB): 62.79\n",
            "Params size (MB): 42.64\n",
            "Estimated Total Size (MB): 106.00\n",
            "----------------------------------------------------------------\n"
          ],
          "name": "stdout"
        }
      ]
    },
    {
      "cell_type": "code",
      "metadata": {
        "id": "VhXhlzFK2Dl1",
        "colab_type": "code",
        "colab": {}
      },
      "source": [
        ""
      ],
      "execution_count": null,
      "outputs": []
    },
    {
      "cell_type": "code",
      "metadata": {
        "id": "V5U-QpQHr7wE",
        "colab_type": "code",
        "colab": {}
      },
      "source": [
        ""
      ],
      "execution_count": null,
      "outputs": []
    },
    {
      "cell_type": "code",
      "metadata": {
        "id": "VAoD68pMf5oy",
        "colab_type": "code",
        "colab": {}
      },
      "source": [
        "def run_epoch(model, dataloader, criterion, optimizer, lr_scheduler, phase='train'):\n",
        "    epoch_loss = 0.\n",
        "    epoch_acc = 0.\n",
        "    \n",
        "    batch_num = 0.\n",
        "    samples_num = 0.\n",
        "    \n",
        "    true_labels = []\n",
        "    pred_labels = []\n",
        "    \n",
        "    for batch_idx, (data, labels) in enumerate(dataloader):\n",
        "        data, labels = data.to(device), labels.to(device)\n",
        "        optimizer.zero_grad()\n",
        "        if phase == 'train':\n",
        "            model.train()\n",
        "        else:\n",
        "            model.eval()\n",
        "        with torch.set_grad_enabled(phase == 'train'):\n",
        "            outputs = model(data)\n",
        "            _, preds = torch.max(outputs, 1)\n",
        "            loss = criterion(outputs, labels)\n",
        "        \n",
        "        true_labels.append(labels.detach().cpu())\n",
        "        pred_labels.append(preds.detach().cpu())\n",
        "        \n",
        "        if phase == 'train':\n",
        "            loss.backward()\n",
        "            optimizer.step()\n",
        "        \n",
        "        print(f'\\r{phase} batch [{batch_idx}/{len(dataloader)}]: loss {loss.item()}', end='', flush=True)\n",
        "        epoch_loss += loss.detach().cpu().item()\n",
        "        epoch_acc += torch.sum(preds == labels.data)\n",
        "        batch_num += 1\n",
        "        samples_num += len(labels)\n",
        "    \n",
        "    print()\n",
        "    return epoch_loss / batch_num, epoch_acc / samples_num, torch.cat(true_labels).numpy(), torch.cat(pred_labels).numpy()"
      ],
      "execution_count": 18,
      "outputs": []
    },
    {
      "cell_type": "code",
      "metadata": {
        "id": "68w_Ljsff9wO",
        "colab_type": "code",
        "colab": {}
      },
      "source": [
        ""
      ],
      "execution_count": null,
      "outputs": []
    },
    {
      "cell_type": "code",
      "metadata": {
        "id": "x7qXbQPUgRnw",
        "colab_type": "code",
        "colab": {}
      },
      "source": [
        ""
      ],
      "execution_count": null,
      "outputs": []
    },
    {
      "cell_type": "code",
      "metadata": {
        "id": "MCUrp4S-gRqP",
        "colab_type": "code",
        "colab": {}
      },
      "source": [
        "criterion = torch.nn.CrossEntropyLoss()\n",
        "#optimizer = torch.optim.SGD(model.parameters(), lr=1e-2, weight_decay=0.001)\n",
        "optimizer = torch.optim.SGD([{'params': [param for name, param in model.named_parameters() if 'fc' not in name]}, {'params': model.fc.parameters(), 'lr': 1e-3}], lr=5e-4, weight_decay=0.001)\n",
        "lr_scheduler = torch.optim.lr_scheduler.ReduceLROnPlateau(optimizer, patience=3, verbose=True)"
      ],
      "execution_count": 19,
      "outputs": []
    },
    {
      "cell_type": "code",
      "metadata": {
        "id": "iAn4FWp3nOVR",
        "colab_type": "code",
        "colab": {
          "base_uri": "https://localhost:8080/",
          "height": 1000
        },
        "outputId": "3d6b47b8-7a51-4382-d4bd-5f4efa583490"
      },
      "source": [
        "train_losses = []\n",
        "val_losses = []\n",
        "test_losses = []\n",
        "output_folder = '/content/drive/My Drive/Dataset/b/'\n",
        "for epoch in range(50):\n",
        "    print('='*15, f'Epoch: {epoch}')\n",
        "    \n",
        "    train_loss, train_acc, _, _ = run_epoch(model, train_dataloader, criterion, optimizer, lr_scheduler)\n",
        "    val_loss, val_acc, _, _ = run_epoch(model, val_dataloader, criterion, optimizer, lr_scheduler, phase='val')\n",
        "    test_loss, test_acc, true_labels, pred_labels = run_epoch(model, test_dataloader, criterion, optimizer, lr_scheduler, phase='test')\n",
        "    \n",
        "    print(f'Train loss: {train_loss}, Train accuracy: {train_acc}')\n",
        "    print(f'Val loss: {val_loss}, Val accuracy: {val_acc}')\n",
        "    print(f'Test loss: {test_loss}, Test accuracy: {test_acc}')\n",
        "    print()\n",
        "    \n",
        "    train_losses.append(train_loss)\n",
        "    val_losses.append(val_loss)\n",
        "    test_losses.append(test_loss)\n",
        "    \n",
        "    np.save(output_folder+'/train_losses',train_losses)\n",
        "    np.save(output_folder+'/val_losses',val_losses)\n",
        "    np.save(output_folder+'/test_losses',test_losses)\n",
        "    \n",
        "    torch.save({'epoch': epoch, 'model': model.state_dict()}, f'resnet34-chest-x-ray-{seed}.pt')\n",
        "    \n",
        "    if best_model is None or val_loss < best_loss:\n",
        "        best_model = copy.deepcopy(model)\n",
        "        best_loss = val_loss\n",
        "        best_test_loss = test_loss\n",
        "        best_test_acc = test_acc \n",
        "        best_pred_labels = pred_labels\n",
        "        torch.save({'epoch': epoch, 'model': model.state_dict()}, f'resnet34-chest-x-ray_ldp-best-{seed}.pt')"
      ],
      "execution_count": 20,
      "outputs": [
        {
          "output_type": "stream",
          "text": [
            "=============== Epoch: 0\n",
            "train batch [40/41]: loss 0.5008776783943176\n",
            "val batch [3/4]: loss 0.20184923708438873\n",
            "test batch [4/5]: loss 0.271308034658432\n",
            "Train loss: 0.5503911441419183, Train accuracy: 0.7510048151016235\n",
            "Val loss: 0.6371001414954662, Val accuracy: 0.5\n",
            "Test loss: 0.5835162580013276, Test accuracy: 0.6858974695205688\n",
            "\n",
            "=============== Epoch: 1\n",
            "train batch [40/41]: loss 0.5787075161933899\n",
            "val batch [3/4]: loss 0.14179404079914093\n",
            "test batch [4/5]: loss 0.25208547711372375\n",
            "Train loss: 0.5309633990613426, Train accuracy: 0.7642105221748352\n",
            "Val loss: 0.4263785779476166, Val accuracy: 0.625\n",
            "Test loss: 0.5516820251941681, Test accuracy: 0.7179487347602844\n",
            "\n",
            "=============== Epoch: 2\n",
            "train batch [40/41]: loss 0.5734066963195801\n",
            "val batch [3/4]: loss 0.12313802540302277\n",
            "test batch [4/5]: loss 0.2767931818962097\n",
            "Train loss: 0.5170834667798949, Train accuracy: 0.7711004614830017\n",
            "Val loss: 0.4302171729505062, Val accuracy: 0.75\n",
            "Test loss: 0.49605838060379026, Test accuracy: 0.7628205418586731\n",
            "\n",
            "=============== Epoch: 3\n",
            "train batch [40/41]: loss 0.5202353000640869\n",
            "val batch [3/4]: loss 0.14663508534431458\n",
            "test batch [4/5]: loss 0.21709100902080536\n",
            "Train loss: 0.5061761693256658, Train accuracy: 0.7787559628486633\n",
            "Val loss: 0.4113663751631975, Val accuracy: 0.75\n",
            "Test loss: 0.49166362583637235, Test accuracy: 0.7644230723381042\n",
            "\n",
            "=============== Epoch: 4\n",
            "train batch [40/41]: loss 0.4741078019142151\n",
            "val batch [3/4]: loss 0.09111379086971283\n",
            "test batch [4/5]: loss 0.20929956436157227\n",
            "Train loss: 0.4977482070283192, Train accuracy: 0.783540666103363\n",
            "Val loss: 0.46859075501561165, Val accuracy: 0.6875\n",
            "Test loss: 0.46734084486961364, Test accuracy: 0.7852564454078674\n",
            "\n",
            "=============== Epoch: 5\n",
            "train batch [40/41]: loss 0.5337067246437073\n",
            "val batch [3/4]: loss 0.11272308230400085\n",
            "test batch [4/5]: loss 0.22414253652095795\n",
            "Train loss: 0.49243663069678517, Train accuracy: 0.7866028547286987\n",
            "Val loss: 0.34497085213661194, Val accuracy: 0.8125\n",
            "Test loss: 0.4451919287443161, Test accuracy: 0.7996795177459717\n",
            "\n",
            "=============== Epoch: 6\n",
            "train batch [40/41]: loss 0.48006024956703186\n",
            "val batch [3/4]: loss 0.09271611273288727\n",
            "test batch [4/5]: loss 0.17573444545269012\n",
            "Train loss: 0.4879520695383956, Train accuracy: 0.7862200736999512\n",
            "Val loss: 0.41784804686903954, Val accuracy: 0.75\n",
            "Test loss: 0.45296294093132017, Test accuracy: 0.7948718070983887\n",
            "\n",
            "=============== Epoch: 7\n",
            "train batch [40/41]: loss 0.424843430519104\n",
            "val batch [3/4]: loss 0.07006410509347916\n",
            "test batch [4/5]: loss 0.15292510390281677\n",
            "Train loss: 0.48226628288990114, Train accuracy: 0.790047824382782\n",
            "Val loss: 0.4171148370951414, Val accuracy: 0.6875\n",
            "Test loss: 0.45855197310447693, Test accuracy: 0.8012820482254028\n",
            "\n",
            "=============== Epoch: 8\n",
            "train batch [40/41]: loss 0.4841929078102112\n",
            "val batch [3/4]: loss 0.17404301464557648\n",
            "test batch [4/5]: loss 0.15703251957893372\n",
            "Train loss: 0.47946927387539934, Train accuracy: 0.7923445105552673\n",
            "Val loss: 0.48544574342668056, Val accuracy: 0.75\n",
            "Test loss: 0.4491630047559738, Test accuracy: 0.7980769276618958\n",
            "\n",
            "=============== Epoch: 9\n",
            "train batch [40/41]: loss 0.4629649817943573\n",
            "val batch [3/4]: loss 0.16032502055168152\n",
            "test batch [4/5]: loss 0.15866310894489288\n",
            "Train loss: 0.4735216222158292, Train accuracy: 0.795406699180603\n",
            "Val loss: 0.4635252617299557, Val accuracy: 0.75\n",
            "Test loss: 0.43733076751232147, Test accuracy: 0.8060897588729858\n",
            "\n",
            "=============== Epoch: 10\n",
            "train batch [40/41]: loss 0.4330016076564789\n",
            "val batch [3/4]: loss 0.04756094515323639\n",
            "test batch [4/5]: loss 0.15629975497722626\n",
            "Train loss: 0.47557106396047083, Train accuracy: 0.7929186820983887\n",
            "Val loss: 0.3930721636861563, Val accuracy: 0.6875\n",
            "Test loss: 0.4192545026540756, Test accuracy: 0.822115421295166\n",
            "\n",
            "=============== Epoch: 11\n",
            "train batch [40/41]: loss 0.45458072423934937\n",
            "val batch [3/4]: loss 0.10134679824113846\n",
            "test batch [4/5]: loss 0.14765365421772003\n",
            "Train loss: 0.4687688626894137, Train accuracy: 0.7992344498634338\n",
            "Val loss: 0.3683635760098696, Val accuracy: 0.8125\n",
            "Test loss: 0.42094587832689284, Test accuracy: 0.8189102411270142\n",
            "\n",
            "=============== Epoch: 12\n",
            "train batch [40/41]: loss 0.43813881278038025\n",
            "val batch [3/4]: loss 0.04030907526612282\n",
            "test batch [4/5]: loss 0.1402387022972107\n",
            "Train loss: 0.46855501866922145, Train accuracy: 0.7982774972915649\n",
            "Val loss: 0.3227869123220444, Val accuracy: 0.75\n",
            "Test loss: 0.4142993077635765, Test accuracy: 0.8125\n",
            "\n",
            "=============== Epoch: 13\n",
            "train batch [40/41]: loss 0.44428497552871704\n",
            "val batch [3/4]: loss 0.05525623634457588\n",
            "test batch [4/5]: loss 0.10744131356477737\n",
            "Train loss: 0.46678847656017397, Train accuracy: 0.7990430593490601\n",
            "Val loss: 0.4596000127494335, Val accuracy: 0.625\n",
            "Test loss: 0.4404428854584694, Test accuracy: 0.7996795177459717\n",
            "\n",
            "=============== Epoch: 14\n",
            "train batch [40/41]: loss 0.3921692669391632\n",
            "val batch [3/4]: loss 0.24969793856143951\n",
            "test batch [4/5]: loss 0.12020508944988251\n",
            "Train loss: 0.46604525606806685, Train accuracy: 0.8011483550071716\n",
            "Val loss: 0.4613448306918144, Val accuracy: 0.6875\n",
            "Test loss: 0.42797129303216935, Test accuracy: 0.8141025900840759\n",
            "\n",
            "=============== Epoch: 15\n",
            "train batch [40/41]: loss 0.460185170173645\n",
            "val batch [3/4]: loss 0.0874195247888565\n",
            "test batch [4/5]: loss 0.13488785922527313\n",
            "Train loss: 0.4598361050210348, Train accuracy: 0.8011483550071716\n",
            "Val loss: 0.4697908405214548, Val accuracy: 0.75\n",
            "Test loss: 0.4180703818798065, Test accuracy: 0.8092948794364929\n",
            "\n",
            "=============== Epoch: 16\n",
            "train batch [40/41]: loss 0.4846019148826599\n",
            "val batch [3/4]: loss 0.04226343333721161\n",
            "test batch [4/5]: loss 0.11642792075872421\n",
            "Train loss: 0.45917056319190236, Train accuracy: 0.8030622005462646\n",
            "Val loss: 0.25982970651239157, Val accuracy: 0.9375\n",
            "Test loss: 0.420524537563324, Test accuracy: 0.8205128312110901\n",
            "\n",
            "=============== Epoch: 17\n",
            "train batch [40/41]: loss 0.42902833223342896\n",
            "val batch [3/4]: loss 0.06321386992931366\n",
            "test batch [4/5]: loss 0.09668976813554764\n",
            "Train loss: 0.4544956916716041, Train accuracy: 0.8042105436325073\n",
            "Val loss: 0.4007333202753216, Val accuracy: 0.75\n",
            "Test loss: 0.44528760612010954, Test accuracy: 0.8060897588729858\n",
            "\n",
            "=============== Epoch: 18\n",
            "train batch [40/41]: loss 0.4595974087715149\n",
            "val batch [3/4]: loss 0.06060141324996948\n",
            "test batch [4/5]: loss 0.09645851701498032\n",
            "Train loss: 0.4557247110983221, Train accuracy: 0.8047847151756287\n",
            "Val loss: 0.3164111925289035, Val accuracy: 0.6875\n",
            "Test loss: 0.4478912651538849, Test accuracy: 0.8028846383094788\n",
            "\n",
            "=============== Epoch: 19\n",
            "train batch [40/41]: loss 0.48111626505851746\n",
            "val batch [3/4]: loss 0.055341947823762894\n",
            "test batch [4/5]: loss 0.09568481147289276\n",
            "Train loss: 0.45303089444230243, Train accuracy: 0.8040191531181335\n",
            "Val loss: 0.5375758544541895, Val accuracy: 0.6875\n",
            "Test loss: 0.456046387553215, Test accuracy: 0.8044871687889099\n",
            "\n",
            "=============== Epoch: 20\n",
            "train batch [40/41]: loss 0.5250895619392395\n",
            "val batch [3/4]: loss 0.04773113504052162\n",
            "test batch [4/5]: loss 0.09495650231838226\n",
            "Train loss: 0.4517814073620773, Train accuracy: 0.8074641227722168\n",
            "Val loss: 0.393159372266382, Val accuracy: 0.8125\n",
            "Test loss: 0.4380176901817322, Test accuracy: 0.8125\n",
            "\n",
            "=============== Epoch: 21\n",
            "train batch [40/41]: loss 0.48777204751968384\n",
            "val batch [3/4]: loss 0.10194312781095505\n",
            "test batch [4/5]: loss 0.11146827042102814\n",
            "Train loss: 0.4509257259892254, Train accuracy: 0.8066985607147217\n",
            "Val loss: 0.22880888730287552, Val accuracy: 0.9375\n",
            "Test loss: 0.41417668014764786, Test accuracy: 0.8269230723381042\n",
            "\n",
            "=============== Epoch: 22\n",
            "train batch [40/41]: loss 0.48526665568351746\n",
            "val batch [3/4]: loss 0.037065234035253525\n",
            "test batch [4/5]: loss 0.08355017751455307\n",
            "Train loss: 0.4517589792972658, Train accuracy: 0.8074641227722168\n",
            "Val loss: 0.5092674703337252, Val accuracy: 0.8125\n",
            "Test loss: 0.4277503117918968, Test accuracy: 0.8205128312110901\n",
            "\n",
            "=============== Epoch: 23\n",
            "train batch [40/41]: loss 0.6440807580947876\n",
            "val batch [3/4]: loss 0.04529128968715668\n",
            "test batch [4/5]: loss 0.10097038745880127\n",
            "Train loss: 0.4492605234064707, Train accuracy: 0.8093779683113098\n",
            "Val loss: 0.28929504298139364, Val accuracy: 0.875\n",
            "Test loss: 0.41830611377954485, Test accuracy: 0.8285256624221802\n",
            "\n",
            "=============== Epoch: 24\n",
            "train batch [40/41]: loss 0.5031479001045227\n",
            "val batch [3/4]: loss 0.09835028648376465\n",
            "test batch [4/5]: loss 0.08736880123615265\n",
            "Train loss: 0.44372145649863454, Train accuracy: 0.811866044998169\n",
            "Val loss: 0.2741738338954747, Val accuracy: 0.8125\n",
            "Test loss: 0.4326261654496193, Test accuracy: 0.8189102411270142\n",
            "\n",
            "=============== Epoch: 25\n",
            "train batch [40/41]: loss 0.5039806365966797\n",
            "val batch [3/4]: loss 0.030196452513337135\n",
            "test batch [4/5]: loss 0.07553571462631226\n",
            "Train loss: 0.44474453097436484, Train accuracy: 0.8088038563728333\n",
            "Val loss: 0.30306303361430764, Val accuracy: 0.875\n",
            "Test loss: 0.44471330046653745, Test accuracy: 0.8108974695205688\n",
            "\n",
            "=============== Epoch: 26\n",
            "train batch [40/41]: loss 0.4765233099460602\n",
            "val batch [3/4]: loss 0.197346031665802\n",
            "test batch [4/5]: loss 0.07538484781980515\n",
            "Train loss: 0.44568579007939596, Train accuracy: 0.8076555132865906\n",
            "Val loss: 0.3734842799603939, Val accuracy: 0.625\n",
            "Test loss: 0.45206817239522934, Test accuracy: 0.8125\n",
            "\n",
            "=============== Epoch: 27\n",
            "train batch [40/41]: loss 0.39941510558128357\n",
            "val batch [3/4]: loss 0.03276459872722626\n",
            "test batch [4/5]: loss 0.07168730348348618\n",
            "Train loss: 0.4452842066927654, Train accuracy: 0.807272732257843\n",
            "Val loss: 0.27116275462321937, Val accuracy: 0.875\n",
            "Test loss: 0.4577891334891319, Test accuracy: 0.8060897588729858\n",
            "\n",
            "=============== Epoch: 28\n",
            "train batch [40/41]: loss 0.429812490940094\n",
            "val batch [3/4]: loss 0.03767366334795952\n",
            "test batch [4/5]: loss 0.06354716420173645\n",
            "Train loss: 0.44433871565795524, Train accuracy: 0.8095693588256836\n",
            "Val loss: 0.44770091981627047, Val accuracy: 0.8125\n",
            "Test loss: 0.4777163565158844, Test accuracy: 0.8012820482254028\n",
            "\n",
            "=============== Epoch: 29\n",
            "train batch [40/41]: loss 0.44308724999427795\n",
            "val batch [3/4]: loss 0.038403645157814026\n",
            "test batch [4/5]: loss 0.10472919791936874\n",
            "Train loss: 0.4427416535412393, Train accuracy: 0.8105263113975525\n",
            "Val loss: 0.30092930560931563, Val accuracy: 0.8125\n",
            "Test loss: 0.39425013214349747, Test accuracy: 0.8445512652397156\n",
            "\n",
            "=============== Epoch: 30\n",
            "train batch [40/41]: loss 0.43925148248672485\n",
            "val batch [3/4]: loss 0.025569096207618713\n",
            "test batch [4/5]: loss 0.08413011580705643\n",
            "Train loss: 0.4426113338005252, Train accuracy: 0.8109090924263\n",
            "Val loss: 0.2921234886161983, Val accuracy: 0.8125\n",
            "Test loss: 0.42189909517765045, Test accuracy: 0.8333333730697632\n",
            "\n",
            "=============== Epoch: 31\n",
            "train batch [40/41]: loss 0.43568626046180725\n",
            "val batch [3/4]: loss 0.027965139597654343\n",
            "test batch [4/5]: loss 0.07638615369796753\n",
            "Train loss: 0.4430731709410505, Train accuracy: 0.8103349208831787\n",
            "Val loss: 0.21143686771392822, Val accuracy: 0.875\n",
            "Test loss: 0.42927898466587067, Test accuracy: 0.8189102411270142\n",
            "\n",
            "=============== Epoch: 32\n",
            "train batch [40/41]: loss 0.4143058657646179\n",
            "val batch [3/4]: loss 0.023353485390543938\n",
            "test batch [4/5]: loss 0.0718916654586792\n",
            "Train loss: 0.4421892442354342, Train accuracy: 0.8099521398544312\n",
            "Val loss: 0.20823987131007016, Val accuracy: 0.875\n",
            "Test loss: 0.43665012419223787, Test accuracy: 0.8189102411270142\n",
            "\n",
            "=============== Epoch: 33\n",
            "train batch [40/41]: loss 0.42532533407211304\n",
            "val batch [3/4]: loss 0.006955965422093868\n",
            "test batch [4/5]: loss 0.06842255592346191\n",
            "Train loss: 0.4426049175785809, Train accuracy: 0.8099521398544312\n",
            "Val loss: 0.23482777387835085, Val accuracy: 0.9375\n",
            "Test loss: 0.440432071685791, Test accuracy: 0.8237179517745972\n",
            "\n",
            "=============== Epoch: 34\n",
            "train batch [40/41]: loss 0.38734060525894165\n",
            "val batch [3/4]: loss 0.04131393879652023\n",
            "test batch [4/5]: loss 0.0681760311126709\n",
            "Train loss: 0.4402158754627879, Train accuracy: 0.8114832639694214\n",
            "Val loss: 0.4856393961235881, Val accuracy: 0.75\n",
            "Test loss: 0.44904246032238004, Test accuracy: 0.8205128312110901\n",
            "\n",
            "=============== Epoch: 35\n",
            "train batch [40/41]: loss 0.42531052231788635\n",
            "val batch [3/4]: loss 0.0073680998757481575\n",
            "test batch [4/5]: loss 0.06411992013454437\n",
            "Train loss: 0.4375179664390843, Train accuracy: 0.8105263113975525\n",
            "Val loss: 0.4293927338439971, Val accuracy: 0.6875\n",
            "Test loss: 0.47158613726496695, Test accuracy: 0.8044871687889099\n",
            "\n",
            "=============== Epoch: 36\n",
            "train batch [40/41]: loss 0.40101397037506104\n",
            "val batch [3/4]: loss 0.04003765806555748\n",
            "test batch [4/5]: loss 0.05701041221618652\n",
            "Train loss: 0.43566921207962966, Train accuracy: 0.8149282336235046\n",
            "Val loss: 0.43104159412905574, Val accuracy: 0.75\n",
            "Test loss: 0.48458647951483724, Test accuracy: 0.7980769276618958\n",
            "\n",
            "=============== Epoch: 37\n",
            "train batch [40/41]: loss 0.442322313785553\n",
            "val batch [3/4]: loss 0.005220002494752407\n",
            "test batch [4/5]: loss 0.06539823859930038\n",
            "Train loss: 0.4373809956922764, Train accuracy: 0.8111004829406738\n",
            "Val loss: 0.2970298193395138, Val accuracy: 0.875\n",
            "Test loss: 0.46140252202749255, Test accuracy: 0.807692289352417\n",
            "\n",
            "=============== Epoch: 38\n",
            "train batch [40/41]: loss 0.3677435517311096\n",
            "val batch [3/4]: loss 0.037300851196050644\n",
            "test batch [4/5]: loss 0.0564793236553669\n",
            "Train loss: 0.43551781482812835, Train accuracy: 0.8141626715660095\n",
            "Val loss: 0.27941516716964543, Val accuracy: 0.875\n",
            "Test loss: 0.47469446137547494, Test accuracy: 0.8012820482254028\n",
            "\n",
            "=============== Epoch: 39\n",
            "train batch [40/41]: loss 0.4644004702568054\n",
            "val batch [3/4]: loss 0.04321083799004555\n",
            "test batch [4/5]: loss 0.07217665761709213\n",
            "Train loss: 0.4386140180797112, Train accuracy: 0.8114832639694214\n",
            "Val loss: 0.24679332971572876, Val accuracy: 0.9375\n",
            "Test loss: 0.4318008363246918, Test accuracy: 0.8253205418586731\n",
            "\n",
            "=============== Epoch: 40\n",
            "train batch [40/41]: loss 0.49759039282798767\n",
            "val batch [3/4]: loss 0.07672599703073502\n",
            "test batch [4/5]: loss 0.06908667832612991\n",
            "Train loss: 0.43489707606594735, Train accuracy: 0.8120574355125427\n",
            "Val loss: 0.21440028445795178, Val accuracy: 0.9375\n",
            "Test loss: 0.4395030699670315, Test accuracy: 0.822115421295166\n",
            "\n",
            "=============== Epoch: 41\n",
            "train batch [40/41]: loss 0.391559898853302\n",
            "val batch [3/4]: loss 0.014574500732123852\n",
            "test batch [4/5]: loss 0.06994690001010895\n",
            "Train loss: 0.4333025108023388, Train accuracy: 0.8139712810516357\n",
            "Val loss: 0.36453414312563837, Val accuracy: 0.8125\n",
            "Test loss: 0.4324189335107803, Test accuracy: 0.8349359035491943\n",
            "\n",
            "=============== Epoch: 42\n",
            "train batch [40/41]: loss 0.3782697319984436\n",
            "val batch [3/4]: loss 0.010713471099734306\n",
            "test batch [4/5]: loss 0.07009369879961014\n",
            "Train loss: 0.43625875507912987, Train accuracy: 0.8130143284797668\n",
            "Val loss: 0.1664290645858273, Val accuracy: 0.9375\n",
            "Test loss: 0.42301435545086863, Test accuracy: 0.8381410241127014\n",
            "\n",
            "=============== Epoch: 43\n",
            "train batch [40/41]: loss 0.45751914381980896\n",
            "val batch [3/4]: loss 0.03822646290063858\n",
            "test batch [4/5]: loss 0.057898230850696564\n",
            "Train loss: 0.43399914444946663, Train accuracy: 0.8145454525947571\n",
            "Val loss: 0.2157453722320497, Val accuracy: 0.9375\n",
            "Test loss: 0.4546688549220562, Test accuracy: 0.8189102411270142\n",
            "\n",
            "=============== Epoch: 44\n",
            "train batch [40/41]: loss 0.3724645674228668\n",
            "val batch [3/4]: loss 0.03703607618808746\n",
            "test batch [4/5]: loss 0.058007389307022095\n",
            "Train loss: 0.4342485818921066, Train accuracy: 0.813779890537262\n",
            "Val loss: 0.331001236801967, Val accuracy: 0.8125\n",
            "Test loss: 0.4748200885951519, Test accuracy: 0.8108974695205688\n",
            "\n",
            "=============== Epoch: 45\n",
            "train batch [40/41]: loss 0.4726595878601074\n",
            "val batch [3/4]: loss 0.005253607872873545\n",
            "test batch [4/5]: loss 0.05343039706349373\n",
            "Train loss: 0.4303760114239483, Train accuracy: 0.8183732032775879\n",
            "Val loss: 0.2776910063694231, Val accuracy: 0.75\n",
            "Test loss: 0.46834421083331107, Test accuracy: 0.8141025900840759\n",
            "\n",
            "=============== Epoch: 46\n",
            "train batch [40/41]: loss 0.44167622923851013\n",
            "val batch [3/4]: loss 0.06967703253030777\n",
            "test batch [4/5]: loss 0.049843817949295044\n",
            "Train loss: 0.4294955519641318, Train accuracy: 0.8170334696769714\n",
            "Val loss: 0.29088624427095056, Val accuracy: 0.8125\n",
            "Test loss: 0.46241168975830077, Test accuracy: 0.8141025900840759\n",
            "\n",
            "=============== Epoch: 47\n",
            "train batch [40/41]: loss 0.3992367386817932\n",
            "val batch [3/4]: loss 0.01064876839518547\n",
            "test batch [4/5]: loss 0.059067655354738235\n",
            "Train loss: 0.43221785891346814, Train accuracy: 0.8164593577384949\n",
            "Val loss: 0.3564550980227068, Val accuracy: 0.8125\n",
            "Test loss: 0.4493709415197372, Test accuracy: 0.8301281929016113\n",
            "\n",
            "=============== Epoch: 48\n",
            "train batch [40/41]: loss 0.446102112531662\n",
            "val batch [3/4]: loss 0.05922526493668556\n",
            "test batch [4/5]: loss 0.06718584150075912\n",
            "Train loss: 0.43150607332950686, Train accuracy: 0.8156937956809998\n",
            "Val loss: 0.284328268840909, Val accuracy: 0.8125\n",
            "Test loss: 0.4245811924338341, Test accuracy: 0.8445512652397156\n",
            "\n",
            "=============== Epoch: 49\n",
            "train batch [40/41]: loss 0.4206307828426361\n",
            "val batch [3/4]: loss 0.06328055262565613\n",
            "test batch [4/5]: loss 0.0625946968793869\n",
            "Train loss: 0.4294687487730166, Train accuracy: 0.8166507482528687\n",
            "Val loss: 0.26967152627184987, Val accuracy: 0.9375\n",
            "Test loss: 0.4365824148058891, Test accuracy: 0.8333333730697632\n",
            "\n"
          ],
          "name": "stdout"
        }
      ]
    },
    {
      "cell_type": "code",
      "metadata": {
        "id": "78IkqIEdlNwB",
        "colab_type": "code",
        "colab": {}
      },
      "source": [
        ""
      ],
      "execution_count": null,
      "outputs": []
    },
    {
      "cell_type": "markdown",
      "metadata": {
        "id": "EEAL6cZbKQPQ",
        "colab_type": "text"
      },
      "source": [
        "### Training Images with Epsilon = 0.5"
      ]
    },
    {
      "cell_type": "code",
      "metadata": {
        "id": "Ya9R9a7blkMs",
        "colab_type": "code",
        "colab": {
          "base_uri": "https://localhost:8080/",
          "height": 283
        },
        "outputId": "652fccb5-9aac-4041-9878-a1dcd0561028"
      },
      "source": [
        "import matplotlib.pyplot as plt\n",
        "from PIL import Image\n",
        "\n",
        "fig = plt.figure(figsize=(30, 6))\n",
        "base_dir = './train'\n",
        "# display 8 PNEUMONIA images(train) for Epsilon :0.5\n",
        "train_imgs = os.listdir(base_dir+\"/PNEUMONIA\")\n",
        "for idx, img in enumerate(np.random.choice(train_imgs, 8)):\n",
        "    ax = fig.add_subplot(2, 8//2, idx+1, xticks=[], yticks=[])\n",
        "    im = Image.open(base_dir+\"/PNEUMONIA/\" + img)\n",
        "    plt.imshow(im)\n",
        "    ax.set_title('PNEUMONIA(EPS:0.5)')"
      ],
      "execution_count": 21,
      "outputs": [
        {
          "output_type": "display_data",
          "data": {
            "image/png": "[encoded data removed]",
            "text/plain": [
              "<Figure size 2160x432 with 8 Axes>"
            ]
          },
          "metadata": {
            "tags": []
          }
        }
      ]
    },
    {
      "cell_type": "code",
      "metadata": {
        "id": "tlbJG6SpKE3U",
        "colab_type": "code",
        "colab": {
          "base_uri": "https://localhost:8080/",
          "height": 295
        },
        "outputId": "1e80dc5f-a95b-43d3-cc11-50b91a88315d"
      },
      "source": [
        "fig = plt.figure(figsize=(30, 6))\n",
        "base_dir = './train'\n",
        "# display 8 NORMAL images(train) for Epsilon :0.5\n",
        "train_imgs = os.listdir(base_dir+\"/NORMAL\")\n",
        "for idx, img in enumerate(np.random.choice(train_imgs, 8)):\n",
        "    ax = fig.add_subplot(2, 8//2, idx+1, xticks=[], yticks=[])\n",
        "    im = Image.open(base_dir+\"/NORMAL/\" + img)\n",
        "    plt.imshow(im)\n",
        "    ax.set_title('NORMAL(EPS:0.5)')"
      ],
      "execution_count": 22,
      "outputs": [
        {
          "output_type": "display_data",
          "data": {
            "image/png": "[encoded data removed]",
            "text/plain": [
              "<Figure size 2160x432 with 8 Axes>"
            ]
          },
          "metadata": {
            "tags": []
          }
        }
      ]
    },
    {
      "cell_type": "code",
      "metadata": {
        "id": "jl_rXk3fjYDi",
        "colab_type": "code",
        "colab": {}
      },
      "source": [
        ""
      ],
      "execution_count": null,
      "outputs": []
    }
  ]
}