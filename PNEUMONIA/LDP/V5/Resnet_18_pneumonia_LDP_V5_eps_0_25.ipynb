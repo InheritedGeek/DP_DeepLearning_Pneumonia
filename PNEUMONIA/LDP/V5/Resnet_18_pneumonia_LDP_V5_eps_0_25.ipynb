{
  "nbformat": 4,
  "nbformat_minor": 0,
  "metadata": {
    "kernelspec": {
      "display_name": "Python 3",
      "language": "python",
      "name": "python3"
    },
    "language_info": {
      "codemirror_mode": {
        "name": "ipython",
        "version": 3
      },
      "file_extension": ".py",
      "mimetype": "text/x-python",
      "name": "python",
      "nbconvert_exporter": "python",
      "pygments_lexer": "ipython3",
      "version": "3.8.2"
    },
    "colab": {
      "name": "Resnet_18_pneumonia_LDP_V5_eps_0_25.ipynb",
      "provenance": [],
      "collapsed_sections": [],
      "machine_shape": "hm"
    },
    "accelerator": "GPU",
    "widgets": {
      "application/vnd.jupyter.widget-state+json": {
        "56bb298613ef486e8628f58806f01f3b": {
          "model_module": "@jupyter-widgets/controls",
          "model_name": "HBoxModel",
          "state": {
            "_view_name": "HBoxView",
            "_dom_classes": [],
            "_model_name": "HBoxModel",
            "_view_module": "@jupyter-widgets/controls",
            "_model_module_version": "1.5.0",
            "_view_count": null,
            "_view_module_version": "1.5.0",
            "box_style": "",
            "layout": "IPY_MODEL_c7300fa0b79b46778f8844e53894efae",
            "_model_module": "@jupyter-widgets/controls",
            "children": [
              "IPY_MODEL_f58a2f2bea3a4d5288d473edf6acb2fb",
              "IPY_MODEL_219613d558444da299eb3133c5b1aaf6"
            ]
          }
        },
        "c7300fa0b79b46778f8844e53894efae": {
          "model_module": "@jupyter-widgets/base",
          "model_name": "LayoutModel",
          "state": {
            "_view_name": "LayoutView",
            "grid_template_rows": null,
            "right": null,
            "justify_content": null,
            "_view_module": "@jupyter-widgets/base",
            "overflow": null,
            "_model_module_version": "1.2.0",
            "_view_count": null,
            "flex_flow": null,
            "width": null,
            "min_width": null,
            "border": null,
            "align_items": null,
            "bottom": null,
            "_model_module": "@jupyter-widgets/base",
            "top": null,
            "grid_column": null,
            "overflow_y": null,
            "overflow_x": null,
            "grid_auto_flow": null,
            "grid_area": null,
            "grid_template_columns": null,
            "flex": null,
            "_model_name": "LayoutModel",
            "justify_items": null,
            "grid_row": null,
            "max_height": null,
            "align_content": null,
            "visibility": null,
            "align_self": null,
            "height": null,
            "min_height": null,
            "padding": null,
            "grid_auto_rows": null,
            "grid_gap": null,
            "max_width": null,
            "order": null,
            "_view_module_version": "1.2.0",
            "grid_template_areas": null,
            "object_position": null,
            "object_fit": null,
            "grid_auto_columns": null,
            "margin": null,
            "display": null,
            "left": null
          }
        },
        "f58a2f2bea3a4d5288d473edf6acb2fb": {
          "model_module": "@jupyter-widgets/controls",
          "model_name": "FloatProgressModel",
          "state": {
            "_view_name": "ProgressView",
            "style": "IPY_MODEL_680ae86bb53644fcab049c152a56bea4",
            "_dom_classes": [],
            "description": "100%",
            "_model_name": "FloatProgressModel",
            "bar_style": "success",
            "max": 46827520,
            "_view_module": "@jupyter-widgets/controls",
            "_model_module_version": "1.5.0",
            "value": 46827520,
            "_view_count": null,
            "_view_module_version": "1.5.0",
            "orientation": "horizontal",
            "min": 0,
            "description_tooltip": null,
            "_model_module": "@jupyter-widgets/controls",
            "layout": "IPY_MODEL_63c46601943848cf81f3e39786942020"
          }
        },
        "219613d558444da299eb3133c5b1aaf6": {
          "model_module": "@jupyter-widgets/controls",
          "model_name": "HTMLModel",
          "state": {
            "_view_name": "HTMLView",
            "style": "IPY_MODEL_995d1366c2c740cc9f5f8d0991b0b802",
            "_dom_classes": [],
            "description": "",
            "_model_name": "HTMLModel",
            "placeholder": "​",
            "_view_module": "@jupyter-widgets/controls",
            "_model_module_version": "1.5.0",
            "value": " 44.7M/44.7M [02:35&lt;00:00, 300kB/s]",
            "_view_count": null,
            "_view_module_version": "1.5.0",
            "description_tooltip": null,
            "_model_module": "@jupyter-widgets/controls",
            "layout": "IPY_MODEL_88d6fe3254864bccb571758c8f4c91de"
          }
        },
        "680ae86bb53644fcab049c152a56bea4": {
          "model_module": "@jupyter-widgets/controls",
          "model_name": "ProgressStyleModel",
          "state": {
            "_view_name": "StyleView",
            "_model_name": "ProgressStyleModel",
            "description_width": "initial",
            "_view_module": "@jupyter-widgets/base",
            "_model_module_version": "1.5.0",
            "_view_count": null,
            "_view_module_version": "1.2.0",
            "bar_color": null,
            "_model_module": "@jupyter-widgets/controls"
          }
        },
        "63c46601943848cf81f3e39786942020": {
          "model_module": "@jupyter-widgets/base",
          "model_name": "LayoutModel",
          "state": {
            "_view_name": "LayoutView",
            "grid_template_rows": null,
            "right": null,
            "justify_content": null,
            "_view_module": "@jupyter-widgets/base",
            "overflow": null,
            "_model_module_version": "1.2.0",
            "_view_count": null,
            "flex_flow": null,
            "width": null,
            "min_width": null,
            "border": null,
            "align_items": null,
            "bottom": null,
            "_model_module": "@jupyter-widgets/base",
            "top": null,
            "grid_column": null,
            "overflow_y": null,
            "overflow_x": null,
            "grid_auto_flow": null,
            "grid_area": null,
            "grid_template_columns": null,
            "flex": null,
            "_model_name": "LayoutModel",
            "justify_items": null,
            "grid_row": null,
            "max_height": null,
            "align_content": null,
            "visibility": null,
            "align_self": null,
            "height": null,
            "min_height": null,
            "padding": null,
            "grid_auto_rows": null,
            "grid_gap": null,
            "max_width": null,
            "order": null,
            "_view_module_version": "1.2.0",
            "grid_template_areas": null,
            "object_position": null,
            "object_fit": null,
            "grid_auto_columns": null,
            "margin": null,
            "display": null,
            "left": null
          }
        },
        "995d1366c2c740cc9f5f8d0991b0b802": {
          "model_module": "@jupyter-widgets/controls",
          "model_name": "DescriptionStyleModel",
          "state": {
            "_view_name": "StyleView",
            "_model_name": "DescriptionStyleModel",
            "description_width": "",
            "_view_module": "@jupyter-widgets/base",
            "_model_module_version": "1.5.0",
            "_view_count": null,
            "_view_module_version": "1.2.0",
            "_model_module": "@jupyter-widgets/controls"
          }
        },
        "88d6fe3254864bccb571758c8f4c91de": {
          "model_module": "@jupyter-widgets/base",
          "model_name": "LayoutModel",
          "state": {
            "_view_name": "LayoutView",
            "grid_template_rows": null,
            "right": null,
            "justify_content": null,
            "_view_module": "@jupyter-widgets/base",
            "overflow": null,
            "_model_module_version": "1.2.0",
            "_view_count": null,
            "flex_flow": null,
            "width": null,
            "min_width": null,
            "border": null,
            "align_items": null,
            "bottom": null,
            "_model_module": "@jupyter-widgets/base",
            "top": null,
            "grid_column": null,
            "overflow_y": null,
            "overflow_x": null,
            "grid_auto_flow": null,
            "grid_area": null,
            "grid_template_columns": null,
            "flex": null,
            "_model_name": "LayoutModel",
            "justify_items": null,
            "grid_row": null,
            "max_height": null,
            "align_content": null,
            "visibility": null,
            "align_self": null,
            "height": null,
            "min_height": null,
            "padding": null,
            "grid_auto_rows": null,
            "grid_gap": null,
            "max_width": null,
            "order": null,
            "_view_module_version": "1.2.0",
            "grid_template_areas": null,
            "object_position": null,
            "object_fit": null,
            "grid_auto_columns": null,
            "margin": null,
            "display": null,
            "left": null
          }
        }
      }
    }
  },
  "cells": [
    {
      "cell_type": "code",
      "metadata": {
        "id": "tJxejS4BhtfA",
        "colab_type": "code",
        "colab": {
          "base_uri": "https://localhost:8080/",
          "height": 357
        },
        "outputId": "9c0e7a43-25b1-4737-f32b-45fd0122bfda"
      },
      "source": [
        "!nvidia-smi"
      ],
      "execution_count": 1,
      "outputs": [
        {
          "output_type": "stream",
          "text": [
            "Sun Aug 23 10:14:51 2020       \n",
            "+-----------------------------------------------------------------------------+\n",
            "| NVIDIA-SMI 450.57       Driver Version: 418.67       CUDA Version: 10.1     |\n",
            "|-------------------------------+----------------------+----------------------+\n",
            "| GPU  Name        Persistence-M| Bus-Id        Disp.A | Volatile Uncorr. ECC |\n",
            "| Fan  Temp  Perf  Pwr:Usage/Cap|         Memory-Usage | GPU-Util  Compute M. |\n",
            "|                               |                      |               MIG M. |\n",
            "|===============================+======================+======================|\n",
            "|   0  Tesla P100-PCIE...  Off  | 00000000:00:04.0 Off |                    0 |\n",
            "| N/A   34C    P0    26W / 250W |      0MiB / 16280MiB |      0%      Default |\n",
            "|                               |                      |                 ERR! |\n",
            "+-------------------------------+----------------------+----------------------+\n",
            "                                                                               \n",
            "+-----------------------------------------------------------------------------+\n",
            "| Processes:                                                                  |\n",
            "|  GPU   GI   CI        PID   Type   Process name                  GPU Memory |\n",
            "|        ID   ID                                                   Usage      |\n",
            "|=============================================================================|\n",
            "|  No running processes found                                                 |\n",
            "+-----------------------------------------------------------------------------+\n"
          ],
          "name": "stdout"
        }
      ]
    },
    {
      "cell_type": "code",
      "metadata": {
        "id": "KqzKNkpfXrM7",
        "colab_type": "code",
        "colab": {
          "base_uri": "https://localhost:8080/",
          "height": 122
        },
        "outputId": "e17bebd2-593d-4dac-94ff-b3e68f6cedd2"
      },
      "source": [
        "from google.colab import drive\n",
        "drive.mount('/content/drive', force_remount=True)"
      ],
      "execution_count": 2,
      "outputs": [
        {
          "output_type": "stream",
          "text": [
            "Go to this URL in a browser: https://accounts.google.com/o/oauth2/auth?client_id=947318989803-6bn6qk8qdgf4n4g3pfee6491hc0brc4i.apps.googleusercontent.com&redirect_uri=urn%3aietf%3awg%3aoauth%3a2.0%3aoob&scope=email%20https%3a%2f%2fwww.googleapis.com%2fauth%2fdocs.test%20https%3a%2f%2fwww.googleapis.com%2fauth%2fdrive%20https%3a%2f%2fwww.googleapis.com%2fauth%2fdrive.photos.readonly%20https%3a%2f%2fwww.googleapis.com%2fauth%2fpeopleapi.readonly&response_type=code\n",
            "\n",
            "Enter your authorization code:\n",
            "··········\n",
            "Mounted at /content/drive\n"
          ],
          "name": "stdout"
        }
      ]
    },
    {
      "cell_type": "code",
      "metadata": {
        "id": "5tkHSteTnOUV",
        "colab_type": "code",
        "colab": {}
      },
      "source": [
        "import torch \n",
        "import torchvision\n",
        "import numpy as np \n",
        "import random\n",
        "import os\n",
        "import glob\n",
        "import copy\n",
        "from tqdm import tqdm as tqdm\n",
        "from torchsummary import summary\n",
        "\n",
        "seed = 42\n",
        "random.seed(seed)\n",
        "os.environ[\"PYTHONHASHSEED\"] = str(seed)\n",
        "np.random.seed(seed)\n",
        "torch.cuda.manual_seed(seed)\n",
        "torch.cuda.manual_seed_all(seed)\n",
        "torch.backends.cudnn.deterministic = True\n",
        "torch.manual_seed(seed)\n",
        "\n",
        "best_model = None\n",
        "best_loss = 0.\n",
        "best_test_loss = 0.\n",
        "best_test_acc = 0.\n",
        "best_pred_labels = []\n",
        "true_labels = []\n",
        "\n",
        "pred_labels = []\n",
        "test_acc = 0.\n",
        "test_loss = 0.\n",
        "\n",
        "# device = torch.device('cuda:0')\n",
        "device = torch.device('cuda' if torch.cuda.is_available() else 'cpu')"
      ],
      "execution_count": 3,
      "outputs": []
    },
    {
      "cell_type": "code",
      "metadata": {
        "id": "xjX3GQUHnOUh",
        "colab_type": "code",
        "colab": {
          "base_uri": "https://localhost:8080/",
          "height": 85
        },
        "outputId": "0a042f4d-6c51-4bf0-ef07-038371af1f99"
      },
      "source": [
        "# train class samples from DP data\n",
        "print('Normal Samples in Training Data')\n",
        "!ls -l /content/drive/\"My Drive\"/\"DP Data\"/\"0.25\"/train/NORMAL | wc -l\n",
        "print('Pneumonia Samples in Training Data')\n",
        "!ls -l /content/drive/\"My Drive\"/\"DP Data\"/\"0.25\"/train/PNEUMONIA | wc -l"
      ],
      "execution_count": 4,
      "outputs": [
        {
          "output_type": "stream",
          "text": [
            "Normal Samples in Training Data\n",
            "1342\n",
            "Pneumonia Samples in Training Data\n",
            "3876\n"
          ],
          "name": "stdout"
        }
      ]
    },
    {
      "cell_type": "code",
      "metadata": {
        "id": "GtBKc1LGxQd_",
        "colab_type": "code",
        "colab": {}
      },
      "source": [
        "# Copying DP training Data with epsilon 0.25 to local to process/train faster\n",
        "\n",
        "!cp -R /content/drive/\"My Drive\"/\"DP Data\"/\"0.25\"/train ./"
      ],
      "execution_count": 5,
      "outputs": []
    },
    {
      "cell_type": "code",
      "metadata": {
        "id": "6tU5KhsvxQhO",
        "colab_type": "code",
        "colab": {}
      },
      "source": [
        ""
      ],
      "execution_count": null,
      "outputs": []
    },
    {
      "cell_type": "code",
      "metadata": {
        "id": "XOR0OlpIbDFA",
        "colab_type": "code",
        "colab": {
          "base_uri": "https://localhost:8080/",
          "height": 85
        },
        "outputId": "64ea109f-c0a4-454e-d7fc-6516742d4f37"
      },
      "source": [
        "# Validation samples from Non DP data\n",
        "print('Normal Samples in Validation Data')\n",
        "!ls -l /content/drive/\"My Drive\"/NDP_Data/chest_xray/val/NORMAL | wc -l\n",
        "print('Pneumonia Samples in Validation Data')\n",
        "!ls -l /content/drive/\"My Drive\"/NDP_Data/chest_xray/val/PNEUMONIA | wc -l"
      ],
      "execution_count": 6,
      "outputs": [
        {
          "output_type": "stream",
          "text": [
            "Normal Samples in Validation Data\n",
            "9\n",
            "Pneumonia Samples in Validation Data\n",
            "9\n"
          ],
          "name": "stdout"
        }
      ]
    },
    {
      "cell_type": "code",
      "metadata": {
        "id": "LalDL0QJxRUk",
        "colab_type": "code",
        "colab": {}
      },
      "source": [
        "# Copying to Non DP Validation data to local to process/run faster during validation inference\n",
        "\n",
        "!cp -R /content/drive/\"My Drive\"/NDP_Data/chest_xray/val ./"
      ],
      "execution_count": 7,
      "outputs": []
    },
    {
      "cell_type": "code",
      "metadata": {
        "id": "89SaO6UzxRXx",
        "colab_type": "code",
        "colab": {}
      },
      "source": [
        ""
      ],
      "execution_count": null,
      "outputs": []
    },
    {
      "cell_type": "code",
      "metadata": {
        "id": "z8YxWrN7nOUo",
        "colab_type": "code",
        "colab": {
          "base_uri": "https://localhost:8080/",
          "height": 85
        },
        "outputId": "3353bfd4-a150-4242-97f1-dd1057c6b60b"
      },
      "source": [
        "# Testing samples from Non DP data\n",
        "print('Normal Samples in Testing Data')\n",
        "!ls -l /content/drive/\"My Drive\"/NDP_Data/chest_xray/test/NORMAL | wc -l\n",
        "print('Pneumonia Samples in Testing Data')\n",
        "!ls -l /content/drive/\"My Drive\"/NDP_Data/chest_xray/test/PNEUMONIA | wc -l"
      ],
      "execution_count": 8,
      "outputs": [
        {
          "output_type": "stream",
          "text": [
            "Normal Samples in Testing Data\n",
            "235\n",
            "Pneumonia Samples in Testing Data\n",
            "391\n"
          ],
          "name": "stdout"
        }
      ]
    },
    {
      "cell_type": "code",
      "metadata": {
        "id": "LWD14bthxSMB",
        "colab_type": "code",
        "colab": {}
      },
      "source": [
        "# Copying to Non DP Validation data to local to process/run faster during testing inference\n",
        "\n",
        "!cp -R /content/drive/\"My Drive\"/NDP_Data/chest_xray/test ./"
      ],
      "execution_count": 9,
      "outputs": []
    },
    {
      "cell_type": "code",
      "metadata": {
        "id": "5fq3ro8ExSUF",
        "colab_type": "code",
        "colab": {}
      },
      "source": [
        ""
      ],
      "execution_count": null,
      "outputs": []
    },
    {
      "cell_type": "code",
      "metadata": {
        "id": "BskSrjYYxS2S",
        "colab_type": "code",
        "colab": {
          "base_uri": "https://localhost:8080/",
          "height": 119
        },
        "outputId": "af785781-1a71-495f-c537-a0c6e384c2ec"
      },
      "source": [
        "!ls -lrt"
      ],
      "execution_count": 10,
      "outputs": [
        {
          "output_type": "stream",
          "text": [
            "total 20\n",
            "drwxr-xr-x 1 root root 4096 Jul 30 16:30 sample_data\n",
            "drwx------ 4 root root 4096 Aug 23 10:15 drive\n",
            "dr-x------ 4 root root 4096 Aug 23 10:45 train\n",
            "drwx------ 4 root root 4096 Aug 23 10:45 val\n",
            "drwx------ 4 root root 4096 Aug 23 10:46 test\n"
          ],
          "name": "stdout"
        }
      ]
    },
    {
      "cell_type": "code",
      "metadata": {
        "id": "NjPTrbtwxTPW",
        "colab_type": "code",
        "colab": {
          "base_uri": "https://localhost:8080/",
          "height": 51
        },
        "outputId": "ca1fce6b-1a4a-4ff9-ecd3-c87690823e10"
      },
      "source": [
        "!ls -l ./train/NORMAL | wc -l\n",
        "!ls -l ./train/PNEUMONIA | wc -l"
      ],
      "execution_count": 11,
      "outputs": [
        {
          "output_type": "stream",
          "text": [
            "1342\n",
            "3876\n"
          ],
          "name": "stdout"
        }
      ]
    },
    {
      "cell_type": "code",
      "metadata": {
        "id": "tAS7bvOgxTX1",
        "colab_type": "code",
        "colab": {
          "base_uri": "https://localhost:8080/",
          "height": 51
        },
        "outputId": "5a95c1ca-cc37-4015-b670-4dcc93f71d33"
      },
      "source": [
        "!ls -l ./val/NORMAL | wc -l\n",
        "!ls -l ./val/PNEUMONIA | wc -l"
      ],
      "execution_count": 12,
      "outputs": [
        {
          "output_type": "stream",
          "text": [
            "9\n",
            "9\n"
          ],
          "name": "stdout"
        }
      ]
    },
    {
      "cell_type": "code",
      "metadata": {
        "id": "rGvzV3ZbxTfj",
        "colab_type": "code",
        "colab": {
          "base_uri": "https://localhost:8080/",
          "height": 51
        },
        "outputId": "325ebf83-22d3-4097-f778-fe9653e18cda"
      },
      "source": [
        "!ls -l ./test/NORMAL | wc -l\n",
        "!ls -l ./test/PNEUMONIA | wc -l"
      ],
      "execution_count": 13,
      "outputs": [
        {
          "output_type": "stream",
          "text": [
            "235\n",
            "391\n"
          ],
          "name": "stdout"
        }
      ]
    },
    {
      "cell_type": "code",
      "metadata": {
        "id": "I0pSBK6ExToW",
        "colab_type": "code",
        "colab": {}
      },
      "source": [
        ""
      ],
      "execution_count": null,
      "outputs": []
    },
    {
      "cell_type": "code",
      "metadata": {
        "id": "LPDTSXKWnOUw",
        "colab_type": "code",
        "colab": {}
      },
      "source": [
        "class ChestXRay(torchvision.datasets.ImageFolder):\n",
        "    def __getitem__(self, index):\n",
        "        sample, target = super().__getitem__(index)\n",
        "        path, _ = self.samples[index]\n",
        "        \n",
        "        target = 0\n",
        "        if 'PNEUMONIA' in path:\n",
        "            target = 1\n",
        "        \n",
        "        return sample, target\n",
        "       "
      ],
      "execution_count": 14,
      "outputs": []
    },
    {
      "cell_type": "code",
      "metadata": {
        "id": "J-_xESJtnOU0",
        "colab_type": "code",
        "colab": {}
      },
      "source": [
        "train_transforms = torchvision.transforms.Compose([\n",
        "    torchvision.transforms.Resize(256),\n",
        "    torchvision.transforms.RandomAffine(0, translate=(0, 0.1), scale=(1, 1.10)),\n",
        "    torchvision.transforms.CenterCrop(224),\n",
        "    torchvision.transforms.ToTensor(),\n",
        "    torchvision.transforms.Normalize([0.485, 0.456, 0.406], [0.229, 0.224, 0.225])\n",
        "])\n",
        "\n",
        "transforms = torchvision.transforms.Compose([\n",
        "    torchvision.transforms.Resize(256),\n",
        "    torchvision.transforms.CenterCrop(224),\n",
        "    torchvision.transforms.ToTensor(),\n",
        "    torchvision.transforms.Normalize([0.485, 0.456, 0.406], [0.229, 0.224, 0.225]),\n",
        "])\n",
        "\n",
        "train_dataset = ChestXRay('./train/', transform=train_transforms)\n",
        "val_dataset = ChestXRay('./val/', transform=train_transforms)\n",
        "test_dataset = ChestXRay('./test/', transform=transforms)\n",
        "\n",
        "train_dataloader = torch.utils.data.DataLoader(train_dataset, batch_size=128, shuffle=True)\n",
        "val_dataloader = torch.utils.data.DataLoader(val_dataset, batch_size=4, shuffle=False)\n",
        "test_dataloader = torch.utils.data.DataLoader(test_dataset, batch_size=128, shuffle=False)"
      ],
      "execution_count": 15,
      "outputs": []
    },
    {
      "cell_type": "code",
      "metadata": {
        "id": "Ee19YDP1nOVA",
        "colab_type": "code",
        "colab": {
          "base_uri": "https://localhost:8080/",
          "height": 1000,
          "referenced_widgets": [
            "56bb298613ef486e8628f58806f01f3b",
            "c7300fa0b79b46778f8844e53894efae",
            "f58a2f2bea3a4d5288d473edf6acb2fb",
            "219613d558444da299eb3133c5b1aaf6",
            "680ae86bb53644fcab049c152a56bea4",
            "63c46601943848cf81f3e39786942020",
            "995d1366c2c740cc9f5f8d0991b0b802",
            "88d6fe3254864bccb571758c8f4c91de"
          ]
        },
        "outputId": "696644f8-36f3-4f7a-d2b6-16009dea749d"
      },
      "source": [
        "model = torchvision.models.resnet18(pretrained=True)\n",
        "model.fc = torch.nn.Linear(in_features=512, out_features=2)\n",
        "model = model.to(device)\n",
        "model"
      ],
      "execution_count": 16,
      "outputs": [
        {
          "output_type": "stream",
          "text": [
            "Downloading: \"https://download.pytorch.org/models/resnet18-5c106cde.pth\" to /root/.cache/torch/hub/checkpoints/resnet18-5c106cde.pth\n"
          ],
          "name": "stderr"
        },
        {
          "output_type": "display_data",
          "data": {
            "application/vnd.jupyter.widget-view+json": {
              "model_id": "56bb298613ef486e8628f58806f01f3b",
              "version_minor": 0,
              "version_major": 2
            },
            "text/plain": [
              "HBox(children=(FloatProgress(value=0.0, max=46827520.0), HTML(value='')))"
            ]
          },
          "metadata": {
            "tags": []
          }
        },
        {
          "output_type": "stream",
          "text": [
            "\n"
          ],
          "name": "stdout"
        },
        {
          "output_type": "execute_result",
          "data": {
            "text/plain": [
              "ResNet(\n",
              "  (conv1): Conv2d(3, 64, kernel_size=(7, 7), stride=(2, 2), padding=(3, 3), bias=False)\n",
              "  (bn1): BatchNorm2d(64, eps=1e-05, momentum=0.1, affine=True, track_running_stats=True)\n",
              "  (relu): ReLU(inplace=True)\n",
              "  (maxpool): MaxPool2d(kernel_size=3, stride=2, padding=1, dilation=1, ceil_mode=False)\n",
              "  (layer1): Sequential(\n",
              "    (0): BasicBlock(\n",
              "      (conv1): Conv2d(64, 64, kernel_size=(3, 3), stride=(1, 1), padding=(1, 1), bias=False)\n",
              "      (bn1): BatchNorm2d(64, eps=1e-05, momentum=0.1, affine=True, track_running_stats=True)\n",
              "      (relu): ReLU(inplace=True)\n",
              "      (conv2): Conv2d(64, 64, kernel_size=(3, 3), stride=(1, 1), padding=(1, 1), bias=False)\n",
              "      (bn2): BatchNorm2d(64, eps=1e-05, momentum=0.1, affine=True, track_running_stats=True)\n",
              "    )\n",
              "    (1): BasicBlock(\n",
              "      (conv1): Conv2d(64, 64, kernel_size=(3, 3), stride=(1, 1), padding=(1, 1), bias=False)\n",
              "      (bn1): BatchNorm2d(64, eps=1e-05, momentum=0.1, affine=True, track_running_stats=True)\n",
              "      (relu): ReLU(inplace=True)\n",
              "      (conv2): Conv2d(64, 64, kernel_size=(3, 3), stride=(1, 1), padding=(1, 1), bias=False)\n",
              "      (bn2): BatchNorm2d(64, eps=1e-05, momentum=0.1, affine=True, track_running_stats=True)\n",
              "    )\n",
              "  )\n",
              "  (layer2): Sequential(\n",
              "    (0): BasicBlock(\n",
              "      (conv1): Conv2d(64, 128, kernel_size=(3, 3), stride=(2, 2), padding=(1, 1), bias=False)\n",
              "      (bn1): BatchNorm2d(128, eps=1e-05, momentum=0.1, affine=True, track_running_stats=True)\n",
              "      (relu): ReLU(inplace=True)\n",
              "      (conv2): Conv2d(128, 128, kernel_size=(3, 3), stride=(1, 1), padding=(1, 1), bias=False)\n",
              "      (bn2): BatchNorm2d(128, eps=1e-05, momentum=0.1, affine=True, track_running_stats=True)\n",
              "      (downsample): Sequential(\n",
              "        (0): Conv2d(64, 128, kernel_size=(1, 1), stride=(2, 2), bias=False)\n",
              "        (1): BatchNorm2d(128, eps=1e-05, momentum=0.1, affine=True, track_running_stats=True)\n",
              "      )\n",
              "    )\n",
              "    (1): BasicBlock(\n",
              "      (conv1): Conv2d(128, 128, kernel_size=(3, 3), stride=(1, 1), padding=(1, 1), bias=False)\n",
              "      (bn1): BatchNorm2d(128, eps=1e-05, momentum=0.1, affine=True, track_running_stats=True)\n",
              "      (relu): ReLU(inplace=True)\n",
              "      (conv2): Conv2d(128, 128, kernel_size=(3, 3), stride=(1, 1), padding=(1, 1), bias=False)\n",
              "      (bn2): BatchNorm2d(128, eps=1e-05, momentum=0.1, affine=True, track_running_stats=True)\n",
              "    )\n",
              "  )\n",
              "  (layer3): Sequential(\n",
              "    (0): BasicBlock(\n",
              "      (conv1): Conv2d(128, 256, kernel_size=(3, 3), stride=(2, 2), padding=(1, 1), bias=False)\n",
              "      (bn1): BatchNorm2d(256, eps=1e-05, momentum=0.1, affine=True, track_running_stats=True)\n",
              "      (relu): ReLU(inplace=True)\n",
              "      (conv2): Conv2d(256, 256, kernel_size=(3, 3), stride=(1, 1), padding=(1, 1), bias=False)\n",
              "      (bn2): BatchNorm2d(256, eps=1e-05, momentum=0.1, affine=True, track_running_stats=True)\n",
              "      (downsample): Sequential(\n",
              "        (0): Conv2d(128, 256, kernel_size=(1, 1), stride=(2, 2), bias=False)\n",
              "        (1): BatchNorm2d(256, eps=1e-05, momentum=0.1, affine=True, track_running_stats=True)\n",
              "      )\n",
              "    )\n",
              "    (1): BasicBlock(\n",
              "      (conv1): Conv2d(256, 256, kernel_size=(3, 3), stride=(1, 1), padding=(1, 1), bias=False)\n",
              "      (bn1): BatchNorm2d(256, eps=1e-05, momentum=0.1, affine=True, track_running_stats=True)\n",
              "      (relu): ReLU(inplace=True)\n",
              "      (conv2): Conv2d(256, 256, kernel_size=(3, 3), stride=(1, 1), padding=(1, 1), bias=False)\n",
              "      (bn2): BatchNorm2d(256, eps=1e-05, momentum=0.1, affine=True, track_running_stats=True)\n",
              "    )\n",
              "  )\n",
              "  (layer4): Sequential(\n",
              "    (0): BasicBlock(\n",
              "      (conv1): Conv2d(256, 512, kernel_size=(3, 3), stride=(2, 2), padding=(1, 1), bias=False)\n",
              "      (bn1): BatchNorm2d(512, eps=1e-05, momentum=0.1, affine=True, track_running_stats=True)\n",
              "      (relu): ReLU(inplace=True)\n",
              "      (conv2): Conv2d(512, 512, kernel_size=(3, 3), stride=(1, 1), padding=(1, 1), bias=False)\n",
              "      (bn2): BatchNorm2d(512, eps=1e-05, momentum=0.1, affine=True, track_running_stats=True)\n",
              "      (downsample): Sequential(\n",
              "        (0): Conv2d(256, 512, kernel_size=(1, 1), stride=(2, 2), bias=False)\n",
              "        (1): BatchNorm2d(512, eps=1e-05, momentum=0.1, affine=True, track_running_stats=True)\n",
              "      )\n",
              "    )\n",
              "    (1): BasicBlock(\n",
              "      (conv1): Conv2d(512, 512, kernel_size=(3, 3), stride=(1, 1), padding=(1, 1), bias=False)\n",
              "      (bn1): BatchNorm2d(512, eps=1e-05, momentum=0.1, affine=True, track_running_stats=True)\n",
              "      (relu): ReLU(inplace=True)\n",
              "      (conv2): Conv2d(512, 512, kernel_size=(3, 3), stride=(1, 1), padding=(1, 1), bias=False)\n",
              "      (bn2): BatchNorm2d(512, eps=1e-05, momentum=0.1, affine=True, track_running_stats=True)\n",
              "    )\n",
              "  )\n",
              "  (avgpool): AdaptiveAvgPool2d(output_size=(1, 1))\n",
              "  (fc): Linear(in_features=512, out_features=2, bias=True)\n",
              ")"
            ]
          },
          "metadata": {
            "tags": []
          },
          "execution_count": 16
        }
      ]
    },
    {
      "cell_type": "code",
      "metadata": {
        "id": "61IVJvrmr7th",
        "colab_type": "code",
        "colab": {
          "base_uri": "https://localhost:8080/",
          "height": 1000
        },
        "outputId": "e4e4d8d5-531d-42c0-83a0-a30a586aa71f"
      },
      "source": [
        "summary(model.cuda(), [(3,224,224,)])"
      ],
      "execution_count": 17,
      "outputs": [
        {
          "output_type": "stream",
          "text": [
            "----------------------------------------------------------------\n",
            "        Layer (type)               Output Shape         Param #\n",
            "================================================================\n",
            "            Conv2d-1         [-1, 64, 112, 112]           9,408\n",
            "       BatchNorm2d-2         [-1, 64, 112, 112]             128\n",
            "              ReLU-3         [-1, 64, 112, 112]               0\n",
            "         MaxPool2d-4           [-1, 64, 56, 56]               0\n",
            "            Conv2d-5           [-1, 64, 56, 56]          36,864\n",
            "       BatchNorm2d-6           [-1, 64, 56, 56]             128\n",
            "              ReLU-7           [-1, 64, 56, 56]               0\n",
            "            Conv2d-8           [-1, 64, 56, 56]          36,864\n",
            "       BatchNorm2d-9           [-1, 64, 56, 56]             128\n",
            "             ReLU-10           [-1, 64, 56, 56]               0\n",
            "       BasicBlock-11           [-1, 64, 56, 56]               0\n",
            "           Conv2d-12           [-1, 64, 56, 56]          36,864\n",
            "      BatchNorm2d-13           [-1, 64, 56, 56]             128\n",
            "             ReLU-14           [-1, 64, 56, 56]               0\n",
            "           Conv2d-15           [-1, 64, 56, 56]          36,864\n",
            "      BatchNorm2d-16           [-1, 64, 56, 56]             128\n",
            "             ReLU-17           [-1, 64, 56, 56]               0\n",
            "       BasicBlock-18           [-1, 64, 56, 56]               0\n",
            "           Conv2d-19          [-1, 128, 28, 28]          73,728\n",
            "      BatchNorm2d-20          [-1, 128, 28, 28]             256\n",
            "             ReLU-21          [-1, 128, 28, 28]               0\n",
            "           Conv2d-22          [-1, 128, 28, 28]         147,456\n",
            "      BatchNorm2d-23          [-1, 128, 28, 28]             256\n",
            "           Conv2d-24          [-1, 128, 28, 28]           8,192\n",
            "      BatchNorm2d-25          [-1, 128, 28, 28]             256\n",
            "             ReLU-26          [-1, 128, 28, 28]               0\n",
            "       BasicBlock-27          [-1, 128, 28, 28]               0\n",
            "           Conv2d-28          [-1, 128, 28, 28]         147,456\n",
            "      BatchNorm2d-29          [-1, 128, 28, 28]             256\n",
            "             ReLU-30          [-1, 128, 28, 28]               0\n",
            "           Conv2d-31          [-1, 128, 28, 28]         147,456\n",
            "      BatchNorm2d-32          [-1, 128, 28, 28]             256\n",
            "             ReLU-33          [-1, 128, 28, 28]               0\n",
            "       BasicBlock-34          [-1, 128, 28, 28]               0\n",
            "           Conv2d-35          [-1, 256, 14, 14]         294,912\n",
            "      BatchNorm2d-36          [-1, 256, 14, 14]             512\n",
            "             ReLU-37          [-1, 256, 14, 14]               0\n",
            "           Conv2d-38          [-1, 256, 14, 14]         589,824\n",
            "      BatchNorm2d-39          [-1, 256, 14, 14]             512\n",
            "           Conv2d-40          [-1, 256, 14, 14]          32,768\n",
            "      BatchNorm2d-41          [-1, 256, 14, 14]             512\n",
            "             ReLU-42          [-1, 256, 14, 14]               0\n",
            "       BasicBlock-43          [-1, 256, 14, 14]               0\n",
            "           Conv2d-44          [-1, 256, 14, 14]         589,824\n",
            "      BatchNorm2d-45          [-1, 256, 14, 14]             512\n",
            "             ReLU-46          [-1, 256, 14, 14]               0\n",
            "           Conv2d-47          [-1, 256, 14, 14]         589,824\n",
            "      BatchNorm2d-48          [-1, 256, 14, 14]             512\n",
            "             ReLU-49          [-1, 256, 14, 14]               0\n",
            "       BasicBlock-50          [-1, 256, 14, 14]               0\n",
            "           Conv2d-51            [-1, 512, 7, 7]       1,179,648\n",
            "      BatchNorm2d-52            [-1, 512, 7, 7]           1,024\n",
            "             ReLU-53            [-1, 512, 7, 7]               0\n",
            "           Conv2d-54            [-1, 512, 7, 7]       2,359,296\n",
            "      BatchNorm2d-55            [-1, 512, 7, 7]           1,024\n",
            "           Conv2d-56            [-1, 512, 7, 7]         131,072\n",
            "      BatchNorm2d-57            [-1, 512, 7, 7]           1,024\n",
            "             ReLU-58            [-1, 512, 7, 7]               0\n",
            "       BasicBlock-59            [-1, 512, 7, 7]               0\n",
            "           Conv2d-60            [-1, 512, 7, 7]       2,359,296\n",
            "      BatchNorm2d-61            [-1, 512, 7, 7]           1,024\n",
            "             ReLU-62            [-1, 512, 7, 7]               0\n",
            "           Conv2d-63            [-1, 512, 7, 7]       2,359,296\n",
            "      BatchNorm2d-64            [-1, 512, 7, 7]           1,024\n",
            "             ReLU-65            [-1, 512, 7, 7]               0\n",
            "       BasicBlock-66            [-1, 512, 7, 7]               0\n",
            "AdaptiveAvgPool2d-67            [-1, 512, 1, 1]               0\n",
            "           Linear-68                    [-1, 2]           1,026\n",
            "================================================================\n",
            "Total params: 11,177,538\n",
            "Trainable params: 11,177,538\n",
            "Non-trainable params: 0\n",
            "----------------------------------------------------------------\n",
            "Input size (MB): 0.57\n",
            "Forward/backward pass size (MB): 62.79\n",
            "Params size (MB): 42.64\n",
            "Estimated Total Size (MB): 106.00\n",
            "----------------------------------------------------------------\n"
          ],
          "name": "stdout"
        }
      ]
    },
    {
      "cell_type": "code",
      "metadata": {
        "id": "VhXhlzFK2Dl1",
        "colab_type": "code",
        "colab": {}
      },
      "source": [
        ""
      ],
      "execution_count": null,
      "outputs": []
    },
    {
      "cell_type": "code",
      "metadata": {
        "id": "V5U-QpQHr7wE",
        "colab_type": "code",
        "colab": {}
      },
      "source": [
        ""
      ],
      "execution_count": null,
      "outputs": []
    },
    {
      "cell_type": "code",
      "metadata": {
        "id": "VAoD68pMf5oy",
        "colab_type": "code",
        "colab": {}
      },
      "source": [
        "def run_epoch(model, dataloader, criterion, optimizer, lr_scheduler, phase='train'):\n",
        "    epoch_loss = 0.\n",
        "    epoch_acc = 0.\n",
        "    \n",
        "    batch_num = 0.\n",
        "    samples_num = 0.\n",
        "    \n",
        "    true_labels = []\n",
        "    pred_labels = []\n",
        "    \n",
        "    for batch_idx, (data, labels) in enumerate(dataloader):\n",
        "        data, labels = data.to(device), labels.to(device)\n",
        "        optimizer.zero_grad()\n",
        "        if phase == 'train':\n",
        "            model.train()\n",
        "        else:\n",
        "            model.eval()\n",
        "        with torch.set_grad_enabled(phase == 'train'):\n",
        "            outputs = model(data)\n",
        "            _, preds = torch.max(outputs, 1)\n",
        "            loss = criterion(outputs, labels)\n",
        "        \n",
        "        true_labels.append(labels.detach().cpu())\n",
        "        pred_labels.append(preds.detach().cpu())\n",
        "        \n",
        "        if phase == 'train':\n",
        "            loss.backward()\n",
        "            optimizer.step()\n",
        "        \n",
        "        print(f'\\r{phase} batch [{batch_idx}/{len(dataloader)}]: loss {loss.item()}', end='', flush=True)\n",
        "        epoch_loss += loss.detach().cpu().item()\n",
        "        epoch_acc += torch.sum(preds == labels.data)\n",
        "        batch_num += 1\n",
        "        samples_num += len(labels)\n",
        "    \n",
        "    print()\n",
        "    return epoch_loss / batch_num, epoch_acc / samples_num, torch.cat(true_labels).numpy(), torch.cat(pred_labels).numpy()"
      ],
      "execution_count": 18,
      "outputs": []
    },
    {
      "cell_type": "code",
      "metadata": {
        "id": "68w_Ljsff9wO",
        "colab_type": "code",
        "colab": {}
      },
      "source": [
        ""
      ],
      "execution_count": null,
      "outputs": []
    },
    {
      "cell_type": "code",
      "metadata": {
        "id": "x7qXbQPUgRnw",
        "colab_type": "code",
        "colab": {}
      },
      "source": [
        ""
      ],
      "execution_count": null,
      "outputs": []
    },
    {
      "cell_type": "code",
      "metadata": {
        "id": "MCUrp4S-gRqP",
        "colab_type": "code",
        "colab": {}
      },
      "source": [
        "criterion = torch.nn.CrossEntropyLoss()\n",
        "#optimizer = torch.optim.SGD(model.parameters(), lr=1e-2, weight_decay=0.001)\n",
        "optimizer = torch.optim.SGD([{'params': [param for name, param in model.named_parameters() if 'fc' not in name]}, {'params': model.fc.parameters(), 'lr': 1e-3}], lr=5e-4, weight_decay=0.001)\n",
        "lr_scheduler = torch.optim.lr_scheduler.ReduceLROnPlateau(optimizer, patience=3, verbose=True)"
      ],
      "execution_count": 19,
      "outputs": []
    },
    {
      "cell_type": "code",
      "metadata": {
        "id": "iAn4FWp3nOVR",
        "colab_type": "code",
        "colab": {
          "base_uri": "https://localhost:8080/",
          "height": 1000
        },
        "outputId": "9160d760-5cd2-4904-95bd-f7338ad72ffb"
      },
      "source": [
        "train_losses = []\n",
        "val_losses = []\n",
        "test_losses = []\n",
        "output_folder = '/content/drive/My Drive/Dataset/c/'\n",
        "for epoch in range(50):\n",
        "    print('='*15, f'Epoch: {epoch}')\n",
        "    \n",
        "    train_loss, train_acc, _, _ = run_epoch(model, train_dataloader, criterion, optimizer, lr_scheduler)\n",
        "    val_loss, val_acc, _, _ = run_epoch(model, val_dataloader, criterion, optimizer, lr_scheduler, phase='val')\n",
        "    test_loss, test_acc, true_labels, pred_labels = run_epoch(model, test_dataloader, criterion, optimizer, lr_scheduler, phase='test')\n",
        "    \n",
        "    print(f'Train loss: {train_loss}, Train accuracy: {train_acc}')\n",
        "    print(f'Val loss: {val_loss}, Val accuracy: {val_acc}')\n",
        "    print(f'Test loss: {test_loss}, Test accuracy: {test_acc}')\n",
        "    print()\n",
        "    \n",
        "    train_losses.append(train_loss)\n",
        "    val_losses.append(val_loss)\n",
        "    test_losses.append(test_loss)\n",
        "    \n",
        "    np.save(output_folder+'/train_losses',train_losses)\n",
        "    np.save(output_folder+'/val_losses',val_losses)\n",
        "    np.save(output_folder+'/test_losses',test_losses)\n",
        "    \n",
        "    torch.save({'epoch': epoch, 'model': model.state_dict()}, f'resnet34-chest-x-ray-{seed}.pt')\n",
        "    \n",
        "    if best_model is None or val_loss < best_loss:\n",
        "        best_model = copy.deepcopy(model)\n",
        "        best_loss = val_loss\n",
        "        best_test_loss = test_loss\n",
        "        best_test_acc = test_acc \n",
        "        best_pred_labels = pred_labels\n",
        "        torch.save({'epoch': epoch, 'model': model.state_dict()}, f'resnet34-chest-x-ray_ldp-best-{seed}.pt')"
      ],
      "execution_count": 20,
      "outputs": [
        {
          "output_type": "stream",
          "text": [
            "=============== Epoch: 0\n",
            "train batch [40/41]: loss 0.6365864276885986\n",
            "val batch [3/4]: loss 0.19492796063423157\n",
            "test batch [4/5]: loss 0.22709067165851593\n",
            "Train loss: 0.5669909875567366, Train accuracy: 0.7430981397628784\n",
            "Val loss: 0.7219343446195126, Val accuracy: 0.5625\n",
            "Test loss: 0.68297119140625, Test accuracy: 0.6282051205635071\n",
            "\n",
            "=============== Epoch: 1\n",
            "train batch [40/41]: loss 0.592029333114624\n",
            "val batch [3/4]: loss 0.2076452672481537\n",
            "test batch [4/5]: loss 0.20934994518756866\n",
            "Train loss: 0.5592190826811442, Train accuracy: 0.7461656332015991\n",
            "Val loss: 0.7863499596714973, Val accuracy: 0.5625\n",
            "Test loss: 0.6233331263065338, Test accuracy: 0.634615421295166\n",
            "\n",
            "=============== Epoch: 2\n",
            "train batch [40/41]: loss 0.5562421679496765\n",
            "val batch [3/4]: loss 0.12798568606376648\n",
            "test batch [4/5]: loss 0.1366831213235855\n",
            "Train loss: 0.5509423111996999, Train accuracy: 0.7498082518577576\n",
            "Val loss: 0.6555221118032932, Val accuracy: 0.5625\n",
            "Test loss: 0.6412817001342773, Test accuracy: 0.634615421295166\n",
            "\n",
            "=============== Epoch: 3\n",
            "train batch [40/41]: loss 0.5511499047279358\n",
            "val batch [3/4]: loss 0.11892426759004593\n",
            "test batch [4/5]: loss 0.1618049293756485\n",
            "Train loss: 0.5478135092956263, Train accuracy: 0.7534509301185608\n",
            "Val loss: 0.5871638786047697, Val accuracy: 0.5625\n",
            "Test loss: 0.5629625409841538, Test accuracy: 0.6714743971824646\n",
            "\n",
            "=============== Epoch: 4\n",
            "train batch [40/41]: loss 0.6590115427970886\n",
            "val batch [3/4]: loss 0.12670809030532837\n",
            "test batch [4/5]: loss 0.1643141359090805\n",
            "Train loss: 0.5449426225045833, Train accuracy: 0.754217803478241\n",
            "Val loss: 0.5470296926796436, Val accuracy: 0.625\n",
            "Test loss: 0.5317156165838242, Test accuracy: 0.7083333134651184\n",
            "\n",
            "=============== Epoch: 5\n",
            "train batch [40/41]: loss 0.5240691304206848\n",
            "val batch [3/4]: loss 0.09562594443559647\n",
            "test batch [4/5]: loss 0.10996639728546143\n",
            "Train loss: 0.5410518733466544, Train accuracy: 0.7569018006324768\n",
            "Val loss: 0.622127783484757, Val accuracy: 0.5625\n",
            "Test loss: 0.5706477031111717, Test accuracy: 0.6810897588729858\n",
            "\n",
            "=============== Epoch: 6\n",
            "train batch [40/41]: loss 0.6114127039909363\n",
            "val batch [3/4]: loss 0.07472754269838333\n",
            "test batch [4/5]: loss 0.1363385021686554\n",
            "Train loss: 0.5376240211289104, Train accuracy: 0.7584355473518372\n",
            "Val loss: 0.5102422665804625, Val accuracy: 0.625\n",
            "Test loss: 0.4988199219107628, Test accuracy: 0.7291666865348816\n",
            "\n",
            "=============== Epoch: 7\n",
            "train batch [40/41]: loss 0.5380285382270813\n",
            "val batch [3/4]: loss 0.0795651227235794\n",
            "test batch [4/5]: loss 0.11630477011203766\n",
            "Train loss: 0.5339844590280114, Train accuracy: 0.76054447889328\n",
            "Val loss: 0.4819287657737732, Val accuracy: 0.625\n",
            "Test loss: 0.5137513816356659, Test accuracy: 0.7243589758872986\n",
            "\n",
            "=============== Epoch: 8\n",
            "train batch [40/41]: loss 0.518369197845459\n",
            "val batch [3/4]: loss 0.06875360012054443\n",
            "test batch [4/5]: loss 0.11741896718740463\n",
            "Train loss: 0.5329990452382622, Train accuracy: 0.7616947889328003\n",
            "Val loss: 0.49214732833206654, Val accuracy: 0.5625\n",
            "Test loss: 0.4938108831644058, Test accuracy: 0.7291666865348816\n",
            "\n",
            "=============== Epoch: 9\n",
            "train batch [40/41]: loss 0.6083174347877502\n",
            "val batch [3/4]: loss 0.051754094660282135\n",
            "test batch [4/5]: loss 0.11190439760684967\n",
            "Train loss: 0.5309435136434508, Train accuracy: 0.7638036608695984\n",
            "Val loss: 0.48722974210977554, Val accuracy: 0.625\n",
            "Test loss: 0.48792998492717743, Test accuracy: 0.745192289352417\n",
            "\n",
            "=============== Epoch: 10\n",
            "train batch [40/41]: loss 0.4924473464488983\n",
            "val batch [3/4]: loss 0.10150674730539322\n",
            "test batch [4/5]: loss 0.11527557671070099\n",
            "Train loss: 0.5289376152724754, Train accuracy: 0.7651456594467163\n",
            "Val loss: 0.40027700550854206, Val accuracy: 0.8125\n",
            "Test loss: 0.4831829145550728, Test accuracy: 0.7532051205635071\n",
            "\n",
            "=============== Epoch: 11\n",
            "train batch [40/41]: loss 0.6099597215652466\n",
            "val batch [3/4]: loss 0.11340054124593735\n",
            "test batch [4/5]: loss 0.1311095803976059\n",
            "Train loss: 0.5288350865608309, Train accuracy: 0.7638036608695984\n",
            "Val loss: 0.4275187384337187, Val accuracy: 0.75\n",
            "Test loss: 0.4521908611059189, Test accuracy: 0.7740384936332703\n",
            "\n",
            "=============== Epoch: 12\n",
            "train batch [40/41]: loss 0.5639212727546692\n",
            "val batch [3/4]: loss 0.09442847967147827\n",
            "test batch [4/5]: loss 0.16049344837665558\n",
            "Train loss: 0.5385427133339208, Train accuracy: 0.7578604221343994\n",
            "Val loss: 0.4599749855697155, Val accuracy: 0.6875\n",
            "Test loss: 0.45782849490642546, Test accuracy: 0.7820512652397156\n",
            "\n",
            "=============== Epoch: 13\n",
            "train batch [40/41]: loss 0.6453832983970642\n",
            "val batch [3/4]: loss 0.027201630175113678\n",
            "test batch [4/5]: loss 0.11134374141693115\n",
            "Train loss: 0.5322995563832725, Train accuracy: 0.7624616622924805\n",
            "Val loss: 0.6520114317536354, Val accuracy: 0.5625\n",
            "Test loss: 0.4708957582712173, Test accuracy: 0.7676281929016113\n",
            "\n",
            "=============== Epoch: 14\n",
            "train batch [40/41]: loss 0.567075252532959\n",
            "val batch [3/4]: loss 0.051943980157375336\n",
            "test batch [4/5]: loss 0.11019091308116913\n",
            "Train loss: 0.5284052396692881, Train accuracy: 0.7643788456916809\n",
            "Val loss: 0.44937457144260406, Val accuracy: 0.6875\n",
            "Test loss: 0.45546896010637283, Test accuracy: 0.7836538553237915\n",
            "\n",
            "=============== Epoch: 15\n",
            "train batch [40/41]: loss 0.5853582620620728\n",
            "val batch [3/4]: loss 0.02528722956776619\n",
            "test batch [4/5]: loss 0.0939541831612587\n",
            "Train loss: 0.521719423736014, Train accuracy: 0.7689800262451172\n",
            "Val loss: 0.46778093837201595, Val accuracy: 0.6875\n",
            "Test loss: 0.4526465892791748, Test accuracy: 0.7820512652397156\n",
            "\n",
            "=============== Epoch: 16\n",
            "train batch [40/41]: loss 0.5747160315513611\n",
            "val batch [3/4]: loss 0.03950456902384758\n",
            "test batch [4/5]: loss 0.08692029863595963\n",
            "Train loss: 0.5216233047043405, Train accuracy: 0.7695552110671997\n",
            "Val loss: 0.6136254221200943, Val accuracy: 0.5\n",
            "Test loss: 0.46438329219818114, Test accuracy: 0.7852564454078674\n",
            "\n",
            "=============== Epoch: 17\n",
            "train batch [40/41]: loss 0.530008852481842\n",
            "val batch [3/4]: loss 0.03881743922829628\n",
            "test batch [4/5]: loss 0.10582762956619263\n",
            "Train loss: 0.5223794550430484, Train accuracy: 0.7680214643478394\n",
            "Val loss: 0.4326208410784602, Val accuracy: 0.6875\n",
            "Test loss: 0.42603513449430463, Test accuracy: 0.8044871687889099\n",
            "\n",
            "=============== Epoch: 18\n",
            "train batch [40/41]: loss 0.5846617817878723\n",
            "val batch [3/4]: loss 0.04435652866959572\n",
            "test batch [4/5]: loss 0.07913535833358765\n",
            "Train loss: 0.5201511034151403, Train accuracy: 0.768213152885437\n",
            "Val loss: 0.5238687302917242, Val accuracy: 0.625\n",
            "Test loss: 0.46905204355716706, Test accuracy: 0.7820512652397156\n",
            "\n",
            "=============== Epoch: 19\n",
            "train batch [40/41]: loss 0.4941619336605072\n",
            "val batch [3/4]: loss 0.028130419552326202\n",
            "test batch [4/5]: loss 0.07329477369785309\n",
            "Train loss: 0.5189296494169933, Train accuracy: 0.7678297162055969\n",
            "Val loss: 0.42170191928744316, Val accuracy: 0.75\n",
            "Test loss: 0.48938116878271104, Test accuracy: 0.7804487347602844\n",
            "\n",
            "=============== Epoch: 20\n",
            "train batch [40/41]: loss 0.47406724095344543\n",
            "val batch [3/4]: loss 0.0659140944480896\n",
            "test batch [4/5]: loss 0.09363450855016708\n",
            "Train loss: 0.5181009776708556, Train accuracy: 0.7697468996047974\n",
            "Val loss: 0.44595950096845627, Val accuracy: 0.75\n",
            "Test loss: 0.4517767995595932, Test accuracy: 0.7980769276618958\n",
            "\n",
            "=============== Epoch: 21\n",
            "train batch [40/41]: loss 0.5579783320426941\n",
            "val batch [3/4]: loss 0.05177876353263855\n",
            "test batch [4/5]: loss 0.07976780086755753\n",
            "Train loss: 0.517893506259453, Train accuracy: 0.7699386477470398\n",
            "Val loss: 0.5458104317076504, Val accuracy: 0.6875\n",
            "Test loss: 0.4559103772044182, Test accuracy: 0.7932692170143127\n",
            "\n",
            "=============== Epoch: 22\n",
            "train batch [40/41]: loss 0.45468947291374207\n",
            "val batch [3/4]: loss 0.01861908659338951\n",
            "test batch [4/5]: loss 0.06992186605930328\n",
            "Train loss: 0.5155077605712705, Train accuracy: 0.7684049010276794\n",
            "Val loss: 0.46140653919428587, Val accuracy: 0.6875\n",
            "Test loss: 0.47741180211305617, Test accuracy: 0.7900640964508057\n",
            "\n",
            "=============== Epoch: 23\n",
            "train batch [40/41]: loss 0.46720442175865173\n",
            "val batch [3/4]: loss 0.006998739670962095\n",
            "test batch [4/5]: loss 0.0803493931889534\n",
            "Train loss: 0.518025237612608, Train accuracy: 0.7693634629249573\n",
            "Val loss: 0.5377747964812443, Val accuracy: 0.6875\n",
            "Test loss: 0.45214592665433884, Test accuracy: 0.7948718070983887\n",
            "\n",
            "=============== Epoch: 24\n",
            "train batch [40/41]: loss 0.5516753792762756\n",
            "val batch [3/4]: loss 0.044772833585739136\n",
            "test batch [4/5]: loss 0.06916393339633942\n",
            "Train loss: 0.5162404492134001, Train accuracy: 0.77070552110672\n",
            "Val loss: 0.5113976029679179, Val accuracy: 0.625\n",
            "Test loss: 0.4764391630887985, Test accuracy: 0.7804487347602844\n",
            "\n",
            "=============== Epoch: 25\n",
            "train batch [40/41]: loss 0.557224452495575\n",
            "val batch [3/4]: loss 0.008827690035104752\n",
            "test batch [4/5]: loss 0.07649625092744827\n",
            "Train loss: 0.5171899134066047, Train accuracy: 0.7695552110671997\n",
            "Val loss: 0.4381027100607753, Val accuracy: 0.6875\n",
            "Test loss: 0.4631858304142952, Test accuracy: 0.7948718070983887\n",
            "\n",
            "=============== Epoch: 26\n",
            "train batch [40/41]: loss 0.456564337015152\n",
            "val batch [3/4]: loss 0.039164453744888306\n",
            "test batch [4/5]: loss 0.0834466964006424\n",
            "Train loss: 0.5151766647652882, Train accuracy: 0.7691717743873596\n",
            "Val loss: 0.47002829518169165, Val accuracy: 0.6875\n",
            "Test loss: 0.47055922597646715, Test accuracy: 0.7932692170143127\n",
            "\n",
            "=============== Epoch: 27\n",
            "train batch [40/41]: loss 0.49946415424346924\n",
            "val batch [3/4]: loss 0.07939814776182175\n",
            "test batch [4/5]: loss 0.08037734031677246\n",
            "Train loss: 0.5151920136882038, Train accuracy: 0.7701303362846375\n",
            "Val loss: 0.473870879271999, Val accuracy: 0.75\n",
            "Test loss: 0.45287153869867325, Test accuracy: 0.7948718070983887\n",
            "\n",
            "=============== Epoch: 28\n",
            "train batch [40/41]: loss 0.5161133408546448\n",
            "val batch [3/4]: loss 0.04460025578737259\n",
            "test batch [4/5]: loss 0.07001647353172302\n",
            "Train loss: 0.5131029988207468, Train accuracy: 0.772430956363678\n",
            "Val loss: 0.46094151260331273, Val accuracy: 0.75\n",
            "Test loss: 0.46278131753206253, Test accuracy: 0.7948718070983887\n",
            "\n",
            "=============== Epoch: 29\n",
            "train batch [40/41]: loss 0.47296252846717834\n",
            "val batch [3/4]: loss 0.07084750384092331\n",
            "test batch [4/5]: loss 0.08475945144891739\n",
            "Train loss: 0.5123014530030693, Train accuracy: 0.772430956363678\n",
            "Val loss: 0.5916804256848991, Val accuracy: 0.6875\n",
            "Test loss: 0.43776988238096237, Test accuracy: 0.8028846383094788\n",
            "\n",
            "=============== Epoch: 30\n",
            "train batch [40/41]: loss 0.5414720177650452\n",
            "val batch [3/4]: loss 0.022797521203756332\n",
            "test batch [4/5]: loss 0.0748693197965622\n",
            "Train loss: 0.5147603619389418, Train accuracy: 0.7705137729644775\n",
            "Val loss: 0.5313399382866919, Val accuracy: 0.625\n",
            "Test loss: 0.482658851146698, Test accuracy: 0.7900640964508057\n",
            "\n",
            "=============== Epoch: 31\n",
            "train batch [40/41]: loss 0.4707764685153961\n",
            "val batch [3/4]: loss 0.02210361510515213\n",
            "test batch [4/5]: loss 0.0649757832288742\n",
            "Train loss: 0.5169978606991652, Train accuracy: 0.7714723944664001\n",
            "Val loss: 0.6271874778904021, Val accuracy: 0.6875\n",
            "Test loss: 0.5048649467527866, Test accuracy: 0.7628205418586731\n",
            "\n",
            "=============== Epoch: 32\n",
            "train batch [40/41]: loss 0.4602290093898773\n",
            "val batch [3/4]: loss 0.016797887161374092\n",
            "test batch [4/5]: loss 0.08645440638065338\n",
            "Train loss: 0.513308022807284, Train accuracy: 0.7726227045059204\n",
            "Val loss: 0.4573260326869786, Val accuracy: 0.6875\n",
            "Test loss: 0.4273684874176979, Test accuracy: 0.817307710647583\n",
            "\n",
            "=============== Epoch: 33\n",
            "train batch [40/41]: loss 0.5838444828987122\n",
            "val batch [3/4]: loss 0.01571306772530079\n",
            "test batch [4/5]: loss 0.06913046538829803\n",
            "Train loss: 0.5105403247402935, Train accuracy: 0.7720475196838379\n",
            "Val loss: 0.5103977709077299, Val accuracy: 0.8125\n",
            "Test loss: 0.46319118738174436, Test accuracy: 0.8044871687889099\n",
            "\n",
            "=============== Epoch: 34\n",
            "train batch [40/41]: loss 0.47367334365844727\n",
            "val batch [3/4]: loss 0.03919289633631706\n",
            "test batch [4/5]: loss 0.07719840109348297\n",
            "Train loss: 0.5085655123722262, Train accuracy: 0.7730061411857605\n",
            "Val loss: 0.5329090596642345, Val accuracy: 0.6875\n",
            "Test loss: 0.4389043107628822, Test accuracy: 0.8092948794364929\n",
            "\n",
            "=============== Epoch: 35\n",
            "train batch [40/41]: loss 0.534630537033081\n",
            "val batch [3/4]: loss 0.030045602470636368\n",
            "test batch [4/5]: loss 0.08949418365955353\n",
            "Train loss: 0.5096357493865781, Train accuracy: 0.7735812664031982\n",
            "Val loss: 0.358177229994908, Val accuracy: 0.8125\n",
            "Test loss: 0.41061716377735136, Test accuracy: 0.8157051205635071\n",
            "\n",
            "=============== Epoch: 36\n",
            "train batch [40/41]: loss 0.4761570394039154\n",
            "val batch [3/4]: loss 0.022397127002477646\n",
            "test batch [4/5]: loss 0.05749577656388283\n",
            "Train loss: 0.5084146719153334, Train accuracy: 0.7737730145454407\n",
            "Val loss: 0.4922217195853591, Val accuracy: 0.5625\n",
            "Test loss: 0.47968206480145453, Test accuracy: 0.7980769276618958\n",
            "\n",
            "=============== Epoch: 37\n",
            "train batch [40/41]: loss 0.5161973237991333\n",
            "val batch [3/4]: loss 0.05392022803425789\n",
            "test batch [4/5]: loss 0.0763002261519432\n",
            "Train loss: 0.5072297323040846, Train accuracy: 0.7737730145454407\n",
            "Val loss: 0.4500097460113466, Val accuracy: 0.6875\n",
            "Test loss: 0.4638910569250584, Test accuracy: 0.7964743971824646\n",
            "\n",
            "=============== Epoch: 38\n",
            "train batch [40/41]: loss 0.4584573805332184\n",
            "val batch [3/4]: loss 0.01455029658973217\n",
            "test batch [4/5]: loss 0.05939783528447151\n",
            "Train loss: 0.5092085490866405, Train accuracy: 0.772430956363678\n",
            "Val loss: 0.4478298923932016, Val accuracy: 0.6875\n",
            "Test loss: 0.47928384840488436, Test accuracy: 0.8012820482254028\n",
            "\n",
            "=============== Epoch: 39\n",
            "train batch [40/41]: loss 0.6186828017234802\n",
            "val batch [3/4]: loss 0.031064175069332123\n",
            "test batch [4/5]: loss 0.06403885781764984\n",
            "Train loss: 0.5104971222761201, Train accuracy: 0.7722392678260803\n",
            "Val loss: 0.5686418693512678, Val accuracy: 0.5625\n",
            "Test loss: 0.4729275070130825, Test accuracy: 0.7964743971824646\n",
            "\n",
            "=============== Epoch: 40\n",
            "train batch [40/41]: loss 0.5296655297279358\n",
            "val batch [3/4]: loss 0.02477281540632248\n",
            "test batch [4/5]: loss 0.058623287826776505\n",
            "Train loss: 0.5071939527988434, Train accuracy: 0.7745398879051208\n",
            "Val loss: 0.4542847126722336, Val accuracy: 0.75\n",
            "Test loss: 0.48663959428668024, Test accuracy: 0.7964743971824646\n",
            "\n",
            "=============== Epoch: 41\n",
            "train batch [40/41]: loss 0.45211538672447205\n",
            "val batch [3/4]: loss 0.04808387532830238\n",
            "test batch [4/5]: loss 0.08305946737527847\n",
            "Train loss: 0.5045061067837041, Train accuracy: 0.7745398879051208\n",
            "Val loss: 0.3569567450322211, Val accuracy: 0.8125\n",
            "Test loss: 0.41917614489793775, Test accuracy: 0.8157051205635071\n",
            "\n",
            "=============== Epoch: 42\n",
            "train batch [40/41]: loss 0.49473807215690613\n",
            "val batch [3/4]: loss 0.18885864317417145\n",
            "test batch [4/5]: loss 0.08342134207487106\n",
            "Train loss: 0.5062142937648587, Train accuracy: 0.7745398879051208\n",
            "Val loss: 0.5240113781765103, Val accuracy: 0.625\n",
            "Test loss: 0.41633128374814987, Test accuracy: 0.8125\n",
            "\n",
            "=============== Epoch: 43\n",
            "train batch [40/41]: loss 0.5412359237670898\n",
            "val batch [3/4]: loss 0.05188848823308945\n",
            "test batch [4/5]: loss 0.06502678245306015\n",
            "Train loss: 0.504981402216888, Train accuracy: 0.7739647030830383\n",
            "Val loss: 0.5672992325853556, Val accuracy: 0.6875\n",
            "Test loss: 0.4549796499311924, Test accuracy: 0.8060897588729858\n",
            "\n",
            "=============== Epoch: 44\n",
            "train batch [40/41]: loss 0.48767825961112976\n",
            "val batch [3/4]: loss 0.008017482236027718\n",
            "test batch [4/5]: loss 0.07124262303113937\n",
            "Train loss: 0.50640233842338, Train accuracy: 0.7745398879051208\n",
            "Val loss: 0.46336530754342675, Val accuracy: 0.75\n",
            "Test loss: 0.43018189668655393, Test accuracy: 0.8092948794364929\n",
            "\n",
            "=============== Epoch: 45\n",
            "train batch [40/41]: loss 0.516264021396637\n",
            "val batch [3/4]: loss 0.007771703414618969\n",
            "test batch [4/5]: loss 0.06318405270576477\n",
            "Train loss: 0.5047961589766712, Train accuracy: 0.7760735750198364\n",
            "Val loss: 0.44265752914361656, Val accuracy: 0.75\n",
            "Test loss: 0.4710340306162834, Test accuracy: 0.7980769276618958\n",
            "\n",
            "=============== Epoch: 46\n",
            "train batch [40/41]: loss 0.5944435000419617\n",
            "val batch [3/4]: loss 0.039495211094617844\n",
            "test batch [4/5]: loss 0.06545744836330414\n",
            "Train loss: 0.5033157911242508, Train accuracy: 0.7751150131225586\n",
            "Val loss: 0.5221882900223136, Val accuracy: 0.625\n",
            "Test loss: 0.44761163368821144, Test accuracy: 0.8060897588729858\n",
            "\n",
            "=============== Epoch: 47\n",
            "train batch [40/41]: loss 0.4835869073867798\n",
            "val batch [3/4]: loss 0.005076467990875244\n",
            "test batch [4/5]: loss 0.05934491381049156\n",
            "Train loss: 0.5063812696352238, Train accuracy: 0.7735812664031982\n",
            "Val loss: 0.5234264992177486, Val accuracy: 0.75\n",
            "Test loss: 0.4823105052113533, Test accuracy: 0.7948718070983887\n",
            "\n",
            "=============== Epoch: 48\n",
            "train batch [40/41]: loss 0.5201639533042908\n",
            "val batch [3/4]: loss 0.013446087017655373\n",
            "test batch [4/5]: loss 0.07462954521179199\n",
            "Train loss: 0.5056282579898834, Train accuracy: 0.7753067016601562\n",
            "Val loss: 0.4245097008533776, Val accuracy: 0.6875\n",
            "Test loss: 0.4392565190792084, Test accuracy: 0.8060897588729858\n",
            "\n",
            "=============== Epoch: 49\n",
            "train batch [40/41]: loss 0.4853883683681488\n",
            "val batch [3/4]: loss 0.07599873095750809\n",
            "test batch [4/5]: loss 0.0673162117600441\n",
            "Train loss: 0.5030978794504957, Train accuracy: 0.776648759841919\n",
            "Val loss: 0.43854605965316296, Val accuracy: 0.6875\n",
            "Test loss: 0.4466650776565075, Test accuracy: 0.8108974695205688\n",
            "\n"
          ],
          "name": "stdout"
        }
      ]
    },
    {
      "cell_type": "code",
      "metadata": {
        "id": "78IkqIEdlNwB",
        "colab_type": "code",
        "colab": {}
      },
      "source": [
        ""
      ],
      "execution_count": null,
      "outputs": []
    },
    {
      "cell_type": "markdown",
      "metadata": {
        "id": "cAy1bb7MKXYb",
        "colab_type": "text"
      },
      "source": [
        "### Training Images with Epsilon = 0.25"
      ]
    },
    {
      "cell_type": "code",
      "metadata": {
        "id": "8tI980yAKXyl",
        "colab_type": "code",
        "colab": {
          "base_uri": "https://localhost:8080/",
          "height": 272
        },
        "outputId": "095d97a7-e791-420b-bdae-3e2016647d84"
      },
      "source": [
        "import matplotlib.pyplot as plt\n",
        "from PIL import Image\n",
        "\n",
        "fig = plt.figure(figsize=(30, 6))\n",
        "base_dir = './train'\n",
        "# display 8 PNEUMONIA images(train) for Epsilon :0.25\n",
        "train_imgs = os.listdir(base_dir+\"/PNEUMONIA\")\n",
        "for idx, img in enumerate(np.random.choice(train_imgs, 8)):\n",
        "    ax = fig.add_subplot(2, 8//2, idx+1, xticks=[], yticks=[])\n",
        "    im = Image.open(base_dir+\"/PNEUMONIA/\" + img)\n",
        "    plt.imshow(im)\n",
        "    ax.set_title('PNEUMONIA(EPS:0.25)')"
      ],
      "execution_count": 21,
      "outputs": [
        {
          "output_type": "display_data",
          "data": {
            "image/png": "[encoded data removed]",
            "text/plain": [
              "<Figure size 2160x432 with 8 Axes>"
            ]
          },
          "metadata": {
            "tags": []
          }
        }
      ]
    },
    {
      "cell_type": "code",
      "metadata": {
        "id": "4bfhT2yGKYBW",
        "colab_type": "code",
        "colab": {
          "base_uri": "https://localhost:8080/",
          "height": 295
        },
        "outputId": "01a1ecd9-5b2f-4300-b6a2-6f7fb68205d9"
      },
      "source": [
        "fig = plt.figure(figsize=(30, 6))\n",
        "base_dir = './train'\n",
        "# display 8 NORMAL images(train) for Epsilon :0.25\n",
        "train_imgs = os.listdir(base_dir+\"/NORMAL\")\n",
        "for idx, img in enumerate(np.random.choice(train_imgs, 8)):\n",
        "    ax = fig.add_subplot(2, 8//2, idx+1, xticks=[], yticks=[])\n",
        "    im = Image.open(base_dir+\"/NORMAL/\" + img)\n",
        "    plt.imshow(im)\n",
        "    ax.set_title('NORMAL(EPS:0.25)')"
      ],
      "execution_count": 22,
      "outputs": [
        {
          "output_type": "display_data",
          "data": {
            "image/png": "[encoded data removed]",
            "text/plain": [
              "<Figure size 2160x432 with 8 Axes>"
            ]
          },
          "metadata": {
            "tags": []
          }
        }
      ]
    },
    {
      "cell_type": "code",
      "metadata": {
        "id": "_yCTa0udip7d",
        "colab_type": "code",
        "colab": {}
      },
      "source": [
        ""
      ],
      "execution_count": null,
      "outputs": []
    }
  ]
}