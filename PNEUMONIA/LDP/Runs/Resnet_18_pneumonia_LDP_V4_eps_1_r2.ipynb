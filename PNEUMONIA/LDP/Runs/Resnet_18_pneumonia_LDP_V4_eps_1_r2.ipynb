{
  "nbformat": 4,
  "nbformat_minor": 0,
  "metadata": {
    "kernelspec": {
      "display_name": "Python 3",
      "language": "python",
      "name": "python3"
    },
    "language_info": {
      "codemirror_mode": {
        "name": "ipython",
        "version": 3
      },
      "file_extension": ".py",
      "mimetype": "text/x-python",
      "name": "python",
      "nbconvert_exporter": "python",
      "pygments_lexer": "ipython3",
      "version": "3.8.2"
    },
    "colab": {
      "name": "Resnet_18_pneumonia_LDP_V4_eps_1_r2.ipynb",
      "provenance": [],
      "collapsed_sections": []
    },
    "accelerator": "GPU",
    "widgets": {
      "application/vnd.jupyter.widget-state+json": {
        "cdf12d68dd4b43b7a3dd1a145120a296": {
          "model_module": "@jupyter-widgets/controls",
          "model_name": "HBoxModel",
          "state": {
            "_view_name": "HBoxView",
            "_dom_classes": [],
            "_model_name": "HBoxModel",
            "_view_module": "@jupyter-widgets/controls",
            "_model_module_version": "1.5.0",
            "_view_count": null,
            "_view_module_version": "1.5.0",
            "box_style": "",
            "layout": "IPY_MODEL_8e1aab1397d14b6b8748cf4c729f26e7",
            "_model_module": "@jupyter-widgets/controls",
            "children": [
              "IPY_MODEL_31a8b4d5923a4d528beb30ba7c54c059",
              "IPY_MODEL_c5babec30996428fabd4687ff930ce25"
            ]
          }
        },
        "8e1aab1397d14b6b8748cf4c729f26e7": {
          "model_module": "@jupyter-widgets/base",
          "model_name": "LayoutModel",
          "state": {
            "_view_name": "LayoutView",
            "grid_template_rows": null,
            "right": null,
            "justify_content": null,
            "_view_module": "@jupyter-widgets/base",
            "overflow": null,
            "_model_module_version": "1.2.0",
            "_view_count": null,
            "flex_flow": null,
            "width": null,
            "min_width": null,
            "border": null,
            "align_items": null,
            "bottom": null,
            "_model_module": "@jupyter-widgets/base",
            "top": null,
            "grid_column": null,
            "overflow_y": null,
            "overflow_x": null,
            "grid_auto_flow": null,
            "grid_area": null,
            "grid_template_columns": null,
            "flex": null,
            "_model_name": "LayoutModel",
            "justify_items": null,
            "grid_row": null,
            "max_height": null,
            "align_content": null,
            "visibility": null,
            "align_self": null,
            "height": null,
            "min_height": null,
            "padding": null,
            "grid_auto_rows": null,
            "grid_gap": null,
            "max_width": null,
            "order": null,
            "_view_module_version": "1.2.0",
            "grid_template_areas": null,
            "object_position": null,
            "object_fit": null,
            "grid_auto_columns": null,
            "margin": null,
            "display": null,
            "left": null
          }
        },
        "31a8b4d5923a4d528beb30ba7c54c059": {
          "model_module": "@jupyter-widgets/controls",
          "model_name": "FloatProgressModel",
          "state": {
            "_view_name": "ProgressView",
            "style": "IPY_MODEL_21cf29f55527436d8b75ca3e4fd2b9f8",
            "_dom_classes": [],
            "description": "100%",
            "_model_name": "FloatProgressModel",
            "bar_style": "success",
            "max": 46827520,
            "_view_module": "@jupyter-widgets/controls",
            "_model_module_version": "1.5.0",
            "value": 46827520,
            "_view_count": null,
            "_view_module_version": "1.5.0",
            "orientation": "horizontal",
            "min": 0,
            "description_tooltip": null,
            "_model_module": "@jupyter-widgets/controls",
            "layout": "IPY_MODEL_6bad8fd7334741e4806e52e00266506b"
          }
        },
        "c5babec30996428fabd4687ff930ce25": {
          "model_module": "@jupyter-widgets/controls",
          "model_name": "HTMLModel",
          "state": {
            "_view_name": "HTMLView",
            "style": "IPY_MODEL_632140626fea43ddae8795bc5e5ba780",
            "_dom_classes": [],
            "description": "",
            "_model_name": "HTMLModel",
            "placeholder": "​",
            "_view_module": "@jupyter-widgets/controls",
            "_model_module_version": "1.5.0",
            "value": " 44.7M/44.7M [03:50&lt;00:00, 203kB/s]",
            "_view_count": null,
            "_view_module_version": "1.5.0",
            "description_tooltip": null,
            "_model_module": "@jupyter-widgets/controls",
            "layout": "IPY_MODEL_6d4af91e91ea453fb4d2ed0c7f95ffd7"
          }
        },
        "21cf29f55527436d8b75ca3e4fd2b9f8": {
          "model_module": "@jupyter-widgets/controls",
          "model_name": "ProgressStyleModel",
          "state": {
            "_view_name": "StyleView",
            "_model_name": "ProgressStyleModel",
            "description_width": "initial",
            "_view_module": "@jupyter-widgets/base",
            "_model_module_version": "1.5.0",
            "_view_count": null,
            "_view_module_version": "1.2.0",
            "bar_color": null,
            "_model_module": "@jupyter-widgets/controls"
          }
        },
        "6bad8fd7334741e4806e52e00266506b": {
          "model_module": "@jupyter-widgets/base",
          "model_name": "LayoutModel",
          "state": {
            "_view_name": "LayoutView",
            "grid_template_rows": null,
            "right": null,
            "justify_content": null,
            "_view_module": "@jupyter-widgets/base",
            "overflow": null,
            "_model_module_version": "1.2.0",
            "_view_count": null,
            "flex_flow": null,
            "width": null,
            "min_width": null,
            "border": null,
            "align_items": null,
            "bottom": null,
            "_model_module": "@jupyter-widgets/base",
            "top": null,
            "grid_column": null,
            "overflow_y": null,
            "overflow_x": null,
            "grid_auto_flow": null,
            "grid_area": null,
            "grid_template_columns": null,
            "flex": null,
            "_model_name": "LayoutModel",
            "justify_items": null,
            "grid_row": null,
            "max_height": null,
            "align_content": null,
            "visibility": null,
            "align_self": null,
            "height": null,
            "min_height": null,
            "padding": null,
            "grid_auto_rows": null,
            "grid_gap": null,
            "max_width": null,
            "order": null,
            "_view_module_version": "1.2.0",
            "grid_template_areas": null,
            "object_position": null,
            "object_fit": null,
            "grid_auto_columns": null,
            "margin": null,
            "display": null,
            "left": null
          }
        },
        "632140626fea43ddae8795bc5e5ba780": {
          "model_module": "@jupyter-widgets/controls",
          "model_name": "DescriptionStyleModel",
          "state": {
            "_view_name": "StyleView",
            "_model_name": "DescriptionStyleModel",
            "description_width": "",
            "_view_module": "@jupyter-widgets/base",
            "_model_module_version": "1.5.0",
            "_view_count": null,
            "_view_module_version": "1.2.0",
            "_model_module": "@jupyter-widgets/controls"
          }
        },
        "6d4af91e91ea453fb4d2ed0c7f95ffd7": {
          "model_module": "@jupyter-widgets/base",
          "model_name": "LayoutModel",
          "state": {
            "_view_name": "LayoutView",
            "grid_template_rows": null,
            "right": null,
            "justify_content": null,
            "_view_module": "@jupyter-widgets/base",
            "overflow": null,
            "_model_module_version": "1.2.0",
            "_view_count": null,
            "flex_flow": null,
            "width": null,
            "min_width": null,
            "border": null,
            "align_items": null,
            "bottom": null,
            "_model_module": "@jupyter-widgets/base",
            "top": null,
            "grid_column": null,
            "overflow_y": null,
            "overflow_x": null,
            "grid_auto_flow": null,
            "grid_area": null,
            "grid_template_columns": null,
            "flex": null,
            "_model_name": "LayoutModel",
            "justify_items": null,
            "grid_row": null,
            "max_height": null,
            "align_content": null,
            "visibility": null,
            "align_self": null,
            "height": null,
            "min_height": null,
            "padding": null,
            "grid_auto_rows": null,
            "grid_gap": null,
            "max_width": null,
            "order": null,
            "_view_module_version": "1.2.0",
            "grid_template_areas": null,
            "object_position": null,
            "object_fit": null,
            "grid_auto_columns": null,
            "margin": null,
            "display": null,
            "left": null
          }
        }
      }
    }
  },
  "cells": [
    {
      "cell_type": "code",
      "metadata": {
        "id": "tJxejS4BhtfA",
        "colab_type": "code",
        "colab": {
          "base_uri": "https://localhost:8080/",
          "height": 357
        },
        "outputId": "ec67a4dd-1a6b-444b-831e-9f5480cc04a2"
      },
      "source": [
        "!nvidia-smi"
      ],
      "execution_count": 1,
      "outputs": [
        {
          "output_type": "stream",
          "text": [
            "Thu Jul 16 10:35:03 2020       \n",
            "+-----------------------------------------------------------------------------+\n",
            "| NVIDIA-SMI 450.51.05    Driver Version: 418.67       CUDA Version: 10.1     |\n",
            "|-------------------------------+----------------------+----------------------+\n",
            "| GPU  Name        Persistence-M| Bus-Id        Disp.A | Volatile Uncorr. ECC |\n",
            "| Fan  Temp  Perf  Pwr:Usage/Cap|         Memory-Usage | GPU-Util  Compute M. |\n",
            "|                               |                      |               MIG M. |\n",
            "|===============================+======================+======================|\n",
            "|   0  Tesla K80           Off  | 00000000:00:04.0 Off |                    0 |\n",
            "| N/A   71C    P8    33W / 149W |      0MiB / 11441MiB |      0%      Default |\n",
            "|                               |                      |                 ERR! |\n",
            "+-------------------------------+----------------------+----------------------+\n",
            "                                                                               \n",
            "+-----------------------------------------------------------------------------+\n",
            "| Processes:                                                                  |\n",
            "|  GPU   GI   CI        PID   Type   Process name                  GPU Memory |\n",
            "|        ID   ID                                                   Usage      |\n",
            "|=============================================================================|\n",
            "|  No running processes found                                                 |\n",
            "+-----------------------------------------------------------------------------+\n"
          ],
          "name": "stdout"
        }
      ]
    },
    {
      "cell_type": "code",
      "metadata": {
        "id": "KqzKNkpfXrM7",
        "colab_type": "code",
        "colab": {
          "base_uri": "https://localhost:8080/",
          "height": 122
        },
        "outputId": "9e00268b-5981-454c-8d74-d0692baf6954"
      },
      "source": [
        "from google.colab import drive\n",
        "drive.mount('/content/drive', force_remount=True)"
      ],
      "execution_count": 2,
      "outputs": [
        {
          "output_type": "stream",
          "text": [
            "Go to this URL in a browser: https://accounts.google.com/o/oauth2/auth?client_id=947318989803-6bn6qk8qdgf4n4g3pfee6491hc0brc4i.apps.googleusercontent.com&redirect_uri=urn%3aietf%3awg%3aoauth%3a2.0%3aoob&response_type=code&scope=email%20https%3a%2f%2fwww.googleapis.com%2fauth%2fdocs.test%20https%3a%2f%2fwww.googleapis.com%2fauth%2fdrive%20https%3a%2f%2fwww.googleapis.com%2fauth%2fdrive.photos.readonly%20https%3a%2f%2fwww.googleapis.com%2fauth%2fpeopleapi.readonly\n",
            "\n",
            "Enter your authorization code:\n",
            "··········\n",
            "Mounted at /content/drive\n"
          ],
          "name": "stdout"
        }
      ]
    },
    {
      "cell_type": "code",
      "metadata": {
        "id": "5tkHSteTnOUV",
        "colab_type": "code",
        "colab": {}
      },
      "source": [
        "import torch \n",
        "import torchvision\n",
        "import numpy as np \n",
        "import random\n",
        "import os\n",
        "import glob\n",
        "import copy\n",
        "from tqdm import tqdm as tqdm\n",
        "from torchsummary import summary\n",
        "\n",
        "seed = 42\n",
        "random.seed(seed)\n",
        "os.environ[\"PYTHONHASHSEED\"] = str(seed)\n",
        "np.random.seed(seed)\n",
        "torch.cuda.manual_seed(seed)\n",
        "torch.cuda.manual_seed_all(seed)\n",
        "torch.backends.cudnn.deterministic = True\n",
        "torch.manual_seed(seed)\n",
        "\n",
        "best_model = None\n",
        "best_loss = 0.\n",
        "best_test_loss = 0.\n",
        "best_test_acc = 0.\n",
        "best_pred_labels = []\n",
        "true_labels = []\n",
        "\n",
        "pred_labels = []\n",
        "test_acc = 0.\n",
        "test_loss = 0.\n",
        "\n",
        "# device = torch.device('cuda:0')\n",
        "device = torch.device('cuda' if torch.cuda.is_available() else 'cpu')"
      ],
      "execution_count": 3,
      "outputs": []
    },
    {
      "cell_type": "code",
      "metadata": {
        "id": "xjX3GQUHnOUh",
        "colab_type": "code",
        "colab": {
          "base_uri": "https://localhost:8080/",
          "height": 85
        },
        "outputId": "847fd1c9-f905-4d5e-ac12-05424577dd1f"
      },
      "source": [
        "# train class samples from DP data\n",
        "print('Normal Samples in Training Data')\n",
        "!ls -l /content/drive/\"My Drive\"/\"DP Data\"/1/train/NORMAL | wc -l\n",
        "print('Pneumonia Samples in Training Data')\n",
        "!ls -l /content/drive/\"My Drive\"/\"DP Data\"/1/train/PNEUMONIA | wc -l"
      ],
      "execution_count": 4,
      "outputs": [
        {
          "output_type": "stream",
          "text": [
            "Normal Samples in Training Data\n",
            "1342\n",
            "Pneumonia Samples in Training Data\n",
            "3876\n"
          ],
          "name": "stdout"
        }
      ]
    },
    {
      "cell_type": "code",
      "metadata": {
        "id": "yvOK_hLJvI9q",
        "colab_type": "code",
        "colab": {}
      },
      "source": [
        "# Copying DP training Data with epsilon 1 to local to process/train faster\n",
        "\n",
        "!cp -R /content/drive/\"My Drive\"/\"DP Data\"/1/train ./"
      ],
      "execution_count": 5,
      "outputs": []
    },
    {
      "cell_type": "code",
      "metadata": {
        "id": "xmSrI1KEvVGd",
        "colab_type": "code",
        "colab": {}
      },
      "source": [
        ""
      ],
      "execution_count": null,
      "outputs": []
    },
    {
      "cell_type": "code",
      "metadata": {
        "id": "XOR0OlpIbDFA",
        "colab_type": "code",
        "colab": {
          "base_uri": "https://localhost:8080/",
          "height": 85
        },
        "outputId": "421e9d98-d418-469f-f2f2-fc866b7a6b95"
      },
      "source": [
        "# Validation samples from Non DP data\n",
        "print('Normal Samples in Validation Data')\n",
        "!ls -l /content/drive/\"My Drive\"/NDP_Data/chest_xray/val/NORMAL | wc -l\n",
        "print('Pneumonia Samples in Validation Data')\n",
        "!ls -l /content/drive/\"My Drive\"/NDP_Data/chest_xray/val/PNEUMONIA | wc -l"
      ],
      "execution_count": 6,
      "outputs": [
        {
          "output_type": "stream",
          "text": [
            "Normal Samples in Validation Data\n",
            "9\n",
            "Pneumonia Samples in Validation Data\n",
            "9\n"
          ],
          "name": "stdout"
        }
      ]
    },
    {
      "cell_type": "code",
      "metadata": {
        "id": "SabTxxNkvVmd",
        "colab_type": "code",
        "colab": {}
      },
      "source": [
        "# Copying to Non DP Validation data to local to process/run faster during validation inference\n",
        "\n",
        "!cp -R /content/drive/\"My Drive\"/NDP_Data/chest_xray/val ./"
      ],
      "execution_count": 7,
      "outputs": []
    },
    {
      "cell_type": "code",
      "metadata": {
        "id": "9Vlfz1zUvV9v",
        "colab_type": "code",
        "colab": {}
      },
      "source": [
        ""
      ],
      "execution_count": null,
      "outputs": []
    },
    {
      "cell_type": "code",
      "metadata": {
        "id": "z8YxWrN7nOUo",
        "colab_type": "code",
        "colab": {
          "base_uri": "https://localhost:8080/",
          "height": 85
        },
        "outputId": "278e3dbf-0b12-4ff7-fc46-af81c6a5d8f0"
      },
      "source": [
        "# Testing samples from Non DP data\n",
        "print('Normal Samples in Testing Data')\n",
        "!ls -l /content/drive/\"My Drive\"/NDP_Data/chest_xray/test/NORMAL | wc -l\n",
        "print('Pneumonia Samples in Testing Data')\n",
        "!ls -l /content/drive/\"My Drive\"/NDP_Data/chest_xray/test/PNEUMONIA | wc -l"
      ],
      "execution_count": 8,
      "outputs": [
        {
          "output_type": "stream",
          "text": [
            "Normal Samples in Testing Data\n",
            "235\n",
            "Pneumonia Samples in Testing Data\n",
            "391\n"
          ],
          "name": "stdout"
        }
      ]
    },
    {
      "cell_type": "code",
      "metadata": {
        "id": "NMyuiYPgvWvK",
        "colab_type": "code",
        "colab": {}
      },
      "source": [
        "# Copying to Non DP Validation data to local to process/run faster during testing inference\n",
        "\n",
        "!cp -R /content/drive/\"My Drive\"/NDP_Data/chest_xray/test ./"
      ],
      "execution_count": 9,
      "outputs": []
    },
    {
      "cell_type": "code",
      "metadata": {
        "id": "ehOeltfGvW4d",
        "colab_type": "code",
        "colab": {}
      },
      "source": [
        ""
      ],
      "execution_count": null,
      "outputs": []
    },
    {
      "cell_type": "code",
      "metadata": {
        "id": "4ZNR1m2sv9N8",
        "colab_type": "code",
        "colab": {
          "base_uri": "https://localhost:8080/",
          "height": 119
        },
        "outputId": "be0b2192-2afb-4428-b577-9bc8f0ebe8d7"
      },
      "source": [
        "!ls -lrt"
      ],
      "execution_count": 10,
      "outputs": [
        {
          "output_type": "stream",
          "text": [
            "total 20\n",
            "drwxr-xr-x 1 root root 4096 Jul 10 16:29 sample_data\n",
            "drwx------ 4 root root 4096 Jul 16 10:35 drive\n",
            "dr-x------ 4 root root 4096 Jul 16 11:16 train\n",
            "drwx------ 4 root root 4096 Jul 16 11:17 val\n",
            "drwx------ 4 root root 4096 Jul 16 11:18 test\n"
          ],
          "name": "stdout"
        }
      ]
    },
    {
      "cell_type": "code",
      "metadata": {
        "id": "BNxBEOlrwAgv",
        "colab_type": "code",
        "colab": {
          "base_uri": "https://localhost:8080/",
          "height": 51
        },
        "outputId": "b73492de-2627-4b39-db99-02305e4ba552"
      },
      "source": [
        "!ls -l ./train/NORMAL | wc -l\n",
        "!ls -l ./train/PNEUMONIA | wc -l"
      ],
      "execution_count": 11,
      "outputs": [
        {
          "output_type": "stream",
          "text": [
            "1342\n",
            "3876\n"
          ],
          "name": "stdout"
        }
      ]
    },
    {
      "cell_type": "code",
      "metadata": {
        "id": "39KZOvNvwA_t",
        "colab_type": "code",
        "colab": {
          "base_uri": "https://localhost:8080/",
          "height": 51
        },
        "outputId": "e03fae25-b03f-4f94-c799-26a80fd56162"
      },
      "source": [
        "!ls -l ./val/NORMAL | wc -l\n",
        "!ls -l ./val/PNEUMONIA | wc -l"
      ],
      "execution_count": 12,
      "outputs": [
        {
          "output_type": "stream",
          "text": [
            "9\n",
            "9\n"
          ],
          "name": "stdout"
        }
      ]
    },
    {
      "cell_type": "code",
      "metadata": {
        "id": "XhJ3MLB3wCzi",
        "colab_type": "code",
        "colab": {
          "base_uri": "https://localhost:8080/",
          "height": 51
        },
        "outputId": "2ac65984-d8fe-4ba5-9ed8-ee73cbd7d2d5"
      },
      "source": [
        "!ls -l ./test/NORMAL | wc -l\n",
        "!ls -l ./test/PNEUMONIA | wc -l"
      ],
      "execution_count": 13,
      "outputs": [
        {
          "output_type": "stream",
          "text": [
            "235\n",
            "391\n"
          ],
          "name": "stdout"
        }
      ]
    },
    {
      "cell_type": "code",
      "metadata": {
        "id": "A8fzkj_WwErJ",
        "colab_type": "code",
        "colab": {}
      },
      "source": [
        ""
      ],
      "execution_count": null,
      "outputs": []
    },
    {
      "cell_type": "code",
      "metadata": {
        "id": "LPDTSXKWnOUw",
        "colab_type": "code",
        "colab": {}
      },
      "source": [
        "class ChestXRay(torchvision.datasets.ImageFolder):\n",
        "    def __getitem__(self, index):\n",
        "        sample, target = super().__getitem__(index)\n",
        "        path, _ = self.samples[index]\n",
        "        \n",
        "        target = 0\n",
        "        if 'PNEUMONIA' in path:\n",
        "            target = 1\n",
        "        \n",
        "        return sample, target\n",
        "       "
      ],
      "execution_count": 14,
      "outputs": []
    },
    {
      "cell_type": "code",
      "metadata": {
        "id": "J-_xESJtnOU0",
        "colab_type": "code",
        "colab": {}
      },
      "source": [
        "train_transforms = torchvision.transforms.Compose([\n",
        "    torchvision.transforms.Resize(256),\n",
        "    torchvision.transforms.RandomAffine(0, translate=(0, 0.1), scale=(1, 1.10)),\n",
        "    torchvision.transforms.CenterCrop(224),\n",
        "    torchvision.transforms.ToTensor(),\n",
        "    torchvision.transforms.Normalize([0.485, 0.456, 0.406], [0.229, 0.224, 0.225])\n",
        "])\n",
        "\n",
        "transforms = torchvision.transforms.Compose([\n",
        "    torchvision.transforms.Resize(256),\n",
        "    torchvision.transforms.CenterCrop(224),\n",
        "    torchvision.transforms.ToTensor(),\n",
        "    torchvision.transforms.Normalize([0.485, 0.456, 0.406], [0.229, 0.224, 0.225]),\n",
        "])\n",
        "\n",
        "\n",
        "train_dataset = ChestXRay('./train/', transform=train_transforms)\n",
        "val_dataset = ChestXRay('./val/', transform=train_transforms)\n",
        "test_dataset = ChestXRay('./test/', transform=transforms)\n",
        "\n",
        "train_dataloader = torch.utils.data.DataLoader(train_dataset, batch_size=128, shuffle=True)\n",
        "val_dataloader = torch.utils.data.DataLoader(val_dataset, batch_size=4, shuffle=False)\n",
        "test_dataloader = torch.utils.data.DataLoader(test_dataset, batch_size=128, shuffle=False)"
      ],
      "execution_count": 15,
      "outputs": []
    },
    {
      "cell_type": "code",
      "metadata": {
        "id": "Ee19YDP1nOVA",
        "colab_type": "code",
        "colab": {
          "base_uri": "https://localhost:8080/",
          "height": 1000,
          "referenced_widgets": [
            "cdf12d68dd4b43b7a3dd1a145120a296",
            "8e1aab1397d14b6b8748cf4c729f26e7",
            "31a8b4d5923a4d528beb30ba7c54c059",
            "c5babec30996428fabd4687ff930ce25",
            "21cf29f55527436d8b75ca3e4fd2b9f8",
            "6bad8fd7334741e4806e52e00266506b",
            "632140626fea43ddae8795bc5e5ba780",
            "6d4af91e91ea453fb4d2ed0c7f95ffd7"
          ]
        },
        "outputId": "733b6ff5-e147-4db1-8969-4ad36bdfeeec"
      },
      "source": [
        "model = torchvision.models.resnet18(pretrained=True)\n",
        "model.fc = torch.nn.Linear(in_features=512, out_features=2)\n",
        "model = model.to(device)\n",
        "model"
      ],
      "execution_count": 16,
      "outputs": [
        {
          "output_type": "stream",
          "text": [
            "Downloading: \"https://download.pytorch.org/models/resnet18-5c106cde.pth\" to /root/.cache/torch/checkpoints/resnet18-5c106cde.pth\n"
          ],
          "name": "stderr"
        },
        {
          "output_type": "display_data",
          "data": {
            "application/vnd.jupyter.widget-view+json": {
              "model_id": "cdf12d68dd4b43b7a3dd1a145120a296",
              "version_minor": 0,
              "version_major": 2
            },
            "text/plain": [
              "HBox(children=(FloatProgress(value=0.0, max=46827520.0), HTML(value='')))"
            ]
          },
          "metadata": {
            "tags": []
          }
        },
        {
          "output_type": "stream",
          "text": [
            "\n"
          ],
          "name": "stdout"
        },
        {
          "output_type": "execute_result",
          "data": {
            "text/plain": [
              "ResNet(\n",
              "  (conv1): Conv2d(3, 64, kernel_size=(7, 7), stride=(2, 2), padding=(3, 3), bias=False)\n",
              "  (bn1): BatchNorm2d(64, eps=1e-05, momentum=0.1, affine=True, track_running_stats=True)\n",
              "  (relu): ReLU(inplace=True)\n",
              "  (maxpool): MaxPool2d(kernel_size=3, stride=2, padding=1, dilation=1, ceil_mode=False)\n",
              "  (layer1): Sequential(\n",
              "    (0): BasicBlock(\n",
              "      (conv1): Conv2d(64, 64, kernel_size=(3, 3), stride=(1, 1), padding=(1, 1), bias=False)\n",
              "      (bn1): BatchNorm2d(64, eps=1e-05, momentum=0.1, affine=True, track_running_stats=True)\n",
              "      (relu): ReLU(inplace=True)\n",
              "      (conv2): Conv2d(64, 64, kernel_size=(3, 3), stride=(1, 1), padding=(1, 1), bias=False)\n",
              "      (bn2): BatchNorm2d(64, eps=1e-05, momentum=0.1, affine=True, track_running_stats=True)\n",
              "    )\n",
              "    (1): BasicBlock(\n",
              "      (conv1): Conv2d(64, 64, kernel_size=(3, 3), stride=(1, 1), padding=(1, 1), bias=False)\n",
              "      (bn1): BatchNorm2d(64, eps=1e-05, momentum=0.1, affine=True, track_running_stats=True)\n",
              "      (relu): ReLU(inplace=True)\n",
              "      (conv2): Conv2d(64, 64, kernel_size=(3, 3), stride=(1, 1), padding=(1, 1), bias=False)\n",
              "      (bn2): BatchNorm2d(64, eps=1e-05, momentum=0.1, affine=True, track_running_stats=True)\n",
              "    )\n",
              "  )\n",
              "  (layer2): Sequential(\n",
              "    (0): BasicBlock(\n",
              "      (conv1): Conv2d(64, 128, kernel_size=(3, 3), stride=(2, 2), padding=(1, 1), bias=False)\n",
              "      (bn1): BatchNorm2d(128, eps=1e-05, momentum=0.1, affine=True, track_running_stats=True)\n",
              "      (relu): ReLU(inplace=True)\n",
              "      (conv2): Conv2d(128, 128, kernel_size=(3, 3), stride=(1, 1), padding=(1, 1), bias=False)\n",
              "      (bn2): BatchNorm2d(128, eps=1e-05, momentum=0.1, affine=True, track_running_stats=True)\n",
              "      (downsample): Sequential(\n",
              "        (0): Conv2d(64, 128, kernel_size=(1, 1), stride=(2, 2), bias=False)\n",
              "        (1): BatchNorm2d(128, eps=1e-05, momentum=0.1, affine=True, track_running_stats=True)\n",
              "      )\n",
              "    )\n",
              "    (1): BasicBlock(\n",
              "      (conv1): Conv2d(128, 128, kernel_size=(3, 3), stride=(1, 1), padding=(1, 1), bias=False)\n",
              "      (bn1): BatchNorm2d(128, eps=1e-05, momentum=0.1, affine=True, track_running_stats=True)\n",
              "      (relu): ReLU(inplace=True)\n",
              "      (conv2): Conv2d(128, 128, kernel_size=(3, 3), stride=(1, 1), padding=(1, 1), bias=False)\n",
              "      (bn2): BatchNorm2d(128, eps=1e-05, momentum=0.1, affine=True, track_running_stats=True)\n",
              "    )\n",
              "  )\n",
              "  (layer3): Sequential(\n",
              "    (0): BasicBlock(\n",
              "      (conv1): Conv2d(128, 256, kernel_size=(3, 3), stride=(2, 2), padding=(1, 1), bias=False)\n",
              "      (bn1): BatchNorm2d(256, eps=1e-05, momentum=0.1, affine=True, track_running_stats=True)\n",
              "      (relu): ReLU(inplace=True)\n",
              "      (conv2): Conv2d(256, 256, kernel_size=(3, 3), stride=(1, 1), padding=(1, 1), bias=False)\n",
              "      (bn2): BatchNorm2d(256, eps=1e-05, momentum=0.1, affine=True, track_running_stats=True)\n",
              "      (downsample): Sequential(\n",
              "        (0): Conv2d(128, 256, kernel_size=(1, 1), stride=(2, 2), bias=False)\n",
              "        (1): BatchNorm2d(256, eps=1e-05, momentum=0.1, affine=True, track_running_stats=True)\n",
              "      )\n",
              "    )\n",
              "    (1): BasicBlock(\n",
              "      (conv1): Conv2d(256, 256, kernel_size=(3, 3), stride=(1, 1), padding=(1, 1), bias=False)\n",
              "      (bn1): BatchNorm2d(256, eps=1e-05, momentum=0.1, affine=True, track_running_stats=True)\n",
              "      (relu): ReLU(inplace=True)\n",
              "      (conv2): Conv2d(256, 256, kernel_size=(3, 3), stride=(1, 1), padding=(1, 1), bias=False)\n",
              "      (bn2): BatchNorm2d(256, eps=1e-05, momentum=0.1, affine=True, track_running_stats=True)\n",
              "    )\n",
              "  )\n",
              "  (layer4): Sequential(\n",
              "    (0): BasicBlock(\n",
              "      (conv1): Conv2d(256, 512, kernel_size=(3, 3), stride=(2, 2), padding=(1, 1), bias=False)\n",
              "      (bn1): BatchNorm2d(512, eps=1e-05, momentum=0.1, affine=True, track_running_stats=True)\n",
              "      (relu): ReLU(inplace=True)\n",
              "      (conv2): Conv2d(512, 512, kernel_size=(3, 3), stride=(1, 1), padding=(1, 1), bias=False)\n",
              "      (bn2): BatchNorm2d(512, eps=1e-05, momentum=0.1, affine=True, track_running_stats=True)\n",
              "      (downsample): Sequential(\n",
              "        (0): Conv2d(256, 512, kernel_size=(1, 1), stride=(2, 2), bias=False)\n",
              "        (1): BatchNorm2d(512, eps=1e-05, momentum=0.1, affine=True, track_running_stats=True)\n",
              "      )\n",
              "    )\n",
              "    (1): BasicBlock(\n",
              "      (conv1): Conv2d(512, 512, kernel_size=(3, 3), stride=(1, 1), padding=(1, 1), bias=False)\n",
              "      (bn1): BatchNorm2d(512, eps=1e-05, momentum=0.1, affine=True, track_running_stats=True)\n",
              "      (relu): ReLU(inplace=True)\n",
              "      (conv2): Conv2d(512, 512, kernel_size=(3, 3), stride=(1, 1), padding=(1, 1), bias=False)\n",
              "      (bn2): BatchNorm2d(512, eps=1e-05, momentum=0.1, affine=True, track_running_stats=True)\n",
              "    )\n",
              "  )\n",
              "  (avgpool): AdaptiveAvgPool2d(output_size=(1, 1))\n",
              "  (fc): Linear(in_features=512, out_features=2, bias=True)\n",
              ")"
            ]
          },
          "metadata": {
            "tags": []
          },
          "execution_count": 16
        }
      ]
    },
    {
      "cell_type": "code",
      "metadata": {
        "id": "61IVJvrmr7th",
        "colab_type": "code",
        "colab": {
          "base_uri": "https://localhost:8080/",
          "height": 1000
        },
        "outputId": "f139f0a9-4122-4357-a7ec-c38195dda1a4"
      },
      "source": [
        "summary(model.cuda(), [(3,224,224,)])"
      ],
      "execution_count": 17,
      "outputs": [
        {
          "output_type": "stream",
          "text": [
            "----------------------------------------------------------------\n",
            "        Layer (type)               Output Shape         Param #\n",
            "================================================================\n",
            "            Conv2d-1         [-1, 64, 112, 112]           9,408\n",
            "       BatchNorm2d-2         [-1, 64, 112, 112]             128\n",
            "              ReLU-3         [-1, 64, 112, 112]               0\n",
            "         MaxPool2d-4           [-1, 64, 56, 56]               0\n",
            "            Conv2d-5           [-1, 64, 56, 56]          36,864\n",
            "       BatchNorm2d-6           [-1, 64, 56, 56]             128\n",
            "              ReLU-7           [-1, 64, 56, 56]               0\n",
            "            Conv2d-8           [-1, 64, 56, 56]          36,864\n",
            "       BatchNorm2d-9           [-1, 64, 56, 56]             128\n",
            "             ReLU-10           [-1, 64, 56, 56]               0\n",
            "       BasicBlock-11           [-1, 64, 56, 56]               0\n",
            "           Conv2d-12           [-1, 64, 56, 56]          36,864\n",
            "      BatchNorm2d-13           [-1, 64, 56, 56]             128\n",
            "             ReLU-14           [-1, 64, 56, 56]               0\n",
            "           Conv2d-15           [-1, 64, 56, 56]          36,864\n",
            "      BatchNorm2d-16           [-1, 64, 56, 56]             128\n",
            "             ReLU-17           [-1, 64, 56, 56]               0\n",
            "       BasicBlock-18           [-1, 64, 56, 56]               0\n",
            "           Conv2d-19          [-1, 128, 28, 28]          73,728\n",
            "      BatchNorm2d-20          [-1, 128, 28, 28]             256\n",
            "             ReLU-21          [-1, 128, 28, 28]               0\n",
            "           Conv2d-22          [-1, 128, 28, 28]         147,456\n",
            "      BatchNorm2d-23          [-1, 128, 28, 28]             256\n",
            "           Conv2d-24          [-1, 128, 28, 28]           8,192\n",
            "      BatchNorm2d-25          [-1, 128, 28, 28]             256\n",
            "             ReLU-26          [-1, 128, 28, 28]               0\n",
            "       BasicBlock-27          [-1, 128, 28, 28]               0\n",
            "           Conv2d-28          [-1, 128, 28, 28]         147,456\n",
            "      BatchNorm2d-29          [-1, 128, 28, 28]             256\n",
            "             ReLU-30          [-1, 128, 28, 28]               0\n",
            "           Conv2d-31          [-1, 128, 28, 28]         147,456\n",
            "      BatchNorm2d-32          [-1, 128, 28, 28]             256\n",
            "             ReLU-33          [-1, 128, 28, 28]               0\n",
            "       BasicBlock-34          [-1, 128, 28, 28]               0\n",
            "           Conv2d-35          [-1, 256, 14, 14]         294,912\n",
            "      BatchNorm2d-36          [-1, 256, 14, 14]             512\n",
            "             ReLU-37          [-1, 256, 14, 14]               0\n",
            "           Conv2d-38          [-1, 256, 14, 14]         589,824\n",
            "      BatchNorm2d-39          [-1, 256, 14, 14]             512\n",
            "           Conv2d-40          [-1, 256, 14, 14]          32,768\n",
            "      BatchNorm2d-41          [-1, 256, 14, 14]             512\n",
            "             ReLU-42          [-1, 256, 14, 14]               0\n",
            "       BasicBlock-43          [-1, 256, 14, 14]               0\n",
            "           Conv2d-44          [-1, 256, 14, 14]         589,824\n",
            "      BatchNorm2d-45          [-1, 256, 14, 14]             512\n",
            "             ReLU-46          [-1, 256, 14, 14]               0\n",
            "           Conv2d-47          [-1, 256, 14, 14]         589,824\n",
            "      BatchNorm2d-48          [-1, 256, 14, 14]             512\n",
            "             ReLU-49          [-1, 256, 14, 14]               0\n",
            "       BasicBlock-50          [-1, 256, 14, 14]               0\n",
            "           Conv2d-51            [-1, 512, 7, 7]       1,179,648\n",
            "      BatchNorm2d-52            [-1, 512, 7, 7]           1,024\n",
            "             ReLU-53            [-1, 512, 7, 7]               0\n",
            "           Conv2d-54            [-1, 512, 7, 7]       2,359,296\n",
            "      BatchNorm2d-55            [-1, 512, 7, 7]           1,024\n",
            "           Conv2d-56            [-1, 512, 7, 7]         131,072\n",
            "      BatchNorm2d-57            [-1, 512, 7, 7]           1,024\n",
            "             ReLU-58            [-1, 512, 7, 7]               0\n",
            "       BasicBlock-59            [-1, 512, 7, 7]               0\n",
            "           Conv2d-60            [-1, 512, 7, 7]       2,359,296\n",
            "      BatchNorm2d-61            [-1, 512, 7, 7]           1,024\n",
            "             ReLU-62            [-1, 512, 7, 7]               0\n",
            "           Conv2d-63            [-1, 512, 7, 7]       2,359,296\n",
            "      BatchNorm2d-64            [-1, 512, 7, 7]           1,024\n",
            "             ReLU-65            [-1, 512, 7, 7]               0\n",
            "       BasicBlock-66            [-1, 512, 7, 7]               0\n",
            "AdaptiveAvgPool2d-67            [-1, 512, 1, 1]               0\n",
            "           Linear-68                    [-1, 2]           1,026\n",
            "================================================================\n",
            "Total params: 11,177,538\n",
            "Trainable params: 11,177,538\n",
            "Non-trainable params: 0\n",
            "----------------------------------------------------------------\n",
            "Input size (MB): 0.57\n",
            "Forward/backward pass size (MB): 62.79\n",
            "Params size (MB): 42.64\n",
            "Estimated Total Size (MB): 106.00\n",
            "----------------------------------------------------------------\n"
          ],
          "name": "stdout"
        }
      ]
    },
    {
      "cell_type": "code",
      "metadata": {
        "id": "VhXhlzFK2Dl1",
        "colab_type": "code",
        "colab": {}
      },
      "source": [
        ""
      ],
      "execution_count": null,
      "outputs": []
    },
    {
      "cell_type": "code",
      "metadata": {
        "id": "V5U-QpQHr7wE",
        "colab_type": "code",
        "colab": {}
      },
      "source": [
        ""
      ],
      "execution_count": null,
      "outputs": []
    },
    {
      "cell_type": "code",
      "metadata": {
        "id": "VAoD68pMf5oy",
        "colab_type": "code",
        "colab": {}
      },
      "source": [
        "def run_epoch(model, dataloader, criterion, optimizer, lr_scheduler, phase='train'):\n",
        "    epoch_loss = 0.\n",
        "    epoch_acc = 0.\n",
        "    \n",
        "    batch_num = 0.\n",
        "    samples_num = 0.\n",
        "    \n",
        "    true_labels = []\n",
        "    pred_labels = []\n",
        "    \n",
        "    for batch_idx, (data, labels) in enumerate(dataloader):\n",
        "        data, labels = data.to(device), labels.to(device)\n",
        "        optimizer.zero_grad()\n",
        "        if phase == 'train':\n",
        "            model.train()\n",
        "        else:\n",
        "            model.eval()\n",
        "        with torch.set_grad_enabled(phase == 'train'):\n",
        "            outputs = model(data)\n",
        "            _, preds = torch.max(outputs, 1)\n",
        "            loss = criterion(outputs, labels)\n",
        "        \n",
        "        true_labels.append(labels.detach().cpu())\n",
        "        pred_labels.append(preds.detach().cpu())\n",
        "        \n",
        "        if phase == 'train':\n",
        "            loss.backward()\n",
        "            optimizer.step()\n",
        "        \n",
        "        print(f'\\r{phase} batch [{batch_idx}/{len(dataloader)}]: loss {loss.item()}', end='', flush=True)\n",
        "        epoch_loss += loss.detach().cpu().item()\n",
        "        epoch_acc += torch.sum(preds == labels.data)\n",
        "        batch_num += 1\n",
        "        samples_num += len(labels)\n",
        "    \n",
        "    print()\n",
        "    return epoch_loss / batch_num, epoch_acc / samples_num, torch.cat(true_labels).numpy(), torch.cat(pred_labels).numpy()"
      ],
      "execution_count": 18,
      "outputs": []
    },
    {
      "cell_type": "code",
      "metadata": {
        "id": "68w_Ljsff9wO",
        "colab_type": "code",
        "colab": {}
      },
      "source": [
        ""
      ],
      "execution_count": null,
      "outputs": []
    },
    {
      "cell_type": "code",
      "metadata": {
        "id": "x7qXbQPUgRnw",
        "colab_type": "code",
        "colab": {}
      },
      "source": [
        ""
      ],
      "execution_count": null,
      "outputs": []
    },
    {
      "cell_type": "code",
      "metadata": {
        "id": "MCUrp4S-gRqP",
        "colab_type": "code",
        "colab": {}
      },
      "source": [
        "criterion = torch.nn.CrossEntropyLoss()\n",
        "optimizer = torch.optim.SGD(model.parameters(), lr=1e-2, weight_decay=0.001)\n",
        "lr_scheduler = torch.optim.lr_scheduler.ReduceLROnPlateau(optimizer, patience=3, verbose=True)"
      ],
      "execution_count": 19,
      "outputs": []
    },
    {
      "cell_type": "code",
      "metadata": {
        "id": "iAn4FWp3nOVR",
        "colab_type": "code",
        "colab": {
          "base_uri": "https://localhost:8080/",
          "height": 1000
        },
        "outputId": "a99b21dd-c4f3-4e76-e905-c9a6830cc438"
      },
      "source": [
        "train_losses = []\n",
        "val_losses = []\n",
        "test_losses = []\n",
        "output_folder = '/content/drive/My Drive/Dataset/a/'\n",
        "for epoch in range(50):\n",
        "    print('='*15, f'Epoch: {epoch}')\n",
        "    \n",
        "    train_loss, train_acc, _, _ = run_epoch(model, train_dataloader, criterion, optimizer, lr_scheduler)\n",
        "    val_loss, val_acc, _, _ = run_epoch(model, val_dataloader, criterion, optimizer, lr_scheduler, phase='val')\n",
        "    test_loss, test_acc, true_labels, pred_labels = run_epoch(model, test_dataloader, criterion, optimizer, lr_scheduler, phase='test')\n",
        "    \n",
        "    print(f'Train loss: {train_loss}, Train accuracy: {train_acc}')\n",
        "    print(f'Val loss: {val_loss}, Val accuracy: {val_acc}')\n",
        "    print(f'Test loss: {test_loss}, Test accuracy: {test_acc}')\n",
        "    print()\n",
        "    \n",
        "    train_losses.append(train_loss)\n",
        "    val_losses.append(val_loss)\n",
        "    test_losses.append(test_loss)\n",
        "    \n",
        "    np.save(output_folder+'/train_losses',train_losses)\n",
        "    np.save(output_folder+'/val_losses',val_losses)\n",
        "    np.save(output_folder+'/test_losses',test_losses)\n",
        "    \n",
        "    torch.save({'epoch': epoch, 'model': model.state_dict()}, f'resnet34-chest-x-ray-{seed}.pt')\n",
        "    \n",
        "    if best_model is None or val_loss < best_loss:\n",
        "        best_model = copy.deepcopy(model)\n",
        "        best_loss = val_loss\n",
        "        best_test_loss = test_loss\n",
        "        best_test_acc = test_acc \n",
        "        best_pred_labels = pred_labels\n",
        "        torch.save({'epoch': epoch, 'model': model.state_dict()}, f'resnet34-chest-x-ray_ldp-best-{seed}.pt')"
      ],
      "execution_count": 20,
      "outputs": [
        {
          "output_type": "stream",
          "text": [
            "=============== Epoch: 0\n",
            "train batch [40/41]: loss 0.4456663429737091\n",
            "val batch [3/4]: loss 0.5428882241249084\n",
            "test batch [4/5]: loss 0.5719049572944641\n",
            "Train loss: 0.4606374342267106, Train accuracy: 0.7958205342292786\n",
            "Val loss: 0.2474825605750084, Val accuracy: 0.875\n",
            "Test loss: 0.43502241671085357, Test accuracy: 0.822115421295166\n",
            "\n",
            "=============== Epoch: 1\n",
            "train batch [40/41]: loss 0.4747122526168823\n",
            "val batch [3/4]: loss 0.03437718749046326\n",
            "test batch [4/5]: loss 0.05517524108290672\n",
            "Train loss: 0.38270694453541826, Train accuracy: 0.8383818864822388\n",
            "Val loss: 0.6165265813469887, Val accuracy: 0.6875\n",
            "Test loss: 0.38606941401958467, Test accuracy: 0.8429487347602844\n",
            "\n",
            "=============== Epoch: 2\n",
            "train batch [40/41]: loss 0.3309541344642639\n",
            "val batch [3/4]: loss 0.03711789846420288\n",
            "test batch [4/5]: loss 0.03573734313249588\n",
            "Train loss: 0.35609454570747, Train accuracy: 0.8504601120948792\n",
            "Val loss: 0.3498465120792389, Val accuracy: 0.8125\n",
            "Test loss: 0.4012215450406075, Test accuracy: 0.8477564454078674\n",
            "\n",
            "=============== Epoch: 3\n",
            "train batch [40/41]: loss 0.25647252798080444\n",
            "val batch [3/4]: loss 0.2740071713924408\n",
            "test batch [4/5]: loss 0.17976102232933044\n",
            "Train loss: 0.34869394869339176, Train accuracy: 0.8575536608695984\n",
            "Val loss: 0.16756609082221985, Val accuracy: 0.9375\n",
            "Test loss: 0.2900973379611969, Test accuracy: 0.8862179517745972\n",
            "\n",
            "=============== Epoch: 4\n",
            "train batch [40/41]: loss 0.4659539461135864\n",
            "val batch [3/4]: loss 0.02448895573616028\n",
            "test batch [4/5]: loss 0.0343000702559948\n",
            "Train loss: 0.3362429018427686, Train accuracy: 0.8611962795257568\n",
            "Val loss: 0.2882845029234886, Val accuracy: 0.875\n",
            "Test loss: 0.38365461602807044, Test accuracy: 0.8637820482254028\n",
            "\n",
            "=============== Epoch: 5\n",
            "train batch [40/41]: loss 0.3712402880191803\n",
            "val batch [3/4]: loss 0.02487248182296753\n",
            "test batch [4/5]: loss 0.013988127000629902\n",
            "Train loss: 0.32682277007800775, Train accuracy: 0.866180956363678\n",
            "Val loss: 0.49248814582824707, Val accuracy: 0.75\n",
            "Test loss: 0.5129578687250614, Test accuracy: 0.8269230723381042\n",
            "\n",
            "=============== Epoch: 6\n",
            "train batch [40/41]: loss 0.4060584306716919\n",
            "val batch [3/4]: loss 0.011782139539718628\n",
            "test batch [4/5]: loss 0.043192557990550995\n",
            "Train loss: 0.3160946852550274, Train accuracy: 0.8682898283004761\n",
            "Val loss: 0.2680399939417839, Val accuracy: 0.875\n",
            "Test loss: 0.35040500536561014, Test accuracy: 0.8766025900840759\n",
            "\n",
            "=============== Epoch: 7\n",
            "train batch [40/41]: loss 0.3573990762233734\n",
            "val batch [3/4]: loss 0.013654232025146484\n",
            "test batch [4/5]: loss 0.016374502331018448\n",
            "Train loss: 0.31383479041297263, Train accuracy: 0.8711656332015991\n",
            "Val loss: 0.4836902767419815, Val accuracy: 0.8125\n",
            "Test loss: 0.4116162363439798, Test accuracy: 0.8653846383094788\n",
            "\n",
            "=============== Epoch: 8\n",
            "train batch [40/41]: loss 0.24622583389282227\n",
            "val batch [3/4]: loss 0.024104833602905273\n",
            "test batch [4/5]: loss 0.07666945457458496\n",
            "Train loss: 0.30306882720168044, Train accuracy: 0.8748082518577576\n",
            "Val loss: 0.08290733397006989, Val accuracy: 0.9375\n",
            "Test loss: 0.26882370710372927, Test accuracy: 0.9086538553237915\n",
            "\n",
            "=============== Epoch: 9\n",
            "train batch [40/41]: loss 0.34011825919151306\n",
            "val batch [3/4]: loss 0.10765677690505981\n",
            "test batch [4/5]: loss 0.034605205059051514\n",
            "Train loss: 0.30123619408142277, Train accuracy: 0.875\n",
            "Val loss: 0.27457305043935776, Val accuracy: 0.875\n",
            "Test loss: 0.30990710109472275, Test accuracy: 0.9038461446762085\n",
            "\n",
            "=============== Epoch: 10\n",
            "train batch [40/41]: loss 0.3187037408351898\n",
            "val batch [3/4]: loss 0.050778985023498535\n",
            "test batch [4/5]: loss 0.04183757305145264\n",
            "Train loss: 0.29690842693898734, Train accuracy: 0.8765337467193604\n",
            "Val loss: 0.24137677997350693, Val accuracy: 0.8125\n",
            "Test loss: 0.2943926189094782, Test accuracy: 0.9134615659713745\n",
            "\n",
            "=============== Epoch: 11\n",
            "train batch [40/41]: loss 0.34471848607063293\n",
            "val batch [3/4]: loss 0.09152539074420929\n",
            "test batch [4/5]: loss 0.009962568059563637\n",
            "Train loss: 0.2946262537706189, Train accuracy: 0.8773006200790405\n",
            "Val loss: 0.1380690410733223, Val accuracy: 1.0\n",
            "Test loss: 0.3929832112044096, Test accuracy: 0.8878205418586731\n",
            "\n",
            "=============== Epoch: 12\n",
            "train batch [40/41]: loss 0.2557169795036316\n",
            "val batch [3/4]: loss 0.0027513504028320312\n",
            "test batch [4/5]: loss 0.010811970569193363\n",
            "Train loss: 0.2901781306761067, Train accuracy: 0.878450870513916\n",
            "Val loss: 0.29165545105934143, Val accuracy: 0.875\n",
            "Test loss: 0.4043370498344302, Test accuracy: 0.8766025900840759\n",
            "\n",
            "=============== Epoch: 13\n",
            "train batch [40/41]: loss 0.3499007523059845\n",
            "val batch [3/4]: loss 0.05840146541595459\n",
            "test batch [4/5]: loss 0.045575737953186035\n",
            "Train loss: 0.29163060464510104, Train accuracy: 0.8786426186561584\n",
            "Val loss: 0.2910355143249035, Val accuracy: 0.875\n",
            "Test loss: 0.28923164755105973, Test accuracy: 0.9182692170143127\n",
            "\n",
            "=============== Epoch: 14\n",
            "train batch [40/41]: loss 0.292501300573349\n",
            "val batch [3/4]: loss 0.08111169934272766\n",
            "test batch [4/5]: loss 0.04488037899136543\n",
            "Train loss: 0.2888487631954798, Train accuracy: 0.876725435256958\n",
            "Val loss: 0.2095477506518364, Val accuracy: 0.9375\n",
            "Test loss: 0.28910529240965843, Test accuracy: 0.9150640964508057\n",
            "\n",
            "=============== Epoch: 15\n",
            "train batch [40/41]: loss 0.2640473246574402\n",
            "val batch [3/4]: loss 0.006051957607269287\n",
            "test batch [4/5]: loss 0.003218226134777069\n",
            "Train loss: 0.2797654805386939, Train accuracy: 0.8834355473518372\n",
            "Val loss: 0.6675756871700287, Val accuracy: 0.8125\n",
            "Test loss: 0.5157576804049313, Test accuracy: 0.8637820482254028\n",
            "\n",
            "=============== Epoch: 16\n",
            "train batch [40/41]: loss 0.2739560306072235\n",
            "val batch [3/4]: loss 0.058753788471221924\n",
            "test batch [4/5]: loss 0.034526921808719635\n",
            "Train loss: 0.28758591195432154, Train accuracy: 0.8778757452964783\n",
            "Val loss: 0.08302878588438034, Val accuracy: 1.0\n",
            "Test loss: 0.30072054676711557, Test accuracy: 0.9102564454078674\n",
            "\n",
            "=============== Epoch: 17\n",
            "train batch [40/41]: loss 0.20384980738162994\n",
            "val batch [3/4]: loss 0.006087958812713623\n",
            "test batch [4/5]: loss 0.008981412276625633\n",
            "Train loss: 0.27802901297080806, Train accuracy: 0.8851610422134399\n",
            "Val loss: 0.16454529762268066, Val accuracy: 0.875\n",
            "Test loss: 0.35574654769152403, Test accuracy: 0.9006410241127014\n",
            "\n",
            "=============== Epoch: 18\n",
            "train batch [40/41]: loss 0.34532415866851807\n",
            "val batch [3/4]: loss 0.00476449728012085\n",
            "test batch [4/5]: loss 0.004758463241159916\n",
            "Train loss: 0.27707308421774607, Train accuracy: 0.8851610422134399\n",
            "Val loss: 0.491733193397522, Val accuracy: 0.875\n",
            "Test loss: 0.4275247029960155, Test accuracy: 0.8862179517745972\n",
            "\n",
            "=============== Epoch: 19\n",
            "train batch [40/41]: loss 0.24281245470046997\n",
            "val batch [3/4]: loss 0.01635625958442688\n",
            "test batch [4/5]: loss 0.0021716845221817493\n",
            "Train loss: 0.2741604905302932, Train accuracy: 0.8865030407905579\n",
            "Val loss: 0.3545609936118126, Val accuracy: 0.875\n",
            "Test loss: 0.518944646883756, Test accuracy: 0.8733974695205688\n",
            "\n",
            "=============== Epoch: 20\n",
            "train batch [40/41]: loss 0.2186102420091629\n",
            "val batch [3/4]: loss 0.07064813375473022\n",
            "test batch [4/5]: loss 0.016025666147470474\n",
            "Train loss: 0.2707654052391285, Train accuracy: 0.886886477470398\n",
            "Val loss: 0.24501172080636024, Val accuracy: 0.9375\n",
            "Test loss: 0.3309864904731512, Test accuracy: 0.9102564454078674\n",
            "\n",
            "=============== Epoch: 21\n",
            "train batch [40/41]: loss 0.36261796951293945\n",
            "val batch [3/4]: loss 0.0025632381439208984\n",
            "test batch [4/5]: loss 0.00018621768685989082\n",
            "Train loss: 0.27357633048441354, Train accuracy: 0.8859279155731201\n",
            "Val loss: 1.1988106071949005, Val accuracy: 0.625\n",
            "Test loss: 0.8375474128348287, Test accuracy: 0.807692289352417\n",
            "\n",
            "=============== Epoch: 22\n",
            "train batch [40/41]: loss 0.2776435911655426\n",
            "val batch [3/4]: loss 0.0051184892654418945\n",
            "test batch [4/5]: loss 0.001881395117379725\n",
            "Train loss: 0.27214164486745507, Train accuracy: 0.8863113522529602\n",
            "Val loss: 0.3708862215280533, Val accuracy: 0.8125\n",
            "Test loss: 0.4870383356930688, Test accuracy: 0.8814102411270142\n",
            "\n",
            "=============== Epoch: 23\n",
            "train batch [40/41]: loss 0.22322659194469452\n",
            "val batch [3/4]: loss 0.00606989860534668\n",
            "test batch [4/5]: loss 0.007695482112467289\n",
            "Train loss: 0.2707944054429124, Train accuracy: 0.8866947889328003\n",
            "Val loss: 0.36284635961055756, Val accuracy: 0.9375\n",
            "Test loss: 0.41264445837587116, Test accuracy: 0.9038461446762085\n",
            "\n",
            "=============== Epoch: 24\n",
            "train batch [40/41]: loss 0.29291218519210815\n",
            "val batch [3/4]: loss 0.00157243013381958\n",
            "test batch [4/5]: loss 0.001700901542790234\n",
            "Train loss: 0.26828203877297846, Train accuracy: 0.8895705342292786\n",
            "Val loss: 0.5960626900196075, Val accuracy: 0.8125\n",
            "Test loss: 0.5680407277541235, Test accuracy: 0.8717948794364929\n",
            "\n",
            "=============== Epoch: 25\n",
            "train batch [40/41]: loss 0.31253376603126526\n",
            "val batch [3/4]: loss 0.00392383337020874\n",
            "test batch [4/5]: loss 0.0011396791087463498\n",
            "Train loss: 0.2677504918197306, Train accuracy: 0.8888036608695984\n",
            "Val loss: 0.5458193868398666, Val accuracy: 0.875\n",
            "Test loss: 0.598840236873366, Test accuracy: 0.8637820482254028\n",
            "\n",
            "=============== Epoch: 26\n",
            "train batch [40/41]: loss 0.25078919529914856\n",
            "val batch [3/4]: loss 0.01609259843826294\n",
            "test batch [4/5]: loss 0.007508427836000919\n",
            "Train loss: 0.2641246820368418, Train accuracy: 0.8891870975494385\n",
            "Val loss: 0.30805226415395737, Val accuracy: 0.9375\n",
            "Test loss: 0.37427381966263057, Test accuracy: 0.9054487347602844\n",
            "\n",
            "=============== Epoch: 27\n",
            "train batch [40/41]: loss 0.27091923356056213\n",
            "val batch [3/4]: loss 0.10835865139961243\n",
            "test batch [4/5]: loss 0.0020757424645125866\n",
            "Train loss: 0.267759795232517, Train accuracy: 0.8880367875099182\n",
            "Val loss: 0.5572229400277138, Val accuracy: 0.875\n",
            "Test loss: 0.48654956435784696, Test accuracy: 0.8974359035491943\n",
            "\n",
            "=============== Epoch: 28\n",
            "train batch [40/41]: loss 0.19613711535930634\n",
            "val batch [3/4]: loss 0.0517791211605072\n",
            "test batch [4/5]: loss 0.007754151243716478\n",
            "Train loss: 0.2658123010542335, Train accuracy: 0.8891870975494385\n",
            "Val loss: 0.4383709952235222, Val accuracy: 0.875\n",
            "Test loss: 0.394351025018841, Test accuracy: 0.9038461446762085\n",
            "\n",
            "=============== Epoch: 29\n",
            "train batch [40/41]: loss 0.21096138656139374\n",
            "val batch [3/4]: loss 0.010727941989898682\n",
            "test batch [4/5]: loss 0.0019285721937194467\n",
            "Train loss: 0.2614036213334014, Train accuracy: 0.8907208442687988\n",
            "Val loss: 0.4357784241437912, Val accuracy: 0.8125\n",
            "Test loss: 0.515466404450126, Test accuracy: 0.8862179517745972\n",
            "\n",
            "=============== Epoch: 30\n",
            "train batch [40/41]: loss 0.24985752999782562\n",
            "val batch [3/4]: loss 0.02456885576248169\n",
            "test batch [4/5]: loss 0.003925272263586521\n",
            "Train loss: 0.2614613324403763, Train accuracy: 0.891487717628479\n",
            "Val loss: 0.4617043808102608, Val accuracy: 0.875\n",
            "Test loss: 0.4284169675782323, Test accuracy: 0.9006410241127014\n",
            "\n",
            "=============== Epoch: 31\n",
            "train batch [40/41]: loss 0.242624893784523\n",
            "val batch [3/4]: loss 0.0401684045791626\n",
            "test batch [4/5]: loss 0.002098494442179799\n",
            "Train loss: 0.2605006603932962, Train accuracy: 0.8920628428459167\n",
            "Val loss: 0.33542634546756744, Val accuracy: 0.875\n",
            "Test loss: 0.5401733945589513, Test accuracy: 0.8814102411270142\n",
            "\n",
            "=============== Epoch: 32\n",
            "train batch [40/41]: loss 0.29929810762405396\n",
            "val batch [3/4]: loss 0.0001971721649169922\n",
            "test batch [4/5]: loss 0.00023774802684783936\n",
            "Train loss: 0.2587410044379351, Train accuracy: 0.8922545909881592\n",
            "Val loss: 1.0815099775791168, Val accuracy: 0.6875\n",
            "Test loss: 0.767753935791552, Test accuracy: 0.8477564454078674\n",
            "\n",
            "=============== Epoch: 33\n",
            "train batch [40/41]: loss 0.3229403793811798\n",
            "val batch [3/4]: loss 0.002205371856689453\n",
            "test batch [4/5]: loss 0.0004240700218360871\n",
            "Train loss: 0.26040026509180303, Train accuracy: 0.8920628428459167\n",
            "Val loss: 0.7408978044986725, Val accuracy: 0.75\n",
            "Test loss: 0.6509461521578487, Test accuracy: 0.8669871687889099\n",
            "\n",
            "=============== Epoch: 34\n",
            "train batch [40/41]: loss 0.2001030445098877\n",
            "val batch [3/4]: loss 0.005779922008514404\n",
            "test batch [4/5]: loss 0.0003636479377746582\n",
            "Train loss: 0.2586311018321572, Train accuracy: 0.8920628428459167\n",
            "Val loss: 1.112595096230507, Val accuracy: 0.75\n",
            "Test loss: 0.6604291426017881, Test accuracy: 0.8637820482254028\n",
            "\n",
            "=============== Epoch: 35\n",
            "train batch [40/41]: loss 0.2823255956172943\n",
            "val batch [3/4]: loss 0.002357780933380127\n",
            "test batch [4/5]: loss 0.00048706147936172783\n",
            "Train loss: 0.2560067562068381, Train accuracy: 0.8928297162055969\n",
            "Val loss: 0.48063430190086365, Val accuracy: 0.8125\n",
            "Test loss: 0.6046233651752118, Test accuracy: 0.8782051205635071\n",
            "\n",
            "=============== Epoch: 36\n",
            "train batch [40/41]: loss 0.38064253330230713\n",
            "val batch [3/4]: loss 0.133393794298172\n",
            "test batch [4/5]: loss 0.005802040454000235\n",
            "Train loss: 0.26026754262970714, Train accuracy: 0.8918711543083191\n",
            "Val loss: 0.5019716992974281, Val accuracy: 0.875\n",
            "Test loss: 0.43729481836780904, Test accuracy: 0.9102564454078674\n",
            "\n",
            "=============== Epoch: 37\n",
            "train batch [40/41]: loss 0.2993323504924774\n",
            "val batch [3/4]: loss 0.00203704833984375\n",
            "test batch [4/5]: loss 0.0005720789777114987\n",
            "Train loss: 0.2574451994605181, Train accuracy: 0.8918711543083191\n",
            "Val loss: 0.8818609416484833, Val accuracy: 0.8125\n",
            "Test loss: 0.6415916150668636, Test accuracy: 0.8621795177459717\n",
            "\n",
            "=============== Epoch: 38\n",
            "train batch [40/41]: loss 0.33343276381492615\n",
            "val batch [3/4]: loss 0.0010359883308410645\n",
            "test batch [4/5]: loss 0.00018457004625815898\n",
            "Train loss: 0.25738023766657203, Train accuracy: 0.8922545909881592\n",
            "Val loss: 1.0220307111740112, Val accuracy: 0.8125\n",
            "Test loss: 0.7613417097512866, Test accuracy: 0.8509615659713745\n",
            "\n",
            "=============== Epoch: 39\n",
            "train batch [40/41]: loss 0.41783979535102844\n",
            "val batch [3/4]: loss 0.036411404609680176\n",
            "test batch [4/5]: loss 0.0006672335439361632\n",
            "Train loss: 0.25853395389347544, Train accuracy: 0.8916794061660767\n",
            "Val loss: 0.8462807387113571, Val accuracy: 0.75\n",
            "Test loss: 0.6682686367188581, Test accuracy: 0.8621795177459717\n",
            "\n",
            "=============== Epoch: 40\n",
            "train batch [40/41]: loss 0.323087602853775\n",
            "val batch [3/4]: loss 0.028250455856323242\n",
            "test batch [4/5]: loss 0.0010849450482055545\n",
            "Train loss: 0.2567850347699189, Train accuracy: 0.8926380276679993\n",
            "Val loss: 0.7754270434379578, Val accuracy: 0.75\n",
            "Test loss: 0.5718865481903777, Test accuracy: 0.8814102411270142\n",
            "\n",
            "=============== Epoch: 41\n",
            "train batch [40/41]: loss 0.22029244899749756\n",
            "val batch [3/4]: loss 0.01572093367576599\n",
            "test batch [4/5]: loss 0.007038919720798731\n",
            "Train loss: 0.2553271763935322, Train accuracy: 0.8924462795257568\n",
            "Val loss: 0.17802464216947556, Val accuracy: 0.875\n",
            "Test loss: 0.4078979202546179, Test accuracy: 0.9102564454078674\n",
            "\n",
            "=============== Epoch: 42\n",
            "train batch [40/41]: loss 0.23948253691196442\n",
            "val batch [3/4]: loss 0.003475368022918701\n",
            "test batch [4/5]: loss 0.0006078673177398741\n",
            "Train loss: 0.2534489090122828, Train accuracy: 0.8941717743873596\n",
            "Val loss: 0.9739615768194199, Val accuracy: 0.75\n",
            "Test loss: 0.6193136614863761, Test accuracy: 0.879807710647583\n",
            "\n",
            "=============== Epoch: 43\n",
            "train batch [40/41]: loss 0.25681743025779724\n",
            "val batch [3/4]: loss 0.017360568046569824\n",
            "test batch [4/5]: loss 0.000931484333705157\n",
            "Train loss: 0.2547791890981721, Train accuracy: 0.893213152885437\n",
            "Val loss: 0.5256401598453522, Val accuracy: 0.8125\n",
            "Test loss: 0.5499640806927346, Test accuracy: 0.8926281929016113\n",
            "\n",
            "=============== Epoch: 44\n",
            "train batch [40/41]: loss 0.3327578008174896\n",
            "val batch [3/4]: loss 0.002124011516571045\n",
            "test batch [4/5]: loss 0.00010597919026622549\n",
            "Train loss: 0.25687005025584525, Train accuracy: 0.8916794061660767\n",
            "Val loss: 0.8189595192670822, Val accuracy: 0.75\n",
            "Test loss: 0.728031929077406, Test accuracy: 0.870192289352417\n",
            "\n",
            "=============== Epoch: 45\n",
            "train batch [40/41]: loss 0.18602566421031952\n",
            "val batch [3/4]: loss 0.0012440085411071777\n",
            "test batch [4/5]: loss 0.0009483822504989803\n",
            "Train loss: 0.25340795916755027, Train accuracy: 0.8947468996047974\n",
            "Val loss: 0.7536261230707169, Val accuracy: 0.8125\n",
            "Test loss: 0.5211760021164082, Test accuracy: 0.8942307829856873\n",
            "\n",
            "=============== Epoch: 46\n",
            "train batch [40/41]: loss 0.35232770442962646\n",
            "val batch [3/4]: loss 0.004243731498718262\n",
            "test batch [4/5]: loss 0.00019079020421486348\n",
            "Train loss: 0.2523779378431599, Train accuracy: 0.8935965895652771\n",
            "Val loss: 1.0369055271148682, Val accuracy: 0.75\n",
            "Test loss: 0.7011671379994369, Test accuracy: 0.8621795177459717\n",
            "\n",
            "=============== Epoch: 47\n",
            "train batch [40/41]: loss 0.15292911231517792\n",
            "val batch [3/4]: loss 0.004852592945098877\n",
            "test batch [4/5]: loss 0.00254491507075727\n",
            "Train loss: 0.25632808957158065, Train accuracy: 0.8918711543083191\n",
            "Val loss: 0.4431563913822174, Val accuracy: 0.875\n",
            "Test loss: 0.475380454165861, Test accuracy: 0.8958333730697632\n",
            "\n",
            "=============== Epoch: 48\n",
            "train batch [40/41]: loss 0.28491485118865967\n",
            "val batch [3/4]: loss 0.09284058213233948\n",
            "test batch [4/5]: loss 0.0006479237927123904\n",
            "Train loss: 0.2547816499704268, Train accuracy: 0.8924462795257568\n",
            "Val loss: 0.3693299666047096, Val accuracy: 0.875\n",
            "Test loss: 0.5800272196298465, Test accuracy: 0.8862179517745972\n",
            "\n",
            "=============== Epoch: 49\n",
            "train batch [40/41]: loss 0.3084106147289276\n",
            "val batch [3/4]: loss 0.11748279631137848\n",
            "test batch [4/5]: loss 0.000405373313697055\n",
            "Train loss: 0.2542230272438468, Train accuracy: 0.893213152885437\n",
            "Val loss: 0.7668089605867863, Val accuracy: 0.875\n",
            "Test loss: 0.6434491418825928, Test accuracy: 0.8814102411270142\n",
            "\n"
          ],
          "name": "stdout"
        }
      ]
    },
    {
      "cell_type": "code",
      "metadata": {
        "id": "LAw2cr0mHYOb",
        "colab_type": "code",
        "colab": {}
      },
      "source": [
        ""
      ],
      "execution_count": null,
      "outputs": []
    },
    {
      "cell_type": "markdown",
      "metadata": {
        "id": "blr1hc4hJrQm",
        "colab_type": "text"
      },
      "source": [
        "### Training Images with Epsilon = 1"
      ]
    },
    {
      "cell_type": "code",
      "metadata": {
        "id": "78IkqIEdlNwB",
        "colab_type": "code",
        "colab": {
          "base_uri": "https://localhost:8080/",
          "height": 284
        },
        "outputId": "08a9f74c-0ed4-45a2-980d-7779204d895f"
      },
      "source": [
        "import matplotlib.pyplot as plt\n",
        "from PIL import Image\n",
        "\n",
        "fig = plt.figure(figsize=(30, 6))\n",
        "base_dir = './train'\n",
        "# display 8 PNEUMONIA images(train) for Epsilon :1\n",
        "train_imgs = os.listdir(base_dir+\"/PNEUMONIA\")\n",
        "for idx, img in enumerate(np.random.choice(train_imgs, 8)):\n",
        "    ax = fig.add_subplot(2, 8//2, idx+1, xticks=[], yticks=[])\n",
        "    im = Image.open(base_dir+\"/PNEUMONIA/\" + img)\n",
        "    plt.imshow(im)\n",
        "    ax.set_title('PNEUMONIA(EPS:1)')"
      ],
      "execution_count": 21,
      "outputs": [
        {
          "output_type": "display_data",
          "data": {
            "image/png": "[encoded data removed]",
            "text/plain": [
              "<Figure size 2160x432 with 8 Axes>"
            ]
          },
          "metadata": {
            "tags": []
          }
        }
      ]
    },
    {
      "cell_type": "code",
      "metadata": {
        "id": "O-tUSFryIPaG",
        "colab_type": "code",
        "colab": {
          "base_uri": "https://localhost:8080/",
          "height": 293
        },
        "outputId": "c2e42185-0a30-4b6e-87c9-8b3229057fb1"
      },
      "source": [
        "fig = plt.figure(figsize=(30, 6))\n",
        "base_dir = './train'\n",
        "# display 8 NORMAL images(train) for Epsilon :1\n",
        "train_imgs = os.listdir(base_dir+\"/NORMAL\")\n",
        "for idx, img in enumerate(np.random.choice(train_imgs, 8)):\n",
        "    ax = fig.add_subplot(2, 8//2, idx+1, xticks=[], yticks=[])\n",
        "    im = Image.open(base_dir+\"/NORMAL/\" + img)\n",
        "    plt.imshow(im)\n",
        "    ax.set_title('NORMAL(EPS:1)')"
      ],
      "execution_count": 22,
      "outputs": [
        {
          "output_type": "display_data",
          "data": {
            "image/png": "[encoded data removed]",
            "text/plain": [
              "<Figure size 2160x432 with 8 Axes>"
            ]
          },
          "metadata": {
            "tags": []
          }
        }
      ]
    },
    {
      "cell_type": "code",
      "metadata": {
        "id": "XZX0XW9ng_zK",
        "colab_type": "code",
        "colab": {}
      },
      "source": [
        ""
      ],
      "execution_count": null,
      "outputs": []
    }
  ]
}