{
  "nbformat": 4,
  "nbformat_minor": 0,
  "metadata": {
    "kernelspec": {
      "display_name": "Python 3",
      "language": "python",
      "name": "python3"
    },
    "language_info": {
      "codemirror_mode": {
        "name": "ipython",
        "version": 3
      },
      "file_extension": ".py",
      "mimetype": "text/x-python",
      "name": "python",
      "nbconvert_exporter": "python",
      "pygments_lexer": "ipython3",
      "version": "3.8.2"
    },
    "colab": {
      "name": "Resnet_18_pneumonia_LDP_V4_eps_0_5_r2.ipynb",
      "provenance": [],
      "collapsed_sections": []
    },
    "accelerator": "GPU",
    "widgets": {
      "application/vnd.jupyter.widget-state+json": {
        "b7803f7846b24c47950c36e00eac1854": {
          "model_module": "@jupyter-widgets/controls",
          "model_name": "HBoxModel",
          "state": {
            "_view_name": "HBoxView",
            "_dom_classes": [],
            "_model_name": "HBoxModel",
            "_view_module": "@jupyter-widgets/controls",
            "_model_module_version": "1.5.0",
            "_view_count": null,
            "_view_module_version": "1.5.0",
            "box_style": "",
            "layout": "IPY_MODEL_07df85674ad64a8eb78fd6b0fb38ee29",
            "_model_module": "@jupyter-widgets/controls",
            "children": [
              "IPY_MODEL_45ff3eab3c2b491fb4a4d221e2c753c9",
              "IPY_MODEL_daeae519b4f9477fa4d191b1b02d0f7e"
            ]
          }
        },
        "07df85674ad64a8eb78fd6b0fb38ee29": {
          "model_module": "@jupyter-widgets/base",
          "model_name": "LayoutModel",
          "state": {
            "_view_name": "LayoutView",
            "grid_template_rows": null,
            "right": null,
            "justify_content": null,
            "_view_module": "@jupyter-widgets/base",
            "overflow": null,
            "_model_module_version": "1.2.0",
            "_view_count": null,
            "flex_flow": null,
            "width": null,
            "min_width": null,
            "border": null,
            "align_items": null,
            "bottom": null,
            "_model_module": "@jupyter-widgets/base",
            "top": null,
            "grid_column": null,
            "overflow_y": null,
            "overflow_x": null,
            "grid_auto_flow": null,
            "grid_area": null,
            "grid_template_columns": null,
            "flex": null,
            "_model_name": "LayoutModel",
            "justify_items": null,
            "grid_row": null,
            "max_height": null,
            "align_content": null,
            "visibility": null,
            "align_self": null,
            "height": null,
            "min_height": null,
            "padding": null,
            "grid_auto_rows": null,
            "grid_gap": null,
            "max_width": null,
            "order": null,
            "_view_module_version": "1.2.0",
            "grid_template_areas": null,
            "object_position": null,
            "object_fit": null,
            "grid_auto_columns": null,
            "margin": null,
            "display": null,
            "left": null
          }
        },
        "45ff3eab3c2b491fb4a4d221e2c753c9": {
          "model_module": "@jupyter-widgets/controls",
          "model_name": "FloatProgressModel",
          "state": {
            "_view_name": "ProgressView",
            "style": "IPY_MODEL_3b08108ade20476e8fe43f83fabca93b",
            "_dom_classes": [],
            "description": "100%",
            "_model_name": "FloatProgressModel",
            "bar_style": "success",
            "max": 46827520,
            "_view_module": "@jupyter-widgets/controls",
            "_model_module_version": "1.5.0",
            "value": 46827520,
            "_view_count": null,
            "_view_module_version": "1.5.0",
            "orientation": "horizontal",
            "min": 0,
            "description_tooltip": null,
            "_model_module": "@jupyter-widgets/controls",
            "layout": "IPY_MODEL_605b9d3e16624989af96d4204cb9ce9c"
          }
        },
        "daeae519b4f9477fa4d191b1b02d0f7e": {
          "model_module": "@jupyter-widgets/controls",
          "model_name": "HTMLModel",
          "state": {
            "_view_name": "HTMLView",
            "style": "IPY_MODEL_d7f358e45bb246e9bfddb03d8c9b2ce1",
            "_dom_classes": [],
            "description": "",
            "_model_name": "HTMLModel",
            "placeholder": "​",
            "_view_module": "@jupyter-widgets/controls",
            "_model_module_version": "1.5.0",
            "value": " 44.7M/44.7M [03:46&lt;00:00, 207kB/s]",
            "_view_count": null,
            "_view_module_version": "1.5.0",
            "description_tooltip": null,
            "_model_module": "@jupyter-widgets/controls",
            "layout": "IPY_MODEL_296bbc4c7a214fb4a2c4f7957f928611"
          }
        },
        "3b08108ade20476e8fe43f83fabca93b": {
          "model_module": "@jupyter-widgets/controls",
          "model_name": "ProgressStyleModel",
          "state": {
            "_view_name": "StyleView",
            "_model_name": "ProgressStyleModel",
            "description_width": "initial",
            "_view_module": "@jupyter-widgets/base",
            "_model_module_version": "1.5.0",
            "_view_count": null,
            "_view_module_version": "1.2.0",
            "bar_color": null,
            "_model_module": "@jupyter-widgets/controls"
          }
        },
        "605b9d3e16624989af96d4204cb9ce9c": {
          "model_module": "@jupyter-widgets/base",
          "model_name": "LayoutModel",
          "state": {
            "_view_name": "LayoutView",
            "grid_template_rows": null,
            "right": null,
            "justify_content": null,
            "_view_module": "@jupyter-widgets/base",
            "overflow": null,
            "_model_module_version": "1.2.0",
            "_view_count": null,
            "flex_flow": null,
            "width": null,
            "min_width": null,
            "border": null,
            "align_items": null,
            "bottom": null,
            "_model_module": "@jupyter-widgets/base",
            "top": null,
            "grid_column": null,
            "overflow_y": null,
            "overflow_x": null,
            "grid_auto_flow": null,
            "grid_area": null,
            "grid_template_columns": null,
            "flex": null,
            "_model_name": "LayoutModel",
            "justify_items": null,
            "grid_row": null,
            "max_height": null,
            "align_content": null,
            "visibility": null,
            "align_self": null,
            "height": null,
            "min_height": null,
            "padding": null,
            "grid_auto_rows": null,
            "grid_gap": null,
            "max_width": null,
            "order": null,
            "_view_module_version": "1.2.0",
            "grid_template_areas": null,
            "object_position": null,
            "object_fit": null,
            "grid_auto_columns": null,
            "margin": null,
            "display": null,
            "left": null
          }
        },
        "d7f358e45bb246e9bfddb03d8c9b2ce1": {
          "model_module": "@jupyter-widgets/controls",
          "model_name": "DescriptionStyleModel",
          "state": {
            "_view_name": "StyleView",
            "_model_name": "DescriptionStyleModel",
            "description_width": "",
            "_view_module": "@jupyter-widgets/base",
            "_model_module_version": "1.5.0",
            "_view_count": null,
            "_view_module_version": "1.2.0",
            "_model_module": "@jupyter-widgets/controls"
          }
        },
        "296bbc4c7a214fb4a2c4f7957f928611": {
          "model_module": "@jupyter-widgets/base",
          "model_name": "LayoutModel",
          "state": {
            "_view_name": "LayoutView",
            "grid_template_rows": null,
            "right": null,
            "justify_content": null,
            "_view_module": "@jupyter-widgets/base",
            "overflow": null,
            "_model_module_version": "1.2.0",
            "_view_count": null,
            "flex_flow": null,
            "width": null,
            "min_width": null,
            "border": null,
            "align_items": null,
            "bottom": null,
            "_model_module": "@jupyter-widgets/base",
            "top": null,
            "grid_column": null,
            "overflow_y": null,
            "overflow_x": null,
            "grid_auto_flow": null,
            "grid_area": null,
            "grid_template_columns": null,
            "flex": null,
            "_model_name": "LayoutModel",
            "justify_items": null,
            "grid_row": null,
            "max_height": null,
            "align_content": null,
            "visibility": null,
            "align_self": null,
            "height": null,
            "min_height": null,
            "padding": null,
            "grid_auto_rows": null,
            "grid_gap": null,
            "max_width": null,
            "order": null,
            "_view_module_version": "1.2.0",
            "grid_template_areas": null,
            "object_position": null,
            "object_fit": null,
            "grid_auto_columns": null,
            "margin": null,
            "display": null,
            "left": null
          }
        }
      }
    }
  },
  "cells": [
    {
      "cell_type": "code",
      "metadata": {
        "id": "tJxejS4BhtfA",
        "colab_type": "code",
        "colab": {
          "base_uri": "https://localhost:8080/",
          "height": 357
        },
        "outputId": "05763115-c50c-4eb9-b5db-ea3a6a5ed132"
      },
      "source": [
        "!nvidia-smi"
      ],
      "execution_count": 1,
      "outputs": [
        {
          "output_type": "stream",
          "text": [
            "Thu Jul 16 06:12:05 2020       \n",
            "+-----------------------------------------------------------------------------+\n",
            "| NVIDIA-SMI 450.51.05    Driver Version: 418.67       CUDA Version: 10.1     |\n",
            "|-------------------------------+----------------------+----------------------+\n",
            "| GPU  Name        Persistence-M| Bus-Id        Disp.A | Volatile Uncorr. ECC |\n",
            "| Fan  Temp  Perf  Pwr:Usage/Cap|         Memory-Usage | GPU-Util  Compute M. |\n",
            "|                               |                      |               MIG M. |\n",
            "|===============================+======================+======================|\n",
            "|   0  Tesla K80           Off  | 00000000:00:04.0 Off |                    0 |\n",
            "| N/A   57C    P8    29W / 149W |      0MiB / 11441MiB |      0%      Default |\n",
            "|                               |                      |                 ERR! |\n",
            "+-------------------------------+----------------------+----------------------+\n",
            "                                                                               \n",
            "+-----------------------------------------------------------------------------+\n",
            "| Processes:                                                                  |\n",
            "|  GPU   GI   CI        PID   Type   Process name                  GPU Memory |\n",
            "|        ID   ID                                                   Usage      |\n",
            "|=============================================================================|\n",
            "|  No running processes found                                                 |\n",
            "+-----------------------------------------------------------------------------+\n"
          ],
          "name": "stdout"
        }
      ]
    },
    {
      "cell_type": "code",
      "metadata": {
        "id": "KqzKNkpfXrM7",
        "colab_type": "code",
        "colab": {
          "base_uri": "https://localhost:8080/",
          "height": 122
        },
        "outputId": "9c90e1f1-3fb9-4b45-9d81-8e5193117fad"
      },
      "source": [
        "from google.colab import drive\n",
        "drive.mount('/content/drive', force_remount=True)"
      ],
      "execution_count": 2,
      "outputs": [
        {
          "output_type": "stream",
          "text": [
            "Go to this URL in a browser: https://accounts.google.com/o/oauth2/auth?client_id=947318989803-6bn6qk8qdgf4n4g3pfee6491hc0brc4i.apps.googleusercontent.com&redirect_uri=urn%3aietf%3awg%3aoauth%3a2.0%3aoob&response_type=code&scope=email%20https%3a%2f%2fwww.googleapis.com%2fauth%2fdocs.test%20https%3a%2f%2fwww.googleapis.com%2fauth%2fdrive%20https%3a%2f%2fwww.googleapis.com%2fauth%2fdrive.photos.readonly%20https%3a%2f%2fwww.googleapis.com%2fauth%2fpeopleapi.readonly\n",
            "\n",
            "Enter your authorization code:\n",
            "··········\n",
            "Mounted at /content/drive\n"
          ],
          "name": "stdout"
        }
      ]
    },
    {
      "cell_type": "code",
      "metadata": {
        "id": "5tkHSteTnOUV",
        "colab_type": "code",
        "colab": {}
      },
      "source": [
        "import torch \n",
        "import torchvision\n",
        "import numpy as np \n",
        "import random\n",
        "import os\n",
        "import glob\n",
        "import copy\n",
        "from tqdm import tqdm as tqdm\n",
        "from torchsummary import summary\n",
        "\n",
        "seed = 42\n",
        "random.seed(seed)\n",
        "os.environ[\"PYTHONHASHSEED\"] = str(seed)\n",
        "np.random.seed(seed)\n",
        "torch.cuda.manual_seed(seed)\n",
        "torch.cuda.manual_seed_all(seed)\n",
        "torch.backends.cudnn.deterministic = True\n",
        "torch.manual_seed(seed)\n",
        "\n",
        "best_model = None\n",
        "best_loss = 0.\n",
        "best_test_loss = 0.\n",
        "best_test_acc = 0.\n",
        "best_pred_labels = []\n",
        "true_labels = []\n",
        "\n",
        "pred_labels = []\n",
        "test_acc = 0.\n",
        "test_loss = 0.\n",
        "\n",
        "# device = torch.device('cuda:0')\n",
        "device = torch.device('cuda' if torch.cuda.is_available() else 'cpu')"
      ],
      "execution_count": 3,
      "outputs": []
    },
    {
      "cell_type": "code",
      "metadata": {
        "id": "xjX3GQUHnOUh",
        "colab_type": "code",
        "colab": {
          "base_uri": "https://localhost:8080/",
          "height": 85
        },
        "outputId": "685e16ea-898e-482c-d833-2b49684efb56"
      },
      "source": [
        "# train class samples from DP data\n",
        "print('Normal Samples in Training Data')\n",
        "!ls -l /content/drive/\"My Drive\"/\"DP Data\"/\"0.5\"/train/NORMAL | wc -l\n",
        "print('Pneumonia Samples in Training Data')\n",
        "!ls -l /content/drive/\"My Drive\"/\"DP Data\"/\"0.5\"/train/PNEUMONIA | wc -l"
      ],
      "execution_count": 4,
      "outputs": [
        {
          "output_type": "stream",
          "text": [
            "Normal Samples in Training Data\n",
            "1342\n",
            "Pneumonia Samples in Training Data\n",
            "3885\n"
          ],
          "name": "stdout"
        }
      ]
    },
    {
      "cell_type": "code",
      "metadata": {
        "id": "YFPQXljuwkHL",
        "colab_type": "code",
        "colab": {}
      },
      "source": [
        "# Copying DP training Data with epsilon 0.5 to local to process/train faster\n",
        "\n",
        "!cp -R /content/drive/\"My Drive\"/\"DP Data\"/\"0.5\"/train ./"
      ],
      "execution_count": 5,
      "outputs": []
    },
    {
      "cell_type": "code",
      "metadata": {
        "id": "2VO22zvswkPf",
        "colab_type": "code",
        "colab": {}
      },
      "source": [
        ""
      ],
      "execution_count": null,
      "outputs": []
    },
    {
      "cell_type": "code",
      "metadata": {
        "id": "XOR0OlpIbDFA",
        "colab_type": "code",
        "colab": {
          "base_uri": "https://localhost:8080/",
          "height": 85
        },
        "outputId": "4ce4bdd8-4a24-4388-f25a-db189744712e"
      },
      "source": [
        "# Validation samples from Non DP data\n",
        "print('Normal Samples in Validation Data')\n",
        "!ls -l /content/drive/\"My Drive\"/NDP_Data/chest_xray/val/NORMAL | wc -l\n",
        "print('Pneumonia Samples in Validation Data')\n",
        "!ls -l /content/drive/\"My Drive\"/NDP_Data/chest_xray/val/PNEUMONIA | wc -l"
      ],
      "execution_count": 6,
      "outputs": [
        {
          "output_type": "stream",
          "text": [
            "Normal Samples in Validation Data\n",
            "9\n",
            "Pneumonia Samples in Validation Data\n",
            "9\n"
          ],
          "name": "stdout"
        }
      ]
    },
    {
      "cell_type": "code",
      "metadata": {
        "id": "qyF-WcKiwoN9",
        "colab_type": "code",
        "colab": {}
      },
      "source": [
        "# Copying to Non DP Validation data to local to process/run faster during validation inference\n",
        "\n",
        "!cp -R /content/drive/\"My Drive\"/NDP_Data/chest_xray/val ./"
      ],
      "execution_count": 7,
      "outputs": []
    },
    {
      "cell_type": "code",
      "metadata": {
        "id": "A1h9SY7Xwoic",
        "colab_type": "code",
        "colab": {}
      },
      "source": [
        ""
      ],
      "execution_count": null,
      "outputs": []
    },
    {
      "cell_type": "code",
      "metadata": {
        "id": "z8YxWrN7nOUo",
        "colab_type": "code",
        "colab": {
          "base_uri": "https://localhost:8080/",
          "height": 85
        },
        "outputId": "e562031f-4ec2-4f00-ada3-8da38dfbc636"
      },
      "source": [
        "# Testing samples from Non DP data\n",
        "print('Normal Samples in Testing Data')\n",
        "!ls -l /content/drive/\"My Drive\"/NDP_Data/chest_xray/test/NORMAL | wc -l\n",
        "print('Pneumonia Samples in Testing Data')\n",
        "!ls -l /content/drive/\"My Drive\"/NDP_Data/chest_xray/test/PNEUMONIA | wc -l"
      ],
      "execution_count": 8,
      "outputs": [
        {
          "output_type": "stream",
          "text": [
            "Normal Samples in Testing Data\n",
            "235\n",
            "Pneumonia Samples in Testing Data\n",
            "391\n"
          ],
          "name": "stdout"
        }
      ]
    },
    {
      "cell_type": "code",
      "metadata": {
        "id": "WLSyA-ptwpW9",
        "colab_type": "code",
        "colab": {}
      },
      "source": [
        "# Copying to Non DP Validation data to local to process/run faster during testing inference\n",
        "\n",
        "!cp -R /content/drive/\"My Drive\"/NDP_Data/chest_xray/test ./"
      ],
      "execution_count": 9,
      "outputs": []
    },
    {
      "cell_type": "code",
      "metadata": {
        "id": "04TiSSA8wpfs",
        "colab_type": "code",
        "colab": {}
      },
      "source": [
        ""
      ],
      "execution_count": null,
      "outputs": []
    },
    {
      "cell_type": "code",
      "metadata": {
        "id": "39ZenXsiw8mn",
        "colab_type": "code",
        "colab": {
          "base_uri": "https://localhost:8080/",
          "height": 119
        },
        "outputId": "bcc48e3e-cd1a-4689-ac62-f03ccaeca59a"
      },
      "source": [
        "!ls -lrt"
      ],
      "execution_count": 10,
      "outputs": [
        {
          "output_type": "stream",
          "text": [
            "total 20\n",
            "drwxr-xr-x 1 root root 4096 Jul 10 16:29 sample_data\n",
            "drwx------ 4 root root 4096 Jul 16 06:27 drive\n",
            "dr-x------ 4 root root 4096 Jul 16 07:06 train\n",
            "drwx------ 4 root root 4096 Jul 16 07:06 val\n",
            "drwx------ 4 root root 4096 Jul 16 07:09 test\n"
          ],
          "name": "stdout"
        }
      ]
    },
    {
      "cell_type": "code",
      "metadata": {
        "id": "Yhu7vi8Nw-N8",
        "colab_type": "code",
        "colab": {
          "base_uri": "https://localhost:8080/",
          "height": 51
        },
        "outputId": "15f781de-19c3-4bad-ecf2-a23776d599e3"
      },
      "source": [
        "!ls -l ./train/NORMAL | wc -l\n",
        "!ls -l ./train/PNEUMONIA | wc -l"
      ],
      "execution_count": 11,
      "outputs": [
        {
          "output_type": "stream",
          "text": [
            "1342\n",
            "3885\n"
          ],
          "name": "stdout"
        }
      ]
    },
    {
      "cell_type": "code",
      "metadata": {
        "id": "TMYBB-DRw-ZQ",
        "colab_type": "code",
        "colab": {
          "base_uri": "https://localhost:8080/",
          "height": 51
        },
        "outputId": "9be1950b-4100-4555-8923-23134056342b"
      },
      "source": [
        "!ls -l ./val/NORMAL | wc -l\n",
        "!ls -l ./val/PNEUMONIA | wc -l"
      ],
      "execution_count": 12,
      "outputs": [
        {
          "output_type": "stream",
          "text": [
            "9\n",
            "9\n"
          ],
          "name": "stdout"
        }
      ]
    },
    {
      "cell_type": "code",
      "metadata": {
        "id": "96H-CviAw-lT",
        "colab_type": "code",
        "colab": {
          "base_uri": "https://localhost:8080/",
          "height": 51
        },
        "outputId": "22f9b86e-95a5-4c80-92ee-f74133c1801b"
      },
      "source": [
        "!ls -l ./test/NORMAL | wc -l\n",
        "!ls -l ./test/PNEUMONIA | wc -l"
      ],
      "execution_count": 13,
      "outputs": [
        {
          "output_type": "stream",
          "text": [
            "235\n",
            "391\n"
          ],
          "name": "stdout"
        }
      ]
    },
    {
      "cell_type": "code",
      "metadata": {
        "id": "qcDfd0KBw-sp",
        "colab_type": "code",
        "colab": {}
      },
      "source": [
        ""
      ],
      "execution_count": null,
      "outputs": []
    },
    {
      "cell_type": "code",
      "metadata": {
        "id": "LPDTSXKWnOUw",
        "colab_type": "code",
        "colab": {}
      },
      "source": [
        "class ChestXRay(torchvision.datasets.ImageFolder):\n",
        "    def __getitem__(self, index):\n",
        "        sample, target = super().__getitem__(index)\n",
        "        path, _ = self.samples[index]\n",
        "        \n",
        "        target = 0\n",
        "        if 'PNEUMONIA' in path:\n",
        "            target = 1\n",
        "        \n",
        "        return sample, target\n",
        "       "
      ],
      "execution_count": 14,
      "outputs": []
    },
    {
      "cell_type": "code",
      "metadata": {
        "id": "J-_xESJtnOU0",
        "colab_type": "code",
        "colab": {}
      },
      "source": [
        "train_transforms = torchvision.transforms.Compose([\n",
        "    torchvision.transforms.Resize(256),\n",
        "    torchvision.transforms.RandomAffine(0, translate=(0, 0.1), scale=(1, 1.10)),\n",
        "    torchvision.transforms.CenterCrop(224),\n",
        "    torchvision.transforms.ToTensor(),\n",
        "    torchvision.transforms.Normalize([0.485, 0.456, 0.406], [0.229, 0.224, 0.225])\n",
        "])\n",
        "\n",
        "transforms = torchvision.transforms.Compose([\n",
        "    torchvision.transforms.Resize(256),\n",
        "    torchvision.transforms.CenterCrop(224),\n",
        "    torchvision.transforms.ToTensor(),\n",
        "    torchvision.transforms.Normalize([0.485, 0.456, 0.406], [0.229, 0.224, 0.225]),\n",
        "])\n",
        "\n",
        "train_dataset = ChestXRay('./train/', transform=train_transforms)\n",
        "val_dataset = ChestXRay('./val/', transform=train_transforms)\n",
        "test_dataset = ChestXRay('./test/', transform=transforms)\n",
        "\n",
        "train_dataloader = torch.utils.data.DataLoader(train_dataset, batch_size=128, shuffle=True)\n",
        "val_dataloader = torch.utils.data.DataLoader(val_dataset, batch_size=4, shuffle=False)\n",
        "test_dataloader = torch.utils.data.DataLoader(test_dataset, batch_size=128, shuffle=False)"
      ],
      "execution_count": 15,
      "outputs": []
    },
    {
      "cell_type": "code",
      "metadata": {
        "id": "Ee19YDP1nOVA",
        "colab_type": "code",
        "colab": {
          "base_uri": "https://localhost:8080/",
          "height": 1000,
          "referenced_widgets": [
            "b7803f7846b24c47950c36e00eac1854",
            "07df85674ad64a8eb78fd6b0fb38ee29",
            "45ff3eab3c2b491fb4a4d221e2c753c9",
            "daeae519b4f9477fa4d191b1b02d0f7e",
            "3b08108ade20476e8fe43f83fabca93b",
            "605b9d3e16624989af96d4204cb9ce9c",
            "d7f358e45bb246e9bfddb03d8c9b2ce1",
            "296bbc4c7a214fb4a2c4f7957f928611"
          ]
        },
        "outputId": "55b855f6-d816-43a3-e218-92b80bdd57e7"
      },
      "source": [
        "model = torchvision.models.resnet18(pretrained=True)\n",
        "model.fc = torch.nn.Linear(in_features=512, out_features=2)\n",
        "model = model.to(device)\n",
        "model"
      ],
      "execution_count": 16,
      "outputs": [
        {
          "output_type": "stream",
          "text": [
            "Downloading: \"https://download.pytorch.org/models/resnet18-5c106cde.pth\" to /root/.cache/torch/checkpoints/resnet18-5c106cde.pth\n"
          ],
          "name": "stderr"
        },
        {
          "output_type": "display_data",
          "data": {
            "application/vnd.jupyter.widget-view+json": {
              "model_id": "b7803f7846b24c47950c36e00eac1854",
              "version_minor": 0,
              "version_major": 2
            },
            "text/plain": [
              "HBox(children=(FloatProgress(value=0.0, max=46827520.0), HTML(value='')))"
            ]
          },
          "metadata": {
            "tags": []
          }
        },
        {
          "output_type": "stream",
          "text": [
            "\n"
          ],
          "name": "stdout"
        },
        {
          "output_type": "execute_result",
          "data": {
            "text/plain": [
              "ResNet(\n",
              "  (conv1): Conv2d(3, 64, kernel_size=(7, 7), stride=(2, 2), padding=(3, 3), bias=False)\n",
              "  (bn1): BatchNorm2d(64, eps=1e-05, momentum=0.1, affine=True, track_running_stats=True)\n",
              "  (relu): ReLU(inplace=True)\n",
              "  (maxpool): MaxPool2d(kernel_size=3, stride=2, padding=1, dilation=1, ceil_mode=False)\n",
              "  (layer1): Sequential(\n",
              "    (0): BasicBlock(\n",
              "      (conv1): Conv2d(64, 64, kernel_size=(3, 3), stride=(1, 1), padding=(1, 1), bias=False)\n",
              "      (bn1): BatchNorm2d(64, eps=1e-05, momentum=0.1, affine=True, track_running_stats=True)\n",
              "      (relu): ReLU(inplace=True)\n",
              "      (conv2): Conv2d(64, 64, kernel_size=(3, 3), stride=(1, 1), padding=(1, 1), bias=False)\n",
              "      (bn2): BatchNorm2d(64, eps=1e-05, momentum=0.1, affine=True, track_running_stats=True)\n",
              "    )\n",
              "    (1): BasicBlock(\n",
              "      (conv1): Conv2d(64, 64, kernel_size=(3, 3), stride=(1, 1), padding=(1, 1), bias=False)\n",
              "      (bn1): BatchNorm2d(64, eps=1e-05, momentum=0.1, affine=True, track_running_stats=True)\n",
              "      (relu): ReLU(inplace=True)\n",
              "      (conv2): Conv2d(64, 64, kernel_size=(3, 3), stride=(1, 1), padding=(1, 1), bias=False)\n",
              "      (bn2): BatchNorm2d(64, eps=1e-05, momentum=0.1, affine=True, track_running_stats=True)\n",
              "    )\n",
              "  )\n",
              "  (layer2): Sequential(\n",
              "    (0): BasicBlock(\n",
              "      (conv1): Conv2d(64, 128, kernel_size=(3, 3), stride=(2, 2), padding=(1, 1), bias=False)\n",
              "      (bn1): BatchNorm2d(128, eps=1e-05, momentum=0.1, affine=True, track_running_stats=True)\n",
              "      (relu): ReLU(inplace=True)\n",
              "      (conv2): Conv2d(128, 128, kernel_size=(3, 3), stride=(1, 1), padding=(1, 1), bias=False)\n",
              "      (bn2): BatchNorm2d(128, eps=1e-05, momentum=0.1, affine=True, track_running_stats=True)\n",
              "      (downsample): Sequential(\n",
              "        (0): Conv2d(64, 128, kernel_size=(1, 1), stride=(2, 2), bias=False)\n",
              "        (1): BatchNorm2d(128, eps=1e-05, momentum=0.1, affine=True, track_running_stats=True)\n",
              "      )\n",
              "    )\n",
              "    (1): BasicBlock(\n",
              "      (conv1): Conv2d(128, 128, kernel_size=(3, 3), stride=(1, 1), padding=(1, 1), bias=False)\n",
              "      (bn1): BatchNorm2d(128, eps=1e-05, momentum=0.1, affine=True, track_running_stats=True)\n",
              "      (relu): ReLU(inplace=True)\n",
              "      (conv2): Conv2d(128, 128, kernel_size=(3, 3), stride=(1, 1), padding=(1, 1), bias=False)\n",
              "      (bn2): BatchNorm2d(128, eps=1e-05, momentum=0.1, affine=True, track_running_stats=True)\n",
              "    )\n",
              "  )\n",
              "  (layer3): Sequential(\n",
              "    (0): BasicBlock(\n",
              "      (conv1): Conv2d(128, 256, kernel_size=(3, 3), stride=(2, 2), padding=(1, 1), bias=False)\n",
              "      (bn1): BatchNorm2d(256, eps=1e-05, momentum=0.1, affine=True, track_running_stats=True)\n",
              "      (relu): ReLU(inplace=True)\n",
              "      (conv2): Conv2d(256, 256, kernel_size=(3, 3), stride=(1, 1), padding=(1, 1), bias=False)\n",
              "      (bn2): BatchNorm2d(256, eps=1e-05, momentum=0.1, affine=True, track_running_stats=True)\n",
              "      (downsample): Sequential(\n",
              "        (0): Conv2d(128, 256, kernel_size=(1, 1), stride=(2, 2), bias=False)\n",
              "        (1): BatchNorm2d(256, eps=1e-05, momentum=0.1, affine=True, track_running_stats=True)\n",
              "      )\n",
              "    )\n",
              "    (1): BasicBlock(\n",
              "      (conv1): Conv2d(256, 256, kernel_size=(3, 3), stride=(1, 1), padding=(1, 1), bias=False)\n",
              "      (bn1): BatchNorm2d(256, eps=1e-05, momentum=0.1, affine=True, track_running_stats=True)\n",
              "      (relu): ReLU(inplace=True)\n",
              "      (conv2): Conv2d(256, 256, kernel_size=(3, 3), stride=(1, 1), padding=(1, 1), bias=False)\n",
              "      (bn2): BatchNorm2d(256, eps=1e-05, momentum=0.1, affine=True, track_running_stats=True)\n",
              "    )\n",
              "  )\n",
              "  (layer4): Sequential(\n",
              "    (0): BasicBlock(\n",
              "      (conv1): Conv2d(256, 512, kernel_size=(3, 3), stride=(2, 2), padding=(1, 1), bias=False)\n",
              "      (bn1): BatchNorm2d(512, eps=1e-05, momentum=0.1, affine=True, track_running_stats=True)\n",
              "      (relu): ReLU(inplace=True)\n",
              "      (conv2): Conv2d(512, 512, kernel_size=(3, 3), stride=(1, 1), padding=(1, 1), bias=False)\n",
              "      (bn2): BatchNorm2d(512, eps=1e-05, momentum=0.1, affine=True, track_running_stats=True)\n",
              "      (downsample): Sequential(\n",
              "        (0): Conv2d(256, 512, kernel_size=(1, 1), stride=(2, 2), bias=False)\n",
              "        (1): BatchNorm2d(512, eps=1e-05, momentum=0.1, affine=True, track_running_stats=True)\n",
              "      )\n",
              "    )\n",
              "    (1): BasicBlock(\n",
              "      (conv1): Conv2d(512, 512, kernel_size=(3, 3), stride=(1, 1), padding=(1, 1), bias=False)\n",
              "      (bn1): BatchNorm2d(512, eps=1e-05, momentum=0.1, affine=True, track_running_stats=True)\n",
              "      (relu): ReLU(inplace=True)\n",
              "      (conv2): Conv2d(512, 512, kernel_size=(3, 3), stride=(1, 1), padding=(1, 1), bias=False)\n",
              "      (bn2): BatchNorm2d(512, eps=1e-05, momentum=0.1, affine=True, track_running_stats=True)\n",
              "    )\n",
              "  )\n",
              "  (avgpool): AdaptiveAvgPool2d(output_size=(1, 1))\n",
              "  (fc): Linear(in_features=512, out_features=2, bias=True)\n",
              ")"
            ]
          },
          "metadata": {
            "tags": []
          },
          "execution_count": 16
        }
      ]
    },
    {
      "cell_type": "code",
      "metadata": {
        "id": "61IVJvrmr7th",
        "colab_type": "code",
        "colab": {
          "base_uri": "https://localhost:8080/",
          "height": 1000
        },
        "outputId": "31f6459a-0d63-4dcd-fbbc-7ca2ef90efaa"
      },
      "source": [
        "summary(model.cuda(), [(3,224,224,)])"
      ],
      "execution_count": 17,
      "outputs": [
        {
          "output_type": "stream",
          "text": [
            "----------------------------------------------------------------\n",
            "        Layer (type)               Output Shape         Param #\n",
            "================================================================\n",
            "            Conv2d-1         [-1, 64, 112, 112]           9,408\n",
            "       BatchNorm2d-2         [-1, 64, 112, 112]             128\n",
            "              ReLU-3         [-1, 64, 112, 112]               0\n",
            "         MaxPool2d-4           [-1, 64, 56, 56]               0\n",
            "            Conv2d-5           [-1, 64, 56, 56]          36,864\n",
            "       BatchNorm2d-6           [-1, 64, 56, 56]             128\n",
            "              ReLU-7           [-1, 64, 56, 56]               0\n",
            "            Conv2d-8           [-1, 64, 56, 56]          36,864\n",
            "       BatchNorm2d-9           [-1, 64, 56, 56]             128\n",
            "             ReLU-10           [-1, 64, 56, 56]               0\n",
            "       BasicBlock-11           [-1, 64, 56, 56]               0\n",
            "           Conv2d-12           [-1, 64, 56, 56]          36,864\n",
            "      BatchNorm2d-13           [-1, 64, 56, 56]             128\n",
            "             ReLU-14           [-1, 64, 56, 56]               0\n",
            "           Conv2d-15           [-1, 64, 56, 56]          36,864\n",
            "      BatchNorm2d-16           [-1, 64, 56, 56]             128\n",
            "             ReLU-17           [-1, 64, 56, 56]               0\n",
            "       BasicBlock-18           [-1, 64, 56, 56]               0\n",
            "           Conv2d-19          [-1, 128, 28, 28]          73,728\n",
            "      BatchNorm2d-20          [-1, 128, 28, 28]             256\n",
            "             ReLU-21          [-1, 128, 28, 28]               0\n",
            "           Conv2d-22          [-1, 128, 28, 28]         147,456\n",
            "      BatchNorm2d-23          [-1, 128, 28, 28]             256\n",
            "           Conv2d-24          [-1, 128, 28, 28]           8,192\n",
            "      BatchNorm2d-25          [-1, 128, 28, 28]             256\n",
            "             ReLU-26          [-1, 128, 28, 28]               0\n",
            "       BasicBlock-27          [-1, 128, 28, 28]               0\n",
            "           Conv2d-28          [-1, 128, 28, 28]         147,456\n",
            "      BatchNorm2d-29          [-1, 128, 28, 28]             256\n",
            "             ReLU-30          [-1, 128, 28, 28]               0\n",
            "           Conv2d-31          [-1, 128, 28, 28]         147,456\n",
            "      BatchNorm2d-32          [-1, 128, 28, 28]             256\n",
            "             ReLU-33          [-1, 128, 28, 28]               0\n",
            "       BasicBlock-34          [-1, 128, 28, 28]               0\n",
            "           Conv2d-35          [-1, 256, 14, 14]         294,912\n",
            "      BatchNorm2d-36          [-1, 256, 14, 14]             512\n",
            "             ReLU-37          [-1, 256, 14, 14]               0\n",
            "           Conv2d-38          [-1, 256, 14, 14]         589,824\n",
            "      BatchNorm2d-39          [-1, 256, 14, 14]             512\n",
            "           Conv2d-40          [-1, 256, 14, 14]          32,768\n",
            "      BatchNorm2d-41          [-1, 256, 14, 14]             512\n",
            "             ReLU-42          [-1, 256, 14, 14]               0\n",
            "       BasicBlock-43          [-1, 256, 14, 14]               0\n",
            "           Conv2d-44          [-1, 256, 14, 14]         589,824\n",
            "      BatchNorm2d-45          [-1, 256, 14, 14]             512\n",
            "             ReLU-46          [-1, 256, 14, 14]               0\n",
            "           Conv2d-47          [-1, 256, 14, 14]         589,824\n",
            "      BatchNorm2d-48          [-1, 256, 14, 14]             512\n",
            "             ReLU-49          [-1, 256, 14, 14]               0\n",
            "       BasicBlock-50          [-1, 256, 14, 14]               0\n",
            "           Conv2d-51            [-1, 512, 7, 7]       1,179,648\n",
            "      BatchNorm2d-52            [-1, 512, 7, 7]           1,024\n",
            "             ReLU-53            [-1, 512, 7, 7]               0\n",
            "           Conv2d-54            [-1, 512, 7, 7]       2,359,296\n",
            "      BatchNorm2d-55            [-1, 512, 7, 7]           1,024\n",
            "           Conv2d-56            [-1, 512, 7, 7]         131,072\n",
            "      BatchNorm2d-57            [-1, 512, 7, 7]           1,024\n",
            "             ReLU-58            [-1, 512, 7, 7]               0\n",
            "       BasicBlock-59            [-1, 512, 7, 7]               0\n",
            "           Conv2d-60            [-1, 512, 7, 7]       2,359,296\n",
            "      BatchNorm2d-61            [-1, 512, 7, 7]           1,024\n",
            "             ReLU-62            [-1, 512, 7, 7]               0\n",
            "           Conv2d-63            [-1, 512, 7, 7]       2,359,296\n",
            "      BatchNorm2d-64            [-1, 512, 7, 7]           1,024\n",
            "             ReLU-65            [-1, 512, 7, 7]               0\n",
            "       BasicBlock-66            [-1, 512, 7, 7]               0\n",
            "AdaptiveAvgPool2d-67            [-1, 512, 1, 1]               0\n",
            "           Linear-68                    [-1, 2]           1,026\n",
            "================================================================\n",
            "Total params: 11,177,538\n",
            "Trainable params: 11,177,538\n",
            "Non-trainable params: 0\n",
            "----------------------------------------------------------------\n",
            "Input size (MB): 0.57\n",
            "Forward/backward pass size (MB): 62.79\n",
            "Params size (MB): 42.64\n",
            "Estimated Total Size (MB): 106.00\n",
            "----------------------------------------------------------------\n"
          ],
          "name": "stdout"
        }
      ]
    },
    {
      "cell_type": "code",
      "metadata": {
        "id": "VhXhlzFK2Dl1",
        "colab_type": "code",
        "colab": {}
      },
      "source": [
        ""
      ],
      "execution_count": null,
      "outputs": []
    },
    {
      "cell_type": "code",
      "metadata": {
        "id": "V5U-QpQHr7wE",
        "colab_type": "code",
        "colab": {}
      },
      "source": [
        ""
      ],
      "execution_count": null,
      "outputs": []
    },
    {
      "cell_type": "code",
      "metadata": {
        "id": "VAoD68pMf5oy",
        "colab_type": "code",
        "colab": {}
      },
      "source": [
        "def run_epoch(model, dataloader, criterion, optimizer, lr_scheduler, phase='train'):\n",
        "    epoch_loss = 0.\n",
        "    epoch_acc = 0.\n",
        "    \n",
        "    batch_num = 0.\n",
        "    samples_num = 0.\n",
        "    \n",
        "    true_labels = []\n",
        "    pred_labels = []\n",
        "    \n",
        "    for batch_idx, (data, labels) in enumerate(dataloader):\n",
        "        data, labels = data.to(device), labels.to(device)\n",
        "        optimizer.zero_grad()\n",
        "        if phase == 'train':\n",
        "            model.train()\n",
        "        else:\n",
        "            model.eval()\n",
        "        with torch.set_grad_enabled(phase == 'train'):\n",
        "            outputs = model(data)\n",
        "            _, preds = torch.max(outputs, 1)\n",
        "            loss = criterion(outputs, labels)\n",
        "        \n",
        "        true_labels.append(labels.detach().cpu())\n",
        "        pred_labels.append(preds.detach().cpu())\n",
        "        \n",
        "        if phase == 'train':\n",
        "            loss.backward()\n",
        "            optimizer.step()\n",
        "        \n",
        "        print(f'\\r{phase} batch [{batch_idx}/{len(dataloader)}]: loss {loss.item()}', end='', flush=True)\n",
        "        epoch_loss += loss.detach().cpu().item()\n",
        "        epoch_acc += torch.sum(preds == labels.data)\n",
        "        batch_num += 1\n",
        "        samples_num += len(labels)\n",
        "    \n",
        "    print()\n",
        "    return epoch_loss / batch_num, epoch_acc / samples_num, torch.cat(true_labels).numpy(), torch.cat(pred_labels).numpy()"
      ],
      "execution_count": 18,
      "outputs": []
    },
    {
      "cell_type": "code",
      "metadata": {
        "id": "68w_Ljsff9wO",
        "colab_type": "code",
        "colab": {}
      },
      "source": [
        ""
      ],
      "execution_count": null,
      "outputs": []
    },
    {
      "cell_type": "code",
      "metadata": {
        "id": "x7qXbQPUgRnw",
        "colab_type": "code",
        "colab": {}
      },
      "source": [
        ""
      ],
      "execution_count": null,
      "outputs": []
    },
    {
      "cell_type": "code",
      "metadata": {
        "id": "MCUrp4S-gRqP",
        "colab_type": "code",
        "colab": {}
      },
      "source": [
        "criterion = torch.nn.CrossEntropyLoss()\n",
        "optimizer = torch.optim.SGD(model.parameters(), lr=1e-2, weight_decay=0.001)\n",
        "lr_scheduler = torch.optim.lr_scheduler.ReduceLROnPlateau(optimizer, patience=3, verbose=True)"
      ],
      "execution_count": 19,
      "outputs": []
    },
    {
      "cell_type": "code",
      "metadata": {
        "id": "iAn4FWp3nOVR",
        "colab_type": "code",
        "colab": {
          "base_uri": "https://localhost:8080/",
          "height": 1000
        },
        "outputId": "d5b94cda-635d-4a0b-925e-2f61df21a5ca"
      },
      "source": [
        "train_losses = []\n",
        "val_losses = []\n",
        "test_losses = []\n",
        "output_folder = '/content/drive/My Drive/Dataset/b/'\n",
        "for epoch in range(50):\n",
        "    print('='*15, f'Epoch: {epoch}')\n",
        "    \n",
        "    train_loss, train_acc, _, _ = run_epoch(model, train_dataloader, criterion, optimizer, lr_scheduler)\n",
        "    val_loss, val_acc, _, _ = run_epoch(model, val_dataloader, criterion, optimizer, lr_scheduler, phase='val')\n",
        "    test_loss, test_acc, true_labels, pred_labels = run_epoch(model, test_dataloader, criterion, optimizer, lr_scheduler, phase='test')\n",
        "    \n",
        "    print(f'Train loss: {train_loss}, Train accuracy: {train_acc}')\n",
        "    print(f'Val loss: {val_loss}, Val accuracy: {val_acc}')\n",
        "    print(f'Test loss: {test_loss}, Test accuracy: {test_acc}')\n",
        "    print()\n",
        "    \n",
        "    train_losses.append(train_loss)\n",
        "    val_losses.append(val_loss)\n",
        "    test_losses.append(test_loss)\n",
        "    \n",
        "    np.save(output_folder+'/train_losses',train_losses)\n",
        "    np.save(output_folder+'/val_losses',val_losses)\n",
        "    np.save(output_folder+'/test_losses',test_losses)\n",
        "    \n",
        "    torch.save({'epoch': epoch, 'model': model.state_dict()}, f'resnet34-chest-x-ray-{seed}.pt')\n",
        "    \n",
        "    if best_model is None or val_loss < best_loss:\n",
        "        best_model = copy.deepcopy(model)\n",
        "        best_loss = val_loss\n",
        "        best_test_loss = test_loss\n",
        "        best_test_acc = test_acc \n",
        "        best_pred_labels = pred_labels\n",
        "        torch.save({'epoch': epoch, 'model': model.state_dict()}, f'resnet34-chest-x-ray_ldp-best-{seed}.pt')"
      ],
      "execution_count": 20,
      "outputs": [
        {
          "output_type": "stream",
          "text": [
            "=============== Epoch: 0\n",
            "train batch [40/41]: loss 0.47244393825531006\n",
            "val batch [3/4]: loss 0.02628573775291443\n",
            "test batch [4/5]: loss 0.06927633285522461\n",
            "Train loss: 0.5349266819837617, Train accuracy: 0.7657416462898254\n",
            "Val loss: 0.6707290932536125, Val accuracy: 0.625\n",
            "Test loss: 0.5082670003175735, Test accuracy: 0.7644230723381042\n",
            "\n",
            "=============== Epoch: 1\n",
            "train batch [40/41]: loss 0.5874322652816772\n",
            "val batch [3/4]: loss 0.05266857147216797\n",
            "test batch [4/5]: loss 0.41974449157714844\n",
            "Train loss: 0.477323707283997, Train accuracy: 0.7950239181518555\n",
            "Val loss: 0.11162277683615685, Val accuracy: 1.0\n",
            "Test loss: 0.3833918750286102, Test accuracy: 0.8317307829856873\n",
            "\n",
            "=============== Epoch: 2\n",
            "train batch [40/41]: loss 0.5588198304176331\n",
            "val batch [3/4]: loss 0.013094842433929443\n",
            "test batch [4/5]: loss 0.03144695609807968\n",
            "Train loss: 0.45968499198192503, Train accuracy: 0.8040191531181335\n",
            "Val loss: 0.6799245774745941, Val accuracy: 0.625\n",
            "Test loss: 0.5591563999652862, Test accuracy: 0.7916666865348816\n",
            "\n",
            "=============== Epoch: 3\n",
            "train batch [40/41]: loss 0.4510622024536133\n",
            "val batch [3/4]: loss 0.008958101272583008\n",
            "test batch [4/5]: loss 0.08815041929483414\n",
            "Train loss: 0.4533170832366478, Train accuracy: 0.8076555132865906\n",
            "Val loss: 0.4255693405866623, Val accuracy: 0.75\n",
            "Test loss: 0.41548497825860975, Test accuracy: 0.8397436141967773\n",
            "\n",
            "=============== Epoch: 4\n",
            "train batch [40/41]: loss 0.38689714670181274\n",
            "val batch [3/4]: loss 0.004829525947570801\n",
            "test batch [4/5]: loss 0.03501007333397865\n",
            "Train loss: 0.44474540469123097, Train accuracy: 0.8112918734550476\n",
            "Val loss: 0.6093322932720184, Val accuracy: 0.6875\n",
            "Test loss: 0.4632757190614939, Test accuracy: 0.8237179517745972\n",
            "\n",
            "=============== Epoch: 5\n",
            "train batch [40/41]: loss 0.5010642409324646\n",
            "val batch [3/4]: loss 0.015541136264801025\n",
            "test batch [4/5]: loss 0.08183399587869644\n",
            "Train loss: 0.43524980545043945, Train accuracy: 0.8135885000228882\n",
            "Val loss: 0.14951235800981522, Val accuracy: 0.9375\n",
            "Test loss: 0.3468975141644478, Test accuracy: 0.8637820482254028\n",
            "\n",
            "=============== Epoch: 6\n",
            "train batch [40/41]: loss 0.46199703216552734\n",
            "val batch [3/4]: loss 0.0018823742866516113\n",
            "test batch [4/5]: loss 0.00555656012147665\n",
            "Train loss: 0.4344765449442515, Train accuracy: 0.8095693588256836\n",
            "Val loss: 0.7878403067588806, Val accuracy: 0.5625\n",
            "Test loss: 0.7741902699694038, Test accuracy: 0.7644230723381042\n",
            "\n",
            "=============== Epoch: 7\n",
            "train batch [40/41]: loss 0.378461092710495\n",
            "val batch [3/4]: loss 0.004987120628356934\n",
            "test batch [4/5]: loss 0.06456957757472992\n",
            "Train loss: 0.4218677042461023, Train accuracy: 0.8199043273925781\n",
            "Val loss: 0.17510239779949188, Val accuracy: 0.875\n",
            "Test loss: 0.336772708594799, Test accuracy: 0.8814102411270142\n",
            "\n",
            "=============== Epoch: 8\n",
            "train batch [40/41]: loss 0.3997449576854706\n",
            "val batch [3/4]: loss 0.019690394401550293\n",
            "test batch [4/5]: loss 0.10213400423526764\n",
            "Train loss: 0.4240888080945829, Train accuracy: 0.8208612203598022\n",
            "Val loss: 0.08122599124908447, Val accuracy: 1.0\n",
            "Test loss: 0.3196887940168381, Test accuracy: 0.8910256624221802\n",
            "\n",
            "=============== Epoch: 9\n",
            "train batch [40/41]: loss 0.4044506251811981\n",
            "val batch [3/4]: loss 0.005192935466766357\n",
            "test batch [4/5]: loss 0.02773270010948181\n",
            "Train loss: 0.41592764418299605, Train accuracy: 0.8199043273925781\n",
            "Val loss: 0.22791709005832672, Val accuracy: 0.875\n",
            "Test loss: 0.4410127639770508, Test accuracy: 0.8557692170143127\n",
            "\n",
            "=============== Epoch: 10\n",
            "train batch [40/41]: loss 0.3815898001194\n",
            "val batch [3/4]: loss 0.00030601024627685547\n",
            "test batch [4/5]: loss 0.01808595471084118\n",
            "Train loss: 0.4195747004776466, Train accuracy: 0.8204784989356995\n",
            "Val loss: 0.37147562205791473, Val accuracy: 0.8125\n",
            "Test loss: 0.46890523210167884, Test accuracy: 0.8557692170143127\n",
            "\n",
            "=============== Epoch: 11\n",
            "train batch [40/41]: loss 0.4320642352104187\n",
            "val batch [3/4]: loss 0.0036171674728393555\n",
            "test batch [4/5]: loss 0.028535161167383194\n",
            "Train loss: 0.41416369778353995, Train accuracy: 0.821052610874176\n",
            "Val loss: 0.18739694356918335, Val accuracy: 0.9375\n",
            "Test loss: 0.4185355268418789, Test accuracy: 0.879807710647583\n",
            "\n",
            "=============== Epoch: 12\n",
            "train batch [40/41]: loss 0.4566224217414856\n",
            "val batch [3/4]: loss 0.000836491584777832\n",
            "test batch [4/5]: loss 0.006997120566666126\n",
            "Train loss: 0.4112323013747611, Train accuracy: 0.8223923444747925\n",
            "Val loss: 0.7865971624851227, Val accuracy: 0.75\n",
            "Test loss: 0.6472447423264385, Test accuracy: 0.8189102411270142\n",
            "\n",
            "=============== Epoch: 13\n",
            "train batch [40/41]: loss 0.37966084480285645\n",
            "val batch [3/4]: loss 0.0024530887603759766\n",
            "test batch [4/5]: loss 0.030613480135798454\n",
            "Train loss: 0.4074154023717089, Train accuracy: 0.8237320780754089\n",
            "Val loss: 0.10338274389505386, Val accuracy: 0.9375\n",
            "Test loss: 0.40398799292743204, Test accuracy: 0.8814102411270142\n",
            "\n",
            "=============== Epoch: 14\n",
            "train batch [40/41]: loss 0.3379517197608948\n",
            "val batch [3/4]: loss 0.0023025870323181152\n",
            "test batch [4/5]: loss 0.002570133190602064\n",
            "Train loss: 0.4078742011291225, Train accuracy: 0.8262200951576233\n",
            "Val loss: 0.4123430401086807, Val accuracy: 0.75\n",
            "Test loss: 0.7268901060335338, Test accuracy: 0.8028846383094788\n",
            "\n",
            "=============== Epoch: 15\n",
            "train batch [40/41]: loss 0.37763890624046326\n",
            "val batch [3/4]: loss 0.0005677342414855957\n",
            "test batch [4/5]: loss 0.017050160095095634\n",
            "Train loss: 0.40448325654355494, Train accuracy: 0.8285167217254639\n",
            "Val loss: 0.24921800196170807, Val accuracy: 0.8125\n",
            "Test loss: 0.4522290762513876, Test accuracy: 0.8605769276618958\n",
            "\n",
            "=============== Epoch: 16\n",
            "train batch [40/41]: loss 0.4181794226169586\n",
            "val batch [3/4]: loss 0.00011372566223144531\n",
            "test batch [4/5]: loss 0.0037653434555977583\n",
            "Train loss: 0.4021656920270222, Train accuracy: 0.8258373141288757\n",
            "Val loss: 0.2688460424542427, Val accuracy: 0.9375\n",
            "Test loss: 0.6757288166787475, Test accuracy: 0.8237179517745972\n",
            "\n",
            "=============== Epoch: 17\n",
            "train batch [40/41]: loss 0.3936402499675751\n",
            "val batch [3/4]: loss 3.421306610107422e-05\n",
            "test batch [4/5]: loss 0.001983909634873271\n",
            "Train loss: 0.398853600025177, Train accuracy: 0.8300478458404541\n",
            "Val loss: 0.8870526254177094, Val accuracy: 0.625\n",
            "Test loss: 0.8332387964706868, Test accuracy: 0.7964743971824646\n",
            "\n",
            "=============== Epoch: 18\n",
            "train batch [40/41]: loss 0.39345604181289673\n",
            "val batch [3/4]: loss 0.0011692643165588379\n",
            "test batch [4/5]: loss 0.016215557232499123\n",
            "Train loss: 0.40100066254778605, Train accuracy: 0.8285167217254639\n",
            "Val loss: 0.22569160908460617, Val accuracy: 0.9375\n",
            "Test loss: 0.45024997368454933, Test accuracy: 0.875\n",
            "\n",
            "=============== Epoch: 19\n",
            "train batch [40/41]: loss 0.426719069480896\n",
            "val batch [3/4]: loss 0.001667618751525879\n",
            "test batch [4/5]: loss 0.011585602536797523\n",
            "Train loss: 0.39514106657446885, Train accuracy: 0.831004798412323\n",
            "Val loss: 0.18669263273477554, Val accuracy: 0.9375\n",
            "Test loss: 0.4947721607983112, Test accuracy: 0.8717948794364929\n",
            "\n",
            "=============== Epoch: 20\n",
            "train batch [40/41]: loss 0.45073121786117554\n",
            "val batch [3/4]: loss 0.0014338493347167969\n",
            "test batch [4/5]: loss 0.007620714604854584\n",
            "Train loss: 0.398486332922447, Train accuracy: 0.8302392363548279\n",
            "Val loss: 0.21953970938920975, Val accuracy: 0.9375\n",
            "Test loss: 0.5396198619157075, Test accuracy: 0.8589743971824646\n",
            "\n",
            "=============== Epoch: 21\n",
            "train batch [40/41]: loss 0.4128302335739136\n",
            "val batch [3/4]: loss 0.0026799440383911133\n",
            "test batch [4/5]: loss 0.018384719267487526\n",
            "Train loss: 0.39557061616967365, Train accuracy: 0.8306220173835754\n",
            "Val loss: 0.06852927058935165, Val accuracy: 1.0\n",
            "Test loss: 0.40305919796228407, Test accuracy: 0.8958333730697632\n",
            "\n",
            "=============== Epoch: 22\n",
            "train batch [40/41]: loss 0.4432629644870758\n",
            "val batch [3/4]: loss 0.0007855892181396484\n",
            "test batch [4/5]: loss 0.011969105340540409\n",
            "Train loss: 0.39413631980012104, Train accuracy: 0.8319617509841919\n",
            "Val loss: 0.20206672698259354, Val accuracy: 0.9375\n",
            "Test loss: 0.4511401513591409, Test accuracy: 0.8862179517745972\n",
            "\n",
            "=============== Epoch: 23\n",
            "train batch [40/41]: loss 0.6174584031105042\n",
            "val batch [3/4]: loss 2.6345252990722656e-05\n",
            "test batch [4/5]: loss 0.0005514408694580197\n",
            "Train loss: 0.39468525241060953, Train accuracy: 0.8315789699554443\n",
            "Val loss: 0.2908686250448227, Val accuracy: 0.875\n",
            "Test loss: 0.9415645579108969, Test accuracy: 0.7788461446762085\n",
            "\n",
            "=============== Epoch: 24\n",
            "train batch [40/41]: loss 0.4243186116218567\n",
            "val batch [3/4]: loss 0.002631962299346924\n",
            "test batch [4/5]: loss 0.005729698576033115\n",
            "Train loss: 0.3896148146652594, Train accuracy: 0.8331100344657898\n",
            "Val loss: 0.06793322786688805, Val accuracy: 1.0\n",
            "Test loss: 0.4811408074572682, Test accuracy: 0.8814102411270142\n",
            "\n",
            "=============== Epoch: 25\n",
            "train batch [40/41]: loss 0.4353157877922058\n",
            "val batch [3/4]: loss 3.910064697265625e-05\n",
            "test batch [4/5]: loss 0.0016181468963623047\n",
            "Train loss: 0.3884001505084154, Train accuracy: 0.8327272534370422\n",
            "Val loss: 0.3827984631061554, Val accuracy: 0.875\n",
            "Test loss: 0.6437389139086008, Test accuracy: 0.8573718070983887\n",
            "\n",
            "=============== Epoch: 26\n",
            "train batch [40/41]: loss 0.3795972466468811\n",
            "val batch [3/4]: loss 0.005451560020446777\n",
            "test batch [4/5]: loss 0.010958387516438961\n",
            "Train loss: 0.3887639045715332, Train accuracy: 0.8331100344657898\n",
            "Val loss: 0.027564480900764465, Val accuracy: 1.0\n",
            "Test loss: 0.40669521000236275, Test accuracy: 0.8974359035491943\n",
            "\n",
            "=============== Epoch: 27\n",
            "train batch [40/41]: loss 0.3660558760166168\n",
            "val batch [3/4]: loss 0.000618278980255127\n",
            "test batch [4/5]: loss 0.0031713321805000305\n",
            "Train loss: 0.38853542252284723, Train accuracy: 0.8323444724082947\n",
            "Val loss: 0.22556773573160172, Val accuracy: 0.9375\n",
            "Test loss: 0.5394588641822338, Test accuracy: 0.8766025900840759\n",
            "\n",
            "=============== Epoch: 28\n",
            "train batch [40/41]: loss 0.3861566483974457\n",
            "val batch [3/4]: loss 0.007911980152130127\n",
            "test batch [4/5]: loss 0.023386722430586815\n",
            "Train loss: 0.38447112789968163, Train accuracy: 0.8355981111526489\n",
            "Val loss: 0.10634887218475342, Val accuracy: 0.9375\n",
            "Test loss: 0.3695531513541937, Test accuracy: 0.8990384936332703\n",
            "\n",
            "=============== Epoch: 29\n",
            "train batch [40/41]: loss 0.3963073790073395\n",
            "val batch [3/4]: loss 0.00017273426055908203\n",
            "test batch [4/5]: loss 0.00044360331958159804\n",
            "Train loss: 0.3899101215164836, Train accuracy: 0.8338755965232849\n",
            "Val loss: 0.624890074133873, Val accuracy: 0.625\n",
            "Test loss: 0.840893470949959, Test accuracy: 0.817307710647583\n",
            "\n",
            "=============== Epoch: 30\n",
            "train batch [40/41]: loss 0.409426748752594\n",
            "val batch [3/4]: loss 0.00026541948318481445\n",
            "test batch [4/5]: loss 0.0011198456631973386\n",
            "Train loss: 0.3847425020322567, Train accuracy: 0.83464115858078\n",
            "Val loss: 0.3632976710796356, Val accuracy: 0.75\n",
            "Test loss: 0.6890531474957242, Test accuracy: 0.8477564454078674\n",
            "\n",
            "=============== Epoch: 31\n",
            "train batch [40/41]: loss 0.3728632628917694\n",
            "val batch [3/4]: loss 8.952617645263672e-05\n",
            "test batch [4/5]: loss 0.03459368273615837\n",
            "Train loss: 0.3845820063497962, Train accuracy: 0.8338755965232849\n",
            "Val loss: 0.09973420202732086, Val accuracy: 1.0\n",
            "Test loss: 0.40380688235163686, Test accuracy: 0.9118589758872986\n",
            "\n",
            "=============== Epoch: 32\n",
            "train batch [40/41]: loss 0.3604590892791748\n",
            "val batch [3/4]: loss 7.069110870361328e-05\n",
            "test batch [4/5]: loss 0.010432685725390911\n",
            "Train loss: 0.38700173395435983, Train accuracy: 0.8342583775520325\n",
            "Val loss: 0.12480434030294418, Val accuracy: 0.9375\n",
            "Test loss: 0.5182972827926278, Test accuracy: 0.879807710647583\n",
            "\n",
            "=============== Epoch: 33\n",
            "train batch [40/41]: loss 0.3653573989868164\n",
            "val batch [3/4]: loss 0.0004736781120300293\n",
            "test batch [4/5]: loss 0.003834871342405677\n",
            "Train loss: 0.3849132075542357, Train accuracy: 0.8331100344657898\n",
            "Val loss: 0.11874867975711823, Val accuracy: 1.0\n",
            "Test loss: 0.5303348022978753, Test accuracy: 0.870192289352417\n",
            "\n",
            "=============== Epoch: 34\n",
            "train batch [40/41]: loss 0.34022143483161926\n",
            "val batch [3/4]: loss 0.010747194290161133\n",
            "test batch [4/5]: loss 0.021593358367681503\n",
            "Train loss: 0.3841468175736869, Train accuracy: 0.8342583775520325\n",
            "Val loss: 0.022334575653076172, Val accuracy: 1.0\n",
            "Test loss: 0.36174685657024386, Test accuracy: 0.9006410241127014\n",
            "\n",
            "=============== Epoch: 35\n",
            "train batch [40/41]: loss 0.3833223879337311\n",
            "val batch [3/4]: loss 0.00023889541625976562\n",
            "test batch [4/5]: loss 0.006963539402931929\n",
            "Train loss: 0.3810496773661637, Train accuracy: 0.8359808921813965\n",
            "Val loss: 0.06387252733111382, Val accuracy: 0.9375\n",
            "Test loss: 0.4660543597303331, Test accuracy: 0.884615421295166\n",
            "\n",
            "=============== Epoch: 36\n",
            "train batch [40/41]: loss 0.35094183683395386\n",
            "val batch [3/4]: loss 0.0006687045097351074\n",
            "test batch [4/5]: loss 0.017805224284529686\n",
            "Train loss: 0.38106051305445227, Train accuracy: 0.8357895016670227\n",
            "Val loss: 0.04239130578935146, Val accuracy: 1.0\n",
            "Test loss: 0.4332778360694647, Test accuracy: 0.8878205418586731\n",
            "\n",
            "=============== Epoch: 37\n",
            "train batch [40/41]: loss 0.3877168297767639\n",
            "val batch [3/4]: loss 2.586841583251953e-05\n",
            "test batch [4/5]: loss 0.009823156520724297\n",
            "Train loss: 0.38056851523678475, Train accuracy: 0.8348325490951538\n",
            "Val loss: 0.010729551315307617, Val accuracy: 1.0\n",
            "Test loss: 0.4651995711028576, Test accuracy: 0.8926281929016113\n",
            "\n",
            "=============== Epoch: 38\n",
            "train batch [40/41]: loss 0.2999122738838196\n",
            "val batch [3/4]: loss 0.00023317337036132812\n",
            "test batch [4/5]: loss 0.009809700772166252\n",
            "Train loss: 0.3803561097238122, Train accuracy: 0.8363636136054993\n",
            "Val loss: 0.027078472077846527, Val accuracy: 1.0\n",
            "Test loss: 0.4135933075100183, Test accuracy: 0.8942307829856873\n",
            "\n",
            "=============== Epoch: 39\n",
            "train batch [40/41]: loss 0.42003899812698364\n",
            "val batch [3/4]: loss 0.00012290477752685547\n",
            "test batch [4/5]: loss 0.0005109544144943357\n",
            "Train loss: 0.38187525839340397, Train accuracy: 0.8361722230911255\n",
            "Val loss: 0.30310527980327606, Val accuracy: 0.8125\n",
            "Test loss: 0.794363102526404, Test accuracy: 0.8317307829856873\n",
            "\n",
            "=============== Epoch: 40\n",
            "train batch [40/41]: loss 0.41686779260635376\n",
            "val batch [3/4]: loss 0.004253029823303223\n",
            "test batch [4/5]: loss 0.0037501209881156683\n",
            "Train loss: 0.37938770797194504, Train accuracy: 0.8371291756629944\n",
            "Val loss: 0.06649874150753021, Val accuracy: 1.0\n",
            "Test loss: 0.5194995432626456, Test accuracy: 0.8814102411270142\n",
            "\n",
            "=============== Epoch: 41\n",
            "train batch [40/41]: loss 0.338012158870697\n",
            "val batch [3/4]: loss 0.00221860408782959\n",
            "test batch [4/5]: loss 0.004473976790904999\n",
            "Train loss: 0.3774365070389538, Train accuracy: 0.8375119566917419\n",
            "Val loss: 0.035200200974941254, Val accuracy: 1.0\n",
            "Test loss: 0.4569518730044365, Test accuracy: 0.8926281929016113\n",
            "\n",
            "=============== Epoch: 42\n",
            "train batch [40/41]: loss 0.33406874537467957\n",
            "val batch [3/4]: loss 0.0003527402877807617\n",
            "test batch [4/5]: loss 0.005067608319222927\n",
            "Train loss: 0.3790024002877677, Train accuracy: 0.8377033472061157\n",
            "Val loss: 0.056988999247550964, Val accuracy: 0.9375\n",
            "Test loss: 0.43472310323268176, Test accuracy: 0.9006410241127014\n",
            "\n",
            "=============== Epoch: 43\n",
            "train batch [40/41]: loss 0.4472622573375702\n",
            "val batch [3/4]: loss 0.0004805922508239746\n",
            "test batch [4/5]: loss 0.0014438799116760492\n",
            "Train loss: 0.3823684206823023, Train accuracy: 0.8348325490951538\n",
            "Val loss: 0.10866517201066017, Val accuracy: 0.9375\n",
            "Test loss: 0.5669533189851791, Test accuracy: 0.875\n",
            "\n",
            "=============== Epoch: 44\n",
            "train batch [40/41]: loss 0.31639745831489563\n",
            "val batch [3/4]: loss 0.0009665489196777344\n",
            "test batch [4/5]: loss 0.0046598338522017\n",
            "Train loss: 0.3789923830730159, Train accuracy: 0.8361722230911255\n",
            "Val loss: 0.026146799325942993, Val accuracy: 1.0\n",
            "Test loss: 0.42302531050518155, Test accuracy: 0.8926281929016113\n",
            "\n",
            "=============== Epoch: 45\n",
            "train batch [40/41]: loss 0.4466312825679779\n",
            "val batch [3/4]: loss 0.0002518296241760254\n",
            "test batch [4/5]: loss 0.0011537884129211307\n",
            "Train loss: 0.38100699389853127, Train accuracy: 0.8359808921813965\n",
            "Val loss: 0.2363634780049324, Val accuracy: 0.875\n",
            "Test loss: 0.6755201333900913, Test accuracy: 0.8589743971824646\n",
            "\n",
            "=============== Epoch: 46\n",
            "train batch [40/41]: loss 0.39707279205322266\n",
            "val batch [3/4]: loss 0.0011337995529174805\n",
            "test batch [4/5]: loss 0.005280653480440378\n",
            "Train loss: 0.37773434127249367, Train accuracy: 0.836555004119873\n",
            "Val loss: 0.08648347482085228, Val accuracy: 1.0\n",
            "Test loss: 0.5148401197977364, Test accuracy: 0.8814102411270142\n",
            "\n",
            "=============== Epoch: 47\n",
            "train batch [40/41]: loss 0.37175115942955017\n",
            "val batch [3/4]: loss 0.0001722574234008789\n",
            "test batch [4/5]: loss 0.003436267375946045\n",
            "Train loss: 0.37882881557069176, Train accuracy: 0.836555004119873\n",
            "Val loss: 0.1083933487534523, Val accuracy: 0.9375\n",
            "Test loss: 0.5475399389863014, Test accuracy: 0.875\n",
            "\n",
            "=============== Epoch: 48\n",
            "train batch [40/41]: loss 0.3986494541168213\n",
            "val batch [3/4]: loss 7.611513137817383e-05\n",
            "test batch [4/5]: loss 0.001108835800550878\n",
            "Train loss: 0.3788523325105993, Train accuracy: 0.8363636136054993\n",
            "Val loss: 0.14771589636802673, Val accuracy: 0.9375\n",
            "Test loss: 0.8107325463322923, Test accuracy: 0.8381410241127014\n",
            "\n",
            "=============== Epoch: 49\n",
            "train batch [40/41]: loss 0.3656909763813019\n",
            "val batch [3/4]: loss 0.0008149147033691406\n",
            "test batch [4/5]: loss 0.006594955921173096\n",
            "Train loss: 0.38094444173138314, Train accuracy: 0.836555004119873\n",
            "Val loss: 0.06768008321523666, Val accuracy: 1.0\n",
            "Test loss: 0.45496743097901343, Test accuracy: 0.8958333730697632\n",
            "\n"
          ],
          "name": "stdout"
        }
      ]
    },
    {
      "cell_type": "code",
      "metadata": {
        "id": "78IkqIEdlNwB",
        "colab_type": "code",
        "colab": {}
      },
      "source": [
        ""
      ],
      "execution_count": null,
      "outputs": []
    },
    {
      "cell_type": "markdown",
      "metadata": {
        "id": "EEAL6cZbKQPQ",
        "colab_type": "text"
      },
      "source": [
        "### Training Images with Epsilon = 0.5"
      ]
    },
    {
      "cell_type": "code",
      "metadata": {
        "id": "Ya9R9a7blkMs",
        "colab_type": "code",
        "colab": {
          "base_uri": "https://localhost:8080/",
          "height": 286
        },
        "outputId": "0e6a3252-9c8f-45ab-8f9d-9d4655d815c8"
      },
      "source": [
        "import matplotlib.pyplot as plt\n",
        "from PIL import Image\n",
        "\n",
        "fig = plt.figure(figsize=(30, 6))\n",
        "base_dir = './train'\n",
        "# display 8 PNEUMONIA images(train) for Epsilon :0.5\n",
        "train_imgs = os.listdir(base_dir+\"/PNEUMONIA\")\n",
        "for idx, img in enumerate(np.random.choice(train_imgs, 8)):\n",
        "    ax = fig.add_subplot(2, 8//2, idx+1, xticks=[], yticks=[])\n",
        "    im = Image.open(base_dir+\"/PNEUMONIA/\" + img)\n",
        "    plt.imshow(im)\n",
        "    ax.set_title('PNEUMONIA(EPS:0.5)')"
      ],
      "execution_count": 21,
      "outputs": [
        {
          "output_type": "display_data",
          "data": {
            "image/png": "[encoded data removed]",
            "text/plain": [
              "<Figure size 2160x432 with 8 Axes>"
            ]
          },
          "metadata": {
            "tags": []
          }
        }
      ]
    },
    {
      "cell_type": "code",
      "metadata": {
        "id": "tlbJG6SpKE3U",
        "colab_type": "code",
        "colab": {
          "base_uri": "https://localhost:8080/",
          "height": 293
        },
        "outputId": "84e2d2b0-4b33-45b8-faf5-d080b7246fb9"
      },
      "source": [
        "fig = plt.figure(figsize=(30, 6))\n",
        "base_dir = './train'\n",
        "# display 8 NORMAL images(train) for Epsilon :0.5\n",
        "train_imgs = os.listdir(base_dir+\"/NORMAL\")\n",
        "for idx, img in enumerate(np.random.choice(train_imgs, 8)):\n",
        "    ax = fig.add_subplot(2, 8//2, idx+1, xticks=[], yticks=[])\n",
        "    im = Image.open(base_dir+\"/NORMAL/\" + img)\n",
        "    plt.imshow(im)\n",
        "    ax.set_title('NORMAL(EPS:0.5)')"
      ],
      "execution_count": 22,
      "outputs": [
        {
          "output_type": "display_data",
          "data": {
            "image/png": "[encoded data removed]",
            "text/plain": [
              "<Figure size 2160x432 with 8 Axes>"
            ]
          },
          "metadata": {
            "tags": []
          }
        }
      ]
    },
    {
      "cell_type": "code",
      "metadata": {
        "id": "jl_rXk3fjYDi",
        "colab_type": "code",
        "colab": {}
      },
      "source": [
        ""
      ],
      "execution_count": null,
      "outputs": []
    }
  ]
}