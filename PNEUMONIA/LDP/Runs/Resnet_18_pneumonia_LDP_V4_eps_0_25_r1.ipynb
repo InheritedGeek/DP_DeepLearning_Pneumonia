{
  "nbformat": 4,
  "nbformat_minor": 0,
  "metadata": {
    "kernelspec": {
      "display_name": "Python 3",
      "language": "python",
      "name": "python3"
    },
    "language_info": {
      "codemirror_mode": {
        "name": "ipython",
        "version": 3
      },
      "file_extension": ".py",
      "mimetype": "text/x-python",
      "name": "python",
      "nbconvert_exporter": "python",
      "pygments_lexer": "ipython3",
      "version": "3.8.2"
    },
    "colab": {
      "name": "Resnet_18_pneumonia_LDP_V4_eps_0_25_r1.ipynb",
      "provenance": [],
      "collapsed_sections": []
    },
    "accelerator": "GPU",
    "widgets": {
      "application/vnd.jupyter.widget-state+json": {
        "1463e87e33414273b5cfa9459d1e6092": {
          "model_module": "@jupyter-widgets/controls",
          "model_name": "HBoxModel",
          "state": {
            "_view_name": "HBoxView",
            "_dom_classes": [],
            "_model_name": "HBoxModel",
            "_view_module": "@jupyter-widgets/controls",
            "_model_module_version": "1.5.0",
            "_view_count": null,
            "_view_module_version": "1.5.0",
            "box_style": "",
            "layout": "IPY_MODEL_59bd5bc4ce5f4afbad62cfa3de44e50f",
            "_model_module": "@jupyter-widgets/controls",
            "children": [
              "IPY_MODEL_919a88c8b7014a228d52e56a41a99d57",
              "IPY_MODEL_b0cd60dbf83c4501ad0c50a9577448e4"
            ]
          }
        },
        "59bd5bc4ce5f4afbad62cfa3de44e50f": {
          "model_module": "@jupyter-widgets/base",
          "model_name": "LayoutModel",
          "state": {
            "_view_name": "LayoutView",
            "grid_template_rows": null,
            "right": null,
            "justify_content": null,
            "_view_module": "@jupyter-widgets/base",
            "overflow": null,
            "_model_module_version": "1.2.0",
            "_view_count": null,
            "flex_flow": null,
            "width": null,
            "min_width": null,
            "border": null,
            "align_items": null,
            "bottom": null,
            "_model_module": "@jupyter-widgets/base",
            "top": null,
            "grid_column": null,
            "overflow_y": null,
            "overflow_x": null,
            "grid_auto_flow": null,
            "grid_area": null,
            "grid_template_columns": null,
            "flex": null,
            "_model_name": "LayoutModel",
            "justify_items": null,
            "grid_row": null,
            "max_height": null,
            "align_content": null,
            "visibility": null,
            "align_self": null,
            "height": null,
            "min_height": null,
            "padding": null,
            "grid_auto_rows": null,
            "grid_gap": null,
            "max_width": null,
            "order": null,
            "_view_module_version": "1.2.0",
            "grid_template_areas": null,
            "object_position": null,
            "object_fit": null,
            "grid_auto_columns": null,
            "margin": null,
            "display": null,
            "left": null
          }
        },
        "919a88c8b7014a228d52e56a41a99d57": {
          "model_module": "@jupyter-widgets/controls",
          "model_name": "FloatProgressModel",
          "state": {
            "_view_name": "ProgressView",
            "style": "IPY_MODEL_1511dc96bc044b0d972bc561262efe84",
            "_dom_classes": [],
            "description": "100%",
            "_model_name": "FloatProgressModel",
            "bar_style": "success",
            "max": 46827520,
            "_view_module": "@jupyter-widgets/controls",
            "_model_module_version": "1.5.0",
            "value": 46827520,
            "_view_count": null,
            "_view_module_version": "1.5.0",
            "orientation": "horizontal",
            "min": 0,
            "description_tooltip": null,
            "_model_module": "@jupyter-widgets/controls",
            "layout": "IPY_MODEL_4fbbc4bd5164492b85455f0ed3a78810"
          }
        },
        "b0cd60dbf83c4501ad0c50a9577448e4": {
          "model_module": "@jupyter-widgets/controls",
          "model_name": "HTMLModel",
          "state": {
            "_view_name": "HTMLView",
            "style": "IPY_MODEL_af32330b498e4467af438e4ef14540cf",
            "_dom_classes": [],
            "description": "",
            "_model_name": "HTMLModel",
            "placeholder": "​",
            "_view_module": "@jupyter-widgets/controls",
            "_model_module_version": "1.5.0",
            "value": " 44.7M/44.7M [03:33&lt;00:00, 220kB/s]",
            "_view_count": null,
            "_view_module_version": "1.5.0",
            "description_tooltip": null,
            "_model_module": "@jupyter-widgets/controls",
            "layout": "IPY_MODEL_cc9595482ccc4f5bab99d63f9dc580b4"
          }
        },
        "1511dc96bc044b0d972bc561262efe84": {
          "model_module": "@jupyter-widgets/controls",
          "model_name": "ProgressStyleModel",
          "state": {
            "_view_name": "StyleView",
            "_model_name": "ProgressStyleModel",
            "description_width": "initial",
            "_view_module": "@jupyter-widgets/base",
            "_model_module_version": "1.5.0",
            "_view_count": null,
            "_view_module_version": "1.2.0",
            "bar_color": null,
            "_model_module": "@jupyter-widgets/controls"
          }
        },
        "4fbbc4bd5164492b85455f0ed3a78810": {
          "model_module": "@jupyter-widgets/base",
          "model_name": "LayoutModel",
          "state": {
            "_view_name": "LayoutView",
            "grid_template_rows": null,
            "right": null,
            "justify_content": null,
            "_view_module": "@jupyter-widgets/base",
            "overflow": null,
            "_model_module_version": "1.2.0",
            "_view_count": null,
            "flex_flow": null,
            "width": null,
            "min_width": null,
            "border": null,
            "align_items": null,
            "bottom": null,
            "_model_module": "@jupyter-widgets/base",
            "top": null,
            "grid_column": null,
            "overflow_y": null,
            "overflow_x": null,
            "grid_auto_flow": null,
            "grid_area": null,
            "grid_template_columns": null,
            "flex": null,
            "_model_name": "LayoutModel",
            "justify_items": null,
            "grid_row": null,
            "max_height": null,
            "align_content": null,
            "visibility": null,
            "align_self": null,
            "height": null,
            "min_height": null,
            "padding": null,
            "grid_auto_rows": null,
            "grid_gap": null,
            "max_width": null,
            "order": null,
            "_view_module_version": "1.2.0",
            "grid_template_areas": null,
            "object_position": null,
            "object_fit": null,
            "grid_auto_columns": null,
            "margin": null,
            "display": null,
            "left": null
          }
        },
        "af32330b498e4467af438e4ef14540cf": {
          "model_module": "@jupyter-widgets/controls",
          "model_name": "DescriptionStyleModel",
          "state": {
            "_view_name": "StyleView",
            "_model_name": "DescriptionStyleModel",
            "description_width": "",
            "_view_module": "@jupyter-widgets/base",
            "_model_module_version": "1.5.0",
            "_view_count": null,
            "_view_module_version": "1.2.0",
            "_model_module": "@jupyter-widgets/controls"
          }
        },
        "cc9595482ccc4f5bab99d63f9dc580b4": {
          "model_module": "@jupyter-widgets/base",
          "model_name": "LayoutModel",
          "state": {
            "_view_name": "LayoutView",
            "grid_template_rows": null,
            "right": null,
            "justify_content": null,
            "_view_module": "@jupyter-widgets/base",
            "overflow": null,
            "_model_module_version": "1.2.0",
            "_view_count": null,
            "flex_flow": null,
            "width": null,
            "min_width": null,
            "border": null,
            "align_items": null,
            "bottom": null,
            "_model_module": "@jupyter-widgets/base",
            "top": null,
            "grid_column": null,
            "overflow_y": null,
            "overflow_x": null,
            "grid_auto_flow": null,
            "grid_area": null,
            "grid_template_columns": null,
            "flex": null,
            "_model_name": "LayoutModel",
            "justify_items": null,
            "grid_row": null,
            "max_height": null,
            "align_content": null,
            "visibility": null,
            "align_self": null,
            "height": null,
            "min_height": null,
            "padding": null,
            "grid_auto_rows": null,
            "grid_gap": null,
            "max_width": null,
            "order": null,
            "_view_module_version": "1.2.0",
            "grid_template_areas": null,
            "object_position": null,
            "object_fit": null,
            "grid_auto_columns": null,
            "margin": null,
            "display": null,
            "left": null
          }
        }
      }
    }
  },
  "cells": [
    {
      "cell_type": "code",
      "metadata": {
        "id": "tJxejS4BhtfA",
        "colab_type": "code",
        "colab": {
          "base_uri": "https://localhost:8080/",
          "height": 357
        },
        "outputId": "29161899-aecd-4331-8b82-f2d70cccce83"
      },
      "source": [
        "!nvidia-smi"
      ],
      "execution_count": 1,
      "outputs": [
        {
          "output_type": "stream",
          "text": [
            "Wed Jul 15 23:58:44 2020       \n",
            "+-----------------------------------------------------------------------------+\n",
            "| NVIDIA-SMI 450.51.05    Driver Version: 418.67       CUDA Version: 10.1     |\n",
            "|-------------------------------+----------------------+----------------------+\n",
            "| GPU  Name        Persistence-M| Bus-Id        Disp.A | Volatile Uncorr. ECC |\n",
            "| Fan  Temp  Perf  Pwr:Usage/Cap|         Memory-Usage | GPU-Util  Compute M. |\n",
            "|                               |                      |               MIG M. |\n",
            "|===============================+======================+======================|\n",
            "|   0  Tesla K80           Off  | 00000000:00:04.0 Off |                    0 |\n",
            "| N/A   38C    P8    26W / 149W |      0MiB / 11441MiB |      0%      Default |\n",
            "|                               |                      |                 ERR! |\n",
            "+-------------------------------+----------------------+----------------------+\n",
            "                                                                               \n",
            "+-----------------------------------------------------------------------------+\n",
            "| Processes:                                                                  |\n",
            "|  GPU   GI   CI        PID   Type   Process name                  GPU Memory |\n",
            "|        ID   ID                                                   Usage      |\n",
            "|=============================================================================|\n",
            "|  No running processes found                                                 |\n",
            "+-----------------------------------------------------------------------------+\n"
          ],
          "name": "stdout"
        }
      ]
    },
    {
      "cell_type": "code",
      "metadata": {
        "id": "KqzKNkpfXrM7",
        "colab_type": "code",
        "colab": {
          "base_uri": "https://localhost:8080/",
          "height": 122
        },
        "outputId": "ed478332-9aaa-4732-a88e-e08c19238588"
      },
      "source": [
        "from google.colab import drive\n",
        "drive.mount('/content/drive', force_remount=True)"
      ],
      "execution_count": 2,
      "outputs": [
        {
          "output_type": "stream",
          "text": [
            "Go to this URL in a browser: https://accounts.google.com/o/oauth2/auth?client_id=947318989803-6bn6qk8qdgf4n4g3pfee6491hc0brc4i.apps.googleusercontent.com&redirect_uri=urn%3aietf%3awg%3aoauth%3a2.0%3aoob&response_type=code&scope=email%20https%3a%2f%2fwww.googleapis.com%2fauth%2fdocs.test%20https%3a%2f%2fwww.googleapis.com%2fauth%2fdrive%20https%3a%2f%2fwww.googleapis.com%2fauth%2fdrive.photos.readonly%20https%3a%2f%2fwww.googleapis.com%2fauth%2fpeopleapi.readonly\n",
            "\n",
            "Enter your authorization code:\n",
            "··········\n",
            "Mounted at /content/drive\n"
          ],
          "name": "stdout"
        }
      ]
    },
    {
      "cell_type": "code",
      "metadata": {
        "id": "5tkHSteTnOUV",
        "colab_type": "code",
        "colab": {}
      },
      "source": [
        "import torch \n",
        "import torchvision\n",
        "import numpy as np \n",
        "import random\n",
        "import os\n",
        "import glob\n",
        "import copy\n",
        "from tqdm import tqdm as tqdm\n",
        "from torchsummary import summary\n",
        "\n",
        "seed = 42\n",
        "random.seed(seed)\n",
        "os.environ[\"PYTHONHASHSEED\"] = str(seed)\n",
        "np.random.seed(seed)\n",
        "torch.cuda.manual_seed(seed)\n",
        "torch.cuda.manual_seed_all(seed)\n",
        "torch.backends.cudnn.deterministic = True\n",
        "torch.manual_seed(seed)\n",
        "\n",
        "best_model = None\n",
        "best_loss = 0.\n",
        "best_test_loss = 0.\n",
        "best_test_acc = 0.\n",
        "best_pred_labels = []\n",
        "true_labels = []\n",
        "\n",
        "pred_labels = []\n",
        "test_acc = 0.\n",
        "test_loss = 0.\n",
        "\n",
        "# device = torch.device('cuda:0')\n",
        "device = torch.device('cuda' if torch.cuda.is_available() else 'cpu')"
      ],
      "execution_count": 3,
      "outputs": []
    },
    {
      "cell_type": "code",
      "metadata": {
        "id": "xjX3GQUHnOUh",
        "colab_type": "code",
        "colab": {
          "base_uri": "https://localhost:8080/",
          "height": 85
        },
        "outputId": "f92a9aac-4bc1-4919-b78c-45f15ef6859a"
      },
      "source": [
        "# train class samples from DP data\n",
        "print('Normal Samples in Training Data')\n",
        "!ls -l /content/drive/\"My Drive\"/\"DP Data\"/\"0.25\"/train/NORMAL | wc -l\n",
        "print('Pneumonia Samples in Training Data')\n",
        "!ls -l /content/drive/\"My Drive\"/\"DP Data\"/\"0.25\"/train/PNEUMONIA | wc -l"
      ],
      "execution_count": 4,
      "outputs": [
        {
          "output_type": "stream",
          "text": [
            "Normal Samples in Training Data\n",
            "1342\n",
            "Pneumonia Samples in Training Data\n",
            "3876\n"
          ],
          "name": "stdout"
        }
      ]
    },
    {
      "cell_type": "code",
      "metadata": {
        "id": "GtBKc1LGxQd_",
        "colab_type": "code",
        "colab": {}
      },
      "source": [
        "# Copying DP training Data with epsilon 0.25 to local to process/train faster\n",
        "\n",
        "!cp -R /content/drive/\"My Drive\"/\"DP Data\"/\"0.25\"/train ./"
      ],
      "execution_count": 5,
      "outputs": []
    },
    {
      "cell_type": "code",
      "metadata": {
        "id": "6tU5KhsvxQhO",
        "colab_type": "code",
        "colab": {}
      },
      "source": [
        ""
      ],
      "execution_count": null,
      "outputs": []
    },
    {
      "cell_type": "code",
      "metadata": {
        "id": "XOR0OlpIbDFA",
        "colab_type": "code",
        "colab": {
          "base_uri": "https://localhost:8080/",
          "height": 85
        },
        "outputId": "4ff2a588-85ef-40bf-c9b3-d141ca9103ea"
      },
      "source": [
        "# Validation samples from Non DP data\n",
        "print('Normal Samples in Validation Data')\n",
        "!ls -l /content/drive/\"My Drive\"/NDP_Data/chest_xray/val/NORMAL | wc -l\n",
        "print('Pneumonia Samples in Validation Data')\n",
        "!ls -l /content/drive/\"My Drive\"/NDP_Data/chest_xray/val/PNEUMONIA | wc -l"
      ],
      "execution_count": 6,
      "outputs": [
        {
          "output_type": "stream",
          "text": [
            "Normal Samples in Validation Data\n",
            "9\n",
            "Pneumonia Samples in Validation Data\n",
            "9\n"
          ],
          "name": "stdout"
        }
      ]
    },
    {
      "cell_type": "code",
      "metadata": {
        "id": "LalDL0QJxRUk",
        "colab_type": "code",
        "colab": {}
      },
      "source": [
        "# Copying to Non DP Validation data to local to process/run faster during validation inference\n",
        "\n",
        "!cp -R /content/drive/\"My Drive\"/NDP_Data/chest_xray/val ./"
      ],
      "execution_count": 7,
      "outputs": []
    },
    {
      "cell_type": "code",
      "metadata": {
        "id": "89SaO6UzxRXx",
        "colab_type": "code",
        "colab": {}
      },
      "source": [
        ""
      ],
      "execution_count": null,
      "outputs": []
    },
    {
      "cell_type": "code",
      "metadata": {
        "id": "z8YxWrN7nOUo",
        "colab_type": "code",
        "colab": {
          "base_uri": "https://localhost:8080/",
          "height": 85
        },
        "outputId": "7a36d58b-dd7a-4fb7-f1d3-cb188e5cbeae"
      },
      "source": [
        "# Testing samples from Non DP data\n",
        "print('Normal Samples in Testing Data')\n",
        "!ls -l /content/drive/\"My Drive\"/NDP_Data/chest_xray/test/NORMAL | wc -l\n",
        "print('Pneumonia Samples in Testing Data')\n",
        "!ls -l /content/drive/\"My Drive\"/NDP_Data/chest_xray/test/PNEUMONIA | wc -l"
      ],
      "execution_count": 8,
      "outputs": [
        {
          "output_type": "stream",
          "text": [
            "Normal Samples in Testing Data\n",
            "235\n",
            "Pneumonia Samples in Testing Data\n",
            "391\n"
          ],
          "name": "stdout"
        }
      ]
    },
    {
      "cell_type": "code",
      "metadata": {
        "id": "LWD14bthxSMB",
        "colab_type": "code",
        "colab": {}
      },
      "source": [
        "# Copying to Non DP Validation data to local to process/run faster during testing inference\n",
        "\n",
        "!cp -R /content/drive/\"My Drive\"/NDP_Data/chest_xray/test ./"
      ],
      "execution_count": 9,
      "outputs": []
    },
    {
      "cell_type": "code",
      "metadata": {
        "id": "5fq3ro8ExSUF",
        "colab_type": "code",
        "colab": {}
      },
      "source": [
        ""
      ],
      "execution_count": null,
      "outputs": []
    },
    {
      "cell_type": "code",
      "metadata": {
        "id": "BskSrjYYxS2S",
        "colab_type": "code",
        "colab": {
          "base_uri": "https://localhost:8080/",
          "height": 119
        },
        "outputId": "da54f66a-2954-465f-c6a7-de393e7fcc69"
      },
      "source": [
        "!ls -lrt"
      ],
      "execution_count": 10,
      "outputs": [
        {
          "output_type": "stream",
          "text": [
            "total 20\n",
            "drwxr-xr-x 1 root root 4096 Jul 10 16:29 sample_data\n",
            "drwx------ 4 root root 4096 Jul 15 23:59 drive\n",
            "dr-x------ 4 root root 4096 Jul 16 01:01 train\n",
            "drwx------ 4 root root 4096 Jul 16 01:02 val\n",
            "drwx------ 4 root root 4096 Jul 16 01:05 test\n"
          ],
          "name": "stdout"
        }
      ]
    },
    {
      "cell_type": "code",
      "metadata": {
        "id": "NjPTrbtwxTPW",
        "colab_type": "code",
        "colab": {
          "base_uri": "https://localhost:8080/",
          "height": 51
        },
        "outputId": "6731e30f-e2bd-4290-c785-6c15bf5bbe05"
      },
      "source": [
        "!ls -l ./train/NORMAL | wc -l\n",
        "!ls -l ./train/PNEUMONIA | wc -l"
      ],
      "execution_count": 11,
      "outputs": [
        {
          "output_type": "stream",
          "text": [
            "1342\n",
            "3876\n"
          ],
          "name": "stdout"
        }
      ]
    },
    {
      "cell_type": "code",
      "metadata": {
        "id": "tAS7bvOgxTX1",
        "colab_type": "code",
        "colab": {
          "base_uri": "https://localhost:8080/",
          "height": 51
        },
        "outputId": "8e24498a-abbd-41fb-97d1-fa3c10ff6e30"
      },
      "source": [
        "!ls -l ./val/NORMAL | wc -l\n",
        "!ls -l ./val/PNEUMONIA | wc -l"
      ],
      "execution_count": 12,
      "outputs": [
        {
          "output_type": "stream",
          "text": [
            "9\n",
            "9\n"
          ],
          "name": "stdout"
        }
      ]
    },
    {
      "cell_type": "code",
      "metadata": {
        "id": "rGvzV3ZbxTfj",
        "colab_type": "code",
        "colab": {
          "base_uri": "https://localhost:8080/",
          "height": 51
        },
        "outputId": "f7697fea-7934-4e60-b200-e8b40e2b7aa3"
      },
      "source": [
        "!ls -l ./test/NORMAL | wc -l\n",
        "!ls -l ./test/PNEUMONIA | wc -l"
      ],
      "execution_count": 13,
      "outputs": [
        {
          "output_type": "stream",
          "text": [
            "235\n",
            "391\n"
          ],
          "name": "stdout"
        }
      ]
    },
    {
      "cell_type": "code",
      "metadata": {
        "id": "I0pSBK6ExToW",
        "colab_type": "code",
        "colab": {}
      },
      "source": [
        ""
      ],
      "execution_count": null,
      "outputs": []
    },
    {
      "cell_type": "code",
      "metadata": {
        "id": "LPDTSXKWnOUw",
        "colab_type": "code",
        "colab": {}
      },
      "source": [
        "class ChestXRay(torchvision.datasets.ImageFolder):\n",
        "    def __getitem__(self, index):\n",
        "        sample, target = super().__getitem__(index)\n",
        "        path, _ = self.samples[index]\n",
        "        \n",
        "        target = 0\n",
        "        if 'PNEUMONIA' in path:\n",
        "            target = 1\n",
        "        \n",
        "        return sample, target\n",
        "       "
      ],
      "execution_count": 14,
      "outputs": []
    },
    {
      "cell_type": "code",
      "metadata": {
        "id": "J-_xESJtnOU0",
        "colab_type": "code",
        "colab": {}
      },
      "source": [
        "train_transforms = torchvision.transforms.Compose([\n",
        "    torchvision.transforms.Resize(256),\n",
        "    torchvision.transforms.RandomAffine(0, translate=(0, 0.1), scale=(1, 1.10)),\n",
        "    torchvision.transforms.CenterCrop(224),\n",
        "    torchvision.transforms.ToTensor(),\n",
        "    torchvision.transforms.Normalize([0.485, 0.456, 0.406], [0.229, 0.224, 0.225])\n",
        "])\n",
        "\n",
        "transforms = torchvision.transforms.Compose([\n",
        "    torchvision.transforms.Resize(256),\n",
        "    torchvision.transforms.CenterCrop(224),\n",
        "    torchvision.transforms.ToTensor(),\n",
        "    torchvision.transforms.Normalize([0.485, 0.456, 0.406], [0.229, 0.224, 0.225]),\n",
        "])\n",
        "\n",
        "train_dataset = ChestXRay('./train/', transform=train_transforms)\n",
        "val_dataset = ChestXRay('./val/', transform=train_transforms)\n",
        "test_dataset = ChestXRay('./test/', transform=transforms)\n",
        "\n",
        "train_dataloader = torch.utils.data.DataLoader(train_dataset, batch_size=128, shuffle=True)\n",
        "val_dataloader = torch.utils.data.DataLoader(val_dataset, batch_size=4, shuffle=False)\n",
        "test_dataloader = torch.utils.data.DataLoader(test_dataset, batch_size=128, shuffle=False)"
      ],
      "execution_count": 15,
      "outputs": []
    },
    {
      "cell_type": "code",
      "metadata": {
        "id": "Ee19YDP1nOVA",
        "colab_type": "code",
        "colab": {
          "base_uri": "https://localhost:8080/",
          "height": 1000,
          "referenced_widgets": [
            "1463e87e33414273b5cfa9459d1e6092",
            "59bd5bc4ce5f4afbad62cfa3de44e50f",
            "919a88c8b7014a228d52e56a41a99d57",
            "b0cd60dbf83c4501ad0c50a9577448e4",
            "1511dc96bc044b0d972bc561262efe84",
            "4fbbc4bd5164492b85455f0ed3a78810",
            "af32330b498e4467af438e4ef14540cf",
            "cc9595482ccc4f5bab99d63f9dc580b4"
          ]
        },
        "outputId": "c4656218-b57a-4bab-f3e4-14ea863e77e9"
      },
      "source": [
        "model = torchvision.models.resnet18(pretrained=True)\n",
        "model.fc = torch.nn.Linear(in_features=512, out_features=2)\n",
        "model = model.to(device)\n",
        "model"
      ],
      "execution_count": 16,
      "outputs": [
        {
          "output_type": "stream",
          "text": [
            "Downloading: \"https://download.pytorch.org/models/resnet18-5c106cde.pth\" to /root/.cache/torch/checkpoints/resnet18-5c106cde.pth\n"
          ],
          "name": "stderr"
        },
        {
          "output_type": "display_data",
          "data": {
            "application/vnd.jupyter.widget-view+json": {
              "model_id": "1463e87e33414273b5cfa9459d1e6092",
              "version_minor": 0,
              "version_major": 2
            },
            "text/plain": [
              "HBox(children=(FloatProgress(value=0.0, max=46827520.0), HTML(value='')))"
            ]
          },
          "metadata": {
            "tags": []
          }
        },
        {
          "output_type": "stream",
          "text": [
            "\n"
          ],
          "name": "stdout"
        },
        {
          "output_type": "execute_result",
          "data": {
            "text/plain": [
              "ResNet(\n",
              "  (conv1): Conv2d(3, 64, kernel_size=(7, 7), stride=(2, 2), padding=(3, 3), bias=False)\n",
              "  (bn1): BatchNorm2d(64, eps=1e-05, momentum=0.1, affine=True, track_running_stats=True)\n",
              "  (relu): ReLU(inplace=True)\n",
              "  (maxpool): MaxPool2d(kernel_size=3, stride=2, padding=1, dilation=1, ceil_mode=False)\n",
              "  (layer1): Sequential(\n",
              "    (0): BasicBlock(\n",
              "      (conv1): Conv2d(64, 64, kernel_size=(3, 3), stride=(1, 1), padding=(1, 1), bias=False)\n",
              "      (bn1): BatchNorm2d(64, eps=1e-05, momentum=0.1, affine=True, track_running_stats=True)\n",
              "      (relu): ReLU(inplace=True)\n",
              "      (conv2): Conv2d(64, 64, kernel_size=(3, 3), stride=(1, 1), padding=(1, 1), bias=False)\n",
              "      (bn2): BatchNorm2d(64, eps=1e-05, momentum=0.1, affine=True, track_running_stats=True)\n",
              "    )\n",
              "    (1): BasicBlock(\n",
              "      (conv1): Conv2d(64, 64, kernel_size=(3, 3), stride=(1, 1), padding=(1, 1), bias=False)\n",
              "      (bn1): BatchNorm2d(64, eps=1e-05, momentum=0.1, affine=True, track_running_stats=True)\n",
              "      (relu): ReLU(inplace=True)\n",
              "      (conv2): Conv2d(64, 64, kernel_size=(3, 3), stride=(1, 1), padding=(1, 1), bias=False)\n",
              "      (bn2): BatchNorm2d(64, eps=1e-05, momentum=0.1, affine=True, track_running_stats=True)\n",
              "    )\n",
              "  )\n",
              "  (layer2): Sequential(\n",
              "    (0): BasicBlock(\n",
              "      (conv1): Conv2d(64, 128, kernel_size=(3, 3), stride=(2, 2), padding=(1, 1), bias=False)\n",
              "      (bn1): BatchNorm2d(128, eps=1e-05, momentum=0.1, affine=True, track_running_stats=True)\n",
              "      (relu): ReLU(inplace=True)\n",
              "      (conv2): Conv2d(128, 128, kernel_size=(3, 3), stride=(1, 1), padding=(1, 1), bias=False)\n",
              "      (bn2): BatchNorm2d(128, eps=1e-05, momentum=0.1, affine=True, track_running_stats=True)\n",
              "      (downsample): Sequential(\n",
              "        (0): Conv2d(64, 128, kernel_size=(1, 1), stride=(2, 2), bias=False)\n",
              "        (1): BatchNorm2d(128, eps=1e-05, momentum=0.1, affine=True, track_running_stats=True)\n",
              "      )\n",
              "    )\n",
              "    (1): BasicBlock(\n",
              "      (conv1): Conv2d(128, 128, kernel_size=(3, 3), stride=(1, 1), padding=(1, 1), bias=False)\n",
              "      (bn1): BatchNorm2d(128, eps=1e-05, momentum=0.1, affine=True, track_running_stats=True)\n",
              "      (relu): ReLU(inplace=True)\n",
              "      (conv2): Conv2d(128, 128, kernel_size=(3, 3), stride=(1, 1), padding=(1, 1), bias=False)\n",
              "      (bn2): BatchNorm2d(128, eps=1e-05, momentum=0.1, affine=True, track_running_stats=True)\n",
              "    )\n",
              "  )\n",
              "  (layer3): Sequential(\n",
              "    (0): BasicBlock(\n",
              "      (conv1): Conv2d(128, 256, kernel_size=(3, 3), stride=(2, 2), padding=(1, 1), bias=False)\n",
              "      (bn1): BatchNorm2d(256, eps=1e-05, momentum=0.1, affine=True, track_running_stats=True)\n",
              "      (relu): ReLU(inplace=True)\n",
              "      (conv2): Conv2d(256, 256, kernel_size=(3, 3), stride=(1, 1), padding=(1, 1), bias=False)\n",
              "      (bn2): BatchNorm2d(256, eps=1e-05, momentum=0.1, affine=True, track_running_stats=True)\n",
              "      (downsample): Sequential(\n",
              "        (0): Conv2d(128, 256, kernel_size=(1, 1), stride=(2, 2), bias=False)\n",
              "        (1): BatchNorm2d(256, eps=1e-05, momentum=0.1, affine=True, track_running_stats=True)\n",
              "      )\n",
              "    )\n",
              "    (1): BasicBlock(\n",
              "      (conv1): Conv2d(256, 256, kernel_size=(3, 3), stride=(1, 1), padding=(1, 1), bias=False)\n",
              "      (bn1): BatchNorm2d(256, eps=1e-05, momentum=0.1, affine=True, track_running_stats=True)\n",
              "      (relu): ReLU(inplace=True)\n",
              "      (conv2): Conv2d(256, 256, kernel_size=(3, 3), stride=(1, 1), padding=(1, 1), bias=False)\n",
              "      (bn2): BatchNorm2d(256, eps=1e-05, momentum=0.1, affine=True, track_running_stats=True)\n",
              "    )\n",
              "  )\n",
              "  (layer4): Sequential(\n",
              "    (0): BasicBlock(\n",
              "      (conv1): Conv2d(256, 512, kernel_size=(3, 3), stride=(2, 2), padding=(1, 1), bias=False)\n",
              "      (bn1): BatchNorm2d(512, eps=1e-05, momentum=0.1, affine=True, track_running_stats=True)\n",
              "      (relu): ReLU(inplace=True)\n",
              "      (conv2): Conv2d(512, 512, kernel_size=(3, 3), stride=(1, 1), padding=(1, 1), bias=False)\n",
              "      (bn2): BatchNorm2d(512, eps=1e-05, momentum=0.1, affine=True, track_running_stats=True)\n",
              "      (downsample): Sequential(\n",
              "        (0): Conv2d(256, 512, kernel_size=(1, 1), stride=(2, 2), bias=False)\n",
              "        (1): BatchNorm2d(512, eps=1e-05, momentum=0.1, affine=True, track_running_stats=True)\n",
              "      )\n",
              "    )\n",
              "    (1): BasicBlock(\n",
              "      (conv1): Conv2d(512, 512, kernel_size=(3, 3), stride=(1, 1), padding=(1, 1), bias=False)\n",
              "      (bn1): BatchNorm2d(512, eps=1e-05, momentum=0.1, affine=True, track_running_stats=True)\n",
              "      (relu): ReLU(inplace=True)\n",
              "      (conv2): Conv2d(512, 512, kernel_size=(3, 3), stride=(1, 1), padding=(1, 1), bias=False)\n",
              "      (bn2): BatchNorm2d(512, eps=1e-05, momentum=0.1, affine=True, track_running_stats=True)\n",
              "    )\n",
              "  )\n",
              "  (avgpool): AdaptiveAvgPool2d(output_size=(1, 1))\n",
              "  (fc): Linear(in_features=512, out_features=2, bias=True)\n",
              ")"
            ]
          },
          "metadata": {
            "tags": []
          },
          "execution_count": 16
        }
      ]
    },
    {
      "cell_type": "code",
      "metadata": {
        "id": "61IVJvrmr7th",
        "colab_type": "code",
        "colab": {
          "base_uri": "https://localhost:8080/",
          "height": 1000
        },
        "outputId": "77a0a430-2aee-46df-9691-1f20a40c49d0"
      },
      "source": [
        "summary(model.cuda(), [(3,224,224,)])"
      ],
      "execution_count": 17,
      "outputs": [
        {
          "output_type": "stream",
          "text": [
            "----------------------------------------------------------------\n",
            "        Layer (type)               Output Shape         Param #\n",
            "================================================================\n",
            "            Conv2d-1         [-1, 64, 112, 112]           9,408\n",
            "       BatchNorm2d-2         [-1, 64, 112, 112]             128\n",
            "              ReLU-3         [-1, 64, 112, 112]               0\n",
            "         MaxPool2d-4           [-1, 64, 56, 56]               0\n",
            "            Conv2d-5           [-1, 64, 56, 56]          36,864\n",
            "       BatchNorm2d-6           [-1, 64, 56, 56]             128\n",
            "              ReLU-7           [-1, 64, 56, 56]               0\n",
            "            Conv2d-8           [-1, 64, 56, 56]          36,864\n",
            "       BatchNorm2d-9           [-1, 64, 56, 56]             128\n",
            "             ReLU-10           [-1, 64, 56, 56]               0\n",
            "       BasicBlock-11           [-1, 64, 56, 56]               0\n",
            "           Conv2d-12           [-1, 64, 56, 56]          36,864\n",
            "      BatchNorm2d-13           [-1, 64, 56, 56]             128\n",
            "             ReLU-14           [-1, 64, 56, 56]               0\n",
            "           Conv2d-15           [-1, 64, 56, 56]          36,864\n",
            "      BatchNorm2d-16           [-1, 64, 56, 56]             128\n",
            "             ReLU-17           [-1, 64, 56, 56]               0\n",
            "       BasicBlock-18           [-1, 64, 56, 56]               0\n",
            "           Conv2d-19          [-1, 128, 28, 28]          73,728\n",
            "      BatchNorm2d-20          [-1, 128, 28, 28]             256\n",
            "             ReLU-21          [-1, 128, 28, 28]               0\n",
            "           Conv2d-22          [-1, 128, 28, 28]         147,456\n",
            "      BatchNorm2d-23          [-1, 128, 28, 28]             256\n",
            "           Conv2d-24          [-1, 128, 28, 28]           8,192\n",
            "      BatchNorm2d-25          [-1, 128, 28, 28]             256\n",
            "             ReLU-26          [-1, 128, 28, 28]               0\n",
            "       BasicBlock-27          [-1, 128, 28, 28]               0\n",
            "           Conv2d-28          [-1, 128, 28, 28]         147,456\n",
            "      BatchNorm2d-29          [-1, 128, 28, 28]             256\n",
            "             ReLU-30          [-1, 128, 28, 28]               0\n",
            "           Conv2d-31          [-1, 128, 28, 28]         147,456\n",
            "      BatchNorm2d-32          [-1, 128, 28, 28]             256\n",
            "             ReLU-33          [-1, 128, 28, 28]               0\n",
            "       BasicBlock-34          [-1, 128, 28, 28]               0\n",
            "           Conv2d-35          [-1, 256, 14, 14]         294,912\n",
            "      BatchNorm2d-36          [-1, 256, 14, 14]             512\n",
            "             ReLU-37          [-1, 256, 14, 14]               0\n",
            "           Conv2d-38          [-1, 256, 14, 14]         589,824\n",
            "      BatchNorm2d-39          [-1, 256, 14, 14]             512\n",
            "           Conv2d-40          [-1, 256, 14, 14]          32,768\n",
            "      BatchNorm2d-41          [-1, 256, 14, 14]             512\n",
            "             ReLU-42          [-1, 256, 14, 14]               0\n",
            "       BasicBlock-43          [-1, 256, 14, 14]               0\n",
            "           Conv2d-44          [-1, 256, 14, 14]         589,824\n",
            "      BatchNorm2d-45          [-1, 256, 14, 14]             512\n",
            "             ReLU-46          [-1, 256, 14, 14]               0\n",
            "           Conv2d-47          [-1, 256, 14, 14]         589,824\n",
            "      BatchNorm2d-48          [-1, 256, 14, 14]             512\n",
            "             ReLU-49          [-1, 256, 14, 14]               0\n",
            "       BasicBlock-50          [-1, 256, 14, 14]               0\n",
            "           Conv2d-51            [-1, 512, 7, 7]       1,179,648\n",
            "      BatchNorm2d-52            [-1, 512, 7, 7]           1,024\n",
            "             ReLU-53            [-1, 512, 7, 7]               0\n",
            "           Conv2d-54            [-1, 512, 7, 7]       2,359,296\n",
            "      BatchNorm2d-55            [-1, 512, 7, 7]           1,024\n",
            "           Conv2d-56            [-1, 512, 7, 7]         131,072\n",
            "      BatchNorm2d-57            [-1, 512, 7, 7]           1,024\n",
            "             ReLU-58            [-1, 512, 7, 7]               0\n",
            "       BasicBlock-59            [-1, 512, 7, 7]               0\n",
            "           Conv2d-60            [-1, 512, 7, 7]       2,359,296\n",
            "      BatchNorm2d-61            [-1, 512, 7, 7]           1,024\n",
            "             ReLU-62            [-1, 512, 7, 7]               0\n",
            "           Conv2d-63            [-1, 512, 7, 7]       2,359,296\n",
            "      BatchNorm2d-64            [-1, 512, 7, 7]           1,024\n",
            "             ReLU-65            [-1, 512, 7, 7]               0\n",
            "       BasicBlock-66            [-1, 512, 7, 7]               0\n",
            "AdaptiveAvgPool2d-67            [-1, 512, 1, 1]               0\n",
            "           Linear-68                    [-1, 2]           1,026\n",
            "================================================================\n",
            "Total params: 11,177,538\n",
            "Trainable params: 11,177,538\n",
            "Non-trainable params: 0\n",
            "----------------------------------------------------------------\n",
            "Input size (MB): 0.57\n",
            "Forward/backward pass size (MB): 62.79\n",
            "Params size (MB): 42.64\n",
            "Estimated Total Size (MB): 106.00\n",
            "----------------------------------------------------------------\n"
          ],
          "name": "stdout"
        }
      ]
    },
    {
      "cell_type": "code",
      "metadata": {
        "id": "VhXhlzFK2Dl1",
        "colab_type": "code",
        "colab": {}
      },
      "source": [
        ""
      ],
      "execution_count": null,
      "outputs": []
    },
    {
      "cell_type": "code",
      "metadata": {
        "id": "V5U-QpQHr7wE",
        "colab_type": "code",
        "colab": {}
      },
      "source": [
        ""
      ],
      "execution_count": null,
      "outputs": []
    },
    {
      "cell_type": "code",
      "metadata": {
        "id": "VAoD68pMf5oy",
        "colab_type": "code",
        "colab": {}
      },
      "source": [
        "def run_epoch(model, dataloader, criterion, optimizer, lr_scheduler, phase='train'):\n",
        "    epoch_loss = 0.\n",
        "    epoch_acc = 0.\n",
        "    \n",
        "    batch_num = 0.\n",
        "    samples_num = 0.\n",
        "    \n",
        "    true_labels = []\n",
        "    pred_labels = []\n",
        "    \n",
        "    for batch_idx, (data, labels) in enumerate(dataloader):\n",
        "        data, labels = data.to(device), labels.to(device)\n",
        "        optimizer.zero_grad()\n",
        "        if phase == 'train':\n",
        "            model.train()\n",
        "        else:\n",
        "            model.eval()\n",
        "        with torch.set_grad_enabled(phase == 'train'):\n",
        "            outputs = model(data)\n",
        "            _, preds = torch.max(outputs, 1)\n",
        "            loss = criterion(outputs, labels)\n",
        "        \n",
        "        true_labels.append(labels.detach().cpu())\n",
        "        pred_labels.append(preds.detach().cpu())\n",
        "        \n",
        "        if phase == 'train':\n",
        "            loss.backward()\n",
        "            optimizer.step()\n",
        "        \n",
        "        print(f'\\r{phase} batch [{batch_idx}/{len(dataloader)}]: loss {loss.item()}', end='', flush=True)\n",
        "        epoch_loss += loss.detach().cpu().item()\n",
        "        epoch_acc += torch.sum(preds == labels.data)\n",
        "        batch_num += 1\n",
        "        samples_num += len(labels)\n",
        "    \n",
        "    print()\n",
        "    return epoch_loss / batch_num, epoch_acc / samples_num, torch.cat(true_labels).numpy(), torch.cat(pred_labels).numpy()"
      ],
      "execution_count": 18,
      "outputs": []
    },
    {
      "cell_type": "code",
      "metadata": {
        "id": "68w_Ljsff9wO",
        "colab_type": "code",
        "colab": {}
      },
      "source": [
        ""
      ],
      "execution_count": null,
      "outputs": []
    },
    {
      "cell_type": "code",
      "metadata": {
        "id": "x7qXbQPUgRnw",
        "colab_type": "code",
        "colab": {}
      },
      "source": [
        ""
      ],
      "execution_count": null,
      "outputs": []
    },
    {
      "cell_type": "code",
      "metadata": {
        "id": "MCUrp4S-gRqP",
        "colab_type": "code",
        "colab": {}
      },
      "source": [
        "criterion = torch.nn.CrossEntropyLoss()\n",
        "optimizer = torch.optim.SGD(model.parameters(), lr=1e-2, weight_decay=0.001)\n",
        "lr_scheduler = torch.optim.lr_scheduler.ReduceLROnPlateau(optimizer, patience=3, verbose=True)"
      ],
      "execution_count": 19,
      "outputs": []
    },
    {
      "cell_type": "code",
      "metadata": {
        "id": "iAn4FWp3nOVR",
        "colab_type": "code",
        "colab": {
          "base_uri": "https://localhost:8080/",
          "height": 1000
        },
        "outputId": "9be8db86-7fb7-4d64-b2f7-a14f1f235a04"
      },
      "source": [
        "train_losses = []\n",
        "val_losses = []\n",
        "test_losses = []\n",
        "output_folder = '/content/drive/My Drive/Dataset/c/'\n",
        "for epoch in range(50):\n",
        "    print('='*15, f'Epoch: {epoch}')\n",
        "    \n",
        "    train_loss, train_acc, _, _ = run_epoch(model, train_dataloader, criterion, optimizer, lr_scheduler)\n",
        "    val_loss, val_acc, _, _ = run_epoch(model, val_dataloader, criterion, optimizer, lr_scheduler, phase='val')\n",
        "    test_loss, test_acc, true_labels, pred_labels = run_epoch(model, test_dataloader, criterion, optimizer, lr_scheduler, phase='test')\n",
        "    \n",
        "    print(f'Train loss: {train_loss}, Train accuracy: {train_acc}')\n",
        "    print(f'Val loss: {val_loss}, Val accuracy: {val_acc}')\n",
        "    print(f'Test loss: {test_loss}, Test accuracy: {test_acc}')\n",
        "    print()\n",
        "    \n",
        "    train_losses.append(train_loss)\n",
        "    val_losses.append(val_loss)\n",
        "    test_losses.append(test_loss)\n",
        "    \n",
        "    np.save(output_folder+'/train_losses',train_losses)\n",
        "    np.save(output_folder+'/val_losses',val_losses)\n",
        "    np.save(output_folder+'/test_losses',test_losses)\n",
        "    \n",
        "    torch.save({'epoch': epoch, 'model': model.state_dict()}, f'resnet34-chest-x-ray-{seed}.pt')\n",
        "    \n",
        "    if best_model is None or val_loss < best_loss:\n",
        "        best_model = copy.deepcopy(model)\n",
        "        best_loss = val_loss\n",
        "        best_test_loss = test_loss\n",
        "        best_test_acc = test_acc \n",
        "        best_pred_labels = pred_labels\n",
        "        torch.save({'epoch': epoch, 'model': model.state_dict()}, f'resnet34-chest-x-ray_ldp-best-{seed}.pt')"
      ],
      "execution_count": 20,
      "outputs": [
        {
          "output_type": "stream",
          "text": [
            "=============== Epoch: 0\n",
            "train batch [40/41]: loss 0.5970540642738342\n",
            "val batch [3/4]: loss 0.11477425694465637\n",
            "test batch [4/5]: loss 0.11644718796014786\n",
            "Train loss: 0.579484199605337, Train accuracy: 0.7436733245849609\n",
            "Val loss: 0.81418576836586, Val accuracy: 0.625\n",
            "Test loss: 0.5391265049576759, Test accuracy: 0.7035256624221802\n",
            "\n",
            "=============== Epoch: 1\n",
            "train batch [40/41]: loss 0.6487867832183838\n",
            "val batch [3/4]: loss 0.17991673946380615\n",
            "test batch [4/5]: loss 0.12605494260787964\n",
            "Train loss: 0.5530891040476357, Train accuracy: 0.7572852373123169\n",
            "Val loss: 0.6439126282930374, Val accuracy: 0.6875\n",
            "Test loss: 0.4291241645812988, Test accuracy: 0.7916666865348816\n",
            "\n",
            "=============== Epoch: 2\n",
            "train batch [40/41]: loss 0.5307500958442688\n",
            "val batch [3/4]: loss 0.05912920832633972\n",
            "test batch [4/5]: loss 0.21048356592655182\n",
            "Train loss: 0.5362042115955818, Train accuracy: 0.766487717628479\n",
            "Val loss: 0.2941399961709976, Val accuracy: 0.75\n",
            "Test loss: 0.3359414517879486, Test accuracy: 0.8637820482254028\n",
            "\n",
            "=============== Epoch: 3\n",
            "train batch [40/41]: loss 0.6113240122795105\n",
            "val batch [3/4]: loss 0.18269455432891846\n",
            "test batch [4/5]: loss 0.2476796656847\n",
            "Train loss: 0.5304389021745542, Train accuracy: 0.7697468996047974\n",
            "Val loss: 0.33874639868736267, Val accuracy: 0.875\n",
            "Test loss: 0.33540481328964233, Test accuracy: 0.8621795177459717\n",
            "\n",
            "=============== Epoch: 4\n",
            "train batch [40/41]: loss 0.6362408995628357\n",
            "val batch [3/4]: loss 0.030596494674682617\n",
            "test batch [4/5]: loss 0.1002865880727768\n",
            "Train loss: 0.5358412694640275, Train accuracy: 0.7634202241897583\n",
            "Val loss: 0.4920699894428253, Val accuracy: 0.75\n",
            "Test loss: 0.4367710456252098, Test accuracy: 0.8157051205635071\n",
            "\n",
            "=============== Epoch: 5\n",
            "train batch [40/41]: loss 0.5340240597724915\n",
            "val batch [3/4]: loss 0.0044092535972595215\n",
            "test batch [4/5]: loss 0.01925225369632244\n",
            "Train loss: 0.5209207592940912, Train accuracy: 0.7733895778656006\n",
            "Val loss: 1.1023999899625778, Val accuracy: 0.625\n",
            "Test loss: 0.695565540716052, Test accuracy: 0.7339743971824646\n",
            "\n",
            "=============== Epoch: 6\n",
            "train batch [40/41]: loss 0.6260673403739929\n",
            "val batch [3/4]: loss 0.0037346482276916504\n",
            "test batch [4/5]: loss 0.0497189499437809\n",
            "Train loss: 0.5119821000389937, Train accuracy: 0.7753067016601562\n",
            "Val loss: 0.6712063997983932, Val accuracy: 0.6875\n",
            "Test loss: 0.46316504999995234, Test accuracy: 0.8301281929016113\n",
            "\n",
            "=============== Epoch: 7\n",
            "train batch [40/41]: loss 0.5519371628761292\n",
            "val batch [3/4]: loss 0.24693563580513\n",
            "test batch [4/5]: loss 0.14785130321979523\n",
            "Train loss: 0.5116875811320979, Train accuracy: 0.7764570116996765\n",
            "Val loss: 0.2625034712255001, Val accuracy: 0.875\n",
            "Test loss: 0.3014378696680069, Test accuracy: 0.8910256624221802\n",
            "\n",
            "=============== Epoch: 8\n",
            "train batch [40/41]: loss 0.4765051603317261\n",
            "val batch [3/4]: loss 0.01553913950920105\n",
            "test batch [4/5]: loss 0.033132154494524\n",
            "Train loss: 0.5059427946079068, Train accuracy: 0.7772238850593567\n",
            "Val loss: 0.6134784929454327, Val accuracy: 0.625\n",
            "Test loss: 0.4159545756876469, Test accuracy: 0.8493589758872986\n",
            "\n",
            "=============== Epoch: 9\n",
            "train batch [40/41]: loss 0.5869458913803101\n",
            "val batch [3/4]: loss 0.1043258011341095\n",
            "test batch [4/5]: loss 0.08072742074728012\n",
            "Train loss: 0.5117210033463269, Train accuracy: 0.7735812664031982\n",
            "Val loss: 0.25789232552051544, Val accuracy: 0.875\n",
            "Test loss: 0.33035885393619535, Test accuracy: 0.8653846383094788\n",
            "\n",
            "=============== Epoch: 10\n",
            "train batch [40/41]: loss 0.4639368951320648\n",
            "val batch [3/4]: loss 0.11440297216176987\n",
            "test batch [4/5]: loss 0.1894054412841797\n",
            "Train loss: 0.5032393132768026, Train accuracy: 0.7779907584190369\n",
            "Val loss: 0.32831367291510105, Val accuracy: 0.8125\n",
            "Test loss: 0.2816073387861252, Test accuracy: 0.8894230723381042\n",
            "\n",
            "=============== Epoch: 11\n",
            "train batch [40/41]: loss 0.5710691213607788\n",
            "val batch [3/4]: loss 0.00097733736038208\n",
            "test batch [4/5]: loss 0.005482970736920834\n",
            "Train loss: 0.5039894450001601, Train accuracy: 0.7785659432411194\n",
            "Val loss: 1.2873842418193817, Val accuracy: 0.625\n",
            "Test loss: 0.705941828712821, Test accuracy: 0.7852564454078674\n",
            "\n",
            "=============== Epoch: 12\n",
            "train batch [40/41]: loss 0.5844900012016296\n",
            "val batch [3/4]: loss 0.0008769631385803223\n",
            "test batch [4/5]: loss 0.010491431690752506\n",
            "Train loss: 0.49914720945241975, Train accuracy: 0.778374195098877\n",
            "Val loss: 0.9895958453416824, Val accuracy: 0.625\n",
            "Test loss: 0.6428689632564784, Test accuracy: 0.7948718070983887\n",
            "\n",
            "=============== Epoch: 13\n",
            "train batch [40/41]: loss 0.6096768975257874\n",
            "val batch [3/4]: loss 0.0009932518005371094\n",
            "test batch [4/5]: loss 0.012028864584863186\n",
            "Train loss: 0.4993495381459957, Train accuracy: 0.7802913784980774\n",
            "Val loss: 1.0428067594766617, Val accuracy: 0.625\n",
            "Test loss: 0.5850061288103461, Test accuracy: 0.8092948794364929\n",
            "\n",
            "=============== Epoch: 14\n",
            "train batch [40/41]: loss 0.519632875919342\n",
            "val batch [3/4]: loss 0.0008144974708557129\n",
            "test batch [4/5]: loss 0.015385819599032402\n",
            "Train loss: 0.49989590557610114, Train accuracy: 0.776648759841919\n",
            "Val loss: 0.8195278644561768, Val accuracy: 0.6875\n",
            "Test loss: 0.5416454244405031, Test accuracy: 0.8189102411270142\n",
            "\n",
            "=============== Epoch: 15\n",
            "train batch [40/41]: loss 0.5528092980384827\n",
            "val batch [3/4]: loss 0.0007804036140441895\n",
            "test batch [4/5]: loss 0.005049519240856171\n",
            "Train loss: 0.4903515461014538, Train accuracy: 0.7816334366798401\n",
            "Val loss: 1.1402147263288498, Val accuracy: 0.625\n",
            "Test loss: 0.7562623982317745, Test accuracy: 0.7884615659713745\n",
            "\n",
            "=============== Epoch: 16\n",
            "train batch [40/41]: loss 0.5409353971481323\n",
            "val batch [3/4]: loss 0.018485277891159058\n",
            "test batch [4/5]: loss 0.07579024881124496\n",
            "Train loss: 0.49251249577940964, Train accuracy: 0.7827837467193604\n",
            "Val loss: 0.19067397713661194, Val accuracy: 0.875\n",
            "Test loss: 0.31623377501964567, Test accuracy: 0.8942307829856873\n",
            "\n",
            "=============== Epoch: 17\n",
            "train batch [40/41]: loss 0.493814080953598\n",
            "val batch [3/4]: loss 0.010420471429824829\n",
            "test batch [4/5]: loss 0.03662707284092903\n",
            "Train loss: 0.49287621567888956, Train accuracy: 0.7833588719367981\n",
            "Val loss: 0.4005948640406132, Val accuracy: 0.75\n",
            "Test loss: 0.4043419882655144, Test accuracy: 0.8637820482254028\n",
            "\n",
            "=============== Epoch: 18\n",
            "train batch [40/41]: loss 0.5610917806625366\n",
            "val batch [3/4]: loss 0.004989564418792725\n",
            "test batch [4/5]: loss 0.024278609082102776\n",
            "Train loss: 0.4951187524853683, Train accuracy: 0.7814416885375977\n",
            "Val loss: 0.604970708489418, Val accuracy: 0.75\n",
            "Test loss: 0.4552967414259911, Test accuracy: 0.8445512652397156\n",
            "\n",
            "=============== Epoch: 19\n",
            "train batch [40/41]: loss 0.4488127529621124\n",
            "val batch [3/4]: loss 0.25065547227859497\n",
            "test batch [4/5]: loss 0.3451564908027649\n",
            "Train loss: 0.4929148336736167, Train accuracy: 0.7810582518577576\n",
            "Val loss: 0.13578981906175613, Val accuracy: 0.9375\n",
            "Test loss: 0.3018221855163574, Test accuracy: 0.8878205418586731\n",
            "\n",
            "=============== Epoch: 20\n",
            "train batch [40/41]: loss 0.43009933829307556\n",
            "val batch [3/4]: loss 0.00021249055862426758\n",
            "test batch [4/5]: loss 0.003612161846831441\n",
            "Train loss: 0.48901347997711925, Train accuracy: 0.7841257452964783\n",
            "Val loss: 1.3070328086614609, Val accuracy: 0.625\n",
            "Test loss: 0.7821424836758524, Test accuracy: 0.7804487347602844\n",
            "\n",
            "=============== Epoch: 21\n",
            "train batch [40/41]: loss 0.529968798160553\n",
            "val batch [3/4]: loss 0.0017805695533752441\n",
            "test batch [4/5]: loss 0.014840846881270409\n",
            "Train loss: 0.4902533285501527, Train accuracy: 0.7825919985771179\n",
            "Val loss: 0.8220961391925812, Val accuracy: 0.625\n",
            "Test loss: 0.6185631040483713, Test accuracy: 0.8060897588729858\n",
            "\n",
            "=============== Epoch: 22\n",
            "train batch [40/41]: loss 0.46577152609825134\n",
            "val batch [3/4]: loss 0.0016412138938903809\n",
            "test batch [4/5]: loss 0.033301327377557755\n",
            "Train loss: 0.48806850866573614, Train accuracy: 0.7848926186561584\n",
            "Val loss: 0.4637830853462219, Val accuracy: 0.8125\n",
            "Test loss: 0.4902090884745121, Test accuracy: 0.8477564454078674\n",
            "\n",
            "=============== Epoch: 23\n",
            "train batch [40/41]: loss 0.4260920584201813\n",
            "val batch [3/4]: loss 0.0005694031715393066\n",
            "test batch [4/5]: loss 0.037750374525785446\n",
            "Train loss: 0.48673931563772804, Train accuracy: 0.7856594920158386\n",
            "Val loss: 0.5367594435811043, Val accuracy: 0.75\n",
            "Test loss: 0.5467569723725318, Test accuracy: 0.8445512652397156\n",
            "\n",
            "=============== Epoch: 24\n",
            "train batch [40/41]: loss 0.5411764979362488\n",
            "val batch [3/4]: loss 0.00034356117248535156\n",
            "test batch [4/5]: loss 0.009802719578146935\n",
            "Train loss: 0.48516355854708976, Train accuracy: 0.7845091819763184\n",
            "Val loss: 0.6649447232484818, Val accuracy: 0.6875\n",
            "Test loss: 0.6637507660314441, Test accuracy: 0.8125\n",
            "\n",
            "=============== Epoch: 25\n",
            "train batch [40/41]: loss 0.5301651358604431\n",
            "val batch [3/4]: loss 0.0002570152282714844\n",
            "test batch [4/5]: loss 0.008361083455383778\n",
            "Train loss: 0.4845636428856268, Train accuracy: 0.7864263653755188\n",
            "Val loss: 0.9702591747045517, Val accuracy: 0.625\n",
            "Test loss: 0.689480011165142, Test accuracy: 0.8125\n",
            "\n",
            "=============== Epoch: 26\n",
            "train batch [40/41]: loss 0.43618592619895935\n",
            "val batch [3/4]: loss 0.004883766174316406\n",
            "test batch [4/5]: loss 0.06937482208013535\n",
            "Train loss: 0.4843655599326622, Train accuracy: 0.7847009301185608\n",
            "Val loss: 0.4136347584426403, Val accuracy: 0.8125\n",
            "Test loss: 0.4136009387671947, Test accuracy: 0.875\n",
            "\n",
            "=============== Epoch: 27\n",
            "train batch [40/41]: loss 0.4810854494571686\n",
            "val batch [3/4]: loss 0.5187864899635315\n",
            "test batch [4/5]: loss 0.08163446187973022\n",
            "Train loss: 0.4822217669428849, Train accuracy: 0.7852760553359985\n",
            "Val loss: 0.2597426809370518, Val accuracy: 0.875\n",
            "Test loss: 0.3172735393047333, Test accuracy: 0.8990384936332703\n",
            "\n",
            "=============== Epoch: 28\n",
            "train batch [40/41]: loss 0.4783240854740143\n",
            "val batch [3/4]: loss 0.008562952280044556\n",
            "test batch [4/5]: loss 0.020678240805864334\n",
            "Train loss: 0.48128427746819286, Train accuracy: 0.7868098020553589\n",
            "Val loss: 0.8245497420430183, Val accuracy: 0.6875\n",
            "Test loss: 0.5177377190440893, Test accuracy: 0.8717948794364929\n",
            "\n",
            "=============== Epoch: 29\n",
            "train batch [40/41]: loss 0.4413631856441498\n",
            "val batch [3/4]: loss 0.0005602836608886719\n",
            "test batch [4/5]: loss 0.015503083355724812\n",
            "Train loss: 0.4808089209765923, Train accuracy: 0.7860429286956787\n",
            "Val loss: 1.0433400869369507, Val accuracy: 0.6875\n",
            "Test loss: 0.6770798014476895, Test accuracy: 0.8349359035491943\n",
            "\n",
            "=============== Epoch: 30\n",
            "train batch [40/41]: loss 0.5190579295158386\n",
            "val batch [3/4]: loss 0.0014720559120178223\n",
            "test batch [4/5]: loss 0.02492455020546913\n",
            "Train loss: 0.4829828506562768, Train accuracy: 0.7862346172332764\n",
            "Val loss: 0.6141333356499672, Val accuracy: 0.625\n",
            "Test loss: 0.6763082496821881, Test accuracy: 0.817307710647583\n",
            "\n",
            "=============== Epoch: 31\n",
            "train batch [40/41]: loss 0.4375385344028473\n",
            "val batch [3/4]: loss 0.0024740099906921387\n",
            "test batch [4/5]: loss 0.03201610967516899\n",
            "Train loss: 0.47966055099557087, Train accuracy: 0.7868098020553589\n",
            "Val loss: 0.683806300163269, Val accuracy: 0.75\n",
            "Test loss: 0.5468187185004354, Test accuracy: 0.8541666865348816\n",
            "\n",
            "=============== Epoch: 32\n",
            "train batch [40/41]: loss 0.42076539993286133\n",
            "val batch [3/4]: loss 0.0003876686096191406\n",
            "test batch [4/5]: loss 0.023596620187163353\n",
            "Train loss: 0.47811028215943313, Train accuracy: 0.7881518006324768\n",
            "Val loss: 0.6015444919466972, Val accuracy: 0.75\n",
            "Test loss: 0.5768191903829575, Test accuracy: 0.8461538553237915\n",
            "\n",
            "=============== Epoch: 33\n",
            "train batch [40/41]: loss 0.5287382006645203\n",
            "val batch [3/4]: loss 0.003932774066925049\n",
            "test batch [4/5]: loss 0.08732744306325912\n",
            "Train loss: 0.475642451425878, Train accuracy: 0.7883435487747192\n",
            "Val loss: 0.41073308885097504, Val accuracy: 0.8125\n",
            "Test loss: 0.41137715727090834, Test accuracy: 0.8926281929016113\n",
            "\n",
            "=============== Epoch: 34\n",
            "train batch [40/41]: loss 0.4604616165161133\n",
            "val batch [3/4]: loss 0.0009173750877380371\n",
            "test batch [4/5]: loss 0.017132321372628212\n",
            "Train loss: 0.4771962616501785, Train accuracy: 0.7885352373123169\n",
            "Val loss: 0.888417661190033, Val accuracy: 0.6875\n",
            "Test loss: 0.5972322329878808, Test accuracy: 0.8477564454078674\n",
            "\n",
            "=============== Epoch: 35\n",
            "train batch [40/41]: loss 0.5056554675102234\n",
            "val batch [3/4]: loss 5.352497100830078e-05\n",
            "test batch [4/5]: loss 0.00870546419173479\n",
            "Train loss: 0.47706161112320133, Train accuracy: 0.7875766754150391\n",
            "Val loss: 0.7997519820928574, Val accuracy: 0.6875\n",
            "Test loss: 0.661382787115872, Test accuracy: 0.8429487347602844\n",
            "\n",
            "=============== Epoch: 36\n",
            "train batch [40/41]: loss 0.4307975769042969\n",
            "val batch [3/4]: loss 0.0023496150970458984\n",
            "test batch [4/5]: loss 0.005688305478543043\n",
            "Train loss: 0.47686237387540864, Train accuracy: 0.7881518006324768\n",
            "Val loss: 1.5676437616348267, Val accuracy: 0.5625\n",
            "Test loss: 0.8920687931589782, Test accuracy: 0.7916666865348816\n",
            "\n",
            "=============== Epoch: 37\n",
            "train batch [40/41]: loss 0.5007033348083496\n",
            "val batch [3/4]: loss 0.013465940952301025\n",
            "test batch [4/5]: loss 0.032674640417099\n",
            "Train loss: 0.4733537050282083, Train accuracy: 0.7883435487747192\n",
            "Val loss: 0.7230574786663055, Val accuracy: 0.75\n",
            "Test loss: 0.6449419789016246, Test accuracy: 0.8445512652397156\n",
            "\n",
            "=============== Epoch: 38\n",
            "train batch [40/41]: loss 0.43294939398765564\n",
            "val batch [3/4]: loss 0.008333206176757812\n",
            "test batch [4/5]: loss 0.04236167296767235\n",
            "Train loss: 0.4749852004574566, Train accuracy: 0.7879601120948792\n",
            "Val loss: 0.2080213651061058, Val accuracy: 0.875\n",
            "Test loss: 0.4579341419041157, Test accuracy: 0.8814102411270142\n",
            "\n",
            "=============== Epoch: 39\n",
            "train batch [40/41]: loss 0.5982181429862976\n",
            "val batch [3/4]: loss 2.4557113647460938e-05\n",
            "test batch [4/5]: loss 0.00035781305632553995\n",
            "Train loss: 0.4793822765350342, Train accuracy: 0.7866180539131165\n",
            "Val loss: 2.2601629495620728, Val accuracy: 0.5\n",
            "Test loss: 1.2820508915639948, Test accuracy: 0.7644230723381042\n",
            "\n",
            "=============== Epoch: 40\n",
            "train batch [40/41]: loss 0.5280242562294006\n",
            "val batch [3/4]: loss 0.002176225185394287\n",
            "test batch [4/5]: loss 0.03018983267247677\n",
            "Train loss: 0.47776758452741114, Train accuracy: 0.7875766754150391\n",
            "Val loss: 0.4654061794281006, Val accuracy: 0.8125\n",
            "Test loss: 0.5436056584119797, Test accuracy: 0.8669871687889099\n",
            "\n",
            "=============== Epoch: 41\n",
            "train batch [40/41]: loss 0.42532631754875183\n",
            "val batch [3/4]: loss 0.012343913316726685\n",
            "test batch [4/5]: loss 0.020878614857792854\n",
            "Train loss: 0.4754376062532751, Train accuracy: 0.7873849272727966\n",
            "Val loss: 0.3957625776529312, Val accuracy: 0.8125\n",
            "Test loss: 0.5897989984601736, Test accuracy: 0.8557692170143127\n",
            "\n",
            "=============== Epoch: 42\n",
            "train batch [40/41]: loss 0.4767668545246124\n",
            "val batch [3/4]: loss 0.0017727017402648926\n",
            "test batch [4/5]: loss 0.015094897709786892\n",
            "Train loss: 0.47879110603797725, Train accuracy: 0.787193238735199\n",
            "Val loss: 0.7694373726844788, Val accuracy: 0.75\n",
            "Test loss: 0.6707801846787333, Test accuracy: 0.8493589758872986\n",
            "\n",
            "=============== Epoch: 43\n",
            "train batch [40/41]: loss 0.5378558039665222\n",
            "val batch [3/4]: loss 0.005593359470367432\n",
            "test batch [4/5]: loss 0.012463480234146118\n",
            "Train loss: 0.47456521522708056, Train accuracy: 0.7887269854545593\n",
            "Val loss: 1.0321785658597946, Val accuracy: 0.75\n",
            "Test loss: 0.6659219430759549, Test accuracy: 0.8573718070983887\n",
            "\n",
            "=============== Epoch: 44\n",
            "train batch [40/41]: loss 0.47424206137657166\n",
            "val batch [3/4]: loss 0.00560075044631958\n",
            "test batch [4/5]: loss 0.10795539617538452\n",
            "Train loss: 0.4795955942898262, Train accuracy: 0.7860429286956787\n",
            "Val loss: 0.11243302375078201, Val accuracy: 0.9375\n",
            "Test loss: 0.3365498423576355, Test accuracy: 0.9166666865348816\n",
            "\n",
            "=============== Epoch: 45\n",
            "train batch [40/41]: loss 0.4806281328201294\n",
            "val batch [3/4]: loss 1.4543533325195312e-05\n",
            "test batch [4/5]: loss 0.0015558238374069333\n",
            "Train loss: 0.4748153948202366, Train accuracy: 0.7885352373123169\n",
            "Val loss: 1.5361324846744537, Val accuracy: 0.6875\n",
            "Test loss: 0.9356308179209009, Test accuracy: 0.7964743971824646\n",
            "\n",
            "=============== Epoch: 46\n",
            "train batch [40/41]: loss 0.5694222450256348\n",
            "val batch [3/4]: loss 0.019087553024291992\n",
            "test batch [4/5]: loss 0.05263707414269447\n",
            "Train loss: 0.47417308644550604, Train accuracy: 0.7883435487747192\n",
            "Val loss: 0.4972606748342514, Val accuracy: 0.8125\n",
            "Test loss: 0.4982749577611685, Test accuracy: 0.879807710647583\n",
            "\n",
            "=============== Epoch: 47\n",
            "train batch [40/41]: loss 0.45139384269714355\n",
            "val batch [3/4]: loss 0.00015294551849365234\n",
            "test batch [4/5]: loss 0.0031326222233474255\n",
            "Train loss: 0.4756167938069599, Train accuracy: 0.7885352373123169\n",
            "Val loss: 1.5671520084142685, Val accuracy: 0.625\n",
            "Test loss: 0.9315974459983408, Test accuracy: 0.807692289352417\n",
            "\n",
            "=============== Epoch: 48\n",
            "train batch [40/41]: loss 0.49237143993377686\n",
            "val batch [3/4]: loss 0.0004845857620239258\n",
            "test batch [4/5]: loss 0.010173703543841839\n",
            "Train loss: 0.4734960743566839, Train accuracy: 0.7885352373123169\n",
            "Val loss: 0.5364798754453659, Val accuracy: 0.75\n",
            "Test loss: 0.6263186382129788, Test accuracy: 0.8669871687889099\n",
            "\n",
            "=============== Epoch: 49\n",
            "train batch [40/41]: loss 0.44655168056488037\n",
            "val batch [3/4]: loss 0.019317686557769775\n",
            "test batch [4/5]: loss 0.03892116993665695\n",
            "Train loss: 0.47292406166472084, Train accuracy: 0.788918673992157\n",
            "Val loss: 0.38015924021601677, Val accuracy: 0.875\n",
            "Test loss: 0.48147058077156546, Test accuracy: 0.879807710647583\n",
            "\n"
          ],
          "name": "stdout"
        }
      ]
    },
    {
      "cell_type": "code",
      "metadata": {
        "id": "78IkqIEdlNwB",
        "colab_type": "code",
        "colab": {}
      },
      "source": [
        ""
      ],
      "execution_count": null,
      "outputs": []
    },
    {
      "cell_type": "markdown",
      "metadata": {
        "id": "cAy1bb7MKXYb",
        "colab_type": "text"
      },
      "source": [
        "### Training Images with Epsilon = 0.25"
      ]
    },
    {
      "cell_type": "code",
      "metadata": {
        "id": "8tI980yAKXyl",
        "colab_type": "code",
        "colab": {
          "base_uri": "https://localhost:8080/",
          "height": 284
        },
        "outputId": "dfe63684-c8a4-466c-bef8-51499625b29d"
      },
      "source": [
        "import matplotlib.pyplot as plt\n",
        "from PIL import Image\n",
        "\n",
        "fig = plt.figure(figsize=(30, 6))\n",
        "base_dir = './train'\n",
        "# display 8 PNEUMONIA images(train) for Epsilon :0.25\n",
        "train_imgs = os.listdir(base_dir+\"/PNEUMONIA\")\n",
        "for idx, img in enumerate(np.random.choice(train_imgs, 8)):\n",
        "    ax = fig.add_subplot(2, 8//2, idx+1, xticks=[], yticks=[])\n",
        "    im = Image.open(base_dir+\"/PNEUMONIA/\" + img)\n",
        "    plt.imshow(im)\n",
        "    ax.set_title('PNEUMONIA(EPS:0.25)')"
      ],
      "execution_count": 21,
      "outputs": [
        {
          "output_type": "display_data",
          "data": {
            "image/png": "[encoded data removed]",
            "text/plain": [
              "<Figure size 2160x432 with 8 Axes>"
            ]
          },
          "metadata": {
            "tags": []
          }
        }
      ]
    },
    {
      "cell_type": "code",
      "metadata": {
        "id": "4bfhT2yGKYBW",
        "colab_type": "code",
        "colab": {
          "base_uri": "https://localhost:8080/",
          "height": 293
        },
        "outputId": "95a723f6-018b-4fae-f44d-eb442282e729"
      },
      "source": [
        "fig = plt.figure(figsize=(30, 6))\n",
        "base_dir = './train'\n",
        "# display 8 NORMAL images(train) for Epsilon :0.25\n",
        "train_imgs = os.listdir(base_dir+\"/NORMAL\")\n",
        "for idx, img in enumerate(np.random.choice(train_imgs, 8)):\n",
        "    ax = fig.add_subplot(2, 8//2, idx+1, xticks=[], yticks=[])\n",
        "    im = Image.open(base_dir+\"/NORMAL/\" + img)\n",
        "    plt.imshow(im)\n",
        "    ax.set_title('NORMAL(EPS:0.25)')"
      ],
      "execution_count": 22,
      "outputs": [
        {
          "output_type": "display_data",
          "data": {
            "image/png": "[encoded data removed]",
            "text/plain": [
              "<Figure size 2160x432 with 8 Axes>"
            ]
          },
          "metadata": {
            "tags": []
          }
        }
      ]
    },
    {
      "cell_type": "code",
      "metadata": {
        "id": "_yCTa0udip7d",
        "colab_type": "code",
        "colab": {}
      },
      "source": [
        ""
      ],
      "execution_count": null,
      "outputs": []
    }
  ]
}