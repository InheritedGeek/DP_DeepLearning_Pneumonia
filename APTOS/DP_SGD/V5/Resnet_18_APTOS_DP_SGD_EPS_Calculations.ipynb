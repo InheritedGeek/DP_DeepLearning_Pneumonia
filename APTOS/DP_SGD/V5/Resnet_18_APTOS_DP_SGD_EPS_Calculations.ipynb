{
  "nbformat": 4,
  "nbformat_minor": 0,
  "metadata": {
    "kernelspec": {
      "display_name": "Python 3",
      "language": "python",
      "name": "python3"
    },
    "language_info": {
      "codemirror_mode": {
        "name": "ipython",
        "version": 3
      },
      "file_extension": ".py",
      "mimetype": "text/x-python",
      "name": "python",
      "nbconvert_exporter": "python",
      "pygments_lexer": "ipython3",
      "version": "3.8.2"
    },
    "colab": {
      "name": "Resnet_18_APTOS_DP_SGD_EPS_Calculations.ipynb",
      "provenance": [],
      "collapsed_sections": []
    }
  },
  "cells": [
    {
      "cell_type": "markdown",
      "metadata": {
        "id": "Jbm1G-DwtM2O",
        "colab_type": "text"
      },
      "source": [
        "### Number of training & Validation Samples using 80-20 split\n",
        "\n",
        "*   Number of Training Samples : 2929\n",
        "*   Number of Validation Samples : 733\n"
      ]
    },
    {
      "cell_type": "code",
      "metadata": {
        "id": "OW9H778OtRmY",
        "colab_type": "code",
        "colab": {}
      },
      "source": [
        ""
      ],
      "execution_count": null,
      "outputs": []
    },
    {
      "cell_type": "code",
      "metadata": {
        "id": "DmpnwJYeW1dm",
        "colab_type": "code",
        "colab": {
          "base_uri": "https://localhost:8080/",
          "height": 88
        },
        "outputId": "7e15333f-04d7-4488-ac68-02f65dace761"
      },
      "source": [
        "from tensorflow_privacy.privacy.analysis import compute_dp_sgd_privacy\n",
        "\n",
        "#from tensorflow_privacy.privacy.analysis.rdp_accountant import get_privacy_spent\n",
        "\n",
        "\n",
        "rdp = compute_dp_sgd_privacy.compute_dp_sgd_privacy(n=2929, batch_size=128, noise_multiplier=6.60, epochs=50, delta=1e-4)\n",
        "#epsilon = get_privacy_spent(5218, rdp, target_delta=1e-5)[0]\n",
        "rdp"
      ],
      "execution_count": 78,
      "outputs": [
        {
          "output_type": "stream",
          "text": [
            "DP-SGD with sampling rate = 4.37% and noise_multiplier = 6.6 iterated over 1145 steps satisfies differential privacy with eps = 1 and delta = 0.0001.\n",
            "The optimal RDP order is 20.0.\n"
          ],
          "name": "stdout"
        },
        {
          "output_type": "execute_result",
          "data": {
            "text/plain": [
              "(1.0016878390867276, 20.0)"
            ]
          },
          "metadata": {
            "tags": []
          },
          "execution_count": 78
        }
      ]
    },
    {
      "cell_type": "code",
      "metadata": {
        "id": "hBYryv9BZRiD",
        "colab_type": "code",
        "colab": {
          "base_uri": "https://localhost:8080/",
          "height": 88
        },
        "outputId": "77c4dbe7-51ef-479f-e552-dc0f5720a1e6"
      },
      "source": [
        "from tensorflow_privacy.privacy.analysis import compute_dp_sgd_privacy\n",
        "#from tensorflow_privacy.privacy.analysis import get_privacy_spent\n",
        "\n",
        "rdp = compute_dp_sgd_privacy.compute_dp_sgd_privacy(n=2929, batch_size=128, noise_multiplier=12.95, epochs=50, delta=1e-4)\n",
        "# epsilon = get_privacy_spent(1.25, rdp, target_delta=1)[0]\n",
        "rdp"
      ],
      "execution_count": 124,
      "outputs": [
        {
          "output_type": "stream",
          "text": [
            "DP-SGD with sampling rate = 4.37% and noise_multiplier = 12.95 iterated over 1145 steps satisfies differential privacy with eps = 0.5 and delta = 0.0001.\n",
            "The optimal RDP order is 38.0.\n"
          ],
          "name": "stdout"
        },
        {
          "output_type": "execute_result",
          "data": {
            "text/plain": [
              "(0.4996761309299817, 38.0)"
            ]
          },
          "metadata": {
            "tags": []
          },
          "execution_count": 124
        }
      ]
    },
    {
      "cell_type": "code",
      "metadata": {
        "id": "33ZK8haya3LB",
        "colab_type": "code",
        "colab": {
          "base_uri": "https://localhost:8080/",
          "height": 88
        },
        "outputId": "0cec01fb-6141-47fe-ebf2-0165d7d5608c"
      },
      "source": [
        "from tensorflow_privacy.privacy.analysis import compute_dp_sgd_privacy\n",
        "#from tensorflow_privacy.privacy.analysis import get_privacy_spent\n",
        "\n",
        "rdp = compute_dp_sgd_privacy.compute_dp_sgd_privacy(n=2929, batch_size=128, noise_multiplier=26.1, epochs=50, delta=1e-4)\n",
        "# epsilon = get_privacy_spent(1.25, rdp, target_delta=1)[0]\n",
        "rdp"
      ],
      "execution_count": 132,
      "outputs": [
        {
          "output_type": "stream",
          "text": [
            "DP-SGD with sampling rate = 4.37% and noise_multiplier = 26.1 iterated over 1145 steps satisfies differential privacy with eps = 0.25 and delta = 0.0001.\n",
            "The optimal RDP order is 63.0.\n"
          ],
          "name": "stdout"
        },
        {
          "output_type": "execute_result",
          "data": {
            "text/plain": [
              "(0.2501241348374453, 63.0)"
            ]
          },
          "metadata": {
            "tags": []
          },
          "execution_count": 132
        }
      ]
    },
    {
      "cell_type": "code",
      "metadata": {
        "id": "h_uhjJ_NnOVU",
        "colab_type": "code",
        "colab": {}
      },
      "source": [
        ""
      ],
      "execution_count": null,
      "outputs": []
    }
  ]
}